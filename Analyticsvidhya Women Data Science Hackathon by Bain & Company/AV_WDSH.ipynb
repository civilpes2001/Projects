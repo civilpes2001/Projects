{
  "nbformat": 4,
  "nbformat_minor": 0,
  "metadata": {
    "colab": {
      "name": "AV_wh.ipynb",
      "provenance": [],
      "collapsed_sections": [],
      "machine_shape": "hm"
    },
    "kernelspec": {
      "name": "python3",
      "display_name": "Python 3"
    }
  },
  "cells": [
    {
      "cell_type": "code",
      "metadata": {
        "id": "Q9Tmk7uwqHCw",
        "colab_type": "code",
        "outputId": "21294066-c097-48d0-a730-054b421f61e6",
        "colab": {
          "base_uri": "https://localhost:8080/",
          "height": 202
        }
      },
      "source": [
        "!wget https://datahack-prod.s3.amazonaws.com/train_file/train_yhhx1Xs.zip"
      ],
      "execution_count": 0,
      "outputs": [
        {
          "output_type": "stream",
          "text": [
            "--2020-04-04 17:33:17--  https://datahack-prod.s3.amazonaws.com/train_file/train_yhhx1Xs.zip\n",
            "Resolving datahack-prod.s3.amazonaws.com (datahack-prod.s3.amazonaws.com)... 52.219.66.108\n",
            "Connecting to datahack-prod.s3.amazonaws.com (datahack-prod.s3.amazonaws.com)|52.219.66.108|:443... connected.\n",
            "HTTP request sent, awaiting response... 200 OK\n",
            "Length: 5482216 (5.2M) [application/zip]\n",
            "Saving to: ‘train_yhhx1Xs.zip’\n",
            "\n",
            "\rtrain_yhhx1Xs.zip     0%[                    ]       0  --.-KB/s               \rtrain_yhhx1Xs.zip     0%[                    ]   8.00K  35.2KB/s               \rtrain_yhhx1Xs.zip     0%[                    ]  41.64K  91.6KB/s               \rtrain_yhhx1Xs.zip     2%[                    ] 109.64K   161KB/s               \rtrain_yhhx1Xs.zip     4%[                    ] 228.64K   251KB/s               \rtrain_yhhx1Xs.zip     8%[>                   ] 466.64K   410KB/s               \rtrain_yhhx1Xs.zip    17%[==>                 ] 942.64K   691KB/s               \rtrain_yhhx1Xs.zip    35%[======>             ]   1.86M  1.17MB/s               \rtrain_yhhx1Xs.zip    71%[=============>      ]   3.75M  2.06MB/s               \rtrain_yhhx1Xs.zip   100%[===================>]   5.23M  2.86MB/s    in 1.8s    \n",
            "\n",
            "2020-04-04 17:33:20 (2.86 MB/s) - ‘train_yhhx1Xs.zip’ saved [5482216/5482216]\n",
            "\n"
          ],
          "name": "stdout"
        }
      ]
    },
    {
      "cell_type": "code",
      "metadata": {
        "id": "ybf1L4-eqTI_",
        "colab_type": "code",
        "outputId": "e23e5ace-ceaa-4dc4-b299-3f8852a32fc8",
        "colab": {
          "base_uri": "https://localhost:8080/",
          "height": 202
        }
      },
      "source": [
        "!wget https://datahack-prod.s3.amazonaws.com/test_file/test_QkPvNLx.csv"
      ],
      "execution_count": 0,
      "outputs": [
        {
          "output_type": "stream",
          "text": [
            "--2020-04-04 17:32:31--  https://datahack-prod.s3.amazonaws.com/test_file/test_QkPvNLx.csv\n",
            "Resolving datahack-prod.s3.amazonaws.com (datahack-prod.s3.amazonaws.com)... 52.219.66.96\n",
            "Connecting to datahack-prod.s3.amazonaws.com (datahack-prod.s3.amazonaws.com)|52.219.66.96|:443... connected.\n",
            "HTTP request sent, awaiting response... 200 OK\n",
            "Length: 1932411 (1.8M) [text/csv]\n",
            "Saving to: ‘test_QkPvNLx.csv’\n",
            "\n",
            "\rtest_QkPvNLx.csv      0%[                    ]       0  --.-KB/s               \rtest_QkPvNLx.csv      1%[                    ]  24.65K   107KB/s               \rtest_QkPvNLx.csv      3%[                    ]  58.65K   127KB/s               \rtest_QkPvNLx.csv      5%[>                   ] 109.65K   158KB/s               \rtest_QkPvNLx.csv     12%[=>                  ] 228.65K   247KB/s               \rtest_QkPvNLx.csv     24%[===>                ] 466.65K   404KB/s               \rtest_QkPvNLx.csv     50%[=========>          ] 959.65K   692KB/s               \rtest_QkPvNLx.csv     94%[=================>  ]   1.73M  1.07MB/s               \rtest_QkPvNLx.csv    100%[===================>]   1.84M  1.14MB/s    in 1.6s    \n",
            "\n",
            "2020-04-04 17:32:34 (1.14 MB/s) - ‘test_QkPvNLx.csv’ saved [1932411/1932411]\n",
            "\n"
          ],
          "name": "stdout"
        }
      ]
    },
    {
      "cell_type": "code",
      "metadata": {
        "id": "RiMnCJeeqab9",
        "colab_type": "code",
        "outputId": "8ca3eb1f-2eea-4e54-96cb-6a6aa08f9bc9",
        "colab": {
          "base_uri": "https://localhost:8080/",
          "height": 67
        }
      },
      "source": [
        "!unzip train_yhhx1Xs.zip"
      ],
      "execution_count": 0,
      "outputs": [
        {
          "output_type": "stream",
          "text": [
            "Archive:  train_yhhx1Xs.zip\n",
            "  inflating: train.csv               \n",
            "  inflating: __MACOSX/._train.csv    \n"
          ],
          "name": "stdout"
        }
      ]
    },
    {
      "cell_type": "code",
      "metadata": {
        "id": "k_fvUWhMq4In",
        "colab_type": "code",
        "colab": {}
      },
      "source": [
        "import pandas as pd\n",
        "import numpy as np\n",
        "import matplotlib.pyplot as plt\n",
        "%matplotlib inline"
      ],
      "execution_count": 0,
      "outputs": []
    },
    {
      "cell_type": "code",
      "metadata": {
        "id": "jlUp-ZtOrAbt",
        "colab_type": "code",
        "colab": {}
      },
      "source": [
        "train = pd.read_csv('train.csv')\n",
        "test = pd.read_csv('test_QkPvNLx.csv')"
      ],
      "execution_count": 0,
      "outputs": []
    },
    {
      "cell_type": "code",
      "metadata": {
        "id": "U4r8YAjIrIH2",
        "colab_type": "code",
        "outputId": "61979419-4b5d-4372-82ee-4eff51c7325d",
        "colab": {
          "base_uri": "https://localhost:8080/",
          "height": 195
        }
      },
      "source": [
        "train.head(5)"
      ],
      "execution_count": 0,
      "outputs": [
        {
          "output_type": "execute_result",
          "data": {
            "text/html": [
              "<div>\n",
              "<style scoped>\n",
              "    .dataframe tbody tr th:only-of-type {\n",
              "        vertical-align: middle;\n",
              "    }\n",
              "\n",
              "    .dataframe tbody tr th {\n",
              "        vertical-align: top;\n",
              "    }\n",
              "\n",
              "    .dataframe thead th {\n",
              "        text-align: right;\n",
              "    }\n",
              "</style>\n",
              "<table border=\"1\" class=\"dataframe\">\n",
              "  <thead>\n",
              "    <tr style=\"text-align: right;\">\n",
              "      <th></th>\n",
              "      <th>ID</th>\n",
              "      <th>Day_No</th>\n",
              "      <th>Course_ID</th>\n",
              "      <th>Course_Domain</th>\n",
              "      <th>Course_Type</th>\n",
              "      <th>Short_Promotion</th>\n",
              "      <th>Public_Holiday</th>\n",
              "      <th>Long_Promotion</th>\n",
              "      <th>User_Traffic</th>\n",
              "      <th>Competition_Metric</th>\n",
              "      <th>Sales</th>\n",
              "    </tr>\n",
              "  </thead>\n",
              "  <tbody>\n",
              "    <tr>\n",
              "      <th>0</th>\n",
              "      <td>1</td>\n",
              "      <td>1</td>\n",
              "      <td>1</td>\n",
              "      <td>Development</td>\n",
              "      <td>Course</td>\n",
              "      <td>0</td>\n",
              "      <td>1</td>\n",
              "      <td>1</td>\n",
              "      <td>11004</td>\n",
              "      <td>0.007</td>\n",
              "      <td>81</td>\n",
              "    </tr>\n",
              "    <tr>\n",
              "      <th>1</th>\n",
              "      <td>2</td>\n",
              "      <td>2</td>\n",
              "      <td>1</td>\n",
              "      <td>Development</td>\n",
              "      <td>Course</td>\n",
              "      <td>0</td>\n",
              "      <td>0</td>\n",
              "      <td>1</td>\n",
              "      <td>13650</td>\n",
              "      <td>0.007</td>\n",
              "      <td>79</td>\n",
              "    </tr>\n",
              "    <tr>\n",
              "      <th>2</th>\n",
              "      <td>3</td>\n",
              "      <td>3</td>\n",
              "      <td>1</td>\n",
              "      <td>Development</td>\n",
              "      <td>Course</td>\n",
              "      <td>0</td>\n",
              "      <td>0</td>\n",
              "      <td>1</td>\n",
              "      <td>11655</td>\n",
              "      <td>0.007</td>\n",
              "      <td>75</td>\n",
              "    </tr>\n",
              "    <tr>\n",
              "      <th>3</th>\n",
              "      <td>4</td>\n",
              "      <td>4</td>\n",
              "      <td>1</td>\n",
              "      <td>Development</td>\n",
              "      <td>Course</td>\n",
              "      <td>0</td>\n",
              "      <td>0</td>\n",
              "      <td>1</td>\n",
              "      <td>12054</td>\n",
              "      <td>0.007</td>\n",
              "      <td>80</td>\n",
              "    </tr>\n",
              "    <tr>\n",
              "      <th>4</th>\n",
              "      <td>5</td>\n",
              "      <td>5</td>\n",
              "      <td>1</td>\n",
              "      <td>Development</td>\n",
              "      <td>Course</td>\n",
              "      <td>0</td>\n",
              "      <td>0</td>\n",
              "      <td>1</td>\n",
              "      <td>6804</td>\n",
              "      <td>0.007</td>\n",
              "      <td>41</td>\n",
              "    </tr>\n",
              "  </tbody>\n",
              "</table>\n",
              "</div>"
            ],
            "text/plain": [
              "   ID  Day_No  Course_ID  ... User_Traffic Competition_Metric  Sales\n",
              "0   1       1          1  ...        11004              0.007     81\n",
              "1   2       2          1  ...        13650              0.007     79\n",
              "2   3       3          1  ...        11655              0.007     75\n",
              "3   4       4          1  ...        12054              0.007     80\n",
              "4   5       5          1  ...         6804              0.007     41\n",
              "\n",
              "[5 rows x 11 columns]"
            ]
          },
          "metadata": {
            "tags": []
          },
          "execution_count": 132
        }
      ]
    },
    {
      "cell_type": "code",
      "metadata": {
        "id": "BLAc73oSrNC9",
        "colab_type": "code",
        "outputId": "1392998e-e5ba-4643-e93b-aee1d9f6545d",
        "colab": {
          "base_uri": "https://localhost:8080/",
          "height": 254
        }
      },
      "source": [
        "test.head(7)"
      ],
      "execution_count": 0,
      "outputs": [
        {
          "output_type": "execute_result",
          "data": {
            "text/html": [
              "<div>\n",
              "<style scoped>\n",
              "    .dataframe tbody tr th:only-of-type {\n",
              "        vertical-align: middle;\n",
              "    }\n",
              "\n",
              "    .dataframe tbody tr th {\n",
              "        vertical-align: top;\n",
              "    }\n",
              "\n",
              "    .dataframe thead th {\n",
              "        text-align: right;\n",
              "    }\n",
              "</style>\n",
              "<table border=\"1\" class=\"dataframe\">\n",
              "  <thead>\n",
              "    <tr style=\"text-align: right;\">\n",
              "      <th></th>\n",
              "      <th>ID</th>\n",
              "      <th>Day_No</th>\n",
              "      <th>Course_ID</th>\n",
              "      <th>Course_Domain</th>\n",
              "      <th>Course_Type</th>\n",
              "      <th>Short_Promotion</th>\n",
              "      <th>Public_Holiday</th>\n",
              "      <th>Long_Promotion</th>\n",
              "      <th>Competition_Metric</th>\n",
              "      <th>User_Traffic</th>\n",
              "    </tr>\n",
              "  </thead>\n",
              "  <tbody>\n",
              "    <tr>\n",
              "      <th>0</th>\n",
              "      <td>883</td>\n",
              "      <td>883</td>\n",
              "      <td>1</td>\n",
              "      <td>Development</td>\n",
              "      <td>Course</td>\n",
              "      <td>1</td>\n",
              "      <td>0</td>\n",
              "      <td>1</td>\n",
              "      <td>0.007</td>\n",
              "      <td>15375.101198</td>\n",
              "    </tr>\n",
              "    <tr>\n",
              "      <th>1</th>\n",
              "      <td>884</td>\n",
              "      <td>884</td>\n",
              "      <td>1</td>\n",
              "      <td>Development</td>\n",
              "      <td>Course</td>\n",
              "      <td>1</td>\n",
              "      <td>0</td>\n",
              "      <td>1</td>\n",
              "      <td>0.007</td>\n",
              "      <td>15375.101198</td>\n",
              "    </tr>\n",
              "    <tr>\n",
              "      <th>2</th>\n",
              "      <td>885</td>\n",
              "      <td>885</td>\n",
              "      <td>1</td>\n",
              "      <td>Development</td>\n",
              "      <td>Course</td>\n",
              "      <td>1</td>\n",
              "      <td>0</td>\n",
              "      <td>1</td>\n",
              "      <td>0.007</td>\n",
              "      <td>15375.101198</td>\n",
              "    </tr>\n",
              "    <tr>\n",
              "      <th>3</th>\n",
              "      <td>886</td>\n",
              "      <td>886</td>\n",
              "      <td>1</td>\n",
              "      <td>Development</td>\n",
              "      <td>Course</td>\n",
              "      <td>1</td>\n",
              "      <td>0</td>\n",
              "      <td>1</td>\n",
              "      <td>0.007</td>\n",
              "      <td>15375.101198</td>\n",
              "    </tr>\n",
              "    <tr>\n",
              "      <th>4</th>\n",
              "      <td>887</td>\n",
              "      <td>887</td>\n",
              "      <td>1</td>\n",
              "      <td>Development</td>\n",
              "      <td>Course</td>\n",
              "      <td>0</td>\n",
              "      <td>0</td>\n",
              "      <td>1</td>\n",
              "      <td>0.007</td>\n",
              "      <td>15375.101198</td>\n",
              "    </tr>\n",
              "    <tr>\n",
              "      <th>5</th>\n",
              "      <td>888</td>\n",
              "      <td>888</td>\n",
              "      <td>1</td>\n",
              "      <td>Development</td>\n",
              "      <td>Course</td>\n",
              "      <td>0</td>\n",
              "      <td>0</td>\n",
              "      <td>1</td>\n",
              "      <td>0.007</td>\n",
              "      <td>15375.101198</td>\n",
              "    </tr>\n",
              "    <tr>\n",
              "      <th>6</th>\n",
              "      <td>889</td>\n",
              "      <td>889</td>\n",
              "      <td>1</td>\n",
              "      <td>Development</td>\n",
              "      <td>Course</td>\n",
              "      <td>0</td>\n",
              "      <td>0</td>\n",
              "      <td>1</td>\n",
              "      <td>0.007</td>\n",
              "      <td>15375.101198</td>\n",
              "    </tr>\n",
              "  </tbody>\n",
              "</table>\n",
              "</div>"
            ],
            "text/plain": [
              "    ID  Day_No  Course_ID  ... Long_Promotion Competition_Metric  User_Traffic\n",
              "0  883     883          1  ...              1              0.007  15375.101198\n",
              "1  884     884          1  ...              1              0.007  15375.101198\n",
              "2  885     885          1  ...              1              0.007  15375.101198\n",
              "3  886     886          1  ...              1              0.007  15375.101198\n",
              "4  887     887          1  ...              1              0.007  15375.101198\n",
              "5  888     888          1  ...              1              0.007  15375.101198\n",
              "6  889     889          1  ...              1              0.007  15375.101198\n",
              "\n",
              "[7 rows x 10 columns]"
            ]
          },
          "metadata": {
            "tags": []
          },
          "execution_count": 144
        }
      ]
    },
    {
      "cell_type": "code",
      "metadata": {
        "id": "Us72kyn1c9xj",
        "colab_type": "code",
        "colab": {}
      },
      "source": [
        "d=train['User_Traffic'].mean()"
      ],
      "execution_count": 0,
      "outputs": []
    },
    {
      "cell_type": "code",
      "metadata": {
        "id": "0lSpA1ZkfpVq",
        "colab_type": "code",
        "colab": {}
      },
      "source": [
        "test['User_Traffic']=e"
      ],
      "execution_count": 0,
      "outputs": []
    },
    {
      "cell_type": "code",
      "metadata": {
        "id": "iY-PYQLl1BTK",
        "colab_type": "code",
        "outputId": "55f2b5d7-b772-4685-e36c-bcadcf2b8b2d",
        "colab": {
          "base_uri": "https://localhost:8080/",
          "height": 386
        }
      },
      "source": [
        "train.isnull().sum(),test.isnull().sum()"
      ],
      "execution_count": 0,
      "outputs": [
        {
          "output_type": "execute_result",
          "data": {
            "text/plain": [
              "(ID                       0\n",
              " Day_No                   0\n",
              " Course_ID                0\n",
              " Course_Domain            0\n",
              " Course_Type              0\n",
              " Short_Promotion          0\n",
              " Public_Holiday           0\n",
              " Long_Promotion           0\n",
              " User_Traffic             0\n",
              " Competition_Metric    1764\n",
              " Sales                    0\n",
              " dtype: int64, ID                      0\n",
              " Day_No                  0\n",
              " Course_ID               0\n",
              " Course_Domain           0\n",
              " Course_Type             0\n",
              " Short_Promotion         0\n",
              " Public_Holiday          0\n",
              " Long_Promotion          0\n",
              " Competition_Metric    120\n",
              " User_Traffic            0\n",
              " dtype: int64)"
            ]
          },
          "metadata": {
            "tags": []
          },
          "execution_count": 99
        }
      ]
    },
    {
      "cell_type": "code",
      "metadata": {
        "id": "7HKgr2wi1GT-",
        "colab_type": "code",
        "outputId": "d7742339-f905-4c4e-b245-7c3005f0649e",
        "colab": {
          "base_uri": "https://localhost:8080/",
          "height": 284
        }
      },
      "source": [
        "train.describe()"
      ],
      "execution_count": 0,
      "outputs": [
        {
          "output_type": "execute_result",
          "data": {
            "text/html": [
              "<div>\n",
              "<style scoped>\n",
              "    .dataframe tbody tr th:only-of-type {\n",
              "        vertical-align: middle;\n",
              "    }\n",
              "\n",
              "    .dataframe tbody tr th {\n",
              "        vertical-align: top;\n",
              "    }\n",
              "\n",
              "    .dataframe thead th {\n",
              "        text-align: right;\n",
              "    }\n",
              "</style>\n",
              "<table border=\"1\" class=\"dataframe\">\n",
              "  <thead>\n",
              "    <tr style=\"text-align: right;\">\n",
              "      <th></th>\n",
              "      <th>ID</th>\n",
              "      <th>Day_No</th>\n",
              "      <th>Course_ID</th>\n",
              "      <th>Short_Promotion</th>\n",
              "      <th>Public_Holiday</th>\n",
              "      <th>Long_Promotion</th>\n",
              "      <th>User_Traffic</th>\n",
              "      <th>Competition_Metric</th>\n",
              "      <th>Sales</th>\n",
              "    </tr>\n",
              "  </thead>\n",
              "  <tbody>\n",
              "    <tr>\n",
              "      <th>count</th>\n",
              "      <td>512087.000000</td>\n",
              "      <td>512087.000000</td>\n",
              "      <td>512087.000000</td>\n",
              "      <td>512087.000000</td>\n",
              "      <td>512087.000000</td>\n",
              "      <td>512087.000000</td>\n",
              "      <td>512087.000000</td>\n",
              "      <td>510323.000000</td>\n",
              "      <td>512087.000000</td>\n",
              "    </tr>\n",
              "    <tr>\n",
              "      <th>mean</th>\n",
              "      <td>274007.300650</td>\n",
              "      <td>434.917869</td>\n",
              "      <td>300.388344</td>\n",
              "      <td>0.380244</td>\n",
              "      <td>0.031639</td>\n",
              "      <td>0.488968</td>\n",
              "      <td>15375.101198</td>\n",
              "      <td>0.073345</td>\n",
              "      <td>120.826924</td>\n",
              "    </tr>\n",
              "    <tr>\n",
              "      <th>std</th>\n",
              "      <td>158228.834029</td>\n",
              "      <td>256.044161</td>\n",
              "      <td>173.365787</td>\n",
              "      <td>0.485447</td>\n",
              "      <td>0.175038</td>\n",
              "      <td>0.499879</td>\n",
              "      <td>7727.231205</td>\n",
              "      <td>0.100115</td>\n",
              "      <td>54.355258</td>\n",
              "    </tr>\n",
              "    <tr>\n",
              "      <th>min</th>\n",
              "      <td>1.000000</td>\n",
              "      <td>1.000000</td>\n",
              "      <td>1.000000</td>\n",
              "      <td>0.000000</td>\n",
              "      <td>0.000000</td>\n",
              "      <td>0.000000</td>\n",
              "      <td>168.000000</td>\n",
              "      <td>0.000000</td>\n",
              "      <td>0.000000</td>\n",
              "    </tr>\n",
              "    <tr>\n",
              "      <th>25%</th>\n",
              "      <td>136962.500000</td>\n",
              "      <td>214.000000</td>\n",
              "      <td>150.000000</td>\n",
              "      <td>0.000000</td>\n",
              "      <td>0.000000</td>\n",
              "      <td>0.000000</td>\n",
              "      <td>10584.000000</td>\n",
              "      <td>0.010000</td>\n",
              "      <td>84.000000</td>\n",
              "    </tr>\n",
              "    <tr>\n",
              "      <th>50%</th>\n",
              "      <td>273984.000000</td>\n",
              "      <td>427.000000</td>\n",
              "      <td>300.000000</td>\n",
              "      <td>0.000000</td>\n",
              "      <td>0.000000</td>\n",
              "      <td>0.000000</td>\n",
              "      <td>13776.000000</td>\n",
              "      <td>0.035000</td>\n",
              "      <td>111.000000</td>\n",
              "    </tr>\n",
              "    <tr>\n",
              "      <th>75%</th>\n",
              "      <td>411065.500000</td>\n",
              "      <td>658.000000</td>\n",
              "      <td>451.000000</td>\n",
              "      <td>1.000000</td>\n",
              "      <td>0.000000</td>\n",
              "      <td>1.000000</td>\n",
              "      <td>18123.000000</td>\n",
              "      <td>0.094000</td>\n",
              "      <td>146.000000</td>\n",
              "    </tr>\n",
              "    <tr>\n",
              "      <th>max</th>\n",
              "      <td>548027.000000</td>\n",
              "      <td>882.000000</td>\n",
              "      <td>600.000000</td>\n",
              "      <td>1.000000</td>\n",
              "      <td>1.000000</td>\n",
              "      <td>1.000000</td>\n",
              "      <td>100002.000000</td>\n",
              "      <td>0.768000</td>\n",
              "      <td>682.000000</td>\n",
              "    </tr>\n",
              "  </tbody>\n",
              "</table>\n",
              "</div>"
            ],
            "text/plain": [
              "                  ID         Day_No  ...  Competition_Metric          Sales\n",
              "count  512087.000000  512087.000000  ...       510323.000000  512087.000000\n",
              "mean   274007.300650     434.917869  ...            0.073345     120.826924\n",
              "std    158228.834029     256.044161  ...            0.100115      54.355258\n",
              "min         1.000000       1.000000  ...            0.000000       0.000000\n",
              "25%    136962.500000     214.000000  ...            0.010000      84.000000\n",
              "50%    273984.000000     427.000000  ...            0.035000     111.000000\n",
              "75%    411065.500000     658.000000  ...            0.094000     146.000000\n",
              "max    548027.000000     882.000000  ...            0.768000     682.000000\n",
              "\n",
              "[8 rows x 9 columns]"
            ]
          },
          "metadata": {
            "tags": []
          },
          "execution_count": 100
        }
      ]
    },
    {
      "cell_type": "code",
      "metadata": {
        "id": "DiJhUHfb1d-l",
        "colab_type": "code",
        "colab": {}
      },
      "source": [
        "\n",
        "mean = train['Competition_Metric'].mean()\n",
        "train['Competition_Metric'].fillna(mean, inplace=True)\n",
        "mean = test['Competition_Metric'].mean()\n",
        "test['Competition_Metric'].fillna(mean, inplace=True)"
      ],
      "execution_count": 0,
      "outputs": []
    },
    {
      "cell_type": "code",
      "metadata": {
        "id": "dffPdlQrrYBJ",
        "colab_type": "code",
        "colab": {}
      },
      "source": [
        "loc = np.append(train['Course_Domain'].values, test['Course_Domain'].values, axis=0)\n",
        "from sklearn.preprocessing import LabelEncoder\n",
        "l=LabelEncoder()\n",
        "l.fit(list(set(loc)))\n",
        "train['Course_Domain']=l.transform(train['Course_Domain'])\n",
        "test['Course_Domain']=l.transform(test['Course_Domain'])"
      ],
      "execution_count": 0,
      "outputs": []
    },
    {
      "cell_type": "code",
      "metadata": {
        "id": "EKkYJxrGrzNQ",
        "colab_type": "code",
        "colab": {}
      },
      "source": [
        "loc = np.append(train['Course_Type'].values, test['Course_Type'].values, axis=0)\n",
        "from sklearn.preprocessing import LabelEncoder\n",
        "l=LabelEncoder()\n",
        "l.fit(list(set(loc)))\n",
        "train['Course_Type']=l.transform(train['Course_Type'])\n",
        "test['Course_Type']=l.transform(test['Course_Type'])"
      ],
      "execution_count": 0,
      "outputs": []
    },
    {
      "cell_type": "code",
      "metadata": {
        "id": "I6aXgaEFzV0i",
        "colab_type": "code",
        "colab": {}
      },
      "source": [
        "train_df=train\n",
        "test_df=test"
      ],
      "execution_count": 0,
      "outputs": []
    },
    {
      "cell_type": "code",
      "metadata": {
        "id": "-BorgfZLzcxk",
        "colab_type": "code",
        "colab": {}
      },
      "source": [
        "del train_df['User_Traffic']"
      ],
      "execution_count": 0,
      "outputs": []
    },
    {
      "cell_type": "code",
      "metadata": {
        "id": "uJfQZjWVSZtI",
        "colab_type": "code",
        "colab": {}
      },
      "source": [
        "X = train_df.drop(labels=['Sales'], axis=1)\n",
        "y = train_df['Sales'].values\n",
        "\n",
        "from sklearn.model_selection import train_test_split\n",
        "X_train, X_cv, y_train, y_cv = train_test_split(X, y, test_size=0.25, random_state=1)"
      ],
      "execution_count": 0,
      "outputs": []
    },
    {
      "cell_type": "code",
      "metadata": {
        "id": "MpUOHnUmSclE",
        "colab_type": "code",
        "outputId": "b418d1cb-9bbc-4541-af88-2530079f4166",
        "colab": {
          "base_uri": "https://localhost:8080/",
          "height": 34
        }
      },
      "source": [
        "X_train.shape, y_train.shape, X_cv.shape, y_cv.shape"
      ],
      "execution_count": 0,
      "outputs": [
        {
          "output_type": "execute_result",
          "data": {
            "text/plain": [
              "((384065, 9), (384065,), (128022, 9), (128022,))"
            ]
          },
          "metadata": {
            "tags": []
          },
          "execution_count": 168
        }
      ]
    },
    {
      "cell_type": "code",
      "metadata": {
        "id": "pxpQ62EfSe8q",
        "colab_type": "code",
        "colab": {}
      },
      "source": [
        "from math import sqrt \n",
        "from sklearn.metrics import mean_squared_error"
      ],
      "execution_count": 0,
      "outputs": []
    },
    {
      "cell_type": "code",
      "metadata": {
        "id": "oCA7knNiS7ea",
        "colab_type": "code",
        "outputId": "e164d99b-5e5c-45e4-a662-fdf63bd6bd38",
        "colab": {
          "base_uri": "https://localhost:8080/",
          "height": 353
        }
      },
      "source": [
        "import lightgbm as lgb\n",
        "train_data = lgb.Dataset(X_train, label=y_train)\n",
        "test_data = lgb.Dataset(X_cv, label=y_cv)\n",
        "\n",
        "param = {'objective': 'regression',\n",
        "         'boosting': 'gbdt',  \n",
        "         'metric': 'l2_root',\n",
        "         'learning_rate': 0.1, \n",
        "         'num_iterations': 1000,\n",
        "         'num_leaves': 80,\n",
        "         'max_depth': -1,\n",
        "         'min_data_in_leaf': 11,\n",
        "         'bagging_fraction': 0.80,\n",
        "         'bagging_freq': 1,\n",
        "         'bagging_seed': 3,\n",
        "         'feature_fraction': 0.80,\n",
        "         'feature_fraction_seed': 2,\n",
        "         'early_stopping_round': 1000,\n",
        "         'max_bin': 250\n",
        "         }\n",
        "\n",
        "lgbm = lgb.train(params=param, verbose_eval=100, train_set=train_data, valid_sets=[test_data])\n",
        "\n",
        "y_pred_lgbm = lgbm.predict(X_cv)\n",
        "print('RMSLE:', sqrt(mean_squared_error(np.expm1(y_cv), np.expm1(y_pred_lgbm))))"
      ],
      "execution_count": 0,
      "outputs": [
        {
          "output_type": "stream",
          "text": [
            "/usr/local/lib/python3.6/dist-packages/lightgbm/engine.py:118: UserWarning: Found `num_iterations` in params. Will use it instead of argument\n",
            "  warnings.warn(\"Found `{}` in params. Will use it instead of argument\".format(alias))\n",
            "/usr/local/lib/python3.6/dist-packages/lightgbm/engine.py:123: UserWarning: Found `early_stopping_round` in params. Will use it instead of argument\n",
            "  warnings.warn(\"Found `{}` in params. Will use it instead of argument\".format(alias))\n"
          ],
          "name": "stderr"
        },
        {
          "output_type": "stream",
          "text": [
            "Training until validation scores don't improve for 1000 rounds.\n",
            "[100]\tvalid_0's rmse: 24.2657\n",
            "[200]\tvalid_0's rmse: 22.2751\n",
            "[300]\tvalid_0's rmse: 21.673\n",
            "[400]\tvalid_0's rmse: 21.4267\n",
            "[500]\tvalid_0's rmse: 21.2837\n",
            "[600]\tvalid_0's rmse: 21.1882\n",
            "[700]\tvalid_0's rmse: 21.128\n",
            "[800]\tvalid_0's rmse: 21.1017\n",
            "[900]\tvalid_0's rmse: 21.0932\n",
            "[1000]\tvalid_0's rmse: 21.102\n",
            "Did not meet early stopping. Best iteration is:\n",
            "[892]\tvalid_0's rmse: 21.0908\n",
            "RMSLE: inf\n"
          ],
          "name": "stdout"
        },
        {
          "output_type": "stream",
          "text": [
            "/usr/local/lib/python3.6/dist-packages/sklearn/metrics/_regression.py:254: RuntimeWarning: overflow encountered in square\n",
            "  output_errors = np.average((y_true - y_pred) ** 2, axis=0,\n"
          ],
          "name": "stderr"
        }
      ]
    },
    {
      "cell_type": "code",
      "metadata": {
        "id": "3i5bdKlOTDjW",
        "colab_type": "code",
        "outputId": "4037d630-2c7e-45fd-c4be-7ee0ca3db940",
        "colab": {
          "base_uri": "https://localhost:8080/",
          "height": 729
        }
      },
      "source": [
        "import seaborn as sns\n",
        "feature_imp = pd.DataFrame(sorted(zip(lgbm.feature_importance(), X.columns), reverse=True)[:50], \n",
        "                           columns=['Value','Feature'])\n",
        "plt.figure(figsize=(12, 10))\n",
        "sns.barplot(x=\"Value\", y=\"Feature\", data=feature_imp.sort_values(by=\"Value\", ascending=False))\n",
        "plt.title('LightGBM Features')\n",
        "plt.tight_layout()\n",
        "plt.show()"
      ],
      "execution_count": 0,
      "outputs": [
        {
          "output_type": "display_data",
          "data": {
            "image/png": "[encoded data removed]",
            "text/plain": [
              "<Figure size 864x720 with 1 Axes>"
            ]
          },
          "metadata": {
            "tags": []
          }
        }
      ]
    },
    {
      "cell_type": "code",
      "metadata": {
        "id": "Mgn6y-_PT3hi",
        "colab_type": "code",
        "colab": {}
      },
      "source": [
        "Xtest = test_df"
      ],
      "execution_count": 0,
      "outputs": []
    },
    {
      "cell_type": "code",
      "metadata": {
        "id": "0v3M4v85T71S",
        "colab_type": "code",
        "outputId": "80f9bcfc-7cf5-4562-9a70-1ae9b32a9ea3",
        "colab": {
          "base_uri": "https://localhost:8080/",
          "height": 857
        }
      },
      "source": [
        "from sklearn.model_selection import KFold\n",
        "from lightgbm import LGBMRegressor\n",
        "\n",
        "errlgb = []\n",
        "y_pred_totlgb = []\n",
        "\n",
        "fold = KFold(n_splits=10, shuffle=True, random_state=42)\n",
        "\n",
        "for train_index, test_index in fold.split(X):\n",
        "    X_train, X_test = X.loc[train_index], X.loc[test_index]\n",
        "    y_train, y_test = y[train_index], y[test_index]\n",
        "\n",
        "    lgbm = LGBMRegressor(**param)\n",
        "    lgbm.fit(X_train, y_train, eval_set=[(X_test, y_test)], verbose=0, early_stopping_rounds=200)\n",
        "\n",
        "    y_pred_lgbm = lgbm.predict(X_test)\n",
        "    print(\"RMSLE LGBM: \", sqrt(mean_squared_log_error(np.exp(y_test), np.exp(y_pred_lgbm))))\n",
        "\n",
        "    errlgb.append(sqrt(mean_squared_log_error(np.exp(y_test), np.exp(y_pred_lgbm))))\n",
        "    p = lgbm.predict(Xtest)\n",
        "    y_pred_totlgb.append(p)"
      ],
      "execution_count": 0,
      "outputs": [
        {
          "output_type": "stream",
          "text": [
            "/usr/local/lib/python3.6/dist-packages/lightgbm/engine.py:118: UserWarning: Found `num_iterations` in params. Will use it instead of argument\n",
            "  warnings.warn(\"Found `{}` in params. Will use it instead of argument\".format(alias))\n",
            "/usr/local/lib/python3.6/dist-packages/lightgbm/engine.py:123: UserWarning: Found `early_stopping_round` in params. Will use it instead of argument\n",
            "  warnings.warn(\"Found `{}` in params. Will use it instead of argument\".format(alias))\n"
          ],
          "name": "stderr"
        },
        {
          "output_type": "stream",
          "text": [
            "RMSLE LGBM:  20.81994390079879\n"
          ],
          "name": "stdout"
        },
        {
          "output_type": "stream",
          "text": [
            "/usr/local/lib/python3.6/dist-packages/lightgbm/engine.py:118: UserWarning: Found `num_iterations` in params. Will use it instead of argument\n",
            "  warnings.warn(\"Found `{}` in params. Will use it instead of argument\".format(alias))\n",
            "/usr/local/lib/python3.6/dist-packages/lightgbm/engine.py:123: UserWarning: Found `early_stopping_round` in params. Will use it instead of argument\n",
            "  warnings.warn(\"Found `{}` in params. Will use it instead of argument\".format(alias))\n"
          ],
          "name": "stderr"
        },
        {
          "output_type": "stream",
          "text": [
            "RMSLE LGBM:  21.400152387514495\n"
          ],
          "name": "stdout"
        },
        {
          "output_type": "stream",
          "text": [
            "/usr/local/lib/python3.6/dist-packages/lightgbm/engine.py:118: UserWarning: Found `num_iterations` in params. Will use it instead of argument\n",
            "  warnings.warn(\"Found `{}` in params. Will use it instead of argument\".format(alias))\n",
            "/usr/local/lib/python3.6/dist-packages/lightgbm/engine.py:123: UserWarning: Found `early_stopping_round` in params. Will use it instead of argument\n",
            "  warnings.warn(\"Found `{}` in params. Will use it instead of argument\".format(alias))\n"
          ],
          "name": "stderr"
        },
        {
          "output_type": "stream",
          "text": [
            "RMSLE LGBM:  21.205798871895787\n"
          ],
          "name": "stdout"
        },
        {
          "output_type": "stream",
          "text": [
            "/usr/local/lib/python3.6/dist-packages/lightgbm/engine.py:118: UserWarning: Found `num_iterations` in params. Will use it instead of argument\n",
            "  warnings.warn(\"Found `{}` in params. Will use it instead of argument\".format(alias))\n",
            "/usr/local/lib/python3.6/dist-packages/lightgbm/engine.py:123: UserWarning: Found `early_stopping_round` in params. Will use it instead of argument\n",
            "  warnings.warn(\"Found `{}` in params. Will use it instead of argument\".format(alias))\n"
          ],
          "name": "stderr"
        },
        {
          "output_type": "stream",
          "text": [
            "RMSLE LGBM:  21.076621456162126\n"
          ],
          "name": "stdout"
        },
        {
          "output_type": "stream",
          "text": [
            "/usr/local/lib/python3.6/dist-packages/lightgbm/engine.py:118: UserWarning: Found `num_iterations` in params. Will use it instead of argument\n",
            "  warnings.warn(\"Found `{}` in params. Will use it instead of argument\".format(alias))\n",
            "/usr/local/lib/python3.6/dist-packages/lightgbm/engine.py:123: UserWarning: Found `early_stopping_round` in params. Will use it instead of argument\n",
            "  warnings.warn(\"Found `{}` in params. Will use it instead of argument\".format(alias))\n"
          ],
          "name": "stderr"
        },
        {
          "output_type": "stream",
          "text": [
            "RMSLE LGBM:  20.92802482300659\n"
          ],
          "name": "stdout"
        },
        {
          "output_type": "stream",
          "text": [
            "/usr/local/lib/python3.6/dist-packages/lightgbm/engine.py:118: UserWarning: Found `num_iterations` in params. Will use it instead of argument\n",
            "  warnings.warn(\"Found `{}` in params. Will use it instead of argument\".format(alias))\n",
            "/usr/local/lib/python3.6/dist-packages/lightgbm/engine.py:123: UserWarning: Found `early_stopping_round` in params. Will use it instead of argument\n",
            "  warnings.warn(\"Found `{}` in params. Will use it instead of argument\".format(alias))\n"
          ],
          "name": "stderr"
        },
        {
          "output_type": "stream",
          "text": [
            "RMSLE LGBM:  21.24361412625193\n"
          ],
          "name": "stdout"
        },
        {
          "output_type": "stream",
          "text": [
            "/usr/local/lib/python3.6/dist-packages/lightgbm/engine.py:118: UserWarning: Found `num_iterations` in params. Will use it instead of argument\n",
            "  warnings.warn(\"Found `{}` in params. Will use it instead of argument\".format(alias))\n",
            "/usr/local/lib/python3.6/dist-packages/lightgbm/engine.py:123: UserWarning: Found `early_stopping_round` in params. Will use it instead of argument\n",
            "  warnings.warn(\"Found `{}` in params. Will use it instead of argument\".format(alias))\n"
          ],
          "name": "stderr"
        },
        {
          "output_type": "stream",
          "text": [
            "RMSLE LGBM:  21.102294247888157\n"
          ],
          "name": "stdout"
        },
        {
          "output_type": "stream",
          "text": [
            "/usr/local/lib/python3.6/dist-packages/lightgbm/engine.py:118: UserWarning: Found `num_iterations` in params. Will use it instead of argument\n",
            "  warnings.warn(\"Found `{}` in params. Will use it instead of argument\".format(alias))\n",
            "/usr/local/lib/python3.6/dist-packages/lightgbm/engine.py:123: UserWarning: Found `early_stopping_round` in params. Will use it instead of argument\n",
            "  warnings.warn(\"Found `{}` in params. Will use it instead of argument\".format(alias))\n"
          ],
          "name": "stderr"
        },
        {
          "output_type": "stream",
          "text": [
            "RMSLE LGBM:  20.606117077316185\n"
          ],
          "name": "stdout"
        },
        {
          "output_type": "stream",
          "text": [
            "/usr/local/lib/python3.6/dist-packages/lightgbm/engine.py:118: UserWarning: Found `num_iterations` in params. Will use it instead of argument\n",
            "  warnings.warn(\"Found `{}` in params. Will use it instead of argument\".format(alias))\n",
            "/usr/local/lib/python3.6/dist-packages/lightgbm/engine.py:123: UserWarning: Found `early_stopping_round` in params. Will use it instead of argument\n",
            "  warnings.warn(\"Found `{}` in params. Will use it instead of argument\".format(alias))\n"
          ],
          "name": "stderr"
        },
        {
          "output_type": "stream",
          "text": [
            "RMSLE LGBM:  21.326546463035374\n"
          ],
          "name": "stdout"
        },
        {
          "output_type": "stream",
          "text": [
            "/usr/local/lib/python3.6/dist-packages/lightgbm/engine.py:118: UserWarning: Found `num_iterations` in params. Will use it instead of argument\n",
            "  warnings.warn(\"Found `{}` in params. Will use it instead of argument\".format(alias))\n",
            "/usr/local/lib/python3.6/dist-packages/lightgbm/engine.py:123: UserWarning: Found `early_stopping_round` in params. Will use it instead of argument\n",
            "  warnings.warn(\"Found `{}` in params. Will use it instead of argument\".format(alias))\n"
          ],
          "name": "stderr"
        },
        {
          "output_type": "stream",
          "text": [
            "RMSLE LGBM:  20.982506071179813\n"
          ],
          "name": "stdout"
        }
      ]
    },
    {
      "cell_type": "code",
      "metadata": {
        "id": "VfHFEBG8UBXI",
        "colab_type": "code",
        "outputId": "ee6daa43-a811-49bb-ffea-498784fc6e84",
        "colab": {
          "base_uri": "https://localhost:8080/",
          "height": 34
        }
      },
      "source": [
        "np.mean(errlgb,0)"
      ],
      "execution_count": 0,
      "outputs": [
        {
          "output_type": "execute_result",
          "data": {
            "text/plain": [
              "21.069161942504927"
            ]
          },
          "metadata": {
            "tags": []
          },
          "execution_count": 174
        }
      ]
    },
    {
      "cell_type": "code",
      "metadata": {
        "id": "AcNj-26-VmDe",
        "colab_type": "code",
        "outputId": "93732e8a-6602-4f3c-e960-1300cccc1b3b",
        "colab": {
          "base_uri": "https://localhost:8080/",
          "height": 50
        }
      },
      "source": [
        "lgbm_final = np.mean(y_pred_totgb,0)\n",
        "lgbm_final"
      ],
      "execution_count": 0,
      "outputs": [
        {
          "output_type": "execute_result",
          "data": {
            "text/plain": [
              "array([144.90715752, 144.90715752, 144.90715752, ..., 174.55960006,\n",
              "       174.55960006, 174.55960006])"
            ]
          },
          "metadata": {
            "tags": []
          },
          "execution_count": 186
        }
      ]
    },
    {
      "cell_type": "code",
      "metadata": {
        "id": "nJhmOXv9n4o9",
        "colab_type": "code",
        "outputId": "66c28609-abd1-4179-ef02-3c703623b44e",
        "colab": {
          "base_uri": "https://localhost:8080/",
          "height": 34
        }
      },
      "source": [
        "lgbm_final.max()"
      ],
      "execution_count": 0,
      "outputs": [
        {
          "output_type": "execute_result",
          "data": {
            "text/plain": [
              "419.19513692915154"
            ]
          },
          "metadata": {
            "tags": []
          },
          "execution_count": 187
        }
      ]
    },
    {
      "cell_type": "code",
      "metadata": {
        "id": "EZbqE3adVpn4",
        "colab_type": "code",
        "outputId": "d559d6c3-54b1-4505-a73f-25630fdbc401",
        "colab": {
          "base_uri": "https://localhost:8080/",
          "height": 252
        }
      },
      "source": [
        "submission = pd.DataFrame({\n",
        "        \"ID\": test[\"ID\"],\n",
        "        \"Sales\":lgbm_final\n",
        "    })\n",
        "submission.to_csv('./test_coder.csv', index=False)\n",
        "print(submission)"
      ],
      "execution_count": 0,
      "outputs": [
        {
          "output_type": "stream",
          "text": [
            "           ID       Sales\n",
            "0         883  144.907158\n",
            "1         884  144.907158\n",
            "2         885  144.907158\n",
            "3         886  144.907158\n",
            "4         887   92.335869\n",
            "...       ...         ...\n",
            "35995  548083  174.559600\n",
            "35996  548084  174.559600\n",
            "35997  548085  174.559600\n",
            "35998  548086  174.559600\n",
            "35999  548087  174.559600\n",
            "\n",
            "[36000 rows x 2 columns]\n"
          ],
          "name": "stdout"
        }
      ]
    },
    {
      "cell_type": "code",
      "metadata": {
        "id": "OPZFabY2V1Z_",
        "colab_type": "code",
        "colab": {}
      },
      "source": [
        "from google.colab import files\n",
        "files.download('test_coder.csv')"
      ],
      "execution_count": 0,
      "outputs": []
    }
  ]
}