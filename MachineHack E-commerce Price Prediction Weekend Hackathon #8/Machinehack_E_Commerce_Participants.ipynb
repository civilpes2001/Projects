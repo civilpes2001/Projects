{
  "nbformat": 4,
  "nbformat_minor": 0,
  "metadata": {
    "colab": {
      "name": "machinehack_E-Commerce_Participants_weekend_#8.ipynb",
      "provenance": [],
      "collapsed_sections": []
    },
    "kernelspec": {
      "name": "python3",
      "display_name": "Python 3"
    }
  },
  "cells": [
    {
      "cell_type": "code",
      "metadata": {
        "id": "OMvAdMK_u0Ol",
        "colab_type": "code",
        "colab": {
          "base_uri": "https://localhost:8080/",
          "height": 201
        },
        "outputId": "f9f94add-52b8-41ef-a0b5-ce1acd9487df"
      },
      "source": [
        "!wget https://www.machinehack.com/wp-content/uploads/2020/06/E-Commerce_Participants_Data.zip"
      ],
      "execution_count": null,
      "outputs": [
        {
          "output_type": "stream",
          "text": [
            "--2020-06-14 12:03:22--  https://www.machinehack.com/wp-content/uploads/2020/06/E-Commerce_Participants_Data.zip\n",
            "Resolving www.machinehack.com (www.machinehack.com)... 107.180.71.20\n",
            "Connecting to www.machinehack.com (www.machinehack.com)|107.180.71.20|:443... connected.\n",
            "HTTP request sent, awaiting response... 200 OK\n",
            "Length: 72178 (70K) [application/zip]\n",
            "Saving to: ‘E-Commerce_Participants_Data.zip’\n",
            "\n",
            "\r          E-Commerc   0%[                    ]       0  --.-KB/s               \r         E-Commerce  79%[==============>     ]  56.00K   239KB/s               \rE-Commerce_Particip 100%[===================>]  70.49K   300KB/s    in 0.2s    \n",
            "\n",
            "2020-06-14 12:03:23 (300 KB/s) - ‘E-Commerce_Participants_Data.zip’ saved [72178/72178]\n",
            "\n"
          ],
          "name": "stdout"
        }
      ]
    },
    {
      "cell_type": "code",
      "metadata": {
        "id": "4J0xkFA2B2kF",
        "colab_type": "code",
        "colab": {
          "base_uri": "https://localhost:8080/",
          "height": 151
        },
        "outputId": "4e783689-985f-4646-b3a2-7002b5a75d07"
      },
      "source": [
        "!unzip E-Commerce_Participants_Data.zip"
      ],
      "execution_count": null,
      "outputs": [
        {
          "output_type": "stream",
          "text": [
            "Archive:  E-Commerce_Participants_Data.zip\n",
            "   creating: E-Commerce_Participants_Data/\n",
            "  inflating: E-Commerce_Participants_Data/Test.csv  \n",
            "  inflating: __MACOSX/E-Commerce_Participants_Data/._Test.csv  \n",
            "  inflating: E-Commerce_Participants_Data/Sample_Submission.xlsx  \n",
            "  inflating: __MACOSX/E-Commerce_Participants_Data/._Sample_Submission.xlsx  \n",
            "  inflating: E-Commerce_Participants_Data/Train.csv  \n",
            "  inflating: __MACOSX/E-Commerce_Participants_Data/._Train.csv  \n"
          ],
          "name": "stdout"
        }
      ]
    },
    {
      "cell_type": "code",
      "metadata": {
        "id": "5lr-gNTLu6li",
        "colab_type": "code",
        "colab": {}
      },
      "source": [
        "import pandas as pd\n",
        "import numpy as np\n",
        "import matplotlib.pyplot as plt\n",
        "%matplotlib inline"
      ],
      "execution_count": null,
      "outputs": []
    },
    {
      "cell_type": "code",
      "metadata": {
        "id": "go85oPouvDtN",
        "colab_type": "code",
        "colab": {}
      },
      "source": [
        "train = pd.read_csv('E-Commerce_Participants_Data/Train.csv')\n",
        "test = pd.read_csv('E-Commerce_Participants_Data/Test.csv')\n",
        "sub = pd.read_excel('E-Commerce_Participants_Data/Sample_Submission.xlsx')"
      ],
      "execution_count": null,
      "outputs": []
    },
    {
      "cell_type": "code",
      "metadata": {
        "id": "5-mSvEZXvUow",
        "colab_type": "code",
        "colab": {
          "base_uri": "https://localhost:8080/",
          "height": 104
        },
        "outputId": "40eea6c3-6a63-4621-bb4a-8e6c5e8c907a"
      },
      "source": [
        "train.head(2)"
      ],
      "execution_count": null,
      "outputs": [
        {
          "output_type": "execute_result",
          "data": {
            "text/html": [
              "<div>\n",
              "<style scoped>\n",
              "    .dataframe tbody tr th:only-of-type {\n",
              "        vertical-align: middle;\n",
              "    }\n",
              "\n",
              "    .dataframe tbody tr th {\n",
              "        vertical-align: top;\n",
              "    }\n",
              "\n",
              "    .dataframe thead th {\n",
              "        text-align: right;\n",
              "    }\n",
              "</style>\n",
              "<table border=\"1\" class=\"dataframe\">\n",
              "  <thead>\n",
              "    <tr style=\"text-align: right;\">\n",
              "      <th></th>\n",
              "      <th>Product</th>\n",
              "      <th>Product_Brand</th>\n",
              "      <th>Item_Category</th>\n",
              "      <th>Subcategory_1</th>\n",
              "      <th>Subcategory_2</th>\n",
              "      <th>Item_Rating</th>\n",
              "      <th>Date</th>\n",
              "      <th>Selling_Price</th>\n",
              "    </tr>\n",
              "  </thead>\n",
              "  <tbody>\n",
              "    <tr>\n",
              "      <th>0</th>\n",
              "      <td>P-2610</td>\n",
              "      <td>B-659</td>\n",
              "      <td>bags wallets belts</td>\n",
              "      <td>bags</td>\n",
              "      <td>hand bags</td>\n",
              "      <td>4.3</td>\n",
              "      <td>2/3/2017</td>\n",
              "      <td>291.0</td>\n",
              "    </tr>\n",
              "    <tr>\n",
              "      <th>1</th>\n",
              "      <td>P-2453</td>\n",
              "      <td>B-3078</td>\n",
              "      <td>clothing</td>\n",
              "      <td>women s clothing</td>\n",
              "      <td>western wear</td>\n",
              "      <td>3.1</td>\n",
              "      <td>7/1/2015</td>\n",
              "      <td>897.0</td>\n",
              "    </tr>\n",
              "  </tbody>\n",
              "</table>\n",
              "</div>"
            ],
            "text/plain": [
              "  Product Product_Brand  ...      Date Selling_Price\n",
              "0  P-2610         B-659  ...  2/3/2017         291.0\n",
              "1  P-2453        B-3078  ...  7/1/2015         897.0\n",
              "\n",
              "[2 rows x 8 columns]"
            ]
          },
          "metadata": {
            "tags": []
          },
          "execution_count": 240
        }
      ]
    },
    {
      "cell_type": "code",
      "metadata": {
        "id": "rcRHSGsNvHdv",
        "colab_type": "code",
        "colab": {
          "base_uri": "https://localhost:8080/",
          "height": 420
        },
        "outputId": "dfeb8301-cd85-49fb-935d-2d297f299b35"
      },
      "source": [
        "train.isnull().sum(),test.isnull().sum(),train.shape,test.shape,train.dtypes"
      ],
      "execution_count": null,
      "outputs": [
        {
          "output_type": "execute_result",
          "data": {
            "text/plain": [
              "(Product          0\n",
              " Product_Brand    0\n",
              " Item_Category    0\n",
              " Subcategory_1    0\n",
              " Subcategory_2    0\n",
              " Item_Rating      0\n",
              " Date             0\n",
              " Selling_Price    0\n",
              " dtype: int64, Product          0\n",
              " Product_Brand    0\n",
              " Item_Category    0\n",
              " Subcategory_1    0\n",
              " Subcategory_2    0\n",
              " Item_Rating      0\n",
              " Date             0\n",
              " dtype: int64, (2452, 8), (1051, 7), Product           object\n",
              " Product_Brand     object\n",
              " Item_Category     object\n",
              " Subcategory_1     object\n",
              " Subcategory_2     object\n",
              " Item_Rating      float64\n",
              " Date              object\n",
              " Selling_Price    float64\n",
              " dtype: object)"
            ]
          },
          "metadata": {
            "tags": []
          },
          "execution_count": 241
        }
      ]
    },
    {
      "cell_type": "code",
      "metadata": {
        "id": "vPxTwnFQCUk6",
        "colab_type": "code",
        "colab": {
          "base_uri": "https://localhost:8080/",
          "height": 184
        },
        "outputId": "454bd07b-5521-4780-ec6e-5f8b31f6c01d"
      },
      "source": [
        "a=['Product','Product_Brand','Item_Category','Subcategory_1','Subcategory_2']\n",
        "for i in a:\n",
        "  print(train[i].nunique())\n",
        "  print(test[i].nunique())"
      ],
      "execution_count": null,
      "outputs": [
        {
          "output_type": "stream",
          "text": [
            "2452\n",
            "1051\n",
            "1010\n",
            "494\n",
            "75\n",
            "47\n",
            "130\n",
            "93\n",
            "336\n",
            "194\n"
          ],
          "name": "stdout"
        }
      ]
    },
    {
      "cell_type": "code",
      "metadata": {
        "id": "0Oei3oeUvOWL",
        "colab_type": "code",
        "colab": {}
      },
      "source": [
        "train['Product']=train.Product.str.extract('(\\d+)')\n",
        "test['Product']=test.Product.str.extract('(\\d+)')\n",
        "train['Product_Brand']=train.Product_Brand.str.extract('(\\d+)')\n",
        "test['Product_Brand']=test.Product_Brand.str.extract('(\\d+)')\n",
        "train['Product']=train['Product'].astype(int)\n",
        "test['Product']=test['Product'].astype(int)\n",
        "train['Product_Brand']=train['Product_Brand'].astype(int)\n",
        "test['Product_Brand']=test['Product_Brand'].astype(int)"
      ],
      "execution_count": null,
      "outputs": []
    },
    {
      "cell_type": "code",
      "metadata": {
        "id": "COE80waADWjQ",
        "colab_type": "code",
        "colab": {}
      },
      "source": [
        "a=['Item_Category','Subcategory_1','Subcategory_2']\n",
        "for i in a:\n",
        "  loc = np.append(train[i].values, test[i].values, axis=0)\n",
        "  from sklearn.preprocessing import LabelEncoder\n",
        "  l=LabelEncoder()\n",
        "  l.fit(list(set(loc)))\n",
        "  train[i]=l.transform(train[i])\n",
        "  test[i]=l.transform(test[i])"
      ],
      "execution_count": null,
      "outputs": []
    },
    {
      "cell_type": "code",
      "metadata": {
        "id": "cEhZ5ObjEdjI",
        "colab_type": "code",
        "colab": {}
      },
      "source": [
        "k=['Date']\n",
        "for i in k:\n",
        "  train[i] = pd.to_datetime(train[i])\n",
        "  test[i] = pd.to_datetime(test[i])"
      ],
      "execution_count": null,
      "outputs": []
    },
    {
      "cell_type": "code",
      "metadata": {
        "id": "CPqiSWBbvQoO",
        "colab_type": "code",
        "colab": {}
      },
      "source": [
        "k=['Date']\n",
        "for i in k:\n",
        "  test[i+'_'+'year'] = test[i].dt.year\n",
        "  test[i+'_'+'day'] = test[i].dt.day\n",
        "  test[i+'_'+'weekofyear'] = test[i].dt.weekofyear\n",
        "  test[i+'_'+'month'] = test[i].dt.month\n",
        "  test[i+'_'+'dayofweek'] =test[i].dt.dayofweek\n",
        "  test[i+'_'+'weekend'] = (test[i].dt.weekday >=5).astype(int)\n",
        "  train[i+'_'+'year'] = train[i].dt.year\n",
        "  train[i+'_'+'day'] = train[i].dt.day\n",
        "  train[i+'_'+'weekofyear'] = train[i].dt.weekofyear\n",
        "  train[i+'_'+'month'] = train[i].dt.month\n",
        "  train[i+'_'+'dayofweek'] = train[i].dt.dayofweek\n",
        "  train[i+'_'+'weekend'] = (train[i].dt.weekday >=5).astype(int)"
      ],
      "execution_count": null,
      "outputs": []
    },
    {
      "cell_type": "code",
      "metadata": {
        "id": "wJM0_KxcF_8c",
        "colab_type": "code",
        "colab": {}
      },
      "source": [
        "del train['Date']\n",
        "del test['Date']"
      ],
      "execution_count": null,
      "outputs": []
    },
    {
      "cell_type": "code",
      "metadata": {
        "id": "73c8HyNKeiIC",
        "colab_type": "code",
        "colab": {}
      },
      "source": [
        "train_df=train\n",
        "test_df=test"
      ],
      "execution_count": null,
      "outputs": []
    },
    {
      "cell_type": "code",
      "metadata": {
        "id": "tt7Nce-6MX9m",
        "colab_type": "code",
        "colab": {}
      },
      "source": [
        "\n",
        "train_df['Selling_Price'] = np.log1p(train_df['Selling_Price'])"
      ],
      "execution_count": null,
      "outputs": []
    },
    {
      "cell_type": "code",
      "metadata": {
        "id": "OeKehT4PepNH",
        "colab_type": "code",
        "colab": {}
      },
      "source": [
        "X = train_df.drop(labels=['Selling_Price'], axis=1)\n",
        "y = train_df['Selling_Price'].values"
      ],
      "execution_count": null,
      "outputs": []
    },
    {
      "cell_type": "code",
      "metadata": {
        "id": "u194VSTMesml",
        "colab_type": "code",
        "colab": {}
      },
      "source": [
        "from sklearn.model_selection import train_test_split\n",
        "X_train, X_cv, y_train, y_cv = train_test_split(X, y, test_size=0.15, random_state=1)"
      ],
      "execution_count": null,
      "outputs": []
    },
    {
      "cell_type": "code",
      "metadata": {
        "id": "cuHlF0P7evLW",
        "colab_type": "code",
        "colab": {
          "base_uri": "https://localhost:8080/",
          "height": 33
        },
        "outputId": "b68fa599-deda-449e-8eac-52667ad9bb59"
      },
      "source": [
        "X_train.shape, y_train.shape, X_cv.shape, y_cv.shape"
      ],
      "execution_count": null,
      "outputs": [
        {
          "output_type": "execute_result",
          "data": {
            "text/plain": [
              "((2084, 12), (2084,), (368, 12), (368,))"
            ]
          },
          "metadata": {
            "tags": []
          },
          "execution_count": 252
        }
      ]
    },
    {
      "cell_type": "code",
      "metadata": {
        "id": "B84xq5-bexUe",
        "colab_type": "code",
        "colab": {}
      },
      "source": [
        "from math import sqrt \n",
        "import lightgbm as lgb\n",
        "from sklearn.metrics import mean_squared_error, mean_squared_log_error"
      ],
      "execution_count": null,
      "outputs": []
    },
    {
      "cell_type": "code",
      "metadata": {
        "id": "K4ZItEF4vefP",
        "colab_type": "code",
        "colab": {}
      },
      "source": [
        "Xtest = test"
      ],
      "execution_count": null,
      "outputs": []
    },
    {
      "cell_type": "code",
      "metadata": {
        "id": "llrByPl3vjAV",
        "colab_type": "code",
        "colab": {
          "base_uri": "https://localhost:8080/",
          "height": 184
        },
        "outputId": "08c4d088-9100-47a9-cec3-51f477b2900f"
      },
      "source": [
        "from xgboost import XGBRegressor\n",
        "from sklearn.model_selection import KFold\n",
        "\n",
        "errxgb = []\n",
        "y_pred_totxgb = []\n",
        "\n",
        "fold = KFold(n_splits=10, shuffle=True, random_state=42)\n",
        "\n",
        "for train_index, test_index in fold.split(X):\n",
        "    X_train, X_test = X.loc[train_index], X.loc[test_index]\n",
        "    y_train, y_test = y[train_index], y[test_index]\n",
        "    \n",
        "    #xgb = XGBRegressor(random_state=101)\n",
        "    xgb=XGBRegressor(random_state=101, n_jobs=-1, objective=\"reg:squarederror\", max_depth=6, n_estimators=100)\n",
        "    xgb.fit(X_train, y_train)\n",
        "\n",
        "    y_pred_xgb = xgb.predict(X_test)\n",
        "    print(\"RMSLE: \", sqrt(mean_squared_log_error(np.exp(y_test), np.exp(y_pred_xgb))))\n",
        "\n",
        "    errxgb.append(sqrt(mean_squared_log_error(np.exp(y_test), np.exp(y_pred_xgb))))\n",
        "    p = xgb.predict(Xtest)\n",
        "    y_pred_totxgb.append(p)"
      ],
      "execution_count": null,
      "outputs": [
        {
          "output_type": "stream",
          "text": [
            "RMSLE:  0.6826770612716584\n",
            "RMSLE:  0.6911256827604669\n",
            "RMSLE:  0.6563224869397651\n",
            "RMSLE:  0.7262156429357038\n",
            "RMSLE:  0.7424623173797228\n",
            "RMSLE:  0.6560205544514041\n",
            "RMSLE:  0.6725028194895626\n",
            "RMSLE:  0.7106527443811484\n",
            "RMSLE:  0.6463168330460839\n",
            "RMSLE:  0.6007286945564182\n"
          ],
          "name": "stdout"
        }
      ]
    },
    {
      "cell_type": "code",
      "metadata": {
        "id": "8ocVuLrlvlp_",
        "colab_type": "code",
        "colab": {
          "base_uri": "https://localhost:8080/",
          "height": 33
        },
        "outputId": "d485629d-2eef-4add-8ca6-477ccc7b0073"
      },
      "source": [
        "np.mean(errxgb,0)"
      ],
      "execution_count": null,
      "outputs": [
        {
          "output_type": "execute_result",
          "data": {
            "text/plain": [
              "0.6785024837211934"
            ]
          },
          "metadata": {
            "tags": []
          },
          "execution_count": 256
        }
      ]
    },
    {
      "cell_type": "code",
      "metadata": {
        "id": "dNBh3lzrvsyk",
        "colab_type": "code",
        "colab": {}
      },
      "source": [
        "final1 = np.exp(np.mean(y_pred_totxgb,0))"
      ],
      "execution_count": null,
      "outputs": []
    },
    {
      "cell_type": "code",
      "metadata": {
        "id": "w2xPrlWRvuxU",
        "colab_type": "code",
        "colab": {}
      },
      "source": [
        "sub['Selling_Price'] = final1"
      ],
      "execution_count": null,
      "outputs": []
    },
    {
      "cell_type": "code",
      "metadata": {
        "id": "BKzlHXp-vwbJ",
        "colab_type": "code",
        "colab": {
          "base_uri": "https://localhost:8080/",
          "height": 190
        },
        "outputId": "e543c257-7a87-4fe2-bc4c-f20bf06f1e76"
      },
      "source": [
        "sub.head()"
      ],
      "execution_count": null,
      "outputs": [
        {
          "output_type": "execute_result",
          "data": {
            "text/html": [
              "<div>\n",
              "<style scoped>\n",
              "    .dataframe tbody tr th:only-of-type {\n",
              "        vertical-align: middle;\n",
              "    }\n",
              "\n",
              "    .dataframe tbody tr th {\n",
              "        vertical-align: top;\n",
              "    }\n",
              "\n",
              "    .dataframe thead th {\n",
              "        text-align: right;\n",
              "    }\n",
              "</style>\n",
              "<table border=\"1\" class=\"dataframe\">\n",
              "  <thead>\n",
              "    <tr style=\"text-align: right;\">\n",
              "      <th></th>\n",
              "      <th>Selling_Price</th>\n",
              "    </tr>\n",
              "  </thead>\n",
              "  <tbody>\n",
              "    <tr>\n",
              "      <th>0</th>\n",
              "      <td>2036.922729</td>\n",
              "    </tr>\n",
              "    <tr>\n",
              "      <th>1</th>\n",
              "      <td>460.247498</td>\n",
              "    </tr>\n",
              "    <tr>\n",
              "      <th>2</th>\n",
              "      <td>812.690857</td>\n",
              "    </tr>\n",
              "    <tr>\n",
              "      <th>3</th>\n",
              "      <td>344.432434</td>\n",
              "    </tr>\n",
              "    <tr>\n",
              "      <th>4</th>\n",
              "      <td>763.906494</td>\n",
              "    </tr>\n",
              "  </tbody>\n",
              "</table>\n",
              "</div>"
            ],
            "text/plain": [
              "   Selling_Price\n",
              "0    2036.922729\n",
              "1     460.247498\n",
              "2     812.690857\n",
              "3     344.432434\n",
              "4     763.906494"
            ]
          },
          "metadata": {
            "tags": []
          },
          "execution_count": 289
        }
      ]
    },
    {
      "cell_type": "code",
      "metadata": {
        "id": "VBUcI0qRv1Xw",
        "colab_type": "code",
        "colab": {}
      },
      "source": [
        "sub.to_excel('ff.xlsx', index=False)"
      ],
      "execution_count": null,
      "outputs": []
    },
    {
      "cell_type": "code",
      "metadata": {
        "id": "Z1N34sDry_Io",
        "colab_type": "code",
        "colab": {}
      },
      "source": [
        "from google.colab import files\n",
        "files.download('ff.xlsx')"
      ],
      "execution_count": null,
      "outputs": []
    },
    {
      "cell_type": "markdown",
      "metadata": {
        "id": "DZXBsNImKn7T",
        "colab_type": "text"
      },
      "source": [
        "# f2"
      ]
    },
    {
      "cell_type": "code",
      "metadata": {
        "id": "87q4JgKlNzN9",
        "colab_type": "code",
        "colab": {
          "base_uri": "https://localhost:8080/",
          "height": 436
        },
        "outputId": "f0e6ab7f-dd6d-4213-8029-cd005eaaa875"
      },
      "source": [
        "from sklearn.ensemble import GradientBoostingRegressor\n",
        "gb = GradientBoostingRegressor(verbose=1, learning_rate=0.6, n_estimators=500, random_state=42, subsample=0.8)\n",
        "gb.fit(X_train, y_train)\n",
        "y_pred = gb.predict(X_cv)\n",
        "print('RMSLE', sqrt(mean_squared_log_error(np.exp(y_cv), np.exp(y_pred))))"
      ],
      "execution_count": null,
      "outputs": [
        {
          "output_type": "stream",
          "text": [
            "      Iter       Train Loss      OOB Improve   Remaining Time \n",
            "         1           0.7866           0.5714            4.29s\n",
            "         2           0.6565           0.1222            3.38s\n",
            "         3           0.5523           0.0608            2.84s\n",
            "         4           0.5607           0.0180            2.57s\n",
            "         5           0.5128           0.0396            2.41s\n",
            "         6           0.4894           0.0060            2.31s\n",
            "         7           0.4786           0.0006            2.30s\n",
            "         8           0.4650           0.0073            2.30s\n",
            "         9           0.4686           0.0047            2.30s\n",
            "        10           0.4632           0.0007            2.30s\n",
            "        20           0.3868          -0.0036            1.93s\n",
            "        30           0.3254          -0.0042            1.78s\n",
            "        40           0.2782          -0.0065            1.68s\n",
            "        50           0.2510          -0.0026            1.61s\n",
            "        60           0.2233          -0.0063            1.57s\n",
            "        70           0.2049          -0.0032            1.52s\n",
            "        80           0.1947          -0.0014            1.47s\n",
            "        90           0.1775          -0.0029            1.42s\n",
            "       100           0.1595          -0.0020            1.38s\n",
            "       200           0.0787          -0.0008            1.01s\n",
            "       300           0.0405          -0.0006            0.67s\n",
            "       400           0.0233          -0.0005            0.33s\n",
            "       500           0.0149          -0.0003            0.00s\n",
            "RMSLE 0.2922091482936838\n"
          ],
          "name": "stdout"
        }
      ]
    },
    {
      "cell_type": "code",
      "metadata": {
        "id": "ihh4TlD5NzTR",
        "colab_type": "code",
        "colab": {
          "base_uri": "https://localhost:8080/",
          "height": 728
        },
        "outputId": "c708bea5-d6fc-42ba-eb56-64dde130d3c1"
      },
      "source": [
        "import seaborn as sns\n",
        "feature_imp = pd.DataFrame(sorted(zip(gb.feature_importances_, X.columns), reverse=True)[:60], columns=['Value','Feature'])\n",
        "plt.figure(figsize=(12,10))\n",
        "sns.barplot(x=\"Value\", y=\"Feature\", data=feature_imp.sort_values(by=\"Value\", ascending=False))\n",
        "plt.title('Gradient Boosting Features')\n",
        "plt.tight_layout()\n",
        "plt.show()"
      ],
      "execution_count": null,
      "outputs": [
        {
          "output_type": "display_data",
          "data": {
            "image/png": "[encoded data removed]",
            "text/plain": [
              "<Figure size 864x720 with 1 Axes>"
            ]
          },
          "metadata": {
            "tags": [],
            "needs_background": "light"
          }
        }
      ]
    },
    {
      "cell_type": "code",
      "metadata": {
        "id": "ZOUCB2VxNzSJ",
        "colab_type": "code",
        "colab": {
          "base_uri": "https://localhost:8080/",
          "height": 184
        },
        "outputId": "9cd624b7-affe-47cd-dc56-c1a086df14bb"
      },
      "source": [
        "from sklearn.model_selection import KFold\n",
        "\n",
        "errgb = []\n",
        "y_pred_totgb = []\n",
        "\n",
        "fold = KFold(n_splits=10, shuffle=True, random_state=42)#42\n",
        "\n",
        "for train_index, test_index in fold.split(X):\n",
        "    X_train, X_test = X.loc[train_index], X.loc[test_index]\n",
        "    y_train, y_test = y[train_index], y[test_index]\n",
        "\n",
        "    gb = GradientBoostingRegressor(learning_rate=0.1, n_estimators=1000, random_state=2015, subsample=0.9) #42        \n",
        "    #gb = GradientBoostingRegressor(learning_rate=0.5, n_estimators=1000, random_state=42, subsample=0.8)\n",
        "    #gb = GradientBoostingRegressor(learning_rate=0.1, n_estimators=1000, random_state=42, subsample=0.8)\n",
        "    gb.fit(X_train, y_train)\n",
        "    y_pred = gb.predict(X_test)\n",
        "\n",
        "    print('RMSE', sqrt(mean_squared_log_error(np.exp(y_test), np.exp(y_pred))))\n",
        "\n",
        "    errgb.append(sqrt(mean_squared_log_error(np.exp(y_test), np.exp(y_pred))))\n",
        "    p = gb.predict(Xtest)\n",
        "    y_pred_totgb.append(p)"
      ],
      "execution_count": null,
      "outputs": [
        {
          "output_type": "stream",
          "text": [
            "RMSE 0.6835021628362353\n",
            "RMSE 0.6494507256015807\n",
            "RMSE 0.6913450668871866\n",
            "RMSE 0.7596155282385544\n",
            "RMSE 0.7181877833862277\n",
            "RMSE 0.6430768341201869\n",
            "RMSE 0.6906445646005474\n",
            "RMSE 0.7272071347739266\n",
            "RMSE 0.7063669699074995\n",
            "RMSE 0.6244886123313579\n"
          ],
          "name": "stdout"
        }
      ]
    },
    {
      "cell_type": "code",
      "metadata": {
        "id": "iGsNCHJzNzMH",
        "colab_type": "code",
        "colab": {
          "base_uri": "https://localhost:8080/",
          "height": 33
        },
        "outputId": "d21059f9-b84a-43dc-f1ad-523702842cb2"
      },
      "source": [
        "np.mean(errgb)"
      ],
      "execution_count": null,
      "outputs": [
        {
          "output_type": "execute_result",
          "data": {
            "text/plain": [
              "0.6893885382683302"
            ]
          },
          "metadata": {
            "tags": []
          },
          "execution_count": 358
        }
      ]
    },
    {
      "cell_type": "code",
      "metadata": {
        "colab_type": "code",
        "id": "jDK1cL6pOwBf",
        "colab": {}
      },
      "source": [
        "final2 = np.exp(np.mean(y_pred_totgb,0))"
      ],
      "execution_count": null,
      "outputs": []
    },
    {
      "cell_type": "code",
      "metadata": {
        "colab_type": "code",
        "id": "7XmiuC4jOwB2",
        "colab": {}
      },
      "source": [
        "sub['Selling_Price'] = final2"
      ],
      "execution_count": null,
      "outputs": []
    },
    {
      "cell_type": "code",
      "metadata": {
        "colab_type": "code",
        "id": "ZNl19nCjOwCD",
        "colab": {
          "base_uri": "https://localhost:8080/",
          "height": 190
        },
        "outputId": "e94473c4-5add-4574-9246-4bb19d31114d"
      },
      "source": [
        "sub.head()"
      ],
      "execution_count": null,
      "outputs": [
        {
          "output_type": "execute_result",
          "data": {
            "text/html": [
              "<div>\n",
              "<style scoped>\n",
              "    .dataframe tbody tr th:only-of-type {\n",
              "        vertical-align: middle;\n",
              "    }\n",
              "\n",
              "    .dataframe tbody tr th {\n",
              "        vertical-align: top;\n",
              "    }\n",
              "\n",
              "    .dataframe thead th {\n",
              "        text-align: right;\n",
              "    }\n",
              "</style>\n",
              "<table border=\"1\" class=\"dataframe\">\n",
              "  <thead>\n",
              "    <tr style=\"text-align: right;\">\n",
              "      <th></th>\n",
              "      <th>Selling_Price</th>\n",
              "    </tr>\n",
              "  </thead>\n",
              "  <tbody>\n",
              "    <tr>\n",
              "      <th>0</th>\n",
              "      <td>1843.743730</td>\n",
              "    </tr>\n",
              "    <tr>\n",
              "      <th>1</th>\n",
              "      <td>514.051477</td>\n",
              "    </tr>\n",
              "    <tr>\n",
              "      <th>2</th>\n",
              "      <td>810.171754</td>\n",
              "    </tr>\n",
              "    <tr>\n",
              "      <th>3</th>\n",
              "      <td>346.431216</td>\n",
              "    </tr>\n",
              "    <tr>\n",
              "      <th>4</th>\n",
              "      <td>708.433156</td>\n",
              "    </tr>\n",
              "  </tbody>\n",
              "</table>\n",
              "</div>"
            ],
            "text/plain": [
              "   Selling_Price\n",
              "0    1843.743730\n",
              "1     514.051477\n",
              "2     810.171754\n",
              "3     346.431216\n",
              "4     708.433156"
            ]
          },
          "metadata": {
            "tags": []
          },
          "execution_count": 292
        }
      ]
    },
    {
      "cell_type": "code",
      "metadata": {
        "colab_type": "code",
        "id": "DAlx5Ui7OwCP",
        "colab": {}
      },
      "source": [
        "sub.to_excel('avg_gb.xlsx', index=False)"
      ],
      "execution_count": null,
      "outputs": []
    },
    {
      "cell_type": "code",
      "metadata": {
        "colab_type": "code",
        "id": "tvfpdZZnOwCc",
        "colab": {}
      },
      "source": [
        "from google.colab import files\n",
        "files.download('avg_gb.xlsx')"
      ],
      "execution_count": null,
      "outputs": []
    },
    {
      "cell_type": "markdown",
      "metadata": {
        "id": "I88rt8s9Lhpv",
        "colab_type": "text"
      },
      "source": [
        "# f3"
      ]
    },
    {
      "cell_type": "code",
      "metadata": {
        "id": "tqj_sU8AQ3ih",
        "colab_type": "code",
        "colab": {
          "base_uri": "https://localhost:8080/",
          "height": 285
        },
        "outputId": "cca13b6c-dd87-4f1c-fd25-b3d7f5c84123"
      },
      "source": [
        "import lightgbm as lgb\n",
        "train_data = lgb.Dataset(X_train, label=y_train)\n",
        "test_data = lgb.Dataset(X_cv, label=y_cv)\n",
        "\n",
        "param = {'objective': 'regression',\n",
        "         'boosting': 'gbdt',  \n",
        "         'metric': 'l2_root',\n",
        "         'learning_rate': 0.01, \n",
        "         'num_iterations': 1000,\n",
        "         'num_leaves': 30,\n",
        "         'max_depth': -1,\n",
        "         'min_data_in_leaf': 4,\n",
        "         'bagging_fraction': 0.8,\n",
        "         'bagging_freq': 1,\n",
        "         'feature_fraction': 0.8,\n",
        "         }\n",
        "\n",
        "lgbm = lgb.train(params=param,\n",
        "                 verbose_eval=100,\n",
        "                 early_stopping_rounds=50,\n",
        "                 train_set=train_data,\n",
        "                 valid_sets=[test_data])\n",
        "\n",
        "y_pred_lgbm = lgbm.predict(X_cv)\n",
        "print('RMSLE:', sqrt(mean_squared_log_error(np.exp(y_cv), np.exp(y_pred_lgbm))))"
      ],
      "execution_count": null,
      "outputs": [
        {
          "output_type": "stream",
          "text": [
            "/usr/local/lib/python3.6/dist-packages/lightgbm/engine.py:118: UserWarning: Found `num_iterations` in params. Will use it instead of argument\n",
            "  warnings.warn(\"Found `{}` in params. Will use it instead of argument\".format(alias))\n"
          ],
          "name": "stderr"
        },
        {
          "output_type": "stream",
          "text": [
            "Training until validation scores don't improve for 50 rounds.\n",
            "[100]\tvalid_0's rmse: 0.76299\n",
            "[200]\tvalid_0's rmse: 0.634739\n",
            "[300]\tvalid_0's rmse: 0.575724\n",
            "[400]\tvalid_0's rmse: 0.539052\n",
            "[500]\tvalid_0's rmse: 0.510173\n",
            "[600]\tvalid_0's rmse: 0.488031\n",
            "[700]\tvalid_0's rmse: 0.468116\n",
            "[800]\tvalid_0's rmse: 0.45033\n",
            "[900]\tvalid_0's rmse: 0.432741\n",
            "[1000]\tvalid_0's rmse: 0.419495\n",
            "Did not meet early stopping. Best iteration is:\n",
            "[1000]\tvalid_0's rmse: 0.419495\n",
            "RMSLE: 0.4186614054334283\n"
          ],
          "name": "stdout"
        }
      ]
    },
    {
      "cell_type": "code",
      "metadata": {
        "id": "0xRU-0V2Q9OT",
        "colab_type": "code",
        "colab": {
          "base_uri": "https://localhost:8080/",
          "height": 728
        },
        "outputId": "21453357-8ca2-462f-98ea-6e703c6bcdb7"
      },
      "source": [
        "import seaborn as sns\n",
        "feature_imp = pd.DataFrame(sorted(zip(lgbm.feature_importance(), X.columns), reverse=True)[:50], \n",
        "                           columns=['Value','Feature'])\n",
        "plt.figure(figsize=(12, 10))\n",
        "sns.barplot(x=\"Value\", y=\"Feature\", data=feature_imp.sort_values(by=\"Value\", ascending=False))\n",
        "plt.title('LightGBM Features')\n",
        "plt.tight_layout()\n",
        "plt.show()"
      ],
      "execution_count": null,
      "outputs": [
        {
          "output_type": "display_data",
          "data": {
            "image/png": "[encoded data removed]",
            "text/plain": [
              "<Figure size 864x720 with 1 Axes>"
            ]
          },
          "metadata": {
            "tags": [],
            "needs_background": "light"
          }
        }
      ]
    },
    {
      "cell_type": "code",
      "metadata": {
        "id": "gGnoHhoBRGwk",
        "colab_type": "code",
        "colab": {
          "base_uri": "https://localhost:8080/",
          "height": 520
        },
        "outputId": "3852932c-268f-4b33-f9eb-9d7438b6f1ec"
      },
      "source": [
        "from sklearn.model_selection import KFold\n",
        "from lightgbm import LGBMRegressor\n",
        "\n",
        "errlgb = []\n",
        "y_pred_totlgb = []\n",
        "\n",
        "fold = KFold(n_splits=10, shuffle=True, random_state=169)\n",
        "\n",
        "for train_index, test_index in fold.split(X):\n",
        "    X_train, X_test = X.loc[train_index], X.loc[test_index]\n",
        "    y_train, y_test = y[train_index], y[test_index]\n",
        "\n",
        "    lgbm = LGBMRegressor(**param)\n",
        "    #lgbm = LGBMRegressor(boosting_type='gbdt', num_leaves=100, max_depth=31, learning_rate=0.1, n_estimators=4000, min_child_samples=20, subsample=0.90,bagging_fraction=0.9)\n",
        "    lgbm.fit(X_train, y_train, eval_set=[(X_test, y_test)], verbose=0, early_stopping_rounds=200)\n",
        "\n",
        "    y_pred_lgbm = lgbm.predict(X_test)\n",
        "    print(\"RMSLE LGBM: \", sqrt(mean_squared_log_error(np.exp(y_test),np.exp(y_pred_lgbm))))\n",
        "\n",
        "    errlgb.append(sqrt(mean_squared_log_error(np.exp(y_test),np.exp(y_pred_lgbm))))\n",
        "    p = lgbm.predict(Xtest)\n",
        "    y_pred_totlgb.append(p)"
      ],
      "execution_count": null,
      "outputs": [
        {
          "output_type": "stream",
          "text": [
            "/usr/local/lib/python3.6/dist-packages/lightgbm/engine.py:118: UserWarning: Found `num_iterations` in params. Will use it instead of argument\n",
            "  warnings.warn(\"Found `{}` in params. Will use it instead of argument\".format(alias))\n"
          ],
          "name": "stderr"
        },
        {
          "output_type": "stream",
          "text": [
            "RMSLE LGBM:  0.6331408306768548\n"
          ],
          "name": "stdout"
        },
        {
          "output_type": "stream",
          "text": [
            "/usr/local/lib/python3.6/dist-packages/lightgbm/engine.py:118: UserWarning: Found `num_iterations` in params. Will use it instead of argument\n",
            "  warnings.warn(\"Found `{}` in params. Will use it instead of argument\".format(alias))\n"
          ],
          "name": "stderr"
        },
        {
          "output_type": "stream",
          "text": [
            "RMSLE LGBM:  0.6550960715415013\n"
          ],
          "name": "stdout"
        },
        {
          "output_type": "stream",
          "text": [
            "/usr/local/lib/python3.6/dist-packages/lightgbm/engine.py:118: UserWarning: Found `num_iterations` in params. Will use it instead of argument\n",
            "  warnings.warn(\"Found `{}` in params. Will use it instead of argument\".format(alias))\n"
          ],
          "name": "stderr"
        },
        {
          "output_type": "stream",
          "text": [
            "RMSLE LGBM:  0.7110494469338143\n"
          ],
          "name": "stdout"
        },
        {
          "output_type": "stream",
          "text": [
            "/usr/local/lib/python3.6/dist-packages/lightgbm/engine.py:118: UserWarning: Found `num_iterations` in params. Will use it instead of argument\n",
            "  warnings.warn(\"Found `{}` in params. Will use it instead of argument\".format(alias))\n"
          ],
          "name": "stderr"
        },
        {
          "output_type": "stream",
          "text": [
            "RMSLE LGBM:  0.5835019590458035\n"
          ],
          "name": "stdout"
        },
        {
          "output_type": "stream",
          "text": [
            "/usr/local/lib/python3.6/dist-packages/lightgbm/engine.py:118: UserWarning: Found `num_iterations` in params. Will use it instead of argument\n",
            "  warnings.warn(\"Found `{}` in params. Will use it instead of argument\".format(alias))\n"
          ],
          "name": "stderr"
        },
        {
          "output_type": "stream",
          "text": [
            "RMSLE LGBM:  0.7050042785144753\n"
          ],
          "name": "stdout"
        },
        {
          "output_type": "stream",
          "text": [
            "/usr/local/lib/python3.6/dist-packages/lightgbm/engine.py:118: UserWarning: Found `num_iterations` in params. Will use it instead of argument\n",
            "  warnings.warn(\"Found `{}` in params. Will use it instead of argument\".format(alias))\n"
          ],
          "name": "stderr"
        },
        {
          "output_type": "stream",
          "text": [
            "RMSLE LGBM:  0.6758756692144549\n"
          ],
          "name": "stdout"
        },
        {
          "output_type": "stream",
          "text": [
            "/usr/local/lib/python3.6/dist-packages/lightgbm/engine.py:118: UserWarning: Found `num_iterations` in params. Will use it instead of argument\n",
            "  warnings.warn(\"Found `{}` in params. Will use it instead of argument\".format(alias))\n"
          ],
          "name": "stderr"
        },
        {
          "output_type": "stream",
          "text": [
            "RMSLE LGBM:  0.6405594419161209\n"
          ],
          "name": "stdout"
        },
        {
          "output_type": "stream",
          "text": [
            "/usr/local/lib/python3.6/dist-packages/lightgbm/engine.py:118: UserWarning: Found `num_iterations` in params. Will use it instead of argument\n",
            "  warnings.warn(\"Found `{}` in params. Will use it instead of argument\".format(alias))\n"
          ],
          "name": "stderr"
        },
        {
          "output_type": "stream",
          "text": [
            "RMSLE LGBM:  0.5798988389703911\n"
          ],
          "name": "stdout"
        },
        {
          "output_type": "stream",
          "text": [
            "/usr/local/lib/python3.6/dist-packages/lightgbm/engine.py:118: UserWarning: Found `num_iterations` in params. Will use it instead of argument\n",
            "  warnings.warn(\"Found `{}` in params. Will use it instead of argument\".format(alias))\n"
          ],
          "name": "stderr"
        },
        {
          "output_type": "stream",
          "text": [
            "RMSLE LGBM:  0.7193689930195445\n"
          ],
          "name": "stdout"
        },
        {
          "output_type": "stream",
          "text": [
            "/usr/local/lib/python3.6/dist-packages/lightgbm/engine.py:118: UserWarning: Found `num_iterations` in params. Will use it instead of argument\n",
            "  warnings.warn(\"Found `{}` in params. Will use it instead of argument\".format(alias))\n"
          ],
          "name": "stderr"
        },
        {
          "output_type": "stream",
          "text": [
            "RMSLE LGBM:  0.7050703942651202\n"
          ],
          "name": "stdout"
        }
      ]
    },
    {
      "cell_type": "code",
      "metadata": {
        "colab_type": "code",
        "id": "WFUAw8-kRjV_",
        "colab": {
          "base_uri": "https://localhost:8080/",
          "height": 33
        },
        "outputId": "6e18fa78-b6ab-405c-951e-03bec0d024f5"
      },
      "source": [
        "np.mean(errlgb)"
      ],
      "execution_count": null,
      "outputs": [
        {
          "output_type": "execute_result",
          "data": {
            "text/plain": [
              "0.660856592409808"
            ]
          },
          "metadata": {
            "tags": []
          },
          "execution_count": 267
        }
      ]
    },
    {
      "cell_type": "code",
      "metadata": {
        "colab_type": "code",
        "id": "wcJSY3jgRjWb",
        "colab": {}
      },
      "source": [
        "final3 = np.exp(np.mean(y_pred_totlgb,0))"
      ],
      "execution_count": null,
      "outputs": []
    },
    {
      "cell_type": "code",
      "metadata": {
        "colab_type": "code",
        "id": "znNNccfNRjWn",
        "colab": {}
      },
      "source": [
        "sub['Selling_Price'] = final3"
      ],
      "execution_count": null,
      "outputs": []
    },
    {
      "cell_type": "code",
      "metadata": {
        "colab_type": "code",
        "id": "KojVrFf4RjW2",
        "colab": {
          "base_uri": "https://localhost:8080/",
          "height": 190
        },
        "outputId": "eb75ce5a-c86a-4043-ca22-4efe12a2e012"
      },
      "source": [
        "sub.head()"
      ],
      "execution_count": null,
      "outputs": [
        {
          "output_type": "execute_result",
          "data": {
            "text/html": [
              "<div>\n",
              "<style scoped>\n",
              "    .dataframe tbody tr th:only-of-type {\n",
              "        vertical-align: middle;\n",
              "    }\n",
              "\n",
              "    .dataframe tbody tr th {\n",
              "        vertical-align: top;\n",
              "    }\n",
              "\n",
              "    .dataframe thead th {\n",
              "        text-align: right;\n",
              "    }\n",
              "</style>\n",
              "<table border=\"1\" class=\"dataframe\">\n",
              "  <thead>\n",
              "    <tr style=\"text-align: right;\">\n",
              "      <th></th>\n",
              "      <th>Selling_Price</th>\n",
              "    </tr>\n",
              "  </thead>\n",
              "  <tbody>\n",
              "    <tr>\n",
              "      <th>0</th>\n",
              "      <td>2133.547830</td>\n",
              "    </tr>\n",
              "    <tr>\n",
              "      <th>1</th>\n",
              "      <td>454.866788</td>\n",
              "    </tr>\n",
              "    <tr>\n",
              "      <th>2</th>\n",
              "      <td>778.161383</td>\n",
              "    </tr>\n",
              "    <tr>\n",
              "      <th>3</th>\n",
              "      <td>348.493260</td>\n",
              "    </tr>\n",
              "    <tr>\n",
              "      <th>4</th>\n",
              "      <td>746.937603</td>\n",
              "    </tr>\n",
              "  </tbody>\n",
              "</table>\n",
              "</div>"
            ],
            "text/plain": [
              "   Selling_Price\n",
              "0    2133.547830\n",
              "1     454.866788\n",
              "2     778.161383\n",
              "3     348.493260\n",
              "4     746.937603"
            ]
          },
          "metadata": {
            "tags": []
          },
          "execution_count": 303
        }
      ]
    },
    {
      "cell_type": "code",
      "metadata": {
        "colab_type": "code",
        "id": "h-aUXdZJRjXG",
        "colab": {}
      },
      "source": [
        "sub.to_excel('lgbb.xlsx', index=False)"
      ],
      "execution_count": null,
      "outputs": []
    },
    {
      "cell_type": "code",
      "metadata": {
        "colab_type": "code",
        "id": "jrnG0Xa0RjXR",
        "colab": {}
      },
      "source": [
        "from google.colab import files\n",
        "files.download('lgbb.xlsx')"
      ],
      "execution_count": null,
      "outputs": []
    },
    {
      "cell_type": "markdown",
      "metadata": {
        "id": "0EAEV4SRLy_a",
        "colab_type": "text"
      },
      "source": [
        "#f4"
      ]
    },
    {
      "cell_type": "code",
      "metadata": {
        "id": "AWT3-9d3Taq7",
        "colab_type": "code",
        "colab": {
          "base_uri": "https://localhost:8080/",
          "height": 252
        },
        "outputId": "2be08922-baa0-4b60-bb67-a2cf047eac1f"
      },
      "source": [
        "!pip install catboost"
      ],
      "execution_count": null,
      "outputs": [
        {
          "output_type": "stream",
          "text": [
            "Requirement already satisfied: catboost in /usr/local/lib/python3.6/dist-packages (0.23.2)\n",
            "Requirement already satisfied: graphviz in /usr/local/lib/python3.6/dist-packages (from catboost) (0.10.1)\n",
            "Requirement already satisfied: plotly in /usr/local/lib/python3.6/dist-packages (from catboost) (4.4.1)\n",
            "Requirement already satisfied: six in /usr/local/lib/python3.6/dist-packages (from catboost) (1.12.0)\n",
            "Requirement already satisfied: matplotlib in /usr/local/lib/python3.6/dist-packages (from catboost) (3.2.1)\n",
            "Requirement already satisfied: pandas>=0.24.0 in /usr/local/lib/python3.6/dist-packages (from catboost) (1.0.4)\n",
            "Requirement already satisfied: scipy in /usr/local/lib/python3.6/dist-packages (from catboost) (1.4.1)\n",
            "Requirement already satisfied: numpy>=1.16.0 in /usr/local/lib/python3.6/dist-packages (from catboost) (1.18.5)\n",
            "Requirement already satisfied: retrying>=1.3.3 in /usr/local/lib/python3.6/dist-packages (from plotly->catboost) (1.3.3)\n",
            "Requirement already satisfied: pyparsing!=2.0.4,!=2.1.2,!=2.1.6,>=2.0.1 in /usr/local/lib/python3.6/dist-packages (from matplotlib->catboost) (2.4.7)\n",
            "Requirement already satisfied: kiwisolver>=1.0.1 in /usr/local/lib/python3.6/dist-packages (from matplotlib->catboost) (1.2.0)\n",
            "Requirement already satisfied: python-dateutil>=2.1 in /usr/local/lib/python3.6/dist-packages (from matplotlib->catboost) (2.8.1)\n",
            "Requirement already satisfied: cycler>=0.10 in /usr/local/lib/python3.6/dist-packages (from matplotlib->catboost) (0.10.0)\n",
            "Requirement already satisfied: pytz>=2017.2 in /usr/local/lib/python3.6/dist-packages (from pandas>=0.24.0->catboost) (2018.9)\n"
          ],
          "name": "stdout"
        }
      ]
    },
    {
      "cell_type": "code",
      "metadata": {
        "id": "oeiCcJWTA5As",
        "colab_type": "code",
        "colab": {
          "base_uri": "https://localhost:8080/",
          "height": 218
        },
        "outputId": "821eb6f5-530c-4b33-e508-6e3ecb4fbff8"
      },
      "source": [
        "import catboost\n",
        "cat = CatBoostRegressor(verbose=100, learning_rate=0.1, n_estimators=1000, random_state=42, subsample=0.8)\n",
        "cat.fit(X_train, y_train)\n",
        "y_pred = cat.predict(X_cv)\n",
        "print('RMSLE', sqrt(mean_squared_log_error(np.exp(y_cv), np.exp(y_pred))))"
      ],
      "execution_count": null,
      "outputs": [
        {
          "output_type": "stream",
          "text": [
            "0:\tlearn: 1.1058573\ttotal: 2.65ms\tremaining: 2.64s\n",
            "100:\tlearn: 0.5820592\ttotal: 191ms\tremaining: 1.7s\n",
            "200:\tlearn: 0.4993503\ttotal: 377ms\tremaining: 1.5s\n",
            "300:\tlearn: 0.4374224\ttotal: 568ms\tremaining: 1.32s\n",
            "400:\tlearn: 0.3866166\ttotal: 763ms\tremaining: 1.14s\n",
            "500:\tlearn: 0.3506606\ttotal: 952ms\tremaining: 948ms\n",
            "600:\tlearn: 0.3153745\ttotal: 1.14s\tremaining: 757ms\n",
            "700:\tlearn: 0.2867077\ttotal: 1.33s\tremaining: 566ms\n",
            "800:\tlearn: 0.2599898\ttotal: 1.51s\tremaining: 376ms\n",
            "900:\tlearn: 0.2382255\ttotal: 1.71s\tremaining: 188ms\n",
            "999:\tlearn: 0.2186069\ttotal: 1.89s\tremaining: 0us\n",
            "RMSLE 0.31194556306846727\n"
          ],
          "name": "stdout"
        }
      ]
    },
    {
      "cell_type": "code",
      "metadata": {
        "id": "TK2-PniGA66S",
        "colab_type": "code",
        "colab": {
          "base_uri": "https://localhost:8080/",
          "height": 728
        },
        "outputId": "7e3e66b9-0544-4251-9747-1b615549bd9b"
      },
      "source": [
        "import seaborn as sns\n",
        "feature_imp = pd.DataFrame(sorted(zip(cat.feature_importances_, X.columns), reverse=True)[:60], columns=['Value','Feature'])\n",
        "plt.figure(figsize=(12,10))\n",
        "sns.barplot(x=\"Value\", y=\"Feature\", data=feature_imp.sort_values(by=\"Value\", ascending=False))\n",
        "plt.title('Gradient Boosting Features')\n",
        "plt.tight_layout()\n",
        "plt.show()"
      ],
      "execution_count": null,
      "outputs": [
        {
          "output_type": "display_data",
          "data": {
            "image/png": "[encoded data removed]",
            "text/plain": [
              "<Figure size 864x720 with 1 Axes>"
            ]
          },
          "metadata": {
            "tags": [],
            "needs_background": "light"
          }
        }
      ]
    },
    {
      "cell_type": "code",
      "metadata": {
        "id": "fZBeei8dGSqV",
        "colab_type": "code",
        "colab": {
          "base_uri": "https://localhost:8080/",
          "height": 1000
        },
        "outputId": "0d620ce4-9f70-45a9-f6c8-477205a6c116"
      },
      "source": [
        "from sklearn.model_selection import KFold\n",
        "\n",
        "errcat = []\n",
        "y_pred_totcat = []\n",
        "\n",
        "fold = KFold(n_splits=10, shuffle=True, random_state=101)#42\n",
        "\n",
        "for train_index, test_index in fold.split(X):\n",
        "    X_train, X_test = X.loc[train_index], X.loc[test_index]\n",
        "    y_train, y_test = y[train_index], y[test_index]\n",
        "\n",
        "    #cat = CatBoostRegressor(verbose=500, learning_rate=0.1, n_estimators=500, random_state=101, subsample=0.9)\n",
        "    cat= CatBoostRegressor(iterations=None,learning_rate=None,depth=None,l2_leaf_reg=None,model_size_reg=None,rsm=None,loss_function='RMSE',border_count=None,feature_border_type=None,per_float_feature_quantization=None,input_borders=None,\n",
        "                           output_borders=None,fold_permutation_block=None,od_pval=None,od_wait=None,od_type=None,nan_mode=None,counter_calc_method=None,leaf_estimation_iterations=None,\n",
        "                           leaf_estimation_method=None,thread_count=None,random_seed=None,use_best_model=None,best_model_min_trees=None,verbose=None,silent=None,logging_level=None,metric_period=None,ctr_leaf_count_limit=None,\n",
        "                           store_all_simple_ctr=None,max_ctr_complexity=None,has_time=None,allow_const_label=None,one_hot_max_size=None,random_strength=None,name=None,ignored_features=None,train_dir=None,custom_metric=None,\n",
        "                           eval_metric=None,bagging_temperature=None,save_snapshot=None,snapshot_file=None,snapshot_interval=None,fold_len_multiplier=None,used_ram_limit=None,gpu_ram_part=None,pinned_memory_size=None,allow_writing_files=None,\n",
        "                           final_ctr_computation_mode=None,approx_on_full_history=None,boosting_type=None,simple_ctr=None,combinations_ctr=None,per_feature_ctr=None,ctr_target_border_count=None,task_type=None,device_config=None,devices=None,\n",
        "                           bootstrap_type=None,subsample=None,sampling_unit=None,dev_score_calc_obj_block_size=None,max_depth=None,n_estimators=None,num_boost_round=None,num_trees=None,colsample_bylevel=None,random_state=None,reg_lambda=None,\n",
        "                           objective=None,eta=None,max_bin=None,gpu_cat_features_storage=None,data_partition=None,metadata=None,early_stopping_rounds=None,cat_features=None,grow_policy=None,min_data_in_leaf=None,min_child_samples=None,\n",
        "                           max_leaves=None,num_leaves=None,score_function=None,leaf_estimation_backtracking=None,ctr_history_unit=None,monotone_constraints=None,feature_weights=None,penalties_coefficient=None,first_feature_use_penalties=None,\n",
        "                           model_shrink_rate=None,model_shrink_mode=None,langevin=None,diffusion_temperature=None,boost_from_average=None)\n",
        "    cat.fit(X_train, y_train)\n",
        "    y_pred = cat.predict(X_test)\n",
        "\n",
        "    print('RMSE', sqrt(mean_squared_log_error(np.exp(y_test), np.exp(y_pred))))\n",
        "\n",
        "    errcat.append(sqrt(mean_squared_log_error(np.exp(y_test), np.exp(y_pred))))\n",
        "    p = cat.predict(Xtest)\n",
        "    y_pred_totcat.append(p)"
      ],
      "execution_count": null,
      "outputs": [
        {
          "output_type": "stream",
          "text": [
            "0:\tlearn: 1.1131895\ttotal: 2.37ms\tremaining: 235ms\n",
            "1:\tlearn: 1.0625518\ttotal: 4.63ms\tremaining: 227ms\n",
            "2:\tlearn: 1.0204899\ttotal: 6.88ms\tremaining: 222ms\n",
            "3:\tlearn: 0.9844022\ttotal: 9.12ms\tremaining: 219ms\n",
            "4:\tlearn: 0.9506036\ttotal: 11.3ms\tremaining: 215ms\n",
            "5:\tlearn: 0.9186995\ttotal: 13.4ms\tremaining: 210ms\n",
            "6:\tlearn: 0.8879245\ttotal: 15.8ms\tremaining: 210ms\n",
            "7:\tlearn: 0.8635421\ttotal: 17.9ms\tremaining: 206ms\n",
            "8:\tlearn: 0.8441452\ttotal: 20.1ms\tremaining: 203ms\n",
            "9:\tlearn: 0.8274413\ttotal: 22.4ms\tremaining: 201ms\n",
            "10:\tlearn: 0.8105494\ttotal: 24.6ms\tremaining: 199ms\n",
            "11:\tlearn: 0.7963649\ttotal: 26.6ms\tremaining: 195ms\n",
            "12:\tlearn: 0.7826455\ttotal: 28.7ms\tremaining: 192ms\n",
            "13:\tlearn: 0.7697664\ttotal: 30.7ms\tremaining: 189ms\n",
            "14:\tlearn: 0.7608378\ttotal: 32.6ms\tremaining: 185ms\n",
            "15:\tlearn: 0.7532984\ttotal: 34.6ms\tremaining: 182ms\n",
            "16:\tlearn: 0.7465035\ttotal: 36.5ms\tremaining: 178ms\n",
            "17:\tlearn: 0.7381747\ttotal: 38.6ms\tremaining: 176ms\n",
            "18:\tlearn: 0.7316878\ttotal: 40.3ms\tremaining: 172ms\n",
            "19:\tlearn: 0.7259408\ttotal: 42.1ms\tremaining: 168ms\n",
            "20:\tlearn: 0.7218683\ttotal: 44ms\tremaining: 166ms\n",
            "21:\tlearn: 0.7177473\ttotal: 45.9ms\tremaining: 163ms\n",
            "22:\tlearn: 0.7136984\ttotal: 47.7ms\tremaining: 160ms\n",
            "23:\tlearn: 0.7112736\ttotal: 49.4ms\tremaining: 157ms\n",
            "24:\tlearn: 0.7076220\ttotal: 51.4ms\tremaining: 154ms\n",
            "25:\tlearn: 0.7057938\ttotal: 53.4ms\tremaining: 152ms\n",
            "26:\tlearn: 0.7032192\ttotal: 55.2ms\tremaining: 149ms\n",
            "27:\tlearn: 0.6995889\ttotal: 57.2ms\tremaining: 147ms\n",
            "28:\tlearn: 0.6968167\ttotal: 59.1ms\tremaining: 145ms\n",
            "29:\tlearn: 0.6939916\ttotal: 60.9ms\tremaining: 142ms\n",
            "30:\tlearn: 0.6924449\ttotal: 62.7ms\tremaining: 140ms\n",
            "31:\tlearn: 0.6883996\ttotal: 64.7ms\tremaining: 137ms\n",
            "32:\tlearn: 0.6860072\ttotal: 66.5ms\tremaining: 135ms\n",
            "33:\tlearn: 0.6824681\ttotal: 68.4ms\tremaining: 133ms\n",
            "34:\tlearn: 0.6792746\ttotal: 70.5ms\tremaining: 131ms\n",
            "35:\tlearn: 0.6766349\ttotal: 72.5ms\tremaining: 129ms\n",
            "36:\tlearn: 0.6753270\ttotal: 74.3ms\tremaining: 127ms\n",
            "37:\tlearn: 0.6733329\ttotal: 76.3ms\tremaining: 124ms\n",
            "38:\tlearn: 0.6718912\ttotal: 78.2ms\tremaining: 122ms\n",
            "39:\tlearn: 0.6691557\ttotal: 80.1ms\tremaining: 120ms\n",
            "40:\tlearn: 0.6673132\ttotal: 82ms\tremaining: 118ms\n",
            "41:\tlearn: 0.6657827\ttotal: 83.9ms\tremaining: 116ms\n",
            "42:\tlearn: 0.6638837\ttotal: 85.7ms\tremaining: 114ms\n",
            "43:\tlearn: 0.6621724\ttotal: 87.5ms\tremaining: 111ms\n",
            "44:\tlearn: 0.6615456\ttotal: 89.4ms\tremaining: 109ms\n",
            "45:\tlearn: 0.6602607\ttotal: 91.3ms\tremaining: 107ms\n",
            "46:\tlearn: 0.6578392\ttotal: 93.1ms\tremaining: 105ms\n",
            "47:\tlearn: 0.6565187\ttotal: 95.1ms\tremaining: 103ms\n",
            "48:\tlearn: 0.6537002\ttotal: 97ms\tremaining: 101ms\n",
            "49:\tlearn: 0.6523526\ttotal: 98.9ms\tremaining: 98.9ms\n",
            "50:\tlearn: 0.6510799\ttotal: 101ms\tremaining: 96.8ms\n",
            "51:\tlearn: 0.6501632\ttotal: 103ms\tremaining: 94.9ms\n",
            "52:\tlearn: 0.6480145\ttotal: 105ms\tremaining: 92.8ms\n",
            "53:\tlearn: 0.6465397\ttotal: 107ms\tremaining: 90.8ms\n",
            "54:\tlearn: 0.6453128\ttotal: 108ms\tremaining: 88.8ms\n",
            "55:\tlearn: 0.6435827\ttotal: 110ms\tremaining: 86.6ms\n",
            "56:\tlearn: 0.6427328\ttotal: 112ms\tremaining: 84.6ms\n",
            "57:\tlearn: 0.6416657\ttotal: 114ms\tremaining: 82.6ms\n",
            "58:\tlearn: 0.6390425\ttotal: 116ms\tremaining: 80.6ms\n",
            "59:\tlearn: 0.6367799\ttotal: 118ms\tremaining: 78.6ms\n",
            "60:\tlearn: 0.6353862\ttotal: 120ms\tremaining: 76.7ms\n",
            "61:\tlearn: 0.6339845\ttotal: 122ms\tremaining: 74.6ms\n",
            "62:\tlearn: 0.6325989\ttotal: 124ms\tremaining: 72.6ms\n",
            "63:\tlearn: 0.6317495\ttotal: 125ms\tremaining: 70.6ms\n",
            "64:\tlearn: 0.6300817\ttotal: 127ms\tremaining: 68.6ms\n",
            "65:\tlearn: 0.6290832\ttotal: 129ms\tremaining: 66.6ms\n",
            "66:\tlearn: 0.6272048\ttotal: 131ms\tremaining: 64.5ms\n",
            "67:\tlearn: 0.6256007\ttotal: 133ms\tremaining: 62.6ms\n",
            "68:\tlearn: 0.6240502\ttotal: 135ms\tremaining: 60.6ms\n",
            "69:\tlearn: 0.6230712\ttotal: 137ms\tremaining: 58.6ms\n",
            "70:\tlearn: 0.6216210\ttotal: 139ms\tremaining: 56.6ms\n",
            "71:\tlearn: 0.6198817\ttotal: 141ms\tremaining: 54.7ms\n",
            "72:\tlearn: 0.6189529\ttotal: 143ms\tremaining: 52.7ms\n",
            "73:\tlearn: 0.6177650\ttotal: 144ms\tremaining: 50.7ms\n",
            "74:\tlearn: 0.6166428\ttotal: 146ms\tremaining: 48.8ms\n",
            "75:\tlearn: 0.6156204\ttotal: 148ms\tremaining: 46.8ms\n",
            "76:\tlearn: 0.6136586\ttotal: 150ms\tremaining: 44.8ms\n",
            "77:\tlearn: 0.6123862\ttotal: 152ms\tremaining: 42.8ms\n",
            "78:\tlearn: 0.6109772\ttotal: 154ms\tremaining: 40.9ms\n",
            "79:\tlearn: 0.6088505\ttotal: 156ms\tremaining: 38.9ms\n",
            "80:\tlearn: 0.6077048\ttotal: 158ms\tremaining: 37ms\n",
            "81:\tlearn: 0.6060856\ttotal: 159ms\tremaining: 35ms\n",
            "82:\tlearn: 0.6043776\ttotal: 161ms\tremaining: 33ms\n",
            "83:\tlearn: 0.6031290\ttotal: 163ms\tremaining: 31.1ms\n",
            "84:\tlearn: 0.6021400\ttotal: 165ms\tremaining: 29.1ms\n",
            "85:\tlearn: 0.6010239\ttotal: 167ms\tremaining: 27.2ms\n",
            "86:\tlearn: 0.6001646\ttotal: 169ms\tremaining: 25.2ms\n",
            "87:\tlearn: 0.5992413\ttotal: 171ms\tremaining: 23.3ms\n",
            "88:\tlearn: 0.5970442\ttotal: 173ms\tremaining: 21.3ms\n",
            "89:\tlearn: 0.5960869\ttotal: 175ms\tremaining: 19.4ms\n",
            "90:\tlearn: 0.5951545\ttotal: 176ms\tremaining: 17.4ms\n",
            "91:\tlearn: 0.5941870\ttotal: 178ms\tremaining: 15.5ms\n",
            "92:\tlearn: 0.5928240\ttotal: 180ms\tremaining: 13.6ms\n",
            "93:\tlearn: 0.5909711\ttotal: 182ms\tremaining: 11.6ms\n",
            "94:\tlearn: 0.5894098\ttotal: 184ms\tremaining: 9.68ms\n",
            "95:\tlearn: 0.5877926\ttotal: 186ms\tremaining: 7.75ms\n",
            "96:\tlearn: 0.5874919\ttotal: 188ms\tremaining: 5.81ms\n",
            "97:\tlearn: 0.5863789\ttotal: 190ms\tremaining: 3.87ms\n",
            "98:\tlearn: 0.5856788\ttotal: 193ms\tremaining: 1.95ms\n",
            "99:\tlearn: 0.5844899\ttotal: 197ms\tremaining: 0us\n",
            "RMSE 0.6602893870753488\n",
            "0:\tlearn: 1.1354659\ttotal: 2.08ms\tremaining: 206ms\n",
            "1:\tlearn: 1.0835971\ttotal: 3.95ms\tremaining: 193ms\n",
            "2:\tlearn: 1.0406265\ttotal: 5.93ms\tremaining: 192ms\n",
            "3:\tlearn: 1.0037141\ttotal: 7.95ms\tremaining: 191ms\n",
            "4:\tlearn: 0.9662766\ttotal: 9.85ms\tremaining: 187ms\n",
            "5:\tlearn: 0.9379144\ttotal: 11.8ms\tremaining: 184ms\n",
            "6:\tlearn: 0.9104515\ttotal: 13.7ms\tremaining: 181ms\n",
            "7:\tlearn: 0.8859835\ttotal: 15.6ms\tremaining: 179ms\n",
            "8:\tlearn: 0.8672865\ttotal: 17.5ms\tremaining: 177ms\n",
            "9:\tlearn: 0.8502179\ttotal: 19.4ms\tremaining: 175ms\n",
            "10:\tlearn: 0.8341188\ttotal: 21.3ms\tremaining: 172ms\n",
            "11:\tlearn: 0.8212494\ttotal: 23.3ms\tremaining: 171ms\n",
            "12:\tlearn: 0.8048940\ttotal: 25.1ms\tremaining: 168ms\n",
            "13:\tlearn: 0.7928558\ttotal: 27.1ms\tremaining: 167ms\n",
            "14:\tlearn: 0.7822300\ttotal: 29ms\tremaining: 164ms\n",
            "15:\tlearn: 0.7732162\ttotal: 30.9ms\tremaining: 162ms\n",
            "16:\tlearn: 0.7632680\ttotal: 32.8ms\tremaining: 160ms\n",
            "17:\tlearn: 0.7528793\ttotal: 34.8ms\tremaining: 158ms\n",
            "18:\tlearn: 0.7447973\ttotal: 36.7ms\tremaining: 157ms\n",
            "19:\tlearn: 0.7383257\ttotal: 38.6ms\tremaining: 154ms\n",
            "20:\tlearn: 0.7338189\ttotal: 40.6ms\tremaining: 153ms\n",
            "21:\tlearn: 0.7274570\ttotal: 42.5ms\tremaining: 151ms\n",
            "22:\tlearn: 0.7230108\ttotal: 44.4ms\tremaining: 149ms\n",
            "23:\tlearn: 0.7190855\ttotal: 46.4ms\tremaining: 147ms\n",
            "24:\tlearn: 0.7127159\ttotal: 48.3ms\tremaining: 145ms\n",
            "25:\tlearn: 0.7084277\ttotal: 50.2ms\tremaining: 143ms\n",
            "26:\tlearn: 0.7055250\ttotal: 52.2ms\tremaining: 141ms\n",
            "27:\tlearn: 0.7023646\ttotal: 54ms\tremaining: 139ms\n",
            "28:\tlearn: 0.7001497\ttotal: 55.9ms\tremaining: 137ms\n",
            "29:\tlearn: 0.6969551\ttotal: 57.9ms\tremaining: 135ms\n",
            "30:\tlearn: 0.6953951\ttotal: 59.8ms\tremaining: 133ms\n",
            "31:\tlearn: 0.6923706\ttotal: 61.7ms\tremaining: 131ms\n",
            "32:\tlearn: 0.6900723\ttotal: 63.5ms\tremaining: 129ms\n",
            "33:\tlearn: 0.6871244\ttotal: 65.4ms\tremaining: 127ms\n",
            "34:\tlearn: 0.6837152\ttotal: 67.3ms\tremaining: 125ms\n",
            "35:\tlearn: 0.6827076\ttotal: 69.2ms\tremaining: 123ms\n",
            "36:\tlearn: 0.6793947\ttotal: 71.1ms\tremaining: 121ms\n",
            "37:\tlearn: 0.6778723\ttotal: 72.9ms\tremaining: 119ms\n",
            "38:\tlearn: 0.6759053\ttotal: 74.8ms\tremaining: 117ms\n",
            "39:\tlearn: 0.6732426\ttotal: 77ms\tremaining: 115ms\n",
            "40:\tlearn: 0.6705883\ttotal: 81.8ms\tremaining: 118ms\n",
            "41:\tlearn: 0.6685289\ttotal: 85.2ms\tremaining: 118ms\n",
            "42:\tlearn: 0.6660620\ttotal: 88.8ms\tremaining: 118ms\n",
            "43:\tlearn: 0.6647453\ttotal: 90.8ms\tremaining: 116ms\n",
            "44:\tlearn: 0.6632971\ttotal: 92.8ms\tremaining: 113ms\n",
            "45:\tlearn: 0.6606792\ttotal: 94.5ms\tremaining: 111ms\n",
            "46:\tlearn: 0.6582732\ttotal: 96.4ms\tremaining: 109ms\n",
            "47:\tlearn: 0.6570925\ttotal: 98.3ms\tremaining: 107ms\n",
            "48:\tlearn: 0.6554509\ttotal: 100ms\tremaining: 104ms\n",
            "49:\tlearn: 0.6533384\ttotal: 102ms\tremaining: 102ms\n",
            "50:\tlearn: 0.6521328\ttotal: 104ms\tremaining: 99.9ms\n",
            "51:\tlearn: 0.6515068\ttotal: 106ms\tremaining: 97.8ms\n",
            "52:\tlearn: 0.6496560\ttotal: 108ms\tremaining: 95.6ms\n",
            "53:\tlearn: 0.6480650\ttotal: 110ms\tremaining: 93.4ms\n",
            "54:\tlearn: 0.6464392\ttotal: 112ms\tremaining: 91.2ms\n",
            "55:\tlearn: 0.6448819\ttotal: 113ms\tremaining: 89.1ms\n",
            "56:\tlearn: 0.6440369\ttotal: 115ms\tremaining: 87ms\n",
            "57:\tlearn: 0.6429738\ttotal: 117ms\tremaining: 84.9ms\n",
            "58:\tlearn: 0.6414288\ttotal: 119ms\tremaining: 82.9ms\n",
            "59:\tlearn: 0.6390953\ttotal: 121ms\tremaining: 80.8ms\n",
            "60:\tlearn: 0.6374050\ttotal: 123ms\tremaining: 78.7ms\n",
            "61:\tlearn: 0.6360666\ttotal: 125ms\tremaining: 76.6ms\n",
            "62:\tlearn: 0.6352310\ttotal: 127ms\tremaining: 74.5ms\n",
            "63:\tlearn: 0.6342289\ttotal: 129ms\tremaining: 72.4ms\n",
            "64:\tlearn: 0.6326841\ttotal: 131ms\tremaining: 70.3ms\n",
            "65:\tlearn: 0.6308835\ttotal: 132ms\tremaining: 68.2ms\n",
            "66:\tlearn: 0.6295510\ttotal: 134ms\tremaining: 66.2ms\n",
            "67:\tlearn: 0.6280101\ttotal: 138ms\tremaining: 64.7ms\n",
            "68:\tlearn: 0.6270423\ttotal: 139ms\tremaining: 62.7ms\n",
            "69:\tlearn: 0.6252143\ttotal: 141ms\tremaining: 60.6ms\n",
            "70:\tlearn: 0.6239733\ttotal: 143ms\tremaining: 58.5ms\n",
            "71:\tlearn: 0.6221893\ttotal: 145ms\tremaining: 56.5ms\n",
            "72:\tlearn: 0.6214235\ttotal: 147ms\tremaining: 54.4ms\n",
            "73:\tlearn: 0.6200928\ttotal: 149ms\tremaining: 52.4ms\n",
            "74:\tlearn: 0.6186427\ttotal: 152ms\tremaining: 50.7ms\n",
            "75:\tlearn: 0.6172629\ttotal: 155ms\tremaining: 49ms\n",
            "76:\tlearn: 0.6154831\ttotal: 158ms\tremaining: 47.2ms\n",
            "77:\tlearn: 0.6138653\ttotal: 160ms\tremaining: 45.2ms\n",
            "78:\tlearn: 0.6130166\ttotal: 162ms\tremaining: 43ms\n",
            "79:\tlearn: 0.6118167\ttotal: 164ms\tremaining: 41ms\n",
            "80:\tlearn: 0.6108552\ttotal: 166ms\tremaining: 38.9ms\n",
            "81:\tlearn: 0.6091647\ttotal: 168ms\tremaining: 36.8ms\n",
            "82:\tlearn: 0.6080766\ttotal: 170ms\tremaining: 34.7ms\n",
            "83:\tlearn: 0.6066474\ttotal: 172ms\tremaining: 32.7ms\n",
            "84:\tlearn: 0.6048988\ttotal: 173ms\tremaining: 30.6ms\n",
            "85:\tlearn: 0.6036036\ttotal: 175ms\tremaining: 28.6ms\n",
            "86:\tlearn: 0.6029154\ttotal: 177ms\tremaining: 26.5ms\n",
            "87:\tlearn: 0.6017366\ttotal: 180ms\tremaining: 24.5ms\n",
            "88:\tlearn: 0.6007317\ttotal: 182ms\tremaining: 22.5ms\n",
            "89:\tlearn: 0.6002653\ttotal: 184ms\tremaining: 20.4ms\n",
            "90:\tlearn: 0.5982076\ttotal: 186ms\tremaining: 18.3ms\n",
            "91:\tlearn: 0.5970542\ttotal: 187ms\tremaining: 16.3ms\n",
            "92:\tlearn: 0.5964174\ttotal: 189ms\tremaining: 14.3ms\n",
            "93:\tlearn: 0.5952268\ttotal: 191ms\tremaining: 12.2ms\n",
            "94:\tlearn: 0.5940483\ttotal: 193ms\tremaining: 10.2ms\n",
            "95:\tlearn: 0.5930805\ttotal: 195ms\tremaining: 8.13ms\n",
            "96:\tlearn: 0.5922838\ttotal: 197ms\tremaining: 6.09ms\n",
            "97:\tlearn: 0.5906269\ttotal: 199ms\tremaining: 4.06ms\n",
            "98:\tlearn: 0.5897449\ttotal: 201ms\tremaining: 2.03ms\n",
            "99:\tlearn: 0.5888677\ttotal: 203ms\tremaining: 0us\n",
            "RMSE 0.5580858034245215\n",
            "0:\tlearn: 1.1076053\ttotal: 2.02ms\tremaining: 200ms\n",
            "1:\tlearn: 1.0569244\ttotal: 3.97ms\tremaining: 194ms\n",
            "2:\tlearn: 1.0142349\ttotal: 5.86ms\tremaining: 189ms\n",
            "3:\tlearn: 0.9770047\ttotal: 7.8ms\tremaining: 187ms\n",
            "4:\tlearn: 0.9425236\ttotal: 9.65ms\tremaining: 183ms\n",
            "5:\tlearn: 0.9114501\ttotal: 11.6ms\tremaining: 182ms\n",
            "6:\tlearn: 0.8834928\ttotal: 13.5ms\tremaining: 180ms\n",
            "7:\tlearn: 0.8616216\ttotal: 15.5ms\tremaining: 178ms\n",
            "8:\tlearn: 0.8441477\ttotal: 18ms\tremaining: 182ms\n",
            "9:\tlearn: 0.8283645\ttotal: 19.8ms\tremaining: 178ms\n",
            "10:\tlearn: 0.8136486\ttotal: 21.7ms\tremaining: 175ms\n",
            "11:\tlearn: 0.8015896\ttotal: 23.6ms\tremaining: 173ms\n",
            "12:\tlearn: 0.7851562\ttotal: 25.4ms\tremaining: 170ms\n",
            "13:\tlearn: 0.7733405\ttotal: 27.3ms\tremaining: 168ms\n",
            "14:\tlearn: 0.7625113\ttotal: 29.3ms\tremaining: 166ms\n",
            "15:\tlearn: 0.7530804\ttotal: 31.2ms\tremaining: 164ms\n",
            "16:\tlearn: 0.7433110\ttotal: 33ms\tremaining: 161ms\n",
            "17:\tlearn: 0.7349337\ttotal: 34.9ms\tremaining: 159ms\n",
            "18:\tlearn: 0.7266562\ttotal: 36.9ms\tremaining: 157ms\n",
            "19:\tlearn: 0.7190721\ttotal: 38.8ms\tremaining: 155ms\n",
            "20:\tlearn: 0.7153594\ttotal: 40.8ms\tremaining: 153ms\n",
            "21:\tlearn: 0.7109665\ttotal: 42.7ms\tremaining: 151ms\n",
            "22:\tlearn: 0.7074248\ttotal: 44.6ms\tremaining: 149ms\n",
            "23:\tlearn: 0.7038582\ttotal: 46.5ms\tremaining: 147ms\n",
            "24:\tlearn: 0.6993376\ttotal: 48.4ms\tremaining: 145ms\n",
            "25:\tlearn: 0.6965624\ttotal: 50.3ms\tremaining: 143ms\n",
            "26:\tlearn: 0.6925424\ttotal: 52.3ms\tremaining: 141ms\n",
            "27:\tlearn: 0.6890438\ttotal: 54.2ms\tremaining: 139ms\n",
            "28:\tlearn: 0.6861628\ttotal: 56ms\tremaining: 137ms\n",
            "29:\tlearn: 0.6831982\ttotal: 58ms\tremaining: 135ms\n",
            "30:\tlearn: 0.6814079\ttotal: 59.9ms\tremaining: 133ms\n",
            "31:\tlearn: 0.6790035\ttotal: 61.8ms\tremaining: 131ms\n",
            "32:\tlearn: 0.6763249\ttotal: 63.7ms\tremaining: 129ms\n",
            "33:\tlearn: 0.6747943\ttotal: 65.5ms\tremaining: 127ms\n",
            "34:\tlearn: 0.6722347\ttotal: 67.5ms\tremaining: 125ms\n",
            "35:\tlearn: 0.6698037\ttotal: 69.4ms\tremaining: 123ms\n",
            "36:\tlearn: 0.6669350\ttotal: 71.4ms\tremaining: 122ms\n",
            "37:\tlearn: 0.6655898\ttotal: 73.2ms\tremaining: 119ms\n",
            "38:\tlearn: 0.6624732\ttotal: 75.1ms\tremaining: 118ms\n",
            "39:\tlearn: 0.6604968\ttotal: 77ms\tremaining: 116ms\n",
            "40:\tlearn: 0.6589066\ttotal: 79ms\tremaining: 114ms\n",
            "41:\tlearn: 0.6573789\ttotal: 80.8ms\tremaining: 112ms\n",
            "42:\tlearn: 0.6554170\ttotal: 83.1ms\tremaining: 110ms\n",
            "43:\tlearn: 0.6535240\ttotal: 85ms\tremaining: 108ms\n",
            "44:\tlearn: 0.6527959\ttotal: 86.8ms\tremaining: 106ms\n",
            "45:\tlearn: 0.6498871\ttotal: 88.7ms\tremaining: 104ms\n",
            "46:\tlearn: 0.6483894\ttotal: 90.6ms\tremaining: 102ms\n",
            "47:\tlearn: 0.6473613\ttotal: 92.5ms\tremaining: 100ms\n",
            "48:\tlearn: 0.6462976\ttotal: 94.3ms\tremaining: 98.2ms\n",
            "49:\tlearn: 0.6443072\ttotal: 96.2ms\tremaining: 96.2ms\n",
            "50:\tlearn: 0.6418959\ttotal: 98ms\tremaining: 94.2ms\n",
            "51:\tlearn: 0.6414126\ttotal: 100ms\tremaining: 92.3ms\n",
            "52:\tlearn: 0.6398896\ttotal: 102ms\tremaining: 90.4ms\n",
            "53:\tlearn: 0.6381373\ttotal: 104ms\tremaining: 88.5ms\n",
            "54:\tlearn: 0.6374740\ttotal: 110ms\tremaining: 89.7ms\n",
            "55:\tlearn: 0.6369090\ttotal: 112ms\tremaining: 87.8ms\n",
            "56:\tlearn: 0.6361121\ttotal: 114ms\tremaining: 85.8ms\n",
            "57:\tlearn: 0.6349485\ttotal: 116ms\tremaining: 83.8ms\n",
            "58:\tlearn: 0.6339467\ttotal: 118ms\tremaining: 81.7ms\n",
            "59:\tlearn: 0.6333174\ttotal: 119ms\tremaining: 79.6ms\n",
            "60:\tlearn: 0.6325187\ttotal: 121ms\tremaining: 77.6ms\n",
            "61:\tlearn: 0.6306944\ttotal: 123ms\tremaining: 75.5ms\n",
            "62:\tlearn: 0.6290107\ttotal: 125ms\tremaining: 73.5ms\n",
            "63:\tlearn: 0.6271012\ttotal: 127ms\tremaining: 71.4ms\n",
            "64:\tlearn: 0.6250024\ttotal: 129ms\tremaining: 69.4ms\n",
            "65:\tlearn: 0.6229605\ttotal: 131ms\tremaining: 67.4ms\n",
            "66:\tlearn: 0.6217587\ttotal: 133ms\tremaining: 65.3ms\n",
            "67:\tlearn: 0.6204738\ttotal: 134ms\tremaining: 63.3ms\n",
            "68:\tlearn: 0.6194649\ttotal: 136ms\tremaining: 61.2ms\n",
            "69:\tlearn: 0.6177291\ttotal: 138ms\tremaining: 59.3ms\n",
            "70:\tlearn: 0.6168384\ttotal: 140ms\tremaining: 57.2ms\n",
            "71:\tlearn: 0.6155912\ttotal: 142ms\tremaining: 55.3ms\n",
            "72:\tlearn: 0.6137299\ttotal: 144ms\tremaining: 53.2ms\n",
            "73:\tlearn: 0.6130465\ttotal: 146ms\tremaining: 51.3ms\n",
            "74:\tlearn: 0.6103697\ttotal: 148ms\tremaining: 49.3ms\n",
            "75:\tlearn: 0.6089297\ttotal: 150ms\tremaining: 47.3ms\n",
            "76:\tlearn: 0.6082124\ttotal: 152ms\tremaining: 45.3ms\n",
            "77:\tlearn: 0.6067448\ttotal: 154ms\tremaining: 43.3ms\n",
            "78:\tlearn: 0.6052773\ttotal: 156ms\tremaining: 41.3ms\n",
            "79:\tlearn: 0.6036615\ttotal: 157ms\tremaining: 39.4ms\n",
            "80:\tlearn: 0.6018737\ttotal: 159ms\tremaining: 37.4ms\n",
            "81:\tlearn: 0.6000718\ttotal: 161ms\tremaining: 35.4ms\n",
            "82:\tlearn: 0.5991070\ttotal: 163ms\tremaining: 33.4ms\n",
            "83:\tlearn: 0.5985353\ttotal: 165ms\tremaining: 31.5ms\n",
            "84:\tlearn: 0.5979310\ttotal: 167ms\tremaining: 29.5ms\n",
            "85:\tlearn: 0.5967827\ttotal: 169ms\tremaining: 27.5ms\n",
            "86:\tlearn: 0.5964344\ttotal: 171ms\tremaining: 25.5ms\n",
            "87:\tlearn: 0.5954626\ttotal: 173ms\tremaining: 23.6ms\n",
            "88:\tlearn: 0.5948156\ttotal: 175ms\tremaining: 21.6ms\n",
            "89:\tlearn: 0.5940327\ttotal: 177ms\tremaining: 19.6ms\n",
            "90:\tlearn: 0.5917010\ttotal: 179ms\tremaining: 17.7ms\n",
            "91:\tlearn: 0.5911533\ttotal: 180ms\tremaining: 15.7ms\n",
            "92:\tlearn: 0.5904313\ttotal: 182ms\tremaining: 13.7ms\n",
            "93:\tlearn: 0.5882712\ttotal: 184ms\tremaining: 11.8ms\n",
            "94:\tlearn: 0.5871777\ttotal: 186ms\tremaining: 9.81ms\n",
            "95:\tlearn: 0.5861539\ttotal: 188ms\tremaining: 7.84ms\n",
            "96:\tlearn: 0.5852100\ttotal: 190ms\tremaining: 5.88ms\n",
            "97:\tlearn: 0.5841246\ttotal: 192ms\tremaining: 3.92ms\n",
            "98:\tlearn: 0.5831286\ttotal: 194ms\tremaining: 1.96ms\n",
            "99:\tlearn: 0.5818265\ttotal: 196ms\tremaining: 0us\n",
            "RMSE 0.7298003848365633\n",
            "0:\tlearn: 1.1180194\ttotal: 2.13ms\tremaining: 211ms\n",
            "1:\tlearn: 1.0674529\ttotal: 4.16ms\tremaining: 204ms\n",
            "2:\tlearn: 1.0230368\ttotal: 6.09ms\tremaining: 197ms\n",
            "3:\tlearn: 0.9898901\ttotal: 7.97ms\tremaining: 191ms\n",
            "4:\tlearn: 0.9546864\ttotal: 9.94ms\tremaining: 189ms\n",
            "5:\tlearn: 0.9256263\ttotal: 11.8ms\tremaining: 186ms\n",
            "6:\tlearn: 0.8950493\ttotal: 13.7ms\tremaining: 182ms\n",
            "7:\tlearn: 0.8726760\ttotal: 15.6ms\tremaining: 180ms\n",
            "8:\tlearn: 0.8558765\ttotal: 17.5ms\tremaining: 177ms\n",
            "9:\tlearn: 0.8389802\ttotal: 19.4ms\tremaining: 174ms\n",
            "10:\tlearn: 0.8249967\ttotal: 21.2ms\tremaining: 171ms\n",
            "11:\tlearn: 0.8128590\ttotal: 23.2ms\tremaining: 170ms\n",
            "12:\tlearn: 0.7989564\ttotal: 25.2ms\tremaining: 169ms\n",
            "13:\tlearn: 0.7865145\ttotal: 27.1ms\tremaining: 167ms\n",
            "14:\tlearn: 0.7746794\ttotal: 29.1ms\tremaining: 165ms\n",
            "15:\tlearn: 0.7653877\ttotal: 31ms\tremaining: 163ms\n",
            "16:\tlearn: 0.7554024\ttotal: 33ms\tremaining: 161ms\n",
            "17:\tlearn: 0.7456566\ttotal: 34.9ms\tremaining: 159ms\n",
            "18:\tlearn: 0.7355852\ttotal: 36.8ms\tremaining: 157ms\n",
            "19:\tlearn: 0.7297087\ttotal: 38.7ms\tremaining: 155ms\n",
            "20:\tlearn: 0.7259641\ttotal: 40.6ms\tremaining: 153ms\n",
            "21:\tlearn: 0.7196731\ttotal: 42.5ms\tremaining: 151ms\n",
            "22:\tlearn: 0.7150342\ttotal: 44.5ms\tremaining: 149ms\n",
            "23:\tlearn: 0.7124498\ttotal: 46.3ms\tremaining: 147ms\n",
            "24:\tlearn: 0.7065501\ttotal: 48.2ms\tremaining: 145ms\n",
            "25:\tlearn: 0.7026576\ttotal: 50ms\tremaining: 142ms\n",
            "26:\tlearn: 0.6995544\ttotal: 51.9ms\tremaining: 140ms\n",
            "27:\tlearn: 0.6962784\ttotal: 53.8ms\tremaining: 138ms\n",
            "28:\tlearn: 0.6942888\ttotal: 55.7ms\tremaining: 136ms\n",
            "29:\tlearn: 0.6906889\ttotal: 57.5ms\tremaining: 134ms\n",
            "30:\tlearn: 0.6887998\ttotal: 59.5ms\tremaining: 132ms\n",
            "31:\tlearn: 0.6846174\ttotal: 61.4ms\tremaining: 130ms\n",
            "32:\tlearn: 0.6822213\ttotal: 63.4ms\tremaining: 129ms\n",
            "33:\tlearn: 0.6795225\ttotal: 65.3ms\tremaining: 127ms\n",
            "34:\tlearn: 0.6771849\ttotal: 67.2ms\tremaining: 125ms\n",
            "35:\tlearn: 0.6732912\ttotal: 72.7ms\tremaining: 129ms\n",
            "36:\tlearn: 0.6711013\ttotal: 74.8ms\tremaining: 127ms\n",
            "37:\tlearn: 0.6698432\ttotal: 76.7ms\tremaining: 125ms\n",
            "38:\tlearn: 0.6687568\ttotal: 78.6ms\tremaining: 123ms\n",
            "39:\tlearn: 0.6658967\ttotal: 80.5ms\tremaining: 121ms\n",
            "40:\tlearn: 0.6639504\ttotal: 82.3ms\tremaining: 118ms\n",
            "41:\tlearn: 0.6621870\ttotal: 84.3ms\tremaining: 116ms\n",
            "42:\tlearn: 0.6599548\ttotal: 86.1ms\tremaining: 114ms\n",
            "43:\tlearn: 0.6590881\ttotal: 88ms\tremaining: 112ms\n",
            "44:\tlearn: 0.6582707\ttotal: 89.8ms\tremaining: 110ms\n",
            "45:\tlearn: 0.6567051\ttotal: 91.8ms\tremaining: 108ms\n",
            "46:\tlearn: 0.6545401\ttotal: 93.7ms\tremaining: 106ms\n",
            "47:\tlearn: 0.6531542\ttotal: 95.7ms\tremaining: 104ms\n",
            "48:\tlearn: 0.6513662\ttotal: 98.5ms\tremaining: 103ms\n",
            "49:\tlearn: 0.6495361\ttotal: 101ms\tremaining: 101ms\n",
            "50:\tlearn: 0.6477519\ttotal: 103ms\tremaining: 99.2ms\n",
            "51:\tlearn: 0.6467927\ttotal: 105ms\tremaining: 97ms\n",
            "52:\tlearn: 0.6444571\ttotal: 107ms\tremaining: 94.8ms\n",
            "53:\tlearn: 0.6439227\ttotal: 109ms\tremaining: 92.7ms\n",
            "54:\tlearn: 0.6417920\ttotal: 111ms\tremaining: 90.6ms\n",
            "55:\tlearn: 0.6404277\ttotal: 113ms\tremaining: 88.5ms\n",
            "56:\tlearn: 0.6390464\ttotal: 115ms\tremaining: 86.4ms\n",
            "57:\tlearn: 0.6373069\ttotal: 116ms\tremaining: 84.3ms\n",
            "58:\tlearn: 0.6357975\ttotal: 118ms\tremaining: 82.1ms\n",
            "59:\tlearn: 0.6333366\ttotal: 121ms\tremaining: 80.7ms\n",
            "60:\tlearn: 0.6326706\ttotal: 123ms\tremaining: 78.7ms\n",
            "61:\tlearn: 0.6314741\ttotal: 128ms\tremaining: 78.3ms\n",
            "62:\tlearn: 0.6300176\ttotal: 130ms\tremaining: 76.1ms\n",
            "63:\tlearn: 0.6287907\ttotal: 132ms\tremaining: 74ms\n",
            "64:\tlearn: 0.6275109\ttotal: 133ms\tremaining: 71.8ms\n",
            "65:\tlearn: 0.6260332\ttotal: 135ms\tremaining: 69.7ms\n",
            "66:\tlearn: 0.6251940\ttotal: 137ms\tremaining: 67.6ms\n",
            "67:\tlearn: 0.6243397\ttotal: 139ms\tremaining: 65.5ms\n",
            "68:\tlearn: 0.6226951\ttotal: 141ms\tremaining: 63.4ms\n",
            "69:\tlearn: 0.6218456\ttotal: 143ms\tremaining: 61.3ms\n",
            "70:\tlearn: 0.6199871\ttotal: 145ms\tremaining: 59.2ms\n",
            "71:\tlearn: 0.6188430\ttotal: 147ms\tremaining: 57.2ms\n",
            "72:\tlearn: 0.6183446\ttotal: 149ms\tremaining: 55.1ms\n",
            "73:\tlearn: 0.6171186\ttotal: 151ms\tremaining: 52.9ms\n",
            "74:\tlearn: 0.6154047\ttotal: 153ms\tremaining: 50.9ms\n",
            "75:\tlearn: 0.6136857\ttotal: 154ms\tremaining: 48.8ms\n",
            "76:\tlearn: 0.6121574\ttotal: 156ms\tremaining: 46.7ms\n",
            "77:\tlearn: 0.6108901\ttotal: 158ms\tremaining: 44.6ms\n",
            "78:\tlearn: 0.6104091\ttotal: 160ms\tremaining: 42.5ms\n",
            "79:\tlearn: 0.6094141\ttotal: 162ms\tremaining: 40.5ms\n",
            "80:\tlearn: 0.6077710\ttotal: 164ms\tremaining: 38.5ms\n",
            "81:\tlearn: 0.6066525\ttotal: 166ms\tremaining: 36.5ms\n",
            "82:\tlearn: 0.6054926\ttotal: 168ms\tremaining: 34.4ms\n",
            "83:\tlearn: 0.6043645\ttotal: 170ms\tremaining: 32.4ms\n",
            "84:\tlearn: 0.6029540\ttotal: 172ms\tremaining: 30.3ms\n",
            "85:\tlearn: 0.6011037\ttotal: 174ms\tremaining: 28.3ms\n",
            "86:\tlearn: 0.6003743\ttotal: 176ms\tremaining: 26.3ms\n",
            "87:\tlearn: 0.5992958\ttotal: 178ms\tremaining: 24.2ms\n",
            "88:\tlearn: 0.5984436\ttotal: 180ms\tremaining: 22.2ms\n",
            "89:\tlearn: 0.5962225\ttotal: 181ms\tremaining: 20.2ms\n",
            "90:\tlearn: 0.5950927\ttotal: 183ms\tremaining: 18.1ms\n",
            "91:\tlearn: 0.5929367\ttotal: 185ms\tremaining: 16.1ms\n",
            "92:\tlearn: 0.5911497\ttotal: 187ms\tremaining: 14.1ms\n",
            "93:\tlearn: 0.5900201\ttotal: 189ms\tremaining: 12.1ms\n",
            "94:\tlearn: 0.5887855\ttotal: 191ms\tremaining: 10ms\n",
            "95:\tlearn: 0.5876858\ttotal: 193ms\tremaining: 8.03ms\n",
            "96:\tlearn: 0.5874432\ttotal: 195ms\tremaining: 6.02ms\n",
            "97:\tlearn: 0.5864468\ttotal: 196ms\tremaining: 4.01ms\n",
            "98:\tlearn: 0.5854723\ttotal: 198ms\tremaining: 2ms\n",
            "99:\tlearn: 0.5841961\ttotal: 200ms\tremaining: 0us\n",
            "RMSE 0.6245889523191397\n",
            "0:\tlearn: 1.1169860\ttotal: 2.14ms\tremaining: 212ms\n",
            "1:\tlearn: 1.0663942\ttotal: 4.13ms\tremaining: 202ms\n",
            "2:\tlearn: 1.0221551\ttotal: 6.17ms\tremaining: 199ms\n",
            "3:\tlearn: 0.9859907\ttotal: 8.06ms\tremaining: 193ms\n",
            "4:\tlearn: 0.9519241\ttotal: 9.98ms\tremaining: 190ms\n",
            "5:\tlearn: 0.9158259\ttotal: 11.9ms\tremaining: 186ms\n",
            "6:\tlearn: 0.8898120\ttotal: 13.8ms\tremaining: 183ms\n",
            "7:\tlearn: 0.8652871\ttotal: 15.7ms\tremaining: 180ms\n",
            "8:\tlearn: 0.8443043\ttotal: 17.6ms\tremaining: 178ms\n",
            "9:\tlearn: 0.8270801\ttotal: 19.6ms\tremaining: 176ms\n",
            "10:\tlearn: 0.8108254\ttotal: 21.3ms\tremaining: 173ms\n",
            "11:\tlearn: 0.7965388\ttotal: 23.2ms\tremaining: 170ms\n",
            "12:\tlearn: 0.7834758\ttotal: 25.1ms\tremaining: 168ms\n",
            "13:\tlearn: 0.7713181\ttotal: 26.9ms\tremaining: 165ms\n",
            "14:\tlearn: 0.7620313\ttotal: 31.8ms\tremaining: 180ms\n",
            "15:\tlearn: 0.7529223\ttotal: 34.3ms\tremaining: 180ms\n",
            "16:\tlearn: 0.7460333\ttotal: 36.2ms\tremaining: 177ms\n",
            "17:\tlearn: 0.7363156\ttotal: 38.1ms\tremaining: 174ms\n",
            "18:\tlearn: 0.7285188\ttotal: 40ms\tremaining: 171ms\n",
            "19:\tlearn: 0.7231958\ttotal: 42ms\tremaining: 168ms\n",
            "20:\tlearn: 0.7162924\ttotal: 43.9ms\tremaining: 165ms\n",
            "21:\tlearn: 0.7124060\ttotal: 45.9ms\tremaining: 163ms\n",
            "22:\tlearn: 0.7091286\ttotal: 47.7ms\tremaining: 160ms\n",
            "23:\tlearn: 0.7055550\ttotal: 49.5ms\tremaining: 157ms\n",
            "24:\tlearn: 0.7023382\ttotal: 51.4ms\tremaining: 154ms\n",
            "25:\tlearn: 0.7003098\ttotal: 53.4ms\tremaining: 152ms\n",
            "26:\tlearn: 0.6964643\ttotal: 55.2ms\tremaining: 149ms\n",
            "27:\tlearn: 0.6913472\ttotal: 57.1ms\tremaining: 147ms\n",
            "28:\tlearn: 0.6888134\ttotal: 59.1ms\tremaining: 145ms\n",
            "29:\tlearn: 0.6850258\ttotal: 60.9ms\tremaining: 142ms\n",
            "30:\tlearn: 0.6822216\ttotal: 62.8ms\tremaining: 140ms\n",
            "31:\tlearn: 0.6783936\ttotal: 64.7ms\tremaining: 137ms\n",
            "32:\tlearn: 0.6768119\ttotal: 66.5ms\tremaining: 135ms\n",
            "33:\tlearn: 0.6745329\ttotal: 68.3ms\tremaining: 133ms\n",
            "34:\tlearn: 0.6708772\ttotal: 70.2ms\tremaining: 130ms\n",
            "35:\tlearn: 0.6675197\ttotal: 72.1ms\tremaining: 128ms\n",
            "36:\tlearn: 0.6664821\ttotal: 74.1ms\tremaining: 126ms\n",
            "37:\tlearn: 0.6648894\ttotal: 76ms\tremaining: 124ms\n",
            "38:\tlearn: 0.6640115\ttotal: 77.9ms\tremaining: 122ms\n",
            "39:\tlearn: 0.6615625\ttotal: 79.6ms\tremaining: 119ms\n",
            "40:\tlearn: 0.6594731\ttotal: 81.6ms\tremaining: 117ms\n",
            "41:\tlearn: 0.6584101\ttotal: 83.5ms\tremaining: 115ms\n",
            "42:\tlearn: 0.6574192\ttotal: 85.3ms\tremaining: 113ms\n",
            "43:\tlearn: 0.6558016\ttotal: 87.4ms\tremaining: 111ms\n",
            "44:\tlearn: 0.6544808\ttotal: 89.3ms\tremaining: 109ms\n",
            "45:\tlearn: 0.6516151\ttotal: 91.2ms\tremaining: 107ms\n",
            "46:\tlearn: 0.6488805\ttotal: 93.1ms\tremaining: 105ms\n",
            "47:\tlearn: 0.6469469\ttotal: 94.9ms\tremaining: 103ms\n",
            "48:\tlearn: 0.6452771\ttotal: 96.9ms\tremaining: 101ms\n",
            "49:\tlearn: 0.6435622\ttotal: 98.7ms\tremaining: 98.7ms\n",
            "50:\tlearn: 0.6416001\ttotal: 101ms\tremaining: 96.7ms\n",
            "51:\tlearn: 0.6406299\ttotal: 102ms\tremaining: 94.6ms\n",
            "52:\tlearn: 0.6395088\ttotal: 104ms\tremaining: 92.5ms\n",
            "53:\tlearn: 0.6386815\ttotal: 106ms\tremaining: 90.5ms\n",
            "54:\tlearn: 0.6368445\ttotal: 108ms\tremaining: 88.6ms\n",
            "55:\tlearn: 0.6352350\ttotal: 110ms\tremaining: 86.6ms\n",
            "56:\tlearn: 0.6346891\ttotal: 112ms\tremaining: 84.6ms\n",
            "57:\tlearn: 0.6334035\ttotal: 114ms\tremaining: 82.5ms\n",
            "58:\tlearn: 0.6310229\ttotal: 116ms\tremaining: 80.5ms\n",
            "59:\tlearn: 0.6286940\ttotal: 118ms\tremaining: 78.5ms\n",
            "60:\tlearn: 0.6269402\ttotal: 120ms\tremaining: 76.5ms\n",
            "61:\tlearn: 0.6261039\ttotal: 122ms\tremaining: 74.5ms\n",
            "62:\tlearn: 0.6248657\ttotal: 124ms\tremaining: 72.5ms\n",
            "63:\tlearn: 0.6234575\ttotal: 125ms\tremaining: 70.5ms\n",
            "64:\tlearn: 0.6217489\ttotal: 127ms\tremaining: 68.5ms\n",
            "65:\tlearn: 0.6198691\ttotal: 129ms\tremaining: 66.6ms\n",
            "66:\tlearn: 0.6193047\ttotal: 131ms\tremaining: 64.6ms\n",
            "67:\tlearn: 0.6181851\ttotal: 133ms\tremaining: 62.6ms\n",
            "68:\tlearn: 0.6166955\ttotal: 135ms\tremaining: 60.6ms\n",
            "69:\tlearn: 0.6152677\ttotal: 137ms\tremaining: 58.7ms\n",
            "70:\tlearn: 0.6145857\ttotal: 139ms\tremaining: 56.7ms\n",
            "71:\tlearn: 0.6131703\ttotal: 141ms\tremaining: 54.7ms\n",
            "72:\tlearn: 0.6124106\ttotal: 143ms\tremaining: 52.7ms\n",
            "73:\tlearn: 0.6113633\ttotal: 144ms\tremaining: 50.8ms\n",
            "74:\tlearn: 0.6099060\ttotal: 146ms\tremaining: 48.8ms\n",
            "75:\tlearn: 0.6094400\ttotal: 148ms\tremaining: 46.8ms\n",
            "76:\tlearn: 0.6083792\ttotal: 150ms\tremaining: 44.8ms\n",
            "77:\tlearn: 0.6076421\ttotal: 152ms\tremaining: 42.9ms\n",
            "78:\tlearn: 0.6062560\ttotal: 154ms\tremaining: 40.9ms\n",
            "79:\tlearn: 0.6050820\ttotal: 156ms\tremaining: 39ms\n",
            "80:\tlearn: 0.6032386\ttotal: 158ms\tremaining: 37ms\n",
            "81:\tlearn: 0.6021109\ttotal: 160ms\tremaining: 35.1ms\n",
            "82:\tlearn: 0.6008992\ttotal: 162ms\tremaining: 33.1ms\n",
            "83:\tlearn: 0.5991524\ttotal: 164ms\tremaining: 31.2ms\n",
            "84:\tlearn: 0.5980976\ttotal: 165ms\tremaining: 29.2ms\n",
            "85:\tlearn: 0.5973323\ttotal: 167ms\tremaining: 27.3ms\n",
            "86:\tlearn: 0.5967966\ttotal: 169ms\tremaining: 25.3ms\n",
            "87:\tlearn: 0.5957721\ttotal: 171ms\tremaining: 23.4ms\n",
            "88:\tlearn: 0.5949204\ttotal: 173ms\tremaining: 21.4ms\n",
            "89:\tlearn: 0.5946011\ttotal: 175ms\tremaining: 19.5ms\n",
            "90:\tlearn: 0.5938143\ttotal: 177ms\tremaining: 17.5ms\n",
            "91:\tlearn: 0.5928437\ttotal: 179ms\tremaining: 15.5ms\n",
            "92:\tlearn: 0.5915133\ttotal: 181ms\tremaining: 13.6ms\n",
            "93:\tlearn: 0.5902316\ttotal: 183ms\tremaining: 11.7ms\n",
            "94:\tlearn: 0.5899037\ttotal: 184ms\tremaining: 9.71ms\n",
            "95:\tlearn: 0.5884775\ttotal: 186ms\tremaining: 7.76ms\n",
            "96:\tlearn: 0.5880050\ttotal: 188ms\tremaining: 5.82ms\n",
            "97:\tlearn: 0.5872793\ttotal: 190ms\tremaining: 3.88ms\n",
            "98:\tlearn: 0.5863152\ttotal: 192ms\tremaining: 1.94ms\n",
            "99:\tlearn: 0.5861035\ttotal: 194ms\tremaining: 0us\n",
            "RMSE 0.68375808077994\n",
            "0:\tlearn: 1.1325800\ttotal: 2.08ms\tremaining: 206ms\n",
            "1:\tlearn: 1.0806394\ttotal: 4.12ms\tremaining: 202ms\n",
            "2:\tlearn: 1.0358241\ttotal: 6.11ms\tremaining: 198ms\n",
            "3:\tlearn: 0.9935331\ttotal: 8ms\tremaining: 192ms\n",
            "4:\tlearn: 0.9586784\ttotal: 10ms\tremaining: 190ms\n",
            "5:\tlearn: 0.9283371\ttotal: 12ms\tremaining: 188ms\n",
            "6:\tlearn: 0.8956634\ttotal: 14ms\tremaining: 186ms\n",
            "7:\tlearn: 0.8711145\ttotal: 16ms\tremaining: 183ms\n",
            "8:\tlearn: 0.8523983\ttotal: 17.8ms\tremaining: 180ms\n",
            "9:\tlearn: 0.8372724\ttotal: 19.7ms\tremaining: 177ms\n",
            "10:\tlearn: 0.8214825\ttotal: 21.6ms\tremaining: 175ms\n",
            "11:\tlearn: 0.8066788\ttotal: 23.4ms\tremaining: 172ms\n",
            "12:\tlearn: 0.7900020\ttotal: 25.3ms\tremaining: 170ms\n",
            "13:\tlearn: 0.7791862\ttotal: 27.3ms\tremaining: 168ms\n",
            "14:\tlearn: 0.7687839\ttotal: 29.1ms\tremaining: 165ms\n",
            "15:\tlearn: 0.7605749\ttotal: 31.1ms\tremaining: 164ms\n",
            "16:\tlearn: 0.7535878\ttotal: 33.1ms\tremaining: 162ms\n",
            "17:\tlearn: 0.7464256\ttotal: 35ms\tremaining: 160ms\n",
            "18:\tlearn: 0.7396124\ttotal: 37ms\tremaining: 158ms\n",
            "19:\tlearn: 0.7324747\ttotal: 38.9ms\tremaining: 155ms\n",
            "20:\tlearn: 0.7248601\ttotal: 40.8ms\tremaining: 154ms\n",
            "21:\tlearn: 0.7178768\ttotal: 42.8ms\tremaining: 152ms\n",
            "22:\tlearn: 0.7137661\ttotal: 44.7ms\tremaining: 150ms\n",
            "23:\tlearn: 0.7097446\ttotal: 46.7ms\tremaining: 148ms\n",
            "24:\tlearn: 0.7067844\ttotal: 48.6ms\tremaining: 146ms\n",
            "25:\tlearn: 0.7026589\ttotal: 50.6ms\tremaining: 144ms\n",
            "26:\tlearn: 0.6990654\ttotal: 52.6ms\tremaining: 142ms\n",
            "27:\tlearn: 0.6966521\ttotal: 54.6ms\tremaining: 140ms\n",
            "28:\tlearn: 0.6932218\ttotal: 56.6ms\tremaining: 139ms\n",
            "29:\tlearn: 0.6894988\ttotal: 58.5ms\tremaining: 136ms\n",
            "30:\tlearn: 0.6876129\ttotal: 60.4ms\tremaining: 134ms\n",
            "31:\tlearn: 0.6850562\ttotal: 62.3ms\tremaining: 132ms\n",
            "32:\tlearn: 0.6824438\ttotal: 66.1ms\tremaining: 134ms\n",
            "33:\tlearn: 0.6807573\ttotal: 67.8ms\tremaining: 132ms\n",
            "34:\tlearn: 0.6773985\ttotal: 69.6ms\tremaining: 129ms\n",
            "35:\tlearn: 0.6740818\ttotal: 71.6ms\tremaining: 127ms\n",
            "36:\tlearn: 0.6729717\ttotal: 73.4ms\tremaining: 125ms\n",
            "37:\tlearn: 0.6713848\ttotal: 75.4ms\tremaining: 123ms\n",
            "38:\tlearn: 0.6686665\ttotal: 77.2ms\tremaining: 121ms\n",
            "39:\tlearn: 0.6667181\ttotal: 78.9ms\tremaining: 118ms\n",
            "40:\tlearn: 0.6652186\ttotal: 80.9ms\tremaining: 116ms\n",
            "41:\tlearn: 0.6637606\ttotal: 82.8ms\tremaining: 114ms\n",
            "42:\tlearn: 0.6627173\ttotal: 84.6ms\tremaining: 112ms\n",
            "43:\tlearn: 0.6612497\ttotal: 86.5ms\tremaining: 110ms\n",
            "44:\tlearn: 0.6594595\ttotal: 88.5ms\tremaining: 108ms\n",
            "45:\tlearn: 0.6561730\ttotal: 90.4ms\tremaining: 106ms\n",
            "46:\tlearn: 0.6537758\ttotal: 92.2ms\tremaining: 104ms\n",
            "47:\tlearn: 0.6511010\ttotal: 100ms\tremaining: 109ms\n",
            "48:\tlearn: 0.6492698\ttotal: 104ms\tremaining: 109ms\n",
            "49:\tlearn: 0.6480956\ttotal: 107ms\tremaining: 107ms\n",
            "50:\tlearn: 0.6466274\ttotal: 109ms\tremaining: 105ms\n",
            "51:\tlearn: 0.6460108\ttotal: 111ms\tremaining: 103ms\n",
            "52:\tlearn: 0.6442074\ttotal: 113ms\tremaining: 101ms\n",
            "53:\tlearn: 0.6432804\ttotal: 116ms\tremaining: 98.4ms\n",
            "54:\tlearn: 0.6421197\ttotal: 117ms\tremaining: 96.1ms\n",
            "55:\tlearn: 0.6409472\ttotal: 119ms\tremaining: 93.7ms\n",
            "56:\tlearn: 0.6392920\ttotal: 121ms\tremaining: 91.5ms\n",
            "57:\tlearn: 0.6377654\ttotal: 123ms\tremaining: 89.2ms\n",
            "58:\tlearn: 0.6353134\ttotal: 125ms\tremaining: 87.2ms\n",
            "59:\tlearn: 0.6332433\ttotal: 127ms\tremaining: 84.9ms\n",
            "60:\tlearn: 0.6322317\ttotal: 129ms\tremaining: 82.7ms\n",
            "61:\tlearn: 0.6308388\ttotal: 131ms\tremaining: 80.4ms\n",
            "62:\tlearn: 0.6297041\ttotal: 133ms\tremaining: 78.1ms\n",
            "63:\tlearn: 0.6284471\ttotal: 135ms\tremaining: 75.9ms\n",
            "64:\tlearn: 0.6269676\ttotal: 137ms\tremaining: 73.7ms\n",
            "65:\tlearn: 0.6248140\ttotal: 139ms\tremaining: 71.6ms\n",
            "66:\tlearn: 0.6239313\ttotal: 141ms\tremaining: 69.3ms\n",
            "67:\tlearn: 0.6221454\ttotal: 143ms\tremaining: 67.2ms\n",
            "68:\tlearn: 0.6210147\ttotal: 145ms\tremaining: 65ms\n",
            "69:\tlearn: 0.6201578\ttotal: 147ms\tremaining: 62.8ms\n",
            "70:\tlearn: 0.6190953\ttotal: 148ms\tremaining: 60.6ms\n",
            "71:\tlearn: 0.6173200\ttotal: 150ms\tremaining: 58.5ms\n",
            "72:\tlearn: 0.6158019\ttotal: 152ms\tremaining: 56.3ms\n",
            "73:\tlearn: 0.6147046\ttotal: 154ms\tremaining: 54.2ms\n",
            "74:\tlearn: 0.6136267\ttotal: 156ms\tremaining: 52ms\n",
            "75:\tlearn: 0.6121816\ttotal: 158ms\tremaining: 49.9ms\n",
            "76:\tlearn: 0.6108520\ttotal: 160ms\tremaining: 47.8ms\n",
            "77:\tlearn: 0.6093229\ttotal: 162ms\tremaining: 45.7ms\n",
            "78:\tlearn: 0.6085637\ttotal: 164ms\tremaining: 43.5ms\n",
            "79:\tlearn: 0.6072554\ttotal: 166ms\tremaining: 41.5ms\n",
            "80:\tlearn: 0.6063064\ttotal: 168ms\tremaining: 39.3ms\n",
            "81:\tlearn: 0.6056948\ttotal: 170ms\tremaining: 37.2ms\n",
            "82:\tlearn: 0.6040928\ttotal: 172ms\tremaining: 35.1ms\n",
            "83:\tlearn: 0.6027645\ttotal: 174ms\tremaining: 33.1ms\n",
            "84:\tlearn: 0.6016030\ttotal: 176ms\tremaining: 31.1ms\n",
            "85:\tlearn: 0.6006925\ttotal: 178ms\tremaining: 29ms\n",
            "86:\tlearn: 0.5999455\ttotal: 180ms\tremaining: 26.9ms\n",
            "87:\tlearn: 0.5988619\ttotal: 182ms\tremaining: 24.8ms\n",
            "88:\tlearn: 0.5982367\ttotal: 183ms\tremaining: 22.7ms\n",
            "89:\tlearn: 0.5969328\ttotal: 185ms\tremaining: 20.6ms\n",
            "90:\tlearn: 0.5962190\ttotal: 187ms\tremaining: 18.5ms\n",
            "91:\tlearn: 0.5953178\ttotal: 189ms\tremaining: 16.4ms\n",
            "92:\tlearn: 0.5948069\ttotal: 192ms\tremaining: 14.5ms\n",
            "93:\tlearn: 0.5938136\ttotal: 196ms\tremaining: 12.5ms\n",
            "94:\tlearn: 0.5931413\ttotal: 198ms\tremaining: 10.4ms\n",
            "95:\tlearn: 0.5924873\ttotal: 200ms\tremaining: 8.34ms\n",
            "96:\tlearn: 0.5918723\ttotal: 202ms\tremaining: 6.25ms\n",
            "97:\tlearn: 0.5907137\ttotal: 204ms\tremaining: 4.16ms\n",
            "98:\tlearn: 0.5890757\ttotal: 206ms\tremaining: 2.08ms\n",
            "99:\tlearn: 0.5880602\ttotal: 208ms\tremaining: 0us\n",
            "RMSE 0.6836684752371196\n",
            "0:\tlearn: 1.1151543\ttotal: 2.15ms\tremaining: 213ms\n",
            "1:\tlearn: 1.0644777\ttotal: 4.41ms\tremaining: 216ms\n",
            "2:\tlearn: 1.0197898\ttotal: 6.32ms\tremaining: 204ms\n",
            "3:\tlearn: 0.9803446\ttotal: 8.22ms\tremaining: 197ms\n",
            "4:\tlearn: 0.9439506\ttotal: 10ms\tremaining: 191ms\n",
            "5:\tlearn: 0.9104607\ttotal: 12ms\tremaining: 188ms\n",
            "6:\tlearn: 0.8823218\ttotal: 13.9ms\tremaining: 185ms\n",
            "7:\tlearn: 0.8571540\ttotal: 15.7ms\tremaining: 181ms\n",
            "8:\tlearn: 0.8410989\ttotal: 17.6ms\tremaining: 178ms\n",
            "9:\tlearn: 0.8239452\ttotal: 19.4ms\tremaining: 175ms\n",
            "10:\tlearn: 0.8066863\ttotal: 21.3ms\tremaining: 172ms\n",
            "11:\tlearn: 0.7930210\ttotal: 23.2ms\tremaining: 170ms\n",
            "12:\tlearn: 0.7802607\ttotal: 25.1ms\tremaining: 168ms\n",
            "13:\tlearn: 0.7676094\ttotal: 27ms\tremaining: 166ms\n",
            "14:\tlearn: 0.7564407\ttotal: 28.8ms\tremaining: 163ms\n",
            "15:\tlearn: 0.7483095\ttotal: 30.7ms\tremaining: 161ms\n",
            "16:\tlearn: 0.7426717\ttotal: 32.6ms\tremaining: 159ms\n",
            "17:\tlearn: 0.7362014\ttotal: 34.4ms\tremaining: 157ms\n",
            "18:\tlearn: 0.7277009\ttotal: 36.3ms\tremaining: 155ms\n",
            "19:\tlearn: 0.7185206\ttotal: 38.2ms\tremaining: 153ms\n",
            "20:\tlearn: 0.7114549\ttotal: 40.1ms\tremaining: 151ms\n",
            "21:\tlearn: 0.7068395\ttotal: 42ms\tremaining: 149ms\n",
            "22:\tlearn: 0.7029550\ttotal: 43.8ms\tremaining: 147ms\n",
            "23:\tlearn: 0.6996925\ttotal: 45.7ms\tremaining: 145ms\n",
            "24:\tlearn: 0.6954672\ttotal: 47.5ms\tremaining: 142ms\n",
            "25:\tlearn: 0.6925619\ttotal: 49.3ms\tremaining: 140ms\n",
            "26:\tlearn: 0.6902027\ttotal: 51.1ms\tremaining: 138ms\n",
            "27:\tlearn: 0.6876766\ttotal: 53ms\tremaining: 136ms\n",
            "28:\tlearn: 0.6855660\ttotal: 54.9ms\tremaining: 134ms\n",
            "29:\tlearn: 0.6821824\ttotal: 56.9ms\tremaining: 133ms\n",
            "30:\tlearn: 0.6809582\ttotal: 58.8ms\tremaining: 131ms\n",
            "31:\tlearn: 0.6781754\ttotal: 60.7ms\tremaining: 129ms\n",
            "32:\tlearn: 0.6751584\ttotal: 62.6ms\tremaining: 127ms\n",
            "33:\tlearn: 0.6734943\ttotal: 64.6ms\tremaining: 125ms\n",
            "34:\tlearn: 0.6706855\ttotal: 66.5ms\tremaining: 124ms\n",
            "35:\tlearn: 0.6677787\ttotal: 68.5ms\tremaining: 122ms\n",
            "36:\tlearn: 0.6664224\ttotal: 70.4ms\tremaining: 120ms\n",
            "37:\tlearn: 0.6650503\ttotal: 72.3ms\tremaining: 118ms\n",
            "38:\tlearn: 0.6633009\ttotal: 74.2ms\tremaining: 116ms\n",
            "39:\tlearn: 0.6614372\ttotal: 76.1ms\tremaining: 114ms\n",
            "40:\tlearn: 0.6591091\ttotal: 78ms\tremaining: 112ms\n",
            "41:\tlearn: 0.6574581\ttotal: 79.9ms\tremaining: 110ms\n",
            "42:\tlearn: 0.6549347\ttotal: 81.9ms\tremaining: 109ms\n",
            "43:\tlearn: 0.6533790\ttotal: 83.7ms\tremaining: 107ms\n",
            "44:\tlearn: 0.6527345\ttotal: 85.6ms\tremaining: 105ms\n",
            "45:\tlearn: 0.6495282\ttotal: 87.6ms\tremaining: 103ms\n",
            "46:\tlearn: 0.6467292\ttotal: 89.5ms\tremaining: 101ms\n",
            "47:\tlearn: 0.6441110\ttotal: 91.4ms\tremaining: 99ms\n",
            "48:\tlearn: 0.6420971\ttotal: 93.3ms\tremaining: 97.1ms\n",
            "49:\tlearn: 0.6403848\ttotal: 95.2ms\tremaining: 95.2ms\n",
            "50:\tlearn: 0.6388419\ttotal: 97.1ms\tremaining: 93.2ms\n",
            "51:\tlearn: 0.6384002\ttotal: 98.9ms\tremaining: 91.3ms\n",
            "52:\tlearn: 0.6368883\ttotal: 101ms\tremaining: 89.3ms\n",
            "53:\tlearn: 0.6355056\ttotal: 103ms\tremaining: 87.4ms\n",
            "54:\tlearn: 0.6339645\ttotal: 104ms\tremaining: 85.5ms\n",
            "55:\tlearn: 0.6329257\ttotal: 106ms\tremaining: 83.5ms\n",
            "56:\tlearn: 0.6325731\ttotal: 108ms\tremaining: 81.6ms\n",
            "57:\tlearn: 0.6303083\ttotal: 110ms\tremaining: 79.8ms\n",
            "58:\tlearn: 0.6280268\ttotal: 112ms\tremaining: 77.9ms\n",
            "59:\tlearn: 0.6270991\ttotal: 114ms\tremaining: 76ms\n",
            "60:\tlearn: 0.6247018\ttotal: 116ms\tremaining: 74.1ms\n",
            "61:\tlearn: 0.6234824\ttotal: 118ms\tremaining: 72.2ms\n",
            "62:\tlearn: 0.6218924\ttotal: 119ms\tremaining: 70.2ms\n",
            "63:\tlearn: 0.6209746\ttotal: 121ms\tremaining: 68.2ms\n",
            "64:\tlearn: 0.6194946\ttotal: 123ms\tremaining: 66.3ms\n",
            "65:\tlearn: 0.6183838\ttotal: 125ms\tremaining: 64.4ms\n",
            "66:\tlearn: 0.6173492\ttotal: 127ms\tremaining: 62.5ms\n",
            "67:\tlearn: 0.6164888\ttotal: 129ms\tremaining: 60.6ms\n",
            "68:\tlearn: 0.6147686\ttotal: 131ms\tremaining: 58.7ms\n",
            "69:\tlearn: 0.6132867\ttotal: 132ms\tremaining: 56.8ms\n",
            "70:\tlearn: 0.6115291\ttotal: 134ms\tremaining: 54.9ms\n",
            "71:\tlearn: 0.6108693\ttotal: 136ms\tremaining: 53ms\n",
            "72:\tlearn: 0.6102677\ttotal: 138ms\tremaining: 51.1ms\n",
            "73:\tlearn: 0.6088697\ttotal: 140ms\tremaining: 49.2ms\n",
            "74:\tlearn: 0.6064867\ttotal: 143ms\tremaining: 47.7ms\n",
            "75:\tlearn: 0.6049333\ttotal: 147ms\tremaining: 46.5ms\n",
            "76:\tlearn: 0.6033350\ttotal: 149ms\tremaining: 44.6ms\n",
            "77:\tlearn: 0.6026391\ttotal: 151ms\tremaining: 42.6ms\n",
            "78:\tlearn: 0.6015944\ttotal: 153ms\tremaining: 40.7ms\n",
            "79:\tlearn: 0.6000753\ttotal: 155ms\tremaining: 38.8ms\n",
            "80:\tlearn: 0.5983947\ttotal: 157ms\tremaining: 36.8ms\n",
            "81:\tlearn: 0.5977295\ttotal: 159ms\tremaining: 34.9ms\n",
            "82:\tlearn: 0.5969695\ttotal: 161ms\tremaining: 32.9ms\n",
            "83:\tlearn: 0.5953191\ttotal: 163ms\tremaining: 31ms\n",
            "84:\tlearn: 0.5937874\ttotal: 164ms\tremaining: 29ms\n",
            "85:\tlearn: 0.5923233\ttotal: 166ms\tremaining: 27.1ms\n",
            "86:\tlearn: 0.5910671\ttotal: 168ms\tremaining: 25.2ms\n",
            "87:\tlearn: 0.5906935\ttotal: 170ms\tremaining: 23.2ms\n",
            "88:\tlearn: 0.5896514\ttotal: 172ms\tremaining: 21.3ms\n",
            "89:\tlearn: 0.5875285\ttotal: 174ms\tremaining: 19.3ms\n",
            "90:\tlearn: 0.5868253\ttotal: 176ms\tremaining: 17.4ms\n",
            "91:\tlearn: 0.5861870\ttotal: 178ms\tremaining: 15.5ms\n",
            "92:\tlearn: 0.5850266\ttotal: 180ms\tremaining: 13.5ms\n",
            "93:\tlearn: 0.5842802\ttotal: 182ms\tremaining: 11.6ms\n",
            "94:\tlearn: 0.5837167\ttotal: 184ms\tremaining: 9.66ms\n",
            "95:\tlearn: 0.5833239\ttotal: 185ms\tremaining: 7.72ms\n",
            "96:\tlearn: 0.5825485\ttotal: 187ms\tremaining: 5.79ms\n",
            "97:\tlearn: 0.5818513\ttotal: 189ms\tremaining: 3.86ms\n",
            "98:\tlearn: 0.5803924\ttotal: 191ms\tremaining: 1.93ms\n",
            "99:\tlearn: 0.5796941\ttotal: 193ms\tremaining: 0us\n",
            "RMSE 0.7674713010661882\n",
            "0:\tlearn: 1.1190988\ttotal: 2.79ms\tremaining: 276ms\n",
            "1:\tlearn: 1.0665627\ttotal: 5.72ms\tremaining: 281ms\n",
            "2:\tlearn: 1.0256284\ttotal: 7.98ms\tremaining: 258ms\n",
            "3:\tlearn: 0.9872989\ttotal: 10ms\tremaining: 241ms\n",
            "4:\tlearn: 0.9488172\ttotal: 12ms\tremaining: 228ms\n",
            "5:\tlearn: 0.9169180\ttotal: 13.9ms\tremaining: 218ms\n",
            "6:\tlearn: 0.8872553\ttotal: 15.9ms\tremaining: 211ms\n",
            "7:\tlearn: 0.8640709\ttotal: 17.8ms\tremaining: 205ms\n",
            "8:\tlearn: 0.8467604\ttotal: 19.7ms\tremaining: 199ms\n",
            "9:\tlearn: 0.8275323\ttotal: 21.6ms\tremaining: 195ms\n",
            "10:\tlearn: 0.8100789\ttotal: 23.5ms\tremaining: 190ms\n",
            "11:\tlearn: 0.7968371\ttotal: 25.3ms\tremaining: 186ms\n",
            "12:\tlearn: 0.7817774\ttotal: 27.2ms\tremaining: 182ms\n",
            "13:\tlearn: 0.7690041\ttotal: 29.1ms\tremaining: 179ms\n",
            "14:\tlearn: 0.7587258\ttotal: 30.9ms\tremaining: 175ms\n",
            "15:\tlearn: 0.7500925\ttotal: 33.7ms\tremaining: 177ms\n",
            "16:\tlearn: 0.7384901\ttotal: 36ms\tremaining: 176ms\n",
            "17:\tlearn: 0.7296239\ttotal: 38.7ms\tremaining: 176ms\n",
            "18:\tlearn: 0.7225852\ttotal: 41.1ms\tremaining: 175ms\n",
            "19:\tlearn: 0.7153008\ttotal: 43ms\tremaining: 172ms\n",
            "20:\tlearn: 0.7108578\ttotal: 44.9ms\tremaining: 169ms\n",
            "21:\tlearn: 0.7041261\ttotal: 46.9ms\tremaining: 166ms\n",
            "22:\tlearn: 0.7015107\ttotal: 48.7ms\tremaining: 163ms\n",
            "23:\tlearn: 0.6980610\ttotal: 50.8ms\tremaining: 161ms\n",
            "24:\tlearn: 0.6931902\ttotal: 52.8ms\tremaining: 159ms\n",
            "25:\tlearn: 0.6912009\ttotal: 54.8ms\tremaining: 156ms\n",
            "26:\tlearn: 0.6861829\ttotal: 57ms\tremaining: 154ms\n",
            "27:\tlearn: 0.6837960\ttotal: 58.9ms\tremaining: 151ms\n",
            "28:\tlearn: 0.6809619\ttotal: 60.9ms\tremaining: 149ms\n",
            "29:\tlearn: 0.6773992\ttotal: 62.7ms\tremaining: 146ms\n",
            "30:\tlearn: 0.6749801\ttotal: 64.7ms\tremaining: 144ms\n",
            "31:\tlearn: 0.6720497\ttotal: 66.7ms\tremaining: 142ms\n",
            "32:\tlearn: 0.6695562\ttotal: 68.5ms\tremaining: 139ms\n",
            "33:\tlearn: 0.6675672\ttotal: 70.6ms\tremaining: 137ms\n",
            "34:\tlearn: 0.6650706\ttotal: 72.5ms\tremaining: 135ms\n",
            "35:\tlearn: 0.6626534\ttotal: 74.6ms\tremaining: 133ms\n",
            "36:\tlearn: 0.6593312\ttotal: 76.5ms\tremaining: 130ms\n",
            "37:\tlearn: 0.6584453\ttotal: 78.4ms\tremaining: 128ms\n",
            "38:\tlearn: 0.6572740\ttotal: 80.3ms\tremaining: 126ms\n",
            "39:\tlearn: 0.6547003\ttotal: 82.1ms\tremaining: 123ms\n",
            "40:\tlearn: 0.6532527\ttotal: 83.9ms\tremaining: 121ms\n",
            "41:\tlearn: 0.6519596\ttotal: 85.8ms\tremaining: 119ms\n",
            "42:\tlearn: 0.6506020\ttotal: 87.7ms\tremaining: 116ms\n",
            "43:\tlearn: 0.6480567\ttotal: 89.7ms\tremaining: 114ms\n",
            "44:\tlearn: 0.6474086\ttotal: 91.6ms\tremaining: 112ms\n",
            "45:\tlearn: 0.6448380\ttotal: 93.7ms\tremaining: 110ms\n",
            "46:\tlearn: 0.6441002\ttotal: 95.1ms\tremaining: 107ms\n",
            "47:\tlearn: 0.6426690\ttotal: 96.9ms\tremaining: 105ms\n",
            "48:\tlearn: 0.6413717\ttotal: 99ms\tremaining: 103ms\n",
            "49:\tlearn: 0.6397538\ttotal: 101ms\tremaining: 101ms\n",
            "50:\tlearn: 0.6377732\ttotal: 103ms\tremaining: 98.9ms\n",
            "51:\tlearn: 0.6355249\ttotal: 105ms\tremaining: 96.8ms\n",
            "52:\tlearn: 0.6342191\ttotal: 112ms\tremaining: 99.6ms\n",
            "53:\tlearn: 0.6327222\ttotal: 114ms\tremaining: 97.4ms\n",
            "54:\tlearn: 0.6313807\ttotal: 116ms\tremaining: 95.2ms\n",
            "55:\tlearn: 0.6301654\ttotal: 118ms\tremaining: 92.9ms\n",
            "56:\tlearn: 0.6294333\ttotal: 120ms\tremaining: 90.6ms\n",
            "57:\tlearn: 0.6279469\ttotal: 122ms\tremaining: 88.4ms\n",
            "58:\tlearn: 0.6269648\ttotal: 124ms\tremaining: 86.2ms\n",
            "59:\tlearn: 0.6254717\ttotal: 126ms\tremaining: 84ms\n",
            "60:\tlearn: 0.6243053\ttotal: 128ms\tremaining: 81.9ms\n",
            "61:\tlearn: 0.6235317\ttotal: 130ms\tremaining: 79.6ms\n",
            "62:\tlearn: 0.6219156\ttotal: 132ms\tremaining: 77.4ms\n",
            "63:\tlearn: 0.6207325\ttotal: 134ms\tremaining: 75.2ms\n",
            "64:\tlearn: 0.6198224\ttotal: 136ms\tremaining: 73ms\n",
            "65:\tlearn: 0.6176887\ttotal: 137ms\tremaining: 70.8ms\n",
            "66:\tlearn: 0.6165045\ttotal: 139ms\tremaining: 68.6ms\n",
            "67:\tlearn: 0.6155477\ttotal: 141ms\tremaining: 66.5ms\n",
            "68:\tlearn: 0.6138790\ttotal: 143ms\tremaining: 64.3ms\n",
            "69:\tlearn: 0.6131546\ttotal: 145ms\tremaining: 62.1ms\n",
            "70:\tlearn: 0.6118783\ttotal: 147ms\tremaining: 60ms\n",
            "71:\tlearn: 0.6098553\ttotal: 149ms\tremaining: 57.9ms\n",
            "72:\tlearn: 0.6085710\ttotal: 151ms\tremaining: 55.7ms\n",
            "73:\tlearn: 0.6069805\ttotal: 153ms\tremaining: 53.6ms\n",
            "74:\tlearn: 0.6062294\ttotal: 155ms\tremaining: 51.5ms\n",
            "75:\tlearn: 0.6047689\ttotal: 156ms\tremaining: 49.4ms\n",
            "76:\tlearn: 0.6035143\ttotal: 158ms\tremaining: 47.3ms\n",
            "77:\tlearn: 0.6010975\ttotal: 160ms\tremaining: 45.2ms\n",
            "78:\tlearn: 0.6002002\ttotal: 162ms\tremaining: 43.1ms\n",
            "79:\tlearn: 0.5987750\ttotal: 164ms\tremaining: 41ms\n",
            "80:\tlearn: 0.5977473\ttotal: 166ms\tremaining: 38.9ms\n",
            "81:\tlearn: 0.5966897\ttotal: 168ms\tremaining: 36.8ms\n",
            "82:\tlearn: 0.5954847\ttotal: 170ms\tremaining: 34.7ms\n",
            "83:\tlearn: 0.5940264\ttotal: 172ms\tremaining: 32.7ms\n",
            "84:\tlearn: 0.5928078\ttotal: 173ms\tremaining: 30.6ms\n",
            "85:\tlearn: 0.5922874\ttotal: 175ms\tremaining: 28.5ms\n",
            "86:\tlearn: 0.5911124\ttotal: 177ms\tremaining: 26.5ms\n",
            "87:\tlearn: 0.5896197\ttotal: 179ms\tremaining: 24.4ms\n",
            "88:\tlearn: 0.5883077\ttotal: 181ms\tremaining: 22.4ms\n",
            "89:\tlearn: 0.5875120\ttotal: 183ms\tremaining: 20.3ms\n",
            "90:\tlearn: 0.5865128\ttotal: 185ms\tremaining: 18.2ms\n",
            "91:\tlearn: 0.5861547\ttotal: 186ms\tremaining: 16.2ms\n",
            "92:\tlearn: 0.5846560\ttotal: 188ms\tremaining: 14.2ms\n",
            "93:\tlearn: 0.5831862\ttotal: 190ms\tremaining: 12.1ms\n",
            "94:\tlearn: 0.5816036\ttotal: 192ms\tremaining: 10.1ms\n",
            "95:\tlearn: 0.5810656\ttotal: 194ms\tremaining: 8.07ms\n",
            "96:\tlearn: 0.5801881\ttotal: 196ms\tremaining: 6.05ms\n",
            "97:\tlearn: 0.5792591\ttotal: 198ms\tremaining: 4.03ms\n",
            "98:\tlearn: 0.5784208\ttotal: 200ms\tremaining: 2.02ms\n",
            "99:\tlearn: 0.5777485\ttotal: 201ms\tremaining: 0us\n",
            "RMSE 0.715072393714417\n",
            "0:\tlearn: 1.1077495\ttotal: 2.15ms\tremaining: 212ms\n",
            "1:\tlearn: 1.0585811\ttotal: 4.08ms\tremaining: 200ms\n",
            "2:\tlearn: 1.0174855\ttotal: 5.93ms\tremaining: 192ms\n",
            "3:\tlearn: 0.9804053\ttotal: 7.87ms\tremaining: 189ms\n",
            "4:\tlearn: 0.9462744\ttotal: 9.84ms\tremaining: 187ms\n",
            "5:\tlearn: 0.9143432\ttotal: 11.8ms\tremaining: 185ms\n",
            "6:\tlearn: 0.8842849\ttotal: 13.8ms\tremaining: 183ms\n",
            "7:\tlearn: 0.8621180\ttotal: 15.8ms\tremaining: 182ms\n",
            "8:\tlearn: 0.8439626\ttotal: 17.7ms\tremaining: 179ms\n",
            "9:\tlearn: 0.8254062\ttotal: 19.7ms\tremaining: 177ms\n",
            "10:\tlearn: 0.8095059\ttotal: 21.5ms\tremaining: 174ms\n",
            "11:\tlearn: 0.7975621\ttotal: 23.5ms\tremaining: 172ms\n",
            "12:\tlearn: 0.7814002\ttotal: 25.4ms\tremaining: 170ms\n",
            "13:\tlearn: 0.7717446\ttotal: 27.3ms\tremaining: 168ms\n",
            "14:\tlearn: 0.7605003\ttotal: 29.2ms\tremaining: 165ms\n",
            "15:\tlearn: 0.7521359\ttotal: 31ms\tremaining: 163ms\n",
            "16:\tlearn: 0.7428364\ttotal: 33ms\tremaining: 161ms\n",
            "17:\tlearn: 0.7351933\ttotal: 34.8ms\tremaining: 159ms\n",
            "18:\tlearn: 0.7261824\ttotal: 36.8ms\tremaining: 157ms\n",
            "19:\tlearn: 0.7193573\ttotal: 38.7ms\tremaining: 155ms\n",
            "20:\tlearn: 0.7135160\ttotal: 40.5ms\tremaining: 152ms\n",
            "21:\tlearn: 0.7090682\ttotal: 42.5ms\tremaining: 151ms\n",
            "22:\tlearn: 0.7050362\ttotal: 44.3ms\tremaining: 148ms\n",
            "23:\tlearn: 0.6997541\ttotal: 46ms\tremaining: 146ms\n",
            "24:\tlearn: 0.6950183\ttotal: 48ms\tremaining: 144ms\n",
            "25:\tlearn: 0.6928399\ttotal: 49.9ms\tremaining: 142ms\n",
            "26:\tlearn: 0.6888869\ttotal: 51.8ms\tremaining: 140ms\n",
            "27:\tlearn: 0.6837913\ttotal: 53.7ms\tremaining: 138ms\n",
            "28:\tlearn: 0.6816979\ttotal: 55.5ms\tremaining: 136ms\n",
            "29:\tlearn: 0.6782137\ttotal: 57.4ms\tremaining: 134ms\n",
            "30:\tlearn: 0.6763195\ttotal: 59.2ms\tremaining: 132ms\n",
            "31:\tlearn: 0.6736459\ttotal: 61ms\tremaining: 130ms\n",
            "32:\tlearn: 0.6715386\ttotal: 63ms\tremaining: 128ms\n",
            "33:\tlearn: 0.6670927\ttotal: 64.8ms\tremaining: 126ms\n",
            "34:\tlearn: 0.6642073\ttotal: 70.3ms\tremaining: 131ms\n",
            "35:\tlearn: 0.6615509\ttotal: 72.6ms\tremaining: 129ms\n",
            "36:\tlearn: 0.6593437\ttotal: 74.6ms\tremaining: 127ms\n",
            "37:\tlearn: 0.6578191\ttotal: 76.6ms\tremaining: 125ms\n",
            "38:\tlearn: 0.6568649\ttotal: 78.4ms\tremaining: 123ms\n",
            "39:\tlearn: 0.6551843\ttotal: 80.3ms\tremaining: 121ms\n",
            "40:\tlearn: 0.6531835\ttotal: 82.2ms\tremaining: 118ms\n",
            "41:\tlearn: 0.6515982\ttotal: 84.1ms\tremaining: 116ms\n",
            "42:\tlearn: 0.6495182\ttotal: 86ms\tremaining: 114ms\n",
            "43:\tlearn: 0.6479881\ttotal: 88.1ms\tremaining: 112ms\n",
            "44:\tlearn: 0.6464337\ttotal: 89.9ms\tremaining: 110ms\n",
            "45:\tlearn: 0.6441592\ttotal: 91.9ms\tremaining: 108ms\n",
            "46:\tlearn: 0.6425781\ttotal: 93.8ms\tremaining: 106ms\n",
            "47:\tlearn: 0.6408351\ttotal: 95.7ms\tremaining: 104ms\n",
            "48:\tlearn: 0.6395677\ttotal: 97.6ms\tremaining: 102ms\n",
            "49:\tlearn: 0.6380217\ttotal: 99.5ms\tremaining: 99.5ms\n",
            "50:\tlearn: 0.6362696\ttotal: 101ms\tremaining: 97.4ms\n",
            "51:\tlearn: 0.6356149\ttotal: 103ms\tremaining: 95.2ms\n",
            "52:\tlearn: 0.6337862\ttotal: 105ms\tremaining: 93ms\n",
            "53:\tlearn: 0.6329166\ttotal: 107ms\tremaining: 91ms\n",
            "54:\tlearn: 0.6305726\ttotal: 109ms\tremaining: 89ms\n",
            "55:\tlearn: 0.6292145\ttotal: 111ms\tremaining: 86.9ms\n",
            "56:\tlearn: 0.6286488\ttotal: 113ms\tremaining: 84.9ms\n",
            "57:\tlearn: 0.6274006\ttotal: 114ms\tremaining: 82.9ms\n",
            "58:\tlearn: 0.6257731\ttotal: 116ms\tremaining: 80.9ms\n",
            "59:\tlearn: 0.6240180\ttotal: 118ms\tremaining: 79ms\n",
            "60:\tlearn: 0.6230329\ttotal: 120ms\tremaining: 77ms\n",
            "61:\tlearn: 0.6216314\ttotal: 122ms\tremaining: 74.9ms\n",
            "62:\tlearn: 0.6197745\ttotal: 124ms\tremaining: 72.9ms\n",
            "63:\tlearn: 0.6185296\ttotal: 126ms\tremaining: 70.9ms\n",
            "64:\tlearn: 0.6175895\ttotal: 128ms\tremaining: 68.9ms\n",
            "65:\tlearn: 0.6163145\ttotal: 130ms\tremaining: 66.9ms\n",
            "66:\tlearn: 0.6153290\ttotal: 132ms\tremaining: 64.9ms\n",
            "67:\tlearn: 0.6145059\ttotal: 134ms\tremaining: 62.9ms\n",
            "68:\tlearn: 0.6129410\ttotal: 135ms\tremaining: 60.9ms\n",
            "69:\tlearn: 0.6116334\ttotal: 137ms\tremaining: 58.9ms\n",
            "70:\tlearn: 0.6098920\ttotal: 139ms\tremaining: 56.9ms\n",
            "71:\tlearn: 0.6086101\ttotal: 141ms\tremaining: 54.9ms\n",
            "72:\tlearn: 0.6076791\ttotal: 143ms\tremaining: 52.9ms\n",
            "73:\tlearn: 0.6066685\ttotal: 145ms\tremaining: 50.9ms\n",
            "74:\tlearn: 0.6049197\ttotal: 147ms\tremaining: 48.9ms\n",
            "75:\tlearn: 0.6038080\ttotal: 149ms\tremaining: 46.9ms\n",
            "76:\tlearn: 0.6026089\ttotal: 150ms\tremaining: 44.9ms\n",
            "77:\tlearn: 0.6018466\ttotal: 152ms\tremaining: 43ms\n",
            "78:\tlearn: 0.6011757\ttotal: 154ms\tremaining: 41ms\n",
            "79:\tlearn: 0.5992556\ttotal: 156ms\tremaining: 39ms\n",
            "80:\tlearn: 0.5973893\ttotal: 158ms\tremaining: 37ms\n",
            "81:\tlearn: 0.5956487\ttotal: 160ms\tremaining: 35.1ms\n",
            "82:\tlearn: 0.5944552\ttotal: 162ms\tremaining: 33.1ms\n",
            "83:\tlearn: 0.5932384\ttotal: 164ms\tremaining: 31.2ms\n",
            "84:\tlearn: 0.5925053\ttotal: 165ms\tremaining: 29.2ms\n",
            "85:\tlearn: 0.5915424\ttotal: 167ms\tremaining: 27.2ms\n",
            "86:\tlearn: 0.5906921\ttotal: 169ms\tremaining: 25.3ms\n",
            "87:\tlearn: 0.5891474\ttotal: 171ms\tremaining: 23.3ms\n",
            "88:\tlearn: 0.5882467\ttotal: 173ms\tremaining: 21.4ms\n",
            "89:\tlearn: 0.5874721\ttotal: 175ms\tremaining: 19.4ms\n",
            "90:\tlearn: 0.5865647\ttotal: 177ms\tremaining: 17.5ms\n",
            "91:\tlearn: 0.5848913\ttotal: 179ms\tremaining: 15.5ms\n",
            "92:\tlearn: 0.5839370\ttotal: 181ms\tremaining: 13.6ms\n",
            "93:\tlearn: 0.5826712\ttotal: 183ms\tremaining: 11.7ms\n",
            "94:\tlearn: 0.5820714\ttotal: 184ms\tremaining: 9.7ms\n",
            "95:\tlearn: 0.5818128\ttotal: 188ms\tremaining: 7.85ms\n",
            "96:\tlearn: 0.5810144\ttotal: 190ms\tremaining: 5.89ms\n",
            "97:\tlearn: 0.5797865\ttotal: 192ms\tremaining: 3.93ms\n",
            "98:\tlearn: 0.5785327\ttotal: 194ms\tremaining: 1.96ms\n",
            "99:\tlearn: 0.5771799\ttotal: 196ms\tremaining: 0us\n",
            "RMSE 0.7386006315076088\n",
            "0:\tlearn: 1.1064778\ttotal: 2.12ms\tremaining: 210ms\n",
            "1:\tlearn: 1.0587161\ttotal: 4.18ms\tremaining: 205ms\n",
            "2:\tlearn: 1.0135512\ttotal: 6.12ms\tremaining: 198ms\n",
            "3:\tlearn: 0.9846076\ttotal: 7.96ms\tremaining: 191ms\n",
            "4:\tlearn: 0.9493711\ttotal: 9.91ms\tremaining: 188ms\n",
            "5:\tlearn: 0.9180888\ttotal: 11.8ms\tremaining: 185ms\n",
            "6:\tlearn: 0.8899465\ttotal: 13.7ms\tremaining: 183ms\n",
            "7:\tlearn: 0.8659573\ttotal: 15.7ms\tremaining: 181ms\n",
            "8:\tlearn: 0.8499310\ttotal: 17.6ms\tremaining: 178ms\n",
            "9:\tlearn: 0.8306812\ttotal: 19.5ms\tremaining: 175ms\n",
            "10:\tlearn: 0.8111460\ttotal: 21.5ms\tremaining: 174ms\n",
            "11:\tlearn: 0.7973063\ttotal: 23.3ms\tremaining: 171ms\n",
            "12:\tlearn: 0.7791242\ttotal: 25.4ms\tremaining: 170ms\n",
            "13:\tlearn: 0.7669848\ttotal: 27.4ms\tremaining: 168ms\n",
            "14:\tlearn: 0.7551554\ttotal: 29.3ms\tremaining: 166ms\n",
            "15:\tlearn: 0.7465616\ttotal: 35.3ms\tremaining: 185ms\n",
            "16:\tlearn: 0.7363398\ttotal: 37.4ms\tremaining: 183ms\n",
            "17:\tlearn: 0.7272049\ttotal: 40ms\tremaining: 182ms\n",
            "18:\tlearn: 0.7194894\ttotal: 43.1ms\tremaining: 184ms\n",
            "19:\tlearn: 0.7139435\ttotal: 46.6ms\tremaining: 186ms\n",
            "20:\tlearn: 0.7064641\ttotal: 48.5ms\tremaining: 182ms\n",
            "21:\tlearn: 0.7024521\ttotal: 50.3ms\tremaining: 178ms\n",
            "22:\tlearn: 0.6985830\ttotal: 52.2ms\tremaining: 175ms\n",
            "23:\tlearn: 0.6940714\ttotal: 54.1ms\tremaining: 171ms\n",
            "24:\tlearn: 0.6908420\ttotal: 55.8ms\tremaining: 167ms\n",
            "25:\tlearn: 0.6875063\ttotal: 57.7ms\tremaining: 164ms\n",
            "26:\tlearn: 0.6837439\ttotal: 59.7ms\tremaining: 161ms\n",
            "27:\tlearn: 0.6803753\ttotal: 61.6ms\tremaining: 158ms\n",
            "28:\tlearn: 0.6778943\ttotal: 63.4ms\tremaining: 155ms\n",
            "29:\tlearn: 0.6747472\ttotal: 65.4ms\tremaining: 153ms\n",
            "30:\tlearn: 0.6736074\ttotal: 67.3ms\tremaining: 150ms\n",
            "31:\tlearn: 0.6715774\ttotal: 69ms\tremaining: 147ms\n",
            "32:\tlearn: 0.6704516\ttotal: 70.9ms\tremaining: 144ms\n",
            "33:\tlearn: 0.6673824\ttotal: 72.9ms\tremaining: 142ms\n",
            "34:\tlearn: 0.6637356\ttotal: 74.7ms\tremaining: 139ms\n",
            "35:\tlearn: 0.6609143\ttotal: 76.5ms\tremaining: 136ms\n",
            "36:\tlearn: 0.6594762\ttotal: 78.4ms\tremaining: 134ms\n",
            "37:\tlearn: 0.6579536\ttotal: 80.3ms\tremaining: 131ms\n",
            "38:\tlearn: 0.6550702\ttotal: 82.2ms\tremaining: 129ms\n",
            "39:\tlearn: 0.6529101\ttotal: 84.1ms\tremaining: 126ms\n",
            "40:\tlearn: 0.6506766\ttotal: 85.9ms\tremaining: 124ms\n",
            "41:\tlearn: 0.6486704\ttotal: 87.8ms\tremaining: 121ms\n",
            "42:\tlearn: 0.6466901\ttotal: 89.8ms\tremaining: 119ms\n",
            "43:\tlearn: 0.6453031\ttotal: 91.6ms\tremaining: 117ms\n",
            "44:\tlearn: 0.6444726\ttotal: 93.4ms\tremaining: 114ms\n",
            "45:\tlearn: 0.6413585\ttotal: 95.3ms\tremaining: 112ms\n",
            "46:\tlearn: 0.6393359\ttotal: 97.2ms\tremaining: 110ms\n",
            "47:\tlearn: 0.6381872\ttotal: 99.2ms\tremaining: 107ms\n",
            "48:\tlearn: 0.6365846\ttotal: 101ms\tremaining: 105ms\n",
            "49:\tlearn: 0.6345328\ttotal: 103ms\tremaining: 103ms\n",
            "50:\tlearn: 0.6328006\ttotal: 105ms\tremaining: 101ms\n",
            "51:\tlearn: 0.6322495\ttotal: 107ms\tremaining: 98.5ms\n",
            "52:\tlearn: 0.6304473\ttotal: 109ms\tremaining: 96.4ms\n",
            "53:\tlearn: 0.6290026\ttotal: 111ms\tremaining: 94.2ms\n",
            "54:\tlearn: 0.6278347\ttotal: 113ms\tremaining: 92.1ms\n",
            "55:\tlearn: 0.6263872\ttotal: 114ms\tremaining: 89.9ms\n",
            "56:\tlearn: 0.6252365\ttotal: 120ms\tremaining: 90.4ms\n",
            "57:\tlearn: 0.6235521\ttotal: 123ms\tremaining: 89.1ms\n",
            "58:\tlearn: 0.6220982\ttotal: 126ms\tremaining: 87.8ms\n",
            "59:\tlearn: 0.6211482\ttotal: 128ms\tremaining: 85.6ms\n",
            "60:\tlearn: 0.6195245\ttotal: 130ms\tremaining: 83.4ms\n",
            "61:\tlearn: 0.6184066\ttotal: 132ms\tremaining: 81.1ms\n",
            "62:\tlearn: 0.6167005\ttotal: 134ms\tremaining: 78.8ms\n",
            "63:\tlearn: 0.6158306\ttotal: 136ms\tremaining: 76.5ms\n",
            "64:\tlearn: 0.6146680\ttotal: 138ms\tremaining: 74.2ms\n",
            "65:\tlearn: 0.6133825\ttotal: 140ms\tremaining: 72ms\n",
            "66:\tlearn: 0.6125151\ttotal: 142ms\tremaining: 69.7ms\n",
            "67:\tlearn: 0.6115030\ttotal: 144ms\tremaining: 67.5ms\n",
            "68:\tlearn: 0.6100457\ttotal: 145ms\tremaining: 65.3ms\n",
            "69:\tlearn: 0.6088523\ttotal: 147ms\tremaining: 63.2ms\n",
            "70:\tlearn: 0.6080603\ttotal: 149ms\tremaining: 61ms\n",
            "71:\tlearn: 0.6062525\ttotal: 151ms\tremaining: 58.9ms\n",
            "72:\tlearn: 0.6056204\ttotal: 153ms\tremaining: 56.7ms\n",
            "73:\tlearn: 0.6043781\ttotal: 155ms\tremaining: 54.5ms\n",
            "74:\tlearn: 0.6034948\ttotal: 157ms\tremaining: 52.3ms\n",
            "75:\tlearn: 0.6023662\ttotal: 159ms\tremaining: 50.2ms\n",
            "76:\tlearn: 0.6010850\ttotal: 161ms\tremaining: 48ms\n",
            "77:\tlearn: 0.5999135\ttotal: 163ms\tremaining: 45.9ms\n",
            "78:\tlearn: 0.5995983\ttotal: 165ms\tremaining: 43.7ms\n",
            "79:\tlearn: 0.5990488\ttotal: 166ms\tremaining: 41.6ms\n",
            "80:\tlearn: 0.5979152\ttotal: 168ms\tremaining: 39.5ms\n",
            "81:\tlearn: 0.5973249\ttotal: 170ms\tremaining: 37.3ms\n",
            "82:\tlearn: 0.5963485\ttotal: 172ms\tremaining: 35.2ms\n",
            "83:\tlearn: 0.5953154\ttotal: 174ms\tremaining: 33.1ms\n",
            "84:\tlearn: 0.5939296\ttotal: 176ms\tremaining: 31ms\n",
            "85:\tlearn: 0.5918629\ttotal: 178ms\tremaining: 28.9ms\n",
            "86:\tlearn: 0.5911859\ttotal: 179ms\tremaining: 26.8ms\n",
            "87:\tlearn: 0.5899330\ttotal: 181ms\tremaining: 24.7ms\n",
            "88:\tlearn: 0.5885887\ttotal: 183ms\tremaining: 22.6ms\n",
            "89:\tlearn: 0.5867205\ttotal: 185ms\tremaining: 20.6ms\n",
            "90:\tlearn: 0.5855839\ttotal: 187ms\tremaining: 18.5ms\n",
            "91:\tlearn: 0.5842685\ttotal: 189ms\tremaining: 16.4ms\n",
            "92:\tlearn: 0.5834681\ttotal: 191ms\tremaining: 14.3ms\n",
            "93:\tlearn: 0.5817750\ttotal: 192ms\tremaining: 12.3ms\n",
            "94:\tlearn: 0.5808479\ttotal: 194ms\tremaining: 10.2ms\n",
            "95:\tlearn: 0.5798528\ttotal: 196ms\tremaining: 8.18ms\n",
            "96:\tlearn: 0.5795036\ttotal: 198ms\tremaining: 6.12ms\n",
            "97:\tlearn: 0.5788093\ttotal: 200ms\tremaining: 4.08ms\n",
            "98:\tlearn: 0.5770969\ttotal: 202ms\tremaining: 2.04ms\n",
            "99:\tlearn: 0.5765117\ttotal: 204ms\tremaining: 0us\n",
            "RMSE 0.7676364466852112\n"
          ],
          "name": "stdout"
        }
      ]
    },
    {
      "cell_type": "code",
      "metadata": {
        "colab_type": "code",
        "id": "rCIayOblHC20",
        "colab": {
          "base_uri": "https://localhost:8080/",
          "height": 33
        },
        "outputId": "54f3cda4-ad78-4875-dcdd-f320449eba3c"
      },
      "source": [
        "np.mean(errcat)"
      ],
      "execution_count": null,
      "outputs": [
        {
          "output_type": "execute_result",
          "data": {
            "text/plain": [
              "0.6928971856646058"
            ]
          },
          "metadata": {
            "tags": []
          },
          "execution_count": 344
        }
      ]
    },
    {
      "cell_type": "code",
      "metadata": {
        "colab_type": "code",
        "id": "NsntJuUfHC3I",
        "colab": {}
      },
      "source": [
        "final4 = np.exp(np.mean(y_pred_totcat,0))"
      ],
      "execution_count": null,
      "outputs": []
    },
    {
      "cell_type": "code",
      "metadata": {
        "colab_type": "code",
        "id": "51Hd0ODvHC3Q",
        "colab": {}
      },
      "source": [
        "sub['Selling_Price'] = final4"
      ],
      "execution_count": null,
      "outputs": []
    },
    {
      "cell_type": "code",
      "metadata": {
        "colab_type": "code",
        "id": "4aNPO_q5HC3a",
        "colab": {
          "base_uri": "https://localhost:8080/",
          "height": 190
        },
        "outputId": "108ff7d7-e61f-460f-c078-c2885e6ecbaa"
      },
      "source": [
        "sub.head()"
      ],
      "execution_count": null,
      "outputs": [
        {
          "output_type": "execute_result",
          "data": {
            "text/html": [
              "<div>\n",
              "<style scoped>\n",
              "    .dataframe tbody tr th:only-of-type {\n",
              "        vertical-align: middle;\n",
              "    }\n",
              "\n",
              "    .dataframe tbody tr th {\n",
              "        vertical-align: top;\n",
              "    }\n",
              "\n",
              "    .dataframe thead th {\n",
              "        text-align: right;\n",
              "    }\n",
              "</style>\n",
              "<table border=\"1\" class=\"dataframe\">\n",
              "  <thead>\n",
              "    <tr style=\"text-align: right;\">\n",
              "      <th></th>\n",
              "      <th>Selling_Price</th>\n",
              "    </tr>\n",
              "  </thead>\n",
              "  <tbody>\n",
              "    <tr>\n",
              "      <th>0</th>\n",
              "      <td>2057.041411</td>\n",
              "    </tr>\n",
              "    <tr>\n",
              "      <th>1</th>\n",
              "      <td>439.949519</td>\n",
              "    </tr>\n",
              "    <tr>\n",
              "      <th>2</th>\n",
              "      <td>801.496517</td>\n",
              "    </tr>\n",
              "    <tr>\n",
              "      <th>3</th>\n",
              "      <td>345.155400</td>\n",
              "    </tr>\n",
              "    <tr>\n",
              "      <th>4</th>\n",
              "      <td>780.588641</td>\n",
              "    </tr>\n",
              "  </tbody>\n",
              "</table>\n",
              "</div>"
            ],
            "text/plain": [
              "   Selling_Price\n",
              "0    2057.041411\n",
              "1     439.949519\n",
              "2     801.496517\n",
              "3     345.155400\n",
              "4     780.588641"
            ]
          },
          "metadata": {
            "tags": []
          },
          "execution_count": 339
        }
      ]
    },
    {
      "cell_type": "code",
      "metadata": {
        "colab_type": "code",
        "id": "_ciA5GW6J_fs",
        "colab": {}
      },
      "source": [
        "sub.to_excel('pipe101.xlsx', index=False)"
      ],
      "execution_count": null,
      "outputs": []
    },
    {
      "cell_type": "code",
      "metadata": {
        "colab_type": "code",
        "id": "Zul3mXLNJ_f5",
        "colab": {}
      },
      "source": [
        "from google.colab import files\n",
        "files.download('pipe101.xlsx')"
      ],
      "execution_count": null,
      "outputs": []
    },
    {
      "cell_type": "code",
      "metadata": {
        "id": "Os5TnnmVKB8o",
        "colab_type": "code",
        "colab": {}
      },
      "source": [
        ""
      ],
      "execution_count": null,
      "outputs": []
    },
    {
      "cell_type": "markdown",
      "metadata": {
        "id": "ettQFs23N4_2",
        "colab_type": "text"
      },
      "source": [
        "#ensem\n"
      ]
    },
    {
      "cell_type": "code",
      "metadata": {
        "id": "f-zwp7SMN6xj",
        "colab_type": "code",
        "colab": {}
      },
      "source": [
        "final=final1*0.2+final2*0.4+final3*0.3+final4*0.1"
      ],
      "execution_count": null,
      "outputs": []
    },
    {
      "cell_type": "code",
      "metadata": {
        "id": "160RF3jWPU3W",
        "colab_type": "code",
        "colab": {}
      },
      "source": [
        "final=final1*0.15+final2*0.5+final3*0.25+final4*0.1"
      ],
      "execution_count": null,
      "outputs": []
    },
    {
      "cell_type": "code",
      "metadata": {
        "colab_type": "code",
        "id": "KzrTGlkfOQ-7",
        "colab": {}
      },
      "source": [
        "sub['Selling_Price'] = final"
      ],
      "execution_count": null,
      "outputs": []
    },
    {
      "cell_type": "code",
      "metadata": {
        "colab_type": "code",
        "id": "VJW0KyXDOQ_K",
        "colab": {
          "base_uri": "https://localhost:8080/",
          "height": 190
        },
        "outputId": "a3622f30-5cb3-4e61-db9f-1fc10369f05c"
      },
      "source": [
        "sub.head()"
      ],
      "execution_count": null,
      "outputs": [
        {
          "output_type": "execute_result",
          "data": {
            "text/html": [
              "<div>\n",
              "<style scoped>\n",
              "    .dataframe tbody tr th:only-of-type {\n",
              "        vertical-align: middle;\n",
              "    }\n",
              "\n",
              "    .dataframe tbody tr th {\n",
              "        vertical-align: top;\n",
              "    }\n",
              "\n",
              "    .dataframe thead th {\n",
              "        text-align: right;\n",
              "    }\n",
              "</style>\n",
              "<table border=\"1\" class=\"dataframe\">\n",
              "  <thead>\n",
              "    <tr style=\"text-align: right;\">\n",
              "      <th></th>\n",
              "      <th>Selling_Price</th>\n",
              "    </tr>\n",
              "  </thead>\n",
              "  <tbody>\n",
              "    <tr>\n",
              "      <th>0</th>\n",
              "      <td>1973.672036</td>\n",
              "    </tr>\n",
              "    <tr>\n",
              "      <th>1</th>\n",
              "      <td>480.103594</td>\n",
              "    </tr>\n",
              "    <tr>\n",
              "      <th>2</th>\n",
              "      <td>802.557053</td>\n",
              "    </tr>\n",
              "    <tr>\n",
              "      <th>3</th>\n",
              "      <td>345.370069</td>\n",
              "    </tr>\n",
              "    <tr>\n",
              "      <th>4</th>\n",
              "      <td>731.005673</td>\n",
              "    </tr>\n",
              "  </tbody>\n",
              "</table>\n",
              "</div>"
            ],
            "text/plain": [
              "   Selling_Price\n",
              "0    1973.672036\n",
              "1     480.103594\n",
              "2     802.557053\n",
              "3     345.370069\n",
              "4     731.005673"
            ]
          },
          "metadata": {
            "tags": []
          },
          "execution_count": 332
        }
      ]
    },
    {
      "cell_type": "code",
      "metadata": {
        "colab_type": "code",
        "id": "o3_e7gniOQ_d",
        "colab": {}
      },
      "source": [
        "sub.to_excel('pipeline_1.xlsx', index=False)"
      ],
      "execution_count": null,
      "outputs": []
    },
    {
      "cell_type": "code",
      "metadata": {
        "colab_type": "code",
        "id": "jj2qBJXyOQ_m",
        "colab": {}
      },
      "source": [
        "from google.colab import files\n",
        "files.download('pipeline_1.xlsx')"
      ],
      "execution_count": null,
      "outputs": []
    },
    {
      "cell_type": "code",
      "metadata": {
        "id": "twZ-T1tYN6t3",
        "colab_type": "code",
        "colab": {}
      },
      "source": [
        ""
      ],
      "execution_count": null,
      "outputs": []
    }
  ]
}