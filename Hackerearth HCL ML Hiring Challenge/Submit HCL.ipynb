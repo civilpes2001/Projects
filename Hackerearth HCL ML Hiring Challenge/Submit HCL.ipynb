{
 "cells": [
  {
   "cell_type": "code",
   "execution_count": 188,
   "metadata": {},
   "outputs": [],
   "source": [
    "import time  \n",
    "import autoit\n",
    "\n",
    "from selenium import webdriver\n",
    "from selenium.webdriver.common.keys import Keys\n",
    "from selenium.webdriver.support import expected_conditions as EC\n",
    "from selenium.webdriver.support.ui import WebDriverWait\n",
    "from selenium.webdriver.common.by import By\n",
    "from selenium.common.exceptions import NoSuchElementException\n",
    "\n",
    "import pandas as pd"
   ]
  },
  {
   "cell_type": "code",
   "execution_count": 156,
   "metadata": {},
   "outputs": [],
   "source": [
    "# launch challenge page\n",
    "\n",
    "path_dirver = r'F:\\ML\\HCL\\HCL ML Challenge\\chromedriver.exe'\n",
    "\n",
    "browser = webdriver.Chrome(path_dirver)\n",
    "browser.get('https://www.hackerearth.com/challenges/hiring/hcl-ml-hiring-2020/') \n",
    "\n",
    "time.sleep(2)"
   ]
  },
  {
   "cell_type": "code",
   "execution_count": 157,
   "metadata": {},
   "outputs": [],
   "source": [
    "# close all other open tabs\n",
    "\n",
    "original_window = browser.current_window_handle\n",
    "\n",
    "for window_handle in browser.window_handles:\n",
    "    if window_handle != original_window:\n",
    "        browser.switch_to.window(window_handle)\n",
    "        browser.close()\n",
    "        break\n",
    "\n",
    "browser.switch_to.window(original_window)"
   ]
  },
  {
   "cell_type": "code",
   "execution_count": 158,
   "metadata": {},
   "outputs": [],
   "source": [
    "# login with google\n",
    "\n",
    "email = 'example@gmail.com'\n",
    "pwd = 'pwd'\n",
    "\n",
    "login_modal = browser.find_element_by_xpath('/html/body/header/nav/ul[2]/li[2]/a')\n",
    "login_modal.click()\n",
    "time.sleep(1)\n",
    "assert len(browser.window_handles) == 1\n",
    "\n",
    "wait = WebDriverWait(browser, 10)\n",
    "\n",
    "browser.find_element_by_xpath('//*[@id=\"login-modal\"]/div[2]/div[1]/div[1]/a').click()\n",
    "wait.until(EC.number_of_windows_to_be(2))\n",
    "\n",
    "for window_handle in browser.window_handles:\n",
    "    if window_handle != original_window:\n",
    "        browser.switch_to.window(window_handle)\n",
    "        break\n",
    "\n",
    "tbox_email = browser.find_element_by_xpath('//*[@id=\"identifierId\"]')\n",
    "tbox_email.send_keys(eamil)\n",
    "\n",
    "browser.find_element_by_xpath('//*[@id=\"identifierNext\"]/span/span').click()\n",
    "\n",
    "time.sleep(2)\n",
    "\n",
    "tbox_pass = browser.find_element_by_xpath('//*[@id=\"password\"]/div[1]/div/div[1]/input')\n",
    "tbox_pass.send_keys(pwd)\n",
    "\n",
    "browser.find_element_by_xpath('//*[@id=\"passwordNext\"]/span/span').click()\n",
    "wait.until(EC.number_of_windows_to_be(1))\n",
    "\n",
    "\n",
    "browser.switch_to.window(original_window)"
   ]
  },
  {
   "cell_type": "code",
   "execution_count": 159,
   "metadata": {},
   "outputs": [],
   "source": [
    "# launch challenge\n",
    "\n",
    "browser.find_element_by_xpath('/html/body/div[11]/div/div[1]/div[2]/div[2]/div/a').click()"
   ]
  },
  {
   "cell_type": "code",
   "execution_count": 161,
   "metadata": {},
   "outputs": [],
   "source": [
    "# load complete submission file\n",
    "\n",
    "# set file path for complete submission file\n",
    "filepath = 'test_sub.csv'\n",
    "\n",
    "results = pd.read_csv(filepath)\n",
    "\n",
    "scores = results.copy()"
   ]
  },
  {
   "cell_type": "code",
   "execution_count": 172,
   "metadata": {},
   "outputs": [],
   "source": [
    "# add column to store score of each file\n",
    "\n",
    "scores['Scores'] = 0\n",
    "\n",
    "cols = ['Scores', 'Filename', 'Extracted Values']\n",
    "scores = scores[cols]"
   ]
  },
  {
   "cell_type": "code",
   "execution_count": null,
   "metadata": {},
   "outputs": [],
   "source": [
    "# evaluate scores for each file and generates evaluated.csv file ['Scores', 'Filename', 'Extracted Values']\n",
    "\n",
    "# set filepath for a temp submission file.\n",
    "filepath = r'F:\\ML\\HCL\\HCL ML Challenge\\auto_sub.csv'\n",
    "\n",
    "idx = 0\n",
    "f = 1\n",
    "\n",
    "while(f == 1):\n",
    "    for i, row in results.iloc[idx:].iterrows():\n",
    "        print(i)\n",
    "        f = 0\n",
    "        df = pd.DataFrame(columns=['Filename', 'Extracted Values'])\n",
    "        df['Filename'] = results.Filename\n",
    "\n",
    "        df.iloc[i, 1] = row['Extracted Values']\n",
    "\n",
    "        df.to_csv(filepath, index=False)\n",
    "\n",
    "        upload = browser.find_element_by_xpath('//*[@id=\"upload-file-button-prediction-file-9c71a5552c0d4cc1b462711207a061ff\"]')\n",
    "\n",
    "        upload.click()\n",
    "        time.sleep(1)\n",
    "        \n",
    "        try:\n",
    "            autoit.win_active(\"Open\")\n",
    "            autoit.control_set_text(\"Open\", \"Edit1\", filepath)\n",
    "            autoit.control_send(\"Open\", \"Edit1\", \"{ENTER}\")\n",
    "        except:\n",
    "            idx = i\n",
    "            f = 1\n",
    "            print(\"AutoItError at i = \" + str(i))\n",
    "            break\n",
    "            \n",
    "        time.sleep(7)\n",
    "\n",
    "        score_board = browser.find_element_by_id('submission-result-poll-url')\n",
    "\n",
    "        submission_id = score_board.get_attribute('url').split('/')[-3]\n",
    "\n",
    "        print(submission_id)\n",
    "\n",
    "        xp = r'//*[@id=\"submission-result-' + submission_id + r'\"]/div/div[3]/div[2]'\n",
    "    #     wait.until(EC.visibility_of_element_located((By.XPATH, xp)))\n",
    "        try:\n",
    "            score = browser.find_element_by_xpath('//*[@id=\"submission-result-' + submission_id + '\"]/div/div[3]/div[2]')\n",
    "            score = score.text\n",
    "        except NoSuchElementException:\n",
    "            idx = i\n",
    "            f = 1\n",
    "            print(\"NoSuchElementException at i = \" + str(i))\n",
    "            break\n",
    "            \n",
    "        scores.iloc[i, 0] = score\n",
    "\n",
    "scores.to_csv('evaluated.csv', index=False)"
   ]
  }
 ],
 "metadata": {
  "kernelspec": {
   "display_name": "Python 3",
   "language": "python",
   "name": "python3"
  },
  "language_info": {
   "codemirror_mode": {
    "name": "ipython",
    "version": 3
   },
   "file_extension": ".py",
   "mimetype": "text/x-python",
   "name": "python",
   "nbconvert_exporter": "python",
   "pygments_lexer": "ipython3",
   "version": "3.6.4"
  }
 },
 "nbformat": 4,
 "nbformat_minor": 2
}
