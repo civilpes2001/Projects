{
  "nbformat": 4,
  "nbformat_minor": 0,
  "metadata": {
    "colab": {
      "name": "AV_Machine Learning Starter Program Hackathon.ipynb",
      "provenance": [],
      "collapsed_sections": []
    },
    "kernelspec": {
      "name": "python3",
      "display_name": "Python 3"
    }
  },
  "cells": [
    {
      "cell_type": "code",
      "metadata": {
        "id": "2niuBcYB5M1o",
        "colab_type": "code",
        "outputId": "527f5207-0096-424f-d133-0e80ac06e856",
        "colab": {
          "base_uri": "https://localhost:8080/",
          "height": 204
        }
      },
      "source": [
        "!wget https://datahack-prod.s3.amazonaws.com/train_file/train_HK6lq50.csv"
      ],
      "execution_count": 1,
      "outputs": [
        {
          "output_type": "stream",
          "text": [
            "--2020-04-30 16:17:54--  https://datahack-prod.s3.amazonaws.com/train_file/train_HK6lq50.csv\n",
            "Resolving datahack-prod.s3.amazonaws.com (datahack-prod.s3.amazonaws.com)... 52.219.66.124\n",
            "Connecting to datahack-prod.s3.amazonaws.com (datahack-prod.s3.amazonaws.com)|52.219.66.124|:443... connected.\n",
            "HTTP request sent, awaiting response... 200 OK\n",
            "Length: 5422426 (5.2M) [text/csv]\n",
            "Saving to: ‘train_HK6lq50.csv’\n",
            "\n",
            "train_HK6lq50.csv   100%[===================>]   5.17M  6.03MB/s    in 0.9s    \n",
            "\n",
            "2020-04-30 16:17:56 (6.03 MB/s) - ‘train_HK6lq50.csv’ saved [5422426/5422426]\n",
            "\n"
          ],
          "name": "stdout"
        }
      ]
    },
    {
      "cell_type": "code",
      "metadata": {
        "id": "vX85SyHF5UEt",
        "colab_type": "code",
        "outputId": "d9aa4edb-95cf-48ba-d53c-a496381e7ad9",
        "colab": {
          "base_uri": "https://localhost:8080/",
          "height": 204
        }
      },
      "source": [
        "!wget https://datahack-prod.s3.amazonaws.com/test_file/test_wF0Ps6O.csv"
      ],
      "execution_count": 2,
      "outputs": [
        {
          "output_type": "stream",
          "text": [
            "--2020-04-30 16:18:00--  https://datahack-prod.s3.amazonaws.com/test_file/test_wF0Ps6O.csv\n",
            "Resolving datahack-prod.s3.amazonaws.com (datahack-prod.s3.amazonaws.com)... 52.219.66.60\n",
            "Connecting to datahack-prod.s3.amazonaws.com (datahack-prod.s3.amazonaws.com)|52.219.66.60|:443... connected.\n",
            "HTTP request sent, awaiting response... 200 OK\n",
            "Length: 2260254 (2.2M) [text/csv]\n",
            "Saving to: ‘test_wF0Ps6O.csv’\n",
            "\n",
            "\rtest_wF0Ps6O.csv      0%[                    ]       0  --.-KB/s               \rtest_wF0Ps6O.csv      2%[                    ]  58.65K   281KB/s               \rtest_wF0Ps6O.csv     11%[=>                  ] 245.65K   587KB/s               \rtest_wF0Ps6O.csv     46%[========>           ]   1.00M  1.60MB/s               \rtest_wF0Ps6O.csv    100%[===================>]   2.16M  2.94MB/s    in 0.7s    \n",
            "\n",
            "2020-04-30 16:18:01 (2.94 MB/s) - ‘test_wF0Ps6O.csv’ saved [2260254/2260254]\n",
            "\n"
          ],
          "name": "stdout"
        }
      ]
    },
    {
      "cell_type": "code",
      "metadata": {
        "id": "evJXhWKZ300u",
        "colab_type": "code",
        "colab": {}
      },
      "source": [
        "import pandas as pd\n",
        "import numpy as np\n",
        "import matplotlib.pyplot as plt\n",
        "%matplotlib inline\n"
      ],
      "execution_count": 0,
      "outputs": []
    },
    {
      "cell_type": "code",
      "metadata": {
        "id": "6GLJeJgj39Bh",
        "colab_type": "code",
        "colab": {}
      },
      "source": [
        "train = pd.read_csv('train_HK6lq50.csv')\n",
        "test = pd.read_csv('test_wF0Ps6O.csv')"
      ],
      "execution_count": 0,
      "outputs": []
    },
    {
      "cell_type": "code",
      "metadata": {
        "id": "ab63pnVz4FHb",
        "colab_type": "code",
        "outputId": "6d355af4-f117-4006-eead-d75f9945c1eb",
        "colab": {
          "base_uri": "https://localhost:8080/",
          "height": 204
        }
      },
      "source": [
        "train.head(5)"
      ],
      "execution_count": 5,
      "outputs": [
        {
          "output_type": "execute_result",
          "data": {
            "text/html": [
              "<div>\n",
              "<style scoped>\n",
              "    .dataframe tbody tr th:only-of-type {\n",
              "        vertical-align: middle;\n",
              "    }\n",
              "\n",
              "    .dataframe tbody tr th {\n",
              "        vertical-align: top;\n",
              "    }\n",
              "\n",
              "    .dataframe thead th {\n",
              "        text-align: right;\n",
              "    }\n",
              "</style>\n",
              "<table border=\"1\" class=\"dataframe\">\n",
              "  <thead>\n",
              "    <tr style=\"text-align: right;\">\n",
              "      <th></th>\n",
              "      <th>id</th>\n",
              "      <th>program_id</th>\n",
              "      <th>program_type</th>\n",
              "      <th>program_duration</th>\n",
              "      <th>test_id</th>\n",
              "      <th>test_type</th>\n",
              "      <th>difficulty_level</th>\n",
              "      <th>trainee_id</th>\n",
              "      <th>gender</th>\n",
              "      <th>education</th>\n",
              "      <th>city_tier</th>\n",
              "      <th>age</th>\n",
              "      <th>total_programs_enrolled</th>\n",
              "      <th>is_handicapped</th>\n",
              "      <th>trainee_engagement_rating</th>\n",
              "      <th>is_pass</th>\n",
              "    </tr>\n",
              "  </thead>\n",
              "  <tbody>\n",
              "    <tr>\n",
              "      <th>0</th>\n",
              "      <td>9389_150</td>\n",
              "      <td>Y_1</td>\n",
              "      <td>Y</td>\n",
              "      <td>136</td>\n",
              "      <td>150</td>\n",
              "      <td>offline</td>\n",
              "      <td>intermediate</td>\n",
              "      <td>9389</td>\n",
              "      <td>M</td>\n",
              "      <td>Matriculation</td>\n",
              "      <td>3</td>\n",
              "      <td>24.0</td>\n",
              "      <td>5</td>\n",
              "      <td>N</td>\n",
              "      <td>1.0</td>\n",
              "      <td>0</td>\n",
              "    </tr>\n",
              "    <tr>\n",
              "      <th>1</th>\n",
              "      <td>16523_44</td>\n",
              "      <td>T_1</td>\n",
              "      <td>T</td>\n",
              "      <td>131</td>\n",
              "      <td>44</td>\n",
              "      <td>offline</td>\n",
              "      <td>easy</td>\n",
              "      <td>16523</td>\n",
              "      <td>F</td>\n",
              "      <td>High School Diploma</td>\n",
              "      <td>4</td>\n",
              "      <td>26.0</td>\n",
              "      <td>2</td>\n",
              "      <td>N</td>\n",
              "      <td>3.0</td>\n",
              "      <td>1</td>\n",
              "    </tr>\n",
              "    <tr>\n",
              "      <th>2</th>\n",
              "      <td>13987_178</td>\n",
              "      <td>Z_2</td>\n",
              "      <td>Z</td>\n",
              "      <td>120</td>\n",
              "      <td>178</td>\n",
              "      <td>online</td>\n",
              "      <td>easy</td>\n",
              "      <td>13987</td>\n",
              "      <td>M</td>\n",
              "      <td>Matriculation</td>\n",
              "      <td>1</td>\n",
              "      <td>40.0</td>\n",
              "      <td>1</td>\n",
              "      <td>N</td>\n",
              "      <td>2.0</td>\n",
              "      <td>1</td>\n",
              "    </tr>\n",
              "    <tr>\n",
              "      <th>3</th>\n",
              "      <td>13158_32</td>\n",
              "      <td>T_2</td>\n",
              "      <td>T</td>\n",
              "      <td>117</td>\n",
              "      <td>32</td>\n",
              "      <td>offline</td>\n",
              "      <td>easy</td>\n",
              "      <td>13158</td>\n",
              "      <td>F</td>\n",
              "      <td>Matriculation</td>\n",
              "      <td>3</td>\n",
              "      <td>NaN</td>\n",
              "      <td>4</td>\n",
              "      <td>N</td>\n",
              "      <td>1.0</td>\n",
              "      <td>1</td>\n",
              "    </tr>\n",
              "    <tr>\n",
              "      <th>4</th>\n",
              "      <td>10591_84</td>\n",
              "      <td>V_3</td>\n",
              "      <td>V</td>\n",
              "      <td>131</td>\n",
              "      <td>84</td>\n",
              "      <td>offline</td>\n",
              "      <td>intermediate</td>\n",
              "      <td>10591</td>\n",
              "      <td>F</td>\n",
              "      <td>High School Diploma</td>\n",
              "      <td>1</td>\n",
              "      <td>42.0</td>\n",
              "      <td>2</td>\n",
              "      <td>N</td>\n",
              "      <td>4.0</td>\n",
              "      <td>1</td>\n",
              "    </tr>\n",
              "  </tbody>\n",
              "</table>\n",
              "</div>"
            ],
            "text/plain": [
              "          id program_id  ... trainee_engagement_rating  is_pass\n",
              "0   9389_150        Y_1  ...                       1.0        0\n",
              "1   16523_44        T_1  ...                       3.0        1\n",
              "2  13987_178        Z_2  ...                       2.0        1\n",
              "3   13158_32        T_2  ...                       1.0        1\n",
              "4   10591_84        V_3  ...                       4.0        1\n",
              "\n",
              "[5 rows x 16 columns]"
            ]
          },
          "metadata": {
            "tags": []
          },
          "execution_count": 5
        }
      ]
    },
    {
      "cell_type": "code",
      "metadata": {
        "id": "RiK0E5yS8sek",
        "colab_type": "code",
        "outputId": "3cb08d5b-2c88-4547-bae5-75c6e7d39f7a",
        "colab": {
          "base_uri": "https://localhost:8080/",
          "height": 204
        }
      },
      "source": [
        "test.head(5)"
      ],
      "execution_count": 6,
      "outputs": [
        {
          "output_type": "execute_result",
          "data": {
            "text/html": [
              "<div>\n",
              "<style scoped>\n",
              "    .dataframe tbody tr th:only-of-type {\n",
              "        vertical-align: middle;\n",
              "    }\n",
              "\n",
              "    .dataframe tbody tr th {\n",
              "        vertical-align: top;\n",
              "    }\n",
              "\n",
              "    .dataframe thead th {\n",
              "        text-align: right;\n",
              "    }\n",
              "</style>\n",
              "<table border=\"1\" class=\"dataframe\">\n",
              "  <thead>\n",
              "    <tr style=\"text-align: right;\">\n",
              "      <th></th>\n",
              "      <th>id</th>\n",
              "      <th>program_id</th>\n",
              "      <th>program_type</th>\n",
              "      <th>program_duration</th>\n",
              "      <th>test_id</th>\n",
              "      <th>test_type</th>\n",
              "      <th>difficulty_level</th>\n",
              "      <th>trainee_id</th>\n",
              "      <th>gender</th>\n",
              "      <th>education</th>\n",
              "      <th>city_tier</th>\n",
              "      <th>age</th>\n",
              "      <th>total_programs_enrolled</th>\n",
              "      <th>is_handicapped</th>\n",
              "      <th>trainee_engagement_rating</th>\n",
              "    </tr>\n",
              "  </thead>\n",
              "  <tbody>\n",
              "    <tr>\n",
              "      <th>0</th>\n",
              "      <td>1626_45</td>\n",
              "      <td>T_1</td>\n",
              "      <td>T</td>\n",
              "      <td>131</td>\n",
              "      <td>45</td>\n",
              "      <td>offline</td>\n",
              "      <td>intermediate</td>\n",
              "      <td>1626</td>\n",
              "      <td>F</td>\n",
              "      <td>Matriculation</td>\n",
              "      <td>3</td>\n",
              "      <td>46.0</td>\n",
              "      <td>2</td>\n",
              "      <td>N</td>\n",
              "      <td>4.0</td>\n",
              "    </tr>\n",
              "    <tr>\n",
              "      <th>1</th>\n",
              "      <td>11020_130</td>\n",
              "      <td>Y_3</td>\n",
              "      <td>Y</td>\n",
              "      <td>135</td>\n",
              "      <td>130</td>\n",
              "      <td>online</td>\n",
              "      <td>easy</td>\n",
              "      <td>11020</td>\n",
              "      <td>M</td>\n",
              "      <td>Bachelors</td>\n",
              "      <td>3</td>\n",
              "      <td>NaN</td>\n",
              "      <td>4</td>\n",
              "      <td>N</td>\n",
              "      <td>4.0</td>\n",
              "    </tr>\n",
              "    <tr>\n",
              "      <th>2</th>\n",
              "      <td>12652_146</td>\n",
              "      <td>Y_2</td>\n",
              "      <td>Y</td>\n",
              "      <td>120</td>\n",
              "      <td>146</td>\n",
              "      <td>online</td>\n",
              "      <td>easy</td>\n",
              "      <td>12652</td>\n",
              "      <td>M</td>\n",
              "      <td>Matriculation</td>\n",
              "      <td>3</td>\n",
              "      <td>NaN</td>\n",
              "      <td>2</td>\n",
              "      <td>N</td>\n",
              "      <td>3.0</td>\n",
              "    </tr>\n",
              "    <tr>\n",
              "      <th>3</th>\n",
              "      <td>7038_72</td>\n",
              "      <td>V_4</td>\n",
              "      <td>V</td>\n",
              "      <td>122</td>\n",
              "      <td>72</td>\n",
              "      <td>offline</td>\n",
              "      <td>vary hard</td>\n",
              "      <td>7038</td>\n",
              "      <td>F</td>\n",
              "      <td>High School Diploma</td>\n",
              "      <td>1</td>\n",
              "      <td>NaN</td>\n",
              "      <td>2</td>\n",
              "      <td>N</td>\n",
              "      <td>2.0</td>\n",
              "    </tr>\n",
              "    <tr>\n",
              "      <th>4</th>\n",
              "      <td>888_71</td>\n",
              "      <td>V_4</td>\n",
              "      <td>V</td>\n",
              "      <td>122</td>\n",
              "      <td>71</td>\n",
              "      <td>offline</td>\n",
              "      <td>intermediate</td>\n",
              "      <td>888</td>\n",
              "      <td>F</td>\n",
              "      <td>Matriculation</td>\n",
              "      <td>3</td>\n",
              "      <td>NaN</td>\n",
              "      <td>2</td>\n",
              "      <td>N</td>\n",
              "      <td>2.0</td>\n",
              "    </tr>\n",
              "  </tbody>\n",
              "</table>\n",
              "</div>"
            ],
            "text/plain": [
              "          id program_id  ... is_handicapped  trainee_engagement_rating\n",
              "0    1626_45        T_1  ...              N                        4.0\n",
              "1  11020_130        Y_3  ...              N                        4.0\n",
              "2  12652_146        Y_2  ...              N                        3.0\n",
              "3    7038_72        V_4  ...              N                        2.0\n",
              "4     888_71        V_4  ...              N                        2.0\n",
              "\n",
              "[5 rows x 15 columns]"
            ]
          },
          "metadata": {
            "tags": []
          },
          "execution_count": 6
        }
      ]
    },
    {
      "cell_type": "code",
      "metadata": {
        "id": "Pic6NcgJBib-",
        "colab_type": "code",
        "outputId": "90415129-5096-4f64-b136-d0327cf2c3bd",
        "colab": {
          "base_uri": "https://localhost:8080/",
          "height": 282
        }
      },
      "source": [
        "train['age'].hist()"
      ],
      "execution_count": 7,
      "outputs": [
        {
          "output_type": "execute_result",
          "data": {
            "text/plain": [
              "<matplotlib.axes._subplots.AxesSubplot at 0x7f4442c17940>"
            ]
          },
          "metadata": {
            "tags": []
          },
          "execution_count": 7
        },
        {
          "output_type": "display_data",
          "data": {
            "image/png": "[encoded data removed]",
            "text/plain": [
              "<Figure size 432x288 with 1 Axes>"
            ]
          },
          "metadata": {
            "tags": [],
            "needs_background": "light"
          }
        }
      ]
    },
    {
      "cell_type": "code",
      "metadata": {
        "id": "kKMMlzMR5yze",
        "colab_type": "code",
        "outputId": "6843499a-ba2f-4e24-b260-5e29d280c87a",
        "colab": {
          "base_uri": "https://localhost:8080/",
          "height": 561
        }
      },
      "source": [
        "train.isnull().sum(),test.isnull().sum(),train.shape,test.shape"
      ],
      "execution_count": 8,
      "outputs": [
        {
          "output_type": "execute_result",
          "data": {
            "text/plain": [
              "(id                               0\n",
              " program_id                       0\n",
              " program_type                     0\n",
              " program_duration                 0\n",
              " test_id                          0\n",
              " test_type                        0\n",
              " difficulty_level                 0\n",
              " trainee_id                       0\n",
              " gender                           0\n",
              " education                        0\n",
              " city_tier                        0\n",
              " age                          27729\n",
              " total_programs_enrolled          0\n",
              " is_handicapped                   0\n",
              " trainee_engagement_rating       77\n",
              " is_pass                          0\n",
              " dtype: int64, id                               0\n",
              " program_id                       0\n",
              " program_type                     0\n",
              " program_duration                 0\n",
              " test_id                          0\n",
              " test_type                        0\n",
              " difficulty_level                 0\n",
              " trainee_id                       0\n",
              " gender                           0\n",
              " education                        0\n",
              " city_tier                        0\n",
              " age                          11791\n",
              " total_programs_enrolled          0\n",
              " is_handicapped                   0\n",
              " trainee_engagement_rating       31\n",
              " dtype: int64, (73147, 16), (31349, 15))"
            ]
          },
          "metadata": {
            "tags": []
          },
          "execution_count": 8
        }
      ]
    },
    {
      "cell_type": "code",
      "metadata": {
        "id": "zkaQFhYc_eYf",
        "colab_type": "code",
        "outputId": "dc3408d6-116b-436e-8dc8-78fe205f7ddd",
        "colab": {
          "base_uri": "https://localhost:8080/",
          "height": 306
        }
      },
      "source": [
        "train.dtypes"
      ],
      "execution_count": 9,
      "outputs": [
        {
          "output_type": "execute_result",
          "data": {
            "text/plain": [
              "id                            object\n",
              "program_id                    object\n",
              "program_type                  object\n",
              "program_duration               int64\n",
              "test_id                        int64\n",
              "test_type                     object\n",
              "difficulty_level              object\n",
              "trainee_id                     int64\n",
              "gender                        object\n",
              "education                     object\n",
              "city_tier                      int64\n",
              "age                          float64\n",
              "total_programs_enrolled        int64\n",
              "is_handicapped                object\n",
              "trainee_engagement_rating    float64\n",
              "is_pass                        int64\n",
              "dtype: object"
            ]
          },
          "metadata": {
            "tags": []
          },
          "execution_count": 9
        }
      ]
    },
    {
      "cell_type": "code",
      "metadata": {
        "id": "znmiBYFU7jzD",
        "colab_type": "code",
        "outputId": "196bb16d-fbdd-4971-9bf5-acadb8248844",
        "colab": {
          "base_uri": "https://localhost:8080/",
          "height": 282
        }
      },
      "source": [
        "train['age'].hist()"
      ],
      "execution_count": 10,
      "outputs": [
        {
          "output_type": "execute_result",
          "data": {
            "text/plain": [
              "<matplotlib.axes._subplots.AxesSubplot at 0x7f44426b9518>"
            ]
          },
          "metadata": {
            "tags": []
          },
          "execution_count": 10
        },
        {
          "output_type": "display_data",
          "data": {
            "image/png": "[encoded data removed]",
            "text/plain": [
              "<Figure size 432x288 with 1 Axes>"
            ]
          },
          "metadata": {
            "tags": [],
            "needs_background": "light"
          }
        }
      ]
    },
    {
      "cell_type": "code",
      "metadata": {
        "id": "xkCkDhpw7j49",
        "colab_type": "code",
        "colab": {}
      },
      "source": [
        "train['age']=train['age'].fillna(train['age'].mean())\n",
        "test['age']=test['age'].fillna(test['age'].mean())\n",
        "#train['age']=train['age'].fillna(method='bfill')\n",
        "#test['age']=test['age'].fillna(method='bfill')"
      ],
      "execution_count": 0,
      "outputs": []
    },
    {
      "cell_type": "code",
      "metadata": {
        "id": "HW8Rf_8R9XTG",
        "colab_type": "code",
        "outputId": "9a0864db-e29f-4212-8700-3e710bc0404d",
        "colab": {
          "base_uri": "https://localhost:8080/",
          "height": 34
        }
      },
      "source": [
        "train['trainee_engagement_rating'].unique()"
      ],
      "execution_count": 12,
      "outputs": [
        {
          "output_type": "execute_result",
          "data": {
            "text/plain": [
              "array([ 1.,  3.,  2.,  4.,  5., nan])"
            ]
          },
          "metadata": {
            "tags": []
          },
          "execution_count": 12
        }
      ]
    },
    {
      "cell_type": "code",
      "metadata": {
        "id": "F93EzTnv7j4L",
        "colab_type": "code",
        "outputId": "f187f29e-929f-4347-9a5a-3ffe6f500a48",
        "colab": {
          "base_uri": "https://localhost:8080/",
          "height": 281
        }
      },
      "source": [
        "train['trainee_engagement_rating'].hist()"
      ],
      "execution_count": 13,
      "outputs": [
        {
          "output_type": "execute_result",
          "data": {
            "text/plain": [
              "<matplotlib.axes._subplots.AxesSubplot at 0x7f444263e320>"
            ]
          },
          "metadata": {
            "tags": []
          },
          "execution_count": 13
        },
        {
          "output_type": "display_data",
          "data": {
            "image/png": "[encoded data removed]",
            "text/plain": [
              "<Figure size 432x288 with 1 Axes>"
            ]
          },
          "metadata": {
            "tags": [],
            "needs_background": "light"
          }
        }
      ]
    },
    {
      "cell_type": "code",
      "metadata": {
        "id": "SDalzl1N7jyE",
        "colab_type": "code",
        "colab": {}
      },
      "source": [
        "train['trainee_engagement_rating']=train['trainee_engagement_rating'].fillna(method='bfill')\n",
        "test['trainee_engagement_rating']=test['trainee_engagement_rating'].fillna(method='bfill')"
      ],
      "execution_count": 0,
      "outputs": []
    },
    {
      "cell_type": "code",
      "metadata": {
        "id": "-3b-y05WLMA2",
        "colab_type": "code",
        "colab": {}
      },
      "source": [
        "o1=test['id']"
      ],
      "execution_count": 0,
      "outputs": []
    },
    {
      "cell_type": "code",
      "metadata": {
        "id": "X60Km5ZmGIOI",
        "colab_type": "code",
        "colab": {}
      },
      "source": [
        "train['id']=train['id'].astype(int)\n",
        "test['id']=test['id'].astype(int)"
      ],
      "execution_count": 0,
      "outputs": []
    },
    {
      "cell_type": "code",
      "metadata": {
        "id": "lc7yHAsA-ciE",
        "colab_type": "code",
        "colab": {}
      },
      "source": [
        "train['program_id']=train.program_id.str.extract('(\\d+)')\n",
        "test['program_id']=test.program_id.str.extract('(\\d+)')"
      ],
      "execution_count": 0,
      "outputs": []
    },
    {
      "cell_type": "code",
      "metadata": {
        "id": "xmMXBHMKHcdp",
        "colab_type": "code",
        "colab": {}
      },
      "source": [
        "loc = np.append(train['program_id'].values, test['program_id'].values, axis=0)\n",
        "from sklearn.preprocessing import LabelEncoder\n",
        "l=LabelEncoder()\n",
        "l.fit(list(set(loc)))\n",
        "train['program_id']=l.transform(train['program_id'])\n",
        "test['program_id']=l.transform(test['program_id'])"
      ],
      "execution_count": 0,
      "outputs": []
    },
    {
      "cell_type": "code",
      "metadata": {
        "id": "yrvJ-KV76HNG",
        "colab_type": "code",
        "colab": {}
      },
      "source": [
        "loc = np.append(train['program_type'].values, test['program_type'].values, axis=0)\n",
        "from sklearn.preprocessing import LabelEncoder\n",
        "l=LabelEncoder()\n",
        "l.fit(list(set(loc)))\n",
        "train['program_type']=l.transform(train['program_type'])\n",
        "test['program_type']=l.transform(test['program_type'])"
      ],
      "execution_count": 0,
      "outputs": []
    },
    {
      "cell_type": "code",
      "metadata": {
        "id": "RvWBu74r6UBe",
        "colab_type": "code",
        "colab": {}
      },
      "source": [
        "loc = np.append(train['test_type'].values, test['test_type'].values, axis=0)\n",
        "from sklearn.preprocessing import LabelEncoder\n",
        "l=LabelEncoder()\n",
        "l.fit(list(set(loc)))\n",
        "train['test_type']=l.transform(train['test_type'])\n",
        "test['test_type']=l.transform(test['test_type'])"
      ],
      "execution_count": 0,
      "outputs": []
    },
    {
      "cell_type": "code",
      "metadata": {
        "id": "iHGA6-_a6bsd",
        "colab_type": "code",
        "colab": {}
      },
      "source": [
        "loc = np.append(train['difficulty_level'].values, test['difficulty_level'].values, axis=0)\n",
        "from sklearn.preprocessing import LabelEncoder\n",
        "l=LabelEncoder()\n",
        "l.fit(list(set(loc)))\n",
        "train['difficulty_level']=l.transform(train['difficulty_level'])\n",
        "test['difficulty_level']=l.transform(test['difficulty_level'])"
      ],
      "execution_count": 0,
      "outputs": []
    },
    {
      "cell_type": "code",
      "metadata": {
        "id": "WoLxU9el6l5-",
        "colab_type": "code",
        "colab": {}
      },
      "source": [
        "loc = np.append(train['gender'].values, test['gender'].values, axis=0)\n",
        "from sklearn.preprocessing import LabelEncoder\n",
        "l=LabelEncoder()\n",
        "l.fit(list(set(loc)))\n",
        "train['gender']=l.transform(train['gender'])\n",
        "test['gender']=l.transform(test['gender'])"
      ],
      "execution_count": 0,
      "outputs": []
    },
    {
      "cell_type": "code",
      "metadata": {
        "id": "yzIWzylY6pFz",
        "colab_type": "code",
        "colab": {}
      },
      "source": [
        "loc = np.append(train['education'].values, test['education'].values, axis=0)\n",
        "from sklearn.preprocessing import LabelEncoder\n",
        "l=LabelEncoder()\n",
        "l.fit(list(set(loc)))\n",
        "train['education']=l.transform(train['education'])\n",
        "test['education']=l.transform(test['education'])"
      ],
      "execution_count": 0,
      "outputs": []
    },
    {
      "cell_type": "code",
      "metadata": {
        "id": "nKRzh6EC6pE_",
        "colab_type": "code",
        "colab": {}
      },
      "source": [
        "loc = np.append(train['is_handicapped'].values, test['is_handicapped'].values, axis=0)\n",
        "from sklearn.preprocessing import LabelEncoder\n",
        "l=LabelEncoder()\n",
        "l.fit(list(set(loc)))\n",
        "train['is_handicapped']=l.transform(train['is_handicapped'])\n",
        "test['is_handicapped']=l.transform(test['is_handicapped'])"
      ],
      "execution_count": 0,
      "outputs": []
    },
    {
      "cell_type": "code",
      "metadata": {
        "id": "ydG8ads37Zki",
        "colab_type": "code",
        "colab": {}
      },
      "source": [
        "train_df=train"
      ],
      "execution_count": 0,
      "outputs": []
    },
    {
      "cell_type": "code",
      "metadata": {
        "id": "7duxHMQT97kz",
        "colab_type": "code",
        "colab": {}
      },
      "source": [
        "X = train_df.drop(labels=['is_pass'], axis=1)\n",
        "y = train_df['is_pass'].values\n",
        "\n",
        "from sklearn.model_selection import train_test_split\n",
        "X_train, X_cv, y_train, y_cv = train_test_split(X, y, test_size=0.15, random_state=42)"
      ],
      "execution_count": 0,
      "outputs": []
    },
    {
      "cell_type": "code",
      "metadata": {
        "id": "dXNRO-3xx5cY",
        "colab_type": "code",
        "outputId": "7c98da3c-95f3-4d8b-d7af-d3b6c582d6fc",
        "colab": {
          "base_uri": "https://localhost:8080/",
          "height": 326
        }
      },
      "source": [
        "y = train.is_pass\n",
        "corr = pd.concat(objs=[X, y], axis=1).corr()\n",
        "corr.style.background_gradient(cmap='coolwarm').set_precision(2)"
      ],
      "execution_count": 27,
      "outputs": [
        {
          "output_type": "execute_result",
          "data": {
            "text/html": [
              "<style  type=\"text/css\" >\n",
              "    #T_4b64c70e_8afe_11ea_8819_0242ac1c0002row0_col0 {\n",
              "            background-color:  #b40426;\n",
              "            color:  #f1f1f1;\n",
              "        }    #T_4b64c70e_8afe_11ea_8819_0242ac1c0002row0_col1 {\n",
              "            background-color:  #688aef;\n",
              "            color:  #000000;\n",
              "        }    #T_4b64c70e_8afe_11ea_8819_0242ac1c0002row0_col2 {\n",
              "            background-color:  #f39778;\n",
              "            color:  #000000;\n",
              "        }    #T_4b64c70e_8afe_11ea_8819_0242ac1c0002row0_col3 {\n",
              "            background-color:  #ccd9ed;\n",
              "            color:  #000000;\n",
              "        }    #T_4b64c70e_8afe_11ea_8819_0242ac1c0002row0_col4 {\n",
              "            background-color:  #f18f71;\n",
              "            color:  #000000;\n",
              "        }    #T_4b64c70e_8afe_11ea_8819_0242ac1c0002row0_col5 {\n",
              "            background-color:  #d9dce1;\n",
              "            color:  #000000;\n",
              "        }    #T_4b64c70e_8afe_11ea_8819_0242ac1c0002row0_col6 {\n",
              "            background-color:  #a9c6fd;\n",
              "            color:  #000000;\n",
              "        }    #T_4b64c70e_8afe_11ea_8819_0242ac1c0002row0_col7 {\n",
              "            background-color:  #f6bfa6;\n",
              "            color:  #000000;\n",
              "        }    #T_4b64c70e_8afe_11ea_8819_0242ac1c0002row0_col8 {\n",
              "            background-color:  #93b5fe;\n",
              "            color:  #000000;\n",
              "        }    #T_4b64c70e_8afe_11ea_8819_0242ac1c0002row0_col9 {\n",
              "            background-color:  #6485ec;\n",
              "            color:  #000000;\n",
              "        }    #T_4b64c70e_8afe_11ea_8819_0242ac1c0002row0_col10 {\n",
              "            background-color:  #4e68d8;\n",
              "            color:  #000000;\n",
              "        }    #T_4b64c70e_8afe_11ea_8819_0242ac1c0002row0_col11 {\n",
              "            background-color:  #536edd;\n",
              "            color:  #000000;\n",
              "        }    #T_4b64c70e_8afe_11ea_8819_0242ac1c0002row0_col12 {\n",
              "            background-color:  #4358cb;\n",
              "            color:  #f1f1f1;\n",
              "        }    #T_4b64c70e_8afe_11ea_8819_0242ac1c0002row0_col13 {\n",
              "            background-color:  #485fd1;\n",
              "            color:  #f1f1f1;\n",
              "        }    #T_4b64c70e_8afe_11ea_8819_0242ac1c0002row0_col14 {\n",
              "            background-color:  #aac7fd;\n",
              "            color:  #000000;\n",
              "        }    #T_4b64c70e_8afe_11ea_8819_0242ac1c0002row0_col15 {\n",
              "            background-color:  #7a9df8;\n",
              "            color:  #000000;\n",
              "        }    #T_4b64c70e_8afe_11ea_8819_0242ac1c0002row1_col0 {\n",
              "            background-color:  #3b4cc0;\n",
              "            color:  #f1f1f1;\n",
              "        }    #T_4b64c70e_8afe_11ea_8819_0242ac1c0002row1_col1 {\n",
              "            background-color:  #b40426;\n",
              "            color:  #f1f1f1;\n",
              "        }    #T_4b64c70e_8afe_11ea_8819_0242ac1c0002row1_col2 {\n",
              "            background-color:  #6687ed;\n",
              "            color:  #000000;\n",
              "        }    #T_4b64c70e_8afe_11ea_8819_0242ac1c0002row1_col3 {\n",
              "            background-color:  #3b4cc0;\n",
              "            color:  #f1f1f1;\n",
              "        }    #T_4b64c70e_8afe_11ea_8819_0242ac1c0002row1_col4 {\n",
              "            background-color:  #3b4cc0;\n",
              "            color:  #f1f1f1;\n",
              "        }    #T_4b64c70e_8afe_11ea_8819_0242ac1c0002row1_col5 {\n",
              "            background-color:  #d6dce4;\n",
              "            color:  #000000;\n",
              "        }    #T_4b64c70e_8afe_11ea_8819_0242ac1c0002row1_col6 {\n",
              "            background-color:  #c5d6f2;\n",
              "            color:  #000000;\n",
              "        }    #T_4b64c70e_8afe_11ea_8819_0242ac1c0002row1_col7 {\n",
              "            background-color:  #3b4cc0;\n",
              "            color:  #f1f1f1;\n",
              "        }    #T_4b64c70e_8afe_11ea_8819_0242ac1c0002row1_col8 {\n",
              "            background-color:  #3b4cc0;\n",
              "            color:  #f1f1f1;\n",
              "        }    #T_4b64c70e_8afe_11ea_8819_0242ac1c0002row1_col9 {\n",
              "            background-color:  #5572df;\n",
              "            color:  #000000;\n",
              "        }    #T_4b64c70e_8afe_11ea_8819_0242ac1c0002row1_col10 {\n",
              "            background-color:  #506bda;\n",
              "            color:  #000000;\n",
              "        }    #T_4b64c70e_8afe_11ea_8819_0242ac1c0002row1_col11 {\n",
              "            background-color:  #536edd;\n",
              "            color:  #000000;\n",
              "        }    #T_4b64c70e_8afe_11ea_8819_0242ac1c0002row1_col12 {\n",
              "            background-color:  #7597f6;\n",
              "            color:  #000000;\n",
              "        }    #T_4b64c70e_8afe_11ea_8819_0242ac1c0002row1_col13 {\n",
              "            background-color:  #4a63d3;\n",
              "            color:  #f1f1f1;\n",
              "        }    #T_4b64c70e_8afe_11ea_8819_0242ac1c0002row1_col14 {\n",
              "            background-color:  #4f69d9;\n",
              "            color:  #000000;\n",
              "        }    #T_4b64c70e_8afe_11ea_8819_0242ac1c0002row1_col15 {\n",
              "            background-color:  #6282ea;\n",
              "            color:  #000000;\n",
              "        }    #T_4b64c70e_8afe_11ea_8819_0242ac1c0002row2_col0 {\n",
              "            background-color:  #f39577;\n",
              "            color:  #000000;\n",
              "        }    #T_4b64c70e_8afe_11ea_8819_0242ac1c0002row2_col1 {\n",
              "            background-color:  #96b7ff;\n",
              "            color:  #000000;\n",
              "        }    #T_4b64c70e_8afe_11ea_8819_0242ac1c0002row2_col2 {\n",
              "            background-color:  #b40426;\n",
              "            color:  #f1f1f1;\n",
              "        }    #T_4b64c70e_8afe_11ea_8819_0242ac1c0002row2_col3 {\n",
              "            background-color:  #bcd2f7;\n",
              "            color:  #000000;\n",
              "        }    #T_4b64c70e_8afe_11ea_8819_0242ac1c0002row2_col4 {\n",
              "            background-color:  #bb1b2c;\n",
              "            color:  #f1f1f1;\n",
              "        }    #T_4b64c70e_8afe_11ea_8819_0242ac1c0002row2_col5 {\n",
              "            background-color:  #dfdbd9;\n",
              "            color:  #000000;\n",
              "        }    #T_4b64c70e_8afe_11ea_8819_0242ac1c0002row2_col6 {\n",
              "            background-color:  #9dbdff;\n",
              "            color:  #000000;\n",
              "        }    #T_4b64c70e_8afe_11ea_8819_0242ac1c0002row2_col7 {\n",
              "            background-color:  #a5c3fe;\n",
              "            color:  #000000;\n",
              "        }    #T_4b64c70e_8afe_11ea_8819_0242ac1c0002row2_col8 {\n",
              "            background-color:  #b3cdfb;\n",
              "            color:  #000000;\n",
              "        }    #T_4b64c70e_8afe_11ea_8819_0242ac1c0002row2_col9 {\n",
              "            background-color:  #6a8bef;\n",
              "            color:  #000000;\n",
              "        }    #T_4b64c70e_8afe_11ea_8819_0242ac1c0002row2_col10 {\n",
              "            background-color:  #4c66d6;\n",
              "            color:  #000000;\n",
              "        }    #T_4b64c70e_8afe_11ea_8819_0242ac1c0002row2_col11 {\n",
              "            background-color:  #445acc;\n",
              "            color:  #f1f1f1;\n",
              "        }    #T_4b64c70e_8afe_11ea_8819_0242ac1c0002row2_col12 {\n",
              "            background-color:  #3e51c5;\n",
              "            color:  #f1f1f1;\n",
              "        }    #T_4b64c70e_8afe_11ea_8819_0242ac1c0002row2_col13 {\n",
              "            background-color:  #506bda;\n",
              "            color:  #000000;\n",
              "        }    #T_4b64c70e_8afe_11ea_8819_0242ac1c0002row2_col14 {\n",
              "            background-color:  #bbd1f8;\n",
              "            color:  #000000;\n",
              "        }    #T_4b64c70e_8afe_11ea_8819_0242ac1c0002row2_col15 {\n",
              "            background-color:  #7295f4;\n",
              "            color:  #000000;\n",
              "        }    #T_4b64c70e_8afe_11ea_8819_0242ac1c0002row3_col0 {\n",
              "            background-color:  #adc9fd;\n",
              "            color:  #000000;\n",
              "        }    #T_4b64c70e_8afe_11ea_8819_0242ac1c0002row3_col1 {\n",
              "            background-color:  #3b4cc0;\n",
              "            color:  #f1f1f1;\n",
              "        }    #T_4b64c70e_8afe_11ea_8819_0242ac1c0002row3_col2 {\n",
              "            background-color:  #94b6ff;\n",
              "            color:  #000000;\n",
              "        }    #T_4b64c70e_8afe_11ea_8819_0242ac1c0002row3_col3 {\n",
              "            background-color:  #b40426;\n",
              "            color:  #f1f1f1;\n",
              "        }    #T_4b64c70e_8afe_11ea_8819_0242ac1c0002row3_col4 {\n",
              "            background-color:  #aec9fc;\n",
              "            color:  #000000;\n",
              "        }    #T_4b64c70e_8afe_11ea_8819_0242ac1c0002row3_col5 {\n",
              "            background-color:  #b5cdfa;\n",
              "            color:  #000000;\n",
              "        }    #T_4b64c70e_8afe_11ea_8819_0242ac1c0002row3_col6 {\n",
              "            background-color:  #c4d5f3;\n",
              "            color:  #000000;\n",
              "        }    #T_4b64c70e_8afe_11ea_8819_0242ac1c0002row3_col7 {\n",
              "            background-color:  #b6cefa;\n",
              "            color:  #000000;\n",
              "        }    #T_4b64c70e_8afe_11ea_8819_0242ac1c0002row3_col8 {\n",
              "            background-color:  #7597f6;\n",
              "            color:  #000000;\n",
              "        }    #T_4b64c70e_8afe_11ea_8819_0242ac1c0002row3_col9 {\n",
              "            background-color:  #4f69d9;\n",
              "            color:  #000000;\n",
              "        }    #T_4b64c70e_8afe_11ea_8819_0242ac1c0002row3_col10 {\n",
              "            background-color:  #485fd1;\n",
              "            color:  #f1f1f1;\n",
              "        }    #T_4b64c70e_8afe_11ea_8819_0242ac1c0002row3_col11 {\n",
              "            background-color:  #465ecf;\n",
              "            color:  #f1f1f1;\n",
              "        }    #T_4b64c70e_8afe_11ea_8819_0242ac1c0002row3_col12 {\n",
              "            background-color:  #5d7ce6;\n",
              "            color:  #000000;\n",
              "        }    #T_4b64c70e_8afe_11ea_8819_0242ac1c0002row3_col13 {\n",
              "            background-color:  #455cce;\n",
              "            color:  #f1f1f1;\n",
              "        }    #T_4b64c70e_8afe_11ea_8819_0242ac1c0002row3_col14 {\n",
              "            background-color:  #6788ee;\n",
              "            color:  #000000;\n",
              "        }    #T_4b64c70e_8afe_11ea_8819_0242ac1c0002row3_col15 {\n",
              "            background-color:  #5a78e4;\n",
              "            color:  #000000;\n",
              "        }    #T_4b64c70e_8afe_11ea_8819_0242ac1c0002row4_col0 {\n",
              "            background-color:  #f18f71;\n",
              "            color:  #000000;\n",
              "        }    #T_4b64c70e_8afe_11ea_8819_0242ac1c0002row4_col1 {\n",
              "            background-color:  #6788ee;\n",
              "            color:  #000000;\n",
              "        }    #T_4b64c70e_8afe_11ea_8819_0242ac1c0002row4_col2 {\n",
              "            background-color:  #bb1b2c;\n",
              "            color:  #f1f1f1;\n",
              "        }    #T_4b64c70e_8afe_11ea_8819_0242ac1c0002row4_col3 {\n",
              "            background-color:  #ccd9ed;\n",
              "            color:  #000000;\n",
              "        }    #T_4b64c70e_8afe_11ea_8819_0242ac1c0002row4_col4 {\n",
              "            background-color:  #b40426;\n",
              "            color:  #f1f1f1;\n",
              "        }    #T_4b64c70e_8afe_11ea_8819_0242ac1c0002row4_col5 {\n",
              "            background-color:  #e1dad6;\n",
              "            color:  #000000;\n",
              "        }    #T_4b64c70e_8afe_11ea_8819_0242ac1c0002row4_col6 {\n",
              "            background-color:  #97b8ff;\n",
              "            color:  #000000;\n",
              "        }    #T_4b64c70e_8afe_11ea_8819_0242ac1c0002row4_col7 {\n",
              "            background-color:  #b6cefa;\n",
              "            color:  #000000;\n",
              "        }    #T_4b64c70e_8afe_11ea_8819_0242ac1c0002row4_col8 {\n",
              "            background-color:  #adc9fd;\n",
              "            color:  #000000;\n",
              "        }    #T_4b64c70e_8afe_11ea_8819_0242ac1c0002row4_col9 {\n",
              "            background-color:  #6b8df0;\n",
              "            color:  #000000;\n",
              "        }    #T_4b64c70e_8afe_11ea_8819_0242ac1c0002row4_col10 {\n",
              "            background-color:  #4e68d8;\n",
              "            color:  #000000;\n",
              "        }    #T_4b64c70e_8afe_11ea_8819_0242ac1c0002row4_col11 {\n",
              "            background-color:  #445acc;\n",
              "            color:  #f1f1f1;\n",
              "        }    #T_4b64c70e_8afe_11ea_8819_0242ac1c0002row4_col12 {\n",
              "            background-color:  #3b4cc0;\n",
              "            color:  #f1f1f1;\n",
              "        }    #T_4b64c70e_8afe_11ea_8819_0242ac1c0002row4_col13 {\n",
              "            background-color:  #506bda;\n",
              "            color:  #000000;\n",
              "        }    #T_4b64c70e_8afe_11ea_8819_0242ac1c0002row4_col14 {\n",
              "            background-color:  #b2ccfb;\n",
              "            color:  #000000;\n",
              "        }    #T_4b64c70e_8afe_11ea_8819_0242ac1c0002row4_col15 {\n",
              "            background-color:  #7093f3;\n",
              "            color:  #000000;\n",
              "        }    #T_4b64c70e_8afe_11ea_8819_0242ac1c0002row5_col0 {\n",
              "            background-color:  #98b9ff;\n",
              "            color:  #000000;\n",
              "        }    #T_4b64c70e_8afe_11ea_8819_0242ac1c0002row5_col1 {\n",
              "            background-color:  #b7cff9;\n",
              "            color:  #000000;\n",
              "        }    #T_4b64c70e_8afe_11ea_8819_0242ac1c0002row5_col2 {\n",
              "            background-color:  #a1c0ff;\n",
              "            color:  #000000;\n",
              "        }    #T_4b64c70e_8afe_11ea_8819_0242ac1c0002row5_col3 {\n",
              "            background-color:  #8badfd;\n",
              "            color:  #000000;\n",
              "        }    #T_4b64c70e_8afe_11ea_8819_0242ac1c0002row5_col4 {\n",
              "            background-color:  #aac7fd;\n",
              "            color:  #000000;\n",
              "        }    #T_4b64c70e_8afe_11ea_8819_0242ac1c0002row5_col5 {\n",
              "            background-color:  #b40426;\n",
              "            color:  #f1f1f1;\n",
              "        }    #T_4b64c70e_8afe_11ea_8819_0242ac1c0002row5_col6 {\n",
              "            background-color:  #3b4cc0;\n",
              "            color:  #f1f1f1;\n",
              "        }    #T_4b64c70e_8afe_11ea_8819_0242ac1c0002row5_col7 {\n",
              "            background-color:  #88abfd;\n",
              "            color:  #000000;\n",
              "        }    #T_4b64c70e_8afe_11ea_8819_0242ac1c0002row5_col8 {\n",
              "            background-color:  #516ddb;\n",
              "            color:  #000000;\n",
              "        }    #T_4b64c70e_8afe_11ea_8819_0242ac1c0002row5_col9 {\n",
              "            background-color:  #5875e1;\n",
              "            color:  #000000;\n",
              "        }    #T_4b64c70e_8afe_11ea_8819_0242ac1c0002row5_col10 {\n",
              "            background-color:  #516ddb;\n",
              "            color:  #000000;\n",
              "        }    #T_4b64c70e_8afe_11ea_8819_0242ac1c0002row5_col11 {\n",
              "            background-color:  #5572df;\n",
              "            color:  #000000;\n",
              "        }    #T_4b64c70e_8afe_11ea_8819_0242ac1c0002row5_col12 {\n",
              "            background-color:  #5a78e4;\n",
              "            color:  #000000;\n",
              "        }    #T_4b64c70e_8afe_11ea_8819_0242ac1c0002row5_col13 {\n",
              "            background-color:  #4c66d6;\n",
              "            color:  #000000;\n",
              "        }    #T_4b64c70e_8afe_11ea_8819_0242ac1c0002row5_col14 {\n",
              "            background-color:  #6c8ff1;\n",
              "            color:  #000000;\n",
              "        }    #T_4b64c70e_8afe_11ea_8819_0242ac1c0002row5_col15 {\n",
              "            background-color:  #88abfd;\n",
              "            color:  #000000;\n",
              "        }    #T_4b64c70e_8afe_11ea_8819_0242ac1c0002row6_col0 {\n",
              "            background-color:  #4e68d8;\n",
              "            color:  #000000;\n",
              "        }    #T_4b64c70e_8afe_11ea_8819_0242ac1c0002row6_col1 {\n",
              "            background-color:  #9fbfff;\n",
              "            color:  #000000;\n",
              "        }    #T_4b64c70e_8afe_11ea_8819_0242ac1c0002row6_col2 {\n",
              "            background-color:  #3b4cc0;\n",
              "            color:  #f1f1f1;\n",
              "        }    #T_4b64c70e_8afe_11ea_8819_0242ac1c0002row6_col3 {\n",
              "            background-color:  #9ebeff;\n",
              "            color:  #000000;\n",
              "        }    #T_4b64c70e_8afe_11ea_8819_0242ac1c0002row6_col4 {\n",
              "            background-color:  #3b4cc0;\n",
              "            color:  #f1f1f1;\n",
              "        }    #T_4b64c70e_8afe_11ea_8819_0242ac1c0002row6_col5 {\n",
              "            background-color:  #3b4cc0;\n",
              "            color:  #f1f1f1;\n",
              "        }    #T_4b64c70e_8afe_11ea_8819_0242ac1c0002row6_col6 {\n",
              "            background-color:  #b40426;\n",
              "            color:  #f1f1f1;\n",
              "        }    #T_4b64c70e_8afe_11ea_8819_0242ac1c0002row6_col7 {\n",
              "            background-color:  #88abfd;\n",
              "            color:  #000000;\n",
              "        }    #T_4b64c70e_8afe_11ea_8819_0242ac1c0002row6_col8 {\n",
              "            background-color:  #6180e9;\n",
              "            color:  #000000;\n",
              "        }    #T_4b64c70e_8afe_11ea_8819_0242ac1c0002row6_col9 {\n",
              "            background-color:  #4257c9;\n",
              "            color:  #f1f1f1;\n",
              "        }    #T_4b64c70e_8afe_11ea_8819_0242ac1c0002row6_col10 {\n",
              "            background-color:  #485fd1;\n",
              "            color:  #f1f1f1;\n",
              "        }    #T_4b64c70e_8afe_11ea_8819_0242ac1c0002row6_col11 {\n",
              "            background-color:  #455cce;\n",
              "            color:  #f1f1f1;\n",
              "        }    #T_4b64c70e_8afe_11ea_8819_0242ac1c0002row6_col12 {\n",
              "            background-color:  #7396f5;\n",
              "            color:  #000000;\n",
              "        }    #T_4b64c70e_8afe_11ea_8819_0242ac1c0002row6_col13 {\n",
              "            background-color:  #4257c9;\n",
              "            color:  #f1f1f1;\n",
              "        }    #T_4b64c70e_8afe_11ea_8819_0242ac1c0002row6_col14 {\n",
              "            background-color:  #445acc;\n",
              "            color:  #f1f1f1;\n",
              "        }    #T_4b64c70e_8afe_11ea_8819_0242ac1c0002row6_col15 {\n",
              "            background-color:  #3b4cc0;\n",
              "            color:  #f1f1f1;\n",
              "        }    #T_4b64c70e_8afe_11ea_8819_0242ac1c0002row7_col0 {\n",
              "            background-color:  #f2cab5;\n",
              "            color:  #000000;\n",
              "        }    #T_4b64c70e_8afe_11ea_8819_0242ac1c0002row7_col1 {\n",
              "            background-color:  #4961d2;\n",
              "            color:  #f1f1f1;\n",
              "        }    #T_4b64c70e_8afe_11ea_8819_0242ac1c0002row7_col2 {\n",
              "            background-color:  #84a7fc;\n",
              "            color:  #000000;\n",
              "        }    #T_4b64c70e_8afe_11ea_8819_0242ac1c0002row7_col3 {\n",
              "            background-color:  #c0d4f5;\n",
              "            color:  #000000;\n",
              "        }    #T_4b64c70e_8afe_11ea_8819_0242ac1c0002row7_col4 {\n",
              "            background-color:  #9ebeff;\n",
              "            color:  #000000;\n",
              "        }    #T_4b64c70e_8afe_11ea_8819_0242ac1c0002row7_col5 {\n",
              "            background-color:  #bed2f6;\n",
              "            color:  #000000;\n",
              "        }    #T_4b64c70e_8afe_11ea_8819_0242ac1c0002row7_col6 {\n",
              "            background-color:  #bed2f6;\n",
              "            color:  #000000;\n",
              "        }    #T_4b64c70e_8afe_11ea_8819_0242ac1c0002row7_col7 {\n",
              "            background-color:  #b40426;\n",
              "            color:  #f1f1f1;\n",
              "        }    #T_4b64c70e_8afe_11ea_8819_0242ac1c0002row7_col8 {\n",
              "            background-color:  #5977e3;\n",
              "            color:  #000000;\n",
              "        }    #T_4b64c70e_8afe_11ea_8819_0242ac1c0002row7_col9 {\n",
              "            background-color:  #4f69d9;\n",
              "            color:  #000000;\n",
              "        }    #T_4b64c70e_8afe_11ea_8819_0242ac1c0002row7_col10 {\n",
              "            background-color:  #4b64d5;\n",
              "            color:  #f1f1f1;\n",
              "        }    #T_4b64c70e_8afe_11ea_8819_0242ac1c0002row7_col11 {\n",
              "            background-color:  #6687ed;\n",
              "            color:  #000000;\n",
              "        }    #T_4b64c70e_8afe_11ea_8819_0242ac1c0002row7_col12 {\n",
              "            background-color:  #4a63d3;\n",
              "            color:  #f1f1f1;\n",
              "        }    #T_4b64c70e_8afe_11ea_8819_0242ac1c0002row7_col13 {\n",
              "            background-color:  #4358cb;\n",
              "            color:  #f1f1f1;\n",
              "        }    #T_4b64c70e_8afe_11ea_8819_0242ac1c0002row7_col14 {\n",
              "            background-color:  #536edd;\n",
              "            color:  #000000;\n",
              "        }    #T_4b64c70e_8afe_11ea_8819_0242ac1c0002row7_col15 {\n",
              "            background-color:  #6485ec;\n",
              "            color:  #000000;\n",
              "        }    #T_4b64c70e_8afe_11ea_8819_0242ac1c0002row8_col0 {\n",
              "            background-color:  #adc9fd;\n",
              "            color:  #000000;\n",
              "        }    #T_4b64c70e_8afe_11ea_8819_0242ac1c0002row8_col1 {\n",
              "            background-color:  #86a9fc;\n",
              "            color:  #000000;\n",
              "        }    #T_4b64c70e_8afe_11ea_8819_0242ac1c0002row8_col2 {\n",
              "            background-color:  #c6d6f1;\n",
              "            color:  #000000;\n",
              "        }    #T_4b64c70e_8afe_11ea_8819_0242ac1c0002row8_col3 {\n",
              "            background-color:  #b7cff9;\n",
              "            color:  #000000;\n",
              "        }    #T_4b64c70e_8afe_11ea_8819_0242ac1c0002row8_col4 {\n",
              "            background-color:  #c4d5f3;\n",
              "            color:  #000000;\n",
              "        }    #T_4b64c70e_8afe_11ea_8819_0242ac1c0002row8_col5 {\n",
              "            background-color:  #c3d5f4;\n",
              "            color:  #000000;\n",
              "        }    #T_4b64c70e_8afe_11ea_8819_0242ac1c0002row8_col6 {\n",
              "            background-color:  #cbd8ee;\n",
              "            color:  #000000;\n",
              "        }    #T_4b64c70e_8afe_11ea_8819_0242ac1c0002row8_col7 {\n",
              "            background-color:  #96b7ff;\n",
              "            color:  #000000;\n",
              "        }    #T_4b64c70e_8afe_11ea_8819_0242ac1c0002row8_col8 {\n",
              "            background-color:  #b40426;\n",
              "            color:  #f1f1f1;\n",
              "        }    #T_4b64c70e_8afe_11ea_8819_0242ac1c0002row8_col9 {\n",
              "            background-color:  #3f53c6;\n",
              "            color:  #f1f1f1;\n",
              "        }    #T_4b64c70e_8afe_11ea_8819_0242ac1c0002row8_col10 {\n",
              "            background-color:  #3b4cc0;\n",
              "            color:  #f1f1f1;\n",
              "        }    #T_4b64c70e_8afe_11ea_8819_0242ac1c0002row8_col11 {\n",
              "            background-color:  #445acc;\n",
              "            color:  #f1f1f1;\n",
              "        }    #T_4b64c70e_8afe_11ea_8819_0242ac1c0002row8_col12 {\n",
              "            background-color:  #7093f3;\n",
              "            color:  #000000;\n",
              "        }    #T_4b64c70e_8afe_11ea_8819_0242ac1c0002row8_col13 {\n",
              "            background-color:  #3b4cc0;\n",
              "            color:  #f1f1f1;\n",
              "        }    #T_4b64c70e_8afe_11ea_8819_0242ac1c0002row8_col14 {\n",
              "            background-color:  #9fbfff;\n",
              "            color:  #000000;\n",
              "        }    #T_4b64c70e_8afe_11ea_8819_0242ac1c0002row8_col15 {\n",
              "            background-color:  #5f7fe8;\n",
              "            color:  #000000;\n",
              "        }    #T_4b64c70e_8afe_11ea_8819_0242ac1c0002row9_col0 {\n",
              "            background-color:  #84a7fc;\n",
              "            color:  #000000;\n",
              "        }    #T_4b64c70e_8afe_11ea_8819_0242ac1c0002row9_col1 {\n",
              "            background-color:  #9fbfff;\n",
              "            color:  #000000;\n",
              "        }    #T_4b64c70e_8afe_11ea_8819_0242ac1c0002row9_col2 {\n",
              "            background-color:  #85a8fc;\n",
              "            color:  #000000;\n",
              "        }    #T_4b64c70e_8afe_11ea_8819_0242ac1c0002row9_col3 {\n",
              "            background-color:  #9abbff;\n",
              "            color:  #000000;\n",
              "        }    #T_4b64c70e_8afe_11ea_8819_0242ac1c0002row9_col4 {\n",
              "            background-color:  #8caffe;\n",
              "            color:  #000000;\n",
              "        }    #T_4b64c70e_8afe_11ea_8819_0242ac1c0002row9_col5 {\n",
              "            background-color:  #c7d7f0;\n",
              "            color:  #000000;\n",
              "        }    #T_4b64c70e_8afe_11ea_8819_0242ac1c0002row9_col6 {\n",
              "            background-color:  #b9d0f9;\n",
              "            color:  #000000;\n",
              "        }    #T_4b64c70e_8afe_11ea_8819_0242ac1c0002row9_col7 {\n",
              "            background-color:  #8db0fe;\n",
              "            color:  #000000;\n",
              "        }    #T_4b64c70e_8afe_11ea_8819_0242ac1c0002row9_col8 {\n",
              "            background-color:  #4055c8;\n",
              "            color:  #f1f1f1;\n",
              "        }    #T_4b64c70e_8afe_11ea_8819_0242ac1c0002row9_col9 {\n",
              "            background-color:  #b40426;\n",
              "            color:  #f1f1f1;\n",
              "        }    #T_4b64c70e_8afe_11ea_8819_0242ac1c0002row9_col10 {\n",
              "            background-color:  #688aef;\n",
              "            color:  #000000;\n",
              "        }    #T_4b64c70e_8afe_11ea_8819_0242ac1c0002row9_col11 {\n",
              "            background-color:  #3f53c6;\n",
              "            color:  #f1f1f1;\n",
              "        }    #T_4b64c70e_8afe_11ea_8819_0242ac1c0002row9_col12 {\n",
              "            background-color:  #4e68d8;\n",
              "            color:  #000000;\n",
              "        }    #T_4b64c70e_8afe_11ea_8819_0242ac1c0002row9_col13 {\n",
              "            background-color:  #5e7de7;\n",
              "            color:  #000000;\n",
              "        }    #T_4b64c70e_8afe_11ea_8819_0242ac1c0002row9_col14 {\n",
              "            background-color:  #3b4cc0;\n",
              "            color:  #f1f1f1;\n",
              "        }    #T_4b64c70e_8afe_11ea_8819_0242ac1c0002row9_col15 {\n",
              "            background-color:  #4358cb;\n",
              "            color:  #f1f1f1;\n",
              "        }    #T_4b64c70e_8afe_11ea_8819_0242ac1c0002row10_col0 {\n",
              "            background-color:  #7093f3;\n",
              "            color:  #000000;\n",
              "        }    #T_4b64c70e_8afe_11ea_8819_0242ac1c0002row10_col1 {\n",
              "            background-color:  #9ebeff;\n",
              "            color:  #000000;\n",
              "        }    #T_4b64c70e_8afe_11ea_8819_0242ac1c0002row10_col2 {\n",
              "            background-color:  #6b8df0;\n",
              "            color:  #000000;\n",
              "        }    #T_4b64c70e_8afe_11ea_8819_0242ac1c0002row10_col3 {\n",
              "            background-color:  #97b8ff;\n",
              "            color:  #000000;\n",
              "        }    #T_4b64c70e_8afe_11ea_8819_0242ac1c0002row10_col4 {\n",
              "            background-color:  #7295f4;\n",
              "            color:  #000000;\n",
              "        }    #T_4b64c70e_8afe_11ea_8819_0242ac1c0002row10_col5 {\n",
              "            background-color:  #c5d6f2;\n",
              "            color:  #000000;\n",
              "        }    #T_4b64c70e_8afe_11ea_8819_0242ac1c0002row10_col6 {\n",
              "            background-color:  #bed2f6;\n",
              "            color:  #000000;\n",
              "        }    #T_4b64c70e_8afe_11ea_8819_0242ac1c0002row10_col7 {\n",
              "            background-color:  #8db0fe;\n",
              "            color:  #000000;\n",
              "        }    #T_4b64c70e_8afe_11ea_8819_0242ac1c0002row10_col8 {\n",
              "            background-color:  #3e51c5;\n",
              "            color:  #f1f1f1;\n",
              "        }    #T_4b64c70e_8afe_11ea_8819_0242ac1c0002row10_col9 {\n",
              "            background-color:  #6b8df0;\n",
              "            color:  #000000;\n",
              "        }    #T_4b64c70e_8afe_11ea_8819_0242ac1c0002row10_col10 {\n",
              "            background-color:  #b40426;\n",
              "            color:  #f1f1f1;\n",
              "        }    #T_4b64c70e_8afe_11ea_8819_0242ac1c0002row10_col11 {\n",
              "            background-color:  #3b4cc0;\n",
              "            color:  #f1f1f1;\n",
              "        }    #T_4b64c70e_8afe_11ea_8819_0242ac1c0002row10_col12 {\n",
              "            background-color:  #6485ec;\n",
              "            color:  #000000;\n",
              "        }    #T_4b64c70e_8afe_11ea_8819_0242ac1c0002row10_col13 {\n",
              "            background-color:  #5a78e4;\n",
              "            color:  #000000;\n",
              "        }    #T_4b64c70e_8afe_11ea_8819_0242ac1c0002row10_col14 {\n",
              "            background-color:  #3b4cc0;\n",
              "            color:  #f1f1f1;\n",
              "        }    #T_4b64c70e_8afe_11ea_8819_0242ac1c0002row10_col15 {\n",
              "            background-color:  #465ecf;\n",
              "            color:  #f1f1f1;\n",
              "        }    #T_4b64c70e_8afe_11ea_8819_0242ac1c0002row11_col0 {\n",
              "            background-color:  #799cf8;\n",
              "            color:  #000000;\n",
              "        }    #T_4b64c70e_8afe_11ea_8819_0242ac1c0002row11_col1 {\n",
              "            background-color:  #a3c2fe;\n",
              "            color:  #000000;\n",
              "        }    #T_4b64c70e_8afe_11ea_8819_0242ac1c0002row11_col2 {\n",
              "            background-color:  #6788ee;\n",
              "            color:  #000000;\n",
              "        }    #T_4b64c70e_8afe_11ea_8819_0242ac1c0002row11_col3 {\n",
              "            background-color:  #98b9ff;\n",
              "            color:  #000000;\n",
              "        }    #T_4b64c70e_8afe_11ea_8819_0242ac1c0002row11_col4 {\n",
              "            background-color:  #6c8ff1;\n",
              "            color:  #000000;\n",
              "        }    #T_4b64c70e_8afe_11ea_8819_0242ac1c0002row11_col5 {\n",
              "            background-color:  #cad8ef;\n",
              "            color:  #000000;\n",
              "        }    #T_4b64c70e_8afe_11ea_8819_0242ac1c0002row11_col6 {\n",
              "            background-color:  #bfd3f6;\n",
              "            color:  #000000;\n",
              "        }    #T_4b64c70e_8afe_11ea_8819_0242ac1c0002row11_col7 {\n",
              "            background-color:  #a6c4fe;\n",
              "            color:  #000000;\n",
              "        }    #T_4b64c70e_8afe_11ea_8819_0242ac1c0002row11_col8 {\n",
              "            background-color:  #4b64d5;\n",
              "            color:  #f1f1f1;\n",
              "        }    #T_4b64c70e_8afe_11ea_8819_0242ac1c0002row11_col9 {\n",
              "            background-color:  #465ecf;\n",
              "            color:  #f1f1f1;\n",
              "        }    #T_4b64c70e_8afe_11ea_8819_0242ac1c0002row11_col10 {\n",
              "            background-color:  #3d50c3;\n",
              "            color:  #f1f1f1;\n",
              "        }    #T_4b64c70e_8afe_11ea_8819_0242ac1c0002row11_col11 {\n",
              "            background-color:  #b40426;\n",
              "            color:  #f1f1f1;\n",
              "        }    #T_4b64c70e_8afe_11ea_8819_0242ac1c0002row11_col12 {\n",
              "            background-color:  #4f69d9;\n",
              "            color:  #000000;\n",
              "        }    #T_4b64c70e_8afe_11ea_8819_0242ac1c0002row11_col13 {\n",
              "            background-color:  #4055c8;\n",
              "            color:  #f1f1f1;\n",
              "        }    #T_4b64c70e_8afe_11ea_8819_0242ac1c0002row11_col14 {\n",
              "            background-color:  #779af7;\n",
              "            color:  #000000;\n",
              "        }    #T_4b64c70e_8afe_11ea_8819_0242ac1c0002row11_col15 {\n",
              "            background-color:  #6b8df0;\n",
              "            color:  #000000;\n",
              "        }    #T_4b64c70e_8afe_11ea_8819_0242ac1c0002row12_col0 {\n",
              "            background-color:  #5572df;\n",
              "            color:  #000000;\n",
              "        }    #T_4b64c70e_8afe_11ea_8819_0242ac1c0002row12_col1 {\n",
              "            background-color:  #adc9fd;\n",
              "            color:  #000000;\n",
              "        }    #T_4b64c70e_8afe_11ea_8819_0242ac1c0002row12_col2 {\n",
              "            background-color:  #4c66d6;\n",
              "            color:  #000000;\n",
              "        }    #T_4b64c70e_8afe_11ea_8819_0242ac1c0002row12_col3 {\n",
              "            background-color:  #9abbff;\n",
              "            color:  #000000;\n",
              "        }    #T_4b64c70e_8afe_11ea_8819_0242ac1c0002row12_col4 {\n",
              "            background-color:  #4f69d9;\n",
              "            color:  #000000;\n",
              "        }    #T_4b64c70e_8afe_11ea_8819_0242ac1c0002row12_col5 {\n",
              "            background-color:  #bfd3f6;\n",
              "            color:  #000000;\n",
              "        }    #T_4b64c70e_8afe_11ea_8819_0242ac1c0002row12_col6 {\n",
              "            background-color:  #cedaeb;\n",
              "            color:  #000000;\n",
              "        }    #T_4b64c70e_8afe_11ea_8819_0242ac1c0002row12_col7 {\n",
              "            background-color:  #7b9ff9;\n",
              "            color:  #000000;\n",
              "        }    #T_4b64c70e_8afe_11ea_8819_0242ac1c0002row12_col8 {\n",
              "            background-color:  #6485ec;\n",
              "            color:  #000000;\n",
              "        }    #T_4b64c70e_8afe_11ea_8819_0242ac1c0002row12_col9 {\n",
              "            background-color:  #3f53c6;\n",
              "            color:  #f1f1f1;\n",
              "        }    #T_4b64c70e_8afe_11ea_8819_0242ac1c0002row12_col10 {\n",
              "            background-color:  #536edd;\n",
              "            color:  #000000;\n",
              "        }    #T_4b64c70e_8afe_11ea_8819_0242ac1c0002row12_col11 {\n",
              "            background-color:  #3b4cc0;\n",
              "            color:  #f1f1f1;\n",
              "        }    #T_4b64c70e_8afe_11ea_8819_0242ac1c0002row12_col12 {\n",
              "            background-color:  #b40426;\n",
              "            color:  #f1f1f1;\n",
              "        }    #T_4b64c70e_8afe_11ea_8819_0242ac1c0002row12_col13 {\n",
              "            background-color:  #516ddb;\n",
              "            color:  #000000;\n",
              "        }    #T_4b64c70e_8afe_11ea_8819_0242ac1c0002row12_col14 {\n",
              "            background-color:  #6384eb;\n",
              "            color:  #000000;\n",
              "        }    #T_4b64c70e_8afe_11ea_8819_0242ac1c0002row12_col15 {\n",
              "            background-color:  #506bda;\n",
              "            color:  #000000;\n",
              "        }    #T_4b64c70e_8afe_11ea_8819_0242ac1c0002row13_col0 {\n",
              "            background-color:  #7093f3;\n",
              "            color:  #000000;\n",
              "        }    #T_4b64c70e_8afe_11ea_8819_0242ac1c0002row13_col1 {\n",
              "            background-color:  #9ebeff;\n",
              "            color:  #000000;\n",
              "        }    #T_4b64c70e_8afe_11ea_8819_0242ac1c0002row13_col2 {\n",
              "            background-color:  #7597f6;\n",
              "            color:  #000000;\n",
              "        }    #T_4b64c70e_8afe_11ea_8819_0242ac1c0002row13_col3 {\n",
              "            background-color:  #9abbff;\n",
              "            color:  #000000;\n",
              "        }    #T_4b64c70e_8afe_11ea_8819_0242ac1c0002row13_col4 {\n",
              "            background-color:  #7b9ff9;\n",
              "            color:  #000000;\n",
              "        }    #T_4b64c70e_8afe_11ea_8819_0242ac1c0002row13_col5 {\n",
              "            background-color:  #c5d6f2;\n",
              "            color:  #000000;\n",
              "        }    #T_4b64c70e_8afe_11ea_8819_0242ac1c0002row13_col6 {\n",
              "            background-color:  #bed2f6;\n",
              "            color:  #000000;\n",
              "        }    #T_4b64c70e_8afe_11ea_8819_0242ac1c0002row13_col7 {\n",
              "            background-color:  #8badfd;\n",
              "            color:  #000000;\n",
              "        }    #T_4b64c70e_8afe_11ea_8819_0242ac1c0002row13_col8 {\n",
              "            background-color:  #445acc;\n",
              "            color:  #f1f1f1;\n",
              "        }    #T_4b64c70e_8afe_11ea_8819_0242ac1c0002row13_col9 {\n",
              "            background-color:  #6687ed;\n",
              "            color:  #000000;\n",
              "        }    #T_4b64c70e_8afe_11ea_8819_0242ac1c0002row13_col10 {\n",
              "            background-color:  #5f7fe8;\n",
              "            color:  #000000;\n",
              "        }    #T_4b64c70e_8afe_11ea_8819_0242ac1c0002row13_col11 {\n",
              "            background-color:  #4358cb;\n",
              "            color:  #f1f1f1;\n",
              "        }    #T_4b64c70e_8afe_11ea_8819_0242ac1c0002row13_col12 {\n",
              "            background-color:  #688aef;\n",
              "            color:  #000000;\n",
              "        }    #T_4b64c70e_8afe_11ea_8819_0242ac1c0002row13_col13 {\n",
              "            background-color:  #b40426;\n",
              "            color:  #f1f1f1;\n",
              "        }    #T_4b64c70e_8afe_11ea_8819_0242ac1c0002row13_col14 {\n",
              "            background-color:  #3f53c6;\n",
              "            color:  #f1f1f1;\n",
              "        }    #T_4b64c70e_8afe_11ea_8819_0242ac1c0002row13_col15 {\n",
              "            background-color:  #4f69d9;\n",
              "            color:  #000000;\n",
              "        }    #T_4b64c70e_8afe_11ea_8819_0242ac1c0002row14_col0 {\n",
              "            background-color:  #c6d6f1;\n",
              "            color:  #000000;\n",
              "        }    #T_4b64c70e_8afe_11ea_8819_0242ac1c0002row14_col1 {\n",
              "            background-color:  #a1c0ff;\n",
              "            color:  #000000;\n",
              "        }    #T_4b64c70e_8afe_11ea_8819_0242ac1c0002row14_col2 {\n",
              "            background-color:  #d1dae9;\n",
              "            color:  #000000;\n",
              "        }    #T_4b64c70e_8afe_11ea_8819_0242ac1c0002row14_col3 {\n",
              "            background-color:  #b5cdfa;\n",
              "            color:  #000000;\n",
              "        }    #T_4b64c70e_8afe_11ea_8819_0242ac1c0002row14_col4 {\n",
              "            background-color:  #cdd9ec;\n",
              "            color:  #000000;\n",
              "        }    #T_4b64c70e_8afe_11ea_8819_0242ac1c0002row14_col5 {\n",
              "            background-color:  #d6dce4;\n",
              "            color:  #000000;\n",
              "        }    #T_4b64c70e_8afe_11ea_8819_0242ac1c0002row14_col6 {\n",
              "            background-color:  #bfd3f6;\n",
              "            color:  #000000;\n",
              "        }    #T_4b64c70e_8afe_11ea_8819_0242ac1c0002row14_col7 {\n",
              "            background-color:  #97b8ff;\n",
              "            color:  #000000;\n",
              "        }    #T_4b64c70e_8afe_11ea_8819_0242ac1c0002row14_col8 {\n",
              "            background-color:  #a7c5fe;\n",
              "            color:  #000000;\n",
              "        }    #T_4b64c70e_8afe_11ea_8819_0242ac1c0002row14_col9 {\n",
              "            background-color:  #4358cb;\n",
              "            color:  #f1f1f1;\n",
              "        }    #T_4b64c70e_8afe_11ea_8819_0242ac1c0002row14_col10 {\n",
              "            background-color:  #3e51c5;\n",
              "            color:  #f1f1f1;\n",
              "        }    #T_4b64c70e_8afe_11ea_8819_0242ac1c0002row14_col11 {\n",
              "            background-color:  #799cf8;\n",
              "            color:  #000000;\n",
              "        }    #T_4b64c70e_8afe_11ea_8819_0242ac1c0002row14_col12 {\n",
              "            background-color:  #799cf8;\n",
              "            color:  #000000;\n",
              "        }    #T_4b64c70e_8afe_11ea_8819_0242ac1c0002row14_col13 {\n",
              "            background-color:  #3e51c5;\n",
              "            color:  #f1f1f1;\n",
              "        }    #T_4b64c70e_8afe_11ea_8819_0242ac1c0002row14_col14 {\n",
              "            background-color:  #b40426;\n",
              "            color:  #f1f1f1;\n",
              "        }    #T_4b64c70e_8afe_11ea_8819_0242ac1c0002row14_col15 {\n",
              "            background-color:  #97b8ff;\n",
              "            color:  #000000;\n",
              "        }    #T_4b64c70e_8afe_11ea_8819_0242ac1c0002row15_col0 {\n",
              "            background-color:  #90b2fe;\n",
              "            color:  #000000;\n",
              "        }    #T_4b64c70e_8afe_11ea_8819_0242ac1c0002row15_col1 {\n",
              "            background-color:  #a3c2fe;\n",
              "            color:  #000000;\n",
              "        }    #T_4b64c70e_8afe_11ea_8819_0242ac1c0002row15_col2 {\n",
              "            background-color:  #85a8fc;\n",
              "            color:  #000000;\n",
              "        }    #T_4b64c70e_8afe_11ea_8819_0242ac1c0002row15_col3 {\n",
              "            background-color:  #9dbdff;\n",
              "            color:  #000000;\n",
              "        }    #T_4b64c70e_8afe_11ea_8819_0242ac1c0002row15_col4 {\n",
              "            background-color:  #89acfd;\n",
              "            color:  #000000;\n",
              "        }    #T_4b64c70e_8afe_11ea_8819_0242ac1c0002row15_col5 {\n",
              "            background-color:  #dcdddd;\n",
              "            color:  #000000;\n",
              "        }    #T_4b64c70e_8afe_11ea_8819_0242ac1c0002row15_col6 {\n",
              "            background-color:  #adc9fd;\n",
              "            color:  #000000;\n",
              "        }    #T_4b64c70e_8afe_11ea_8819_0242ac1c0002row15_col7 {\n",
              "            background-color:  #98b9ff;\n",
              "            color:  #000000;\n",
              "        }    #T_4b64c70e_8afe_11ea_8819_0242ac1c0002row15_col8 {\n",
              "            background-color:  #5875e1;\n",
              "            color:  #000000;\n",
              "        }    #T_4b64c70e_8afe_11ea_8819_0242ac1c0002row15_col9 {\n",
              "            background-color:  #3b4cc0;\n",
              "            color:  #f1f1f1;\n",
              "        }    #T_4b64c70e_8afe_11ea_8819_0242ac1c0002row15_col10 {\n",
              "            background-color:  #3b4cc0;\n",
              "            color:  #f1f1f1;\n",
              "        }    #T_4b64c70e_8afe_11ea_8819_0242ac1c0002row15_col11 {\n",
              "            background-color:  #5b7ae5;\n",
              "            color:  #000000;\n",
              "        }    #T_4b64c70e_8afe_11ea_8819_0242ac1c0002row15_col12 {\n",
              "            background-color:  #5673e0;\n",
              "            color:  #000000;\n",
              "        }    #T_4b64c70e_8afe_11ea_8819_0242ac1c0002row15_col13 {\n",
              "            background-color:  #3d50c3;\n",
              "            color:  #f1f1f1;\n",
              "        }    #T_4b64c70e_8afe_11ea_8819_0242ac1c0002row15_col14 {\n",
              "            background-color:  #88abfd;\n",
              "            color:  #000000;\n",
              "        }    #T_4b64c70e_8afe_11ea_8819_0242ac1c0002row15_col15 {\n",
              "            background-color:  #b40426;\n",
              "            color:  #f1f1f1;\n",
              "        }</style><table id=\"T_4b64c70e_8afe_11ea_8819_0242ac1c0002\" ><thead>    <tr>        <th class=\"blank level0\" ></th>        <th class=\"col_heading level0 col0\" >id</th>        <th class=\"col_heading level0 col1\" >program_id</th>        <th class=\"col_heading level0 col2\" >program_type</th>        <th class=\"col_heading level0 col3\" >program_duration</th>        <th class=\"col_heading level0 col4\" >test_id</th>        <th class=\"col_heading level0 col5\" >test_type</th>        <th class=\"col_heading level0 col6\" >difficulty_level</th>        <th class=\"col_heading level0 col7\" >trainee_id</th>        <th class=\"col_heading level0 col8\" >gender</th>        <th class=\"col_heading level0 col9\" >education</th>        <th class=\"col_heading level0 col10\" >city_tier</th>        <th class=\"col_heading level0 col11\" >age</th>        <th class=\"col_heading level0 col12\" >total_programs_enrolled</th>        <th class=\"col_heading level0 col13\" >is_handicapped</th>        <th class=\"col_heading level0 col14\" >trainee_engagement_rating</th>        <th class=\"col_heading level0 col15\" >is_pass</th>    </tr></thead><tbody>\n",
              "                <tr>\n",
              "                        <th id=\"T_4b64c70e_8afe_11ea_8819_0242ac1c0002level0_row0\" class=\"row_heading level0 row0\" >id</th>\n",
              "                        <td id=\"T_4b64c70e_8afe_11ea_8819_0242ac1c0002row0_col0\" class=\"data row0 col0\" >1.00</td>\n",
              "                        <td id=\"T_4b64c70e_8afe_11ea_8819_0242ac1c0002row0_col1\" class=\"data row0 col1\" >-0.21</td>\n",
              "                        <td id=\"T_4b64c70e_8afe_11ea_8819_0242ac1c0002row0_col2\" class=\"data row0 col2\" >0.71</td>\n",
              "                        <td id=\"T_4b64c70e_8afe_11ea_8819_0242ac1c0002row0_col3\" class=\"data row0 col3\" >0.20</td>\n",
              "                        <td id=\"T_4b64c70e_8afe_11ea_8819_0242ac1c0002row0_col4\" class=\"data row0 col4\" >0.73</td>\n",
              "                        <td id=\"T_4b64c70e_8afe_11ea_8819_0242ac1c0002row0_col5\" class=\"data row0 col5\" >0.13</td>\n",
              "                        <td id=\"T_4b64c70e_8afe_11ea_8819_0242ac1c0002row0_col6\" class=\"data row0 col6\" >-0.13</td>\n",
              "                        <td id=\"T_4b64c70e_8afe_11ea_8819_0242ac1c0002row0_col7\" class=\"data row0 col7\" >0.52</td>\n",
              "                        <td id=\"T_4b64c70e_8afe_11ea_8819_0242ac1c0002row0_col8\" class=\"data row0 col8\" >0.21</td>\n",
              "                        <td id=\"T_4b64c70e_8afe_11ea_8819_0242ac1c0002row0_col9\" class=\"data row0 col9\" >0.07</td>\n",
              "                        <td id=\"T_4b64c70e_8afe_11ea_8819_0242ac1c0002row0_col10\" class=\"data row0 col10\" >-0.00</td>\n",
              "                        <td id=\"T_4b64c70e_8afe_11ea_8819_0242ac1c0002row0_col11\" class=\"data row0 col11\" >0.03</td>\n",
              "                        <td id=\"T_4b64c70e_8afe_11ea_8819_0242ac1c0002row0_col12\" class=\"data row0 col12\" >-0.10</td>\n",
              "                        <td id=\"T_4b64c70e_8afe_11ea_8819_0242ac1c0002row0_col13\" class=\"data row0 col13\" >0.00</td>\n",
              "                        <td id=\"T_4b64c70e_8afe_11ea_8819_0242ac1c0002row0_col14\" class=\"data row0 col14\" >0.30</td>\n",
              "                        <td id=\"T_4b64c70e_8afe_11ea_8819_0242ac1c0002row0_col15\" class=\"data row0 col15\" >0.11</td>\n",
              "            </tr>\n",
              "            <tr>\n",
              "                        <th id=\"T_4b64c70e_8afe_11ea_8819_0242ac1c0002level0_row1\" class=\"row_heading level0 row1\" >program_id</th>\n",
              "                        <td id=\"T_4b64c70e_8afe_11ea_8819_0242ac1c0002row1_col0\" class=\"data row1 col0\" >-0.21</td>\n",
              "                        <td id=\"T_4b64c70e_8afe_11ea_8819_0242ac1c0002row1_col1\" class=\"data row1 col1\" >1.00</td>\n",
              "                        <td id=\"T_4b64c70e_8afe_11ea_8819_0242ac1c0002row1_col2\" class=\"data row1 col2\" >-0.03</td>\n",
              "                        <td id=\"T_4b64c70e_8afe_11ea_8819_0242ac1c0002row1_col3\" class=\"data row1 col3\" >-0.42</td>\n",
              "                        <td id=\"T_4b64c70e_8afe_11ea_8819_0242ac1c0002row1_col4\" class=\"data row1 col4\" >-0.22</td>\n",
              "                        <td id=\"T_4b64c70e_8afe_11ea_8819_0242ac1c0002row1_col5\" class=\"data row1 col5\" >0.11</td>\n",
              "                        <td id=\"T_4b64c70e_8afe_11ea_8819_0242ac1c0002row1_col6\" class=\"data row1 col6\" >0.02</td>\n",
              "                        <td id=\"T_4b64c70e_8afe_11ea_8819_0242ac1c0002row1_col7\" class=\"data row1 col7\" >-0.35</td>\n",
              "                        <td id=\"T_4b64c70e_8afe_11ea_8819_0242ac1c0002row1_col8\" class=\"data row1 col8\" >-0.08</td>\n",
              "                        <td id=\"T_4b64c70e_8afe_11ea_8819_0242ac1c0002row1_col9\" class=\"data row1 col9\" >0.01</td>\n",
              "                        <td id=\"T_4b64c70e_8afe_11ea_8819_0242ac1c0002row1_col10\" class=\"data row1 col10\" >0.01</td>\n",
              "                        <td id=\"T_4b64c70e_8afe_11ea_8819_0242ac1c0002row1_col11\" class=\"data row1 col11\" >0.03</td>\n",
              "                        <td id=\"T_4b64c70e_8afe_11ea_8819_0242ac1c0002row1_col12\" class=\"data row1 col12\" >0.07</td>\n",
              "                        <td id=\"T_4b64c70e_8afe_11ea_8819_0242ac1c0002row1_col13\" class=\"data row1 col13\" >0.01</td>\n",
              "                        <td id=\"T_4b64c70e_8afe_11ea_8819_0242ac1c0002row1_col14\" class=\"data row1 col14\" >0.02</td>\n",
              "                        <td id=\"T_4b64c70e_8afe_11ea_8819_0242ac1c0002row1_col15\" class=\"data row1 col15\" >0.03</td>\n",
              "            </tr>\n",
              "            <tr>\n",
              "                        <th id=\"T_4b64c70e_8afe_11ea_8819_0242ac1c0002level0_row2\" class=\"row_heading level0 row2\" >program_type</th>\n",
              "                        <td id=\"T_4b64c70e_8afe_11ea_8819_0242ac1c0002row2_col0\" class=\"data row2 col0\" >0.71</td>\n",
              "                        <td id=\"T_4b64c70e_8afe_11ea_8819_0242ac1c0002row2_col1\" class=\"data row2 col1\" >-0.03</td>\n",
              "                        <td id=\"T_4b64c70e_8afe_11ea_8819_0242ac1c0002row2_col2\" class=\"data row2 col2\" >1.00</td>\n",
              "                        <td id=\"T_4b64c70e_8afe_11ea_8819_0242ac1c0002row2_col3\" class=\"data row2 col3\" >0.13</td>\n",
              "                        <td id=\"T_4b64c70e_8afe_11ea_8819_0242ac1c0002row2_col4\" class=\"data row2 col4\" >0.98</td>\n",
              "                        <td id=\"T_4b64c70e_8afe_11ea_8819_0242ac1c0002row2_col5\" class=\"data row2 col5\" >0.17</td>\n",
              "                        <td id=\"T_4b64c70e_8afe_11ea_8819_0242ac1c0002row2_col6\" class=\"data row2 col6\" >-0.19</td>\n",
              "                        <td id=\"T_4b64c70e_8afe_11ea_8819_0242ac1c0002row2_col7\" class=\"data row2 col7\" >0.08</td>\n",
              "                        <td id=\"T_4b64c70e_8afe_11ea_8819_0242ac1c0002row2_col8\" class=\"data row2 col8\" >0.31</td>\n",
              "                        <td id=\"T_4b64c70e_8afe_11ea_8819_0242ac1c0002row2_col9\" class=\"data row2 col9\" >0.08</td>\n",
              "                        <td id=\"T_4b64c70e_8afe_11ea_8819_0242ac1c0002row2_col10\" class=\"data row2 col10\" >-0.01</td>\n",
              "                        <td id=\"T_4b64c70e_8afe_11ea_8819_0242ac1c0002row2_col11\" class=\"data row2 col11\" >-0.02</td>\n",
              "                        <td id=\"T_4b64c70e_8afe_11ea_8819_0242ac1c0002row2_col12\" class=\"data row2 col12\" >-0.12</td>\n",
              "                        <td id=\"T_4b64c70e_8afe_11ea_8819_0242ac1c0002row2_col13\" class=\"data row2 col13\" >0.03</td>\n",
              "                        <td id=\"T_4b64c70e_8afe_11ea_8819_0242ac1c0002row2_col14\" class=\"data row2 col14\" >0.35</td>\n",
              "                        <td id=\"T_4b64c70e_8afe_11ea_8819_0242ac1c0002row2_col15\" class=\"data row2 col15\" >0.08</td>\n",
              "            </tr>\n",
              "            <tr>\n",
              "                        <th id=\"T_4b64c70e_8afe_11ea_8819_0242ac1c0002level0_row3\" class=\"row_heading level0 row3\" >program_duration</th>\n",
              "                        <td id=\"T_4b64c70e_8afe_11ea_8819_0242ac1c0002row3_col0\" class=\"data row3 col0\" >0.20</td>\n",
              "                        <td id=\"T_4b64c70e_8afe_11ea_8819_0242ac1c0002row3_col1\" class=\"data row3 col1\" >-0.42</td>\n",
              "                        <td id=\"T_4b64c70e_8afe_11ea_8819_0242ac1c0002row3_col2\" class=\"data row3 col2\" >0.13</td>\n",
              "                        <td id=\"T_4b64c70e_8afe_11ea_8819_0242ac1c0002row3_col3\" class=\"data row3 col3\" >1.00</td>\n",
              "                        <td id=\"T_4b64c70e_8afe_11ea_8819_0242ac1c0002row3_col4\" class=\"data row3 col4\" >0.20</td>\n",
              "                        <td id=\"T_4b64c70e_8afe_11ea_8819_0242ac1c0002row3_col5\" class=\"data row3 col5\" >-0.07</td>\n",
              "                        <td id=\"T_4b64c70e_8afe_11ea_8819_0242ac1c0002row3_col6\" class=\"data row3 col6\" >0.01</td>\n",
              "                        <td id=\"T_4b64c70e_8afe_11ea_8819_0242ac1c0002row3_col7\" class=\"data row3 col7\" >0.15</td>\n",
              "                        <td id=\"T_4b64c70e_8afe_11ea_8819_0242ac1c0002row3_col8\" class=\"data row3 col8\" >0.11</td>\n",
              "                        <td id=\"T_4b64c70e_8afe_11ea_8819_0242ac1c0002row3_col9\" class=\"data row3 col9\" >-0.01</td>\n",
              "                        <td id=\"T_4b64c70e_8afe_11ea_8819_0242ac1c0002row3_col10\" class=\"data row3 col10\" >-0.02</td>\n",
              "                        <td id=\"T_4b64c70e_8afe_11ea_8819_0242ac1c0002row3_col11\" class=\"data row3 col11\" >-0.01</td>\n",
              "                        <td id=\"T_4b64c70e_8afe_11ea_8819_0242ac1c0002row3_col12\" class=\"data row3 col12\" >-0.01</td>\n",
              "                        <td id=\"T_4b64c70e_8afe_11ea_8819_0242ac1c0002row3_col13\" class=\"data row3 col13\" >-0.01</td>\n",
              "                        <td id=\"T_4b64c70e_8afe_11ea_8819_0242ac1c0002row3_col14\" class=\"data row3 col14\" >0.10</td>\n",
              "                        <td id=\"T_4b64c70e_8afe_11ea_8819_0242ac1c0002row3_col15\" class=\"data row3 col15\" >0.00</td>\n",
              "            </tr>\n",
              "            <tr>\n",
              "                        <th id=\"T_4b64c70e_8afe_11ea_8819_0242ac1c0002level0_row4\" class=\"row_heading level0 row4\" >test_id</th>\n",
              "                        <td id=\"T_4b64c70e_8afe_11ea_8819_0242ac1c0002row4_col0\" class=\"data row4 col0\" >0.73</td>\n",
              "                        <td id=\"T_4b64c70e_8afe_11ea_8819_0242ac1c0002row4_col1\" class=\"data row4 col1\" >-0.22</td>\n",
              "                        <td id=\"T_4b64c70e_8afe_11ea_8819_0242ac1c0002row4_col2\" class=\"data row4 col2\" >0.98</td>\n",
              "                        <td id=\"T_4b64c70e_8afe_11ea_8819_0242ac1c0002row4_col3\" class=\"data row4 col3\" >0.20</td>\n",
              "                        <td id=\"T_4b64c70e_8afe_11ea_8819_0242ac1c0002row4_col4\" class=\"data row4 col4\" >1.00</td>\n",
              "                        <td id=\"T_4b64c70e_8afe_11ea_8819_0242ac1c0002row4_col5\" class=\"data row4 col5\" >0.19</td>\n",
              "                        <td id=\"T_4b64c70e_8afe_11ea_8819_0242ac1c0002row4_col6\" class=\"data row4 col6\" >-0.21</td>\n",
              "                        <td id=\"T_4b64c70e_8afe_11ea_8819_0242ac1c0002row4_col7\" class=\"data row4 col7\" >0.15</td>\n",
              "                        <td id=\"T_4b64c70e_8afe_11ea_8819_0242ac1c0002row4_col8\" class=\"data row4 col8\" >0.28</td>\n",
              "                        <td id=\"T_4b64c70e_8afe_11ea_8819_0242ac1c0002row4_col9\" class=\"data row4 col9\" >0.09</td>\n",
              "                        <td id=\"T_4b64c70e_8afe_11ea_8819_0242ac1c0002row4_col10\" class=\"data row4 col10\" >-0.00</td>\n",
              "                        <td id=\"T_4b64c70e_8afe_11ea_8819_0242ac1c0002row4_col11\" class=\"data row4 col11\" >-0.02</td>\n",
              "                        <td id=\"T_4b64c70e_8afe_11ea_8819_0242ac1c0002row4_col12\" class=\"data row4 col12\" >-0.13</td>\n",
              "                        <td id=\"T_4b64c70e_8afe_11ea_8819_0242ac1c0002row4_col13\" class=\"data row4 col13\" >0.03</td>\n",
              "                        <td id=\"T_4b64c70e_8afe_11ea_8819_0242ac1c0002row4_col14\" class=\"data row4 col14\" >0.32</td>\n",
              "                        <td id=\"T_4b64c70e_8afe_11ea_8819_0242ac1c0002row4_col15\" class=\"data row4 col15\" >0.07</td>\n",
              "            </tr>\n",
              "            <tr>\n",
              "                        <th id=\"T_4b64c70e_8afe_11ea_8819_0242ac1c0002level0_row5\" class=\"row_heading level0 row5\" >test_type</th>\n",
              "                        <td id=\"T_4b64c70e_8afe_11ea_8819_0242ac1c0002row5_col0\" class=\"data row5 col0\" >0.13</td>\n",
              "                        <td id=\"T_4b64c70e_8afe_11ea_8819_0242ac1c0002row5_col1\" class=\"data row5 col1\" >0.11</td>\n",
              "                        <td id=\"T_4b64c70e_8afe_11ea_8819_0242ac1c0002row5_col2\" class=\"data row5 col2\" >0.17</td>\n",
              "                        <td id=\"T_4b64c70e_8afe_11ea_8819_0242ac1c0002row5_col3\" class=\"data row5 col3\" >-0.07</td>\n",
              "                        <td id=\"T_4b64c70e_8afe_11ea_8819_0242ac1c0002row5_col4\" class=\"data row5 col4\" >0.19</td>\n",
              "                        <td id=\"T_4b64c70e_8afe_11ea_8819_0242ac1c0002row5_col5\" class=\"data row5 col5\" >1.00</td>\n",
              "                        <td id=\"T_4b64c70e_8afe_11ea_8819_0242ac1c0002row5_col6\" class=\"data row5 col6\" >-0.69</td>\n",
              "                        <td id=\"T_4b64c70e_8afe_11ea_8819_0242ac1c0002row5_col7\" class=\"data row5 col7\" >-0.03</td>\n",
              "                        <td id=\"T_4b64c70e_8afe_11ea_8819_0242ac1c0002row5_col8\" class=\"data row5 col8\" >-0.00</td>\n",
              "                        <td id=\"T_4b64c70e_8afe_11ea_8819_0242ac1c0002row5_col9\" class=\"data row5 col9\" >0.03</td>\n",
              "                        <td id=\"T_4b64c70e_8afe_11ea_8819_0242ac1c0002row5_col10\" class=\"data row5 col10\" >0.01</td>\n",
              "                        <td id=\"T_4b64c70e_8afe_11ea_8819_0242ac1c0002row5_col11\" class=\"data row5 col11\" >0.04</td>\n",
              "                        <td id=\"T_4b64c70e_8afe_11ea_8819_0242ac1c0002row5_col12\" class=\"data row5 col12\" >-0.02</td>\n",
              "                        <td id=\"T_4b64c70e_8afe_11ea_8819_0242ac1c0002row5_col13\" class=\"data row5 col13\" >0.01</td>\n",
              "                        <td id=\"T_4b64c70e_8afe_11ea_8819_0242ac1c0002row5_col14\" class=\"data row5 col14\" >0.11</td>\n",
              "                        <td id=\"T_4b64c70e_8afe_11ea_8819_0242ac1c0002row5_col15\" class=\"data row5 col15\" >0.15</td>\n",
              "            </tr>\n",
              "            <tr>\n",
              "                        <th id=\"T_4b64c70e_8afe_11ea_8819_0242ac1c0002level0_row6\" class=\"row_heading level0 row6\" >difficulty_level</th>\n",
              "                        <td id=\"T_4b64c70e_8afe_11ea_8819_0242ac1c0002row6_col0\" class=\"data row6 col0\" >-0.13</td>\n",
              "                        <td id=\"T_4b64c70e_8afe_11ea_8819_0242ac1c0002row6_col1\" class=\"data row6 col1\" >0.02</td>\n",
              "                        <td id=\"T_4b64c70e_8afe_11ea_8819_0242ac1c0002row6_col2\" class=\"data row6 col2\" >-0.19</td>\n",
              "                        <td id=\"T_4b64c70e_8afe_11ea_8819_0242ac1c0002row6_col3\" class=\"data row6 col3\" >0.01</td>\n",
              "                        <td id=\"T_4b64c70e_8afe_11ea_8819_0242ac1c0002row6_col4\" class=\"data row6 col4\" >-0.21</td>\n",
              "                        <td id=\"T_4b64c70e_8afe_11ea_8819_0242ac1c0002row6_col5\" class=\"data row6 col5\" >-0.69</td>\n",
              "                        <td id=\"T_4b64c70e_8afe_11ea_8819_0242ac1c0002row6_col6\" class=\"data row6 col6\" >1.00</td>\n",
              "                        <td id=\"T_4b64c70e_8afe_11ea_8819_0242ac1c0002row6_col7\" class=\"data row6 col7\" >-0.03</td>\n",
              "                        <td id=\"T_4b64c70e_8afe_11ea_8819_0242ac1c0002row6_col8\" class=\"data row6 col8\" >0.05</td>\n",
              "                        <td id=\"T_4b64c70e_8afe_11ea_8819_0242ac1c0002row6_col9\" class=\"data row6 col9\" >-0.05</td>\n",
              "                        <td id=\"T_4b64c70e_8afe_11ea_8819_0242ac1c0002row6_col10\" class=\"data row6 col10\" >-0.02</td>\n",
              "                        <td id=\"T_4b64c70e_8afe_11ea_8819_0242ac1c0002row6_col11\" class=\"data row6 col11\" >-0.02</td>\n",
              "                        <td id=\"T_4b64c70e_8afe_11ea_8819_0242ac1c0002row6_col12\" class=\"data row6 col12\" >0.07</td>\n",
              "                        <td id=\"T_4b64c70e_8afe_11ea_8819_0242ac1c0002row6_col13\" class=\"data row6 col13\" >-0.02</td>\n",
              "                        <td id=\"T_4b64c70e_8afe_11ea_8819_0242ac1c0002row6_col14\" class=\"data row6 col14\" >-0.02</td>\n",
              "                        <td id=\"T_4b64c70e_8afe_11ea_8819_0242ac1c0002row6_col15\" class=\"data row6 col15\" >-0.11</td>\n",
              "            </tr>\n",
              "            <tr>\n",
              "                        <th id=\"T_4b64c70e_8afe_11ea_8819_0242ac1c0002level0_row7\" class=\"row_heading level0 row7\" >trainee_id</th>\n",
              "                        <td id=\"T_4b64c70e_8afe_11ea_8819_0242ac1c0002row7_col0\" class=\"data row7 col0\" >0.52</td>\n",
              "                        <td id=\"T_4b64c70e_8afe_11ea_8819_0242ac1c0002row7_col1\" class=\"data row7 col1\" >-0.35</td>\n",
              "                        <td id=\"T_4b64c70e_8afe_11ea_8819_0242ac1c0002row7_col2\" class=\"data row7 col2\" >0.08</td>\n",
              "                        <td id=\"T_4b64c70e_8afe_11ea_8819_0242ac1c0002row7_col3\" class=\"data row7 col3\" >0.15</td>\n",
              "                        <td id=\"T_4b64c70e_8afe_11ea_8819_0242ac1c0002row7_col4\" class=\"data row7 col4\" >0.15</td>\n",
              "                        <td id=\"T_4b64c70e_8afe_11ea_8819_0242ac1c0002row7_col5\" class=\"data row7 col5\" >-0.03</td>\n",
              "                        <td id=\"T_4b64c70e_8afe_11ea_8819_0242ac1c0002row7_col6\" class=\"data row7 col6\" >-0.03</td>\n",
              "                        <td id=\"T_4b64c70e_8afe_11ea_8819_0242ac1c0002row7_col7\" class=\"data row7 col7\" >1.00</td>\n",
              "                        <td id=\"T_4b64c70e_8afe_11ea_8819_0242ac1c0002row7_col8\" class=\"data row7 col8\" >0.02</td>\n",
              "                        <td id=\"T_4b64c70e_8afe_11ea_8819_0242ac1c0002row7_col9\" class=\"data row7 col9\" >-0.01</td>\n",
              "                        <td id=\"T_4b64c70e_8afe_11ea_8819_0242ac1c0002row7_col10\" class=\"data row7 col10\" >-0.01</td>\n",
              "                        <td id=\"T_4b64c70e_8afe_11ea_8819_0242ac1c0002row7_col11\" class=\"data row7 col11\" >0.09</td>\n",
              "                        <td id=\"T_4b64c70e_8afe_11ea_8819_0242ac1c0002row7_col12\" class=\"data row7 col12\" >-0.07</td>\n",
              "                        <td id=\"T_4b64c70e_8afe_11ea_8819_0242ac1c0002row7_col13\" class=\"data row7 col13\" >-0.02</td>\n",
              "                        <td id=\"T_4b64c70e_8afe_11ea_8819_0242ac1c0002row7_col14\" class=\"data row7 col14\" >0.03</td>\n",
              "                        <td id=\"T_4b64c70e_8afe_11ea_8819_0242ac1c0002row7_col15\" class=\"data row7 col15\" >0.04</td>\n",
              "            </tr>\n",
              "            <tr>\n",
              "                        <th id=\"T_4b64c70e_8afe_11ea_8819_0242ac1c0002level0_row8\" class=\"row_heading level0 row8\" >gender</th>\n",
              "                        <td id=\"T_4b64c70e_8afe_11ea_8819_0242ac1c0002row8_col0\" class=\"data row8 col0\" >0.21</td>\n",
              "                        <td id=\"T_4b64c70e_8afe_11ea_8819_0242ac1c0002row8_col1\" class=\"data row8 col1\" >-0.08</td>\n",
              "                        <td id=\"T_4b64c70e_8afe_11ea_8819_0242ac1c0002row8_col2\" class=\"data row8 col2\" >0.31</td>\n",
              "                        <td id=\"T_4b64c70e_8afe_11ea_8819_0242ac1c0002row8_col3\" class=\"data row8 col3\" >0.11</td>\n",
              "                        <td id=\"T_4b64c70e_8afe_11ea_8819_0242ac1c0002row8_col4\" class=\"data row8 col4\" >0.28</td>\n",
              "                        <td id=\"T_4b64c70e_8afe_11ea_8819_0242ac1c0002row8_col5\" class=\"data row8 col5\" >-0.00</td>\n",
              "                        <td id=\"T_4b64c70e_8afe_11ea_8819_0242ac1c0002row8_col6\" class=\"data row8 col6\" >0.05</td>\n",
              "                        <td id=\"T_4b64c70e_8afe_11ea_8819_0242ac1c0002row8_col7\" class=\"data row8 col7\" >0.02</td>\n",
              "                        <td id=\"T_4b64c70e_8afe_11ea_8819_0242ac1c0002row8_col8\" class=\"data row8 col8\" >1.00</td>\n",
              "                        <td id=\"T_4b64c70e_8afe_11ea_8819_0242ac1c0002row8_col9\" class=\"data row8 col9\" >-0.06</td>\n",
              "                        <td id=\"T_4b64c70e_8afe_11ea_8819_0242ac1c0002row8_col10\" class=\"data row8 col10\" >-0.07</td>\n",
              "                        <td id=\"T_4b64c70e_8afe_11ea_8819_0242ac1c0002row8_col11\" class=\"data row8 col11\" >-0.02</td>\n",
              "                        <td id=\"T_4b64c70e_8afe_11ea_8819_0242ac1c0002row8_col12\" class=\"data row8 col12\" >0.06</td>\n",
              "                        <td id=\"T_4b64c70e_8afe_11ea_8819_0242ac1c0002row8_col13\" class=\"data row8 col13\" >-0.05</td>\n",
              "                        <td id=\"T_4b64c70e_8afe_11ea_8819_0242ac1c0002row8_col14\" class=\"data row8 col14\" >0.27</td>\n",
              "                        <td id=\"T_4b64c70e_8afe_11ea_8819_0242ac1c0002row8_col15\" class=\"data row8 col15\" >0.02</td>\n",
              "            </tr>\n",
              "            <tr>\n",
              "                        <th id=\"T_4b64c70e_8afe_11ea_8819_0242ac1c0002level0_row9\" class=\"row_heading level0 row9\" >education</th>\n",
              "                        <td id=\"T_4b64c70e_8afe_11ea_8819_0242ac1c0002row9_col0\" class=\"data row9 col0\" >0.07</td>\n",
              "                        <td id=\"T_4b64c70e_8afe_11ea_8819_0242ac1c0002row9_col1\" class=\"data row9 col1\" >0.01</td>\n",
              "                        <td id=\"T_4b64c70e_8afe_11ea_8819_0242ac1c0002row9_col2\" class=\"data row9 col2\" >0.08</td>\n",
              "                        <td id=\"T_4b64c70e_8afe_11ea_8819_0242ac1c0002row9_col3\" class=\"data row9 col3\" >-0.01</td>\n",
              "                        <td id=\"T_4b64c70e_8afe_11ea_8819_0242ac1c0002row9_col4\" class=\"data row9 col4\" >0.09</td>\n",
              "                        <td id=\"T_4b64c70e_8afe_11ea_8819_0242ac1c0002row9_col5\" class=\"data row9 col5\" >0.03</td>\n",
              "                        <td id=\"T_4b64c70e_8afe_11ea_8819_0242ac1c0002row9_col6\" class=\"data row9 col6\" >-0.05</td>\n",
              "                        <td id=\"T_4b64c70e_8afe_11ea_8819_0242ac1c0002row9_col7\" class=\"data row9 col7\" >-0.01</td>\n",
              "                        <td id=\"T_4b64c70e_8afe_11ea_8819_0242ac1c0002row9_col8\" class=\"data row9 col8\" >-0.06</td>\n",
              "                        <td id=\"T_4b64c70e_8afe_11ea_8819_0242ac1c0002row9_col9\" class=\"data row9 col9\" >1.00</td>\n",
              "                        <td id=\"T_4b64c70e_8afe_11ea_8819_0242ac1c0002row9_col10\" class=\"data row9 col10\" >0.09</td>\n",
              "                        <td id=\"T_4b64c70e_8afe_11ea_8819_0242ac1c0002row9_col11\" class=\"data row9 col11\" >-0.04</td>\n",
              "                        <td id=\"T_4b64c70e_8afe_11ea_8819_0242ac1c0002row9_col12\" class=\"data row9 col12\" >-0.06</td>\n",
              "                        <td id=\"T_4b64c70e_8afe_11ea_8819_0242ac1c0002row9_col13\" class=\"data row9 col13\" >0.07</td>\n",
              "                        <td id=\"T_4b64c70e_8afe_11ea_8819_0242ac1c0002row9_col14\" class=\"data row9 col14\" >-0.05</td>\n",
              "                        <td id=\"T_4b64c70e_8afe_11ea_8819_0242ac1c0002row9_col15\" class=\"data row9 col15\" >-0.08</td>\n",
              "            </tr>\n",
              "            <tr>\n",
              "                        <th id=\"T_4b64c70e_8afe_11ea_8819_0242ac1c0002level0_row10\" class=\"row_heading level0 row10\" >city_tier</th>\n",
              "                        <td id=\"T_4b64c70e_8afe_11ea_8819_0242ac1c0002row10_col0\" class=\"data row10 col0\" >-0.00</td>\n",
              "                        <td id=\"T_4b64c70e_8afe_11ea_8819_0242ac1c0002row10_col1\" class=\"data row10 col1\" >0.01</td>\n",
              "                        <td id=\"T_4b64c70e_8afe_11ea_8819_0242ac1c0002row10_col2\" class=\"data row10 col2\" >-0.01</td>\n",
              "                        <td id=\"T_4b64c70e_8afe_11ea_8819_0242ac1c0002row10_col3\" class=\"data row10 col3\" >-0.02</td>\n",
              "                        <td id=\"T_4b64c70e_8afe_11ea_8819_0242ac1c0002row10_col4\" class=\"data row10 col4\" >-0.00</td>\n",
              "                        <td id=\"T_4b64c70e_8afe_11ea_8819_0242ac1c0002row10_col5\" class=\"data row10 col5\" >0.01</td>\n",
              "                        <td id=\"T_4b64c70e_8afe_11ea_8819_0242ac1c0002row10_col6\" class=\"data row10 col6\" >-0.02</td>\n",
              "                        <td id=\"T_4b64c70e_8afe_11ea_8819_0242ac1c0002row10_col7\" class=\"data row10 col7\" >-0.01</td>\n",
              "                        <td id=\"T_4b64c70e_8afe_11ea_8819_0242ac1c0002row10_col8\" class=\"data row10 col8\" >-0.07</td>\n",
              "                        <td id=\"T_4b64c70e_8afe_11ea_8819_0242ac1c0002row10_col9\" class=\"data row10 col9\" >0.09</td>\n",
              "                        <td id=\"T_4b64c70e_8afe_11ea_8819_0242ac1c0002row10_col10\" class=\"data row10 col10\" >1.00</td>\n",
              "                        <td id=\"T_4b64c70e_8afe_11ea_8819_0242ac1c0002row10_col11\" class=\"data row10 col11\" >-0.06</td>\n",
              "                        <td id=\"T_4b64c70e_8afe_11ea_8819_0242ac1c0002row10_col12\" class=\"data row10 col12\" >0.02</td>\n",
              "                        <td id=\"T_4b64c70e_8afe_11ea_8819_0242ac1c0002row10_col13\" class=\"data row10 col13\" >0.06</td>\n",
              "                        <td id=\"T_4b64c70e_8afe_11ea_8819_0242ac1c0002row10_col14\" class=\"data row10 col14\" >-0.05</td>\n",
              "                        <td id=\"T_4b64c70e_8afe_11ea_8819_0242ac1c0002row10_col15\" class=\"data row10 col15\" >-0.07</td>\n",
              "            </tr>\n",
              "            <tr>\n",
              "                        <th id=\"T_4b64c70e_8afe_11ea_8819_0242ac1c0002level0_row11\" class=\"row_heading level0 row11\" >age</th>\n",
              "                        <td id=\"T_4b64c70e_8afe_11ea_8819_0242ac1c0002row11_col0\" class=\"data row11 col0\" >0.03</td>\n",
              "                        <td id=\"T_4b64c70e_8afe_11ea_8819_0242ac1c0002row11_col1\" class=\"data row11 col1\" >0.03</td>\n",
              "                        <td id=\"T_4b64c70e_8afe_11ea_8819_0242ac1c0002row11_col2\" class=\"data row11 col2\" >-0.02</td>\n",
              "                        <td id=\"T_4b64c70e_8afe_11ea_8819_0242ac1c0002row11_col3\" class=\"data row11 col3\" >-0.01</td>\n",
              "                        <td id=\"T_4b64c70e_8afe_11ea_8819_0242ac1c0002row11_col4\" class=\"data row11 col4\" >-0.02</td>\n",
              "                        <td id=\"T_4b64c70e_8afe_11ea_8819_0242ac1c0002row11_col5\" class=\"data row11 col5\" >0.04</td>\n",
              "                        <td id=\"T_4b64c70e_8afe_11ea_8819_0242ac1c0002row11_col6\" class=\"data row11 col6\" >-0.02</td>\n",
              "                        <td id=\"T_4b64c70e_8afe_11ea_8819_0242ac1c0002row11_col7\" class=\"data row11 col7\" >0.09</td>\n",
              "                        <td id=\"T_4b64c70e_8afe_11ea_8819_0242ac1c0002row11_col8\" class=\"data row11 col8\" >-0.02</td>\n",
              "                        <td id=\"T_4b64c70e_8afe_11ea_8819_0242ac1c0002row11_col9\" class=\"data row11 col9\" >-0.04</td>\n",
              "                        <td id=\"T_4b64c70e_8afe_11ea_8819_0242ac1c0002row11_col10\" class=\"data row11 col10\" >-0.06</td>\n",
              "                        <td id=\"T_4b64c70e_8afe_11ea_8819_0242ac1c0002row11_col11\" class=\"data row11 col11\" >1.00</td>\n",
              "                        <td id=\"T_4b64c70e_8afe_11ea_8819_0242ac1c0002row11_col12\" class=\"data row11 col12\" >-0.06</td>\n",
              "                        <td id=\"T_4b64c70e_8afe_11ea_8819_0242ac1c0002row11_col13\" class=\"data row11 col13\" >-0.02</td>\n",
              "                        <td id=\"T_4b64c70e_8afe_11ea_8819_0242ac1c0002row11_col14\" class=\"data row11 col14\" >0.15</td>\n",
              "                        <td id=\"T_4b64c70e_8afe_11ea_8819_0242ac1c0002row11_col15\" class=\"data row11 col15\" >0.06</td>\n",
              "            </tr>\n",
              "            <tr>\n",
              "                        <th id=\"T_4b64c70e_8afe_11ea_8819_0242ac1c0002level0_row12\" class=\"row_heading level0 row12\" >total_programs_enrolled</th>\n",
              "                        <td id=\"T_4b64c70e_8afe_11ea_8819_0242ac1c0002row12_col0\" class=\"data row12 col0\" >-0.10</td>\n",
              "                        <td id=\"T_4b64c70e_8afe_11ea_8819_0242ac1c0002row12_col1\" class=\"data row12 col1\" >0.07</td>\n",
              "                        <td id=\"T_4b64c70e_8afe_11ea_8819_0242ac1c0002row12_col2\" class=\"data row12 col2\" >-0.12</td>\n",
              "                        <td id=\"T_4b64c70e_8afe_11ea_8819_0242ac1c0002row12_col3\" class=\"data row12 col3\" >-0.01</td>\n",
              "                        <td id=\"T_4b64c70e_8afe_11ea_8819_0242ac1c0002row12_col4\" class=\"data row12 col4\" >-0.13</td>\n",
              "                        <td id=\"T_4b64c70e_8afe_11ea_8819_0242ac1c0002row12_col5\" class=\"data row12 col5\" >-0.02</td>\n",
              "                        <td id=\"T_4b64c70e_8afe_11ea_8819_0242ac1c0002row12_col6\" class=\"data row12 col6\" >0.07</td>\n",
              "                        <td id=\"T_4b64c70e_8afe_11ea_8819_0242ac1c0002row12_col7\" class=\"data row12 col7\" >-0.07</td>\n",
              "                        <td id=\"T_4b64c70e_8afe_11ea_8819_0242ac1c0002row12_col8\" class=\"data row12 col8\" >0.06</td>\n",
              "                        <td id=\"T_4b64c70e_8afe_11ea_8819_0242ac1c0002row12_col9\" class=\"data row12 col9\" >-0.06</td>\n",
              "                        <td id=\"T_4b64c70e_8afe_11ea_8819_0242ac1c0002row12_col10\" class=\"data row12 col10\" >0.02</td>\n",
              "                        <td id=\"T_4b64c70e_8afe_11ea_8819_0242ac1c0002row12_col11\" class=\"data row12 col11\" >-0.06</td>\n",
              "                        <td id=\"T_4b64c70e_8afe_11ea_8819_0242ac1c0002row12_col12\" class=\"data row12 col12\" >1.00</td>\n",
              "                        <td id=\"T_4b64c70e_8afe_11ea_8819_0242ac1c0002row12_col13\" class=\"data row12 col13\" >0.03</td>\n",
              "                        <td id=\"T_4b64c70e_8afe_11ea_8819_0242ac1c0002row12_col14\" class=\"data row12 col14\" >0.08</td>\n",
              "                        <td id=\"T_4b64c70e_8afe_11ea_8819_0242ac1c0002row12_col15\" class=\"data row12 col15\" >-0.03</td>\n",
              "            </tr>\n",
              "            <tr>\n",
              "                        <th id=\"T_4b64c70e_8afe_11ea_8819_0242ac1c0002level0_row13\" class=\"row_heading level0 row13\" >is_handicapped</th>\n",
              "                        <td id=\"T_4b64c70e_8afe_11ea_8819_0242ac1c0002row13_col0\" class=\"data row13 col0\" >0.00</td>\n",
              "                        <td id=\"T_4b64c70e_8afe_11ea_8819_0242ac1c0002row13_col1\" class=\"data row13 col1\" >0.01</td>\n",
              "                        <td id=\"T_4b64c70e_8afe_11ea_8819_0242ac1c0002row13_col2\" class=\"data row13 col2\" >0.03</td>\n",
              "                        <td id=\"T_4b64c70e_8afe_11ea_8819_0242ac1c0002row13_col3\" class=\"data row13 col3\" >-0.01</td>\n",
              "                        <td id=\"T_4b64c70e_8afe_11ea_8819_0242ac1c0002row13_col4\" class=\"data row13 col4\" >0.03</td>\n",
              "                        <td id=\"T_4b64c70e_8afe_11ea_8819_0242ac1c0002row13_col5\" class=\"data row13 col5\" >0.01</td>\n",
              "                        <td id=\"T_4b64c70e_8afe_11ea_8819_0242ac1c0002row13_col6\" class=\"data row13 col6\" >-0.02</td>\n",
              "                        <td id=\"T_4b64c70e_8afe_11ea_8819_0242ac1c0002row13_col7\" class=\"data row13 col7\" >-0.02</td>\n",
              "                        <td id=\"T_4b64c70e_8afe_11ea_8819_0242ac1c0002row13_col8\" class=\"data row13 col8\" >-0.05</td>\n",
              "                        <td id=\"T_4b64c70e_8afe_11ea_8819_0242ac1c0002row13_col9\" class=\"data row13 col9\" >0.07</td>\n",
              "                        <td id=\"T_4b64c70e_8afe_11ea_8819_0242ac1c0002row13_col10\" class=\"data row13 col10\" >0.06</td>\n",
              "                        <td id=\"T_4b64c70e_8afe_11ea_8819_0242ac1c0002row13_col11\" class=\"data row13 col11\" >-0.02</td>\n",
              "                        <td id=\"T_4b64c70e_8afe_11ea_8819_0242ac1c0002row13_col12\" class=\"data row13 col12\" >0.03</td>\n",
              "                        <td id=\"T_4b64c70e_8afe_11ea_8819_0242ac1c0002row13_col13\" class=\"data row13 col13\" >1.00</td>\n",
              "                        <td id=\"T_4b64c70e_8afe_11ea_8819_0242ac1c0002row13_col14\" class=\"data row13 col14\" >-0.03</td>\n",
              "                        <td id=\"T_4b64c70e_8afe_11ea_8819_0242ac1c0002row13_col15\" class=\"data row13 col15\" >-0.04</td>\n",
              "            </tr>\n",
              "            <tr>\n",
              "                        <th id=\"T_4b64c70e_8afe_11ea_8819_0242ac1c0002level0_row14\" class=\"row_heading level0 row14\" >trainee_engagement_rating</th>\n",
              "                        <td id=\"T_4b64c70e_8afe_11ea_8819_0242ac1c0002row14_col0\" class=\"data row14 col0\" >0.30</td>\n",
              "                        <td id=\"T_4b64c70e_8afe_11ea_8819_0242ac1c0002row14_col1\" class=\"data row14 col1\" >0.02</td>\n",
              "                        <td id=\"T_4b64c70e_8afe_11ea_8819_0242ac1c0002row14_col2\" class=\"data row14 col2\" >0.35</td>\n",
              "                        <td id=\"T_4b64c70e_8afe_11ea_8819_0242ac1c0002row14_col3\" class=\"data row14 col3\" >0.10</td>\n",
              "                        <td id=\"T_4b64c70e_8afe_11ea_8819_0242ac1c0002row14_col4\" class=\"data row14 col4\" >0.32</td>\n",
              "                        <td id=\"T_4b64c70e_8afe_11ea_8819_0242ac1c0002row14_col5\" class=\"data row14 col5\" >0.11</td>\n",
              "                        <td id=\"T_4b64c70e_8afe_11ea_8819_0242ac1c0002row14_col6\" class=\"data row14 col6\" >-0.02</td>\n",
              "                        <td id=\"T_4b64c70e_8afe_11ea_8819_0242ac1c0002row14_col7\" class=\"data row14 col7\" >0.03</td>\n",
              "                        <td id=\"T_4b64c70e_8afe_11ea_8819_0242ac1c0002row14_col8\" class=\"data row14 col8\" >0.27</td>\n",
              "                        <td id=\"T_4b64c70e_8afe_11ea_8819_0242ac1c0002row14_col9\" class=\"data row14 col9\" >-0.05</td>\n",
              "                        <td id=\"T_4b64c70e_8afe_11ea_8819_0242ac1c0002row14_col10\" class=\"data row14 col10\" >-0.05</td>\n",
              "                        <td id=\"T_4b64c70e_8afe_11ea_8819_0242ac1c0002row14_col11\" class=\"data row14 col11\" >0.15</td>\n",
              "                        <td id=\"T_4b64c70e_8afe_11ea_8819_0242ac1c0002row14_col12\" class=\"data row14 col12\" >0.08</td>\n",
              "                        <td id=\"T_4b64c70e_8afe_11ea_8819_0242ac1c0002row14_col13\" class=\"data row14 col13\" >-0.03</td>\n",
              "                        <td id=\"T_4b64c70e_8afe_11ea_8819_0242ac1c0002row14_col14\" class=\"data row14 col14\" >1.00</td>\n",
              "                        <td id=\"T_4b64c70e_8afe_11ea_8819_0242ac1c0002row14_col15\" class=\"data row14 col15\" >0.20</td>\n",
              "            </tr>\n",
              "            <tr>\n",
              "                        <th id=\"T_4b64c70e_8afe_11ea_8819_0242ac1c0002level0_row15\" class=\"row_heading level0 row15\" >is_pass</th>\n",
              "                        <td id=\"T_4b64c70e_8afe_11ea_8819_0242ac1c0002row15_col0\" class=\"data row15 col0\" >0.11</td>\n",
              "                        <td id=\"T_4b64c70e_8afe_11ea_8819_0242ac1c0002row15_col1\" class=\"data row15 col1\" >0.03</td>\n",
              "                        <td id=\"T_4b64c70e_8afe_11ea_8819_0242ac1c0002row15_col2\" class=\"data row15 col2\" >0.08</td>\n",
              "                        <td id=\"T_4b64c70e_8afe_11ea_8819_0242ac1c0002row15_col3\" class=\"data row15 col3\" >0.00</td>\n",
              "                        <td id=\"T_4b64c70e_8afe_11ea_8819_0242ac1c0002row15_col4\" class=\"data row15 col4\" >0.07</td>\n",
              "                        <td id=\"T_4b64c70e_8afe_11ea_8819_0242ac1c0002row15_col5\" class=\"data row15 col5\" >0.15</td>\n",
              "                        <td id=\"T_4b64c70e_8afe_11ea_8819_0242ac1c0002row15_col6\" class=\"data row15 col6\" >-0.11</td>\n",
              "                        <td id=\"T_4b64c70e_8afe_11ea_8819_0242ac1c0002row15_col7\" class=\"data row15 col7\" >0.04</td>\n",
              "                        <td id=\"T_4b64c70e_8afe_11ea_8819_0242ac1c0002row15_col8\" class=\"data row15 col8\" >0.02</td>\n",
              "                        <td id=\"T_4b64c70e_8afe_11ea_8819_0242ac1c0002row15_col9\" class=\"data row15 col9\" >-0.08</td>\n",
              "                        <td id=\"T_4b64c70e_8afe_11ea_8819_0242ac1c0002row15_col10\" class=\"data row15 col10\" >-0.07</td>\n",
              "                        <td id=\"T_4b64c70e_8afe_11ea_8819_0242ac1c0002row15_col11\" class=\"data row15 col11\" >0.06</td>\n",
              "                        <td id=\"T_4b64c70e_8afe_11ea_8819_0242ac1c0002row15_col12\" class=\"data row15 col12\" >-0.03</td>\n",
              "                        <td id=\"T_4b64c70e_8afe_11ea_8819_0242ac1c0002row15_col13\" class=\"data row15 col13\" >-0.04</td>\n",
              "                        <td id=\"T_4b64c70e_8afe_11ea_8819_0242ac1c0002row15_col14\" class=\"data row15 col14\" >0.20</td>\n",
              "                        <td id=\"T_4b64c70e_8afe_11ea_8819_0242ac1c0002row15_col15\" class=\"data row15 col15\" >1.00</td>\n",
              "            </tr>\n",
              "    </tbody></table>"
            ],
            "text/plain": [
              "<pandas.io.formats.style.Styler at 0x7f4442c307b8>"
            ]
          },
          "metadata": {
            "tags": []
          },
          "execution_count": 27
        }
      ]
    },
    {
      "cell_type": "code",
      "metadata": {
        "id": "hFNL5OU9XLDF",
        "colab_type": "code",
        "colab": {}
      },
      "source": [
        "del train['difficulty_level']\n",
        "del test['difficulty_level']\n",
        "del train['city_tier']\n",
        "del test['city_tier']\n",
        "del train['education']\n",
        "del test['education']\n",
        "del train['total_programs_enrolled']\n",
        "del test['total_programs_enrolled']\n",
        "del train['is_handicapped']\n",
        "del test['is_handicapped']\n",
        "del train['program_id']\n",
        "del test['program_id']\n",
        "del train['program_duration']\n",
        "del test['program_duration']\n",
        "del train['test_type']\n",
        "del test['test_type']\n",
        "del train['age']\n",
        "del test['age']"
      ],
      "execution_count": 0,
      "outputs": []
    },
    {
      "cell_type": "code",
      "metadata": {
        "id": "XMR3PV299_Jf",
        "colab_type": "code",
        "outputId": "1eabf2c3-eedf-4ac4-cbe7-48a7b9126672",
        "colab": {
          "base_uri": "https://localhost:8080/",
          "height": 34
        }
      },
      "source": [
        "X_train.shape, y_train.shape, X_cv.shape, y_cv.shape"
      ],
      "execution_count": 29,
      "outputs": [
        {
          "output_type": "execute_result",
          "data": {
            "text/plain": [
              "((62174, 15), (62174,), (10973, 15), (10973,))"
            ]
          },
          "metadata": {
            "tags": []
          },
          "execution_count": 29
        }
      ]
    },
    {
      "cell_type": "code",
      "metadata": {
        "id": "KQEKe3s--Bj6",
        "colab_type": "code",
        "colab": {}
      },
      "source": [
        "from math import sqrt \n",
        "from sklearn.metrics import mean_squared_error"
      ],
      "execution_count": 0,
      "outputs": []
    },
    {
      "cell_type": "code",
      "metadata": {
        "id": "KH9A6FsD-O0g",
        "colab_type": "code",
        "outputId": "b25ef7da-6a3f-4a63-dceb-3a92a732ebc5",
        "colab": {
          "base_uri": "https://localhost:8080/",
          "height": 323
        }
      },
      "source": [
        "import lightgbm as lgb\n",
        "train_data = lgb.Dataset(X_train, label=y_train)\n",
        "test_data = lgb.Dataset(X_cv, label=y_cv)\n",
        "\n",
        "param = {'objective': 'regression',\n",
        "         'num_leaves':500,\n",
        "         'boosting': 'gbdt',  \n",
        "         'metric': 'mae',\n",
        "         'learning_rate': 0.1, \n",
        "         'num_iterations': 1000,\n",
        "         'num_leaves': 80,\n",
        "         'max_depth': 8,\n",
        "         'min_data_in_leaf': 11,\n",
        "         'bagging_fraction': 0.90,\n",
        "         'bagging_freq': 1,\n",
        "         'bagging_seed': 101,\n",
        "         'feature_fraction': 0.90,\n",
        "         'feature_fraction_seed': 2,\n",
        "         'early_stopping_round': 100,\n",
        "         'max_bin': 250\n",
        "         }\n",
        "\n",
        "lgbm = lgb.train(params=param, verbose_eval=100, train_set=train_data, valid_sets=[test_data])\n",
        "\n",
        "y_pred_lgbm = lgbm.predict(X_cv)\n",
        "print('RMSLE:', sqrt(mean_squared_error(np.expm1(y_cv), np.expm1(y_pred_lgbm))))"
      ],
      "execution_count": 0,
      "outputs": [
        {
          "output_type": "stream",
          "text": [
            "/usr/local/lib/python3.6/dist-packages/lightgbm/engine.py:118: UserWarning: Found `num_iterations` in params. Will use it instead of argument\n",
            "  warnings.warn(\"Found `{}` in params. Will use it instead of argument\".format(alias))\n",
            "/usr/local/lib/python3.6/dist-packages/lightgbm/engine.py:123: UserWarning: Found `early_stopping_round` in params. Will use it instead of argument\n",
            "  warnings.warn(\"Found `{}` in params. Will use it instead of argument\".format(alias))\n"
          ],
          "name": "stderr"
        },
        {
          "output_type": "stream",
          "text": [
            "Training until validation scores don't improve for 100 rounds.\n",
            "[100]\tvalid_0's l1: 0.363252\n",
            "[200]\tvalid_0's l1: 0.357007\n",
            "[300]\tvalid_0's l1: 0.35381\n",
            "[400]\tvalid_0's l1: 0.351424\n",
            "[500]\tvalid_0's l1: 0.349935\n",
            "[600]\tvalid_0's l1: 0.348503\n",
            "[700]\tvalid_0's l1: 0.347895\n",
            "[800]\tvalid_0's l1: 0.347347\n",
            "[900]\tvalid_0's l1: 0.346752\n",
            "[1000]\tvalid_0's l1: 0.346424\n",
            "Did not meet early stopping. Best iteration is:\n",
            "[1000]\tvalid_0's l1: 0.346424\n",
            "RMSLE: 0.7569075645744756\n"
          ],
          "name": "stdout"
        }
      ]
    },
    {
      "cell_type": "code",
      "metadata": {
        "id": "onyCPuq7-TIt",
        "colab_type": "code",
        "outputId": "c456647c-2899-4a60-ebfa-ff0c3b7329bb",
        "colab": {
          "base_uri": "https://localhost:8080/",
          "height": 763
        }
      },
      "source": [
        "import seaborn as sns\n",
        "feature_imp = pd.DataFrame(sorted(zip(lgbm.feature_importance(), X.columns), reverse=True)[:50], \n",
        "                           columns=['Value','Feature'])\n",
        "plt.figure(figsize=(12, 10))\n",
        "sns.barplot(x=\"Value\", y=\"Feature\", data=feature_imp.sort_values(by=\"Value\", ascending=False))\n",
        "plt.title('LightGBM Features')\n",
        "plt.tight_layout()\n",
        "plt.show()"
      ],
      "execution_count": 0,
      "outputs": [
        {
          "output_type": "stream",
          "text": [
            "/usr/local/lib/python3.6/dist-packages/statsmodels/tools/_testing.py:19: FutureWarning: pandas.util.testing is deprecated. Use the functions in the public API at pandas.testing instead.\n",
            "  import pandas.util.testing as tm\n"
          ],
          "name": "stderr"
        },
        {
          "output_type": "display_data",
          "data": {
            "image/png": "[encoded data removed]",
            "text/plain": [
              "<Figure size 864x720 with 1 Axes>"
            ]
          },
          "metadata": {
            "tags": [],
            "needs_background": "light"
          }
        }
      ]
    },
    {
      "cell_type": "code",
      "metadata": {
        "id": "EvIaV_cW_7LQ",
        "colab_type": "code",
        "colab": {}
      },
      "source": [
        "Xtest = test"
      ],
      "execution_count": 0,
      "outputs": []
    },
    {
      "cell_type": "code",
      "metadata": {
        "id": "w4iY0oTd__5_",
        "colab_type": "code",
        "outputId": "a66f67d1-3b8f-438d-92bc-5f895e49ebf1",
        "colab": {
          "base_uri": "https://localhost:8080/",
          "height": 85
        }
      },
      "source": [
        "from sklearn.model_selection import KFold\n",
        "from lightgbm import LGBMRegressor\n",
        "\n",
        "errlgb = []\n",
        "y_pred_totlgb = []\n",
        "\n",
        "fold = KFold(n_splits=\n",
        "             4, shuffle=True, random_state=101)\n",
        "\n",
        "for train_index, test_index in fold.split(X):\n",
        "    X_train, X_test = X.loc[train_index], X.loc[test_index]\n",
        "    y_train, y_test = y[train_index], y[test_index]\n",
        "\n",
        "    lgbm = LGBMRegressor(boosting_type='gbdt', num_leaves=500, max_depth=31, learning_rate=0.01, n_estimators=500, min_child_samples=20, subsample=0.9, bagging_fraction=0.90, feature_fraction=0.90, bagging_freq=1,bagging_seed=101)\n",
        "    lgbm.fit(X_train, y_train, eval_set=[(X_test, y_test)], verbose=0, early_stopping_rounds=100)\n",
        "\n",
        "    y_pred_lgbm = lgbm.predict(X_test)\n",
        "    print(\"RMSLE LGBM: \", sqrt(mean_squared_error(np.exp(y_test), np.exp(y_pred_lgbm))))\n",
        "\n",
        "    errlgb.append(sqrt(mean_squared_error(np.exp(y_test), np.exp(y_pred_lgbm))))\n",
        "    p = lgbm.predict(Xtest)\n",
        "    y_pred_totlgb.append(p)"
      ],
      "execution_count": 0,
      "outputs": [
        {
          "output_type": "stream",
          "text": [
            "RMSLE LGBM:  0.7404853629105235\n",
            "RMSLE LGBM:  0.7441919172543477\n",
            "RMSLE LGBM:  0.7395971318469208\n",
            "RMSLE LGBM:  0.7446070003905366\n"
          ],
          "name": "stdout"
        }
      ]
    },
    {
      "cell_type": "code",
      "metadata": {
        "id": "nlY4Di0KAE7X",
        "colab_type": "code",
        "outputId": "26f2fbd6-4817-4953-80ba-c5d5329290a7",
        "colab": {
          "base_uri": "https://localhost:8080/",
          "height": 34
        }
      },
      "source": [
        "np.mean(errlgb,0)"
      ],
      "execution_count": 0,
      "outputs": [
        {
          "output_type": "execute_result",
          "data": {
            "text/plain": [
              "0.7422203531005822"
            ]
          },
          "metadata": {
            "tags": []
          },
          "execution_count": 65
        }
      ]
    },
    {
      "cell_type": "code",
      "metadata": {
        "id": "dSujSBT-rQOq",
        "colab_type": "code",
        "colab": {}
      },
      "source": [
        "lgbm_final=y_pred_totlgb[1]"
      ],
      "execution_count": 0,
      "outputs": []
    },
    {
      "cell_type": "code",
      "metadata": {
        "id": "wPaDjdv2AYjG",
        "colab_type": "code",
        "outputId": "259df41f-73f4-49bb-dd20-fcb11bd5d20b",
        "colab": {
          "base_uri": "https://localhost:8080/",
          "height": 51
        }
      },
      "source": [
        "lgbm_final = np.mean(y_pred_totlgb,0)\n",
        "lgbm_final"
      ],
      "execution_count": 0,
      "outputs": [
        {
          "output_type": "execute_result",
          "data": {
            "text/plain": [
              "array([0.60145899, 0.9965456 , 0.73897962, ..., 0.84578103, 0.34886339,\n",
              "       0.8579241 ])"
            ]
          },
          "metadata": {
            "tags": []
          },
          "execution_count": 67
        }
      ]
    },
    {
      "cell_type": "code",
      "metadata": {
        "id": "BNtR9d64bIkm",
        "colab_type": "code",
        "outputId": "a790531b-45e0-4082-fefc-e4679c697876",
        "colab": {
          "base_uri": "https://localhost:8080/",
          "height": 255
        }
      },
      "source": [
        "submission = pd.DataFrame({\n",
        "        \"id\": o1,\n",
        "        \"is_pass\": lgbm_final\n",
        "    })\n",
        "submission.to_csv('./submission.csv', index=False)\n",
        "print(submission)"
      ],
      "execution_count": 0,
      "outputs": [
        {
          "output_type": "stream",
          "text": [
            "              id   is_pass\n",
            "0        1626_45  0.601459\n",
            "1      11020_130  0.996546\n",
            "2      12652_146  0.738980\n",
            "3        7038_72  0.173481\n",
            "4         888_71  0.278604\n",
            "...          ...       ...\n",
            "31344   18820_22  0.370073\n",
            "31345    1641_96  0.935447\n",
            "31346   7010_157  0.845781\n",
            "31347  14895_179  0.348863\n",
            "31348   9004_107  0.857924\n",
            "\n",
            "[31349 rows x 2 columns]\n"
          ],
          "name": "stdout"
        }
      ]
    },
    {
      "cell_type": "code",
      "metadata": {
        "id": "ujxPTI2Sbf4n",
        "colab_type": "code",
        "colab": {}
      },
      "source": [
        "from google.colab import files\n",
        "files.download('submission.csv')"
      ],
      "execution_count": 0,
      "outputs": []
    },
    {
      "cell_type": "code",
      "metadata": {
        "id": "OcSputIbET2X",
        "colab_type": "code",
        "colab": {}
      },
      "source": [
        ""
      ],
      "execution_count": 0,
      "outputs": []
    },
    {
      "cell_type": "markdown",
      "metadata": {
        "id": "kIRl-NdWnS_c",
        "colab_type": "text"
      },
      "source": [
        "# 2nd Method"
      ]
    },
    {
      "cell_type": "code",
      "metadata": {
        "id": "dVLcxD6txBdu",
        "colab_type": "code",
        "outputId": "91c70f4e-5aaf-40e6-8cc5-7324efbd4531",
        "colab": {
          "base_uri": "https://localhost:8080/",
          "height": 374
        }
      },
      "source": [
        "from sklearn.ensemble import GradientBoostingRegressor\n",
        "gb = GradientBoostingRegressor(verbose=1, learning_rate=0.1, n_estimators=100, random_state=101, subsample=0.8)\n",
        "gb.fit(X_train, y_train)\n",
        "y_pred = gb.predict(X_cv)\n",
        "print(\"RMSLE LGBM: \", sqrt(mean_squared_error(np.exp(y_cv), np.exp(y_pred))))"
      ],
      "execution_count": 0,
      "outputs": [
        {
          "output_type": "stream",
          "text": [
            "      Iter       Train Loss      OOB Improve   Remaining Time \n",
            "         1           0.2098           0.0023            5.90s\n",
            "         2           0.2074           0.0023            5.52s\n",
            "         3           0.2058           0.0018            5.40s\n",
            "         4           0.2042           0.0014            5.32s\n",
            "         5           0.2031           0.0014            5.20s\n",
            "         6           0.2025           0.0011            5.11s\n",
            "         7           0.2012           0.0007            5.04s\n",
            "         8           0.2007           0.0008            5.02s\n",
            "         9           0.1995           0.0006            4.97s\n",
            "        10           0.1993           0.0005            4.90s\n",
            "        20           0.1963           0.0002            4.52s\n",
            "        30           0.1933           0.0002            3.97s\n",
            "        40           0.1916           0.0001            3.37s\n",
            "        50           0.1912           0.0000            2.78s\n",
            "        60           0.1898          -0.0000            2.22s\n",
            "        70           0.1899           0.0001            1.65s\n",
            "        80           0.1888           0.0001            1.10s\n",
            "        90           0.1884           0.0000            0.55s\n",
            "       100           0.1869           0.0000            0.00s\n",
            "RMSLE LGBM:  0.7623732127320723\n"
          ],
          "name": "stdout"
        }
      ]
    },
    {
      "cell_type": "code",
      "metadata": {
        "id": "cKuVZqAB2ySk",
        "colab_type": "code",
        "outputId": "74b05210-3a43-46a1-857c-7c864efa6d0e",
        "colab": {
          "base_uri": "https://localhost:8080/",
          "height": 729
        }
      },
      "source": [
        "import seaborn as sns\n",
        "feature_imp = pd.DataFrame(sorted(zip(gb.feature_importances_, X.columns), reverse=True)[:60], columns=['Value','Feature'])\n",
        "plt.figure(figsize=(12,10))\n",
        "sns.barplot(x=\"Value\", y=\"Feature\", data=feature_imp.sort_values(by=\"Value\", ascending=False))\n",
        "plt.title('Gradient Boosting Features')\n",
        "plt.tight_layout()\n",
        "plt.show()"
      ],
      "execution_count": 0,
      "outputs": [
        {
          "output_type": "display_data",
          "data": {
            "image/png": "[encoded data removed]",
            "text/plain": [
              "<Figure size 864x720 with 1 Axes>"
            ]
          },
          "metadata": {
            "tags": [],
            "needs_background": "light"
          }
        }
      ]
    },
    {
      "cell_type": "code",
      "metadata": {
        "id": "Wwk7zrai3Ojf",
        "colab_type": "code",
        "colab": {}
      },
      "source": [
        "from math import sqrt \n",
        "from sklearn.metrics import accuracy_score, mean_squared_error"
      ],
      "execution_count": 0,
      "outputs": []
    },
    {
      "cell_type": "code",
      "metadata": {
        "id": "wgskUo8HpOrg",
        "colab_type": "code",
        "colab": {}
      },
      "source": [
        "Xtest = test"
      ],
      "execution_count": 0,
      "outputs": []
    },
    {
      "cell_type": "code",
      "metadata": {
        "id": "2HQYm1ga27k4",
        "colab_type": "code",
        "outputId": "af7fe060-468a-421d-c54b-762e029c8b4e",
        "colab": {
          "base_uri": "https://localhost:8080/",
          "height": 139
        }
      },
      "source": [
        "from sklearn.model_selection import KFold\n",
        "\n",
        "errgb = []\n",
        "y_pred_totgb = []\n",
        "\n",
        "fold = KFold(n_splits=4, shuffle=False, random_state=101)\n",
        "\n",
        "for train_index, test_index in fold.split(X):\n",
        "    X_train, X_test = X.loc[train_index], X.loc[test_index]\n",
        "    y_train, y_test = y[train_index], y[test_index]\n",
        "             \n",
        "    gb = GradientBoostingRegressor(learning_rate=0.1, n_estimators=200, random_state=101, subsample=0.8)\n",
        "    gb.fit(X_train, y_train)\n",
        "    y_pred = gb.predict(X_test)\n",
        "    print(\"RMSLE LGBM: \", sqrt(mean_squared_error(np.exp(y_test), np.exp(y_pred))))\n",
        "    errgb.append(sqrt(mean_squared_error(y_test, y_pred)))\n",
        "    p = gb.predict(Xtest)\n",
        "    y_pred_totgb.append(p)"
      ],
      "execution_count": 0,
      "outputs": [
        {
          "output_type": "stream",
          "text": [
            "/usr/local/lib/python3.6/dist-packages/sklearn/model_selection/_split.py:296: FutureWarning: Setting a random_state has no effect since shuffle is False. This will raise an error in 0.24. You should leave random_state to its default (None), or set shuffle=True.\n",
            "  FutureWarning\n"
          ],
          "name": "stderr"
        },
        {
          "output_type": "stream",
          "text": [
            "RMSLE LGBM:  0.759890423974056\n",
            "RMSLE LGBM:  0.7566902592630675\n",
            "RMSLE LGBM:  0.7586268127139069\n",
            "RMSLE LGBM:  0.7562226646104679\n"
          ],
          "name": "stdout"
        }
      ]
    },
    {
      "cell_type": "code",
      "metadata": {
        "id": "xn148pPS3PRu",
        "colab_type": "code",
        "outputId": "0704db4c-d408-4bbd-e94c-c80199bccae5",
        "colab": {
          "base_uri": "https://localhost:8080/",
          "height": 34
        }
      },
      "source": [
        "100-np.mean(errgb)"
      ],
      "execution_count": 0,
      "outputs": [
        {
          "output_type": "execute_result",
          "data": {
            "text/plain": [
              "99.58215307890663"
            ]
          },
          "metadata": {
            "tags": []
          },
          "execution_count": 76
        }
      ]
    },
    {
      "cell_type": "code",
      "metadata": {
        "id": "6CzCqTC44mNH",
        "colab_type": "code",
        "outputId": "5e135e0c-4526-495e-fa18-90daf0e78d57",
        "colab": {
          "base_uri": "https://localhost:8080/",
          "height": 51
        }
      },
      "source": [
        "cat_final = np.mean(y_pred_totgb,0)\n",
        "cat_final"
      ],
      "execution_count": 0,
      "outputs": [
        {
          "output_type": "execute_result",
          "data": {
            "text/plain": [
              "array([0.62707364, 1.02756303, 0.66173657, ..., 0.79876272, 0.35157825,\n",
              "       0.89237144])"
            ]
          },
          "metadata": {
            "tags": []
          },
          "execution_count": 77
        }
      ]
    },
    {
      "cell_type": "code",
      "metadata": {
        "id": "2tO_g0XLqz29",
        "colab_type": "code",
        "outputId": "3bfdcf8e-06ed-47d4-e779-023b24e583e3",
        "colab": {
          "base_uri": "https://localhost:8080/",
          "height": 255
        }
      },
      "source": [
        "submission = pd.DataFrame({\n",
        "        \"id\": o1,\n",
        "        \"is_pass\": cat_final\n",
        "    })\n",
        "submission.to_csv('./He_air.csv', index=False)\n",
        "print(submission)"
      ],
      "execution_count": 0,
      "outputs": [
        {
          "output_type": "stream",
          "text": [
            "              id   is_pass\n",
            "0        1626_45  0.627074\n",
            "1      11020_130  1.027563\n",
            "2      12652_146  0.661737\n",
            "3        7038_72  0.153881\n",
            "4         888_71  0.421238\n",
            "...          ...       ...\n",
            "31344   18820_22  0.622058\n",
            "31345    1641_96  0.923519\n",
            "31346   7010_157  0.798763\n",
            "31347  14895_179  0.351578\n",
            "31348   9004_107  0.892371\n",
            "\n",
            "[31349 rows x 2 columns]\n"
          ],
          "name": "stdout"
        }
      ]
    },
    {
      "cell_type": "code",
      "metadata": {
        "id": "gqwu405aKCQN",
        "colab_type": "code",
        "colab": {}
      },
      "source": [
        "from google.colab import files\n",
        "files.download('He_air.csv')"
      ],
      "execution_count": 0,
      "outputs": []
    },
    {
      "cell_type": "code",
      "metadata": {
        "id": "-mnv-x4kKG0A",
        "colab_type": "code",
        "colab": {}
      },
      "source": [
        ""
      ],
      "execution_count": 0,
      "outputs": []
    },
    {
      "cell_type": "markdown",
      "metadata": {
        "id": "powXmbd2DbLq",
        "colab_type": "text"
      },
      "source": [
        "# Ensembling"
      ]
    },
    {
      "cell_type": "code",
      "metadata": {
        "id": "eCZNaeEOC9-9",
        "colab_type": "code",
        "colab": {
          "base_uri": "https://localhost:8080/",
          "height": 580
        },
        "outputId": "b75c192c-b7d1-4aec-c780-0950e70b7248"
      },
      "source": [
        "!wget https://datahack-prod.s3.amazonaws.com/submissions/machine-learning-starter-program-hackathon/822_613210_us_submission_62.csv\n",
        "!wget https://datahack-prod.s3.amazonaws.com/submissions/machine-learning-starter-program-hackathon/822_613210_us_submission_43.csv\n",
        "!wget https://datahack-prod.s3.amazonaws.com/submissions/machine-learning-starter-program-hackathon/822_613210_us_submission_2.csv"
      ],
      "execution_count": 48,
      "outputs": [
        {
          "output_type": "stream",
          "text": [
            "--2020-04-30 17:05:02--  https://datahack-prod.s3.amazonaws.com/submissions/machine-learning-starter-program-hackathon/822_613210_us_submission_62.csv\n",
            "Resolving datahack-prod.s3.amazonaws.com (datahack-prod.s3.amazonaws.com)... 52.219.66.84\n",
            "Connecting to datahack-prod.s3.amazonaws.com (datahack-prod.s3.amazonaws.com)|52.219.66.84|:443... connected.\n",
            "HTTP request sent, awaiting response... 200 OK\n",
            "Length: 873560 (853K) [application/vnd.ms-excel]\n",
            "Saving to: ‘822_613210_us_submission_62.csv’\n",
            "\n",
            "822_613210_us_submi 100%[===================>] 853.09K  1.63MB/s    in 0.5s    \n",
            "\n",
            "2020-04-30 17:05:03 (1.63 MB/s) - ‘822_613210_us_submission_62.csv’ saved [873560/873560]\n",
            "\n",
            "--2020-04-30 17:05:05--  https://datahack-prod.s3.amazonaws.com/submissions/machine-learning-starter-program-hackathon/822_613210_us_submission_43.csv\n",
            "Resolving datahack-prod.s3.amazonaws.com (datahack-prod.s3.amazonaws.com)... 52.219.66.84\n",
            "Connecting to datahack-prod.s3.amazonaws.com (datahack-prod.s3.amazonaws.com)|52.219.66.84|:443... connected.\n",
            "HTTP request sent, awaiting response... 200 OK\n",
            "Length: 873617 (853K) [application/vnd.ms-excel]\n",
            "Saving to: ‘822_613210_us_submission_43.csv’\n",
            "\n",
            "822_613210_us_submi 100%[===================>] 853.14K  1.46MB/s    in 0.6s    \n",
            "\n",
            "2020-04-30 17:05:06 (1.46 MB/s) - ‘822_613210_us_submission_43.csv’ saved [873617/873617]\n",
            "\n",
            "--2020-04-30 17:05:09--  https://datahack-prod.s3.amazonaws.com/submissions/machine-learning-starter-program-hackathon/822_613210_us_submission_2.csv\n",
            "Resolving datahack-prod.s3.amazonaws.com (datahack-prod.s3.amazonaws.com)... 52.219.66.48\n",
            "Connecting to datahack-prod.s3.amazonaws.com (datahack-prod.s3.amazonaws.com)|52.219.66.48|:443... connected.\n",
            "HTTP request sent, awaiting response... 200 OK\n",
            "Length: 871395 (851K) [application/vnd.ms-excel]\n",
            "Saving to: ‘822_613210_us_submission_2.csv’\n",
            "\n",
            "822_613210_us_submi 100%[===================>] 850.97K  1.30MB/s    in 0.6s    \n",
            "\n",
            "2020-04-30 17:05:10 (1.30 MB/s) - ‘822_613210_us_submission_2.csv’ saved [871395/871395]\n",
            "\n"
          ],
          "name": "stdout"
        }
      ]
    },
    {
      "cell_type": "code",
      "metadata": {
        "id": "LpHYf2NyAohY",
        "colab_type": "code",
        "colab": {}
      },
      "source": [
        "a=pd.read_csv('822_613210_us_submission_62.csv')\n",
        "b=pd.read_csv('822_613210_us_submission_62.csv')\n",
        "c=pd.read_csv('822_613210_us_submission_62.csv')"
      ],
      "execution_count": 0,
      "outputs": []
    },
    {
      "cell_type": "code",
      "metadata": {
        "id": "ewkHsawR9ADH",
        "colab_type": "code",
        "colab": {}
      },
      "source": [
        "d=a['is_pass']*0.6+b['is_pass']*0.25+c['is_pass']*0.15"
      ],
      "execution_count": 0,
      "outputs": []
    },
    {
      "cell_type": "code",
      "metadata": {
        "id": "CYkTraHGEWdQ",
        "colab_type": "code",
        "colab": {
          "base_uri": "https://localhost:8080/",
          "height": 256
        },
        "outputId": "60c08753-9ad5-44c6-cb76-97b5bb334fbb"
      },
      "source": [
        "submission = pd.DataFrame({\n",
        "        \"id\": o1,\n",
        "        \"is_pass\": d\n",
        "    })\n",
        "submission.to_csv('./submission.csv', index=False)\n",
        "print(submission)"
      ],
      "execution_count": 53,
      "outputs": [
        {
          "output_type": "stream",
          "text": [
            "              id   is_pass\n",
            "0        1626_45  0.508281\n",
            "1      11020_130  1.027730\n",
            "2      12652_146  0.476420\n",
            "3        7038_72 -0.082806\n",
            "4         888_71  0.514408\n",
            "...          ...       ...\n",
            "31344   18820_22  0.283195\n",
            "31345    1641_96  0.989869\n",
            "31346   7010_157  0.855409\n",
            "31347  14895_179  0.384601\n",
            "31348   9004_107  0.751918\n",
            "\n",
            "[31349 rows x 2 columns]\n"
          ],
          "name": "stdout"
        }
      ]
    },
    {
      "cell_type": "code",
      "metadata": {
        "id": "8iRZ3xm-EXGT",
        "colab_type": "code",
        "colab": {}
      },
      "source": [
        "from google.colab import files\n",
        "files.download('submission.csv')"
      ],
      "execution_count": 0,
      "outputs": []
    },
    {
      "cell_type": "code",
      "metadata": {
        "id": "yIML0Vn9EcBC",
        "colab_type": "code",
        "colab": {}
      },
      "source": [
        ""
      ],
      "execution_count": 0,
      "outputs": []
    }
  ]
}