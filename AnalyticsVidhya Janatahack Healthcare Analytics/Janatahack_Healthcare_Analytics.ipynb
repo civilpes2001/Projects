{
  "nbformat": 4,
  "nbformat_minor": 0,
  "metadata": {
    "colab": {
      "name": "Janatahack: Healthcare Analytics.ipynb",
      "provenance": [],
      "collapsed_sections": []
    },
    "kernelspec": {
      "name": "python3",
      "display_name": "Python 3"
    }
  },
  "cells": [
    {
      "cell_type": "code",
      "metadata": {
        "id": "_sD9aabKn-LR",
        "colab_type": "code",
        "colab": {
          "base_uri": "https://localhost:8080/",
          "height": 571
        },
        "outputId": "71bc8c71-7396-49b4-be7c-1fd833c0a90b"
      },
      "source": [
        "!wget https://datahack-prod.s3.amazonaws.com/sample_submission/sample_submmission.csv\n",
        "!wget https://datahack-prod.s3.amazonaws.com/train_file/Train_2.zip\n",
        "!wget https://datahack-prod.s3.amazonaws.com/test_file/test_l0Auv8Q.csv"
      ],
      "execution_count": 1,
      "outputs": [
        {
          "output_type": "stream",
          "text": [
            "--2020-07-19 17:50:25--  https://datahack-prod.s3.amazonaws.com/sample_submission/sample_submmission.csv\n",
            "Resolving datahack-prod.s3.amazonaws.com (datahack-prod.s3.amazonaws.com)... 52.219.66.100\n",
            "Connecting to datahack-prod.s3.amazonaws.com (datahack-prod.s3.amazonaws.com)|52.219.66.100|:443... connected.\n",
            "HTTP request sent, awaiting response... 200 OK\n",
            "Length: 599266 (585K) [text/csv]\n",
            "Saving to: ‘sample_submmission.csv’\n",
            "\n",
            "sample_submmission. 100%[===================>] 585.22K   181KB/s    in 3.2s    \n",
            "\n",
            "2020-07-19 17:50:30 (181 KB/s) - ‘sample_submmission.csv’ saved [599266/599266]\n",
            "\n",
            "--2020-07-19 17:50:32--  https://datahack-prod.s3.amazonaws.com/train_file/Train_2.zip\n",
            "Resolving datahack-prod.s3.amazonaws.com (datahack-prod.s3.amazonaws.com)... 52.219.66.88\n",
            "Connecting to datahack-prod.s3.amazonaws.com (datahack-prod.s3.amazonaws.com)|52.219.66.88|:443... connected.\n",
            "HTTP request sent, awaiting response... 200 OK\n",
            "Length: 932294 (910K) [application/zip]\n",
            "Saving to: ‘Train_2.zip’\n",
            "\n",
            "Train_2.zip         100%[===================>] 910.44K   770KB/s    in 1.2s    \n",
            "\n",
            "2020-07-19 17:50:34 (770 KB/s) - ‘Train_2.zip’ saved [932294/932294]\n",
            "\n",
            "--2020-07-19 17:50:39--  https://datahack-prod.s3.amazonaws.com/test_file/test_l0Auv8Q.csv\n",
            "Resolving datahack-prod.s3.amazonaws.com (datahack-prod.s3.amazonaws.com)... 52.219.66.28\n",
            "Connecting to datahack-prod.s3.amazonaws.com (datahack-prod.s3.amazonaws.com)|52.219.66.28|:443... connected.\n",
            "HTTP request sent, awaiting response... 200 OK\n",
            "Length: 1164110 (1.1M) [text/csv]\n",
            "Saving to: ‘test_l0Auv8Q.csv’\n",
            "\n",
            "test_l0Auv8Q.csv    100%[===================>]   1.11M   832KB/s    in 1.4s    \n",
            "\n",
            "2020-07-19 17:50:41 (832 KB/s) - ‘test_l0Auv8Q.csv’ saved [1164110/1164110]\n",
            "\n"
          ],
          "name": "stdout"
        }
      ]
    },
    {
      "cell_type": "code",
      "metadata": {
        "id": "rK4B2r9noWm9",
        "colab_type": "code",
        "colab": {
          "base_uri": "https://localhost:8080/",
          "height": 218
        },
        "outputId": "4dd72aba-c053-4713-dde7-635f02089145"
      },
      "source": [
        "!unzip Train_2.zip"
      ],
      "execution_count": 2,
      "outputs": [
        {
          "output_type": "stream",
          "text": [
            "Archive:  Train_2.zip\n",
            "   creating: Train/\n",
            "  inflating: Train/Data_Dictionary.xlsx  \n",
            "   creating: __MACOSX/\n",
            "   creating: __MACOSX/Train/\n",
            "  inflating: __MACOSX/Train/._Data_Dictionary.xlsx  \n",
            "  inflating: Train/First_Health_Camp_Attended.csv  \n",
            "  inflating: Train/Health_Camp_Detail.csv  \n",
            "  inflating: Train/Patient_Profile.csv  \n",
            "  inflating: Train/Second_Health_Camp_Attended.csv  \n",
            "  inflating: Train/Third_Health_Camp_Attended.csv  \n",
            "  inflating: Train/Train.csv         \n"
          ],
          "name": "stdout"
        }
      ]
    },
    {
      "cell_type": "code",
      "metadata": {
        "id": "Wf6xK9n0vpZR",
        "colab_type": "code",
        "colab": {}
      },
      "source": [
        "import pandas as pd\n",
        "import numpy as np\n",
        "import matplotlib.pyplot as plt\n",
        "%matplotlib inline"
      ],
      "execution_count": 3,
      "outputs": []
    },
    {
      "cell_type": "code",
      "metadata": {
        "id": "5oCRmU0moj-P",
        "colab_type": "code",
        "colab": {}
      },
      "source": [
        "train=pd.read_csv('Train/Train.csv')\n",
        "ha1=pd.read_csv('Train/Health_Camp_Detail.csv')\n",
        "ha2=pd.read_csv('Train/Patient_Profile.csv')\n",
        "h1=pd.read_csv('Train/First_Health_Camp_Attended.csv')\n",
        "h2=pd.read_csv('Train/Second_Health_Camp_Attended.csv')\n",
        "h3=pd.read_csv('Train/Third_Health_Camp_Attended.csv')\n",
        "test=pd.read_csv('test_l0Auv8Q.csv')\n",
        "sub=pd.read_csv('sample_submmission.csv')"
      ],
      "execution_count": 4,
      "outputs": []
    },
    {
      "cell_type": "code",
      "metadata": {
        "id": "2cZC_ODsvn5C",
        "colab_type": "code",
        "colab": {
          "base_uri": "https://localhost:8080/",
          "height": 453
        },
        "outputId": "952c5c3c-2362-48b7-b70d-f84727c518f9"
      },
      "source": [
        "train.head(2),test.head(2),train.shape,test.shape,train.nunique(),test.nunique()"
      ],
      "execution_count": 5,
      "outputs": [
        {
          "output_type": "execute_result",
          "data": {
            "text/plain": [
              "(   Patient_ID  Health_Camp_ID Registration_Date  Var1  Var2  Var3  Var4  Var5\n",
              " 0      489652            6578         10-Sep-05     4     0     0     0     2\n",
              " 1      507246            6578         18-Aug-05    45     5     0     0     7,\n",
              "    Patient_ID  Health_Camp_ID Registration_Date  Var1  Var2  Var3  Var4  Var5\n",
              " 0      505701            6548         21-May-06     1     0     0     0     2\n",
              " 1      500633            6584         02-Jun-06     0     0     0     0     0,\n",
              " (75278, 8),\n",
              " (35249, 8),\n",
              " Patient_ID           29828\n",
              " Health_Camp_ID          44\n",
              " Registration_Date     1201\n",
              " Var1                   127\n",
              " Var2                    77\n",
              " Var3                     2\n",
              " Var4                     5\n",
              " Var5                    30\n",
              " dtype: int64,\n",
              " Patient_ID           15324\n",
              " Health_Camp_ID          21\n",
              " Registration_Date      375\n",
              " Var1                    92\n",
              " Var2                    69\n",
              " Var3                     2\n",
              " Var4                     8\n",
              " Var5                    30\n",
              " dtype: int64)"
            ]
          },
          "metadata": {
            "tags": []
          },
          "execution_count": 5
        }
      ]
    },
    {
      "cell_type": "code",
      "metadata": {
        "id": "j1xUHuS-w-5g",
        "colab_type": "code",
        "colab": {
          "base_uri": "https://localhost:8080/",
          "height": 453
        },
        "outputId": "ef3e4496-b93e-498a-e73c-a6502a273ad7"
      },
      "source": [
        "h1.head(2),h1.nunique(),h2.head(2),h2.nunique(),h3.head(2),h3.nunique()"
      ],
      "execution_count": 6,
      "outputs": [
        {
          "output_type": "execute_result",
          "data": {
            "text/plain": [
              "(   Patient_ID  Health_Camp_ID  Donation  Health_Score  Unnamed: 4\n",
              " 0      506181            6560        40      0.439024         NaN\n",
              " 1      494977            6560        20      0.097561         NaN,\n",
              " Patient_ID        3548\n",
              " Health_Camp_ID      34\n",
              " Donation            24\n",
              " Health_Score      3826\n",
              " Unnamed: 4           0\n",
              " dtype: int64,\n",
              "    Patient_ID  Health_Camp_ID  Health Score\n",
              " 0      526631            6536      0.875136\n",
              " 1      509122            6536      0.755700,\n",
              " Patient_ID        6123\n",
              " Health_Camp_ID       6\n",
              " Health Score       208\n",
              " dtype: int64,\n",
              "    Patient_ID  ...  Last_Stall_Visited_Number\n",
              " 0      517875  ...                          1\n",
              " 1      504692  ...                          1\n",
              " \n",
              " [2 rows x 4 columns],\n",
              " Patient_ID                   5340\n",
              " Health_Camp_ID                  4\n",
              " Number_of_stall_visited         8\n",
              " Last_Stall_Visited_Number       8\n",
              " dtype: int64)"
            ]
          },
          "metadata": {
            "tags": []
          },
          "execution_count": 6
        }
      ]
    },
    {
      "cell_type": "code",
      "metadata": {
        "id": "wvkIIQJNxDPM",
        "colab_type": "code",
        "colab": {}
      },
      "source": [
        "train=train.merge(h1, on = ['Patient_ID','Health_Camp_ID'], how='left')\n",
        "test=test.merge(h1, on = ['Patient_ID','Health_Camp_ID'], how='left')\n",
        "train=train.merge(h2, on = ['Patient_ID','Health_Camp_ID'], how='left')\n",
        "test=test.merge(h2, on = ['Patient_ID','Health_Camp_ID'], how='left')\n",
        "train=train.merge(h3, on = ['Patient_ID','Health_Camp_ID'], how='left')\n",
        "test=test.merge(h3, on = ['Patient_ID','Health_Camp_ID'], how='left')"
      ],
      "execution_count": 7,
      "outputs": []
    },
    {
      "cell_type": "code",
      "metadata": {
        "id": "CeminRlUz2Ve",
        "colab_type": "code",
        "colab": {
          "base_uri": "https://localhost:8080/",
          "height": 470
        },
        "outputId": "733e43d5-31b4-44a7-d26c-420d5009e94b"
      },
      "source": [
        "ha1.head(2),ha1.nunique(),ha2.head(2),ha2.nunique()"
      ],
      "execution_count": 8,
      "outputs": [
        {
          "output_type": "execute_result",
          "data": {
            "text/plain": [
              "(   Health_Camp_ID Camp_Start_Date Camp_End_Date Category1 Category2  Category3\n",
              " 0            6560       16-Aug-03     20-Aug-03     First         B          2\n",
              " 1            6530       16-Aug-03     28-Oct-03     First         C          2,\n",
              " Health_Camp_ID     65\n",
              " Camp_Start_Date    58\n",
              " Camp_End_Date      54\n",
              " Category1           3\n",
              " Category2           7\n",
              " Category3           2\n",
              " dtype: int64,\n",
              "    Patient_ID  Online_Follower  ...  City_Type  Employer_Category\n",
              " 0      516956                0  ...        NaN  Software Industry\n",
              " 1      507733                0  ...          H  Software Industry\n",
              " \n",
              " [2 rows x 11 columns],\n",
              " Patient_ID           37633\n",
              " Online_Follower          2\n",
              " LinkedIn_Shared          2\n",
              " Twitter_Shared           2\n",
              " Facebook_Shared          2\n",
              " Income                   8\n",
              " Education_Score        228\n",
              " Age                     51\n",
              " First_Interaction     1476\n",
              " City_Type                9\n",
              " Employer_Category       14\n",
              " dtype: int64)"
            ]
          },
          "metadata": {
            "tags": []
          },
          "execution_count": 8
        }
      ]
    },
    {
      "cell_type": "code",
      "metadata": {
        "id": "lOaqTooB0v0R",
        "colab_type": "code",
        "colab": {}
      },
      "source": [
        "train=train.merge(ha1, on = ['Health_Camp_ID'], how='left')\n",
        "test=test.merge(ha1, on = ['Health_Camp_ID'], how='left')\n",
        "train=train.merge(ha2, on = ['Patient_ID'], how='left')\n",
        "test=test.merge(ha2, on = ['Patient_ID'], how='left')"
      ],
      "execution_count": 9,
      "outputs": []
    },
    {
      "cell_type": "code",
      "metadata": {
        "id": "-R4bTF3n1kXa",
        "colab_type": "code",
        "colab": {
          "base_uri": "https://localhost:8080/",
          "height": 227
        },
        "outputId": "c83d96fc-0689-4e2d-dd85-9503a0c0873f"
      },
      "source": [
        "train.head(5)"
      ],
      "execution_count": 10,
      "outputs": [
        {
          "output_type": "execute_result",
          "data": {
            "text/html": [
              "<div>\n",
              "<style scoped>\n",
              "    .dataframe tbody tr th:only-of-type {\n",
              "        vertical-align: middle;\n",
              "    }\n",
              "\n",
              "    .dataframe tbody tr th {\n",
              "        vertical-align: top;\n",
              "    }\n",
              "\n",
              "    .dataframe thead th {\n",
              "        text-align: right;\n",
              "    }\n",
              "</style>\n",
              "<table border=\"1\" class=\"dataframe\">\n",
              "  <thead>\n",
              "    <tr style=\"text-align: right;\">\n",
              "      <th></th>\n",
              "      <th>Patient_ID</th>\n",
              "      <th>Health_Camp_ID</th>\n",
              "      <th>Registration_Date</th>\n",
              "      <th>Var1</th>\n",
              "      <th>Var2</th>\n",
              "      <th>Var3</th>\n",
              "      <th>Var4</th>\n",
              "      <th>Var5</th>\n",
              "      <th>Donation</th>\n",
              "      <th>Health_Score</th>\n",
              "      <th>Unnamed: 4</th>\n",
              "      <th>Health Score</th>\n",
              "      <th>Number_of_stall_visited</th>\n",
              "      <th>Last_Stall_Visited_Number</th>\n",
              "      <th>Camp_Start_Date</th>\n",
              "      <th>Camp_End_Date</th>\n",
              "      <th>Category1</th>\n",
              "      <th>Category2</th>\n",
              "      <th>Category3</th>\n",
              "      <th>Online_Follower</th>\n",
              "      <th>LinkedIn_Shared</th>\n",
              "      <th>Twitter_Shared</th>\n",
              "      <th>Facebook_Shared</th>\n",
              "      <th>Income</th>\n",
              "      <th>Education_Score</th>\n",
              "      <th>Age</th>\n",
              "      <th>First_Interaction</th>\n",
              "      <th>City_Type</th>\n",
              "      <th>Employer_Category</th>\n",
              "    </tr>\n",
              "  </thead>\n",
              "  <tbody>\n",
              "    <tr>\n",
              "      <th>0</th>\n",
              "      <td>489652</td>\n",
              "      <td>6578</td>\n",
              "      <td>10-Sep-05</td>\n",
              "      <td>4</td>\n",
              "      <td>0</td>\n",
              "      <td>0</td>\n",
              "      <td>0</td>\n",
              "      <td>2</td>\n",
              "      <td>NaN</td>\n",
              "      <td>NaN</td>\n",
              "      <td>NaN</td>\n",
              "      <td>NaN</td>\n",
              "      <td>2.0</td>\n",
              "      <td>1.0</td>\n",
              "      <td>16-Aug-05</td>\n",
              "      <td>14-Oct-05</td>\n",
              "      <td>Third</td>\n",
              "      <td>G</td>\n",
              "      <td>2</td>\n",
              "      <td>0</td>\n",
              "      <td>0</td>\n",
              "      <td>0</td>\n",
              "      <td>0</td>\n",
              "      <td>None</td>\n",
              "      <td>None</td>\n",
              "      <td>None</td>\n",
              "      <td>06-Dec-04</td>\n",
              "      <td>NaN</td>\n",
              "      <td>NaN</td>\n",
              "    </tr>\n",
              "    <tr>\n",
              "      <th>1</th>\n",
              "      <td>507246</td>\n",
              "      <td>6578</td>\n",
              "      <td>18-Aug-05</td>\n",
              "      <td>45</td>\n",
              "      <td>5</td>\n",
              "      <td>0</td>\n",
              "      <td>0</td>\n",
              "      <td>7</td>\n",
              "      <td>NaN</td>\n",
              "      <td>NaN</td>\n",
              "      <td>NaN</td>\n",
              "      <td>NaN</td>\n",
              "      <td>NaN</td>\n",
              "      <td>NaN</td>\n",
              "      <td>16-Aug-05</td>\n",
              "      <td>14-Oct-05</td>\n",
              "      <td>Third</td>\n",
              "      <td>G</td>\n",
              "      <td>2</td>\n",
              "      <td>0</td>\n",
              "      <td>0</td>\n",
              "      <td>0</td>\n",
              "      <td>0</td>\n",
              "      <td>1</td>\n",
              "      <td>75</td>\n",
              "      <td>40</td>\n",
              "      <td>08-Sep-04</td>\n",
              "      <td>C</td>\n",
              "      <td>Others</td>\n",
              "    </tr>\n",
              "    <tr>\n",
              "      <th>2</th>\n",
              "      <td>523729</td>\n",
              "      <td>6534</td>\n",
              "      <td>29-Apr-06</td>\n",
              "      <td>0</td>\n",
              "      <td>0</td>\n",
              "      <td>0</td>\n",
              "      <td>0</td>\n",
              "      <td>0</td>\n",
              "      <td>NaN</td>\n",
              "      <td>NaN</td>\n",
              "      <td>NaN</td>\n",
              "      <td>0.402054</td>\n",
              "      <td>NaN</td>\n",
              "      <td>NaN</td>\n",
              "      <td>17-Oct-05</td>\n",
              "      <td>07-Nov-07</td>\n",
              "      <td>Second</td>\n",
              "      <td>A</td>\n",
              "      <td>2</td>\n",
              "      <td>0</td>\n",
              "      <td>0</td>\n",
              "      <td>0</td>\n",
              "      <td>0</td>\n",
              "      <td>None</td>\n",
              "      <td>None</td>\n",
              "      <td>None</td>\n",
              "      <td>22-Jun-04</td>\n",
              "      <td>NaN</td>\n",
              "      <td>NaN</td>\n",
              "    </tr>\n",
              "    <tr>\n",
              "      <th>3</th>\n",
              "      <td>524931</td>\n",
              "      <td>6535</td>\n",
              "      <td>07-Feb-04</td>\n",
              "      <td>0</td>\n",
              "      <td>0</td>\n",
              "      <td>0</td>\n",
              "      <td>0</td>\n",
              "      <td>0</td>\n",
              "      <td>NaN</td>\n",
              "      <td>NaN</td>\n",
              "      <td>NaN</td>\n",
              "      <td>NaN</td>\n",
              "      <td>NaN</td>\n",
              "      <td>NaN</td>\n",
              "      <td>01-Feb-04</td>\n",
              "      <td>18-Feb-04</td>\n",
              "      <td>First</td>\n",
              "      <td>E</td>\n",
              "      <td>2</td>\n",
              "      <td>0</td>\n",
              "      <td>0</td>\n",
              "      <td>0</td>\n",
              "      <td>0</td>\n",
              "      <td>None</td>\n",
              "      <td>None</td>\n",
              "      <td>None</td>\n",
              "      <td>07-Feb-04</td>\n",
              "      <td>I</td>\n",
              "      <td>NaN</td>\n",
              "    </tr>\n",
              "    <tr>\n",
              "      <th>4</th>\n",
              "      <td>521364</td>\n",
              "      <td>6529</td>\n",
              "      <td>28-Feb-06</td>\n",
              "      <td>15</td>\n",
              "      <td>1</td>\n",
              "      <td>0</td>\n",
              "      <td>0</td>\n",
              "      <td>7</td>\n",
              "      <td>NaN</td>\n",
              "      <td>NaN</td>\n",
              "      <td>NaN</td>\n",
              "      <td>0.845597</td>\n",
              "      <td>NaN</td>\n",
              "      <td>NaN</td>\n",
              "      <td>30-Mar-06</td>\n",
              "      <td>03-Apr-06</td>\n",
              "      <td>Second</td>\n",
              "      <td>A</td>\n",
              "      <td>2</td>\n",
              "      <td>0</td>\n",
              "      <td>0</td>\n",
              "      <td>0</td>\n",
              "      <td>1</td>\n",
              "      <td>1</td>\n",
              "      <td>70</td>\n",
              "      <td>40</td>\n",
              "      <td>04-Jul-03</td>\n",
              "      <td>I</td>\n",
              "      <td>Technology</td>\n",
              "    </tr>\n",
              "  </tbody>\n",
              "</table>\n",
              "</div>"
            ],
            "text/plain": [
              "   Patient_ID  Health_Camp_ID  ... City_Type  Employer_Category\n",
              "0      489652            6578  ...       NaN                NaN\n",
              "1      507246            6578  ...         C             Others\n",
              "2      523729            6534  ...       NaN                NaN\n",
              "3      524931            6535  ...         I                NaN\n",
              "4      521364            6529  ...         I         Technology\n",
              "\n",
              "[5 rows x 29 columns]"
            ]
          },
          "metadata": {
            "tags": []
          },
          "execution_count": 10
        }
      ]
    },
    {
      "cell_type": "code",
      "metadata": {
        "id": "SHwnzfPW1sEB",
        "colab_type": "code",
        "colab": {
          "base_uri": "https://localhost:8080/",
          "height": 227
        },
        "outputId": "6f7da48b-60b1-4e50-ccf1-a9311bf890a9"
      },
      "source": [
        "test.head(5)"
      ],
      "execution_count": 11,
      "outputs": [
        {
          "output_type": "execute_result",
          "data": {
            "text/html": [
              "<div>\n",
              "<style scoped>\n",
              "    .dataframe tbody tr th:only-of-type {\n",
              "        vertical-align: middle;\n",
              "    }\n",
              "\n",
              "    .dataframe tbody tr th {\n",
              "        vertical-align: top;\n",
              "    }\n",
              "\n",
              "    .dataframe thead th {\n",
              "        text-align: right;\n",
              "    }\n",
              "</style>\n",
              "<table border=\"1\" class=\"dataframe\">\n",
              "  <thead>\n",
              "    <tr style=\"text-align: right;\">\n",
              "      <th></th>\n",
              "      <th>Patient_ID</th>\n",
              "      <th>Health_Camp_ID</th>\n",
              "      <th>Registration_Date</th>\n",
              "      <th>Var1</th>\n",
              "      <th>Var2</th>\n",
              "      <th>Var3</th>\n",
              "      <th>Var4</th>\n",
              "      <th>Var5</th>\n",
              "      <th>Donation</th>\n",
              "      <th>Health_Score</th>\n",
              "      <th>Unnamed: 4</th>\n",
              "      <th>Health Score</th>\n",
              "      <th>Number_of_stall_visited</th>\n",
              "      <th>Last_Stall_Visited_Number</th>\n",
              "      <th>Camp_Start_Date</th>\n",
              "      <th>Camp_End_Date</th>\n",
              "      <th>Category1</th>\n",
              "      <th>Category2</th>\n",
              "      <th>Category3</th>\n",
              "      <th>Online_Follower</th>\n",
              "      <th>LinkedIn_Shared</th>\n",
              "      <th>Twitter_Shared</th>\n",
              "      <th>Facebook_Shared</th>\n",
              "      <th>Income</th>\n",
              "      <th>Education_Score</th>\n",
              "      <th>Age</th>\n",
              "      <th>First_Interaction</th>\n",
              "      <th>City_Type</th>\n",
              "      <th>Employer_Category</th>\n",
              "    </tr>\n",
              "  </thead>\n",
              "  <tbody>\n",
              "    <tr>\n",
              "      <th>0</th>\n",
              "      <td>505701</td>\n",
              "      <td>6548</td>\n",
              "      <td>21-May-06</td>\n",
              "      <td>1</td>\n",
              "      <td>0</td>\n",
              "      <td>0</td>\n",
              "      <td>0</td>\n",
              "      <td>2</td>\n",
              "      <td>NaN</td>\n",
              "      <td>NaN</td>\n",
              "      <td>NaN</td>\n",
              "      <td>NaN</td>\n",
              "      <td>NaN</td>\n",
              "      <td>NaN</td>\n",
              "      <td>13-Jun-06</td>\n",
              "      <td>18-Aug-06</td>\n",
              "      <td>Third</td>\n",
              "      <td>G</td>\n",
              "      <td>2</td>\n",
              "      <td>0</td>\n",
              "      <td>0</td>\n",
              "      <td>0</td>\n",
              "      <td>0</td>\n",
              "      <td>0</td>\n",
              "      <td>None</td>\n",
              "      <td>44</td>\n",
              "      <td>05-Feb-03</td>\n",
              "      <td>E</td>\n",
              "      <td>NaN</td>\n",
              "    </tr>\n",
              "    <tr>\n",
              "      <th>1</th>\n",
              "      <td>500633</td>\n",
              "      <td>6584</td>\n",
              "      <td>02-Jun-06</td>\n",
              "      <td>0</td>\n",
              "      <td>0</td>\n",
              "      <td>0</td>\n",
              "      <td>0</td>\n",
              "      <td>0</td>\n",
              "      <td>NaN</td>\n",
              "      <td>NaN</td>\n",
              "      <td>NaN</td>\n",
              "      <td>NaN</td>\n",
              "      <td>NaN</td>\n",
              "      <td>NaN</td>\n",
              "      <td>04-Aug-06</td>\n",
              "      <td>09-Aug-06</td>\n",
              "      <td>Second</td>\n",
              "      <td>A</td>\n",
              "      <td>2</td>\n",
              "      <td>0</td>\n",
              "      <td>1</td>\n",
              "      <td>0</td>\n",
              "      <td>0</td>\n",
              "      <td>1</td>\n",
              "      <td>67</td>\n",
              "      <td>41</td>\n",
              "      <td>11-Dec-04</td>\n",
              "      <td>D</td>\n",
              "      <td>Consulting</td>\n",
              "    </tr>\n",
              "    <tr>\n",
              "      <th>2</th>\n",
              "      <td>506945</td>\n",
              "      <td>6582</td>\n",
              "      <td>10-Aug-06</td>\n",
              "      <td>0</td>\n",
              "      <td>0</td>\n",
              "      <td>0</td>\n",
              "      <td>0</td>\n",
              "      <td>0</td>\n",
              "      <td>NaN</td>\n",
              "      <td>NaN</td>\n",
              "      <td>NaN</td>\n",
              "      <td>NaN</td>\n",
              "      <td>NaN</td>\n",
              "      <td>NaN</td>\n",
              "      <td>06-Apr-06</td>\n",
              "      <td>07-Nov-07</td>\n",
              "      <td>First</td>\n",
              "      <td>F</td>\n",
              "      <td>2</td>\n",
              "      <td>0</td>\n",
              "      <td>0</td>\n",
              "      <td>0</td>\n",
              "      <td>0</td>\n",
              "      <td>None</td>\n",
              "      <td>None</td>\n",
              "      <td>None</td>\n",
              "      <td>19-Apr-06</td>\n",
              "      <td>NaN</td>\n",
              "      <td>NaN</td>\n",
              "    </tr>\n",
              "    <tr>\n",
              "      <th>3</th>\n",
              "      <td>497447</td>\n",
              "      <td>6551</td>\n",
              "      <td>27-Aug-06</td>\n",
              "      <td>0</td>\n",
              "      <td>0</td>\n",
              "      <td>0</td>\n",
              "      <td>0</td>\n",
              "      <td>0</td>\n",
              "      <td>NaN</td>\n",
              "      <td>NaN</td>\n",
              "      <td>NaN</td>\n",
              "      <td>NaN</td>\n",
              "      <td>NaN</td>\n",
              "      <td>NaN</td>\n",
              "      <td>13-Nov-06</td>\n",
              "      <td>18-Nov-06</td>\n",
              "      <td>Second</td>\n",
              "      <td>D</td>\n",
              "      <td>2</td>\n",
              "      <td>0</td>\n",
              "      <td>0</td>\n",
              "      <td>0</td>\n",
              "      <td>0</td>\n",
              "      <td>0</td>\n",
              "      <td>None</td>\n",
              "      <td>47</td>\n",
              "      <td>25-Aug-06</td>\n",
              "      <td>B</td>\n",
              "      <td>NaN</td>\n",
              "    </tr>\n",
              "    <tr>\n",
              "      <th>4</th>\n",
              "      <td>496446</td>\n",
              "      <td>6533</td>\n",
              "      <td>19-Sep-06</td>\n",
              "      <td>0</td>\n",
              "      <td>0</td>\n",
              "      <td>0</td>\n",
              "      <td>0</td>\n",
              "      <td>0</td>\n",
              "      <td>NaN</td>\n",
              "      <td>NaN</td>\n",
              "      <td>NaN</td>\n",
              "      <td>NaN</td>\n",
              "      <td>NaN</td>\n",
              "      <td>NaN</td>\n",
              "      <td>20-Sep-06</td>\n",
              "      <td>23-Sep-06</td>\n",
              "      <td>First</td>\n",
              "      <td>E</td>\n",
              "      <td>2</td>\n",
              "      <td>0</td>\n",
              "      <td>0</td>\n",
              "      <td>0</td>\n",
              "      <td>0</td>\n",
              "      <td>None</td>\n",
              "      <td>None</td>\n",
              "      <td>None</td>\n",
              "      <td>19-Sep-06</td>\n",
              "      <td>B</td>\n",
              "      <td>NaN</td>\n",
              "    </tr>\n",
              "  </tbody>\n",
              "</table>\n",
              "</div>"
            ],
            "text/plain": [
              "   Patient_ID  Health_Camp_ID  ... City_Type  Employer_Category\n",
              "0      505701            6548  ...         E                NaN\n",
              "1      500633            6584  ...         D         Consulting\n",
              "2      506945            6582  ...       NaN                NaN\n",
              "3      497447            6551  ...         B                NaN\n",
              "4      496446            6533  ...         B                NaN\n",
              "\n",
              "[5 rows x 29 columns]"
            ]
          },
          "metadata": {
            "tags": []
          },
          "execution_count": 11
        }
      ]
    },
    {
      "cell_type": "code",
      "metadata": {
        "id": "-aLWrM691uHf",
        "colab_type": "code",
        "colab": {}
      },
      "source": [
        "del test['Unnamed: 4']\n",
        "del train['Unnamed: 4']\n",
        "del train['Donation']\n",
        "del test['Donation']"
      ],
      "execution_count": 12,
      "outputs": []
    },
    {
      "cell_type": "code",
      "metadata": {
        "id": "KX7Szd7aKar9",
        "colab_type": "code",
        "colab": {
          "base_uri": "https://localhost:8080/",
          "height": 34
        },
        "outputId": "ebf56c62-4032-42c2-c1f7-c6a36acb1309"
      },
      "source": [
        "\"\"\"\n",
        "del test['Income']\n",
        "del train['Income']\n",
        "del train['Education_Score']\n",
        "del test['Education_Score']\n",
        "del train['Age']\n",
        "del test['Age']\n",
        "\"\"\""
      ],
      "execution_count": 13,
      "outputs": [
        {
          "output_type": "execute_result",
          "data": {
            "application/vnd.google.colaboratory.intrinsic": {
              "type": "string"
            },
            "text/plain": [
              "\"\\ndel test['Income']\\ndel train['Income']\\ndel train['Education_Score']\\ndel test['Education_Score']\\ndel train['Age']\\ndel test['Age']\\n\""
            ]
          },
          "metadata": {
            "tags": []
          },
          "execution_count": 13
        }
      ]
    },
    {
      "cell_type": "code",
      "metadata": {
        "id": "DWyFWx5TNe4m",
        "colab_type": "code",
        "colab": {}
      },
      "source": [
        "x=['Health_Score','Health Score','Number_of_stall_visited','Last_Stall_Visited_Number']\n",
        "for i in x:\n",
        "  train[i]=train[i].fillna(0)\n",
        "  test[i]=test[i].fillna(0)"
      ],
      "execution_count": 14,
      "outputs": []
    },
    {
      "cell_type": "code",
      "metadata": {
        "id": "LoiMoZ-12rg1",
        "colab_type": "code",
        "colab": {}
      },
      "source": [
        "train['outcome']=(train['Health_Score']+train['Health Score'])+(train['Number_of_stall_visited']+train['Last_Stall_Visited_Number']/30)+0.46106432158133853\n",
        "#train['outcome']=(train['Health_Score']+train['Health Score'])+ 0.46106432158133853"
      ],
      "execution_count": 15,
      "outputs": []
    },
    {
      "cell_type": "code",
      "metadata": {
        "id": "fQunaYUYpYZV",
        "colab_type": "code",
        "colab": {}
      },
      "source": [
        "#x=train['Health_Score']+train['Health Score']\n",
        "#x=train['Number_of_stall_visited']+train['Last_Stall_Visited_Number']\n",
        "#x.nunique(),x.value_counts(),x.mean()"
      ],
      "execution_count": 16,
      "outputs": []
    },
    {
      "cell_type": "code",
      "metadata": {
        "id": "uwaCSSKIK7w9",
        "colab_type": "code",
        "colab": {}
      },
      "source": [
        "x=['Health_Score','Health Score','Number_of_stall_visited','Last_Stall_Visited_Number']\n",
        "for i in x:\n",
        "  del train[i]\n",
        "  del test[i]"
      ],
      "execution_count": null,
      "outputs": []
    },
    {
      "cell_type": "code",
      "metadata": {
        "id": "tsb4MRapLOhS",
        "colab_type": "code",
        "colab": {}
      },
      "source": [
        "x=['Registration_Date','City_Type','Employer_Category']\n",
        "for i in x:\n",
        "  train[i]=train[i].fillna(method='bfill')\n",
        "  test[i]=test[i].fillna(method='bfill')\n",
        "  train[i]=train[i].fillna(method='ffill')\n",
        "  test[i]=test[i].fillna(method='ffill')"
      ],
      "execution_count": null,
      "outputs": []
    },
    {
      "cell_type": "code",
      "metadata": {
        "id": "VtQHWKNgM1lo",
        "colab_type": "code",
        "colab": {}
      },
      "source": [
        "k=['Registration_Date','Camp_Start_Date','Camp_End_Date','First_Interaction']\n",
        "for i in k:\n",
        "  train[i] = pd.to_datetime(train[i])\n",
        "  test[i] = pd.to_datetime(test[i])\n",
        "for i in k:\n",
        "  test[i+'_'+'year'] = test[i].dt.year\n",
        "  test[i+'_'+'day'] = test[i].dt.day\n",
        "  test[i+'_'+'weekofyear'] = test[i].dt.weekofyear\n",
        "  test[i+'_'+'month'] = test[i].dt.month\n",
        "  test[i+'_'+'dayofweek'] =test[i].dt.dayofweek\n",
        "  test[i+'_'+'weekend'] = (test[i].dt.weekday >=5).astype(int)\n",
        "  train[i+'_'+'year'] = train[i].dt.year\n",
        "  train[i+'_'+'day'] = train[i].dt.day\n",
        "  train[i+'_'+'weekofyear'] = train[i].dt.weekofyear\n",
        "  train[i+'_'+'month'] = train[i].dt.month\n",
        "  train[i+'_'+'dayofweek'] = train[i].dt.dayofweek\n",
        "  train[i+'_'+'weekend'] = (train[i].dt.weekday >=5).astype(int)\n",
        "for i in k:\n",
        "  del train[i]\n",
        "  del test[i]"
      ],
      "execution_count": null,
      "outputs": []
    },
    {
      "cell_type": "code",
      "metadata": {
        "id": "K7vcxJmzOZF3",
        "colab_type": "code",
        "colab": {}
      },
      "source": [
        "x=['City_Type','Employer_Category','Category1','Category2','Income','Education_Score','Age']\n",
        "for i in x:\n",
        "  loc = np.append(train[i].values, test[i].values, axis=0)\n",
        "  from sklearn.preprocessing import LabelEncoder\n",
        "  l=LabelEncoder()\n",
        "  l.fit(list(set(loc)))\n",
        "  train[i]=l.transform(train[i])\n",
        "  test[i]=l.transform(test[i])"
      ],
      "execution_count": null,
      "outputs": []
    },
    {
      "cell_type": "code",
      "metadata": {
        "id": "JU5-Cm_jPtka",
        "colab_type": "code",
        "colab": {}
      },
      "source": [
        "import warnings\n",
        "warnings.simplefilter(action='ignore', category=FutureWarning)"
      ],
      "execution_count": null,
      "outputs": []
    },
    {
      "cell_type": "code",
      "metadata": {
        "id": "yNlKmEtUPtjd",
        "colab_type": "code",
        "colab": {}
      },
      "source": [
        "train_df=train\n",
        "test_df=test"
      ],
      "execution_count": null,
      "outputs": []
    },
    {
      "cell_type": "code",
      "metadata": {
        "id": "ZeBYYKddP3dR",
        "colab_type": "code",
        "colab": {}
      },
      "source": [
        "X = train_df.drop(labels=['outcome'], axis=1)\n",
        "y = train_df['outcome'].values\n",
        "\n",
        "from sklearn.model_selection import train_test_split\n",
        "X_train, X_cv, y_train, y_cv = train_test_split(X, y, test_size=0.15, random_state=42)"
      ],
      "execution_count": null,
      "outputs": []
    },
    {
      "cell_type": "code",
      "metadata": {
        "id": "iAieqtjrOcM2",
        "colab_type": "code",
        "colab": {}
      },
      "source": [
        "from math import sqrt \n",
        "from sklearn.metrics import mean_absolute_error"
      ],
      "execution_count": null,
      "outputs": []
    },
    {
      "cell_type": "code",
      "metadata": {
        "id": "ZZbmnMR1Pmqa",
        "colab_type": "code",
        "colab": {
          "base_uri": "https://localhost:8080/",
          "height": 218
        },
        "outputId": "708013a7-b807-4dae-a1eb-a7c259218d27"
      },
      "source": [
        "import lightgbm as lgb\n",
        "train_data = lgb.Dataset(X_train, label=y_train)\n",
        "test_data = lgb.Dataset(X_cv, label=y_cv)\n",
        "\n",
        "param = {'objective': 'regression',\n",
        "         'num_leaves':20,\n",
        "         'boosting': 'gbdt',  \n",
        "         'metric': 'mae',\n",
        "         'learning_rate': 0.1, \n",
        "         'num_iterations': 1000,\n",
        "         'num_leaves': 90,\n",
        "         'max_depth': 6,\n",
        "         'min_data_in_leaf': 11,\n",
        "         'bagging_fraction': 0.90,\n",
        "         'bagging_freq': 1,\n",
        "         'bagging_seed': 142,\n",
        "         'feature_fraction': 0.90,\n",
        "         'feature_fraction_seed': 2,\n",
        "         'early_stopping_round': 200,\n",
        "         'max_bin': 500\n",
        "         }\n",
        "\n",
        "lgbm = lgb.train(params=param, verbose_eval=100, train_set=train_data, valid_sets=[test_data])\n",
        "\n",
        "y_pred_lgbm = lgbm.predict(X_cv)\n",
        "print('RMSLE:', sqrt(mean_absolute_error(np.expm1(y_cv), np.expm1(y_pred_lgbm))))"
      ],
      "execution_count": null,
      "outputs": [
        {
          "output_type": "stream",
          "text": [
            "/usr/local/lib/python3.6/dist-packages/lightgbm/engine.py:118: UserWarning: Found `num_iterations` in params. Will use it instead of argument\n",
            "  warnings.warn(\"Found `{}` in params. Will use it instead of argument\".format(alias))\n",
            "/usr/local/lib/python3.6/dist-packages/lightgbm/engine.py:123: UserWarning: Found `early_stopping_round` in params. Will use it instead of argument\n",
            "  warnings.warn(\"Found `{}` in params. Will use it instead of argument\".format(alias))\n"
          ],
          "name": "stderr"
        },
        {
          "output_type": "stream",
          "text": [
            "Training until validation scores don't improve for 200 rounds.\n",
            "[100]\tvalid_0's l1: 0.333127\n",
            "[200]\tvalid_0's l1: 0.332019\n",
            "[300]\tvalid_0's l1: 0.332353\n",
            "[400]\tvalid_0's l1: 0.3331\n",
            "Early stopping, best iteration is:\n",
            "[224]\tvalid_0's l1: 0.331735\n",
            "RMSLE: 3.2903184328114157\n"
          ],
          "name": "stdout"
        }
      ]
    },
    {
      "cell_type": "code",
      "metadata": {
        "id": "R2op_Xf2PoMk",
        "colab_type": "code",
        "colab": {
          "base_uri": "https://localhost:8080/",
          "height": 728
        },
        "outputId": "82d55dd0-2cc4-4bf2-b29b-dd16f247194a"
      },
      "source": [
        "import seaborn as sns\n",
        "feature_imp = pd.DataFrame(sorted(zip(lgbm.feature_importance(), X.columns), reverse=True)[:50], \n",
        "                           columns=['Value','Feature'])\n",
        "plt.figure(figsize=(12, 10))\n",
        "sns.barplot(x=\"Value\", y=\"Feature\", data=feature_imp.sort_values(by=\"Value\", ascending=False))\n",
        "plt.title('LightGBM Features')\n",
        "plt.tight_layout()\n",
        "plt.show()"
      ],
      "execution_count": null,
      "outputs": [
        {
          "output_type": "display_data",
          "data": {
            "image/png": "[encoded data removed]",
            "text/plain": [
              "<Figure size 864x720 with 1 Axes>"
            ]
          },
          "metadata": {
            "tags": [],
            "needs_background": "light"
          }
        }
      ]
    },
    {
      "cell_type": "code",
      "metadata": {
        "id": "XJRX8mW4P9xZ",
        "colab_type": "code",
        "colab": {}
      },
      "source": [
        "Xtest = test_df"
      ],
      "execution_count": null,
      "outputs": []
    },
    {
      "cell_type": "code",
      "metadata": {
        "id": "RyJ4aLOVP_nQ",
        "colab_type": "code",
        "colab": {
          "base_uri": "https://localhost:8080/",
          "height": 184
        },
        "outputId": "afea19b2-a438-4289-be0d-0527e9fcae18"
      },
      "source": [
        "from sklearn.model_selection import KFold\n",
        "from lightgbm import LGBMRegressor\n",
        "\n",
        "errlgb = []\n",
        "y_pred_totlgb = []\n",
        "\n",
        "fold = KFold(n_splits=\n",
        "             10, shuffle=False, random_state=2**31)\n",
        "\n",
        "for train_index, test_index in fold.split(X):\n",
        "    X_train, X_test = X.loc[train_index], X.loc[test_index]\n",
        "    y_train, y_test = y[train_index], y[test_index]\n",
        "\n",
        "    lgbm = LGBMRegressor(boosting_type='gbdt', num_leaves=800, max_depth=31, learning_rate=0.1, n_estimators=1000, min_child_samples=20, subsample=0.9)\n",
        "    lgbm.fit(X_train, y_train, eval_set=[(X_test, y_test)], verbose=0, early_stopping_rounds=100)\n",
        "\n",
        "    y_pred_lgbm = lgbm.predict(X_test)\n",
        "    print(\"RMSLE LGBM: \", sqrt(mean_absolute_error(y_test, y_pred_lgbm)))\n",
        "\n",
        "    errlgb.append(sqrt(mean_absolute_error(y_test, y_pred_lgbm)))\n",
        "    p = lgbm.predict(Xtest)\n",
        "    y_pred_totlgb.append(p)"
      ],
      "execution_count": null,
      "outputs": [
        {
          "output_type": "stream",
          "text": [
            "RMSLE LGBM:  0.5928905363864839\n",
            "RMSLE LGBM:  0.581396164077793\n",
            "RMSLE LGBM:  0.5644889632211486\n",
            "RMSLE LGBM:  0.569938352411321\n",
            "RMSLE LGBM:  0.5791099776552955\n",
            "RMSLE LGBM:  0.5775829065667869\n",
            "RMSLE LGBM:  0.5957694530408458\n",
            "RMSLE LGBM:  0.5727950071505521\n",
            "RMSLE LGBM:  0.5876236152417094\n",
            "RMSLE LGBM:  0.6018246191655164\n"
          ],
          "name": "stdout"
        }
      ]
    },
    {
      "cell_type": "code",
      "metadata": {
        "id": "b0F1SUQ4QCDy",
        "colab_type": "code",
        "colab": {
          "base_uri": "https://localhost:8080/",
          "height": 33
        },
        "outputId": "9ef9b64b-ea9f-43b6-c95a-7bd8879c575f"
      },
      "source": [
        "np.mean(errlgb,0)"
      ],
      "execution_count": null,
      "outputs": [
        {
          "output_type": "execute_result",
          "data": {
            "text/plain": [
              "0.5823419594917453"
            ]
          },
          "metadata": {
            "tags": []
          },
          "execution_count": 166
        }
      ]
    },
    {
      "cell_type": "code",
      "metadata": {
        "id": "yjOfWpA7Qlv2",
        "colab_type": "code",
        "colab": {
          "base_uri": "https://localhost:8080/",
          "height": 50
        },
        "outputId": "42971828-1f83-4293-bdd7-fa87a34c241f"
      },
      "source": [
        "lgbm_final = np.mean(y_pred_totlgb,0)\n",
        "lgbm_final"
      ],
      "execution_count": null,
      "outputs": [
        {
          "output_type": "execute_result",
          "data": {
            "text/plain": [
              "array([2.45183606, 0.77133664, 0.51658136, ..., 0.71380613, 0.61873717,\n",
              "       0.77176541])"
            ]
          },
          "metadata": {
            "tags": []
          },
          "execution_count": 159
        }
      ]
    },
    {
      "cell_type": "code",
      "metadata": {
        "id": "4LlAMvlWQtFA",
        "colab_type": "code",
        "colab": {}
      },
      "source": [
        "sub['Outcome']=abs(lgbm_final)"
      ],
      "execution_count": null,
      "outputs": []
    },
    {
      "cell_type": "code",
      "metadata": {
        "id": "IuFUSPvgQwhK",
        "colab_type": "code",
        "colab": {}
      },
      "source": [
        "sub.to_csv('f1_av.csv',index=False)"
      ],
      "execution_count": null,
      "outputs": []
    },
    {
      "cell_type": "code",
      "metadata": {
        "id": "DIcjHE_jfPcW",
        "colab_type": "code",
        "colab": {
          "base_uri": "https://localhost:8080/",
          "height": 104
        },
        "outputId": "ecc2960d-ec08-4f50-bc63-d9074a5c0a75"
      },
      "source": [
        "sub.head(2)"
      ],
      "execution_count": null,
      "outputs": [
        {
          "output_type": "execute_result",
          "data": {
            "text/html": [
              "<div>\n",
              "<style scoped>\n",
              "    .dataframe tbody tr th:only-of-type {\n",
              "        vertical-align: middle;\n",
              "    }\n",
              "\n",
              "    .dataframe tbody tr th {\n",
              "        vertical-align: top;\n",
              "    }\n",
              "\n",
              "    .dataframe thead th {\n",
              "        text-align: right;\n",
              "    }\n",
              "</style>\n",
              "<table border=\"1\" class=\"dataframe\">\n",
              "  <thead>\n",
              "    <tr style=\"text-align: right;\">\n",
              "      <th></th>\n",
              "      <th>Patient_ID</th>\n",
              "      <th>Health_Camp_ID</th>\n",
              "      <th>Outcome</th>\n",
              "    </tr>\n",
              "  </thead>\n",
              "  <tbody>\n",
              "    <tr>\n",
              "      <th>0</th>\n",
              "      <td>505701</td>\n",
              "      <td>6548</td>\n",
              "      <td>2.451836</td>\n",
              "    </tr>\n",
              "    <tr>\n",
              "      <th>1</th>\n",
              "      <td>500633</td>\n",
              "      <td>6584</td>\n",
              "      <td>0.771337</td>\n",
              "    </tr>\n",
              "  </tbody>\n",
              "</table>\n",
              "</div>"
            ],
            "text/plain": [
              "   Patient_ID  Health_Camp_ID   Outcome\n",
              "0      505701            6548  2.451836\n",
              "1      500633            6584  0.771337"
            ]
          },
          "metadata": {
            "tags": []
          },
          "execution_count": 162
        }
      ]
    },
    {
      "cell_type": "code",
      "metadata": {
        "id": "tm-XDMFUfDRU",
        "colab_type": "code",
        "colab": {
          "base_uri": "https://localhost:8080/",
          "height": 16
        },
        "outputId": "68ce1555-2ab3-463b-850f-bb7128da0625"
      },
      "source": [
        "from google.colab import files\n",
        "files.download('f1_av.csv')"
      ],
      "execution_count": null,
      "outputs": [
        {
          "output_type": "display_data",
          "data": {
            "application/javascript": [
              "\n",
              "    async function download(id, filename, size) {\n",
              "      if (!google.colab.kernel.accessAllowed) {\n",
              "        return;\n",
              "      }\n",
              "      const div = document.createElement('div');\n",
              "      const label = document.createElement('label');\n",
              "      label.textContent = `Downloading \"${filename}\": `;\n",
              "      div.appendChild(label);\n",
              "      const progress = document.createElement('progress');\n",
              "      progress.max = size;\n",
              "      div.appendChild(progress);\n",
              "      document.body.appendChild(div);\n",
              "\n",
              "      const buffers = [];\n",
              "      let downloaded = 0;\n",
              "\n",
              "      const channel = await google.colab.kernel.comms.open(id);\n",
              "      // Send a message to notify the kernel that we're ready.\n",
              "      channel.send({})\n",
              "\n",
              "      for await (const message of channel.messages) {\n",
              "        // Send a message to notify the kernel that we're ready.\n",
              "        channel.send({})\n",
              "        if (message.buffers) {\n",
              "          for (const buffer of message.buffers) {\n",
              "            buffers.push(buffer);\n",
              "            downloaded += buffer.byteLength;\n",
              "            progress.value = downloaded;\n",
              "          }\n",
              "        }\n",
              "      }\n",
              "      const blob = new Blob(buffers, {type: 'application/binary'});\n",
              "      const a = document.createElement('a');\n",
              "      a.href = window.URL.createObjectURL(blob);\n",
              "      a.download = filename;\n",
              "      div.appendChild(a);\n",
              "      a.click();\n",
              "      div.remove();\n",
              "    }\n",
              "  "
            ],
            "text/plain": [
              "<IPython.core.display.Javascript object>"
            ]
          },
          "metadata": {
            "tags": []
          }
        },
        {
          "output_type": "display_data",
          "data": {
            "application/javascript": [
              "download(\"download_07f40f7c-02e9-41ce-926b-a44625a4999a\", \"f1_av.csv\", 1085367)"
            ],
            "text/plain": [
              "<IPython.core.display.Javascript object>"
            ]
          },
          "metadata": {
            "tags": []
          }
        }
      ]
    },
    {
      "cell_type": "code",
      "metadata": {
        "id": "78oqOphLSln8",
        "colab_type": "code",
        "colab": {}
      },
      "source": [
        ""
      ],
      "execution_count": null,
      "outputs": []
    },
    {
      "cell_type": "markdown",
      "metadata": {
        "id": "0Yoby_8HSl_1",
        "colab_type": "text"
      },
      "source": [
        "# ensem"
      ]
    },
    {
      "cell_type": "code",
      "metadata": {
        "id": "ATGY30KASnNY",
        "colab_type": "code",
        "colab": {
          "base_uri": "https://localhost:8080/",
          "height": 386
        },
        "outputId": "574ccfcb-0f8e-4e09-d42d-13153b1d604b"
      },
      "source": [
        "!wget https://datahack-prod.s3.amazonaws.com/submissions/janatahack-healthcare-analytics/867_613210_us_f1_av_14.csv\n",
        "!wget https://datahack-prod.s3.amazonaws.com/submissions/janatahack-healthcare-analytics/867_613210_us_final_x.csv"
      ],
      "execution_count": 17,
      "outputs": [
        {
          "output_type": "stream",
          "text": [
            "--2020-07-19 18:16:49--  https://datahack-prod.s3.amazonaws.com/submissions/janatahack-healthcare-analytics/867_613210_us_f1_av_14.csv\n",
            "Resolving datahack-prod.s3.amazonaws.com (datahack-prod.s3.amazonaws.com)... 52.219.64.120\n",
            "Connecting to datahack-prod.s3.amazonaws.com (datahack-prod.s3.amazonaws.com)|52.219.64.120|:443... connected.\n",
            "HTTP request sent, awaiting response... 200 OK\n",
            "Length: 1085224 (1.0M) [application/vnd.ms-excel]\n",
            "Saving to: ‘867_613210_us_f1_av_14.csv’\n",
            "\n",
            "867_613210_us_f1_av 100%[===================>]   1.03M   749KB/s    in 1.4s    \n",
            "\n",
            "2020-07-19 18:16:51 (749 KB/s) - ‘867_613210_us_f1_av_14.csv’ saved [1085224/1085224]\n",
            "\n",
            "--2020-07-19 18:16:53--  https://datahack-prod.s3.amazonaws.com/submissions/janatahack-healthcare-analytics/867_613210_us_final_x.csv\n",
            "Resolving datahack-prod.s3.amazonaws.com (datahack-prod.s3.amazonaws.com)... 52.219.64.112\n",
            "Connecting to datahack-prod.s3.amazonaws.com (datahack-prod.s3.amazonaws.com)|52.219.64.112|:443... connected.\n",
            "HTTP request sent, awaiting response... 200 OK\n",
            "Length: 1105533 (1.1M) [application/vnd.ms-excel]\n",
            "Saving to: ‘867_613210_us_final_x.csv’\n",
            "\n",
            "867_613210_us_final 100%[===================>]   1.05M   503KB/s    in 2.1s    \n",
            "\n",
            "2020-07-19 18:16:56 (503 KB/s) - ‘867_613210_us_final_x.csv’ saved [1105533/1105533]\n",
            "\n"
          ],
          "name": "stdout"
        }
      ]
    },
    {
      "cell_type": "code",
      "metadata": {
        "id": "g1ipQy1XSuyj",
        "colab_type": "code",
        "colab": {}
      },
      "source": [
        "a=pd.read_csv('867_613210_us_final_x.csv')\n",
        "b=pd.read_csv('867_613210_us_f1_av_14.csv')"
      ],
      "execution_count": 31,
      "outputs": []
    },
    {
      "cell_type": "code",
      "metadata": {
        "id": "VdPml4zFS5aa",
        "colab_type": "code",
        "colab": {
          "base_uri": "https://localhost:8080/",
          "height": 104
        },
        "outputId": "5bce4db2-15c6-41ff-c2b0-07c1b94ab1ed"
      },
      "source": [
        "a.head(2)"
      ],
      "execution_count": 32,
      "outputs": [
        {
          "output_type": "execute_result",
          "data": {
            "text/html": [
              "<div>\n",
              "<style scoped>\n",
              "    .dataframe tbody tr th:only-of-type {\n",
              "        vertical-align: middle;\n",
              "    }\n",
              "\n",
              "    .dataframe tbody tr th {\n",
              "        vertical-align: top;\n",
              "    }\n",
              "\n",
              "    .dataframe thead th {\n",
              "        text-align: right;\n",
              "    }\n",
              "</style>\n",
              "<table border=\"1\" class=\"dataframe\">\n",
              "  <thead>\n",
              "    <tr style=\"text-align: right;\">\n",
              "      <th></th>\n",
              "      <th>Patient_ID</th>\n",
              "      <th>Health_Camp_ID</th>\n",
              "      <th>Outcome</th>\n",
              "    </tr>\n",
              "  </thead>\n",
              "  <tbody>\n",
              "    <tr>\n",
              "      <th>0</th>\n",
              "      <td>505701</td>\n",
              "      <td>6548</td>\n",
              "      <td>0.662885</td>\n",
              "    </tr>\n",
              "    <tr>\n",
              "      <th>1</th>\n",
              "      <td>500633</td>\n",
              "      <td>6584</td>\n",
              "      <td>0.450871</td>\n",
              "    </tr>\n",
              "  </tbody>\n",
              "</table>\n",
              "</div>"
            ],
            "text/plain": [
              "   Patient_ID  Health_Camp_ID   Outcome\n",
              "0      505701            6548  0.662885\n",
              "1      500633            6584  0.450871"
            ]
          },
          "metadata": {
            "tags": []
          },
          "execution_count": 32
        }
      ]
    },
    {
      "cell_type": "code",
      "metadata": {
        "id": "xhUf2YDsS6lA",
        "colab_type": "code",
        "colab": {}
      },
      "source": [
        "c=a['Outcome']*0.85+b['Outcome']*0.15"
      ],
      "execution_count": 33,
      "outputs": []
    },
    {
      "cell_type": "code",
      "metadata": {
        "id": "Ey2DR6uvTDCm",
        "colab_type": "code",
        "colab": {}
      },
      "source": [
        "a['Outcome']=c"
      ],
      "execution_count": 34,
      "outputs": []
    },
    {
      "cell_type": "code",
      "metadata": {
        "id": "TA1tJkxdTF_i",
        "colab_type": "code",
        "colab": {}
      },
      "source": [
        "a.to_csv('ensem.csv',index=False)"
      ],
      "execution_count": 35,
      "outputs": []
    },
    {
      "cell_type": "code",
      "metadata": {
        "id": "HuSiRbzHTJYi",
        "colab_type": "code",
        "colab": {
          "base_uri": "https://localhost:8080/",
          "height": 16
        },
        "outputId": "4001a2cb-ed6f-4192-e738-8601778fdd44"
      },
      "source": [
        "from google.colab import files\n",
        "files.download('ensem.csv')"
      ],
      "execution_count": 36,
      "outputs": [
        {
          "output_type": "display_data",
          "data": {
            "application/javascript": [
              "\n",
              "    async function download(id, filename, size) {\n",
              "      if (!google.colab.kernel.accessAllowed) {\n",
              "        return;\n",
              "      }\n",
              "      const div = document.createElement('div');\n",
              "      const label = document.createElement('label');\n",
              "      label.textContent = `Downloading \"${filename}\": `;\n",
              "      div.appendChild(label);\n",
              "      const progress = document.createElement('progress');\n",
              "      progress.max = size;\n",
              "      div.appendChild(progress);\n",
              "      document.body.appendChild(div);\n",
              "\n",
              "      const buffers = [];\n",
              "      let downloaded = 0;\n",
              "\n",
              "      const channel = await google.colab.kernel.comms.open(id);\n",
              "      // Send a message to notify the kernel that we're ready.\n",
              "      channel.send({})\n",
              "\n",
              "      for await (const message of channel.messages) {\n",
              "        // Send a message to notify the kernel that we're ready.\n",
              "        channel.send({})\n",
              "        if (message.buffers) {\n",
              "          for (const buffer of message.buffers) {\n",
              "            buffers.push(buffer);\n",
              "            downloaded += buffer.byteLength;\n",
              "            progress.value = downloaded;\n",
              "          }\n",
              "        }\n",
              "      }\n",
              "      const blob = new Blob(buffers, {type: 'application/binary'});\n",
              "      const a = document.createElement('a');\n",
              "      a.href = window.URL.createObjectURL(blob);\n",
              "      a.download = filename;\n",
              "      div.appendChild(a);\n",
              "      a.click();\n",
              "      div.remove();\n",
              "    }\n",
              "  "
            ],
            "text/plain": [
              "<IPython.core.display.Javascript object>"
            ]
          },
          "metadata": {
            "tags": []
          }
        },
        {
          "output_type": "display_data",
          "data": {
            "application/javascript": [
              "download(\"download_edaa881e-3089-4ce0-ac37-bb1ca39c6ff9\", \"ensem.csv\", 1101588)"
            ],
            "text/plain": [
              "<IPython.core.display.Javascript object>"
            ]
          },
          "metadata": {
            "tags": []
          }
        }
      ]
    },
    {
      "cell_type": "code",
      "metadata": {
        "id": "FT67PR0zTP33",
        "colab_type": "code",
        "colab": {}
      },
      "source": [
        ""
      ],
      "execution_count": null,
      "outputs": []
    }
  ]
}