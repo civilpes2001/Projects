{
  "nbformat": 4,
  "nbformat_minor": 0,
  "metadata": {
    "colab": {
      "name": "Janatahack: Customer Segmentation.ipynb",
      "provenance": [],
      "collapsed_sections": []
    },
    "kernelspec": {
      "name": "python3",
      "display_name": "Python 3"
    },
    "accelerator": "GPU"
  },
  "cells": [
    {
      "cell_type": "code",
      "metadata": {
        "id": "v7EQx4FmMN-X",
        "colab_type": "code",
        "colab": {
          "base_uri": "https://localhost:8080/",
          "height": 571
        },
        "outputId": "82ec493e-3df3-4a68-9bf4-23759faf7950"
      },
      "source": [
        "!wget https://datahack-prod.s3.amazonaws.com/sample_submission/sample_submission_wyi0h0z.csv\n",
        "!wget https://datahack-prod.s3.amazonaws.com/train_file/Train_aBjfeNk.csv\n",
        "!wget https://datahack-prod.s3.amazonaws.com/test_file/Test_LqhgPWU.csv"
      ],
      "execution_count": 4,
      "outputs": [
        {
          "output_type": "stream",
          "text": [
            "--2020-08-02 17:26:38--  https://datahack-prod.s3.amazonaws.com/sample_submission/sample_submission_wyi0h0z.csv\n",
            "Resolving datahack-prod.s3.amazonaws.com (datahack-prod.s3.amazonaws.com)... 52.219.64.24\n",
            "Connecting to datahack-prod.s3.amazonaws.com (datahack-prod.s3.amazonaws.com)|52.219.64.24|:443... connected.\n",
            "HTTP request sent, awaiting response... 200 OK\n",
            "Length: 23659 (23K) [text/csv]\n",
            "Saving to: ‘sample_submission_wyi0h0z.csv.1’\n",
            "\n",
            "\r          sample_su   0%[                    ]       0  --.-KB/s               \r         sample_sub  71%[=============>      ]  16.44K  69.1KB/s               \rsample_submission_w 100%[===================>]  23.10K  97.1KB/s    in 0.2s    \n",
            "\n",
            "2020-08-02 17:26:39 (97.1 KB/s) - ‘sample_submission_wyi0h0z.csv.1’ saved [23659/23659]\n",
            "\n",
            "--2020-08-02 17:26:45--  https://datahack-prod.s3.amazonaws.com/train_file/Train_aBjfeNk.csv\n",
            "Resolving datahack-prod.s3.amazonaws.com (datahack-prod.s3.amazonaws.com)... 52.219.66.124\n",
            "Connecting to datahack-prod.s3.amazonaws.com (datahack-prod.s3.amazonaws.com)|52.219.66.124|:443... connected.\n",
            "HTTP request sent, awaiting response... 200 OK\n",
            "Length: 425369 (415K) [text/csv]\n",
            "Saving to: ‘Train_aBjfeNk.csv.1’\n",
            "\n",
            "Train_aBjfeNk.csv.1 100%[===================>] 415.40K   445KB/s    in 0.9s    \n",
            "\n",
            "2020-08-02 17:26:47 (445 KB/s) - ‘Train_aBjfeNk.csv.1’ saved [425369/425369]\n",
            "\n",
            "--2020-08-02 17:26:49--  https://datahack-prod.s3.amazonaws.com/test_file/Test_LqhgPWU.csv\n",
            "Resolving datahack-prod.s3.amazonaws.com (datahack-prod.s3.amazonaws.com)... 52.219.62.84\n",
            "Connecting to datahack-prod.s3.amazonaws.com (datahack-prod.s3.amazonaws.com)|52.219.62.84|:443... connected.\n",
            "HTTP request sent, awaiting response... 200 OK\n",
            "Length: 133098 (130K) [text/csv]\n",
            "Saving to: ‘Test_LqhgPWU.csv.1’\n",
            "\n",
            "Test_LqhgPWU.csv.1  100%[===================>] 129.98K   184KB/s    in 0.7s    \n",
            "\n",
            "2020-08-02 17:26:51 (184 KB/s) - ‘Test_LqhgPWU.csv.1’ saved [133098/133098]\n",
            "\n"
          ],
          "name": "stdout"
        }
      ]
    },
    {
      "cell_type": "code",
      "metadata": {
        "id": "x4nDFTuktela",
        "colab_type": "code",
        "colab": {}
      },
      "source": [
        "import pandas as pd\n",
        "import numpy as np\n",
        "import matplotlib.pyplot as plt\n",
        "%matplotlib inline"
      ],
      "execution_count": 23,
      "outputs": []
    },
    {
      "cell_type": "code",
      "metadata": {
        "id": "n79PrHkFti56",
        "colab_type": "code",
        "colab": {}
      },
      "source": [
        "train = pd.read_csv('Train_aBjfeNk.csv')\n",
        "test = pd.read_csv('Test_LqhgPWU.csv')"
      ],
      "execution_count": 24,
      "outputs": []
    },
    {
      "cell_type": "markdown",
      "metadata": {
        "id": "66zd_5tL8pW2",
        "colab_type": "text"
      },
      "source": [
        "# oper"
      ]
    },
    {
      "cell_type": "code",
      "metadata": {
        "id": "W8kiWT-hN1mD",
        "colab_type": "code",
        "colab": {
          "base_uri": "https://localhost:8080/",
          "height": 190
        },
        "outputId": "ea6f27f0-0746-44ca-e728-76edd4208430"
      },
      "source": [
        "train.head(5)"
      ],
      "execution_count": 10,
      "outputs": [
        {
          "output_type": "execute_result",
          "data": {
            "text/html": [
              "<div>\n",
              "<style scoped>\n",
              "    .dataframe tbody tr th:only-of-type {\n",
              "        vertical-align: middle;\n",
              "    }\n",
              "\n",
              "    .dataframe tbody tr th {\n",
              "        vertical-align: top;\n",
              "    }\n",
              "\n",
              "    .dataframe thead th {\n",
              "        text-align: right;\n",
              "    }\n",
              "</style>\n",
              "<table border=\"1\" class=\"dataframe\">\n",
              "  <thead>\n",
              "    <tr style=\"text-align: right;\">\n",
              "      <th></th>\n",
              "      <th>ID</th>\n",
              "      <th>Gender</th>\n",
              "      <th>Ever_Married</th>\n",
              "      <th>Age</th>\n",
              "      <th>Graduated</th>\n",
              "      <th>Profession</th>\n",
              "      <th>Work_Experience</th>\n",
              "      <th>Spending_Score</th>\n",
              "      <th>Family_Size</th>\n",
              "      <th>Var_1</th>\n",
              "      <th>Segmentation</th>\n",
              "    </tr>\n",
              "  </thead>\n",
              "  <tbody>\n",
              "    <tr>\n",
              "      <th>0</th>\n",
              "      <td>462809</td>\n",
              "      <td>Male</td>\n",
              "      <td>No</td>\n",
              "      <td>22</td>\n",
              "      <td>No</td>\n",
              "      <td>Healthcare</td>\n",
              "      <td>1.0</td>\n",
              "      <td>Low</td>\n",
              "      <td>4.0</td>\n",
              "      <td>Cat_4</td>\n",
              "      <td>D</td>\n",
              "    </tr>\n",
              "    <tr>\n",
              "      <th>1</th>\n",
              "      <td>462643</td>\n",
              "      <td>Female</td>\n",
              "      <td>Yes</td>\n",
              "      <td>38</td>\n",
              "      <td>Yes</td>\n",
              "      <td>Engineer</td>\n",
              "      <td>NaN</td>\n",
              "      <td>Average</td>\n",
              "      <td>3.0</td>\n",
              "      <td>Cat_4</td>\n",
              "      <td>A</td>\n",
              "    </tr>\n",
              "    <tr>\n",
              "      <th>2</th>\n",
              "      <td>466315</td>\n",
              "      <td>Female</td>\n",
              "      <td>Yes</td>\n",
              "      <td>67</td>\n",
              "      <td>Yes</td>\n",
              "      <td>Engineer</td>\n",
              "      <td>1.0</td>\n",
              "      <td>Low</td>\n",
              "      <td>1.0</td>\n",
              "      <td>Cat_6</td>\n",
              "      <td>B</td>\n",
              "    </tr>\n",
              "    <tr>\n",
              "      <th>3</th>\n",
              "      <td>461735</td>\n",
              "      <td>Male</td>\n",
              "      <td>Yes</td>\n",
              "      <td>67</td>\n",
              "      <td>Yes</td>\n",
              "      <td>Lawyer</td>\n",
              "      <td>0.0</td>\n",
              "      <td>High</td>\n",
              "      <td>2.0</td>\n",
              "      <td>Cat_6</td>\n",
              "      <td>B</td>\n",
              "    </tr>\n",
              "    <tr>\n",
              "      <th>4</th>\n",
              "      <td>462669</td>\n",
              "      <td>Female</td>\n",
              "      <td>Yes</td>\n",
              "      <td>40</td>\n",
              "      <td>Yes</td>\n",
              "      <td>Entertainment</td>\n",
              "      <td>NaN</td>\n",
              "      <td>High</td>\n",
              "      <td>6.0</td>\n",
              "      <td>Cat_6</td>\n",
              "      <td>A</td>\n",
              "    </tr>\n",
              "  </tbody>\n",
              "</table>\n",
              "</div>"
            ],
            "text/plain": [
              "       ID  Gender Ever_Married  ...  Family_Size  Var_1 Segmentation\n",
              "0  462809    Male           No  ...          4.0  Cat_4            D\n",
              "1  462643  Female          Yes  ...          3.0  Cat_4            A\n",
              "2  466315  Female          Yes  ...          1.0  Cat_6            B\n",
              "3  461735    Male          Yes  ...          2.0  Cat_6            B\n",
              "4  462669  Female          Yes  ...          6.0  Cat_6            A\n",
              "\n",
              "[5 rows x 11 columns]"
            ]
          },
          "metadata": {
            "tags": []
          },
          "execution_count": 10
        }
      ]
    },
    {
      "cell_type": "code",
      "metadata": {
        "id": "7kirifXnN1lO",
        "colab_type": "code",
        "colab": {
          "base_uri": "https://localhost:8080/",
          "height": 190
        },
        "outputId": "c2e510f1-1396-4271-dac5-3bced32d9825"
      },
      "source": [
        "test.head(5)"
      ],
      "execution_count": 11,
      "outputs": [
        {
          "output_type": "execute_result",
          "data": {
            "text/html": [
              "<div>\n",
              "<style scoped>\n",
              "    .dataframe tbody tr th:only-of-type {\n",
              "        vertical-align: middle;\n",
              "    }\n",
              "\n",
              "    .dataframe tbody tr th {\n",
              "        vertical-align: top;\n",
              "    }\n",
              "\n",
              "    .dataframe thead th {\n",
              "        text-align: right;\n",
              "    }\n",
              "</style>\n",
              "<table border=\"1\" class=\"dataframe\">\n",
              "  <thead>\n",
              "    <tr style=\"text-align: right;\">\n",
              "      <th></th>\n",
              "      <th>ID</th>\n",
              "      <th>Gender</th>\n",
              "      <th>Ever_Married</th>\n",
              "      <th>Age</th>\n",
              "      <th>Graduated</th>\n",
              "      <th>Profession</th>\n",
              "      <th>Work_Experience</th>\n",
              "      <th>Spending_Score</th>\n",
              "      <th>Family_Size</th>\n",
              "      <th>Var_1</th>\n",
              "    </tr>\n",
              "  </thead>\n",
              "  <tbody>\n",
              "    <tr>\n",
              "      <th>0</th>\n",
              "      <td>458989</td>\n",
              "      <td>Female</td>\n",
              "      <td>Yes</td>\n",
              "      <td>36</td>\n",
              "      <td>Yes</td>\n",
              "      <td>Engineer</td>\n",
              "      <td>0.0</td>\n",
              "      <td>Low</td>\n",
              "      <td>1.0</td>\n",
              "      <td>Cat_6</td>\n",
              "    </tr>\n",
              "    <tr>\n",
              "      <th>1</th>\n",
              "      <td>458994</td>\n",
              "      <td>Male</td>\n",
              "      <td>Yes</td>\n",
              "      <td>37</td>\n",
              "      <td>Yes</td>\n",
              "      <td>Healthcare</td>\n",
              "      <td>8.0</td>\n",
              "      <td>Average</td>\n",
              "      <td>4.0</td>\n",
              "      <td>Cat_6</td>\n",
              "    </tr>\n",
              "    <tr>\n",
              "      <th>2</th>\n",
              "      <td>458996</td>\n",
              "      <td>Female</td>\n",
              "      <td>Yes</td>\n",
              "      <td>69</td>\n",
              "      <td>No</td>\n",
              "      <td>NaN</td>\n",
              "      <td>0.0</td>\n",
              "      <td>Low</td>\n",
              "      <td>1.0</td>\n",
              "      <td>Cat_6</td>\n",
              "    </tr>\n",
              "    <tr>\n",
              "      <th>3</th>\n",
              "      <td>459000</td>\n",
              "      <td>Male</td>\n",
              "      <td>Yes</td>\n",
              "      <td>59</td>\n",
              "      <td>No</td>\n",
              "      <td>Executive</td>\n",
              "      <td>11.0</td>\n",
              "      <td>High</td>\n",
              "      <td>2.0</td>\n",
              "      <td>Cat_6</td>\n",
              "    </tr>\n",
              "    <tr>\n",
              "      <th>4</th>\n",
              "      <td>459001</td>\n",
              "      <td>Female</td>\n",
              "      <td>No</td>\n",
              "      <td>19</td>\n",
              "      <td>No</td>\n",
              "      <td>Marketing</td>\n",
              "      <td>NaN</td>\n",
              "      <td>Low</td>\n",
              "      <td>4.0</td>\n",
              "      <td>Cat_6</td>\n",
              "    </tr>\n",
              "  </tbody>\n",
              "</table>\n",
              "</div>"
            ],
            "text/plain": [
              "       ID  Gender Ever_Married  ...  Spending_Score Family_Size  Var_1\n",
              "0  458989  Female          Yes  ...             Low         1.0  Cat_6\n",
              "1  458994    Male          Yes  ...         Average         4.0  Cat_6\n",
              "2  458996  Female          Yes  ...             Low         1.0  Cat_6\n",
              "3  459000    Male          Yes  ...            High         2.0  Cat_6\n",
              "4  459001  Female           No  ...             Low         4.0  Cat_6\n",
              "\n",
              "[5 rows x 10 columns]"
            ]
          },
          "metadata": {
            "tags": []
          },
          "execution_count": 11
        }
      ]
    },
    {
      "cell_type": "code",
      "metadata": {
        "id": "Ozidtg3ft-qi",
        "colab_type": "code",
        "colab": {
          "base_uri": "https://localhost:8080/",
          "height": 571
        },
        "outputId": "213b6744-878a-47e1-e982-084437c7076a"
      },
      "source": [
        "train.isnull().sum(),test.isnull().sum(),train.shape,test.shape,train.dtypes"
      ],
      "execution_count": 12,
      "outputs": [
        {
          "output_type": "execute_result",
          "data": {
            "text/plain": [
              "(ID                   0\n",
              " Gender               0\n",
              " Ever_Married       140\n",
              " Age                  0\n",
              " Graduated           78\n",
              " Profession         124\n",
              " Work_Experience    829\n",
              " Spending_Score       0\n",
              " Family_Size        335\n",
              " Var_1               76\n",
              " Segmentation         0\n",
              " dtype: int64, ID                   0\n",
              " Gender               0\n",
              " Ever_Married        50\n",
              " Age                  0\n",
              " Graduated           24\n",
              " Profession          38\n",
              " Work_Experience    269\n",
              " Spending_Score       0\n",
              " Family_Size        113\n",
              " Var_1               32\n",
              " dtype: int64, (8068, 11), (2627, 10), ID                   int64\n",
              " Gender              object\n",
              " Ever_Married        object\n",
              " Age                  int64\n",
              " Graduated           object\n",
              " Profession          object\n",
              " Work_Experience    float64\n",
              " Spending_Score      object\n",
              " Family_Size        float64\n",
              " Var_1               object\n",
              " Segmentation        object\n",
              " dtype: object)"
            ]
          },
          "metadata": {
            "tags": []
          },
          "execution_count": 12
        }
      ]
    },
    {
      "cell_type": "code",
      "metadata": {
        "id": "lWQiCtrnMbtn",
        "colab_type": "code",
        "colab": {}
      },
      "source": [
        "df=train.append(test,ignore_index=True)"
      ],
      "execution_count": 13,
      "outputs": []
    },
    {
      "cell_type": "code",
      "metadata": {
        "id": "EhcX44ZuQPWd",
        "colab_type": "code",
        "colab": {}
      },
      "source": [
        "k=['Ever_Married','Graduated']\n",
        "for i in k:\n",
        "  df[i]=df[i].fillna('Random')"
      ],
      "execution_count": 14,
      "outputs": []
    },
    {
      "cell_type": "code",
      "metadata": {
        "id": "0Xr8UxFYRLuF",
        "colab_type": "code",
        "colab": {}
      },
      "source": [
        "i=['Profession','Work_Experience','Family_Size','Var_1']\n",
        "for x in i:\n",
        "  df[x]=df[x].fillna(method='bfill')"
      ],
      "execution_count": 15,
      "outputs": []
    },
    {
      "cell_type": "code",
      "metadata": {
        "id": "PcD1OibwSLW6",
        "colab_type": "code",
        "colab": {
          "base_uri": "https://localhost:8080/",
          "height": 218
        },
        "outputId": "8d75c5f0-a228-48b1-fe98-fb2d147e319c"
      },
      "source": [
        "df.nunique()"
      ],
      "execution_count": 16,
      "outputs": [
        {
          "output_type": "execute_result",
          "data": {
            "text/plain": [
              "ID                 8363\n",
              "Gender                2\n",
              "Ever_Married          3\n",
              "Age                  67\n",
              "Graduated             3\n",
              "Profession            9\n",
              "Work_Experience      15\n",
              "Spending_Score        3\n",
              "Family_Size           9\n",
              "Var_1                 7\n",
              "Segmentation          4\n",
              "dtype: int64"
            ]
          },
          "metadata": {
            "tags": []
          },
          "execution_count": 16
        }
      ]
    },
    {
      "cell_type": "code",
      "metadata": {
        "id": "g-4b8rEIR5gu",
        "colab_type": "code",
        "colab": {}
      },
      "source": [
        "df = pd.get_dummies(df, columns=['Ever_Married','Graduated','Profession','Spending_Score','Gender','Family_Size','Var_1'])"
      ],
      "execution_count": 17,
      "outputs": []
    },
    {
      "cell_type": "code",
      "metadata": {
        "id": "M24iTpikSt1a",
        "colab_type": "code",
        "colab": {}
      },
      "source": [
        "train = df[df['Segmentation'].isnull()==False]\n",
        "test = df[df['Segmentation'].isnull()==True]"
      ],
      "execution_count": 18,
      "outputs": []
    },
    {
      "cell_type": "code",
      "metadata": {
        "id": "ZFeu6I5-S4Yu",
        "colab_type": "code",
        "colab": {}
      },
      "source": [
        "del test['Segmentation']"
      ],
      "execution_count": 19,
      "outputs": []
    },
    {
      "cell_type": "code",
      "metadata": {
        "id": "nJbyh_-2U5qj",
        "colab_type": "code",
        "colab": {}
      },
      "source": [
        "k=['Ever_Married','Graduated','Profession','Spending_Score','Gender','Var_1']\n",
        "for i in k:\n",
        "  loc = np.append(train[i].values, test[i].values, axis=0)\n",
        "  from sklearn.preprocessing import LabelEncoder\n",
        "  l=LabelEncoder()\n",
        "  l.fit(list(set(loc)))\n",
        "  train[i]=l.transform(train[i])\n",
        "  test[i]=l.transform(test[i])"
      ],
      "execution_count": null,
      "outputs": []
    },
    {
      "cell_type": "markdown",
      "metadata": {
        "id": "rGXZ-Sd58X3q",
        "colab_type": "text"
      },
      "source": [
        "# ML"
      ]
    },
    {
      "cell_type": "code",
      "metadata": {
        "id": "gJmdtNUUDY44",
        "colab_type": "code",
        "colab": {
          "base_uri": "https://localhost:8080/",
          "height": 319
        },
        "outputId": "8d1b08c0-4c6a-40db-d34c-d4d44f02b096"
      },
      "source": [
        "!pip install catboost\n",
        "from math import sqrt \n",
        "from sklearn.metrics import f1_score"
      ],
      "execution_count": null,
      "outputs": [
        {
          "output_type": "stream",
          "text": [
            "Collecting catboost\n",
            "\u001b[?25l  Downloading https://files.pythonhosted.org/packages/b2/aa/e61819d04ef2bbee778bf4b3a748db1f3ad23512377e43ecfdc3211437a0/catboost-0.23.2-cp36-none-manylinux1_x86_64.whl (64.8MB)\n",
            "\u001b[K     |████████████████████████████████| 64.8MB 49kB/s \n",
            "\u001b[?25hRequirement already satisfied: graphviz in /usr/local/lib/python3.6/dist-packages (from catboost) (0.10.1)\n",
            "Requirement already satisfied: matplotlib in /usr/local/lib/python3.6/dist-packages (from catboost) (3.2.2)\n",
            "Requirement already satisfied: plotly in /usr/local/lib/python3.6/dist-packages (from catboost) (4.4.1)\n",
            "Requirement already satisfied: numpy>=1.16.0 in /usr/local/lib/python3.6/dist-packages (from catboost) (1.18.5)\n",
            "Requirement already satisfied: pandas>=0.24.0 in /usr/local/lib/python3.6/dist-packages (from catboost) (1.0.5)\n",
            "Requirement already satisfied: scipy in /usr/local/lib/python3.6/dist-packages (from catboost) (1.4.1)\n",
            "Requirement already satisfied: six in /usr/local/lib/python3.6/dist-packages (from catboost) (1.15.0)\n",
            "Requirement already satisfied: kiwisolver>=1.0.1 in /usr/local/lib/python3.6/dist-packages (from matplotlib->catboost) (1.2.0)\n",
            "Requirement already satisfied: python-dateutil>=2.1 in /usr/local/lib/python3.6/dist-packages (from matplotlib->catboost) (2.8.1)\n",
            "Requirement already satisfied: cycler>=0.10 in /usr/local/lib/python3.6/dist-packages (from matplotlib->catboost) (0.10.0)\n",
            "Requirement already satisfied: pyparsing!=2.0.4,!=2.1.2,!=2.1.6,>=2.0.1 in /usr/local/lib/python3.6/dist-packages (from matplotlib->catboost) (2.4.7)\n",
            "Requirement already satisfied: retrying>=1.3.3 in /usr/local/lib/python3.6/dist-packages (from plotly->catboost) (1.3.3)\n",
            "Requirement already satisfied: pytz>=2017.2 in /usr/local/lib/python3.6/dist-packages (from pandas>=0.24.0->catboost) (2018.9)\n",
            "Installing collected packages: catboost\n",
            "Successfully installed catboost-0.23.2\n"
          ],
          "name": "stdout"
        }
      ]
    },
    {
      "cell_type": "code",
      "metadata": {
        "id": "zH5IEF15iji_",
        "colab_type": "code",
        "colab": {}
      },
      "source": [
        "train_df=train.copy()\n",
        "test_df=test.copy()"
      ],
      "execution_count": null,
      "outputs": []
    },
    {
      "cell_type": "code",
      "metadata": {
        "id": "5z3XlxC1USWX",
        "colab_type": "code",
        "colab": {
          "base_uri": "https://localhost:8080/",
          "height": 33
        },
        "outputId": "27a3f322-3a2e-45c8-82a5-e9845f0b9bee"
      },
      "source": [
        "from sklearn.preprocessing import LabelEncoder\n",
        "le = LabelEncoder()\n",
        "train_df['Segmentation'] = le.fit_transform(train_df['Segmentation'])\n",
        "le.classes_"
      ],
      "execution_count": null,
      "outputs": [
        {
          "output_type": "execute_result",
          "data": {
            "text/plain": [
              "array(['A', 'B', 'C', 'D'], dtype=object)"
            ]
          },
          "metadata": {
            "tags": []
          },
          "execution_count": 14
        }
      ]
    },
    {
      "cell_type": "code",
      "metadata": {
        "id": "o0SFjyilWPos",
        "colab_type": "code",
        "colab": {}
      },
      "source": [
        "X = train_df.drop(labels=['Segmentation'], axis=1)\n",
        "y = train_df['Segmentation'].values\n",
        "\n",
        "from sklearn.model_selection import train_test_split\n",
        "X_train, X_cv, y_train, y_cv = train_test_split(X, y, test_size=0.10, random_state=101)"
      ],
      "execution_count": null,
      "outputs": []
    },
    {
      "cell_type": "code",
      "metadata": {
        "id": "wXjawL8CWPiE",
        "colab_type": "code",
        "colab": {
          "base_uri": "https://localhost:8080/",
          "height": 33
        },
        "outputId": "82e28fcb-1454-4bef-8283-d4a7f44cfee0"
      },
      "source": [
        "\n",
        "X_train.shape, y_train.shape, X_cv.shape, y_cv.shape"
      ],
      "execution_count": null,
      "outputs": [
        {
          "output_type": "execute_result",
          "data": {
            "text/plain": [
              "((7261, 37), (7261,), (807, 37), (807,))"
            ]
          },
          "metadata": {
            "tags": []
          },
          "execution_count": 16
        }
      ]
    },
    {
      "cell_type": "code",
      "metadata": {
        "id": "25L1oDtkUcsP",
        "colab_type": "code",
        "colab": {}
      },
      "source": [
        "\n",
        "from math import sqrt \n",
        "from sklearn.metrics import accuracy_score"
      ],
      "execution_count": null,
      "outputs": []
    },
    {
      "cell_type": "code",
      "metadata": {
        "id": "WIcwOjxfeXkv",
        "colab_type": "code",
        "colab": {
          "base_uri": "https://localhost:8080/",
          "height": 33
        },
        "outputId": "c7913148-5599-4d67-b6e5-86398be86471"
      },
      "source": [
        "categorical_features_indices = np.where(X_train.dtypes == 'category')[0]\n",
        "categorical_features_indices"
      ],
      "execution_count": null,
      "outputs": [
        {
          "output_type": "execute_result",
          "data": {
            "text/plain": [
              "array([], dtype=int64)"
            ]
          },
          "metadata": {
            "tags": []
          },
          "execution_count": 18
        }
      ]
    },
    {
      "cell_type": "code",
      "metadata": {
        "id": "AEOxyYfmdoi9",
        "colab_type": "code",
        "colab": {
          "base_uri": "https://localhost:8080/",
          "height": 1000
        },
        "outputId": "7678e831-f3c8-483e-c46b-06bca4168718"
      },
      "source": [
        "from catboost import CatBoostClassifier\n",
        "cat = CatBoostClassifier(loss_function='MultiClass', \n",
        "                         eval_metric='Accuracy', \n",
        "                         depth=4,\n",
        "                         random_seed=42, \n",
        "                         iterations=5000, \n",
        "                         learning_rate=0.01,\n",
        "                         leaf_estimation_iterations=1,\n",
        "                         l2_leaf_reg=1,\n",
        "                         bootstrap_type='Bayesian', \n",
        "                         #bagging_temperature=4, \n",
        "                         random_strength=1,\n",
        "                         od_type='Iter', \n",
        "                         od_wait=1000)\n",
        "cat.fit(X_train, y_train, verbose=50,\n",
        "        use_best_model=True,\n",
        "        cat_features=categorical_features_indices,\n",
        "        eval_set=[(X_train, y_train),(X_cv, y_cv)],\n",
        "        plot=False)"
      ],
      "execution_count": null,
      "outputs": [
        {
          "output_type": "stream",
          "text": [
            "0:\tlearn: 0.4960749\ttest: 0.4960749\ttest1: 0.4671623\tbest: 0.4671623 (0)\ttotal: 6.21ms\tremaining: 31s\n",
            "50:\tlearn: 0.5199008\ttest: 0.5199008\ttest1: 0.5018587\tbest: 0.5117720 (27)\ttotal: 287ms\tremaining: 27.9s\n",
            "100:\tlearn: 0.5262361\ttest: 0.5262361\ttest1: 0.5092937\tbest: 0.5117720 (27)\ttotal: 566ms\tremaining: 27.5s\n",
            "150:\tlearn: 0.5260983\ttest: 0.5260983\ttest1: 0.5105328\tbest: 0.5117720 (27)\ttotal: 854ms\tremaining: 27.4s\n",
            "200:\tlearn: 0.5314695\ttest: 0.5314695\ttest1: 0.5241636\tbest: 0.5254027 (186)\ttotal: 1.13s\tremaining: 26.9s\n",
            "250:\tlearn: 0.5344994\ttest: 0.5344994\ttest1: 0.5254027\tbest: 0.5278810 (243)\ttotal: 1.41s\tremaining: 26.8s\n",
            "300:\tlearn: 0.5387688\ttest: 0.5387688\ttest1: 0.5315985\tbest: 0.5315985 (297)\ttotal: 1.69s\tremaining: 26.4s\n",
            "350:\tlearn: 0.5427627\ttest: 0.5427627\ttest1: 0.5328377\tbest: 0.5340768 (330)\ttotal: 1.98s\tremaining: 26.2s\n",
            "400:\tlearn: 0.5453794\ttest: 0.5453794\ttest1: 0.5353160\tbest: 0.5353160 (400)\ttotal: 2.26s\tremaining: 25.9s\n",
            "450:\tlearn: 0.5497865\ttest: 0.5497865\ttest1: 0.5402726\tbest: 0.5427509 (432)\ttotal: 2.54s\tremaining: 25.7s\n",
            "500:\tlearn: 0.5522655\ttest: 0.5522655\ttest1: 0.5415118\tbest: 0.5452292 (462)\ttotal: 2.83s\tremaining: 25.4s\n",
            "550:\tlearn: 0.5539182\ttest: 0.5539182\ttest1: 0.5390335\tbest: 0.5452292 (462)\ttotal: 3.11s\tremaining: 25.1s\n",
            "600:\tlearn: 0.5544691\ttest: 0.5544691\ttest1: 0.5415118\tbest: 0.5452292 (462)\ttotal: 3.4s\tremaining: 24.9s\n",
            "650:\tlearn: 0.5566726\ttest: 0.5566726\ttest1: 0.5439901\tbest: 0.5452292 (462)\ttotal: 3.67s\tremaining: 24.5s\n",
            "700:\tlearn: 0.5586007\ttest: 0.5586007\ttest1: 0.5427509\tbest: 0.5452292 (462)\ttotal: 3.96s\tremaining: 24.3s\n",
            "750:\tlearn: 0.5595648\ttest: 0.5595648\ttest1: 0.5439901\tbest: 0.5452292 (462)\ttotal: 4.23s\tremaining: 23.9s\n",
            "800:\tlearn: 0.5616306\ttest: 0.5616306\ttest1: 0.5415118\tbest: 0.5452292 (462)\ttotal: 4.52s\tremaining: 23.7s\n",
            "850:\tlearn: 0.5642473\ttest: 0.5642473\ttest1: 0.5415118\tbest: 0.5452292 (462)\ttotal: 4.79s\tremaining: 23.4s\n",
            "900:\tlearn: 0.5654868\ttest: 0.5654868\ttest1: 0.5390335\tbest: 0.5452292 (462)\ttotal: 5.07s\tremaining: 23.1s\n",
            "950:\tlearn: 0.5678281\ttest: 0.5678281\ttest1: 0.5427509\tbest: 0.5452292 (462)\ttotal: 5.36s\tremaining: 22.8s\n",
            "1000:\tlearn: 0.5693431\ttest: 0.5693431\ttest1: 0.5439901\tbest: 0.5452292 (462)\ttotal: 5.64s\tremaining: 22.5s\n",
            "1050:\tlearn: 0.5718221\ttest: 0.5718221\ttest1: 0.5427509\tbest: 0.5452292 (462)\ttotal: 5.92s\tremaining: 22.3s\n",
            "1100:\tlearn: 0.5730616\ttest: 0.5730616\ttest1: 0.5452292\tbest: 0.5452292 (462)\ttotal: 6.21s\tremaining: 22s\n",
            "1150:\tlearn: 0.5749897\ttest: 0.5749897\ttest1: 0.5415118\tbest: 0.5477076 (1106)\ttotal: 6.49s\tremaining: 21.7s\n",
            "1200:\tlearn: 0.5754028\ttest: 0.5754028\ttest1: 0.5452292\tbest: 0.5477076 (1106)\ttotal: 6.77s\tremaining: 21.4s\n",
            "1250:\tlearn: 0.5767801\ttest: 0.5767801\ttest1: 0.5501859\tbest: 0.5501859 (1248)\ttotal: 7.05s\tremaining: 21.1s\n",
            "1300:\tlearn: 0.5780196\ttest: 0.5780196\ttest1: 0.5489467\tbest: 0.5514250 (1289)\ttotal: 7.34s\tremaining: 20.9s\n",
            "1350:\tlearn: 0.5796722\ttest: 0.5796722\ttest1: 0.5514250\tbest: 0.5514250 (1289)\ttotal: 7.61s\tremaining: 20.6s\n",
            "1400:\tlearn: 0.5817381\ttest: 0.5817381\ttest1: 0.5514250\tbest: 0.5514250 (1289)\ttotal: 7.9s\tremaining: 20.3s\n",
            "1450:\tlearn: 0.5828398\ttest: 0.5828398\ttest1: 0.5526642\tbest: 0.5526642 (1418)\ttotal: 8.18s\tremaining: 20s\n",
            "1500:\tlearn: 0.5842170\ttest: 0.5842170\ttest1: 0.5514250\tbest: 0.5539033 (1459)\ttotal: 8.47s\tremaining: 19.7s\n",
            "1550:\tlearn: 0.5853188\ttest: 0.5853188\ttest1: 0.5539033\tbest: 0.5539033 (1459)\ttotal: 8.75s\tremaining: 19.4s\n",
            "1600:\tlearn: 0.5869715\ttest: 0.5869715\ttest1: 0.5539033\tbest: 0.5539033 (1459)\ttotal: 9.03s\tremaining: 19.2s\n",
            "1650:\tlearn: 0.5884864\ttest: 0.5884864\ttest1: 0.5551425\tbest: 0.5563817 (1623)\ttotal: 9.32s\tremaining: 18.9s\n",
            "1700:\tlearn: 0.5906900\ttest: 0.5906900\ttest1: 0.5588600\tbest: 0.5588600 (1680)\ttotal: 9.6s\tremaining: 18.6s\n",
            "1750:\tlearn: 0.5917918\ttest: 0.5917918\ttest1: 0.5563817\tbest: 0.5588600 (1680)\ttotal: 9.88s\tremaining: 18.3s\n",
            "1800:\tlearn: 0.5923427\ttest: 0.5923427\ttest1: 0.5563817\tbest: 0.5588600 (1680)\ttotal: 10.2s\tremaining: 18.1s\n",
            "1850:\tlearn: 0.5937199\ttest: 0.5937199\ttest1: 0.5576208\tbest: 0.5588600 (1680)\ttotal: 10.5s\tremaining: 17.8s\n",
            "1900:\tlearn: 0.5949594\ttest: 0.5949594\ttest1: 0.5576208\tbest: 0.5588600 (1680)\ttotal: 10.8s\tremaining: 17.5s\n",
            "1950:\tlearn: 0.5964743\ttest: 0.5964743\ttest1: 0.5588600\tbest: 0.5588600 (1680)\ttotal: 11s\tremaining: 17.3s\n",
            "2000:\tlearn: 0.5981270\ttest: 0.5981270\ttest1: 0.5563817\tbest: 0.5600991 (1952)\ttotal: 11.3s\tremaining: 17s\n",
            "2050:\tlearn: 0.5979893\ttest: 0.5979893\ttest1: 0.5576208\tbest: 0.5600991 (1952)\ttotal: 11.6s\tremaining: 16.7s\n",
            "2100:\tlearn: 0.5996419\ttest: 0.5996419\ttest1: 0.5600991\tbest: 0.5600991 (1952)\ttotal: 11.9s\tremaining: 16.4s\n",
            "2150:\tlearn: 0.6008814\ttest: 0.6008814\ttest1: 0.5600991\tbest: 0.5600991 (1952)\ttotal: 12.2s\tremaining: 16.1s\n",
            "2200:\tlearn: 0.6014323\ttest: 0.6014323\ttest1: 0.5576208\tbest: 0.5600991 (1952)\ttotal: 12.5s\tremaining: 15.8s\n",
            "2250:\tlearn: 0.6015700\ttest: 0.6015700\ttest1: 0.5600991\tbest: 0.5600991 (1952)\ttotal: 12.7s\tremaining: 15.6s\n",
            "2300:\tlearn: 0.6023964\ttest: 0.6023964\ttest1: 0.5588600\tbest: 0.5600991 (1952)\ttotal: 13s\tremaining: 15.3s\n",
            "2350:\tlearn: 0.6025341\ttest: 0.6025341\ttest1: 0.5600991\tbest: 0.5600991 (1952)\ttotal: 13.3s\tremaining: 15s\n",
            "2400:\tlearn: 0.6037736\ttest: 0.6037736\ttest1: 0.5600991\tbest: 0.5613383 (2393)\ttotal: 13.6s\tremaining: 14.7s\n",
            "2450:\tlearn: 0.6044622\ttest: 0.6044622\ttest1: 0.5588600\tbest: 0.5613383 (2393)\ttotal: 13.9s\tremaining: 14.5s\n",
            "2500:\tlearn: 0.6061149\ttest: 0.6061149\ttest1: 0.5576208\tbest: 0.5613383 (2393)\ttotal: 14.2s\tremaining: 14.2s\n",
            "2550:\tlearn: 0.6076298\ttest: 0.6076298\ttest1: 0.5576208\tbest: 0.5613383 (2393)\ttotal: 14.5s\tremaining: 13.9s\n",
            "2600:\tlearn: 0.6079052\ttest: 0.6079052\ttest1: 0.5600991\tbest: 0.5613383 (2393)\ttotal: 14.7s\tremaining: 13.6s\n",
            "2650:\tlearn: 0.6084561\ttest: 0.6084561\ttest1: 0.5588600\tbest: 0.5613383 (2393)\ttotal: 15s\tremaining: 13.3s\n",
            "2700:\tlearn: 0.6092825\ttest: 0.6092825\ttest1: 0.5687732\tbest: 0.5687732 (2700)\ttotal: 15.3s\tremaining: 13s\n",
            "2750:\tlearn: 0.6110729\ttest: 0.6110729\ttest1: 0.5675341\tbest: 0.5687732 (2700)\ttotal: 15.6s\tremaining: 12.8s\n",
            "2800:\tlearn: 0.6112106\ttest: 0.6112106\ttest1: 0.5662949\tbest: 0.5687732 (2700)\ttotal: 15.9s\tremaining: 12.5s\n",
            "2850:\tlearn: 0.6128632\ttest: 0.6128632\ttest1: 0.5625774\tbest: 0.5687732 (2700)\ttotal: 16.2s\tremaining: 12.2s\n",
            "2900:\tlearn: 0.6146536\ttest: 0.6146536\ttest1: 0.5650558\tbest: 0.5687732 (2700)\ttotal: 16.5s\tremaining: 11.9s\n",
            "2950:\tlearn: 0.6157554\ttest: 0.6157554\ttest1: 0.5650558\tbest: 0.5687732 (2700)\ttotal: 16.7s\tremaining: 11.6s\n",
            "3000:\tlearn: 0.6164440\ttest: 0.6164440\ttest1: 0.5638166\tbest: 0.5687732 (2700)\ttotal: 17s\tremaining: 11.3s\n",
            "3050:\tlearn: 0.6175458\ttest: 0.6175458\ttest1: 0.5650558\tbest: 0.5687732 (2700)\ttotal: 17.3s\tremaining: 11.1s\n",
            "3100:\tlearn: 0.6172703\ttest: 0.6172703\ttest1: 0.5650558\tbest: 0.5687732 (2700)\ttotal: 17.6s\tremaining: 10.8s\n",
            "3150:\tlearn: 0.6187853\ttest: 0.6187853\ttest1: 0.5638166\tbest: 0.5687732 (2700)\ttotal: 17.9s\tremaining: 10.5s\n",
            "3200:\tlearn: 0.6196116\ttest: 0.6196116\ttest1: 0.5625774\tbest: 0.5687732 (2700)\ttotal: 18.2s\tremaining: 10.2s\n",
            "3250:\tlearn: 0.6194739\ttest: 0.6194739\ttest1: 0.5600991\tbest: 0.5687732 (2700)\ttotal: 18.4s\tremaining: 9.93s\n",
            "3300:\tlearn: 0.6203002\ttest: 0.6203002\ttest1: 0.5600991\tbest: 0.5687732 (2700)\ttotal: 18.7s\tremaining: 9.64s\n",
            "3350:\tlearn: 0.6215397\ttest: 0.6215397\ttest1: 0.5600991\tbest: 0.5687732 (2700)\ttotal: 19s\tremaining: 9.36s\n",
            "3400:\tlearn: 0.6223661\ttest: 0.6223661\ttest1: 0.5600991\tbest: 0.5687732 (2700)\ttotal: 19.3s\tremaining: 9.07s\n",
            "3450:\tlearn: 0.6229170\ttest: 0.6229170\ttest1: 0.5600991\tbest: 0.5687732 (2700)\ttotal: 19.6s\tremaining: 8.79s\n",
            "3500:\tlearn: 0.6236056\ttest: 0.6236056\ttest1: 0.5625774\tbest: 0.5687732 (2700)\ttotal: 19.9s\tremaining: 8.51s\n",
            "3550:\tlearn: 0.6247073\ttest: 0.6247073\ttest1: 0.5563817\tbest: 0.5687732 (2700)\ttotal: 20.2s\tremaining: 8.23s\n",
            "3600:\tlearn: 0.6259468\ttest: 0.6259468\ttest1: 0.5576208\tbest: 0.5687732 (2700)\ttotal: 20.5s\tremaining: 7.95s\n",
            "3650:\tlearn: 0.6275995\ttest: 0.6275995\ttest1: 0.5563817\tbest: 0.5687732 (2700)\ttotal: 20.7s\tremaining: 7.66s\n",
            "3700:\tlearn: 0.6288390\ttest: 0.6288390\ttest1: 0.5563817\tbest: 0.5687732 (2700)\ttotal: 21s\tremaining: 7.38s\n",
            "Stopped by overfitting detector  (1000 iterations wait)\n",
            "\n",
            "bestTest = 0.5687732342\n",
            "bestIteration = 2700\n",
            "\n",
            "Shrink model to first 2701 iterations.\n"
          ],
          "name": "stdout"
        },
        {
          "output_type": "execute_result",
          "data": {
            "text/plain": [
              "<catboost.core.CatBoostClassifier at 0x7f4bae68f6a0>"
            ]
          },
          "metadata": {
            "tags": []
          },
          "execution_count": 22
        }
      ]
    },
    {
      "cell_type": "code",
      "metadata": {
        "id": "zl_Gktq_S_Id",
        "colab_type": "code",
        "colab": {
          "base_uri": "https://localhost:8080/",
          "height": 33
        },
        "outputId": "43e399b3-bc65-43db-e772-004032be85ca"
      },
      "source": [
        "predictions = cat.predict(X_cv)\n",
        "print('accuracy:', accuracy_score(y_cv, predictions))"
      ],
      "execution_count": null,
      "outputs": [
        {
          "output_type": "stream",
          "text": [
            "accuracy: 0.5687732342007435\n"
          ],
          "name": "stdout"
        }
      ]
    },
    {
      "cell_type": "code",
      "metadata": {
        "id": "Zd07814Dgipm",
        "colab_type": "code",
        "colab": {
          "base_uri": "https://localhost:8080/",
          "height": 1000
        },
        "outputId": "605f5208-4b6a-4a26-f19c-1281887086e3"
      },
      "source": [
        "import seaborn as sns\n",
        "feature_imp = pd.DataFrame(sorted(zip(cat.feature_importances_, X.columns), reverse=True)[:50], \n",
        "                           columns=['Value','Feature'])\n",
        "plt.figure(figsize=(15,15))\n",
        "sns.barplot(x=\"Value\", y=\"Feature\", data=feature_imp.sort_values(by=\"Value\", ascending=False))\n",
        "plt.title('Catboost Features')\n",
        "plt.tight_layout()\n",
        "plt.show()"
      ],
      "execution_count": null,
      "outputs": [
        {
          "output_type": "stream",
          "text": [
            "/usr/local/lib/python3.6/dist-packages/statsmodels/tools/_testing.py:19: FutureWarning: pandas.util.testing is deprecated. Use the functions in the public API at pandas.testing instead.\n",
            "  import pandas.util.testing as tm\n"
          ],
          "name": "stderr"
        },
        {
          "output_type": "display_data",
          "data": {
            "image/png": "[encoded data removed]",
            "text/plain": [
              "<Figure size 1080x1080 with 1 Axes>"
            ]
          },
          "metadata": {
            "tags": [],
            "needs_background": "light"
          }
        }
      ]
    },
    {
      "cell_type": "code",
      "metadata": {
        "id": "F92smSvKhYdq",
        "colab_type": "code",
        "colab": {}
      },
      "source": [
        "Xtest = test_df"
      ],
      "execution_count": null,
      "outputs": []
    },
    {
      "cell_type": "code",
      "metadata": {
        "id": "Rt2H3B4chdDz",
        "colab_type": "code",
        "colab": {
          "base_uri": "https://localhost:8080/",
          "height": 117
        },
        "outputId": "053e18ff-0af7-4e94-a0ca-54e81bd523b1"
      },
      "source": [
        "from sklearn.model_selection import KFold\n",
        "\n",
        "errcat = []\n",
        "y_pred_totcat = []\n",
        "\n",
        "fold = KFold(n_splits=10, shuffle=True, random_state=42)\n",
        "\n",
        "for train_index, test_index in fold.split(X):\n",
        "    X_train, X_test = X.loc[train_index], X.loc[test_index]\n",
        "    y_train, y_test = y[train_index], y[test_index]\n",
        "    \n",
        "    cat = CatBoostClassifier(loss_function='MultiClass', \n",
        "                         eval_metric='Accuracy', \n",
        "                         depth=6,\n",
        "                         random_seed=42, \n",
        "                         iterations=1000, \n",
        "                         learning_rate=0.1,\n",
        "                         leaf_estimation_iterations=1,\n",
        "                         l2_leaf_reg=1, \n",
        "                         bootstrap_type='Bayesian', \n",
        "                         bagging_temperature=1, \n",
        "                         random_strength=1,\n",
        "                         od_type='Iter', \n",
        "                         od_wait=200)\n",
        "    cat.fit(X_train, y_train, eval_set=[(X_test, y_test)], verbose=0, early_stopping_rounds=200, cat_features=categorical_features_indices)\n",
        "\n",
        "    y_pred_cat = cat.predict(X_test)\n",
        "    print(\"Accuracy: \", accuracy_score(y_test,y_pred_cat))\n",
        "\n",
        "    errcat.append(accuracy_score(y_test,y_pred_cat))\n",
        "    p = cat.predict(Xtest)\n",
        "    y_pred_totcat.append(p)"
      ],
      "execution_count": null,
      "outputs": [
        {
          "output_type": "stream",
          "text": [
            "Accuracy:  0.5563816604708798\n",
            "Accuracy:  0.5415117719950434\n",
            "Accuracy:  0.5675340768277571\n",
            "Accuracy:  0.5377942998760843\n",
            "Accuracy:  0.5439900867410161\n",
            "Accuracy:  0.5848822800495663\n"
          ],
          "name": "stdout"
        }
      ]
    },
    {
      "cell_type": "code",
      "metadata": {
        "id": "Zbv4VwVIhgQ_",
        "colab_type": "code",
        "colab": {
          "base_uri": "https://localhost:8080/",
          "height": 33
        },
        "outputId": "4d55841c-dd9f-4844-aa5a-7fdd3d375cec"
      },
      "source": [
        "np.mean(errcat,0)"
      ],
      "execution_count": null,
      "outputs": [
        {
          "output_type": "execute_result",
          "data": {
            "text/plain": [
              "0.5550338077799404"
            ]
          },
          "metadata": {
            "tags": []
          },
          "execution_count": 118
        }
      ]
    },
    {
      "cell_type": "code",
      "metadata": {
        "id": "IURrnyB8h2LC",
        "colab_type": "code",
        "colab": {
          "base_uri": "https://localhost:8080/",
          "height": 134
        },
        "outputId": "400efc52-7b3b-4256-a2b4-4a12ca753a19"
      },
      "source": [
        "cat_final = np.mean(y_pred_totcat,0).round().astype(int)\n",
        "cat_final"
      ],
      "execution_count": null,
      "outputs": [
        {
          "output_type": "execute_result",
          "data": {
            "text/plain": [
              "array([[0],\n",
              "       [2],\n",
              "       [0],\n",
              "       ...,\n",
              "       [0],\n",
              "       [1],\n",
              "       [3]])"
            ]
          },
          "metadata": {
            "tags": []
          },
          "execution_count": 119
        }
      ]
    },
    {
      "cell_type": "code",
      "metadata": {
        "id": "JL4OOfrIh56G",
        "colab_type": "code",
        "colab": {
          "base_uri": "https://localhost:8080/",
          "height": 50
        },
        "outputId": "78a98618-2ab9-435a-e2ce-30710f9f00a1"
      },
      "source": [
        "y_pred_class = le.inverse_transform(cat_final)\n",
        "df_sub = pd.DataFrame(data=y_pred_class, columns=['Segmentation'])"
      ],
      "execution_count": null,
      "outputs": [
        {
          "output_type": "stream",
          "text": [
            "/usr/local/lib/python3.6/dist-packages/sklearn/preprocessing/_label.py:289: DataConversionWarning: A column-vector y was passed when a 1d array was expected. Please change the shape of y to (n_samples, ), for example using ravel().\n",
            "  y = column_or_1d(y, warn=True)\n"
          ],
          "name": "stderr"
        }
      ]
    },
    {
      "cell_type": "code",
      "metadata": {
        "id": "oc6QiagWjC8k",
        "colab_type": "code",
        "colab": {
          "base_uri": "https://localhost:8080/",
          "height": 252
        },
        "outputId": "10548827-642a-4f06-e687-97985435e3ee"
      },
      "source": [
        "submission = pd.DataFrame({\n",
        "        #\"breed_category\": test['ID'],\n",
        "        \"pet_category\": df_sub['Segmentation']\n",
        "    })\n",
        "submission.to_csv('./av.csv', index=False)\n",
        "print(submission)"
      ],
      "execution_count": null,
      "outputs": [
        {
          "output_type": "stream",
          "text": [
            "     pet_category\n",
            "0               A\n",
            "1               C\n",
            "2               A\n",
            "3               B\n",
            "4               D\n",
            "...           ...\n",
            "2622            D\n",
            "2623            A\n",
            "2624            A\n",
            "2625            B\n",
            "2626            D\n",
            "\n",
            "[2627 rows x 1 columns]\n"
          ],
          "name": "stdout"
        }
      ]
    },
    {
      "cell_type": "code",
      "metadata": {
        "id": "eGb9nn62jRuM",
        "colab_type": "code",
        "colab": {
          "base_uri": "https://localhost:8080/",
          "height": 16
        },
        "outputId": "8ada44ef-e4a9-4c25-8a52-d57299c33218"
      },
      "source": [
        "from google.colab import files\n",
        "files.download('av.csv')"
      ],
      "execution_count": null,
      "outputs": [
        {
          "output_type": "display_data",
          "data": {
            "application/javascript": [
              "\n",
              "    async function download(id, filename, size) {\n",
              "      if (!google.colab.kernel.accessAllowed) {\n",
              "        return;\n",
              "      }\n",
              "      const div = document.createElement('div');\n",
              "      const label = document.createElement('label');\n",
              "      label.textContent = `Downloading \"${filename}\": `;\n",
              "      div.appendChild(label);\n",
              "      const progress = document.createElement('progress');\n",
              "      progress.max = size;\n",
              "      div.appendChild(progress);\n",
              "      document.body.appendChild(div);\n",
              "\n",
              "      const buffers = [];\n",
              "      let downloaded = 0;\n",
              "\n",
              "      const channel = await google.colab.kernel.comms.open(id);\n",
              "      // Send a message to notify the kernel that we're ready.\n",
              "      channel.send({})\n",
              "\n",
              "      for await (const message of channel.messages) {\n",
              "        // Send a message to notify the kernel that we're ready.\n",
              "        channel.send({})\n",
              "        if (message.buffers) {\n",
              "          for (const buffer of message.buffers) {\n",
              "            buffers.push(buffer);\n",
              "            downloaded += buffer.byteLength;\n",
              "            progress.value = downloaded;\n",
              "          }\n",
              "        }\n",
              "      }\n",
              "      const blob = new Blob(buffers, {type: 'application/binary'});\n",
              "      const a = document.createElement('a');\n",
              "      a.href = window.URL.createObjectURL(blob);\n",
              "      a.download = filename;\n",
              "      div.appendChild(a);\n",
              "      a.click();\n",
              "      div.remove();\n",
              "    }\n",
              "  "
            ],
            "text/plain": [
              "<IPython.core.display.Javascript object>"
            ]
          },
          "metadata": {
            "tags": []
          }
        },
        {
          "output_type": "display_data",
          "data": {
            "application/javascript": [
              "download(\"download_781de01b-2749-422d-b1ff-54ba9b022d7c\", \"av.csv\", 5267)"
            ],
            "text/plain": [
              "<IPython.core.display.Javascript object>"
            ]
          },
          "metadata": {
            "tags": []
          }
        }
      ]
    },
    {
      "cell_type": "markdown",
      "metadata": {
        "id": "uDNWsa8J8djW",
        "colab_type": "text"
      },
      "source": [
        "# DL"
      ]
    },
    {
      "cell_type": "code",
      "metadata": {
        "id": "qjVrX8OgoWqe",
        "colab_type": "code",
        "colab": {}
      },
      "source": [
        "import pandas as pd\n",
        "from fastai import *\n",
        "from fastai.tabular import *"
      ],
      "execution_count": 8,
      "outputs": []
    },
    {
      "cell_type": "code",
      "metadata": {
        "id": "c4QzBvit8t1Z",
        "colab_type": "code",
        "colab": {}
      },
      "source": [
        "train = pd.read_csv('Train_aBjfeNk.csv')\n",
        "test = pd.read_csv('Test_LqhgPWU.csv')"
      ],
      "execution_count": 25,
      "outputs": []
    },
    {
      "cell_type": "code",
      "metadata": {
        "id": "rruiQQEroXKL",
        "colab_type": "code",
        "colab": {}
      },
      "source": [
        "dep_var = 'Segmentation'\n",
        "cat_names = ['ID','Gender', 'Ever_Married', 'Graduated', 'Profession', 'Spending_Score', 'Var_1']\n",
        "cont_names = ['Age', 'Work_Experience', 'Family_Size']\n",
        "procs = [FillMissing, Categorify, Normalize]"
      ],
      "execution_count": 26,
      "outputs": []
    },
    {
      "cell_type": "code",
      "metadata": {
        "id": "jeRKM7DKohYn",
        "colab_type": "code",
        "colab": {
          "base_uri": "https://localhost:8080/",
          "height": 406
        },
        "outputId": "695591da-2771-49bd-ca31-1125b45309c0"
      },
      "source": [
        "# Test Tabular List\n",
        "test = TabularList.from_df(test, cat_names=cat_names, cont_names=cont_names, procs=procs)\n",
        "\n",
        "# Train Data Bunch\n",
        "data = (TabularList.from_df(train, path='.', cat_names=cat_names, cont_names=cont_names, procs=procs)\n",
        "                        .split_by_idx(list(range(0,1300)))\n",
        "                        .label_from_df(cols = dep_var)\n",
        "                        .add_test(test, label=0)\n",
        "                        .databunch())\n",
        "\n",
        "data"
      ],
      "execution_count": 27,
      "outputs": [
        {
          "output_type": "execute_result",
          "data": {
            "text/plain": [
              "TabularDataBunch;\n",
              "\n",
              "Train: LabelList (6768 items)\n",
              "x: TabularList\n",
              "ID 463231; Gender Male; Ever_Married Yes; Graduated Yes; Profession Artist; Spending_Score Average; Var_1 Cat_6; Work_Experience_na False; Family_Size_na False; Age 0.3841; Work_Experience -0.4488; Family_Size 0.1269; ,ID 465863; Gender Male; Ever_Married No; Graduated No; Profession Healthcare; Spending_Score Low; Var_1 Cat_6; Work_Experience_na False; Family_Size_na False; Age -0.9877; Work_Experience 0.7785; Family_Size 0.1269; ,ID 463557; Gender Male; Ever_Married No; Graduated Yes; Profession Doctor; Spending_Score Low; Var_1 Cat_6; Work_Experience_na False; Family_Size_na False; Age -0.9281; Work_Experience -0.4488; Family_Size 0.1269; ,ID 467636; Gender Male; Ever_Married Yes; Graduated Yes; Profession Doctor; Spending_Score Average; Var_1 Cat_6; Work_Experience_na False; Family_Size_na False; Age 0.0859; Work_Experience -0.4488; Family_Size -0.5328; ,ID 463539; Gender Male; Ever_Married Yes; Graduated Yes; Profession Artist; Spending_Score Average; Var_1 Cat_4; Work_Experience_na False; Family_Size_na False; Age 0.9209; Work_Experience -0.4488; Family_Size -0.5328; \n",
              "y: CategoryList\n",
              "A,D,A,C,B\n",
              "Path: .;\n",
              "\n",
              "Valid: LabelList (1300 items)\n",
              "x: TabularList\n",
              "ID #na#; Gender Male; Ever_Married No; Graduated No; Profession Healthcare; Spending_Score Low; Var_1 Cat_4; Work_Experience_na False; Family_Size_na False; Age -1.2859; Work_Experience -0.4488; Family_Size 0.7866; ,ID #na#; Gender Female; Ever_Married Yes; Graduated Yes; Profession Engineer; Spending_Score Average; Var_1 Cat_4; Work_Experience_na True; Family_Size_na False; Age -0.3316; Work_Experience -0.4488; Family_Size 0.1269; ,ID #na#; Gender Female; Ever_Married Yes; Graduated Yes; Profession Engineer; Spending_Score Low; Var_1 Cat_6; Work_Experience_na False; Family_Size_na False; Age 1.3980; Work_Experience -0.4488; Family_Size -1.1925; ,ID #na#; Gender Male; Ever_Married Yes; Graduated Yes; Profession Lawyer; Spending_Score High; Var_1 Cat_6; Work_Experience_na False; Family_Size_na False; Age 1.3980; Work_Experience -0.7556; Family_Size -0.5328; ,ID #na#; Gender Female; Ever_Married Yes; Graduated Yes; Profession Entertainment; Spending_Score High; Var_1 Cat_6; Work_Experience_na True; Family_Size_na False; Age -0.2123; Work_Experience -0.4488; Family_Size 2.1061; \n",
              "y: CategoryList\n",
              "D,A,B,B,A\n",
              "Path: .;\n",
              "\n",
              "Test: LabelList (2627 items)\n",
              "x: TabularList\n",
              "ID 458989; Gender Female; Ever_Married Yes; Graduated Yes; Profession Engineer; Spending_Score Low; Var_1 Cat_6; Work_Experience_na False; Family_Size_na False; Age -0.4509; Work_Experience -0.7556; Family_Size -1.1925; ,ID 458994; Gender Male; Ever_Married Yes; Graduated Yes; Profession Healthcare; Spending_Score Average; Var_1 Cat_6; Work_Experience_na False; Family_Size_na False; Age -0.3913; Work_Experience 1.6989; Family_Size 0.7866; ,ID 458996; Gender Female; Ever_Married Yes; Graduated No; Profession #na#; Spending_Score Low; Var_1 Cat_6; Work_Experience_na False; Family_Size_na False; Age 1.5173; Work_Experience -0.7556; Family_Size -1.1925; ,ID 459000; Gender Male; Ever_Married Yes; Graduated No; Profession Executive; Spending_Score High; Var_1 Cat_6; Work_Experience_na False; Family_Size_na False; Age 0.9209; Work_Experience 2.6194; Family_Size -0.5328; ,ID 459001; Gender Female; Ever_Married No; Graduated No; Profession Marketing; Spending_Score Low; Var_1 Cat_6; Work_Experience_na True; Family_Size_na False; Age -1.4648; Work_Experience -0.4488; Family_Size 0.7866; \n",
              "y: CategoryList\n",
              "0,0,0,0,0\n",
              "Path: ."
            ]
          },
          "metadata": {
            "tags": []
          },
          "execution_count": 27
        }
      ]
    },
    {
      "cell_type": "code",
      "metadata": {
        "id": "ZXMpmJa0okQr",
        "colab_type": "code",
        "colab": {
          "base_uri": "https://localhost:8080/",
          "height": 372
        },
        "outputId": "d73a3ac3-54f3-4c8e-8cef-5be8d1109bdb"
      },
      "source": [
        "# Create deep learning model\n",
        "learn = tabular_learner(data, layers=[100,500,300], metrics=[accuracy], emb_drop=0.4, callback_fns=ShowGraph)\n",
        "\n",
        "# select the appropriate learning rate\n",
        "learn.lr_find()\n",
        "\n",
        "# we typically find the point where the slope is steepest\n",
        "learn.recorder.plot()"
      ],
      "execution_count": 28,
      "outputs": [
        {
          "output_type": "display_data",
          "data": {
            "text/html": [
              "\n",
              "    <div>\n",
              "        <style>\n",
              "            /* Turns off some styling */\n",
              "            progress {\n",
              "                /* gets rid of default border in Firefox and Opera. */\n",
              "                border: none;\n",
              "                /* Needs to be in here for Safari polyfill so background images work as expected. */\n",
              "                background-size: auto;\n",
              "            }\n",
              "            .progress-bar-interrupted, .progress-bar-interrupted::-webkit-progress-bar {\n",
              "                background: #F44336;\n",
              "            }\n",
              "        </style>\n",
              "      <progress value='0' class='' max='1' style='width:300px; height:20px; vertical-align: middle;'></progress>\n",
              "      0.00% [0/1 00:00<00:00]\n",
              "    </div>\n",
              "    \n",
              "<table border=\"1\" class=\"dataframe\">\n",
              "  <thead>\n",
              "    <tr style=\"text-align: left;\">\n",
              "      <th>epoch</th>\n",
              "      <th>train_loss</th>\n",
              "      <th>valid_loss</th>\n",
              "      <th>accuracy</th>\n",
              "      <th>time</th>\n",
              "    </tr>\n",
              "  </thead>\n",
              "  <tbody>\n",
              "  </tbody>\n",
              "</table><p>\n",
              "\n",
              "    <div>\n",
              "        <style>\n",
              "            /* Turns off some styling */\n",
              "            progress {\n",
              "                /* gets rid of default border in Firefox and Opera. */\n",
              "                border: none;\n",
              "                /* Needs to be in here for Safari polyfill so background images work as expected. */\n",
              "                background-size: auto;\n",
              "            }\n",
              "            .progress-bar-interrupted, .progress-bar-interrupted::-webkit-progress-bar {\n",
              "                background: #F44336;\n",
              "            }\n",
              "        </style>\n",
              "      <progress value='81' class='' max='105' style='width:300px; height:20px; vertical-align: middle;'></progress>\n",
              "      77.14% [81/105 00:01<00:00 1.4638]\n",
              "    </div>\n",
              "    "
            ],
            "text/plain": [
              "<IPython.core.display.HTML object>"
            ]
          },
          "metadata": {
            "tags": []
          }
        },
        {
          "output_type": "stream",
          "text": [
            "LR Finder is complete, type {learner_name}.recorder.plot() to see the graph.\n"
          ],
          "name": "stdout"
        },
        {
          "output_type": "display_data",
          "data": {
            "image/png": "[encoded data removed]",
            "text/plain": [
              "<Figure size 432x288 with 1 Axes>"
            ]
          },
          "metadata": {
            "tags": [],
            "needs_background": "light"
          }
        }
      ]
    },
    {
      "cell_type": "code",
      "metadata": {
        "id": "nZijOQxJonmV",
        "colab_type": "code",
        "colab": {
          "base_uri": "https://localhost:8080/",
          "height": 988
        },
        "outputId": "712c00e0-f10f-421a-c2ac-89c15d852b0a"
      },
      "source": [
        "\n",
        "# Fit the model based on selected learning rate\n",
        "learn.fit_one_cycle(15, max_lr=slice(1e-01))\n",
        "\n",
        "# Analyse our model\n",
        "learn.model\n",
        "learn.recorder.plot_losses()"
      ],
      "execution_count": null,
      "outputs": [
        {
          "output_type": "display_data",
          "data": {
            "text/html": [
              "<table border=\"1\" class=\"dataframe\">\n",
              "  <thead>\n",
              "    <tr style=\"text-align: left;\">\n",
              "      <th>epoch</th>\n",
              "      <th>train_loss</th>\n",
              "      <th>valid_loss</th>\n",
              "      <th>accuracy</th>\n",
              "      <th>time</th>\n",
              "    </tr>\n",
              "  </thead>\n",
              "  <tbody>\n",
              "    <tr>\n",
              "      <td>0</td>\n",
              "      <td>1.243717</td>\n",
              "      <td>1.212590</td>\n",
              "      <td>0.457692</td>\n",
              "      <td>00:01</td>\n",
              "    </tr>\n",
              "    <tr>\n",
              "      <td>1</td>\n",
              "      <td>0.859181</td>\n",
              "      <td>1.315483</td>\n",
              "      <td>0.485385</td>\n",
              "      <td>00:01</td>\n",
              "    </tr>\n",
              "    <tr>\n",
              "      <td>2</td>\n",
              "      <td>0.512109</td>\n",
              "      <td>1.436069</td>\n",
              "      <td>0.450769</td>\n",
              "      <td>00:01</td>\n",
              "    </tr>\n",
              "    <tr>\n",
              "      <td>3</td>\n",
              "      <td>0.356314</td>\n",
              "      <td>1.372674</td>\n",
              "      <td>0.443077</td>\n",
              "      <td>00:01</td>\n",
              "    </tr>\n",
              "    <tr>\n",
              "      <td>4</td>\n",
              "      <td>0.315347</td>\n",
              "      <td>1.678577</td>\n",
              "      <td>0.463846</td>\n",
              "      <td>00:01</td>\n",
              "    </tr>\n",
              "    <tr>\n",
              "      <td>5</td>\n",
              "      <td>0.236977</td>\n",
              "      <td>1.526583</td>\n",
              "      <td>0.500000</td>\n",
              "      <td>00:01</td>\n",
              "    </tr>\n",
              "    <tr>\n",
              "      <td>6</td>\n",
              "      <td>0.211159</td>\n",
              "      <td>2.685166</td>\n",
              "      <td>0.490000</td>\n",
              "      <td>00:01</td>\n",
              "    </tr>\n",
              "    <tr>\n",
              "      <td>7</td>\n",
              "      <td>0.184731</td>\n",
              "      <td>1.462696</td>\n",
              "      <td>0.498462</td>\n",
              "      <td>00:01</td>\n",
              "    </tr>\n",
              "    <tr>\n",
              "      <td>8</td>\n",
              "      <td>0.134483</td>\n",
              "      <td>1.368500</td>\n",
              "      <td>0.513846</td>\n",
              "      <td>00:01</td>\n",
              "    </tr>\n",
              "    <tr>\n",
              "      <td>9</td>\n",
              "      <td>0.079369</td>\n",
              "      <td>1.507191</td>\n",
              "      <td>0.520000</td>\n",
              "      <td>00:01</td>\n",
              "    </tr>\n",
              "    <tr>\n",
              "      <td>10</td>\n",
              "      <td>0.042609</td>\n",
              "      <td>1.487481</td>\n",
              "      <td>0.496154</td>\n",
              "      <td>00:01</td>\n",
              "    </tr>\n",
              "    <tr>\n",
              "      <td>11</td>\n",
              "      <td>0.024165</td>\n",
              "      <td>1.623080</td>\n",
              "      <td>0.504615</td>\n",
              "      <td>00:01</td>\n",
              "    </tr>\n",
              "    <tr>\n",
              "      <td>12</td>\n",
              "      <td>0.015255</td>\n",
              "      <td>1.721668</td>\n",
              "      <td>0.487692</td>\n",
              "      <td>00:01</td>\n",
              "    </tr>\n",
              "    <tr>\n",
              "      <td>13</td>\n",
              "      <td>0.006720</td>\n",
              "      <td>1.687938</td>\n",
              "      <td>0.493077</td>\n",
              "      <td>00:01</td>\n",
              "    </tr>\n",
              "    <tr>\n",
              "      <td>14</td>\n",
              "      <td>0.005498</td>\n",
              "      <td>1.641299</td>\n",
              "      <td>0.501538</td>\n",
              "      <td>00:01</td>\n",
              "    </tr>\n",
              "  </tbody>\n",
              "</table>"
            ],
            "text/plain": [
              "<IPython.core.display.HTML object>"
            ]
          },
          "metadata": {
            "tags": []
          }
        },
        {
          "output_type": "display_data",
          "data": {
            "image/png": "[encoded data removed]",
            "text/plain": [
              "<Figure size 432x288 with 1 Axes>"
            ]
          },
          "metadata": {
            "tags": []
          }
        },
        {
          "output_type": "display_data",
          "data": {
            "image/png": "[encoded data removed]",
            "text/plain": [
              "<Figure size 432x288 with 1 Axes>"
            ]
          },
          "metadata": {
            "tags": [],
            "needs_background": "light"
          }
        }
      ]
    },
    {
      "cell_type": "code",
      "metadata": {
        "id": "tm5b_nUYpiaf",
        "colab_type": "code",
        "colab": {
          "base_uri": "https://localhost:8080/",
          "height": 16
        },
        "outputId": "72a2a9ca-493b-42f7-82ec-6dd0ca08828f"
      },
      "source": [
        "\n",
        "# Predict our target value\n",
        "predictions, *_ = learn.get_preds(DatasetType.Test)"
      ],
      "execution_count": null,
      "outputs": [
        {
          "output_type": "display_data",
          "data": {
            "text/html": [
              ""
            ],
            "text/plain": [
              "<IPython.core.display.HTML object>"
            ]
          },
          "metadata": {
            "tags": []
          }
        }
      ]
    },
    {
      "cell_type": "code",
      "metadata": {
        "id": "DaYXliNuqCu_",
        "colab_type": "code",
        "colab": {
          "base_uri": "https://localhost:8080/",
          "height": 33
        },
        "outputId": "bb2b7d18-4f6c-4d82-fce1-70b07c863c12"
      },
      "source": [
        "\n",
        "seg_index = np.argmax(predictions, axis=1);seg_index"
      ],
      "execution_count": null,
      "outputs": [
        {
          "output_type": "execute_result",
          "data": {
            "text/plain": [
              "tensor([1, 2, 0,  ..., 0, 1, 3])"
            ]
          },
          "metadata": {
            "tags": []
          },
          "execution_count": 47
        }
      ]
    },
    {
      "cell_type": "code",
      "metadata": {
        "id": "tf3opC0qqGe7",
        "colab_type": "code",
        "colab": {
          "base_uri": "https://localhost:8080/",
          "height": 33
        },
        "outputId": "7791e228-8c22-4362-e5bd-fec53a1e28a3"
      },
      "source": [
        "\n",
        "learn.data.classes"
      ],
      "execution_count": null,
      "outputs": [
        {
          "output_type": "execute_result",
          "data": {
            "text/plain": [
              "['A', 'B', 'C', 'D']"
            ]
          },
          "metadata": {
            "tags": []
          },
          "execution_count": 48
        }
      ]
    },
    {
      "cell_type": "code",
      "metadata": {
        "id": "SCCBRjuGqI7w",
        "colab_type": "code",
        "colab": {}
      },
      "source": [
        "data = []\n",
        "for i in seg_index:\n",
        "  data.append(learn.data.classes[i])"
      ],
      "execution_count": null,
      "outputs": []
    },
    {
      "cell_type": "code",
      "metadata": {
        "id": "sQSyiXflqLiD",
        "colab_type": "code",
        "colab": {}
      },
      "source": [
        "submission = pd.DataFrame(columns=['Segmentation'])\n",
        "# Write submission file to score\n",
        "#submission['ID'] = test['ID']\n",
        "submission['Segmentation'] = data\n",
        "submission.to_csv('x4.csv', header=True, index=False)"
      ],
      "execution_count": null,
      "outputs": []
    },
    {
      "cell_type": "code",
      "metadata": {
        "id": "ffjNbrwkqO2v",
        "colab_type": "code",
        "colab": {
          "base_uri": "https://localhost:8080/",
          "height": 104
        },
        "outputId": "6638ad4e-f5a7-44bc-e353-11d12bf8d83b"
      },
      "source": [
        "submission.head(2)"
      ],
      "execution_count": null,
      "outputs": [
        {
          "output_type": "execute_result",
          "data": {
            "text/html": [
              "<div>\n",
              "<style scoped>\n",
              "    .dataframe tbody tr th:only-of-type {\n",
              "        vertical-align: middle;\n",
              "    }\n",
              "\n",
              "    .dataframe tbody tr th {\n",
              "        vertical-align: top;\n",
              "    }\n",
              "\n",
              "    .dataframe thead th {\n",
              "        text-align: right;\n",
              "    }\n",
              "</style>\n",
              "<table border=\"1\" class=\"dataframe\">\n",
              "  <thead>\n",
              "    <tr style=\"text-align: right;\">\n",
              "      <th></th>\n",
              "      <th>Segmentation</th>\n",
              "    </tr>\n",
              "  </thead>\n",
              "  <tbody>\n",
              "    <tr>\n",
              "      <th>0</th>\n",
              "      <td>B</td>\n",
              "    </tr>\n",
              "    <tr>\n",
              "      <th>1</th>\n",
              "      <td>C</td>\n",
              "    </tr>\n",
              "  </tbody>\n",
              "</table>\n",
              "</div>"
            ],
            "text/plain": [
              "  Segmentation\n",
              "0            B\n",
              "1            C"
            ]
          },
          "metadata": {
            "tags": []
          },
          "execution_count": 21
        }
      ]
    },
    {
      "cell_type": "code",
      "metadata": {
        "id": "xJ4oiUnjrZ44",
        "colab_type": "code",
        "colab": {}
      },
      "source": [
        "import pandas as pd\n",
        "from fastai import *\n",
        "from fastai.tabular import *"
      ],
      "execution_count": null,
      "outputs": []
    },
    {
      "cell_type": "code",
      "metadata": {
        "id": "ItRZX6HZruhR",
        "colab_type": "code",
        "colab": {}
      },
      "source": [
        "# Declaring dependent, Categorical and Continuous Variables\n",
        "dep_var = 'Segmentation'\n",
        "cat_names = ['ID','Gender', 'Ever_Married', 'Graduated', 'Profession', 'Spending_Score', 'Var_1']\n",
        "cont_names = ['Age', 'Work_Experience', 'Family_Size']\n",
        "procs = [FillMissing, Categorify, Normalize]"
      ],
      "execution_count": null,
      "outputs": []
    },
    {
      "cell_type": "code",
      "metadata": {
        "id": "I4W0lYybUkN7",
        "colab_type": "code",
        "colab": {}
      },
      "source": [
        "test = TabularList.from_df(test, cat_names=cat_names, cont_names=cont_names, procs=procs)\n",
        "\n",
        "# Train Data Bunch\n",
        "data = (TabularList.from_df(train, path='.', cat_names=cat_names, cont_names=cont_names, procs=procs)\n",
        "                        .split_by_idx(list(range(0,1200)))\n",
        "                        .label_from_df(cols = dep_var)\n",
        "                        .add_test(test, label=0)\n",
        "                        .databunch())\n",
        "\n",
        "data"
      ],
      "execution_count": null,
      "outputs": []
    },
    {
      "cell_type": "code",
      "metadata": {
        "id": "XgmPHcqDUny4",
        "colab_type": "code",
        "colab": {}
      },
      "source": [
        "\n",
        "learn = tabular_learner(data, layers=[100, 5000, 450,350,300], metrics=accuracy, emb_drop=0.3, callback_fns=ShowGraph)\n",
        "\n",
        "learn.lr_find()\n",
        "learn.recorder.plot()"
      ],
      "execution_count": null,
      "outputs": []
    },
    {
      "cell_type": "code",
      "metadata": {
        "id": "KzuNSTkAszTm",
        "colab_type": "code",
        "colab": {
          "base_uri": "https://localhost:8080/",
          "height": 1000
        },
        "outputId": "9bee875d-479a-44e1-eeb8-779f26c9cd9b"
      },
      "source": [
        "\n",
        "learn.fit_one_cycle(25, max_lr=slice(1e-05))\n",
        "\n",
        "learn.model\n",
        "learn.recorder.plot_losses()"
      ],
      "execution_count": null,
      "outputs": [
        {
          "output_type": "display_data",
          "data": {
            "text/html": [
              "<table border=\"1\" class=\"dataframe\">\n",
              "  <thead>\n",
              "    <tr style=\"text-align: left;\">\n",
              "      <th>epoch</th>\n",
              "      <th>train_loss</th>\n",
              "      <th>valid_loss</th>\n",
              "      <th>accuracy</th>\n",
              "      <th>time</th>\n",
              "    </tr>\n",
              "  </thead>\n",
              "  <tbody>\n",
              "    <tr>\n",
              "      <td>0</td>\n",
              "      <td>1.255449</td>\n",
              "      <td>1.233957</td>\n",
              "      <td>0.432000</td>\n",
              "      <td>00:04</td>\n",
              "    </tr>\n",
              "    <tr>\n",
              "      <td>1</td>\n",
              "      <td>1.213468</td>\n",
              "      <td>1.224263</td>\n",
              "      <td>0.446000</td>\n",
              "      <td>00:04</td>\n",
              "    </tr>\n",
              "    <tr>\n",
              "      <td>2</td>\n",
              "      <td>1.223670</td>\n",
              "      <td>1.258152</td>\n",
              "      <td>0.434000</td>\n",
              "      <td>00:04</td>\n",
              "    </tr>\n",
              "    <tr>\n",
              "      <td>3</td>\n",
              "      <td>1.197141</td>\n",
              "      <td>1.276089</td>\n",
              "      <td>0.420000</td>\n",
              "      <td>00:04</td>\n",
              "    </tr>\n",
              "    <tr>\n",
              "      <td>4</td>\n",
              "      <td>1.204001</td>\n",
              "      <td>1.301757</td>\n",
              "      <td>0.412000</td>\n",
              "      <td>00:04</td>\n",
              "    </tr>\n",
              "    <tr>\n",
              "      <td>5</td>\n",
              "      <td>1.185128</td>\n",
              "      <td>1.268296</td>\n",
              "      <td>0.444000</td>\n",
              "      <td>00:04</td>\n",
              "    </tr>\n",
              "    <tr>\n",
              "      <td>6</td>\n",
              "      <td>1.166646</td>\n",
              "      <td>1.274291</td>\n",
              "      <td>0.446000</td>\n",
              "      <td>00:04</td>\n",
              "    </tr>\n",
              "    <tr>\n",
              "      <td>7</td>\n",
              "      <td>1.119718</td>\n",
              "      <td>1.303911</td>\n",
              "      <td>0.436000</td>\n",
              "      <td>00:04</td>\n",
              "    </tr>\n",
              "    <tr>\n",
              "      <td>8</td>\n",
              "      <td>1.075046</td>\n",
              "      <td>1.278688</td>\n",
              "      <td>0.428000</td>\n",
              "      <td>00:04</td>\n",
              "    </tr>\n",
              "    <tr>\n",
              "      <td>9</td>\n",
              "      <td>1.023258</td>\n",
              "      <td>1.313584</td>\n",
              "      <td>0.422000</td>\n",
              "      <td>00:04</td>\n",
              "    </tr>\n",
              "    <tr>\n",
              "      <td>10</td>\n",
              "      <td>0.957219</td>\n",
              "      <td>1.311416</td>\n",
              "      <td>0.442000</td>\n",
              "      <td>00:04</td>\n",
              "    </tr>\n",
              "    <tr>\n",
              "      <td>11</td>\n",
              "      <td>0.894922</td>\n",
              "      <td>1.336078</td>\n",
              "      <td>0.420000</td>\n",
              "      <td>00:04</td>\n",
              "    </tr>\n",
              "    <tr>\n",
              "      <td>12</td>\n",
              "      <td>0.812227</td>\n",
              "      <td>1.447777</td>\n",
              "      <td>0.436000</td>\n",
              "      <td>00:04</td>\n",
              "    </tr>\n",
              "    <tr>\n",
              "      <td>13</td>\n",
              "      <td>0.755918</td>\n",
              "      <td>1.486515</td>\n",
              "      <td>0.396000</td>\n",
              "      <td>00:04</td>\n",
              "    </tr>\n",
              "    <tr>\n",
              "      <td>14</td>\n",
              "      <td>0.646567</td>\n",
              "      <td>1.560032</td>\n",
              "      <td>0.410000</td>\n",
              "      <td>00:04</td>\n",
              "    </tr>\n",
              "    <tr>\n",
              "      <td>15</td>\n",
              "      <td>0.587945</td>\n",
              "      <td>1.592387</td>\n",
              "      <td>0.394000</td>\n",
              "      <td>00:04</td>\n",
              "    </tr>\n",
              "    <tr>\n",
              "      <td>16</td>\n",
              "      <td>0.518266</td>\n",
              "      <td>1.624997</td>\n",
              "      <td>0.444000</td>\n",
              "      <td>00:04</td>\n",
              "    </tr>\n",
              "    <tr>\n",
              "      <td>17</td>\n",
              "      <td>0.460095</td>\n",
              "      <td>1.589490</td>\n",
              "      <td>0.426000</td>\n",
              "      <td>00:04</td>\n",
              "    </tr>\n",
              "    <tr>\n",
              "      <td>18</td>\n",
              "      <td>0.408866</td>\n",
              "      <td>1.694857</td>\n",
              "      <td>0.420000</td>\n",
              "      <td>00:04</td>\n",
              "    </tr>\n",
              "    <tr>\n",
              "      <td>19</td>\n",
              "      <td>0.371450</td>\n",
              "      <td>1.818428</td>\n",
              "      <td>0.428000</td>\n",
              "      <td>00:04</td>\n",
              "    </tr>\n",
              "    <tr>\n",
              "      <td>20</td>\n",
              "      <td>0.346684</td>\n",
              "      <td>1.751482</td>\n",
              "      <td>0.426000</td>\n",
              "      <td>00:04</td>\n",
              "    </tr>\n",
              "    <tr>\n",
              "      <td>21</td>\n",
              "      <td>0.314610</td>\n",
              "      <td>1.762327</td>\n",
              "      <td>0.442000</td>\n",
              "      <td>00:04</td>\n",
              "    </tr>\n",
              "    <tr>\n",
              "      <td>22</td>\n",
              "      <td>0.289114</td>\n",
              "      <td>1.755290</td>\n",
              "      <td>0.420000</td>\n",
              "      <td>00:04</td>\n",
              "    </tr>\n",
              "    <tr>\n",
              "      <td>23</td>\n",
              "      <td>0.276079</td>\n",
              "      <td>1.805962</td>\n",
              "      <td>0.426000</td>\n",
              "      <td>00:04</td>\n",
              "    </tr>\n",
              "    <tr>\n",
              "      <td>24</td>\n",
              "      <td>0.271853</td>\n",
              "      <td>1.732394</td>\n",
              "      <td>0.420000</td>\n",
              "      <td>00:04</td>\n",
              "    </tr>\n",
              "  </tbody>\n",
              "</table>"
            ],
            "text/plain": [
              "<IPython.core.display.HTML object>"
            ]
          },
          "metadata": {
            "tags": []
          }
        },
        {
          "output_type": "display_data",
          "data": {
            "image/png": "[encoded data removed]",
            "text/plain": [
              "<Figure size 432x288 with 1 Axes>"
            ]
          },
          "metadata": {
            "tags": []
          }
        },
        {
          "output_type": "display_data",
          "data": {
            "image/png": "[encoded data removed]",
            "text/plain": [
              "<Figure size 432x288 with 1 Axes>"
            ]
          },
          "metadata": {
            "tags": [],
            "needs_background": "light"
          }
        }
      ]
    },
    {
      "cell_type": "code",
      "metadata": {
        "id": "J9-Zf2jbszST",
        "colab_type": "code",
        "colab": {
          "base_uri": "https://localhost:8080/",
          "height": 372
        },
        "outputId": "22f75f69-a7fe-46b4-cd3e-8a0571dca383"
      },
      "source": [
        "learn.lr_find()\n",
        "learn.recorder.plot()"
      ],
      "execution_count": null,
      "outputs": [
        {
          "output_type": "display_data",
          "data": {
            "text/html": [
              "\n",
              "    <div>\n",
              "        <style>\n",
              "            /* Turns off some styling */\n",
              "            progress {\n",
              "                /* gets rid of default border in Firefox and Opera. */\n",
              "                border: none;\n",
              "                /* Needs to be in here for Safari polyfill so background images work as expected. */\n",
              "                background-size: auto;\n",
              "            }\n",
              "            .progress-bar-interrupted, .progress-bar-interrupted::-webkit-progress-bar {\n",
              "                background: #F44336;\n",
              "            }\n",
              "        </style>\n",
              "      <progress value='0' class='' max='2' style='width:300px; height:20px; vertical-align: middle;'></progress>\n",
              "      0.00% [0/2 00:00<00:00]\n",
              "    </div>\n",
              "    \n",
              "<table border=\"1\" class=\"dataframe\">\n",
              "  <thead>\n",
              "    <tr style=\"text-align: left;\">\n",
              "      <th>epoch</th>\n",
              "      <th>train_loss</th>\n",
              "      <th>valid_loss</th>\n",
              "      <th>accuracy</th>\n",
              "      <th>time</th>\n",
              "    </tr>\n",
              "  </thead>\n",
              "  <tbody>\n",
              "  </tbody>\n",
              "</table><p>\n",
              "\n",
              "    <div>\n",
              "        <style>\n",
              "            /* Turns off some styling */\n",
              "            progress {\n",
              "                /* gets rid of default border in Firefox and Opera. */\n",
              "                border: none;\n",
              "                /* Needs to be in here for Safari polyfill so background images work as expected. */\n",
              "                background-size: auto;\n",
              "            }\n",
              "            .progress-bar-interrupted, .progress-bar-interrupted::-webkit-progress-bar {\n",
              "                background: #F44336;\n",
              "            }\n",
              "        </style>\n",
              "      <progress value='72' class='' max='94' style='width:300px; height:20px; vertical-align: middle;'></progress>\n",
              "      76.60% [72/94 00:02<00:00 1.6103]\n",
              "    </div>\n",
              "    "
            ],
            "text/plain": [
              "<IPython.core.display.HTML object>"
            ]
          },
          "metadata": {
            "tags": []
          }
        },
        {
          "output_type": "stream",
          "text": [
            "LR Finder is complete, type {learner_name}.recorder.plot() to see the graph.\n"
          ],
          "name": "stdout"
        },
        {
          "output_type": "display_data",
          "data": {
            "image/png": "[encoded data removed]",
            "text/plain": [
              "<Figure size 432x288 with 1 Axes>"
            ]
          },
          "metadata": {
            "tags": [],
            "needs_background": "light"
          }
        }
      ]
    },
    {
      "cell_type": "code",
      "metadata": {
        "id": "EFRZToyX9ca8",
        "colab_type": "code",
        "colab": {
          "base_uri": "https://localhost:8080/",
          "height": 988
        },
        "outputId": "6d40d2d8-6307-411b-ae9f-a9859367e5d0"
      },
      "source": [
        "learn.fit_one_cycle(15, max_lr=slice(1e-06))\n",
        "learn.model\n",
        "learn.recorder.plot_losses()"
      ],
      "execution_count": null,
      "outputs": [
        {
          "output_type": "display_data",
          "data": {
            "text/html": [
              "<table border=\"1\" class=\"dataframe\">\n",
              "  <thead>\n",
              "    <tr style=\"text-align: left;\">\n",
              "      <th>epoch</th>\n",
              "      <th>train_loss</th>\n",
              "      <th>valid_loss</th>\n",
              "      <th>accuracy</th>\n",
              "      <th>time</th>\n",
              "    </tr>\n",
              "  </thead>\n",
              "  <tbody>\n",
              "    <tr>\n",
              "      <td>0</td>\n",
              "      <td>0.003254</td>\n",
              "      <td>1.956409</td>\n",
              "      <td>0.499000</td>\n",
              "      <td>00:01</td>\n",
              "    </tr>\n",
              "    <tr>\n",
              "      <td>1</td>\n",
              "      <td>0.002234</td>\n",
              "      <td>1.989770</td>\n",
              "      <td>0.508000</td>\n",
              "      <td>00:01</td>\n",
              "    </tr>\n",
              "    <tr>\n",
              "      <td>2</td>\n",
              "      <td>0.002357</td>\n",
              "      <td>2.010181</td>\n",
              "      <td>0.496000</td>\n",
              "      <td>00:01</td>\n",
              "    </tr>\n",
              "    <tr>\n",
              "      <td>3</td>\n",
              "      <td>0.003441</td>\n",
              "      <td>2.071291</td>\n",
              "      <td>0.494000</td>\n",
              "      <td>00:01</td>\n",
              "    </tr>\n",
              "    <tr>\n",
              "      <td>4</td>\n",
              "      <td>0.003119</td>\n",
              "      <td>2.039148</td>\n",
              "      <td>0.504000</td>\n",
              "      <td>00:01</td>\n",
              "    </tr>\n",
              "    <tr>\n",
              "      <td>5</td>\n",
              "      <td>0.002417</td>\n",
              "      <td>1.880874</td>\n",
              "      <td>0.506000</td>\n",
              "      <td>00:01</td>\n",
              "    </tr>\n",
              "    <tr>\n",
              "      <td>6</td>\n",
              "      <td>0.001731</td>\n",
              "      <td>1.995037</td>\n",
              "      <td>0.500000</td>\n",
              "      <td>00:01</td>\n",
              "    </tr>\n",
              "    <tr>\n",
              "      <td>7</td>\n",
              "      <td>0.001603</td>\n",
              "      <td>2.118554</td>\n",
              "      <td>0.503000</td>\n",
              "      <td>00:01</td>\n",
              "    </tr>\n",
              "    <tr>\n",
              "      <td>8</td>\n",
              "      <td>0.002526</td>\n",
              "      <td>1.986003</td>\n",
              "      <td>0.509000</td>\n",
              "      <td>00:01</td>\n",
              "    </tr>\n",
              "    <tr>\n",
              "      <td>9</td>\n",
              "      <td>0.002671</td>\n",
              "      <td>1.988477</td>\n",
              "      <td>0.505000</td>\n",
              "      <td>00:01</td>\n",
              "    </tr>\n",
              "    <tr>\n",
              "      <td>10</td>\n",
              "      <td>0.003763</td>\n",
              "      <td>2.064485</td>\n",
              "      <td>0.499000</td>\n",
              "      <td>00:01</td>\n",
              "    </tr>\n",
              "    <tr>\n",
              "      <td>11</td>\n",
              "      <td>0.001623</td>\n",
              "      <td>2.007949</td>\n",
              "      <td>0.508000</td>\n",
              "      <td>00:01</td>\n",
              "    </tr>\n",
              "    <tr>\n",
              "      <td>12</td>\n",
              "      <td>0.003372</td>\n",
              "      <td>1.949155</td>\n",
              "      <td>0.501000</td>\n",
              "      <td>00:01</td>\n",
              "    </tr>\n",
              "    <tr>\n",
              "      <td>13</td>\n",
              "      <td>0.002450</td>\n",
              "      <td>2.035699</td>\n",
              "      <td>0.512000</td>\n",
              "      <td>00:01</td>\n",
              "    </tr>\n",
              "    <tr>\n",
              "      <td>14</td>\n",
              "      <td>0.002005</td>\n",
              "      <td>1.924020</td>\n",
              "      <td>0.509000</td>\n",
              "      <td>00:01</td>\n",
              "    </tr>\n",
              "  </tbody>\n",
              "</table>"
            ],
            "text/plain": [
              "<IPython.core.display.HTML object>"
            ]
          },
          "metadata": {
            "tags": []
          }
        },
        {
          "output_type": "display_data",
          "data": {
            "image/png": "[encoded data removed]",
            "text/plain": [
              "<Figure size 432x288 with 1 Axes>"
            ]
          },
          "metadata": {
            "tags": []
          }
        },
        {
          "output_type": "display_data",
          "data": {
            "image/png": "[encoded data removed]",
            "text/plain": [
              "<Figure size 432x288 with 1 Axes>"
            ]
          },
          "metadata": {
            "tags": [],
            "needs_background": "light"
          }
        }
      ]
    },
    {
      "cell_type": "code",
      "metadata": {
        "id": "zvotTsd59jf8",
        "colab_type": "code",
        "colab": {
          "base_uri": "https://localhost:8080/",
          "height": 16
        },
        "outputId": "fed6a0ab-3bf7-48a8-a6b2-7e1519815c5f"
      },
      "source": [
        "categories=learn.data.classes\n",
        "predictions, *_ = learn.get_preds(DatasetType.Test)\n",
        "labels = np.argmax(predictions, 1)\n",
        "a=[]\n",
        "for i in labels: a.append(categories[i])\n",
        "test = pd.read_csv('/content/Test_LqhgPWU.csv')\n",
        "test_copy = test.copy()\n",
        "\n",
        "submission = pd.DataFrame(columns=['ID','Segmentation'])\n",
        "\n",
        "submission['ID'] = test_copy['ID']\n",
        "submission['Segmentation'] = a\n",
        "submission.to_csv('2c.csv', header=True, index=False)"
      ],
      "execution_count": null,
      "outputs": [
        {
          "output_type": "display_data",
          "data": {
            "text/html": [
              ""
            ],
            "text/plain": [
              "<IPython.core.display.HTML object>"
            ]
          },
          "metadata": {
            "tags": []
          }
        }
      ]
    }
  ]
}