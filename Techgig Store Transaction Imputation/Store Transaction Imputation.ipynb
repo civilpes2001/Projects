{
  "nbformat": 4,
  "nbformat_minor": 0,
  "metadata": {
    "kernelspec": {
      "display_name": "Python 3",
      "language": "python",
      "name": "python3"
    },
    "language_info": {
      "codemirror_mode": {
        "name": "ipython",
        "version": 3
      },
      "file_extension": ".py",
      "mimetype": "text/x-python",
      "name": "python",
      "nbconvert_exporter": "python",
      "pygments_lexer": "ipython3",
      "version": "3.7.6"
    },
    "colab": {
      "name": "Store Transaction Imputation_TG.ipynb",
      "provenance": [],
      "collapsed_sections": []
    }
  },
  "cells": [
    {
      "cell_type": "code",
      "metadata": {
        "id": "yhYjydaGQe9C",
        "colab_type": "code",
        "colab": {}
      },
      "source": [
        "import numpy as np\n",
        "import pandas as pd\n",
        "import matplotlib.pyplot as plt\n",
        "%matplotlib inline\n",
        "import seaborn as sns\n",
        "sns.set(style='ticks')\n",
        "\n",
        "pd.set_option('display.max_columns', None)"
      ],
      "execution_count": 0,
      "outputs": []
    },
    {
      "cell_type": "code",
      "metadata": {
        "id": "Fs8k2_AJQxVC",
        "colab_type": "code",
        "colab": {}
      },
      "source": [
        "from google.colab import files\n",
        "files.upload()"
      ],
      "execution_count": 0,
      "outputs": []
    },
    {
      "cell_type": "code",
      "metadata": {
        "id": "2dyyVVz9Qe9J",
        "colab_type": "code",
        "outputId": "9f2e9661-ac6e-4862-8b70-e2f85457d3aa",
        "colab": {}
      },
      "source": [
        "df = pd.read_csv('Hackathon_Working_Data.csv')\n",
        "df_test = pd.read_csv('Hackathon_Validation_Data.csv')\n",
        "df.head(2)"
      ],
      "execution_count": 0,
      "outputs": [
        {
          "output_type": "execute_result",
          "data": {
            "text/html": [
              "<div>\n",
              "<style scoped>\n",
              "    .dataframe tbody tr th:only-of-type {\n",
              "        vertical-align: middle;\n",
              "    }\n",
              "\n",
              "    .dataframe tbody tr th {\n",
              "        vertical-align: top;\n",
              "    }\n",
              "\n",
              "    .dataframe thead th {\n",
              "        text-align: right;\n",
              "    }\n",
              "</style>\n",
              "<table border=\"1\" class=\"dataframe\">\n",
              "  <thead>\n",
              "    <tr style=\"text-align: right;\">\n",
              "      <th></th>\n",
              "      <th>MONTH</th>\n",
              "      <th>STORECODE</th>\n",
              "      <th>DAY</th>\n",
              "      <th>BILL_ID</th>\n",
              "      <th>BILL_AMT</th>\n",
              "      <th>QTY</th>\n",
              "      <th>VALUE</th>\n",
              "      <th>PRICE</th>\n",
              "      <th>GRP</th>\n",
              "      <th>SGRP</th>\n",
              "      <th>SSGRP</th>\n",
              "      <th>CMP</th>\n",
              "      <th>MBRD</th>\n",
              "      <th>BRD</th>\n",
              "    </tr>\n",
              "  </thead>\n",
              "  <tbody>\n",
              "    <tr>\n",
              "      <th>0</th>\n",
              "      <td>M1</td>\n",
              "      <td>N1</td>\n",
              "      <td>4</td>\n",
              "      <td>T375</td>\n",
              "      <td>225.0</td>\n",
              "      <td>1.0</td>\n",
              "      <td>225.0</td>\n",
              "      <td>225.0</td>\n",
              "      <td>BUTTER MARGR  (4/94)</td>\n",
              "      <td>BUTTER</td>\n",
              "      <td>SALTED</td>\n",
              "      <td>G C M M F</td>\n",
              "      <td>AMUL</td>\n",
              "      <td>AMUL</td>\n",
              "    </tr>\n",
              "    <tr>\n",
              "      <th>1</th>\n",
              "      <td>M1</td>\n",
              "      <td>N1</td>\n",
              "      <td>4</td>\n",
              "      <td>T379</td>\n",
              "      <td>95.0</td>\n",
              "      <td>1.0</td>\n",
              "      <td>95.0</td>\n",
              "      <td>95.0</td>\n",
              "      <td>CONFECTIONERY - ECLAIRS</td>\n",
              "      <td>CONFECTIONERY - ECLAIRS</td>\n",
              "      <td>CONFECTIONERY - ECLAIRS</td>\n",
              "      <td>PARLE PRODS</td>\n",
              "      <td>MELODY</td>\n",
              "      <td>MELODY CHOCOLATY</td>\n",
              "    </tr>\n",
              "  </tbody>\n",
              "</table>\n",
              "</div>"
            ],
            "text/plain": [
              "  MONTH STORECODE  DAY BILL_ID  BILL_AMT  QTY  VALUE  PRICE  \\\n",
              "0    M1        N1    4    T375     225.0  1.0  225.0  225.0   \n",
              "1    M1        N1    4    T379      95.0  1.0   95.0   95.0   \n",
              "\n",
              "                       GRP                     SGRP                    SSGRP  \\\n",
              "0     BUTTER MARGR  (4/94)                   BUTTER                   SALTED   \n",
              "1  CONFECTIONERY - ECLAIRS  CONFECTIONERY - ECLAIRS  CONFECTIONERY - ECLAIRS   \n",
              "\n",
              "           CMP    MBRD               BRD  \n",
              "0    G C M M F    AMUL              AMUL  \n",
              "1  PARLE PRODS  MELODY  MELODY CHOCOLATY  "
            ]
          },
          "metadata": {
            "tags": []
          },
          "execution_count": 109
        }
      ]
    },
    {
      "cell_type": "code",
      "metadata": {
        "id": "otu6fymtQe9W",
        "colab_type": "code",
        "outputId": "d1eeb589-d7c0-4c80-9b22-89dce82076f1",
        "colab": {}
      },
      "source": [
        "df = df.drop(['DAY', 'BILL_ID', 'SGRP', 'SSGRP', 'CMP', 'MBRD', 'BRD'], axis=1).sort_values('GRP')\n",
        "df.head()"
      ],
      "execution_count": 0,
      "outputs": [
        {
          "output_type": "execute_result",
          "data": {
            "text/html": [
              "<div>\n",
              "<style scoped>\n",
              "    .dataframe tbody tr th:only-of-type {\n",
              "        vertical-align: middle;\n",
              "    }\n",
              "\n",
              "    .dataframe tbody tr th {\n",
              "        vertical-align: top;\n",
              "    }\n",
              "\n",
              "    .dataframe thead th {\n",
              "        text-align: right;\n",
              "    }\n",
              "</style>\n",
              "<table border=\"1\" class=\"dataframe\">\n",
              "  <thead>\n",
              "    <tr style=\"text-align: right;\">\n",
              "      <th></th>\n",
              "      <th>MONTH</th>\n",
              "      <th>STORECODE</th>\n",
              "      <th>BILL_AMT</th>\n",
              "      <th>QTY</th>\n",
              "      <th>VALUE</th>\n",
              "      <th>PRICE</th>\n",
              "      <th>GRP</th>\n",
              "    </tr>\n",
              "  </thead>\n",
              "  <tbody>\n",
              "    <tr>\n",
              "      <th>3965</th>\n",
              "      <td>M1</td>\n",
              "      <td>N4</td>\n",
              "      <td>115.0</td>\n",
              "      <td>1.0</td>\n",
              "      <td>115.0</td>\n",
              "      <td>115.0</td>\n",
              "      <td>AFTER SHAVE LOTIONS</td>\n",
              "    </tr>\n",
              "    <tr>\n",
              "      <th>7108</th>\n",
              "      <td>M1</td>\n",
              "      <td>N8</td>\n",
              "      <td>310.0</td>\n",
              "      <td>1.0</td>\n",
              "      <td>120.0</td>\n",
              "      <td>120.0</td>\n",
              "      <td>AFTER SHAVE LOTIONS</td>\n",
              "    </tr>\n",
              "    <tr>\n",
              "      <th>23265</th>\n",
              "      <td>M3</td>\n",
              "      <td>N5</td>\n",
              "      <td>295.0</td>\n",
              "      <td>1.0</td>\n",
              "      <td>120.0</td>\n",
              "      <td>120.0</td>\n",
              "      <td>AFTER SHAVE LOTIONS</td>\n",
              "    </tr>\n",
              "    <tr>\n",
              "      <th>5418</th>\n",
              "      <td>M1</td>\n",
              "      <td>N7</td>\n",
              "      <td>20.0</td>\n",
              "      <td>2.0</td>\n",
              "      <td>20.0</td>\n",
              "      <td>10.0</td>\n",
              "      <td>AGARBATTI &amp; DHOOPBATTI</td>\n",
              "    </tr>\n",
              "    <tr>\n",
              "      <th>22284</th>\n",
              "      <td>M3</td>\n",
              "      <td>N5</td>\n",
              "      <td>489.0</td>\n",
              "      <td>5.0</td>\n",
              "      <td>50.0</td>\n",
              "      <td>10.0</td>\n",
              "      <td>AGARBATTI &amp; DHOOPBATTI</td>\n",
              "    </tr>\n",
              "  </tbody>\n",
              "</table>\n",
              "</div>"
            ],
            "text/plain": [
              "      MONTH STORECODE  BILL_AMT  QTY  VALUE  PRICE                     GRP\n",
              "3965     M1        N4     115.0  1.0  115.0  115.0     AFTER SHAVE LOTIONS\n",
              "7108     M1        N8     310.0  1.0  120.0  120.0     AFTER SHAVE LOTIONS\n",
              "23265    M3        N5     295.0  1.0  120.0  120.0     AFTER SHAVE LOTIONS\n",
              "5418     M1        N7      20.0  2.0   20.0   10.0  AGARBATTI & DHOOPBATTI\n",
              "22284    M3        N5     489.0  5.0   50.0   10.0  AGARBATTI & DHOOPBATTI"
            ]
          },
          "metadata": {
            "tags": []
          },
          "execution_count": 111
        }
      ]
    },
    {
      "cell_type": "code",
      "metadata": {
        "id": "r81mfFZSQe9g",
        "colab_type": "code",
        "colab": {}
      },
      "source": [
        "df.MONTH = df.MONTH.astype('category')\n",
        "df.STORECODE = df.STORECODE.astype('category')\n",
        "df.GRP = df.GRP.astype('category')"
      ],
      "execution_count": 0,
      "outputs": []
    },
    {
      "cell_type": "code",
      "metadata": {
        "id": "dkYCxLYgQe9s",
        "colab_type": "code",
        "colab": {}
      },
      "source": [
        "df_test.MONTH = df_test.MONTH.astype('category')\n",
        "df_test.STORECODE = df_test.STORECODE.astype('category')\n",
        "df_test.GRP = df_test.GRP.astype('category')"
      ],
      "execution_count": 0,
      "outputs": []
    },
    {
      "cell_type": "code",
      "metadata": {
        "id": "qN4aYDu4Qe92",
        "colab_type": "code",
        "outputId": "cc111967-2849-4c29-e888-393eeff59135",
        "colab": {}
      },
      "source": [
        "df.describe()"
      ],
      "execution_count": 0,
      "outputs": [
        {
          "output_type": "execute_result",
          "data": {
            "text/html": [
              "<div>\n",
              "<style scoped>\n",
              "    .dataframe tbody tr th:only-of-type {\n",
              "        vertical-align: middle;\n",
              "    }\n",
              "\n",
              "    .dataframe tbody tr th {\n",
              "        vertical-align: top;\n",
              "    }\n",
              "\n",
              "    .dataframe thead th {\n",
              "        text-align: right;\n",
              "    }\n",
              "</style>\n",
              "<table border=\"1\" class=\"dataframe\">\n",
              "  <thead>\n",
              "    <tr style=\"text-align: right;\">\n",
              "      <th></th>\n",
              "      <th>BILL_AMT</th>\n",
              "      <th>QTY</th>\n",
              "      <th>VALUE</th>\n",
              "      <th>PRICE</th>\n",
              "    </tr>\n",
              "  </thead>\n",
              "  <tbody>\n",
              "    <tr>\n",
              "      <th>count</th>\n",
              "      <td>26985.000000</td>\n",
              "      <td>26985.000000</td>\n",
              "      <td>26985.000000</td>\n",
              "      <td>26985.000000</td>\n",
              "    </tr>\n",
              "    <tr>\n",
              "      <th>mean</th>\n",
              "      <td>278.754206</td>\n",
              "      <td>4.105021</td>\n",
              "      <td>67.808551</td>\n",
              "      <td>52.812982</td>\n",
              "    </tr>\n",
              "    <tr>\n",
              "      <th>std</th>\n",
              "      <td>541.398504</td>\n",
              "      <td>95.666947</td>\n",
              "      <td>118.005978</td>\n",
              "      <td>84.987730</td>\n",
              "    </tr>\n",
              "    <tr>\n",
              "      <th>min</th>\n",
              "      <td>0.000000</td>\n",
              "      <td>0.500000</td>\n",
              "      <td>0.000000</td>\n",
              "      <td>0.000000</td>\n",
              "    </tr>\n",
              "    <tr>\n",
              "      <th>25%</th>\n",
              "      <td>40.000000</td>\n",
              "      <td>1.000000</td>\n",
              "      <td>10.000000</td>\n",
              "      <td>10.000000</td>\n",
              "    </tr>\n",
              "    <tr>\n",
              "      <th>50%</th>\n",
              "      <td>111.000000</td>\n",
              "      <td>1.000000</td>\n",
              "      <td>30.000000</td>\n",
              "      <td>22.000000</td>\n",
              "    </tr>\n",
              "    <tr>\n",
              "      <th>75%</th>\n",
              "      <td>280.000000</td>\n",
              "      <td>2.000000</td>\n",
              "      <td>80.000000</td>\n",
              "      <td>64.000000</td>\n",
              "    </tr>\n",
              "    <tr>\n",
              "      <th>max</th>\n",
              "      <td>7292.000000</td>\n",
              "      <td>12000.000000</td>\n",
              "      <td>3150.000000</td>\n",
              "      <td>3150.000000</td>\n",
              "    </tr>\n",
              "  </tbody>\n",
              "</table>\n",
              "</div>"
            ],
            "text/plain": [
              "           BILL_AMT           QTY         VALUE         PRICE\n",
              "count  26985.000000  26985.000000  26985.000000  26985.000000\n",
              "mean     278.754206      4.105021     67.808551     52.812982\n",
              "std      541.398504     95.666947    118.005978     84.987730\n",
              "min        0.000000      0.500000      0.000000      0.000000\n",
              "25%       40.000000      1.000000     10.000000     10.000000\n",
              "50%      111.000000      1.000000     30.000000     22.000000\n",
              "75%      280.000000      2.000000     80.000000     64.000000\n",
              "max     7292.000000  12000.000000   3150.000000   3150.000000"
            ]
          },
          "metadata": {
            "tags": []
          },
          "execution_count": 118
        }
      ]
    },
    {
      "cell_type": "code",
      "metadata": {
        "id": "DYzFIGkXQe-c",
        "colab_type": "code",
        "colab": {}
      },
      "source": [
        "X = df.iloc[:, 2:6].values"
      ],
      "execution_count": 0,
      "outputs": []
    },
    {
      "cell_type": "code",
      "metadata": {
        "id": "JKWVJUROQe-f",
        "colab_type": "code",
        "colab": {}
      },
      "source": [
        "from sklearn.preprocessing import StandardScaler\n",
        "\n",
        "scaler = StandardScaler() \n",
        "\n",
        "df_scaled = scaler.fit_transform(X)"
      ],
      "execution_count": 0,
      "outputs": []
    },
    {
      "cell_type": "code",
      "metadata": {
        "id": "QF0G0XlvQe-k",
        "colab_type": "code",
        "outputId": "79ad2345-c57d-4011-a7ee-d573fdcb9960",
        "colab": {}
      },
      "source": [
        "df_scaled"
      ],
      "execution_count": 0,
      "outputs": [
        {
          "output_type": "execute_result",
          "data": {
            "text/plain": [
              "array([[-3.02470803e-01, -3.24571749e-02,  3.99914683e-01,\n",
              "         7.31731153e-01],\n",
              "       [ 5.77141841e-02, -3.24571749e-02,  4.42286203e-01,\n",
              "         7.90564265e-01],\n",
              "       [ 3.00076466e-02, -3.24571749e-02,  4.42286203e-01,\n",
              "         7.90564265e-01],\n",
              "       ...,\n",
              "       [ 9.51711793e-01, -1.09780083e-03,  1.22192217e+00,\n",
              "         2.20056551e-03],\n",
              "       [ 5.76749986e-01, -3.24571749e-02, -1.25492163e-01,\n",
              "         2.20056551e-03],\n",
              "       [-1.89797551e-01, -3.24571749e-02, -1.42440771e-01,\n",
              "        -2.13326793e-02]])"
            ]
          },
          "metadata": {
            "tags": []
          },
          "execution_count": 130
        }
      ]
    },
    {
      "cell_type": "code",
      "metadata": {
        "id": "6nan9vf9Tnyl",
        "colab_type": "code",
        "colab": {}
      },
      "source": [
        "\n",
        "from sklearn.cluster import KMeans\n",
        "\n",
        "kmeans = KMeans(n_clusters=81)\n",
        "\n",
        "y_kmeans_preds = kmeans.fit_predict(df_scaled)\n",
        "y_kmeans_preds"
      ],
      "execution_count": 0,
      "outputs": []
    },
    {
      "cell_type": "code",
      "metadata": {
        "id": "OydbC2fTTn3s",
        "colab_type": "code",
        "colab": {}
      },
      "source": [
        "y_kmeans_preds[:50]"
      ],
      "execution_count": 0,
      "outputs": []
    },
    {
      "cell_type": "code",
      "metadata": {
        "id": "57y6FhPWTnxt",
        "colab_type": "code",
        "colab": {}
      },
      "source": [
        "preds = pd.DataFrame(y_kmeans_preds, columns=['TOTALVALUE'])"
      ],
      "execution_count": 0,
      "outputs": []
    },
    {
      "cell_type": "code",
      "metadata": {
        "id": "bcvVFjy_Ty_3",
        "colab_type": "code",
        "colab": {}
      },
      "source": [
        "submission = pd.DataFrame({\n",
        "        \"ID\": test[\"ID\"],\n",
        "        \"TOTALVALUE\": preds.astype(int)\n",
        "    })\n",
        "submission.to_csv('./submission.csv', index=False)\n",
        "print(submission)"
      ],
      "execution_count": 0,
      "outputs": []
    },
    {
      "cell_type": "code",
      "metadata": {
        "id": "q3ZX7ox3UEk7",
        "colab_type": "code",
        "colab": {}
      },
      "source": [
        ""
      ],
      "execution_count": 0,
      "outputs": []
    },
    {
      "cell_type": "markdown",
      "metadata": {
        "id": "505hmWMmUEyu",
        "colab_type": "text"
      },
      "source": [
        "# 2nd method"
      ]
    },
    {
      "cell_type": "code",
      "metadata": {
        "id": "GciOs_92UFGS",
        "colab_type": "code",
        "colab": {}
      },
      "source": [
        ""
      ],
      "execution_count": 0,
      "outputs": []
    },
    {
      "cell_type": "code",
      "metadata": {
        "id": "VDapv_olT1ct",
        "colab_type": "code",
        "colab": {}
      },
      "source": [
        "from google.colab import files\n",
        "files.download('submission.csv')"
      ],
      "execution_count": 0,
      "outputs": []
    },
    {
      "cell_type": "code",
      "metadata": {
        "id": "eYHrmXk5Qe-p",
        "colab_type": "code",
        "colab": {}
      },
      "source": [
        "from sklearn import preprocessing\n",
        "from sklearn.preprocessing import normalize\n",
        "\n",
        "X_train = train.drop(\"TOTALVALUE\", axis=1)\n",
        "X_train = X_train.drop(\"ID\", axis=1)\n",
        "Y_train = train[\"TOTALVALUE\"].values\n",
        "X_test = test.drop(\"ID\", axis=1)\n",
        "\n",
        "min_max_scaler = preprocessing.MinMaxScaler()\n",
        "np_scaled = min_max_scaler.fit_transform(X_train)\n",
        "X_train = pd.DataFrame(np_scaled)\n",
        "\n",
        "min_max_scaler = preprocessing.MinMaxScaler()\n",
        "np_scaled = min_max_scaler.fit_transform(X_test)\n",
        "X_test = pd.DataFrame(np_scaled)"
      ],
      "execution_count": 0,
      "outputs": []
    },
    {
      "cell_type": "code",
      "metadata": {
        "id": "JcN-8YmESYjU",
        "colab_type": "code",
        "colab": {}
      },
      "source": [
        "from sklearn.linear_model import LinearRegression\n",
        "from sklearn.svm import SVC, LinearSVC\n",
        "from sklearn.ensemble import RandomForestClassifier\n",
        "from sklearn.neighbors import KNeighborsClassifier\n",
        "from sklearn.naive_bayes import GaussianNB\n",
        "from sklearn.linear_model import Perceptron\n",
        "from sklearn.linear_model import SGDClassifier\n",
        "from sklearn.tree import DecisionTreeClassifier"
      ],
      "execution_count": 0,
      "outputs": []
    },
    {
      "cell_type": "code",
      "metadata": {
        "id": "qiOc8VXoSYoF",
        "colab_type": "code",
        "colab": {}
      },
      "source": [
        "X_train.shape, Y_train.shape, X_test.shape"
      ],
      "execution_count": 0,
      "outputs": []
    },
    {
      "cell_type": "code",
      "metadata": {
        "id": "n1XDPBF-SYsJ",
        "colab_type": "code",
        "colab": {}
      },
      "source": [
        "import warnings\n",
        "warnings.simplefilter(action='ignore', category=FutureWarning)"
      ],
      "execution_count": 0,
      "outputs": []
    },
    {
      "cell_type": "code",
      "metadata": {
        "id": "N0S5gW7iTbXX",
        "colab_type": "code",
        "colab": {}
      },
      "source": [
        "#Linear Regression\n",
        "\n",
        "linreg = LinearRegression()\n",
        "linreg.fit(X_train, Y_train)\n",
        "Y_pred = linreg.predict(X_test)\n",
        "acc_log = round(linreg.score(X_train, Y_train) * 100, 2)\n",
        "acc_log"
      ],
      "execution_count": 0,
      "outputs": []
    },
    {
      "cell_type": "code",
      "metadata": {
        "id": "-CEoRuKyTYau",
        "colab_type": "code",
        "colab": {}
      },
      "source": [
        "#K-nearest (k-NN)\n",
        "knn = KNeighborsClassifier(n_neighbors = 3)\n",
        "knn.fit(X_train, Y_train)\n",
        "Y_pred = knn.predict(X_test)\n",
        "acc_knn = round(knn.score(X_train, Y_train) * 100, 2)\n",
        "acc_knn"
      ],
      "execution_count": 0,
      "outputs": []
    },
    {
      "cell_type": "code",
      "metadata": {
        "id": "ljr7lM96TYZv",
        "colab_type": "code",
        "colab": {}
      },
      "source": [
        "# Gaussian Naive Bayes\n",
        "\n",
        "gaussian = GaussianNB()\n",
        "gaussian.fit(X_train, Y_train)\n",
        "Y_pred = gaussian.predict(X_test)\n",
        "acc_gaussian = round(gaussian.score(X_train, Y_train) * 100, 2)\n",
        "acc_gaussian"
      ],
      "execution_count": 0,
      "outputs": []
    },
    {
      "cell_type": "code",
      "metadata": {
        "id": "NYdtWC5ZSYm3",
        "colab_type": "code",
        "colab": {}
      },
      "source": [
        "#Support Vector Machines (SVM)\n",
        "svc = SVC()\n",
        "svc.fit(X_train, Y_train)\n",
        "Y_pred = svc.predict(X_test)\n",
        "acc_svc = round(svc.score(X_train, Y_train) * 100, 2)\n",
        "acc_svc"
      ],
      "execution_count": 0,
      "outputs": []
    },
    {
      "cell_type": "code",
      "metadata": {
        "id": "_p-j6qgTTVyq",
        "colab_type": "code",
        "colab": {}
      },
      "source": [
        "# Linear SVC\n",
        "\n",
        "linear_svc = LinearSVC()\n",
        "linear_svc.fit(X_train, Y_train)\n",
        "Y_pred = linear_svc.predict(X_test)\n",
        "acc_linear_svc = round(linear_svc.score(X_train, Y_train) * 100, 2)\n",
        "acc_linear_svc"
      ],
      "execution_count": 0,
      "outputs": []
    },
    {
      "cell_type": "code",
      "metadata": {
        "id": "rH0ZumjgSYhj",
        "colab_type": "code",
        "colab": {}
      },
      "source": [
        "# Random Forest\n",
        "\n",
        "random_forest = RandomForestClassifier(n_estimators=100)\n",
        "random_forest.fit(X_train, Y_train)\n",
        "Y_pred = random_forest.predict(X_test)\n",
        "random_forest.score(X_train, Y_train)\n",
        "acc_random_forest = round(random_forest.score(X_train, Y_train) * 100, 2)\n",
        "acc_random_forest"
      ],
      "execution_count": 0,
      "outputs": []
    },
    {
      "cell_type": "code",
      "metadata": {
        "id": "hP2Bld3VSjZX",
        "colab_type": "code",
        "colab": {}
      },
      "source": [
        "#Perceptron\n",
        "perceptron = Perceptron()\n",
        "perceptron.fit(X_train, Y_train)\n",
        "Y_pred = perceptron.predict(X_test)\n",
        "acc_perceptron = round(perceptron.score(X_train, Y_train) * 100, 2)\n",
        "acc_perceptron"
      ],
      "execution_count": 0,
      "outputs": []
    },
    {
      "cell_type": "code",
      "metadata": {
        "id": "h54fZiTfSjdr",
        "colab_type": "code",
        "colab": {}
      },
      "source": [
        "# Stochastic Gradient Descent\n",
        "\n",
        "sgd = SGDClassifier()\n",
        "sgd.fit(X_train, Y_train)\n",
        "Y_pred = sgd.predict(X_test)\n",
        "acc_sgd = round(sgd.score(X_train, Y_train) * 100, 2)\n",
        "acc_sgd"
      ],
      "execution_count": 0,
      "outputs": []
    },
    {
      "cell_type": "code",
      "metadata": {
        "id": "X3vlhYxPSjcq",
        "colab_type": "code",
        "colab": {}
      },
      "source": [
        "# Decision Tree\n",
        "\n",
        "decision_tree = DecisionTreeClassifier()\n",
        "decision_tree.fit(X_train, Y_train)\n",
        "Y_pred = decision_tree.predict(X_test)\n",
        "acc_decision_tree = round(decision_tree.score(X_train, Y_train) * 100, 2)\n",
        "acc_decision_tree"
      ],
      "execution_count": 0,
      "outputs": []
    },
    {
      "cell_type": "code",
      "metadata": {
        "id": "HNSFP7JDTQNK",
        "colab_type": "code",
        "colab": {}
      },
      "source": [
        "models = pd.DataFrame({\n",
        "        'Model': ['Support Vector Machines', 'KNN', 'Linear Regression', 'Random Forest', 'Naive Bayes', 'Perceptron',\n",
        "                  'Stochastic Gradient Descent', 'Linear SVC', 'Decision Tree'],\n",
        "        'Score': [acc_svc, acc_knn, acc_log, \n",
        "              acc_random_forest, acc_gaussian, acc_perceptron, \n",
        "              acc_sgd, acc_linear_svc, acc_decision_tree]\n",
        "    })\n",
        "models.sort_values(by='Score', ascending=False)"
      ],
      "execution_count": 0,
      "outputs": []
    },
    {
      "cell_type": "code",
      "metadata": {
        "id": "CSdFF-KuSjYJ",
        "colab_type": "code",
        "colab": {}
      },
      "source": [
        "submission = pd.DataFrame({\n",
        "        \"ID\": test[\"ID\"],\n",
        "        \"TOTALVALUE\": Y_pred.astype(int)\n",
        "    })\n",
        "submission.to_csv('./submission.csv', index=False)\n",
        "print(submission)"
      ],
      "execution_count": 0,
      "outputs": []
    },
    {
      "cell_type": "code",
      "metadata": {
        "id": "pZa3KmwXQe-7",
        "colab_type": "code",
        "colab": {}
      },
      "source": [
        "from google.colab import files\n",
        "files.download('submission.csv')"
      ],
      "execution_count": 0,
      "outputs": []
    },
    {
      "cell_type": "code",
      "metadata": {
        "id": "pa6ZaahcUCJn",
        "colab_type": "code",
        "colab": {}
      },
      "source": [
        ""
      ],
      "execution_count": 0,
      "outputs": []
    }
  ]
}