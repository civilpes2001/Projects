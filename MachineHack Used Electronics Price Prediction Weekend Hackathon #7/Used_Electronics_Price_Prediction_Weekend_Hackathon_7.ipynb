{
  "nbformat": 4,
  "nbformat_minor": 0,
  "metadata": {
    "colab": {
      "name": "Used Electronics Price Prediction: Weekend Hackathon #7.ipynb",
      "provenance": [],
      "collapsed_sections": []
    },
    "kernelspec": {
      "name": "python3",
      "display_name": "Python 3"
    }
  },
  "cells": [
    {
      "cell_type": "code",
      "metadata": {
        "id": "qYvQsVle1OY8",
        "colab_type": "code",
        "outputId": "4be1181b-830c-4928-afdb-eb38cc2ea6b7",
        "colab": {
          "base_uri": "https://localhost:8080/",
          "height": 204
        }
      },
      "source": [
        "!wget https://www.machinehack.com/wp-content/uploads/2020/06/Used_Electronics_Participants_Data.zip"
      ],
      "execution_count": 3,
      "outputs": [
        {
          "output_type": "stream",
          "text": [
            "--2020-06-08 06:47:32--  https://www.machinehack.com/wp-content/uploads/2020/06/Used_Electronics_Participants_Data.zip\n",
            "Resolving www.machinehack.com (www.machinehack.com)... 107.180.71.20\n",
            "Connecting to www.machinehack.com (www.machinehack.com)|107.180.71.20|:443... connected.\n",
            "HTTP request sent, awaiting response... 200 OK\n",
            "Length: 184210 (180K) [application/zip]\n",
            "Saving to: ‘Used_Electronics_Participants_Data.zip’\n",
            "\n",
            "Used_Electronics_Pa 100%[===================>] 179.89K   427KB/s    in 0.4s    \n",
            "\n",
            "2020-06-08 06:47:33 (427 KB/s) - ‘Used_Electronics_Participants_Data.zip’ saved [184210/184210]\n",
            "\n"
          ],
          "name": "stdout"
        }
      ]
    },
    {
      "cell_type": "code",
      "metadata": {
        "id": "TFa4rwTF1fbv",
        "colab_type": "code",
        "outputId": "a12d82c4-03d1-4893-9186-a8ea7614f9c9",
        "colab": {
          "base_uri": "https://localhost:8080/",
          "height": 153
        }
      },
      "source": [
        "!unzip Used_Electronics_Participants_Data.zip"
      ],
      "execution_count": 4,
      "outputs": [
        {
          "output_type": "stream",
          "text": [
            "Archive:  Used_Electronics_Participants_Data.zip\n",
            "   creating: Used_Electronics_Participants_Data/\n",
            "  inflating: Used_Electronics_Participants_Data/Test.csv  \n",
            "  inflating: __MACOSX/Used_Electronics_Participants_Data/._Test.csv  \n",
            "  inflating: Used_Electronics_Participants_Data/Sample_Submission.xlsx  \n",
            "  inflating: __MACOSX/Used_Electronics_Participants_Data/._Sample_Submission.xlsx  \n",
            "  inflating: Used_Electronics_Participants_Data/Train.csv  \n",
            "  inflating: __MACOSX/Used_Electronics_Participants_Data/._Train.csv  \n"
          ],
          "name": "stdout"
        }
      ]
    },
    {
      "cell_type": "code",
      "metadata": {
        "id": "t40gTz9w1phm",
        "colab_type": "code",
        "colab": {}
      },
      "source": [
        "import pandas as pd\n",
        "import numpy as np\n",
        "import matplotlib.pyplot as plt\n",
        "%matplotlib inline"
      ],
      "execution_count": 0,
      "outputs": []
    },
    {
      "cell_type": "code",
      "metadata": {
        "id": "hcoH_mqE11Vt",
        "colab_type": "code",
        "colab": {}
      },
      "source": [
        "train = pd.read_csv('Used_Electronics_Participants_Data/Train.csv')\n",
        "test = pd.read_csv('Used_Electronics_Participants_Data/Test.csv')"
      ],
      "execution_count": 0,
      "outputs": []
    },
    {
      "cell_type": "code",
      "metadata": {
        "id": "-XzdyhBt19DN",
        "colab_type": "code",
        "outputId": "b140891c-bfbc-4fd5-f30a-5b0d7ed8f99b",
        "colab": {
          "base_uri": "https://localhost:8080/",
          "height": 197
        }
      },
      "source": [
        "train.head(5)"
      ],
      "execution_count": 7,
      "outputs": [
        {
          "output_type": "execute_result",
          "data": {
            "text/html": [
              "<div>\n",
              "<style scoped>\n",
              "    .dataframe tbody tr th:only-of-type {\n",
              "        vertical-align: middle;\n",
              "    }\n",
              "\n",
              "    .dataframe tbody tr th {\n",
              "        vertical-align: top;\n",
              "    }\n",
              "\n",
              "    .dataframe thead th {\n",
              "        text-align: right;\n",
              "    }\n",
              "</style>\n",
              "<table border=\"1\" class=\"dataframe\">\n",
              "  <thead>\n",
              "    <tr style=\"text-align: right;\">\n",
              "      <th></th>\n",
              "      <th>Brand</th>\n",
              "      <th>Model_Info</th>\n",
              "      <th>Additional_Description</th>\n",
              "      <th>Locality</th>\n",
              "      <th>City</th>\n",
              "      <th>State</th>\n",
              "      <th>Price</th>\n",
              "    </tr>\n",
              "  </thead>\n",
              "  <tbody>\n",
              "    <tr>\n",
              "      <th>0</th>\n",
              "      <td>1</td>\n",
              "      <td>name0 name234 64gb space grey</td>\n",
              "      <td>1yesr old mobile number 999two905two99 bill c...</td>\n",
              "      <td>878</td>\n",
              "      <td>8</td>\n",
              "      <td>2</td>\n",
              "      <td>15000</td>\n",
              "    </tr>\n",
              "    <tr>\n",
              "      <th>1</th>\n",
              "      <td>1</td>\n",
              "      <td>phone 7 name42 name453 new condition box acce...</td>\n",
              "      <td>101004800 1010065900 7000</td>\n",
              "      <td>1081</td>\n",
              "      <td>4</td>\n",
              "      <td>0</td>\n",
              "      <td>18800</td>\n",
              "    </tr>\n",
              "    <tr>\n",
              "      <th>2</th>\n",
              "      <td>1</td>\n",
              "      <td>name0 x 256gb leess used good condition</td>\n",
              "      <td>1010010000 seperate screen guard 3 back cover...</td>\n",
              "      <td>495</td>\n",
              "      <td>11</td>\n",
              "      <td>4</td>\n",
              "      <td>50000</td>\n",
              "    </tr>\n",
              "    <tr>\n",
              "      <th>3</th>\n",
              "      <td>1</td>\n",
              "      <td>name0 6s plus 64 gb space grey</td>\n",
              "      <td>without 1010020100 id 1010010300 colour 10100...</td>\n",
              "      <td>287</td>\n",
              "      <td>10</td>\n",
              "      <td>7</td>\n",
              "      <td>16500</td>\n",
              "    </tr>\n",
              "    <tr>\n",
              "      <th>4</th>\n",
              "      <td>1</td>\n",
              "      <td>phone 7 sealed pack brand new factory outet p...</td>\n",
              "      <td>101008700 10100000 xs max 64 gb made 10100850...</td>\n",
              "      <td>342</td>\n",
              "      <td>4</td>\n",
              "      <td>0</td>\n",
              "      <td>26499</td>\n",
              "    </tr>\n",
              "  </tbody>\n",
              "</table>\n",
              "</div>"
            ],
            "text/plain": [
              "   Brand                                         Model_Info  ... State  Price\n",
              "0      1                      name0 name234 64gb space grey  ...     2  15000\n",
              "1      1   phone 7 name42 name453 new condition box acce...  ...     0  18800\n",
              "2      1            name0 x 256gb leess used good condition  ...     4  50000\n",
              "3      1                     name0 6s plus 64 gb space grey  ...     7  16500\n",
              "4      1   phone 7 sealed pack brand new factory outet p...  ...     0  26499\n",
              "\n",
              "[5 rows x 7 columns]"
            ]
          },
          "metadata": {
            "tags": []
          },
          "execution_count": 7
        }
      ]
    },
    {
      "cell_type": "code",
      "metadata": {
        "id": "ISMwqie81_dQ",
        "colab_type": "code",
        "outputId": "0df2a142-2518-4fdf-be1b-53d86b6c27c0",
        "colab": {
          "base_uri": "https://localhost:8080/",
          "height": 197
        }
      },
      "source": [
        "test.tail(5)"
      ],
      "execution_count": 8,
      "outputs": [
        {
          "output_type": "execute_result",
          "data": {
            "text/html": [
              "<div>\n",
              "<style scoped>\n",
              "    .dataframe tbody tr th:only-of-type {\n",
              "        vertical-align: middle;\n",
              "    }\n",
              "\n",
              "    .dataframe tbody tr th {\n",
              "        vertical-align: top;\n",
              "    }\n",
              "\n",
              "    .dataframe thead th {\n",
              "        text-align: right;\n",
              "    }\n",
              "</style>\n",
              "<table border=\"1\" class=\"dataframe\">\n",
              "  <thead>\n",
              "    <tr style=\"text-align: right;\">\n",
              "      <th></th>\n",
              "      <th>Brand</th>\n",
              "      <th>Model_Info</th>\n",
              "      <th>Additional_Description</th>\n",
              "      <th>Locality</th>\n",
              "      <th>City</th>\n",
              "      <th>State</th>\n",
              "    </tr>\n",
              "  </thead>\n",
              "  <tbody>\n",
              "    <tr>\n",
              "      <th>992</th>\n",
              "      <td>1</td>\n",
              "      <td>name0 7 32gb sale accessories</td>\n",
              "      <td>wife upgrading mobile 10100000 x 101009600 sp...</td>\n",
              "      <td>796</td>\n",
              "      <td>4</td>\n",
              "      <td>0</td>\n",
              "    </tr>\n",
              "    <tr>\n",
              "      <th>993</th>\n",
              "      <td>1</td>\n",
              "      <td>name233 8 pro 6gb ram 128gb rom 1year old mobile</td>\n",
              "      <td>101004800 1010036800 1 month 12 days old 1010...</td>\n",
              "      <td>145</td>\n",
              "      <td>17</td>\n",
              "      <td>7</td>\n",
              "    </tr>\n",
              "    <tr>\n",
              "      <th>994</th>\n",
              "      <td>0</td>\n",
              "      <td>name233 name2815 6 gb ram 128 gb rom blue 3 m...</td>\n",
              "      <td>10100105200 leeco 1010018400 10100221100 1010...</td>\n",
              "      <td>352</td>\n",
              "      <td>13</td>\n",
              "      <td>5</td>\n",
              "    </tr>\n",
              "    <tr>\n",
              "      <th>995</th>\n",
              "      <td>1</td>\n",
              "      <td>name269 phone 6</td>\n",
              "      <td>phone best condition 101006600 device selling...</td>\n",
              "      <td>350</td>\n",
              "      <td>4</td>\n",
              "      <td>0</td>\n",
              "    </tr>\n",
              "    <tr>\n",
              "      <th>996</th>\n",
              "      <td>1</td>\n",
              "      <td>name0 7 red 128 gb</td>\n",
              "      <td>1010023300 9 10100148200 good condition compl...</td>\n",
              "      <td>602</td>\n",
              "      <td>11</td>\n",
              "      <td>4</td>\n",
              "    </tr>\n",
              "  </tbody>\n",
              "</table>\n",
              "</div>"
            ],
            "text/plain": [
              "     Brand                                         Model_Info  ... City  State\n",
              "992      1                      name0 7 32gb sale accessories  ...    4      0\n",
              "993      1   name233 8 pro 6gb ram 128gb rom 1year old mobile  ...   17      7\n",
              "994      0   name233 name2815 6 gb ram 128 gb rom blue 3 m...  ...   13      5\n",
              "995      1                                    name269 phone 6  ...    4      0\n",
              "996      1                                 name0 7 red 128 gb  ...   11      4\n",
              "\n",
              "[5 rows x 6 columns]"
            ]
          },
          "metadata": {
            "tags": []
          },
          "execution_count": 8
        }
      ]
    },
    {
      "cell_type": "code",
      "metadata": {
        "id": "pxWm9mHM2DKK",
        "colab_type": "code",
        "outputId": "46a67653-4916-4cac-ecab-72d1af2bd1a4",
        "colab": {
          "base_uri": "https://localhost:8080/",
          "height": 375
        }
      },
      "source": [
        "train.isnull().sum(),test.isnull().sum(),train.shape,test.shape,train.dtypes"
      ],
      "execution_count": 9,
      "outputs": [
        {
          "output_type": "execute_result",
          "data": {
            "text/plain": [
              "(Brand                     0\n",
              " Model_Info                0\n",
              " Additional_Description    0\n",
              " Locality                  0\n",
              " City                      0\n",
              " State                     0\n",
              " Price                     0\n",
              " dtype: int64, Brand                     0\n",
              " Model_Info                0\n",
              " Additional_Description    0\n",
              " Locality                  0\n",
              " City                      0\n",
              " State                     0\n",
              " dtype: int64, (2326, 7), (997, 6), Brand                      int64\n",
              " Model_Info                object\n",
              " Additional_Description    object\n",
              " Locality                   int64\n",
              " City                       int64\n",
              " State                      int64\n",
              " Price                      int64\n",
              " dtype: object)"
            ]
          },
          "metadata": {
            "tags": []
          },
          "execution_count": 9
        }
      ]
    },
    {
      "cell_type": "code",
      "metadata": {
        "id": "sF6V-rzk2GJM",
        "colab_type": "code",
        "colab": {}
      },
      "source": [
        "import re\n",
        "def clean_text(text):\n",
        "    text = text.lower()\n",
        "    text = re.sub(r'@[a-zA-Z0-9_]+', '', text)   \n",
        "    text = re.sub(r'https?://[A-Za-z0-9./]+', '', text)   \n",
        "    text = re.sub(r'www.[^ ]+', '', text)  \n",
        "    text = re.sub(r'[a-zA-Z0-9]*www[a-zA-Z0-9]*com[a-zA-Z0-9]*', '', text)  \n",
        "    text = re.sub(r'[^a-zA-Z]', ' ', text)   \n",
        "    text = [token for token in text.split() if len(token) > 2]\n",
        "    text = ' '.join(text)\n",
        "    return text\n",
        "\n",
        "train['Additional_Description'] = train['Additional_Description'].apply(clean_text)\n",
        "test['Additional_Description'] = test['Additional_Description'].apply(clean_text)"
      ],
      "execution_count": 0,
      "outputs": []
    },
    {
      "cell_type": "code",
      "metadata": {
        "id": "QmxnS7Q8Epw_",
        "colab_type": "code",
        "colab": {}
      },
      "source": [
        "df=train.append(test,ignore_index=True)"
      ],
      "execution_count": 0,
      "outputs": []
    },
    {
      "cell_type": "code",
      "metadata": {
        "id": "O_JiAJvC6BOo",
        "colab_type": "code",
        "colab": {}
      },
      "source": [
        "m=[]\n",
        "for i in df['Model_Info']:\n",
        "  k=list(map(str, i.strip().split(' ')))\n",
        "  k.sort()\n",
        "  k=str(k)\n",
        "  m.append(k)\n",
        "df['Model_Info']=m\n"
      ],
      "execution_count": 0,
      "outputs": []
    },
    {
      "cell_type": "code",
      "metadata": {
        "id": "P0Xvtn1e-w0K",
        "colab_type": "code",
        "colab": {}
      },
      "source": [
        "i=list(range(0, 3323))\n",
        "df['title']=i"
      ],
      "execution_count": 0,
      "outputs": []
    },
    {
      "cell_type": "code",
      "metadata": {
        "id": "HUuhPxqq2_Cf",
        "colab_type": "code",
        "outputId": "f1cf3c06-35d0-456d-8b29-f878d76de0b8",
        "colab": {
          "base_uri": "https://localhost:8080/",
          "height": 276
        }
      },
      "source": [
        "import re\n",
        "go_tags=df.copy()\n",
        "def clean_tag(tag):\n",
        "    tag = re.sub(r\"[\\'\\[\\]]\",\"\",tag)\n",
        "    tag = re.sub(r'\\s','',tag)\n",
        "    tag = re.sub(r'\\\"','',tag)\n",
        "    return tag\n",
        "go_tags['Model_Info']=go_tags['Model_Info'].apply(lambda x: clean_tag(x))\n",
        "\n",
        "temp=go_tags['Model_Info'].str.split(',')\n",
        "\n",
        "go_tags=go_tags.reindex(go_tags.index.repeat(temp.apply(len)))\n",
        "go_tags['Model_Info_new'] = np.hstack(temp)\n",
        "go_tags=go_tags[['title','Model_Info_new']]\n",
        "go_tags=pd.crosstab(go_tags.title,go_tags.Model_Info_new)\n",
        "go_tags.head()"
      ],
      "execution_count": 0,
      "outputs": [
        {
          "output_type": "execute_result",
          "data": {
            "text/html": [
              "<div>\n",
              "<style scoped>\n",
              "    .dataframe tbody tr th:only-of-type {\n",
              "        vertical-align: middle;\n",
              "    }\n",
              "\n",
              "    .dataframe tbody tr th {\n",
              "        vertical-align: top;\n",
              "    }\n",
              "\n",
              "    .dataframe thead th {\n",
              "        text-align: right;\n",
              "    }\n",
              "</style>\n",
              "<table border=\"1\" class=\"dataframe\">\n",
              "  <thead>\n",
              "    <tr style=\"text-align: right;\">\n",
              "      <th>Model_Info_new</th>\n",
              "      <th>040519</th>\n",
              "      <th>1</th>\n",
              "      <th>10</th>\n",
              "      <th>100</th>\n",
              "      <th>1000</th>\n",
              "      <th>10000</th>\n",
              "      <th>10months</th>\n",
              "      <th>10x</th>\n",
              "      <th>10xmax</th>\n",
              "      <th>11</th>\n",
              "      <th>116gb</th>\n",
              "      <th>11900</th>\n",
              "      <th>11pro</th>\n",
              "      <th>12</th>\n",
              "      <th>12000</th>\n",
              "      <th>123</th>\n",
              "      <th>124</th>\n",
              "      <th>12500</th>\n",
              "      <th>128</th>\n",
              "      <th>128gb</th>\n",
              "      <th>128gb25000₹</th>\n",
              "      <th>128gbname54</th>\n",
              "      <th>128gib</th>\n",
              "      <th>128gigs</th>\n",
              "      <th>129</th>\n",
              "      <th>12900</th>\n",
              "      <th>12999</th>\n",
              "      <th>12999rs</th>\n",
              "      <th>12months</th>\n",
              "      <th>12yr</th>\n",
              "      <th>13</th>\n",
              "      <th>13000rs</th>\n",
              "      <th>131</th>\n",
              "      <th>131updated</th>\n",
              "      <th>132mp</th>\n",
              "      <th>13900</th>\n",
              "      <th>13mp</th>\n",
              "      <th>14</th>\n",
              "      <th>14000</th>\n",
              "      <th>14499</th>\n",
              "      <th>...</th>\n",
              "      <th>wireless</th>\n",
              "      <th>withbox</th>\n",
              "      <th>within</th>\n",
              "      <th>without</th>\n",
              "      <th>woratty</th>\n",
              "      <th>work</th>\n",
              "      <th>working</th>\n",
              "      <th>wrnty</th>\n",
              "      <th>x</th>\n",
              "      <th>x2</th>\n",
              "      <th>x256gb</th>\n",
              "      <th>x64gb</th>\n",
              "      <th>xcell</th>\n",
              "      <th>xr</th>\n",
              "      <th>xr128gb</th>\n",
              "      <th>xrproduct</th>\n",
              "      <th>xs</th>\n",
              "      <th>xs64gb</th>\n",
              "      <th>xsmax</th>\n",
              "      <th>xsmaxglittering</th>\n",
              "      <th>xt19023</th>\n",
              "      <th>y9</th>\n",
              "      <th>yea</th>\n",
              "      <th>year</th>\n",
              "      <th>years</th>\n",
              "      <th>yes</th>\n",
              "      <th>yr</th>\n",
              "      <th>yrs</th>\n",
              "      <th>z</th>\n",
              "      <th>z1</th>\n",
              "      <th>z2</th>\n",
              "      <th>zed</th>\n",
              "      <th>zero</th>\n",
              "      <th>zet</th>\n",
              "      <th>zuk</th>\n",
              "      <th>¶¶</th>\n",
              "      <th>—</th>\n",
              "      <th>•</th>\n",
              "      <th>₹30000</th>\n",
              "      <th>➖32gb</th>\n",
              "    </tr>\n",
              "    <tr>\n",
              "      <th>title</th>\n",
              "      <th></th>\n",
              "      <th></th>\n",
              "      <th></th>\n",
              "      <th></th>\n",
              "      <th></th>\n",
              "      <th></th>\n",
              "      <th></th>\n",
              "      <th></th>\n",
              "      <th></th>\n",
              "      <th></th>\n",
              "      <th></th>\n",
              "      <th></th>\n",
              "      <th></th>\n",
              "      <th></th>\n",
              "      <th></th>\n",
              "      <th></th>\n",
              "      <th></th>\n",
              "      <th></th>\n",
              "      <th></th>\n",
              "      <th></th>\n",
              "      <th></th>\n",
              "      <th></th>\n",
              "      <th></th>\n",
              "      <th></th>\n",
              "      <th></th>\n",
              "      <th></th>\n",
              "      <th></th>\n",
              "      <th></th>\n",
              "      <th></th>\n",
              "      <th></th>\n",
              "      <th></th>\n",
              "      <th></th>\n",
              "      <th></th>\n",
              "      <th></th>\n",
              "      <th></th>\n",
              "      <th></th>\n",
              "      <th></th>\n",
              "      <th></th>\n",
              "      <th></th>\n",
              "      <th></th>\n",
              "      <th></th>\n",
              "      <th></th>\n",
              "      <th></th>\n",
              "      <th></th>\n",
              "      <th></th>\n",
              "      <th></th>\n",
              "      <th></th>\n",
              "      <th></th>\n",
              "      <th></th>\n",
              "      <th></th>\n",
              "      <th></th>\n",
              "      <th></th>\n",
              "      <th></th>\n",
              "      <th></th>\n",
              "      <th></th>\n",
              "      <th></th>\n",
              "      <th></th>\n",
              "      <th></th>\n",
              "      <th></th>\n",
              "      <th></th>\n",
              "      <th></th>\n",
              "      <th></th>\n",
              "      <th></th>\n",
              "      <th></th>\n",
              "      <th></th>\n",
              "      <th></th>\n",
              "      <th></th>\n",
              "      <th></th>\n",
              "      <th></th>\n",
              "      <th></th>\n",
              "      <th></th>\n",
              "      <th></th>\n",
              "      <th></th>\n",
              "      <th></th>\n",
              "      <th></th>\n",
              "      <th></th>\n",
              "      <th></th>\n",
              "      <th></th>\n",
              "      <th></th>\n",
              "      <th></th>\n",
              "      <th></th>\n",
              "    </tr>\n",
              "  </thead>\n",
              "  <tbody>\n",
              "    <tr>\n",
              "      <th>0</th>\n",
              "      <td>0</td>\n",
              "      <td>0</td>\n",
              "      <td>0</td>\n",
              "      <td>0</td>\n",
              "      <td>0</td>\n",
              "      <td>0</td>\n",
              "      <td>0</td>\n",
              "      <td>0</td>\n",
              "      <td>0</td>\n",
              "      <td>0</td>\n",
              "      <td>0</td>\n",
              "      <td>0</td>\n",
              "      <td>0</td>\n",
              "      <td>0</td>\n",
              "      <td>0</td>\n",
              "      <td>0</td>\n",
              "      <td>0</td>\n",
              "      <td>0</td>\n",
              "      <td>0</td>\n",
              "      <td>0</td>\n",
              "      <td>0</td>\n",
              "      <td>0</td>\n",
              "      <td>0</td>\n",
              "      <td>0</td>\n",
              "      <td>0</td>\n",
              "      <td>0</td>\n",
              "      <td>0</td>\n",
              "      <td>0</td>\n",
              "      <td>0</td>\n",
              "      <td>0</td>\n",
              "      <td>0</td>\n",
              "      <td>0</td>\n",
              "      <td>0</td>\n",
              "      <td>0</td>\n",
              "      <td>0</td>\n",
              "      <td>0</td>\n",
              "      <td>0</td>\n",
              "      <td>0</td>\n",
              "      <td>0</td>\n",
              "      <td>0</td>\n",
              "      <td>...</td>\n",
              "      <td>0</td>\n",
              "      <td>0</td>\n",
              "      <td>0</td>\n",
              "      <td>0</td>\n",
              "      <td>0</td>\n",
              "      <td>0</td>\n",
              "      <td>0</td>\n",
              "      <td>0</td>\n",
              "      <td>0</td>\n",
              "      <td>0</td>\n",
              "      <td>0</td>\n",
              "      <td>0</td>\n",
              "      <td>0</td>\n",
              "      <td>0</td>\n",
              "      <td>0</td>\n",
              "      <td>0</td>\n",
              "      <td>0</td>\n",
              "      <td>0</td>\n",
              "      <td>0</td>\n",
              "      <td>0</td>\n",
              "      <td>0</td>\n",
              "      <td>0</td>\n",
              "      <td>0</td>\n",
              "      <td>0</td>\n",
              "      <td>0</td>\n",
              "      <td>0</td>\n",
              "      <td>0</td>\n",
              "      <td>0</td>\n",
              "      <td>0</td>\n",
              "      <td>0</td>\n",
              "      <td>0</td>\n",
              "      <td>0</td>\n",
              "      <td>0</td>\n",
              "      <td>0</td>\n",
              "      <td>0</td>\n",
              "      <td>0</td>\n",
              "      <td>0</td>\n",
              "      <td>0</td>\n",
              "      <td>0</td>\n",
              "      <td>0</td>\n",
              "    </tr>\n",
              "    <tr>\n",
              "      <th>1</th>\n",
              "      <td>0</td>\n",
              "      <td>0</td>\n",
              "      <td>0</td>\n",
              "      <td>0</td>\n",
              "      <td>0</td>\n",
              "      <td>0</td>\n",
              "      <td>0</td>\n",
              "      <td>0</td>\n",
              "      <td>0</td>\n",
              "      <td>0</td>\n",
              "      <td>0</td>\n",
              "      <td>0</td>\n",
              "      <td>0</td>\n",
              "      <td>0</td>\n",
              "      <td>0</td>\n",
              "      <td>0</td>\n",
              "      <td>0</td>\n",
              "      <td>0</td>\n",
              "      <td>0</td>\n",
              "      <td>0</td>\n",
              "      <td>0</td>\n",
              "      <td>0</td>\n",
              "      <td>0</td>\n",
              "      <td>0</td>\n",
              "      <td>0</td>\n",
              "      <td>0</td>\n",
              "      <td>0</td>\n",
              "      <td>0</td>\n",
              "      <td>0</td>\n",
              "      <td>0</td>\n",
              "      <td>0</td>\n",
              "      <td>0</td>\n",
              "      <td>0</td>\n",
              "      <td>0</td>\n",
              "      <td>0</td>\n",
              "      <td>0</td>\n",
              "      <td>0</td>\n",
              "      <td>0</td>\n",
              "      <td>0</td>\n",
              "      <td>0</td>\n",
              "      <td>...</td>\n",
              "      <td>0</td>\n",
              "      <td>0</td>\n",
              "      <td>0</td>\n",
              "      <td>0</td>\n",
              "      <td>0</td>\n",
              "      <td>0</td>\n",
              "      <td>0</td>\n",
              "      <td>0</td>\n",
              "      <td>0</td>\n",
              "      <td>0</td>\n",
              "      <td>0</td>\n",
              "      <td>0</td>\n",
              "      <td>0</td>\n",
              "      <td>0</td>\n",
              "      <td>0</td>\n",
              "      <td>0</td>\n",
              "      <td>0</td>\n",
              "      <td>0</td>\n",
              "      <td>0</td>\n",
              "      <td>0</td>\n",
              "      <td>0</td>\n",
              "      <td>0</td>\n",
              "      <td>0</td>\n",
              "      <td>0</td>\n",
              "      <td>0</td>\n",
              "      <td>0</td>\n",
              "      <td>0</td>\n",
              "      <td>0</td>\n",
              "      <td>0</td>\n",
              "      <td>0</td>\n",
              "      <td>0</td>\n",
              "      <td>0</td>\n",
              "      <td>0</td>\n",
              "      <td>0</td>\n",
              "      <td>0</td>\n",
              "      <td>0</td>\n",
              "      <td>0</td>\n",
              "      <td>0</td>\n",
              "      <td>0</td>\n",
              "      <td>0</td>\n",
              "    </tr>\n",
              "    <tr>\n",
              "      <th>2</th>\n",
              "      <td>0</td>\n",
              "      <td>0</td>\n",
              "      <td>0</td>\n",
              "      <td>0</td>\n",
              "      <td>0</td>\n",
              "      <td>0</td>\n",
              "      <td>0</td>\n",
              "      <td>0</td>\n",
              "      <td>0</td>\n",
              "      <td>0</td>\n",
              "      <td>0</td>\n",
              "      <td>0</td>\n",
              "      <td>0</td>\n",
              "      <td>0</td>\n",
              "      <td>0</td>\n",
              "      <td>0</td>\n",
              "      <td>0</td>\n",
              "      <td>0</td>\n",
              "      <td>0</td>\n",
              "      <td>0</td>\n",
              "      <td>0</td>\n",
              "      <td>0</td>\n",
              "      <td>0</td>\n",
              "      <td>0</td>\n",
              "      <td>0</td>\n",
              "      <td>0</td>\n",
              "      <td>0</td>\n",
              "      <td>0</td>\n",
              "      <td>0</td>\n",
              "      <td>0</td>\n",
              "      <td>0</td>\n",
              "      <td>0</td>\n",
              "      <td>0</td>\n",
              "      <td>0</td>\n",
              "      <td>0</td>\n",
              "      <td>0</td>\n",
              "      <td>0</td>\n",
              "      <td>0</td>\n",
              "      <td>0</td>\n",
              "      <td>0</td>\n",
              "      <td>...</td>\n",
              "      <td>0</td>\n",
              "      <td>0</td>\n",
              "      <td>0</td>\n",
              "      <td>0</td>\n",
              "      <td>0</td>\n",
              "      <td>0</td>\n",
              "      <td>0</td>\n",
              "      <td>0</td>\n",
              "      <td>1</td>\n",
              "      <td>0</td>\n",
              "      <td>0</td>\n",
              "      <td>0</td>\n",
              "      <td>0</td>\n",
              "      <td>0</td>\n",
              "      <td>0</td>\n",
              "      <td>0</td>\n",
              "      <td>0</td>\n",
              "      <td>0</td>\n",
              "      <td>0</td>\n",
              "      <td>0</td>\n",
              "      <td>0</td>\n",
              "      <td>0</td>\n",
              "      <td>0</td>\n",
              "      <td>0</td>\n",
              "      <td>0</td>\n",
              "      <td>0</td>\n",
              "      <td>0</td>\n",
              "      <td>0</td>\n",
              "      <td>0</td>\n",
              "      <td>0</td>\n",
              "      <td>0</td>\n",
              "      <td>0</td>\n",
              "      <td>0</td>\n",
              "      <td>0</td>\n",
              "      <td>0</td>\n",
              "      <td>0</td>\n",
              "      <td>0</td>\n",
              "      <td>0</td>\n",
              "      <td>0</td>\n",
              "      <td>0</td>\n",
              "    </tr>\n",
              "    <tr>\n",
              "      <th>3</th>\n",
              "      <td>0</td>\n",
              "      <td>0</td>\n",
              "      <td>0</td>\n",
              "      <td>0</td>\n",
              "      <td>0</td>\n",
              "      <td>0</td>\n",
              "      <td>0</td>\n",
              "      <td>0</td>\n",
              "      <td>0</td>\n",
              "      <td>0</td>\n",
              "      <td>0</td>\n",
              "      <td>0</td>\n",
              "      <td>0</td>\n",
              "      <td>0</td>\n",
              "      <td>0</td>\n",
              "      <td>0</td>\n",
              "      <td>0</td>\n",
              "      <td>0</td>\n",
              "      <td>0</td>\n",
              "      <td>0</td>\n",
              "      <td>0</td>\n",
              "      <td>0</td>\n",
              "      <td>0</td>\n",
              "      <td>0</td>\n",
              "      <td>0</td>\n",
              "      <td>0</td>\n",
              "      <td>0</td>\n",
              "      <td>0</td>\n",
              "      <td>0</td>\n",
              "      <td>0</td>\n",
              "      <td>0</td>\n",
              "      <td>0</td>\n",
              "      <td>0</td>\n",
              "      <td>0</td>\n",
              "      <td>0</td>\n",
              "      <td>0</td>\n",
              "      <td>0</td>\n",
              "      <td>0</td>\n",
              "      <td>0</td>\n",
              "      <td>0</td>\n",
              "      <td>...</td>\n",
              "      <td>0</td>\n",
              "      <td>0</td>\n",
              "      <td>0</td>\n",
              "      <td>0</td>\n",
              "      <td>0</td>\n",
              "      <td>0</td>\n",
              "      <td>0</td>\n",
              "      <td>0</td>\n",
              "      <td>0</td>\n",
              "      <td>0</td>\n",
              "      <td>0</td>\n",
              "      <td>0</td>\n",
              "      <td>0</td>\n",
              "      <td>0</td>\n",
              "      <td>0</td>\n",
              "      <td>0</td>\n",
              "      <td>0</td>\n",
              "      <td>0</td>\n",
              "      <td>0</td>\n",
              "      <td>0</td>\n",
              "      <td>0</td>\n",
              "      <td>0</td>\n",
              "      <td>0</td>\n",
              "      <td>0</td>\n",
              "      <td>0</td>\n",
              "      <td>0</td>\n",
              "      <td>0</td>\n",
              "      <td>0</td>\n",
              "      <td>0</td>\n",
              "      <td>0</td>\n",
              "      <td>0</td>\n",
              "      <td>0</td>\n",
              "      <td>0</td>\n",
              "      <td>0</td>\n",
              "      <td>0</td>\n",
              "      <td>0</td>\n",
              "      <td>0</td>\n",
              "      <td>0</td>\n",
              "      <td>0</td>\n",
              "      <td>0</td>\n",
              "    </tr>\n",
              "    <tr>\n",
              "      <th>4</th>\n",
              "      <td>0</td>\n",
              "      <td>0</td>\n",
              "      <td>0</td>\n",
              "      <td>0</td>\n",
              "      <td>0</td>\n",
              "      <td>0</td>\n",
              "      <td>0</td>\n",
              "      <td>0</td>\n",
              "      <td>0</td>\n",
              "      <td>0</td>\n",
              "      <td>0</td>\n",
              "      <td>0</td>\n",
              "      <td>0</td>\n",
              "      <td>0</td>\n",
              "      <td>0</td>\n",
              "      <td>0</td>\n",
              "      <td>0</td>\n",
              "      <td>0</td>\n",
              "      <td>0</td>\n",
              "      <td>0</td>\n",
              "      <td>0</td>\n",
              "      <td>0</td>\n",
              "      <td>0</td>\n",
              "      <td>0</td>\n",
              "      <td>0</td>\n",
              "      <td>0</td>\n",
              "      <td>0</td>\n",
              "      <td>0</td>\n",
              "      <td>0</td>\n",
              "      <td>0</td>\n",
              "      <td>0</td>\n",
              "      <td>0</td>\n",
              "      <td>0</td>\n",
              "      <td>0</td>\n",
              "      <td>0</td>\n",
              "      <td>0</td>\n",
              "      <td>0</td>\n",
              "      <td>0</td>\n",
              "      <td>0</td>\n",
              "      <td>0</td>\n",
              "      <td>...</td>\n",
              "      <td>0</td>\n",
              "      <td>0</td>\n",
              "      <td>0</td>\n",
              "      <td>0</td>\n",
              "      <td>0</td>\n",
              "      <td>0</td>\n",
              "      <td>0</td>\n",
              "      <td>0</td>\n",
              "      <td>0</td>\n",
              "      <td>0</td>\n",
              "      <td>0</td>\n",
              "      <td>0</td>\n",
              "      <td>0</td>\n",
              "      <td>0</td>\n",
              "      <td>0</td>\n",
              "      <td>0</td>\n",
              "      <td>0</td>\n",
              "      <td>0</td>\n",
              "      <td>0</td>\n",
              "      <td>0</td>\n",
              "      <td>0</td>\n",
              "      <td>0</td>\n",
              "      <td>0</td>\n",
              "      <td>0</td>\n",
              "      <td>0</td>\n",
              "      <td>0</td>\n",
              "      <td>0</td>\n",
              "      <td>0</td>\n",
              "      <td>0</td>\n",
              "      <td>0</td>\n",
              "      <td>0</td>\n",
              "      <td>0</td>\n",
              "      <td>0</td>\n",
              "      <td>0</td>\n",
              "      <td>0</td>\n",
              "      <td>0</td>\n",
              "      <td>0</td>\n",
              "      <td>0</td>\n",
              "      <td>0</td>\n",
              "      <td>0</td>\n",
              "    </tr>\n",
              "  </tbody>\n",
              "</table>\n",
              "<p>5 rows × 1647 columns</p>\n",
              "</div>"
            ],
            "text/plain": [
              "Model_Info_new  040519  1  10  100  1000  10000  ...  zuk  ¶¶  —  •  ₹30000  ➖32gb\n",
              "title                                            ...                              \n",
              "0                    0  0   0    0     0      0  ...    0   0  0  0       0      0\n",
              "1                    0  0   0    0     0      0  ...    0   0  0  0       0      0\n",
              "2                    0  0   0    0     0      0  ...    0   0  0  0       0      0\n",
              "3                    0  0   0    0     0      0  ...    0   0  0  0       0      0\n",
              "4                    0  0   0    0     0      0  ...    0   0  0  0       0      0\n",
              "\n",
              "[5 rows x 1647 columns]"
            ]
          },
          "metadata": {
            "tags": []
          },
          "execution_count": 12
        }
      ]
    },
    {
      "cell_type": "code",
      "metadata": {
        "id": "G5CxyMVD5TMW",
        "colab_type": "code",
        "colab": {}
      },
      "source": [
        "df=df.merge(go_tags, on='title', how='left')"
      ],
      "execution_count": 0,
      "outputs": []
    },
    {
      "cell_type": "code",
      "metadata": {
        "id": "HjvbVhTNHah5",
        "colab_type": "code",
        "outputId": "db4f54d7-134c-44d4-ce1e-dfa9ebbe2ebf",
        "colab": {
          "base_uri": "https://localhost:8080/",
          "height": 68
        }
      },
      "source": [
        "import nltk\n",
        "nltk.download('stopwords')"
      ],
      "execution_count": 0,
      "outputs": [
        {
          "output_type": "stream",
          "text": [
            "[nltk_data] Downloading package stopwords to /root/nltk_data...\n",
            "[nltk_data]   Unzipping corpora/stopwords.zip.\n"
          ],
          "name": "stdout"
        },
        {
          "output_type": "execute_result",
          "data": {
            "text/plain": [
              "True"
            ]
          },
          "metadata": {
            "tags": []
          },
          "execution_count": 14
        }
      ]
    },
    {
      "cell_type": "code",
      "metadata": {
        "id": "ZvsIR_fHF5lb",
        "colab_type": "code",
        "colab": {}
      },
      "source": [
        "import string\n",
        "punctuation=string.punctuation\n",
        "df['word_count']=df['Additional_Description'].apply(lambda x: len(str(x).split(\" \")))\n",
        "df['char_count'] = df['Additional_Description'].str.len()\n",
        "def avg_word(sentence):\n",
        "    words = sentence.split()\n",
        "    return (sum(len(word) for word in words)/len(words))\n",
        "\n",
        "df['avg_word'] = df['Additional_Description'].apply(lambda x: avg_word(x))\n",
        "from nltk.corpus import stopwords\n",
        "stop = stopwords.words('english')\n",
        "\n",
        "df['stopwords'] = df['Additional_Description'].apply(lambda x: len([x for x in x.split() if x in stop]))\n",
        "df['numerics'] = df['Additional_Description'].apply(lambda x: len([x for x in x.split() if x.isdigit()]))\n",
        "df['upper'] = df['Additional_Description'].apply(lambda x: len([x for x in x.split() if x.isupper()]))\n",
        "df['word_density'] = df['char_count'] / (df['word_count']+1)\n",
        "df['punctuation_count'] = df['Additional_Description'].apply(lambda x: len(\"\".join(_ for _ in x if _ in punctuation)))"
      ],
      "execution_count": 0,
      "outputs": []
    },
    {
      "cell_type": "code",
      "metadata": {
        "id": "Cop3Mv5VHKUx",
        "colab_type": "code",
        "colab": {}
      },
      "source": [
        "train = df[df['Price'].isnull()==False]\n",
        "test = df[df['Price'].isnull()==True]"
      ],
      "execution_count": 0,
      "outputs": []
    },
    {
      "cell_type": "code",
      "metadata": {
        "id": "Lh5wWAQBHgeU",
        "colab_type": "code",
        "colab": {}
      },
      "source": [
        "del train['Model_Info']\n",
        "del test['Model_Info']\n",
        "del train['title']\n",
        "del test['title']\n",
        "del train['Additional_Description']\n",
        "del test['Additional_Description']\n",
        "del test['Price']"
      ],
      "execution_count": 0,
      "outputs": []
    },
    {
      "cell_type": "code",
      "metadata": {
        "id": "vANcgyLDHiaO",
        "colab_type": "code",
        "colab": {}
      },
      "source": [
        "import warnings\n",
        "warnings.simplefilter(action='ignore', category=FutureWarning)"
      ],
      "execution_count": 0,
      "outputs": []
    },
    {
      "cell_type": "code",
      "metadata": {
        "id": "EmXLwvm0IH53",
        "colab_type": "code",
        "colab": {}
      },
      "source": [
        "train_df=train"
      ],
      "execution_count": 0,
      "outputs": []
    },
    {
      "cell_type": "code",
      "metadata": {
        "id": "r96_0jnSIE_C",
        "colab_type": "code",
        "colab": {}
      },
      "source": [
        "X = train_df.drop(labels=['Price'], axis=1)\n",
        "y = train_df['Price'].values\n",
        "\n",
        "from sklearn.model_selection import train_test_split\n",
        "X_train, X_cv, y_train, y_cv = train_test_split(X, y, test_size=0.15, random_state=42)"
      ],
      "execution_count": 0,
      "outputs": []
    },
    {
      "cell_type": "code",
      "metadata": {
        "id": "qXkdL_UNIL48",
        "colab_type": "code",
        "outputId": "2571719c-f094-4786-c943-949bc66b8504",
        "colab": {
          "base_uri": "https://localhost:8080/",
          "height": 34
        }
      },
      "source": [
        "X_train.shape, y_train.shape, X_cv.shape, y_cv.shape"
      ],
      "execution_count": 0,
      "outputs": [
        {
          "output_type": "execute_result",
          "data": {
            "text/plain": [
              "((1977, 1659), (1977,), (349, 1659), (349,))"
            ]
          },
          "metadata": {
            "tags": []
          },
          "execution_count": 21
        }
      ]
    },
    {
      "cell_type": "code",
      "metadata": {
        "id": "SSEmz4TRIOA0",
        "colab_type": "code",
        "colab": {}
      },
      "source": [
        "\n",
        "from math import sqrt \n",
        "from sklearn.metrics import mean_squared_log_error"
      ],
      "execution_count": 0,
      "outputs": []
    },
    {
      "cell_type": "code",
      "metadata": {
        "id": "j3b6K7NVIT3_",
        "colab_type": "code",
        "outputId": "4a093368-1a03-498d-9238-cd7778904e5f",
        "colab": {
          "base_uri": "https://localhost:8080/",
          "height": 238
        }
      },
      "source": [
        "'''\n",
        "import lightgbm as lgb\n",
        "train_data = lgb.Dataset(X_train, label=y_train)\n",
        "test_data = lgb.Dataset(X_cv, label=y_cv)\n",
        "\n",
        "param = {'objective': 'regression',\n",
        "         'boosting': 'gbdt',  \n",
        "         'metric': 'l2_root',\n",
        "         'learning_rate': 0.001, \n",
        "         'num_iterations': 3500,\n",
        "         'num_leaves': 80,\n",
        "         'max_depth': -1,\n",
        "         'min_data_in_leaf': 11,\n",
        "         'bagging_fraction': 0.80,\n",
        "         'bagging_freq': 1,\n",
        "         'bagging_seed': 3,\n",
        "         'feature_fraction': 0.80,\n",
        "         'feature_fraction_seed': 2,\n",
        "         'early_stopping_round': 200,\n",
        "         'max_bin': 250\n",
        "         }\n",
        "\n",
        "lgbm = lgb.train(params=param, verbose_eval=100, train_set=train_data, valid_sets=[test_data])\n",
        "\n",
        "y_pred_lgbm = lgbm.predict(X_cv)\n",
        "print('RMSLE:', sqrt(mean_squared_log_error(y_cv, y_pred_lgbm)))\n",
        "'''\n",
        "import lightgbm as lgb\n",
        "train_data = lgb.Dataset(X_train, label=y_train)\n",
        "test_data = lgb.Dataset(X_cv, label=y_cv)\n",
        "\n",
        "param = {'objective': 'regression',\n",
        "         'boosting': 'gbdt',  \n",
        "         'metric': 'l2_root',\n",
        "         'learning_rate': 0.01, \n",
        "         'num_iterations': 1000,\n",
        "         'num_leaves': 30,\n",
        "         'max_depth': -1,\n",
        "         'min_data_in_leaf': 4,\n",
        "         'bagging_fraction': 0.78,\n",
        "         'bagging_freq': 1,\n",
        "         'feature_fraction': 0.65,\n",
        "         }\n",
        "\n",
        "lgbm = lgb.train(params=param,\n",
        "                 verbose_eval=100,\n",
        "                 early_stopping_rounds=50,\n",
        "                 train_set=train_data,\n",
        "                 valid_sets=[test_data])\n",
        "\n",
        "y_pred_lgbm = lgbm.predict(X_cv)\n",
        "print('RMSLE:', sqrt(mean_squared_log_error(y_cv, y_pred_lgbm)))"
      ],
      "execution_count": 0,
      "outputs": [
        {
          "output_type": "stream",
          "text": [
            "/usr/local/lib/python3.6/dist-packages/lightgbm/engine.py:118: UserWarning: Found `num_iterations` in params. Will use it instead of argument\n",
            "  warnings.warn(\"Found `{}` in params. Will use it instead of argument\".format(alias))\n"
          ],
          "name": "stderr"
        },
        {
          "output_type": "stream",
          "text": [
            "Training until validation scores don't improve for 50 rounds.\n",
            "[100]\tvalid_0's rmse: 12302.5\n",
            "[200]\tvalid_0's rmse: 10309.9\n",
            "[300]\tvalid_0's rmse: 9827.59\n",
            "[400]\tvalid_0's rmse: 9669.06\n",
            "[500]\tvalid_0's rmse: 9601.45\n",
            "[600]\tvalid_0's rmse: 9574.15\n",
            "[700]\tvalid_0's rmse: 9570.69\n",
            "Early stopping, best iteration is:\n",
            "[670]\tvalid_0's rmse: 9564.47\n",
            "RMSLE: 0.4672806789163651\n"
          ],
          "name": "stdout"
        }
      ]
    },
    {
      "cell_type": "code",
      "metadata": {
        "id": "35fAET9ZIWxS",
        "colab_type": "code",
        "outputId": "8253f203-340e-41c7-8c63-1dcf703d0d8e",
        "colab": {
          "base_uri": "https://localhost:8080/",
          "height": 728
        }
      },
      "source": [
        "import seaborn as sns\n",
        "feature_imp = pd.DataFrame(sorted(zip(lgbm.feature_importance(), X.columns), reverse=True)[:50], \n",
        "                           columns=['Value','Feature'])\n",
        "plt.figure(figsize=(12, 10))\n",
        "sns.barplot(x=\"Value\", y=\"Feature\", data=feature_imp.sort_values(by=\"Value\", ascending=False))\n",
        "plt.title('LightGBM Features')\n",
        "plt.tight_layout()\n",
        "plt.show()"
      ],
      "execution_count": 0,
      "outputs": [
        {
          "output_type": "display_data",
          "data": {
            "image/png": "[encoded data removed]",
            "text/plain": [
              "<Figure size 864x720 with 1 Axes>"
            ]
          },
          "metadata": {
            "tags": [],
            "needs_background": "light"
          }
        }
      ]
    },
    {
      "cell_type": "code",
      "metadata": {
        "id": "h4c-SbHaI-Kc",
        "colab_type": "code",
        "colab": {}
      },
      "source": [
        "Xtest = test"
      ],
      "execution_count": 0,
      "outputs": []
    },
    {
      "cell_type": "code",
      "metadata": {
        "id": "DiZp1mRiJGE6",
        "colab_type": "code",
        "outputId": "f621a47d-c56e-4591-9087-507ab76c237f",
        "colab": {
          "base_uri": "https://localhost:8080/",
          "height": 664
        }
      },
      "source": [
        "from sklearn.model_selection import KFold\n",
        "from lightgbm import LGBMRegressor\n",
        "\n",
        "errlgb = []\n",
        "y_pred_totlgb = []\n",
        "\n",
        "fold = KFold(n_splits=30, shuffle=True, random_state=42)\n",
        "\n",
        "for train_index, test_index in fold.split(X):\n",
        "    X_train, X_test = X.loc[train_index], X.loc[test_index]\n",
        "    y_train, y_test = y[train_index], y[test_index]\n",
        "\n",
        "    lgbm = LGBMRegressor(**param)\n",
        "    #lgbm = LGBMRegressor(boosting_type='gbdt', num_leaves=500, max_depth=31, learning_rate=0.07, n_estimators=2000, min_child_samples=20, subsample=0.80)\n",
        "    lgbm.fit(X_train, y_train, eval_set=[(X_test, y_test)], verbose=0, early_stopping_rounds=200)\n",
        "\n",
        "    y_pred_lgbm = lgbm.predict(X_test)\n",
        "    print(\"RMSLE LGBM: \", sqrt(mean_squared_log_error(y_test,y_pred_lgbm)))\n",
        "\n",
        "    errlgb.append(sqrt(mean_squared_log_error(y_test,y_pred_lgbm)))\n",
        "    p = lgbm.predict(Xtest)\n",
        "    y_pred_totlgb.append(p)"
      ],
      "execution_count": 0,
      "outputs": [
        {
          "output_type": "stream",
          "text": [
            "/usr/local/lib/python3.6/dist-packages/lightgbm/engine.py:118: UserWarning: Found `num_iterations` in params. Will use it instead of argument\n",
            "  warnings.warn(\"Found `{}` in params. Will use it instead of argument\".format(alias))\n"
          ],
          "name": "stderr"
        },
        {
          "output_type": "stream",
          "text": [
            "RMSLE LGBM:  0.5730126872952283\n"
          ],
          "name": "stdout"
        },
        {
          "output_type": "stream",
          "text": [
            "/usr/local/lib/python3.6/dist-packages/lightgbm/engine.py:118: UserWarning: Found `num_iterations` in params. Will use it instead of argument\n",
            "  warnings.warn(\"Found `{}` in params. Will use it instead of argument\".format(alias))\n"
          ],
          "name": "stderr"
        },
        {
          "output_type": "stream",
          "text": [
            "RMSLE LGBM:  0.3642792717706902\n"
          ],
          "name": "stdout"
        },
        {
          "output_type": "stream",
          "text": [
            "/usr/local/lib/python3.6/dist-packages/lightgbm/engine.py:118: UserWarning: Found `num_iterations` in params. Will use it instead of argument\n",
            "  warnings.warn(\"Found `{}` in params. Will use it instead of argument\".format(alias))\n"
          ],
          "name": "stderr"
        },
        {
          "output_type": "stream",
          "text": [
            "RMSLE LGBM:  0.3536937182913547\n"
          ],
          "name": "stdout"
        },
        {
          "output_type": "stream",
          "text": [
            "/usr/local/lib/python3.6/dist-packages/lightgbm/engine.py:118: UserWarning: Found `num_iterations` in params. Will use it instead of argument\n",
            "  warnings.warn(\"Found `{}` in params. Will use it instead of argument\".format(alias))\n"
          ],
          "name": "stderr"
        },
        {
          "output_type": "stream",
          "text": [
            "RMSLE LGBM:  0.367785561074817\n"
          ],
          "name": "stdout"
        },
        {
          "output_type": "stream",
          "text": [
            "/usr/local/lib/python3.6/dist-packages/lightgbm/engine.py:118: UserWarning: Found `num_iterations` in params. Will use it instead of argument\n",
            "  warnings.warn(\"Found `{}` in params. Will use it instead of argument\".format(alias))\n"
          ],
          "name": "stderr"
        },
        {
          "output_type": "stream",
          "text": [
            "RMSLE LGBM:  0.5921712193921056\n"
          ],
          "name": "stdout"
        },
        {
          "output_type": "stream",
          "text": [
            "/usr/local/lib/python3.6/dist-packages/lightgbm/engine.py:118: UserWarning: Found `num_iterations` in params. Will use it instead of argument\n",
            "  warnings.warn(\"Found `{}` in params. Will use it instead of argument\".format(alias))\n"
          ],
          "name": "stderr"
        },
        {
          "output_type": "error",
          "ename": "KeyboardInterrupt",
          "evalue": "ignored",
          "traceback": [
            "\u001b[0;31m---------------------------------------------------------------------------\u001b[0m",
            "\u001b[0;31mKeyboardInterrupt\u001b[0m                         Traceback (most recent call last)",
            "\u001b[0;32m<ipython-input-145-d7bc1b797bf0>\u001b[0m in \u001b[0;36m<module>\u001b[0;34m()\u001b[0m\n\u001b[1;32m     13\u001b[0m     \u001b[0mlgbm\u001b[0m \u001b[0;34m=\u001b[0m \u001b[0mLGBMRegressor\u001b[0m\u001b[0;34m(\u001b[0m\u001b[0;34m**\u001b[0m\u001b[0mparam\u001b[0m\u001b[0;34m)\u001b[0m\u001b[0;34m\u001b[0m\u001b[0;34m\u001b[0m\u001b[0m\n\u001b[1;32m     14\u001b[0m     \u001b[0;31m#lgbm = LGBMRegressor(boosting_type='gbdt', num_leaves=500, max_depth=31, learning_rate=0.07, n_estimators=2000, min_child_samples=20, subsample=0.80)\u001b[0m\u001b[0;34m\u001b[0m\u001b[0;34m\u001b[0m\u001b[0;34m\u001b[0m\u001b[0m\n\u001b[0;32m---> 15\u001b[0;31m     \u001b[0mlgbm\u001b[0m\u001b[0;34m.\u001b[0m\u001b[0mfit\u001b[0m\u001b[0;34m(\u001b[0m\u001b[0mX_train\u001b[0m\u001b[0;34m,\u001b[0m \u001b[0my_train\u001b[0m\u001b[0;34m,\u001b[0m \u001b[0meval_set\u001b[0m\u001b[0;34m=\u001b[0m\u001b[0;34m[\u001b[0m\u001b[0;34m(\u001b[0m\u001b[0mX_test\u001b[0m\u001b[0;34m,\u001b[0m \u001b[0my_test\u001b[0m\u001b[0;34m)\u001b[0m\u001b[0;34m]\u001b[0m\u001b[0;34m,\u001b[0m \u001b[0mverbose\u001b[0m\u001b[0;34m=\u001b[0m\u001b[0;36m0\u001b[0m\u001b[0;34m,\u001b[0m \u001b[0mearly_stopping_rounds\u001b[0m\u001b[0;34m=\u001b[0m\u001b[0;36m200\u001b[0m\u001b[0;34m)\u001b[0m\u001b[0;34m\u001b[0m\u001b[0;34m\u001b[0m\u001b[0m\n\u001b[0m\u001b[1;32m     16\u001b[0m \u001b[0;34m\u001b[0m\u001b[0m\n\u001b[1;32m     17\u001b[0m     \u001b[0my_pred_lgbm\u001b[0m \u001b[0;34m=\u001b[0m \u001b[0mlgbm\u001b[0m\u001b[0;34m.\u001b[0m\u001b[0mpredict\u001b[0m\u001b[0;34m(\u001b[0m\u001b[0mX_test\u001b[0m\u001b[0;34m)\u001b[0m\u001b[0;34m\u001b[0m\u001b[0;34m\u001b[0m\u001b[0m\n",
            "\u001b[0;32m/usr/local/lib/python3.6/dist-packages/lightgbm/sklearn.py\u001b[0m in \u001b[0;36mfit\u001b[0;34m(self, X, y, sample_weight, init_score, eval_set, eval_names, eval_sample_weight, eval_init_score, eval_metric, early_stopping_rounds, verbose, feature_name, categorical_feature, callbacks)\u001b[0m\n\u001b[1;32m    683\u001b[0m                                        \u001b[0mverbose\u001b[0m\u001b[0;34m=\u001b[0m\u001b[0mverbose\u001b[0m\u001b[0;34m,\u001b[0m \u001b[0mfeature_name\u001b[0m\u001b[0;34m=\u001b[0m\u001b[0mfeature_name\u001b[0m\u001b[0;34m,\u001b[0m\u001b[0;34m\u001b[0m\u001b[0;34m\u001b[0m\u001b[0m\n\u001b[1;32m    684\u001b[0m                                        \u001b[0mcategorical_feature\u001b[0m\u001b[0;34m=\u001b[0m\u001b[0mcategorical_feature\u001b[0m\u001b[0;34m,\u001b[0m\u001b[0;34m\u001b[0m\u001b[0;34m\u001b[0m\u001b[0m\n\u001b[0;32m--> 685\u001b[0;31m                                        callbacks=callbacks)\n\u001b[0m\u001b[1;32m    686\u001b[0m         \u001b[0;32mreturn\u001b[0m \u001b[0mself\u001b[0m\u001b[0;34m\u001b[0m\u001b[0;34m\u001b[0m\u001b[0m\n\u001b[1;32m    687\u001b[0m \u001b[0;34m\u001b[0m\u001b[0m\n",
            "\u001b[0;32m/usr/local/lib/python3.6/dist-packages/lightgbm/sklearn.py\u001b[0m in \u001b[0;36mfit\u001b[0;34m(self, X, y, sample_weight, init_score, group, eval_set, eval_names, eval_sample_weight, eval_class_weight, eval_init_score, eval_group, eval_metric, early_stopping_rounds, verbose, feature_name, categorical_feature, callbacks)\u001b[0m\n\u001b[1;32m    542\u001b[0m                               \u001b[0mverbose_eval\u001b[0m\u001b[0;34m=\u001b[0m\u001b[0mverbose\u001b[0m\u001b[0;34m,\u001b[0m \u001b[0mfeature_name\u001b[0m\u001b[0;34m=\u001b[0m\u001b[0mfeature_name\u001b[0m\u001b[0;34m,\u001b[0m\u001b[0;34m\u001b[0m\u001b[0;34m\u001b[0m\u001b[0m\n\u001b[1;32m    543\u001b[0m                               \u001b[0mcategorical_feature\u001b[0m\u001b[0;34m=\u001b[0m\u001b[0mcategorical_feature\u001b[0m\u001b[0;34m,\u001b[0m\u001b[0;34m\u001b[0m\u001b[0;34m\u001b[0m\u001b[0m\n\u001b[0;32m--> 544\u001b[0;31m                               callbacks=callbacks)\n\u001b[0m\u001b[1;32m    545\u001b[0m \u001b[0;34m\u001b[0m\u001b[0m\n\u001b[1;32m    546\u001b[0m         \u001b[0;32mif\u001b[0m \u001b[0mevals_result\u001b[0m\u001b[0;34m:\u001b[0m\u001b[0;34m\u001b[0m\u001b[0;34m\u001b[0m\u001b[0m\n",
            "\u001b[0;32m/usr/local/lib/python3.6/dist-packages/lightgbm/engine.py\u001b[0m in \u001b[0;36mtrain\u001b[0;34m(params, train_set, num_boost_round, valid_sets, valid_names, fobj, feval, init_model, feature_name, categorical_feature, early_stopping_rounds, evals_result, verbose_eval, learning_rates, keep_training_booster, callbacks)\u001b[0m\n\u001b[1;32m    216\u001b[0m                                     evaluation_result_list=None))\n\u001b[1;32m    217\u001b[0m \u001b[0;34m\u001b[0m\u001b[0m\n\u001b[0;32m--> 218\u001b[0;31m         \u001b[0mbooster\u001b[0m\u001b[0;34m.\u001b[0m\u001b[0mupdate\u001b[0m\u001b[0;34m(\u001b[0m\u001b[0mfobj\u001b[0m\u001b[0;34m=\u001b[0m\u001b[0mfobj\u001b[0m\u001b[0;34m)\u001b[0m\u001b[0;34m\u001b[0m\u001b[0;34m\u001b[0m\u001b[0m\n\u001b[0m\u001b[1;32m    219\u001b[0m \u001b[0;34m\u001b[0m\u001b[0m\n\u001b[1;32m    220\u001b[0m         \u001b[0mevaluation_result_list\u001b[0m \u001b[0;34m=\u001b[0m \u001b[0;34m[\u001b[0m\u001b[0;34m]\u001b[0m\u001b[0;34m\u001b[0m\u001b[0;34m\u001b[0m\u001b[0m\n",
            "\u001b[0;32m/usr/local/lib/python3.6/dist-packages/lightgbm/basic.py\u001b[0m in \u001b[0;36mupdate\u001b[0;34m(self, train_set, fobj)\u001b[0m\n\u001b[1;32m   1800\u001b[0m             _safe_call(_LIB.LGBM_BoosterUpdateOneIter(\n\u001b[1;32m   1801\u001b[0m                 \u001b[0mself\u001b[0m\u001b[0;34m.\u001b[0m\u001b[0mhandle\u001b[0m\u001b[0;34m,\u001b[0m\u001b[0;34m\u001b[0m\u001b[0;34m\u001b[0m\u001b[0m\n\u001b[0;32m-> 1802\u001b[0;31m                 ctypes.byref(is_finished)))\n\u001b[0m\u001b[1;32m   1803\u001b[0m             \u001b[0mself\u001b[0m\u001b[0;34m.\u001b[0m\u001b[0m__is_predicted_cur_iter\u001b[0m \u001b[0;34m=\u001b[0m \u001b[0;34m[\u001b[0m\u001b[0;32mFalse\u001b[0m \u001b[0;32mfor\u001b[0m \u001b[0m_\u001b[0m \u001b[0;32min\u001b[0m \u001b[0mrange_\u001b[0m\u001b[0;34m(\u001b[0m\u001b[0mself\u001b[0m\u001b[0;34m.\u001b[0m\u001b[0m__num_dataset\u001b[0m\u001b[0;34m)\u001b[0m\u001b[0;34m]\u001b[0m\u001b[0;34m\u001b[0m\u001b[0;34m\u001b[0m\u001b[0m\n\u001b[1;32m   1804\u001b[0m             \u001b[0;32mreturn\u001b[0m \u001b[0mis_finished\u001b[0m\u001b[0;34m.\u001b[0m\u001b[0mvalue\u001b[0m \u001b[0;34m==\u001b[0m \u001b[0;36m1\u001b[0m\u001b[0;34m\u001b[0m\u001b[0;34m\u001b[0m\u001b[0m\n",
            "\u001b[0;31mKeyboardInterrupt\u001b[0m: "
          ]
        }
      ]
    },
    {
      "cell_type": "code",
      "metadata": {
        "id": "cr9HJ3cMJI-h",
        "colab_type": "code",
        "outputId": "991d67bc-8eba-4f11-92b2-ca6c70d2ee8a",
        "colab": {
          "base_uri": "https://localhost:8080/",
          "height": 34
        }
      },
      "source": [
        "np.mean(errlgb,0)"
      ],
      "execution_count": 0,
      "outputs": [
        {
          "output_type": "execute_result",
          "data": {
            "text/plain": [
              "0.45018849156483914"
            ]
          },
          "metadata": {
            "tags": []
          },
          "execution_count": 146
        }
      ]
    },
    {
      "cell_type": "code",
      "metadata": {
        "id": "dh1JKPItJeZO",
        "colab_type": "code",
        "outputId": "f827c775-a409-48d2-869e-8d5d782af30f",
        "colab": {
          "base_uri": "https://localhost:8080/",
          "height": 1000
        }
      },
      "source": [
        "lgbm_final = np.mean(y_pred_totlgb,0)\n",
        "lgbm_final"
      ],
      "execution_count": 0,
      "outputs": [
        {
          "output_type": "execute_result",
          "data": {
            "text/plain": [
              "array([ 18559.90655812,  11931.79347186,  15998.689919  ,  45742.60252838,\n",
              "         8815.8819486 ,  26380.6583847 ,  16450.82536866,  12252.640109  ,\n",
              "        16567.30754444,  20036.73906691,  24880.19635619,  17968.50613382,\n",
              "        19182.85537638,  14668.67181723,  59994.3554487 ,   7659.58579248,\n",
              "        23334.91032146,  18367.62414472,   2971.64045814,  18301.37414208,\n",
              "        31297.60846842,   7517.78027314,  19882.15423648,  19690.64048639,\n",
              "        12366.42107597,  24455.7484201 ,  19482.02069769,  21093.88759601,\n",
              "        47811.03288156,  15173.09375833,  27270.24597844,  11564.59529518,\n",
              "        33745.31190032,  11346.63744051,  19536.44659333,  70671.12154849,\n",
              "        20447.47517022,  13339.00341119,  12681.01547524,  26597.78624486,\n",
              "        32133.56831229,  50731.45900192,   3308.51759555,  24646.5762027 ,\n",
              "        11314.17785382,   4816.7103581 ,  24116.56220232,  10913.49249104,\n",
              "        12113.53051673,   8529.12905003,   5737.09181721,  43492.58207083,\n",
              "        11174.35084584,   7273.782319  ,  67201.46499911,  25409.98342673,\n",
              "        13819.87115331,  21506.57490126,  26766.69180495,   6997.68516818,\n",
              "         6030.88956327,  13652.76831952,   8733.73563065,  51852.68310963,\n",
              "        44198.47548648,  83885.10629178,  27695.35059689,  22840.05901348,\n",
              "        21376.95029397,  11412.01512291,  23711.94379844,  19778.85521157,\n",
              "        30275.00918477,   5193.49083943,  14263.4685014 ,  20249.19389245,\n",
              "         8756.00266388,  29404.49151913,  39661.11284978,  28563.74780054,\n",
              "        18684.29231036,  21834.75642347,  17159.69405435,  77787.3012753 ,\n",
              "        77507.25749445,  10767.96677136,  31564.64612192,  75832.8721023 ,\n",
              "        13646.17889306,  25548.62259056,  16490.784991  ,  27128.61253718,\n",
              "        17689.24768799,  15381.04519008,  16550.71883501,  27926.66079449,\n",
              "         6406.7768416 ,  17346.78422221,  20527.63167371,  28291.77312847,\n",
              "        41251.91101841,  12796.76508785,  19091.85653658,  11340.2244902 ,\n",
              "        36772.09325522,   9979.84376031,  11733.47454787,  19649.15106442,\n",
              "         4942.76170942,  34451.45071619,  35547.25398086,  17493.11490952,\n",
              "        18460.17669185,  65522.86090426,  30036.36516523,  25105.0032638 ,\n",
              "        15080.6749747 ,  55613.28458759,  12392.76140723,  66028.77246185,\n",
              "        25790.16641799,  66400.14999076,  22980.47856519,   9245.34753366,\n",
              "         5645.00715604,   4164.95953184,  26114.74459463,  18538.08678532,\n",
              "        17306.5381949 ,   8378.17164848,  25057.83534137,  32813.49435848,\n",
              "        23383.89970732,   7612.43188905,  15352.32467572,   8370.69241861,\n",
              "        24587.58491993,  15143.21818533,  17469.10174511,  48507.93762621,\n",
              "        10836.0205584 ,  14532.22275264,  26401.14804798,  35765.18605168,\n",
              "        39686.32961463,  26847.05556768,  75254.80785416,  40134.69389767,\n",
              "        19524.14767002,  77789.30230494,  15952.25107535,  11507.91399827,\n",
              "        13798.74909644,  15384.81006848,  54440.89612949,  61876.09552395,\n",
              "        15014.29355189,  75713.22894424,  33235.42973016,   7479.48922061,\n",
              "        12934.55131386,  32762.54004042,   8660.06348956,  13491.27403433,\n",
              "        41138.27943945,  16530.75534584,   6366.24611209,  16818.46704204,\n",
              "        10475.44255573,  12105.65551595,  16144.17327212,  25409.01305711,\n",
              "        15761.19449974,  18007.54336982,  21225.14457233,  24443.55464596,\n",
              "        25581.64974763,  16405.92295409,  45537.4715569 ,   5050.05374588,\n",
              "        58022.0562702 ,   5679.06808256,  14955.44913283,   8635.01922221,\n",
              "        46093.56464031,  16203.05753282,   7265.24305315,   5250.45118207,\n",
              "        39946.92391305,  21675.46507605,  13724.80220355,  25921.34451197,\n",
              "        16654.74106407,  23230.96651152,   6553.97552198,  24627.3262802 ,\n",
              "        71511.15614422,  14976.30774783,  25017.84699714,  39155.52005119,\n",
              "        20066.64347275,  26119.33003546,  30988.15328066,  18649.68415246,\n",
              "        16914.54385937,  74627.71846106,  15128.35119688,  23321.75033295,\n",
              "        59349.91951589,   6227.612619  ,  17061.00131837,  11569.41959064,\n",
              "        13644.99661301,  14963.22324295,  22810.0436407 ,  29981.02528494,\n",
              "        24882.09697643,  28261.51030994,  15439.9417237 ,  71571.6399944 ,\n",
              "        17403.19386913,  19316.0601017 ,  12663.77466062,  52767.43384148,\n",
              "        16789.6732291 ,  18676.17990733,  26218.43371037,  11992.27358255,\n",
              "         9276.88062213,   8543.68926703,  30119.03342416,  15859.62377672,\n",
              "        12804.74534272,  23563.91426831,  74110.48292949,  11496.40788932,\n",
              "        14245.36035685,  24250.65132323,  10294.73211648,  15892.35799119,\n",
              "        24763.85425449,  13633.56250413,  19895.6752407 ,  27379.36541483,\n",
              "        75149.19712911,  32514.64273341,  22258.96913317,  13591.86692711,\n",
              "        16299.23387561,  17379.24595342,  16575.3009118 ,  20270.66949543,\n",
              "         3827.88869205,  22107.03958559,  13531.12486253,   9047.29841077,\n",
              "        16757.6126389 ,  72433.59034108,  26594.26429138,  13069.96093066,\n",
              "        11825.92949757,  58471.15022083,  66458.22870641,  26878.64342398,\n",
              "        31629.0137127 ,  17067.75784879,  23530.61819787,   7287.57273722,\n",
              "        22032.57711818,  19392.89805413,  54227.63104339,  16746.40140454,\n",
              "        14343.28544727,   6499.44206833,  43597.07445317,  19322.10649004,\n",
              "        23714.77922673,  12572.95942297,  48449.83521905,  25371.28426154,\n",
              "        15260.78816555,  19758.36220864,  14857.07554732,  16465.57212771,\n",
              "        67032.23773311,  16997.09720222,  16322.74061607,  23240.87151994,\n",
              "        30471.38443433,  24811.37103286,  17882.58035198,  23345.93895241,\n",
              "        15629.29821155,  18617.35636107,  25686.98092882,  15813.77222137,\n",
              "        24618.4141502 ,  18876.85076475,  12112.90113628,  14162.21760307,\n",
              "        22294.91931612,  68657.4193948 ,   6351.88309417,  26411.37059072,\n",
              "        22308.11008035,  32528.99442075,  15754.98300837,  17618.00812728,\n",
              "        21923.84954327,  14858.19970805,  16896.72890151,  10551.53103985,\n",
              "        17786.23027319,  21649.37609872,  13109.35273397,  15385.98695371,\n",
              "        21475.13657253,  18998.79131323,  12606.43721877,  21652.8038774 ,\n",
              "        22053.00435959,  21113.88988146,  26703.93940529,  44518.67118484,\n",
              "         2222.7449681 ,   9168.86028079,  42428.38502297,  17556.18994872,\n",
              "        14332.04882733,  19998.39747384,  59224.50739679,   7899.14899286,\n",
              "        17335.00402807,  28535.26336442,  37830.97193955,   5118.53382807,\n",
              "        30799.47200723,  17433.47491766,   8923.33989763,   5610.3075103 ,\n",
              "        16978.29530811,  10517.81336928,  78759.30614754,  14412.67183354,\n",
              "        20069.83136605,  18140.45710511,  25511.37575583,   8258.9967178 ,\n",
              "         4193.98177559,  37505.73322835,  18195.73288004,  17310.10396299,\n",
              "         5608.00666467,  11351.99893168,   9489.46185045,  33577.50704738,\n",
              "        23826.37269143,   8852.65954006,  18241.64914764,  12496.43306955,\n",
              "        18160.46157097,   9021.21288237,  45830.80687641,  22746.64374079,\n",
              "        62868.14294689,  11854.86500135,  17787.47292005,  10443.45523349,\n",
              "        19512.15689998,   8199.24202771,  34585.59028254,  60481.80622843,\n",
              "        79730.29399809,   7344.54164731,  12288.19991572,  19506.99907378,\n",
              "        71636.55794392,  20718.96549775,   5377.83479168,  11273.73429108,\n",
              "        15055.60062028,  20918.585947  ,  19885.40771339,  19299.74611689,\n",
              "        22131.90284633,  75346.70380636,  42883.04737467,  10140.408114  ,\n",
              "        39481.04659262,  39560.23902498,  62800.15419814,  56884.23570044,\n",
              "        20529.16982486,  14661.23396535,   7665.58727423,  12457.82517314,\n",
              "        19959.22737067,  19669.06277877,  16083.78207743,  23515.5234904 ,\n",
              "        16886.58999255,  52062.77999373,  18169.82673951,  77155.955566  ,\n",
              "        12501.54665871,  14579.83540095,  19903.38081651,  40579.88571296,\n",
              "        20954.53602968,  20835.16004419,  17070.21994833,  27865.93858885,\n",
              "        17102.2954939 ,  71347.51233779,  22605.79308397,  35296.33062508,\n",
              "        89983.85166987,  11882.44158363,   3017.47454647,  22695.07549152,\n",
              "        15222.7860014 ,  21927.17326828,  29241.57652615,  15024.87106202,\n",
              "        22629.37250645,  10248.79882737,  13673.45533815,  19529.67965966,\n",
              "         9658.59706981,  21347.9277328 ,  16520.04340405,  20328.87322273,\n",
              "         9986.30040137,  27695.375174  ,  18106.31408012,  12482.80506522,\n",
              "        12621.25262591,  19791.77523826,   7474.12321634,  82101.10862979,\n",
              "        20487.13584329,  30689.10709239,  17137.97160703,  66536.18857077,\n",
              "         7341.85652313,  25116.4070092 ,  42114.93156822,  76756.56391801,\n",
              "         5957.26695029,  15005.02365777,  25855.54708412,  76155.17726629,\n",
              "        15702.67201669,  17168.31289637,  18768.69649296,  23372.99495253,\n",
              "       103260.52757601,  37564.77076951,  14828.08896162,  53208.96248724,\n",
              "         8219.18323517,  18612.36811453,  20077.84274007,  29706.09351519,\n",
              "        27640.11503305,  14104.86900127,   7118.64938662,  14637.30239361,\n",
              "        14041.22383489,  77011.60299529,  10164.88901827,  14885.34496826,\n",
              "        20041.74832635,  13693.01983386,  15005.02365777,  68785.21773202,\n",
              "        63559.87317181,  11206.93136704,  17797.3985158 ,  19419.31345628,\n",
              "        71901.68891025,  16688.45567367,  19736.76131774,  16447.30877678,\n",
              "        22277.61473547,  20194.70406014,  65937.24028741,  41082.89481063,\n",
              "        28551.86116084,  11185.27463536,  34937.01118724,  24951.12636384,\n",
              "        30038.01346139,  20561.43781526,  12266.57198106,  19273.5481621 ,\n",
              "        36393.36512992, 113766.57536812,  73705.72582077,  13438.00842104,\n",
              "        22027.76446768,   8982.50779212,  18994.80659902,  12615.22253777,\n",
              "        13357.81064451,  40399.98398052,  11812.0496302 ,  22149.08483301,\n",
              "        13149.75461921,   6804.51755753,  12513.4943461 ,  12756.45440166,\n",
              "        25092.73894994,  20060.02857216,  10283.94091675,  38911.44288515,\n",
              "        12646.54782199,  23872.45942242,  27357.62829255,  43110.63954464,\n",
              "        28714.70576987,  11628.74899687,  19359.37245508,  75005.81225486,\n",
              "        35083.22316578,   3906.08401079,  29224.16432971,  13813.21759603,\n",
              "         8841.77613821,  20087.21061272,  19317.58389794,  19174.95373607,\n",
              "        76184.26030879,  16619.01447714,  15549.47687305,  17695.89840399,\n",
              "        58820.59630911,  14282.46599257,  21488.58134583,  12454.12366813,\n",
              "        24005.14297645,  24654.25432155,  45040.30823287,  21248.6664711 ,\n",
              "        43456.79876998,  72186.64786138,  16932.47297507,  81835.31359102,\n",
              "        24563.32812624,   9115.02643263,  35442.87167004,  10376.1029668 ,\n",
              "        17926.08776566,  33596.7472693 ,  65016.33689732,  19655.23167725,\n",
              "        32006.58754866,   4784.93697186,  21968.17306192,  46584.2335449 ,\n",
              "         3311.96819853, 105833.75758443,  17658.90655063,   6311.14490197,\n",
              "        15016.72508937,  19233.86121221,  12943.57957149,   5644.83873957,\n",
              "        38724.51013903,  26851.73217231,  12231.93925343,   7227.91901391,\n",
              "        21100.42446969,  59807.61352282,  19822.42948643,  15083.97757784,\n",
              "        42604.66349972,  43253.69794634,  29607.35492093,  49062.33213478,\n",
              "        15792.96450548,  42643.16961645,  20912.6416389 ,  19783.06888771,\n",
              "        16706.70578664,   6642.2698184 ,  16787.65448821,  26394.75502055,\n",
              "        20908.91006688,  27123.78390802,   9117.3347935 ,  25786.71608684,\n",
              "        15875.73387489,  49230.03147007,  24357.81102992,   9758.09825612,\n",
              "        23616.25744136,  49222.44192858,  23610.65718369,  30998.69312631,\n",
              "        51538.62245416,  39832.25910266,  73145.85139656,  51736.90964967,\n",
              "        12897.91085953,  83947.37178788,  23318.07582882,  15750.04966424,\n",
              "        24024.91243119,  18757.8819911 ,  10489.02827151,  14915.91766662,\n",
              "        31285.33418197,  14020.11708225,  17567.73545384,  40791.34756806,\n",
              "         4946.06164937,  69072.39302355,   3082.10195725,   3075.47123463,\n",
              "        16708.37687223,  40208.90011301,  20793.54416995,  12692.81878847,\n",
              "        16563.80216092,  15024.54753047,  23905.91436097,  21407.28869462,\n",
              "        15424.96684659,  23315.04250404,  26088.94971707,  35864.03320765,\n",
              "        21787.14240844,   6125.50283792,  18243.53697518,  40859.5911602 ,\n",
              "        20315.37781367,  14785.85221499,  21311.12356321,  35798.94005543,\n",
              "        32621.53304105,  16915.57502927,  52165.94602366,  18404.88334533,\n",
              "        19314.03281257,  55809.28544897,  15849.47314826,  26490.31449498,\n",
              "        20445.61274752,  27762.27049939,  23818.3800438 , 110371.38303806,\n",
              "        68641.57670637,  39443.05596091,  16416.84911853,  23867.89995008,\n",
              "        15938.64333519,  15975.20852589,  17607.33297512,  21564.98014919,\n",
              "        31875.74480791,  42009.94145664,   7796.42866588,  63683.82230605,\n",
              "        16772.69622141,  14499.60093502,   7148.36425716,  24230.98610608,\n",
              "        28579.47472613,  82111.67773313,  18121.660466  ,  15730.44758722,\n",
              "        34755.3721196 ,  18863.74101017,  17607.53238753,  65916.51952548,\n",
              "        14169.46005301,  32703.80825721,  15099.66630641,  27798.54534841,\n",
              "        35085.78523773,  23289.68970113,  16226.98205802,   6189.49477443,\n",
              "        75142.20922895,  20060.52076022,  26889.1262657 ,  16411.00650177,\n",
              "        21201.58763496,  25607.62438462,  19427.64502251,   4773.91337041,\n",
              "        28389.58251931,  14943.7301619 ,  31803.08178317,  21251.82740853,\n",
              "        15698.14984334,  64548.49580979,  15242.43228172,  32771.70415933,\n",
              "        13809.1044485 ,  27943.39918761,   7411.61771839,  20488.72086816,\n",
              "        46470.63979327,  21974.58326293,  16147.12928428,  27562.30254787,\n",
              "        11419.3382088 ,   8312.36781438,  12146.84903109,  10914.69965064,\n",
              "        17210.6868331 ,   6252.75892218,  24912.39087953,  12990.31193235,\n",
              "        62324.13765681,  16596.81497183,  19701.04978183,  22819.59954183,\n",
              "        62994.71669983,   9021.36567064,  55802.19949427,  20705.81876672,\n",
              "        13354.73905106,  15792.20613378,  14980.57560554,  50032.72521357,\n",
              "        22611.54984029,   9876.59835654,  14426.57402605,  23699.76623302,\n",
              "        42923.39020296,  19392.68329082,  16315.55152951,  24510.19591079,\n",
              "        61288.88976313,  22253.22127975,  24454.67780834,  13893.04177496,\n",
              "        16670.26472042,   7728.24155471,  18248.1253257 ,  19306.47339796,\n",
              "        51761.53818236,  13514.21029073,  30122.95074854,   5371.18748674,\n",
              "        22030.20185319,  14873.34026095,  11358.4870724 ,  71823.63046277,\n",
              "        45387.38484302,  12446.79839819,  17675.50577051,  36265.05599913,\n",
              "        13079.73183115,   5998.74670025,  17610.79848747,  63028.46341713,\n",
              "        17252.9123825 ,  25672.30895925,   7854.89444341,  28585.22409046,\n",
              "        11912.84075847,   8193.11342695,   6949.06118583,  12634.57601968,\n",
              "        74064.69816981,  21589.46178702,  14780.8938233 ,  29231.04464977,\n",
              "        23699.60265474,   8421.79373719,  55425.57708718,  49717.01218644,\n",
              "         8824.93737645,  38049.41778421,  11724.41002828,  26438.82974337,\n",
              "        26420.06366412,  22467.11216574,  27827.33117637,  45613.77777643,\n",
              "        34865.85597636,  26249.40893785,  19090.8798088 ,  23866.55332957,\n",
              "        16724.5345983 ,  20974.24692792,  23504.63647133,   9410.3537724 ,\n",
              "        12697.76170032,  14697.41921245,  95378.43572945,  13502.50679531,\n",
              "        12011.99284343,  78005.34401562,   6033.31541995,  28980.65300096,\n",
              "        17183.36963672,  19519.47304137,  19447.46422928,  23772.53561083,\n",
              "        17320.49517234,  15358.29658702,  14814.4110583 ,  28120.97260221,\n",
              "         7392.68351726,  48812.26411863,  29034.10314655,  16672.66217217,\n",
              "        21023.8705425 ,  24649.80055178,  26043.29678249,  16148.10583687,\n",
              "        20691.18091712,  23630.61566807,  77018.80500559,  15338.98391448,\n",
              "        18234.72410133,  20335.63139812,  12371.17449468,  12020.64278235,\n",
              "        51075.76965162,  23931.67748414,  21300.72696379,  20508.04134028,\n",
              "        70612.96271262,  11630.64881262,  15852.25835894,  23939.41314146,\n",
              "        22407.08638215,  23240.36696204,  27142.53526645,  13147.77447555,\n",
              "        14277.44127384,  23188.89661743,  23905.78683373,  23099.881389  ,\n",
              "        21048.23698446,  17911.96950361,  18985.11697299,   7043.30914579,\n",
              "        40382.18592932,  16015.44327353,  19355.37495715,  56793.23465853,\n",
              "        12700.03372162,  13968.45665227,  21235.32643649,  12198.01973737,\n",
              "        31410.34108997,  16986.82566513,  21440.16814097,  14774.97367437,\n",
              "        28442.83419774,  13279.96926425,  32242.17809861,  19485.84360605,\n",
              "        10258.29134168,  23987.97445424,  16836.17830696,  14886.33340663,\n",
              "         5462.32724974,   7596.18843142,  11532.70483257,  23903.55200773,\n",
              "        70790.97676948,  24646.82900252,   9528.9719457 ,   5731.71661978,\n",
              "        14898.39593228,  22848.1373307 ,  12471.95986107,  22021.9931313 ,\n",
              "        25289.13000726,   7082.13371332,  11613.82276824,  16499.87004132,\n",
              "        12106.85495049,  32717.80264099,  44918.6840636 ,   7497.59623699,\n",
              "        22583.99826934,  64894.57480863,  29914.21871277,  25287.88922041,\n",
              "        23949.11523908,  58509.68747146,  31856.34012706,  19724.30266239,\n",
              "        17828.0586551 ,  27912.34878167,  50007.76732266,  23603.51235896,\n",
              "        45522.98899762,  13720.66647213,  44345.95181037,  27716.81877622,\n",
              "        23400.68501173,  20804.89224826,   7383.64761538,  23979.73573051,\n",
              "         7847.62167409,  19121.05363726,  14148.92828069,   7746.76981736,\n",
              "        19318.42668765,  13803.86404933,  24755.56966759,  39317.10467937,\n",
              "        24944.55223173,  80567.78853238,  26336.08504282,  33232.55468328,\n",
              "        68444.34778951,  17701.32922432,  78727.96082   ,   6866.33681059,\n",
              "        71940.18920669,  24922.62176623,  14744.83933925,   6150.68776299,\n",
              "        25896.03861549,  14930.97663042,  28570.96413362,  13745.00810938,\n",
              "        13584.76219591,  10821.87137969,  13070.88127116,  16840.73198843,\n",
              "        42219.50304359,  14062.50737402,   1902.63498495,  70211.87284754,\n",
              "        27205.491961  ,  17162.06889268,  20522.84355346,  12015.61494031,\n",
              "        11412.17600599,  23977.60545481,  19064.29656314,  46062.68996318,\n",
              "        18105.61434249,  20600.29583062,  18946.01739079,  21404.41572958,\n",
              "         7508.34031994,  19111.35470768,   5293.43639452,  23973.30191601,\n",
              "        76524.22596201,  19860.89217075,   8281.6326831 ,  13256.32555073,\n",
              "        24635.24540846,  13309.25699171,  27376.44824221,  25483.99415323,\n",
              "        41384.26872287,  20520.77796241,  12208.07312514,  24466.51082394,\n",
              "        13123.73393073,  42763.57843049,  16168.03736483,  69561.43130467,\n",
              "        29084.8532512 ,  27423.5214815 ,  57281.74426779,  55285.35154377,\n",
              "        24770.42361854,  18531.94522744,   2228.74201714,  18404.78568915,\n",
              "        30145.38212168,   2694.33939452,  37843.94505968,  25532.23247005,\n",
              "        63147.18886969,  30583.79136855,  19194.7670683 ,  27608.60389297,\n",
              "        15629.02549942,  41166.01555528,  14227.36034081,  14659.46641902,\n",
              "        13983.84068995,  30551.6043399 ,  21101.09833052,  15313.20585043,\n",
              "        20526.07916255,  36554.55441378,  10936.68339576,  12435.29789607,\n",
              "        23870.3422131 ])"
            ]
          },
          "metadata": {
            "tags": []
          },
          "execution_count": 149
        }
      ]
    },
    {
      "cell_type": "code",
      "metadata": {
        "id": "vUL3nsHAJg4S",
        "colab_type": "code",
        "outputId": "402c765a-0726-4c89-9f6c-5ff50828764e",
        "colab": {
          "base_uri": "https://localhost:8080/",
          "height": 256
        }
      },
      "source": [
        "submission = pd.DataFrame({\n",
        "        \"Price\": abs(lgbm_final)\n",
        "    })\n",
        "submission.to_excel('./fin.xlsx', index=False)\n",
        "print(submission)"
      ],
      "execution_count": 0,
      "outputs": [
        {
          "output_type": "stream",
          "text": [
            "            Price\n",
            "0    18559.906558\n",
            "1    11931.793472\n",
            "2    15998.689919\n",
            "3    45742.602528\n",
            "4     8815.881949\n",
            "..            ...\n",
            "992  20526.079163\n",
            "993  36554.554414\n",
            "994  10936.683396\n",
            "995  12435.297896\n",
            "996  23870.342213\n",
            "\n",
            "[997 rows x 1 columns]\n"
          ],
          "name": "stdout"
        }
      ]
    },
    {
      "cell_type": "code",
      "metadata": {
        "id": "eJs5rUbuJ0JX",
        "colab_type": "code",
        "colab": {}
      },
      "source": [
        "from google.colab import files\n",
        "files.download('fin.xlsx')"
      ],
      "execution_count": 0,
      "outputs": []
    },
    {
      "cell_type": "markdown",
      "metadata": {
        "id": "iYqniM94LFkQ",
        "colab_type": "text"
      },
      "source": [
        "# gbm"
      ]
    },
    {
      "cell_type": "code",
      "metadata": {
        "id": "-l-tZIAQKAZd",
        "colab_type": "code",
        "outputId": "a664f97a-a3b6-4939-b852-05c3148e6f52",
        "colab": {
          "base_uri": "https://localhost:8080/",
          "height": 443
        }
      },
      "source": [
        "from sklearn.ensemble import GradientBoostingRegressor\n",
        "gb = GradientBoostingRegressor(verbose=1, learning_rate=0.2, n_estimators=500, random_state=42, subsample=0.8)\n",
        "gb.fit(X_train, y_train)\n",
        "y_pred = gb.predict(X_cv)\n",
        "print('RMSLE', sqrt(mean_squared_log_error(y_cv, y_pred)))"
      ],
      "execution_count": 0,
      "outputs": [
        {
          "output_type": "stream",
          "text": [
            "      Iter       Train Loss      OOB Improve   Remaining Time \n",
            "         1   372612217.0112    94258500.1998           14.03s\n",
            "         2   320649732.5270    46886035.2055           14.27s\n",
            "         3   262539867.6771    50136230.2702           13.99s\n",
            "         4   226811580.1745    26925666.1684           13.94s\n",
            "         5   217868163.0223    21261768.2231           13.86s\n",
            "         6   189556118.8782    14242657.5953           13.75s\n",
            "         7   184983200.9415    12693227.9473           13.72s\n",
            "         8   169605812.2738    11571483.9647           13.85s\n",
            "         9   158447435.9286     9386505.7014           13.81s\n",
            "        10   144979054.3497     2977030.7878           13.77s\n",
            "        20   101396035.5438     2905912.0227           13.50s\n",
            "        30    84144652.1941      -13573.6209           13.29s\n",
            "        40    73408048.1586     1218250.8359           13.03s\n",
            "        50    61861747.5050     -213489.9943           12.68s\n",
            "        60    60059719.9671       38876.3556           12.42s\n",
            "        70    52666565.7686    -1150524.7543           12.12s\n",
            "        80    48001808.7037     -131817.6364           11.80s\n",
            "        90    48126529.0900     -201953.6880           11.52s\n",
            "       100    42771382.2087      -64577.9828           11.26s\n",
            "       200    29384294.5812        3612.1557            8.40s\n",
            "       300    21676499.4446     -188021.6405            5.60s\n",
            "       400    16821117.7265      -72373.7181            2.81s\n",
            "       500    13149490.2818      -51911.2999            0.00s\n",
            "RMSLE 0.3956892998902856\n"
          ],
          "name": "stdout"
        }
      ]
    },
    {
      "cell_type": "code",
      "metadata": {
        "id": "aPJQTrfdLbdF",
        "colab_type": "code",
        "outputId": "9387bb20-931b-4791-ca88-48a9b27baf7e",
        "colab": {
          "base_uri": "https://localhost:8080/",
          "height": 728
        }
      },
      "source": [
        "import seaborn as sns\n",
        "feature_imp = pd.DataFrame(sorted(zip(gb.feature_importances_, X.columns), reverse=True)[:60], columns=['Value','Feature'])\n",
        "plt.figure(figsize=(12,10))\n",
        "sns.barplot(x=\"Value\", y=\"Feature\", data=feature_imp.sort_values(by=\"Value\", ascending=False))\n",
        "plt.title('Gradient Boosting Features')\n",
        "plt.tight_layout()\n",
        "plt.show()"
      ],
      "execution_count": 0,
      "outputs": [
        {
          "output_type": "display_data",
          "data": {
            "image/png": "[encoded data removed]",
            "text/plain": [
              "<Figure size 864x720 with 1 Axes>"
            ]
          },
          "metadata": {
            "tags": [],
            "needs_background": "light"
          }
        }
      ]
    },
    {
      "cell_type": "code",
      "metadata": {
        "id": "DKiGVzsRLtf1",
        "colab_type": "code",
        "colab": {}
      },
      "source": [
        "Xtest = test"
      ],
      "execution_count": 0,
      "outputs": []
    },
    {
      "cell_type": "code",
      "metadata": {
        "id": "KNlZ-YjGL3p5",
        "colab_type": "code",
        "outputId": "64e864d2-74bb-4bf5-b8aa-9fb8532546d3",
        "colab": {
          "base_uri": "https://localhost:8080/",
          "height": 350
        }
      },
      "source": [
        "from sklearn.model_selection import KFold\n",
        "\n",
        "errgb = []\n",
        "y_pred_totgb = []\n",
        "\n",
        "fold = KFold(n_splits=10, shuffle=True, random_state=42)#42\n",
        "\n",
        "for train_index, test_index in fold.split(X):\n",
        "    X_train, X_test = X.loc[train_index], X.loc[test_index]\n",
        "    y_train, y_test = y[train_index], y[test_index]\n",
        "\n",
        "    #gb = GradientBoostingRegressor(learning_rate=0.1, n_estimators=1000, random_state=42, subsample=0.9) #42        \n",
        "    gb = GradientBoostingRegressor(learning_rate=0.2, n_estimators=500, random_state=42, subsample=0.8)\n",
        "    #gb = GradientBoostingRegressor(learning_rate=0.1, n_estimators=1000, random_state=42, subsample=0.8)\n",
        "    gb.fit(X_train, y_train)\n",
        "    y_pred = gb.predict(X_test)\n",
        "\n",
        "    print('RMSE', sqrt(mean_squared_log_error(y_test, y_pred)))\n",
        "\n",
        "    errgb.append(sqrt(mean_squared_log_error(y_test, y_pred)))\n",
        "    p = gb.predict(Xtest)\n",
        "    y_pred_totgb.append(p)"
      ],
      "execution_count": 0,
      "outputs": [
        {
          "output_type": "error",
          "ename": "ValueError",
          "evalue": "ignored",
          "traceback": [
            "\u001b[0;31m---------------------------------------------------------------------------\u001b[0m",
            "\u001b[0;31mValueError\u001b[0m                                Traceback (most recent call last)",
            "\u001b[0;32m<ipython-input-135-6d261cb63164>\u001b[0m in \u001b[0;36m<module>\u001b[0;34m()\u001b[0m\n\u001b[1;32m     16\u001b[0m     \u001b[0my_pred\u001b[0m \u001b[0;34m=\u001b[0m \u001b[0mgb\u001b[0m\u001b[0;34m.\u001b[0m\u001b[0mpredict\u001b[0m\u001b[0;34m(\u001b[0m\u001b[0mX_test\u001b[0m\u001b[0;34m)\u001b[0m\u001b[0;34m\u001b[0m\u001b[0;34m\u001b[0m\u001b[0m\n\u001b[1;32m     17\u001b[0m \u001b[0;34m\u001b[0m\u001b[0m\n\u001b[0;32m---> 18\u001b[0;31m     \u001b[0mprint\u001b[0m\u001b[0;34m(\u001b[0m\u001b[0;34m'RMSE'\u001b[0m\u001b[0;34m,\u001b[0m \u001b[0msqrt\u001b[0m\u001b[0;34m(\u001b[0m\u001b[0mmean_squared_log_error\u001b[0m\u001b[0;34m(\u001b[0m\u001b[0my_test\u001b[0m\u001b[0;34m,\u001b[0m \u001b[0my_pred\u001b[0m\u001b[0;34m)\u001b[0m\u001b[0;34m)\u001b[0m\u001b[0;34m)\u001b[0m\u001b[0;34m\u001b[0m\u001b[0;34m\u001b[0m\u001b[0m\n\u001b[0m\u001b[1;32m     19\u001b[0m \u001b[0;34m\u001b[0m\u001b[0m\n\u001b[1;32m     20\u001b[0m     \u001b[0merrgb\u001b[0m\u001b[0;34m.\u001b[0m\u001b[0mappend\u001b[0m\u001b[0;34m(\u001b[0m\u001b[0msqrt\u001b[0m\u001b[0;34m(\u001b[0m\u001b[0mmean_squared_log_error\u001b[0m\u001b[0;34m(\u001b[0m\u001b[0my_test\u001b[0m\u001b[0;34m,\u001b[0m \u001b[0my_pred\u001b[0m\u001b[0;34m)\u001b[0m\u001b[0;34m)\u001b[0m\u001b[0;34m)\u001b[0m\u001b[0;34m\u001b[0m\u001b[0;34m\u001b[0m\u001b[0m\n",
            "\u001b[0;32m/usr/local/lib/python3.6/dist-packages/sklearn/metrics/_regression.py\u001b[0m in \u001b[0;36mmean_squared_log_error\u001b[0;34m(y_true, y_pred, sample_weight, multioutput)\u001b[0m\n\u001b[1;32m    324\u001b[0m \u001b[0;34m\u001b[0m\u001b[0m\n\u001b[1;32m    325\u001b[0m     \u001b[0;32mif\u001b[0m \u001b[0;34m(\u001b[0m\u001b[0my_true\u001b[0m \u001b[0;34m<\u001b[0m \u001b[0;36m0\u001b[0m\u001b[0;34m)\u001b[0m\u001b[0;34m.\u001b[0m\u001b[0many\u001b[0m\u001b[0;34m(\u001b[0m\u001b[0;34m)\u001b[0m \u001b[0;32mor\u001b[0m \u001b[0;34m(\u001b[0m\u001b[0my_pred\u001b[0m \u001b[0;34m<\u001b[0m \u001b[0;36m0\u001b[0m\u001b[0;34m)\u001b[0m\u001b[0;34m.\u001b[0m\u001b[0many\u001b[0m\u001b[0;34m(\u001b[0m\u001b[0;34m)\u001b[0m\u001b[0;34m:\u001b[0m\u001b[0;34m\u001b[0m\u001b[0;34m\u001b[0m\u001b[0m\n\u001b[0;32m--> 326\u001b[0;31m         raise ValueError(\"Mean Squared Logarithmic Error cannot be used when \"\n\u001b[0m\u001b[1;32m    327\u001b[0m                          \"targets contain negative values.\")\n\u001b[1;32m    328\u001b[0m \u001b[0;34m\u001b[0m\u001b[0m\n",
            "\u001b[0;31mValueError\u001b[0m: Mean Squared Logarithmic Error cannot be used when targets contain negative values."
          ]
        }
      ]
    },
    {
      "cell_type": "code",
      "metadata": {
        "id": "PLi5PYodL6xK",
        "colab_type": "code",
        "outputId": "faf83df5-6200-4fb0-c55c-f7d1ee3967c8",
        "colab": {
          "base_uri": "https://localhost:8080/",
          "height": 34
        }
      },
      "source": [
        "np.mean(errgb)"
      ],
      "execution_count": 0,
      "outputs": [
        {
          "output_type": "execute_result",
          "data": {
            "text/plain": [
              "0.4396340694317682"
            ]
          },
          "metadata": {
            "tags": []
          },
          "execution_count": 128
        }
      ]
    },
    {
      "cell_type": "code",
      "metadata": {
        "id": "MeKxWCtDM42p",
        "colab_type": "code",
        "outputId": "1db74a37-bc79-4f71-f6b7-b558349de8d1",
        "colab": {
          "base_uri": "https://localhost:8080/",
          "height": 1000
        }
      },
      "source": [
        "final = np.mean(y_pred_totgb,0)\n",
        "final"
      ],
      "execution_count": 0,
      "outputs": [
        {
          "output_type": "execute_result",
          "data": {
            "text/plain": [
              "array([ 1.71431167e+04,  1.61798531e+04,  1.38198894e+04,  4.48805959e+04,\n",
              "        8.17019250e+03,  2.88845698e+04,  1.70436614e+04,  1.17876773e+04,\n",
              "        1.57562747e+04,  1.89407945e+04,  1.94583315e+04,  1.66161163e+04,\n",
              "        1.38290353e+04,  1.35799798e+04,  5.43326368e+04,  6.96469200e+03,\n",
              "        2.40220094e+04,  1.14211446e+04,  5.31188020e+03,  1.27825016e+04,\n",
              "        2.63211539e+04,  7.43126018e+03,  2.15552129e+04,  1.52178288e+04,\n",
              "        1.23099663e+04,  2.32059701e+04,  2.88490113e+04,  2.44667093e+04,\n",
              "        5.29874123e+04,  1.77647120e+04,  2.21482455e+04,  1.27154402e+04,\n",
              "        3.54816362e+04,  1.08250415e+04,  1.67785672e+04,  7.07156266e+04,\n",
              "        1.96358858e+04,  1.33503194e+04,  1.33731242e+04,  2.60323686e+04,\n",
              "        4.08044212e+04,  4.44169636e+04,  2.98516267e+03,  4.25705696e+04,\n",
              "        9.67293079e+03,  3.14822354e+03,  2.36726177e+04,  7.57566748e+03,\n",
              "        1.23788597e+04,  8.85452156e+03,  4.47313405e+03,  4.40766116e+04,\n",
              "        9.31205733e+03,  7.59962814e+03,  6.37286940e+04,  2.38437247e+04,\n",
              "        1.35797065e+04,  2.24372690e+04,  2.74398860e+04,  5.57981476e+03,\n",
              "        4.68211786e+03,  1.34029279e+04,  8.20063892e+03,  4.90247709e+04,\n",
              "        4.39829263e+04,  8.97619692e+04,  2.84707500e+04,  2.44054837e+04,\n",
              "        2.01294275e+04,  1.02711477e+04,  2.68817245e+04,  1.99357786e+04,\n",
              "        3.00404114e+04,  5.87912617e+03,  1.96374852e+04,  2.07107294e+04,\n",
              "        3.28684105e+03,  3.16671992e+04,  4.33681252e+04,  2.89442148e+04,\n",
              "        1.63513871e+04,  2.04945249e+04,  1.51794599e+04,  7.60530226e+04,\n",
              "        7.67306851e+04,  1.17791459e+04,  3.21113809e+04,  6.89267134e+04,\n",
              "        1.25924771e+04,  2.89662627e+04,  1.38344789e+04,  2.86173211e+04,\n",
              "        1.11531485e+04,  1.46210626e+04,  1.09499216e+04,  2.74224057e+04,\n",
              "        3.88760714e+03,  1.75023012e+04,  2.16082342e+04,  2.47885109e+04,\n",
              "        3.43656508e+04,  1.25677600e+04,  1.62452781e+04,  1.24041214e+04,\n",
              "        4.03283356e+04,  7.06953449e+03,  1.23719006e+04,  1.88837722e+04,\n",
              "        2.25472221e+03,  3.38221087e+04,  7.30359740e+04,  2.20829563e+04,\n",
              "        1.68569317e+04,  5.40455248e+04,  3.25066976e+04,  3.13457009e+04,\n",
              "        1.43855546e+04,  6.79584837e+04,  1.08625724e+04,  6.43984344e+04,\n",
              "        3.71464115e+04,  6.99779954e+04,  2.29104738e+04,  6.27171715e+03,\n",
              "        2.61495250e+03,  6.60847462e+03,  2.68919879e+04,  1.78844401e+04,\n",
              "        1.70209273e+04,  4.25610323e+03,  3.21656145e+04,  3.22188365e+04,\n",
              "        2.15660092e+04,  5.30801138e+03,  1.71390346e+04,  2.10854429e+04,\n",
              "        1.97384379e+04,  1.60523748e+04,  1.83061769e+04,  4.03193489e+04,\n",
              "        6.40541310e+03,  1.49301137e+04,  2.40621547e+04,  3.74690701e+04,\n",
              "        3.98052423e+04,  2.71243187e+04,  7.68868959e+04,  4.11759933e+04,\n",
              "        1.69303944e+04,  7.42507848e+04,  1.49008714e+04,  1.17717442e+04,\n",
              "        9.80505629e+03,  1.23628442e+04,  5.52100281e+04,  6.14664451e+04,\n",
              "        1.46102591e+04,  6.99747038e+04,  3.60310459e+04,  5.72121512e+03,\n",
              "        1.18604390e+04,  3.91891374e+04,  6.68031829e+03,  1.30638354e+04,\n",
              "        4.20603533e+04,  1.57330088e+04,  1.01679579e+04,  1.50778699e+04,\n",
              "        9.64946393e+03,  6.75293453e+03,  1.09289585e+04,  2.66720095e+04,\n",
              "        1.35381306e+04,  1.83324327e+04,  2.03526482e+04,  1.64200759e+04,\n",
              "        1.90627131e+04,  1.65285120e+04,  4.39296172e+04,  5.32603419e+03,\n",
              "        5.44201998e+04,  6.24440181e+03,  1.56017302e+04,  5.36385952e+03,\n",
              "        4.68080723e+04,  1.63980041e+04,  8.12757928e+03,  4.37323771e+03,\n",
              "        4.43799494e+04,  2.03881517e+04,  1.80467133e+04,  2.87592611e+04,\n",
              "        1.65784663e+04,  2.36731368e+04,  1.16125355e+04,  2.51733621e+04,\n",
              "        7.63032432e+04,  1.20792792e+04,  2.63663061e+04,  4.32151493e+04,\n",
              "        2.00991331e+04,  2.53421099e+04,  3.34513976e+04,  1.65720822e+04,\n",
              "        1.60380777e+04,  7.04866811e+04,  1.46067188e+04,  2.42680180e+04,\n",
              "        6.11526417e+04,  7.93713962e+03,  1.63994082e+04,  9.82088873e+03,\n",
              "        5.55935495e+03,  1.23642579e+04,  2.07457967e+04,  3.07592636e+04,\n",
              "        2.28005196e+04,  2.69781827e+04,  1.63077642e+04,  6.90588510e+04,\n",
              "        2.06232148e+04,  1.66322563e+04,  1.29950308e+04,  6.88774633e+04,\n",
              "        1.56566102e+04,  1.87808620e+04,  2.89562226e+04,  9.39447705e+03,\n",
              "        3.33179319e+03,  5.83228045e+03,  3.18890639e+04,  1.67499662e+04,\n",
              "        1.11851693e+04,  2.45410491e+04,  6.35017621e+04,  9.57727889e+03,\n",
              "        1.20549366e+04,  2.42992145e+04,  8.69025500e+03,  1.68189272e+04,\n",
              "        2.58611528e+04,  1.28553657e+04,  2.23113976e+04,  2.57754333e+04,\n",
              "        6.89327988e+04,  3.16218381e+04,  2.01423866e+04,  1.01834678e+04,\n",
              "        1.48602086e+04,  1.46741660e+04,  1.62060062e+04,  1.83378114e+04,\n",
              "        1.67930440e+03,  2.25083390e+04,  1.26660769e+04,  7.37290073e+03,\n",
              "        1.39063633e+04,  8.22659816e+04,  2.79788882e+04,  1.21090230e+04,\n",
              "        1.15070709e+04,  5.98473957e+04,  7.70204810e+04,  2.75296493e+04,\n",
              "        3.31887605e+04,  1.78473450e+04,  2.34796689e+04,  8.16788256e+03,\n",
              "        2.08330707e+04,  2.11566097e+04,  3.95207211e+04,  1.66001686e+04,\n",
              "        1.25611696e+04,  7.12087302e+03,  4.58048383e+04,  1.76056987e+04,\n",
              "        1.93138491e+04,  1.24898836e+04,  5.86103362e+04,  2.62449388e+04,\n",
              "        1.44658855e+04,  1.83084656e+04,  1.47745721e+04,  1.59802885e+04,\n",
              "        6.30323403e+04,  1.79864106e+04,  1.39906840e+04,  2.32893719e+04,\n",
              "        8.26644957e+04,  2.45873489e+04,  2.40390168e+04,  3.71914594e+04,\n",
              "        1.58671695e+04,  1.83149563e+04,  2.41606063e+04,  1.30714430e+04,\n",
              "        2.34878968e+04,  1.92481774e+04,  1.32398938e+04,  1.40896763e+04,\n",
              "        1.96703156e+04,  7.78580727e+04,  3.83904847e+03,  2.67903468e+04,\n",
              "        2.31964571e+04,  3.19986282e+04,  3.66251074e+04,  1.75580457e+04,\n",
              "        2.04128322e+04,  1.43431167e+04,  1.80084404e+04,  1.09530382e+04,\n",
              "        1.78667132e+04,  3.20814464e+04,  1.25509883e+04,  1.57003257e+04,\n",
              "        1.90253853e+04,  1.82835527e+04,  5.51221383e+03,  2.64801633e+04,\n",
              "        1.79387159e+04,  2.18305498e+04,  2.91193310e+04,  4.26541764e+04,\n",
              "        8.76411946e+02,  7.98808459e+03,  4.36297393e+04,  2.01394565e+04,\n",
              "        1.17956854e+04,  1.99681829e+04,  5.93732602e+04,  8.64618814e+03,\n",
              "        1.64837883e+04,  2.76845799e+04,  4.06107217e+04,  4.89107904e+03,\n",
              "        2.26506288e+04,  8.74044288e+03,  6.11370777e+03, -1.25518412e+03,\n",
              "        1.53372239e+04,  1.41780887e+04,  7.33416771e+04,  2.95258309e+04,\n",
              "        2.00927788e+04,  1.80291088e+04,  2.59441559e+04,  6.86859911e+03,\n",
              "        3.88729485e+03,  3.73127707e+04,  1.69461798e+04,  1.70481858e+04,\n",
              "        3.41738618e+03,  1.46220100e+04,  7.53411765e+03,  3.45171042e+04,\n",
              "        2.68054284e+04,  7.97650738e+03,  1.90436327e+04,  1.36784610e+04,\n",
              "        1.27938075e+04,  7.19202615e+03,  4.54940242e+04,  2.20570163e+04,\n",
              "        6.85286961e+04,  1.23075575e+04,  1.60164385e+04,  1.27182328e+04,\n",
              "        1.91469537e+04,  6.49575690e+03,  3.60158478e+04,  5.31643367e+04,\n",
              "        7.91494349e+04,  6.75289141e+03,  1.17777678e+04,  2.14226056e+04,\n",
              "        7.03649801e+04,  1.99361267e+04,  1.18958990e+03,  8.68399844e+03,\n",
              "        1.23495892e+04,  2.38684212e+04,  1.91072688e+04,  1.46433014e+04,\n",
              "        2.12556394e+04,  6.72257930e+04,  4.34956377e+04,  8.76980002e+03,\n",
              "        5.71178311e+04,  4.53297891e+04,  6.09432927e+04,  5.15530091e+04,\n",
              "        1.34498664e+04,  1.97177698e+04,  7.45372039e+01,  1.26885486e+04,\n",
              "        2.01825114e+04,  1.79966071e+04,  1.47768590e+04,  2.48008050e+04,\n",
              "        1.70567357e+04,  6.14882184e+04,  2.10833285e+04,  7.28278206e+04,\n",
              "        1.28787840e+04,  1.36837529e+04,  1.72510060e+04,  4.31073558e+04,\n",
              "        2.28049488e+04,  2.01624073e+04,  1.73697312e+04,  2.41070612e+04,\n",
              "        1.66227691e+04,  5.92081804e+04,  1.83860439e+04,  3.07738861e+04,\n",
              "        9.26160426e+04,  1.15245832e+04,  2.62936492e+03,  2.34020771e+04,\n",
              "        1.60862421e+04,  9.98878537e+03,  3.00475066e+04,  1.31647254e+04,\n",
              "        2.40357776e+04,  8.79073495e+03,  1.40789717e+04,  1.99696658e+04,\n",
              "        1.00850179e+04,  1.77839606e+04,  1.76368213e+04,  1.96628051e+04,\n",
              "        7.61115275e+03,  2.19637925e+04,  1.54797051e+04,  1.17589483e+04,\n",
              "        1.03259230e+04,  1.49979956e+04,  4.92288612e+03,  7.58266771e+04,\n",
              "        2.00348156e+04,  3.60812647e+04,  1.59279066e+04,  6.07244895e+04,\n",
              "        5.12117992e+03,  2.68002998e+04,  4.58175863e+04,  7.04132435e+04,\n",
              "        4.89860958e+03,  1.51707672e+04,  2.91111288e+04,  7.83401766e+04,\n",
              "        1.41797635e+04,  2.75144460e+04,  1.49729686e+04,  2.60342978e+04,\n",
              "        1.06240415e+05,  3.61969204e+04,  1.41557668e+04,  6.02030543e+04,\n",
              "        9.86868396e+03,  1.45804562e+04,  2.08618242e+04,  2.83506900e+04,\n",
              "        2.86216012e+04,  8.13379007e+03,  5.63567296e+03,  2.94866895e+04,\n",
              "        1.41989349e+04,  7.67357708e+04,  9.53664017e+03,  1.55276810e+04,\n",
              "        1.75843744e+04,  1.52185782e+04,  1.51707672e+04,  6.87327931e+04,\n",
              "        6.19166980e+04,  1.09551979e+04,  1.60681176e+04,  2.13855923e+04,\n",
              "        7.23641832e+04,  1.65899178e+04,  1.56512534e+04,  1.66222938e+04,\n",
              "        2.30620548e+04,  2.04605489e+04,  6.77417273e+04,  4.44673099e+04,\n",
              "        3.49410044e+04,  9.59089447e+03,  4.07660984e+04,  2.66989565e+04,\n",
              "        3.18568891e+04,  1.96455699e+04,  1.24734803e+04,  1.32807457e+04,\n",
              "        3.81441338e+04,  1.08633488e+05,  6.75444041e+04,  1.11834858e+04,\n",
              "        2.20692966e+04,  7.31478600e+03,  1.77051174e+04,  1.30338747e+04,\n",
              "        1.54162192e+04,  4.16583712e+04,  1.37179194e+04,  2.14609602e+04,\n",
              "        1.40681733e+04,  5.98643375e+03,  1.75011887e+04,  1.38678528e+04,\n",
              "        2.69130967e+04,  1.90867507e+04,  8.82362876e+03,  3.98723387e+04,\n",
              "        1.24694630e+04,  1.77564007e+04,  2.51107256e+04,  4.41557313e+04,\n",
              "        2.88294125e+04,  1.42094028e+04,  1.50746690e+04,  7.03132519e+04,\n",
              "        3.61741760e+04,  3.22980853e+03,  2.70251561e+04,  1.24119626e+04,\n",
              "        9.82758999e+03,  2.07045421e+04,  1.46554874e+04,  8.73465452e+03,\n",
              "        7.08996831e+04,  1.62207806e+04,  1.54323032e+04,  2.05957361e+04,\n",
              "        5.87534626e+04,  1.27026564e+04,  2.09938934e+04,  9.54916856e+03,\n",
              "        2.32392109e+04,  2.15902227e+04,  4.90372937e+04,  1.64088533e+04,\n",
              "        4.50345099e+04,  6.94422542e+04,  1.10227271e+04,  8.44847678e+04,\n",
              "        2.46375663e+04,  5.26928749e+03,  5.12080290e+04,  7.54771485e+03,\n",
              "        1.67155776e+04,  3.09620825e+04,  5.88943351e+04,  2.24808768e+04,\n",
              "        3.25436247e+04, -3.81499379e+03,  2.03925110e+04,  4.40698346e+04,\n",
              "        5.08076377e+03,  1.32038763e+05,  1.69393827e+04,  5.70542744e+03,\n",
              "        1.70420188e+04,  1.95340762e+04,  1.39265726e+04,  7.22809678e+03,\n",
              "        4.00396551e+04,  2.75058302e+04,  7.80656411e+03,  6.28423892e+03,\n",
              "        2.23219083e+04,  4.33533240e+04,  1.44183551e+04,  1.32426450e+04,\n",
              "        4.88136681e+04,  4.32596460e+04,  3.07989511e+04,  4.11742853e+04,\n",
              "        1.83085119e+04,  4.06137123e+04,  1.98045470e+04,  1.93994751e+04,\n",
              "        1.78109176e+04,  9.01694085e+03,  1.86405249e+04,  2.70366491e+04,\n",
              "        1.84859689e+04,  2.25536394e+04,  8.98155359e+03,  2.92160302e+04,\n",
              "        1.58813426e+04,  5.41217458e+04,  2.29383390e+04,  8.29013401e+03,\n",
              "        2.38866083e+04,  5.25476207e+04,  2.34943893e+04,  2.40029099e+04,\n",
              "        5.13049126e+04,  4.12312336e+04,  8.41306055e+04,  5.24330951e+04,\n",
              "        1.14639615e+04,  9.18598743e+04,  2.58507809e+04,  1.70572435e+04,\n",
              "        2.54233151e+04,  1.55110485e+04,  7.50782879e+03,  1.51822759e+04,\n",
              "        3.10327712e+04,  1.32490522e+04,  1.60120089e+04,  5.02824461e+04,\n",
              "        4.39229182e+03,  6.69599660e+04,  6.31618466e+03,  3.74419530e+03,\n",
              "        1.24438957e+04,  4.27712484e+04,  1.86329617e+04,  1.14427715e+04,\n",
              "        1.94407011e+04,  1.46301955e+04,  2.11036507e+04,  1.79899230e+04,\n",
              "        1.44184381e+04,  2.30266739e+04,  2.57779848e+04,  3.80993736e+04,\n",
              "        2.85035083e+04,  1.23953488e+04,  1.40887421e+04,  4.12303993e+04,\n",
              "        2.13035314e+04,  1.12470404e+04,  5.52697240e+04,  3.46293170e+04,\n",
              "        3.22908416e+04,  1.62382139e+04,  4.60376835e+04,  2.26862761e+04,\n",
              "        2.64238411e+04,  5.95827849e+04,  1.68897627e+04,  3.72578717e+04,\n",
              "        2.05032265e+04,  2.30883149e+04,  2.16277206e+04,  1.20598944e+05,\n",
              "        6.64026444e+04,  4.40880563e+04,  1.60048231e+04,  1.70930417e+04,\n",
              "        1.80819727e+04,  1.51812673e+04,  1.44813610e+04,  2.10619092e+04,\n",
              "        3.15059968e+04,  4.27403558e+04,  7.64985026e+03,  5.87039095e+04,\n",
              "        1.33794718e+04,  1.56492288e+04,  6.06092618e+03,  2.75569608e+04,\n",
              "        2.52942928e+04,  7.09353889e+04,  1.33491058e+04,  1.58631628e+04,\n",
              "        4.17745103e+04,  1.61563192e+04,  1.66028115e+04,  6.04138288e+04,\n",
              "        1.43827836e+04,  2.15392048e+04,  1.38247587e+04,  2.44001969e+04,\n",
              "        3.04531484e+04,  1.99667637e+04,  1.47502859e+04,  5.47821541e+03,\n",
              "        8.25707372e+04,  1.81475690e+04,  2.52544281e+04,  1.72826919e+04,\n",
              "        2.00217610e+04,  2.76437492e+04,  1.84775594e+04,  5.62454637e+03,\n",
              "        2.99842765e+04,  2.37091015e+04,  3.83064005e+04,  3.11063390e+04,\n",
              "        1.71606515e+04,  6.54520329e+04,  1.40989827e+04,  3.52292626e+04,\n",
              "        1.02295002e+04,  2.83170873e+04,  6.36887241e+03,  2.14610160e+04,\n",
              "        4.80017123e+04,  2.16720436e+04,  1.67091983e+04,  1.82537282e+04,\n",
              "        8.76013187e+03,  7.13037687e+03,  1.10913586e+04,  1.11676879e+04,\n",
              "        1.57662433e+04,  7.13932349e+03,  1.99084932e+04,  1.27717521e+04,\n",
              "        5.14160886e+04,  1.92824136e+04,  1.72329430e+04,  2.24085626e+04,\n",
              "        3.81964344e+04,  7.68245398e+03,  7.77545574e+04,  1.79388720e+04,\n",
              "        1.07397021e+04,  1.52376893e+04,  1.43302696e+04,  4.42461030e+04,\n",
              "        1.89698543e+04,  6.35852266e+03,  1.43076519e+04,  2.35921140e+04,\n",
              "        4.23544647e+04,  1.93225630e+04,  1.62274932e+04,  2.26340328e+04,\n",
              "        6.10872922e+04,  2.28713346e+04,  2.46476989e+04,  1.43837131e+04,\n",
              "        1.60275127e+04,  7.23966429e+03,  1.26894363e+04,  1.96695209e+04,\n",
              "        5.03504005e+04,  1.08372593e+04,  2.74887586e+04,  5.60257399e+03,\n",
              "        1.80120559e+04,  1.56338120e+04,  8.08598898e+03,  6.89556369e+04,\n",
              "        4.80797427e+04,  1.15799048e+04,  1.70544639e+04,  2.80711404e+04,\n",
              "        1.30609744e+04,  6.05249263e+03,  1.41328089e+04,  6.44654370e+04,\n",
              "        1.56179433e+04,  2.76267425e+04,  2.11260437e+04,  2.89174691e+04,\n",
              "        1.17460286e+04,  1.28289836e+03,  1.11023169e+04,  1.08590188e+04,\n",
              "        7.02909396e+04,  4.04343142e+04,  1.24725409e+04,  2.98168436e+04,\n",
              "        2.51820034e+04,  6.75323280e+03,  5.68693994e+04,  5.61976433e+04,\n",
              "        6.78144053e+03,  4.48430149e+04,  1.35178035e+04,  2.74090776e+04,\n",
              "        2.69446339e+04,  2.31220538e+04,  2.71080829e+04,  4.56172867e+04,\n",
              "        3.62549863e+04,  1.60771882e+04,  1.43647707e+04,  2.42131046e+04,\n",
              "        1.51141208e+04,  1.91847510e+04,  2.30841961e+04,  8.55155204e+03,\n",
              "        7.45294518e+03,  1.76115032e+04,  1.01928173e+05,  1.02673696e+04,\n",
              "        7.16750602e+03,  7.01860247e+04,  7.08530241e+03,  2.93949824e+04,\n",
              "        1.83622359e+04,  2.19396869e+04,  1.65947569e+04,  2.64186678e+04,\n",
              "        1.23988103e+04,  1.37673112e+04,  1.53220828e+04,  2.79471332e+04,\n",
              "        5.81321342e+03,  4.83458740e+04,  3.00904368e+04,  1.79296988e+04,\n",
              "        2.27338351e+04,  2.40330802e+04,  2.11295950e+04,  1.66534379e+04,\n",
              "        2.75068714e+04,  2.26751911e+04,  7.90398485e+04,  1.17789100e+04,\n",
              "        1.78919897e+04,  2.05216310e+04,  1.19985128e+04,  1.22024848e+04,\n",
              "        5.77599062e+04,  2.57880304e+04,  1.98433072e+04,  1.88630339e+04,\n",
              "        6.90950016e+04,  9.77557561e+03,  1.66545941e+04,  2.60820833e+04,\n",
              "        2.32489497e+04,  2.21414831e+04,  6.47525811e+04,  1.34166014e+04,\n",
              "        1.31887780e+04,  2.28200636e+04,  2.77377059e+04,  2.53001426e+04,\n",
              "        2.07590820e+04,  1.53433678e+04,  1.76854887e+04,  8.72131073e+02,\n",
              "        4.27759250e+04,  1.51094121e+04,  2.05367187e+04,  6.18103326e+04,\n",
              "        1.24457402e+04,  1.37904803e+04,  1.83346484e+04,  1.29100971e+04,\n",
              "        3.13512496e+04,  1.32254580e+04,  2.31112796e+04,  1.26124260e+04,\n",
              "        3.10959368e+04,  1.38538421e+04,  3.15674752e+04,  1.98728375e+04,\n",
              "        1.07364064e+04,  2.45478867e+04,  1.45975697e+04,  1.40876283e+04,\n",
              "        2.63950577e+03,  1.91964424e+04,  1.09679292e+04,  2.01683728e+04,\n",
              "        7.05053165e+04,  2.73547994e+04,  7.79545799e+03,  5.06979104e+03,\n",
              "        1.42442286e+04,  2.25790832e+04,  1.17030550e+04,  2.88364586e+04,\n",
              "        2.64886498e+04,  6.33077705e+03,  1.11353067e+04,  1.51386985e+04,\n",
              "        1.17582451e+04,  3.08832418e+04,  5.72468393e+04,  7.97048360e+03,\n",
              "        2.33681186e+04,  6.52616528e+04,  2.89030627e+04,  2.34874353e+04,\n",
              "        2.99167456e+04,  4.74732642e+04,  3.31370985e+04,  2.02466672e+04,\n",
              "        1.46147912e+04,  2.72010921e+04,  5.42161635e+04,  2.27598786e+04,\n",
              "        4.37493232e+04,  1.37187672e+04,  4.00440365e+04,  2.60854280e+04,\n",
              "        2.18963290e+04,  2.17839019e+04,  5.36364474e+03,  2.28807297e+04,\n",
              "        1.28801966e+03,  2.05825417e+04,  1.52322522e+04,  5.05381893e+03,\n",
              "        2.70289027e+04,  1.32954812e+04,  2.29229757e+04,  3.28838350e+04,\n",
              "        2.65471847e+04,  9.30833422e+04,  2.98751314e+04,  3.09522756e+04,\n",
              "        7.32566356e+04,  9.28355103e+03,  8.19087298e+04,  5.98148653e+03,\n",
              "        8.37504035e+04,  2.40184512e+04,  1.47576738e+04,  6.78688248e+03,\n",
              "        3.67151108e+04,  1.84117924e+04,  2.89501014e+04,  1.57669586e+04,\n",
              "        5.82824112e+03,  1.03741399e+04,  1.24407775e+04,  1.59683676e+04,\n",
              "        5.48512399e+04,  1.38361994e+04,  2.61013483e+03,  6.25845994e+04,\n",
              "        2.86868263e+04,  1.91251465e+04,  2.05545635e+04,  1.09656925e+04,\n",
              "        8.57742351e+03,  2.02297068e+04,  1.83490916e+04,  4.26050617e+04,\n",
              "        2.11744894e+04,  1.89763220e+04,  1.57970587e+04,  2.06255286e+04,\n",
              "        4.42158997e+03,  2.80828548e+04,  4.42712618e+03,  2.40135387e+04,\n",
              "        7.87817854e+04,  1.87238330e+04,  6.10890945e+03,  1.36238843e+04,\n",
              "        2.09561812e+04,  1.16304518e+04,  2.39302185e+04,  2.27518926e+04,\n",
              "        4.10267708e+04,  2.05192082e+04,  1.07214993e+04,  2.35261228e+04,\n",
              "        1.19447150e+04,  3.97248024e+04,  1.49802240e+04,  6.41149921e+04,\n",
              "        2.23362144e+04,  3.07143563e+04,  6.23099593e+04,  5.77864072e+04,\n",
              "        2.39073496e+04,  1.57342768e+04,  1.72269175e+03,  1.79357666e+04,\n",
              "        2.70383184e+04,  4.76960543e+03,  4.25748801e+04,  2.67919927e+04,\n",
              "        6.12765231e+04,  3.17382392e+04,  1.80350819e+04,  3.59272367e+04,\n",
              "        1.55776750e+04,  4.36224383e+04,  1.56623387e+04,  1.58969022e+04,\n",
              "        1.45337412e+04,  3.31986693e+04,  2.20211033e+04,  1.15371948e+04,\n",
              "        1.98631866e+04,  5.25306025e+04,  1.17925275e+04,  1.04659849e+04,\n",
              "        2.45983470e+04])"
            ]
          },
          "metadata": {
            "tags": []
          },
          "execution_count": 129
        }
      ]
    },
    {
      "cell_type": "code",
      "metadata": {
        "id": "YfMI64RWXUqf",
        "colab_type": "code",
        "outputId": "fe3df429-dc36-47fb-a59e-5be9c9b982af",
        "colab": {
          "base_uri": "https://localhost:8080/",
          "height": 256
        }
      },
      "source": [
        "submission = pd.DataFrame({\n",
        "        \"Price\": abs(final)\n",
        "    })\n",
        "submission.to_excel('./based_adv.xlsx', index=False)\n",
        "print(submission)"
      ],
      "execution_count": 0,
      "outputs": [
        {
          "output_type": "stream",
          "text": [
            "            Price\n",
            "0    17143.116716\n",
            "1    16179.853109\n",
            "2    13819.889365\n",
            "3    44880.595908\n",
            "4     8170.192497\n",
            "..            ...\n",
            "992  19863.186630\n",
            "993  52530.602544\n",
            "994  11792.527548\n",
            "995  10465.984911\n",
            "996  24598.347044\n",
            "\n",
            "[997 rows x 1 columns]\n"
          ],
          "name": "stdout"
        }
      ]
    },
    {
      "cell_type": "code",
      "metadata": {
        "id": "tox3pNpzXUxY",
        "colab_type": "code",
        "colab": {}
      },
      "source": [
        "from google.colab import files\n",
        "files.download('based_adv.xlsx')"
      ],
      "execution_count": 0,
      "outputs": []
    },
    {
      "cell_type": "markdown",
      "metadata": {
        "id": "2npxewbeAma2",
        "colab_type": "text"
      },
      "source": [
        "# ensem"
      ]
    },
    {
      "cell_type": "code",
      "metadata": {
        "id": "cL5r4XNCAlt3",
        "colab_type": "code",
        "outputId": "1f9915b9-dcd1-4c2e-b122-ff0ebd86f659",
        "colab": {
          "resources": {
            "http://localhost:8080/nbextensions/google.colab/files.js": {
              "data": "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",
              "ok": true,
              "headers": [
                [
                  "content-type",
                  "application/javascript"
                ]
              ],
              "status": 200,
              "status_text": ""
            }
          },
          "base_uri": "https://localhost:8080/",
          "height": 214
        }
      },
      "source": [
        "from google.colab import files\n",
        "files.upload()"
      ],
      "execution_count": 0,
      "outputs": [
        {
          "output_type": "display_data",
          "data": {
            "text/html": [
              "\n",
              "     <input type=\"file\" id=\"files-022f433f-d81b-412f-9879-f32fada48183\" name=\"files[]\" multiple disabled />\n",
              "     <output id=\"result-022f433f-d81b-412f-9879-f32fada48183\">\n",
              "      Upload widget is only available when the cell has been executed in the\n",
              "      current browser session. Please rerun this cell to enable.\n",
              "      </output>\n",
              "      <script src=\"/nbextensions/google.colab/files.js\"></script> "
            ],
            "text/plain": [
              "<IPython.core.display.HTML object>"
            ]
          },
          "metadata": {
            "tags": []
          }
        },
        {
          "output_type": "stream",
          "text": [
            "Saving based_adv.xlsx to based_adv (1).xlsx\n",
            "Saving based_dir.xlsx to based_dir (1).xlsx\n",
            "Saving based_ml.xlsx to based_ml (1).xlsx\n"
          ],
          "name": "stdout"
        },
        {
          "output_type": "execute_result",
          "data": {
            "text/plain": [
              "{'based_adv.xlsx': b'PK\\x03\\x04\\x14\\x00\\x00\\x00\\x08\\x003\\x91\\xc7P\\x1f#\\xcf\\x03\\xc0\\x00\\x00\\x00\\x13\\x02\\x00\\x00\\x0b\\x00\\x00\\x00_rels/.rels\\xad\\x92O\\x8b\\xc2@\\x0c\\xc5\\xbfJ\\x99\\xfb\\x1aW\\xc1\\xc3b=y\\xe9mY\\xfc\\x02q&\\xfdC;\\x93!\\x13\\xb1~{\\x87\\xbdl\\xb7TP\\xf0\\x18^\\xf2\\xde\\x8fG\\xf6?4\\xa0v\\x1cR\\xdb\\xc5T\\x8c~\\x08\\xa94\\xadj\\xfc\\x02H\\xb6%\\x8fi\\xc5\\x91BVj\\x16\\x8f\\x9aGi \\xa2\\xed\\xb1!\\xd8\\xac\\xd7;\\x90\\xa9\\x879\\xec\\xa7\\x9eE\\xe5J#\\x95\\xfb4\\xc5\\t\\xa5!-\\xcd8\\xc0\\x95\\xa5?3\\xf7\\xabl\\x9b\\x85[\\xa4gB\\xb9\\xae;KG\\xb6\\x17OA\\x17\\xb2g\\x1b\\x06\\x96Y6\\x7f,\\x8e\\xed\\xb7p\\xbe\\xb4,\\xf4\\x1a\\xcd\\xe3\\n\\xc0\\x93\\xa2C\\xc5_\\xd7\\x8f\\x98\\x03H\\xb4\\xa3\\xf4\\x08h\\xbb\\x00\\x841\\xbe\\xbb\\x1d\\x1a\\x95\\x82#7#\\x82\\x7f?p\\xb8\\x03PK\\x03\\x04\\x14\\x00\\x00\\x00\\x08\\x003\\x91\\xc7P\\'\\xe8\\x87\\x0e\\x82\\x00\\x00\\x00\\xb1\\x00\\x00\\x00\\x10\\x00\\x00\\x00docProps/app.xmlM\\x8eM\\x0b\\xc20\\x10D\\xffJ\\xe9\\xddn)\\xe8Ab@\\xb0G\\xc1\\x93\\xf7\\x90nl \\xc9\\x86\\xcd\\n\\xf9\\xf9\\xa6\\x82\\x1f\\xb7y\\xbca\\x18uc\\xca\\xc8\\xe2\\xb1t5\\x86TN\\xfd*\\x92\\x8f\\x00\\xc5\\xae\\x18M\\x19\\x9aN\\xcd8\\xe2h\\xa4!?\\x80\\x9c\\xf3\\x16/d\\x9f\\x11\\x93\\xc04\\x8e\\x07\\xc0*\\x98\\x16\\\\v\\xf9;\\xd8ku\\xce9xk\\xc4S\\xd2Wo\\x99\\n9\\xe9\\xe6j1(\\xf8\\x97[\\xf3\\x8e\\\\\\xb6<\\r\\xfb\\xb7\\xfc\\xb0\\x82\\xdfI\\xfd\\x02PK\\x03\\x04\\x14\\x00\\x00\\x00\\x08\\x003\\x91\\xc7P\\x04\\xea\\x1c\\xe3\\xef\\x00\\x00\\x00+\\x02\\x00\\x00\\x11\\x00\\x00\\x00docProps/core.xml\\xcd\\x92\\xc1j\\xc30\\x0c\\x86_e\\xf8\\x9e\\xc8I\\xa0e&\\xf5e\\xa5\\xa7\\r\\x06+l\\xecfl\\xb55\\x8bcck$}\\xfb9Y\\x9b2\\xb6\\x07\\xd8\\xd1\\xd2\\xefO\\x9f@\\xad\\x0eB\\xfb\\x88\\xcf\\xd1\\x07\\x8cd1\\xdd\\x8d\\xae\\xeb\\x93\\xd0a\\xc3NDA\\x00$}B\\xa7R\\x99\\x13}n\\x1e|t\\x8a\\xf23\\x1e!(\\xfd\\xa1\\x8e\\x085\\xe7+pH\\xca(R0\\x01\\x8b\\xb0\\x10\\x99l\\x8d\\x16:\\xa2\"\\x1f/x\\xa3\\x17|\\xf8\\x8c\\xdd\\x0c3\\x1a\\xb0C\\x87=%\\xa8\\xca\\n\\x98\\x9c&\\x86\\xf3\\xd8\\xb5p\\x03L0\\xc2\\xe8\\xd2w\\x01\\xcdB\\x9c\\xab\\x7fb\\xe7\\x0e\\xb0KrLvI\\r\\xc3P\\x0e\\xcd\\x9c\\xcb;T\\xf0\\xf6\\xf4\\xf82\\xaf[\\xd8>\\x91\\xea5\\xe6_\\xc9\\n:\\x07\\xdc\\xb0\\xeb\\xe4\\xd7\\xe6a\\xbb\\xdf1Y\\xf3\\x9a\\x17|U\\xf0\\xf5\\xbeZ\\x8b\\xfa^4\\xd5\\xfb\\xe4\\xfa\\xc3\\xef&\\xec\\xbc\\xb1\\x07\\xfb\\x8f\\x8d\\xaf\\x82\\xb2\\x85_w!\\xbf\\x00PK\\x03\\x04\\x14\\x00\\x00\\x00\\x08\\x003\\x91\\xc7P\\x99\\\\\\x9c#\\x10\\x06\\x00\\x00\\x9c\\'\\x00\\x00\\x13\\x00\\x00\\x00xl/theme/theme1.xml\\xedZ[s\\xda8\\x14~\\xef\\xaf\\xd0xg\\xf6m\\x0b\\xc66\\x81\\xb6\\xb4\\x13siv\\xdb\\xb4\\x99\\x84\\xedN\\x1f\\x85\\x11X\\x8dlyd\\x91\\x84\\x7f\\xbfG6\\x10\\xcb\\x96\\r\\xed\\x92M\\xba\\x9b<\\x04,\\xe9\\xfb\\xceEG\\xe7\\xe88y\\xf3\\xee.b\\xe8\\x86\\x88\\x94\\xf2x`\\xd9/\\xdb\\xd6\\xbb\\xb7/\\xde\\xe0W2$\\x11A0\\x19\\xa7\\xaf\\xf0\\xc0\\n\\xa5L^\\xb5Zi\\x00\\xc38}\\xc9\\x13\\x12\\xc3\\xdc\\x82\\x8b\\x08Kx\\x14\\xcb\\xd6\\\\\\xe0[\\x1a/#\\xd6\\xea\\xb4\\xdb\\xddV\\x84il\\xa1\\x18Gd`}^,h@\\xd0TQZo_ \\xb4\\xe5\\x1f3\\xf8\\x15\\xcbT\\x8de\\xa3\\x01\\x13WA&\\xb9\\x88\\xb4\\xf2\\xf9l\\xc5\\xfc\\xda\\xde>e\\xcf\\xe9:\\x1d2\\x81n0\\x1bX \\x7f\\xceo\\xa7\\xe4NZ\\x88\\xe1T\\xc2\\xc4\\xc0jg?Vk\\xc7\\xd1\\xd2H\\x80\\x82\\xc9}\\x94\\x05\\xbaI\\xf6\\xa3\\xd3\\x15\\x082\\r;:\\x9dX\\xcev|\\xf6\\xc4\\xed\\x9f\\x8c\\xca\\xdat4m\\x1a\\xe0\\xe3\\xf1x8\\xb6\\xcb\\xd2\\x8bp\\x1c\\x04\\xe0Q\\xbb\\x9e\\xc2\\x9d\\xf4l\\xbf\\xa4A\\t\\xb4\\xa3i\\xd0d\\xd8\\xf6\\xda\\xae\\x91\\xa6\\xaa\\x8dSO\\xd3\\xf7}\\xdf\\xeb\\x9bh\\x9c\\n\\x8d[O\\xd3kw\\xdd\\xd3\\x8e\\x89\\xc6\\xad\\xd0x\\r\\xbe\\xf1O\\x87\\xc3\\xae\\x89\\xc6\\xab\\xd0t\\xebi&\\'\\xfd\\xaek\\xa4\\xe9\\x16hBF\\xe3\\xebz\\x12\\x15\\xb5\\xe5@\\xd3 \\x00Xpv\\xd6\\xcc\\xd2\\x03\\x96^)\\xfau\\x94\\x1a\\xd9\\x1d\\xbb\\xddA\\\\\\xf0X\\xee9\\x89\\x11\\xfe\\xc6\\xc5\\x04\\xd6i\\xd2\\x19\\x964Fr\\x9d\\x90\\x05\\x0e\\x007\\xc4\\xd1LP|\\xafA\\xb6\\x8a\\xe0\\xc2\\x92\\xd2\\\\\\x90\\xd6\\xcf)\\xb5P\\x1a\\x08\\x9a\\xc8\\x81\\xf5G\\x82!\\xc5\\xdc\\xaf\\xfd\\xf5\\x97\\xbb\\xc9\\xa43z\\x9d}:\\xcek\\x94\\x7fi\\xab\\x01\\xa7\\xed\\xbb\\x9b\\xcf\\x93\\xfcs\\xe8\\xe4\\x9f\\xa7\\x93\\xd7MB\\xcep\\xbc,\\t\\xf1\\xfb#[a\\x87\\'n;\\x13r:\\x1cgB|\\xcf\\xf6\\xf6\\x91\\xa5%2\\xcf\\xef\\xf9\\n\\xebN<g\\x1fV\\x96\\xb0]\\xcf\\xcf\\xe4\\x9e\\x8cr#\\xbb\\xdd\\xf6X}\\xf6OGn#\\xd7\\xa9\\xc0\\xb3\"\\xd7\\x94F$E\\x9f\\xc8-\\xba\\xe4\\x118\\xb5I\\r2\\x13?\\x08\\x9d\\x86\\x98jP\\x1c\\x02\\xa4\\t1\\x96\\xa1\\x86\\xf8\\xb4\\xc6\\xac\\x11\\xe0\\x13}\\xb7\\xbe\\x08\\xc8\\xdf\\x8d\\x88\\xf7\\xabo\\x9a=W\\xa1XI\\xda\\x84\\xf8\\x10F\\x1a\\xe2\\x9cs\\xe6s\\xd1l\\xfb\\x07\\xa5F\\xd1\\xf6U\\xbc\\xdc\\xa3\\x97X\\x15\\x01\\x97\\x18\\xdf4\\xaa5,\\xc5\\xd6x\\x95\\xc0\\xf1\\xad\\x9c<\\x1d\\x13\\x12\\xcd\\x94\\x0b\\x06A\\x86\\x97$&\\x12\\xa99~MH\\x13\\xfe+\\xa5\\xda\\xfe\\x9c\\xd3@\\xf0\\x94/$\\xfaJ\\x91\\x8fi\\xb3#\\xa7t&\\xcd\\xe83\\x1a\\xc1F\\xaf\\x1bu\\x87h\\xd2<z\\xfe\\x05\\xf9\\x9c5\\n\\x1c\\x91\\x1b\\x1d\\x02g\\x1b\\xb3F!\\x84i\\xbb\\xf0\\x1e\\xaf$\\x8e\\x9a\\xad\\xc2\\x11+B>b\\x196\\x1ar\\xb5\\x16\\x81\\xb6q\\xa9\\x84`Z\\x12\\xc6\\xd1xN\\xd2\\xb4\\x11\\xfcY\\xac5\\x93>`\\xc8\\xec\\xcd\\x91u\\xce\\xd6\\x91\\x0e\\x11\\x92^7B>b\\xce\\x8b\\x90\\x11\\xbf\\x1e\\x868J\\x9a\\xed\\xa2qX\\x04\\xfd\\x9e^\\xc3I\\xc1\\xe8\\x82\\xcbf\\xfd\\xb8~\\x86\\xd53l,\\x8e\\xf7G\\xd4\\x17J\\xe4\\x0f&\\xa7?\\xe924\\x07\\xa3\\x9aY\\t\\xbd\\x84Vj\\x9f\\xaa\\x874>\\xa8\\x1e2\\n\\x05\\xf1\\xb9\\x1e>\\xe5zx\\n7\\x96\\xc6\\xbcP\\xae\\x82{\\x01\\xff\\xd1\\xda7\\xc2\\xab\\xf8\\x82\\xc09\\x7f.}\\xcf\\xa5\\xef\\xb9\\xf4=\\xa1\\xd2\\xb77#}g\\xc1\\xd3\\x8b[\\xdeFn[\\xc4\\xfb\\xae1\\xda\\xd74.(cWr\\xcd\\xc8\\xc7T\\xaf\\x93)\\xd89\\x9f\\xc0\\xec\\xfdh>\\x9e\\xf1\\xed\\xfa\\xd9$\\x84\\xaf\\x9aY-#\\x16\\x90K\\x81\\xb3A$\\xb8\\xfc\\x8b\\xca\\xf0*\\xc4\\t\\xe8d[%\\t\\xcbT\\xd3e7\\x8a\\x12\\x9eB\\x1bn\\xe9S\\xf5J\\x95\\xd7\\xe5\\xaf\\xb9(\\xb8<[\\xe4\\xe9\\xaf\\xa1t>,\\xcf\\xf9<_\\xe7\\xb4\\xcd\\x0b3C\\xb7rK\\xea\\xb6\\x94\\xbe\\xb5&8J\\xf4\\xb1\\xccpN\\x1e\\xcb\\x0c;g<\\x92\\x1d\\xb6w\\xa0\\x1d5\\xfb\\xf6]v\\xe4#\\xa50S\\x97C\\xb8\\x1aB\\xbe\\x03m\\xba\\x9d\\xdc:8\\x9e\\x98\\x91\\xb9\\n\\xd3R\\x90o\\xc3\\xf9\\xe9\\xc5x\\x1a\\xe29\\xd9\\x04\\xb9}\\x98Wm\\xe7\\xd8\\xd1\\xd1\\xfb\\xe7\\xc1Q\\xb0\\xa3\\xef<\\x96\\x1d\\xc7\\x88\\xf2\\xa2!\\xee\\xa1\\x86\\x98\\xcf\\xc3C\\x87y{_\\x98g\\x95\\xc6P4\\x14ml\\xac$,F\\xb7`\\xb8\\xd7\\xf1,\\x14\\xe0d`-\\xa0\\x07\\x83\\xafQ\\x02\\xf2RU`1[\\xc6\\x03+\\x90\\xa2|L\\x8cE\\xe8p\\xe7\\x97\\\\_\\xe3\\xd1\\x92\\xe3\\xdb\\xa6e\\xb5n\\xaf)w\\x19m\"R9\\xc2i\\x98\\x13g\\xab\\xca\\xdee\\xb1\\xc1U\\x1d\\xcfU[\\xf2\\xb0\\xbej=\\xb4\\x15N\\xcf\\xfeY\\xad\\xc8\\x9f\\x0c\\x11N\\x16\\x0b\\x12Hc\\x94\\x17\\xa6J\\xa2\\xf3\\x19S\\xbe\\xe7+I\\xc4U8\\xbfE3\\xb6\\x12\\x97\\x18\\xbc\\xe3\\xe6\\xc7qNS\\xb8\\x12v\\xb6\\x0f\\x022\\xb9\\xbb9\\xa9ze1g\\xa6\\xf2\\xdf-\\x0c\\t,[\\x88Y\\x12\\xe2M]\\xed\\xd5\\xe7\\x9b\\x9c\\xaez\"v\\xfa\\x97w\\xc1`\\xf2\\xfdp\\xc9G\\x0f\\xe5;\\xe7_\\xf4]C\\xae~\\xf6\\xdd\\xe3\\xfan\\x93;HL\\x9cy\\xc5\\x11\\x01tE\\x02#\\x95\\x1c\\x06\\x16\\x172\\xe4P\\xee\\x92\\x90\\x06\\x13\\x01\\xcd\\x94\\xc9D\\xf0\\x02\\x82d\\xa6\\x1c\\x80\\x98\\xfa\\x0b\\xbd\\xf2\\x0c\\xb9)\\x15\\xce\\xad>9\\x7fE,\\x83\\x86N^\\xd2%\\x12\\x14\\x8a\\xb0\\x0c\\x05!\\x17r\\xe3\\xef\\xef\\x93jw\\x8c\\xd7\\xfa,\\x81m\\x84T2d\\xd5\\x17\\xcaC\\x89\\xc1=3rC\\xd8T%\\xf3\\xae\\xda&\\x0b\\x85\\xdb\\xe2T\\xcd\\xbb\\x1a\\xbe&`K\\xc3zn\\x9d-\\'\\xff\\xdb^\\xd4=\\xb4\\x17=F\\xf3\\xa3\\x99\\xe0\\x1e\\xb3\\x87s\\x9bz\\xb8\\xc2E\\xac\\xffX\\xd6\\x1e\\xf92\\xdf9p\\xdb:\\xde\\x03^\\xe6\\x13,C\\xa4~\\xc1}\\x8a\\x8a\\x80\\x11\\xabb\\xbe\\xba\\xafO\\xf9%\\x9c;\\xb4{\\xf1\\x81 \\x9b\\xfc\\xd6\\xdb\\xa4\\xf6\\xdd\\xe0\\x0c|\\xd4\\xabZ\\xa5d+\\x11?K\\x07|\\x1f\\x92\\x06c\\x8c[\\xf44_\\x8f\\x14b\\xad\\xa6\\xb1\\xad\\xc6\\xda1\\x0cy\\x80X\\xf3\\x0c\\xa1f8\\xdf\\x87E\\x9a\\x1a3\\xd5\\x8b\\xac9\\x8d\\noA\\xd5@\\xe5?\\xdb\\xd4\\rh\\xf6\\r4\\x1c\\x91\\x05^1\\x99\\xb66\\xa3\\xe4N\\n<\\xdc\\xfe\\xef\\r\\xb0\\xc2\\xc4\\x8e\\xe1\\xed\\x8b\\xbf\\x01PK\\x03\\x04\\x14\\x00\\x00\\x00\\x08\\x003\\x91\\xc7P\\xd4\\xe6Ip\\x03B\\x00\\x00\\xa6,\\x01\\x00\\x18\\x00\\x00\\x00xl/worksheets/sheet1.xml\\x8d\\x9d\\xd9\\xcee\\xd7u\\x9d_E\\xe0\\x03,\\xaenv\\x86$\\xc0\\xb1\\x11$\\x17\\x01\\x0c\\x07I\\xae\\xcbVI\"L\\xaa\\x14\\xb2l%o\\x9f16\\x1d\\xe1\\x9f\\'g\\x10\\x91\\xad\\x86\\x94ky\\x9f\\xbdg\\xbb\\xbe\\xd9\\xfc\\xfa/_~\\xfc\\x97\\x9f\\xfe\\xf8\\xf9\\xf3\\xd7_\\xfd\\xaf\\x1f\\xbe\\xff\\xd3O\\xbf\\xf9\\xe6\\x8f_\\xbf\\xfe\\xf9o\\xbe\\xfd\\xf6\\xa7\\x7f\\xfe\\xe3\\xe7\\x1f>\\xfd4\\xbe\\xfc\\xf9\\xf3\\x9f\\xf0\\xdf\\xfc\\xfe\\xcb\\x8f?|\\xfa\\x8a\\xbf\\xfc\\xf1\\x0f\\xdf\\xfe\\xf4\\xe7\\x1f?\\x7f\\xfa\\xdd\\xf3\\x87~\\xf8\\xfe\\xdb=\\xa7\\x7f\\xfb\\xc3\\xa7\\xef\\xfe\\xf4\\xcdo\\x7f\\xfd\\xfc\\xbd\\x7f\\xf8\\xf1\\xb7\\xbf\\xfe\\xf2\\xaf_\\xbf\\xff\\xeeO\\x9f\\xff\\xe1\\xc7_\\xfd\\xf4\\xaf?\\xfc\\xf0\\xe9\\xc7\\xff\\xfd\\x1f>\\x7f\\xff\\xe5/\\xbf\\xf9f}\\xf3\\x7f\\xff\\xc6?~\\xf7\\x87?~\\xe5\\xdf\\xf8\\xf6\\xb7\\xbf\\xfe\\xf3\\xa7?|\\xfe\\xaf\\x9f\\xbf\\xfe\\xb7?\\xff\\xc3\\x8f\\xf8\\xabo\\xffz\\xca\\xef\\xbe\\xfb\\xe1\\xf3\\x9f~\\xfa\\xee\\xcb\\x9f~\\xf5\\xe3\\xe7\\xdf\\xff\\xe6\\x9b\\xbf]\\x7f\\xf3\\xb7U\\xc9?\\xf1\\xfc\\x9f\\xfc\\xf7\\xef>\\xff\\xe5\\xa7\\x0f\\xff\\xf9W\\xfc-\\xff\\xf4\\xe5\\xcb\\xbf\\xf0/\\xfe\\xf3\\xef~\\xf3\\xcd\\xe4#}\\xfe\\xfe\\xf3?\\x7f\\xe5\\x19\\x9f\\xf0o\\xff\\xf6\\xf9\\xef>\\x7f\\xff=\\x8f\\xc2\\x83\\xfc\\xcf\\x7f?\\xf5\\x9b\\xbf\\xfe?\\xe5\\x1f\\xfc\\xf8\\x9f\\xff\\xef\\xe9\\xff\\xf1\\xf9\\xf5\\xf85\\xff\\xf4\\xe9\\xa7\\xcf\\x7f\\xf7\\xe5\\xfb\\xff\\xf1\\xdd\\xef\\xbe\\xfe\\xf17\\xdf\\xe47\\xbf\\xfa\\xdd\\xe7\\xdf\\x7f\\xfa\\xd7\\xef\\xbf\\xfe\\xe3\\x97\\xbf\\xfc\\xa7\\xcf\\xff\\xfe\\x8b\\xec\\xaf\\x0f\\xf8\\xf7\\x9f\\xbe~\\xfa\\xed\\xaf\\x7f\\xfc\\xf2\\x97_\\xfd\\xf8\\xf3O\\xff\\xf3\\'\\xbe\\xe1\\xf57\\x0b\\x0f\\xf6\\xcf\\xfc\\x9b\\xcfs<\\xff\\x1d\\xfe\\xe4O\\xf8\\xbb\\xff\\xf6\\xdb\\xf9\\xebo\\xff\\r\\xcf\\xf0\\xcf\\xf8\\'\\xfe\\xe4_\\xff\\xf8~\\xfb\\xc7\\xf7\\xf3\\x07\\xff\\xf4\\xfc\\xc1\\x15\\xeb\\x9e\\xb1\\x96\\xc7\\xb2\\\\\\xd3\\xea\\xfdA\\xe7\\xedA\\xe7\\xe3A\\xbe\\xa2F\\xdaY\\x13\\xff\\x12\\xe7\\xbc?\\xe8\\xbe=\\xe8~<\\xe8\\xe4\\xc2AY\\xc7\\xed\\xae\\xbb\\xde\\x9fco\\xcf\\xb1\\x0f\\xe7\\xdc\\x9b9\\x87\\x95\\xd5\\x0c\\xbb\\xb9\\xf6\\xfb\\x83\\xfc\\xedA\\xfe\\xe1\\xa0\\\\1\\xc7\\xaa}\\xcb#mV\\xbc?(\\xde\\x1e\\x14\\x1f\\x0e\\xda\\x99y\\x87y\\xe5\\xd9U3\\xc5+\\xca\\xb7\\x07e\\xfbh\\x13\\x1f\\xcd}\\xdd\\xe9n;\\xc5;\\xaa\\xb7\\x07\\xd5\\xc7\\x83Vd\\x0c\\x8f8+W\\xde+~\\xda\\x9a\\xef\\xc5p~<\\xca\\xc2|\\xec\\xb8\\x9e\\xb3\\xd6\\xb9\\xe2$!\\xd0\\xeb\\xe3IYw\\x8e(<\\xce\\xc4k?\\xe2\\xc3\\xad\\xf7\\xc2\\xbd\\x9at\\xd7\\xb5\\x1c\\xe7\\xac\\x9b\\x90\\x83\\xdc)\\x8ez/\\xde\\xab\\xcb\\xb7/\\xa7\\xa2\\x9ce\\xe7\\x84\\xfax\\xeb\\xbd\\x80\\xaf\\x17\\t\\xdf5\\xe6\\xb1\\rY\\xf0\\xed&\\x8ez/\\xe3\\xcb\\xdaQ\\x06\\xad\\xab\\xc0\\xff\\xe4\\xc9\\x08\\xf5\\xae\\xdeK\\xf9\\xfa(\\xe6v\\xcf\\xd9\\xc3\\x0f\\xa4\\xe1\\xee]B\\xa6\\xd6{1_\\x1f\\xe5\\x1c?\\xea\\x0e/\\xd8\\xf8\\xe3e\\xeb(\\xa9z/\\xe8\\xeb\\xa3\\xa4\\xef;\\xf7\\x1es\\xd6\\xdd\\xab2\\xd4\\x9bz/\\xe9\\xab\\x8b:\\x8e\\x18\\xeb^3\\xc3/Tve\\xbf\\x17\\xf5\\xfdQ\\xd4a\\xe3\\x16\\x0c\\x14\\x843\\xe6\\xd9!~\\xde~/\\xea\\xbb\\x89\\xfa\\x8e\\xdc\\xc3\\xe62_3\\x8e\\x89\\xdf\\xb7\\x85\\x1d\\xff(\\xea\\xdb\\x0f\\x7f\\x9f\\x9d\\xb4\\xeb\\xe7\\nI\\xdf\\xef%}\\x7f\\x94\\xf4\\xb8g\\x8d\\xed\\x13\\x06aA\\x99\\x8f\\x8b\\xa3\\xdeK\\xfa\\xfe(\\xe9{\\xe1m\\x8f\\xbd N\\x19s\\x97\\xfa}\\xef%}7I\\xb7\\xbdb@\\x85!\\xeb+N\\n\\x03\\xb3\\xdfK\\xfa\\xf6\\xf6\\xd6\\xcf\\x84\\xd28\\xde\\xd8v\\xbfG=\\xd5{Q\\xdf\\xcd\\xa4\\x9f=\\r\\xfa\\x87pf\\x1d\\xfcC\\xe8\\xdf~/\\xea;\\xbbw\\xb8\\xb0\\n\\x0b2a~\\xf3\\x08O\\xbc\\xdf\\xcb\\xfa\\xae\\xa65\\xd7}\\xc4\\xac\\x9d\\'ln\\xf1\\x03\\xcf{Y?M\\xd67\\xd4n\\\\\\xbe\\xb2\\x83\\xc3\\xb60{\\xe7\\xbd\\xb0\\x9f&\\xec\\x11\\xb0\\x0b\\xb1V\\xc16\\xe0c\\xaaP\\xe3\\xbd\\xb0\\x9f&\\xec\\x1b\\x16}\\xec\\x0bQ\\x8f\\x80:\\xab\\xa3D\\xd8r\\xba\\n.\\x1b\\x17v\\x06\\x01\\x90W\\x08\\xc59\\xef\\xa5\\xfd|\\x94\\xf6\\xc30\\x83\\x16\\x14\\xbfp\\x9e\\xa5\\xa4\\xfd\\xbc\\x97\\xf6\\xd3\\xa4}\\xe6\\xb61/\\xa4\\xfex\\xa6\\xd2\\xc1\\xf3^\\xdaO\\x93v\\xbc\\xa2D\\xd4\\x81o7\\xf7\\xb9K\\x18\\xbe\\xf3^\\xda\\xcfGi\\x8f\\xc9wE\\x8f\\x15\\xfb\\xe65\\xf5T\\xef\\xa5\\xfd\\xb4\\x10\\xa6\\xfc\\x18\\x8c(\\x82\\xce\\x9dP\\x1e\\xf5\\xae\\xdeK\\xfbi\\x96\\xfd\\x1c\\x9b\\x03\\xef\\x1bR\\x8f\\xf3T\\xe8q\\xdfK\\xfb\\x9d\\xfd\\xa8@4\\xbc/\\xe2\"\\xdb1\\x850\\xdc\\xf7\\xd2~W\\xb3\\xc7\\xf0\\r\\x03\\x1f\\xcf\\x02\\x9e\\x02B/\\x8ez/\\xed\\xf7\\xa3\\xb4\\xdf\\x99\\xf3\\x0e\\xb8\\xaf\\x95\\x1b\\x16Y\\xbc\\xf5\\xfb^\\xd8\\xefGa\\xbf\\xf0{>\\xf8\\xea\\xe3\\xd6\\x9cS\\xbc\\xf5+\\xa2\\xf4f\\xda+m,\\xc8\\x02\\x12\\x88\\xbb\\xa7\\x8a<\\xee{a\\xbf-R\\xdf\\x86\\x08\\xfb\\x89\\x85\\x90;\\xc0\\xba\\x8b\\xa3\\xde\\x0b\\xfb\\xfd(\\xec\\x08\\xd1\\xf7\\xa83\\xa3\\x16\\x0c_,\\xf5\\x01\\xdf\\x0b\\xfb\\xfd(\\xec\\xe711\\xfb\\xd8\\xa9\\x13\\x13a\\x9f8\\xea\\xbd\\xb0\\xdff\\xda\\x0f\\x1f\\x0b\\t\\x12\\xa2u\\xc42\\xf2\\xb5\\xbf\\x17\\xf6\\xfbQ\\xd8a\\xed\\xa0\\x81\\x1e7\\xa7I\\xb3`\\xefE\\xddfw\\x820\\x0bi\\xf0]\\x08\\xff]y.{/\\xea\\xf6Q\\xd4\\xa1\\xc5Hk`?)\\xf2\\xe5&^\\xba\\xbd\\x17uk\\xa2~\\xa9\\x7f\\xe7N\\xd8\\xbd\\n+\\xa15\\xf6^\\xd6\\xad\\xcb\\xfa\\x0c\\xc7K_\\xf0\\xf0{!\\xf5\\x12G\\xbd\\x97u\\xfb(\\xebu\\x16\\x82P\\x0b\\x04{\\x07q\\x96z\\xeb\"\\'\\xb5\\xf6\\xf9\\xaa`@s\\xc10\\xe0\\x17\\xa6z\\xeb\\xefE\\xdd>\\x8a\\xba\\xc3\\x1b\\'\\xc2\\xecS\\xf0\\xd0\\xd7\\xb60{\\xf6^\\xd4\\xadG1\\x89|\\x126=\\x18\\xf3Y\\n\\x05\\xb4\\xf7\\xa2n\\xcd\\xae?\\t\\t\\xf4\\xe5&\\xe2\\xff]\\xea\\x07\\xbe\\x17ukQ\\xcc\\xbe\\'\\x10\\x88\\x16\\xdc \\x8eS\\xc1\\xb1\\xbf\\x17v\\xff(\\xecHK\\x0f\\xef\\x14 \\xa0HnR\\x19c\\x7f/\\xec\\xfeQ\\xd8\\x8d\\xbf/\\xd7E,S\\t##^\\xbb\\xbf\\x17vo\\xc2\\x0e\\x19\\x18L\\xc1a\\xfe\\x10F*a\\xf0\\xf7\\xc2\\xee-\\x8a\\x81\\xca\\xc0\\xf0\\xed\\x80\\xad\\xaa\\x82\\'\\x14G\\xbd\\x17v\\xff(\\xec\\xfcn\\x08b\\xb2\\xe8m\\x10h\\xa9\\xd7\\xfe^\\xda\\xbd\\x19\\xf6\\x9a\\x1b\\x11_\\xd0\\xe4y\\x95\\x0b\\x13\\xea\\xe2\\x0e\\xe6\\xa3\\xb4_*\\x0b~ R\\x1b\\xdbY*f\\xf7\\xf7\\xd2\\xee\\x1f\\xa5=+|\\xc1\\t\\x16\"\\x862x\\x0cq\\xd4{i\\xf7\\x1e\\xb3_x.x\\x9a\\xc9\\xfcT\\x86\\xff\\xfe^\\xda\\xfd%fG&\\x81\\xb8?\\xae\\xef5\\xa7\\xbaez/\\xed\\xd1\\xa4}\"\\xe1B\\xbc\\x00\\xab\\x80\\xe4{\\x99x\\xed\\xf1^\\xda\\xa3\\xc5\\xec\\x13\\xe1\\xf1\\xa0\\xb4\\xfb5Xwu\\xd4{i\\x8f\\x9e\\xa0&\\xa2c\\x18\\x19\\xb8.\\xc4\\x0e*\\xbf\\x89\\xf7\\xd2\\x1eM\\xda\\x0b\\x02\\x00\\xb9\\x82\\xf7\\xa2\\x9f\\x98B\\xda\\xe3\\xbd\\xb4G\\x8b\\xd9\\xf1\\xe9&\\xf2\\x9bu\\xf1\\xcem\\x85:\\xea\\xbd\\xb4\\xc7Gi\\x87\\xdd,\\xc4\\x8e\\xbe\\xdc\\xb6\\xf1\\xbd\\x8b\\xa3\\xdeK{\\xb4\\x98\\x1d!\\x1a\\xb2\\xae4\\xe4\\xcf\\x07\\x0f\\xa8^\\xbb\\xb8sl\\xb6\\x1dQ\\x10Dt\\xe3\\x8d\\xc1}\\xc9\\xd8#\\xdeK{|\\x94\\xf6\\xb3\\xd3\\x07\\x1c\\x04\\x9c3\\x93J\\x95\\x82\\xc7{i\\x8fj\\xc1\\x15b\\x98\\x81\\xef\\xb8\\xf1|:)\\xc9\\xf7\\xd2\\x9e\\xb3Y\\x06\\xf8R\\xbcw\\xbc+>\\xd9\\x12\\xde9\\xdfK{\\xb6\\x98=a9\\x07r\\xcb@x\\x8c\\x10R\\xbc\\xab|/\\xed\\xd9n\\x1e\\x11c\\xafq2\\x16\\x93qd\\xbe\\xe2\\xa8\\xf7\\xd2\\x9e\\xa7}\\xc1[\\x8c\\xafn\\xed\\x9au\\x95\\x9b\\xc8\\xf7\\xd2\\x9e\\xed\\xe6\\xd1xI\\x7f\\x11\\x84\\x9c\\x8d\\xf8V\\xb9\\x89|/\\xed\\xd9\"\\x19\\x9fv\\xc6\\xdc\\x9b\\xf7\\xaap<\"\\xbc\\xca\\xf7\\xd2\\x9e\\xde\\x8e\\x8a\\x03\\x97\\x936\\x999/y\\xd4{i\\xcf\\x8f\\xd2\\x0eoJ%\\xbc\\x86\\x90\\x14\\xd1\\x83\\xfc\\x81\\xe2\\x8e\\xbdK;\\xb26|\\xc1\\x89\\xf4{#\\xc3Q\\xc2\\xf0^\\xda\\xf3\\xa3\\xb4{\\xc2q\\x8d@v\\x898\\xcb\\xa6\\x8a\\x19\\xea\\xbd\\xb4W\\x0f\\xdb\\xad\\xf6\\x80\\x80\"\\xb8\\xbd*\\xa6\\xad\\xf7\\xb2^/\\xb2\\xee\\x8e\\xe8\\nf\\x19\\x069]\\x08h\\xbd\\x97\\xf5j\\xb2~\\x90t\\xe3\\x99\\x10_\\xd9\\\\W\\xbd\\xa9z/\\xeb\\xd5d=\\xf1\\xfd\\x07^\\xfd\\xc4\\xcf\\x8c0q\\xddT\\xefe\\xbd\\x9a\\xac\\xaf\\x05\\x01]4\\xa2\\x11k\\xa9\\\\\\xbe\\xde\\xcbz\\xb5\\xdb\\x18\\xba\\xe41\\xf1\\xae\\xe8\"\\x96r\\xf3\\xf5^\\xd6\\xabYvhp!\\x8eY\\xc8&\\xd2R\\xd9\\xd0z/\\xeb\\xd5,;\\xef\\xe9\\x07^\\xb7\\xf3\\x8a\\xc1THT\\xefe\\xbd\\x9a\\xac\\'1\\x10<\\xc5\\xe5\\x07\\x80\\x9d\\x11G\\t\\xa2\\xd4ncx\\xe18\\xce\\\\\\x0bA\\xb2\\x87\\xba\\xad\\x80\\xb7\\x15L\\xa9E2\\xcb\\'\\x92p8\\x083\\xdeE+(1\\x05V\\x9aM\\xe2)\\xa1\\xc3\\xc8\\'s\\xc2i\\x88\\x1f\\x89\\x90G\\x1c\\xf6Q\\xe6\\xcf=\\x8eD\\xdcf\"\\xe1\\x99W!\\xb85\\x05Z\\x9a\\xfd\\x0e\\xd2\\xe0\\r\\x99\\x1bB\\x7f\\x8ei\\x0c\\'\\xe0\\xd2lr\\xef\\xfb\\xda\\x80AF(\\xb2\\xa7\\xab\\x0c\\x0c\\x1a&\\x0ek\\x92\\xbf\\xef\\xbcp\\xae\\x08\\x8f\\x82\\x16CQ\\xaf)\\x00\\xd3l1<\\x02H\\xd283\\xb8\\x9f+\\x11\\xe1\\x14\\x88i\\xf6\\xabH\\xafa\\xe7\"\\xc5H<X\\xca\\x8f) \\xd3lI\\xebF\\xb86\\n\\x01`!\\xc1O\\x95JCw\\xc5aM\\x01\\x12\\x0e\\x03\\xc1\\xe9\\x86\\xd8\">UA\\xc4RP\\xb5QU\\xb8W$P\\x1bi\\x18~\\xef\\xb2+\\x0fS\\\\\\xf5\\xa3\\x02\\xc0\\xfd\\xc0`\\xe0\\xa7#\\xa5F\\xb6\\x99\\xf20\\xa1\\x00\\r\\xad\\xc2e\\x1f\\x92\\x8fS8,\\xa6\\xba3X\\x8a\\xad6\\xb8\\x8a(\\x90\\xd9\\x9d9\"\\x1c\\xa4\\x19\\xf2k*\\xba\\xda\\xf1*\"\\t\\x1f\\x85\\x10\\x13ZEw\\xab\\x0e\\x13\\n\\xd0\\x00\\xabA\\xfe\\x8d\\xc1W\\x18\\xb2u\\x95\\xc1.\\x05X\\x1ba=\\x08\\x9b}8\\xef\\xb5\\x90xJ\\xcb\\xa8\\x10\\xeb\\xea\\xb7\\x93\\x90\\xae\\x11s2\\x82\\xf6R\\x97#KA\\xd6FY\\xd7\\x85/\\x1a\\x06\\xf1\\xe2E\\x04\\x8c\\xa3:L\\xc8\\x7f\\x03\\xad\\x1e\\xf8mLd\\xe1\\x96\\xbc\\\\%gK\\x90\\xd6\\xd5P+\\x85u\\x0f\\xe2\\x86\\x83\\xb4\\xff^Y\\x0b \\xe4\\xbf\\xd1V\\xe7%\\xc2\\x80\\xe19\\x88Y\\xd7Q\\x89\\xff\\x12\\xb8u5\\xde\\n\\x8bq\\xfdI\\x1c\\x91\\xcc\\x86.\\x9d\\x10\\xc4u5\\xe4\\xeaU\\x11\\x03\\xe6\\x1f\\xde\\\\{9A\\\\WG\\xae\\xbb\\x90\\xef]D\\x17\\x88\\xefa\\xcc\\x95`\\x08\\xe6\\xba\\x1atuf\\xff\\x81\\x90\\x07\\x0f\\x96\\xf0Y\\xf2\\xf5\\x0b\\xf1o\\xd8\\x15\\xdas\\xa1\\xe3\\xac\\xa3\\xd9\\xf3\\xb8B\\x89Kp\\xd7\\xd5\\xc0\\xab30\\xb8\\xbc+\\xc1\\'\\x08i\\x17\\x05x]\\x9d\\xbc\">\\x87\\xf9G\\xfa\\xbe!\\x19\\xbavE\\xa0\\xd7\\xb5{\\xfc\\xc3\"\\x9f\\x8b\\x9c\\xfd\\x9e9]\\xc5\\xfaK\\xc0\\xd7\\xd5\\xe8\\xeb\\xa2>\\xf2Z\\x0f\\x19\\xd6\\xa9pY\\xbf\"\\xc4\\xbf\\xf1\\xd7\\x8b(c\\xf0#\\x9e\\xcb\\x12\\xad\\xa9\\x8c\\xac\\x00\\xb0\\xab\\x11X\\x84\\xe8\\x8c\\x7f\\xd6s\\x1bg\\xa9\\xf2\\xdb%\\x10\\xecj\\x0c\\xf6\\xc0\\xbf\\xe5\\x80\\xc5\\xb8\\x06\\xdb?\\xa5\\x95\\x15\\x10v\\x9d\\x97\\x9a\\x03$60\\x8c\\x0bi\\r\\x8e\\x93\\xefL(@\\xe3\\xb0xMI&\\x0f\\xcf\\x19\\xce\\xd0L\\x1d&\\x14\\xa0\\x93X\\xa4\\x0e\\xac\\xfb\\x81\\x99E\\x08\\x94\\xea\\xaei\\t\\x14\\xbb\\x1a\\x8b\\xdd\\x8cc!g\\x90\\x8c\\x1d\\xa6\\x9d\\xb9\\x80\\xb1\\xeb\\x85\\xc6\\xc2^\\xc02F!8C\\xda\\xacTS\\xe0\\xd8\\xd5y,\\xb2$d\\x00q\\xa3\\x9e\\xef\\xa9\\x9eL\\x00\\xd9\\xd5\\x89l\\x1e\\xf8\\xcc\\x05O\\x82\\x9c\\xfe\\xca\\x8b\\xed%\\x90\\xecjL\\xf6\\x92\\xca\\x8fs\\x93\\xa1\\xde\\xf6\\xab4@@\\xd9\\xd5\\xa8\\xac?\\xf7\\xb5\\xd0\\xd7*\\x84\\x9fGV9\\t.\\xbb\\x1a\\x98\\x85\\x179s@\\xce\\x90\\xd7_\\x97`o\\t2\\xbb:\\x9a\\xbdHU\\x07l6>\\xc1\\x9e\\xa52\\xdf%\\xd8\\xecjp\\x96\\xf7\\xd1\\x10\\xda\\x98,\\x9dBZ\\'?\\x80\\xd0\\x80\\x86g\\xe1\\x7f\\xf1\\xd26\\xeb\\xcb\\x8e\\xe3\\xb7*\\x7f\"\\xf8\\xec\\xba=\\xff\\x85\\xe7\\x1bg%KWo\\xaa\\xbb\\xe9%\\x08\\xedj\\x88\\x16\\xb6\\x95\\x97\\x9b\\x85\\xd4$s\\xfe\\x82\\x9c\\t\\rh\\x90\\x96.\\t\\xb11\\x84b\\xe2\\x11\\xb7T\\'\\xc1iW\\x07\\xb5N\\xd18x\\xa49\\xe1RB\\xfdLAjWC\\xb5\\x01\\'0G$\\xc2Y\\xe4s\\xd7\\xd5\\xcf\\x14\\xacv5X\\xbbXC0\\x92\\x15\\xc4\\xf0\\xed\\xd26\\nX\\xbb\\x1a\\xad\\xe5\\xc5\\x1dB\\r\\x84,\\xc5[}i\\xb5\\x05\\xae]\\x9d\\xd7R\\xca&\\xb3\\x89\\x85|\\xceB\\xbe\\x7fUa\\xd9S`\\xc4*\\x03\\xb1\\'\\xc1(\\xf3\\x1du\\x98P\\x80\\x06m\\xcd`\\xb7\\xc7|J^`\\x1ee\\x15\\xa9\\xa0\\xb6\\xaba[x_x:\\xa8\\xe5\\x82ZJ\\x12\\xb9\\x04\\xb6]\\x9d\\xdb^\\xc7\\x83m\\x84?;\\xa1Q%\\x1fL\\xc8\\x7f#\\xb7\\x0cg\\x91\\xb6\"\\x91\\xbb\\xbc\\xbb\\xbe\\xca\\x9a\\tt\\xbb\\x1a\\xbb=\\xac\\xa5\\x1a\\xc8\\xc2\\xd2\\x9d%\\xca\\xea\\xc9\\x04\\xbc]\\x9d\\xde\\xc6^\\x03\\x11\\x02R\\x96{\\\\\\x95\\x17,AoW\\xc3\\xb7\\xc8\\xa1\\x1c\\x91\\xf6\\xe1\\xb5\\x08^\\x9c|\\xff\\x82\\xdf\\xae\\x06p\\x0f\\xc2\\x95\\x1a\\xb0\\xff\\xd0r\\xfc7%\\x0f\\x13\\xf2\\xdf\\x10.^\\x14\\x0b\\xa2x1\\x02\\xd5\\xbc\\xf2\\xd6F0\\xdc\\xe5\\xbd\\xc4x\\xfaAp\\x86\\x14`!\\x9f\\x90\\x89\\xbe\\xa0\\xb8\\xabc\\\\$\\xabx4;\\xe7\"\\xd0\\xd6\\xa1\\xb6\\xe0\\xb8\\xab\\x81\\\\\\xde\\xa1\\x1eDz\\xac\\x8f\\xcb)\\xbd\\xb9\\x00\\xb9\\xab\\x91\\\\\\xa8\\x90#\\x033V\\xf8\\xc7/d:\\x02\\xe5\\xae\\xc6ra\\xc0\\x91\\xce\\xa5\\xc3\\x94\\xf9\\x84\\xf4\\xaa\\xc3\\x04\\xcc]\\x8d\\xe6\\x16\\xe2\\x94\\x81o\\x88,`\\xb2\\xc4[\\x16f\\x0b\\xf9o<\\xd7\\x11*\\x8eB\\x04z\\x109nYS\\xb1\\x04\\xd0]\\x8d\\xe8.\\x16\\x98\\xe2\\x9d\\xc1\\x9b\\xc0\\xca\\x1dY|.\\x90\\xeejLw;k\\xa4X\\xe9m\\x1en\\xf2\\x03\\x08\\xa8\\xbb\\xa2W\\xd8#\\xf0\\x846M\\xd6z\\xb3\\xc6I\\x1d&\\x14\\xa0q]\\x84\\xa0g\\x0f\\xfa8\\xde\\xac\\xba\\xc2\\xe9K\\x80\\xdd\\xd5\\xc8\\xeef\\xd9\\xff\\xf0\\x9b\\xf0st\\xe8\\xf20Ug\\xdf\\x14\\xc0\\xa1O\\x88\\xcd\\x8c\\xa5\\x07fR\\x03\\x04\\xdc]\\xd1s\\x00F\\x8d\\xc1\\x80v\"u\\x92\\xb6Q\\xe0\\xdd\\x15=\\x07@J2hf\\r\\xbf\\xff\\xc8+\\r\\x01x\\xd7\\x0b\\xe1\\xad],\\x9fc\\x8b\\xca\\xd1)\\xb5@\\xbc\\xab1^H\\x963\\x07\\x83\\xf1\\x86\\x1a,\\x99R\\x0b\\xc8\\xbb\\x1a\\xe55\\x96>\\x12c\\x07\\x84\\xd7\\xaf\\xcc\\x82\\x05\\xe6]\\x8d\\xf3B\\xba\\xee\\x80\\x91M\\x16#\\xc0@\\xca\\x9f)4\\xe0\\x85\\xf4\\xfaD<\\x857\\xcfl\\x0c\\xd9\\xab:Lh@\\xf6,\\x98\\x1e\\x80\\xc5\\x16d\\')\\x91\\x82\\x80\\xbd\\xab\\xd1^6\\x08!\\xa7\\x0e^T\\x11^\\xa9\\xb3\\x84\\x02t\\xdc\\xeb\\xbc\\xd1\\xa3\\x1aA=O\\xba|0\\xd5j\\xf2Q\\x01r\\xed\\x18\\x16,\\xa2\\x9a\\xc8h\\xa5o\\x12\\xc4w5\\xe4{YH\\xbc\\x0f9\\xad\\x11b\\x89\\xb3\\x04\\xf2]\\x8d\\xf9\\x92d\\xd7(DR\\x9b\\xb7@\\xaa\\xc2a\\t\\xec\\xbb:\\xf7\\x85\\x13\\x81id\\xa9\\x0bb\\xd1#/!\\x04\\xf8]\\x9d\\xfc\\xc2\\xed>`\\x1b\\xd6g\\x96\\xc9\\xb4U\\xa0\\xdf\\xf5\\xc2~a\\xc8\\x062\\t\\x84\\x19u\\xf4\\xcd\\xa5\\x80\\xbf\\xab\\xd3_BQ\\xb8M\\x87\\xec\\xcf]\\xf2\\x82P\\xe0\\xdf\\xd5\\xf8/\\xebwY\\x96\\x8a\\xf8\\x13/,U\\x81\\xc2\\x12\\x00xu\\x02\\x8c\\x88t\\x0f;\\xbcn\\x87\\x19\\x92\\xc1\\x99@\\xc0\\xab3`|\\xc73\\x90\\xa0\\xc0o\\x06\"!\\xf9\\x01\\x84\\x02T\\xcf\\x81\\xcf\\x84\\xd0\\xde\\xc3V\\xab#\\xbd\\x89\\xa0\\xc0\\xabc\\xe0=!\\xb3P%\\xdeSE\\xaa\\xeb\\xa9-0\\xf0\\xee\\x18\\xd8\\x0f\\x12\\x1d\\xc4\\xa1\\x13\\t\\xbaI\\xfb\\xb3\\x05\\x06\\xde\\r\\x03\\xb3\\x1a\\xd8\\x06/\\\\`b\\x19\\x1e\\xa8\\xc3D\\xd3U\\xc3\\xc0x\\xceb\\xd8~`\\xb3\\xed\\x94J\\x9b\\xb6\\xc0\\xc0\\xbba\\xe0\\ry \\x9f+d\\x14I/\\xac\\x0e\\x13\\x9dW\\r\\x03\\x1fz\\xb7\\xc1\"j\\xdb\\x17\\x91\\x9ej\\'\\x12\\x18xw\\x0c\\xcc\\x8e\\x8f1sC\\xce`\\x19\\xf5\\xd7\\x14\\xddW\\r\\x03\\xc3\\x1c\\x1e:\\x00\\xf8Lx\\x86T\\x81\\xc6\\x16\\x1cx\\xbfp\\xe0\\x9b><!e\\xc4C\\xb2\\x83Np\\xe0=_\\x92\\xe0Is\\x86\\x84\\x02\\x11m\\xa9\\x1a\\xcc-8\\xf0\\x9e\\xbd\\xa0s;\\xef\\x8esN$\\x9aKA\\xb5-8\\xf0n\\x1c\\x18F\\xf1\\t\\x1ba\\xb5\\x9d\\xb7\\xdaJh\\x05\\x07\\xde\\x8d\\x03\\xb3H\\x182\\xcbR+\\xde\\x82*t\\xb5\\x05\\x07\\xde\\xeb\\xa5\\xd0\\r\\x1a@<\\xe4\\x08CM\\xddhl\\xc1\\x81w\\xe3\\xc0\\x05c=236\\xf4\\x12\\xaa\\xae\\x14]p\\xe0\\xdd8\\xb0\\x19\\xdc\\t\\xd2\\xd6b\\xcf\\xc5Uy\\xeb\\x16\\x18x\\xaf\\xd7K\\xa0;6|\\nK\\x9c\\xf0\\x01\\xd4aB\\x01V\\xcf\\x01\\x82\\xec\\xb6\\xdc\\x9f\\xd2\\xfd-\\x7f\\xa5P\\x80\\x0e\\x82\\xe7\\xcf^\\xf3X\\xc8\\x8b\\xae-(\\xf0\\xee\\xbd\\xb6\\x1b\\xa2\\x8a\\x98\\xbd a\\x08BUd\\xb0\\x05\\x05\\xde\\x8d\\x02o\\xb6\\xd2\\rD\\xcb\\xfcw^\\xd1\\x8a\\xc3T\\xbfm\\xa7\\xc0pL1\\x02\\xe2_\\xec\\xa0Q\\r\\xa9\\xaa\\xe3\\xb6C`\\xd6>\\x0c\\xf6\\xf1;\\x91\\xbej)\\xde\\xb2\\xe7\\xb6\\x9b\\x7f\\xdf\\x87\\x05\\xa3\\x88\\x1d7,\\x99\\x921\\xd5v\\xdb \\xf0bC*d\\xccw\\xb0\\xabJ\\xdd\\xb4o\\xd5x\\xdb0\\xf0\\xdaU\\x86<\\x07\\x9f\\xf2l\\xd83\\xf93\\x85\\xf4w\\x0c\\x0c\\x8d\\x0c\\xdeA D\\x83\\x90(yU\\xbd\\xb7\\xbd\\xf9\\x16\\x194\\xdbr&\\x02\\x97(\\x15\\xcbn\\xd5|\\xdb 0\\xe4*a/\\x10\\xfd \\xf8\\x9e\\x12\\x9co\\xd5~\\xfb\\xd2\\x7f[\\x1c`\\xb0\\xa9\\xe4\\xebH:\\xb7U\\x03n\\xa3\\xc0\\xf0\\x92\\xf7\\xa9\\xd24|\\x82\\x92-\\xd4\\x02\\x02\\xef\\x06\\x81\\x0f\\xa2\\x0bX\\x8b\\x03gy\\xa7\\x87\\xe2\\xb6[@\\xe0\\xdd 0\\x0c4d\\x0ca;\\xdc\\xe6\\xe1\\r\\x9c:L\\x88\\x7f\\x87\\xc0\\xf0\\x945\\xa6\\xb3\\xe7\\x9c\\xe5a\\xea\\x95\\t\\x08\\xbc{#\\xae\\xc7}\\xba\\xb2\\x97\\xb1\\xd1X]\\xb3l\\x01\\x81\\xf7y)\\xfe|\\xda\\x13\\x91\\xcc!\\xe1Oue\\xb0\\x05\\x04\\xde\\r\\x02\\xb3\\xcf\\x987\\xd05\\x9d\\x80HJ\\x86\\x80\\xc0\\xbbA`\\x18j&\\xe6\\xec\\xf10[\\xba\\x8f]@\\xe0\\xdd p!~e\\xa9\\x1f]\\xa6\\xc1\\xb2I9\\x13\\n\\xd0!0b\\xbe; \\xac>\\xa1\\x9d\\xb2<f\\x0b\\x08\\xbc\\xcfK\\xf4\\x83\\xb0`\\xb3>\\x804F\\x8e[\\x10\\x10x7\\x08\\xcc\\x825\\x18\\xc6\\x0b\\x93f\\xd3\\\\5\\x88n\\x01\\x81w\\x83\\xc0\\x0b\\xc1b>5\\x15\\x07^]\\xc7\\x18\\x02\\x02\\xef\\x06\\x81\\xb7\\xa5s\\xea\\x02\\xc4\\x8c\\xc3j\\xa4\\xd0\\n\\x08\\xbc;\\x04\\xe6\\x85\\xec`\\xdd\\x14E\\xb6T\\x81\\xcc\\x16\\x10xw\\x08\\xbc9\\xa5\\x82E#\\x9c\\x163\\xe5\\x94\\n\\x01\\x81w\\x83\\xc0\\xb0\\x89a\\x83\\x03B\\x02.\\xef\\xaa\\xdb\\xa4- \\xf0n\\x10\\x18J\\x04\\x1b\\x14\\x08}\\x12\\xbe\\xce\\xa4\\x9c\\t\\x08\\xbc_\\xbatY\\x9a\\x8d\\x80l!\\x9b\\xe3\\x08\\x06u\\x98\\xd0\\x80\\xde\\xa7;\\x17\\x12\\xb0\\x93\\xee\\xac\\xcf^r\\x04\\x83\\x80\\xc0\\xbbA\\xe0\\xc58q\\xb0\\xf7\\x83\\xc5\\x15\\xb7\\x94n\\n\\x08\\xbc;\\x04\\xbedMO{\\xf4v\\x96\\xab\\xaa\\xc3\\x84\\x064\\x08\\xcc\\xba\\xec\\x0b\\xe3\\xc8v\\xdd\\xab\\xc1\\xf9\\x16\\x10xw\\x08\\xcc\"\\xe31\\x19\\x08\\xb1\\rUz\\'A\\x81w\\xa7\\xc0y\\x90\\x9a<\\x17\\xa0V\\xae\\xc7\\x85\\x08\\x05\\xb0~\\x03\\x14\\x08\\xff\\xe7=\\x9c\\xd2\\x82\\xa0C\\x1e\\xa6\\x86\\x8f4\\x05\\xc0\\xe7`\\xe9rA\\x95X\\xef\\xad\\xc4L@\\xe0\\xdd \\xf0\\xda\\xce\\n%\\x96\\x1c \\x9d8\\xaa\\xa1g\\x0b\\x08\\xbc\\x1b\\x04F\\x14\\xb5Y\\xba\\x0c\\x8f\\t\\xe7\\xb4T\\xc7\\xfb\\x16\\x14x\\xbft\\xef\\xc2\\x87\\x0cv\\x83C\\x05`\\x86\\xe4;\\x13\\n\\xd0(p\"\\xf0\\xb3Q\\x89\\x88\\xef\\xda\\x91\\x17][P\\xe0\\xfd\\xd2\\xc1\\xcb|\\x02/l\\x19C[%\\xb2\\x02\\x02\\xef\\x06\\x81\\x17|o\\xb1u\\xa9\\x10\\xb1\\x1fW\\xb5\\xfb[P\\xe0\\xfdB\\x81\\r\\xb9\\xc9DX\\xb6\\x9eY\\\\\\xea\\x95\\t\\n\\xbc\\x1b\\x05\\xb6\\xca\\x1b0\\xda,\\\\\\xe6%\\xb4|2\\xa1\\x00\\x8d\\x02\\xc7S<\\x88\\xd4\\x04\\xc2\\x11\\xec\\xa0P\\x87\\t\\x05h\\x14\\x985f5\\x9ceJ0e\\xf2\\xa6}\\x0b\\n\\xbc\\x1b\\x05>\\x0c\\x1c\\x11\\x03\\xcd\\x1b\\x17\\x9fTUhoA\\x81w\\xa7\\xc0\\xf1\\xbc\\xb3{\\x8b\\xb3\\x11J\\x0f\\x06\\x12\\n\\xd0\\x1bz\\xcf\\x85\\xd5ph&[\\x13e\\xdc.(\\xf0n\\x148I\\x943aH,\\x11\\x04\\xa9\\x92\\x96-(\\xf0~\\xe9\\xe9M\\xb2\\xee\\x98\\xc8\\x9ex3\\xa2~\\xa5\\xa0\\xc0\\xbbQ\\xe0\\r\\xa1E\\x0e6\\xd9\\x03\\r\\xcd\\xd4\\x87\\t\\x05h\\x14\\xf8\\x10\\x0b\\x8d`\\xb7\\x1c\\xdc\\x8a\\xbcg\\x14\\x10x\\xc7K\\n<\\xe7\\xe0\\x8c\\x93\\x89\\x00$\\xd5u\\xf6\\x16\\x10xw\\x08\\x0c\\xab\\xbb\\x98\\x03\\x18\\xe4\\xe2j\\x07, \\xf0n\\x108\\x16o\\xa6\\xc8\\xd3\\xf0\\x1d$7\\xdf\\x82\\x01\\xef\\xc6\\x80\\xf1\\xcb\\xe6e\\xcc\\xb2\\x13\\x99\\xc5\\x96\\x86Q0\\xe0\\xdd\\x190\\x1b1\\x87W>\\x93\\x90J\\xda\\x7f\\xc1\\x80\\xf7\\x0b\\x03FF8\\x10\\xacL\\xe6\\x14.\\xef\\xc6\\x05\\x03\\xde\\x9d\\x01#\\xb8\\xe2\\xd0\\x85\\x03=\\x87c\\x92\\xb1\\xb1`\\xc0\\xbb1`\\xc6\\xd9\\x13\\x0e\\x18\\x91\\x19SW53o\\x0b\\x06\\xbc{\\x9f\\xef\\x83Z\\xeb\\x10L\\x94\\x94\\x0bA\\x80w\\xef\\xf3\\xbd\\xd7\\x9f9F\\x88\\x0f\\xe2\\\\\\x192\\n\\x02\\xbc\\xf3%\\xfcaU;T\\x1c\\xef?\\xb6\\xb4\\x18\\x82\\x00\\xefN\\x80\\xd9\\xc5\\xcc\\xd6\\t\\xa4r\\xa7d\\x11\\xca\\x16\\x04x7\\x02\\x8cp,\\x11\\x7f&{t/\\x1eM\\x1e&\\xe4?{\\n\\xfc\\x8cF\\xbas\\xb3hdK\\xf3#\\x10\\xf0\\xee\\x08\\x18\\x89\\x04\\xfb0\\x10\\x96\\x19\\xa4C\\x1f\\xa6F\\xb0\\xbd\\xc4?\\xc5N\\xe4;\\xf1lp\\xc2R\\xca\\x84\\xfc7\\x04\\xbc\\x91\\xc5!\\x02\\x8d\\xc5\\x99\\x1c[\\x16\\xeel\\xc1\\x80wc\\xc0\\xc9Iu\\xe3\\x16\\xb3\\xfc;\\x8f\\x8cY\\x04\\x03\\xde\\x9d\\x01\\xc3\\x02\\xd1e\\xf2Z\\x8fshT6!\\x18\\xf0n\\x0c\\x18\\xa9:\\xab\\xdaa\\xb4\\xcf\\xdc\\xc8\\x06\\xe4\\xdc:\\xa1\\x01\\x8d\\x01\\xf3m-6\\xa8#\\xcc^G\\xcdu\\xdb\\x02\\x01\\xef\\x8e\\x80a3\\x82\\xf6\\x1f\\xa6\\x9f\\x06H\\xe9\\xb9@\\xc0\\xbb^\\x8a\\x80\\x9e\\xee\\x15H\\x18%C5&o\\x81\\x80wC\\xc0\\xfb.ds\\x8e\\x9c\\t\\xd1\\xfb\\xd2\\xdeD \\xe0\\xdd\\x10\\xf0bM\\xf0\\xd3\\x08\\xc06\\x96%q\\x9a@\\xc0\\xbb^\\xe2\\x1fH\\x06\\xf9\\xe3*\\x9d\\x18\\n\\x02\\xbc;\\x01.\\xd8\\xff\\xb1\\x18zr\\\\\\xaa\\xba\\x1b?\\x82\\x00\\x9fF\\x80\\xd7\\xd9\\x1c\\xe0\\x03\\x93\\x8dWg&\\xc7\\x10\\n\\x02|f\\xcf\\x7f\\'\\x14\\xd3\\xc3\\x9f\\x8a:9\\xe1\\xe6\\x08\\x02|\\x1a\\x01^\\xe5\\xc1bK{z=%\\xcc9\\x82\\x00\\x9fF\\x80Y\\xac\\xf6\\xd4\\xc6pX\\xe6\\xbc\\xaa8\\xe9\\x08\\x02|:\\x01N\\xea\\xe5Et\\xbcYU\\xad\\xd2\\xcc#\\x08\\xf0i\\x04\\x1817,\\xe3\\xb9\\xce6\\x18/u\\xd5{\\x04\\x01>\\x8d\\x00\\xef\\x83\\xb7\\x06-\\x8f5/;\\x8c\\xe5\\x07\\x103\\tg\\xbf\\x01\\xaa\\xcag\\xa6V\\xee\\xa9\\x8b3\\x8e \\xc0\\xa7\\x11\\xe0\\xc3\\xbcw\\xac\\x19\\x88\\x17w\\xc8b\\xfb#\\x08\\xf0\\xe9\\x9d\\xc0a\\xfc\\x9a\\xfc\\x9dl\\x93Rq\\xde\\x11\\x04\\xf8\\xf4N`\\xbe*\\x04\\x8d\\x1c\\xa9z\\xa7\\x9c\\x02r\\x04\\x01>}\\xc42\\x9b \\x9f\\xa9\\xdf\\x07~\\xc9U\\xd2z\\x04\\x01>\\xeb\\xa5\\x08\\x88Q\\x0b\\x1e\\nb\\xc61\\xad\\xea0\\xa1\\x01}\\xcc2\\xcb\\x88\\xc6\\xa3\\x96\\xd0O\\xd9\\xbd~\\x04\\x01>\\xbd\\x138\\xd2\\x7f.O:\\xc8\\x05\\xae\\xaa\\xce8\\x02\\x01\\x9f\\x86\\x80\\x0fR0\\xdaY\\x04SQ\\x1075\\xfcR \\xe0\\xb3\\xfa\\x15\\x10\\x02\\xc6A\\xa5\\xc4\\xeb_\\xa9\\xee\\x93\\x8e@\\xc0g\\xbd\\xd4A#k\\xe2O\\xb4\\x0b\\x0f\\xa0nm\\x8e\\xa0\\xc0g\\xbd\\x94\\x81B\\x03\\x90\\xe2\\xc0\\x99\\x1e$\\x87j\\xb4\\xaa\\xa0\\xc0\\xa7\\x0f]F\\x8as\\x86\\xd1e\"8v\\xa9\\xe8\\x82\\x02\\x9f>v\\xd9\\xa0\\x00\\xfb\\x19\\x9e\\xbd\\ni\\x93:K(\\xc0\\xee\\x19\\xc0M&\\x9axi\\xc7H\\xe1\\xd5aj\\x18m\\x9f\\xa1\\x0f\\xbf4\\xd8\\x85\\xe4L\\xf6\\x15\\x1f=\\x82\\x02\\x9fF\\x817\\x93\\x80a\\x1c.\\xc7Q\\x98\\xaa\\n\\xf4\\x08\\n|z30\\x03\\x02\\xce?\\x9fk\\x054K\\xa9\\xa6\\xa0\\xc0\\xa7Q`\\xbcr\\xbbl\\xc5c9b\\xc8\\xae\\x8e#0\\xf0i\\x188\\xe3i\\x9ef\\xb5\\xf7\\xe5,Y9\\x0cX(@\\xe3\\xc0H\\x01`g\\x91L\\xd7\\xba{\\xca\\x1c\\xf8\\x08\\x0e|\\x1a\\x07\\xbe\\xc8\"j\\xc4\\x932!\\xdfQ\\x83q\\x8e\\xe0\\xc0\\xa7Obf%\\xe9\\xe0\\x8f\\xe4\\xe5\\xe0Q\\x15EG\\x8db\\xee\\xdd\\xc0\\x104\\xe3\\x9c\\xa4\\xc31\\xa2r\\x9a\\xf6Q\\xc3\\x98\\xfb4f$\\xbeO\\x81F\\xddg\\xd2\\xb7\\x12Z5\\x8e\\xb9\\x81`\\xab\\xa7\\xdc\\xd5\\'\\x07\\xc2\\x1eYmp\\xe4@\\xe6\\x8f\\x1a\\x90xYx\\xb0\\x84!\\x83\\x7f\\xda*\\xa0=j$s\\x07\\xc1\\x1c\\xa5=\\x90\\xe7\\xc3\\x10M;*\\xd9?j(s\\x07\\xc1\\xc8\\x96\\x98R\\x17GR\\xca\\x02\\xed\\xa3\\xa627\\x0e|\\xa7?s\\xd9X\\xf5\\x01\\x1b$\\xe3F5\\x97\\xb9q\\xe0\\xcb\\x06\\xf6\\x19Oj\\x08_\\xa7.\\x0e\\x8e\\x9a\\xcc|z\\x1d\\x10\\xc4\\x8b\\x01U\\x12\\x9b\\x1cUTt\\xd4l\\xe6\\xc6\\x8138^\\xefn6U\\xe2@U\\x87{\\x04\\x07>\\xf7\\xa5\\n\\x0e\\xdfr\\xc6\\xb3\\xa1\\xe0\\xcai4Gp\\xe0\\xd390l\\xf5x$\\x1f\\xa9\\xe6\\x0c\\x95\\x04\\x1f\\xc1\\x81O\\xe3\\xc0\\xcfN\\x08N\\x0bN~\\x03\\x97\\x81\\xbb\\xe0\\xc0\\xe7\\xa5\\x19\\x18\\x81\\x0b\\xecYz9\\xbbb\\xe4\\x93\\xa9\\x99\\xe4\\x8d\\x02@\\x1f\\x16W|\\xf0W\\xea\\xe2\\x85#8\\xf0\\xe9\\x1c\\xb8\\x0c\\xc1\\x01o\\xa9\\xfc \\xdf\\x97\\x1a 8\\xf0\\xb9\\xbd\\x0cn\\xd6\\xe6\\x14G\\x9cw\\xd9\\xe4\\xa7\\x0e\\x13\\x1ap{)\\x10\\x0c\\xe2xj\\x8d9\\xdaI\\xddB\\x1c\\xc1\\x81O\\xe7\\xc0\\xc69\\x80\\x08\\xb4\\x93T\\xf3(v~\\x04\\x07>\\x8d\\x03{\\xc2\\xce\"\\xc6\\x80\\xec\\xae@D\\xab\\xde\\x99\\xe0\\xc0\\xa7q\\xe0gP\\x17L6y\\xf2\\xe2\\x04Su\\x98\\xd0\\x80\\xc6\\x81\\xa1\\xda\\x8b\\x1f\\x80\\xf3c\\x02\\xf6Q\\xa9\\x93\\xe0\\xc0\\xe7\\x85\\x03\\x17\\xcdvp\\x1a`]Y\\xf0q\\x04\\x07>\\x9d\\x03\\xb3\\xac\\x17\\xcai9!\\xff[Z\\r\\x01\\x82O\\x03\\xc1\\x90\\xff \\xd4g6P&K\\xd1\\x8f\\x00\\xc1\\xa7w\\x03_\\xe7B\\x925\\xf1\\xbfx\\x9b\\xfag\\n\\rh 8\\xec\\\\\\x0e\\x00\\xe6\\xb0\\xe4\\xd2\\xa1\\x9e\\xe0\\xc0\\xa7q`\\x96{\\x07\\x14\\x80\\x1d\\x96v\\xb7\\xba\\x88>\\x82\\x03\\x9f\\xc6\\x81\\xb7\\xb3\\x83\\x1aV\\x9b\\xf3\\xebK\\x16\\x8f\\x1c\\xc1\\x81O\\xe3\\xc0\\x08\\x16}\\x18-,>\\x01\\\\\\xa8\\xdce \\x14\\xa0q`\\xa4\\'\\\\}\\x84`\\xb2X/f\\xea\\xc9\\x04\\x08>\\x1d\\x04\\x1f\\x7f\\x9aD\\x18\\x19#|TuEG\\x80\\xe0\\xd3A0\\x87/\\x8fdm\\xefM\\x8e\\xfaP\\x87\\t\\x05h 8\\x16L\\xe3dW=\\xafJ\\xe4\\xb6\\xa1#@\\xf0i \\x18\\x0fT\\x17\\xa7\\xb1\\x83\\x9d\\x9d\\x14*\\xd4\\x10 \\xf8t\\x10\\x0cw\\x19\\xbc\\xee\\xddH\\xd19.A\\x1d\\xa6VS\\xf4R {f\\x98\\xc3\\xb1#P\\x085+\\xea\\x08\\x10|:\\x08f|=\\x08\\xfb\\x105\\x90d\\xa9\\xc3\\x84\\x06\\xf4~`\\xc6\\xb2l\\xee\\xbe\\t\\x97n2s\\x12$\\xf8\\xf4~`d\\xf9\\x1cc\\xb8\\x93V\\xd2\\xe4\\x93\\t\\x12|\\xa2k\\x00\\x07O\\x15\\x033\\x04zG\\x8d\\xc4:\\x82\\x04\\x9f\\xde\\x0f\\x0c\\x15\\x1a\\xac\\x83F\\xba9\\xa5k\\x12\\x1c\\xf8t\\x0e\\x8c7\\x86\\xd8\\xe0\\x06\\x0b\\x9eL\\xce,>\\x02\\x04\\x9f\\x06\\x82Y/r\\x89\\xfb\\xd8\"r\\xe56\\xaa#@\\xf0i 8\\xf0\\xc6\\x8as\\xbfj?\\x13~\\x95\\x03\\x10 \\xf84\\x10\\xfctP#\\xdcF\\x02\\x00\\x19\\xd1\\xfbb\\x04\\t>}\\xce\\xf3\\xc2\\xdb\\x1a\\xe1,\\x91g\\xdf\\xa7<L-g\\xe9\\x13\\x818\\x0f\\xd4!\\xac,\\xfaSC\\x94\\x8e\\x00\\xc1\\xa7\\x81\\xe0\\x98\\xecw\\xa8|:\\'\\xca\\xd4\\x9c\\x90#@\\xf0\\xe9 \\xb8\\xea8\\'c\\xc7d\\xd1\\x9f\\xf4\\x99\\x02\\x04\\x9f\\xecIp\\xd60N|D\\xcet]f\\'\\x02\\x04\\x9f\\x06\\x82\\x11\\x9a\\x9dQ\\xc5\\xa9\\xbc\\x85\\xf0@\\xb5|\\x1e\\x81\\x82OG\\xc1\\x1b\\x12\\xc6G\\xdb\\x8bWJj\\x05\\xd7\\x11(\\xf8\\xf4\\xa1\\xcf\\x87a#w\\xbe@z\\xb7\\\\\\xcb(H\\xf0\\xe9$\\xb8\\x90\\xdf\\x0c\\xce_\\xe7\\x93\\x99\\xb4\\xb2\\x82\\x04\\x9f|\\t\\x80\\xe0\\x809\\x08\\xe8pE\\xa3\\xfc\\x96B\\xfc\\x1b\\x08\\xdeO\\x0eF:\\xed\\xcc\\xe9\\xd4\\x00\\x81#@\\xf0i \\x98\\x81\"\\xbbj\\x98\\xa3\\xf0\\xeeL\\n\\x86\\xdaN\\xd4/\\x81h\\x18\\xfd\\xb9\\x1d\\x87\\x90I/\\'@\\xf0\\xc9\\x9e\\x03{!0\\x98\\xdcf\\xb8m\\xcb8[\\x80\\xe0\\xd3@\\xb0\\xc5\\xe2\\x1e\\xb4\\xb3\\x10\\x82\"\\xe7\\x94\\x92!@\\xf0i \\x18\\xbe\\x88w]\\xc9\\x10\\xef\\x99\\xbb\\xa3\\x0e\\x13\\xf2\\xdf@0\\xac!$c\\x17B3XG\\x97[\\xc7\\x04\\x08>\\r\\x04?\\x93\\xef9\\x0e\\x82q#~\\xab\\x923A\\x82O\\'\\xc1\\xac\\x0e\\x1b\\xc9\\x9b\\x16\\xe4\\x99\\xb2\\x15\\xec\\x08\\x12|:\\t\\xe6\\xfe9\\xd8l\\xf8^6\\xd0\\xc9\\xb3\\x84\\x024\\x10\\xcc\\x02\\rx\\xd1\\xc9\\x01\\x07\\xcb\\xa6\\xbc\\xb7\\x11 \\xf8t\\x10L\\r\\x1f\\x08>9\\x8bc\\xa6\\x0cY\\x04\\x08>\\xf5R\\n\\xcd\\xcd\\x84\\x9cH\\x86\\x7fJ\\x0c#H\\xf0y\\x19\\t]\\xe5\\xcfx\\xe9\\xc9i(*\\x9b\\xb8\\x82\\x04\\xdfN\\x82\\x11`\\xf8@fX\\xd0\\xca-\\xa7q\\\\A\\x82\\xef\\xcbHh\\xb6\\xbcqv\\xcc\\xd3$\\xabl\\xc6\\x15$\\xf8v\\x12\\x1c\\xd3|\\xc4a\\x89\\x06\\x8b\"\\xe4\\xcf\\x14\\x8b\\xba\\x1a\\t\\xf6\\x85\\xc0s\\x10\\x06p\\x84\\x8f\\x9c\\x89\\x7f\\x05\\t\\xbe\\x8d\\x04\\xb3\\x07\\x1b6{s\\xa7Y\\xdaT\\xe3u\\xaf \\xc1\\xb7\\x91\\xe0\\xe04\\x89\\x91H\\x03\\xb8R\\xee(e\\xba\\x82\\x04\\xdf\\xde\\x0b\\x8c\\x97\\x9e\\x83\\xe5\\x01\\xfe\\xf3.[u\\x98X\\xd85{%\\x04\\xdd\\xf93\\x0c\\x91\\x1b\\x1e\\x15\\x87\\xb9\\x82\\x04\\xdf\\xde\\x0b\\xcc\\x16$\\xd6\\xb5\\xf3F\\x15q\\x9e|gbiW#\\xc1\\xf7\\xd0\\x03\\x1f\\xb3\\xa7\\x19x\\xab\\xcb\\xde+H\\xf0}\\x99\\t\\xcd\\xf2Av\\xb4\\x1a\\xe4CV\\xef\\\\A\\x82o#\\xc1\\x9b\\x99\\xdc\\xc0{D\\x9e\\t\\xe7\\xac\\x14\\xfd\\n\\x12|;\\t\\x0e\\xe4=\\x83\\xb7J\\xbb\\xe8\\xa6\\x94n\\n\\x12|\\xfbL\\xe8\\xcbw6}m8N\\xc4 j\\xed\\x9d \\xc1\\xf7e&4\\xafm`\\xb4\\'\\xeb\\x08\\xe58\\x94+H\\xf0\\xed3\\xa1kO\\xdeNq\\x88\\xed\\xf5\\xad\\xd2\\xa6+H\\xf0\\xed$8\\xf1\\xda\\x07\\xdb\\x14`1x\\x13\\xa1\\x0e\\x13\\x1a\\xf0\\xda\\x0c\\x1c\\xe7\\xd9s\\x85\\xc0\\x05\\xa2!?\\x80\\xd0\\x80F\\x82\\x8b\\xabl\\xf0d\\x9b\\xe5\\xcb,\\xbcT\\x87\\t\\rxY\\xbf\\x0b\\x0b\\x8b\\xe0\\x98\\xb3%\\xf0-\\xe5\\xcf\\x14$\\xf86\\x12\\xbcI\\xe8\\x90\\xa0@\\x93|n9-\\xf3\\n\\x14|;\\n~VgMn\\xa9\\xb2\\xcb4L\\x1d\\xa665\\xf6[P\\x08\\x18\\x07\\\\\";\\x9c\\x9e\\xaa\\xb4\\xe8\\n\\x14|\\x1b\\n.b\\xcd\\xe06\\xf5\\xc9A\\x9e\\xaaQ\\xea\\n\\x14|\\x1b\\n\\xe6\\xa2\\xa3\\x186\\xd9\\xdb\\x84\\xb7\\xa9\\x9fLh@_\\xc6\\xfb\\xa4\\xe7\\xb0\\x90\\\\M\\x19zc\\xa3@\\xc1\\xb7\\xcf\\x85\\xbe\\xf3\\xd9\\xe6\\x84\\xa4\\xf5\\x99d\\xae\\xe4L\\xa0\\xe0\\xdbPp\\xb2L\\x89\\xc3K\\x8c\\xefLV\\x10^\\x81\\x82oC\\xc1\\x0bv1\\x07\\xe3\\xbdk\\xd7\\x14\\xd4\\xb9\\x82\\x04\\xdf\\xfd\\x92\\x04;;\\x0b\\xa0LH\\x02\\x8e*_\\xb8\\x82\\x04\\xdfN\\x82\\'\\x87\\xffN\\x8e\\x90D\\x82\\xe2\\xaa\\x18\\xe8\\n\\x12|_\\xf7\\xf22\\x0b\\xe6\\xc5\\x01k\\x0f\\x14:\\xb9\\x82\\x04\\xdf\\xd3]\\x80#\\xd7\\xe7\\xe68\\xe7e\\xa3\\xc2\\xcaW\\x90\\xe0\\xdb[\\x82\\xcb9z\\x93\\xe4\\x8a\\xf5\\x7f\\xea\\xe2\\xe6\\n\\x12|\\x1b\\t\\x86x\\xfd\\xdc\\xa9\\xf9\\xaccJE\\x82\\xaf \\xc1\\xb7\\x93`n\\xe8b\\xb2\\xc9\\xbb\\xde\\x95r\\xfb\\xa9@\\xc1\\xb7\\xcf\\x85\\xb6\\xfb\\xecLd\\xc5\\xebe\\x1d\\xbf:L(@C\\xc1\\x1c=\\x9b\\x8c\\x0e\\x0eG{\\x1c\\x95R\\\\\\x81\\x82oo\\t\\xc6{\\xb7\\x013\\xcb!\\x84\\x88\\xd4\\xe4\\x93\\t\\r\\xe8s\\xa1o\\xd53\\xe4\\x9es\\xf8k\\xab\\x12\\xe6\\xab\\x16\\xf56\\x14L\\xdbOG\\xb7\\x90\\x8e\\xc5\\x96c\\xc4\\xaeZ\\xd5\\xdbP0\\xde\\xd8v2\\xd2\\xc5\\xa1\\x99j\\x7f\\xe9U\\xbbz{G0R\\x9c;\\xd8\\xf46\\xb9\\xe6Na\\x80\\xab\\xd6\\xf56\\x12|8\\x8acp\\xb2\\xdc\\x9a,:P\\x91\\x86\\\\\\xd8\\xdb\\xeb\\xa1\\x0b\\x81{Mg\\x8d\\x12tC\\xbe2\\xa1\\x00\\x8d\\x04#\\xc2\\x80?\\xe7\\xdd \\xacP\\x1c\\x19k\\xab\\xa5\\xbd\\x8d\\x04\\xdb\\xe2\\xeazd\\x89\\xab\\xe0PdA\\xeeUk{\\xfbXhgN\\xb7!k\\xc5\\nd\\x999\\xa9\\xc5\\xbd\\x8d\\x04_K$\\xfb\\xb4d\\\\\\x13\\xae\\x03w\\xb5\\xba\\xb7\\xef\\xeee\\xd5\\x08\\xe7k\\xb1\\x01\\x08\\xb9\\x80\\xfa\\x99\\x82\\x04\\xdfF\\x82\\xf1\\xea\\x93-\\\\\\xc6M3\\x84\\'\\xea0\\xa1\\x00\\xbd#\\xd8\\x16\\xf7X:\\x17=\\xe4\\x957\\xe4W\\x90\\xe0\\xdbH0\\x8b\\xce\\xf09Y?\\x82\\x80[\\xcdD\\xbc\\x02\\x04\\xdf\\x06\\x82y\\';Ys\\x86\\xa8\\xe5\\xf9\\x04\\xea0\\xa1\\x00\\xbd#\\xf8r\\xfb\\x1d\\x1c\\x14\\xd4\\t\\x11\\xadZ:x\\x05\\x08\\xbe\\xbd#8lq\\xcf\\x03\\xd4|r\\xf0\\x9a\\xf2\\x9a\\x02\\x04\\xdf\\xde\\x11|\\x8b]\\xbc\\x9e\\x1c\\t\\xb1a\\x1b\\xd5aB\\x01\\xfa6_\\xdeqA\\x01\"\\xa0\\xe6[\\xdei\\x08\\x10|{C\\xf0D\\x8a\\xc3\\xfd\\x98\\\\q\\xcaJ\\ru\\x98\\x90\\xff\\x06\\x82\\x0f\\xd7\\xfb\\xc1\\x9bL\\xce\\x7fO\\xd9Cq\\x05\\x08\\xbe\\x1d\\x04\\xb3\\xa3\\x15\\x1f\\x13)\\x7f\\x9d\\x90\\x9b\\x91\\xae\\x00\\xc1\\xb7\\x81`d\\x11\\xf3\\x8cix]0\\xffG\\xc1\\xf3+@\\xf0m \\xb8xs\\xcf\\xc7BDE\\x1a,\\x9fL(@_\\xecK[\\xc1\\x02B\\xf6W\\xe2\\x1f\\xf2\\x9d\\t\\x05h x3\\xfbEp\\x864#\\t\\x05\\xe4\\x93\\t\\x05\\xe8 8\\x0f\\xcb\\xc4\\xb2\\xb8\\xca(\\xae\\x0c4\\x04\\x08\\xbe\\r\\x04\\xef\\xe4\\x18\\x07\\x7f\\xc6\\xe5#\\x10\\x92\\xb1\\x81\\x00\\xc1\\xb7/\\xf8]\\x87\\xb1\\xd9\\x9cq\\x10\\x19\\xfc\\x82h\\x08\\rh \\xd8\\x1c\\xc9\\x89\\xc7\\x86\\xa1\\xbd\\\\\\x00%\\x97\\xd3\\x0b\\r\\xe8K~\\xeb\\xe7iu\\xc5\\x1d\\x0f+UO\\xcc\\x15 \\xf8\\xc6\\x8b\\x06\\xc0\\x05\\xd4\\xc1\\x91\\x0bY\\x98T\\'\\x01\\x82o\\x03\\xc1\\xdc\\xc1\\xc9$lr\\x90\\x89\\xeb\\x80V\\xa0\\xe0\\xdbP0\\'\\x81\\x0e\\xbfs=\\x9fR\\xae\\xad\\xb9\\x02\\x05\\xdf\\xde\\x13l\\x88\\xd9\\x07\\x07\":c y\\x96P\\x80\\xde\\x12\\x8cH\\xefr5\\xc9qN4\\x94\\xa9\\xa6 \\xc1\\xb7\\xcf\\x85\\xe6\\xf5\\xdb\\xb0`\\xdb\\t\\x19\\x9d<L(@\\'\\xc1\\xff\\x9f\\x1eX\\x90\\xe0\\xdbH0\\xbe\\xdf3a\\xe5\\xf0\\xde\\x17\\xb6M~L\\xa1\\x00\\r\\x05\\xc3h/n-\\xcb\\xb9\\xb9\\x03A\\xa1\\xe0+P\\xf0\\xed(\\x18\\x01\\x8b\\r\\xc4\\xec\\x08\\x1c/\\x8b\\\\\\xc4a\\x02\\x05\\xdf\\x8e\\x82}\\xb2\\x84\\x19\\x1f\\x15\\xb6\\x0cg\\xaaw&P\\xf0\\xed=\\xc1\\xeb\\xd9\\x81V\\xec\\x80\\xfb%\\xd5\\x14(\\xf86\\x14\\x1c\\xcf\\xb8@d\\xd3\\x0fFq\\xc5\\x95\\xaf@\\xc1\\xb7w\\x05#\\x93\\xaeA>=\\xebl\\xb9\\x9c\\xe7\\n\\x16|_\\xe7B\\x1b2\\n;\\x07\\xfe\\xf7\\xe8k\\x08\\xc1\\x82og\\xc1\\xcf\\xad*B)N\\x8e-\\x19\\x02\\t\\x16|;\\x0b>\\x1c?\\x0e\\x17\\xcc\\xfb\\x11|\\x03\\xf91\\x85\\x024\\x16\\xbcYPJ\\x14V\\xcf|\\x1bE\\\\\\xaf`\\xc1\\xb7\\xb1`g\\x0b\\xe3\\x88Mo\\xc29\\xdf\\xca\\x02\\t\\x16|\\xfb\\\\hn\\x83\\x1e\\xe7I\\r\\xe1\\x86\\x15>\\xbc\\x82\\x05\\xdf\\xc6\\x82\\xcf-\\x0e&C2\\xc7]\\xc0\\xf2NU\\xa0\\xe0\\xdbPpY\\xcd\\xc1\\xf7\\x05?\\xb0\\xe4T\\xac+H\\xf0m$\\xf8\\xe2=\\xf9\\x98\\x0f!\\xe5\\x8cc%\\xfe\\x82\\x04\\xdf>\\x16\\xda\\x9dn\\x0e\\x86\\x87[\\x96\\xb4\\xfd\\x11$\\xf86\\x12\\x0c\\xcd6\\x1f,\\xe9b]\\xa3\\\\3s\\x05\\t\\xbe/$\\xd8\\xb9\\x1b\\x92\\xd3]\\x8bWg\\xca\\x01\\x08\\x14|\\xfbX\\xe8\\x8d7\\x8f\\x84z\"\\x97N\\x97\\xdb!\\xaf@\\xc1\\xf7\\xa5\\'x#j\\x0c\\xdeY\\xc2\\xa3\\xa7\\xbc\\xd2\\x13(\\xf8\\xbe,\\x07^\\xac\\x86\\xe6\\xf6P\\xaeE\\x97\\x92!\\xc4\\xbf\\xa3`V\\x8e\\xf3g&\\xfbRUnh\\x82\\x04[#\\xc1\\xce\\xa9\\x1e\\xe3r\\xb8\\xd93\\xafQ\\x08\\x86\\t\\x12l\\xbd\\'x=\\xd3\\xba\\xd2\\xa2\\x1eX\\xa7\\xcez/\\xfe\\xd6\\x87Bs#\\'\\xcc\"G\\xb5\\xb0\\xedP\\xbc1\\x13 \\xd8zK0\\xfb\\xce\\xb9\\xc3\\x02\\xfe\\xed\\xccT\\x97\\x83&@\\xb0\\xf5\\xdd\\xc0l\\x03\\xa0\\xc7\\xbck\\xfb\\x95\\xdd\\x18&@\\xb0\\xf5\\xa1\\xd0g\\xe2S&\\xf7\\x83m8\\x13e~L\\x80`\\x9b/w\\xa0\\x8826b\\r\\x0e\\xf9[J\\xcaL\\x80`k \\x98=\\xe2\\xc9\\xc9\\x0b{3\\xd5W\\xcde&@\\xb0u\\x10|X\\xefQ\\x9c\\xe2p8\\x14N\\xca\\xec{\\xf9\\xb7>\\x14\\x9a#\\xa6y\\xd7\\x0e\\xbb\\x18\\xb5\\xd5\\xad\\x8d\\t\\x10l\\xab\\'\\x00O\\xfc\\x13\\x9c\\xca\\x07\\xef\\xa4\\xb0\\xbe\\t\\x10l\\r\\x04\\xdb3F\\xe3 6\\xe6t\\x9a\\xa9h\\x9f\\t\\x10l/ \\x98C.W&\\x05\\x8dS3\\xd5aB\\x03zK\\xf0\\xe1\\x1c\\x87|\\xf6\\xbf:\\x9eO\\x1e&4\\xa0\\x81`\\x16\\'!\\xd3\\xe7\\x1ca\\xc4xW\\xa5\\x13&@\\xb0\\xf5\\xa9\\xd0\\xc4\\xc9\\x03\\xbf\\xd5\\xeb\\xe9\\x07\\x90\\x87\\t\\rh 8s\\x1fv]!\\x96\\x82\\x9b\\x9b*i2\\x01\\x82\\xad\\x83\\xe0B\\n7X\\x9dqX\\xa9\\xa1\\xeemL\\x80`\\xeb-\\xc1\\x9b+\\x00I\\xba\\x196Nuof\\x02\\x04[\\x07\\xc1\\x11\\xf0\\xc0wNN;\\x96#\\xd6Mp`\\xeb\\x1c\\x18\"\\xcc\\x1e:\\xe4\\xe8?\\x0f\\'V\\x87\\t\\x05h\\x1c\\xf8\\xfe|\\xa1t`\\xd6\\x90\\x9a-\\x95N\\x9b\\xe0\\xc0\\xd6\\x07C\\xe3k\\xe2\\x95\\xd1\\xa9\\xc7\\xe2\"ju\\x98P\\x80>\\x18\\x9aM\\xadxe;\\x82\\x97\\x8e\\xd2\\x02\\t\\x0el}04\\xef\\xa48\\xe1\\x0cFh\\xdaV\\x95\\x8d&8\\xb05\\x0e\\x1c\\x93\\xf3\\xa2\\xf0\\x198\\x9dx\\x9aT\\x00\\xc1\\x81\\xadq`\\x96\\xd3=\\xfd\\xc5\\xf3\\x14\\'~+\\x7f\"8\\xb05\\x0e|\\xf6f\\xcd%\\xf7\\xdc\\xc2\\xa6\\xc9\\xca:\\x13\\x1c\\xd8\\xfah\\xe8`O<R\\xa75IN\\xa4m\\x14 \\xd8:\\x08\\xe6\\xc6b\\xb8\\x00N$8SV6\\x9a\\x00\\xc1\\xd6@p\\xb1\\x16\\x0b\\x96\\x8c\\xc5\\x9b\\xecyPg\\t\\x058\\xbd\\x14(\\xe6E\\xd2\\xc4\\xf1\\xf4\\xec%UvVp`\\xeb\\x1c\\xf8:\\xb4\\tY\\x19\\xbe*\\x94]\\x1a \\xc1\\x81\\xadw\\x04\\xc7\\x81\\xc8\\xda\\x85ZX\\xde\\xa3bc\\x13\\x1c\\xd8:\\x07\\x9ex]\\xbc\\x9f\\x9dL\\'\\x96\\xf4M\\x82\\x03\\xdb\\xe9\\x19\\xf0\\xe6\\xf0\\xbb\\xe4\\xf8Sdc\\xfa\\xc9\\x84\\x02\\xbcr`\\xce\\xc5\\x9a\\xe7\\x99\\xcfwe@%8\\xb0\\xf5\\xfd\\xc0\\xc8nh\\xceHH!j\\xaax\\xc4\\x04\\x07\\xb6\\xc6\\x81-\\x11|\\xd2\\x03\\x18\\xfb\\x91d\\xc5\\x93\\t\\x0el\\x9d\\x03S\\x9d\\xf09\\xe1\\xcb\\xf3n\\xd9\\rc\\x82\\x03[\\xe3\\xc0\\xb0\\x8c\\xec\\xba*n\\xd2a\\xaf\\xb7\\xd2s\\xc1\\x81\\xed\\xf6\\x1c\\xf8\\x16\\xa7\\x0f\\x9a\\xb1Qg\\xa9\\xb4\\xc9\\x04\\x08\\xb6\\x0e\\x82\\x9f\\x91E\\x1c5z\\x1c\\xb6V)\\x80\\xe0\\xc0\\xd680\\xeb\\xf6\\'g\\xd3\\xf3\\x1e\\xda\\xa7j|6\\xc1\\x81\\xadq\\xe0\\xcbJ3\\xde\\xda\\xb8qd\\xa6j\\xd67\\xc1\\x81\\xedv\\x05@\\x0c\\x85\\xe0\\x8c\\x1b`!\\x1fJ\\xfe\\x05\\x06\\xb6\\x86\\x81\\xaf\\x11\\\\\\xb1\\x0c\\x9a\\xe8PN\\xdf4\\x81\\x81\\xada`\\xaf{\\xb9M\\xe1n|\\xc7\\xbc\\xd2\\x9a\\t\\x0cl\\r\\x03#\\xcc`\\xf9\\xe0\\xb3qxo\\xd9uh\\x02\\x03[\\xc3\\xc0\\x08c\\xf3\\xfe{\\xd3O\\x98D:&0\\xb05\\x0c\\xcc\\xed\\x9e\\xf0\\x00\\x08\\xa68\\xb3Nz&A\\x81\\xadQ`\\xb8c\\x08lr\\xc3\\x95{\\x99\\xd4rA\\x81\\xadQ`$\\x04\\\\\\xf3\\xb6\\x9fYbSvw\\x9b\\xc0\\xc0\\xd610\\xbe\\xed\\x88\\xc5\\xb6g\\xdev\\xc9\\xbcU``{\\x1d\\x0c\\xbdlX \\xd0\\xde\\\\\\xe9\\xae$C``k\\x18\\x98\\xf7\\x9e\\xcff$c\\x1da\\xaa\\t\\xfc&0\\xb0\\xf5\\xed\\xc0\\x99\\xc5\\xae7\\xe3J\\xd3\\x92sqM``\\xeb\\x18\\x98\\xc5\\xedH\\xcf\\x9d\\x834\\xb8\\xbaL\\x1d&\\x14\\xa0q\\xe0\\x03Ebv\\x02\\xaf\\xceej\\xd2i\\n\\x0el\\x9d\\x03\\'G\\xe9=S\\x11a\\xb8K\\xfa9\\xc1\\x81\\xad\\x0f\\x86f\\xf3\\xc4@b\\xcc\\x86\\xf8)!\\x80\\t\\x0el\\xdes\\x00\\xde\\xdcpL\\x05\\xfc9\\xc2\\r\\xf55\\x05\\x07\\xb6\\xc6\\x81\\xf1\\x15It\\x0e\\x94\\xc9Srx\\x13\\x18\\xd8:\\x06>\\xdc\\xdb\\xc7\\xb5\\x11\\xb1\\xd9(\"\\x7f\\xa5P\\x00\\xef\\n\\x80\\xb7>x\\x9d\\x87\\xb0\\x16\\xe1\\xb1<L(@\\xc3\\xc0\\x16O\\xa78\\x91\\x1aG@\\xaa\\xc9|&0\\xb05\\x0c\\xcc\\xbe\\x7fv\\xd7?\\x9dj0\\xddJf\\x05\\x06\\xb6\\xde\\x0f\\\\l\\xaf\\x9f\\xec\\x85\\x84\\x9b\\x0b\\xe9\\x81\\x05\\x06\\xb6\\xde\\x0f\\x0c)sNS\\xf5\\xcd\\x1b\\r\\x05\\xfbL``k\\x18\\x98\\x15;\\xbc\\x83`\\xcd+\\xc7\\x90\\xab\\xa0E``k\\x18\\x18v\\x1f_\\xd39\\x1d\\xeb)\\xb2V?S``\\xeb\\x93\\xa1\\xc3\\xe63\\xe0\\x83\\xc3/\"\\x15\\x060\\x81\\x81\\xada`\\x86\\xc5pM\\x97u\\x0b\\xce\\t\\x07\\xea0\\xa1\\x01\\r\\x03\\xfb\\x86\\xd3\\xe4|\\x15\\xce\\x95<S^\\x1d\\x0b\\x0el\\x8d\\x03o\\x04g\\xc8\\xc1\\xd8\\x08\\xc0\\xa14\\xaaz\\xcd\\x04\\x07\\xb6\\xc6\\x81/4\\x88\\xdd5\\x87\\xbbk\\xa6\\\\Ok\\x82\\x03[\\xe7\\xc0\\xf7\\xaed\\xa7\\xc8b\\xf1\\xebQ\\x8d\\n&8\\xb0\\xc5\\x0b\\x06\\xb8\\xdc\\x1aw+X\\xd8+\\xd5Ip`k\\x1c\\xf8r\"\\x13/\\x0efp\\x81\\x874\\xb4\\x82\\x03[\\xe3\\xc0\\x97\\x1b\\xd3\\xf1d\\x86\\xe8\\x00q\\x82\\xf4\\'\\x82\\x03[\\xe3\\xc0\\x90\\x86\\x87\\x10-&\\x9d0!J\\x9d\\x04\\x07\\xb6\\xc6\\x81/o\\xc7\\x11\\x05!\\xa2\\rV\\xc9\\xa8\\x0f 8\\xb0\\xf5\\x96\\xe0g\\xa03\\xb72 i\\xe2,0u\\x98\\xd0\\x80\\xc6\\x8191\\xea \\n\\xdagB\\xe7M\\x95V\\x9b\\xe0\\xc0\\xf6\\xd2\\x13\\x9cO\\xb2\\x1f$\\xa5K\\xce\\xf37\\xc1\\x81\\xads\\xe0zv\\x00\\xd2v\\x18\\x9bo\\x95\\x9c\\t\\x10l\\xd9}\\x00\\xe2E\\xe2n\\xe7vH\\xb9 \\xc9\\x04\\x08\\xb6\\x06\\x82\\x8bS\\x1cXTj\\xe7\\x19\\xa6\\'\\xe5Lh@\\x9f\\x0e\\xcd\\x05\\\\\\x03&\\xf6\\xd9\\x91\\xb4U\\x05\\xb9\\t\\x10l}:4[\\xec\\xb9P\\x01&\\xe3\\xd6U\\xf0\\xdc\\x04\\x08\\xb6\\x06\\x82W\\xde4\\xd6\\x0f\\xf2\\x1a(\\xa7\\xbc\\x08\\x15$\\xd8\\xfathf\\xf9OW\\xb6\\x91\\x96J\\xdd\\x14(\\xd8\\x1a\\n\\xe6`\\x89\\x81\\xf38\\xbf\\x1d\\xa9\\x98\\xc2\\xfa&P\\xb0u\\x14\\\\\\x9b\\x1dI\\x9c3\\x9dI\\x15P\\x87\\t\\rx\\x1d\\x0f\\x8dG;w\\xf3\\xf5s\\x1b\\xac:Lh@C\\xc1vY\\xc2\\x1c\\xd7\\x9e\\xa4\\xe2\\xcakm\\x81\\x82\\xad\\x8f\\x87\\xde\\x9c\\'\\xf9,\\x9bA6VR\\x9d\\x04\\n\\xb6\\x86\\x82\\xe1w\\xe7X\\xcc\\x0e=9MC~M\\xa1\\x01/\\xe3\\xa1\\x93\\xf5k\\xf0\\x9b\\x10\\xb2e\\xaa\\xbb\\xc6\\x04\\x0b\\xb6\\xc6\\x82m3\\xab\\xe3\\xfa\\xa0\\xd8\\x84\\x9b\\xe2\\x9d\\xb9\\x80\\xc1\\xdeW\\x04\\xb3\\x16bp$\\xc1\\xe1bwy\\xd6{\\x05\\xf0\\x97\\xae`\\xa4\\xd2\\x88\\x0e\\n\\'AFT\\xb0\\xed\\x02\\x06\\xfb\\xecy\\xf0a\\xb7\\xe6\\xda\\xf0Y\\\\\\x95!\\x8c\\x86\\x0b\\x18\\xec\\r\\x06C\\xca\\xceB\\x14t|:\\xc4_\\x91e\\x170\\xd8\\x1b\\x0c\\xce\\x8bG{\\xe6\\x85pU\\x98\\x1c\\x0b\\xe4\\x02\\x06{\\x83\\xc1\\x0c<\\xc9\\xd5\\xe0\\x02\\xf0%~\\xe1\\x9d\\xbdW\\x00\\xef0\\x18\\x8e\\x9c\\x1dI\\x8b\\xfd\\x05\\xcb\\x95j\\xba\\x80\\xc1\\xde`p\\xc1\\xe8\\x1415\\xeb\\xd2\\xb9\\x0c\\\\\\x1d\\xf6^\\x01\\xbc\\xc1`|E{\\xee{\\xd9b\\x89\\x0cJ\\xfe\\xcc\\xf7\\n\\xe0/\\xf3\\xa19J\\x89\\xfd\\x00\\xe5\\xc5\\xd2cq\\x98\\x80\\xc1\\xde\\xbb\\x829\\xf4\\x8bs\\xc89S\\xfb\\xca\\xca\\x16\\x170\\xd8\\xfb|h\\xc6\\x9f\\x9c\\x1d\\x8epj\\x95l\\xe4u\\x01\\x83\\xbd\\xc1\\xe0\\xe0\\x82\\xa4d\\xa37\\'\\n\\x9b\\x02k.`\\xb0w\\x18l\\x9cK\\xb0Y\\xf2w\\x1e\\x13\\xa4\\x0e\\x13\\x1a\\xb0z5\\x10\\x17Q\\x90\\xd0\\xd55D\\nJ7\\x05\\x0c\\xf6\\x0e\\x83\\x11l\\xd7\\x98l\\x12\\x81eS\\xa6\\xd1\\x05\\x0b\\xf6\\xde\\x14\\xccJ\\xe81\\'\\xb2\\x1dx\\x14U\\xbf\\xe9\\x02\\x05{C\\xc167\\xde\\x18\\x1b\\x15\\x8a\\x17$\\xaa\\xbb\\xc9\\x05\\n\\xf6\\x86\\x82//[\\xa0H\\xc9\\xc6g\\x18\\x10\\xf9+\\x85\\xfc7\\x14\\xfc\\\\2r\\xe3\\xe7\\xe4t\\\\W\\x05<.X\\xb07\\x16\\xecgqj,2\\x80\\xe0R#\\xf93\\x05\\x0b\\xf6\\xc6\\x82O\\xb0\\xe2\\t\\xd6\\xba\\xaan\\xca\\xa5\".X\\xb0\\xf7\\x9e\\xe0}/\\x11\\x05\\x0b\\x8e\\xf91\\x95\\xfc\\x0b\\x16\\xec\\x8d\\x05_.\\x12\\x19\\x9c\\x98\\x8cgK5\\x17\\xcb\\x05\\n\\xf6\\x8e\\x82\\xd9\\xd6D3\\xeb\\xec\\x87<j\\x94\\x8c\\x0b\\x14\\xec\\xbd%x\\xf1\\xbe=8\\xea~\\xce*U\\xa7\\xe4\\x02\\x05{_\\x12\\x8c\\x88\\x0cfv\\xe2P\\xe3\"{\\xf9dB\\x01\\xfa\\x96`8\\x93\\xc9\\xaf\\xc9\\xb8\\x1dFR~L\\xa1\\x00\\x1d\\x05/\\xd8\\x8c\\xe10i\\x9b\\x08]\\x8dSu\\x81\\x82\\xbd\\xa3`\\xe4\\xadP\\x00$t\\x93\\xc1\\x9e\\xea\\x14q\\x81\\x82\\xbd\\xf7\\x04?7\\x07\\x179\\xeb\\xc6g\\x9d*\\xd9w\\xc1\\x82\\xbd\\xb3`\\xc4\\xd8\\xec\\x88<u\\xe18U\\x0f\\x9d\\x0b\\x14\\xec\\r\\x05syh\\x0c\\x0e\\xc4\\xe2@\\xc9P\\xf3\\x9c]\\xa0`o(\\xf8$\\x84k\\x9c8\\xfeD\\xc9j\\xa9\\x8b\\x0b\\x14\\xec\\r\\x05#\\xcb\\xc7\\xc74^\\x03\\xe1\\xab^)\\x19\\x02\\x05{G\\xc1\\x1b\\xe1\\x1d\\x97\\xeap\\xadi\\xc9\\xfb^\\x17(\\xd8;\\nF\\xca\\x9a\\xc8\\'X<\\x85\\x0cE\\r%p\\x81\\x82\\xbdO\\x87\\xe6\\x95\\xc1`\\xcf\\xadqd\\x8e\\xa2\\'.P\\xb0\\xf7\\xe9\\xd0,\\xfb\\x1bv\\x16g:\\xb3\\x1aE\\x1d&\\x14\\xa0\\xa3`\\x16\\xc8 \\xce@\\xc8bK\\x0e\\x06rA\\x82\\xbd\\x91`{\\xf0U0x\\x87\\x9e\\xcbj8\\x17$\\xd8\\x1b\\t>\\xf7\\x191\\xb1\\x1c\\x89\\t\\x14J\\xaa\\xb9 \\xc1\\xdeH0kQ\\xe6H\\xd6\\x17qo\\x81\\xbaTu\\x81\\x82\\xbd\\x0f\\x87\\xe6Hb\\xaeA(\\x8eR\\x95\\xd7#.P\\xb0w\\x14\\xecD\\xc1\\x9c\\xe4\\xec\\x1c\\xb4\"\\xcf\\x12\\xf2\\xdfgC\\xc3 :\"3\\xe7z\\xd3c2\\x9d\\x10(\\xd8\\xfblh\\x1aj\\xbe\\xb2\\x99s\\x9fP\\xd7\\x06.P\\xb07\\x14\\x8cT\\x1d\\x11P\\xfc\\xbc\\xd6\\xcedm\\xbb\\x0b\\x14\\xec\\x1d\\x05s7\\xe4\\x03b\\x10\\xb4\\xa4\\xab\\x0bZ\\x17(\\xd8\\x1b\\n\\xe6\\x9es\\xc4\\xc6\\xc1q\\xb1\\xf5\\x0b?S\\xa0`\\xef(\\x98\\xcb\\xe6\\x07\\xa7\\xb7/\\xe35\\xad\\xd2L\\xc1\\x82\\xdd^\\x1c\\x00\\x0c\\x10\\xb4<9\\xc8\\'\\x14\\xbeu\\xc1\\x82\\xbdw\\x04Chc\\xb0M\\xbf\\xe2\\xd9\\xeb\\xa8\\x0e\\x13\\n\\xd0gC\\xf3\\x18N88\\x8c\\xa6L:M\\xc1\\x82\\xbd\\xb1`w\\x0e\\x7f\\xe1\\xa0\\x840\\x84\\t\\xca\\x9b\\x08\\x14\\xec\\r\\x05\\xdf\\xc7fOH~\\xb2\\xf1J\\xdal\\x81\\x82\\xdd^2\\x00\\xee\\x88|\\xbab\\xecH\\x0e\\xe0\\x02\\x05{C\\xc1\\xdc\\xfd\\x81\\xe4\\xfc>\\x81\\x1e\\x1c\\xbb<L(@o\\t\\xe6\\xd5\\xcf\\xc0\\x87\\xc4\\x9b\\xe4\\xdayu\\x96\\x90\\xffF\\x82\\x99\\xcdq\\xbe\\x01\\x07\\x08\\xcc\\x92\\xad5.H\\xb0\\xbft\\x04_^\\xe8!->\\x13\\x9eS\\xde\\x01\\t\\x12\\xec\\x8d\\x04\\xef\\x05\\x83\\xc8; 6\\xf7qE\\x8c:L\\xc8\\x7f#\\xc1\\xc8\\xca\\xa7\\r.\\xdc\\x98O\\xc5\\x99\\xb2\\xb3\\x02\\x05\\xbb\\xbfd\\x00\\x88\\x8d\\xcf\\xb3\\xd44\\xb9\\xc8O\\x1d&\\xe4\\xbf\\xef\\x08v\\x0eFD\\x8ah\\x1e\\x08Be\\xa0-P\\xb0w\\x14\\x9c\\x01\\x03T\\xbc\\x04\\n\\xce\\x19RvV\\xa0`\\xef(\\xf8 T\\x1c7\\xb8\\xdew\\x86\\xdc\\x1e\\xea\\x02\\x05{G\\xc1,\\xa7\\x83idY\\x05\\xa2!us\\xef\\x02\\x05{C\\xc1\\xbc{\\x1b\\x1c\\x8e\\x95\\x1cM&\\xe1\\xa1\\x0b\\x14\\xec\\xbd#8\\xcc\\x9c\\r\\x01\\xc8\\\\\\x13I\\xbf\\xfa\\x99\\x02\\x05{_\\x12\\xcc\\xe2\\x0cN\\xe0\\x8c\\xd80\\xb4\\xd2\\x9c\\t\\x14\\xec\\xbd#\\x186\\x83\\x8b\\xa0\\xb8\\xdb\\xb42U\\x9d\\xaa\\x0b\\x14\\xec\\r\\x05/VG\\x0e.\\xe9\\x0c\\xd8995\\xd9\\x05\\n\\xf6\\x97\\x8e`$\\xaec=+\\xdfh\\x84\\x94\\x06\\x08\\x14\\xec\\r\\x05\\xdf\\xf5\\xacI]s\\'\\xfc\\x8a+B\\xe4\\x02\\x05{o\\tv.V>\\xeb\\xb9\\xb6\\xd1\\xab\\xd0\\\\\\xa0`\\xef(\\x98\\x90i$\\xa1~\\x91\\x1f\\xca\\x9f)4\\xa0\\xb7\\x04?\\xb3G\\x92u\\xe9\\x99r\\xab\\x97\\x0b\\x12\\xec}K0\\x92L\\xc6S\\x08\\xf2\\xd6\\t\\xd9^\\xec\\x82\\x04{#\\xc1{\\x19\\xcb$\\xe7\\rF\\xedGJ\\x86 \\xc1\\xde;\\x82\\xf1`w d\\xf7\\xe4\\xacu\\x19\\x83\\n\\x12\\xec\\xbd#\\x18\\x0e\\x9d\\xf7\\x06^\\x10[\\xeeHR\\x87\\t\\x05h$\\xf8 \\xbd\\x87\\xcc\\xb2\\xb7\\x9b7\\xc7j8\\xb4\\x0b\\x12\\xec\\xbd#\\x18\\xae\\xc4\\x9f\\xd2\"\\x9c\\xb6\\xf4YB\\xfe_\\xd7\\x04\\x1b7\\xfbr\\xcd\\xc3\\x9e\\xb2!\\xd5\\x05\\x08\\xf6\\xec\\x18,\\x98\\x9b\\xd8\\x9d\\xc6N\\'U\\xa7\\xea\\x02\\x04{\\x03\\xc1\\x89\\xd8\\x98\\xb3\\xdc\\x82lG/Nq\\x01\\x82\\xbd\\xaf\\t\\xce\\xc5\\xf1w\\xdc\\x9e\\xcb!\\xcc\\n\\xb7\\xba\\x00\\xc1\\x9e\\x9d\\x02l\\xbb\\\\\\x8f\\xb1\\x08\\xae$Ss\\x01\\x82=\\xfb%\\x10\\xefg\\xbdh\\xcb8VL}\\x00\\x01\\x82\\xbdz\\x0e0\\xc9!\\x9d\\x83\\xd6a\\x82\\xa4?\\x17 \\xd8;\\x08\\xe6\\xaa\\xb7\\x11\\x97\\xd45X\\x99\\xa5\\x0e\\x13\\nP\\xbd\\x14\\xe2\\x06\\xb73\\xd4e\\xde\\x94\\xd2\\x02\\t\\x10\\xec}:\\xb4s\\x98\\xe4\\xd3\\r6\\xd7\\x94]D.@\\xb07\\x10\\xcc\\x8b\\xd4\\xcb\\xc4\\x95\\x05gg\\xaa\\xba\\n\\x17 \\xd8\\x1b\\x08\\xdel6\\x81\\xa3C\\xc0b\\xbc+\\x94O&4\\xa0\\x81\\xe0\\x93\\x08\\xff\\xd9+\\xc5&\\xf6\\x9a\\x92\\x1d\\n\\x10\\xec\\r\\x04sb\\xb8\\xb3%\\xac\\x92\\x1b\\\\\\xf5\\x07\\x10\\x1a\\xd0@0\\x12Vn0\\xb6\\xc7zlY\\x90\\xeb\\x02\\x04{\\x03\\xc1Og\\xc7\\x98g\\xd7)?\\x12]\\x85\\x00\\xc1\\xf12\\x1fz2;\\xcc\\xed\\x0c\\xcf\\xe4\\x8e\\xb0\\x10$8\\x1a\\t\\xe6^68\\'\\xe7P \\xb9\\xf4<\\x04\\x07\\x8e>\\x1d\\x9a\\x85~\\x83{\\xfbXp#+8Cp\\xe0h\\x1c\\x98\\x19f\\x0cn\\x9c\\x7f\\xac\\x87\\xba8\\x0b\\xc1\\x81\\xa3q`\\xae\\xf2\\x1a\\xc9%\\xc1\\x0fCTP9\\x04\\x07\\x8e\\xbe\\'\\x18f\\x7fq=\\x0c\\xf4\\x08\\x1a\\xa5\\xd2\\xc3\\x10\\x1c8\\x1a\\x07\\xe6t\\xee\\xf5T<]\\xa4\\xfbG\\xb9\\xf3\\x10\\x1c8\\x1a\\x07\\xa6\\x11\\xdb\\x1c\\xb4\\xeb\\x88\\xa8f\\xaa\\xfe\\xca\\x10\\x1c8zS\\xb0?j\\x0e1K\\xfeH5\\x94 \\x04\\x07\\x8e\\xce\\x81\\xe1\\xe9`g\\xf1!\\x91j\\x96\\\\\\xc5\\x18\\x82\\x03G\\xe3\\xc0\\t\\xe3?8\\xc70\\xd8\\xa8\\xa0\\x82\\x96\\x10\\x188\\x1a\\x06\\x0e\\x16\\x08\\x9c\\x80[\\xe6\\xf8/\\x89\\x01B`\\xe0\\xe8=\\xc1\\x10z\\xa4\\xe7\\xdc\\xa9\\xc6\\xfd$*\\xa1\\x0b\\x81\\x81\\xa3c`\\xee.\\x1e\\xce\\xbb\\xf6\\xe0\\x8c\\x1by\\x98P\\x80>\\x1c\\xda8\\xae\\x82\\x05\\x0c\\x8b\\x8d\\\\\\xca\\xcc\\x86\\xc0\\xc0\\xd100o\\xf2X\\x0cz\\x7f\\xde\\x11\\xa3*\\x04Bp\\xe0\\xe8\\x1c\\x98\\x03\\x8f\\x06\\xa4\\x82\\x9b2\\xb2\\\\\\x1e&\\x14\\xa0\\xaf\\t~\\xd0!\\x87\\x86\\xe3\\x1f\\xa1\\x15@\\x80\\xe0h \\x98\\xab\\xcf\\x9c;\\n\\r\\xae\\xdc\\xb7\\xaa!\\x0f\\x01\\x82\\xa3\\xf7\\x04\\xd7\\x83\\xa8\\x17\\x13\\x80\\x0b=PO&@p4\\x10\\x0c\\x8bH\\xaay\\xd9\\xc6\\xfb\\xdc6\\xaa\\xc3\\x84\\x06\\xf4\\xe1\\xd0\\x9b\\xedM\\xc6{Fx:\\x15\\x1c\\x87\\xe0\\xc0\\xd180\\xabI\\xd9b\\xcf\\xb4\\x02\\xfa\\xa4DV`\\xe0h\\x18\\x18:\\x89\\x17f\\\\E\\xfd\\xcc\\x86\\x13\\xce<\\x04\\x07\\x8e\\xc6\\x81\\xd9V|\\xb98\\xeb\"\\x01@\\xac\\xa1\\xe4_p\\xe0\\xe8\\x1c\\xf8Y\\x86\\x0c\\xeb3)\\x1c\\xae\\xbf\\xa5\\x90\\xff\\xce\\x81\\x91*q2.\\x07j@\\x15T\\xd4\\x1e\\x82\\x03G\\xe7\\xc0\\xb6\\x1f\\xd8Q\\x87\\x0bg\\x8e\\n\\xb4Cp\\xe0x\\x19\\r}`\\x1b7+\\x18\\xf0\\xc8W*\\x93\\xe0\\xc0\\xd18\\xf0E\\xe0\\xe9\\x08\\x1a\\x11\\x89\\xb2\\xc2]]O\\x85\\xe0\\xc0\\xd19pr\\xd0t\\xc2\\x95\\xb3\\xe0L\\xb2\\xf3\\x10\\x1c8\\x1a\\x07F8\\x06\\xf1\\'S\\x80\\xfcM9M8\\x04\\x08\\x8e\\x97\\x9e`.hC\\xd0\\xc8\\x06\\xc4%+.C\\x80\\xe0h \\x18&\\xa7\\xf6\\xe0n\\x12f&\\xa1nGB\\x80\\xe0h \\x98\\x93\\x98\\x90\\xd0q\\xd5\\x0fg@Jw.@p\\x9c\\x97j\\xe8\\xbda3\\x0e\\x97g\\xadT\\x80\"\\x04\\x08\\x8e\\x0e\\x82\\xe1\\x8f\\x82\\x1e\\x00I57\\xa8\\xc8\\'\\x13\\x1a\\xd0{\\x829\\x8a\\x8c\\x816\\xfc\\xefe[\\xb0:Lh@\\x03\\xc1\\xdc\\xa3\\xc06\\xd2g\\xc6\\x8a\\x9c\\x97\\x16\\x82\\x03G\\xe3\\xc0\\x9c`\\x8b\\xd8\\xe0 v\\xe4\\xf8Ai\\xb3\\x05\\x08\\x8e\\xde\\x12\\x8c\\xef\\x18\\x1cXWxgv\\x14\\xbb\\r\\x01\\x82\\xa3o\\t\\xbe\\x87;E\\x10\\x08q8q\\xc8\\x10T\\x80\\xe0\\xe8[\\x82}\\xb2]\\x9f\\x9b\\xd0\\x9c3\\xab\\x95j\\n\\x10\\x1c\\r\\x04\\x07\\xdb\\x8b\\xdd\\xa1\\xe6\\x9c\\x97#]\\x93\\xe0\\xc0\\xd1GC\\xb3\\x98ep\\xf3y.\\x96\\x1e\\xc8\\xc3\\x84\\xfc\\xf7\\x96\\xe0r\\x18 c[\\x07M\\x904\\x8d\\x02\\x04G\\x1f\\r=9e\\x94)0w\\x8b\\xa4\\x8c\\x80\\x04\\x08\\x8e\\xbe$\\x18\\xa1\"D\\xd683s\\xb1kG\\x1d&\\xe4\\xbf/\\t\\x0en\\xe8\\t\\xe3\\xc8\\xa8g\\x7f\\xa2:L(@\\x03\\xc1\\xc6\\xab^\\x83R\\xd4z\\xb6j\\xaa\\x9f)@pX\\xf7\\x00O\\xf5\\xa0Y\\xb2\\x9ft\\xa9}o!@p\\xbc\\x8c\\x86\\xe6\\xc0.\\x88Eq\\x85q\\xaa\\x11\\x13!@p4\\x10\\xcc\\x81\\x1c\\xc8\\xcd\\x93{+\\xf1]\\xd5\\x9c\\xdd\\x10 8\\x1a\\x08\\xc6K\\x7f\\xb6\\xc7\\xb1\\x9b\\x91\\xa3\\xbe\\xe5\\x93\\t\\rh \\x18\\xa9&gC\\xb3\\n\\x97\\x1b\\x97dv\"Hp\\xf4%\\xc1,\\x8d\\x1f\\xc592\\xdc\\x04\\xabnGB\\x90\\xe0\\xe8$\\x18\\t6}\\xd3\\xc9`]\\x9d\\xfe\\x99B\\x03zS0~\\xe6\\x1aP\\xf1C\\xb4,o\\xe1B\\x90\\xe0\\xe8$\\xf8<$\\x0c\\x8fd\\xf7\\xfaV\\xf7\\xd0!Pp4\\x14\\xec\\xd3\\x10\\xd1\\x16<\\x14\\x93\\xd7T\\xfd\\xfa!Pp\\xbc\\x0e\\x87>\\\\\\x1c\\x01I\\xc3WX\\xaa+;\\x04\\n\\x8e>\\x1c\\x1a?\\xce`\\x1c\\x9f0\\xf4\\x98\\xaa\\xdf\\x0c\\x81\\x82\\xa3o\\t6\\xe741D\\x8f\\x9c\\x8bh\\xaa\\xe4&\\x04\\n\\x8e\\x86\\x82\\xe1\\xc7\\xb7Sh\\x91\\xd3\\xb1\\x82V\\x99m\\x81\\x82\\xa3\\x0f\\x87^\\xf0\\x02\\xcf\\xfdH\\x1a\\xf3`\\xa5\\x01\\x02\\x05\\xc7\\xcbp\\xe8\\xc2\\xcf\\xbc\\x1c\\xa2\\xc19\\x00\\n\\xec\\x87@\\xc1\\xd1Q\\xf0\\x82O\\xe0(\\x01X\"6\\xe6\\xc9\\xc3\\x84\\x06\\xbcl\\tN\\xeeo\\xcd\\xe3l\\x89)\\xb5\\x8c4\\x04\\n\\x8e\\xde\\x15\\xcc\\xc1\\x10O\\x99\\x18$\\xe3\\x17B=\\x81\\x82\\xa3o\\t\\xe6LJ6?\\xb3\\xe4,R\\x15\\x1d\\x87@\\xc1\\xd1P0\\x84\\xb5\\xa0\\x9b\\x07\\xb9\\xf92\\x04.J\\x9d\\x04\\n\\x8e\\x86\\x82/g.\\xb0\\x18ho\\x9bW\\xe7\\'\\x02\\x05G\\xbc\\x94C\\x07|\\x1d\\x8be\\x98\\xeb\\xa8\\x9e\\xc8\\x10(8\\x1a\\n\\xde\\xf0\\xbb>\\x12B\\x8bt\\x009\\xa2\\n\\xcf\\x04\\n\\x8e\\xde\\x15\\xfc\\xf4\\x16p\\xad\\xa6s\\x9c\\xa4|\\xffB\\x01^\\xd7\\x04\\x1fn|Fl\\x00-0U\\x8c\\x12\\x82\\x04G#\\xc1H\\xa3\\x11Q\\xc1\\xcb!O\\x91P3\\x04\\x07\\x8e\\xc6\\x81a~\\n\\xc1\\xf1e\\xac}\\xcf\\x96\\xaeI\\x80\\xe0\\xe8\\xa3\\xa1#\\xd7\\xb8w\\x1a\\x12\\x9e\\xdcr\\xfaQ\\x08\\x10\\x1c\\xbd%\\xf8\\xe23B\\xfcy\\x07:a\\xd1\\x94\\x96\\x0b\\x10\\x1c/ \\xd8\\xb8%\\x95\\xc1\\xe3\\xa4?Qg\\t\\xe9\\xef\\x1c\\x18\\xe9EqA\\xd8\\xd3\\xc9\\xee\\xaa\\xe6>\\x04\\x07\\x8e\\xc6\\x81\\xc91/\\x82\\x96\\x93\\xcf\\xf8ey\\xd7+8p\\xbc,\\t^\\x9b\\x81\\xde\\xe1\\x9d\\x0b,\\xad\\x92X\\x01\\x82\\xa3\\x81`\\xd6@\\'\\'\\x99$^\\x7f\\xc8e\\xe0!@p4\\x10|\\x1f7\\x07\\x8b\\xedO\\xe7\\xb9|eB\\xfa\\x1b\\x07FVb\\xdcE\\xed\\xcf 7\\xd9\\xa5\\x13\\x82\\x03G\\xe7\\xc0\\\\\\x8d\\xc7\\xc9\\x94\\x8c\\xb2\\x11\\xa7)\\xf9\\x17\\x1c8\\xf2\\xe5\\x12\\x88k\\xd0br\\xe9\\'\\x9eR)\\xb9\\xe0\\xc0\\xd1\\x1b\\x82\\xb94n,\\xf6c\\'\\xd7\\xbd\\xa9w&8p\\xf4\\x86`6\\xc3\\x0f\\xb8\\xde\\xa8\\xcb\\xc9\\xf9\\xea\\x9d\\t\\x0e\\x1c\\x8d\\x03\\xafZ\\x1cX\\xc4\\x1a\\x19\\xc6\\xee\\xaaD&\\x04\\x07\\x8e\\xc6\\x81\\x19v\\xb2\\xb7\\x06\\xf1^\\xfe\\xd2\\x85\\x86\\xe0\\xc0\\xd180S\\xdfaH5a\\xad\\xa7\\x8c?\\x05\\x05\\x8eF\\x81\\x83\\x0c\\xb2.\\xe78\\x1bL\\xb9\\x14\\x0cA\\x81\\xa3O\\x86~\\x96\\x8d!\\xc1Y\\xf0O\\xb0\\xffJ0\\x04\\x05\\x8e>\\x19\\x9a{\\xa3\\x9f9\\xaf\\xe7r<\\xb7r\\x98\\x82\\x02G\\x9f\\x0c\\xcd\\xf2\\xcfq\\xb8g\\xef\\x1a\\x9be\\xd5aB\\xfe\\x1b\\x05\\x0eB\\x18\\x9b\\x1c \\xc0pJ\\x9alA\\x81\\xa3Q`\\x96\\xd80\\xca\\x83\\xecs\\xce\\x93\\x12\\x8c\\x14\\x148g\\x0f\\x7f\\x90h\\xc2\\xf0 \\x0f\\xc0yK\\xe59)(p\\xf6~`R9\"\\xe5\\xbb\\x1e\\xbb-\\xbef\\n\\x0e\\x9c\\x9d\\x03\\xe3U\\xed\\xc1A\\x86\\xc5\\x0b4}\\xd8{\\xf9\\xcf\\xce\\x819ya :Hc\\x99\\x9e\\xf2s)8p\\xf6\\xe1\\xd0\\x8e@\\x11j\\xce\\x05\\xb5\\x902\\xd5Z\\x93\\x82\\x03g\\xe7\\xc0\\xcen$\\x9a\\x7f.\\xd2M5\\x93#\\x05\\x07\\xce\\x97-\\xc1\\xa7r$\\xed\\x0f\\x1b\\xecU\\x04\\x94\\x82\\x03\\xe7\\xcb\\x96\\xe0\\xa0\\x06,\\x0e\\x87>\\xe4\\n\\xea\\xb0\\xf7\\x1a\\x90\\x9d\\x033\\xf4y\\x9c\\xe6\\xb2[\\xf8\\x0bu\\xd8{\\r\\xc8>\\x1c\\x9a\\xeb\\x1c9h\\x1d\\x11{\\xb2+U\\x1c&8p6\\x0el\\x9c\\xd6\\x02\\x8fr7\\x9f\\xeb\\xa8<\\'\\x05\\x08\\xce\\x06\\x82/Gb\\rHk!fc;\\x97:Lh\\xc0\\xea\\xa5p\\x13\\xa9\\t\\xf3\\xcc\\xc5\\xd9\\xf4J\\xcf\\x05\\x07\\xce\\xce\\x81\\xe1\\\\\\x8aw\\xbd\\x9c\\x162\\xe5d\\xd0\\x14\\x1c8\\xfblh\\x8a\\xfd\\xe0Z#\\xe3\\n{agS`\\xe0l\\x18\\x98KM\\x11\\xcdB\\xf77!\\x91\\xaa\\xdfO\\x81\\x81\\xb3a`\\xa6\\xe65\\xa0\\x9dU\\xc1EhJ\\x99\\x04\\x06\\xce\\x8e\\x81\\xdd9\\xcb\\x93\\xdd&\\x97\\xf3\\xb6\\xe4\\x93\\t\\xf9_\\xfd\\x12\\x14\\xe6\\x9f\\r,L\\r\\xfd\\xa8\\xd88\\x05\\x06\\xce\\xd5)\\x00\\xb2&\\x84\\x06\\xeb)\\xe3\\x94[;R`\\xe0l\\x18\\x18\\xf1\\x10L#\\x9b\\x0e\\x9f:,u\\x9f\\x94\\x02\\x03g\\xc3\\xc0l\\x81\\xc9\\x01\\x83=ym\\\\\\xaa\\xb0:\\x05\\x07\\xce\\xde\\x0f\\x8c\\xb8o\\xc1\\x9d\\x94?\\xfdM*\\x05K\\x01\\x82\\xb3\\x81\\xe0\\xcdJK\\xe4\\x13\\x08\\x12\\x0e\\x04Mm\\x82M\\x01\\x82\\xb37\\x04\\xaf*\\x8e+\\xdaP\\xf7\\xcd]I\\xea0\\xa1\\x01\\x1d\\x04\\xef=\\xf7\\xc0\\xfb\\x87\\x0e,\\x9a[u\\x98\\xd0\\x80\\x06\\x82\\x19\\x92\\xf1F\\x15Z\\x1e\\x93\\x0b\\x8c\\xd5aB\\x03\\x1a\\x08F\\xa0\\xceF\\x9d\\xc3\\x92h\\x983\\xf91\\x85\\x02t\\x0e\\\\\\xccZ\\xcf$\\xcf\\\\\\\\\\x03\\xa5\\x0e\\x13\\n\\xd0\\xfb\\x81\\x93\\x85\\xed\\x93|\\x1a\\xbei\\xa9\\xa2\\x8a\\x14\\x1c8\\x1b\\x07v6b\\x0cH,\\xf2\\x1c.US\\n 8p6\\x0e\\xcce\\x82\\x83\\x85Npu\\x1c\\xdb\\xa2\\xde\\x99\\xe0\\xc0\\xd990,\\xd0\\xa59[\\x9c\\x00\\xac\\xdf\\x99\\xe0\\xc0\\xd990\\x1f\\t\\x86\\xf6p\\x94\\x1b\\x1b\\xcd\\xd4aB\\x01zC0\\xde;[\\xcb\\xca\\x8d\\x0b\\xa5\\xd4\\x00\\xce\\x14\\x1c8\\xfb\\x8e`\\xc8\\xe9\\x1a\\xdc&\\xc59\\xa3\\xa9\\xa0r\\n\\x0e\\x9c\\x8d\\x03\\xfb\\r\\xe4\\'F<\\xc7|S?\\x99P\\x80\\xbe#\\x98\\xd3\\x92\\xb9m\\xefY\\x91\\xa1?\\xa6P\\x80\\xbe\"\\x98\\xb7\\xf5\\xdc\\xde\\xcd\\xfd\\xc0r\\xadx\\n\\x0c\\x9c\\xaf\\x18x\\xcf\\xc1Kv\\xe7\\xc4^%\\xb1\\x82\\x02g\\xa7\\xc0\\x81\\xd8\\x9aK\\x95\\xb38\\x99R\\x01\\x9d\\x14\\x148\\x1b\\x05\\xdev\\xd8\\npa9\\xa0\\x9c\\xa9\\xd2\\xe9\\x14\\x148_6\\x04\\xd3\\x96Aj\\'\\x17?\\xcbU{)(p\\xf6v`;\\xb4?\\xce\\x94\\x151\\x87\\xea:O\\x81\\x81\\xb3c\\xe0@\"\\xc1\\xe5<N\\n\\xa6Cc\\x81\\x81\\xb3a`.\\xa0X\\\\\\xa5\\xb3\\x8bPA\\xb1\\xbe\\x14\\x188\\xfbh\\xe8M\\x03T\\x88eY\\tQ\\xaa\\x0e%\\x05\\x06\\xce\\x8e\\x819-\\x96\\xcb\\x19X^\\x14:k\\x12\\x188;\\x06\\x9e\\\\v\\x18\\xc8]\\x8b\\xdb\\xb3\\xa4\\xfd\\x11\\x188\\x1b\\x06fO\\xd9\\x1c\\\\\\xcb\\xb6\\rVRY\\x0cA\\x81\\xb3S\\xe0}\\x11\\xb3\\x07\\xd2r\\x96\\x1b\\xbb*6HA\\x81\\xb3S`8\\xca\\xc9\\xedTp$\\x08\\x19e8+(p\\xdaK\\n\\xccy\\xfe\\xb0\\x8c\\xc1\\xad\\x052\\xcf\\x11\\x148_\\xda\\x81\\x11\\x96\\x8dY\\xf1L96\\x194\\n\\n\\x9c\\x8d\\x02\\xd3\\xe7r\\xba\\n\\x87_s,\\x96\\xfc\\x00B\\x01:\\x05Fj\\x08m\\xb2g\\x0f\\xf5\\x92\\x8b\\x1eRP\\xe0l\\x14\\x98#\\xba\\xf0d\\x08W\\x12vN\\xae4JA\\x81\\xb3\\xf7\\x03o_\\x08\\xcd\\xe0:\\x11\\xd7\\xb2\\x18E\\x1d&\\x14\\xa0\\x8f\\x86f1\\xfb(N\\x98\\x8e{\\x97\\x82C)(p\\xf6\\x86`\\xde\\xaf j\\xe7\\x0e\\n~L%g\\x82\\x02g\\xa3\\xc0\\xb0\\x14\\xc8\\xf4\\xe987\\xc7\\xabHC+(pz\\xbf\\x04\\xa5A\\x83\\xc8r\\r2\\x93\\x0bu\\x98\\xd0\\x80N\\x81ax\\xd8\\xd8\\xe1\\xacC\\xdcr,e\\n\\n\\x9c\\x9d\\x02_\\xce\\xd1\\x83\\xd1vGv\"\\xeb\\x1aSP\\xe0\\xec\\xb3\\xa1\\xaf\\xd5\\xd3\\'\\x15\\xac\\xd2\\x93\\xa5\\x0b)(p6\\n\\xfc\\x94\\x12q\\xa7\\xd13\\xb0n\\xab}\\n)(p\\xf6\\x15\\xc1p!\\xc3\\xe63\\xc9\\xf9rI\\xa7:Lh\\xc0\\xcbl\\xe8\\xa7\\x16\\x97\\x8b\\x90\\xa7\\xad\\x90\\t\\x9d\\xa0\\xc0\\xd9)0G9\\x0fNx\\xe5\\x18=y\\x07$ p\\xf6~\\xe0\\xb9\\x9c\\xab\\xcb\\xd8\\x8d\\xcaBy\\xf51\\x05\\x04\\xce\\x17\\x08\\xcc\\xbe\\xf3\\xb3\\xd8`c;U3@\\n\\x08\\x9c/\\xa3\\xa1Y#\\tcvYT\\xb7\\xe4\\x85\\x92\\x80\\xc0\\xd9GC\\xc3\\x90=\\xa619G@_\\x0f\\n\\x08\\x9c\\r\\x02s\\xff\\x16\\x1el\\x91R\\xbb\\x9c\\n\\x9a\\x82\\x01g\\xdf\\x10|\\xa1\\x8e\\xec\\x14\\xb7\\xda\\xaekZR@\\xe0\\x8c\\x9e\\x01\\xb0\\x0e\\x08\\xb9\\t\\xa24\\xaedTg\\t\\xf1\\x8f\\x97\"\\x88gE9\\x17\\x10\\xc1g\\xaa\\xea\\x80\\x14\\x148\\xa3\\x97\\x01%\\xed\\x8f\\xc1\\x92s:\\xbd\\xbck\\x17\\x148\\x1b\\x05\\xde\\\\\\xbb\\xc2I\\xb68\\x8a#&\\x94\\xfc\\x0b\\n\\x9c\\x8d\\x02;\\xcb\\xaa\\x83\\xdd\\x86\\xc6\\xd4DY\\x0c\\x01\\x81\\xb3C\\xe0\\xb5\\xd8\\xc1>\\xb9\\xda\\x9a\\x95\\xd5\\xeaW\\n\\n\\x9c\\xd9\\xeb\\xe0\\xe0\\x9bx\\xd3\\x08E\\xda\\x90\\x0fe1\\x04\\x05\\xce>\\x17\\x9a\\x97+\\x883l\\xf2\\xfd\\xcbq\\xb1)(p6\\n\\xccI-\\x07\\x87\\x91,L\\x84.\\xea\\xfd\\x0b\\n\\x9c\\x8d\\x02[\\xb0\\x14=9\\xed>\\xa1\\x002h\\x11\\x148\\x1b\\x05\\x0e\\xa4\\xd0L\\x80}r6\\xe2V\\xbdx)0p\\xbe,\\x08>\\xcf\\xb6\\xe7d+\\xc6\\xd6\\xb7\\xe3\\x02\\x03g\\xc3\\xc0n\\x08\\x81\\x06\\xfe\\x95\\xc3Lj\\xca\\xa0E`\\xe0\\xec\\xed\\xc0YTM\\x8e\\x04b)\\xba\\xbc\\xb6\\x11\\x188;\\x06\\xe6\\x04\\xb1q\\x0fg\\x0fBjU\\x8dj\\n\\x0c\\x9c\\xbd\\x1d\\xb8\\xb8\\xbb;`\\xfd\\xa1\\xea\\xeej\\xbeP\\n\\x0c\\x9c\\r\\x03#\\xbc\\x0b\\xc8\\xd9\\xa3\\xe3pP\\xf2\\xe2X`\\xe0l\\x18\\xf8\\xc0 \\x06W\\x04\\xe3CPA\\xe5\\xcf\\x14\\x1a\\xd0\\xe7B\\xb3\\xa9\\x92\\xb0\\x89\\x08KV\\x8f\\xa7\\xe0\\xc0\\xd9\\xc7B\\xb3\\xa3\\x9e\\xded\\x15b\\xd1T\\xcd`)8p\\xf6n`r\\xfc\\xc1!2\\xcc\\xc3B\\x1a\\r\\xc1\\x81\\xb3q`\\xae2\\xf2\\xb1\\xfc\\xd0\\x12\\xb9\\xac\\xf6H\\xc1\\x81\\xb3z+@<Sq\\x93\\xf5\\xcb\\xae\\xef\\r\\x04\\x07\\xce\\xc6\\x81/\\xb7r\\xb2\\xe9\\xed\\t\\xdb\\xe5F\\xa3\\x14\\x1c8\\xfb\\x8a`\\x04\\x17\\xdct\\x12\\xbc\\xcc[r\\xbcJ\\t\\x0e\\\\\\x8d\\x03\\xb3p\\x9c\\x1d\\x0f~\\xb9\\xa7\\xcaT\\xa6S\\x82\\x03W\\xe7\\xc0N\\xaa\\xcc\\xbe\\x9a\\xcb\\x98J%\\'%8p\\xf5%\\xc1\\xec\\xd3\\xc1;\\xe3\\x84\\xe3\\xc91\\x97\\xea\\xb0\\xf7\\nP/\\x1c8\\x92\\x93w\\xd8\\x87\\x91W\\xc6f%8p5\\x0e\\x8c4\\xfap$\\x16\\x94\\xfc\\xd9\\x9c\"\\xd4\\xa9\\x04\\x07\\xae\\xce\\x81\\x11jpEg\\xf1F\\t>X8\\xf4\\x12\\x1c\\xb8^80\\xef\\xed\\x9f\\xc5\\x18\\x87\\xed\\xec\\xc2\\x9c\\x95\\xe0\\xc0\\xd5\\xfb\\x81\\'\\xa7\\xc2\\x91\\x81\\xb1\\xb5R\\xd6n\\x96\\xe0\\xc0\\xf5\\xc2\\x81\\xd9t\\xc8:\\\\v+KtU\\x82\\x03W\\xe3\\xc0\\x9c\\xa1=\\xf2\\xd9\\x19\\xc1$@}L\\x81\\x81\\xab\\x8f\\x85\\x8e\\xb9spv@\\x9dg\\x11\\x9d:L(@\\x1f\\x0b}6\\xc3\\xf6\\x84\\x13~~\\xa7ze\\x02\\x03W\\xc3\\xc0\\x9b\\xadC\\xa3\\x82~\\tB\\xab\\xeeTKp\\xe0j\\x1c\\xf80\\xa2}\\xd0\\xed\\x82\\x1fvi4\\x04\\x07\\xae\\x97\\x1d\\xc1L\\xa89K\\x18\\x16\\xc3J\\xe1\\xd6\\x12 \\xb8\\x1a\\x08.\\x84g\\x87k\\x06(\\xb6\\xecnR\\x87\\t\\x05\\xe8 \\x98c=x\\xab\\xca>}(\\x80|2\\xa1\\x00}G\\xf0D\\xac\\xc8Q\\xda\\x08\\xcf\\xccS\\xca\\xac\\x00\\xc1\\xd5@p\\x9cmp\\xc1\\x1c\\t\\xc4\\xa1p*\\xd5,\\x01\\x82\\xab\\x81\\xe0\\xdaxe\\x06\\xbbx\\xb8\\xd2\\xb1\\x14\\xed+\\x01\\x82\\xab\\x81`\\xc6wI\\x0b\\xc4\\x12\\rv\\x17\\xa8\\xc3\\x84\\x064\\x10l\\\\gq\\xf3\\t\\x1f\\xef\\x94S\\xbeK\\x80\\xe0j \\x98\\xf7\\x9f\\xecm\\xe2\\xbe\\xb7\\x90w\\x10%8pu\\x0e|\\'\\xa7\\xffr\\x8ajy\\xca5\\x03%8pu\\x0e|a\\xf69\\xfd\\x17Y:L\\x9a\\xeax(\\xc1\\x81k\\xf7J\\xe8DB\\x91\\x88\\x17\\xf3L)\\xb1\\x82\\x02\\xd7\\xcb\\x86`n\\xee\\xe3T\\x95`I\\x9cJ\\x9bJP\\xe0\\xea\\xed\\xc0\\xc9=\\xbc\\\\\\xc2\\x8e\\xef\\x19\\xb2\\x19\\xb2\\x04\\x06\\xae\\xfd\\x92\\x02\\xe0S\\x12\\xc2W\\xdc%kTK`\\xe0\\xea\\x18\\xf8\\x99GP\\x0c\\xd9\\xe7\\x99&\\xbd\\xb9\\xc0\\xc0uz\\x1d\\xd0f\\xa6\\xb98\\xf4\\xe2\\x1e\\x99\\x04\\x97\\xc0\\xc0\\xd5004\\x92+\\x9a\\x0f\\xbbj\\xe0\\x0b\\xa4\\xf8\\x0b\\x0c\\\\\\xe7\\xa5\\x11\\xe0>\\xb9\\xfe\\xf5=\\xa7\\x1c\\x18[\\x02\\x03\\xd7\\xe9\\x1c\\xacxo\\xc6\\xc6J\\xa8RI\\xd7$0p5\\x0cl\\\\|0\\x9e\\x80\\x85\\xbb\\xbb\\xaf\\xfa\\x9a\\x02\\x03Wo\\x07>\\xbckYU\\x08e-e\\xae_\\x02\\x03\\xd7\\xe9\\x97\\xa0\\xeb\\xd9\\xe6\\x92p\\x9e,\\xb9Q\\x9a)0p5\\x0c\\xcc\\xb16\\xe4\\xf0\\xdc\\x94\\xea\\xe92\\x9c\\x12\\x1c\\xb8\\xfa\\\\\\xe8\\xe4\\xf8\\xdf\\xe4\\xecq\\xbc>\\x85\\x0eKp\\xe0\\xeac\\xa1\\xb9.ep\\x9b\\xd7d\\xf7\\x84*\\x9f-\\x01\\x82\\xebeC\\xb0\\xb1\\xda\\x80\\x9d[\\x9b\\xfd&\\xeac\\n\\x10\\\\\\xbd\\x1dx\"\\xbf\\x1cN\\x10\\x99\\x9c\\x94 \\x0f\\x13\\n\\xd0@0\\xa2\\x0bd\\xfa\\x08\\xa3&3ky?X\\x02\\x04\\xd7}\\xc9\\x817G%8\\xdb\\x14N\\xa8\\xa6\\xcf\\x12 \\xb8:\\x08N\\x8ekd\\xb1=\\x87r\\xc8\\xec\\xbc\\x04\\x08\\xae\\x06\\x82\\xc9\\x99lL_\\\\\\x9e\\x18\\xb2t\\xa1\\x04\\x08\\xae\\xfbR\\n\\x07\\x0b\\xc4\\xa0`!u\\x95\\xaf_\\x88\\x7f\\xc7\\xc0H\\x96\\x98\\x81\\xed\\x89\\x7f\\x9eP\\xf7\\xf6%0p\\xf5\\xb1\\xd0\\x88\\x05b \\xa5\\x08\\xb6\\x84-\\x99\\xe7\\x08\\x0c\\\\\\xb7C\\x00\\xa8\\xe6\\xb0\\xcd\\x84\\x15Y\\x8e\\xaaP*\\xc1\\x81\\xabq`(\\xf7zV\\xc4\\x07\\x07\\x96\\xba\\x14Y\\xc1\\x81\\xab\\x8f\\x85NV\\xdb\\xa4qZ\\xa3\\xd1M\\xa9\\xc3\\x84\\xfc7\\x0e\\x8c\\'C\\x98\\xcdA\\xaa\\x87\\x1e]\\xb5O\\x94\\xe0\\xc0e\\xaf\\x01\\x10\\xe7\\xd2g\\xcc$9TNSp\\xe0j\\x1c8\\x92\\x9dM\\xac\\x90\\xdc\\x9c\\xe3#\\xa3)\\xc1\\x81\\xabs\\xe0\\x0c\\xce2?\\x88~8\\xb1W\\xd5\\xa2\\x97\\xe0\\xc0\\xd580\\xa7.p\\xc4\\xee5.?\\x90]\"%8pu\\x0e|\\x9cO\\x96\\xf7\\xe9DZ\\xea~\\xb6\\x04\\x07.\\xeb\\x85\\x10x\\xd2A\\x19[\\xdc\\x9c\\xa2\\x98f\\t\\x0e\\\\\\x9d\\x03/\\xee\\xec\\xb8O#\\xea\\xa4C\\x17\\x87\\t\\x0e\\\\}E0\\xe2\\x8196\\x97\\xe4\\xe1+\\xc8\\xc2\\xde\\x12\\x1c\\xb8\\xfa`h$Lk 77\\xe4\\x9aKN\\xbe+\\xc1\\x81\\xabq\\xe0\\xcbv\\x0c6\\x10!\\x96E\\xd4.\\xa3\\x16\\xc1\\x81\\xcb_JA\\x17\\'\\xa9&\\xebh]n\\xae,\\xc1\\x81\\xabs\\xe0\\x190\\x1b\\x17\\x11P\\xf0?\\xaan\\xe0\\x12\\x1c\\xb8z70|/Dcs\\x1c\\xc4\\xe1\\x9d\\xb4:Lh\\xc0K70;\\xe8b].\\xd49\\xa9F%\\x94\\xe0\\xc0\\xd58\\xf0\\xe1@\\xfa\\x91\\x93\\xa1(\\x0br\\x95\\xa2\\x0b\\x0e\\\\\\x9d\\x033(\\x18,6\\x80\\xc8,\\xd9u^\\x02\\x04W\\x03\\xc1l6\\xe4\\x96l|\\xcf`\\x95\\xb5\\xf2\\xe7\\x02\\x04W\\x1f\\x0cMx\\x02\\r\\xb8\\x07O\\x16\\xb2\\xe7\\xb6\\x04\\x08\\xae\\x06\\x82Y\\xecz\\x077<89\\x91\\xea\\xb9-\\x01\\x82\\xab\\x81`\\x18\\xa0Y\\xc8u\\x8a3Y\\xb9!F\\x1d&4\\xa0\\x83\\xe0`\\xae\\xc9q\\xe11+R\\xd5\\x1b\\x94 \\xc1\\xd5\\xbb\\x81O\\xcd\\x18\\xdc\\xcd\\xc6\\xd5er,b\\t\\x12\\\\}0\\xb4\\xc5yf\\x8c\"\\xdb\\x81\\x17PX\\xbf\\x04\\n\\xae\\x8e\\x82c?\\x03c\\x115\\x167>+u\\x12(\\xb8\\xfa\\x8e`z\\xf2\\x01O\\xce\\x05\\xd2\\xda\\xa1\\x0b\\x12\\\\\\x9d\\x04\\x07\\x97\\x94\\x9f\\xc5\\xad\\xad\\xf8\\xa12l\\x14$\\xb8z?pxq;\\xe1\\xdd\\xc59\\x0e2\\xd7\\x14(\\xb8\\x1a\\nf\\xe5&\\xf4<\\xe7\\xb3u[\\xf6\\x89\\x94@\\xc1\\xd5\\x1b\\x82=X\\xc0_\\xbc[E\\x8c\\xac\\x8a\\xe1J\\xa0\\xe0j(\\xd8\\xf9\\xd6\\x07W0r\\x8bq\\xa8q]%Ppu\\x14\\xbc\\x82\\xcbaNqj\\x0b\\xf3ku\\x98P\\x80>\\x19\\x9a\\xed\\xd3\\xe3\\xe1\\xa3\\\\\\x9d\\xa2&\\xbf\\x94@\\xc1\\xd5P0\\xa7u\\x05\\x9e\\x0c\\xc9D\\x9e\\x90\\xc3\\x9cK\\xa0\\xe0\\xea+\\x82\\x8d\\x99\\x93\\xc7\\x85\\x92\\xd9,ih\\x05\\n\\xae\\x86\\x829\\xf5hso\\x16C\\x83+;\\x82K\\xa0\\xe0\\xea\\x1d\\xc1\\xec\\x03\\xe6\\x90]GT\\xf5\\x0b7\\x97\\x02\\x05W\\x9f\\x0c\\xcd\\x91\\x8f\\xbc\\xbb_\\x1c\\xf7\\x1aR\\x03\\x04\\n\\xae\\xde\\x11\\xccMj\\x83\\x97Sxi\\x08\\xd5\\x94\\xd0\\n\\x14\\\\\\r\\x05\\x1f6\\xb6\\x0ew\\xc4U\\xe7\\x17\\xe6^\\x94@\\xc1\\xd5;\\x827gVs\\x15c\\x06\\xe2\\x16\\xb5l\\xb2\\x04\\n\\xae\\x86\\x82\\xd7\\xb2\\x83\\xa4\\x02\\xae\\xe4\\x94\\xc9]c%Ppu\\x14\\\\\\xcf\\x9e\\x01d\\xf9\\xc4W%\\xdd\\x89@\\xc1\\xd57\\x04\\xb3\\x86\\x1c\\xf6l\\x1bW\\xb4-\\xa9\\x00\\x02\\x05W\\xbd\\x14\\x03\\xd5\\x86\\xd1\\xe0\\n\\x90\\xc3\\xba\\'u\\x98P\\x80\\x97\\x96`\\xce\\xb7)vbp\\xd1\\x86\\xbc\\xba\\x17(\\xb8\\xfa\\x86`\\xae\\x1e\\x85\\xd7\\x8c\\t]\\x8a\\xffw\\xee\\xc5\\xb7?\\xfd\\xf1\\xf3\\xe7\\xaf\\x7f\\xff\\xe9\\xeb\\xa7\\xdf\\xfe\\xfa\\xcf\\x9f\\xfe\\xf0\\xf9\\xbf|\\xfa\\xf1\\x0f\\xdf\\xfd\\xe9\\xa7_\\xfd\\xd3\\x97\\xaf_\\xbf\\xfc\\x80\\x93\\xbf\\xf9\\xd5\\xef\\xbf|\\xf9\\xfa\\x19\\'\\xcf\\x81\\xf7\\xf7\\xc7\\xcf\\x9f~\\xf7\\xd7\\xbf\\xf8\\xfe\\xf3\\xef\\xbf\\xf2?\\xd2\\xb5\\xfe\\xf8\\xdd\\x1f\\xfe\\xf8\\xd7\\xbf\\xf8\\xfa\\xe5\\xcf\\xfc\\xa3\\xdf\\xe2\\xfc\\xbf|\\xf9\\xf1_\\x9e\\xff\\x1f\\xbf\\xfd?PK\\x03\\x04\\x14\\x00\\x00\\x00\\x08\\x003\\x91\\xc7P\\x17\\x16\\xa9Qg\\x00\\x00\\x00r\\x00\\x00\\x00\\x14\\x00\\x00\\x00xl/sharedStrings.xml\\x15\\x8d\\xc1\\r\\xc20\\x0c\\x00W\\xa92\\x00.<\\xfa@\\xae?,\\xd0\\x15\\xa2bH\\xa4\\xdaIcGb|\\xd2\\xe7\\xdd=\\x0e\\xcd|\\xfa\\xc9\\xa1\\xb6\\x86\\xe4^\\x9f\\x00\\xb6\\'\\x96h\\xb7RYG\\xf9\\x94&\\xd1\\x07\\xb6/Xm\\x1c\\xdf\\x96\\x98]\\x0ex\\xcc\\xf3\\x02\\x12\\xb3\\x86\\xa9k>;\\xbfJW_\\xc3=\\x10Z&t\\xdaZ\\xde\\x19\\xc1\\t\\xe1\\x120f\\xf4\\x07PK\\x03\\x04\\x14\\x00\\x00\\x00\\x08\\x003\\x91\\xc7P\\xc9\\xcd\\x9f\\x0b\\xd0\\x01\\x00\\x00q\\x04\\x00\\x00\\r\\x00\\x00\\x00xl/styles.xml\\x9dT\\xdb\\x8a\\xdc0\\x0c\\xfd\\x15\\xe3\\x0fh&\\x03]hI\\x02\\xdd\\xc2\\xc2B[\\x16f\\x1f\\xfa\\xea$Jb\\xf0%\\xeb(C\\xb2__\\xd9\\xce\\xe42\\xdd\\xa7}\\x89\\xa5c\\xe9\\x1cI\\xb6\\x93\\r8+\\xb8t\\x00\\xc8&\\xad\\xcc\\x90\\xf3\\x0e\\xb1\\xff\\x9e$C\\xd5\\x81\\x16\\xc3\\x17\\xdb\\x83\\xa1\\x9d\\xc6:-\\x90\\\\\\xd7&C\\xef@\\xd4\\x83O\\xd2*9\\x9fN\\x0f\\x89\\x16\\xd2\\xf0\"3\\xa3~\\xd28\\xb0\\xca\\x8e\\x06s~\\xe2I\\x915\\xd6l\\xc8\\x99G\\x80B\\x85\\x06v\\x15*\\xe7?\\x85\\x92\\xa5\\x93!Vh\\xa9\\xe6\\x08\\x9f=PYe\\x1dC*\\x05r\\x9ezdx\\x8f\\xdbi\\xf4|\\x95\\x0b\\x8f\\x96\\xc6:\\x0f&Q!~\\xcb%|\\xb7\\x11\\x96\\x81\\x02\\xa4R\\xc7\\xca\\x08(\\xb2^ \\x823O\\xe4\\x84\\x9c\\x00\\xfe\\xb7\\xc5\\x16\\xfbu\\xee\\xa9\\xb4\\xd6\\x899=\\x7f\\xe5[BXH\\xa4\\xb4\\xae\\x06w\\x90\\x89P\\x91)h\\x90\\x12\\x9cl;\\xbf\\xa2\\xed\\x13\\xbf\\x89h5\\x19\\xb5\\x14\\xad5\"\\xd4p\\xcb\\xd8g\\xb2pt9\\xc7\\x8eF\\x7f\\xa3\\xb9\\x07\\x89\\xf3\\x1e\\x8a\\x02\\xf7\\xe8Gj\\x8bAMT\\xa0\\xd4\\xc5\\'\\xfcm\\xd6NR\\xeadjX\\x8cy\\xae\\xfdi3\\xdf\\xf3\\xcd\\xa4\\x19/f\\xbc\\x15\\xd1\\xf1\\xfc{\\xb6\\xc8\\xbd\\xa3=\\x7f\\x8a\\x96\\xf5\\xf2j\\xf1q\\xa4\\xd6L\\xf0\\xdfF\\x8b\\xf0\\xe2\\xa0\\x91S\\xf0\\xa7f\\xd5\\'v\\xd1\\xf7j\\xfe\\xa1dk4\\xc4^v\\x82\\xe9\\x87\\x82\\xe9\\'\\x05\\x8bL\\xdctXg\\x9d|\\'>\\x7f!+\\x02\\xc0qv\\x05\\x87\\xb2\\xf2\\x08\\x9dU\\x18\\xcf\\xd4,3Z\\xc7\\x13\\x86u\\x18\\xfc\\x8a\\xb2r\\x94\\n\\xa5Y\\xaa\\xead]C,\\xc8?\\xb0\\x9c\\xff\\xf1\\xefV\\x1d\\xfa\\xdf\\xe6O\\xf4(Jz\\xff\\x07~\\xca\\xad\\xa1\\x11\\xa3\\xc2\\x17\\xdf\\xe3%^\\x94\\xcd\\xfe\\xe5/Z\\xfa\\xb0F\\xbd\\xae\\x149\\xdf\\xec\\xdfP\\xcbQ\\x7f\\x0b\\x82\\xdbO\\xa6\\xf8\\x07PK\\x03\\x04\\x14\\x00\\x00\\x00\\x08\\x003\\x91\\xc7P\\x87\\x15i\\xbb4\\x01\\x00\\x00#\\x02\\x00\\x00\\x0f\\x00\\x00\\x00xl/workbook.xml\\x8dQ\\xc1N\\xc30\\x0c\\xfd\\x95*\\x1f@\\xb7\\t&1\\xad\\\\\\x98\\x80I\\x08&\\x86vO[w\\xb5\\x96\\xc4\\x95\\xe3n\\xb0\\xaf\\xc7\\xcd46n\\x9c\\x1c?\\xdb\\xcf\\xcf/\\xf3\\x03\\xf1\\xae$\\xdae_\\xde\\x85X\\x98V\\xa4\\x9b\\xe5y\\xacZ\\xf06\\xdeP\\x07A+\\r\\xb1\\xb7\\xa2)o\\xf3\\xd81\\xd8:\\xb6\\x00\\xe2]>\\x19\\x8d\\xa6\\xb9\\xb7\\x18\\xcc\\xc3\\xfc\\xcc\\xb5\\xe2\\xfc:!\\x81J\\x90\\x82\\x82\\x03\\xb0A8\\xc4K}H3\\xab\\r{\\xf8\\xb4eaF&\\xb3\\xbd\\xd0\\x13:\\x01^X\\x81g\\xa6\\xbe\\xc3\\xb0-\\xcc\\xd8d\\rr\\x94\\xf5\\xb0;uz\\x0c\\xe8\\xf1\\x08u\\xcabK\\x87\\x17b<R\\x10\\xeb\\xd6\\x15\\x93sij(\\xa4!\\xdd\\x10\\x7f\\x91\\r\\xb0`\\xf5\\xa7Ql\\xf9aUka\\xa6#%\\xdcc\\xc4\\x12\\x1d\\xcawa\\xd2\\xdb\\x81\\xd1+\\xf2\\xab3\\x92\\x0f\\xe7x2q\\xc6\\xff\\xb1\\x91\\x9a\\x06+XP\\xd5{\\x08r\\xf2\\x91\\xc1\\r\\xdbCl\\xb1\\x8b&\\x0b\\xd6Ca\\x92\\xf0$Y\\xe3\\xb2>\\xc9\\x175\\xe6\\xa2)\\xe3\\x19j\\x81\\x97\\xf58\\xe9;\\x8b\\xaa\\xa1\\xc1\\x00\\xf5\\x9b\\xf2D\\xc5\\xf5\\xd6j\\xc5\\xd9\\x10\\x12\\xcf\\xe4\\xf6n|\\xaf\\x9e\\xf6\\xce=*\\xf6\\x1e^\\xc9&\\xfe\\x81\\xe3\\xfc?\\x0f?PK\\x03\\x04\\x14\\x00\\x00\\x00\\x08\\x003\\x91\\xc7P\\xff\\xc0&\\x08\\xbd\\x00\\x00\\x00\\x85\\x02\\x00\\x00\\x1a\\x00\\x00\\x00xl/_rels/workbook.xml.rels\\xad\\x92A\\n\\x830\\x10\\x00\\xbf\"y@Wm\\xe9\\xa1\\xa8\\xa7^\\xbc\\xb6\\xfd@\\xd0\\xd5\\x88\\x9a\\x84\\xec\\x96\\xea\\xef\\x9bzQA\\xa1\\x07/\\ta\\xc3\\xcc@\\x92<\\xb0\\x93\\xdc\\x18M\\xaa\\xb1\\x14\\x0c}\\xa7)\\x15\\x8a\\xd9\\xde\\x00\\xa8P\\xd8K:\\x19\\x8b\\xdaO*\\xe3z\\xc9\\xfe\\xe8j\\xb0\\xb2he\\x8d\\x10\\x87\\xe1\\x15\\xdc\\x92!\\xb2d\\xc9\\x0c\\xf22\\x15./#\\x11\\xbc\\xa4\\xab\\x91S\\x01C\\x07\\x1f\\xe3ZR\\x88L0m\\xd1\\xc9\\x0b\\xfc\\x95\\xd1\\xe2?zSUM\\x81wS\\xbc{\\xd4\\xbcQ1\\x0b\\x04l\\x07\\xc5s\\x10)\\xe9\\xb0|\\xb2ktMG\\x87\\xac\\xe0{1\\xe7E\\x0c\\x8f\\x1d\\x1e_1Q\\xf7\\xf4\\x97Y\\xcf^\\x820\\xad\\x87\\xbf\\xc9D\\xfd5\\xc0\\xea\\xd7e_PK\\x03\\x04\\x14\\x00\\x00\\x00\\x08\\x003\\x91\\xc7P\\x0b\\x8f\\xd8\\x03!\\x01\\x00\\x00W\\x04\\x00\\x00\\x13\\x00\\x00\\x00[Content_Types].xml\\xb5TMO\\xc30\\x0c\\xfd+S\\xafh\\xcd\\xe0\\xc0\\x01m\\xbb\\x00W\\x98\\x04\\x7f $n\\x1b5_\\xb2\\xbd\\xd1\\xfd{\\xdcnCb*bh\\xdb%\\x89\\xf3\\xec\\xf7^\\x12+\\xf3\\xf7m\\x06\\x9at\\xc1GZ\\x14\\rs~P\\x8aL\\x03AS\\x992DA\\xaa\\x84A\\xb3\\x84X\\xab\\xacM\\xabkPw\\xb3\\xd9\\xbd2)2D\\x9er\\xcfQ,\\xe7OP\\xe9\\xb5\\xe7\\xc9\\xe3n\\xbf\\xa7^\\x14:g\\xef\\x8cf\\x97\\xa2\\xdaD{D:\\xdd\\x13\\x96\\x08~\\xc8\\xa1\\xc6e\\xba\\x91\\x84b\\xf2\\xdc\\t\\x0b\\xc9\\xde\\xa2\\x10\\x94\\nu\\x82\\xc2qa\\x1fK\\xdd\\xeb\\x06\\x10\\x9d\\x85\\x7fYKU\\xe5\\x0c\\xd8d\\xd6AJJ\\xca\\x08\\xdaR\\x03\\xc0\\xc1\\x97\\xd4h\\x04\\xfb\\xc6\\xe8b\\xbd\\xf7\\xbb\\xd2\\xc8/:\\x08\\xb1\\xea\\xbc\\xfa\\x91P^\\xcf\\x07o=\\x8c\\x1b\\x18\\x90K*\\xb3\\xb4\\x05\\x8cI\\r\\xc0n\\xbc=K\\xf0\\xd0\\r&!L3\\n\\x8a\\xecF\\x8e\\'\\x96V\\x82\\x92\\xea\\x13/yD\\xe8[\\xc7\\x82=I\\\\\\xa8\\xaf\\xf7\\xb0\\x9f\\t\\xdba=v\\xe1\\xdf \\xa9a:\\xef\\xd6\\xffht\\x99\\xcb\\xa0]\\xfc\\xcd\\xc8GJ\\xedA_\\r\\xff\\xc9\\xf2\\x0bPK\\x01\\x02\\x14\\x03\\x14\\x00\\x00\\x00\\x08\\x003\\x91\\xc7P\\x1f#\\xcf\\x03\\xc0\\x00\\x00\\x00\\x13\\x02\\x00\\x00\\x0b\\x00\\x00\\x00\\x00\\x00\\x00\\x00\\x00\\x00\\x00\\x00\\x80\\x01\\x00\\x00\\x00\\x00_rels/.relsPK\\x01\\x02\\x14\\x03\\x14\\x00\\x00\\x00\\x08\\x003\\x91\\xc7P\\'\\xe8\\x87\\x0e\\x82\\x00\\x00\\x00\\xb1\\x00\\x00\\x00\\x10\\x00\\x00\\x00\\x00\\x00\\x00\\x00\\x00\\x00\\x00\\x00\\x80\\x01\\xe9\\x00\\x00\\x00docProps/app.xmlPK\\x01\\x02\\x14\\x03\\x14\\x00\\x00\\x00\\x08\\x003\\x91\\xc7P\\x04\\xea\\x1c\\xe3\\xef\\x00\\x00\\x00+\\x02\\x00\\x00\\x11\\x00\\x00\\x00\\x00\\x00\\x00\\x00\\x00\\x00\\x00\\x00\\x80\\x01\\x99\\x01\\x00\\x00docProps/core.xmlPK\\x01\\x02\\x14\\x03\\x14\\x00\\x00\\x00\\x08\\x003\\x91\\xc7P\\x99\\\\\\x9c#\\x10\\x06\\x00\\x00\\x9c\\'\\x00\\x00\\x13\\x00\\x00\\x00\\x00\\x00\\x00\\x00\\x00\\x00\\x00\\x00\\x80\\x01\\xb7\\x02\\x00\\x00xl/theme/theme1.xmlPK\\x01\\x02\\x14\\x03\\x14\\x00\\x00\\x00\\x08\\x003\\x91\\xc7P\\xd4\\xe6Ip\\x03B\\x00\\x00\\xa6,\\x01\\x00\\x18\\x00\\x00\\x00\\x00\\x00\\x00\\x00\\x00\\x00\\x00\\x00\\x80\\x01\\xf8\\x08\\x00\\x00xl/worksheets/sheet1.xmlPK\\x01\\x02\\x14\\x03\\x14\\x00\\x00\\x00\\x08\\x003\\x91\\xc7P\\x17\\x16\\xa9Qg\\x00\\x00\\x00r\\x00\\x00\\x00\\x14\\x00\\x00\\x00\\x00\\x00\\x00\\x00\\x00\\x00\\x00\\x00\\x80\\x011K\\x00\\x00xl/sharedStrings.xmlPK\\x01\\x02\\x14\\x03\\x14\\x00\\x00\\x00\\x08\\x003\\x91\\xc7P\\xc9\\xcd\\x9f\\x0b\\xd0\\x01\\x00\\x00q\\x04\\x00\\x00\\r\\x00\\x00\\x00\\x00\\x00\\x00\\x00\\x00\\x00\\x00\\x00\\x80\\x01\\xcaK\\x00\\x00xl/styles.xmlPK\\x01\\x02\\x14\\x03\\x14\\x00\\x00\\x00\\x08\\x003\\x91\\xc7P\\x87\\x15i\\xbb4\\x01\\x00\\x00#\\x02\\x00\\x00\\x0f\\x00\\x00\\x00\\x00\\x00\\x00\\x00\\x00\\x00\\x00\\x00\\x80\\x01\\xc5M\\x00\\x00xl/workbook.xmlPK\\x01\\x02\\x14\\x03\\x14\\x00\\x00\\x00\\x08\\x003\\x91\\xc7P\\xff\\xc0&\\x08\\xbd\\x00\\x00\\x00\\x85\\x02\\x00\\x00\\x1a\\x00\\x00\\x00\\x00\\x00\\x00\\x00\\x00\\x00\\x00\\x00\\x80\\x01&O\\x00\\x00xl/_rels/workbook.xml.relsPK\\x01\\x02\\x14\\x03\\x14\\x00\\x00\\x00\\x08\\x003\\x91\\xc7P\\x0b\\x8f\\xd8\\x03!\\x01\\x00\\x00W\\x04\\x00\\x00\\x13\\x00\\x00\\x00\\x00\\x00\\x00\\x00\\x00\\x00\\x00\\x00\\x80\\x01\\x1bP\\x00\\x00[Content_Types].xmlPK\\x05\\x06\\x00\\x00\\x00\\x00\\n\\x00\\n\\x00\\x80\\x02\\x00\\x00mQ\\x00\\x00\\x00\\x00',\n",
              " 'based_dir.xlsx': b'PK\\x03\\x04\\x14\\x00\\x00\\x00\\x08\\x00\\x15\\x8f\\xc7P\\x1f#\\xcf\\x03\\xc0\\x00\\x00\\x00\\x13\\x02\\x00\\x00\\x0b\\x00\\x00\\x00_rels/.rels\\xad\\x92O\\x8b\\xc2@\\x0c\\xc5\\xbfJ\\x99\\xfb\\x1aW\\xc1\\xc3b=y\\xe9mY\\xfc\\x02q&\\xfdC;\\x93!\\x13\\xb1~{\\x87\\xbdl\\xb7TP\\xf0\\x18^\\xf2\\xde\\x8fG\\xf6?4\\xa0v\\x1cR\\xdb\\xc5T\\x8c~\\x08\\xa94\\xadj\\xfc\\x02H\\xb6%\\x8fi\\xc5\\x91BVj\\x16\\x8f\\x9aGi \\xa2\\xed\\xb1!\\xd8\\xac\\xd7;\\x90\\xa9\\x879\\xec\\xa7\\x9eE\\xe5J#\\x95\\xfb4\\xc5\\t\\xa5!-\\xcd8\\xc0\\x95\\xa5?3\\xf7\\xabl\\x9b\\x85[\\xa4gB\\xb9\\xae;KG\\xb6\\x17OA\\x17\\xb2g\\x1b\\x06\\x96Y6\\x7f,\\x8e\\xed\\xb7p\\xbe\\xb4,\\xf4\\x1a\\xcd\\xe3\\n\\xc0\\x93\\xa2C\\xc5_\\xd7\\x8f\\x98\\x03H\\xb4\\xa3\\xf4\\x08h\\xbb\\x00\\x841\\xbe\\xbb\\x1d\\x1a\\x95\\x82#7#\\x82\\x7f?p\\xb8\\x03PK\\x03\\x04\\x14\\x00\\x00\\x00\\x08\\x00\\x15\\x8f\\xc7P\\'\\xe8\\x87\\x0e\\x82\\x00\\x00\\x00\\xb1\\x00\\x00\\x00\\x10\\x00\\x00\\x00docProps/app.xmlM\\x8eM\\x0b\\xc20\\x10D\\xffJ\\xe9\\xddn)\\xe8Ab@\\xb0G\\xc1\\x93\\xf7\\x90nl \\xc9\\x86\\xcd\\n\\xf9\\xf9\\xa6\\x82\\x1f\\xb7y\\xbca\\x18uc\\xca\\xc8\\xe2\\xb1t5\\x86TN\\xfd*\\x92\\x8f\\x00\\xc5\\xae\\x18M\\x19\\x9aN\\xcd8\\xe2h\\xa4!?\\x80\\x9c\\xf3\\x16/d\\x9f\\x11\\x93\\xc04\\x8e\\x07\\xc0*\\x98\\x16\\\\v\\xf9;\\xd8ku\\xce9xk\\xc4S\\xd2Wo\\x99\\n9\\xe9\\xe6j1(\\xf8\\x97[\\xf3\\x8e\\\\\\xb6<\\r\\xfb\\xb7\\xfc\\xb0\\x82\\xdfI\\xfd\\x02PK\\x03\\x04\\x14\\x00\\x00\\x00\\x08\\x00\\x15\\x8f\\xc7P\\x04\\xea\\x1c\\xe3\\xef\\x00\\x00\\x00+\\x02\\x00\\x00\\x11\\x00\\x00\\x00docProps/core.xml\\xcd\\x92\\xc1j\\xc30\\x0c\\x86_e\\xf8\\x9e\\xc8I\\xa0e&\\xf5e\\xa5\\xa7\\r\\x06+l\\xecfl\\xb55\\x8bcck$}\\xfb9Y\\x9b2\\xb6\\x07\\xd8\\xd1\\xd2\\xefO\\x9f@\\xad\\x0eB\\xfb\\x88\\xcf\\xd1\\x07\\x8cd1\\xdd\\x8d\\xae\\xeb\\x93\\xd0a\\xc3NDA\\x00$}B\\xa7R\\x99\\x13}n\\x1e|t\\x8a\\xf23\\x1e!(\\xfd\\xa1\\x8e\\x085\\xe7+pH\\xca(R0\\x01\\x8b\\xb0\\x10\\x99l\\x8d\\x16:\\xa2\"\\x1f/x\\xa3\\x17|\\xf8\\x8c\\xdd\\x0c3\\x1a\\xb0C\\x87=%\\xa8\\xca\\n\\x98\\x9c&\\x86\\xf3\\xd8\\xb5p\\x03L0\\xc2\\xe8\\xd2w\\x01\\xcdB\\x9c\\xab\\x7fb\\xe7\\x0e\\xb0KrLvI\\r\\xc3P\\x0e\\xcd\\x9c\\xcb;T\\xf0\\xf6\\xf4\\xf82\\xaf[\\xd8>\\x91\\xea5\\xe6_\\xc9\\n:\\x07\\xdc\\xb0\\xeb\\xe4\\xd7\\xe6a\\xbb\\xdf1Y\\xf3\\x9a\\x17|U\\xf0\\xf5\\xbeZ\\x8b\\xfa^4\\xd5\\xfb\\xe4\\xfa\\xc3\\xef&\\xec\\xbc\\xb1\\x07\\xfb\\x8f\\x8d\\xaf\\x82\\xb2\\x85_w!\\xbf\\x00PK\\x03\\x04\\x14\\x00\\x00\\x00\\x08\\x00\\x15\\x8f\\xc7P\\x99\\\\\\x9c#\\x10\\x06\\x00\\x00\\x9c\\'\\x00\\x00\\x13\\x00\\x00\\x00xl/theme/theme1.xml\\xedZ[s\\xda8\\x14~\\xef\\xaf\\xd0xg\\xf6m\\x0b\\xc66\\x81\\xb6\\xb4\\x13siv\\xdb\\xb4\\x99\\x84\\xedN\\x1f\\x85\\x11X\\x8dlyd\\x91\\x84\\x7f\\xbfG6\\x10\\xcb\\x96\\r\\xed\\x92M\\xba\\x9b<\\x04,\\xe9\\xfb\\xceEG\\xe7\\xe88y\\xf3\\xee.b\\xe8\\x86\\x88\\x94\\xf2x`\\xd9/\\xdb\\xd6\\xbb\\xb7/\\xde\\xe0W2$\\x11A0\\x19\\xa7\\xaf\\xf0\\xc0\\n\\xa5L^\\xb5Zi\\x00\\xc38}\\xc9\\x13\\x12\\xc3\\xdc\\x82\\x8b\\x08Kx\\x14\\xcb\\xd6\\\\\\xe0[\\x1a/#\\xd6\\xea\\xb4\\xdb\\xddV\\x84il\\xa1\\x18Gd`}^,h@\\xd0TQZo_ \\xb4\\xe5\\x1f3\\xf8\\x15\\xcbT\\x8de\\xa3\\x01\\x13WA&\\xb9\\x88\\xb4\\xf2\\xf9l\\xc5\\xfc\\xda\\xde>e\\xcf\\xe9:\\x1d2\\x81n0\\x1bX \\x7f\\xceo\\xa7\\xe4NZ\\x88\\xe1T\\xc2\\xc4\\xc0jg?Vk\\xc7\\xd1\\xd2H\\x80\\x82\\xc9}\\x94\\x05\\xbaI\\xf6\\xa3\\xd3\\x15\\x082\\r;:\\x9dX\\xcev|\\xf6\\xc4\\xed\\x9f\\x8c\\xca\\xdat4m\\x1a\\xe0\\xe3\\xf1x8\\xb6\\xcb\\xd2\\x8bp\\x1c\\x04\\xe0Q\\xbb\\x9e\\xc2\\x9d\\xf4l\\xbf\\xa4A\\t\\xb4\\xa3i\\xd0d\\xd8\\xf6\\xda\\xae\\x91\\xa6\\xaa\\x8dSO\\xd3\\xf7}\\xdf\\xeb\\x9bh\\x9c\\n\\x8d[O\\xd3kw\\xdd\\xd3\\x8e\\x89\\xc6\\xad\\xd0x\\r\\xbe\\xf1O\\x87\\xc3\\xae\\x89\\xc6\\xab\\xd0t\\xebi&\\'\\xfd\\xaek\\xa4\\xe9\\x16hBF\\xe3\\xebz\\x12\\x15\\xb5\\xe5@\\xd3 \\x00Xpv\\xd6\\xcc\\xd2\\x03\\x96^)\\xfau\\x94\\x1a\\xd9\\x1d\\xbb\\xddA\\\\\\xf0X\\xee9\\x89\\x11\\xfe\\xc6\\xc5\\x04\\xd6i\\xd2\\x19\\x964Fr\\x9d\\x90\\x05\\x0e\\x007\\xc4\\xd1LP|\\xafA\\xb6\\x8a\\xe0\\xc2\\x92\\xd2\\\\\\x90\\xd6\\xcf)\\xb5P\\x1a\\x08\\x9a\\xc8\\x81\\xf5G\\x82!\\xc5\\xdc\\xaf\\xfd\\xf5\\x97\\xbb\\xc9\\xa43z\\x9d}:\\xcek\\x94\\x7fi\\xab\\x01\\xa7\\xed\\xbb\\x9b\\xcf\\x93\\xfcs\\xe8\\xe4\\x9f\\xa7\\x93\\xd7MB\\xcep\\xbc,\\t\\xf1\\xfb#[a\\x87\\'n;\\x13r:\\x1cgB|\\xcf\\xf6\\xf6\\x91\\xa5%2\\xcf\\xef\\xf9\\n\\xebN<g\\x1fV\\x96\\xb0]\\xcf\\xcf\\xe4\\x9e\\x8cr#\\xbb\\xdd\\xf6X}\\xf6OGn#\\xd7\\xa9\\xc0\\xb3\"\\xd7\\x94F$E\\x9f\\xc8-\\xba\\xe4\\x118\\xb5I\\r2\\x13?\\x08\\x9d\\x86\\x98jP\\x1c\\x02\\xa4\\t1\\x96\\xa1\\x86\\xf8\\xb4\\xc6\\xac\\x11\\xe0\\x13}\\xb7\\xbe\\x08\\xc8\\xdf\\x8d\\x88\\xf7\\xabo\\x9a=W\\xa1XI\\xda\\x84\\xf8\\x10F\\x1a\\xe2\\x9cs\\xe6s\\xd1l\\xfb\\x07\\xa5F\\xd1\\xf6U\\xbc\\xdc\\xa3\\x97X\\x15\\x01\\x97\\x18\\xdf4\\xaa5,\\xc5\\xd6x\\x95\\xc0\\xf1\\xad\\x9c<\\x1d\\x13\\x12\\xcd\\x94\\x0b\\x06A\\x86\\x97$&\\x12\\xa99~MH\\x13\\xfe+\\xa5\\xda\\xfe\\x9c\\xd3@\\xf0\\x94/$\\xfaJ\\x91\\x8fi\\xb3#\\xa7t&\\xcd\\xe83\\x1a\\xc1F\\xaf\\x1bu\\x87h\\xd2<z\\xfe\\x05\\xf9\\x9c5\\n\\x1c\\x91\\x1b\\x1d\\x02g\\x1b\\xb3F!\\x84i\\xbb\\xf0\\x1e\\xaf$\\x8e\\x9a\\xad\\xc2\\x11+B>b\\x196\\x1ar\\xb5\\x16\\x81\\xb6q\\xa9\\x84`Z\\x12\\xc6\\xd1xN\\xd2\\xb4\\x11\\xfcY\\xac5\\x93>`\\xc8\\xec\\xcd\\x91u\\xce\\xd6\\x91\\x0e\\x11\\x92^7B>b\\xce\\x8b\\x90\\x11\\xbf\\x1e\\x868J\\x9a\\xed\\xa2qX\\x04\\xfd\\x9e^\\xc3I\\xc1\\xe8\\x82\\xcbf\\xfd\\xb8~\\x86\\xd53l,\\x8e\\xf7G\\xd4\\x17J\\xe4\\x0f&\\xa7?\\xe924\\x07\\xa3\\x9aY\\t\\xbd\\x84Vj\\x9f\\xaa\\x874>\\xa8\\x1e2\\n\\x05\\xf1\\xb9\\x1e>\\xe5zx\\n7\\x96\\xc6\\xbcP\\xae\\x82{\\x01\\xff\\xd1\\xda7\\xc2\\xab\\xf8\\x82\\xc09\\x7f.}\\xcf\\xa5\\xef\\xb9\\xf4=\\xa1\\xd2\\xb77#}g\\xc1\\xd3\\x8b[\\xdeFn[\\xc4\\xfb\\xae1\\xda\\xd74.(cWr\\xcd\\xc8\\xc7T\\xaf\\x93)\\xd89\\x9f\\xc0\\xec\\xfdh>\\x9e\\xf1\\xed\\xfa\\xd9$\\x84\\xaf\\x9aY-#\\x16\\x90K\\x81\\xb3A$\\xb8\\xfc\\x8b\\xca\\xf0*\\xc4\\t\\xe8d[%\\t\\xcbT\\xd3e7\\x8a\\x12\\x9eB\\x1bn\\xe9S\\xf5J\\x95\\xd7\\xe5\\xaf\\xb9(\\xb8<[\\xe4\\xe9\\xaf\\xa1t>,\\xcf\\xf9<_\\xe7\\xb4\\xcd\\x0b3C\\xb7rK\\xea\\xb6\\x94\\xbe\\xb5&8J\\xf4\\xb1\\xccpN\\x1e\\xcb\\x0c;g<\\x92\\x1d\\xb6w\\xa0\\x1d5\\xfb\\xf6]v\\xe4#\\xa50S\\x97C\\xb8\\x1aB\\xbe\\x03m\\xba\\x9d\\xdc:8\\x9e\\x98\\x91\\xb9\\n\\xd3R\\x90o\\xc3\\xf9\\xe9\\xc5x\\x1a\\xe29\\xd9\\x04\\xb9}\\x98Wm\\xe7\\xd8\\xd1\\xd1\\xfb\\xe7\\xc1Q\\xb0\\xa3\\xef<\\x96\\x1d\\xc7\\x88\\xf2\\xa2!\\xee\\xa1\\x86\\x98\\xcf\\xc3C\\x87y{_\\x98g\\x95\\xc6P4\\x14ml\\xac$,F\\xb7`\\xb8\\xd7\\xf1,\\x14\\xe0d`-\\xa0\\x07\\x83\\xafQ\\x02\\xf2RU`1[\\xc6\\x03+\\x90\\xa2|L\\x8cE\\xe8p\\xe7\\x97\\\\_\\xe3\\xd1\\x92\\xe3\\xdb\\xa6e\\xb5n\\xaf)w\\x19m\"R9\\xc2i\\x98\\x13g\\xab\\xca\\xdee\\xb1\\xc1U\\x1d\\xcfU[\\xf2\\xb0\\xbej=\\xb4\\x15N\\xcf\\xfeY\\xad\\xc8\\x9f\\x0c\\x11N\\x16\\x0b\\x12Hc\\x94\\x17\\xa6J\\xa2\\xf3\\x19S\\xbe\\xe7+I\\xc4U8\\xbfE3\\xb6\\x12\\x97\\x18\\xbc\\xe3\\xe6\\xc7qNS\\xb8\\x12v\\xb6\\x0f\\x022\\xb9\\xbb9\\xa9ze1g\\xa6\\xf2\\xdf-\\x0c\\t,[\\x88Y\\x12\\xe2M]\\xed\\xd5\\xe7\\x9b\\x9c\\xaez\"v\\xfa\\x97w\\xc1`\\xf2\\xfdp\\xc9G\\x0f\\xe5;\\xe7_\\xf4]C\\xae~\\xf6\\xdd\\xe3\\xfan\\x93;HL\\x9cy\\xc5\\x11\\x01tE\\x02#\\x95\\x1c\\x06\\x16\\x172\\xe4P\\xee\\x92\\x90\\x06\\x13\\x01\\xcd\\x94\\xc9D\\xf0\\x02\\x82d\\xa6\\x1c\\x80\\x98\\xfa\\x0b\\xbd\\xf2\\x0c\\xb9)\\x15\\xce\\xad>9\\x7fE,\\x83\\x86N^\\xd2%\\x12\\x14\\x8a\\xb0\\x0c\\x05!\\x17r\\xe3\\xef\\xef\\x93jw\\x8c\\xd7\\xfa,\\x81m\\x84T2d\\xd5\\x17\\xcaC\\x89\\xc1=3rC\\xd8T%\\xf3\\xae\\xda&\\x0b\\x85\\xdb\\xe2T\\xcd\\xbb\\x1a\\xbe&`K\\xc3zn\\x9d-\\'\\xff\\xdb^\\xd4=\\xb4\\x17=F\\xf3\\xa3\\x99\\xe0\\x1e\\xb3\\x87s\\x9bz\\xb8\\xc2E\\xac\\xffX\\xd6\\x1e\\xf92\\xdf9p\\xdb:\\xde\\x03^\\xe6\\x13,C\\xa4~\\xc1}\\x8a\\x8a\\x80\\x11\\xabb\\xbe\\xba\\xafO\\xf9%\\x9c;\\xb4{\\xf1\\x81 \\x9b\\xfc\\xd6\\xdb\\xa4\\xf6\\xdd\\xe0\\x0c|\\xd4\\xabZ\\xa5d+\\x11?K\\x07|\\x1f\\x92\\x06c\\x8c[\\xf44_\\x8f\\x14b\\xad\\xa6\\xb1\\xad\\xc6\\xda1\\x0cy\\x80X\\xf3\\x0c\\xa1f8\\xdf\\x87E\\x9a\\x1a3\\xd5\\x8b\\xac9\\x8d\\noA\\xd5@\\xe5?\\xdb\\xd4\\rh\\xf6\\r4\\x1c\\x91\\x05^1\\x99\\xb66\\xa3\\xe4N\\n<\\xdc\\xfe\\xef\\r\\xb0\\xc2\\xc4\\x8e\\xe1\\xed\\x8b\\xbf\\x01PK\\x03\\x04\\x14\\x00\\x00\\x00\\x08\\x00\\x15\\x8f\\xc7Pv*\\x1eU\\xd4A\\x00\\x00\\xaf,\\x01\\x00\\x18\\x00\\x00\\x00xl/worksheets/sheet1.xml\\x8d\\xbd\\xdd\\xcee\\xc7\\x91\\xa6w+\\x04/ \\x99\\xff\\x91\\xd9\\x90\\x04\\x8cg`\\xd8\\x07\\x06\\x1a3\\xb0}\\\\\\xdd*ID\\x93*\\x99\\xacn\\xcd\\xdc\\xfd\\xbc\\xef\\xaa\\x1e\\xe1\\x8b\\xdd\\xfb\\x11\\x0cH\\x10I\\xa9Rk\\xaf\\x15\\x11\\x19\\x11O\\xfc\\xfc\\xe6\\xaf_~\\xf9\\x97_\\xff\\xf4\\xf9\\xf3\\xd7\\xef\\xfe\\xfb\\xcf?\\xfd\\xf9\\xd7\\xdf~\\xff\\xa7\\xaf_\\xff\\xf2\\x0f?\\xfc\\xf0\\xeb?\\xff\\xe9\\xf3\\xcf\\x9f~-_\\xfe\\xf2\\xf9\\xcf\\xfao\\xfe\\xf0\\xe5\\x97\\x9f?}\\xd5\\xdf\\xfe\\xf2\\xc7\\x1f~\\xfd\\xcb/\\x9f?\\xfd\\xfe\\xf9C?\\xff\\xf4C\\xafu\\xff\\xf0\\xf3\\xa7\\x1f\\xff\\xfc\\xfd\\xef~\\xf3\\xfc\\xb3\\x7f\\xfc\\xe5w\\xbf\\xf9\\xf2\\xaf_\\x7f\\xfa\\xf1\\xcf\\x9f\\xff\\xf1\\x97\\xef~\\xfd\\xd7\\x9f\\x7f\\xfe\\xf4\\xcb\\xff\\xf8\\xdf>\\xff\\xf4\\xe5\\xaf\\xbf\\xfd\\xbe}\\xff\\xbf\\xfe\\xc1\\x7f\\xfd\\xf1\\x8f\\x7f\\xfa\\xea\\x7f\\xf0\\xc3\\xef~\\xf3\\x97O\\x7f\\xfc\\xfc\\xdf>\\x7f\\xfd\\xbf\\xff\\xf2\\x8f\\xbf\\xe8\\xef~\\xf8\\xdb)\\xbf\\xff\\xf1\\xe7\\xcf\\x7f\\xfe\\xf5\\xc7/\\x7f\\xfe\\xee\\x97\\xcf\\x7f\\xf8\\xed\\xf7\\xff\\xa9\\xfd\\xc3\\x7f\\xba\\xf7\\xf8O<\\xff\\x93\\xff\\xe7\\xc7\\xcf\\x7f\\xfd\\xf5\\xc3_\\x7f\\xe7\\xdf\\xf2O_\\xbe\\xfc\\x8b\\xff\\xe6\\xff\\xfc\\xfdo\\xbf\\xaf~\\xa4\\xcf?}\\xfe\\xe7\\xaf>\\xe3\\x93\\xfe\\xe3\\xdf>\\xff\\xe7\\xcf?\\xfd\\xe4\\xa3\\xf4 \\xff\\xdf\\xbf\\x9f\\xfa\\xfd\\xdf\\xfeO\\xfd\\x07?\\xfe\\xf5\\xff:\\xfd\\x7f\\x7f~\\xbd~\\xcd?}\\xfa\\xf5\\xf3\\x7f\\xfe\\xf2\\xd3\\xff\\xfb\\xe3\\xef\\xbf\\xfe\\xe9\\xb7\\xdf\\x9f\\xef\\xbf\\xfb\\xfd\\xe7?|\\xfa\\xd7\\x9f\\xbe\\xfe\\xd7/\\x7f\\xfd?>\\xff\\xfb/Z\\x7f{\\xc0\\xff\\xf2\\xe9\\xeb\\xa7\\xdf\\xfd\\xe6\\x97/\\x7f\\xfd\\xee\\x97o?\\xfd/\\x9f\\xfc\\x86\\xdb?4=\\xd8?\\xfb\\x1f>\\xcf\\xf1\\xfcw\\xfa\\x93\\xbf\\xea\\x9f\\xfe\\xdb\\xef\\xeao~\\xf87=\\xc3?\\xeb\\xdf\\xfa\\x93\\x7f\\xfb\\xe3\\xfd\\xed\\x1f\\xef\\xcf\\x1f\\xfc\\xf3\\xf3\\x07\\xdb^m\\x96\\xbeZ;c\\x8e\\xbb\\xf7\\xfb\\x83\\xc6\\xdb\\x83\\xc6\\x87\\x83\\xce\\\\\\xbd\\xec\\xb9\\xe7\\xbcu\\xf4\\xdb\\xe7\\xfb\\x83\\xe6\\xdb\\x83fz\\xa2\\xa8\\xb3\\xd4\\x16\\xad\\xc6\\xdem\\xde\\xf7\\x07\\xad\\xb7\\x07\\xad\\x0f\\x07\\xe9\\x81\\xda({\\xd5\\xe8\\xeb\\xd6h\\xe3\\xfdA\\xfb\\xedA\\xfb\\xe3\\x13\\xd59\\xa2\\xf4\\x19k\\xaf8;\\xe0\\xa0x{P|8h\\xd4sW\\x19}\\xde\\xdb\\xcem\\xbb\\xbd?\\xe8\\xbc=\\xe8\\xa4w4N-\\xf7\\x8e\\x98\\xadE\\xa7\\'\\xbao\\x0f\\xba\\x1f\\x0f\\xea\\xf5\\xea\\xb3\\xf5\\xe8\\xfat\\x11{\\xbd?\\xa8\\xd5\\xf7rX?\\x1e5\\xef>%\\xa2\\x9e:w\\x1b\\xf0\\xd9\\x1aHt\\xfbx\\xd2\\xb9\\xf7\\x96\\xba\\xe2\\xee\\x117\\xfa\\x81\\xa3\\xdeKw\\xfb(\\xde\\xfayM/j\\xf5}b\\x9c\\xd9\\xe9\\xf7\\xbd\\x97\\xef\\xf6Q\\xc0\\xdb\\x98g\\x94\\x1e\\xe7\\xacQW[ \\xe0\\xed\\xbd\\x84\\xb7$\\xe2\\xd1{-\\xf3\\xb6y\\xf6\\xed\\xb7v8\\xea\\xbd\\x8c\\xb7\\x95\\xde\\xba\\x85\\xfcH\\x8d\\xc7\\xd5_U\\xd0\\xdf\\xf6^\\xca\\xdbG1_w\\xd6Uj\\x1d\\xad\\xaf\\x19q\\xe9\\xa9\\xde\\xcby\\xfb(\\xe8Gg\\xe9\\xad\\x9f\\xb6b\\xdd\\x88\\x11p\\xd4{Io\\x1fE\\xbdG\\x9bQB\\xc2)\\xcb2f\\xa3\\x1f\\xf8^\\xd6\\xdbGa\\xbfu\\xddrG\\xd3\\xcb\\xaa\\xfb\\x8e\\x01_\\xb0\\xbf\\x17\\xf6\\xfeQ\\xd8\\xc7\\x8e\\xa3W\\x15c4\\xe9\\xb4D\\x15\\x8ez/\\xed=I{4\\x19\\x85\\xd5g\\xdd;\\x9a\\xa4\\x14\\x8e\\x02[\\x9e\\xa4]\\xda\\xb2%\\x0cG?\\xf4\\x8eE\\xc2\\xd0\\xdfK{\\xff(\\xedSg\\x94q\\xa5\\x82\\xfa\\x8d2\\xa0 \\x0c\\xfd\\xbd\\xb4\\xf7\\x8f\\xd2\\xde\\xdb\\xdc\\xa3\\xc4\\xd8\\xbe\"b.\\xd0\\xc1\\xfe^\\xda\\xfb\\xca\\xb7U\\xd7\\xdd \\xe3w%a\\x93t\\xb0\\xbf\\x97\\xf6\\x9e\\x8c\\xfa\\x90p\\xea\\xc2\\xd2[\\xdf\\xb2\\xc4d\\x19\\xfa{i\\xef\\x91\\x7f\\xa0\\x8c\\x8c>\\xa3\\xcc\\xa8\\x04\\xe2\\x82\\xe9\\xeb\\xef\\xa5\\xbd\\x7f\\x94\\xf6\\xb1\\xf4\\xf1\\xf4T\\xab\\xcbB\\xe8\\xd7\\x920\\xbc\\x97\\xf6~\\xd3S\\xdd\\xda\\xca\\xda\\xbar\\xf6\\xee\\xbb\\xc3\\x1d1\\xdeK\\xfb\\xf8(\\xed\\xab\\xeds\\xca\\x1e\\xbd\\xcf3\\xb7\\x84\\x0b\\x8ez/\\xed#I{\\x93\\xf9,\\xb3o\\xa9\\x9f\\xc4\\x95\\xd4y\\xbc\\x97\\xf6\\x91\\xa4}\\xca\"\\x94\\xb9j\\xd7A\\xb5\\x920\\x0c\\xf0]\\x92m\\xef\\xf2\\x12\\xca\\xdc:R\\xff\\x8e\\t\\xea<\\xdeK\\xfb\\xf8(\\xed\\xba%N\\x97\\x0eJ@\\x87\\xfcN\\xba\\x07\\xc7{i\\x1fI\\xda\\xab\\x8cB\\x19c\\xf5*\\x9d\\xd6\\x15\\rG\\xbd\\x97\\xf6\\x91\\xa4}\\x8d\\xbd\\xca\\xd5uxw\\x95M\\xa6\\xa7z/\\xed\\xe3\\xa3\\xb4\\xc7\\x8a\\xb6K\\xab:H\\x9fR\\x9a\\x03G\\xbd\\x97\\xf6\\x91\\xdc\\x18\\x19\\x85Vd^\\xce\\xf3\\xb2\\xc8 \\x8f\\xf7\\xd2>\\xb2#\\xb3\\xf5\\xda\\xe5|\\xec]{\\xdb\\xf4\\x05\\xe7{i\\x9f\\xd9\\x91\\xb1A\\xd6\\xb7[u\\xed\\xd9\\xe1U\\xcd\\xf7\\xc2>?\\n\\xbb\\xcc\\xa6\\xee.\\xbd\\xa8\\xdb\\xcfi\\x83\\xb4y\\xbe\\x17\\xf6\\xf9Q\\xd8\\x87n\\x19\\x89\\x95n\\xe5!?Kn\\x1f\\x1c\\xf5^\\xd8g2\\xed\\xa3\\xc5,k\\xed!GF\\xce(|\\xc0\\t\\xaez2\\xedk\\xe9M\\x9d.\\xfb\\xd7\\xa3\\xde\\x00#:\\xdf\\x0b\\xfb\\xfc(\\xec\\xa3W\\xdd\\x122zR\\xe8\\x90\\'B\\xef\\xea\\xbd\\xb0\\xcf\\x8f\\xc2~\\xe4\\x14\\xebB\\xed!#s\\xce\\xa0\\x0bg\\xbe\\x17\\xf6\\x99<\\xf6!Y\\xdf\\xb2{r\\x1e\\xf5\\xea;\\x89\\xd5{a\\x9f\\xc9\\x91\\x191n\\xe9rB\\xbbn\\x891@\\x9b\\xe7{a\\x9f\\x1f\\x85}\\x9d\\xde\\xa56R\\xbf+\\xfd\\x933\\n!\\xd2{a_I\\xd8\\xe5\\rU\\xdf\\x12S\\x17\\xaa\\x9e\\x10\\xde\\xd5z/\\xed\\xeb\\xa3\\xb4\\xaf\\xd5u\\xcd\\xcb\\xb1R\\x0cP\\x0fi\\xe0z/\\xec+\\t\\xbb\\xac\\xc2\\xbd\\x92\\x07[\\x86\\x8e\\xb1\\xc4z/\\xec+\\t\\xbb\\xcc\\xf1.\\xe3t\\xf9\\x0c\\xa1\\xbf\\xa6W\\xf5^\\xd8\\xd7\\xcc\\xe6\\xb8\\xd6\\xd2\\xe4\\x88\\xea^>\\x87\\xf4fAd\\xfaQ\\xd8\\xcfj\\xba\\xb9\\xea\\xaa62sS\\xd8\\xb5\\xde\\x0b\\xfb\\xfa(\\xec\\xbb\\xc9a/W\\x81\\xb7D\\xe1T\\xf2c\\xd6{a_\\xf1b\\xae\\xba\"o]\\xf4\\xb2\\xcc\\x8b|\\xbe\\xf5^\\xd8W\\xb2\\xec\\xba\\x8ee\\xd9\\xa7~\\xa8B8\\xf4D\\xd7{a_\\xc9\\x8f\\x91\\xf5\\xd4\\x0f\\xd4\\xaf\\x9b\\x8etI\\xd8\\xf7{a\\xdf\\x1f\\x85\\xbd\\x9f~ecd@\\xeb\\xd4\\xd5<\\xc1\\xc6\\xec\\xf7\\xc2\\xbe?\\n\\xfb\\x089W\\x12\\xf3\\x15z\\xe5\\x13m\\xcc~/\\xed\\xbb\\xa7/(\\xbd\\x99\\xa3\\x9f\\x1bc*`\\xa2\\xa7z/\\xed;\\xc7\\xa8\\xfa\\xe3E\\x1e\\xa8\\x1c\\xf7\\x1a\\xfd\\xc2k\\xdf\\xef\\xa5}\\x7f\\x94\\xf6-k^\\xc6\\x92p*\\xc4\\xa9\\x13\\xb3\\'\\xef\\xa5}\\x7f\\x94\\xf6\\xa5\\x88\\xd2\\x9e\\xa8D\\xe2(\\x1c\\'\\xc5\\xd9\\x90\\x89\\xf9(\\xed\\xb2\\xecg\\x96\\x19\\xba\\xb7z[\\x8b,\\xc3~/\\xed;\\xc5\\xa8\\xbeL\\x8b\\xe3\\x88;%[\\xf4\\xaa\\xde\\x0b\\xfbN\\x96]\\xaeK\\x93G\\xa48\\xa2\\x0f\\xf9\\xb7`\\xf9\\xf6{a\\xdfI\\xd8-\\x07\\xe5\\x86\\xfeC\\xef}\\x92s\\x15\\xef\\x85=\\x92\\xb0W\\x8b\\xe8\\xf6\\xe5\\x1c\\xb2\\x0bx\\xd4{a\\x8f\\xe4\\xb4\\xd7*\\xef\\xb1\\xd9\\x84J\\xdc/y\\xda\\xf1^\\xd8#9\\xedg\\xed[l\\xd4%[S\\xfe\\x07\\x1c\\xf5^\\xd8c\\xe4\\x1f\\xd8\\xf4\\xae\\xf4\\xb2\\xe4\\xfbIH\\xe9\\xa9\\xde\\x0b{$?Fg\\xc8 wY\\xc0Um\\x92\\xe1\\xa8\\xf7\\xc2\\x1e\\x1f\\x85}\\xd7\\xa1X\\xd0\\xb9\\xa2q\\xe5|T\\x10\\x86x/\\xec\\x91\\x9c\\xf6\\xae\\xd7]\\x96\\xbcv\\x87\\xf3}\\xd3SA\\xe2\\xf1%D\\x9d\\xab\\x84~\\\\H\\xd6\\x17\\xa5\\xd4\\xe2\\xbd\\xb4\\xc7I\\x86a\\x9e\\xd2\\xaf}Z\\xe9\\xf5\\xd9\\xf4\\x03\\xdfK{|\\x94v9\\x9f\\x12\\xd1{\\xe4\\xfc\\xb7}7<\\xd4y/\\xec\\'\\xe7c\\x14\\xc5\\xeb\\xa9\\xa2\\xc9\\xcdn\\x83\\x9c\\xf6\\xf3^\\xd8O\\xb2\\xec\\xba\\xfb|\\xcd\\x1fib\\xaf\\x83n\\xc1\\xf3^\\xd8OJ\\xae[0K\\xc8\\'\\xd2\\xfd|\\x1a\\x05p\\xe7\\xbd\\xb0\\x9f$\\xec\\xfdH\\x16\\x1c2\\xcb\\xb0\\x8fJW\\xd7y/\\xec\\'\\xf91\\xfavW\\xa6]\\xb1R\\xdf\\xce\\xd0\\xc1Q\\xef\\x85\\xfd|\\x14v\\xc9@\\x8fR}\\xeb\\\\\\xf9\\r\\xa47\\xe7\\xbd\\xb0\\x9f\\x9d\\x8e\\n\\x05\\xbb\\xf2\\xfe\\xe5\\xa9\\xc9C\\xde`\\x18\\xce{a?\\x91\\xcc\\xd5i\\xb5T9iK\\x01f\\x90\\xc7p \\xcf\\x9e\\xb3\\x8fs\\x0c\\xd9\\x98\\xb6\\xea\\x93r\"\\xb9z/\\xec\\xe7\\xa3\\xb0\\xcbr\\xea\\x9e\\x97{,\\x7fmQxs\\xdf\\xcb\\xfa\\xcd\\xf1\\xa9^v\\xd9~\\xdd\\xce\\x91\\xc3\\xaf\\xbb\\xefE\\xfd&Q\\xd7\\x15!c<\\xa6|\\x18\\xb90\\xe4\\x1c\\xdf\\xf7\\xa2~\\x93\\xa8\\x7f\\xbb\\xb8\\xf4\\x8abG\\xabt\\xdb\\xdc\\xf7\\xa2~\\x93\\xa8\\xaf\\x1d\\xbb8K;W\\x8bJ\\xfe\\xd0}/\\xea7\\x89z\\xb3\\xb1\\x92\\x8b\\xbc\\xee\\xbeK\\xc2\\x0eG\\xbd\\x17\\xf5\\x9b\\x9212\\xe8\\xad(\\x9c\\x90}ov\\xb7\\xe1\\xa8\\xf7\\xa2~s2\\xe6*@\\x1d\\xba\\x9a#\\xf4\\xfd:\\xbd\\xf6\\xf7\\xa2~\\x93]7\\x8eRP\\xa9\\x8bb\\x9e\\xa9\\xc0\\x19\\x8ez/\\xea\\xf7\\xa3\\xa8\\xcb*Di[\\xdeB\\x9b;t\\xab\\xc2Q\\x00\\x95R2fG\\xd5\\x1d1\\xdb\\xdd\\xce\\xde#\\xdf\\xa8\\x84\\x95\\xb2\\x1f\\xb3\\xf4\\r\\x97\\xdc\\x86\\xb9\\x9d\\xc1\\'\\xeeR\\x81,\\xd5l\\xdcuS\\x14\\x19>{}W7!\\x1d\\x06l\\xa9\\xe6\\x9c\\x8c\\xd5\\xc7\\xd1\\xcd\\x8e\\xee#\\xe90\\xa0K5\\xb9\\xee\\x12\\xd2^\\xd6\\xecc\\xcc\\xc6\\xa9m\\xb99pX\\x92\\xfb\\x19!\\xdfV\\xe7\\xb4S[#\\x8f[\\xff\\x97pXNC\\x9e\\xb5\\xf4d\\xab*\\x12\\x1f\\x1b\\xb9P\\x05\\xc6T\\x93\\x03\\xdf\\xc7\\xd4\\x8d!#\\xb1\\xed\\xd7\\x04\\x91\\xa1\\n\\x94\\xa9F\\x12Y\\xa7\\xf0\\x15\\xcb\\xe9\\xbb\\x9c\\x18\\xa4\\xde\\xfa\\x01pX\\nY\\xd78\\xb7t\\x05\\x18R%\\xa98>\\x19\\x90\\xa6\\x9a4 \\xf4\\xe3t\\x9b\\xc9N,\\xbdM\\x82:\\x8d\\xc0j&\\xab\\x0e/t\\x05uEt\\xfa\\xc9\\x8d\\x9e\\x0c\\xd9j\\xcaI\\xde\\xb3\\xf43\\xaf\\xc2\\xf2\\x13}\\x1e<\\x0c4 \\xe1U9\\x92u\\x1b\\xce\\xe9WnYl\\x12\\r\\xe2\\xab\\x19\\xb0\\xb6\\x98\\xcd>\\xaa\\xdc\\xc2=7]\\x91\\x8d\\x08kF\\xac\\xeb*P<O@\\xbd\\xd7\\xa0\\xba\\x86F\\x8c5AV\\x07\\xf9\\xbd\\xd4\\xeb\\xcc\\xe9\\xc6\\x84i#\\xc8\\x9a(\\xebpv\\xba\\x9c#\\xcfi(\\x8c\\x9d\\xa4\\xe7\\x84Y\\x13g\\x1d\\xf2Nz\\xb1\\xc4J\\xfcz\\xf0\\xaf\\x04\\x05hY\\x01\\x14\\xff\\xe8\\xb2\\x94\\x8e\\xe9\\xb36\\xcau6B\\xad\\x89\\xb5\\xeeqk-\\xc7\\x94M\\xcf\\x16\\x14\\xe75\\x80\\xad-\\xd1\\xd66\\xa2\\xb7R\\xb7b\\xc7\\xaaP\\xe1\\x90\\x9e\\x03nm\\x89\\xb7\\xca{\\x8e\\xeb\\xfa\\x92\\xd9u\\xb1t\\xca\\xa47\\x00\\xae-\\x13W\\xa35\\xe9f\\xc8\\xe3\\x94\\xdfJI\\xcf\\x06\\xc8\\xb5%\\xe6\\x1a\\xe6\\xc9En\\x8a\\xde\\x97B\\x86 9\\x03\\xe8\\xda2u\\xd5%\\xbet\\xd3-I\\xc5\\xa4 \\xad\\x01tm\\x89\\xba>\\'\\xf9\\xf7Y\\x99l>\\xe80\\x90\\xff\\xfe\"\\xff\\x06Q\\xdb\\x95\\x19\\xd2\\x7f~2\\x90\\xffL^\\xe5\\x19\\xb4\\xa18t\\xac-\\x95B\\x93\\x01\\xe8\\xb5\\xf5\\x9c\\xc6\\x19\\xf2\\xa5|i\\xce\\xe1p\\x1b\\x05\\x03\\xe4?\\xd1W\\xdf\\xbbN\\xe4lyhW1\\r\\xfdL\\xc0\\xafm\\xbcx\\xfc\\xe6H.\\x1b\\x91)\\n\\xf4\\r\\x00\\xc0\\xb6D`\\xcf\\x91\\xd3\"\\x1d\\xd0w\\x181\\x0f\\x99\\x0c \\xb0-!XE\\x0e\\xf7\\x94Y\\x8f\\xa2\\xe5\\'\\x9fC\\x87Q}M\\xf2\\xfbgW\\xd8\\xa6O*\\xdb\\xdd\\xf5E\\xf1W\\x82\\xf8\\'\\x0c\\xdb\\x1d\\xba\\x17\\xc3\\x16]\\'\\x15\\x13i\\r8lK V\\x91\\xc8\\x96\\xbf.\\xa5T\\xf8\\xb66\\x9a\\x0c \\xb1-\\xa3\\xd8!\\x1d*\\xb5\\xce~\\x96\\x82\\xa6J\\xda\\x04,\\xb6%\\x18\\xdb\\x9c\\xf7*r\\x8c\\xbb\\xee\\xcd\\x8b\\xd5M \\xfe\\x19\\xc6*\\xaa<\\xba\\x98\\xb6,\\\\Cn\\xdd\\x00\\xc6\\xb6LcW3#\\x1e\\n\\xe7\\x9b|\\xbcC\\x87\\x01\\x8em3\\x07\\x00mK\\xcd\\xb7K\\xb8l2\\xe8W\\x02\\x91m\\t\\xc9N9P\\xba\\x97\\xe4^(\\xc49\\x95\\x92\\x1f\\r\\x98lKPv^\\xdbk}O\\xfd^E\\x86\\xe82\\x02\\x95m\\t\\xcb\\xea\\xfa]\\xbaJ\\xe4\\x80\\xca\\xcd\\xa8\\x17m\\x19p\\xd9\\x96\\xc1\\xec\\xd6\\xf3\\x14Y\\xc4}\\xe5\\x95-\\x82\\x8d\\r\\xc8l\\xcbh\\xd6\\x14\\xdcy\\xc89v\\x8b@7\\x1b\\xd8lKpVN\\xf6\\x1eE\\x01\\xd3\\x08\\xdd~\\x9d\\xdf\\x19\\x88\\x7f\\xc2\\xb3\\xfd\\xd6]\\x1d\\xce\\x1d\\x07<\\xbb\\xe1;\\x03\\x05H\\x80V\\x86q\\xdf\\xa2\\x98u\\x9fQ\\xe7\\xa6\\x1cb\\x03B\\xdb\\x12\\xa2\\xb5cV\\xcb\\xee\\xaee\\x8c\\xbb\\xd0\\xcd\\x03F\\xdb2\\xa4\\xdd\\x8eZ\\xe5\\xad\\xe8\\xca\\x94\\xaf\\x1dd\\x7f\\x80\\xd2\\xb6\\x84i\\xe5\\xf7\\xcb\\xcd~\\xea\\x06#.\\xb2\\xc7\\x06\\xa0\\xb6\\xad\\\\>\\xac\\x87*r\\xef$#Kw:>\\x19h\\xc0\\xcaU8{DqV\\xc4\\xa5\\x91\\x8dJ\\x88\\x1b\\xc0\\xda\\x96i\\xad^\\xda\\x92\\x9b7\\xef\\xa9\\xfd\\xef\\x98 \\xc0\\xb5-\\xf1Z9\\xcar@\\x9fX\\xc2\\x1e\\x15\\xa5\\x01\\x1b\\x00\\xdb\\x96\\x88\\xedSVR|\\xa7T}\\x89K\\t\\xbc\\x06\\xc8\\xb6%f\\xabwn{&\\r\\x97\\x07:+\\xbaS\\x00m[\\xa6\\xb6\\xdd\\xa5=}\\xdccW\\xfbb\\xa0\\x03\\xd8\\xb6%n\\x1bRGWz\\xb5\\xbd\\x96+\\xb5H\\xce\\x00\\xdc\\xb6Ln\\xe5\\\\K\\x03\\x14\\xe4\\x18#.\\xd4\\x00@\\xb7m\\xe7\\xb2\\x9ci\\xe0\\x1ag\\xce&\\xe7\\x8c\\x8a\\xa1\\x1a\\xc0\\xdb\\xb6s\\x8e\\xdfVC>\\xbb#N}M,\\xc0\\x05\\rH\\xfcv\\xdc\\x1d\\xae$\\xacf\\x93\\\\u\\xd9\\x00\\xe0\\xb6Dp\\xd7\\x0cW\\x89\\xd8\\xfa\\\\\\x85\\x00|\\x18h@b\\xb8\\xa6F\\xb5\\xe8.\\x97\\xc1\\xd0}\\x82\\xfe,@\\xdc\\x96)\\xaeB\\xd5Z\\x14\\xc9\\xf5\\xe1\\xea|J\\x806\\xc0\\xb8-q\\\\\\x19q\\xe9\\xe6\\x90\\xffY\\x97\\xf1\\x01~M\\xd0\\x80\\x84r\\xe5\\x14\\xe8\\xa2\\x93\\x99\\r\\x85\\xe7S\\xf7\\x13\\x1d\\x06\\x1a\\xb0s\\x1a\\xd4\\xf7\\xa6\\xdc\\x96:\\xef\\x1dX\\xa0\\xd8\\x80\\xe6\\xb6\\xc8\\x85:}\\xc9\\xd5\\xbe\\xdb\\xd5\\xcb\\xba\\x85\\xb1:\\x1b4 \\x01]]\\x01\\xdbU\\xa6\\n\\xc6j\\xedX-\\xd7\\x80\\xe8\\xb6\\x84t\\xf5\\xb2\\x1c7=\\xdd#\\xae\\x91\\xa1\\xaf\\tL\\xb7e\\xa8+\\xc9X\\xa5w\\x87M\\xf2\\xfb0\\xa7\\nT\\xb7E\\xae\\xd8\\x99z2\\xc5\\x98\\xdb\\xde#g\\xe1\\x80\\xeb\\xb6\\xc8\\x00 \\xae\\xae\\xbay\\xaa\\xaft*\\xf8h\\x00v[\"\\xbb2\\x8agI\\xd0\\xaal\\xa3L0j\\x13\\xa0\\xdd\\x96\\xd8\\xee\\xb7\\x86\\x19I\\x7fWP!\\xf7\\x9d,\\x10\\xc0\\xdd\\x16\\xb9$\\xf3Jf%\\xf8\\xf2\\xda\\xd6\\x98x\\x05\\x00\\xdem\\x91\\x83`9f.\\x9f\\xab\\xe3\\xeak\\x1ez\\xff@x[B\\xbc\\xba.\\xe7\\x94{&\\xeb#\\xe9?\\x04S\\x1b0\\xde\\x96 \\xefr\\xed\\x87n\\x92\\xd9\\x15\\x07,\\xd93:\\x0c\\x14 a^9\\xb2O\\xd1\\xc6q\\x05\\xa4\\xac-)\\x00p\\xde\\x96@\\xef\\x8c#\\xc7\\xfd\\xea\\x1f\\x1e\\xb7\\x0b\\x11\\x86i@z[F\\xbd\\xf2BW\\x91\\x9d\\xd5\\xdb\\x97{D\\xa6\\x11PoK\\xacWf\\xd6%\\x12\\xe1\\xca\\xb7\\xad\\x90\\x16_\\x19(@\\xa2\\xbds-\\x05\\x9br\\x19\\xab\\xac\\x7f\\xbfD\\x1e\\x1b\\xe0\\xde\\x96yo\\x0cCZ\\x87\\xd4\\xbe\\x861\\xa2\\x06\\xe0\\xdb\\x12\\xf1\\x95\\x1f\\xa5\\x80Z\\xba\\xfe\\xcdnwR\\x00@\\xbe-1\\xdfq\\xdc\\xa6\\xa5\\x9f\\xae\\xdbD\\x96\\x1b\\x83\\x1d\\xc0\\xbe-q_\\xbd\\xad\\xe3pS\\xde\\x99N\\x1a\\x98\\x05\\x05\\xf2\\xdb\\x12\\xfa\\xd5;\\xd3Uw\\x97\\xd4B\\xf7\\x1c\\x96\\x906`\\xbf-\\xc1_\\x19\\x8bQ\\x8b\\x82\\x00yz\\xba\\x801@\\x04\\xfa\\xdb2\\xfeu\\x9fA\\x91\\x86\\xdf\\xe3\\xae\\x1f\\xec\\xfe\\x02\\xfe\\xdb2\\x00\\xde\\xab\\x19\\x84\\x9d;\\xf5\\xd26\\xf6\\x7f\\x01\\x01n\\t\\x01\\xcbV\\x0c\\xc5\\xc1Sb\\xa1\\x90\\x82\\xaa\\xd5\\x1b \\xe0\\x96\\x18\\xf0\\xea\\x8e\\x01L\\xd6f7\\xe5\\xc6\\xc3@\\x012\\x05\\xeez\\xf5e\\x9d\\xdb\\xab,\\xf7\\xc0\\x90\\x0e0pK\\x1c8\\xdc\\xc3\\xa9\\x88b/y\\x8d\\x83\\x93\\x8d\\x00\\x82[&\\xc1\\xddy\\x88P\\xa8\\xa9w7\\x07\\xf6I\\x01\\t\\xee\\x99\\x04\\xef\\xeb\\xb2Y\\xc7\\xe9\\xf2\\x83\\x06q\\xb0\\x0e$\\xb8\\'\\x12l\\xd3?\\xcb8\\n\\x9a\\x9a\\xfdQ\\xea\\xff\\x01\\x12\\xdckV\\x00\\xbd\\xf5\\xe2\\x04Z\\xb85\\x10\\xcf\\x82\\xc6\\xab\\x9a\\xd3\\xa0!C[\\x15\\x04\\xcc3&f\\xa8:\\x80\\xe0\\x9e@\\xf0\\x18\\xb7\\x1av\\xf4X\\xce/\\x91\\xa3\\xd1\\x01\\x04\\xf7\\x0c\\x82\\x15\\x9e\\x1f\\x87\\xd4CN\\x9a\"W\\xb8\\x01:\\x80\\xe0\\x9e@\\xf0\\xe3\\xaa\\xbbJ\\xdfu\\x07Nm\\xd0a\\xd0\\x80\\x95@\\xb0\\xbc\\xb2\\xeb:\\xfd;d\\xd1\\x14\\xf2\\xe3a\\xd0\\x82\\xf5\\x02\\x82\\xab<\\xed#\\xb7J\\xbe\\xc6\\xc2D\\\\\\x07\\x10\\xdck.\\xe8\\x94\\xaa\\xea\\xda<Cj\\xb9\\xb0\\n\\xb3\\x03\\x08\\xee\\t\\x04\\x87K\\xee\\xca\\xed\\nL|s\\xe2\\xcf\\x04\\x10\\xdc\\x13\\x08\\x96;\\xdc\\x1c\\x03,\\xa9\\xff^\\x98\\xd5\\xeb\\x00\\x82{\\xcby\\xa0\\xb1\\xa4M\\xd3\\xcd\\xac\\xf6\\xdc\\xa91\\x0f@p\\xcf Xf\\xd1\\xdeY\\x9b\\x16\\xdcJ\\xd1I\\x07\\x10\\xdc3\\x08n\\xb3\\x85\\xf4|\\xf5#\\r\\xb8\\x15\\x7f&h@\\xee\\xb6UP>\\xe5\\xe9-?V\\xdd\\x94\\x8a\\xee@\\x82{\"\\xc1\\x12\\xfd\\x1d\\xe5(\\x0c\\xae\\xfb\\xe9\\x03\\xa6\\xc3@\\x032\\t\\x1ec:y9\\x9c7\\xd8\\x98\\t\\xed@\\x82{\\xee\\xb9\\x9d\\xb5\\x8e\\xa2@g\\xe8\\xa5u\\xb6\\xda@\\x82{\\xcb\\x1a`\\xddl\\xae\\x93o\\xa3N\\xec\\xba\\xa5\\xb6\\xdbW\\x12,\\xa9=\\xae\\xac\\x8dX\\xd8\\x8f\\xd3\\xa9\\xf16\\x93`\\xc5\\xb1\\xae\\xc8S4\\xec\\xbe#*\\x9e\\xea\\xd8z\\x9b\\xae\\x80\\xb1\\xedP\\xb96oO\\x05\\xeb\\xa4\\xe8\\xd4|\\xdbs\\x1d\\xffxJ\\xe0\\x8e\\xdbSu\\xa3\\x92\\xa5\\xa5\\xf6\\xdb\\x9e\\x8b\\x81\\xb6Q\\xbc;\\xb4t\\xd1\\xa1\\x05\\xa2\\xfe\\xdb\\x84\\x82\\xb7.7\\xf9\\xedzs\\n[\\xa7\\x9e\\x8f\\x0e\\x03\\x05\\xc8-\\xb8\\xf5\\xde\\xe9v\\xe5\\xd8\\xdb\\xe9P\\xf0A;\\xf5\\xe0&\\x14\\xdc\\\\R!\\xa3q\\x15\\xb5\\xca\\xd5\\xa0\\x0ca\\xa7.\\xdc\\x17\\x14l\\xe4\\xb4\\x8e\\x82\\x1d}W\\x8cu:\\xf5\\xe1&\\x14\\x1c\\'\\x9cn<\\xdf\\n\\x95\\x0e\\xdaF@\\xc1=\\xa1`\\xb7\\xc1\\x97\\x90\\x16\\x1c\\xa3\\xe5\\x8b\\xdd\\xe2\\x80\\x82{B\\xc1f\\t\\x0f$\\xd2\\xeb\\x92\\x0bD\\xb5@\\x1dXp\\xcf,\\xb8\\x1fE\\xae\\xb2\\xfe:\\xc7\\x8f\\x87OF\\xdd\\xe7I\\x01\\x14\\xd2\\xdd\\xe2WV\\xe72\\xf8\\xa6\\xc3@\\x01\\x12\\x0b\\xbe\\xf7\\xb6\\xe2\\x9b\\xe4\\xb8\\x13\\xbdS\\xcdY\\x07\\x16\\xdc\\x13\\x0b\\x96K0\\x14 \\xca\\x98\\xcd\\xbd\\xf6\\xa5\\x0ca\\x07\\x16\\xdc\\x13\\x0b\\x0e\\xdf\\x97%\\xe6Sos6%B;\\xb0\\xe0>^\\xca\\x9e{\\x94Uk\\xbd\\xdb\\x03\\x1cP\\xce@\\x032\\rv\\xe2X\\xe6L\\xd7\\xa7\\\\\\xa0\\xc9B\\x0b\\x1a\\x90p\\xf0\\x93N*2\\xfe\\n\\x13e\\x1e\\xd1\\xd7\\x06\\x1c\\xdc\\x13\\x0e\\xbe\\xc3E\\x97c\\xb9]J\\xf1\\x01\\xe1\\x93\\x0e8\\xb8\\'\\x1c,\\x17\\xc3\\x1d\\xac7\\x9c\\xed\\xbd\\x18Q\\x00\\r\\xee\\x89\\x06w\\x05sQ<\\x82\\xa1\\xeaB\\x0f\\xaa-\\xed@\\x83{\\xa6\\xc1\\xdd\\x9d\\xa7&\\xcb\\xba\\xe6|\\x83\\xd2a4\\x80\\xe1\\xa5\\x16\\xa8\\x99\\x85\\x9dh\\xf6D)\\xdb\\xd2\\x81\\x06\\xf7L\\x83C*\\xeeq\\x0e\\x8a\\xc0\\x9eA(t\\x18(@\\xa2\\xc1\\xcb\\xa38\\xe4\\xb8\\x9f\\xea\\x82\\xc9~p\\xcc\\x04(@n\\xd6\\xed\\xba/\\x8b\\xde\\xbc\\xc7\\x14\\x9cC=\\x12\\x1dhp\\xcf\\xed\\xba~S\\xa5\\xba\\xbd\\xc8_\\x13\\x1d*\\xa0\\xc1}\\xbe\\x84\\xc1\\xabJ4\\x14\\x9cII\\x17\\xd5\\xe9u\\xa0\\xc1=\\xd3\\xe0\\xf5\\x94\\x16UY\\xef\\xa7\\xfe\\x9fT\\x13hp_Y\\x01v\\xe8\\x0e\\xf0\\x8d\\xe2\\xde\\xf2E7\\x1d\\xd0\\xe0\\x9ei\\xf0\\xd5\\x9d\\xec\\xce]W\\xdc\\xec\\xa0Lt\\x07\\x1a\\xdc3\\rv\\x89\\x80\\x1cw\\xd7\\x0b(\\xa8h\\xe4\\x9d\\x01\\r\\xee\\x89\\x06w_\\x9b\\xb2\\xafr\\x1a\\xdd\\xd9C)\\xc2\\x0e4\\xb8\\'\\x1a\\xdc\\x9d\\xfc)\\xf3(\\x9c\\x1e\\xbe\\xd3\\xe9,P\\x80\\x04\\x83e_=Z\\xa3V9iWn7)\\x00\\xc0\\xe0\\x9e`\\xb0b\\xcdZ\\xd6\\xbc\\xd3b!\\xbf\\n?&(@\\x86\\xc1\\xdbQXu_\\xeaSu\\x80O\\x06\\n\\x90`\\xb0\\xf9h7Y\\xd3\\xd5\\xa4\\x98\\x13\\xf5\\x1c`p\\xcf0X1\\xb9\\x82\\x80\\xbd\\x9fT\\x15N\\xbf\\xea\\x00\\x83{\\x82\\xc1Ma\\xf4.\\xae_\\x96\\xcfW\\xa9\\xad\\xa3\\x03\\x0b\\xee/,xlyg\\xddP\\xd9s\\x0c\\xf00\\x90\\xff\\xc4\\x82e\\x1a\\xfb6\\xd9_\\x9eO30\\x0f\\x04,\\xb8\\'\\x16\\xec\\n\\x8d\\xa7L@\\xbfq-\\xec\\xc8\\xe8\\xc0\\x82{b\\xc1]?o\\xbbR\\xec\\xae\\xfa\\x94j\\xd3a4\\x86\\'\\xd5\\x03\\xc9\\xd10\\xd7\\\\\\xee\\xce\\x1f\\x03\\x83\\x00`\\xc1=\\xb3\\xe0#\\x99Px2Vk\\x0e+\\xf0\\x03\\x80\\x02\\xe4\\xb6^9T\\xa7\\x8c\\xd1\\xd6\\x8es\\xb1\\xf7\\xab\\x03\\x0b\\xee\\x89\\x05\\xbbh\\xa4\\xb8I\\xb1\\xd9\\xcab\\xabU\\x07\\x16\\xdcsk\\xaf\\xc2U\\x17W\\xdf-\\x9f\\xe5`\\xb3U\\x07\\x16\\xdcss\\xef\\xd9\\xc3\\xf9\\xde\\xc7\\xa1\\x1d\\x07o\\x00`\\xc1=\\xb1\\xe0\\xed8\\xa7\\xac\\x1e\\x12\\xb2\\xb8zwt\\x18h@\\xe4\\x8a8I}\\xe9Ow\\xda6C\\xa4\\xc3@\\x032\\x0b\\x9e\\xf2\\xb0K\\xb8R5\\xdc\\x82GB\\x0b,\\xb8G\\x0e\\x02\\xdcM+k6\\xabG\\xd8\\xe0u\\x020\\xb8\\'\\x18\\xacW\\xb6\\x1c\\x9fTg\\xb6\\xd7 H\\xd4\\x01\\x06\\xf7\\x0c\\x83\\x8f\\xdb\\x0b\\xf4\\xeeu\\x03\\xb8\\xbe\\x02E\\x034\\xe0\\x05\\x067\\x93}\\xc9G(:a\\x87\\n`p\\xcf0x\\xba\\xc1I\\xe2\\x12\\xae\\xba\\xa9T\\x11\\xd7\\x01\\x06\\xf7\\x04\\x83}\\x8b\\xd7\\xe20\\xdf\\xed\\xe8\\x1b\\xc3`\\x80\\xc1=\\xc1`\\xe7\\xcbt\\x05<\\xf3&\\xcf\\xb8xm\\x02\\x0c\\xee\\xb9\\xe7w\\xc6^\\xe5<\\x03\\n\\xe4\\xd3R\\xe3C\\x07\\x18\\xdc\\x13\\x0cn2\\x8b2\\x1b\\xe3\\xb1h\\x87\\x87\\x94\\x01\\x0c\\xee\\xe7%\\x0f$\\xe3(\\xb1\\x90G\\xd5*\\'5\\x80\\x06\\xf7D\\x83\\xdb\\x92\\x92\\x97\\xedO9\\xee\\xae\\xa8\\xe8@\\x83{\\xa2\\xc1\\x9e\\xf2\\xe9\\xdc\\x99gJ\\xe9\\xaa\\xc3\\xac\\x1e\\xd0\\xe0\\x9ei\\xf0r\\x83\\xd3v\\xbd\\x8d\\xc7\\xbe\\xd0\\xdc\\xb3\\x0e4\\xb8\\x9f\\\\\\x11W]\\x94\\xbb\\xafl\\x99D\\x03\\xb3\\xc7@\\x83{\\xa2\\xc1\\xa6D\\xf2\\xf5\\xdc\\xc2\\xb5\\xe4\\x82\"\\xf2\\x00\\x1a\\xdc\\x13\\r\\x96wP\\xdd\\xc7\\xd5\\x87\\x8bH*\\x9am\\xa0\\xc1=\\xd1`\\xcfU\\t\\x93\\xb5\\xe3\\xea:]\\x9et\\x18h@n\\x05\\xf6\\x17,z\\xa6p\\xc7\\xedB\\r\\x00\\x1a\\xdc3\\r\\x96\\x85\\xf5|\\xda\\xab\\x10e\\xc8G\\xc6\\xc3@\\x032\\r\\xbe\\xf2\\x97]vs\\x1c\\x08`\\xbdv\\x07\\x1a\\xdc_\\x1a\\x82[ULWg\\xd4;\\xce%N\\xdd\\x01\\x07\\xf7\\x84\\x83\\xe5`\\xf5Q<\\xfd\\xd1\\xe9\\xb3\\x8e\\xfe\\x19\\xe0\\xe0~sA\\xd0ru\\x8b\\xfb\\xb9\\xba\\xef\\x16\\xfc\\x9a\\xa0\\x017\\xc7\\xc1\\xce\\xf8\\xfa&\\x99n\\xf2\\xe7\\'\\xa3\\x91\\x84I\\x03\\xfa\\xb7\\x9a\\xc4\\xa6W\\xe7\\xa9+\\xa0N\\x03p\\xf0\\xa8\\xb9\"\\xee\\xbaZ\\xd5\\xe3\\x85\\xec \\xe0\\xa4=\\xc0\\xc1\\xa3\\xe68X\\xf7\\xa8\\\\\\xf7!\\xcb}\\xc9\\t\\x1d\\x00\\x83G\\xcdQ\\xf0x\\xa6>\\xdc\\xf9\\xb0x*c\\x1e@\\x83G\\xa2\\xc1\\xe1\\n\\xc9\\xd2\\x8eb3= \\x8e\\x8a\\x1d@\\x83G\\xa2\\xc1{<\\x93\\xfb\\xf4\\x1d\\xaf,\\xf7!\\xa3=\\x80\\x06\\x8fD\\x83\\xf58[\\xf1\\xb9<\\xda\\xa5\\xab!(w9\\x80\\x06\\x8fD\\x83\\xbbkz\\xe5\\xd1\\xd6\\xfe\\xf4\\x0bR\\xeel\\x00\\r\\x1e5\\xb3\\xb0\\xe5I\\xc4\\xd5\\x03\\x87tKQW\\xea\\x00\\x1a<\\x12\\rv\\x19V\\x94cOc\\xcb\\xe3\\xa3\\x1a\\xb6\\x014x\\xbc\\xb4\\x057O#S\\xb4\\xe3x\\xa7R\\xc2}\\x00\\r\\x1e\\x89\\x06\\xf7\\xe5y\\xb6\\n\\xa7\\xef50\\xc5A\\x8c@\\x83G\\x9e\\xb9<\\xee\\xdcn\\xd9?n\\x97\\xa2`\\x7f\\x00\\x0c\\x1e\\x19\\x06G3\\x8b\\x94\\xf4\\xcb\\xd5\\xde\\x97\\xb8\\xda\\x00\\x18<^`\\xb0d\\xb58\\x06\\xdb\\xe3\\xa9<\\xa3\\xc3@\\x01^\\x06/+\\xc4qA\\xa2-\\xf6h\\xfc\\xfeA\\x01\\xfe\\x03\\x0c~F\\xcbm\\x19\\xed\\xd9\\xc9k\\x19\\x00\\x83G\\x82\\xc1\\x9e@5Ku\\xf3\\x9b>\\xc5\\xa5b\\xed\\x010x$\\x18\\xdc\\x8c\\xbb\\x8b\\xfb<j}\\xb2\\x85t\\x18(@\\x86\\xc1n\\xfc\\x94\\xd5\\x08O9\\x9b\\x93\\xaa\\x1b\\x07\\xc0\\xe0\\xd1\\xb2\\x02\\xf8\\x9d\\xcd\\xed\\xe6\\x029\\x8eh\\xce\\x00\\x06\\x8f\\x04\\x83ws9\\xca\\x9c\\xba\\xd5\\xcf\\xc2\\x89\\t\\x03X\\xf0\\xe8\\xb9\\'\\xc0\\x13\\xd5\\x9fZ\\xac\\xb9\\x0f\\xce(\\x1b\\xc0\\x82G\\xcf\\n\\xb0\\x14\\x03\\xe8\\xaa\\x93(c\\x0c<\\x80\\x04\\x8fD\\x82%VG7\\xe6\\x94\\x9b\\xad\\xdfY\\xc9g\\x1c@\\x82G\\xee\\t\\x8e\\xed\\xe8\\\\Qfu[0\\x05\\x87\\x03P\\xf0\\xc8]\\xc1\\xd3\\x87\\x8d}Nx\\xde*\\x8d\\x85\\x18\\x80\\x82G\\xcf\\xb5\\x10\\xdeB\\xe0v\\x98x\\xday\\xf1g\\x82\\xf8\\'\\x14,\\xe1\\xf2 \\x87\\xde\\xb6\\x8d?\\x8e\\x0c\\x1f\\x80\\x82GB\\xc1s>\\xe3\\xa0<\\x13\\xc2-\\x1e|\\x18\\x88\\x7f\\xee\\n~*Uu\\xcc\\xf0\\xb1\\x1bo&\\x1a\\xca\\xfc\\xd2\\x15\\xac\\xc0G\\xd7\\xdc\\x8a\\xe1\\xaa3J)\\r\\x1a\\xcb\\x9cP\\xf0\\xb7!\\xdd.\\xddq`\\x82\\xed\\x05\\x83\\x063\\'\\x14\\xac\\xbb\\xedyg\\xb2\\xd9\\n\\xe8\\x16\\xa5\\xe1\\x06\\x8ef\\xfe\\xa8\\x01W\\x17\\x80\\xa2\\x89\\xa5\\x93\\x0c\\xd6p\\xf84\\rg\\x1e\\xb9\\x1e\\xd4\\x96\\xd1\\x03<=\\xe1\\xfeP\\xear\\xd0x\\xe6\\x84\\x82\\x15\\x12._\\x00\\n\\\\\\x1d\\x06\\xa37K\\x03\\x9a\\x13\\n\\x1e\\x9e\\x81\\xac\\xc3\\xda\\xf1H\\x9fN\\xf5\\x0b\\x83F4\\'\\x14\\xac\\xfb\\xb8\\x0c\\xc3[E`\\xf3\\xc8Q\\xa3\\xc3@\\x03F\\xce\\x83\\xcal\\x14\\x85^}{H\\x1b\\xd5)\\r\\x1a\\xd3\\x9c;\\x83\\xe5HU\\xa7\\xdb=\\x1f\\xef\\x1e\\xf4\\x1a\\x01\\x05\\x8f\\x84\\x82\\xa5\\xdf\\xd3\\xbc\\xc3sn\\x9c\\x8c\\xc3\\xb1\\xdd\\xa0\\x01\\xb938\\xe4\\x1a\\xe8\\xc5)\\xa0n\\xde\\\\@\\x1a\\x00,x$\\x16\\xeca2\\xa7\\xe8,i\\x92n)\"\\xde\\x03X\\xf0\\xc8,X\\xba\\xdd\\x14\\x03Kf\\x8f\\x9b\\xa0i\\x92;\\xb0\\xe0\\x91Xpl]\"\\xfa\\x9d\\xc3C\\x9b\\xdbFE\\x07\\x16<\\x12\\x0b\\x0e\\x05\\xbfE\\x1f\\xb1y\\xca\\xfc\\xc5:\\xa5\\x01,x$\\x16\\xac\\xa8\\xd7\\xb7\\xa6\\xab\\xe5\\x97\\xe2v*\\xd3\\x18\\xc0\\x82\\xc7\\xcc=\\x017\\\\\\x8dr\\x8e\\xae\\x94\\x86Y\\xed\\x01,xd\\x16|\\x14L\\xe8FY\\xedz\\xcc\\x16\\x05\\xd4\\x03X\\xf0\\x98/\\xe5@\\x8a\\xa7=\\xd9\\xd8\\x93\\x84\\x07\\x1e\\x06,x$\\x16<k\\x9d\\xeeI\\xfa6\\xc3\\r\\xb9\\xda\\x00\\x16<\\x12\\x0b\\x1egOo\\x959\\n\\xd0e\\x85\\xd0\\x07\\x02\\x16<2\\x0bV\\xfc\\xbb\\x9eF\\x96\\xeb\\xfb\\t5\\x00X\\xf0xa\\xc1^\\xe32\\x1c\\x80\\xd5k\\xff\\x98\\x0e\\x03\\rH,X\\x17\\xb9K\\xbb\\xe4g\\xadg\\x02\\x0c\\x9dE\\x13\\xfa\\xffc\\x0c \\xaf\\xbdz\\xfar\\xa7\\x11\\x96\\x03X\\xf0x\\x1d\\xe5\\xbc]\\xa7\\xd7\\xea0:\\xa1\\xd1\\xa1\\x03X\\xf0\\xc8\\xc3\\x9c\\xefu\\x16\\xaey\\x1ei\\xe80R\\x00`\\xc1c\\xe5$\\xd0\\x1e6\\x8e\\xf7,\\xaf\\xe0\\xc0W\\x06\\xf2\\x9f\\xfb\\x82\\xaf\\xeb*\\xd6p\\'\\xa9\\'D\\xd0+\\x03\\x14<\\x12\\n\\xf6<\\xa6Un\\x95m\\x94\\xc0.B\\xc1\\x03P\\xf0\\xc8(\\xd8\\x8b\\x16J\\xb8\\xd9>\\xdc\\xafI\\xef\\x1fX\\xf0\\xd8/7\\xc0=\\xee/\\xd8R\\xcf\\x8e\\xb5\\xda\\x03X\\xf0H,8\\xe6Up\\xa8\\xcb<\\xa6\\x075\\xe2\\xdd\\x04,x$\\x16<=)DW\\xf0\\xd3a\\xbc\\xb0\\x8fe\\x00\\x0b\\x1e\\x99\\x05\\xcb\\x00ylg\\\\Oy\\xae\\x04b\\x06\\xb0\\xe0\\x91X\\xb0\\x89w\\x93w\\xf6,\\xdcj\\x13\\x15\\x00X\\xf0\\xc8,\\xb8w7\\x19\\xbb\\'x\\xde\\xb5\\xa8\\x82j\\x00\\x0b\\x1e;\\x97\\xc3IR\\xcb\\x92\\xc9\\x98\\x81M\\xa9\\x03H\\xf0\\xc8]\\xc1\\x9e\\x93&\\xc1\\xb0\\xfb)m\\xa2\\xc7\\x02\\x10<2\\x08\\xf6\\xfc\\x97\\xa2W\\x1f\\x9e\"\\x8fS\\x86\\x06\\x80\\xe0\\x91@\\xf0\\xb1a\\x94\\xb7\\xb2\\xba\\xb79p\\xda\\x0c@\\xf0H \\xd8,\\xa1>9\\xb8h(a@\\x81G\\xa2\\xc0\\xbbN{\\xd9]\\x0e\\xb6\\xbcc\\xac\\x83\\x18@\\x81Gd\\xefgz]\\x96,\\xbfd\\xcd{4\\xe80\\x90\\xfd<\\xea\\xf9iT\\xf3\\x0c\\x13\\xe9\\x12\\xbf{\\x90\\xfc\\x97Q\\xcf\\xd5\\x08r\\xbbS\\xd3d\\x02\\x9f\\x8b\\x16\\xb4$\\xc9\\xbf\\xcb\\xd3\\x1f\\x97\\xb41z\\x1c\\xea\\xed\\x1b\\xc0\\x80Gb\\xc0r7=\\xe9\\xbeO\\xc3\\xd6\\x8b%\\x92\\x03\\x18\\xf0\\x88\\x9c\\xff_\\xc3\\r\\x91\\x11\\x1e/\\x11DZ\\x070\\xe0qr\\x1d\\xdcq\\xe5Z\\xb4\\xa6\\x97\\x8f\\xc6\\x1a\\x08\\xf0H\\x048\\x8e\\xfb\\x1d<b\\xd1[:6\\xd5\\x9a\\r \\xc0#\\x11\\xe0\\xd5\\xbd\\xfa\\xe0Y\\r\\xe6\\xd0\\x04\\xf3\\xff@\\x80\\xc7\\x0b\\x01\\x1e.\\x90|:\\xe8\\xdc\\x90\\x8dO\\x06\\xd2\\x7fr\\xfe\\xc7\\x19\\x037\\xa2*\\x00\\xb6Z\\xd1a \\xfd\\x99\\x00{\\x14J\\xb9\\xde\\x84\\xd1\\xbc\\x0e\\x0f?\\x00\\xc8\\x7f\"\\xc0\\xbdys\\xd9\\xb7\\xa1@nz\\xc6\\xa5B \\xff\\x89\\x00G\\xf3\\xfa\\xb9-\\r[\\xd3\\xb4\\x1b?\\x00\\xad(\\xca\\xf9\\x1f\\x19\\xc32\\x1dNx4\\x01\\xe6\\xcc\\x80\\x00\\x8fD\\x80\\xb7\\'\\xe9}[\\xbc\\xa3\\xa3\\x06\\xba\\x8b@\\x80\\xc7\\x0b\\x01\\xde\\xd55E\\xf5\\xea.\\x91\\x8bG\\xca\\x04\\x04x$\\x02,\\xd3\\x13\\xd7\\x0b\\xdf\\x9ev\\x07N\\xc0\\x01\\x01\\x1e\\x89\\x00\\xbb\\xab\\xbb\\x17\\x97\\xa0{\\xd9\\x14\\xaeP\\x1a@\\x80G\"\\xc0\\xcf\\n\\x9fR]nf\\xd2\\x8d\\xd6\\x0c\\x08\\xf0\\xc8\\x04x\\xb8\\x1fx\\xbb\\xaf\\xc9%]T\\xa17\\x80\\x00\\x8fL\\x80\\x879\\xebxf\\x8c\\xef\\x8d\\xc3\\x97\\x07\\x10\\xe0\\x91\\x08\\xf0\\x9eW\\xbe\\xbf\\x1c\\xd9\\xad\\x10\\xbbb\\xb1\\xd3\\x00\\x02<rC\\xb0\\xce\\xf0j47v\\x8c\\xbf\\x93\\xe6\\x02\\x02<2\\x01\\xf6x\\xbf\\xe2\\xb4\\xb8+Z6\\x06L@\\x80Gn\\x08\\x96\\xa5\\x0e_\\x9ac>\\xc3\\x17pO\\x17-\\xea\\xca7\\xc0\\xbd\\xb6\\xdb\\x9eq\\xdc\\x9d\\xec\\xa5\\xc3`WW\\xcd\\x04`\\xcacy\\xb2?\\n1+\\x81\\xbe\\t\\x0cx\\xd6\\xffH\\x00\\xbcKN\\xd7f \\x9b\\x9e\\xc0\\x80gb\\xc0[\\x82\\xb6<\\x15h\\x0csC*8\\x9e\\xc0\\x80gb\\xc0\\xcf\\x8bw\\xdd\\x88\\x0e\\xad\\x03\\xa9\\xe1\\x04\\x06<\\x13\\x03>\\x9e\\x90\\xe0BDY\\xf3\\xf0\\x8f\\xa5\\xc3`kW\\xee\\x08n\\x1e\\xb3(G\\xf6Jl\\x0f?\\x18\\xac\\xedJ\\x08\\xd8\\x03\\t\\xdc\\xaa\\xec\\xe5Anb\\xa7\\x15`\\x80\\x80gn\\x08\\xf6>M\\xa7l\\\\\\xd9\\xdeq\\x00\\xe1\\x04\\x04<\\x13\\x02\\xd6\\xdf}\\xcb\\x18\\xc83\\x93\\xe1&\\xab=\\x01\\x01\\xcf\\x8c\\x80\\x9d,{\\x9a\\xde\\xaeb\\x89\\x86;\\xc5\\x00\\x01\\xcf<\\x19\\xba\\xc9\\xef/7\\xaeS\\\\\\x1b/\\xf4\\t\\x0cx\\xb6\\x97\\xf0\\xb7zj\\xbbc\\xaf\\xed\\x95ut\\x18(@b\\xc0\\xde\\x169\\x8a\\x07\\xd6M\\xd7\\xf0\\xa3h\\x00\\x03\\x9e\\x99\\x01+PR0\\x1d^\\xb03\\x145\\x916\\x01\\x03\\x9e-\\x87\\x00\\xed!\\x1d\\x86\\xf9[\\xfe6.\\x0b\\x04\\x05\\xc8\\x0cx\\xcb\\x8eyb\\x9a\\xc5\\x82\\xcb\\xc7\\'0\\xe0\\x99\\x18\\xb0\\xfb:\\x9e\\xeeb\\xfd\\xc4z\\x90[M`\\xc031`7\\x0e90?V\\xa7\\xce\\xcb\\xf9\\x80\\x01\\xcf\\xcc\\x80ev\\xbc\\x85\\xcb\\xed\\xc5mc4=\\x81\\x01\\xcf\\xc4\\x80\\x9d\\xf8\\xfc\\xb6\\xb5\\xc0\\xd1\\xe1Fu\\x02\\x08<3\\x04n\\x8e\\xe8\\xdc\\x93\\xe7\\xb6\\xb0A\\xd5~\\x13 \\xf0\\xcc\\x10\\xd8\\x99\\x07\\x8f\\xc5:S\\xb2Vq\\x8f$`\\xe0\\x99\\x1b\\x82\\xbb\\xe7\\x85\\x0c\\x1bF\\xb9\\xf0\\x8d\\x86\\xe9M\\xc0\\xc03c\\xe0cp\\xbeB/\\xac\\xf7\\xdb\\x88\\xdcN\\xc0\\xc03\\xaf\\xe4]\\xe7<\\xb5\\x9b\\xaeI_\\xd8D=\\x01\\x03\\xcf\\x8c\\x81\\x87\\x17fV\\x9d\\xd4\\xf4M/\\xad\\x8d\\x9b\\x80\\x81g\\xc2\\xc0\\x8es\\x9e>57\\x8b{\\x05\\x0f\\x1d\\x06\\x1a\\xd0s!\\xe8\\x1e^i!W\\xc8\\xe5y\\x14\\xb9N\\xc0\\xc03\\xaf\\xe6\\xadrC\\xbdw\\xc5m\"\\x86:p\\x18`\\xe0\\x991pmC\\x01\\xba5@\\x8e\\x1aN?\\x9a\\x80\\x81g\\xc6\\xc0N\\xcc\\xca\\x04\\x8d-GC\\xaf\\x8d\\x14\\x1d0\\xf0\\xcc\\x0bzO}\\xb2\\xf6^\\xd1\\xebt(\\xfeLZZ\\x9a\\x03\\xe1\\xf0@\\xd5\\xe9\\xfc[\\xf7Nq:\\x0c4 a\\xe0\\xb3\\xdb\\xf14\\xc9\\xabx\\xffi.\\xa0\\xc3@\\x03\\xf2\\x9a\\xdes\\xfb*=\\x1c\\xd0\\xd9s\\xa4{\\x130\\xf0\\xcc\\xd3\\xa1\\xefs\\tO#\\xf4\\xab \\x1d\\xf7\\xbc\\x82\\x06\\xe4\\x8e\\xe0\\xee\\x10\\xbd\\x1b4Mgp\\xf0k\\x82\\x06\\xe4\\x8e`]\\xe2\\xc7\\xe3\\xa7d\\xd6\\xbc\\xcb\\x9b\\xce\\x02\\x05\\x18/Q\\xc0\\xf1\\xbe\\xe5\\xf06v\\xef\\x17\\x87\\xc3h]o\\xa2\\xc0\\xcb\\xe3\\xef\\x9c\\xd7\\xabr\\xda/\\xbbg\\xb4\\xb17Q\\xe0\\xa3\\xb7\\xe5)\\xd8Q\\x9fU~\\xf4\\xc6heon\\x08\\xae6\\x8dn\\x07\\xab^xM\\x95\\xe8\\x93\\x96\\xf6&\\x08,\\x1f\\xea\\x19\\x96\\x10\\xcd\\xebU+\\xa5\\x0e&\\xae\\xed\\xcd\\xad\\x00\\xc7c{=:\\xd3\\xd7\\xf0\\xc5\\xc3@\\xfe\\x13\\x04v&UO\\xe6-\\'\\xad\\xddCxz\\xd2\\xea\\xde\\x04\\x81\\xf7\\xf5\\xfe\\xf3\\xadx\\xeeY.\\x8dg\\x81\\xf8\\xe7\\xe9\\xd0\\xe1\\xf0\\xd0\\xc5\\xc1\\x1e\\x06<)C;i{ob\\xc0\\xae[he?\\x01\\xbag\\xc9\\xa0\\xc8\\x82\\xfc\\xbf0\\xe01{\\xd9\\xc7{\\x80\\x15\\x89\\xa1\\xa7\\x07\\x0cxf\\x06\\xac`\\xa7<[\\xb9\\xdd\\xa3\\xb0\\xa8\\x0ce\\x02\\x03\\x9e\\xb9\\x1fx\\xb5\\xd3\\xcb\\x83\\xd2\\xe2,\\x942@\\xc03!\\xe0\\x1e\\xcf\\x88-\\xc5uG7\\xd3\\xc4\\xdb\\x1c\\x10\\xf0L\\x08X\\xae\\xe7=\\x1e\\x0bw\\x1e\\xe5\\xa4\\n\\xe1\\t\\x08x\\xe6\\xe1\\xd0\\xf2\\xef<\\x84|\\xd5\\xed\"m2\\xb2\\x80\\x80gF\\xc02\\x86\\xb5x\\xf0\\xdaq\\xb57\\t\\x19\\x10\\xe0\\xb9^\"\\x007\\x0f\\xe9\\x1ci\\xbb\\xc7\\xdf\\xd1a \\xfe\\x99\\x00\\x87\\xf7|\\xbb=M\\x1e\\x82\\x97\\xea\\xd0a \\xfe\\xb9\\x1bX_\\xd1\\xad\\x95\\x9e\\xa0T\\x03\\xd9\\xe8\\x04\\x04<\\x13\\x02\\xd6\\xefk\\xde\\'*\\x0b\\xa7\\x1b\\x00\\x07rL@\\xc03#\\xe0\\xedl\\xaf\\xf9\\xc9\\xf5\\xbeF*\\x9c\\x9a\\x80\\x80gB\\xc0\\x12{\\x87\\xad\\xfa\\x8d\\x9e|\\x87mM\\x13\\x10\\xf0L\\x08\\xf8\\xb8\\x1b\\xbey\\x82\\xcc\\x95\\xcd8\\x98Q\\x02\\x04<\\xf3j_\\xddp\\xb7\\xb8\\xce\\xbe\\xf6\\xed\"\\x01:\\x0c\\xe4?!`\\xbd\\xad\\xe1U?rY\\xa6\\xf7\\xe8\\x92h\\x00\\x02\\x9e\\x19\\x01{\\x8fE\\xb9\\xdbkE=\\x04\\x15\\x0f\\xa3\\xd5\\xed)\\x02\\xf0Z\\xb62\\x8f\\xdc\\xd2\\xb5*6\\x02L@\\xc03\\xaf\\xf8\\xd5\\xa3)\\x028\\x9e\\xe5\\x10v\\x93\\xe90\\xd0\\x80\\xdc\\x0e\\\\\\xa7\\x07\\xa2x\\xeaB\\xdd\\x0c5\\'@\\xe0\\x99!p}\\x10E\\xf7\\xfc}\\xf9@t\\x99\\x00\\x04\\x9ey2\\xb4\\x82.\\x05\\xe7\\xa7\\x1aO\\x0c,\\xc2\\x9a\\x00\\x81g\\x82\\xc0\\xe1\\x0e\\x802\\xec\\xccVo\\xb6\\xa6h\\x02 \\xf0\\xcc\\x93\\xa1\\x9f\\x85F\\xd7\\x85~\\xf2e\\x03\\xe3i\\xe0\\xc03w\\x03?3\\x1c\\x86g9\\xb7;p\\xf5\\xf3\\x04\\x0e<s7px\\xd9\\x86\\xeb\\xea<H\\x15\\xebF&p\\xe0\\x99\\'C{DZ\\xf1\\xce\\xa0\\xfa-\\xabG\\x87\\x81\\x02d\\x12\\xfc\\xff\\xef\\x02\\x06\\x10<\\x13\\x08\\xd6\\xab\\x9a\\xaeu\\xaa\\xe1yV\\x15\\xf3\\xe3\\x00\\x82\\xe7\\x0b\\x08\\x9eV\\xf3\\xe3R\\xe3\\xd3\\x10\\xd1M\\x00\\xc137\\x03\\xbb\\x13\\xa3\\x84\\xfb\\x86\\xc2\\xf1\\t\\xbd\\x7f\\x00\\xc13\\x83`\\x85\\xe6\\xcb\\xb3l\\x87\\xab\\xf79q\\t(x\\xe6f`\\x17\\x98\\x95\\xe9\\x95\\xe5\\xfb\\xfe\\x9dd/\\xa0\\xe0\\x99\\'C\\xeb\\xd7u\\xefG\\x92\\xf7\\xee%f\\xf4\\x01\\x00\\x05\\xcf\\x8c\\x82w\\x93\\xd3\\xa8\\xa0\\xcc\\xc1\\xd3\\xa4\"\\xac\\t$x\\xbe\\x0c\\x86^\\xc3g\\x8d\\x18\\xeb\\x06\\xf6\\xfbL \\xc1\\xf3\\xa5\\x178\\xb6\\xdbM\\xdc\\xf8)\\xb5\\xe2\\xc3@\\xfe\\x13\\tv\\xad\\xe6x\\xbc\\x16\\x7fP\\\\\\x8e:\\x81\\x04\\xcf\\xdc\\x0b\\xec1\\xb6EB!\\x1b\\xe4\\xd1\\xd5\\xf81A\\x01\\xf2dhy\\xd8[N\\xbb\\x9b\\x9e#\\x0eU\\xb5O \\xc13\\x91`\\xc5\\x03\\xba\\xe7\\x14\\xe6\\xc4\\x90\\x9c\\x05&\\r\\x80\\x04\\xcfD\\x82]\\xfcyJ\\x95#\\xba\\x15i\"\\xa3\\x9e@\\x82g\"\\xc1\\xc7\\xdbw\\xdd;\\xe1\\xeal\\xdc\\xc25\\x01\\x04\\xcf\\x04\\x82\\xa5\\xf4\\xba\\xe6\\xa6\\xa9m]\\x1dw\\xedM\\x00\\xc1\\xf3e/\\xf0\\xb38\\xeb\\x0c\\x05\\x00O>\\x83\\x0e\\x03\\x05H X\\xc1\\xbdK>\\x8e=vy\\x07\\xa4\\x98\\xc0\\x81g\\x9e\\x0b\\xad\\xf7d>\\xe4*\\xdci\\xdf\\x96\\x0e\\x03\\xf9\\xcf\\xcb\\x81\\xf5\\x03\\xbd\\xbc\\xda\\x81\\xbe\\xdb\\xf4\\xe9\\x9a\\x03\\x0e<s\\'\\xb0;Ct\\x99\\xdc\\xe5\\xee\\xf5\\x86\\x19\\x08\\xe0\\xc03q`\\xd9\\n\\'\\rt\\xa4\\xc7a\\xe14\\x88\\t\\x1cx\\xbe\\x0c\\x86vP^d\\xac\\x15\\xd8y\\xd5\\xc3\\xfb\\xc3\\x16p\\xe0\\x958\\xb0Q\\x87~\\xe6\\xaa\\x9e\\x7f}0\\x9d\\xb7\\x80\\x03\\xaf\\xdc\\t\\xec%W\\xe5Y\\xdd~\\x9e\\x1d\\x08t\\xd8{\\x05Xy0to\\x1e\\xe7\\x1f\\x9eM/G\\x8b\\x86^,\\xe0\\xc0+s\\xe05\\\\#\\xe6\\x04DmA%\\xed\\x0b0\\xf0\\xca\\x1b\\x82c\\xc9f+\\x9a\\x8e\\xeb\\xfc\\r\\x99\\xd9\\x05\\x18x\\xe5\\xc1\\xd0\\xcd\\xae\\x81B\\x89\\xbd\\xf4\\x88\\x95*\\x04\\x16`\\xe0\\x951\\xf0\\xb8\\xae\\xebR\\x90\\xe7!\\xa3\\x83\\xee\\xb9\\x05\\x1cx%\\x0e\\xackry\\x90\\xe7\\xf0xP\\xef\\xfc\\xa4\\xc3\\xde+\\xc0\\xca\\x1cX\\x9e\\xcaR\\x08\\xecM\\x9f\\xba\\xd1\\x89\\x01,\\xe0\\xc0+\\x0f\\x86\\xee&W[\\xae\\xd4\\xb7R8\\xd0\\xa6\\x05\\x1cx\\xe5\\r\\xc1\\xb2\\x89\\xad\\\\O2\\x7f\\x86\\xf8\\xe0a\\xa0\\x00y0\\xb4\\xc7\\x12_\\xdb\\x8cj\\x0cL\\xb0o\\x01\\x07^\\x99\\x03\\xd7\\x1e\\xcd3v\\x977\\x8eM\\n\\x01\\x16p\\xe0\\x95{\\x81\\xbb\\x0e*\\x9eI\\xd9\\xa7\\xf7\\xf3\\xd0Y\\xa0\\x00-C\\xb0\\xd5\\xeb\\xb3\\xd4q*\\x06\\xe8\\x84\\xe7\\x16`\\xe0\\x95[\\x81\\xe5\\xa8{\\x13\\xf8\\xee\\xae\\x86S\\xbcO\\x87\\x81\\x02d\\x0c,\\xc3X\\x8b\\x17j:\\x0f\\x81!\\xc0\\x02\\x0c\\xbc2\\x06Vl\\xaeW\\xa6\\x10l\\x9f\\x89\\x0b:\\x17P\\xe0\\x95\\x17\\x04{\\xb0hy*\\xf7\\xdd\\xaaI\\x8a\\t\\x10xe\\x08\\xfc,\\x00\\xf1\\x14\\xff\\xed\\x1e\\n\\xaa\\\\X\\x00\\x81W\\x82\\xc0\\x12zw[\\xc9\\x01\\xea\\xcb\\x9b\\xc0\\xc9\\x98\\x01\\x04^\\t\\x02\\xcf\\xb9\\xf63\\x157\\x86B\\x81N\\x0e\\xd0\\x02\\x08\\xbc\\xf2T\\xe8+;V\\xee\\xe3mT\\x1e\\xae\\xb5\\x00\\x02\\xaf\\x0c\\x81\\xe5\\x11\\xecR\\xf7s\\x93{\\xa5\\x08\\x1d\\x06\\xf2\\x9f \\xb0\\x8b\\x96\\x8b\\x0c\\xac\\x1c\\x96g\\x9e\\x1e8\\xa0\\x0b \\xf0J\\x108<\\x8b\\xc0\\xe1\\x84\\x9d)O\\x0c\\xa1\\xc3@\\xfe\\xf3\\x86`\\'\\xb1\\x9f5\\x80\\xb1<,\\x10\\x7f&\\xc8\\x7f\\x82\\xc0:a\\x14Cn\\x0f<j\\x93\\\\\\xe3\\x05\\x10x%\\x08\\xfc4\\xc0\\xd8\\x9drC\\xcdE\\xa0\\xb9\\x00\\x02\\xaf\\xdc\\x0b\\xec\\xf9\\x03^\\xea\\xe8Q\\x04\\x87\\xb2\\xf6\\x0b\\x18\\xf0J\\x0cX~\\x7f{\\xfc\\x1f\\x83\\x85\\x8a\\xeb>\\x170\\xe0\\x95\\x19\\xb0s\\x18\\x8a\\x00\\xaek\\xf7\\x9d\\x89\\xa3\\xc3@\\x01F\\xb6\\xff\\xd5\\xe3\\xf7}c\\xce\\xbaq\\xe2\\xc2\\x02\\x06\\xbc\\x12\\x03\\xde\\x8e\\xa6\\xcf\\xf1\\x1c\\x9a\\xe5\\t\\xa3\\xf41\\x81\\x01\\xaf\\xcc\\x80\\xfb\\x18^\\xc3\\xe8\\x823oO\\xa7\\xb3@\\xfe3\\x02\\xdeS\\xd1\\xc4\\xd0;\\xbb\\x8a%\\x82Rp\\x0b\\x10\\xf0\\xca\\x08XQ\\xd3,\\xc3\\x0f\\xb6=1\\x16_\\x19\\xc8\\x7fF\\xc0\\xfa\\x99\\xd5\\xc3b\\x9b\\x87\\xee\\xe0\\x02\\x90\\x05\\x08x%\\x04\\xbc\\x9e\\xd1Z\\xd7\\x03\\xdc\\x86\\xa7\\x97\\xa0\\xcc\\x82\\xfc\\xbft\\x02\\xcb\\xb7p#\\x98\\xdc\\xbf3\\xd9i\\x04\\x06\\xbc\\xf2\\x8e\\xe0\\xf04,\\xef4\\xf2\\xf6P\\x14Y@\\xc0+\\xcf\\x84\\xf6\\x9cjO\\x89\\xba\\xcd\\xa5\\xbd4\\xd8i\\x01\\x03^\\xf3%\\x00\\xe8N\\x1aL\\x7f\\xcc\\xc1N;0\\xe0\\x95\\x18\\xb0B\\x88\\x902UE\\xad{\\x07\\x8e\\x8fY\\xc0\\x80Wb\\xc0R\\xfa\\xe5\\x1bx\\xbb\\x18}c>{\\x01\\x03^\\x89\\x01\\xb7\\x90\\x06\\x15\\x979\\xb9\\xe3pS\\nt\\x01\\x03^\\x89\\x01K!\\xe7,Ng\\xeb#\\xc7&\\xa0\\xbc\\x00\\x02\\xaf\\x04\\x81\\xa3\\xdbf\\xd7\\xa7\\x12\\xb7{`;\\x1d\\x06\\n03\\x05{\\x86\\x8f\\xcb9\\xae\\xbeL\\xa8\\xa9u\\x01\\x04^\\t\\x02\\xdf\\xd3-g\\x0e\\x01b_L\\xb5/\\x80\\xc0+A\\xe0.WA\\n\\xd0\\xf5\\xce\\x9a+q\\xe9\\x06\\x00\\x08\\xbc2\\x04\\x96EtW\\xf1\\x89\\x90\\x17\\x1a\\xa8\\x9a@\\x81W\\xa2\\xc0zW\\xde\\x03;u\\x9e\\x11:\\xf5..\\xa0\\xc0+S\\xe0\\xe5\\xf6\\xad\\xe8\\xed\\xdb8\\x02\\xf4\\x8d\\x81\\x02\\xafL\\x81%\\x0e^*\\xbb\\x9dj\\xbc\\x81\\xd79`\\xe0\\x950\\xb0|\\x96\\xf9@\\x00\\x89X\\xe5\\x8a\\xe3\\x05\\x1cx%\\x0e\\xac\\x97eO\\xbb\\xdbj\\xb8(\\x11\\x9f\\x0c4 O\\x85\\xae\\x06\\xd4\\xed\\x99Qq\\xfeN\\xaa\\x058\\xf0zY\\x11<t\\x9f\\x9bZI\\xd5\\xbd\\xbb\\x95\\x0e\\x03\\rX\\xb9\\x0ch\\xeeb\\xb7\\xe0\\xeaz\\xf2l88\\x0c8\\xf0\\xcaS\\xa1\\x157\\xf9\\xda\\xf4\\xda2\\xd3&\\x12\\r\\xe0\\xc0+q\\xe0\\xf9,N\\x1c\\xa7]K\\xd9@\\xe3\\x08\\x1cx%\\x0e\\xfcm\\xcd\\x86n\\xa6{N=\\x0bu\\x138\\xf0\\xca\\x1c\\xb8UC\\x9d^\\xddcs9\\xa3\\x04\\x1cx\\xed\\\\\\x0b}\\xbd UA\\xfa\\xb4\\x7f\\x86\\xd19p\\xe0\\x958\\xb0\\xae\\x97-\\xb7\\xbd{\\r\\xa3\\x82:L)\\x01\\x07^;c0yy\\xae\\x04\\xed\\xdb{W1\\t\\x01\\x1cx\\xe5V\\xe0p\\xb2\\xdd\\x9b;\\x14\\x879\\xb1D\\x87\\x81\\x06\\xe4V\\xe0g\\x8e\\xadkg]\\xdc\\xde\\xa9\\x10n\\x01\\x07^\\x89\\x03\\x0f\\xefb_\\xb2\\x18M!,\\xaf\\x01\\\\\\x00\\x82W\\x02\\xc1^\\xff\\xed>\\x91\\x1br\\x91\\xa5M\\xf45\\x01\\x04\\xaf\\x04\\x82\\xe5QI\\x9dj\\xf3\\xecY\\t\\x06~\\x00\\x00\\xc1+\\x81\\xe0\\x11\\xd3\\x15\\x92w\\xf7\\xe1\\x88\\x98n:\\xe0\\xc0+\\xf7\\x03_\\xef\\xdb\\x1eN\\x1a\\xcb\\xdb\\xeb4\\xd8`\\x01\\x07^\\x89\\x03w/?+.\\xdct]\\xd7A_\\x0f8\\xf0J\\x1cx87\\xae{\\xd35]uP\\xbd\\xf1\\x02\\x0c\\xbc^0\\xb0\\xe7\\x97\\xb8\\xdd\\xe1x\\x88\\x15j&p\\xe0\\x95\\x1b\\x82\\xe5\\xc8\\x86\\xebm\\xb6\\x97\\x02P\\xdb\\xe7\\x02\\x0c\\xbc\\x12\\x06\\xd6\\xaf;\\xcdE\\xbdgyo(:g\\x80\\x81Wd\\n6\\x9f\\x8d\\x1d\\xc737\\xd13\\x00\\x08\\xbc\\x12\\x04\\xf6\\xfe\\xef\\xe3\\xd1\\xa2U\\x8e\\xf1\\xc2\\xc5H\\x0b \\xf0J\\x10\\xd8\\xdb0\\xccm\\xbdQgJ\\xc8\\xe8G\\x02\\x04^y\"t?\\xde\\xdb\\xea\\xc2\\x05\\xef\\xb5F\\xcf\\x00 \\xf0\\xca\\xeb\\x81\\xc7r\\x19\\x8a\\xc3\\xfcz\\xef\\xa6\\x01z\\x0b(\\xf0\\xca\\x14X\\x0f\\xe5\\x9a.w\\'\\x1c^\\xf5\\xb9\\x80\\x02\\xafL\\x81\\xddiU<6\\xa3{9\\x18\\xe6 \\x80\\x02\\xafL\\x81\\x87G\\x95z\\xde\\x9dW\\xa6T4\\xb2@\\x81W\\xa2\\xc0.\\x8dw\\xa3\\xb2\\xdc\\xbc\\xbe\\x03\\xc1\\xd5\\x02\\n\\xbc\\xf2D\\xe8S\\x97\\xecbW\\x04`/\\x03\\xf3f@\\x81W\\x9e\\x08=\\\\\\xee:t[\\xee\\xa98\\x1d\\x93\\x10@\\x81W\\xa2\\xc0\\xee]\\x9f\\xcf\\xfe\\xa1\\xeb\\x85?D\\x0e\\x17P\\xe0\\x95\\xf7\\x03\\xeb\\xd6\\xad\\xee;?\\xdbA\\x1dzS\\x80\\x81W\\xc2\\xc0\\xf1\\x0ck?\\xb5zq\\xa8Ba\\xd2\\x00\\xc0\\xc0+c`\\xe7\\xb8\\x8a\\x97c\\xc7\\xf2\\xda><\\x0c4 \\xf7\\x03?\\xb9\\xc6\\xd9\\xbb[5=\\x92\\x83\\x0e\\x03\\rH\\x1c\\xd8[\\xb1ef\\xbd\\x82\\xd4=Dx3\\x01\\x07^y\"\\xf4\\xf4\\xbas\\xbd4\\x17\\xa4LN\\\\\\x02\\x07^\\x89\\x03G\\xd8i\\x97\\xb7b3\\xabx\\x02E\\x034 \\xf7\\x03\\x8fg\\x1e\\xdc\\xf1\\xae\\x87\\xe5}\\xe7t\\x18h@\\xe2\\xc0\\xcb#\\xfd\\\\V\\xeaqE\\x15#\\xea\\r\\x1cx\\xe7\\x05\\xc1^\\xfcTd\\x81\\x9eZ1,Q\\xda\\xc0\\x81w\\xe2\\xc0\\xc3S\\x9d\\x9e\\xddl\\xe1rK2A\\x1b8\\xf0\\xae\\xb9\\x10Bn\\x81\\xd4\\xc9\\xb1\\x8e\\xc7\\x0b\\x81\\x07\\xba\\x81\\x03\\xef\\xc4\\x81\\xa7w\\xd6\\x97\\xee\\xdf\\xc8\\x83/6`\\xe0\\x9d0\\xf0qY\\xfcS\\x87u\\xf6\\xd3[@\\x87\\xbd\\x97\\xff\\x9d0\\xb0\\x1b\\xde\\x9eu\\x11\\xcf\\xb4j*\\xb6\\xd9@\\x81w\\xa6\\xc0\\xee5/\\x1e;%\\x15p35\\x1d\\xf6^\\xfcw\\xa2\\xc0n\\xda\\xaa~aR)\\xa2\\xb6\\x1b\\x10\\xf0\\xae/\\xb2\\xdf\\xdc\\xd2!\\'[r\\x8bA\\xe6\\x06\\x04\\xbc\\xf34\\xe8\\xe5\\xd5C\\xf6\\x1a\\xe7Z\\x1d?$\\x10\\xe0\\xfd2\\x0cZ>\\xacD\\x7f\\xfa+z\\x95\\x1d\\x1d\\x06\\xa2\\x9f\\x87A\\x9f\\xb9\\xb7\\xfcE/\\x9a\\xef\\x1e\\xbcL\\x87\\x81\\xe8\\'\\x02\\xac@\\xc9.\\x9el\\xcf\\xd9FC\\xe0\\x17l \\xc0;\\x13\\xe0\\xe5Q\\x88m\\xcf=\\x9f5\\xd4x\\x18\\x08\\x7f\\xcb5@k?\\x9dC.4\\xf0\\x08\\x13:\\x0c\\x84?#\\xe0\\x19~2\\'n$\\xb48\\x8br\\x03\\x02\\xde\\x19\\x01;\\xb0,R\"\\x8f\\xf2\\x19\\x9d<\\x96\\r\\x08x\\xe7\\xd5\\xc0w\\xcb\\xff\\xec\\xc7M5f\\xf0\\xf8\\xce@\\x01\\x12\\x03\\x96&\\x1e\\xcfh\\x0c\\x97SlL\\xf4n\\x80\\xc0;A`\\xddH\\xc7\\xc6_\\x9f\\xb3\\xbb_\\x99>\\x00@\\xe0\\x9d \\xb0]\\xd9\\xf0\\xfe\\x16;\\xb2\\xba\\xd0\\xe9\\x03\\x00\\x04\\xde\\x19\\x02\\xcbL\\xcb\\xff\\x1fr=\\x1cN\\xd0+\\x03\\x06\\xbcs#\\xb0\\xc7\\x99=k\\x86\\xb7\\xbb\\xfb(c\\xb3\\x81\\x01\\xef\\xc4\\x80\\xe7\\xa3\\x00\\xb56\\xb7\\xd5w\\xc4\\x86\\x1b\\x18\\xf0\\xce\\x8d\\xc0-\\xd6\\xb2\\xc32\\xc3\\xff\\xa2\\xfa\\xf8\\r\\x0cx\\xe7F\\xe0\\xe6\\x94\\x99\\xc7\\xaa8f\\xa2\\x9c\\xf1\\x06\\x04\\xbcs\\x1fp\\xf3\\x92U\\x8f\\xa3\\xf4\\x80K\\x1c\\x1e\\xb9\\x01\\x01\\xef\\xbc\\x19X\\xee\\x80\\xbb \\xa7\\x02\\xe0\\x8b\\xc3\\x036\\x10\\xe0\\xdd_\\xbc\\x7fw!5\\xcf\\'\\xf5\\xba>\\x142\\x10\\xff\\x17\\x02\\xdc\\xe5|\\xea\\xd5/\\xf3QTr \\xc0;w\\x01\\xafa\\xce\\xe4\\xf5-M?\\x94,6\\x00\\xe0\\x9d\\x01\\xb0b\\x91\\xf1,\\x16\\xd0\\x97\\xfc;\\x17\\x13\\x00\\xe0\\xfd\\xd2\\x04|\\xdb-\\xcfR\\x1e\\x05\\xbf\\xd8\\x84\\xb7\\x01\\x00\\xef\\x04\\x80\\xdd\\x04\\xe9MM.\\x8d\\xf1\\x16G\\xf0c7\\x00\\xe0\\x9d\\x00\\xb0\\xf7pz\\xb0\\xbd\\xd3\\x95\\xa1\\xd7O\\xd2\\x0f\\x04x\\'\\x02,\\x0fJ\\x06C\\xdf\\xd2\\xd3\\xe8cP$\\xb7\\x81\\x00\\xefL\\x80\\x8f\\x1b\\x17\\xef\\xd67\\x95_\\x8c-\\xdd\\x1b\\x08\\xf0\\xce\\xb3\\xa0\\x9f\\xd5\\x1aq\\xdc\\x8c!G\\x9e\\xc5\\x0c\\xe4?\\xcf\\x82\\x9e\\x12}\\xe9R\\xb3\\xc7\\xe8\\xfa$:\\x0c\\xe4?\\x13\\xe0\\xda\\xe4|v\\x17\\x8c\\xc8\\x9e\\xe1\\n\\xa3\\r\\x04x\\xe7.\\xe0\\xad\\x97_\\xae\\xbd\\xf6\\xae\\x90\\t\\xbdO@\\xc0;!\\xe0\\xb1\\x9f\\\\\\xf6\\xaa\\xa36\\xfb\\xd9x\\x18h@B\\xc0\\xc3\\x95\\n\\xc5\\x15\\xf7\\xf2\\xf26&\\x8c7 \\xe0\\x9dgA\\xbbeK\\xea\\xd4\\xbd\\xdd\\xe1\\xe0\\xc0\\x91\\r\\x08x\\'\\x04<\\xc3[9\\xf7\\xb9O\\xbe\\xeb\\xd0*\\xdf\\r\\x08x\\'\\x04l\\x7f`zQ\\xcap\\x9d*\\xee\\xc4\\xdb\\x80\\x80wB\\xc0\\xee/y\\x8ac\\xea\\xbe5:\\x8b\\x06h@B\\xc0\\xbav\\x15/\\rg+\\xdd\\x8b\\x8dg\\x81\\x02d\\x02l\\x9d,\\xb7=\\x8b\\x17\\x15\\xcd\\xe1+\\x03\\x05H\\x04\\xf8I\\xac\\x17\\x05\\x13\\x8e\\xbd\\xeeD\\x9f\\x11\\x08\\xf0^/\\xfc\\xcb\\x03g\\xeb\\x03\\xf9:\\x87_@\\x80w&\\xc0\\x8aR\\r&\\xa4\\x95]/\\x8e8\\xeb\\x06\\x02\\xbc_\\xfa\\x80Ol\\xdf\\'\\xddK\\'\\x0e-,\\xde@\\x80w\\x1e\\x05\\xdd\\xeb\\x99\\x9eT\\xd7\\x9d\\xe4\\xeaT\\xea\\xba\\x81\\x00\\xefD\\x80%e\\xcb#\\xc7\\x15\\x82\\xc91\\x1eTP\\xb1\\x81\\x00\\xefD\\x80\\xbd\\x10\\xa3*6\\x94\\xf5^\\xbb\\xf2M\\x07\\x04x\\xe7N`\\x87\\x84\\xc5\\xb0\\xc4@\\x1fG\\xe8m \\xc0;\\x11`\\xe7y\\xc3+\\xf1\\xa4\\xe5^T\\x83\\xa2\\x01\\x1a\\x90\\t\\xf0\\xad\\xb2\\x8d\\xcd\\x03\\xef\\xf4`\\x872\\xd0\\x1b\\x08\\xf0\\xce\\x04\\xd8\\x15\\xb3\\xc5\\x0be\\x9b\\'8c<\\x07\\x04x\\xe7N`\\xc58\\xee\\xa9\\x91\\rZF\\xfb\\xa4\\xe8@\\x80w\"\\xc0]\\xba\\xe9\\x95x\\n$\\x9c\\x98BG\\x1b\\x08\\xf0N\\x04\\xd8\\xe3\\xee\\x9e\\x80\\xdaC8\\x0e\\x96zl \\xc0;\\x11`o\\xc1\\x8b\\xe2!\\x042B<\\x8ci\\x03\\x01\\xde\\x89\\x00\\xdf\\xda=<&<\\xe1\\xfb\\xfa\\xea\\xa4\\xc3@\\x03\\x12\\x01~v4\\x15\\xdd\\xbef|\\x1bWvo \\xc0;\\x13`\\xf9e\\xd5CY]\\x9bt1\\x04\\x00\\x00\\xbc3\\x00\\x96\\x12\\x1d9\\x07Cw\\x9d\\x1cQ4g\\x00\\x80w\\x02\\xc0\\xdf2-\\xf5\\t\\xf5/\\x8f6\\xdb\\x00\\x80w\\x06\\xc0\\xd5\\x05\\xaa\\xedn\\xa7n\\xdc\\xbc\\x02\\x87\\x01\\x00\\xdey\\x1c\\xf4\\xd6\\xab/\\x8a\\xbe\\x14\\x00E\\r\\xf4h\\x01\\x00\\xef\\xdc\\t\\\\\\xafB\\xfd\\xea\\xb9G\\x92\\r\\xec\\x11\\xdf\\x00\\x80w\\xee\\x04\\x1e\\xee]\\xec\\xae\\xa93i\\xa5\\x8f\\t\\x00x\\xbf\\xac\\x05\\xf6\\x10\\xe1\\xe5\\x17\\xe6\\xdd0$\\xb1\\xc0\\x7fw\\xe2\\xbf\\xd3\\xe37\\x8a|Y\\x1d\\x15\\x81\\x170\\xe0\\xdf\\x9d\\xdb\\x80g\\xdfr\\x1aG\\x84b\\n\\xbd<\\xfc\\x94 \\xfd\\x99\\xff\\xcab\\xdf\\xe2\\xda)y\\x07\\xad\\xa2a\\x04\\xfe\\xbb\\x13\\xff\\xb5\\xaf\\xeeR?\\x1dZ\\xe5>\\xa2k\\x00\\x00x\\xe7\\xa5\\xc0n\\xc1\\x96\\xc4\\xb6\\x88\\xd1ZG%\\x07\\x00\\xbc\\x13\\x00\\x1e.g\\xd1a\\x1eR\\xe7\\xa9\\x06\\xf4\\x01\\x00\\x01\\xef\\xdc\\x07<\\xdd\\x85\\xd1z\\xc8\\x9f\\xdd\\xde\\xbfH\\x87\\x81\\xf8\\xe7>\\xe0\\xd5\\xeb(}\\xe8\\x0b8\\x9c@G\\x1b\\x10\\xf0N\\x08\\xd8I\\xa9]\\xc2\\xab\\x95\\xe4\\x98\\xa1k\\x0c\\x04x\\'\\x02\\xdc\\xbf\\xd5 \\xfa\\x8es\\xfcD`h\\x03\\x01\\xde/;\\x81u\\x8e\\x02\\x1d)\\xa5\\x17P\\xa3b\\x02\\x01\\xde\\x89\\x00{\\xb1\\xbc\\x0cF\\xdf\\x1e\\xb1(/\\x83\\xac,\\x10\\xe0\\x9d\\x08\\xb0\\xdfz/\\xf2\\xb6\\xd7\\xc3\\xf9\\xf0\\xca\\x04\\x02\\xbc\\x13\\x01\\xd6\\xa7\\x94\\xf9\\x19c\\x84\\'5\\xe2Q \\xfe\\x89\\xffzo\\xcb)r4\\xc6\\xd3RO\\x15;\\x1b\\xf8\\xef>\\xd9\\xfdYO\\xb3\\xf9ZO\\x838\\x15\\xc6l\\xe0\\xbf;\\xf1_Ogw>\\xa3*\\xc8\\x93\\x85\\xa4\\xa2\\xc1\\r\\xfcw\\xe7\\x8d\\xc0\\xba\\xd7< \\xa1JCOmh2\\x80\\xff\\xee\\xbc\\x11\\xf8\\xe8\\x0e/wy\\x1c\\xa8n(L\\x1a\\x03\\xff\\xdd\\x89\\xff\\xba`\\xbc\\xb8\\xc6r\\x9b\\xfeb6\\x1b\\xf0\\xefN\\xf8\\xb7\\xdfo\\xebC<Ac\\x1e\\x06\\x86\\x80\\x7fw\\x1e\\x07-\\xd7\\xbf\\x17\\x7fGg\\xc69i\\x0c\\xf8w\\xe76`\\xddGv\\x8c\\xe7|\\x9a\\xb0\\xa9\\x9ab\\x03\\xfe\\xdd/\\xe3\\xa0\\x15i\\x16\\x97ew\\xe7\\x19\\xf9c\\x82\\x02\\xdc\\\\\\x01z\\x9d\\x81\\xf6m\\xb7z\\xc3\\xf5!\\x1b\\xf0\\xefN\\xf87\\xdc2d\\x04\\xd6\\xe5d\\xb8r\\xfc\\xfda\\x01\\xf87^\\xc6A7\\xef$w\\x84\\xee\\x9c\\r\\x95z\\x07\\xe0\\xdf\\xc8\\xf8\\xd7[ \\x8b\\x84\\xcc\\xdb\\xbb:E\\x86\\x01\\xf47\\x12\\xfdU\\xf8k\\x00\\xb0\\xae\\xbcF\\xddu\\x94N\\n\\xa0\\xbf\\x91\\xe8\\xaf\\xb7\\xb1\\xc9/\\xbb\\xe1y\\xb8\\r\\xfb&\\x02\\xf8o\\xd4\\xec\\xfe;\\x01\\xd4\\xe4\\xfft\\xcfT!\\x9e\\x19\\xc0\\x7f#\\xb7\\x01\\x9b=z\\xde\\x9a\\x14\\xd6\\x99\\x16p?\\x03\\x00p$\\x00<\\xcf\\xb8n\\xa9\\xbc\\x1e\\xae\\xeb\\x89\\xfet\\xd8{\\x05\\x88\\x9a\\xed\\xbf\\x9c2\\x8f{\\x99[w\\x1c\"\\xb0\\x00\\x06\\x1c\\xb9\\rx:\\xd1\\xa5\\xb7\\xd5\\xaa\\xc7\\xaaP\\n(\\x80\\x01Gn\\x03\\x8e\\xf6L\\xb7\\xd75\\xe7\\xf9\\xea\\xb4\\r,\\x00\\x02\\xc7K\\x1bpwBUR\\xb6\\x1f#DO\\x06\\x108\\x12\\x04\\x96:\\xde\\xe2\\xbd\\xcc^s\\xa2_\\x8a\\x87\\x81\\x06\\xe46\\xe0\\xf6mDN;!k\\x86\\xd7I\\x00\\x04\\x8e\\x0c\\x81\\x15&\\x85\\xcbI\\xbde\\x8f\\xe3\\xfc\\x00\\x08\\x1c/+\\x81\\x9d\\x84\\xde\\x9e\\xdf\\xe6\"\\x08\\xd2&`\\xc0\\x91\\x18\\xb0\\x02\\x12\\xb9\\x06\\xcd\\x14Ffv\\xd1=\\x17\\xc0\\x80\\xa3\\xe5\\x02\\xa0X.5\\xe8\\x86\\xc1\\x03\\xd7{\\x060\\xe0\\xc8\\x1b\\x81\\xdd\\x17\\xfe\\xccUt\\xc5\\xd3\\xe2\\x8f\\t\\n\\x90\\x18\\xb0\\xe1\\xa8\\'\\xae\\xc9e\\x9c\\xcd\\r\\xbct\\x18(@n\\x04\\xd6i\\x8a\\xe6\\x9c#w\\xb7\\x15U\\xc6\\x040\\xe0\\xe89\\x02xZ\\xb7\\\\po\\x1f\\x88\\xc6$\\x070\\xe0\\xc8\\xd3\\xa0\\x87[\\xa7\\x1d\\x00x\\xea\\xfe\\xe1\\xc3@\\x01\\x12\\x04\\xf6\\xf6\\xd2a\\x08\\xd9\\x8f\\'\\xdb\\xa09\\x03\\x08\\x1c\\t\\x02o\\x17`\\rOb\\x9d.\\xc3\\xa5\\x10,\\x00\\x02G\\x82\\xc0\\n{\\xbb7\\x1f;\\xfcr\\xb0\\x89\\x87\\x81\\x06d\\x08|d+=u\\\\\\xff\\xd2\\xe5@\\x03_\\x02(p\\xf4\\\\\\x04\\x1a.\\xe7\\x92\\x1d\\xf3v\\xbdN\\x99\\xc6\\x00\\n\\x1c\\x99\\x02{Mz\\xd1\\xbf\\xdbz:\\xde\\xf00\\xd0\\x80\\x8c\\x81\\x87;\\xd4\\xba\\xe9\\xc4\\xdd\\xde\\xd6G\\x87\\x81\\x06$\\x0c\\xec9\\xd7\\xd31\\xb0\\xbc3\\x19\\x0f\\xca\\xce\\x06p\\xe0\\x18/A\\xc0\\x03\\xbb\\xd7\\xd8n\\x84\\x01\\xe7,\\x80\\x03G\\xe2\\xc0r\\xd6=qV^\\x95#\\x80\\xa0Dc\\x00\\x07\\x8e\\xdc\\x08<=[\\xddsh\\xaa\\xef9\\n\\xce\\x038p$\\x0e\\xecRW\\x0f\\x90\\xd4\\xfbw\\xe9\\x08\\x9a3\\xe0\\xc0\\x918\\xf0\\xf4\\xfa4\\xb9\\x8d\\xee\\x84?\\xb3Q{N\\x00\\x07\\x8e\\xf1R\\x05\\xbd<\\xbc\\xc1\\xd5N.\\x8f\\xc4\\'\\x03\\x05\\xc8\\x1c\\xd8\\x05\\xc6\\xc5\\x1b_\\xeft\\x87%\\x9d\\x05\\xf2\\x9f0\\xb0\\xbcu\\xf9S\\x9e\\x90p\\x06\\x96\\xf3\\x06@\\xe0\\xc8m\\xc0\\xb3z\\xb5@\\xfd\\xd6V\\xcf\\x9e\\x01@\\xe0H\\x10X\\xf7\\x9b\\xb9\\xad\\xb1\\x8e+{\\xa9k(\\x00\\x02Gn\\x03\\x9ewt\\xf9\\xc6\\x12\\\\9\\t\\x81O\\x06\\x108r\\x1f\\xb0W\\xe4\\x16o\\x1f\\x9av\\x93iJi\\x00\\x04\\x8e\\xbc\\x10\\xd8\\x03\\x88\\x8b;\\x00\\xe4\\x16(6\\xa4o\\t\\x108^gA{\\xbd\\xb3\\xe7`y\\xe9\\x01u\\xad\\x04@\\xe0\\xc8\\xb3\\xa0\\xbb+\\x8a\\xbcC\\xd6\\x8bZ;\\x8a\\x06@\\xe0\\xc8\\x10\\xd8M\\xe6\\x9e8\\xee!\\xbd\\rW\\xd5\\x04@\\xe0\\xc8}\\xc0n\\x0b\\xb7b6\\xf7\\x80a=u\\x00\\x04\\x8e\\xbc\\x10\\xd8-\\xe2rZ\\xf4l\\xb7\\x9a\\x0e\\xd1a\\xa0\\x01y!p<\\x1b\\xb6\\xdb\\xf0,\\x0e}P\\xfc\\x99\\xa0\\x01\\x89\\x02{`\\x8f\\xb4\\xc9;_\\x8f\\xf3\\x10\\xf4d@\\x81#Q\\xe0\\xe6\"\\x0f\\xf7T\\x9e\\xa6\\x18\\x0c\\xe1D\\x00\\x05\\x8eL\\x81=T\\xbd\\xb8o}x\\x167\\xb1\\xd6\\x00\\n\\x1c\\x89\\x02+\"{\\x06\\xdb\\x9f\\xdb\\\\\\xc1\\x8f\\xd7\\x1cP\\xe0H\\x14xy\\xa2_1b\\xea\\xcf\\xc4X:\\x0b\\x14 A\\xe0\\xe9\\xa1\\xde\\xc5\\x8d\\t{\\xeb\\xe1\\xa8\\x06:\\x00\\x02G\\x9e\\x06\\xdd\\xbak\\r\\xdc\\x05\\xbcz\\xef\\x18\\x9b\\x00\\x04\\x8e\\x0c\\x81\\xcf\\xaa\\xee\\xb5\\x92\\xed\\xf0\\x00a\\x1a\\x93\\x1f\\x00\\x81#A`\\xe7\\x80\\x86\\xd7x\\xdd+\\xd3\\xbd\\xa9\\x0e.\\x00\\x02\\xc7\\xcb8h}E\\xc39\\xdf\\xe4\\xfak\\x94\\x0cP\\x80\\x04\\x81]c\\xe6\\xf5\\xe6]ZY\\'\\xce\\t\\x0f\\x80\\xc0\\x91!\\xb0G\\xda\\xb8q\\xaez\\x1a\\x07\\xae\\x10\\t\\x80\\xc0\\x91 p(\\x92\\xf0\\x94\\x1c\\xb7\\xfa\\xb8\\xbf\\x89\\xac6@\\xe0\\xc8\\x1b\\x81\\xb77\\tz\\xe9\\xd6\\n\\x87ux\\x18(@\\x82\\xc0\\xfd\\xd9\\x15d\\x0f\\xc3N\\xe3\\xa0b\\x83\\x00\\x08\\x1c\\t\\x02\\x9f;\\xf5#\\xcf\\r\\xef\\xfc\\x90\\xa3F\\xbe\\x19@\\xe0H\\x10x\\x982\\xf9\\xdaT4\\xe7\\xea\\x05|2\\xd0\\x80\\x0c\\x81=\\x82\\xa9\\xb4\\xe5F`\\xb7;\\x93\\xd1\\x00\\n\\x1c\\x89\\x02O\\xcf\\x08\\x19n[\\xb9\\xce.a\\xac\\x0f\\x148\\x12\\x05\\x0e\\xd7a\\xc9]\\xeb\\xee\\xc7\\xbe\\xec\\xb5\\x03\\x05\\x8e<\\x0ez\\xca\\xc1.{<;o\\xdaDE\\x07\\n\\x1c\\x89\\x02\\xbb.\\xaf\\x95ud\"g\\xf3@\\x08:\\x0c4 r!\\xb4\\x97;,/\\xcb\\xadU\\xc6\\x16\\x0f\\x03\\rx\\x99\\x07mW\\xc3\\xfb\\xb5\\x9f\\tnT\\xef\\x1d\\x80\\x81#a\\xe0Q\\x1d\\xb7^W\\xb5\\xdc5\\x0ff!\\x80\\x03G\\xee\\x03\\xbe\\xba\\xccK;[\\xe6\\xf1\\x04\\x8e\\xf0\\x0c\\x00\\xc1\\x91@\\xf0\\xba\\xab\\x15E(uT\\xc7NTq\\x19\\x00\\x82#\\x81`\\x05r\\x1e\\xd5\\xee\\x1e\\xfd\\xbd\\xb8F;\\x00\\x04G\\x06\\xc1\\x9e\\xdcS\\xa6K\\xc4\\xdcz\\x88\\xce6\\x80\\xe0\\xc8\\x03\\xa1\\xdb\\xd5\\x15\\xd0\\x14\\xb1\\xcaM\\x90\\x9c\\xe1a\\xa0\\x01/ \\xd8{!w\\x93\\x97\\xe1zU\\xf4[\\x00\\x04G\\x06\\xc1r\\x7f\\xa2\\xd4\\xc7\\x9f\\x1a\\xed\\x10\"\\r\\x00\\xc1\\x91Ap\\xb8\\xe1\\xdcc\\xc2\\x15\\x82E\\xa3\\xea\\xb5\\x00\\x10\\x1c\\t\\x04{\\r\\x8cd\\xc3=\\x05\\xc7\\xe5\\xa5d\\x1c\\x81\\x04G&\\xc1\\x8a\\xcbO\\xe9\\x9eC \\x85b\\xc7\\x05Hp\\xbc\\xec\\x06V\\x1c\\xe1\\xe4\\xe5r\\x93\\xd4\\xdf\\xf9\\x00\\xa0\\x01\\x89\\x04O\\xefPVP\\'\\x9fc?k\\x0e\\xe90\\xd0\\x80D\\x82\\xbdVf\\x15\\xaf]\\xf7,\\xa0\\x8d.\\x15\\x90\\xe0\\xc8\\x13\\xa1\\xbd\\x12\\xb5\\x18\\xde\\xcaq\\xa9\\xd8\\r\\x10\\xc0\\x82#\\xf7\\x02\\xcbs\\x19\\xc5\\xf5,wu7\\xde\\xd2a\\xa0\\x01/\\xbd\\xc0cy[\\xcd\\x93\\xd1\\xf3@ 8\\x0cXpd\\x16\\xackTw]t\\x19\\xa0\\xb5;\\x1f\\x06\\x1a\\x90Y\\xb0G\\x0e\\x96%7O\\xbe\\xde\\xb8\\x18n\\x02\\x0b\\x8e\\xc4\\x82e\\x13=\\x8bC\\xd7\\x92\\xe4m`\\x9bN\\x00\\x0b\\x8e\\xc4\\x82\\x9fY\\xe1]\\xb1\\xd9\\xbd\\x1e\\x95\\x8c\\xe9F\\x80\\xc1\\x91`\\xf0u\\xfd\\xectY\\xfb\\x9cN\\xd7\\x92\\xa2\\x03\\x0c\\x8e<\\x13\\xda\\xe4\\xbcx\\x9b\\xd1\\xd9\\xf5\\xe2\\xb4\\xf6\\x00\\x18\\x1c\\x19\\x06{\\x10\\xcd.\\xdd\\\\M\\xb7\\x1d?\\x19h@\\x82\\xc1\\xb7?\\xc3\\x9d<lD\\x8e\\xd0\\xa2A\\t\\x01082\\x0c\\xb6O\\xe02%\\xc9r\\xab\\xb8/%\\x00\\x06G\\x86\\xc1\\xbdVg\\xa2\\xe5\\xba\\xac\\xed\\xd2\\xf4\\xf7\\x87\\x1d\\x80\\xc1\\'\\xc1`\\xf9\\x9e\\xad\\xdc.#\\'3\\x19h\\x82\\x0e\\xc0\\xe0\\x93ap\\xf5\\xb0\\xde\\xf9\\x0cWt\\x07\\x16>\\xd9{\\r8y7\\xf0pPQ\\xcf\\xd3\\xaf/\\x97\\x16>\\xc0\\x01\\x1a|2\\r\\xde\\xf6\\xcft\\xd0\\xf0\\x9d\\xd7\\t9\\x1d\\xa0\\xc1\\xe7e(t_~\\xb2\\xf1\\xd0sD\\x01\\x07h\\xf0I4\\xb8OG\\xc2Svi\\xfa&&\\r8@\\x83\\xcfK;\\xf0\\xa8Q\\xe4kX9;\\x16\\x1d\\x1f\\xa0\\xc1\\'/\\x07\\x1e\\xf3\\xb8\\x1a\\xb4*v\\x92B\\xf1\\x07x\\xaf\\x01\\xa7\\xbe\\x94\\xc3\\xb9\\xef\\xd3I4\\x8f]\\xa0x\\xf3\\x00\\r>\\x99\\x06_]r\\xae\\xad\\xd3\\xcf\\xd5\\x81\\x94p9@\\x83O\\xa2\\xc1{\\x9c\\xa7\\x87\\xd13\\xc9\\xf4\\x8c\\x974\\x00h\\xf0I4\\xd8\\x1a\\xe91z\\xe1\\xe1B\\xf2\\xb7\\xe9g\\x02\\r>\\x89\\x06\\xdb\\xdbV\\xc4\\xef\\x06\\'}\\xd1A\\x99\\xd5\\x034\\xf8\\xbc\\xb4\\x04\\xcbi\\x7f4\\xc0{\\xc6p^\\xfb\\x01\\x1a|\\xf2T\\xe8\\xea\\xb1\\xb8:H\\xeeq\\x8fN\\x11\\xca\\x01\\x1c|\\x12\\x0e\\xd6\\x8d\\xee^\\x1d)Uw\\x17\\x1cU\\xd0\\x1e\\xc0\\xc1\\'\\xe1\\xe01\\xa3\\xca\\xd2\\xce\\xee\\xe9~X\\x0fz\\x80\\x06\\x9fL\\x83\\xe3i<\\x0cY2\\xe9\\xd3\\xdf\\xf9\\x95\\xa0\\x00\\x89\\x06wWJ\\x16w\\xd19];\\xf80P\\x80D\\x83=$\\xff>Kf\\xdc-;i\\xff\\xdf\\x01\\x1a|^:\\x82\\x8f\\x1d\\xc7\\xe9!\\xe6\\n\\xb0\\xc9?>@\\x83O\\xa2\\xc1n\\xbcz6\\xba7\\x17x-\\xaa\\x07=@\\x83On\\t\\x96\\x1b\\xb3\\xcb\\xd9\\xae\\x85\\x0b/\\x08\\xa6\\xc3@\\x01z.\\x08\\xddnI\\xba\\xe1\\xc2\\xd0\\x81\\x06\\x08`\\xf0\\xc9S\\xa1\\xe7SB\\xe8\\r\\xab\\xf2\\xd0:\\xbf\\x7f\\x90\\xff\\x97\\xd5\\xc0\\n$\\xbc\\xcb\\xaby %\\xae\\xd9;\\x00\\x83O\\x82\\xc1^W\\x1c\\xde\\x8b1Z\\x0c\\x0c6\\x0f\\xb0\\xe0\\x93X\\xb01\\x91\\xcb\\x04\\x9c\\x8dn\\x9e\\nJ\\x87\\x81\\xfc\\xf7,\\xff^\\xcc\\xe6\\x14\\xc4\\x8c\\xa5\\x00\\x16\\x0f\\x03\\xf9\\x7f\\xd9\\x0c\\xec\\x81X\\xdbS{\\xdb\\xba\\xb8\\xb1\\xf5\\x00\\x0b>\\x89\\x05o\\xf7\\xcf\\x15W\\x90\\xaf\\xe64\\t\\x04\\x01\\x07`\\xf0I0X1Xw\\x8aJ\\xb6G6\\x16\\xfb\\xbb\\x0f\\xc0\\xe0\\xf3\\n\\x83\\xbd\\xfe\\xe9\\xca7\\xf0F5J\\x1f\\x1f\\x80\\xc1\\'\\xc3`\\x7fE\\x05\\xe8\\xf2\\xcd\\x9e\\r\\x08\\xa4\\x99\\x00\\x83On\\n\\x96Kp\\x8bne/E\\x1a\\x9d\\x98\\xeb\\x01\\x18|2\\x0c^\\xfb\\xb8\\x8d\\xdds\\xef\\xdc\\x93G\\xa6\\x11`\\xf0I08\\xbcZ\\xa04wW^\\xef\\'\\'\\xd5\\x04\\x1a|2\\rv\\x91pq\\xaf\\xac\\xf3K\\x97*\\x12\\x0f\\xf0\\xe03^\\xaa!\\x9eR\\xed\\x1a\\xc6\\x1e\\x97\\xdf\\x19h\\xc0\\x0b\\x0f\\x96\\xeb\\xad\\xbb\\xc9\\r\\xa9\\xc3~7\\x1c\\x06<\\xf8\\xbc\\xf2\\xe0\\xbe\\x9e\\xae\\xf8:VL\\x1a\\xfcx\\x80\\x07\\x9f\\x99\\xeb\\x81\\xf6\\xdaNxy\\x93\\xd4n\\x94\\xd8>\\xc0\\x83O\\x9e\\x0b\\xed\\x05\\x08^\\xd9\\xe4V\\xde\\xb5i\\x90\\xc0\\x01\\x1e|^\\x9a\\x82\\xef0t\\xba\\xcbK+/\\x8d\\xab;\\xc0\\x83O\\xe6\\xc1{\\x1e\\xd7\\xca{-\\xa1\\x07\\xae\\xe3\\x93\\x81\\x06\\xe4\\xb9\\xd0;\\xc2\\xe3Z\\xe4e\\xac6\\xb1\\xf3\\xe4\\x00\\x0f>\\x99\\x07\\x87\\x1bl\\xc6\\xf4\\x96\\x87i\\x15\\xa5\\xc3@\\x032\\x0fv\\xf3\\x96\\x8cc\\xabO\\xfd\\x07\\x8b\\x06h@\\xe6\\xc1\\xb5~\\x9bX\\xed1z\\x13\\xc9\\xc2\\x01\\x1e|^x\\xf0\\xd3G\\xea=o\\xfa\\x04\\xd8{{\\x80\\x07\\x9f\\xcc\\x83\\xfb\\xb3\\xcfqz\\xce\\x93\\x0c\\x08\\x9a \\xe0\\xc1\\'\\xf3\\xe0\\xe1\\xcd\\x00\\xb1j\\xedc\\xcd\\xc0\\x0b\\x1dx\\xf0\\xc9]\\xc1\\x0e\\xe6\\x8a\\xabA-\\xb1\\x1b\\x15\\x1dx\\xf0\\xc9]\\xc1\\xe6\\x90\\xc5\\x1d\\xd0n\\xf2\\xe6\\x0b\\x05\\x80\\xf0I@x4\\xaf\\xfa\\x9cU\\x16h\\xc9\\xad\\xc2\\xaf\\t@\\xf8d \\xecy@\\xc5\\x99\\x16\\xf9\\x06\\xe7\\x12\\xda9\\x00\\x84O\\x02\\xc2\\xfd\\x99\\xcc=\\xe5\\x9cI\\xcc:\\x0e\\x85;\\x00\\x84O\\xee\\n\\x9eNjx1X\\x8dP\\\\GV\\x03\\x80\\xf0I@\\xb8\\x1b\\xc4\\xfb\\xde\\x94?9\\x1bn\\xe1=\\x00\\x84O\\xee\\nvK|qs\\x93dv5\\xf4\\xcf\\x00\\x08\\x9f\\x04\\x84\\xdd\\xf06\\\\+&\\xf1\\xd7E\\x87\\xb7\\x13\\x00\\xe1\\x93\\x80p\\xbb;\\x9eN\\x16\\x0f.\\x95\\'\\x84O\\x06\\x1a\\x90\\x81p\\xf3\\x16vO\\xbb\\xb7o\\xd5\\xf1\\x0e\\x00 |^\\x81p\\x95\\xd50\\xa2\\xb8\\xf3\\xe00\\xf3\\x03@\\xf8\\xe4\\xb9\\xd0z\\xf5\\xb5,\\xaf\\x9a\\xbf\\x9e\\xec\\x8f\\xef\\x0c4 \\x01a\\x0fC\\xf4\\xcc\\x10\\x8f\\xf3\\x97\\xa1\\xa5\\xb9\\x94\\x07\\x80\\xf0I@x\\xeav\\xd2\\xb5\\xd9\\xe5\\x1b\\xb7z\\xb0-\\xec\\x00\\x10>\\t\\x08\\x87l\\x8fKR\\x9cpt\\xef\\x08Y\\r\\x00\\xc2\\xe7e.\\xb4[\\x19e\\xb2C~\\xe3\\\\\\x18:\\x01\\x10>/@Xr_<.0\\xba\\xb4\\x80\\xb8\\xf7\\x01 |\\x12\\x10\\x0e\\x8f\\xbd\\xd6\\x1d\\xf0d\\xbc\\xa4\\xe8$g\\x00\\x84\\xcf\\xcb\\\\\\xe86\\xdc\\x17\\xb3\\xab\\xa7\\xdd,\\xda\\x9cx\\x00\\x08\\x9f\\x04\\x84\\xa7]\\x8d\\xa9X\\xdf\\xfe\\xf1\\xe8h\\xcf\\x00\\x08\\x9f\\x04\\x84=c\\xb1\\x8c*\\xc7l\\x85\\xfdP\\xfc\\x99\\xa0\\x01yA\\xb0\\xeb\\xe1\\x9e\\\\\\xb4l\\xa3g0\\xd3a\\xa0\\x01\\x91S\\xa1\\xfa\\xa1\\xa5=%.z>j3;\\x00\\x84\\xcfKg\\xb0\\xd7\\x8a\\x9f\\xf3l\\xc8\\xf3\\xcc\\t:\\x0c4 \\x01\\xe1\\xa7\\xe2[\\x97\\xf0\\xb9\\xb3\\xcb@\\xf2\\xd7\\x04\\rH@\\xb8{\\x84[\\xe9\\xb1\\xbaw\\x8bp\\xbc\\t@\\xf8$ \\xecx\\xba\\xf4\\xa1+K\\xb7\\xd3\\xc5q2\\x07\\x80\\xf0\\xc9@x\\xb8\\\\i+:\\xf3d\\xf4\\x8eW\\x1d\\x00\\xe1sr&\\xa8\\xdbl\\xfb&\\xa8^=L\\x8e\\x0b\\x00\\xe1\\x93\\x80\\xb0D\\xdf;\\xe2\\xfdXW&\\x08\\x031\\x00\\xc2\\'\\x01a\\xbd\\xf5\\xbeKu\\x1fh}\\xaa\"\\xe80\\xd0\\x80\\x04\\x84\\x9f\\r\\xec\\xb2g\\n5w\\x93\\x8e\\xe2\\x93\\x81\\x06$ |\\xea\\x0e\\xd7\\x98\\xba\\xd35<\\xa4\\x89\\x0e\\x03\\rH@\\xb8{N\\x82\\\\\\xf7g\\xb1\\xf8\\xc0}\\xc3\\x07\\x80\\xf0I@\\xd8\\xa9\\xf1U\\xba\\xa7_,{\\xdb(g\\xa0\\x01\\t\\x08K\\xcd\\xa3\\x97\\xba<=gw,p9\\x00\\x84\\xcf\\x0b\\x10>w\\xbb.\\xcb\\xbb]\\x06v\\xcd\\x1e\\x00\\xc2\\'\\x0f\\x87\\xde\\xcf<yI\\x86\\xc5\\x0c\\xb5\\tx\\xf0\\xb9\\x99\\x05\\x8c}\\xcar\\xb7\\xbd\\xbcw*\\t:\\x80\\x83O\\xc6\\xc1c\\xfc{\\xdd\\x87K\\\\\\x02\\xef&\\xc0\\xc1\\'\\x8f\\x86\\x96\\xa15%\\xb2\\x82z\\x02\\x12\\t\\x06\\xe0\\xe0\\x93GC\\x7f\\xcbQ\\xf5\\xebM\\xa9\\\\\\x17}\\x00\\x07\\x9f\\x8c\\x83\\xa7gs\\xeb;.\\xef\\x1bn\\xc8\\xaf\\x00\\x07\\x9f\\x84\\x83\\x97\\x91~\\xf1\\xf4\\xb5\\xe1\\x110\\xc8\\x02\\x00\\x07\\x9f\\x97\\xde`\\xb7\\xb2\\xb8\\xbc\\xda]\\xaa8\\x01\\xfb\\x00\\x0e>\\t\\x07O\\xcf\\n7\\x0b\\xf0p&\\\\w~\\x80\\x06\\x9f\\xbc!X^\\xf1}\\xf6\\xc0z\\xaf\\xda\\xa0F\\xfb\\x0b4\\xf8&\\x1a,\\xbf?n\\xf1\\x88\\t\\x97\\xbfb\\xb1\\xd8\\x05\\x1a|\\x13\\r\\xee\\xcf8\\xa5*s\\xe6\\xfe\\xf1M\\xbe\\xc1\\x05\\x1a|\\xf3\\x86\\xe0:j/w{\\xa7\\xd4\\x9c\\x83\\xf6\\xcd_\\xa0\\xc1\\xb7f\\x14\\x10^\\x91=\\x8e\\x9c\\x84\\xad\\xbf\\x84\\x0fp\\x81\\x06\\xdfD\\x83%\\xa9Q$\\xb8\\x9el;t\\xcd\\x81\\xcc^\\xa0\\xc1\\xf7\\x85\\x06\\xcb\\x99-\\xe6:#j\\xa7\\x86\\xa9\\x0b0\\xf8\\xbe\\xce\\x86v\\xe9\\xab\\xd3\\xed\\x1e\\xb3NA\\xd8\\x05\\x18|3\\x0c\\xde\\xde\\x1d\\x1d\\xe3\\x19A(\\x03\\x0c\\xf2\\x7f\\x01\\x06\\xdf\\x0c\\x83\\x9b\\x9bf\\xbdl\\xb5?c\\r\\xe9\\xac\\xf7\\xf2\\x7f\\x13\\x0b\\xf6\\x9c\\x10\\xe9\\xa5\\xb7\\xba\\xdb\\x99\\xa2\\xe8\\xf0\\x02\\x0b\\xbe\\xb93\\xd8\\xf1\\x92\\x02:/\\x8e{V$\\xd1a \\xffy<t\\xf3V\\xf7g9\\xb0\\xb7\\x04S9\\xca\\x05\\x16|3\\x0b\\xee\\xee\\xb2\\x0c{\\xec\\xad;WB\\x87\\x81\\xfc\\'\\x16\\xecZI\\x8f\\xad\\x9b\\x8a\\x7f\\xbdT\\n\\x0f\\x03\\xf9\\xcf,8<\\x1b]\\x8e\\x94\\x97\\xe0\\xe8\\x97\\x92\\xcd\\x00\\x16|\\x13\\x0b\\xd6\\x85\\x14\\xbbHZ\\x1c2\\xc9\\x9b%1\\x03\\x16|3\\x0bV\\x88y\\xe4\\x1c\\xcfY\\xaf~05\\x8d_\\x80\\xc17\\x8f\\x87\\xd6\\xe5{=8S\\xa2!\\x91\\xa3B\\x99\\x0b0\\xf8&\\x18,\\x9fx\\x0e7\\xb3x\\xd1\\xcc\\xc5B\\xe6\\x0b0\\xf8\\xbe\\xec\\x08vRO\\xe1W\\xf7`2\\x1c\\xc1s\\x01\\x06\\xdf\\x04\\x83\\xaf\\xa7\\xdf\\x159?\\xaeL\\xc7\\x06\\xb8\\x0b,\\xf8&\\x16\\xacWv\\x8a\\xee\\xe4g0\\xbd\\x87h\\xd2a\\xa0\\x00\\x89\\x05KT\\xe5\\x99)*\\x0c\\xc5\\xd4\\xa7R/\\xd1\\x05\\x16|3\\x0b~.\\xcdg\\xd0\\x8a7\\xae\\xf2a\\xa0\\x00\\t\\x067O&V\\xd4\\xf4\\xd4\\x02\\xd9C\\xa3\\xc3@\\x01\\x12\\x0c\\x96h\\xb9\\x1e\\xab\\xc9\\xff\\x1f\\xdew\\x8bO\\x06\\n\\x90\\xe7C\\x9f=\\x9b\"\\x80\\xe5\\x9de\\x03\\x0b\\x18.\\xd0\\xe0\\x9b;\\x83ec\\xa7\\xb1\\x82T\\xe0\\x0c\\xac\\x93\\xb9@\\x83o\\xa6\\xc1r\\x95\\x9d \\xd4\\xb3\\x8d\\xbdq\\xaf\\xf5\\x05\\x1a|\\xf3\\x80h\\xbd\\xacg\\xd4\\x96.\\x94\\xb1\\x06\\x8d;\\xbe@\\x83o\\xa2\\xc1R\\xc7\\xfb\\xec\\x80Z\\xae\\xe5\\xb9T\\xc3v\\x81\\x06\\xdfL\\x83=\\xc8\\xd0\\xf3\\x1c\\xae\\x87\\xc7R\\xee\\xfe\\x02\\x0c\\xbe\\x19\\x06?d\\xb9\\xbb\\xf2~y\\xa9\\x08\\x1e\\x06\\n\\x90`p\\x9b\\x8aH<\\xa0\\xf8\\xca\\xd2N\\xe4\\x1d\\x17`\\xf0\\xcd\\x9d\\xc1[\\xe1e\\xf1\\xda\\x9a\\xa7\\xd1\\x83\\xd2\\xa0\\x17`\\xf0\\xcd0\\xb8+bR8\\xb7-\\xff\\x03\\xa7\\xa3\\\\\\x80\\xc17\\xc1`\\xa7\\x92$eQk\\xf5H7J\\xb5\\\\\\x80\\xc1w\\xe4\\x108\\x1c\\xb5\\x1eW0\\xe8\\xb9\\xa8\\x82\\xe1\\x02\\x0c\\xbe\\xaf\\x13\\xa2\\x9d6p-\\x90\\x9e\\xefR\\xf7\\xc9\\x05\\x18|_w\\x04?Y8\\x0f\\xd48\\x1d\\xbbO.\\xc0\\xe0;\\xb3\\x0f\\xe4\\x80n\\xbb\\xee\\xf2zv\\x0b\\x1e\\x06\\n0_| w\\x05,\\xb7\\r\\xc6\\xe4\\x18\\x00`\\xf0M08\\xdc|r\\xf6\\xb3?h8\\xde\\xa1\\xc3@\\x032\\x0c\\xde\\xfb\\xa9!\\xd4\\xb3\\xe9\\x8a\\n\\x1a\\x01p\\x01\\x06\\xdf\\x0c\\x83o4o<\\xdf\\xc7\\xad\\xa9\\xd8\\xcar\\x01\\x06\\xdf\\x04\\x83=2_q\\xab\\xfb\\x01\\xb6\\xc2M\\xca\\\\^\\x80\\xc17O\\x88\\xf6\\x08\\xf8\\xe2\\xba\\xa2\\xb5\\xbd\\x96\\x9d\\xd4\\t`\\xf0\\xcd0\\xf8\\xb8m9<7\\xca\\x8e#\\x01\\xf4\\x0b0\\xf8\\xe6\\x11\\xd1\\xdegW<\\'N\\x91\\x05\\xe6\\xb4/\\xb0\\xe0;_\\xea\\x81<\\x04\\xb5\\x86\\xeb\\r\\x0e\\x16\\xd1^`\\xc1\\xf7\\x85\\x05\\xbb\\x82\\xc7\\xc6G\\xb6v\\x05m\\xc9\\xbe\\xc0\\x82ob\\xc1\\n5O+\\xdb\\x96\\xb1\\x19}\\x90m\\x04\\x16|\\x13\\x0b\\xde\\xcf^\\xf1\\xd1\\xe5\\xcc\\xcaA\\xdbh4\\x80\\x05\\xdf\\xc4\\x82]\\xba\\xa9+xz\\xb7\\xa6\\x94\\x13\\x83``\\xc17\\xb1`]\\x00u\\xca\\xd2v\\xef\\x02\\xd9\\xec\\x1d\\x03\\x0b\\xbe\\x99\\x05?\\xa9\\xfbpy\\xfbQ<F`\\xf9\\x02\\x0b\\xbeyG\\xf09\\xa7\\xb8\\xb7\\xe3\\xc9D\\xa3\\x0b\\x04(\\xf8\\xbe\\xa0`\\x99\\xc3\\xe2\\xc94{\\xb8(\\x11%\\x03\\xe4?\\xa1\\xe0\\xf1\\xf4\\xbf\\xb9-RV[\\xb2\\x81\\x87\\x81\\x02\\xbc\\xa0\\xe0:\\x97\\x1d\\x8d\\xd1\\xbb\\xf7\\xd7\\xd0a\\x80\\x82o^\\x11\\x1c\\xbe\\xcf\\xcf\\xf2N\\x9dp\\x82\\x8a\\x0e\\x03\\x05\\xc8\\x03\\xa2-\\xa9\\xde\\xd1\\xdc\\xa5\\x9d\\x17\\xeb\\x17.\\xa0\\xe0\\x9bP\\xf0tAK\\xf14\\xb7\\x1eR,\\xca\\xdc_@\\xc17\\xaf\\x08\\x96\\xbb\\xb8J\\xd7G\\xed\\xee\\xf5\\xc6\\xf0\\x10P\\xf0}A\\xc1\\xddm1\\xfa\\xa8r6\\xf4\\xd0\\xa4\\xe7\\x80\\x82oB\\xc1]\\x01\\x9d\\x9b\\x19\\xb7Wo\\xcb\\xed\\xc3\\'\\x03\\x05\\xc8\\xbd\\xc1M~Oy\\xb2\\xe3\\xee\\xa7\\xa6\\x892\\x17P\\xf0\\xcd\\xbd\\xc1\\xd3\\xf9q\\x8fF\\xf1\\x9ef\\xbe5\\x01\\x05\\xdf\\x8c\\x82\\r\\xfa\\x8a\\xddY\\x85s\\xba\\x07\\xf00\\xd0\\x80\\x84\\x82WH\\x85\\x8a\\x02\\xfd\\xa7+`\\x13n\\xba\\x80\\x82o\\x9e\\x10\\xddZ\\xf3\\xb4-/\\xce\\xf5\\xf4d\\xba\\x82\\x01\\x05\\xdf\\x8c\\x82\\xb7\\xdb\\xaf<qBq\\x93|\\x18\\xb2\\xda\\x80\\x82oB\\xc1\\x1e\\xfd\\xd5\\xcb^\\x9e\\x94~\\x02\\xc7\\x9d]@\\xc17\\xa1`\\xaf\\xfa\\xf4\\x9e\\xf8\\xe1by\\xec\\x97\\xba@\\x82on\\rv\\xc8\\xf4\\xf4\\x17x\\xd6\\xd0\\xe1\\xc3@\\x01^fD\\xefg\\xaf\\xa9\\x03\\x8b{q\\xde\\xe2\\x05\\x12|_Hpu\\x11\\xf3X~k\\x1b\\x17\\x0e_ \\xc17\\xef\\x08\\x9e\\xfau\\xc5\\xc3.\\x15h\\x06\\x16\\xa3\\\\ \\xc17\\x91\\xe01\\xaa\\xdd\\x96U%\\xb1\\xba\\xd31p\\x05\\x12|sk\\xf0uF\\xc9\\xcb\\x0e\\x97\\xaf:\\xbc\\x82\\x81\\x04\\xdfD\\x82\\x9f\\xd5\\x00Er\\xdc\\x1c\\x08\\\\BD\\x17H\\xf0}i\\rV\\xf8UL\\xae\\\\\\xaa\\x1a4o\\xf1\\x02\\t\\xbe\\x89\\x04\\xcbf\\xacZ\\xa6>\\x83W\\xa8\\xe0\\xc4\\xd7\\x0b$\\xf8f\\x12<\\xbdo\\xd2\\xadI\\xee\\x1d\\x1c\\xc8;\\x80\\x04\\xdf<$\\xda+0\\x8bb}\\xa9\\xf8\\x90\\xab\\x86\\x1f\\x004 \\x91\\xe0\\xe1\\t\\x90\\xc5\\xe3F\\xeb\\x1a\\x15\\x871_ \\xc17\\xaf\\t\\x96q\\xac\\xce\\xaa\\xfa.\\xe9\\x1b\\xfdv \\xc17\\xaf\\t^\\x16\\rOs\\x90\\x8dl8q\\xf4\\x02\\t\\xbe/\\xad\\xc1\\xf5z\\xb5\\xf22\\xd8\\x94\\x80\\xe0\\xd7\\x04\\r\\xc8c\\xa2\\xf55\\xed7F5\\xe0\\xa9\\xa8\\x01@\\x82on\\r\\x1e\\xed\\xa9n\\xf4\\xd4Ww\\xed\\x93\\xd0\\x02\\n\\xbe\\t\\x05\\xbbgy\\x16OT\\xf5l\\xedF\\xfb\\xa0.\\xb0\\xe0{_P\\x80\\xdb\\xa9u\\x95x@\\x1f\\xce\\x95\\xbc\\xc0\\x82\\xef}I\\x04UE\\x01\\xcf\\xf6\\x9aj\\xb1\\xa5\\xc3@\\x032\\x0b\\xbe\\xae\\x1f\\xb1\\xf7\\x18\\xcb\\x1dp$\\x1a\\xc0\\x82ob\\xc1SR\\xeb\\xa1\\xbb.\\xad\\xe8\\x86kt\\x18h@n\\rvk\\x93\\xe7s\\x84k\\xbf;\\xf5\\xe5]`\\xc17\\xb1\\xe0\\xe3\\x19\\x95\\xc7\\xbbM\\xbfU\\xfe\\xd1Y\\xa0\\x00yK\\xf0\\xd6\\xd7\\xf4\\xaa\\xb6\\xda\\xdf\\x8e\\x81\\xf9\\xe1\\xd7?}\\xfe\\xfc\\xf5\\xbf|\\xfa\\xfa\\xe9w\\xbf\\xf9\\xcb\\xa7?~\\xfe\\xbf>\\xfd\\xf2\\xc7\\x1f\\xff\\xfc\\xebw\\xff\\xf4\\xe5\\xeb\\xd7/?\\xeb\\xe4\\xef\\xbf\\xfb\\xc3\\x97/_?\\xebd\\xfd\\xbe\\xef\\xbf\\xfb\\xd3\\xe7O\\xbf\\xff\\xdb\\xdf\\xfc\\xf4\\xf9\\x0f_\\xfd\\x97\\xbe[\\x7f\\xf9\\xf1\\x8f\\x7f\\xfa\\xdb\\xdf|\\xfd\\xf2\\x17\\xff\\xd1\\x1ft\\xfe_\\xbf\\xfc\\xf2/\\xcf\\xff\\xc7\\xef\\xfe\\'PK\\x03\\x04\\x14\\x00\\x00\\x00\\x08\\x00\\x15\\x8f\\xc7P\\x17\\x16\\xa9Qg\\x00\\x00\\x00r\\x00\\x00\\x00\\x14\\x00\\x00\\x00xl/sharedStrings.xml\\x15\\x8d\\xc1\\r\\xc20\\x0c\\x00W\\xa92\\x00.<\\xfa@\\xae?,\\xd0\\x15\\xa2bH\\xa4\\xdaIcGb|\\xd2\\xe7\\xdd=\\x0e\\xcd|\\xfa\\xc9\\xa1\\xb6\\x86\\xe4^\\x9f\\x00\\xb6\\'\\x96h\\xb7RYG\\xf9\\x94&\\xd1\\x07\\xb6/Xm\\x1c\\xdf\\x96\\x98]\\x0ex\\xcc\\xf3\\x02\\x12\\xb3\\x86\\xa9k>;\\xbfJW_\\xc3=\\x10Z&t\\xdaZ\\xde\\x19\\xc1\\t\\xe1\\x120f\\xf4\\x07PK\\x03\\x04\\x14\\x00\\x00\\x00\\x08\\x00\\x15\\x8f\\xc7P\\xc9\\xcd\\x9f\\x0b\\xd0\\x01\\x00\\x00q\\x04\\x00\\x00\\r\\x00\\x00\\x00xl/styles.xml\\x9dT\\xdb\\x8a\\xdc0\\x0c\\xfd\\x15\\xe3\\x0fh&\\x03]hI\\x02\\xdd\\xc2\\xc2B[\\x16f\\x1f\\xfa\\xea$Jb\\xf0%\\xeb(C\\xb2__\\xd9\\xce\\xe42\\xdd\\xa7}\\x89\\xa5c\\xe9\\x1cI\\xb6\\x93\\r8+\\xb8t\\x00\\xc8&\\xad\\xcc\\x90\\xf3\\x0e\\xb1\\xff\\x9e$C\\xd5\\x81\\x16\\xc3\\x17\\xdb\\x83\\xa1\\x9d\\xc6:-\\x90\\\\\\xd7&C\\xef@\\xd4\\x83O\\xd2*9\\x9fN\\x0f\\x89\\x16\\xd2\\xf0\"3\\xa3~\\xd28\\xb0\\xca\\x8e\\x06s~\\xe2I\\x915\\xd6l\\xc8\\x99G\\x80B\\x85\\x06v\\x15*\\xe7?\\x85\\x92\\xa5\\x93!Vh\\xa9\\xe6\\x08\\x9f=PYe\\x1dC*\\x05r\\x9ezdx\\x8f\\xdbi\\xf4|\\x95\\x0b\\x8f\\x96\\xc6:\\x0f&Q!~\\xcb%|\\xb7\\x11\\x96\\x81\\x02\\xa4R\\xc7\\xca\\x08(\\xb2^ \\x823O\\xe4\\x84\\x9c\\x00\\xfe\\xb7\\xc5\\x16\\xfbu\\xee\\xa9\\xb4\\xd6\\x899=\\x7f\\xe5[BXH\\xa4\\xb4\\xae\\x06w\\x90\\x89P\\x91)h\\x90\\x12\\x9cl;\\xbf\\xa2\\xed\\x13\\xbf\\x89h5\\x19\\xb5\\x14\\xad5\"\\xd4p\\xcb\\xd8g\\xb2pt9\\xc7\\x8eF\\x7f\\xa3\\xb9\\x07\\x89\\xf3\\x1e\\x8a\\x02\\xf7\\xe8Gj\\x8bAMT\\xa0\\xd4\\xc5\\'\\xfcm\\xd6NR\\xeadjX\\x8cy\\xae\\xfdi3\\xdf\\xf3\\xcd\\xa4\\x19/f\\xbc\\x15\\xd1\\xf1\\xfc{\\xb6\\xc8\\xbd\\xa3=\\x7f\\x8a\\x96\\xf5\\xf2j\\xf1q\\xa4\\xd6L\\xf0\\xdfF\\x8b\\xf0\\xe2\\xa0\\x91S\\xf0\\xa7f\\xd5\\'v\\xd1\\xf7j\\xfe\\xa1dk4\\xc4^v\\x82\\xe9\\x87\\x82\\xe9\\'\\x05\\x8bL\\xdctXg\\x9d|\\'>\\x7f!+\\x02\\xc0qv\\x05\\x87\\xb2\\xf2\\x08\\x9dU\\x18\\xcf\\xd4,3Z\\xc7\\x13\\x86u\\x18\\xfc\\x8a\\xb2r\\x94\\n\\xa5Y\\xaa\\xead]C,\\xc8?\\xb0\\x9c\\xff\\xf1\\xefV\\x1d\\xfa\\xdf\\xe6O\\xf4(Jz\\xff\\x07~\\xca\\xad\\xa1\\x11\\xa3\\xc2\\x17\\xdf\\xe3%^\\x94\\xcd\\xfe\\xe5/Z\\xfa\\xb0F\\xbd\\xae\\x149\\xdf\\xec\\xdfP\\xcbQ\\x7f\\x0b\\x82\\xdbO\\xa6\\xf8\\x07PK\\x03\\x04\\x14\\x00\\x00\\x00\\x08\\x00\\x15\\x8f\\xc7P\\x87\\x15i\\xbb4\\x01\\x00\\x00#\\x02\\x00\\x00\\x0f\\x00\\x00\\x00xl/workbook.xml\\x8dQ\\xc1N\\xc30\\x0c\\xfd\\x95*\\x1f@\\xb7\\t&1\\xad\\\\\\x98\\x80I\\x08&\\x86vO[w\\xb5\\x96\\xc4\\x95\\xe3n\\xb0\\xaf\\xc7\\xcd46n\\x9c\\x1c?\\xdb\\xcf\\xcf/\\xf3\\x03\\xf1\\xae$\\xdae_\\xde\\x85X\\x98V\\xa4\\x9b\\xe5y\\xacZ\\xf06\\xdeP\\x07A+\\r\\xb1\\xb7\\xa2)o\\xf3\\xd81\\xd8:\\xb6\\x00\\xe2]>\\x19\\x8d\\xa6\\xb9\\xb7\\x18\\xcc\\xc3\\xfc\\xcc\\xb5\\xe2\\xfc:!\\x81J\\x90\\x82\\x82\\x03\\xb0A8\\xc4K}H3\\xab\\r{\\xf8\\xb4eaF&\\xb3\\xbd\\xd0\\x13:\\x01^X\\x81g\\xa6\\xbe\\xc3\\xb0-\\xcc\\xd8d\\rr\\x94\\xf5\\xb0;uz\\x0c\\xe8\\xf1\\x08u\\xcabK\\x87\\x17b<R\\x10\\xeb\\xd6\\x15\\x93sij(\\xa4!\\xdd\\x10\\x7f\\x91\\r\\xb0`\\xf5\\xa7Ql\\xf9aUka\\xa6#%\\xdcc\\xc4\\x12\\x1d\\xcawa\\xd2\\xdb\\x81\\xd1+\\xf2\\xab3\\x92\\x0f\\xe7x2q\\xc6\\xff\\xb1\\x91\\x9a\\x06+XP\\xd5{\\x08r\\xf2\\x91\\xc1\\r\\xdbCl\\xb1\\x8b&\\x0b\\xd6Ca\\x92\\xf0$Y\\xe3\\xb2>\\xc9\\x175\\xe6\\xa2)\\xe3\\x19j\\x81\\x97\\xf58\\xe9;\\x8b\\xaa\\xa1\\xc1\\x00\\xf5\\x9b\\xf2D\\xc5\\xf5\\xd6j\\xc5\\xd9\\x10\\x12\\xcf\\xe4\\xf6n|\\xaf\\x9e\\xf6\\xce=*\\xf6\\x1e^\\xc9&\\xfe\\x81\\xe3\\xfc?\\x0f?PK\\x03\\x04\\x14\\x00\\x00\\x00\\x08\\x00\\x15\\x8f\\xc7P\\xff\\xc0&\\x08\\xbd\\x00\\x00\\x00\\x85\\x02\\x00\\x00\\x1a\\x00\\x00\\x00xl/_rels/workbook.xml.rels\\xad\\x92A\\n\\x830\\x10\\x00\\xbf\"y@Wm\\xe9\\xa1\\xa8\\xa7^\\xbc\\xb6\\xfd@\\xd0\\xd5\\x88\\x9a\\x84\\xec\\x96\\xea\\xef\\x9bzQA\\xa1\\x07/\\ta\\xc3\\xcc@\\x92<\\xb0\\x93\\xdc\\x18M\\xaa\\xb1\\x14\\x0c}\\xa7)\\x15\\x8a\\xd9\\xde\\x00\\xa8P\\xd8K:\\x19\\x8b\\xdaO*\\xe3z\\xc9\\xfe\\xe8j\\xb0\\xb2he\\x8d\\x10\\x87\\xe1\\x15\\xdc\\x92!\\xb2d\\xc9\\x0c\\xf22\\x15./#\\x11\\xbc\\xa4\\xab\\x91S\\x01C\\x07\\x1f\\xe3ZR\\x88L0m\\xd1\\xc9\\x0b\\xfc\\x95\\xd1\\xe2?zSUM\\x81wS\\xbc{\\xd4\\xbcQ1\\x0b\\x04l\\x07\\xc5s\\x10)\\xe9\\xb0|\\xb2ktMG\\x87\\xac\\xe0{1\\xe7E\\x0c\\x8f\\x1d\\x1e_1Q\\xf7\\xf4\\x97Y\\xcf^\\x820\\xad\\x87\\xbf\\xc9D\\xfd5\\xc0\\xea\\xd7e_PK\\x03\\x04\\x14\\x00\\x00\\x00\\x08\\x00\\x15\\x8f\\xc7P\\x0b\\x8f\\xd8\\x03!\\x01\\x00\\x00W\\x04\\x00\\x00\\x13\\x00\\x00\\x00[Content_Types].xml\\xb5TMO\\xc30\\x0c\\xfd+S\\xafh\\xcd\\xe0\\xc0\\x01m\\xbb\\x00W\\x98\\x04\\x7f $n\\x1b5_\\xb2\\xbd\\xd1\\xfd{\\xdcnCb*bh\\xdb%\\x89\\xf3\\xec\\xf7^\\x12+\\xf3\\xf7m\\x06\\x9at\\xc1GZ\\x14\\rs~P\\x8aL\\x03AS\\x992DA\\xaa\\x84A\\xb3\\x84X\\xab\\xacM\\xabkPw\\xb3\\xd9\\xbd2)2D\\x9er\\xcfQ,\\xe7OP\\xe9\\xb5\\xe7\\xc9\\xe3n\\xbf\\xa7^\\x14:g\\xef\\x8cf\\x97\\xa2\\xdaD{D:\\xdd\\x13\\x96\\x08~\\xc8\\xa1\\xc6e\\xba\\x91\\x84b\\xf2\\xdc\\t\\x0b\\xc9\\xde\\xa2\\x10\\x94\\nu\\x82\\xc2qa\\x1fK\\xdd\\xeb\\x06\\x10\\x9d\\x85\\x7fYKU\\xe5\\x0c\\xd8d\\xd6AJJ\\xca\\x08\\xdaR\\x03\\xc0\\xc1\\x97\\xd4h\\x04\\xfb\\xc6\\xe8b\\xbd\\xf7\\xbb\\xd2\\xc8/:\\x08\\xb1\\xea\\xbc\\xfa\\x91P^\\xcf\\x07o=\\x8c\\x1b\\x18\\x90K*\\xb3\\xb4\\x05\\x8cI\\r\\xc0n\\xbc=K\\xf0\\xd0\\r&!L3\\n\\x8a\\xecF\\x8e\\'\\x96V\\x82\\x92\\xea\\x13/yD\\xe8[\\xc7\\x82=I\\\\\\xa8\\xaf\\xf7\\xb0\\x9f\\t\\xdba=v\\xe1\\xdf \\xa9a:\\xef\\xd6\\xffht\\x99\\xcb\\xa0]\\xfc\\xcd\\xc8GJ\\xedA_\\r\\xff\\xc9\\xf2\\x0bPK\\x01\\x02\\x14\\x03\\x14\\x00\\x00\\x00\\x08\\x00\\x15\\x8f\\xc7P\\x1f#\\xcf\\x03\\xc0\\x00\\x00\\x00\\x13\\x02\\x00\\x00\\x0b\\x00\\x00\\x00\\x00\\x00\\x00\\x00\\x00\\x00\\x00\\x00\\x80\\x01\\x00\\x00\\x00\\x00_rels/.relsPK\\x01\\x02\\x14\\x03\\x14\\x00\\x00\\x00\\x08\\x00\\x15\\x8f\\xc7P\\'\\xe8\\x87\\x0e\\x82\\x00\\x00\\x00\\xb1\\x00\\x00\\x00\\x10\\x00\\x00\\x00\\x00\\x00\\x00\\x00\\x00\\x00\\x00\\x00\\x80\\x01\\xe9\\x00\\x00\\x00docProps/app.xmlPK\\x01\\x02\\x14\\x03\\x14\\x00\\x00\\x00\\x08\\x00\\x15\\x8f\\xc7P\\x04\\xea\\x1c\\xe3\\xef\\x00\\x00\\x00+\\x02\\x00\\x00\\x11\\x00\\x00\\x00\\x00\\x00\\x00\\x00\\x00\\x00\\x00\\x00\\x80\\x01\\x99\\x01\\x00\\x00docProps/core.xmlPK\\x01\\x02\\x14\\x03\\x14\\x00\\x00\\x00\\x08\\x00\\x15\\x8f\\xc7P\\x99\\\\\\x9c#\\x10\\x06\\x00\\x00\\x9c\\'\\x00\\x00\\x13\\x00\\x00\\x00\\x00\\x00\\x00\\x00\\x00\\x00\\x00\\x00\\x80\\x01\\xb7\\x02\\x00\\x00xl/theme/theme1.xmlPK\\x01\\x02\\x14\\x03\\x14\\x00\\x00\\x00\\x08\\x00\\x15\\x8f\\xc7Pv*\\x1eU\\xd4A\\x00\\x00\\xaf,\\x01\\x00\\x18\\x00\\x00\\x00\\x00\\x00\\x00\\x00\\x00\\x00\\x00\\x00\\x80\\x01\\xf8\\x08\\x00\\x00xl/worksheets/sheet1.xmlPK\\x01\\x02\\x14\\x03\\x14\\x00\\x00\\x00\\x08\\x00\\x15\\x8f\\xc7P\\x17\\x16\\xa9Qg\\x00\\x00\\x00r\\x00\\x00\\x00\\x14\\x00\\x00\\x00\\x00\\x00\\x00\\x00\\x00\\x00\\x00\\x00\\x80\\x01\\x02K\\x00\\x00xl/sharedStrings.xmlPK\\x01\\x02\\x14\\x03\\x14\\x00\\x00\\x00\\x08\\x00\\x15\\x8f\\xc7P\\xc9\\xcd\\x9f\\x0b\\xd0\\x01\\x00\\x00q\\x04\\x00\\x00\\r\\x00\\x00\\x00\\x00\\x00\\x00\\x00\\x00\\x00\\x00\\x00\\x80\\x01\\x9bK\\x00\\x00xl/styles.xmlPK\\x01\\x02\\x14\\x03\\x14\\x00\\x00\\x00\\x08\\x00\\x15\\x8f\\xc7P\\x87\\x15i\\xbb4\\x01\\x00\\x00#\\x02\\x00\\x00\\x0f\\x00\\x00\\x00\\x00\\x00\\x00\\x00\\x00\\x00\\x00\\x00\\x80\\x01\\x96M\\x00\\x00xl/workbook.xmlPK\\x01\\x02\\x14\\x03\\x14\\x00\\x00\\x00\\x08\\x00\\x15\\x8f\\xc7P\\xff\\xc0&\\x08\\xbd\\x00\\x00\\x00\\x85\\x02\\x00\\x00\\x1a\\x00\\x00\\x00\\x00\\x00\\x00\\x00\\x00\\x00\\x00\\x00\\x80\\x01\\xf7N\\x00\\x00xl/_rels/workbook.xml.relsPK\\x01\\x02\\x14\\x03\\x14\\x00\\x00\\x00\\x08\\x00\\x15\\x8f\\xc7P\\x0b\\x8f\\xd8\\x03!\\x01\\x00\\x00W\\x04\\x00\\x00\\x13\\x00\\x00\\x00\\x00\\x00\\x00\\x00\\x00\\x00\\x00\\x00\\x80\\x01\\xecO\\x00\\x00[Content_Types].xmlPK\\x05\\x06\\x00\\x00\\x00\\x00\\n\\x00\\n\\x00\\x80\\x02\\x00\\x00>Q\\x00\\x00\\x00\\x00',\n",
              " 'based_ml.xlsx': b'PK\\x03\\x04\\x14\\x00\\x00\\x00\\x08\\x00t\\x8e\\xc7P\\x1f#\\xcf\\x03\\xc0\\x00\\x00\\x00\\x13\\x02\\x00\\x00\\x0b\\x00\\x00\\x00_rels/.rels\\xad\\x92O\\x8b\\xc2@\\x0c\\xc5\\xbfJ\\x99\\xfb\\x1aW\\xc1\\xc3b=y\\xe9mY\\xfc\\x02q&\\xfdC;\\x93!\\x13\\xb1~{\\x87\\xbdl\\xb7TP\\xf0\\x18^\\xf2\\xde\\x8fG\\xf6?4\\xa0v\\x1cR\\xdb\\xc5T\\x8c~\\x08\\xa94\\xadj\\xfc\\x02H\\xb6%\\x8fi\\xc5\\x91BVj\\x16\\x8f\\x9aGi \\xa2\\xed\\xb1!\\xd8\\xac\\xd7;\\x90\\xa9\\x879\\xec\\xa7\\x9eE\\xe5J#\\x95\\xfb4\\xc5\\t\\xa5!-\\xcd8\\xc0\\x95\\xa5?3\\xf7\\xabl\\x9b\\x85[\\xa4gB\\xb9\\xae;KG\\xb6\\x17OA\\x17\\xb2g\\x1b\\x06\\x96Y6\\x7f,\\x8e\\xed\\xb7p\\xbe\\xb4,\\xf4\\x1a\\xcd\\xe3\\n\\xc0\\x93\\xa2C\\xc5_\\xd7\\x8f\\x98\\x03H\\xb4\\xa3\\xf4\\x08h\\xbb\\x00\\x841\\xbe\\xbb\\x1d\\x1a\\x95\\x82#7#\\x82\\x7f?p\\xb8\\x03PK\\x03\\x04\\x14\\x00\\x00\\x00\\x08\\x00t\\x8e\\xc7P\\'\\xe8\\x87\\x0e\\x82\\x00\\x00\\x00\\xb1\\x00\\x00\\x00\\x10\\x00\\x00\\x00docProps/app.xmlM\\x8eM\\x0b\\xc20\\x10D\\xffJ\\xe9\\xddn)\\xe8Ab@\\xb0G\\xc1\\x93\\xf7\\x90nl \\xc9\\x86\\xcd\\n\\xf9\\xf9\\xa6\\x82\\x1f\\xb7y\\xbca\\x18uc\\xca\\xc8\\xe2\\xb1t5\\x86TN\\xfd*\\x92\\x8f\\x00\\xc5\\xae\\x18M\\x19\\x9aN\\xcd8\\xe2h\\xa4!?\\x80\\x9c\\xf3\\x16/d\\x9f\\x11\\x93\\xc04\\x8e\\x07\\xc0*\\x98\\x16\\\\v\\xf9;\\xd8ku\\xce9xk\\xc4S\\xd2Wo\\x99\\n9\\xe9\\xe6j1(\\xf8\\x97[\\xf3\\x8e\\\\\\xb6<\\r\\xfb\\xb7\\xfc\\xb0\\x82\\xdfI\\xfd\\x02PK\\x03\\x04\\x14\\x00\\x00\\x00\\x08\\x00t\\x8e\\xc7P\\x04\\xea\\x1c\\xe3\\xef\\x00\\x00\\x00+\\x02\\x00\\x00\\x11\\x00\\x00\\x00docProps/core.xml\\xcd\\x92\\xc1j\\xc30\\x0c\\x86_e\\xf8\\x9e\\xc8I\\xa0e&\\xf5e\\xa5\\xa7\\r\\x06+l\\xecfl\\xb55\\x8bcck$}\\xfb9Y\\x9b2\\xb6\\x07\\xd8\\xd1\\xd2\\xefO\\x9f@\\xad\\x0eB\\xfb\\x88\\xcf\\xd1\\x07\\x8cd1\\xdd\\x8d\\xae\\xeb\\x93\\xd0a\\xc3NDA\\x00$}B\\xa7R\\x99\\x13}n\\x1e|t\\x8a\\xf23\\x1e!(\\xfd\\xa1\\x8e\\x085\\xe7+pH\\xca(R0\\x01\\x8b\\xb0\\x10\\x99l\\x8d\\x16:\\xa2\"\\x1f/x\\xa3\\x17|\\xf8\\x8c\\xdd\\x0c3\\x1a\\xb0C\\x87=%\\xa8\\xca\\n\\x98\\x9c&\\x86\\xf3\\xd8\\xb5p\\x03L0\\xc2\\xe8\\xd2w\\x01\\xcdB\\x9c\\xab\\x7fb\\xe7\\x0e\\xb0KrLvI\\r\\xc3P\\x0e\\xcd\\x9c\\xcb;T\\xf0\\xf6\\xf4\\xf82\\xaf[\\xd8>\\x91\\xea5\\xe6_\\xc9\\n:\\x07\\xdc\\xb0\\xeb\\xe4\\xd7\\xe6a\\xbb\\xdf1Y\\xf3\\x9a\\x17|U\\xf0\\xf5\\xbeZ\\x8b\\xfa^4\\xd5\\xfb\\xe4\\xfa\\xc3\\xef&\\xec\\xbc\\xb1\\x07\\xfb\\x8f\\x8d\\xaf\\x82\\xb2\\x85_w!\\xbf\\x00PK\\x03\\x04\\x14\\x00\\x00\\x00\\x08\\x00t\\x8e\\xc7P\\x99\\\\\\x9c#\\x10\\x06\\x00\\x00\\x9c\\'\\x00\\x00\\x13\\x00\\x00\\x00xl/theme/theme1.xml\\xedZ[s\\xda8\\x14~\\xef\\xaf\\xd0xg\\xf6m\\x0b\\xc66\\x81\\xb6\\xb4\\x13siv\\xdb\\xb4\\x99\\x84\\xedN\\x1f\\x85\\x11X\\x8dlyd\\x91\\x84\\x7f\\xbfG6\\x10\\xcb\\x96\\r\\xed\\x92M\\xba\\x9b<\\x04,\\xe9\\xfb\\xceEG\\xe7\\xe88y\\xf3\\xee.b\\xe8\\x86\\x88\\x94\\xf2x`\\xd9/\\xdb\\xd6\\xbb\\xb7/\\xde\\xe0W2$\\x11A0\\x19\\xa7\\xaf\\xf0\\xc0\\n\\xa5L^\\xb5Zi\\x00\\xc38}\\xc9\\x13\\x12\\xc3\\xdc\\x82\\x8b\\x08Kx\\x14\\xcb\\xd6\\\\\\xe0[\\x1a/#\\xd6\\xea\\xb4\\xdb\\xddV\\x84il\\xa1\\x18Gd`}^,h@\\xd0TQZo_ \\xb4\\xe5\\x1f3\\xf8\\x15\\xcbT\\x8de\\xa3\\x01\\x13WA&\\xb9\\x88\\xb4\\xf2\\xf9l\\xc5\\xfc\\xda\\xde>e\\xcf\\xe9:\\x1d2\\x81n0\\x1bX \\x7f\\xceo\\xa7\\xe4NZ\\x88\\xe1T\\xc2\\xc4\\xc0jg?Vk\\xc7\\xd1\\xd2H\\x80\\x82\\xc9}\\x94\\x05\\xbaI\\xf6\\xa3\\xd3\\x15\\x082\\r;:\\x9dX\\xcev|\\xf6\\xc4\\xed\\x9f\\x8c\\xca\\xdat4m\\x1a\\xe0\\xe3\\xf1x8\\xb6\\xcb\\xd2\\x8bp\\x1c\\x04\\xe0Q\\xbb\\x9e\\xc2\\x9d\\xf4l\\xbf\\xa4A\\t\\xb4\\xa3i\\xd0d\\xd8\\xf6\\xda\\xae\\x91\\xa6\\xaa\\x8dSO\\xd3\\xf7}\\xdf\\xeb\\x9bh\\x9c\\n\\x8d[O\\xd3kw\\xdd\\xd3\\x8e\\x89\\xc6\\xad\\xd0x\\r\\xbe\\xf1O\\x87\\xc3\\xae\\x89\\xc6\\xab\\xd0t\\xebi&\\'\\xfd\\xaek\\xa4\\xe9\\x16hBF\\xe3\\xebz\\x12\\x15\\xb5\\xe5@\\xd3 \\x00Xpv\\xd6\\xcc\\xd2\\x03\\x96^)\\xfau\\x94\\x1a\\xd9\\x1d\\xbb\\xddA\\\\\\xf0X\\xee9\\x89\\x11\\xfe\\xc6\\xc5\\x04\\xd6i\\xd2\\x19\\x964Fr\\x9d\\x90\\x05\\x0e\\x007\\xc4\\xd1LP|\\xafA\\xb6\\x8a\\xe0\\xc2\\x92\\xd2\\\\\\x90\\xd6\\xcf)\\xb5P\\x1a\\x08\\x9a\\xc8\\x81\\xf5G\\x82!\\xc5\\xdc\\xaf\\xfd\\xf5\\x97\\xbb\\xc9\\xa43z\\x9d}:\\xcek\\x94\\x7fi\\xab\\x01\\xa7\\xed\\xbb\\x9b\\xcf\\x93\\xfcs\\xe8\\xe4\\x9f\\xa7\\x93\\xd7MB\\xcep\\xbc,\\t\\xf1\\xfb#[a\\x87\\'n;\\x13r:\\x1cgB|\\xcf\\xf6\\xf6\\x91\\xa5%2\\xcf\\xef\\xf9\\n\\xebN<g\\x1fV\\x96\\xb0]\\xcf\\xcf\\xe4\\x9e\\x8cr#\\xbb\\xdd\\xf6X}\\xf6OGn#\\xd7\\xa9\\xc0\\xb3\"\\xd7\\x94F$E\\x9f\\xc8-\\xba\\xe4\\x118\\xb5I\\r2\\x13?\\x08\\x9d\\x86\\x98jP\\x1c\\x02\\xa4\\t1\\x96\\xa1\\x86\\xf8\\xb4\\xc6\\xac\\x11\\xe0\\x13}\\xb7\\xbe\\x08\\xc8\\xdf\\x8d\\x88\\xf7\\xabo\\x9a=W\\xa1XI\\xda\\x84\\xf8\\x10F\\x1a\\xe2\\x9cs\\xe6s\\xd1l\\xfb\\x07\\xa5F\\xd1\\xf6U\\xbc\\xdc\\xa3\\x97X\\x15\\x01\\x97\\x18\\xdf4\\xaa5,\\xc5\\xd6x\\x95\\xc0\\xf1\\xad\\x9c<\\x1d\\x13\\x12\\xcd\\x94\\x0b\\x06A\\x86\\x97$&\\x12\\xa99~MH\\x13\\xfe+\\xa5\\xda\\xfe\\x9c\\xd3@\\xf0\\x94/$\\xfaJ\\x91\\x8fi\\xb3#\\xa7t&\\xcd\\xe83\\x1a\\xc1F\\xaf\\x1bu\\x87h\\xd2<z\\xfe\\x05\\xf9\\x9c5\\n\\x1c\\x91\\x1b\\x1d\\x02g\\x1b\\xb3F!\\x84i\\xbb\\xf0\\x1e\\xaf$\\x8e\\x9a\\xad\\xc2\\x11+B>b\\x196\\x1ar\\xb5\\x16\\x81\\xb6q\\xa9\\x84`Z\\x12\\xc6\\xd1xN\\xd2\\xb4\\x11\\xfcY\\xac5\\x93>`\\xc8\\xec\\xcd\\x91u\\xce\\xd6\\x91\\x0e\\x11\\x92^7B>b\\xce\\x8b\\x90\\x11\\xbf\\x1e\\x868J\\x9a\\xed\\xa2qX\\x04\\xfd\\x9e^\\xc3I\\xc1\\xe8\\x82\\xcbf\\xfd\\xb8~\\x86\\xd53l,\\x8e\\xf7G\\xd4\\x17J\\xe4\\x0f&\\xa7?\\xe924\\x07\\xa3\\x9aY\\t\\xbd\\x84Vj\\x9f\\xaa\\x874>\\xa8\\x1e2\\n\\x05\\xf1\\xb9\\x1e>\\xe5zx\\n7\\x96\\xc6\\xbcP\\xae\\x82{\\x01\\xff\\xd1\\xda7\\xc2\\xab\\xf8\\x82\\xc09\\x7f.}\\xcf\\xa5\\xef\\xb9\\xf4=\\xa1\\xd2\\xb77#}g\\xc1\\xd3\\x8b[\\xdeFn[\\xc4\\xfb\\xae1\\xda\\xd74.(cWr\\xcd\\xc8\\xc7T\\xaf\\x93)\\xd89\\x9f\\xc0\\xec\\xfdh>\\x9e\\xf1\\xed\\xfa\\xd9$\\x84\\xaf\\x9aY-#\\x16\\x90K\\x81\\xb3A$\\xb8\\xfc\\x8b\\xca\\xf0*\\xc4\\t\\xe8d[%\\t\\xcbT\\xd3e7\\x8a\\x12\\x9eB\\x1bn\\xe9S\\xf5J\\x95\\xd7\\xe5\\xaf\\xb9(\\xb8<[\\xe4\\xe9\\xaf\\xa1t>,\\xcf\\xf9<_\\xe7\\xb4\\xcd\\x0b3C\\xb7rK\\xea\\xb6\\x94\\xbe\\xb5&8J\\xf4\\xb1\\xccpN\\x1e\\xcb\\x0c;g<\\x92\\x1d\\xb6w\\xa0\\x1d5\\xfb\\xf6]v\\xe4#\\xa50S\\x97C\\xb8\\x1aB\\xbe\\x03m\\xba\\x9d\\xdc:8\\x9e\\x98\\x91\\xb9\\n\\xd3R\\x90o\\xc3\\xf9\\xe9\\xc5x\\x1a\\xe29\\xd9\\x04\\xb9}\\x98Wm\\xe7\\xd8\\xd1\\xd1\\xfb\\xe7\\xc1Q\\xb0\\xa3\\xef<\\x96\\x1d\\xc7\\x88\\xf2\\xa2!\\xee\\xa1\\x86\\x98\\xcf\\xc3C\\x87y{_\\x98g\\x95\\xc6P4\\x14ml\\xac$,F\\xb7`\\xb8\\xd7\\xf1,\\x14\\xe0d`-\\xa0\\x07\\x83\\xafQ\\x02\\xf2RU`1[\\xc6\\x03+\\x90\\xa2|L\\x8cE\\xe8p\\xe7\\x97\\\\_\\xe3\\xd1\\x92\\xe3\\xdb\\xa6e\\xb5n\\xaf)w\\x19m\"R9\\xc2i\\x98\\x13g\\xab\\xca\\xdee\\xb1\\xc1U\\x1d\\xcfU[\\xf2\\xb0\\xbej=\\xb4\\x15N\\xcf\\xfeY\\xad\\xc8\\x9f\\x0c\\x11N\\x16\\x0b\\x12Hc\\x94\\x17\\xa6J\\xa2\\xf3\\x19S\\xbe\\xe7+I\\xc4U8\\xbfE3\\xb6\\x12\\x97\\x18\\xbc\\xe3\\xe6\\xc7qNS\\xb8\\x12v\\xb6\\x0f\\x022\\xb9\\xbb9\\xa9ze1g\\xa6\\xf2\\xdf-\\x0c\\t,[\\x88Y\\x12\\xe2M]\\xed\\xd5\\xe7\\x9b\\x9c\\xaez\"v\\xfa\\x97w\\xc1`\\xf2\\xfdp\\xc9G\\x0f\\xe5;\\xe7_\\xf4]C\\xae~\\xf6\\xdd\\xe3\\xfan\\x93;HL\\x9cy\\xc5\\x11\\x01tE\\x02#\\x95\\x1c\\x06\\x16\\x172\\xe4P\\xee\\x92\\x90\\x06\\x13\\x01\\xcd\\x94\\xc9D\\xf0\\x02\\x82d\\xa6\\x1c\\x80\\x98\\xfa\\x0b\\xbd\\xf2\\x0c\\xb9)\\x15\\xce\\xad>9\\x7fE,\\x83\\x86N^\\xd2%\\x12\\x14\\x8a\\xb0\\x0c\\x05!\\x17r\\xe3\\xef\\xef\\x93jw\\x8c\\xd7\\xfa,\\x81m\\x84T2d\\xd5\\x17\\xcaC\\x89\\xc1=3rC\\xd8T%\\xf3\\xae\\xda&\\x0b\\x85\\xdb\\xe2T\\xcd\\xbb\\x1a\\xbe&`K\\xc3zn\\x9d-\\'\\xff\\xdb^\\xd4=\\xb4\\x17=F\\xf3\\xa3\\x99\\xe0\\x1e\\xb3\\x87s\\x9bz\\xb8\\xc2E\\xac\\xffX\\xd6\\x1e\\xf92\\xdf9p\\xdb:\\xde\\x03^\\xe6\\x13,C\\xa4~\\xc1}\\x8a\\x8a\\x80\\x11\\xabb\\xbe\\xba\\xafO\\xf9%\\x9c;\\xb4{\\xf1\\x81 \\x9b\\xfc\\xd6\\xdb\\xa4\\xf6\\xdd\\xe0\\x0c|\\xd4\\xabZ\\xa5d+\\x11?K\\x07|\\x1f\\x92\\x06c\\x8c[\\xf44_\\x8f\\x14b\\xad\\xa6\\xb1\\xad\\xc6\\xda1\\x0cy\\x80X\\xf3\\x0c\\xa1f8\\xdf\\x87E\\x9a\\x1a3\\xd5\\x8b\\xac9\\x8d\\noA\\xd5@\\xe5?\\xdb\\xd4\\rh\\xf6\\r4\\x1c\\x91\\x05^1\\x99\\xb66\\xa3\\xe4N\\n<\\xdc\\xfe\\xef\\r\\xb0\\xc2\\xc4\\x8e\\xe1\\xed\\x8b\\xbf\\x01PK\\x03\\x04\\x14\\x00\\x00\\x00\\x08\\x00t\\x8e\\xc7P\\xf8\\x8a4\\xdd\\xcfA\\x00\\x00\\xac,\\x01\\x00\\x18\\x00\\x00\\x00xl/worksheets/sheet1.xml\\x8d\\x9d\\xeb\\xcee\\xc7q\\x9eo\\x85\\xe0\\x054\\xfbT}0$\\x019 H~\\x040\\x12$\\xf9=\\xb6F\\x12aRT\\xc8\\xb1\\x95\\xdc}\\xdew\\x8d#|\\xb5\\xb3\\x1f\"\\x82m\\x91\\x94\\xa7\\xb5\\xf6ZU\\xd5U\\xf5\\xd4\\xe17\\x7f\\xfd\\xe9\\xe7\\x7f\\xfa\\xe5O\\x9f?\\x7f\\xf9\\xe6\\x7f\\xfd\\xf8\\xc3\\x9f\\x7f\\xf9\\xed\\xb7\\x7f\\xfa\\xf2\\xe5/\\x7f\\xf7\\xddw\\xbf\\xfc\\xe3\\x9f>\\xff\\xf8\\xe9\\x97\\xf2\\xd3_>\\xffY\\xff\\xc9\\x1f~\\xfa\\xf9\\xc7O_\\xf4\\xb7?\\xff\\xf1\\xbb_\\xfe\\xf2\\xf3\\xe7O\\xbf\\x7f\\xfe\\xd0\\x8f?|\\xd7k]\\xdf\\xfd\\xf8\\xe9\\xfb?\\x7f\\xfb\\xbb\\xdf<\\xff\\xec\\xef\\x7f\\xfe\\xddo~\\xfa\\xe7/?|\\xff\\xe7\\xcf\\x7f\\xff\\xf37\\xbf\\xfc\\xf3\\x8f?~\\xfa\\xf9\\x7f\\xff\\xdb\\xcf?\\xfc\\xf4\\xd7\\xdf~\\xdb\\xbe\\xfd\\xbf\\xff\\xe0\\xbf|\\xff\\xc7?}\\xf1?\\xf8\\xeew\\xbf\\xf9\\xcb\\xa7?~\\xfe\\xaf\\x9f\\xbf\\xfc\\xb7\\xbf\\xfc\\xfd\\xcf\\xfa\\xbb\\xef\\xfev\\xca\\xef\\xbf\\xff\\xf1\\xf3\\x9f\\x7f\\xf9\\xfe\\xa7?\\x7f\\xf3\\xf3\\xe7?\\xfc\\xf6\\xdb\\x7f\\xd3\\xfe\\xee\\xdf\\xdc{\\xfc\\'\\x9e\\xff\\x97\\xff\\xfe\\xfd\\xe7\\xbf\\xfe\\xf2\\xe1\\xaf\\xbf\\xf1o\\xf9\\x87\\x9f~\\xfa\\'\\xff\\xcd\\x7f\\xfa\\xfdo\\xbf\\xad~\\xa4\\xcf?|\\xfe\\xc7/>\\xe3\\x93\\xfe\\xed_>\\xff\\xbb\\xcf?\\xfc\\xe0\\xa3\\xf4 \\xff\\xf3_O\\xfd\\xf6o\\xff\\xa5\\xfe\\x83\\x1f\\xff\\xfa\\xff\\x9e\\xfe\\x1f\\x9e_\\xaf_\\xf3\\x0f\\x9f~\\xf9\\xfc\\xef~\\xfa\\xe1\\x7f|\\xff\\xfb/\\x7f\\xfa\\xed\\xb7\\xe7\\xdbo~\\xff\\xf9\\x0f\\x9f\\xfe\\xf9\\x87/\\xff\\xe5\\xa7\\xbf\\xfe\\xc7\\xcf\\xff\\xfa\\x8b\\xe2o\\x0f\\xf8\\xef?}\\xf9\\xf4\\xbb\\xdf\\xfc\\xfc\\xd3_\\xbf\\xf9\\xf9\\xebO\\xff\\xcb\\'\\xbf\\xe1\\xf6wM\\x0f\\xf6\\x8f\\xfe\\x87\\xcfs<\\xff\\x99\\xfe\\xe4/\\xfa\\xa7\\xff\\xf2\\xbb\\xfa\\x9b\\xef\\xfeE\\xcf\\xf0\\x8f\\xfa_\\xfd\\xc9\\xbf\\xfd\\xf1\\xfe\\xf6\\x8f\\xf7\\xe7\\x0f\\xfe\\xf9\\xf9\\x83\\xed\\xec\\x16\\xa5\\xee:o\\x9f\\xd1\\xa3\\xbd?h\\xbc=h|<h\\x8dU\\xcb\\x9a\\xad\\xce\\x1d\\xb1\\xee}\\x7f\\xd0|{\\xd0\\xfcx\\xd0\\x9cm\\x97vu\\xdclgU8(\\xde\\x1e\\x14\\x1f\\x0e\\x9a\\xfd\\xf6^\\xf6\\xad\\xb1\\xf7\\xecs\\xce\\xf7\\x07\\xad\\xb7\\x07\\xad\\x8fOT\\xd7\\xdde\\xb5\\xb5\\xeb\\xbd\\xfd\\xac\\xfd\\xfe\\xa0\\xfd\\xf6\\xa0\\xfd\\xe1\\xa0\\xaew\\xdd\\xcb\\x98wDo\\xb3\\x0e8\\xe8\\xbc=\\xe8||\\xa2\\xad\\xdfV\\xce>1N\\xd4\\xde\\xdf\\x9fs\\xdf\\x9es?\\x9e\\xd3\\xc7\\xace\\xd7\\xb5F\\xdcq\\x07|\\xfdV\\xdf\\x8baM\\xdf\\x7f\\xe9\\xfb\\x8fqj\\xd7#\\xed\\x03\\xcf\\xd4@\\xa2\\xdb\\xc7\\xd7TG\\x9bz\\xdf\\xf7\\xee\\xb6\\xe7\\x8c\\x05G\\xbd\\x97\\xee\\xd6\\xd3Q\\xd1u\\xd4Y\\xd1j\\x9f\\x87Nz/\\xde-\\xc9w\\xd4\\xb9Jom\\xeb\\xc7\\xb5v@,\\xdb{\\x01o3\\x7f\\xbd3\\xca\\xa8\\xbd\\xde\\xb8{\\x8e\\x01G\\xbd\\x17\\xf1\\x16IYn\\x97\\xd6\\xe9q\\xa6\\xde\\xda\\x9d\\x01G\\xbd\\x17\\xf2\\xf6Q\\xca\\xe3\\xf4\\x15\\xe5\\xb6\\xde\\x8f\\xb4N\\x9f\\x13\\x8ez/\\xe6\\xed\\xa3\\x9c\\x1f=L\\xe9\\xfd\\xce\\x16\\xa7\\xe9Tz\\xaa\\xf7\\x82\\xde>Jz\\x97@\\xcdrj\\r\\xfd\\xab_z\\xa8\\xf7\\xa2\\xde>\\xca\\xfa\\xd1\\xcb.C\\x96I\\xef\\xe9\\xaey\\x0e\\x98\\xcc\\xf7\\xb2\\xde?\\xca\\xfa\\xea\\xf3\\x96\\xa5\\xb7\\xddZ\\xbds\\x0f\\x90\\x85\\xfe^\\xd6{K\\xf6\\xb7\\x1f\\x9d\\xd5t\\xd4\\xa9c\\\\z*\\xb0\\xe4\\x1fe}\\xb4.e\\xae;d\\x7f\\xf5\\\\\\x01\\x1a\\xd8\\xdf\\x0b{\\xff(\\xec[\\x12Zz\\xdc6\\xa4\\xcc\\xfbN\\xfa\\x81\\xef\\x85\\xbd\\xcf\\xa4\\x81\\xf5\\xc8\\xc4X\\x95e\\xf3Z\\x83/\\xd8\\xdf\\x0b{O\\xc2\\xbeo\\xd3cY\\x91\\xe3\\xac\\xb1\\xe9\\x07\\xbe\\x17\\xf6\\x9eLz\\x97\\x05.k\\xf8\\xb1\\xea:\\x95\\x9e\\xea\\xbd\\xb0\\xf7d\\xd4\\xfb\\x99Q\\x8e\\xa4}\\xd7\\xa1\\xeb\\x8f\\x8ez/\\xec=\\x9b\\xf5+a\\x90\\x9c\\xea\\xcd\\xef&\\xe3\\x0cG\\xbd\\x97\\xf6\\xfeQ\\xda{\\x1b\\xc7\\x86\\xafK\\x91g\\xdc\\x03W\\xcdx/\\xed\\xe3\\xa3\\xb4G=\\xba\\xb5Z\\xd3\\x95,\\x1f\\x81Tp\\xbc\\x17\\xf6\\x91\\x84]\\x9fn\\x14\\xfd\\xbc\\xd1e\\x19\\xe4(\\xc0Q\\xef\\x85}$\\xbfe\\xaf%u^\\xfbJ\\x0f-\\xa6p\\x148.\\xc9\\xb2K\\xf3\\xf4\\xd6\\xf5\\xaf\\x1am\\xef\\xa0\\xa3\\xde\\x0b\\xfb\\xf8(\\xec\\xa3\\xebi\\xca\\xddU\"\\xd1\\xef8\\xe4M\\xbd\\x17\\xf6\\xf1Q\\xd8\\xaf\\xccq92\\xc5KOt\\xe7\\x01Y\\x18\\xef\\x85}\\xac,Vc\\x95\\xdde\\xa8N;\\x01~\\xd0x/\\xeb\\xe3\\xa3\\xac\\xef\\xb6\\xea(\\xcd\\x92^\\xf5\\xda\\x1a\\x18\\xf6\\xf1^\\xd6G2\\xec\\xad\\xca\\x1e\\xaf\\xd5\\xcf\\x96_5\\'\\xbd\\xf5\\xf7\\xb2>\\x92\\x17\\xa3\\xebfI@\\x15S\\xc8/\\xd2U\\x01\\xae\\xe7{Y\\x9f\\xc9\\x8b\\xd1muu\\xdd\\x1c\\x99\\xbd\\xd3uY\\xc0Q\\xef\\x85}&/F\\x02\\xaa[p\\x1fYd9\\x8d\\x13>\\xe0|/\\xec3{1]\\x86O\\xee\\xd0\\\\\\xf36\\xd9w8\\xea\\xbd\\xb0\\xcf\\x8f\\xc2>\\xc7\\xd9\\xb5\\\\\\x1b\\xe2\\xb9z\\x90\\xc77\\xc1OO\\xc2.+\\\\\\xc6\\x19{\\xc8\\xe8\\x8d\\x8e?\\xf0\\xbd\\xb0\\xcf\\xe4\\xaa\\x87|\\xf42\\xfb\\xb0\\x16\\xa2\\x89\\x99\\xefe}~\\x94\\xf5+\\xd3R\\xe6\\xbcR\\x9a\\x18\\x95\\x1e\\xe9\\xbd\\xa8\\xcf\\x8f\\xa2>\\xe4y\\x16Y\\x19\\x19R=\\xd1l\\xa05\\xf3\\xbd\\xa8\\xcf\\xec\\xc3\\xd8\\x167\\x99\\xd11\\x97/\\t8\\xea\\xbd\\xa8\\xcf\\xe4\\xc4,\\xc7F~[\\xa7]Yd8*\\xde\\x8bzdQW\\x1cR\\xa2\\xc6\\x94\\xe3\\xa1\\xc0\\x84\\xe2\\xac\\xf7\\xa2\\x1e\\x1fE}\\xfb\\x8a\\x8f3\\xeaR\\x9c\\x15\\x8b\\xcc^\\xbc\\x17\\xf5HN\\x8c\\xdc\\xd8\"\\x9b\\x1e1\\xc6\\x90\\x9d\\xa1\\xa3\\xde\\x8bzdQ\\x9f\\xba\"\\xe4@*\\xf6\\xdb\\xd6F8\\xea\\xbd\\xa8G\\xf2\\xd8k\\x95\\x17\\xaa\\xebA\\xbf\\xed\\xecM\\xbeq@P\\xfaQ\\xd4C6]\\xae\\xd5\\n\\xbd\\xf3\\xd5\\x15O\\xc0Q\\xefe=>\\xca\\xfa\\xb2GU\\xee\\x18\\xa1\\x8by\\x1d|\\xed\\xef\\xa5=\\x92\\x133\\xce\\x95?\\xe4\\xd7\\xae\\xe8[o\\x0b\\x8ez/\\xed\\x91\\x9c\\x98)\\xbd+\\x8e\\x06%\\xa7\\x07LU\\xbc\\x97\\xf5\\xc8.L\\x97\\xb0\\x87MK;g`\\xfc\\xfe^\\xd6\\xd7GY\\x7f\\xae>\\xc9\\xfa\\xdar\\xb1\\x97\\x0288\\xea\\xbd\\xac\\xaf\\x8f\\xb2\\xbe\\xa6,\\x95\\x1e\\xadN]Z\\xfb\\x92\\xbb\\xb7\\xde\\xcb\\xfa\\xea\\xe9\\xa8Ve\\x16\\xf6\\x91!\\x96#\\xb3\\xe9\\x07\\xbe\\x97\\xf5\\x95|\\x18\\xdf\\x0bE\\x17\\x8d\\xec\\x83\\\\\\x0f\\xca,\\xac\\xf7\\xb2\\xbe>\\xca\\xfa\\x91\\xbe\\x14\\x89fH\\x7f| \\x9c\\xf4^\\xd4W\\x12u)]/\\xb7\\xefVec\\xf4\\x03\\xe1(\\xc8\\xc0\\xac\\xa4\\xcb\\x12\\xa7\"\\x8b\\xa5\\x17/\\xc7\\x8a\\\\\\xff\\xf5^\\xd4W\\nN\\xf7\\x1a!\\x1f\\xc6\\xfaG^\\xc7z/\\xe7+YuEnQBf\\xb4\\x0f9\\x0b\\x8b\\x8ez/\\xe9+I\\xba\\x9d\\x8d\"\\xd5\\x9bR\\xe5s+%\\x98\\xdeK\\xfaN\\x92^uV\\x99UJ\\xa3\\xb8\\xa65\\xb8\\x01\\xf7{I\\xdf\\x1f%]\\xb1\\xc8u\\x8e\\xa9\\x0fyjzD0/\\xfb\\xbd\\xa4\\xef\\xe4\\xc0\\xf8\\xfb\\x17]\\x10NWYw\\xe0\\xa8\\xf7\\x92\\xbe\\x93\\xa4\\x1f\\xdd\\xede\\xcf\\xba\\xe5\\xca\\xda\\\\\\xc1Q\\xef%}\\xa7\\xd0\\xd4\\xf1m\\xd9r\\x84\\xf4\\x0b\\xe7&[\\xb5\\xdf\\x8b\\xfa\\xfe\\x7f\\xac\\xbasUm\\xb53:e<\\xf6{Q\\xdf\\xc9[\\x0f\\xb9e\\xf2<\\xec\\x9c\\xe9\\x92\\xa7D\\xd3\\x86tc\\xb2\\xea\\xb5\\xcao\\x94\\xcfq\\x96\\xee\\xac \\xc7x\\xbf\\x97\\xf6\\xfdQ\\xda\\x97\\x1c\\xb3\\xd2\\xcfx,\\xb1\\x1c\\x06\\x90\\xf6\\xfd^\\xdaw\\x92v\\xf9A\\n\\xdd\\xf6\\x19\\xbao\\xe4\\xd8\\xc2Q\\xe7\\xbd\\xb4\\x9f\\x8f\\xd2>%\\x99\\xab\\xc4\\xbc\\xce\\xa2\\x90\\xa9:\\xefe\\xfd$g}\\xcb\\xd6\\xc9\\xbe\\xc4\\xec]\\xc2N/\\xfd\\xbc\\x97\\xf5\\x93\"\\xd3\\xa5\\xc3\\x8a\\xfc<\\xdf\\xf1\\nM@@\\xcf{Y?#\\xdd\\x80\\n\\x1b\\x8a\\x14f\\xc8\\xd3\\xf3%\\x01G\\xbd\\x97\\xf5\\x93\\xb3\\xeaw\\xb4G\\x03\\xe5\\xceV\\xf4\\xab\\xce{Y?\\x1fe]\\x97^\\xbb\\xb2VKv\\xcf\\xd9B\\xcab\\xbf\\x97\\xf5\\xf3Q\\xd6\\x15x\\x0f\\x7f?\\'(\\xaaM\\x17\\x1c\\xf5^\\xd6\\xcfGY\\x97\\xb3\\xd0eC\\xc37\\xfcYc\\xd1k\\x87\\xe4\\xfaGY\\x1f\\xd3\\xe0@\\xcfTu\\xed(\\xe6\"\\x01}/\\xeb\\xe7\\xa3\\xacoY\\xe0+\\r\\x94+\\xa4\\x97U)\\x01}\\xdf\\xcb\\xfaM\\xfe\\xba\\x02-\\xc5[\\xb3J\\x0e\\xe4\\xcc\\x12\\xa9\\xb9\\xef\\xa5\\xfd\\xe6\\xd0T\\xcfU\\xf4\\xee\\xf5\\xf5t\\x97\\x92\\r\\xbd\\xef\\xa5\\xfd\\xf6l\\xad\\xe4\\xed\\r\\xdd\\xf4U\\xce^\\xa3 \\xf0\\xbe\\x97\\xf6\\x9b\\xa4=L\\x10|\\xab\\xde\\x1b\\xb7R\\xd2\\xf1\\xbe\\x97\\xf6\\x9b\\xa4]N\\x7f+\\xfb>\\xe9z\\xd9\\x19zW\\xef\\xa5\\xfd\\xe6\\x0c\\xbb,K\\x91\\xffo\\x97\\xe8T\\xca_\\xde\\xf7\\xd2~W\\xd6\\xc1^\\x8b\\xdd\\xb3U\\x9d/\\x04\\xb9\\xba\\xef\\xa5\\xfd&\\xcb~j\\xf7%\\xb1\\xd6\\xf0\\xbf:\\xbd\\xab\\xf7\\xd2~\\x93e\\xaf\\xce~M\\xbf\\'\\xc5o1\\xe9]\\x01MJ\\x89\\x98\\xa5s$\\x0cuIL\\xa3]b@\\x95xR\\xf6d\\xae\\xa2\\x9b-\\xfd\\x91(\\x0c>\\x0b\\x80RM\\x02\\xaf\\xd7\\xad\\xb0R^\\x83\\xf3\\xaa25t\\x18 \\xa5\\x9aBT\\xdd\\xa6&\\t]\\xffxI\\xc4@{Z\\x05\\xaaT\\x93;3\\xa2\\xda_;G\\x11\\xe6=\\x08p*p\\xa5\\x9a\\xc4^\\xde\\xd5,\\xa6\\xafs\\xcb\\x88\\x05\\x81\\xa5\\nd\\xa9&\\xc1\\x1f\\xfa}E:\\xbd\\xab|\\x9aI\\x06\\xb5U`Ku\\xa5w&\\xc1*\\xeb\\xd4\\x13\\x0e\\xbf\\xc8\\xe2(\\x18\\x82\\xc3>\\n\\xff\\xd5)e\\xc87\\n\\xbd\\xb7A\\x86P\\xd6\\x16\\xceJ\\xd1\\xaa\\xfc\\x8fkH\\xdc\\xfa\\xdd\\xebP\\x90\\xd9*\\x10\\xa6\\x9a\\xe4\\xff\\xea\\xce/[\\xd6P\\xa1\\xa1\\xe2\\x0cB\\xa0 \\xfe\\x89\\xa7\\xear]R\\xa53%c\\x8e\\n\\x90\\xa7\\x12P\\xfd(\\xff\\xc3\\x01\\x98\\xdc\\x9bv\\xab\\xdd\\x1bJ 6B\\xaa\\x89\\xa9\\x0e\\xdd\\xd9\\xab\\x9c\\xeb\\x14w\\xdf\\x9b\\xc2\\xd6FT5a\\xd5\\xbe\\xebT\\x14e\\x04\\xad\\xbb\\xbbS\\xd9@#\\xae\\x9a\\xc1\\xaa\\x9e\\xa9\\xea^\\xd3g8\\n=\\xf1\\xfd\\x83\\xf8\\'\\xb2\\xaa\\xd7dV\\x11q\\xb7\\x9dC\\xb0\\xd5\\x8d\\xc8jB\\xabC\\xd7\\xc76f7JQ\\xa0\\x8e\\x87\\x81\\xf4\\'\\xb8*w>\\xe4\\x8a\\xeb#\\x86\\x84\\x1f\\xaf\\xc9Ft5\\xe1\\xd5f\\xc6W\\x96.9\\x19\\xc6{\\xa9\\xd8\\xa2\\x11`M\\x84U_\\xb1.EA{\\x8f\\x16\\xae\\xdd n\\x0f\\xf2\\xdf_\\xd2\\x93\\xfa\\x96\\x924\\x05\\xb2So\\x8d\\xde\\x19@\\xd6\\x96(\\xeb\\xeaM&[J\\xa9_*\\xd7\\x89*8\\x1a`\\xd6\\x969\\xebV\\xb0X\\xa2\\xde~\\x1d*\\xe0\\x83\\x81\\xf8\\'\\xd0\\xaa\\xfb\\xbb:\\xdbrWs\\xe2\\x06\\x15\\x13Hk\\xcb\\xa8\\xb5\\x1dE\\x1e\\xa1\\xa0JW\\xc0\\xc6\\xf2\\x92\\x06\\xac\\xb5%\\xd8z\\xe5\\xef\\x94X\\xd3\\xd7\\xb0\\x1e\\x92\\xb2\\xa7\\rhkK\\xb8U\\xc1\\x82\\x93f\\xe1\"\\xa3#W\\x1f\\x7f&(@\\x02\\xae1\\xcfvP$\\x97\\xfaX\\xd0P\\xcc@\\x01\\x12r\\xed\\x8a\\xb3\\xe5)\\xea\\xab\\x8c\\xc6\\xbf\\x11\\xa4?\\x11W]$\\x8642\\xd7a\\xc6\\x82r\\x01\\xc8\\xb5%\\xe6j\\x0e\\xd9\\x8aM\\xbf\\x9c\\r\\x99m,\\\\\\x01\\xe9O\\xd8\\xf5\\xd4\\xb0_=\\xae\\x83\\xdc\\xa6\\x08\\x89\\x0e\\x03\\xe9O\\xe0u\\xe8\\xcd+v\\x98\\xceLH\\x99P\\x95\\x80\\xbc\\xb6\\x84^\\x1d@\\xca\\x8d\\xedv\\t\\x14h\\xf1\\xcf\\x04\\xf1\\x1f\\xb9\\xd2\\xe0\\x1ahl\\xbd\\xb5e&\\x85O\\x06\\xe2\\x9f\\xf0\\xeb\\xeer\\xd5\\xb7K\\x99$d\\n\\x97\\xf0k\\x82\\xf8g\\x00\\x1b\\xa7Y\\xc8\\xf4_1V,>\\x0c\\xc4\\x7f\\xe4\\xfc\\xe5\\x99e\\xear\\x9a\\xd5\\\\\\x89b\\xe6\\x06\\x10\\xb6e\\n[\\xa5\\x93&\\x8b\\xb6@\\xfbP\\xb2\\xa2\\x01\\x86m/\\x1cVf\\xba8\\xe7!w\\xefr\\t\\x18\\x80\\xd8\\x96I\\xec\\xe3\\xcb\\xee6]\\x06\\xb6\\x82Ps\\x03\\x14\\xdb\\x12\\x8b\\x9dNV\\xc8\\xcb\\x939k\\xb2\\xb4\\x94\\xb4o\\x00c[\\xa2\\xb1\\xbb\\xd7Z\\x1e\\xf7Z\\xbe\\x94\\x1c>\\xf2?\\x01\\xc7\\xb6\\xf9R6\\x19G\\xe1\\xa5\\xbe\\xa7\\xd3*\\xe8\\x18\\x03\\x90m\\x89\\xc8\\xca\\xc1\\x1b\\xf2?\\xdb2\\xba\\xde\\x8b2\\xb6\\r\\x90lKLv,y\\x1a\\x8aV\\xaf\\xf3\\x04\\xc1W\\x13P\\xd9\\x96\\xb0\\xac\\xe4U\\xc1\\xdc\\x0c]$u\\xda;\\xa6\\xc3@\\x03f.\\xa3t\\xfd\\xd5pNZR\\xcb\\x96\\x16\\xd8lKpV\\x9a\\xb9\\xf5\\x01d6L\\xf6\\xce\\xc2\\x9f\\t\\x1a\\x90\\xf0\\xacnK\\xff\\xcc#\\xe1h1\\x06\\x9a \\xe0\\xb3-\\x03\\xda\\xb3\\xaf\\x7f\\xa6\\x9e\\xea\\xb8\\xe8\\x89D\\x03\\x08m\\xcb\\x88\\xf6\\xc9\\x1eM\\xf9\\xb3s\\x9d{\\x88\\x0b4`\\xb4-r\\x8aS\\x97\\x92\\x14\\xdd\\xd6\\xb1\\x1d\\x05\\x01t\\x18h@\\xe4\\xf2\\x1bIj\\xb9Sz\\x19\\xfek\\x12Z\\xe0\\xb4-\\x83\\xda\\xa1/P\\xf4\\x13w\\xd5i\\x92[:\\x8cj+S\\x04,\\xc7\\xbf\\x16]\\xbeU\\xaf\\x8cC\\x13@\\xb5-\\xb1\\xdax.\\xf4\\xd8.\\x10\\xdb\\xf5bI$\\xc0\\xda\\x96hm\\xdc5\\x14O\\xb8\\x8e\\xb1*4A\\xdf\\x18pm\\xcb\\xbcV\\xee\\x8aC\\xf3\\xe8\\xdd\\xa5\\x9f\\xf8-A\\xfe\\x13\\xb2\\xddS\\xaf^>\\x90\\x0b^\\x06&\\x03\\x1b \\xdb\\x96\\x98\\xed\\xf8\\xd7\\xfc\\x83^\\xfe\\x96;Dy\\xa9\\x06\\xd0\\xb6%j\\xab\\xeb|*dUL\\xde\\x9e\\xbab\\xfa\\x95\\x80m[\\xe2\\xb6\\xba\\x0e\\x96\\xab\\xbc\\xa2\\x0f3`\\x8c\\xc0\\x00\\xdc\\xb6DnuU\\xda;\\x93\\x97}\\xad\\xea\\x84\\xc6\\x1a\\xa0\\xdb\\x96\\xd8\\xadtH\\xd7\\\\=\\xf5\\xc87um#\\x1d\\x06\\xe2\\xbfr\\x02H/\\xbf\\xe8K\\xca6\\xf6\\x8d\\x19\\xf5\\x06\\xfc\\xb6e\\x80\\xebOX\\x14\\x15v9f\\xe3N\\xf2\\r\\x80\\xe0\\xb6\\x84p\\xa5\\xa6m;\\xd0<r\\x82n\\xc5x\\x1a0n[Y\\xfe\\x9b\\x19\\x92\\xd4\\xf3\\xeaJ\\xe7\\xa4%\\x80\\xdc\\x96H\\xeeS\\xf0\\\\\\\\\\xff~\\xbb-.\\x16Q\\x83\\x06$\\x96\\xabx\\\\\\x8a\\xb9\\xdcY!\\xeb\\x1f\\x97\\xd4\\t`n\\xdb\\xb9\\xf6R\\xc1\\xa2\\xae\\xa6^u\\xafW*-m@s\\xdb\\xce\\xf6_\\xbfM\\x92\\xd1u\\x99\\xc83\\xa8\\xf4\\xfe\\x81\\xe7\\xb6\\x9d\\xd3\\xfe\\xd3h\\xff\\xd4^\\x8f\\x02}\\x8cN\\x80\\xe8\\xb6\\x84t\\xfd\\xfe\\x97\\xe2i\\x97\\x92\\xe9\\xdaD=\\x07\\xa6\\xdb\\xf6K\\xbd\\xb1\\\\\\x03\\xb9xN\\xe6\\x8d\\x8a\\x92\\x01T\\xb7%\\xack\\xc7\\xb3\\x96\\xda]\\x16#\\xafe\\xe1aT_\\x9f\\x14\\xc0\\xc5\\x89\\xa5\\xb9\\x10\\xec\\xdeY\\xa9\\xce\\xad\\x01\\xd9m\\xfb%\\x06\\x18\\xf3qh\\xd7S\\xf0\\x8d\\x87\\x81\\x02\\xec\\xac\\x002an\\xb8X\\x12~9\\x1bX\\xfa\\x0f\\n\\x90\\xf1n\\xefM\\x1eP=\\xba\\xe6$m\\x18\\x9d\\x00\\xe1m\\t\\xf1\\xc6\\xdc\\xabL\\xdd\\x9ck\\xcb5\\xdb\\xd8\\xeb\\x02\\x8c\\xb7%\\xc8;e+\\xba\\xe4L\\x122\\x9c<\\xc6\\xc3@\\x03\\x12\\xe6]\\xcet]\\x99Y\\xd7W\\x9f\\x81yK\\xe0\\xbc-\\x83\\xdeP,W\\\\P\\xab\\x9bS\\xb6\\x96.\\' \\xbd-\\xa1^sK\\xe7@\\xe5\\xd0*\\xd8\\xdf\\x98\\x05\\x05\\xd6\\xdbN\\xae\\xe11ut$\\xf0\\xe0^t\\x8e\\x81\\xf6\\xb6\\x8c{\\x97\\xccXQT\\xd7\\x14\\xeat$|\\rxoK\\xc0\\xd7\\xf5\\x0c\\xc5\\xe5\\xac\\xf5Qt\\xf4g\\x81\\xf8\\xb6\\x84|e\\x13\\xf5`\\xee\\xacR4\\'u\"E\\x07\\xe6\\xdbn\\xd6\\x80\\xedb%\\xbd.9V\\xba8\\xe9\\xc9\\x80\\xfa\\xb6\\x8c}k\\xb3\\xdf\\xb2B\\x81f\\x8d\\x8aQ0p\\xdf\\x96\\xc1\\xaf$\\xa2\\x15\\xa9RSL7\\xea\\xc0\\xc3@\\x032\\xfa]\\x8aWKu\\xe9\\x8bN\\xa4R\\xd4\\x06\\xe8\\xb7e\\xf6\\xfbt\\x89(\\xfc\\x95\\x89\\xdc\\x95-\\x10\\xc0\\xdf\\x96\\xe8o\\x1f#\\xdc 7e=\\xae\\x8c\\x06~LP\\x80\\xc4\\x7f\\xedw\\xeaG\\xca\\x05\\xba\\xb2\\x19\\x97\\xa0m\\x03\\x00\\xdc2\\x01\\xd6\\x83\\xadr\\x86\\xec\\xac^>\\xf6\\xd54@\\xc0-3\\xe0#g\\xbd\\x18\\xc1\\\\\\xeb\\x12\\xa6T\\x01\\x02\\xb7\\xfbR\\x8e\\xdf\\x8d\\xd4\\x86n\\x00\\x170QC\\x0cP\\xe0\\x9e)p8<\\xef\\xae$\\x9d\\xbfR\\xa3\\xd5\\x01\\x03\\xf7\\x84\\x81\\xf5`\\xfa\\x99.\\xc3\\xf6e\\x87z\\xde\\x01\\x03\\xf7\\x9a\\x8b\\xf2]\\xae\\xe0Z\\x05]\\xc0\\xb3\\x93\\xaf\\xdd\\x01\\x03\\xf7\\x9a\\x9d\\xa0\\xe1\\xbe\\x03\\xf7\\xfft\\xa7[\\xc0\\x9cu\\xc0\\xc0=a\\xe0\\xf1\\xb4b\\xca3v\\xe5\\x83\\\\G<\\x0cz\\xae2\\x06\\xbe\\xf2fK\\xd3\\xe3)r\\xd5k\\xc3\\xb69\\xe8\\xbaJ\\x18X\\x9e\\x9f\"\\xeastg\\x9e\\x87E\\xd2a\\xd0w\\x950\\xf0v\\xef\\xb2\\xee\\x13)g\\x1b\\x13/\\xf4\\x0e\\x1c\\xb8\\xd7\\x97(8\\xb6+Fz_2\\xb3t9u\\xe0\\xc0=q`\\xc9\\xbf\\x9e\\xec\\xb9\\x9b\\xa4\\x9frb\\xe00\\x00\\xc1=\\x81`\\xab\\xe4u\\xb49fH7\\xc8jt\\x00\\xc1=\\x81`\\xe9\\xb9\\xc2\\x93>\\xeb\\x96\\xfc\\xe9\\xff\\xd0\\xd7\\x04\\x10\\xdc[\\x0e\\x03\\x8e\\x1b\\xac\\x9dj\\xb4\\xf8R\\x86\\xb0\\x03\\x08\\xee\\xb9\\xbf\\xd6t\\xb4\\xac[]\\xe9\\xedvA:\\x0c4 \\x83\\xe06\\x9a\\xbb\\xa7\\x14\\xb5\\xca\\xdf;\\xd4 \\xdd\\x81\\x04\\xf7\\xdcc\\xdb\\x15\\x97\\xd8\\xd9V\\x10v\\'v*u@\\xc1=\\xa1`](Cn\\xa8\\xcb\\xe6\\xec\\x1e\\x93m\\x04\\x12\\xdc\\x13\\t\\x1eOke\\x93\\x975\\xe4\\xc2_\\n):\\x90\\xe0\\x9e\\x1bm\\xe7\\x18n)oc\\x85\\xe4\\x97Jd:\\x90\\xe0\\xderAs\\x8dU\\xea\\xb9\\xd5\\xb5\\xb5\\x07\\x7f&5\\xdbf\\x12\\xbc\\xbb\\xb4\\xe9\\xb8\\x82n\\xc8UF\\x0bD\\xed\\xb6\\x89\\x04\\xbb5o\\xebg\\x86\\xeb\\xaf:f\\xb5;6\\xdc\\xa6+@A\\xb5\\x0c\\xad<F9\\xedg\\xa3jR\\xcbm\\xcf\\x85\\xcd\\xee\\x12\\xba.\\x86l\\xabn*\\xde\\xe9\\xd4t\\x9bPp\\xebN7\\x9a\\xe1n\\x05\\x04\\x93\\x0f\\x03\\x05H(xM\\x85\\xf9\\x0ev\\xea\\xd4\\x89\\x13/\\'j\\xbc\\xcd\\x9d\\xb7r\\x8ae\\x1b\\xfbS\\x05<0\\x13\\xd7\\xa9\\xf5\\xb6\\xe78\\xd8U2\\n\\xd0\\xa7\\xdd\\x84J\\xfc\\xb0S\\xf3\\xed\\x0b\\n6\\x8ay\\xca\\xca[\\xdb\\xd8\\xfb\\xd7\\xa9\\xfd6\\xd3`\\xb9\\xde\\xbd\\\\W\\r\\xba\\xf4v\\x90\\x9c\\x01\\r\\xee\\x99\\x06W\\xddpE\\x9e\\xd4Y2\\xd9\\x93\\xba\\xbe:\\xd0\\xe0\\x9eip\\xe8\\n8\\xd7yG\\xd9\\xb5A\\x99\\xb8\\x0e4\\xb8\\'\\x1a\\xac\\x8bn\\xcf\\xb2u\\x03t\\xdf\\x03|\\x185\\x9dg\\x16\\xb6\\x15\\x9f\\xac;\\xdd\\xa1?\\xb1\\xe6\\xa6\\x03\\r\\xee\\xe3E\\x03f+u\\xbbD\\xdc\\xe9\\x12\\x12\\r\\xa0\\xc1}\\xe40\\xe0\\xea\\xa5\\xf5\\xe9\\x84\\xbb\\xc2\\x1eTt\\xa0\\xc1=\\xd1`\\xd7T\\xcc\\x12\\xa7\\xbbwy\\xf1\\xf4\\x00\\xa0\\xc1=\\xd1`we\\xfb>\\xb1k{\\xb1#\\x1eXpO,\\xb8\\xe9f\\xeae*0T|.\\xdf\\x85\\xce\\x02\\xf1O(\\xd8\\xbd\\x85\\xab(\\x00\\xdemzH\\t\\xd9\\x1f@\\xc1=\\xa1\\xe0m\\xaa\\xa98g;o96\\xde\\xe6\\x80\\x82{B\\xc1m\\x8d&O\\xdb\\xd1\\x93\\xd3\\xdax\\xcf\\x01\\n\\xee\\xb91\\xf7\\xc9\\x1d\\xd7\\xe1i\\x02\\xf2\\'Q\\xc8\\x00\\x05\\xf7\\x8c\\x82e\\x19\\xab\\xef\\xb9\\xa5\\xb8\\xd5<\\x8c\\x0e\\xa3\\xa9\\x0b\\xb9\\x14N\\x82%!sY\\xfdn\\x8d\\xf0y\\x07\\x14\\xdc\\x13\\n\\xeek\\x9d(\\xe7)\\xef\\x95\\xd3\\x81\\x12\\x0b(\\xb8\\'\\x14\\xec[dX\\xfc\\xe5~n\\xa7C\\xe90\\x10\\xff\\x97.\\xdd\\xa3K\\xb3\\x9e#\\x7fJ15Ft\\x80\\x82{\\xee\\xd3m\\xb2\\x88Ef\\xa3yF\\xc8\\xc2\\x88\\x0ePpO(X^\\xe3\\xae\\xaeF\\xf1\\xbfw\\xec\\x1f\\xee\\x80\\x82{F\\xc1nFp\\xf2\\xb2\\xcei\\xee\\x8d\\x87\\x81\\x06$\\x14\\xdcb\\xf5S\\xdc\\x06\\xf9\\xf0s\\xbcM\\x00\\x05\\xf7\\x8c\\x82\\x8d\\xf4e\\xb3W\\xd5\\xff\\x9ev\\xf00\\xd0\\x80\\x8c\\x82o;\\xa7\\xc4\\x94\\xa4I\\xdd\\xb1u\\xa6\\x03\\n\\xee\\t\\x05\\xcf\\xaf\\x8c\\xa8\\xee{\\xb7\\x02kt\\xdb\\x01\\x05\\xf7\\x84\\x82\\xbb3\\x102\\xb3:\\xe6Z\\xd2\\xc8j\\x00\\x0b\\xee\\x89\\x05\\xeb\\xfe\\xf0\\x05\\xb0\\xe5\\x08\\xe9w\\xf2D\\x14P\\x80\\x84\\x82]\\x85\\xabHs\\x1a\\xb8\\x86|*<\\x0c\\x14 \\xa3\\xe0-{]L\"ku\\xde\\x00\\x7f%(@f\\xc1Qe\\xb6u\\xa7(\\xb0\\x93\\xe7rI\\xcf\\x01\\x06\\xf7\\x97\\x06^\\xab\\xa6\\xc7\\x94Y\\xa1\\x06\\xe5\\xdb;\\xc0\\xe0\\x9e`p\\x936\\x86[\\x1e\\xe42\\xca?\\xa6:\\xed\\x0e0\\xb8g\\x18\\xec\\xfe\\xcf2]\\xac\\xd1\\xcfiT%\\xd0\\x01\\x06\\xf7\\x04\\x83\\xdd\\xd7\\x7f}\\xd5\\xc9q\\x94\\xdcbD\\x070\\xb8\\'\\x18\\xec\\x0e4\\xf7\\x1eY3cl\\xca\\xaav\\x80\\xc1}\\xe5+\\xe0\\xde(R\\xa4z]\\x92Nh\\xbf\\x03\\x0c\\xee+\\xd7C\\xafv\\\\\\xc2\\xb9\\xf6\\x96~\\xa2\\xd1\\x00\\x18\\xdc_`\\xf0\\x1d[?\\xd3\\xb9\\xe3\\xe7\\xad\\xd1a\\xa0\\x01\\xb9\\xa9w\\\\\\x9937\\x86z\\xd6[\\xa3\\xd6\\xaf\\x0e0\\xb8\\'\\x18|\\xba\\x9c\\x03}\\xd0\\xb6w\\xbb:\\x93\\xee`\\x80\\xc1=7\\xf6\\xba\\xe0\\xdb\\xc5(\\xedi\\xed \\xac\\xd0\\x01\\x06\\xf7\\x0c\\x83\\x8f\\x1bu$\\xfa\\xf2\\x82\\xf4\\xf6\\xd0\\xd3\\x06\\x1a\\xdc\\x13\\r\\x96U\\xac\\xf2\\xcf,g\\x96\\x12\\xcc\\xc3\\x01\\r\\xee\\xfb5\\x06pu\\xfb<\\xf2\\xcft\\x1f\\xe3\\x93\\x81\\x06d\\x1a,\\xe7\\x7f\\x94&s\\xa1_\\xc9\\xa3\\x8b:\\xd0\\xe0\\x9eh\\xb0~\\xa0\\x02:\\xe7\\xc7#\\xa6\\xcb8\\xe90\\xd0\\x80\\x9dY\\xd8\\xad\\x1e\\x0e3\\xd7\\x94\\x83\\xc6\\xc3\\xc8\\x80\\x06\\xf7L\\x83e\\xc6d\\x1c\\x9fQ:U~#\\xa9\\x13\\xd0\\xe0\\x9eh\\xb0\\xfc\\x01\\x1f\\xf6\\x0c\\xb9S\\x14FU\\x1f\\x1dhp\\xcf4X.\\xad\\xfb\\xae<\\xadK\\nJF\\x03`pO08\\x9a{\\xac\\xdd\\xfe\\xed\\xb6\\xe6F5\\xe4\\x1d`p\\xcf\\xfd\\xbes\\xe9\\xb0)?\\xafF\\x0c\\x9c+\\xd7\\x01\\x06\\xf7\\xdc\\xf1\\xeb2P\\x05;Mq\\xce\\xb8\\xd8\\x90\\xd4\\x01\\x06\\xf7\\xdc\\xf3+\\x1b\\xe6\\xf8\\xbc.\\xcf\\x0c\\xbaxm\\x02\\x0c\\xee/0X\\xbfPz\\xaew\\xe7\\xbfB\\x14\\x030\\xb8\\'\\x18\\xec\\x04\\x90BM\\x97\\xb6O\\xdd\\xe9\\x98\\xd4\\x03\\x18\\xdc\\x13\\x0cv?\\xb9[u\\xaa\\xb3\\xc7\\xba\\xd2\\xf10P\\x80\\x0c\\x83\\x15!\\x1e\\xd7\\t<\\x1d\\x01\\x03\\x03D\\x80\\xc1=\\xc1`\\xd9\\n9Ar[\\x9e\\xbe\\xc3\\x86\\n\\x000\\xb8\\'\\x18\\xdc\\x87|\\x96\\xa2\\xf7\\xe82\\xda\\x8e3\\x92:\\xc0\\xe0\\x9ea\\xb0[\\x04\\x8b\\xbe\\xe5X\\xa3vy\\x0et\\x18h@\\x86\\xc1r\\x1cO\\xd9\\x1e\\xc6\\xa6 jb\\x1e\\x0e`p\\xcf0\\xf8\\xb8\\xba\\xd4=,\\n5\\'\\xf5\\x04t`\\xc1=\\xb3`\\x05\\x01\\xadD\\xbfQ\\xc3\\xd3\\x11\\xe9\\xfd\\x03\\x0c\\xee/0\\xb8\\xca?v\\xcfg\\xe8\\xb9p\\xf0K\\x07\\x18\\xdcs+\\xf0vq\\xd7\\xf6\\xfd{\\xc7\\xc1\\x1a\\xb6\\x0e0\\xb8\\'\\x18,/r\\xbb\\x1eH\\xbf\\xb1\\x1e{\\x08t\\x18(\\xc0\\xcd\\n\\x10}\\x17\\x8f\\xa4\\xd1\\xd5\\xb4\\'\\xe6\\xa7\\x00\\x06\\xf7\\xfbB\\x02t7\\xcd\\xa6kn\\x1e\\'\\x90\\xe90\\x1aC\\x98[\"\\x9b\\xc7u\\xd8\\tz\\x92\\xa14|\\x0e`\\xf0H0\\xd8\\xaa\\xed\"\\xe6\\xba\\\\G\\x08\\xaf\\x7f\\x00\\n\\x1e\\t\\x05\\xcb\\xc1\\xb3\\x94\\xc9\\xf87\\xdd\\x7f\\x83n\\x93\\x01(xd\\x14,Ov\\xb8%\\xaf\\xbb\\xc1\\x80\\xcc\\xcf\\x00\\x12<\\x12\\t\\xf6\\xd0\\x16\\xb9f\\'z\\xbd\\xbbV\\xaa8\\x18@\\x82G\"\\xc1\\xe1\\xaa{\\xc7%\\n\\x8dC\\xbe\\x01\\r\\x11\\x04\\x12<j\\x0e\\x01<\\x96\\xf7\\xccg\\x86\\xa0\\xae\\x14\\xfc\\x940\\x92\\xb0f\\x0e\\xb6L5G\\xac\\xb8\\x1e\\x1d@\\xe3\\xff\\x80\\x04\\x8fD\\x82e$\\xdc\\xc5\\xe8L\\xaf\\x02\\xf5E\\xd1\\xe1\\x00\\x12<\\x12\\t\\x1e\\xd7s\\xfb\\xaa\\x82D\\xcf\\xee\\xc3\\xfe\\x9a\\x01$xd\\x12<\\xae9\\xcc\\xd0U\\xbe\\xdda@O\\x06$x\\xe4\\x96`\\x85M\\xa3\\xc8Z\\xf8\\xb8\\x8a\\xa3o\\x06\\x90\\xe0\\xd1^\\xf2\\xa0n\\x08\\xb0\\xc1VL\\xd1q\\x80&\\x90\\xe0\\x91I\\xf0\\x9e\\xe6}-\\xecp/\\x1cs1\\x80\\x04\\x8fD\\x82=\\x03\\xb0T\\x1d\\xb5\\xdc-\\xbep\\xc8$\\x90\\xe0\\xf12k\\xb9\\xd5\\xe3\\x96x\\x99\\xa1\\xdd\\xa8\\xe0`\\x00\\x08\\x1e\\x19\\x04\\xdf\\xb5v\\x91K\\x1b[\\x11XP\\x1b\\xd7\\x00\\x10<ZN\\x02\\xb5\\xe9\\x96\\xd4j\\xd4\\xe1\\xea\":\\x0c\\x14\\xa0\\xe5j\\xb8=e\\x80\\xa6B\\x9c}N\\xa3\\x82\\xdc\\x01$x\\xe4\\x9e\\xe0\\xeb\\xf9\\x06\\xba`\\x86.\\x00\\xcf8\\xa6\\xc3@\\x01\\x12\\t6\\x96\\xebe\\r\\x99\\xc5\\xd3y\\xb0\\xdc\\x00\\x12<\\x12\\t\\xf6\\xd0C\\xbd\\x7f\\xdd\\xe3\\xd7\\x99m\\x9e\\x1f\\x0b\\n\\x90H\\xf0\\x08\\xf9\\x8a\\n\\x01B\\x1e\\x9a\\xbc\\x19j}\\x1e@\\x82G\\xcf\\xd5p2A\\xe5\\xca\\xf9\\x91;\\xc5\\xd9\\xde\\x01$x$\\x12\\xdc\\xdd\\t\\xe3\\x01\\x13\\xd3\\x15Y\\x83\"\\xcd\\x01$x\\xe4\\xa6\\xe0\\xa7\\xf5\\xe1\\xdae\\xf4 Y\\x9c\\xfe\\n$x$\\x12\\xec\\xb2\\xea\\xa7\\xb2(Nw(Lr\\x06$x$\\x12\\xdc\\xe7.\\xad9\\x97\\xd4\\xddhC\\x88t\\x00\\t\\x1e\\x89\\x04\\xbb}\\xc52\\xeb\\xdc\\x94\\xa7T\\x91\\xd0\\x02\\t\\x1e\\x89\\x04O\\x0f\\\\-v\\xa5\\xda3\\xbc\\x15\\xe5\\x0c4 \\x93\\xe0}\\x9f\\x9a\\x9b\\xe1\\xa2\\x1b\\xe6\\x1d\\x83F1\\x8f\\x17\\x0f\\xe8z\\x9a\\xf6q\\x82\\xd6\\x8d,t\\x18h\\xc0\\xc8\\xf5\\xa0\\xd3#\\xedu\\xd5\\r\\xb72\\xa2\\t\\xa2y\\xcc\\x89\\x04\\x87\\x87\\xc6{\\xf4\\xf1=r\\x0f\\x16\\x8a\\x06NdNW@\\x97\\xa1]\\x1e<\\xe7:\\x86MU\\x1a\\x83f2g\\x12\\xec\\x82\\x16\\x0f\\x7f\\xf1|\\x8fF\\r6\\x83\\x862g\\x10\\xbcej\\x15\\x82\\xcd3}3\\xa1\\xabGc\\x99\\x13\\x08\\xf6\\xae\\x04\\t\\xedjR\\xa7\\xe5\\xd14t\\x18(@\\x02\\xc1\\xee\\x0f)}\\x84]3\\xc9\\x0c\\xa5A\\x07\\xcdf\\xcem\\xc1\\x9e\\x83\\xe6b \\x97]vY]:\\x0c\\x14 \\xb7\\x05\\x0f\\x97#z\\xc2\\xa8\\xde\\xd7\\\\T\\xc29\\x80\\x05\\x8f\\xdc\\x16\\\\\\xf55\\x15\\xe9\\xb8vg\\xd9\\xd4\\xd2a\\xa0\\x00\\x89\\x05\\x87=\\r\\xf9\\x05\\xcb\\x13\\xf3;\\x0fI\\x07\\x16<f\\xf6\\x81\\x14\\x18\\x16\\xc7\\x88\\x8aO\\x065X\\x0e@\\xc1#\\xa1\\xe0\\xe76\\xa9\\x1e# I\\xf3\\xa4<:\\x8cf\\x92\\'\\x0e\\xe0\\xfb\\xa4<\\x138\\x87\\xfe\\x9a\\x82\\xc3\\x01(x$\\x14\\xac\\xe7y\\xd6\\xbc\\xe8\\'\\xcak\\x0c\\x1c\\xdb\\r(x$\\x14\\xdc\\x9fb,\\xb9+\\xc3Hf\\x11\\x88\\x19\\x80\\x82\\xc7\\xccYP\\xb7\\x17\\xc89\\x96\\xd3~\\x16\\xd6\\x9c\\r@\\xc1#\\xa3`}A\\'\\x81\\xceu?\\x06Ga\\x80\\x82GF\\xc1\\xd5)U\\xb9\\x06\\xed\\x8e\\xe3\\xf9;p\\x18\\xa0\\xe0\\x91Pp\\xd4\\xdb<1\\xc1y3WZ\\xe3\\x88yP\\x80\\x84\\x82u\\x87\\xfa\\xb4&\\xbb\\xa1\\x1b`PG\\xc0\\x00\\x14<2\\n\\xde\\xf6hW[\\xebJ\\xcd\\x07\\x15\\xde\\x0f@\\xc1#\\xa3`\\x17\\xa8\\x16\\x05)]\\xee\\xd9@\\x16?\\x00\\x05\\x8fxi\\tPxx\\xaf\\x82\\xe3\\xe6V\"|2\\x9a\\xcb\\x9f\\xdb\"ex\\xcbpm]\\xf5z\\x1a\\xfc\\x9a\\xa0\\x01\\t\\x05\\xef}WY\\x8e\\x99\\xf4W\\x03\\x0b\\xa2\\x07\\xb0\\xe0\\x91X\\xb0l\\xf8u\\xfb\\xa7\\xe7\\xfa)\\xd6G\\x87\\nX\\xf0\\x88L\\xc2\\x96\\xbe\\xa6\\xbd)\\xd7p\\xa2\\x0f\\n(x$\\x14|=\\xe3\\xac\\xba\\x8aD\\xde\\x8b3rp\\x18\\xa0\\xe0\\x91Pp;N\\xb6\\x9c\\xe3%:\\x8e\\xae\\xc9\\x9c\\x01\\n\\x1e/(\\xd8C\\x0e\\xc2m6\\xd5S6I\\x9b\\x00\\x05\\x8f\\x8c\\x82\\xe5\\x01I\\x9bf\\x93U[\\x15\\xbb\\xf2\\x06\\xa0\\xe0\\xb1\\xb2\\x0b\\xd4<\\xb4e\\x1e\\x05\\x15\\x1e\\xda\\x85\\x87\\x81\\x02$\\x14\\xec\\xb9\\xc2.\\xe2\\x1f\\xc7\\x85\\x7f\\x9b\\xcad\\x06\\xa0\\xe0\\x91Qps\\xe6\\xf8)\\xd2\\xb0\\x87\\x80\\xfb2\\x00\\x05\\x8f\\x84\\x82\\xbdx*lh\\xdb\\xa8u\\xe2\\\\\\xd9\\x01(x\\xac\\x97b\\xb8\\x1a\\x9e?\\xe8\\xa1i\\x07\\xf1\\xf9\\x00\\x14<r_\\xf03\\xe4`\\xfa\\xa6{\\xda\\xd5H\\x9b\\x00\\x05\\x8f\\xdc\\x17\\xec\\t\\x1f\\xc5\\xe5\\xe3\\x0e_\\xa9\\xfb\\x7f\\x00\\t\\x1e\\x89\\x04\\xb7;\\xf7)\\xc7\\x13\\xd3d\\x81\\xb0\\xb0b\\x00\\t\\x1e\\x89\\x04\\xbb\\xd8\\xc6Y \\xdd\\x98\\xf5\\x01\\xf2t\\x18(@\"\\xc1\\xc3\\xdd[RMy\\xc7!?\\x8f7\\x8d\\x80\\x02$\\x12\\xec\\x91\\xc5\\xad\\xb8zD_B\\x06\\r\\x9f\\x0c\\x14 \\x91\\xe0\\xbd]\\xc3_\\xf5\\x19\\xecg\\x0c\\xb4@@\\x82G\"\\xc12\\xfa\\x1e\\xf6l\\x9f}{\\xb82\\xfeLP\\x80\\xfdR\\x0f]\\xdd\\x12s\\x15\\x04\\xe8;\\xe3\\x02> \\xc1#\\x93\\xe0\\xeb1\\x8b\\xee\\xa4\\x18r\\xfa\\x0e5\\xe5\\r \\xc1\\xe3e\\xe4\\xb3\\xe7\\xfc\\xddu\\xc6}\\xdcF<\\x0c\\x14 \\x0f}\\xae\\xf2\\xf2\\x8a\\xb1~\\x9f\\xee\\n\\xa0\\x0f\\x00(x\\xe4\\xbe`o\\xa1\\x996\\x1a\\xcbCYQ\\x9d\\x00\\x05\\x8f\\x84\\x82\\xed\\x9d)pu\\xa4\\xd3<\\x1e\\x99\\xbe&\\xa0\\xe0\\x91P\\xf0\\x03\\xcfox\\xc6\\xb2\\xf3\\xaa\\x18\\x1f\\x02\\n\\x1e\\'\\x97\\xc3-/\\xaf\\xd3\\xef\\\\\\xbeA\\t\\xc4\\x0c@\\xc1#\\xa3\\xe0;\\xe5\\xeay\\n\\xb1\\'\\xc3-\\x82\\x87\\x03P\\xf0\\xc8(X\\x91\\x93|\\xed\\xe5j\\\\\\xb9S\\x188\\x01\\n\\x1e\\t\\x05K\\xb7\\x97\\xf4\\xc9;\\xfa\\x8e\\xc5\\x04?\\x00h@B\\xc1^\\x9b\\xd5\\xdd\\xfd9\\xfdA\\'\\x06\\x9b\\x80\\x82GB\\xc1\\xd3l\\xeeY\\xd6Q\\xa7G\\x95\\xe3\\xd7\\x04\\rH(\\xd8\\xb3O=Ql\\xb9\\x93W\\x8e(=\\x19\\xa0\\xe0\\x91P\\xf0\\xf2X\\x8eg\\x93\\xe4yfZ\\xd1;\\x03\\x14<\\x12\\n\\xd6\\x15 \\rP\\xd0\\xe8\\x96F\\x85\\xd4\\xf43\\x01\\x05\\x8f\\x84\\x82\\xe3J\\xb8\\x8al\\xcf\\xd636*\\x15\\x1e\\x80\\x82GB\\xc1.\\xe9\\x92\\x0f*_\\xb6\\xc9\\x85\\xc79\\xd5\\x03P\\xf0\\xc8(\\xd8\\xd9\\xcf\\xe2\\x1e\\xc6\\xdb\\x15\\x0b#\\x0b\\x03\\x14<^\\xa6Bog\\xbb\\xac\\xe6\\x1e\\\\\\x84!\\x1d\\xa0\\xe0\\x91P\\xb0~Z\\xf1 a\\xcf\\xf3t\\xe97\\xe99\\xa0\\xe0\\x91Q\\xb0\\x9c\\xa8\\xf6u\\x15\\x81\\xb7\\xcb\\xe0\\xfb\\x07\\xf9\\xcf$\\xf8Y{\\xa3\\xe0\\xabm\\x17\\x10\\xa2\\x9a\\x03\\t\\x1e\\x99\\x04\\x9f;\\x9f\\xd1\\x1cr\\r\\xee\\xc6D\\xf4\\x04\\x12<3\\t\\xd6%\\xee\\xeeg\\x975v\\x85*\\xe06N`\\xc13O\\x87\\x9e\\xee~\\xf6\\x1a\\x1d\\xb9\\xb3\\x18\\x83M@\\xc1\\xb3\\xe6 \\xb8\\xd7k\\x12s|\\x9f#W\\x9e\\xc0\\x82gb\\xc1a\\xa0&\\xef\\xcc\\xfd}.\\xfc\\xc3\\xc3`[Wb\\xc1]>^wD\\xa1ol\\x84\\x8b\\xaf\\x0c\\xf6u%\\x16\\xec9\\x92\\x92\\xb2\\xbe\\\\*9\\xb0Nr\\x02\\x0b\\x9e\\xf5\\xa5\\x1e\\xbayn\\xa9\\xe7\\x9cyD\\x1c\\xfeLX\\xdbUs9h\\xb8\\xbfL6M\\xce\\xa8~+\\xad\\x00\\x03\\x16<sW\\xf0r\\xf9\\xc8r\\x91\\x9e\\x9e\\x0ck\\xce&\\xb0\\xe0\\x99X\\xf0\\xec\\xde3\\x18fW\\xdd\\xa3 A\\x9b&\\xb0\\xe0\\x99Yp\\xd3\\x05W\\xc2\\xb2\\xef\\xa3\\xc8\\x9f\\x9a\\xc0\\x82\\xe7\\xcb\\xc2]\\x8f\\xad\\xab\\xcf\\xd4\\xa2Uq\\xa0\\xd5\\x04\\x16<3\\x0b\\x8ee\\xe2\\xba=\\x94@\\x97\\tI\\x06\\xa0\\xe0\\xf92\\x1d\\xdaS>\\xce\\xad\\xcfP\\xc9A\\xc3\\xf9&\\xa0\\xe0\\xf9\\x8a\\x82\\xa7\\x87`\\xbb\\xeb\\'p:\\xf1\\x04\\x14<\\x13\\n\\xd6O\\xdc\\xbdH\\xba\\xfcd\\xde\\xcfH\\x87\\x81\\xfc\\xe7\\x9e`o\\xdbu]\\x97o\\xa6\\x8e\\xeb\\x9c\\'\\xa0\\xe0\\x99PpWX(\\xf9\\xbf\\xc7\\xb3\\x89\\x07&\\x81&\\xa0\\xe0\\x99P\\xf0\\xf56o\\xf7\\xeb\\xeb\\x02\\xae\\xbe\\x81\\xe90\\x90\\xff\\x8c\\x82\\xfbS?\"\\xd7\\xc0\\xb3n*\\xb9\\x19\\x13P\\xf0\\xccM\\xc1\\xae_(r1\\x9c\\x9d\\x1d\\x9d\"\\x9d\\t(x&\\x14,\\x07\\xaa\\x9f\\xa2\\x9bI\\x07\\xdd\\x86\\xc9\\xc6\\t(xf\\x14\\xec\\xca)\\'!\\xae\\x9b\\x93\\xb0\\xe4l\\x02\\n\\x9e\\xb9)\\xf8i<\\x94\\x03\\xea\\x95\\x86\\x93\\xd5\\x1cP\\xf0|A\\xc1\\xf7\\xf14v,\\xbb|\\xd4\\x100\\x01\\x05\\xcf\\xfeR\\r\\x1a\\xb7\\xd8\\xa6-\\xefK!Go\\x02\\n\\x9e\\x19\\x05K^\\x8fo\\x00\\xc5,\\xde\\xf8@\\xea\\x04(x\\xe6\\xa6`[\\n}\\xcd\\xe3\\xb5\\x05\\xbf\\xa2N\\x80\\x82g^\\xc9\\xeb\\x8c\\x8d.\\xba\\xea\\xc1\\x8d^\\x99H\\x87\\x81\\x06d\\x14|\\xa7Dc\\x19\\xa9\\xb9\\xc8\\x91P\\xf0\\x04\\x14<\\x13\\n>[\\x01\\xb5\\xeb\\xc7e\\x89B\\xf1!\\xe9&\\xa0\\xe0\\x997\\xf3n\\x0f\\xaf\\xf6\\xae///\\xe0\\xb3@\\x01\\xf2j\\xde\\xd5\\xb7\\xe7%l\\x8f\\xed\\xad\\xbf\\xf2`\\xb4\\xae4\\xd7B8\\xd9\\xb2\\xe6\\xf6\\xb0\\xe9\\x89c!&\\x90\\xe0\\x99H\\xb0]Eod\\xd55\\'\\xb9\\xc5j\\xa0\\t(x\\x8e\\x974\\xe8z\\x06\\xd4/I\\x99W\\x0e\\xd1a\\xa0\\x00yB\\xf43\\xb9Q\\x0e\\xa8\\x07\\xa3t\\xdc\\xf6;\\x01\\x05\\xcf\\x97\\x9e`\\x8fN\\x1e\\x1eYwB\\xdaI\\x16\\x08P\\xf0|\\xe9\\n\\xee\\xcbE\\xc7\\xcfb%\\x85\\xc7dh\\x01\\x05\\xcf\\x8c\\x82\\x8f\\xf7\\xbcz\\xa5\\xf1U\\x98\\x83\\xd9\\xdeI\\xabzs[\\xb0\\xd7P\\xd5\\xed\\xb2?\\x9dF5O\\x93v\\xf5&\\x12,\\xcbx\\x87\\x9ccW+UW\\xfe\\xd1a\\xa0\\x00\\xb9+X\\xdf\\xb2\\x16\\xbd{oU\\x88\\x86\\xabci_\\xef\\xcc\\xe5\\xd0Ox\\x18\\x1e0\\xe1\\x8at<\\x8c6\\xf6\\xe6\\x051\\xed\\x19\\xaa\\xdd<\\xeeu\\xe0\\x82\\x98I;{\\x13\\nv\\xb7\\x95\\xdf\\x99\\xc2\\xfcz\\xa5\\xa5\\xf8\\xce@\\x01\\x12\\n\\xd6\\xaf[\\xf2\\xa7\\xd6\\xf2D\\xf2\\xb6\\xf0n\\xa2\\xd5\\xbdy@\\xb4g\\xa5\\x15/\\xbfS\\x00\\xdby\\r0-\\xefM(x\\xca\\x829:T\\x00j\\xcf\\x91\\xf26\\x93\\xd6\\xf7&\\x14l\\x8e\\xe0U\\xdc\\xf2\\x0e\\xaa\\x82\\'\\xca\\xf6N@\\xc13\\xa1\\xe0y\\xdbvW\\xf6\\xd3\\xfa\\xa9X\\x07\\x0f\\x03\\r\\xc8]\\xc1+\\x9ei\\xafW\\xc1@L*,\\x9a@\\x82g\"\\xc1\\xddK\\x1e\\x8b\\x87\\xa2x\\xc2\\x01\\x82\\xb0\\t$x&\\x12,s\\xad\\x18l\\x84w\\xbax*\\x04\\x1e\\x06\\n\\x10/\\xb5@\\x9e\\x90\\xfeT\\xef7/k\\xa4\\xc3hiu\\xce\\x82\\xeaB/\\x0fl\\xf2\\xfa3\\xbc\\x01\\x80\\x04\\xcf\\xdc\\x14\\xbc\\xf6\\xd9\\xe5\\x99\\xa5\\xe7u\\xd3T\\xa64\\x81\\x04\\xcf\\x97u\\xbeN\\xdd?\\x1b\\x86Wu\\xa3\\x07\\x1d\\x06\\n\\x90\\xbb\\x82\\xf5\\xd3\\x1c\\x9f7\\x8f\\xe5\\xf0\\x146:\\x0c\\x14 \\xa1`\\xc5p\\xae\\xee\\xd5\\xe54<\\xb8\\x91\\xcad&\\xa0\\xe0\\x99Q\\xb0~\\x9a\\xeb\\xf4\\xaa\\x93gT\\xd72\\x01\\x04\\xcf\\x04\\x82u\\xbdy\\xcc\\x99\\xfb\\x04\\xeb\\xb0\\xebH\\x87\\x81\\xfc\\'\\x10|\\xdc_l\\x85\\xfc\\xd7\\xbd\\n\\xf4\\xc6\\x00\\x04\\xcf\\x97\\xd5\\xbe[\\xca4\\xdd,.\\xf7\\xa7_\\xb2?\\x00\\x82g\\x02\\xc1.\\xf6{\\x16\\xe1\\\\\\x8f\\xaf\\xde\\xb8\\x8a\\x1c@\\xf0\\xcc \\xf8*\\x90\\x96\\xfcK\\xdb]\\xc8C5\\x97\\x13@\\xf0L \\xb8_I\\xbd\\xec\\x8fK\\xc9\\xc7\\t\\x0c\\xe8\\x00\\x04\\xcf\\x0c\\x82=F\\xb5<\\xa8I\\x86\\xe3P\\x91\\xcc\\x04\\x10<\\x13\\x08\\x96W\\xe6\\xc9\\xd5\\x86\\x90\\xe3l\\x1c\\r7\\x01\\x04\\xcf\\x0c\\x82\\xf5=\\xa2\\xb4\\xed^\\x1d\\xd9\\r\\xaa\\xb8\\x99@\\x82g&\\xc1\\x92\\x06W#\\x8ec\\xff\\x11y\\xf7\\x04\\x12<\\x13\\t\\xde\\x9e.\\xe7\\xda\\xde\\x11\\xf6g18\\x01\\x12<\\x13\\t\\xbe\\xe7\\xca\\xcf\\xb3\\x87\\xe7\\xe9\\xacX@8\\x81\\x04\\xcf\\xdc\\x13<\\xdbx\\xc6\\x9aKE\\xb7\\xa2`\\x12Z \\xc13\\xf7\\x04\\xdfglc\\xf3\\xc7\\xac\\x1e\\xb7H\\x87\\x81\\x06\\xe4\\t\\xd1\\xe3>C&\\x96\\xab\\xbe\\xdb\\xaf<\\x19h@&\\xc1\\xff\\x7f70\\x80\\xe0\\x99@\\xb0b\\x928\\xe5\\xba\\x8ep\\xb9\\xff\\x87.\\x00\\x00\\xc13\\x83\\xe0v\\xae[E\\xec\\x08\\xad_\\x133P\\x80\\xdc\\x12\\\\\\xdd]\\xa6\\x8b\\xc4k\\xf2\\xda\\xc6\\xcc1\\x80\\xe0y2\\x06p\\xbb\\xbe\\xae8\\'\\xe1*\\xee\\x8e\\x98\\x00\\x82g\\x06\\xc1\\xee\\xeaS@\\xe1(}\\xdf\\x85\\xfe,\\x80\\xe0\\x99@\\xf0\\xf6\\x14\\xb7r]o\\xf6\\xec\"\"=\\x07\\x10<3\\x08vM\\xd7\\xd7E\\xd5q\\xacUt\\x18(\\xc0KO\\xf0\\xdav\\xce\\x86t\\\\~2\\xa6\\xe1\\x00\\x04\\xcf\\xd7\\x9e\\xe0\\xe1\\x94\\xd2\\xf4\\xc61\\xeb\\x01\\x1d\\x06\\n\\x90A\\xb0\\xe7\\xe2\\x96\\xa5\\x00x{:\\r)\\x13p\\xe0\\x99[\\x82\\xef\\xde\\xf1\\xf8\\x19G\\xee<\\x8e\\x14\\x9e\\xc0\\x81\\xe7\\xc9\\x95\\x10.\\x14\\xf6Y\\xddsF\\xa9Wv\\x02\\x07\\x9e\\'c\\x00\\xc5]e:u|\\xaeWY\\xc2a\\xc0\\x81g\\xe2\\xc0\\xc3W\\x92>\\xe6\\xfa\\xda]\\x89>\\x10p\\xe0ys%D\\xf7fA\\xf7\\xf6\\xf9\\xae\\xe3\\xc3@\\x01\\x12\\x07\\xf6\\xfe\\xbfUz\\xdb^J\\xc4\\x0b\\xb4&\\x80\\xe0\\x99{\\x82u\\xbbL\\xcf\\x92yf\\xd3\\xb0\\xdb\\x02 x&\\x10,\\x1f#<\\x9f\\xf8z\\xf3\\xc6\\xadx\\xd1\\x01\\x08\\x9e\\x19\\x04?F#\\x14\\x19?\\xf0\\x84\\x8a\\x17&\\x80\\xe0\\x99\\x17\\x04;\\xdbX\\xbc\\xa2\\xc1%\\x84\\x87?\\x00h\\xc0KOp\\xf7\\x07\\xd0\\xbdt<O\\x86J\\x98\\'\\x90\\xe0\\x99H\\xf0\\x90\\xd9q\\xab\\x88\\xbb\\x89\\x8c\\xf5\\xc9\\x9c\\x01\\t\\x9e\\x99\\x04W\\'Z\\x9e9\\xcc\\x1e\\x9dF\\xf3\\x89\\x03Hp$\\x12\\xac\\x18\\xa7y\\x04d\\xf5\\xb2\\x81\\x8d\\xd3\\xac\\x02Hp\\xbct\\x05wE\\x01}\\xed\\xe9\"\\xa5I_3\\x00\\x05G\\xee\\n\\x96\\x17u=\\x19\\xc8\\xeb(\\xce\"\\xab\\x1d\\x80\\x82#\\xa1`=Q\\x93s\\xe6mh.F\\xa1:\\xbd\\x00\\x14\\x1cyO\\xf0\\x1ar\\xcf\\xae\\x89\\x93G\\xa0R\\x1e4\\x00\\x05\\xc7\\xcb\\x9e`\\x93\\x18o\\xed\\x1e\\xa3\\xb9\\x1e\\x88\\x0e{\\xaf\\x01\\x91Q\\xf0\\xec.\\x15\\x9e^\\x0bk\\xe4\\x04V#\\x00\\x05GB\\xc1\\xb3\\x9e\\xfa\\xd4C\\xebb\\x19\\x1e\\x9dL\\x87\\xbd\\xd7\\x80\\xc8(\\xd8\\x8bk\\xca1\\xeap\\x199\\xcb\\xd9{\\r\\x88\\x97\\x01\\xd1{\\xf6\\xe26\\x9d\\xe9\\xed\\xb2\\xb4\\xc0)\\x00\\x05G\\xcbQ\\xf0\\xe8:\\xac6\\xa7\\xdc\\x15\\xbd\\x92\\x9c\\x01\\n\\x8e\\x84\\x82M\\x87\\xcap}Wx\\xba0-\\x1c\\x08@\\xc1\\x91Q\\xb0>f+-\\xbc\\xac|`\\xe6&\\x00\\x05G\\x9e\\x0f=\\x8en:\\xef\\xa1\\xeb\\xb2h\\x87.\\xf4\\x00\\x14\\x1c\\t\\x05\\xf75\\xce\\xd3\\x11\\xd0<\\n\\x1e\\x1b\\x02\\x02Xp\\xe4\\xb6`G\\xab\\xe5\\xb8\\x91Z7JP\\x91@\\x00\\x0b\\x8e\\xc4\\x82\\xa5\\x90QV\\xf7\\xf4Rg!\\xc84\\x02\\n\\x8e\\xbc)\\xd8\\xad\\x8b\\xe5\\xd4g\\xe2\\xa2\\xac6\\x18\\xed\\x00\\x14\\x1c\\xb9+X\\x97[\\xfb:\\xfc\\xc2\\x05\\x84|\\x18\\xc8\\x7fF\\xc1^\\xdc\\xe1\\x9dKOw\\xe5\\xa1<t\\x00\\n\\x8e\\x84\\x82\\xbb\\x0c\\x8f#:]\\x9e\\xfa\\xa0\\x97&c\\x05\\xa0\\xe0H(x\\x0e\\x8f \\\\1\\xe5l8v\"\\xcd\\x04\\x14\\x1cy>\\xf4\\x1e\\xbe\\xe7\\xa67\\x1c\\xfd\\xca.\\x96\\x00\\x14\\x1c\\x19\\x05\\xf7\\xfauU\\xf3\\xd3\\x13\\x86\\xcb\\x1d\\x03Pp\\xbc\\xcc\\x87\\xfe\\xda\\xad\\xe9\\xde\\xd4\\xe0\\x91\\x15\\x01(8\\x12\\n\\xde\\xae\\x81\\xf0\\n3\\xcf\\'\\xf6\\xb0c:\\x0c\\x14 \\xa1`9\\x04\\xaeH\\xf7d\\x0e\\xc7\\x9d\\x94\\xee\\n@\\xc1\\x91P\\xf0\\xf0\\xee\\x02w)\\xf4\\xe9;\\x9d2\\xb4\\x01(8\\xf2|hy-\\xc6j\\n,<A\\x13%\\x03\\x14 \\x93\\xe0\\xf9L\\'\\xbe.\\xdd\\x99\\xde\\xbb\\x04\\x87\\x01\\t\\x8eL\\x82\\xfb\\xde\\xc5\\xbb\\xdd\\xe52:\\xa6\\xa3\\xab\\tHp\\xbc4\\x05\\xff\\x7f\\xf5\\xe4\\x05\\xa0\\xe0\\xc8(\\xd8\\xd3\\x1f]\\r\\xa7\\x7f\\xf7F\\x1c\\xfa\\x98\\x80\\x82#\\xa1\\xe0\\xe3\\x0b\\xb8\\xcb\\xdf\\xf6\\x0cT\\xf9{t5\\x01\\n\\x8e\\x84\\x82\\xbd\\x8c\\xd7\\xe3\\xa1\\xbb.\\x06E\\x14\\xc4H\\x03Pp\\x8cx\\xf1\\xa7\\xa4\\x00\\xfa\\xd7\\x13\\xe9\\x90\\xab\\x1d\\x80\\x82#\\xa3\\xe0\\xed\\xfe\\xa6k\\x0b\\x19!\\x0f\\x92\\xce\\x02\\xf9\\xcf$\\xd8\\xe51E\\x1ehw\\x08<\\xd0\\x9d\\x02\\x12\\x1c\\x89\\x04?\\xe3\\x15u\\x03l[\\xb5\\x81kW\\x03Hpd\\x12,\\x9f\\xcc\\xbd\\xcfG* \\xd3M\\xd3\\x17\\x02Hp\\xcc\\\\\\x0c\\'\\x99(\\xf6?e\\xcb\\xf8\\x95\\x01\\t\\x8e<\\x1f\\xdac\\x0c\\xdd\\x92\\xf7\\x94\\xe2.\\xbc\\xe7\\x80\\x04G&\\xc1v\\xef\\xe4gx\\x7f\\xd6\\x94t\\xd0+\\x03\\x12\\x1c\\x99\\x04[P\\xf5d^\\xeb\\xe2u \\xf8d \\xff\\x89\\x04{Ea\\xf5@\\xd5\\x1b\\x1e\\x18BT3\\x80\\x04\\xc7KS\\xb04\\xd5#\\x9d\\xa7\\xd7z\\xe1\\xd6\\xbd\\x00\\x12\\x1cyU\\xb0{Q=\\x7f\\xe7YS\\x12T\\x8c\\x15@\\x82#\\x91\\xe0]\\xcf\\xf5H\\xf9\\xe6\\xce\\x9f\\x8e\\xdbk\\x02Hp\\xcc\\\\\\n\\xe1*\\xa5-\\x13t=3\\x8aJ!\\x02Hp$\\x12|f\\x8bZ\\xbc\\x83%\\xbcu\\x15\\x1dm \\xc1\\x91H\\xb0^\\xbc\\x84\\xd6C%\\x9fh\\x07#\\x1d \\xc1\\x91H\\xf0\\x92|\\x157u\\xe8\\xfd\\xf7\\xc0\\xad{\\x01(8\\x12\\n\\x1e\\xfbYU\\xab8\\x7f>\\xf3\\xa6\\xe9\\x06\\x06\\x14\\x1c\\x19\\x05{\\x1fc\\xf72\\xf0\\xe5\\xf5\\xd6\\xc4H\\x03Pp\\xbc\\xa2`\\xb9@\\x9e\\t1\\xfa\\xed\\x97\\xd6+\\x07\\xa0\\xe0H(x\\xd4\\xdeB?\\xb3\\x87\\x97ub1P\\x00\\n\\x8e\\xbc+\\xd8\\xb2Q\\x86.\\xf3g2\\n\\xd1\\xdb\\x00\\x14\\x1c\\x19\\x05O\\x97\\xdd\\x9f\\xed}\\x03r\\xd4\\xc86\\x02\\t\\x8eD\\x82\\xe5g\\xaf\\xe9\\xb9\\xbd\\xd5\\xc5]\\x13\\x8d6\\x90\\xe0H$\\xb8\\xbb\\xe8^\\xe1\\xfem\\xf3\\x19\\xb6H\\x87\\x01\\t\\x8e\\xf5Z\\x0e\\xed\\xda^\\x85\\xac\\xb16.\\x11\\r`\\xc1\\xb1r\\x0c\\xb0\\xaa\\x87\\xca;3\\xb2=\\xc0\\x8e\\x0e\\x03\\x05H,x\\xda\\x9dUP7\\xe5\\xb0\\xcc\\x85\\xd3/\\x02Xpd\\x16\\xecM\\x16\\xd5*\\xb0]\\x0eD\\x88\"\\x80\\x05\\xc7\\xca\\xc5@\\x92.\\xd7<\\x8d\\xe96R\\xccO\\x01\\x0b\\x8e\\x95\\x0b\\xa2\\xc3\\xc9\\xc6\\'5b5\\'\\x87\\x16Xp\\xacL\\xc2\\xaa\\xees\\x0f\\x1f\\xf1\\xda\\xf2\\x85\\xe1!\\xb0\\xe0\\xc8,\\xd8\\xed\\x86\\xf6\\x1b\\xbb\\x84\\xadR\\x0fE\\x00\\n\\x8e\\xdc\\x13\\xacP\\xee\\x14Oe\\xf5nd*\\x06\\r \\xc1\\x91H\\xf0\\xf6\\x84\\x89\\xe9\\xad\\x052g\\xf7\\xa0;\\x0b$8\\x12\\t\\x9eRn\\x05\\xd4W1\\x93\\x1cZ\\xfe\\x96@\\x82#\\x91`\\xe7\\x1en\\xd9\\xee\\x06\\xb6\\xdfB$2\\x80\\x04G&\\xc1u\\xbb\\xe0i>=\\xa9z\\x9bd\\xcc\\x80\\x04G\"\\xc12\\xb0\\xa7\\xc8\\xff\\xf1k\\xeb\\x9e\\xeaI\\x87\\x81\\xfc\\'\\x12\\xdc\\xa5\\x00\\xbe\\x00\\xe4W9DG\\x7f\\nHp\\xe4\\xe9\\xd0UW\\x80\\x13\\xb4U\\xa7-t\\xb4\\x01\\x04G\\x06\\xc1\\xc7\\xbc{z\\x18\\xbf\\xbc<\\xaa\\x11\\x0b\\x00\\xc1\\x91;\\x82\\xdd\\x1d\\xa8hby\\xa7\\xdd\\xc2%\\xf6\\x01 8\\x12\\x08\\xf6\\x03\\xf5\"\\xd7\\xe7v]\\x98\\x83:\\x82\\x03@p$\\x10<\\xa7|2\\xddr\\xd3\\xb5@\\r;\\x82\\x03@p$\\x10\\xec\\xab\\xd2\\xab\\xd0\\xf4O\\xa7\\x97%\\x91\\xfc\\x03\\x08\\x8e\\x04\\x82\\x87G(=\\x8d\\xcf}\\xcbu\\xc4x\\x1a@p\\xe4\\xe1\\xd0\\xab=\\xfb\\xae<\\x7f\\xd9\\xf19\\xbd3\\x00\\xc1\\x91@\\xf0\\xec\\x9e\\xe3p\\xec\\xfe\\x9f\\xf5+\\xc6\\x0c@p\\xbct\\x04_\\xef\\x9c\\x0c\\x03:\\x85cx3\\x01\\x08\\x8e\\x93\\xab\\xa1\\xad\\x9a\\xdd\\x80N\\xef\\x8cjd\\x028p\\x9cl\\xfe\\x9f\\x12\\r\\x83soO\\xa1f\\xfd\\x00\\x10\\x1c\\t\\x04+\\x84k\\xae\\x1f\\xdf\\nYB_\\x16\\xdf?(@\\x9e\\r-\\x03\\xd6\\x8b\\xa7\\xd0\\xce6\\xe5q\\x906\\x01\\x08\\x8e<\\x1b:d[\\x8b\\xa75.Wj\\x13\\x87\\x0c\\x00\\xc1\\x91@\\xb09\\xa4\\xdc<w\\xbc\\xb9!\\x80pk\\x00\\x08\\x8e\\x97\\xd9\\xd0\\xee.\\xf6$1\\x8f\\x07\\xdd\\x18\\xb6\\x02\\x08\\x8e\\x04\\x82\\x15{5\\xd7(\\xc9\\xcdP\\x08:P\\xcc\\x00\\x04\\xc7\\x0b\\x08\\xd6\\x97,\\xd7;\\x8d\\x1c\\xc1\\xd2\\xc7\\x04\\x0e\\x1c\\xb9!XA\\x84\\x8b\\xd1]\\xbe\\xe6:U<\\x0c\\xe4?q\\xe0\\xf0\\xcaD\\xb7cxd\\xf5\\r\\xe4s\\xc0\\x81#\\xcf\\x86v\\xf7b\\x99\\xf7\\xb4\\xe3\\xfd<x\\x9b\\x03\\x07\\x8e\\xc4\\x81\\xe5[\\x9f\\xb2t\\xa7\\x1b\\x90\\x8e\\xc0\\xec\\x08p\\xe0x\\x99\\r\\xdd\\x144U\\x05\\xac\\n\\xc5\\x14\\x9b\\xe3a\\xa0\\x00\\x89\\x03G=\\xae\\xeb:\\xdez\\x1en\\x16|\\x7f\\xd8\\x02\\x0e\\xbc\\xf2\\xa2\\xe0\\xbe\\x9c\\x03\\xaa\\xae\\x1c\\xf1\\x10`x\\xb2\\x05\\x1cxe\\x0e\\xdcu]\\x96\\xe5\\x1d\\xcd\\xe1\\xdd:\\xf0\\x01\\x16p\\xe0\\x958pT\\xc9}\\xf1@\\xa0%\\x9fyP\\x99\\xe4\\x02\\x0e\\xbc\\x12\\x07\\xd6\\xa5;}\\xd1y;L\\x9b\\x9b\\xe62-\\xe0\\xc0+q\\xe0\\xe3\\xc5\\x00\\xf6\\x1a\\x9fY\\x1a\\x18\\x9c/\\xe0\\xc0+q\\xe0\\x90\\xe5\\x9f\\xc5\\x15\\x15\\xba\\xa4N\\xa5]t\\x0b8\\xf0zi\\t\\x96\\x7f]t\\xf5\\x1e\\x9b\\x8dJ\\x18f\\x01\\x07^\\x89\\x03\\x9f\\xbdV/\\xcf\\x80Jk:U\\x8f,\\xe0\\xc0+q\\xe0\\xae\\x10\\xa7\\x17\\x9f\\xa3\\x97\\xb6\\xb0\\xe8~\\x01\\x07^5s0\\x0f\\xd9\\xfa\\xda\\xdat75\\x8a,\\xc0\\xc0+w\\x04{\\xec\\xa0T\\xd3\\xed\\x00\\xdd\\xef\\x8d\\x0e\\x03\\x05\\xc8\\xd3\\xa1\\xe5\\x96\\xadR\\xbf\\xfa\\xec.\\x89\\xa3\\xc3@\\x01\\x12\\x06\\xde\\xcf.\\xd2\\xe3\\x7fS@\\x8d\\xd5\\xb8\\x0b8\\xf0\\xca\\x1cx\\x19\\x83y\\xd7\\xa1\\xae\\xe2\\xc3\\xaf\\x0c\\xe4?c`)\\xd1.\\xd33\\x9edhq\\x85\\xf7\\x02\\x0c\\xbc2\\x06\\x9e\\x9e\\xd8\\xe5\\x10\\xb3v\\x0b\\t\\xfeJ\\x90\\xff<\\x1d\\xfa8\\x02\\x0e\\xfb{G\\xcfG)\\xa0\\x05\\x1cxe\\x0e,\\x87]\\xf1\\x9c\\x9b1\\xc6\\xe4\\x94\\xf6\\x02\\x0e\\xbc\\x12\\x07\\x9e\\xc7\\x1b\\xaa\\xc2u\\xa0\\xe1>j|g \\xff\\x89\\x03/]I\\xadx\\x1b\\xb8G\\x1dl\\xea/^\\xc0\\x81W\\xe2\\xc0^\\xa5Y\\\\\\xd2\\xbb[\\xf5\\xf0:\\x12\\r\\xe0\\xc0+q`y\\x17Oeu\\xd5q\\xbb_j\\x08[\\xc0\\x81Wn\\t\\xde\\xee:9\\xc7\\xe3\\x07[\\xc3A>\\x0b8\\xf0J\\x1c\\xd8\\xf3\\xdb\\xbc\\xc0\\xf2>\\xf4|\\xa1\\x01\\x02\\x0e\\xbcrKp\\xd3\\xe5T\\xe4\\xcen\\xc9\\xdb\\xc6\\x86\\xbc\\x05\\x1cx\\xe5\\x96`\\xb7O\\xbbY\\xd9S\\xfe..\\xb6[\\xc0\\x81Wn\\t\\xae\\xfa\\xd9\\xf64\\xf4\\xba\\xb6\\x81\\x07\\x1d\\x06\\x1a\\x90[\\x82cx&\\x81\\x9b\\xe2\\x9fu\\x1b\\xf83A\\x032\\x07n\\x1eJ\\x10\\x8a\\x0c\\xdcc_i\\xf6\\xce\\x02\\x10\\xbc^Z\\x82\\xe5.\\x16\\xbd\\x7f9\\x19\\xd3\\xae2\\x1c\\x06 x\\xe5\\xe9\\xd0a\\xdc\\xd7\\xab\\xfbH\\xbd\\xc3\\x98\\xd4\\t@\\xf0\\xca X\\x91\\x84\\xe7\\xaf\\xe9\\x12pw19\\xa1\\x0b@\\xf0\\xca{\\x82\\x1d\\x98\\x14ok\\xd6}\\xe2f):\\x0c4 \\x81\\xe0\\xe1.:7\\xd1u\\xe7\\x81.\\x95\\xf0/\\x00\\xc1+\\x81\\xe0g\\xb0G\\xf1<\\x94\\xe3\\x02\\x12j\\xc8X\\x00\\x82W\\x02\\xc1\\xb7\\xbaY\\xb9~-ki\\x8d\\xa8\\xf2\\x02\\x10\\xbc^A\\xf0h\\x86\\x87\\xd5\\xf5\\xd5\\x98\\x86^@\\x82W\"\\xc1\\xd2\\xc6\\xfe\\xd4h<\\xfd\\x95\\x03\\xddc \\xc1+\\x8f\\x87\\xae.a\\x0e\\'.\\xa3{<\\x1f\\x1d\\x06\\x1a\\x90Ip\\xbd{\\x94\\xfe4\\x18{\\x19\\x17\\xbd3 \\xc1+\\x91`\\xe7\\xeb\\x87\\xf7\\x0e_\\xc3\\x0e\\xdc\\xee\\xbb\\x00\\x05\\xaf\\x84\\x82\\xbb\\'e\\x96Y\\xcf\\xd7\\xc2:\\xca\\xb6,@\\xc1+\\xa1\\xe0\\xa18\\xdf\\xd1\\xe6q.\\xee\\xe2\\x0e\\xdd\\x05(x\\xe5U\\xc1\\xdbXS\\xd2\\x16\\xb2\\x1a\\xf5P\\xbae\\x01\\n^\\t\\x05\\xcb\\xfd1\\xa4\\xf6n\\x00oc!\\xde\\xb7\\x00\\x05\\xaf\\x8c\\x82\\xaf,oy\\x86\\xe5T\\xf7\\xf2\\xe2\\x93\\x81\\x06\\xe4\\xf9\\xd0\\x9e\\xe4\\xe9\\xa1\\xe6\\xeeV\\x9e4\\xb1k\\x01\\t^\\x89\\x04K\\'\\xbd\\xf1Mony\\xdf\\x03eh\\x17\\x90\\xe0\\x95I\\xf0\\x8ac\\x0c#\\xff\\xa0yb\\x02)\\x00\\x90\\xe0\\x95H\\xb0\\x17\\x95\\xf7\\xe2\\x8c\\x9eWB\\xf1}\\x02$xe\\x12\\\\\\x87\\x02\\xa7\\x90Y\\xaa\\xee\\xa6\\xa0\\xd1\\x88\\x0bH\\xf0J$X!\\x85\\xdf\\xff\\xf1\\x8a\\xb6s\\x06e\\xa8\\x16\\x90\\xe0\\x95\\x9b\\x82\\xabC:w\\xdez)`\\xe0;\\x03\\x12\\xbc\\xf2xhO\\x91\\xf1\\xb2l\\xef\\x9cw\\xb1\\x18\\x1d\\x06\\n\\x10\\xb9\\x16H\\x91\\xb9l\\xe3\\xd7\\raA(~\\x01\\t^\\x89\\x04O\\xdd\\xe8\\x8a\\x0f\\xbd;\\xc2\\xaa\\x80~\\x0b\\x90\\xe0\\x95\\x9b\\x82\\xf7C\"\\xbb\\xf7\\xd4z\\x89\\x10\\xfeL\\xd0\\x80\\xc8 l\\x9b\\x91>\\x05\\xc7{Sa\\xd7\\x02\\x12\\xbcrO\\xf0yR\\xb4\\x9e\\x99\\xefe\\x1b\\xe8\\xd1\\x02\\t^\\x89\\x04\\xb7\\xb8\\xeeT\\xf0\\xc2I\\x99\"d\\x87\\x0bH\\xf0\\xca=\\xc1\\x9e\\xc5\\xe1\\xf2\\x85\\xe5\\x14\\xed\\xc5\\xc8\\tH\\xf0Z\\xb9\\x18N1N9\\xde#\\xba\\xed\\xb9\\x93\\xd1\\x06\\x12\\xbc\\x12\\t\\x1e\\n\\r\\xa7\\xbb;\\xdcs\\xc2C3\\x17\\x90\\xe0\\x95H\\xb0\\x99\\x95\\x1c\\xaa\\xed\\x89i\\xae\\xf8\\xa0\\xaf\\t$x%\\x12\\xec\\xb2\\xcd2<\\xb5]Q\\x7f\\xc76\\xc6\\x05$x%\\x12\\xec\\xd1\\xa0n\\xe4\\xd5\\xbb;\\xbf\\x92\\xbc\\\\@\\x82W&\\xc1\\xe12\\xb1h\\xc6\\x9b^H\\x84\\xa2\\x01\\n\\x90I\\xf0\\xb8\\xa7\\x17\\xbd\\xad\\xb9<\\xe4\\x063T\\x80\\x82WB\\xc1\\xb2\\xd4UF\\xfb\\xe9I\\xda\\xba\\x82Q4@\\x03\\x12\\x0b\\xd6\\xe3H5\\xbd\\x8a\\xd7\\xc3/p\\xa0\\xed\\x02\\x16\\xbc\\xf2\\xa6\\xe0\\xe56\\xba\\xb3<b\\xe5\\x9a\\x05\\xd0a\\xa0\\x01\\x89\\x05\\xeb\\xef\\xe4\\x84>s9\\xd6\\xe9\\xd8*\\xb2\\x80\\x05\\xaf\\xc4\\x82=5\\xf3x>\\xb4k\\xc4\\x14\\xc7\\xe2a\\xa0\\x01\\xb9+8\\x9e\\xb5\\xc3\\n\\xc2\\\\A80{\\x0c,xe\\x16\\x1c\\xcf^\\x9dj?\\xdb[bH\\x03\\x80\\x05\\xaf\\xdc\\x15\\xbc\\xbb\\x93\\x97\\xcd\\xb9Z\\x05>h\\x1c\\x01\\x06\\xaf\\x0c\\x83\\xf7\\x9dR\\xceP0\\xb0\\x9e|\\x15\\x1d\\x06\\x1a\\x90\\xdb\\x82\\x9b\\xe7C{\\xbd\\xbb\\xab\\xe5\\x1b\\xc1\\xf8\\x054x\\xe5M\\xc1\\xf3\\x896\\xf5xrAd\\x84I\\x03\\x80\\x06\\xaf<\\x1f\\xfaID8\\x0b\\x14\\xce\\x94S\\x11\\xff\\x02\\x1a\\xbcr[p\\xbb-J\\xec\\xe9\\xa1\\xd3\\x836\\x81,\\x80\\xc1+o\\n\\xf6\\xaeU\\xf9\\xed\\x8a\\x10\\xe3\\xf4\\x83\\tw\\x80\\xc1+\\xc1\\xe0\\xd1\\x9f\\x84\\xbb|\\x19\\x17i\\xe0\\xe2\\xf3\\x050x\\xbd\\x8c\\x87~v\\x8eye\\xbc\\xeb|\\x91+\\x00\\x0c^/]\\xc1\\xbb\\xcahx\\x19\\xbbb\\x9d\\x8d\\xda\\x040x\\xbdt\\x05\\xb7\\xb6\\x9e\\xdd\\xb2\\xf3\\xfa\\xc9H\\xcc\\x80\\x06\\xafD\\x83\\xb7i\\xa4\\x82M\\xbb@n\\x16\\xc4\\x9f\\t\\n\\x90\\xdb\\x82\\x8f\\'&\\xc8^z\\xf9[;\\x18\\x05\\x00\\r^\\x89\\x06\\xbb6o\\xbb\\x84\\xc7\\x1d\\xa9\\x81\\xdd\\xe7\\x0bh\\xf0J4\\xd8+`WyVn;\\xe0\\xa4\\xda\\xc6\\x054x\\xdd\\x97r8\\xc7\\'\\xcds\\xbeu\\x1ci&\\xc0\\xe0\\x95a\\xb0br\\x0f\\xa1\\xbdr\\xe0\\x8d\\xea\\xe8>\\x07\\x18\\xbc\\xf2\\xa2`G\\xbeE\\xf7\\x92<\\x96\\xbd.U\\x90,\\x80\\xc1+\\xc1\\xe0u\\x97K\\x0ed\\xc9\\xb7s7h3\\x80\\x06\\xaf\\x97\\xae\\xe0\\xe9\\x96\\xa4\\xe3d{\\x8fM5\\xcc\\x0bh\\xf0z\\xd9\\x14\\xac\\xef\\xe8\\x85\\xb02\\xb4\\x8a\\x141\\xa7\\x014xe\\x1a\\xecQ\\tr[\\\\\\xf2\\'\\xb7\\x9d\\xbf&(@\\xa2\\xc1\\xdd\\xa9\\xfb\\xe2\\xce\\x8egD7u\\xff/\\xa0\\xc1\\xeb\\xe6\\x1b\\xc0+\\x14\\x97\\x13\\xdb\\x8a7\\xb1\\x84m\\x01\\r^\\x89\\x06\\xaf\\xfe\\xb5\\x8dQ\\x92\\xeb\\x99\\x15\\xe4il\\xa0\\xc1;\\xcf\\x87\\xdeF\\x1e\\xde\\x042\\xbc\\xab\\x9c|\\xed\\r4x\\'\\x1a<\\x1c\\xe2\\x97\\xeaAV\\xdb+l@h7\\xd0\\xe0\\x9d\\x07D{\\xc0z\\x91\\x8b\\xa0\\xf0\\xd0\\t4|\\xb2\\xf7\\x1a\\xb0\\x13\\r\\xee\\xcf\\xde\\xd5!e\\x92?\\xe9\\xde\\x07:\\xec\\xbd\\x06\\xec\\x9a\\xc3\\xe0\\xee\\tH\\xcf\\xba\\xa5\\xe0)\\xa8\\x1bh\\xf0\\xce\\xcb\\x82uX\\xc8\\xd38RK\\xf9\\x07tmn\\xa0\\xc1;\\xd1\\xe0)\\xe5v\\xd9\\xa5\\xfb\"\\x1d\\xab\\xe3a\\xef5`\\xe7e\\xc1}^\\x19Zi\\x95\\x9c=\\xb9{\\xf8\\xce\\xdek\\xc0\\xce]\\xc1n\\xadw\\x11\\x9bC\\x9d\\x8bE\\xcc\\x1bh\\xf0\\xce4\\xd8]jn\\xf0\\x18.\\x8a\\xc6\\x14\\xd5\\x06\\x1c\\xbcsW\\xb0\\x0f\\x91w\\xa0W?=\\xfa\\x1e\\xcc\\xf6\\x06\\x1c\\xbc\\x13\\x0e>R\\xa2\\xa2\\xb7\\xd5\\xc6\\xd6\\x97\\xc0Ig\\x1bp\\xf0~\\xe9\\n\\xf6\\xe6\\xcf\\xa3\\x18\\xcc\\xe5\\x15,\\x1a\\x80\\x83w^\\x16\\xec\\xc1\\x10\\n\\'\\xe2Y\\xd4\\x89\\xa3\\xe66\\xf0\\xe0\\xfd2!Z.^q\\xdf\\xed\\xac\\xba\\xedP7\\x81\\x07\\xef\\xc4\\x83\\xed\\x16\\xb8+\\xd5[\\xf2<\\xbe\\x82D\\x03x\\xf0~\\xe1\\xc1\\xbe\\xebdi\\xa5V\\xf5\\xe2\\xae\\xd4\\r<x\\xe7m\\xc1\\nO\\x8c\\x89\\xc6r\\x81#\\xee\\xc8\\xd8\\xc0\\x83w\\xe6\\xc1F\\xc1\\x9eZ\\xb4e\\x18\\xdd\\x08J\\x87\\x81\\x06\\xbcl\\x0b\\xb6\\xa2\\xf71{\\x95\\x9e\\xe3Y\\x80\\x83w\\x9e\\x10-E\\xd2\\xe5\\xe4\\xe1\\xfe]\\x0fI%\\xa1\\x1bp\\xf0\\xce\\x13\\xa2\\xbb\\x07\\r\\xb9\\xf1P\\x11X\\xe02\\xa2\\r8x\\'\\x1c\\xac\\xc8\\xcb\\x17z\\x953\\xa4\\xaf\\xd9)>\\xd9\\x80\\x83w\\xc2\\xc1\\xc7\\x13\\xba\\xddHj\\xff\\xa5a}\\xe9\\x06\\x1c\\xbc\\x13\\x0e\\x96\\x1f5\\x14S+8\\x0fs\\nT\\x00\\xc0\\xc1;\\xe3\\xe0\\xfb\\xec]\\x1d[\\x96vX\\xb5\\xe80P\\x80\\x84\\x83\\xed\\xac{\\xc5{\\xf3\\xaak\\xf9\\xc8\\xa4M\\x80\\x83w\\xc6\\xc1\\x8a\\xe9\\x9e\\xed\\x1d\\xd7myA\\x19\\xf7\\r8x\\xbfL\\x88\\xbe\\xeeK\\xd5=7<\\x93\\x9c6\\\\o\\xc0\\xc1;\\xe1\\xe09\\xaa\\x1d\\xf7)\\x19k\\xd3\\x83\\xd8\\xe00\\xc0\\xc1;\\xe3`\\xc7_f\\x01\\xb7\\xc6\\xe88#}\\x03\\x0e\\xde\\t\\x07\\xcb\\x9c9\\xa4\\x93Q\\x8b\\xea\\xac\\x1e}\\x00\\xc0\\xc1;\\xf7\\x05\\xcf\\xe6\\xc9\\x04\\xcd\\x93\\xe5\\xbd\\xa5\\x04\\x7f&h@\\x1e\\x11\\xdd\\xef\\x95\\xd0N_\\xc5\\xfa?\\x94\\xbd\\xdc\\x80\\x83w\\xc2\\xc1S&h\\xb9e\\xdf3\\xef\\xf7\\xa0,\\xf9\\x06\\x1c\\xbc\\xc7\\x0b\\x0c\\xf3\\xc6\\x01\\x05MW\\x966\\xa8\\x90y\\x03\\x0e\\xde\\x19\\x07\\x87\\x13A\\xad\\r9\\t\\xd2\\x02\\xaa/\\xda\\x80\\x83w\\xc2\\xc12\\xb1zg\\x8f\\xdf\\x18\\x8a\\x05\\xa8Vf\\x03\\x0e\\xde/\\x8d\\xc1\\x8a1\\x8a\\x1bb$g\\xf3\\xf0\\x93\\x81\\x06\\x8c\\x9c\\x08\\xd2\\xb5\\xa4\\x9fy\\x96\\x07\\x90\\\\<\\x0cp\\xf0\\xce\\x8d\\xc1s{M\\x92\\xb7X\\xb6q\\x07\\xc1\\x98\\r8x\\xe7\\xce\\xe0\\xd5V/\\xcfx8/\\xe4B\\xdd\\x04\\x1c\\xbc_\\xb6\\x05{!`{\\xea\\xee\\x9d\\x87\\xa0\\x0f\\x008x\\'\\x1c\\xec\\x01x\\n]]\\xae\\xeaas\\xa8N\\x80\\x83\\xf7\\xcb\\x8c\\xe8\\xd1=\\xd8\\xbf\\r}\\x03w\\xd9\\xd0a\\xa0\\x01\\x19\\x07\\x1b\\xc3\\x14I\\xc5pQ\\xc4\\xa0\\xd8u\\x03\\x0e\\xde\\xb93\\xf8\\xcc\\xee\\x98Bv\\xb1\\xce\\xc9\\x8e#\\xf0\\xe0\\x9d\\xd7\\x05\\x8f}\\x9f\\xd6l\\xafVs\\x0b\\x04\\x1d\\x06\\x1a\\xf0\\xb2.\\xd8\\xdbjMN\\x9e\\xf1dT_\\xb4\\x81\\x07\\xef\\xc4\\x83\\xc3\\np\\xf5\\xc6ju\\x98H\\x13\\x127\\xf0\\xe0\\x1d\\xf9\\x0e\\xf0\\x16\\xc5m\\xffS\\xe6\\x03/\\'\\xc0\\xc1;\\x8f\\x88\\x0e\\x8f3\\x91\\x9a\\xaf\\xed)\\x11\\xd4K\\xb4\\x01\\x07\\xef\\x84\\x83\\xdd\\r_<\\xafeH\\xc8\\xfc?t\\x18(@n\\x0c\\xf6\\xac\\xa8\"Gt\\x9f\\xee\\xe2o\\x92Y\\xc0\\xc1;\\xe1`YF\\xd7\\xfe\\xc9\\xe1\\xf6Fd\\x8e\\xd0\\x01\\x07\\xef<#\\xdaS\\xbe\\xcbP\\xb0\\xb3\\xfdAi\\xa4\\xdb\\x06\\x1c\\xbc\\xe3\\xa5*\\xd4{J\\xda\\xbe\\x8e\\xc5*\\x91\\x9d\\r8x\\xe7\\xc6`y\\xec\\x0e\\xaa\\xe7\\xaa\\xeb\\xba\\xfa\\x92\\x0e\\x03\\x05\\xc8<\\xd8S\\xab\\x8bK\\x95\\\\\\xfb\\xda\\tGn\\xe0\\xc1;\\xf1`yx\\xa6D1\\x9f\\xcacl\\xa6\\xdb\\xc0\\x83w\\xe6\\xc1\\nJ\\x9e\\xb5W\\xf5\\xc9\\x9d\\x91i\\x04\\x1c\\xbc\\x13\\x0eV\\xe4\\xd3\\xe5lG\\x9f\\xfd\\xc8\\x1d\\xa2B\\x81\\r8x\\xbfl\\x0b\\x9e\\xbb\\x96G\\xca\\x14\\x10\\xe0\\xeb\\x07\\x1a\\xbc\\x13\\r\\xee+\\x0c\\xbd\\xe5O\\xe9\\xaf:\\xf6\\xd8l\\xa0\\xc1;\\xd1`\\x8f^+n\\xa2vQ\\xe2be\\x02\\x1a\\xbc\\xf3\\x8c\\xe8-KQ\\x86\\xf7G,\\x8fh\"\\xc1\\x00\\x1a\\xbc3\\r\\x96\\xb5\\xd8\\xc5\\xb5\\x07r\\xdb%ix\\x18\\xc8\\xff\\xca\\x99P\\xd3\\xf8\\xb8\\xcf~w/X\\xa3\\xc3@\\xfeW\\xae\\x88\\xeb\\xe19\\x9cu?3*1<\\x01\\x1a\\xbc\\xf3\\x8c\\xe8!gM\\xb7\\xc9X\\x0e\\x9cp\\xb3\\xc5\\x06\\x1a\\xbc\\x13\\rV\\xe8y\\xc2b\\xd6\\x8f\\x14sc\\xac\\x034x\\'\\x1a\\xec\\xd2\\x9d\\xb0\\xa71\\xc2\\xe3\\x17\\xf0\\x03\\x00\\r\\xde\\x99\\x06\\xf7\\xb1]\\xf7\\xe4\\x89-2h\\xe8\\xb7\\x03\\r\\xde\\x89\\x06\\xf7g)\\xb2g:;A\\x15\\xe8\\x02\\x01\\r\\xde\\x99\\x06\\x1b\\x03\\x17\\xdd\\x03\\xf2\\xdc\\'n*\\xdc\\x00\\x83w^\\x16\\xec\\x9d3\\xba`\\xa4\\xa1\\xe3\\xbap\\x92\\x0e\\x03\\x05H08\\xda\\xf6\\x0e\\xbf\\xa7TU\\xff\\t\\xba\\x06\\x00\\x83w\\x82\\xc1\\xd1\\xa5\\xe1e\\x86\\xee\\x11\\xe74\\x08\\xf9m\\x80\\xc1\\xfbeY\\xf0\\xf5\\x04\\x189\\x08n\\xb8\\xdc\\xd41\\xb5\\x01\\x06\\xef\\xdc\\x1a\\xac7%\\xa7\\xc5\\x94\\xda(\\x80\\xea\\x987\\xc0\\xe0\\xfd\\n\\x83\\x1d\\x9d\\xc8\\x97\\x1f\\xfa\\x9e\\xb8Yd\\x03\\r\\xde/4\\xb8>\\xe3\\xe1\\xba\\xa7\\x1d\\x07\\x9b3\\xa0\\xc1;\\xd1`\\x1d\\xa2\\xabix\\xe0\\xf7\\xaa\\x17\\x87Vl\\xa0\\xc1\\xfb\\xe4(\\xd8\\xf5\\xf2\\x12\\xdc\\xe3\\xa6\\x8a\\x83\\x1f\\x00h\\xf0N4\\xb8\\xcb\\x86Xj\\x8f\\xa2}o\\x1e \\xd1\\x00\\x1a\\xbc\\x13\\r\\xb6\\x7f\\xdd\\xcap\\xc1\\x92\\xf3J\\x98\\xbb\\x04\\x1a\\xbc\\x13\\r\\x96G\\xb6\\xc3?\\xb3y\\x8e\\xf2\\xa6B\\xf2\\r4x\\xbf\\xd0\\xe0\\x87F^\\xef\\x8a\\xbc8jn\\x03\\x0c\\xde\\xb95X\\xd7\\xf9\\xf2HC\\x87\\x14\\r\\xd7\\xcbn\\x80\\xc1;\\xb7\\x06O\\x8b\\xd9S\\xe3\\xe8\\xed^\\xd4\\x1b\\xbf\\x01\\x06\\xef\\xdc\\x1a\\xfc5\\xd4t\\xee&\\x86\\xcb\\x90\\xe90P\\x80L\\x83\\x87\\x87\\xcd\\xe95\\x1eYo\\xa7\\x0b\\xe90P\\x80D\\x83\\xfbs\\x9dl\\xa3H)\\x13g!\\x80\\x06\\xefD\\x83\\xefy\\x9aO\\xbc\\xa2\\xa4\\xda\\x08\\x91C\\x054x\\xe7\\xde\\xe09\\xeb-\\xcdCP=\\xa6\\x9b\\xea\\xce6\\xd0\\xe0\\x9di\\xf0SwV\\xa7\\x9d )&\\xa64\\x80\\x06\\xef<#\\xdai^9.\\xc3\\xb3i\\xea\\xc5P\\x13h\\xf0\\xce3\\xa2\\xdd1R<\\xfek\\x0f\\x17\\x8b\\xe1\\xd7\\x04\\r\\xc84\\xd8\\xd3\\xdc$\\x1a\\xd5M;\\x0b\\xafs\\x80\\xc1;\\xc1\\xe0\\xed+\\xa9\\xc4\\x938s\\xbf\\x0e\\xbc\\xb2\\x030\\xf8\\xe4\\x11\\xd1^\\xe1\\'\\x1f\\xbb+H\\x97\\x99\\xa4\\xca\\xe3\\x030\\xf8\\xe4e\\xc1\\xdb\\xeb\\x88\\xe4\\xfc+.\\t\\xf4\\xcd\\x0e\\xb0\\xe0\\xf3\\xb2,X\\xca\\xa5\\xe0\\xd0&V\\x9f\\x92\\xd4\\xfc\\x00\\x0b>5\\x97\\x039:o\\xde\\x94\\x17\\xfa\\xa5T@r\\x80\\x05\\x9f\\x97\\t\\xd1\\xfaq\\x12\\x0c\\xaf\\xf7\\xf5\\xf8p\\x10\\x8c\\x03,\\xf8d\\x16<\\xbdF}\\xb8a\\xc7\\x83\\x9e(\\xd49\\xc0\\x82O\\xee\\x0c\\x96\\x80\\xb9\\x84M\\xf7\\xc9S\\xcb\\x80\\x92\\xf1^\\xfeO^\\x16<\\xce\\x92\\xc8\\x1a\\xed{\\xcf#\\xe1\\xdb\\x03,\\xf8d\\x16\\xec\\xccH\\x91Sp\\xa6\\xfd\\x03|\\xb0\\xf7\\xf2\\x7f\\xf2\\x80h\\xd7\\x14\\x15O]w\\x7f\\xc7F1\\x03\\x14|\\x12\\n\\xde\\x9e\\x8dr\\xa7\\xdc\\xb2u\\rP\\xe8\\xc9\\x00\\x05\\x9f\\x84\\x82\\xdd-\\xebb\\xe1\\xe1\\x11H\\x87j!\\x0e\\x90\\xe0\\x93Hp\\xbf\\xe60\\xe1\\xe1\\xd0N\\x11\\xe2+\\x03\\x12|rc\\xb0\\xbe\\xc6s\\x01\\x0c\\xd7<Q\\xe2\\xfe\\x00\\x08>\\xb91\\xd8\\xe2P\\x9eq!\\x9eA\\x8bg\\x81\\xf4\\'\\x0e\\xec\\x91-M\\xd6\\x7f\\xd8A\\x1b\\x8b\\x00\\xdd\\x01\\x0e|\\xf2\\xaa`y\\xeb\\xbdx\\x0e\\xcf2S&\\xa8y\\x80\\x03\\x9f\\xcc\\x81]\\xd5(\\xa7=\\\\\\xa9=\\xb1\\x84\\xf9\\x00\\x07>y>\\xf4\\xf5\\xaex\\xc9\\xc6\\xf6\\xdc\\xfb\\xc9\\xef\\x0c\\xc4\\xbfe\\x08\\xe0\\x02N\\xd7\\'=\\xe0\\x90Rp\\x07@\\xf0I \\xd87\\x92\\xe2\\xcc\\xa1\\x18\\xd87\\x13U)\\x1d\\x00\\xc1\\xa7\\xbf\\xe4@m\\xb2\\x87\\xdb\\x9bvmTXt\\x00\\x04\\x9f\\xdc\\x17\\xecE\\xec\\xc5\\xe9\\xcf\\x18Vr\\xd2r\\x00\\xc1\\'\\x81\\xe0\\xaf\\xab\\xbd\\x14\\xf9z\\x12\\x95\\x1e\\x8c\\xbe&\\x80\\xe0\\x93@\\xb0[\\n\\x8a\\xdf\\xfd|vQ\\xd0p\\xc4\\x03 \\xf8\\xbc\\xf4\\x05o\\xef\\xb7\\x1erK\\x97\\xc7;\\x93h\\x00\\x08>\\t\\x04\\xbb\\xd6;J\\x95-\\x9b\\xba\\xd7\\xc9g?\\xc0\\x81O\\xcf\\x14\\xac\\xcfg\\x02\\x98\\xc2\\x80\\xee\\xfd\\xcat\\x18(@n\\x0b\\xee\\xdb\\x85\\x10\\xfa\\x08\\xba\\xfd\\x02\\xb3\\x96\\x078\\xf0\\xc9m\\xc1Od2\\xfb^\\xcf\\xb0!jU8\\xc0\\x81O\\xe2\\xc0\\xde{\\xae\\xd0\\xf0x\\x06\\xd5\\x0e$\\xd4\\x078\\xf0\\xc9\\x9b\\x82%\\xa6z\\xff.8sO\\x18z\\x06\\xc0\\x81O\\xe6\\xc01\\xbdA\\xd1\\xb4[>\\xc6$<t\\x80\\x03\\x9f\\xcc\\x81\\xa7\\xfbk\\x14-yU\\x9b\\x17\\x13\\xd1a\\xa0\\x00\\xb9-x\\xd4\\xbb\\xca3\\xcdJ\\x9f\\x12\\xf1\\xd0\\x01\\x0e|\\xf2\\xaa\\xe0\\xe1\\xbc\\xa5Oq\\x94\\x8f\\xfd\\xb2\\x078\\xf0I\\x1c\\xb8?\\xab\\xbd\\xbe6d\\x0c\\xf9g\\xa4\\x01\\xc0\\x81O\\x1e\\x10\\xedU\\xa4\\xc5\\xfb\\xd5\\x14\\xff\\xf2\\x1b\\x03\\xf9\\xcf\\x8b\\x82c\\xadS\\xb6\\xc7\\xaf\\xd9\\tE\\xff\\x13(\\xf0\\xc9\\x14\\xd8\\x90\\xef\\xd9G\\xedn\\xa9\\x83\"\\x0b\\x14\\xf8\\xbcP\\xe0\\xe5t\\xde\\xf1`V]L4\\xec\\xfe\\x00\\x05>\\xb9)X^\\xc1.1\\xc3\\xf7\\xdd\\xc6)\\x13\\x07(\\xf0\\xc9\\xf3\\xa1%d\\xe1M\\xc1\\xdd\\xc0{\\x13\\x1d:@\\x81On\\n\\x0e\\xc5cN\\'-\\xd9\\x7fO\\xea\\xa3\\xc3@\\xfe_7\\x05\\x0f\\xdds\\xb5{\\x08\\x9b\\xfb\\xdf\\xe80\\x90\\xff\\xbc)\\xb8y\\xfa\\x82\\xec\\xffZ^\\x07\\x88~\\x1eP\\xe0\\xf32\\x1fZf\\xdbe\\xdf\\xbaK\\xa7\\xfd!:\\x0c\\xe4?S`\\xbf\\xab\\x12\\x9e\\x0f\\xdd<W\\x18\\x9f\\x0c4 S\\xe0\\xea\\xa2\\x8a\\x15^\\x05u\\x1b\\x7fLP\\x80\\x04\\x81\\x15\\x13\\x9a({)\\xa6]P\\x0c\\x00\\x00\\x02\\x9f\\x0c\\x81\\x87g\\xfa\\x1f\\xdb\\xd80\\x88\\xa7_\\t\\x14\\xf8d\\n\\xec\\xcd\\x95r\\xf4\\x86\\x82\\t)\\'ZF\\xa0\\xc0\\'7\\x05{n\\x9dk\\xdb\\xafn\\xe2\\xb6\\xf0:\\x07\\n|^\\x9b\\x82\\x9d\\xd0\\xae\\xaea\\xae<8\\xf3\\x00\\x05>\\x89\\x02w\\x0f~\\x94\\x05\\xf2\\xb8!\\x05\\x15\\x94\\xb49@\\x81O\\xa6\\xc0Sg\\x14\\xd7AKd=\\x87\\x99\\x0e\\x03\\x05H\\x14\\xb8\\xeb\\xd6\\xec\\xa5\\xda\\x99Zf\\xd5t\\x16\\xc8\\x7f\\xee\\t\\xf6\\xf0\\xf1\\xd2\\xae\\x8er\\x9a\\x0b=P\\x80\\xc0\\'A`\\xcf1\\x9f\\xe5^7P\\xc85\\xa0\\x0c\\xd0\\x01\\x08|\\xe2\\x05\\x82E/z\\xb0\\x18\\xba\\xca\\x03= \\x80\\xc0\\'\\x8f\\x87>\\xf7\\x19\\x1c;\\x9d\\xb7\\xdf\\x93r\\x83\\x07(\\xf0I\\x14X\\xbeu\\x1f.\\x94\\xbfN\\xa7\\x1e\\x9a\\x97p\\x80\\x02\\x9fD\\x81\\xef\\r\\x05:\\n\\xe4\\\\\\xd88pC\\xc0\\x01\\x0c|2\\x06\\xf6\\xdeh\\x8fli\\xe1\\xaa\\\\j\\x889\\x80\\x81\\xcf\\xcbxh\\xdd\\xbd\\xde\\xba*W;x`\\xc5\\x01\\x0c|\\x12\\x06\\xb6J\\x9a\\xdc:\\x01gDDz\\x0e\\x18\\xf8$\\x0c\\xec\\xb4`1\\x82\\xac\\x1eu\\xd3\\xf9\\x9d\\x81\\x06\\xe4\\xa6\\xe0\\xee\\x92\\xe3\\xeb\\x9e<I\\xc7\\xa2\\xd6\\xdb\\x03\\x18\\xf8\\xe4\\xf9\\xd0\\x9eUQ\\xfa\\xf6\\xf0\\xfc>p\\x7f\\xdc\\x01\\x0c|rS\\xb0\\xb7f\\xb9Y\\xf3\\x98u\\xe0|\\xe2\\x03\\x18\\xf8$\\x0c\\xbc\\xbc\\x9bDq\\xab\\'@\\xa2-\\x03\\x06|\\xf2th\\x0f\\xddq\\xe5\\xda\\xf6\\x1a\\xba\\x86\\x81>0\\xe0\\x93\\x18\\xf0\\xaa\\xb3\\x16\\xcf\\xd0\\xb8!q\\xc5\\xadR\\x07\\x18\\xf0I\\x0c\\xd8f\\xbat\\xffk\\xc4E\\x9ap\\x00\\x01\\x9f\\xbc&8t\\xb7\\x14\\xbf\\xb4\\xea\\xad\\x16\\xfc\\xca@\\xfaw\\xf6\\xff\\x1f\\xc7\\xe0x\\xba\\xcd\\xd9\\x88&\\x0e0\\xe0\\x93\\x1b\\x82\\xc7\\xd3+\\xbe\\x15\\x08/\\xef\\xca\\xc6\\xc3@\\xfa\\x13\\x03\\xb6\\x03Ze\\x18\\xaf{\\xbb=\\xd6\\x9c\\x0e\\x03\\xe9\\xdf\\xb9\\nn^=\\xd9\\x18\\xd5m\\xbc\\x83?\\x00H\\x7fb\\xc0n\\xde\\xf5\\x1e./\\xaa\\xea\\xbc\\xc2\\xfb\\x00\\x03>\\x99\\x01;/\\xe5\\xd9\\x94\\x8e7\\xeb\\xaf\\x1c\\x06\\n\\x90\\xf7\\x04\\xcbHH\\x01\\xdc\\xb1\\xec\\x01\\xadh~\\x80\\x01\\x9f<\\x1eZ\\xbfM&{\\xb8\\x82\\xbf\\xed\\x89)\\x08`\\xc0\\'1`\\x85\\xf6\\x0f\\xe9\\xf0H\\x88\\xcaC\\x9e\\x0e0\\xe0\\x93\\x18\\xb0K\\xbdgq\\x86D~\\x81\\xec\\x0f\\x19F`\\xc0\\'1`\\xb9\\xf0\\xc3S\\xce\\x14\\x96\\xc8\\xe0\\x0e\\xfe\\x00\\xa0\\x01/{\\x82\\xbb3-\\xd3+\\xf7z\\xc3f\\xfd\\x03\\x0c\\xf8$\\x06\\xbc\\xfc<\\xeeF\\x92\\x8b\\xe1=Itg\\x02\\x04>\\t\\x02\\x8fg\\xb9u\\x1d\\xce\\x0c\\x9e\\x8aD\\xf9\\x00\\x04>\\x19\\x02{.bq\\xd6\\xc63\\x8a\\xa9\\xd6\\xe3\\x00\\x03>\\xb9!Xn\\xa7\\xd7P\\x1cc\\xdb\\xc1\\x99.`\\xc0\\'1`\\x19\\xb1\\xbe\\x8b\\x17$\\xb9H\\xb8\\xd1<\\xd5\\x03\\x0c\\xf8$\\x06<\\xacE\\xc5\\x15#\\xd7C\\x04\\xd0\\x03\\x05\\x06|\\xf2x\\xe8\\xb6\\r\\x94\\xbd\\xf0\\xaayr2\\x993`\\xc0\\xe7\\x85\\x01\\x0f\\xcf\\xac\\xd3;\\x93\\xf0z\\xfe\\x14\\x1d\\x06\\np3\\x03\\xf3\\xf2\\xb8P\\xb4\\xe3\\xb9d\\r\\xad60\\xe0s\\xb3\\x03d\\xd7\\xcc\\t\\x17\\x17\\xca`\\x9c\\x03\\x08\\xf8\\xe4\\x86\\xe01\\xbc\\x8a\\xf4Y\\xf6P7\\x8e\\xb89\\x80\\x80OB\\xc0\\xd3\\xa3\\xba\\xe4\\xffx\\xf2\\x8e\\xfbaH\\xfe\\x81\\x01\\x9f\\xbc&\\xf8\\xd9\\x05\\xebA\\xaf\\x92\\x8e@<q\\x81\\x01\\xdf\\xc4\\x80\\xbd\\x94\\xc1[j=C\\xc6X\\x01\\xde\\xff\\x05\\x06|_\\x18\\xf0\\x0c7<H\\x8ff8?K\\x87\\xbdW\\x80\\x9b\\xd7\\x04\\x87\\xa7\\x13\\xebW\\xeej\\xdeD\\x99\\x96\\x0b\\x10\\xf8\\xe6\\x86\\xe0\\xf64\\xbd\\xd5\\xf0\\x18\\xda\\x8a\\x99\\x96\\x0b\\x10\\xf8\\xe6\\x86\\xe01\\x9f\\xde\\xd6\\xe5\\xd2\\x8a\\x8a\\xc5N\\x17 \\xf0\\xcd\\x10\\xd8\\x1bS\\xca\\xd7\\x96O\\xfbT\\xf8d\\xef\\x15\\xe0\\xe6\\x86`\\xcf\\xa7\\xbfFN\\x9e\\xe2\\x10\\xd4\\xf5y\\x01\\x02\\xdf\\x0c\\x81\\xef\\xe3\\x1c\\xc8\\xc6Jp\\x11\\x1c^`\\xc0\\xf7eK\\xb0\\xd7\\x81?\\xfb\\xd0\\\\\\x1dCG\\xbd\\x17\\xff\\x9b\\x10\\xb0\\xae\\xa9mj\\xebj\\xfb\\xc3;j/ \\xe0\\x9b\\xbb\\x81\\xaf\\xb4\\xc8\\xdb\\x8b\\xa5\\xe3^\\x05HO\\x06\\x08\\xf8\\xe6\\xe1\\xd0\\xb2\\xb2\\x9e\\x8e\\x1e\\xcba\\x0ey\\x19\\x17\\x10\\xf0\\xcd\\x08\\xd8\\x89\\x07\\x87\\xf92\\x18^7L\\xaa\\x04\\x08\\xf8&\\x04<t\\xb6\\xfcl\\x89\\xfd\\xaeK\\x9a\\x80\\xaf\\x0c\\xa4\\xffeG\\xf0q\\xd9\\xd4\\xb5\\xe5\\x91\\x05\\xa2aE\\x17 \\xf0\\xcd\\xcd\\xc0n>*u\\xef\\xb1\\xbc\\x9c\\x81\\xca\\xd0/@\\xe0\\x9b!\\xb0\\xdbc\\x8b\\xe4\\xc2[\\x187\\xfa?\\x17 \\xf0m\\xb9\\r`\\xbaQ_\\xff\\xd0u\\xb3\\x83P\\xeb\\x05\\x08|\\x13\\x04v\\x0f\\xb0m\\x99\\xaeL\\xe7 hj\\xf2\\x05\\x08|s3\\xb0\\xbbm=\\xc7\\xcai\\x91\\x81\\x95\\x1e\\x17 \\xf0\\xcd\\x10\\xd8\\x05fR\\x00\\x17z\\xc8\\xe3 o\\xea\\x02\\x04\\xbey8\\xf4s\\x97\\x8c\\xfe\\xdcM\\x15\\x8b .@\\xe0\\x9b \\xf0r Q\\xa4\\x97\\xc3I\\x9bE\\xf9\\xbc\\x0b\\x10\\xf8f\\x08\\xdc\\xef\\xa9\\xc5\\xe5tzar9H7\\x01\\x02\\xdf\\xbc$XO\\xa4\\x0b@\\xb7\\xd2\\xf4<\\x0e\\xca\\xb4_\\x80\\xc07/\\t\\x8e5\\x8b\\'\\xf8\\xc8\\xfdp)\\n>\\x19h@\\x1e\\x0e=<\\x01\\xd8+\\xdd\\xc3\\xa3<\\xa9\\xa2\\xe5\\x02\\x05\\xbe\\xb9\\x1b\\xd8\\x8b\\xa4J\\xab\\xf3\\xca\\x0cy\\x96\\x0c\\x1d\\x06\\x1a\\x90)\\xf0\\x9e\\xa7;\\xd1\\xa5P\\xa2\\x1eLB\\\\\\xa0\\xc0\\xf7\\x95\\x02o\\xef\\x88<\\xd2\\xa5\\xc3\\xa3*.P\\xe0\\x9b(\\xb0|\\xb3\\xfb\\xecO\\xdf\\xe3zw\\n\\xfdL\\xa0\\xc07S`\\xf9\\x8b\\xfa\\x9c\\xcd\\x9b\\xb8\\xc6\\xa29\\xc7\\x17 \\xf0}Y\\x12<e4\\x9e\\xb4\\x92G\\xca\\xd3p\\x89\\x0b\\x10\\xf8&\\x08l\\xdf\\xba\\x16\\xef\\x1a\\xf6\\xee\\xd5\\x86W\\x00@\\xe0\\x9b\\x9b\\x81=\\xf5\\xb7\\x18t\\xc8}\\xc4\\xb4\\xcd\\x05\\x06|_v\\x04\\xaf}\\x9f\\xe1\\x1e\\xd2\\xcc\\x81\\xbb6.0\\xe0\\x9b\\x18pl\\x93n\\x99\\xff]]\\xbeOi\\xb3\\x0b\\x0c\\xf8&\\x06\\xbc\\\\z[\\xbe\\x8eI\\xf0\\x1a\"<\\x0c\\xe4?\\x8f\\x86^\\xdd\\xfb\\x0e\\x15!\\x1ewk\\xf2\\xfb\\x07\\xf9\\xcf\\xa3\\xa1\\x977$5/Bs\\xfb\\x16*\\x13P\\xe0\\xfb\\xb2$XA\\xa1\\xc2\\x89\\xf5L\\xb9\\xc4\\xddM\\x17(\\xf0\\xcd\\xbd\\xc0\\xed\\xda\\x05z\\xc6\\xe2*\\xe8G\\xd7\\x18(\\xf0M\\x14\\xf8\\xac\\xe1\\xd0$\\x14f\\xba\\x8f\\x8eJz/P\\xe0;_\\xca@\\xc3\\x0eU\\xf5\\x0e\\xa1\\x1bh3\\x80\\x02\\xdfL\\x81=,\\xd3\\xf7\\xb9\\xdd)\\xf7\\x02\\xd0a\\xa0\\x01\\x89\\x02{\\xe0`\\x97\\xd7\\xee>\\x0c\\xb9S\\xe8\\x83\\x02\\x05\\xbe\\x89\\x02\\xb7\\xf3,\\xb0\\x9f\\xf2\\x1b\\xa7\\xfdw\\xfc\\x99\\xa0\\x013gA\\xab\\x0bd\\xa6]\\x96\\xc3+\\x92.P\\xe0\\x9bgCO\\xb9\\xc7\\xa6`\\xddY\\x03\\x1c\\xd5r\\x01\\x03\\xdf<\\x1b\\xda\\xeb|\\x8b\\xa4m9J\\xc1\\x07\\x03\\n|\\x13\\x05\\xb6\\x8bQ\\xaa7\\xfd\\xb8Ey\\xd0<\\x8e\\x0b\\x14\\xf8f\\n|\\x0c!\\x9dUR\\x10Pq\\x1e\\xc7\\x05\\n|\\x13\\x05\\x96\\xfd\\xf7\\x98i\\x85\\xe8\\x8a\\xa6\\xf86\\x01\\x08|\\x13\\x04V\\x9c\\xa9\\xd8P\\x81\\xb9\\'o\\xca\\xd5 \\xa7\\x05 \\xf0\\xcd\\x93\\xa1e\\xf5Wq\\x07\\xc0\\xdd\\xf5\\x1e\\xaa\\x1c\\xb9\\x00\\x81o\\x86\\xc0N$\\x157\\xc8\\x0e\\xaf\\xbc\\xa5\\xad\\xa6\\x17 \\xf0M\\x10Xn\\x86}cw)\\xcbi\\x19\\xb4 \\xe9\\x02\\x05\\xbe\\x99\\x02+\\xd0\\xdfE/\\xde\\x1bj\\xe5B\\x92f\\x02\\x05\\xbe\\xb9\\x15\\xf8\\xea\\x8e+\\x1e\\xba\\x16~{\\x94\\x9d\\xba@\\x81o\\xa6\\xc0\\x1ef[\\xfc\\xe6\\xdap):\\x1d\\x06\\x14\\xf8f\\n\\xbc\\xd63\\xca\\xf3\\xea\\xd7\\xcf\\xcb\\x9e6P\\xe0\\x9bGC\\xeb\\xb7\\xcdr\\xbc#\\xde\\x13B)o|\\x81\\x02\\xdf\\xbc$\\xb8\\xbayH.\\x9e\\xa7\\xed\\xceE}\\x18\\x17(\\xf0\\xcdK\\x82\\xcf\\x93i\\xa9sxIsP\\xae\\xfd\\x02\\x05\\xbe\\x99\\x02{s\\x9c\\xbf\\xa6\\x02=\\xc5\\x88x\\x9d\\x00\\x05\\xbe\\xb9\\x19x\\x84g{\\x1cSx\\x17~\\xe0\\x07\\x00\\r\\xc8\\xcd\\xc0\\xb2\\xb3\\xe6\\x90\\x1e\\xb9\\xa0\\xb3\\xe8j\\x02\\x08|\\x13\\x04\\x1e\\xe7x\\x9a\\xb3\\xae9\\xb9S#\\xa8\\xac\\xfa\\x02\\x04\\xbe\\x19\\x02\\xaf.1\\x93\\x8c\\xad\\xe9\\xe5\\xc5\\xd4\\x8c}\\x01\\x02\\xdf\\x04\\x81\\xd7\\xd7\\xc9\\xd0\\x92\\xdcV\\x87{~\\xe00\\x80\\xc07O\\x86\\xf6V\\x922<Xe)\\xaa\\xc3\\xf0\\x1c8\\xf0}\\xd9\\x12\\xfc4\\xc2\\xf4\\xd9L\\xcd\\'\\xea9p\\xe0\\x9b8p\\x1ciR\\xd1\\x91\\xd3\\xbb\\x1e\\x1af\\x07\\x81\\x03\\xdf\\xcc\\x81\\xb7\\x87\\x8e\\x1c\\xe9\\xa7\\x9f1\\xa8@\\xe3\\x02\\x08\\xbe\\xb9\\x17x<Sv\\xe5\\xcc\\xba\\'`\\x10\\x06\\xbb\\x00\\x82\\xef~\\t\\x02f\\x14?\\x94!\\x0c:\\xc7\\xc0\\x81o\\xe6\\xc0a\\x08\\xb3\\xcf\\xd3\\xf73\\xf1j\\x02\\x0c|\\xf3\\x96`Y\\nW\\x08{\\xb4\\xd3\\xe9\\x1c\\xe9\\x00\\x06\\xbe;C0\\xfb,\\xc3s\\x1f\\xe5\\x9fu\\x1a\\xbas\\x01\\x03\\xdf\\x84\\x81]a\\xe09E\\xcd]R2\\xb3d\\x7f\\x00\\x03\\xdf\\x84\\x81e1\\xba\\xd4\\xdc{5\\xbbG3\\xd1\\xfb\\x07\\x0c|_Z\\x81\\xe7=\\xe5)\\x8e9r\\xdbi`\\xec\\x05\\x0c|\\x13\\x06\\xd6\\x19\\xc3\\xebC[\\xd5\\x05\\xc0\\xa9.\\xa0\\xc07S`\\x17m\\x16\\xaf\\xbc\\xdas\\xf2h\\xa1\\x0b\\x14\\xf8\\xe6\\xb9\\xd0R\\xa5Qd\\xae\\xf55\\xcd\\x01\\xf0W\\x82\\xf8\\'\\n<\\x1e<\\xd7\\x9d\\xcd\\x1b\\x1e)\\x8f\\x87\\x81\\xfc\\xbfl\\tV@\\xf2,6\\xdd\\xe3T\\x8e\\xe7\\x80\\x02\\xdfD\\x81\\xed\\xfa\\x8f\\xa7v\\\\\\x91\\xab\\xdd\\r:\\x0c\\x14 \\xb7\\x02\\xbb8\\xb8<&-b]\\x163P\\x80<\\x17\\xfa\\xd9\\xc12\\\\\\x03\\xe4<\\t&{\\x01\\x03\\xdf\\xdc\\n\\x1c\\x9e\\x92\\x10\\xe1\\x9c\\xd93\\xe2\\x8c\\x0e\\x03\\x05\\xc8\\xad\\xc0\\xc7\\xcds\\xc3N\\xd5v[\\x19}\\x00\\xc0\\xc07\\xb7\\x02K\\xeee\\x19}a\\xba\\xbe\\x91\\x06,^\\xc0\\xc0\\xf7\\xe6J\\xe8!\\xdb\\x18:\\xcdA06\\xdc^\\xc0\\xc07\\x0f\\x86v~\\xca\\xfb,z\\xc8\\xd7\\xb8\\xb4\\xa3\\xf0\\x02\\x06\\xbe\\t\\x03K\\xec\\xeb-\\xf2\\xb0\\xfdln\\x19\\xa7\\xc3@\\x03\\x12\\x06\\xf6\\x9ea\\xafM\\xf1X\\x9a\\xe3}\\x98t\\x18h@n\\x05\\xee\\xb6\\x1ak\\xb8\\xa7\\xb2\\xf2$\\xdb\\x0b\\x1c\\xf8\\xe65\\xc1\\x8a\\xa3gY\\x9e\\xcb\\xaa\\x80z\\xff?\\xe3\\x80\\xbe\\xfb\\xe5O\\x9f?\\x7f\\xf9\\xf7\\x9f\\xbe|\\xfa\\xddo\\xfe\\xf2\\xe9\\x8f\\x9f\\xff\\xf3\\xa7\\x9f\\xff\\xf8\\xfd\\x9f\\x7f\\xf9\\xe6\\x1f~\\xfa\\xf2\\xe5\\xa7\\x1fu\\xf2\\xb7\\xdf\\xfc\\xe1\\xa7\\x9f\\xbe|\\xd6\\xc9R\\xa4o\\xbf\\xf9\\xd3\\xe7O\\xbf\\xff\\xdb\\xdf\\xfc\\xf0\\xf9\\x0f_\\xfc\\x97\\xbeY\\x7f\\xfe\\xfe\\x8f\\x7f\\xfa\\xdb\\xdf|\\xf9\\xe9/\\xfe\\xa3\\xdf\\xe9\\xfc\\xbf\\xfe\\xf4\\xf3?=\\xff\\x1d\\xbf\\xfb?PK\\x03\\x04\\x14\\x00\\x00\\x00\\x08\\x00t\\x8e\\xc7P\\x17\\x16\\xa9Qg\\x00\\x00\\x00r\\x00\\x00\\x00\\x14\\x00\\x00\\x00xl/sharedStrings.xml\\x15\\x8d\\xc1\\r\\xc20\\x0c\\x00W\\xa92\\x00.<\\xfa@\\xae?,\\xd0\\x15\\xa2bH\\xa4\\xdaIcGb|\\xd2\\xe7\\xdd=\\x0e\\xcd|\\xfa\\xc9\\xa1\\xb6\\x86\\xe4^\\x9f\\x00\\xb6\\'\\x96h\\xb7RYG\\xf9\\x94&\\xd1\\x07\\xb6/Xm\\x1c\\xdf\\x96\\x98]\\x0ex\\xcc\\xf3\\x02\\x12\\xb3\\x86\\xa9k>;\\xbfJW_\\xc3=\\x10Z&t\\xdaZ\\xde\\x19\\xc1\\t\\xe1\\x120f\\xf4\\x07PK\\x03\\x04\\x14\\x00\\x00\\x00\\x08\\x00t\\x8e\\xc7P\\xc9\\xcd\\x9f\\x0b\\xd0\\x01\\x00\\x00q\\x04\\x00\\x00\\r\\x00\\x00\\x00xl/styles.xml\\x9dT\\xdb\\x8a\\xdc0\\x0c\\xfd\\x15\\xe3\\x0fh&\\x03]hI\\x02\\xdd\\xc2\\xc2B[\\x16f\\x1f\\xfa\\xea$Jb\\xf0%\\xeb(C\\xb2__\\xd9\\xce\\xe42\\xdd\\xa7}\\x89\\xa5c\\xe9\\x1cI\\xb6\\x93\\r8+\\xb8t\\x00\\xc8&\\xad\\xcc\\x90\\xf3\\x0e\\xb1\\xff\\x9e$C\\xd5\\x81\\x16\\xc3\\x17\\xdb\\x83\\xa1\\x9d\\xc6:-\\x90\\\\\\xd7&C\\xef@\\xd4\\x83O\\xd2*9\\x9fN\\x0f\\x89\\x16\\xd2\\xf0\"3\\xa3~\\xd28\\xb0\\xca\\x8e\\x06s~\\xe2I\\x915\\xd6l\\xc8\\x99G\\x80B\\x85\\x06v\\x15*\\xe7?\\x85\\x92\\xa5\\x93!Vh\\xa9\\xe6\\x08\\x9f=PYe\\x1dC*\\x05r\\x9ezdx\\x8f\\xdbi\\xf4|\\x95\\x0b\\x8f\\x96\\xc6:\\x0f&Q!~\\xcb%|\\xb7\\x11\\x96\\x81\\x02\\xa4R\\xc7\\xca\\x08(\\xb2^ \\x823O\\xe4\\x84\\x9c\\x00\\xfe\\xb7\\xc5\\x16\\xfbu\\xee\\xa9\\xb4\\xd6\\x899=\\x7f\\xe5[BXH\\xa4\\xb4\\xae\\x06w\\x90\\x89P\\x91)h\\x90\\x12\\x9cl;\\xbf\\xa2\\xed\\x13\\xbf\\x89h5\\x19\\xb5\\x14\\xad5\"\\xd4p\\xcb\\xd8g\\xb2pt9\\xc7\\x8eF\\x7f\\xa3\\xb9\\x07\\x89\\xf3\\x1e\\x8a\\x02\\xf7\\xe8Gj\\x8bAMT\\xa0\\xd4\\xc5\\'\\xfcm\\xd6NR\\xeadjX\\x8cy\\xae\\xfdi3\\xdf\\xf3\\xcd\\xa4\\x19/f\\xbc\\x15\\xd1\\xf1\\xfc{\\xb6\\xc8\\xbd\\xa3=\\x7f\\x8a\\x96\\xf5\\xf2j\\xf1q\\xa4\\xd6L\\xf0\\xdfF\\x8b\\xf0\\xe2\\xa0\\x91S\\xf0\\xa7f\\xd5\\'v\\xd1\\xf7j\\xfe\\xa1dk4\\xc4^v\\x82\\xe9\\x87\\x82\\xe9\\'\\x05\\x8bL\\xdctXg\\x9d|\\'>\\x7f!+\\x02\\xc0qv\\x05\\x87\\xb2\\xf2\\x08\\x9dU\\x18\\xcf\\xd4,3Z\\xc7\\x13\\x86u\\x18\\xfc\\x8a\\xb2r\\x94\\n\\xa5Y\\xaa\\xead]C,\\xc8?\\xb0\\x9c\\xff\\xf1\\xefV\\x1d\\xfa\\xdf\\xe6O\\xf4(Jz\\xff\\x07~\\xca\\xad\\xa1\\x11\\xa3\\xc2\\x17\\xdf\\xe3%^\\x94\\xcd\\xfe\\xe5/Z\\xfa\\xb0F\\xbd\\xae\\x149\\xdf\\xec\\xdfP\\xcbQ\\x7f\\x0b\\x82\\xdbO\\xa6\\xf8\\x07PK\\x03\\x04\\x14\\x00\\x00\\x00\\x08\\x00t\\x8e\\xc7P\\x87\\x15i\\xbb4\\x01\\x00\\x00#\\x02\\x00\\x00\\x0f\\x00\\x00\\x00xl/workbook.xml\\x8dQ\\xc1N\\xc30\\x0c\\xfd\\x95*\\x1f@\\xb7\\t&1\\xad\\\\\\x98\\x80I\\x08&\\x86vO[w\\xb5\\x96\\xc4\\x95\\xe3n\\xb0\\xaf\\xc7\\xcd46n\\x9c\\x1c?\\xdb\\xcf\\xcf/\\xf3\\x03\\xf1\\xae$\\xdae_\\xde\\x85X\\x98V\\xa4\\x9b\\xe5y\\xacZ\\xf06\\xdeP\\x07A+\\r\\xb1\\xb7\\xa2)o\\xf3\\xd81\\xd8:\\xb6\\x00\\xe2]>\\x19\\x8d\\xa6\\xb9\\xb7\\x18\\xcc\\xc3\\xfc\\xcc\\xb5\\xe2\\xfc:!\\x81J\\x90\\x82\\x82\\x03\\xb0A8\\xc4K}H3\\xab\\r{\\xf8\\xb4eaF&\\xb3\\xbd\\xd0\\x13:\\x01^X\\x81g\\xa6\\xbe\\xc3\\xb0-\\xcc\\xd8d\\rr\\x94\\xf5\\xb0;uz\\x0c\\xe8\\xf1\\x08u\\xcabK\\x87\\x17b<R\\x10\\xeb\\xd6\\x15\\x93sij(\\xa4!\\xdd\\x10\\x7f\\x91\\r\\xb0`\\xf5\\xa7Ql\\xf9aUka\\xa6#%\\xdcc\\xc4\\x12\\x1d\\xcawa\\xd2\\xdb\\x81\\xd1+\\xf2\\xab3\\x92\\x0f\\xe7x2q\\xc6\\xff\\xb1\\x91\\x9a\\x06+XP\\xd5{\\x08r\\xf2\\x91\\xc1\\r\\xdbCl\\xb1\\x8b&\\x0b\\xd6Ca\\x92\\xf0$Y\\xe3\\xb2>\\xc9\\x175\\xe6\\xa2)\\xe3\\x19j\\x81\\x97\\xf58\\xe9;\\x8b\\xaa\\xa1\\xc1\\x00\\xf5\\x9b\\xf2D\\xc5\\xf5\\xd6j\\xc5\\xd9\\x10\\x12\\xcf\\xe4\\xf6n|\\xaf\\x9e\\xf6\\xce=*\\xf6\\x1e^\\xc9&\\xfe\\x81\\xe3\\xfc?\\x0f?PK\\x03\\x04\\x14\\x00\\x00\\x00\\x08\\x00t\\x8e\\xc7P\\xff\\xc0&\\x08\\xbd\\x00\\x00\\x00\\x85\\x02\\x00\\x00\\x1a\\x00\\x00\\x00xl/_rels/workbook.xml.rels\\xad\\x92A\\n\\x830\\x10\\x00\\xbf\"y@Wm\\xe9\\xa1\\xa8\\xa7^\\xbc\\xb6\\xfd@\\xd0\\xd5\\x88\\x9a\\x84\\xec\\x96\\xea\\xef\\x9bzQA\\xa1\\x07/\\ta\\xc3\\xcc@\\x92<\\xb0\\x93\\xdc\\x18M\\xaa\\xb1\\x14\\x0c}\\xa7)\\x15\\x8a\\xd9\\xde\\x00\\xa8P\\xd8K:\\x19\\x8b\\xdaO*\\xe3z\\xc9\\xfe\\xe8j\\xb0\\xb2he\\x8d\\x10\\x87\\xe1\\x15\\xdc\\x92!\\xb2d\\xc9\\x0c\\xf22\\x15./#\\x11\\xbc\\xa4\\xab\\x91S\\x01C\\x07\\x1f\\xe3ZR\\x88L0m\\xd1\\xc9\\x0b\\xfc\\x95\\xd1\\xe2?zSUM\\x81wS\\xbc{\\xd4\\xbcQ1\\x0b\\x04l\\x07\\xc5s\\x10)\\xe9\\xb0|\\xb2ktMG\\x87\\xac\\xe0{1\\xe7E\\x0c\\x8f\\x1d\\x1e_1Q\\xf7\\xf4\\x97Y\\xcf^\\x820\\xad\\x87\\xbf\\xc9D\\xfd5\\xc0\\xea\\xd7e_PK\\x03\\x04\\x14\\x00\\x00\\x00\\x08\\x00t\\x8e\\xc7P\\x0b\\x8f\\xd8\\x03!\\x01\\x00\\x00W\\x04\\x00\\x00\\x13\\x00\\x00\\x00[Content_Types].xml\\xb5TMO\\xc30\\x0c\\xfd+S\\xafh\\xcd\\xe0\\xc0\\x01m\\xbb\\x00W\\x98\\x04\\x7f $n\\x1b5_\\xb2\\xbd\\xd1\\xfd{\\xdcnCb*bh\\xdb%\\x89\\xf3\\xec\\xf7^\\x12+\\xf3\\xf7m\\x06\\x9at\\xc1GZ\\x14\\rs~P\\x8aL\\x03AS\\x992DA\\xaa\\x84A\\xb3\\x84X\\xab\\xacM\\xabkPw\\xb3\\xd9\\xbd2)2D\\x9er\\xcfQ,\\xe7OP\\xe9\\xb5\\xe7\\xc9\\xe3n\\xbf\\xa7^\\x14:g\\xef\\x8cf\\x97\\xa2\\xdaD{D:\\xdd\\x13\\x96\\x08~\\xc8\\xa1\\xc6e\\xba\\x91\\x84b\\xf2\\xdc\\t\\x0b\\xc9\\xde\\xa2\\x10\\x94\\nu\\x82\\xc2qa\\x1fK\\xdd\\xeb\\x06\\x10\\x9d\\x85\\x7fYKU\\xe5\\x0c\\xd8d\\xd6AJJ\\xca\\x08\\xdaR\\x03\\xc0\\xc1\\x97\\xd4h\\x04\\xfb\\xc6\\xe8b\\xbd\\xf7\\xbb\\xd2\\xc8/:\\x08\\xb1\\xea\\xbc\\xfa\\x91P^\\xcf\\x07o=\\x8c\\x1b\\x18\\x90K*\\xb3\\xb4\\x05\\x8cI\\r\\xc0n\\xbc=K\\xf0\\xd0\\r&!L3\\n\\x8a\\xecF\\x8e\\'\\x96V\\x82\\x92\\xea\\x13/yD\\xe8[\\xc7\\x82=I\\\\\\xa8\\xaf\\xf7\\xb0\\x9f\\t\\xdba=v\\xe1\\xdf \\xa9a:\\xef\\xd6\\xffht\\x99\\xcb\\xa0]\\xfc\\xcd\\xc8GJ\\xedA_\\r\\xff\\xc9\\xf2\\x0bPK\\x01\\x02\\x14\\x03\\x14\\x00\\x00\\x00\\x08\\x00t\\x8e\\xc7P\\x1f#\\xcf\\x03\\xc0\\x00\\x00\\x00\\x13\\x02\\x00\\x00\\x0b\\x00\\x00\\x00\\x00\\x00\\x00\\x00\\x00\\x00\\x00\\x00\\x80\\x01\\x00\\x00\\x00\\x00_rels/.relsPK\\x01\\x02\\x14\\x03\\x14\\x00\\x00\\x00\\x08\\x00t\\x8e\\xc7P\\'\\xe8\\x87\\x0e\\x82\\x00\\x00\\x00\\xb1\\x00\\x00\\x00\\x10\\x00\\x00\\x00\\x00\\x00\\x00\\x00\\x00\\x00\\x00\\x00\\x80\\x01\\xe9\\x00\\x00\\x00docProps/app.xmlPK\\x01\\x02\\x14\\x03\\x14\\x00\\x00\\x00\\x08\\x00t\\x8e\\xc7P\\x04\\xea\\x1c\\xe3\\xef\\x00\\x00\\x00+\\x02\\x00\\x00\\x11\\x00\\x00\\x00\\x00\\x00\\x00\\x00\\x00\\x00\\x00\\x00\\x80\\x01\\x99\\x01\\x00\\x00docProps/core.xmlPK\\x01\\x02\\x14\\x03\\x14\\x00\\x00\\x00\\x08\\x00t\\x8e\\xc7P\\x99\\\\\\x9c#\\x10\\x06\\x00\\x00\\x9c\\'\\x00\\x00\\x13\\x00\\x00\\x00\\x00\\x00\\x00\\x00\\x00\\x00\\x00\\x00\\x80\\x01\\xb7\\x02\\x00\\x00xl/theme/theme1.xmlPK\\x01\\x02\\x14\\x03\\x14\\x00\\x00\\x00\\x08\\x00t\\x8e\\xc7P\\xf8\\x8a4\\xdd\\xcfA\\x00\\x00\\xac,\\x01\\x00\\x18\\x00\\x00\\x00\\x00\\x00\\x00\\x00\\x00\\x00\\x00\\x00\\x80\\x01\\xf8\\x08\\x00\\x00xl/worksheets/sheet1.xmlPK\\x01\\x02\\x14\\x03\\x14\\x00\\x00\\x00\\x08\\x00t\\x8e\\xc7P\\x17\\x16\\xa9Qg\\x00\\x00\\x00r\\x00\\x00\\x00\\x14\\x00\\x00\\x00\\x00\\x00\\x00\\x00\\x00\\x00\\x00\\x00\\x80\\x01\\xfdJ\\x00\\x00xl/sharedStrings.xmlPK\\x01\\x02\\x14\\x03\\x14\\x00\\x00\\x00\\x08\\x00t\\x8e\\xc7P\\xc9\\xcd\\x9f\\x0b\\xd0\\x01\\x00\\x00q\\x04\\x00\\x00\\r\\x00\\x00\\x00\\x00\\x00\\x00\\x00\\x00\\x00\\x00\\x00\\x80\\x01\\x96K\\x00\\x00xl/styles.xmlPK\\x01\\x02\\x14\\x03\\x14\\x00\\x00\\x00\\x08\\x00t\\x8e\\xc7P\\x87\\x15i\\xbb4\\x01\\x00\\x00#\\x02\\x00\\x00\\x0f\\x00\\x00\\x00\\x00\\x00\\x00\\x00\\x00\\x00\\x00\\x00\\x80\\x01\\x91M\\x00\\x00xl/workbook.xmlPK\\x01\\x02\\x14\\x03\\x14\\x00\\x00\\x00\\x08\\x00t\\x8e\\xc7P\\xff\\xc0&\\x08\\xbd\\x00\\x00\\x00\\x85\\x02\\x00\\x00\\x1a\\x00\\x00\\x00\\x00\\x00\\x00\\x00\\x00\\x00\\x00\\x00\\x80\\x01\\xf2N\\x00\\x00xl/_rels/workbook.xml.relsPK\\x01\\x02\\x14\\x03\\x14\\x00\\x00\\x00\\x08\\x00t\\x8e\\xc7P\\x0b\\x8f\\xd8\\x03!\\x01\\x00\\x00W\\x04\\x00\\x00\\x13\\x00\\x00\\x00\\x00\\x00\\x00\\x00\\x00\\x00\\x00\\x00\\x80\\x01\\xe7O\\x00\\x00[Content_Types].xmlPK\\x05\\x06\\x00\\x00\\x00\\x00\\n\\x00\\n\\x00\\x80\\x02\\x00\\x009Q\\x00\\x00\\x00\\x00'}"
            ]
          },
          "metadata": {
            "tags": []
          },
          "execution_count": 155
        }
      ]
    },
    {
      "cell_type": "code",
      "metadata": {
        "id": "V-l71qd7AlzX",
        "colab_type": "code",
        "colab": {}
      },
      "source": [
        "a=pd.read_excel('gbmff.xlsx')"
      ],
      "execution_count": 0,
      "outputs": []
    },
    {
      "cell_type": "code",
      "metadata": {
        "id": "XIkwV8hoAlxS",
        "colab_type": "code",
        "colab": {}
      },
      "source": [
        "c=pd.read_excel('based_dir.xlsx')\n",
        "d=pd.read_excel('based_adv.xlsx')\n",
        "e=pd.read_excel('based_ml.xlsx')\n"
      ],
      "execution_count": 0,
      "outputs": []
    },
    {
      "cell_type": "code",
      "metadata": {
        "id": "Oknpdl5rAlrz",
        "colab_type": "code",
        "colab": {}
      },
      "source": [
        "a['Price']=a['Price']*.75+c['Price']*.10+d['Price']*.8+e['Price']*.7"
      ],
      "execution_count": 0,
      "outputs": []
    },
    {
      "cell_type": "code",
      "metadata": {
        "id": "Cg500PU2Butx",
        "colab_type": "code",
        "colab": {}
      },
      "source": [
        "a.to_excel('ensemble_x.xlsx',index=False)"
      ],
      "execution_count": 0,
      "outputs": []
    },
    {
      "cell_type": "code",
      "metadata": {
        "id": "eRkI8iyECKOw",
        "colab_type": "code",
        "colab": {}
      },
      "source": [
        "from google.colab import files\n",
        "files.download('ensemble_x.xlsx')"
      ],
      "execution_count": 0,
      "outputs": []
    },
    {
      "cell_type": "code",
      "metadata": {
        "id": "ziMPqkw_CNOg",
        "colab_type": "code",
        "colab": {}
      },
      "source": [
        ""
      ],
      "execution_count": 0,
      "outputs": []
    }
  ]
}