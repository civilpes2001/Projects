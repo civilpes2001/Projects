{
  "nbformat": 4,
  "nbformat_minor": 0,
  "metadata": {
    "colab": {
      "name": "News Popularity Prediction: Weekend Hackathon #14.ipynb",
      "provenance": [],
      "collapsed_sections": []
    },
    "kernelspec": {
      "name": "python3",
      "display_name": "Python 3"
    }
  },
  "cells": [
    {
      "cell_type": "code",
      "metadata": {
        "id": "5gw6ylsbZnfq",
        "colab_type": "code",
        "colab": {
          "base_uri": "https://localhost:8080/",
          "height": 201
        },
        "outputId": "b8836fec-efe0-4fec-f2c3-c14d26e40ae4"
      },
      "source": [
        "!wget https://machinehack-be.s3.amazonaws.com/news_popularity_prediction_weekend_hackathon_14/Wk%2314-Dataset.zip"
      ],
      "execution_count": null,
      "outputs": [
        {
          "output_type": "stream",
          "text": [
            "--2020-08-02 20:12:33--  https://machinehack-be.s3.amazonaws.com/news_popularity_prediction_weekend_hackathon_14/Wk%2314-Dataset.zip\n",
            "Resolving machinehack-be.s3.amazonaws.com (machinehack-be.s3.amazonaws.com)... 52.219.62.116\n",
            "Connecting to machinehack-be.s3.amazonaws.com (machinehack-be.s3.amazonaws.com)|52.219.62.116|:443... connected.\n",
            "HTTP request sent, awaiting response... 200 OK\n",
            "Length: 6884183 (6.6M) [application/zip]\n",
            "Saving to: ‘Wk#14-Dataset.zip’\n",
            "\n",
            "Wk#14-Dataset.zip   100%[===================>]   6.56M  3.50MB/s    in 1.9s    \n",
            "\n",
            "2020-08-02 20:12:36 (3.50 MB/s) - ‘Wk#14-Dataset.zip’ saved [6884183/6884183]\n",
            "\n"
          ],
          "name": "stdout"
        }
      ]
    },
    {
      "cell_type": "code",
      "metadata": {
        "id": "HSllyff7ZrVu",
        "colab_type": "code",
        "colab": {
          "base_uri": "https://localhost:8080/",
          "height": 134
        },
        "outputId": "3e85bdfc-4c13-40bd-ee8b-afb8f75d360c"
      },
      "source": [
        "!unzip Wk#14-Dataset.zip"
      ],
      "execution_count": null,
      "outputs": [
        {
          "output_type": "stream",
          "text": [
            "Archive:  Wk#14-Dataset.zip\n",
            "  inflating: Train.csv               \n",
            "  inflating: __MACOSX/._Train.csv    \n",
            "  inflating: Test.csv                \n",
            "  inflating: __MACOSX/._Test.csv     \n",
            "  inflating: sample_submission.csv   \n",
            "  inflating: __MACOSX/._sample_submission.csv  \n"
          ],
          "name": "stdout"
        }
      ]
    },
    {
      "cell_type": "code",
      "metadata": {
        "id": "x4nDFTuktela",
        "colab_type": "code",
        "colab": {}
      },
      "source": [
        "import pandas as pd\n",
        "import numpy as np\n",
        "import matplotlib.pyplot as plt\n",
        "%matplotlib inline"
      ],
      "execution_count": null,
      "outputs": []
    },
    {
      "cell_type": "code",
      "metadata": {
        "id": "n79PrHkFti56",
        "colab_type": "code",
        "colab": {}
      },
      "source": [
        "train = pd.read_csv('Train.csv')\n",
        "test = pd.read_csv('Test.csv')"
      ],
      "execution_count": null,
      "outputs": []
    },
    {
      "cell_type": "code",
      "metadata": {
        "id": "W8kiWT-hN1mD",
        "colab_type": "code",
        "colab": {
          "base_uri": "https://localhost:8080/",
          "height": 210
        },
        "outputId": "12fe909a-14ee-4446-9a16-d5405aa1705f"
      },
      "source": [
        "train.head(5)"
      ],
      "execution_count": null,
      "outputs": [
        {
          "output_type": "execute_result",
          "data": {
            "text/html": [
              "<div>\n",
              "<style scoped>\n",
              "    .dataframe tbody tr th:only-of-type {\n",
              "        vertical-align: middle;\n",
              "    }\n",
              "\n",
              "    .dataframe tbody tr th {\n",
              "        vertical-align: top;\n",
              "    }\n",
              "\n",
              "    .dataframe thead th {\n",
              "        text-align: right;\n",
              "    }\n",
              "</style>\n",
              "<table border=\"1\" class=\"dataframe\">\n",
              "  <thead>\n",
              "    <tr style=\"text-align: right;\">\n",
              "      <th></th>\n",
              "      <th>n_tokens_title</th>\n",
              "      <th>n_tokens_content</th>\n",
              "      <th>n_unique_tokens</th>\n",
              "      <th>n_non_stop_words</th>\n",
              "      <th>n_non_stop_unique_tokens</th>\n",
              "      <th>num_hrefs</th>\n",
              "      <th>num_self_hrefs</th>\n",
              "      <th>num_imgs</th>\n",
              "      <th>num_videos</th>\n",
              "      <th>average_token_length</th>\n",
              "      <th>num_keywords</th>\n",
              "      <th>data_channel_is_lifestyle</th>\n",
              "      <th>data_channel_is_entertainment</th>\n",
              "      <th>data_channel_is_bus</th>\n",
              "      <th>data_channel_is_socmed</th>\n",
              "      <th>data_channel_is_tech</th>\n",
              "      <th>data_channel_is_world</th>\n",
              "      <th>kw_min_min</th>\n",
              "      <th>kw_max_min</th>\n",
              "      <th>kw_avg_min</th>\n",
              "      <th>kw_min_max</th>\n",
              "      <th>kw_max_max</th>\n",
              "      <th>kw_avg_max</th>\n",
              "      <th>kw_min_avg</th>\n",
              "      <th>kw_max_avg</th>\n",
              "      <th>kw_avg_avg</th>\n",
              "      <th>self_reference_min_shares</th>\n",
              "      <th>self_reference_max_shares</th>\n",
              "      <th>self_reference_avg_sharess</th>\n",
              "      <th>weekday_is_monday</th>\n",
              "      <th>weekday_is_tuesday</th>\n",
              "      <th>weekday_is_wednesday</th>\n",
              "      <th>weekday_is_thursday</th>\n",
              "      <th>weekday_is_friday</th>\n",
              "      <th>weekday_is_saturday</th>\n",
              "      <th>weekday_is_sunday</th>\n",
              "      <th>is_weekend</th>\n",
              "      <th>LDA_00</th>\n",
              "      <th>LDA_01</th>\n",
              "      <th>LDA_02</th>\n",
              "      <th>LDA_03</th>\n",
              "      <th>LDA_04</th>\n",
              "      <th>global_subjectivity</th>\n",
              "      <th>global_sentiment_polarity</th>\n",
              "      <th>global_rate_positive_words</th>\n",
              "      <th>global_rate_negative_words</th>\n",
              "      <th>rate_positive_words</th>\n",
              "      <th>rate_negative_words</th>\n",
              "      <th>avg_positive_polarity</th>\n",
              "      <th>min_positive_polarity</th>\n",
              "      <th>max_positive_polarity</th>\n",
              "      <th>avg_negative_polarity</th>\n",
              "      <th>min_negative_polarity</th>\n",
              "      <th>max_negative_polarity</th>\n",
              "      <th>title_subjectivity</th>\n",
              "      <th>title_sentiment_polarity</th>\n",
              "      <th>abs_title_subjectivity</th>\n",
              "      <th>abs_title_sentiment_polarity</th>\n",
              "      <th>shares</th>\n",
              "    </tr>\n",
              "  </thead>\n",
              "  <tbody>\n",
              "    <tr>\n",
              "      <th>0</th>\n",
              "      <td>9.0</td>\n",
              "      <td>286.0</td>\n",
              "      <td>0.552727</td>\n",
              "      <td>1.0</td>\n",
              "      <td>0.612903</td>\n",
              "      <td>6.0</td>\n",
              "      <td>4.0</td>\n",
              "      <td>2.0</td>\n",
              "      <td>1.0</td>\n",
              "      <td>4.702797</td>\n",
              "      <td>9.0</td>\n",
              "      <td>0.0</td>\n",
              "      <td>0.0</td>\n",
              "      <td>0.0</td>\n",
              "      <td>0.0</td>\n",
              "      <td>1.0</td>\n",
              "      <td>0.0</td>\n",
              "      <td>-1.0</td>\n",
              "      <td>519.0</td>\n",
              "      <td>110.125000</td>\n",
              "      <td>0.0</td>\n",
              "      <td>843300.0</td>\n",
              "      <td>401655.555556</td>\n",
              "      <td>0.000000</td>\n",
              "      <td>4020.494845</td>\n",
              "      <td>2770.929395</td>\n",
              "      <td>2000.0</td>\n",
              "      <td>13900.0</td>\n",
              "      <td>7950.0</td>\n",
              "      <td>0.0</td>\n",
              "      <td>0.0</td>\n",
              "      <td>0.0</td>\n",
              "      <td>1.0</td>\n",
              "      <td>0.0</td>\n",
              "      <td>0.0</td>\n",
              "      <td>0.0</td>\n",
              "      <td>0.0</td>\n",
              "      <td>0.022280</td>\n",
              "      <td>0.022225</td>\n",
              "      <td>0.022250</td>\n",
              "      <td>0.022223</td>\n",
              "      <td>0.911021</td>\n",
              "      <td>0.433628</td>\n",
              "      <td>0.267172</td>\n",
              "      <td>0.048951</td>\n",
              "      <td>0.000000</td>\n",
              "      <td>1.000000</td>\n",
              "      <td>0.000000</td>\n",
              "      <td>0.343506</td>\n",
              "      <td>0.136364</td>\n",
              "      <td>1.0</td>\n",
              "      <td>0.000000</td>\n",
              "      <td>0.0</td>\n",
              "      <td>0.00</td>\n",
              "      <td>0.000000</td>\n",
              "      <td>0.000000</td>\n",
              "      <td>0.500000</td>\n",
              "      <td>0.000000</td>\n",
              "      <td>4751.0</td>\n",
              "    </tr>\n",
              "    <tr>\n",
              "      <th>1</th>\n",
              "      <td>10.0</td>\n",
              "      <td>96.0</td>\n",
              "      <td>0.702128</td>\n",
              "      <td>1.0</td>\n",
              "      <td>0.796875</td>\n",
              "      <td>4.0</td>\n",
              "      <td>3.0</td>\n",
              "      <td>10.0</td>\n",
              "      <td>1.0</td>\n",
              "      <td>4.458333</td>\n",
              "      <td>8.0</td>\n",
              "      <td>0.0</td>\n",
              "      <td>0.0</td>\n",
              "      <td>0.0</td>\n",
              "      <td>0.0</td>\n",
              "      <td>0.0</td>\n",
              "      <td>0.0</td>\n",
              "      <td>217.0</td>\n",
              "      <td>900.0</td>\n",
              "      <td>399.250000</td>\n",
              "      <td>4400.0</td>\n",
              "      <td>80400.0</td>\n",
              "      <td>39962.500000</td>\n",
              "      <td>2042.608696</td>\n",
              "      <td>3366.920455</td>\n",
              "      <td>2917.842715</td>\n",
              "      <td>2600.0</td>\n",
              "      <td>2600.0</td>\n",
              "      <td>2600.0</td>\n",
              "      <td>0.0</td>\n",
              "      <td>0.0</td>\n",
              "      <td>0.0</td>\n",
              "      <td>0.0</td>\n",
              "      <td>0.0</td>\n",
              "      <td>0.0</td>\n",
              "      <td>1.0</td>\n",
              "      <td>1.0</td>\n",
              "      <td>0.025174</td>\n",
              "      <td>0.025050</td>\n",
              "      <td>0.025010</td>\n",
              "      <td>0.899733</td>\n",
              "      <td>0.025033</td>\n",
              "      <td>0.733333</td>\n",
              "      <td>0.040000</td>\n",
              "      <td>0.041667</td>\n",
              "      <td>0.020833</td>\n",
              "      <td>0.666667</td>\n",
              "      <td>0.333333</td>\n",
              "      <td>0.425000</td>\n",
              "      <td>0.200000</td>\n",
              "      <td>0.5</td>\n",
              "      <td>-0.650000</td>\n",
              "      <td>-0.7</td>\n",
              "      <td>-0.60</td>\n",
              "      <td>1.000000</td>\n",
              "      <td>0.500000</td>\n",
              "      <td>0.500000</td>\n",
              "      <td>0.500000</td>\n",
              "      <td>1821.0</td>\n",
              "    </tr>\n",
              "    <tr>\n",
              "      <th>2</th>\n",
              "      <td>9.0</td>\n",
              "      <td>399.0</td>\n",
              "      <td>0.675532</td>\n",
              "      <td>1.0</td>\n",
              "      <td>0.813433</td>\n",
              "      <td>21.0</td>\n",
              "      <td>1.0</td>\n",
              "      <td>20.0</td>\n",
              "      <td>0.0</td>\n",
              "      <td>4.859649</td>\n",
              "      <td>9.0</td>\n",
              "      <td>0.0</td>\n",
              "      <td>0.0</td>\n",
              "      <td>0.0</td>\n",
              "      <td>0.0</td>\n",
              "      <td>0.0</td>\n",
              "      <td>0.0</td>\n",
              "      <td>-1.0</td>\n",
              "      <td>413.0</td>\n",
              "      <td>163.750000</td>\n",
              "      <td>0.0</td>\n",
              "      <td>843300.0</td>\n",
              "      <td>277655.555556</td>\n",
              "      <td>0.000000</td>\n",
              "      <td>8974.234069</td>\n",
              "      <td>4570.544961</td>\n",
              "      <td>23700.0</td>\n",
              "      <td>23700.0</td>\n",
              "      <td>23700.0</td>\n",
              "      <td>0.0</td>\n",
              "      <td>1.0</td>\n",
              "      <td>0.0</td>\n",
              "      <td>0.0</td>\n",
              "      <td>0.0</td>\n",
              "      <td>0.0</td>\n",
              "      <td>0.0</td>\n",
              "      <td>0.0</td>\n",
              "      <td>0.181856</td>\n",
              "      <td>0.022235</td>\n",
              "      <td>0.140076</td>\n",
              "      <td>0.632909</td>\n",
              "      <td>0.022924</td>\n",
              "      <td>0.356277</td>\n",
              "      <td>0.079883</td>\n",
              "      <td>0.027569</td>\n",
              "      <td>0.020050</td>\n",
              "      <td>0.578947</td>\n",
              "      <td>0.421053</td>\n",
              "      <td>0.312613</td>\n",
              "      <td>0.100000</td>\n",
              "      <td>0.6</td>\n",
              "      <td>-0.180208</td>\n",
              "      <td>-0.4</td>\n",
              "      <td>-0.10</td>\n",
              "      <td>0.535714</td>\n",
              "      <td>0.285714</td>\n",
              "      <td>0.035714</td>\n",
              "      <td>0.285714</td>\n",
              "      <td>1420.0</td>\n",
              "    </tr>\n",
              "    <tr>\n",
              "      <th>3</th>\n",
              "      <td>11.0</td>\n",
              "      <td>1388.0</td>\n",
              "      <td>0.482156</td>\n",
              "      <td>1.0</td>\n",
              "      <td>0.685446</td>\n",
              "      <td>40.0</td>\n",
              "      <td>4.0</td>\n",
              "      <td>2.0</td>\n",
              "      <td>5.0</td>\n",
              "      <td>4.562680</td>\n",
              "      <td>10.0</td>\n",
              "      <td>1.0</td>\n",
              "      <td>0.0</td>\n",
              "      <td>0.0</td>\n",
              "      <td>0.0</td>\n",
              "      <td>0.0</td>\n",
              "      <td>0.0</td>\n",
              "      <td>-1.0</td>\n",
              "      <td>478.0</td>\n",
              "      <td>52.222222</td>\n",
              "      <td>0.0</td>\n",
              "      <td>843300.0</td>\n",
              "      <td>230180.000000</td>\n",
              "      <td>0.000000</td>\n",
              "      <td>4916.285714</td>\n",
              "      <td>3270.495273</td>\n",
              "      <td>1400.0</td>\n",
              "      <td>1400.0</td>\n",
              "      <td>1400.0</td>\n",
              "      <td>1.0</td>\n",
              "      <td>0.0</td>\n",
              "      <td>0.0</td>\n",
              "      <td>0.0</td>\n",
              "      <td>0.0</td>\n",
              "      <td>0.0</td>\n",
              "      <td>0.0</td>\n",
              "      <td>0.0</td>\n",
              "      <td>0.566989</td>\n",
              "      <td>0.021543</td>\n",
              "      <td>0.219971</td>\n",
              "      <td>0.020043</td>\n",
              "      <td>0.171454</td>\n",
              "      <td>0.446667</td>\n",
              "      <td>0.174293</td>\n",
              "      <td>0.046830</td>\n",
              "      <td>0.013689</td>\n",
              "      <td>0.773810</td>\n",
              "      <td>0.226190</td>\n",
              "      <td>0.363141</td>\n",
              "      <td>0.033333</td>\n",
              "      <td>1.0</td>\n",
              "      <td>-0.260965</td>\n",
              "      <td>-0.5</td>\n",
              "      <td>-0.05</td>\n",
              "      <td>1.000000</td>\n",
              "      <td>-0.500000</td>\n",
              "      <td>0.500000</td>\n",
              "      <td>0.500000</td>\n",
              "      <td>52.0</td>\n",
              "    </tr>\n",
              "    <tr>\n",
              "      <th>4</th>\n",
              "      <td>12.0</td>\n",
              "      <td>499.0</td>\n",
              "      <td>0.564682</td>\n",
              "      <td>1.0</td>\n",
              "      <td>0.752508</td>\n",
              "      <td>10.0</td>\n",
              "      <td>0.0</td>\n",
              "      <td>1.0</td>\n",
              "      <td>0.0</td>\n",
              "      <td>4.961924</td>\n",
              "      <td>7.0</td>\n",
              "      <td>0.0</td>\n",
              "      <td>0.0</td>\n",
              "      <td>0.0</td>\n",
              "      <td>0.0</td>\n",
              "      <td>0.0</td>\n",
              "      <td>1.0</td>\n",
              "      <td>-1.0</td>\n",
              "      <td>1300.0</td>\n",
              "      <td>283.000000</td>\n",
              "      <td>0.0</td>\n",
              "      <td>843300.0</td>\n",
              "      <td>233657.142857</td>\n",
              "      <td>0.000000</td>\n",
              "      <td>3960.285714</td>\n",
              "      <td>2382.862218</td>\n",
              "      <td>0.0</td>\n",
              "      <td>0.0</td>\n",
              "      <td>0.0</td>\n",
              "      <td>1.0</td>\n",
              "      <td>0.0</td>\n",
              "      <td>0.0</td>\n",
              "      <td>0.0</td>\n",
              "      <td>0.0</td>\n",
              "      <td>0.0</td>\n",
              "      <td>0.0</td>\n",
              "      <td>0.0</td>\n",
              "      <td>0.028579</td>\n",
              "      <td>0.028580</td>\n",
              "      <td>0.388730</td>\n",
              "      <td>0.168016</td>\n",
              "      <td>0.386094</td>\n",
              "      <td>0.527349</td>\n",
              "      <td>0.147923</td>\n",
              "      <td>0.062124</td>\n",
              "      <td>0.014028</td>\n",
              "      <td>0.815789</td>\n",
              "      <td>0.184211</td>\n",
              "      <td>0.291111</td>\n",
              "      <td>0.100000</td>\n",
              "      <td>0.6</td>\n",
              "      <td>-0.195238</td>\n",
              "      <td>-0.4</td>\n",
              "      <td>-0.10</td>\n",
              "      <td>0.650000</td>\n",
              "      <td>0.350000</td>\n",
              "      <td>0.150000</td>\n",
              "      <td>0.350000</td>\n",
              "      <td>4182.0</td>\n",
              "    </tr>\n",
              "  </tbody>\n",
              "</table>\n",
              "</div>"
            ],
            "text/plain": [
              "   n_tokens_title  n_tokens_content  ...  abs_title_sentiment_polarity  shares\n",
              "0             9.0             286.0  ...                      0.000000  4751.0\n",
              "1            10.0              96.0  ...                      0.500000  1821.0\n",
              "2             9.0             399.0  ...                      0.285714  1420.0\n",
              "3            11.0            1388.0  ...                      0.500000    52.0\n",
              "4            12.0             499.0  ...                      0.350000  4182.0\n",
              "\n",
              "[5 rows x 59 columns]"
            ]
          },
          "metadata": {
            "tags": []
          },
          "execution_count": 6
        }
      ]
    },
    {
      "cell_type": "code",
      "metadata": {
        "id": "7kirifXnN1lO",
        "colab_type": "code",
        "colab": {
          "base_uri": "https://localhost:8080/",
          "height": 210
        },
        "outputId": "376b098b-4ff0-4757-ac4b-b3c3b3b89081"
      },
      "source": [
        "test.head(5)"
      ],
      "execution_count": null,
      "outputs": [
        {
          "output_type": "execute_result",
          "data": {
            "text/html": [
              "<div>\n",
              "<style scoped>\n",
              "    .dataframe tbody tr th:only-of-type {\n",
              "        vertical-align: middle;\n",
              "    }\n",
              "\n",
              "    .dataframe tbody tr th {\n",
              "        vertical-align: top;\n",
              "    }\n",
              "\n",
              "    .dataframe thead th {\n",
              "        text-align: right;\n",
              "    }\n",
              "</style>\n",
              "<table border=\"1\" class=\"dataframe\">\n",
              "  <thead>\n",
              "    <tr style=\"text-align: right;\">\n",
              "      <th></th>\n",
              "      <th>n_tokens_title</th>\n",
              "      <th>n_tokens_content</th>\n",
              "      <th>n_unique_tokens</th>\n",
              "      <th>n_non_stop_words</th>\n",
              "      <th>n_non_stop_unique_tokens</th>\n",
              "      <th>num_hrefs</th>\n",
              "      <th>num_self_hrefs</th>\n",
              "      <th>num_imgs</th>\n",
              "      <th>num_videos</th>\n",
              "      <th>average_token_length</th>\n",
              "      <th>num_keywords</th>\n",
              "      <th>data_channel_is_lifestyle</th>\n",
              "      <th>data_channel_is_entertainment</th>\n",
              "      <th>data_channel_is_bus</th>\n",
              "      <th>data_channel_is_socmed</th>\n",
              "      <th>data_channel_is_tech</th>\n",
              "      <th>data_channel_is_world</th>\n",
              "      <th>kw_min_min</th>\n",
              "      <th>kw_max_min</th>\n",
              "      <th>kw_avg_min</th>\n",
              "      <th>kw_min_max</th>\n",
              "      <th>kw_max_max</th>\n",
              "      <th>kw_avg_max</th>\n",
              "      <th>kw_min_avg</th>\n",
              "      <th>kw_max_avg</th>\n",
              "      <th>kw_avg_avg</th>\n",
              "      <th>self_reference_min_shares</th>\n",
              "      <th>self_reference_max_shares</th>\n",
              "      <th>self_reference_avg_sharess</th>\n",
              "      <th>weekday_is_monday</th>\n",
              "      <th>weekday_is_tuesday</th>\n",
              "      <th>weekday_is_wednesday</th>\n",
              "      <th>weekday_is_thursday</th>\n",
              "      <th>weekday_is_friday</th>\n",
              "      <th>weekday_is_saturday</th>\n",
              "      <th>weekday_is_sunday</th>\n",
              "      <th>is_weekend</th>\n",
              "      <th>LDA_00</th>\n",
              "      <th>LDA_01</th>\n",
              "      <th>LDA_02</th>\n",
              "      <th>LDA_03</th>\n",
              "      <th>LDA_04</th>\n",
              "      <th>global_subjectivity</th>\n",
              "      <th>global_sentiment_polarity</th>\n",
              "      <th>global_rate_positive_words</th>\n",
              "      <th>global_rate_negative_words</th>\n",
              "      <th>rate_positive_words</th>\n",
              "      <th>rate_negative_words</th>\n",
              "      <th>avg_positive_polarity</th>\n",
              "      <th>min_positive_polarity</th>\n",
              "      <th>max_positive_polarity</th>\n",
              "      <th>avg_negative_polarity</th>\n",
              "      <th>min_negative_polarity</th>\n",
              "      <th>max_negative_polarity</th>\n",
              "      <th>title_subjectivity</th>\n",
              "      <th>title_sentiment_polarity</th>\n",
              "      <th>abs_title_subjectivity</th>\n",
              "      <th>abs_title_sentiment_polarity</th>\n",
              "    </tr>\n",
              "  </thead>\n",
              "  <tbody>\n",
              "    <tr>\n",
              "      <th>0</th>\n",
              "      <td>12.0</td>\n",
              "      <td>325.0</td>\n",
              "      <td>0.627832</td>\n",
              "      <td>1.0</td>\n",
              "      <td>0.700461</td>\n",
              "      <td>16.0</td>\n",
              "      <td>3.0</td>\n",
              "      <td>13.0</td>\n",
              "      <td>1.0</td>\n",
              "      <td>4.600000</td>\n",
              "      <td>10.0</td>\n",
              "      <td>0.0</td>\n",
              "      <td>1.0</td>\n",
              "      <td>0.0</td>\n",
              "      <td>0.0</td>\n",
              "      <td>0.0</td>\n",
              "      <td>0.0</td>\n",
              "      <td>-1.0</td>\n",
              "      <td>508.0</td>\n",
              "      <td>107.459000</td>\n",
              "      <td>967.0</td>\n",
              "      <td>843300.0</td>\n",
              "      <td>414896.700000</td>\n",
              "      <td>737.500000</td>\n",
              "      <td>7178.356113</td>\n",
              "      <td>4326.293570</td>\n",
              "      <td>39700.0</td>\n",
              "      <td>47100.0</td>\n",
              "      <td>43400.000000</td>\n",
              "      <td>0.0</td>\n",
              "      <td>1.0</td>\n",
              "      <td>0.0</td>\n",
              "      <td>0.0</td>\n",
              "      <td>0.0</td>\n",
              "      <td>0.0</td>\n",
              "      <td>0.0</td>\n",
              "      <td>0.0</td>\n",
              "      <td>0.020872</td>\n",
              "      <td>0.020279</td>\n",
              "      <td>0.020127</td>\n",
              "      <td>0.917571</td>\n",
              "      <td>0.021151</td>\n",
              "      <td>0.681302</td>\n",
              "      <td>0.021247</td>\n",
              "      <td>0.046154</td>\n",
              "      <td>0.021538</td>\n",
              "      <td>0.681818</td>\n",
              "      <td>0.318182</td>\n",
              "      <td>0.332828</td>\n",
              "      <td>0.050000</td>\n",
              "      <td>0.70</td>\n",
              "      <td>-0.510714</td>\n",
              "      <td>-1.0</td>\n",
              "      <td>-0.333333</td>\n",
              "      <td>1.0</td>\n",
              "      <td>-1.0</td>\n",
              "      <td>0.5</td>\n",
              "      <td>1.0</td>\n",
              "    </tr>\n",
              "    <tr>\n",
              "      <th>1</th>\n",
              "      <td>10.0</td>\n",
              "      <td>592.0</td>\n",
              "      <td>0.606272</td>\n",
              "      <td>1.0</td>\n",
              "      <td>0.798343</td>\n",
              "      <td>18.0</td>\n",
              "      <td>4.0</td>\n",
              "      <td>10.0</td>\n",
              "      <td>1.0</td>\n",
              "      <td>4.778716</td>\n",
              "      <td>7.0</td>\n",
              "      <td>0.0</td>\n",
              "      <td>0.0</td>\n",
              "      <td>0.0</td>\n",
              "      <td>0.0</td>\n",
              "      <td>0.0</td>\n",
              "      <td>0.0</td>\n",
              "      <td>4.0</td>\n",
              "      <td>97.0</td>\n",
              "      <td>56.500000</td>\n",
              "      <td>0.0</td>\n",
              "      <td>843300.0</td>\n",
              "      <td>607757.142857</td>\n",
              "      <td>0.000000</td>\n",
              "      <td>6517.803738</td>\n",
              "      <td>3869.691981</td>\n",
              "      <td>4300.0</td>\n",
              "      <td>15000.0</td>\n",
              "      <td>9650.000000</td>\n",
              "      <td>0.0</td>\n",
              "      <td>1.0</td>\n",
              "      <td>0.0</td>\n",
              "      <td>0.0</td>\n",
              "      <td>0.0</td>\n",
              "      <td>0.0</td>\n",
              "      <td>0.0</td>\n",
              "      <td>0.0</td>\n",
              "      <td>0.029281</td>\n",
              "      <td>0.028723</td>\n",
              "      <td>0.028694</td>\n",
              "      <td>0.884719</td>\n",
              "      <td>0.028583</td>\n",
              "      <td>0.423597</td>\n",
              "      <td>0.188833</td>\n",
              "      <td>0.070946</td>\n",
              "      <td>0.015203</td>\n",
              "      <td>0.823529</td>\n",
              "      <td>0.176471</td>\n",
              "      <td>0.351263</td>\n",
              "      <td>0.033333</td>\n",
              "      <td>1.00</td>\n",
              "      <td>-0.187191</td>\n",
              "      <td>-0.3</td>\n",
              "      <td>-0.100000</td>\n",
              "      <td>0.0</td>\n",
              "      <td>0.0</td>\n",
              "      <td>0.5</td>\n",
              "      <td>0.0</td>\n",
              "    </tr>\n",
              "    <tr>\n",
              "      <th>2</th>\n",
              "      <td>11.0</td>\n",
              "      <td>839.0</td>\n",
              "      <td>0.333742</td>\n",
              "      <td>1.0</td>\n",
              "      <td>0.414498</td>\n",
              "      <td>1.0</td>\n",
              "      <td>0.0</td>\n",
              "      <td>22.0</td>\n",
              "      <td>2.0</td>\n",
              "      <td>4.740167</td>\n",
              "      <td>7.0</td>\n",
              "      <td>0.0</td>\n",
              "      <td>0.0</td>\n",
              "      <td>0.0</td>\n",
              "      <td>0.0</td>\n",
              "      <td>0.0</td>\n",
              "      <td>1.0</td>\n",
              "      <td>-1.0</td>\n",
              "      <td>799.0</td>\n",
              "      <td>224.200000</td>\n",
              "      <td>0.0</td>\n",
              "      <td>843300.0</td>\n",
              "      <td>157592.857143</td>\n",
              "      <td>0.000000</td>\n",
              "      <td>3401.039067</td>\n",
              "      <td>1560.614857</td>\n",
              "      <td>0.0</td>\n",
              "      <td>0.0</td>\n",
              "      <td>0.000000</td>\n",
              "      <td>0.0</td>\n",
              "      <td>0.0</td>\n",
              "      <td>0.0</td>\n",
              "      <td>0.0</td>\n",
              "      <td>0.0</td>\n",
              "      <td>0.0</td>\n",
              "      <td>1.0</td>\n",
              "      <td>1.0</td>\n",
              "      <td>0.028583</td>\n",
              "      <td>0.029225</td>\n",
              "      <td>0.252384</td>\n",
              "      <td>0.028622</td>\n",
              "      <td>0.661186</td>\n",
              "      <td>0.269545</td>\n",
              "      <td>-0.004740</td>\n",
              "      <td>0.009535</td>\n",
              "      <td>0.010727</td>\n",
              "      <td>0.470588</td>\n",
              "      <td>0.529412</td>\n",
              "      <td>0.213636</td>\n",
              "      <td>0.100000</td>\n",
              "      <td>0.50</td>\n",
              "      <td>-0.208333</td>\n",
              "      <td>-0.3</td>\n",
              "      <td>-0.125000</td>\n",
              "      <td>0.4</td>\n",
              "      <td>-0.2</td>\n",
              "      <td>0.1</td>\n",
              "      <td>0.2</td>\n",
              "    </tr>\n",
              "    <tr>\n",
              "      <th>3</th>\n",
              "      <td>7.0</td>\n",
              "      <td>412.0</td>\n",
              "      <td>0.562963</td>\n",
              "      <td>1.0</td>\n",
              "      <td>0.730924</td>\n",
              "      <td>15.0</td>\n",
              "      <td>11.0</td>\n",
              "      <td>1.0</td>\n",
              "      <td>1.0</td>\n",
              "      <td>4.932039</td>\n",
              "      <td>7.0</td>\n",
              "      <td>0.0</td>\n",
              "      <td>0.0</td>\n",
              "      <td>0.0</td>\n",
              "      <td>0.0</td>\n",
              "      <td>0.0</td>\n",
              "      <td>1.0</td>\n",
              "      <td>-1.0</td>\n",
              "      <td>884.0</td>\n",
              "      <td>276.857143</td>\n",
              "      <td>2200.0</td>\n",
              "      <td>843300.0</td>\n",
              "      <td>231500.000000</td>\n",
              "      <td>1042.500000</td>\n",
              "      <td>3602.687887</td>\n",
              "      <td>2280.321027</td>\n",
              "      <td>308.0</td>\n",
              "      <td>1600.0</td>\n",
              "      <td>1229.714286</td>\n",
              "      <td>0.0</td>\n",
              "      <td>0.0</td>\n",
              "      <td>0.0</td>\n",
              "      <td>0.0</td>\n",
              "      <td>1.0</td>\n",
              "      <td>0.0</td>\n",
              "      <td>0.0</td>\n",
              "      <td>0.0</td>\n",
              "      <td>0.028572</td>\n",
              "      <td>0.028572</td>\n",
              "      <td>0.885712</td>\n",
              "      <td>0.028572</td>\n",
              "      <td>0.028573</td>\n",
              "      <td>0.372765</td>\n",
              "      <td>0.014621</td>\n",
              "      <td>0.021845</td>\n",
              "      <td>0.016990</td>\n",
              "      <td>0.562500</td>\n",
              "      <td>0.437500</td>\n",
              "      <td>0.273232</td>\n",
              "      <td>0.100000</td>\n",
              "      <td>0.75</td>\n",
              "      <td>-0.280952</td>\n",
              "      <td>-0.5</td>\n",
              "      <td>-0.100000</td>\n",
              "      <td>0.0</td>\n",
              "      <td>0.0</td>\n",
              "      <td>0.5</td>\n",
              "      <td>0.0</td>\n",
              "    </tr>\n",
              "    <tr>\n",
              "      <th>4</th>\n",
              "      <td>14.0</td>\n",
              "      <td>762.0</td>\n",
              "      <td>0.473475</td>\n",
              "      <td>1.0</td>\n",
              "      <td>0.660465</td>\n",
              "      <td>11.0</td>\n",
              "      <td>3.0</td>\n",
              "      <td>1.0</td>\n",
              "      <td>1.0</td>\n",
              "      <td>4.604987</td>\n",
              "      <td>6.0</td>\n",
              "      <td>0.0</td>\n",
              "      <td>0.0</td>\n",
              "      <td>1.0</td>\n",
              "      <td>0.0</td>\n",
              "      <td>0.0</td>\n",
              "      <td>0.0</td>\n",
              "      <td>-1.0</td>\n",
              "      <td>436.0</td>\n",
              "      <td>72.000000</td>\n",
              "      <td>3400.0</td>\n",
              "      <td>843300.0</td>\n",
              "      <td>297333.333333</td>\n",
              "      <td>1306.347826</td>\n",
              "      <td>3483.555762</td>\n",
              "      <td>2477.068440</td>\n",
              "      <td>964.0</td>\n",
              "      <td>1800.0</td>\n",
              "      <td>1421.333333</td>\n",
              "      <td>1.0</td>\n",
              "      <td>0.0</td>\n",
              "      <td>0.0</td>\n",
              "      <td>0.0</td>\n",
              "      <td>0.0</td>\n",
              "      <td>0.0</td>\n",
              "      <td>0.0</td>\n",
              "      <td>0.0</td>\n",
              "      <td>0.533093</td>\n",
              "      <td>0.366856</td>\n",
              "      <td>0.033334</td>\n",
              "      <td>0.033335</td>\n",
              "      <td>0.033383</td>\n",
              "      <td>0.461811</td>\n",
              "      <td>0.175506</td>\n",
              "      <td>0.057743</td>\n",
              "      <td>0.019685</td>\n",
              "      <td>0.745763</td>\n",
              "      <td>0.254237</td>\n",
              "      <td>0.387689</td>\n",
              "      <td>0.100000</td>\n",
              "      <td>0.60</td>\n",
              "      <td>-0.231759</td>\n",
              "      <td>-0.4</td>\n",
              "      <td>-0.033333</td>\n",
              "      <td>0.4</td>\n",
              "      <td>0.1</td>\n",
              "      <td>0.1</td>\n",
              "      <td>0.1</td>\n",
              "    </tr>\n",
              "  </tbody>\n",
              "</table>\n",
              "</div>"
            ],
            "text/plain": [
              "   n_tokens_title  ...  abs_title_sentiment_polarity\n",
              "0            12.0  ...                           1.0\n",
              "1            10.0  ...                           0.0\n",
              "2            11.0  ...                           0.2\n",
              "3             7.0  ...                           0.0\n",
              "4            14.0  ...                           0.1\n",
              "\n",
              "[5 rows x 58 columns]"
            ]
          },
          "metadata": {
            "tags": []
          },
          "execution_count": 7
        }
      ]
    },
    {
      "cell_type": "code",
      "metadata": {
        "id": "3ZyWiVoEZ0U5",
        "colab_type": "code",
        "colab": {
          "base_uri": "https://localhost:8080/",
          "height": 1000
        },
        "outputId": "9117de97-a059-4b23-c0ab-cc02fcf23721"
      },
      "source": [
        "train.isnull().sum(),test.isnull().sum(),train.shape,test.shape,train.dtypes"
      ],
      "execution_count": null,
      "outputs": [
        {
          "output_type": "execute_result",
          "data": {
            "text/plain": [
              "(n_tokens_title                   0\n",
              " n_tokens_content                 0\n",
              " n_unique_tokens                  0\n",
              " n_non_stop_words                 0\n",
              " n_non_stop_unique_tokens         0\n",
              " num_hrefs                        0\n",
              " num_self_hrefs                   0\n",
              " num_imgs                         0\n",
              " num_videos                       0\n",
              " average_token_length             0\n",
              " num_keywords                     0\n",
              " data_channel_is_lifestyle        0\n",
              " data_channel_is_entertainment    0\n",
              " data_channel_is_bus              0\n",
              " data_channel_is_socmed           0\n",
              " data_channel_is_tech             0\n",
              " data_channel_is_world            0\n",
              " kw_min_min                       0\n",
              " kw_max_min                       0\n",
              " kw_avg_min                       0\n",
              " kw_min_max                       0\n",
              " kw_max_max                       0\n",
              " kw_avg_max                       0\n",
              " kw_min_avg                       0\n",
              " kw_max_avg                       0\n",
              " kw_avg_avg                       0\n",
              " self_reference_min_shares        0\n",
              " self_reference_max_shares        0\n",
              " self_reference_avg_sharess       0\n",
              " weekday_is_monday                0\n",
              " weekday_is_tuesday               0\n",
              " weekday_is_wednesday             0\n",
              " weekday_is_thursday              0\n",
              " weekday_is_friday                0\n",
              " weekday_is_saturday              0\n",
              " weekday_is_sunday                0\n",
              " is_weekend                       0\n",
              " LDA_00                           0\n",
              " LDA_01                           0\n",
              " LDA_02                           0\n",
              " LDA_03                           0\n",
              " LDA_04                           0\n",
              " global_subjectivity              0\n",
              " global_sentiment_polarity        0\n",
              " global_rate_positive_words       0\n",
              " global_rate_negative_words       0\n",
              " rate_positive_words              0\n",
              " rate_negative_words              0\n",
              " avg_positive_polarity            0\n",
              " min_positive_polarity            0\n",
              " max_positive_polarity            0\n",
              " avg_negative_polarity            0\n",
              " min_negative_polarity            0\n",
              " max_negative_polarity            0\n",
              " title_subjectivity               0\n",
              " title_sentiment_polarity         0\n",
              " abs_title_subjectivity           0\n",
              " abs_title_sentiment_polarity     0\n",
              " shares                           0\n",
              " dtype: int64, n_tokens_title                   0\n",
              " n_tokens_content                 0\n",
              " n_unique_tokens                  0\n",
              " n_non_stop_words                 0\n",
              " n_non_stop_unique_tokens         0\n",
              " num_hrefs                        0\n",
              " num_self_hrefs                   0\n",
              " num_imgs                         0\n",
              " num_videos                       0\n",
              " average_token_length             0\n",
              " num_keywords                     0\n",
              " data_channel_is_lifestyle        0\n",
              " data_channel_is_entertainment    0\n",
              " data_channel_is_bus              0\n",
              " data_channel_is_socmed           0\n",
              " data_channel_is_tech             0\n",
              " data_channel_is_world            0\n",
              " kw_min_min                       0\n",
              " kw_max_min                       0\n",
              " kw_avg_min                       0\n",
              " kw_min_max                       0\n",
              " kw_max_max                       0\n",
              " kw_avg_max                       0\n",
              " kw_min_avg                       0\n",
              " kw_max_avg                       0\n",
              " kw_avg_avg                       0\n",
              " self_reference_min_shares        0\n",
              " self_reference_max_shares        0\n",
              " self_reference_avg_sharess       0\n",
              " weekday_is_monday                0\n",
              " weekday_is_tuesday               0\n",
              " weekday_is_wednesday             0\n",
              " weekday_is_thursday              0\n",
              " weekday_is_friday                0\n",
              " weekday_is_saturday              0\n",
              " weekday_is_sunday                0\n",
              " is_weekend                       0\n",
              " LDA_00                           0\n",
              " LDA_01                           0\n",
              " LDA_02                           0\n",
              " LDA_03                           0\n",
              " LDA_04                           0\n",
              " global_subjectivity              0\n",
              " global_sentiment_polarity        0\n",
              " global_rate_positive_words       0\n",
              " global_rate_negative_words       0\n",
              " rate_positive_words              0\n",
              " rate_negative_words              0\n",
              " avg_positive_polarity            0\n",
              " min_positive_polarity            0\n",
              " max_positive_polarity            0\n",
              " avg_negative_polarity            0\n",
              " min_negative_polarity            0\n",
              " max_negative_polarity            0\n",
              " title_subjectivity               0\n",
              " title_sentiment_polarity         0\n",
              " abs_title_subjectivity           0\n",
              " abs_title_sentiment_polarity     0\n",
              " dtype: int64, (7928, 59), (31716,\n",
              "  58), n_tokens_title                   float64\n",
              " n_tokens_content                 float64\n",
              " n_unique_tokens                  float64\n",
              " n_non_stop_words                 float64\n",
              " n_non_stop_unique_tokens         float64\n",
              " num_hrefs                        float64\n",
              " num_self_hrefs                   float64\n",
              " num_imgs                         float64\n",
              " num_videos                       float64\n",
              " average_token_length             float64\n",
              " num_keywords                     float64\n",
              " data_channel_is_lifestyle        float64\n",
              " data_channel_is_entertainment    float64\n",
              " data_channel_is_bus              float64\n",
              " data_channel_is_socmed           float64\n",
              " data_channel_is_tech             float64\n",
              " data_channel_is_world            float64\n",
              " kw_min_min                       float64\n",
              " kw_max_min                       float64\n",
              " kw_avg_min                       float64\n",
              " kw_min_max                       float64\n",
              " kw_max_max                       float64\n",
              " kw_avg_max                       float64\n",
              " kw_min_avg                       float64\n",
              " kw_max_avg                       float64\n",
              " kw_avg_avg                       float64\n",
              " self_reference_min_shares        float64\n",
              " self_reference_max_shares        float64\n",
              " self_reference_avg_sharess       float64\n",
              " weekday_is_monday                float64\n",
              " weekday_is_tuesday               float64\n",
              " weekday_is_wednesday             float64\n",
              " weekday_is_thursday              float64\n",
              " weekday_is_friday                float64\n",
              " weekday_is_saturday              float64\n",
              " weekday_is_sunday                float64\n",
              " is_weekend                       float64\n",
              " LDA_00                           float64\n",
              " LDA_01                           float64\n",
              " LDA_02                           float64\n",
              " LDA_03                           float64\n",
              " LDA_04                           float64\n",
              " global_subjectivity              float64\n",
              " global_sentiment_polarity        float64\n",
              " global_rate_positive_words       float64\n",
              " global_rate_negative_words       float64\n",
              " rate_positive_words              float64\n",
              " rate_negative_words              float64\n",
              " avg_positive_polarity            float64\n",
              " min_positive_polarity            float64\n",
              " max_positive_polarity            float64\n",
              " avg_negative_polarity            float64\n",
              " min_negative_polarity            float64\n",
              " max_negative_polarity            float64\n",
              " title_subjectivity               float64\n",
              " title_sentiment_polarity         float64\n",
              " abs_title_subjectivity           float64\n",
              " abs_title_sentiment_polarity     float64\n",
              " shares                           float64\n",
              " dtype: object)"
            ]
          },
          "metadata": {
            "tags": []
          },
          "execution_count": 8
        }
      ]
    },
    {
      "cell_type": "code",
      "metadata": {
        "id": "f49w6vsgb1qH",
        "colab_type": "code",
        "colab": {
          "base_uri": "https://localhost:8080/",
          "height": 1000
        },
        "outputId": "12e63149-202a-48a1-be30-89b874ea67e9"
      },
      "source": [
        "train.nunique()"
      ],
      "execution_count": null,
      "outputs": [
        {
          "output_type": "execute_result",
          "data": {
            "text/plain": [
              "n_tokens_title                     16\n",
              "n_tokens_content                 1583\n",
              "n_unique_tokens                  7073\n",
              "n_non_stop_words                 1075\n",
              "n_non_stop_unique_tokens         6639\n",
              "num_hrefs                         102\n",
              "num_self_hrefs                     47\n",
              "num_imgs                           68\n",
              "num_videos                         36\n",
              "average_token_length             7134\n",
              "num_keywords                       10\n",
              "data_channel_is_lifestyle           2\n",
              "data_channel_is_entertainment       2\n",
              "data_channel_is_bus                 2\n",
              "data_channel_is_socmed              2\n",
              "data_channel_is_tech                2\n",
              "data_channel_is_world               2\n",
              "kw_min_min                         12\n",
              "kw_max_min                        897\n",
              "kw_avg_min                       5745\n",
              "kw_min_max                        618\n",
              "kw_max_max                         18\n",
              "kw_avg_max                       7393\n",
              "kw_min_avg                       3923\n",
              "kw_max_avg                       5747\n",
              "kw_avg_avg                       7902\n",
              "self_reference_min_shares         875\n",
              "self_reference_max_shares         723\n",
              "self_reference_avg_sharess       2556\n",
              "weekday_is_monday                   2\n",
              "weekday_is_tuesday                  2\n",
              "weekday_is_wednesday                2\n",
              "weekday_is_thursday                 2\n",
              "weekday_is_friday                   2\n",
              "weekday_is_saturday                 2\n",
              "weekday_is_sunday                   2\n",
              "is_weekend                          2\n",
              "LDA_00                           7904\n",
              "LDA_01                           7869\n",
              "LDA_02                           7918\n",
              "LDA_03                           7860\n",
              "LDA_04                           7906\n",
              "global_subjectivity              7415\n",
              "global_sentiment_polarity        7406\n",
              "global_rate_positive_words       4626\n",
              "global_rate_negative_words       3876\n",
              "rate_positive_words              1095\n",
              "rate_negative_words              1095\n",
              "avg_positive_polarity            6477\n",
              "min_positive_polarity              30\n",
              "max_positive_polarity              33\n",
              "avg_negative_polarity            4008\n",
              "min_negative_polarity              44\n",
              "max_negative_polarity              45\n",
              "title_subjectivity                319\n",
              "title_sentiment_polarity          390\n",
              "abs_title_subjectivity            257\n",
              "abs_title_sentiment_polarity      310\n",
              "shares                           2872\n",
              "dtype: int64"
            ]
          },
          "metadata": {
            "tags": []
          },
          "execution_count": 9
        }
      ]
    },
    {
      "cell_type": "code",
      "metadata": {
        "id": "EmXLwvm0IH53",
        "colab_type": "code",
        "colab": {}
      },
      "source": [
        "train_df=train\n",
        "test_df=test"
      ],
      "execution_count": null,
      "outputs": []
    },
    {
      "cell_type": "code",
      "metadata": {
        "id": "r96_0jnSIE_C",
        "colab_type": "code",
        "colab": {}
      },
      "source": [
        "X = train_df.drop(labels=['shares'], axis=1)\n",
        "y = train_df['shares'].values\n",
        "\n",
        "from sklearn.model_selection import train_test_split\n",
        "X_train, X_cv, y_train, y_cv = train_test_split(X, y, test_size=0.10, random_state=42)"
      ],
      "execution_count": null,
      "outputs": []
    },
    {
      "cell_type": "code",
      "metadata": {
        "id": "qXkdL_UNIL48",
        "colab_type": "code",
        "colab": {
          "base_uri": "https://localhost:8080/",
          "height": 33
        },
        "outputId": "5cb280e6-69fd-4475-d77b-6b7814eb2c69"
      },
      "source": [
        "X_train.shape, y_train.shape, X_cv.shape, y_cv.shape"
      ],
      "execution_count": null,
      "outputs": [
        {
          "output_type": "execute_result",
          "data": {
            "text/plain": [
              "((7135, 58), (7135,), (793, 58), (793,))"
            ]
          },
          "metadata": {
            "tags": []
          },
          "execution_count": 12
        }
      ]
    },
    {
      "cell_type": "code",
      "metadata": {
        "id": "SSEmz4TRIOA0",
        "colab_type": "code",
        "colab": {}
      },
      "source": [
        "from math import sqrt \n",
        "from sklearn.metrics import mean_squared_log_error, mean_absolute_error"
      ],
      "execution_count": null,
      "outputs": []
    },
    {
      "cell_type": "code",
      "metadata": {
        "id": "JTF5zLytQzvT",
        "colab_type": "code",
        "colab": {
          "base_uri": "https://localhost:8080/",
          "height": 302
        },
        "outputId": "6f8053cb-2706-4da8-d3a2-866ee805743c"
      },
      "source": [
        "import lightgbm as lgb\n",
        "train_data = lgb.Dataset(X_train, label=y_train)\n",
        "test_data = lgb.Dataset(X_cv, label=y_cv)\n",
        "\n",
        "param = {'objective': 'regression',\n",
        "         'boosting': 'dart',  \n",
        "         'metric': 'l2_root',\n",
        "         'learning_rate': 0.01, \n",
        "         'num_iterations': 1000,\n",
        "         'num_leaves': 300,\n",
        "         'max_depth': -1,\n",
        "         'min_data_in_leaf': 11,\n",
        "         'bagging_fraction': 0.90,\n",
        "         'bagging_freq': 2,\n",
        "         'bagging_seed': 3,\n",
        "         'feature_fraction': 0.90,\n",
        "         'feature_fraction_seed': 2,\n",
        "         'early_stopping_round': 200,\n",
        "         'max_bin': 200\n",
        "         }\n",
        "\n",
        "lgbm = lgb.train(params=param, verbose_eval=100, train_set=train_data, valid_sets=[test_data])\n",
        "\n",
        "y_pred_lgbm = lgbm.predict(X_cv)\n",
        "print('RMSLE:', mean_absolute_error(y_cv,y_pred_lgbm))"
      ],
      "execution_count": null,
      "outputs": [
        {
          "output_type": "stream",
          "text": [
            "/usr/local/lib/python3.6/dist-packages/lightgbm/engine.py:118: UserWarning: Found `num_iterations` in params. Will use it instead of argument\n",
            "  warnings.warn(\"Found `{}` in params. Will use it instead of argument\".format(alias))\n",
            "/usr/local/lib/python3.6/dist-packages/lightgbm/engine.py:123: UserWarning: Found `early_stopping_round` in params. Will use it instead of argument\n",
            "  warnings.warn(\"Found `{}` in params. Will use it instead of argument\".format(alias))\n",
            "/usr/local/lib/python3.6/dist-packages/lightgbm/callback.py:189: UserWarning: Early stopping is not available in dart mode\n",
            "  warnings.warn('Early stopping is not available in dart mode')\n"
          ],
          "name": "stderr"
        },
        {
          "output_type": "stream",
          "text": [
            "[100]\tvalid_0's rmse: 17529.5\n",
            "[200]\tvalid_0's rmse: 17205.9\n",
            "[300]\tvalid_0's rmse: 16874.1\n",
            "[400]\tvalid_0's rmse: 16690\n",
            "[500]\tvalid_0's rmse: 16545.6\n",
            "[600]\tvalid_0's rmse: 16616.3\n",
            "[700]\tvalid_0's rmse: 16539.4\n",
            "[800]\tvalid_0's rmse: 16646.5\n",
            "[900]\tvalid_0's rmse: 16722\n",
            "[1000]\tvalid_0's rmse: 16740.2\n",
            "RMSLE: 6996.338586829377\n"
          ],
          "name": "stdout"
        }
      ]
    },
    {
      "cell_type": "code",
      "metadata": {
        "id": "ng4t9uwlakzM",
        "colab_type": "code",
        "colab": {
          "base_uri": "https://localhost:8080/",
          "height": 762
        },
        "outputId": "62a64299-1dfd-4045-bc74-7e71364753f4"
      },
      "source": [
        "import seaborn as sns\n",
        "feature_imp = pd.DataFrame(sorted(zip(lgbm.feature_importance(), X.columns), reverse=True)[:50], \n",
        "                           columns=['Value','Feature'])\n",
        "plt.figure(figsize=(12, 10))\n",
        "sns.barplot(x=\"Value\", y=\"Feature\", data=feature_imp.sort_values(by=\"Value\", ascending=False))\n",
        "plt.title('LightGBM Features')\n",
        "plt.tight_layout()\n",
        "plt.show()"
      ],
      "execution_count": null,
      "outputs": [
        {
          "output_type": "stream",
          "text": [
            "/usr/local/lib/python3.6/dist-packages/statsmodels/tools/_testing.py:19: FutureWarning: pandas.util.testing is deprecated. Use the functions in the public API at pandas.testing instead.\n",
            "  import pandas.util.testing as tm\n"
          ],
          "name": "stderr"
        },
        {
          "output_type": "display_data",
          "data": {
            "image/png": "[encoded data removed]",
            "text/plain": [
              "<Figure size 864x720 with 1 Axes>"
            ]
          },
          "metadata": {
            "tags": [],
            "needs_background": "light"
          }
        }
      ]
    },
    {
      "cell_type": "code",
      "metadata": {
        "id": "z_uLoQN5M3Ej",
        "colab_type": "code",
        "colab": {}
      },
      "source": [
        "Xtest = test_df"
      ],
      "execution_count": null,
      "outputs": []
    },
    {
      "cell_type": "code",
      "metadata": {
        "id": "Q3EyF-4zNtaR",
        "colab_type": "code",
        "colab": {
          "base_uri": "https://localhost:8080/",
          "height": 1000
        },
        "outputId": "5ed1f96b-1487-4f36-f653-46f6e06585c5"
      },
      "source": [
        "from sklearn.model_selection import KFold\n",
        "from lightgbm import LGBMRegressor\n",
        "\n",
        "errlgb = []\n",
        "y_pred_totlgb = []\n",
        "\n",
        "fold = KFold(n_splits=10, shuffle=True, random_state=42)\n",
        "\n",
        "for train_index, test_index in fold.split(X):\n",
        "    X_train, X_test = X.loc[train_index], X.loc[test_index]\n",
        "    y_train, y_test = y[train_index], y[test_index]\n",
        "\n",
        "    lgbm = LGBMRegressor(**param)\n",
        "    #lgbm = LGBMRegressor(boosting='gbdt',learning_rate=0.01, n_estimators=10000, random_state=101, subsample=0.9)\n",
        "    lgbm.fit(X_train, y_train, eval_set=[(X_test, y_test)], verbose=0, early_stopping_rounds=200)\n",
        "\n",
        "    y_pred_lgbm = lgbm.predict(X_test)\n",
        "    print(\"RMSLE LGBM: \", mean_absolute_error(y_test, y_pred_lgbm))\n",
        "\n",
        "    errlgb.append(mean_absolute_error(y_test,y_pred_lgbm))\n",
        "    p = lgbm.predict(Xtest)\n",
        "    y_pred_totlgb.append(p)"
      ],
      "execution_count": null,
      "outputs": [
        {
          "output_type": "stream",
          "text": [
            "/usr/local/lib/python3.6/dist-packages/lightgbm/engine.py:118: UserWarning: Found `num_iterations` in params. Will use it instead of argument\n",
            "  warnings.warn(\"Found `{}` in params. Will use it instead of argument\".format(alias))\n",
            "/usr/local/lib/python3.6/dist-packages/lightgbm/engine.py:123: UserWarning: Found `early_stopping_round` in params. Will use it instead of argument\n",
            "  warnings.warn(\"Found `{}` in params. Will use it instead of argument\".format(alias))\n",
            "/usr/local/lib/python3.6/dist-packages/lightgbm/callback.py:189: UserWarning: Early stopping is not available in dart mode\n",
            "  warnings.warn('Early stopping is not available in dart mode')\n"
          ],
          "name": "stderr"
        },
        {
          "output_type": "stream",
          "text": [
            "RMSLE LGBM:  7000.181817530303\n"
          ],
          "name": "stdout"
        },
        {
          "output_type": "stream",
          "text": [
            "/usr/local/lib/python3.6/dist-packages/lightgbm/engine.py:118: UserWarning: Found `num_iterations` in params. Will use it instead of argument\n",
            "  warnings.warn(\"Found `{}` in params. Will use it instead of argument\".format(alias))\n",
            "/usr/local/lib/python3.6/dist-packages/lightgbm/engine.py:123: UserWarning: Found `early_stopping_round` in params. Will use it instead of argument\n",
            "  warnings.warn(\"Found `{}` in params. Will use it instead of argument\".format(alias))\n",
            "/usr/local/lib/python3.6/dist-packages/lightgbm/callback.py:189: UserWarning: Early stopping is not available in dart mode\n",
            "  warnings.warn('Early stopping is not available in dart mode')\n"
          ],
          "name": "stderr"
        },
        {
          "output_type": "stream",
          "text": [
            "RMSLE LGBM:  7655.233044356312\n"
          ],
          "name": "stdout"
        },
        {
          "output_type": "stream",
          "text": [
            "/usr/local/lib/python3.6/dist-packages/lightgbm/engine.py:118: UserWarning: Found `num_iterations` in params. Will use it instead of argument\n",
            "  warnings.warn(\"Found `{}` in params. Will use it instead of argument\".format(alias))\n",
            "/usr/local/lib/python3.6/dist-packages/lightgbm/engine.py:123: UserWarning: Found `early_stopping_round` in params. Will use it instead of argument\n",
            "  warnings.warn(\"Found `{}` in params. Will use it instead of argument\".format(alias))\n",
            "/usr/local/lib/python3.6/dist-packages/lightgbm/callback.py:189: UserWarning: Early stopping is not available in dart mode\n",
            "  warnings.warn('Early stopping is not available in dart mode')\n"
          ],
          "name": "stderr"
        },
        {
          "output_type": "stream",
          "text": [
            "RMSLE LGBM:  8615.447108432314\n"
          ],
          "name": "stdout"
        },
        {
          "output_type": "stream",
          "text": [
            "/usr/local/lib/python3.6/dist-packages/lightgbm/engine.py:118: UserWarning: Found `num_iterations` in params. Will use it instead of argument\n",
            "  warnings.warn(\"Found `{}` in params. Will use it instead of argument\".format(alias))\n",
            "/usr/local/lib/python3.6/dist-packages/lightgbm/engine.py:123: UserWarning: Found `early_stopping_round` in params. Will use it instead of argument\n",
            "  warnings.warn(\"Found `{}` in params. Will use it instead of argument\".format(alias))\n",
            "/usr/local/lib/python3.6/dist-packages/lightgbm/callback.py:189: UserWarning: Early stopping is not available in dart mode\n",
            "  warnings.warn('Early stopping is not available in dart mode')\n"
          ],
          "name": "stderr"
        },
        {
          "output_type": "stream",
          "text": [
            "RMSLE LGBM:  6512.627874514213\n"
          ],
          "name": "stdout"
        },
        {
          "output_type": "stream",
          "text": [
            "/usr/local/lib/python3.6/dist-packages/lightgbm/engine.py:118: UserWarning: Found `num_iterations` in params. Will use it instead of argument\n",
            "  warnings.warn(\"Found `{}` in params. Will use it instead of argument\".format(alias))\n",
            "/usr/local/lib/python3.6/dist-packages/lightgbm/engine.py:123: UserWarning: Found `early_stopping_round` in params. Will use it instead of argument\n",
            "  warnings.warn(\"Found `{}` in params. Will use it instead of argument\".format(alias))\n",
            "/usr/local/lib/python3.6/dist-packages/lightgbm/callback.py:189: UserWarning: Early stopping is not available in dart mode\n",
            "  warnings.warn('Early stopping is not available in dart mode')\n"
          ],
          "name": "stderr"
        },
        {
          "output_type": "stream",
          "text": [
            "RMSLE LGBM:  6701.115156943324\n"
          ],
          "name": "stdout"
        },
        {
          "output_type": "stream",
          "text": [
            "/usr/local/lib/python3.6/dist-packages/lightgbm/engine.py:118: UserWarning: Found `num_iterations` in params. Will use it instead of argument\n",
            "  warnings.warn(\"Found `{}` in params. Will use it instead of argument\".format(alias))\n",
            "/usr/local/lib/python3.6/dist-packages/lightgbm/engine.py:123: UserWarning: Found `early_stopping_round` in params. Will use it instead of argument\n",
            "  warnings.warn(\"Found `{}` in params. Will use it instead of argument\".format(alias))\n",
            "/usr/local/lib/python3.6/dist-packages/lightgbm/callback.py:189: UserWarning: Early stopping is not available in dart mode\n",
            "  warnings.warn('Early stopping is not available in dart mode')\n"
          ],
          "name": "stderr"
        },
        {
          "output_type": "stream",
          "text": [
            "RMSLE LGBM:  7527.487522480309\n"
          ],
          "name": "stdout"
        },
        {
          "output_type": "stream",
          "text": [
            "/usr/local/lib/python3.6/dist-packages/lightgbm/engine.py:118: UserWarning: Found `num_iterations` in params. Will use it instead of argument\n",
            "  warnings.warn(\"Found `{}` in params. Will use it instead of argument\".format(alias))\n",
            "/usr/local/lib/python3.6/dist-packages/lightgbm/engine.py:123: UserWarning: Found `early_stopping_round` in params. Will use it instead of argument\n",
            "  warnings.warn(\"Found `{}` in params. Will use it instead of argument\".format(alias))\n",
            "/usr/local/lib/python3.6/dist-packages/lightgbm/callback.py:189: UserWarning: Early stopping is not available in dart mode\n",
            "  warnings.warn('Early stopping is not available in dart mode')\n"
          ],
          "name": "stderr"
        },
        {
          "output_type": "stream",
          "text": [
            "RMSLE LGBM:  6463.057861198569\n"
          ],
          "name": "stdout"
        },
        {
          "output_type": "stream",
          "text": [
            "/usr/local/lib/python3.6/dist-packages/lightgbm/engine.py:118: UserWarning: Found `num_iterations` in params. Will use it instead of argument\n",
            "  warnings.warn(\"Found `{}` in params. Will use it instead of argument\".format(alias))\n",
            "/usr/local/lib/python3.6/dist-packages/lightgbm/engine.py:123: UserWarning: Found `early_stopping_round` in params. Will use it instead of argument\n",
            "  warnings.warn(\"Found `{}` in params. Will use it instead of argument\".format(alias))\n",
            "/usr/local/lib/python3.6/dist-packages/lightgbm/callback.py:189: UserWarning: Early stopping is not available in dart mode\n",
            "  warnings.warn('Early stopping is not available in dart mode')\n"
          ],
          "name": "stderr"
        },
        {
          "output_type": "stream",
          "text": [
            "RMSLE LGBM:  6728.211732324607\n"
          ],
          "name": "stdout"
        },
        {
          "output_type": "stream",
          "text": [
            "/usr/local/lib/python3.6/dist-packages/lightgbm/engine.py:118: UserWarning: Found `num_iterations` in params. Will use it instead of argument\n",
            "  warnings.warn(\"Found `{}` in params. Will use it instead of argument\".format(alias))\n",
            "/usr/local/lib/python3.6/dist-packages/lightgbm/engine.py:123: UserWarning: Found `early_stopping_round` in params. Will use it instead of argument\n",
            "  warnings.warn(\"Found `{}` in params. Will use it instead of argument\".format(alias))\n",
            "/usr/local/lib/python3.6/dist-packages/lightgbm/callback.py:189: UserWarning: Early stopping is not available in dart mode\n",
            "  warnings.warn('Early stopping is not available in dart mode')\n"
          ],
          "name": "stderr"
        },
        {
          "output_type": "stream",
          "text": [
            "RMSLE LGBM:  7792.989496701613\n"
          ],
          "name": "stdout"
        },
        {
          "output_type": "stream",
          "text": [
            "/usr/local/lib/python3.6/dist-packages/lightgbm/engine.py:118: UserWarning: Found `num_iterations` in params. Will use it instead of argument\n",
            "  warnings.warn(\"Found `{}` in params. Will use it instead of argument\".format(alias))\n",
            "/usr/local/lib/python3.6/dist-packages/lightgbm/engine.py:123: UserWarning: Found `early_stopping_round` in params. Will use it instead of argument\n",
            "  warnings.warn(\"Found `{}` in params. Will use it instead of argument\".format(alias))\n",
            "/usr/local/lib/python3.6/dist-packages/lightgbm/callback.py:189: UserWarning: Early stopping is not available in dart mode\n",
            "  warnings.warn('Early stopping is not available in dart mode')\n"
          ],
          "name": "stderr"
        },
        {
          "output_type": "stream",
          "text": [
            "RMSLE LGBM:  8103.365214865229\n"
          ],
          "name": "stdout"
        }
      ]
    },
    {
      "cell_type": "code",
      "metadata": {
        "id": "T31cmIlmON0U",
        "colab_type": "code",
        "colab": {
          "base_uri": "https://localhost:8080/",
          "height": 33
        },
        "outputId": "0912dc99-e0ff-40ed-b449-f2d3371276c0"
      },
      "source": [
        "np.mean(errlgb,0)"
      ],
      "execution_count": null,
      "outputs": [
        {
          "output_type": "execute_result",
          "data": {
            "text/plain": [
              "7309.97168293468"
            ]
          },
          "metadata": {
            "tags": []
          },
          "execution_count": 19
        }
      ]
    },
    {
      "cell_type": "code",
      "metadata": {
        "id": "wwX_N9sGONyN",
        "colab_type": "code",
        "colab": {
          "base_uri": "https://localhost:8080/",
          "height": 50
        },
        "outputId": "729fc90e-6f08-42be-e68b-1aa6420fee26"
      },
      "source": [
        "lgbm_final = np.mean(y_pred_totlgb,0)\n",
        "lgbm_final"
      ],
      "execution_count": null,
      "outputs": [
        {
          "output_type": "execute_result",
          "data": {
            "text/plain": [
              "array([14766.2170177 ,  9042.03069532,  5635.58070777, ...,\n",
              "        5852.69905945,  5551.51442356,  5760.24364865])"
            ]
          },
          "metadata": {
            "tags": []
          },
          "execution_count": 34
        }
      ]
    },
    {
      "cell_type": "code",
      "metadata": {
        "colab_type": "code",
        "id": "IBE_udlfOcrr",
        "colab": {
          "base_uri": "https://localhost:8080/",
          "height": 285
        },
        "outputId": "db3c0934-203e-456f-9a72-f4608e5ddfd1"
      },
      "source": [
        "submission = pd.DataFrame({\n",
        "        \"shares\":(lgbm_final)\n",
        "    })\n",
        "submission.to_csv('./log_t.csv', index=False)\n",
        "print(submission)"
      ],
      "execution_count": null,
      "outputs": [
        {
          "output_type": "stream",
          "text": [
            "         shares\n",
            "0      9.600165\n",
            "1      9.109750\n",
            "2      8.637033\n",
            "3      8.535877\n",
            "4      8.506043\n",
            "...         ...\n",
            "31711  8.952863\n",
            "31712  8.783014\n",
            "31713  8.674829\n",
            "31714  8.622006\n",
            "31715  8.658909\n",
            "\n",
            "[31716 rows x 1 columns]\n"
          ],
          "name": "stdout"
        },
        {
          "output_type": "stream",
          "text": [
            "/usr/local/lib/python3.6/dist-packages/ipykernel_launcher.py:2: RuntimeWarning: invalid value encountered in log1p\n",
            "  \n"
          ],
          "name": "stderr"
        }
      ]
    },
    {
      "cell_type": "code",
      "metadata": {
        "id": "4O8owMAfc_fZ",
        "colab_type": "code",
        "colab": {
          "base_uri": "https://localhost:8080/",
          "height": 16
        },
        "outputId": "4066c3fd-c0c4-4bd1-f06b-06ae9e4baddd"
      },
      "source": [
        "from google.colab import files\n",
        "files.download('log_t.csv')"
      ],
      "execution_count": null,
      "outputs": [
        {
          "output_type": "display_data",
          "data": {
            "application/javascript": [
              "\n",
              "    async function download(id, filename, size) {\n",
              "      if (!google.colab.kernel.accessAllowed) {\n",
              "        return;\n",
              "      }\n",
              "      const div = document.createElement('div');\n",
              "      const label = document.createElement('label');\n",
              "      label.textContent = `Downloading \"${filename}\": `;\n",
              "      div.appendChild(label);\n",
              "      const progress = document.createElement('progress');\n",
              "      progress.max = size;\n",
              "      div.appendChild(progress);\n",
              "      document.body.appendChild(div);\n",
              "\n",
              "      const buffers = [];\n",
              "      let downloaded = 0;\n",
              "\n",
              "      const channel = await google.colab.kernel.comms.open(id);\n",
              "      // Send a message to notify the kernel that we're ready.\n",
              "      channel.send({})\n",
              "\n",
              "      for await (const message of channel.messages) {\n",
              "        // Send a message to notify the kernel that we're ready.\n",
              "        channel.send({})\n",
              "        if (message.buffers) {\n",
              "          for (const buffer of message.buffers) {\n",
              "            buffers.push(buffer);\n",
              "            downloaded += buffer.byteLength;\n",
              "            progress.value = downloaded;\n",
              "          }\n",
              "        }\n",
              "      }\n",
              "      const blob = new Blob(buffers, {type: 'application/binary'});\n",
              "      const a = document.createElement('a');\n",
              "      a.href = window.URL.createObjectURL(blob);\n",
              "      a.download = filename;\n",
              "      div.appendChild(a);\n",
              "      a.click();\n",
              "      div.remove();\n",
              "    }\n",
              "  "
            ],
            "text/plain": [
              "<IPython.core.display.Javascript object>"
            ]
          },
          "metadata": {
            "tags": []
          }
        },
        {
          "output_type": "display_data",
          "data": {
            "application/javascript": [
              "download(\"download_45384fe2-3628-450a-9147-54b6c86f6cab\", \"log_t.csv\", 565310)"
            ],
            "text/plain": [
              "<IPython.core.display.Javascript object>"
            ]
          },
          "metadata": {
            "tags": []
          }
        }
      ]
    },
    {
      "cell_type": "code",
      "metadata": {
        "id": "5rL_1ClJvTPO",
        "colab_type": "code",
        "colab": {}
      },
      "source": [
        ""
      ],
      "execution_count": null,
      "outputs": []
    }
  ]
}