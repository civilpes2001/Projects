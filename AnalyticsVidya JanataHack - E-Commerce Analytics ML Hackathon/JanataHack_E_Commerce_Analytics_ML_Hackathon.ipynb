{
  "nbformat": 4,
  "nbformat_minor": 0,
  "metadata": {
    "colab": {
      "name": "JanataHack - E-Commerce Analytics ML Hackathon.ipynb",
      "provenance": [],
      "collapsed_sections": []
    },
    "kernelspec": {
      "name": "python3",
      "display_name": "Python 3"
    }
  },
  "cells": [
    {
      "cell_type": "code",
      "metadata": {
        "id": "SDpt4cHr3pTb",
        "colab_type": "code",
        "outputId": "56db1d48-9f71-42c3-f83f-72d49d4a8f3f",
        "colab": {
          "base_uri": "https://localhost:8080/",
          "height": 204
        }
      },
      "source": [
        "!wget https://datahack-prod.s3.amazonaws.com/test_file/test_Yix80N0.csv"
      ],
      "execution_count": 1,
      "outputs": [
        {
          "output_type": "stream",
          "text": [
            "--2020-04-13 07:59:27--  https://datahack-prod.s3.amazonaws.com/test_file/test_Yix80N0.csv\n",
            "Resolving datahack-prod.s3.amazonaws.com (datahack-prod.s3.amazonaws.com)... 52.219.64.36\n",
            "Connecting to datahack-prod.s3.amazonaws.com (datahack-prod.s3.amazonaws.com)|52.219.64.36|:443... connected.\n",
            "HTTP request sent, awaiting response... 200 OK\n",
            "Length: 465312 (454K) [text/csv]\n",
            "Saving to: ‘test_Yix80N0.csv’\n",
            "\n",
            "\rtest_Yix80N0.csv      0%[                    ]       0  --.-KB/s               \rtest_Yix80N0.csv     12%[=>                  ]  58.65K   281KB/s               \rtest_Yix80N0.csv     46%[========>           ] 211.65K   508KB/s               \rtest_Yix80N0.csv    100%[===================>] 454.41K   872KB/s    in 0.5s    \n",
            "\n",
            "2020-04-13 07:59:28 (872 KB/s) - ‘test_Yix80N0.csv’ saved [465312/465312]\n",
            "\n"
          ],
          "name": "stdout"
        }
      ]
    },
    {
      "cell_type": "code",
      "metadata": {
        "id": "ea3Q3ZqM3xhS",
        "colab_type": "code",
        "outputId": "df444b19-04c5-4ebc-aaaa-51df9fd14aa5",
        "colab": {
          "base_uri": "https://localhost:8080/",
          "height": 204
        }
      },
      "source": [
        "!wget https://datahack-prod.s3.amazonaws.com/train_file/train_8wry4cB.csv"
      ],
      "execution_count": 2,
      "outputs": [
        {
          "output_type": "stream",
          "text": [
            "--2020-04-13 07:59:34--  https://datahack-prod.s3.amazonaws.com/train_file/train_8wry4cB.csv\n",
            "Resolving datahack-prod.s3.amazonaws.com (datahack-prod.s3.amazonaws.com)... 52.219.66.64\n",
            "Connecting to datahack-prod.s3.amazonaws.com (datahack-prod.s3.amazonaws.com)|52.219.66.64|:443... connected.\n",
            "HTTP request sent, awaiting response... 200 OK\n",
            "Length: 1138290 (1.1M) [text/csv]\n",
            "Saving to: ‘train_8wry4cB.csv’\n",
            "\n",
            "\rtrain_8wry4cB.csv     0%[                    ]       0  --.-KB/s               \rtrain_8wry4cB.csv     5%[>                   ]  58.65K   266KB/s               \rtrain_8wry4cB.csv    17%[==>                 ] 194.65K   442KB/s               \rtrain_8wry4cB.csv    69%[============>       ] 772.65K  1.14MB/s               \rtrain_8wry4cB.csv   100%[===================>]   1.08M  1.64MB/s    in 0.7s    \n",
            "\n",
            "2020-04-13 07:59:35 (1.64 MB/s) - ‘train_8wry4cB.csv’ saved [1138290/1138290]\n",
            "\n"
          ],
          "name": "stdout"
        }
      ]
    },
    {
      "cell_type": "code",
      "metadata": {
        "id": "evJXhWKZ300u",
        "colab_type": "code",
        "colab": {}
      },
      "source": [
        "import pandas as pd\n",
        "import numpy as np\n",
        "import matplotlib.pyplot as plt\n",
        "%matplotlib inline\n"
      ],
      "execution_count": 0,
      "outputs": []
    },
    {
      "cell_type": "code",
      "metadata": {
        "id": "6GLJeJgj39Bh",
        "colab_type": "code",
        "colab": {}
      },
      "source": [
        "train = pd.read_csv('train_8wry4cB.csv')\n",
        "test = pd.read_csv('test_Yix80N0.csv')"
      ],
      "execution_count": 0,
      "outputs": []
    },
    {
      "cell_type": "code",
      "metadata": {
        "id": "ab63pnVz4FHb",
        "colab_type": "code",
        "outputId": "79b71cd0-c5bb-41fc-de60-fa10ef3556ab",
        "colab": {
          "base_uri": "https://localhost:8080/",
          "height": 197
        }
      },
      "source": [
        "train.head(5)"
      ],
      "execution_count": 5,
      "outputs": [
        {
          "output_type": "execute_result",
          "data": {
            "text/html": [
              "<div>\n",
              "<style scoped>\n",
              "    .dataframe tbody tr th:only-of-type {\n",
              "        vertical-align: middle;\n",
              "    }\n",
              "\n",
              "    .dataframe tbody tr th {\n",
              "        vertical-align: top;\n",
              "    }\n",
              "\n",
              "    .dataframe thead th {\n",
              "        text-align: right;\n",
              "    }\n",
              "</style>\n",
              "<table border=\"1\" class=\"dataframe\">\n",
              "  <thead>\n",
              "    <tr style=\"text-align: right;\">\n",
              "      <th></th>\n",
              "      <th>session_id</th>\n",
              "      <th>startTime</th>\n",
              "      <th>endTime</th>\n",
              "      <th>ProductList</th>\n",
              "      <th>gender</th>\n",
              "    </tr>\n",
              "  </thead>\n",
              "  <tbody>\n",
              "    <tr>\n",
              "      <th>0</th>\n",
              "      <td>u16159</td>\n",
              "      <td>15/12/14 18:11</td>\n",
              "      <td>15/12/14 18:12</td>\n",
              "      <td>A00002/B00003/C00006/D28435/;A00002/B00003/C00...</td>\n",
              "      <td>female</td>\n",
              "    </tr>\n",
              "    <tr>\n",
              "      <th>1</th>\n",
              "      <td>u10253</td>\n",
              "      <td>16/12/14 14:35</td>\n",
              "      <td>16/12/14 14:41</td>\n",
              "      <td>A00001/B00009/C00031/D29404/;A00001/B00009/C00...</td>\n",
              "      <td>male</td>\n",
              "    </tr>\n",
              "    <tr>\n",
              "      <th>2</th>\n",
              "      <td>u19037</td>\n",
              "      <td>01/12/14 15:58</td>\n",
              "      <td>01/12/14 15:58</td>\n",
              "      <td>A00002/B00001/C00020/D16944/</td>\n",
              "      <td>female</td>\n",
              "    </tr>\n",
              "    <tr>\n",
              "      <th>3</th>\n",
              "      <td>u14556</td>\n",
              "      <td>23/11/14 2:57</td>\n",
              "      <td>23/11/14 3:00</td>\n",
              "      <td>A00002/B00004/C00018/D10284/;A00002/B00004/C00...</td>\n",
              "      <td>female</td>\n",
              "    </tr>\n",
              "    <tr>\n",
              "      <th>4</th>\n",
              "      <td>u24295</td>\n",
              "      <td>17/12/14 16:44</td>\n",
              "      <td>17/12/14 16:46</td>\n",
              "      <td>A00001/B00001/C00012/D30805/;A00001/B00001/C00...</td>\n",
              "      <td>male</td>\n",
              "    </tr>\n",
              "  </tbody>\n",
              "</table>\n",
              "</div>"
            ],
            "text/plain": [
              "  session_id  ...  gender\n",
              "0     u16159  ...  female\n",
              "1     u10253  ...    male\n",
              "2     u19037  ...  female\n",
              "3     u14556  ...  female\n",
              "4     u24295  ...    male\n",
              "\n",
              "[5 rows x 5 columns]"
            ]
          },
          "metadata": {
            "tags": []
          },
          "execution_count": 5
        }
      ]
    },
    {
      "cell_type": "code",
      "metadata": {
        "id": "RiK0E5yS8sek",
        "colab_type": "code",
        "outputId": "4f187c73-171e-488e-8838-4b6d6eb424f5",
        "colab": {
          "base_uri": "https://localhost:8080/",
          "height": 197
        }
      },
      "source": [
        "test.head(5)"
      ],
      "execution_count": 6,
      "outputs": [
        {
          "output_type": "execute_result",
          "data": {
            "text/html": [
              "<div>\n",
              "<style scoped>\n",
              "    .dataframe tbody tr th:only-of-type {\n",
              "        vertical-align: middle;\n",
              "    }\n",
              "\n",
              "    .dataframe tbody tr th {\n",
              "        vertical-align: top;\n",
              "    }\n",
              "\n",
              "    .dataframe thead th {\n",
              "        text-align: right;\n",
              "    }\n",
              "</style>\n",
              "<table border=\"1\" class=\"dataframe\">\n",
              "  <thead>\n",
              "    <tr style=\"text-align: right;\">\n",
              "      <th></th>\n",
              "      <th>session_id</th>\n",
              "      <th>startTime</th>\n",
              "      <th>endTime</th>\n",
              "      <th>ProductList</th>\n",
              "    </tr>\n",
              "  </thead>\n",
              "  <tbody>\n",
              "    <tr>\n",
              "      <th>0</th>\n",
              "      <td>u12112</td>\n",
              "      <td>08/12/14 13:36</td>\n",
              "      <td>08/12/14 13:36</td>\n",
              "      <td>A00002/B00003/C00006/D19956/</td>\n",
              "    </tr>\n",
              "    <tr>\n",
              "      <th>1</th>\n",
              "      <td>u19725</td>\n",
              "      <td>19/12/14 13:52</td>\n",
              "      <td>19/12/14 13:52</td>\n",
              "      <td>A00002/B00005/C00067/D02026/</td>\n",
              "    </tr>\n",
              "    <tr>\n",
              "      <th>2</th>\n",
              "      <td>u11795</td>\n",
              "      <td>01/12/14 10:44</td>\n",
              "      <td>01/12/14 10:44</td>\n",
              "      <td>A00002/B00002/C00004/D12538/</td>\n",
              "    </tr>\n",
              "    <tr>\n",
              "      <th>3</th>\n",
              "      <td>u22639</td>\n",
              "      <td>08/12/14 20:19</td>\n",
              "      <td>08/12/14 20:22</td>\n",
              "      <td>A00002/B00003/C00079/D22781/;A00002/B00003/C00...</td>\n",
              "    </tr>\n",
              "    <tr>\n",
              "      <th>4</th>\n",
              "      <td>u18034</td>\n",
              "      <td>15/12/14 19:33</td>\n",
              "      <td>15/12/14 19:33</td>\n",
              "      <td>A00002/B00001/C00010/D23419/</td>\n",
              "    </tr>\n",
              "  </tbody>\n",
              "</table>\n",
              "</div>"
            ],
            "text/plain": [
              "  session_id  ...                                        ProductList\n",
              "0     u12112  ...                       A00002/B00003/C00006/D19956/\n",
              "1     u19725  ...                       A00002/B00005/C00067/D02026/\n",
              "2     u11795  ...                       A00002/B00002/C00004/D12538/\n",
              "3     u22639  ...  A00002/B00003/C00079/D22781/;A00002/B00003/C00...\n",
              "4     u18034  ...                       A00002/B00001/C00010/D23419/\n",
              "\n",
              "[5 rows x 4 columns]"
            ]
          },
          "metadata": {
            "tags": []
          },
          "execution_count": 6
        }
      ]
    },
    {
      "cell_type": "code",
      "metadata": {
        "id": "GrEOCY1wq2iI",
        "colab_type": "code",
        "outputId": "5311ef3e-3ce5-4a90-b55d-0f070e5946be",
        "colab": {
          "base_uri": "https://localhost:8080/",
          "height": 119
        }
      },
      "source": [
        "train.dtypes"
      ],
      "execution_count": 7,
      "outputs": [
        {
          "output_type": "execute_result",
          "data": {
            "text/plain": [
              "session_id     object\n",
              "startTime      object\n",
              "endTime        object\n",
              "ProductList    object\n",
              "gender         object\n",
              "dtype: object"
            ]
          },
          "metadata": {
            "tags": []
          },
          "execution_count": 7
        }
      ]
    },
    {
      "cell_type": "code",
      "metadata": {
        "id": "Gxa4_FIk4SJx",
        "colab_type": "code",
        "colab": {}
      },
      "source": [
        "train['startTime'] = pd.to_datetime(train['startTime'])\n",
        "train['day'] = train['startTime'].dt.day\n",
        "train['weekofyear'] = train['startTime'].dt.weekofyear\n",
        "train['month'] = train['startTime'].dt.month\n",
        "train['dayofweek'] = train['startTime'].dt.dayofweek\n",
        "train['weekend'] = (train['startTime'].dt.weekday >=5).astype(int)\n",
        "train['hour'] = train['startTime'].dt.hour\n",
        "train['minute'] = train['startTime'].dt.minute"
      ],
      "execution_count": 0,
      "outputs": []
    },
    {
      "cell_type": "code",
      "metadata": {
        "id": "uFO53Kqn4dbL",
        "colab_type": "code",
        "colab": {}
      },
      "source": [
        "test['startTime'] = pd.to_datetime(test['startTime'])\n",
        "test['day'] = test['startTime'].dt.day\n",
        "test['weekofyear'] = test['startTime'].dt.weekofyear\n",
        "test['month'] = test['startTime'].dt.month\n",
        "test['dayofweek'] = test['startTime'].dt.dayofweek\n",
        "test['weekend'] = (test['startTime'].dt.weekday >=5).astype(int)\n",
        "test['hour'] = test['startTime'].dt.hour\n",
        "test['minute'] = test['startTime'].dt.minute"
      ],
      "execution_count": 0,
      "outputs": []
    },
    {
      "cell_type": "code",
      "metadata": {
        "id": "xpR1KTel46cQ",
        "colab_type": "code",
        "colab": {}
      },
      "source": [
        "del train['startTime']\n",
        "del test['startTime']"
      ],
      "execution_count": 0,
      "outputs": []
    },
    {
      "cell_type": "code",
      "metadata": {
        "id": "wD_caS28836J",
        "colab_type": "code",
        "colab": {}
      },
      "source": [
        "train['endTime'] = pd.to_datetime(train['endTime'])\n",
        "train['eday'] = train['endTime'].dt.day\n",
        "train['eweekofyear'] = train['endTime'].dt.weekofyear\n",
        "train['emonth'] = train['endTime'].dt.month\n",
        "train['edayofweek'] = train['endTime'].dt.dayofweek\n",
        "train['eweekend'] = (train['endTime'].dt.weekday >=5).astype(int)\n",
        "train['ehour'] = train['endTime'].dt.hour\n",
        "train['eminute'] = train['endTime'].dt.minute"
      ],
      "execution_count": 0,
      "outputs": []
    },
    {
      "cell_type": "code",
      "metadata": {
        "id": "VboFdHLJ88Kk",
        "colab_type": "code",
        "colab": {}
      },
      "source": [
        "test['endTime'] = pd.to_datetime(test['endTime'])\n",
        "test['eday'] = test['endTime'].dt.day\n",
        "test['eweekofyear'] = test['endTime'].dt.weekofyear\n",
        "test['emonth'] = test['endTime'].dt.month\n",
        "test['edayofweek'] = test['endTime'].dt.dayofweek\n",
        "test['eweekend'] = (test['endTime'].dt.weekday >=5).astype(int)\n",
        "test['ehour'] = test['endTime'].dt.hour\n",
        "test['eminute'] = test['endTime'].dt.minute"
      ],
      "execution_count": 0,
      "outputs": []
    },
    {
      "cell_type": "code",
      "metadata": {
        "id": "5wvROQdP9Tbb",
        "colab_type": "code",
        "colab": {}
      },
      "source": [
        "del train['endTime']\n",
        "del test['endTime']"
      ],
      "execution_count": 0,
      "outputs": []
    },
    {
      "cell_type": "code",
      "metadata": {
        "id": "8fevH3-49Yxm",
        "colab_type": "code",
        "colab": {}
      },
      "source": [
        "import warnings\n",
        "warnings.simplefilter(action='ignore', category=FutureWarning)"
      ],
      "execution_count": 0,
      "outputs": []
    },
    {
      "cell_type": "code",
      "metadata": {
        "id": "6wnd5-kc9zmo",
        "colab_type": "code",
        "outputId": "c6efe7b3-30c2-40f8-a0db-fb77f9730c40",
        "colab": {
          "base_uri": "https://localhost:8080/",
          "height": 102
        }
      },
      "source": [
        "print('Percentage of each class in Target Variable \\n')\n",
        "print((train.gender.value_counts()/len(train))*100)"
      ],
      "execution_count": 15,
      "outputs": [
        {
          "output_type": "stream",
          "text": [
            "Percentage of each class in Target Variable \n",
            "\n",
            "female    78.019048\n",
            "male      21.980952\n",
            "Name: gender, dtype: float64\n"
          ],
          "name": "stdout"
        }
      ]
    },
    {
      "cell_type": "code",
      "metadata": {
        "id": "uggFypRvDa1x",
        "colab_type": "code",
        "colab": {}
      },
      "source": [
        "d=[]\n",
        "tl=[]\n",
        "import re\n",
        "for i in train['ProductList']:\n",
        "  j=re.sub(r'[^\\w]', '', i)\n",
        "  tl.append(j)\n",
        "  m=len(j)\n",
        "  d.append(m)\n",
        "train['leng']=d"
      ],
      "execution_count": 0,
      "outputs": []
    },
    {
      "cell_type": "code",
      "metadata": {
        "id": "AMgaI39WctuB",
        "colab_type": "code",
        "colab": {}
      },
      "source": [
        "d=[]\n",
        "tll=[]\n",
        "import re\n",
        "for i in test['ProductList']:\n",
        "  j=re.sub(r'[^\\w]', '', i)\n",
        "  tll.append(j)\n",
        "  m=len(j)\n",
        "  d.append(m)\n",
        "test['leng']=d"
      ],
      "execution_count": 0,
      "outputs": []
    },
    {
      "cell_type": "code",
      "metadata": {
        "id": "DC_W0Anktfji",
        "colab_type": "code",
        "colab": {}
      },
      "source": [
        "train['str']=tl\n",
        "test['str']=tll"
      ],
      "execution_count": 0,
      "outputs": []
    },
    {
      "cell_type": "code",
      "metadata": {
        "id": "YP1ub2mlvxTQ",
        "colab_type": "code",
        "colab": {}
      },
      "source": [
        "train['session_id']=train.session_id.str.extract('(\\d+)')\n",
        "test['session_id']=test.session_id.str.extract('(\\d+)')"
      ],
      "execution_count": 0,
      "outputs": []
    },
    {
      "cell_type": "code",
      "metadata": {
        "id": "QpMzR7zZinEo",
        "colab_type": "code",
        "colab": {}
      },
      "source": [
        "loc = np.append(train['str'].values, test['str'].values, axis=0)\n",
        "from sklearn.preprocessing import LabelEncoder\n",
        "l=LabelEncoder()\n",
        "l.fit(list(set(loc)))\n",
        "train['str']=l.transform(train['str'])\n",
        "test['str']=l.transform(test['str'])"
      ],
      "execution_count": 0,
      "outputs": []
    },
    {
      "cell_type": "code",
      "metadata": {
        "id": "RJLTJtkWvhZI",
        "colab_type": "code",
        "colab": {}
      },
      "source": [
        "del train['ProductList']\n",
        "del test['ProductList']"
      ],
      "execution_count": 0,
      "outputs": []
    },
    {
      "cell_type": "code",
      "metadata": {
        "id": "ihRBo6ySaKYX",
        "colab_type": "code",
        "colab": {}
      },
      "source": [
        "train_df=train"
      ],
      "execution_count": 0,
      "outputs": []
    },
    {
      "cell_type": "code",
      "metadata": {
        "id": "pkQ9etI8u7c7",
        "colab_type": "code",
        "outputId": "83c71d29-2e1c-4a87-db64-16683fe5a393",
        "colab": {
          "base_uri": "https://localhost:8080/",
          "height": 34
        }
      },
      "source": [
        "from sklearn.preprocessing import LabelEncoder\n",
        "le = LabelEncoder()\n",
        "train_df['gender'] = le.fit_transform(train_df['gender'])\n",
        "le.classes_"
      ],
      "execution_count": 23,
      "outputs": [
        {
          "output_type": "execute_result",
          "data": {
            "text/plain": [
              "array(['female', 'male'], dtype=object)"
            ]
          },
          "metadata": {
            "tags": []
          },
          "execution_count": 23
        }
      ]
    },
    {
      "cell_type": "code",
      "metadata": {
        "id": "WSUofCnEu_Bo",
        "colab_type": "code",
        "colab": {}
      },
      "source": [
        "X = train_df.drop(labels=['gender'], axis=1)\n",
        "y = train_df['gender'].values\n",
        "\n",
        "from sklearn.model_selection import train_test_split\n",
        "X_train, X_cv, y_train, y_cv = train_test_split(X, y, test_size=0.25, random_state=1)"
      ],
      "execution_count": 0,
      "outputs": []
    },
    {
      "cell_type": "code",
      "metadata": {
        "id": "x3aQ5-_4vCdd",
        "colab_type": "code",
        "outputId": "dcc073a1-9a7f-450d-944b-0bfedaad87ef",
        "colab": {
          "base_uri": "https://localhost:8080/",
          "height": 34
        }
      },
      "source": [
        "categorical_features_indices = np.where(X_train.dtypes == 'category')[0]\n",
        "categorical_features_indices"
      ],
      "execution_count": 26,
      "outputs": [
        {
          "output_type": "execute_result",
          "data": {
            "text/plain": [
              "array([], dtype=int64)"
            ]
          },
          "metadata": {
            "tags": []
          },
          "execution_count": 26
        }
      ]
    },
    {
      "cell_type": "code",
      "metadata": {
        "id": "vaDF4WQivKVW",
        "colab_type": "code",
        "colab": {}
      },
      "source": [
        "from math import sqrt \n",
        "from sklearn.metrics import accuracy_score"
      ],
      "execution_count": 0,
      "outputs": []
    },
    {
      "cell_type": "code",
      "metadata": {
        "id": "oPJz8-UdvM6Z",
        "colab_type": "code",
        "outputId": "8a7d3388-1614-4796-d8a4-281e9a149785",
        "colab": {
          "base_uri": "https://localhost:8080/",
          "height": 324
        }
      },
      "source": [
        "!pip install catboost"
      ],
      "execution_count": 28,
      "outputs": [
        {
          "output_type": "stream",
          "text": [
            "Collecting catboost\n",
            "\u001b[?25l  Downloading https://files.pythonhosted.org/packages/94/ec/12b9a42b2ea7dfe5b602f235692ab2b61ee1334ff34334a15902272869e8/catboost-0.22-cp36-none-manylinux1_x86_64.whl (64.4MB)\n",
            "\u001b[K     |████████████████████████████████| 64.4MB 65kB/s \n",
            "\u001b[?25hRequirement already satisfied: plotly in /usr/local/lib/python3.6/dist-packages (from catboost) (4.4.1)\n",
            "Requirement already satisfied: numpy>=1.16.0 in /usr/local/lib/python3.6/dist-packages (from catboost) (1.18.2)\n",
            "Requirement already satisfied: matplotlib in /usr/local/lib/python3.6/dist-packages (from catboost) (3.2.1)\n",
            "Requirement already satisfied: scipy in /usr/local/lib/python3.6/dist-packages (from catboost) (1.4.1)\n",
            "Requirement already satisfied: six in /usr/local/lib/python3.6/dist-packages (from catboost) (1.12.0)\n",
            "Requirement already satisfied: pandas>=0.24.0 in /usr/local/lib/python3.6/dist-packages (from catboost) (1.0.3)\n",
            "Requirement already satisfied: graphviz in /usr/local/lib/python3.6/dist-packages (from catboost) (0.10.1)\n",
            "Requirement already satisfied: retrying>=1.3.3 in /usr/local/lib/python3.6/dist-packages (from plotly->catboost) (1.3.3)\n",
            "Requirement already satisfied: pyparsing!=2.0.4,!=2.1.2,!=2.1.6,>=2.0.1 in /usr/local/lib/python3.6/dist-packages (from matplotlib->catboost) (2.4.7)\n",
            "Requirement already satisfied: python-dateutil>=2.1 in /usr/local/lib/python3.6/dist-packages (from matplotlib->catboost) (2.8.1)\n",
            "Requirement already satisfied: kiwisolver>=1.0.1 in /usr/local/lib/python3.6/dist-packages (from matplotlib->catboost) (1.2.0)\n",
            "Requirement already satisfied: cycler>=0.10 in /usr/local/lib/python3.6/dist-packages (from matplotlib->catboost) (0.10.0)\n",
            "Requirement already satisfied: pytz>=2017.2 in /usr/local/lib/python3.6/dist-packages (from pandas>=0.24.0->catboost) (2018.9)\n",
            "Installing collected packages: catboost\n",
            "Successfully installed catboost-0.22\n"
          ],
          "name": "stdout"
        }
      ]
    },
    {
      "cell_type": "code",
      "metadata": {
        "id": "ag8v001XvPKY",
        "colab_type": "code",
        "outputId": "ced8a44f-6b8b-44f6-c452-0488ee581772",
        "colab": {
          "base_uri": "https://localhost:8080/",
          "height": 307
        }
      },
      "source": [
        "from catboost import CatBoostClassifier\n",
        "cat = CatBoostClassifier(loss_function='MultiClass', \n",
        "                         eval_metric='Accuracy', \n",
        "                         depth=10,\n",
        "                         random_seed=42, \n",
        "                         iterations=1000, \n",
        "                         learning_rate=0.01,\n",
        "                         leaf_estimation_iterations=1,\n",
        "                         l2_leaf_reg=1,\n",
        "                         bootstrap_type='Bayesian', \n",
        "                         bagging_temperature=1, \n",
        "                         random_strength=1,\n",
        "                         od_type='Iter', \n",
        "                         od_wait=500)\n",
        "cat.fit(X_train, y_train, verbose=100,\n",
        "        use_best_model=True,\n",
        "        eval_set=[(X_train, y_train),(X_cv, y_cv)],\n",
        "        plot=False)"
      ],
      "execution_count": 29,
      "outputs": [
        {
          "output_type": "stream",
          "text": [
            "0:\tlearn: 0.8637460\ttest: 0.8637460\ttest1: 0.8697143\tbest: 0.8697143 (0)\ttotal: 90.7ms\tremaining: 1m 30s\n",
            "100:\tlearn: 0.8643810\ttest: 0.8643810\ttest1: 0.8689524\tbest: 0.8697143 (0)\ttotal: 2.91s\tremaining: 25.9s\n",
            "200:\tlearn: 0.8662857\ttest: 0.8662857\ttest1: 0.8685714\tbest: 0.8697143 (0)\ttotal: 5.85s\tremaining: 23.3s\n",
            "300:\tlearn: 0.8706032\ttest: 0.8706032\ttest1: 0.8693333\tbest: 0.8697143 (0)\ttotal: 8.91s\tremaining: 20.7s\n",
            "400:\tlearn: 0.8773333\ttest: 0.8773333\ttest1: 0.8700952\tbest: 0.8700952 (327)\ttotal: 11.9s\tremaining: 17.8s\n",
            "500:\tlearn: 0.8846984\ttest: 0.8846984\ttest1: 0.8712381\tbest: 0.8712381 (460)\ttotal: 15s\tremaining: 14.9s\n",
            "600:\tlearn: 0.8896508\ttest: 0.8896508\ttest1: 0.8712381\tbest: 0.8720000 (576)\ttotal: 18s\tremaining: 12s\n",
            "700:\tlearn: 0.8933333\ttest: 0.8933333\ttest1: 0.8723810\tbest: 0.8723810 (698)\ttotal: 21.1s\tremaining: 8.98s\n",
            "800:\tlearn: 0.8979048\ttest: 0.8979048\ttest1: 0.8727619\tbest: 0.8735238 (747)\ttotal: 24.1s\tremaining: 5.99s\n",
            "900:\tlearn: 0.9013333\ttest: 0.9013333\ttest1: 0.8735238\tbest: 0.8739048 (821)\ttotal: 27.2s\tremaining: 2.99s\n",
            "999:\tlearn: 0.9050159\ttest: 0.9050159\ttest1: 0.8739048\tbest: 0.8739048 (821)\ttotal: 30.2s\tremaining: 0us\n",
            "\n",
            "bestTest = 0.8739047619\n",
            "bestIteration = 821\n",
            "\n",
            "Shrink model to first 822 iterations.\n"
          ],
          "name": "stdout"
        },
        {
          "output_type": "execute_result",
          "data": {
            "text/plain": [
              "<catboost.core.CatBoostClassifier at 0x7f32dc6d8278>"
            ]
          },
          "metadata": {
            "tags": []
          },
          "execution_count": 29
        }
      ]
    },
    {
      "cell_type": "code",
      "metadata": {
        "id": "juU53OfLvTK8",
        "colab_type": "code",
        "outputId": "770885dc-e709-469c-d65d-4053e5a222ee",
        "colab": {
          "base_uri": "https://localhost:8080/",
          "height": 34
        }
      },
      "source": [
        "predictions = cat.predict(X_cv)\n",
        "print('accuracy:', accuracy_score(y_cv, predictions))"
      ],
      "execution_count": 34,
      "outputs": [
        {
          "output_type": "stream",
          "text": [
            "accuracy: 0.952\n"
          ],
          "name": "stdout"
        }
      ]
    },
    {
      "cell_type": "code",
      "metadata": {
        "id": "WA1PrCUvwTFP",
        "colab_type": "code",
        "outputId": "830d905c-e025-41af-fd4a-911cbcf3b9a1",
        "colab": {
          "base_uri": "https://localhost:8080/",
          "height": 1000
        }
      },
      "source": [
        "import seaborn as sns\n",
        "feature_imp = pd.DataFrame(sorted(zip(cat.feature_importances_, X.columns), reverse=True)[:50], \n",
        "                           columns=['Value','Feature'])\n",
        "plt.figure(figsize=(15,15))\n",
        "sns.barplot(x=\"Value\", y=\"Feature\", data=feature_imp.sort_values(by=\"Value\", ascending=False))\n",
        "plt.title('Catboost Features')\n",
        "plt.tight_layout()\n",
        "plt.show()"
      ],
      "execution_count": 35,
      "outputs": [
        {
          "output_type": "display_data",
          "data": {
            "image/png": "[encoded data removed]",
            "text/plain": [
              "<Figure size 1080x1080 with 1 Axes>"
            ]
          },
          "metadata": {
            "tags": [],
            "needs_background": "light"
          }
        }
      ]
    },
    {
      "cell_type": "code",
      "metadata": {
        "id": "mhIiI56vwWW5",
        "colab_type": "code",
        "colab": {}
      },
      "source": [
        "Xtest = test"
      ],
      "execution_count": 0,
      "outputs": []
    },
    {
      "cell_type": "code",
      "metadata": {
        "id": "9RDOdB-Rwayk",
        "colab_type": "code",
        "outputId": "649c7615-341b-4d43-c2e4-cdcd2a479b38",
        "colab": {
          "base_uri": "https://localhost:8080/",
          "height": 187
        }
      },
      "source": [
        "from sklearn.model_selection import KFold\n",
        "\n",
        "errcat = []\n",
        "y_pred_totcat = []\n",
        "\n",
        "fold = KFold(n_splits=10, shuffle=True, random_state=42)\n",
        "\n",
        "for train_index, test_index in fold.split(X):\n",
        "    X_train, X_test = X.loc[train_index], X.loc[test_index]\n",
        "    y_train, y_test = y[train_index], y[test_index]\n",
        "    \n",
        "    cat = CatBoostClassifier(loss_function='MultiClass', \n",
        "                         eval_metric='Accuracy', \n",
        "                         depth=10,\n",
        "                         random_seed=42, \n",
        "                         iterations=1000, \n",
        "                         learning_rate=0.1,\n",
        "                         leaf_estimation_iterations=1,\n",
        "                         l2_leaf_reg=1, \n",
        "                         bootstrap_type='Bayesian', \n",
        "                         bagging_temperature=1, \n",
        "                         random_strength=1,\n",
        "                         od_type='Iter', \n",
        "                         od_wait=200)\n",
        "    cat.fit(X_train, y_train, eval_set=[(X_test, y_test)], verbose=0, early_stopping_rounds=200, cat_features=categorical_features_indices)\n",
        "\n",
        "    y_pred_cat = cat.predict(X_test)\n",
        "    print(\"Accuracy: \", accuracy_score(y_test,y_pred_cat))\n",
        "\n",
        "    errcat.append(accuracy_score(y_test,y_pred_cat))\n",
        "    p = cat.predict(Xtest)\n",
        "    y_pred_totcat.append(p)"
      ],
      "execution_count": 33,
      "outputs": [
        {
          "output_type": "stream",
          "text": [
            "Accuracy:  0.8704761904761905\n",
            "Accuracy:  0.8952380952380953\n",
            "Accuracy:  0.8980952380952381\n",
            "Accuracy:  0.8733333333333333\n",
            "Accuracy:  0.8819047619047619\n",
            "Accuracy:  0.8771428571428571\n",
            "Accuracy:  0.8733333333333333\n",
            "Accuracy:  0.8742857142857143\n",
            "Accuracy:  0.8914285714285715\n",
            "Accuracy:  0.8838095238095238\n"
          ],
          "name": "stdout"
        }
      ]
    },
    {
      "cell_type": "code",
      "metadata": {
        "id": "uBtRYQlHwdtk",
        "colab_type": "code",
        "outputId": "4eb3b169-db7e-4baf-c3ae-45502b2c20f9",
        "colab": {
          "base_uri": "https://localhost:8080/",
          "height": 34
        }
      },
      "source": [
        "np.mean(errcat,0)"
      ],
      "execution_count": 36,
      "outputs": [
        {
          "output_type": "execute_result",
          "data": {
            "text/plain": [
              "0.881904761904762"
            ]
          },
          "metadata": {
            "tags": []
          },
          "execution_count": 36
        }
      ]
    },
    {
      "cell_type": "code",
      "metadata": {
        "id": "CAqc_S6swkeh",
        "colab_type": "code",
        "outputId": "ed191efb-aa93-44a9-c397-b86f199b5f58",
        "colab": {
          "base_uri": "https://localhost:8080/",
          "height": 136
        }
      },
      "source": [
        "cat_final = np.mean(y_pred_totcat,0).round().astype(int)\n",
        "cat_final"
      ],
      "execution_count": 37,
      "outputs": [
        {
          "output_type": "execute_result",
          "data": {
            "text/plain": [
              "array([[0],\n",
              "       [0],\n",
              "       [0],\n",
              "       ...,\n",
              "       [0],\n",
              "       [1],\n",
              "       [0]])"
            ]
          },
          "metadata": {
            "tags": []
          },
          "execution_count": 37
        }
      ]
    },
    {
      "cell_type": "code",
      "metadata": {
        "id": "rjGFHPkCkMTG",
        "colab_type": "code",
        "colab": {}
      },
      "source": [
        "y_pred_class = le.inverse_transform(cat_final)\n",
        "df_sub = pd.DataFrame(data=cat_final, columns=['gender'])\n",
        "df_sub.head()"
      ],
      "execution_count": 0,
      "outputs": []
    },
    {
      "cell_type": "code",
      "metadata": {
        "id": "PqBtOo1TkP4R",
        "colab_type": "code",
        "colab": {}
      },
      "source": [
        "df_sub['gender'].value_counts()"
      ],
      "execution_count": 0,
      "outputs": []
    },
    {
      "cell_type": "code",
      "metadata": {
        "id": "N3DWj8_twucA",
        "colab_type": "code",
        "colab": {}
      },
      "source": [
        "df_sub.to_csv('ensemble.csv', index=False)"
      ],
      "execution_count": 0,
      "outputs": []
    },
    {
      "cell_type": "code",
      "metadata": {
        "id": "Ysdf23kow7ho",
        "colab_type": "code",
        "colab": {}
      },
      "source": [
        "from google.colab import files\n",
        "files.download('ensemble.csv')"
      ],
      "execution_count": 0,
      "outputs": []
    },
    {
      "cell_type": "markdown",
      "metadata": {
        "id": "dfI0ZSGQSF8x",
        "colab_type": "text"
      },
      "source": [
        "# 2nd Method"
      ]
    },
    {
      "cell_type": "code",
      "metadata": {
        "id": "dVLcxD6txBdu",
        "colab_type": "code",
        "outputId": "ad75a573-4606-4d28-b098-2d382b21b3a6",
        "colab": {
          "base_uri": "https://localhost:8080/",
          "height": 550
        }
      },
      "source": [
        "from sklearn.ensemble import GradientBoostingRegressor\n",
        "gb = GradientBoostingRegressor(verbose=1, learning_rate=0.2, n_estimators=1500, random_state=101, subsample=0.8)\n",
        "gb.fit(X_train, y_train)\n",
        "y_pred = gb.predict(X_cv)\n",
        "print('RMSE', sqrt(mean_squared_error(y_cv, y_pred)))"
      ],
      "execution_count": 0,
      "outputs": [
        {
          "output_type": "stream",
          "text": [
            "      Iter       Train Loss      OOB Improve   Remaining Time \n",
            "         1           0.1486           0.0232           19.59s\n",
            "         2           0.1350           0.0147           19.29s\n",
            "         3           0.1233           0.0092           19.12s\n",
            "         4           0.1185           0.0057           19.11s\n",
            "         5           0.1106           0.0047           19.03s\n",
            "         6           0.1104           0.0024           19.01s\n",
            "         7           0.1087           0.0026           18.99s\n",
            "         8           0.1052           0.0014           18.94s\n",
            "         9           0.1035           0.0008           18.90s\n",
            "        10           0.1020           0.0009           18.86s\n",
            "        20           0.0967           0.0006           18.53s\n",
            "        30           0.0910          -0.0001           18.39s\n",
            "        40           0.0862          -0.0002           18.22s\n",
            "        50           0.0863          -0.0000           18.03s\n",
            "        60           0.0830           0.0003           17.96s\n",
            "        70           0.0831          -0.0001           17.75s\n",
            "        80           0.0765           0.0001           17.61s\n",
            "        90           0.0746          -0.0002           17.47s\n",
            "       100           0.0739          -0.0003           17.32s\n",
            "       200           0.0568          -0.0001           15.96s\n",
            "       300           0.0461           0.0000           14.65s\n",
            "       400           0.0381          -0.0000           13.43s\n",
            "       500           0.0309          -0.0000           12.23s\n",
            "       600           0.0263          -0.0000           10.98s\n",
            "       700           0.0217          -0.0000            9.74s\n",
            "       800           0.0189          -0.0000            8.53s\n",
            "       900           0.0168          -0.0000            7.31s\n",
            "      1000           0.0147          -0.0000            6.09s\n",
            "RMSE 0.26437564180622486\n"
          ],
          "name": "stdout"
        }
      ]
    },
    {
      "cell_type": "code",
      "metadata": {
        "id": "cKuVZqAB2ySk",
        "colab_type": "code",
        "outputId": "4b172d7e-e066-4b58-c87f-015413013214",
        "colab": {
          "base_uri": "https://localhost:8080/",
          "height": 729
        }
      },
      "source": [
        "import seaborn as sns\n",
        "feature_imp = pd.DataFrame(sorted(zip(gb.feature_importances_, X.columns), reverse=True)[:60], columns=['Value','Feature'])\n",
        "plt.figure(figsize=(12,10))\n",
        "sns.barplot(x=\"Value\", y=\"Feature\", data=feature_imp.sort_values(by=\"Value\", ascending=False))\n",
        "plt.title('Gradient Boosting Features')\n",
        "plt.tight_layout()\n",
        "plt.show()"
      ],
      "execution_count": 0,
      "outputs": [
        {
          "output_type": "display_data",
          "data": {
            "image/png": "[encoded data removed]",
            "text/plain": [
              "<Figure size 864x720 with 1 Axes>"
            ]
          },
          "metadata": {
            "tags": [],
            "needs_background": "light"
          }
        }
      ]
    },
    {
      "cell_type": "code",
      "metadata": {
        "id": "Wwk7zrai3Ojf",
        "colab_type": "code",
        "colab": {}
      },
      "source": [
        "from math import sqrt \n",
        "from sklearn.metrics import accuracy_score, mean_squared_error"
      ],
      "execution_count": 0,
      "outputs": []
    },
    {
      "cell_type": "code",
      "metadata": {
        "id": "2HQYm1ga27k4",
        "colab_type": "code",
        "outputId": "9b633f27-2c16-4f24-cc15-3bcfc199341d",
        "colab": {
          "base_uri": "https://localhost:8080/",
          "height": 550
        }
      },
      "source": [
        "from sklearn.model_selection import KFold\n",
        "\n",
        "errgb = []\n",
        "y_pred_totgb = []\n",
        "\n",
        "fold = KFold(n_splits=20, shuffle=True, random_state=101)\n",
        "\n",
        "for train_index, test_index in fold.split(X):\n",
        "    X_train, X_test = X.loc[train_index], X.loc[test_index]\n",
        "    y_train, y_test = y[train_index], y[test_index]\n",
        "             \n",
        "    gb = GradientBoostingRegressor(learning_rate=0.2, n_estimators=1500, random_state=101, subsample=0.8)\n",
        "    gb.fit(X_train, y_train)\n",
        "    y_pred = gb.predict(X_test)\n",
        "\n",
        "    print('RMSE', sqrt(mean_squared_error(y_test, y_pred)))\n",
        "\n",
        "    errgb.append(sqrt(mean_squared_error(y_test, y_pred)))\n",
        "    p = gb.predict(Xtest)\n",
        "    y_pred_totgb.append(p)"
      ],
      "execution_count": 0,
      "outputs": [
        {
          "output_type": "stream",
          "text": [
            "RMSE 0.2645124011770263\n",
            "RMSE 0.22769795367459986\n",
            "RMSE 0.22497621164405193\n",
            "RMSE 0.24154790974096674\n",
            "RMSE 0.24970571175265022\n",
            "RMSE 0.2740910094620984\n",
            "RMSE 0.2587074618394266\n",
            "RMSE 0.21891343361983234\n",
            "RMSE 0.2392382349321957\n",
            "RMSE 0.24180920315491833\n",
            "RMSE 0.22973594833386657\n",
            "RMSE 0.27083809532322356\n",
            "RMSE 0.2538044431618907\n",
            "RMSE 0.24722915467523274\n",
            "RMSE 0.2849966332122961\n",
            "RMSE 0.2376299506020168\n",
            "RMSE 0.23843071069261354\n",
            "RMSE 0.2565896954517072\n",
            "RMSE 0.2409644337911065\n",
            "RMSE 0.24653312251681234\n",
            "RMSE 0.23804019613738614\n",
            "RMSE 0.26253222054074593\n",
            "RMSE 0.2641259401482897\n",
            "RMSE 0.25953780739304977\n",
            "RMSE 0.26392953069686903\n",
            "RMSE 0.22234664255453254\n",
            "RMSE 0.2587748995397963\n",
            "RMSE 0.2742776752402304\n",
            "RMSE 0.2381253850313328\n",
            "RMSE 0.22468189427516722\n"
          ],
          "name": "stdout"
        }
      ]
    },
    {
      "cell_type": "code",
      "metadata": {
        "id": "xn148pPS3PRu",
        "colab_type": "code",
        "outputId": "6e52c3a5-ff15-43ea-9c2e-a515d7f56a75",
        "colab": {
          "base_uri": "https://localhost:8080/",
          "height": 35
        }
      },
      "source": [
        "np.mean(errgb)"
      ],
      "execution_count": 0,
      "outputs": [
        {
          "output_type": "execute_result",
          "data": {
            "text/plain": [
              "0.21891343361983234"
            ]
          },
          "metadata": {
            "tags": []
          },
          "execution_count": 378
        }
      ]
    },
    {
      "cell_type": "code",
      "metadata": {
        "id": "6CzCqTC44mNH",
        "colab_type": "code",
        "outputId": "7f54eeba-4143-46bc-fee3-2f7c9e6202c1",
        "colab": {
          "base_uri": "https://localhost:8080/",
          "height": 35
        }
      },
      "source": [
        "cat_final = np.mean(y_pred_totgb,0).round().astype(int)\n",
        "cat_final"
      ],
      "execution_count": 0,
      "outputs": [
        {
          "output_type": "execute_result",
          "data": {
            "text/plain": [
              "array([0, 0, 0, ..., 1, 1, 0])"
            ]
          },
          "metadata": {
            "tags": []
          },
          "execution_count": 379
        }
      ]
    },
    {
      "cell_type": "code",
      "metadata": {
        "id": "hKFXeEd6iwXs",
        "colab_type": "code",
        "colab": {}
      },
      "source": [
        "y_pred_class = le.inverse_transform(cat_final)\n",
        "df_sub = pd.DataFrame(data=cat_final, columns=['gender'])\n",
        "df_sub.head()"
      ],
      "execution_count": 0,
      "outputs": []
    },
    {
      "cell_type": "code",
      "metadata": {
        "id": "rgFuHxtLizVr",
        "colab_type": "code",
        "colab": {}
      },
      "source": [
        "df_sub['gender'].value_counts()"
      ],
      "execution_count": 0,
      "outputs": []
    },
    {
      "cell_type": "code",
      "metadata": {
        "colab_type": "code",
        "id": "GktciSb7TCxz",
        "colab": {}
      },
      "source": [
        "df_sub.to_csv('ensemble.csv', index=False)"
      ],
      "execution_count": 0,
      "outputs": []
    },
    {
      "cell_type": "code",
      "metadata": {
        "colab_type": "code",
        "id": "ThlrSdv0TCx-",
        "colab": {}
      },
      "source": [
        "from google.colab import files\n",
        "files.download('ensemble.csv')"
      ],
      "execution_count": 0,
      "outputs": []
    },
    {
      "cell_type": "code",
      "metadata": {
        "id": "Gv8jguIMYptB",
        "colab_type": "code",
        "colab": {}
      },
      "source": [
        ""
      ],
      "execution_count": 0,
      "outputs": []
    }
  ]
}