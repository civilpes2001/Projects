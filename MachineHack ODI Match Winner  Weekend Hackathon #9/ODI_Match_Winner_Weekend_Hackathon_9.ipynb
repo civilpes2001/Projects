{
  "nbformat": 4,
  "nbformat_minor": 0,
  "metadata": {
    "colab": {
      "name": "ODI Match Winner : Weekend Hackathon #9.ipynb",
      "provenance": [],
      "collapsed_sections": []
    },
    "kernelspec": {
      "name": "python3",
      "display_name": "Python 3"
    }
  },
  "cells": [
    {
      "cell_type": "code",
      "metadata": {
        "id": "cagkpUNJJn5l",
        "colab_type": "code",
        "colab": {
          "base_uri": "https://localhost:8080/",
          "height": 204
        },
        "outputId": "53485ada-ed34-4b05-da9f-6d35a1fe7e2c"
      },
      "source": [
        "!wget https://www.machinehack.com/wp-content/uploads/2020/06/ODI_Participants_Data.zip"
      ],
      "execution_count": null,
      "outputs": [
        {
          "output_type": "stream",
          "text": [
            "--2020-06-21 10:27:33--  https://www.machinehack.com/wp-content/uploads/2020/06/ODI_Participants_Data.zip\n",
            "Resolving www.machinehack.com (www.machinehack.com)... 107.180.71.20\n",
            "Connecting to www.machinehack.com (www.machinehack.com)|107.180.71.20|:443... connected.\n",
            "HTTP request sent, awaiting response... 200 OK\n",
            "Length: 75917 (74K) [application/zip]\n",
            "Saving to: ‘ODI_Participants_Data.zip.1’\n",
            "\n",
            "\r          ODI_Parti   0%[                    ]       0  --.-KB/s               \r         ODI_Partic  75%[==============>     ]  56.00K   247KB/s               \rODI_Participants_Da 100%[===================>]  74.14K   327KB/s    in 0.2s    \n",
            "\n",
            "2020-06-21 10:27:34 (327 KB/s) - ‘ODI_Participants_Data.zip.1’ saved [75917/75917]\n",
            "\n"
          ],
          "name": "stdout"
        }
      ]
    },
    {
      "cell_type": "code",
      "metadata": {
        "id": "xr1iuV1xJ_Am",
        "colab_type": "code",
        "colab": {
          "base_uri": "https://localhost:8080/",
          "height": 153
        },
        "outputId": "a5337604-dd40-4ced-bbb0-a0b33a20bf6d"
      },
      "source": [
        "!unzip ODI_Participants_Data.zip"
      ],
      "execution_count": null,
      "outputs": [
        {
          "output_type": "stream",
          "text": [
            "Archive:  ODI_Participants_Data.zip\n",
            "replace ODI_Participants_Data/Test.csv? [y]es, [n]o, [A]ll, [N]one, [r]ename: A\n",
            "  inflating: ODI_Participants_Data/Test.csv  \n",
            "  inflating: __MACOSX/ODI_Participants_Data/._Test.csv  \n",
            "  inflating: ODI_Participants_Data/Sample_submission.xlsx  \n",
            "  inflating: __MACOSX/ODI_Participants_Data/._Sample_submission.xlsx  \n",
            "  inflating: ODI_Participants_Data/Train.csv  \n",
            "  inflating: __MACOSX/ODI_Participants_Data/._Train.csv  \n"
          ],
          "name": "stdout"
        }
      ]
    },
    {
      "cell_type": "code",
      "metadata": {
        "id": "WzO-COMrN0Lg",
        "colab_type": "code",
        "colab": {}
      },
      "source": [
        "import pandas as pd\n",
        "import numpy as np\n",
        "import matplotlib.pyplot as plt\n",
        "%matplotlib inline"
      ],
      "execution_count": null,
      "outputs": []
    },
    {
      "cell_type": "code",
      "metadata": {
        "id": "KDc0XWvgN-Wz",
        "colab_type": "code",
        "colab": {}
      },
      "source": [
        "train = pd.read_csv('ODI_Participants_Data/Train.csv')\n",
        "test = pd.read_csv('ODI_Participants_Data/Test.csv')\n",
        "sub = pd.read_excel('ODI_Participants_Data/Sample_submission.xlsx')"
      ],
      "execution_count": null,
      "outputs": []
    },
    {
      "cell_type": "code",
      "metadata": {
        "id": "-XzdyhBt19DN",
        "colab_type": "code",
        "colab": {
          "base_uri": "https://localhost:8080/",
          "height": 197
        },
        "outputId": "4fd8e501-9454-4e76-d6e7-efe407a34991"
      },
      "source": [
        "train.head(5)"
      ],
      "execution_count": null,
      "outputs": [
        {
          "output_type": "execute_result",
          "data": {
            "text/html": [
              "<div>\n",
              "<style scoped>\n",
              "    .dataframe tbody tr th:only-of-type {\n",
              "        vertical-align: middle;\n",
              "    }\n",
              "\n",
              "    .dataframe tbody tr th {\n",
              "        vertical-align: top;\n",
              "    }\n",
              "\n",
              "    .dataframe thead th {\n",
              "        text-align: right;\n",
              "    }\n",
              "</style>\n",
              "<table border=\"1\" class=\"dataframe\">\n",
              "  <thead>\n",
              "    <tr style=\"text-align: right;\">\n",
              "      <th></th>\n",
              "      <th>Team1</th>\n",
              "      <th>Team2</th>\n",
              "      <th>Stadium</th>\n",
              "      <th>HostCountry</th>\n",
              "      <th>Team1_Venue</th>\n",
              "      <th>Team2_Venue</th>\n",
              "      <th>Team1_Innings</th>\n",
              "      <th>Team2_Innings</th>\n",
              "      <th>MonthOfMatch</th>\n",
              "      <th>MatchWinner</th>\n",
              "    </tr>\n",
              "  </thead>\n",
              "  <tbody>\n",
              "    <tr>\n",
              "      <th>0</th>\n",
              "      <td>5</td>\n",
              "      <td>4</td>\n",
              "      <td>37</td>\n",
              "      <td>4</td>\n",
              "      <td>Home</td>\n",
              "      <td>Away</td>\n",
              "      <td>Second</td>\n",
              "      <td>First</td>\n",
              "      <td>Dec</td>\n",
              "      <td>4</td>\n",
              "    </tr>\n",
              "    <tr>\n",
              "      <th>1</th>\n",
              "      <td>1</td>\n",
              "      <td>14</td>\n",
              "      <td>84</td>\n",
              "      <td>7</td>\n",
              "      <td>Neutral</td>\n",
              "      <td>Neutral</td>\n",
              "      <td>First</td>\n",
              "      <td>Second</td>\n",
              "      <td>Sep</td>\n",
              "      <td>1</td>\n",
              "    </tr>\n",
              "    <tr>\n",
              "      <th>2</th>\n",
              "      <td>9</td>\n",
              "      <td>15</td>\n",
              "      <td>47</td>\n",
              "      <td>9</td>\n",
              "      <td>Home</td>\n",
              "      <td>Away</td>\n",
              "      <td>First</td>\n",
              "      <td>Second</td>\n",
              "      <td>Feb</td>\n",
              "      <td>9</td>\n",
              "    </tr>\n",
              "    <tr>\n",
              "      <th>3</th>\n",
              "      <td>7</td>\n",
              "      <td>2</td>\n",
              "      <td>102</td>\n",
              "      <td>6</td>\n",
              "      <td>Home</td>\n",
              "      <td>Away</td>\n",
              "      <td>First</td>\n",
              "      <td>Second</td>\n",
              "      <td>Aug</td>\n",
              "      <td>2</td>\n",
              "    </tr>\n",
              "    <tr>\n",
              "      <th>4</th>\n",
              "      <td>6</td>\n",
              "      <td>8</td>\n",
              "      <td>46</td>\n",
              "      <td>5</td>\n",
              "      <td>Home</td>\n",
              "      <td>Away</td>\n",
              "      <td>First</td>\n",
              "      <td>Second</td>\n",
              "      <td>Aug</td>\n",
              "      <td>6</td>\n",
              "    </tr>\n",
              "  </tbody>\n",
              "</table>\n",
              "</div>"
            ],
            "text/plain": [
              "   Team1  Team2  Stadium  ...  Team2_Innings MonthOfMatch MatchWinner\n",
              "0      5      4       37  ...          First          Dec           4\n",
              "1      1     14       84  ...         Second          Sep           1\n",
              "2      9     15       47  ...         Second          Feb           9\n",
              "3      7      2      102  ...         Second          Aug           2\n",
              "4      6      8       46  ...         Second          Aug           6\n",
              "\n",
              "[5 rows x 10 columns]"
            ]
          },
          "metadata": {
            "tags": []
          },
          "execution_count": 187
        }
      ]
    },
    {
      "cell_type": "code",
      "metadata": {
        "id": "ISMwqie81_dQ",
        "colab_type": "code",
        "colab": {
          "base_uri": "https://localhost:8080/",
          "height": 197
        },
        "outputId": "703d5251-63b3-4399-f569-6696759556a7"
      },
      "source": [
        "test.tail(5)"
      ],
      "execution_count": null,
      "outputs": [
        {
          "output_type": "execute_result",
          "data": {
            "text/html": [
              "<div>\n",
              "<style scoped>\n",
              "    .dataframe tbody tr th:only-of-type {\n",
              "        vertical-align: middle;\n",
              "    }\n",
              "\n",
              "    .dataframe tbody tr th {\n",
              "        vertical-align: top;\n",
              "    }\n",
              "\n",
              "    .dataframe thead th {\n",
              "        text-align: right;\n",
              "    }\n",
              "</style>\n",
              "<table border=\"1\" class=\"dataframe\">\n",
              "  <thead>\n",
              "    <tr style=\"text-align: right;\">\n",
              "      <th></th>\n",
              "      <th>Team1</th>\n",
              "      <th>Team2</th>\n",
              "      <th>Stadium</th>\n",
              "      <th>HostCountry</th>\n",
              "      <th>Team1_Venue</th>\n",
              "      <th>Team2_Venue</th>\n",
              "      <th>Team1_Innings</th>\n",
              "      <th>Team2_Innings</th>\n",
              "      <th>MonthOfMatch</th>\n",
              "    </tr>\n",
              "  </thead>\n",
              "  <tbody>\n",
              "    <tr>\n",
              "      <th>1070</th>\n",
              "      <td>15</td>\n",
              "      <td>5</td>\n",
              "      <td>64</td>\n",
              "      <td>16</td>\n",
              "      <td>Home</td>\n",
              "      <td>Away</td>\n",
              "      <td>First</td>\n",
              "      <td>Second</td>\n",
              "      <td>Jun</td>\n",
              "    </tr>\n",
              "    <tr>\n",
              "      <th>1071</th>\n",
              "      <td>1</td>\n",
              "      <td>12</td>\n",
              "      <td>95</td>\n",
              "      <td>0</td>\n",
              "      <td>Home</td>\n",
              "      <td>Away</td>\n",
              "      <td>First</td>\n",
              "      <td>Second</td>\n",
              "      <td>Feb</td>\n",
              "    </tr>\n",
              "    <tr>\n",
              "      <th>1072</th>\n",
              "      <td>5</td>\n",
              "      <td>10</td>\n",
              "      <td>43</td>\n",
              "      <td>1</td>\n",
              "      <td>Neutral</td>\n",
              "      <td>Neutral</td>\n",
              "      <td>First</td>\n",
              "      <td>Second</td>\n",
              "      <td>Mar</td>\n",
              "    </tr>\n",
              "    <tr>\n",
              "      <th>1073</th>\n",
              "      <td>10</td>\n",
              "      <td>13</td>\n",
              "      <td>111</td>\n",
              "      <td>0</td>\n",
              "      <td>Neutral</td>\n",
              "      <td>Neutral</td>\n",
              "      <td>Second</td>\n",
              "      <td>First</td>\n",
              "      <td>Mar</td>\n",
              "    </tr>\n",
              "    <tr>\n",
              "      <th>1074</th>\n",
              "      <td>5</td>\n",
              "      <td>9</td>\n",
              "      <td>111</td>\n",
              "      <td>0</td>\n",
              "      <td>Neutral</td>\n",
              "      <td>Neutral</td>\n",
              "      <td>First</td>\n",
              "      <td>Second</td>\n",
              "      <td>Dec</td>\n",
              "    </tr>\n",
              "  </tbody>\n",
              "</table>\n",
              "</div>"
            ],
            "text/plain": [
              "      Team1  Team2  Stadium  ...  Team1_Innings Team2_Innings MonthOfMatch\n",
              "1070     15      5       64  ...          First        Second          Jun\n",
              "1071      1     12       95  ...          First        Second          Feb\n",
              "1072      5     10       43  ...          First        Second          Mar\n",
              "1073     10     13      111  ...         Second         First          Mar\n",
              "1074      5      9      111  ...          First        Second          Dec\n",
              "\n",
              "[5 rows x 9 columns]"
            ]
          },
          "metadata": {
            "tags": []
          },
          "execution_count": 188
        }
      ]
    },
    {
      "cell_type": "code",
      "metadata": {
        "id": "BP9_zJpwLSoL",
        "colab_type": "code",
        "colab": {
          "base_uri": "https://localhost:8080/",
          "height": 529
        },
        "outputId": "7a2cfa76-a593-4d2a-92b8-af403088c3f0"
      },
      "source": [
        "train.isnull().sum(),test.isnull().sum(),train.shape,test.shape,train.dtypes"
      ],
      "execution_count": null,
      "outputs": [
        {
          "output_type": "execute_result",
          "data": {
            "text/plain": [
              "(Team1            0\n",
              " Team2            0\n",
              " Stadium          0\n",
              " HostCountry      0\n",
              " Team1_Venue      0\n",
              " Team2_Venue      0\n",
              " Team1_Innings    0\n",
              " Team2_Innings    0\n",
              " MonthOfMatch     0\n",
              " MatchWinner      0\n",
              " dtype: int64, Team1            0\n",
              " Team2            0\n",
              " Stadium          0\n",
              " HostCountry      0\n",
              " Team1_Venue      0\n",
              " Team2_Venue      0\n",
              " Team1_Innings    0\n",
              " Team2_Innings    0\n",
              " MonthOfMatch     0\n",
              " dtype: int64, (2508, 10), (1075, 9), Team1             int64\n",
              " Team2             int64\n",
              " Stadium           int64\n",
              " HostCountry       int64\n",
              " Team1_Venue      object\n",
              " Team2_Venue      object\n",
              " Team1_Innings    object\n",
              " Team2_Innings    object\n",
              " MonthOfMatch     object\n",
              " MatchWinner       int64\n",
              " dtype: object)"
            ]
          },
          "metadata": {
            "tags": []
          },
          "execution_count": 189
        }
      ]
    },
    {
      "cell_type": "code",
      "metadata": {
        "id": "WrctU3cnO6vn",
        "colab_type": "code",
        "colab": {}
      },
      "source": [
        "df=train.append(test,ignore_index=True)"
      ],
      "execution_count": null,
      "outputs": []
    },
    {
      "cell_type": "code",
      "metadata": {
        "id": "cNAybkOKOk_s",
        "colab_type": "code",
        "colab": {}
      },
      "source": [
        "df = pd.get_dummies(df, columns=['Team1_Venue','Team2_Venue','Team1_Innings','Team2_Innings','MonthOfMatch','Team1','Team2','HostCountry','Stadium'])"
      ],
      "execution_count": null,
      "outputs": []
    },
    {
      "cell_type": "code",
      "metadata": {
        "id": "2aO9LdJnOsV9",
        "colab_type": "code",
        "colab": {
          "base_uri": "https://localhost:8080/",
          "height": 156
        },
        "outputId": "9cca1b24-46ba-448d-ac18-ef7f75e72d07"
      },
      "source": [
        "df.tail(2)"
      ],
      "execution_count": null,
      "outputs": [
        {
          "output_type": "execute_result",
          "data": {
            "text/html": [
              "<div>\n",
              "<style scoped>\n",
              "    .dataframe tbody tr th:only-of-type {\n",
              "        vertical-align: middle;\n",
              "    }\n",
              "\n",
              "    .dataframe tbody tr th {\n",
              "        vertical-align: top;\n",
              "    }\n",
              "\n",
              "    .dataframe thead th {\n",
              "        text-align: right;\n",
              "    }\n",
              "</style>\n",
              "<table border=\"1\" class=\"dataframe\">\n",
              "  <thead>\n",
              "    <tr style=\"text-align: right;\">\n",
              "      <th></th>\n",
              "      <th>MatchWinner</th>\n",
              "      <th>Team1_Venue_Away</th>\n",
              "      <th>Team1_Venue_Home</th>\n",
              "      <th>Team1_Venue_Neutral</th>\n",
              "      <th>Team2_Venue_Away</th>\n",
              "      <th>Team2_Venue_Home</th>\n",
              "      <th>Team2_Venue_Neutral</th>\n",
              "      <th>Team1_Innings_First</th>\n",
              "      <th>Team1_Innings_Second</th>\n",
              "      <th>Team2_Innings_First</th>\n",
              "      <th>Team2_Innings_Second</th>\n",
              "      <th>MonthOfMatch_Apr</th>\n",
              "      <th>MonthOfMatch_Aug</th>\n",
              "      <th>MonthOfMatch_Dec</th>\n",
              "      <th>MonthOfMatch_Feb</th>\n",
              "      <th>MonthOfMatch_Jan</th>\n",
              "      <th>MonthOfMatch_Jul</th>\n",
              "      <th>MonthOfMatch_Jun</th>\n",
              "      <th>MonthOfMatch_Mar</th>\n",
              "      <th>MonthOfMatch_May</th>\n",
              "      <th>MonthOfMatch_Nov</th>\n",
              "      <th>MonthOfMatch_Oct</th>\n",
              "      <th>MonthOfMatch_Sep</th>\n",
              "      <th>Team1_0</th>\n",
              "      <th>Team1_1</th>\n",
              "      <th>Team1_2</th>\n",
              "      <th>Team1_3</th>\n",
              "      <th>Team1_4</th>\n",
              "      <th>Team1_5</th>\n",
              "      <th>Team1_6</th>\n",
              "      <th>Team1_7</th>\n",
              "      <th>Team1_8</th>\n",
              "      <th>Team1_9</th>\n",
              "      <th>Team1_10</th>\n",
              "      <th>Team1_11</th>\n",
              "      <th>Team1_12</th>\n",
              "      <th>Team1_13</th>\n",
              "      <th>Team1_14</th>\n",
              "      <th>Team1_15</th>\n",
              "      <th>Team2_0</th>\n",
              "      <th>...</th>\n",
              "      <th>Stadium_112</th>\n",
              "      <th>Stadium_113</th>\n",
              "      <th>Stadium_114</th>\n",
              "      <th>Stadium_115</th>\n",
              "      <th>Stadium_116</th>\n",
              "      <th>Stadium_117</th>\n",
              "      <th>Stadium_118</th>\n",
              "      <th>Stadium_119</th>\n",
              "      <th>Stadium_120</th>\n",
              "      <th>Stadium_121</th>\n",
              "      <th>Stadium_122</th>\n",
              "      <th>Stadium_123</th>\n",
              "      <th>Stadium_124</th>\n",
              "      <th>Stadium_125</th>\n",
              "      <th>Stadium_126</th>\n",
              "      <th>Stadium_127</th>\n",
              "      <th>Stadium_128</th>\n",
              "      <th>Stadium_129</th>\n",
              "      <th>Stadium_130</th>\n",
              "      <th>Stadium_131</th>\n",
              "      <th>Stadium_132</th>\n",
              "      <th>Stadium_133</th>\n",
              "      <th>Stadium_134</th>\n",
              "      <th>Stadium_135</th>\n",
              "      <th>Stadium_136</th>\n",
              "      <th>Stadium_137</th>\n",
              "      <th>Stadium_138</th>\n",
              "      <th>Stadium_139</th>\n",
              "      <th>Stadium_140</th>\n",
              "      <th>Stadium_141</th>\n",
              "      <th>Stadium_142</th>\n",
              "      <th>Stadium_143</th>\n",
              "      <th>Stadium_144</th>\n",
              "      <th>Stadium_145</th>\n",
              "      <th>Stadium_146</th>\n",
              "      <th>Stadium_147</th>\n",
              "      <th>Stadium_148</th>\n",
              "      <th>Stadium_149</th>\n",
              "      <th>Stadium_150</th>\n",
              "      <th>Stadium_151</th>\n",
              "    </tr>\n",
              "  </thead>\n",
              "  <tbody>\n",
              "    <tr>\n",
              "      <th>3581</th>\n",
              "      <td>NaN</td>\n",
              "      <td>0</td>\n",
              "      <td>0</td>\n",
              "      <td>1</td>\n",
              "      <td>0</td>\n",
              "      <td>0</td>\n",
              "      <td>1</td>\n",
              "      <td>0</td>\n",
              "      <td>1</td>\n",
              "      <td>1</td>\n",
              "      <td>0</td>\n",
              "      <td>0</td>\n",
              "      <td>0</td>\n",
              "      <td>0</td>\n",
              "      <td>0</td>\n",
              "      <td>0</td>\n",
              "      <td>0</td>\n",
              "      <td>0</td>\n",
              "      <td>1</td>\n",
              "      <td>0</td>\n",
              "      <td>0</td>\n",
              "      <td>0</td>\n",
              "      <td>0</td>\n",
              "      <td>0</td>\n",
              "      <td>0</td>\n",
              "      <td>0</td>\n",
              "      <td>0</td>\n",
              "      <td>0</td>\n",
              "      <td>0</td>\n",
              "      <td>0</td>\n",
              "      <td>0</td>\n",
              "      <td>0</td>\n",
              "      <td>0</td>\n",
              "      <td>1</td>\n",
              "      <td>0</td>\n",
              "      <td>0</td>\n",
              "      <td>0</td>\n",
              "      <td>0</td>\n",
              "      <td>0</td>\n",
              "      <td>0</td>\n",
              "      <td>...</td>\n",
              "      <td>0</td>\n",
              "      <td>0</td>\n",
              "      <td>0</td>\n",
              "      <td>0</td>\n",
              "      <td>0</td>\n",
              "      <td>0</td>\n",
              "      <td>0</td>\n",
              "      <td>0</td>\n",
              "      <td>0</td>\n",
              "      <td>0</td>\n",
              "      <td>0</td>\n",
              "      <td>0</td>\n",
              "      <td>0</td>\n",
              "      <td>0</td>\n",
              "      <td>0</td>\n",
              "      <td>0</td>\n",
              "      <td>0</td>\n",
              "      <td>0</td>\n",
              "      <td>0</td>\n",
              "      <td>0</td>\n",
              "      <td>0</td>\n",
              "      <td>0</td>\n",
              "      <td>0</td>\n",
              "      <td>0</td>\n",
              "      <td>0</td>\n",
              "      <td>0</td>\n",
              "      <td>0</td>\n",
              "      <td>0</td>\n",
              "      <td>0</td>\n",
              "      <td>0</td>\n",
              "      <td>0</td>\n",
              "      <td>0</td>\n",
              "      <td>0</td>\n",
              "      <td>0</td>\n",
              "      <td>0</td>\n",
              "      <td>0</td>\n",
              "      <td>0</td>\n",
              "      <td>0</td>\n",
              "      <td>0</td>\n",
              "      <td>0</td>\n",
              "    </tr>\n",
              "    <tr>\n",
              "      <th>3582</th>\n",
              "      <td>NaN</td>\n",
              "      <td>0</td>\n",
              "      <td>0</td>\n",
              "      <td>1</td>\n",
              "      <td>0</td>\n",
              "      <td>0</td>\n",
              "      <td>1</td>\n",
              "      <td>1</td>\n",
              "      <td>0</td>\n",
              "      <td>0</td>\n",
              "      <td>1</td>\n",
              "      <td>0</td>\n",
              "      <td>0</td>\n",
              "      <td>1</td>\n",
              "      <td>0</td>\n",
              "      <td>0</td>\n",
              "      <td>0</td>\n",
              "      <td>0</td>\n",
              "      <td>0</td>\n",
              "      <td>0</td>\n",
              "      <td>0</td>\n",
              "      <td>0</td>\n",
              "      <td>0</td>\n",
              "      <td>0</td>\n",
              "      <td>0</td>\n",
              "      <td>0</td>\n",
              "      <td>0</td>\n",
              "      <td>0</td>\n",
              "      <td>1</td>\n",
              "      <td>0</td>\n",
              "      <td>0</td>\n",
              "      <td>0</td>\n",
              "      <td>0</td>\n",
              "      <td>0</td>\n",
              "      <td>0</td>\n",
              "      <td>0</td>\n",
              "      <td>0</td>\n",
              "      <td>0</td>\n",
              "      <td>0</td>\n",
              "      <td>0</td>\n",
              "      <td>...</td>\n",
              "      <td>0</td>\n",
              "      <td>0</td>\n",
              "      <td>0</td>\n",
              "      <td>0</td>\n",
              "      <td>0</td>\n",
              "      <td>0</td>\n",
              "      <td>0</td>\n",
              "      <td>0</td>\n",
              "      <td>0</td>\n",
              "      <td>0</td>\n",
              "      <td>0</td>\n",
              "      <td>0</td>\n",
              "      <td>0</td>\n",
              "      <td>0</td>\n",
              "      <td>0</td>\n",
              "      <td>0</td>\n",
              "      <td>0</td>\n",
              "      <td>0</td>\n",
              "      <td>0</td>\n",
              "      <td>0</td>\n",
              "      <td>0</td>\n",
              "      <td>0</td>\n",
              "      <td>0</td>\n",
              "      <td>0</td>\n",
              "      <td>0</td>\n",
              "      <td>0</td>\n",
              "      <td>0</td>\n",
              "      <td>0</td>\n",
              "      <td>0</td>\n",
              "      <td>0</td>\n",
              "      <td>0</td>\n",
              "      <td>0</td>\n",
              "      <td>0</td>\n",
              "      <td>0</td>\n",
              "      <td>0</td>\n",
              "      <td>0</td>\n",
              "      <td>0</td>\n",
              "      <td>0</td>\n",
              "      <td>0</td>\n",
              "      <td>0</td>\n",
              "    </tr>\n",
              "  </tbody>\n",
              "</table>\n",
              "<p>2 rows × 224 columns</p>\n",
              "</div>"
            ],
            "text/plain": [
              "      MatchWinner  Team1_Venue_Away  ...  Stadium_150  Stadium_151\n",
              "3581          NaN                 0  ...            0            0\n",
              "3582          NaN                 0  ...            0            0\n",
              "\n",
              "[2 rows x 224 columns]"
            ]
          },
          "metadata": {
            "tags": []
          },
          "execution_count": 192
        }
      ]
    },
    {
      "cell_type": "code",
      "metadata": {
        "id": "svf8_OPlPXhT",
        "colab_type": "code",
        "colab": {}
      },
      "source": [
        "train = df[df['MatchWinner'].isnull()==False]\n",
        "test = df[df['MatchWinner'].isnull()==True]"
      ],
      "execution_count": null,
      "outputs": []
    },
    {
      "cell_type": "code",
      "metadata": {
        "id": "L7ezwKsEP7xP",
        "colab_type": "code",
        "colab": {}
      },
      "source": [
        "del test['MatchWinner']"
      ],
      "execution_count": null,
      "outputs": []
    },
    {
      "cell_type": "code",
      "metadata": {
        "id": "22G9o-FFNZRm",
        "colab_type": "code",
        "colab": {
          "base_uri": "https://localhost:8080/",
          "height": 156
        },
        "outputId": "6f68df1a-58cc-4739-8d79-d3461f217bb3"
      },
      "source": [
        "train.head(2)"
      ],
      "execution_count": null,
      "outputs": [
        {
          "output_type": "execute_result",
          "data": {
            "text/html": [
              "<div>\n",
              "<style scoped>\n",
              "    .dataframe tbody tr th:only-of-type {\n",
              "        vertical-align: middle;\n",
              "    }\n",
              "\n",
              "    .dataframe tbody tr th {\n",
              "        vertical-align: top;\n",
              "    }\n",
              "\n",
              "    .dataframe thead th {\n",
              "        text-align: right;\n",
              "    }\n",
              "</style>\n",
              "<table border=\"1\" class=\"dataframe\">\n",
              "  <thead>\n",
              "    <tr style=\"text-align: right;\">\n",
              "      <th></th>\n",
              "      <th>MatchWinner</th>\n",
              "      <th>Team1_Venue_Away</th>\n",
              "      <th>Team1_Venue_Home</th>\n",
              "      <th>Team1_Venue_Neutral</th>\n",
              "      <th>Team2_Venue_Away</th>\n",
              "      <th>Team2_Venue_Home</th>\n",
              "      <th>Team2_Venue_Neutral</th>\n",
              "      <th>Team1_Innings_First</th>\n",
              "      <th>Team1_Innings_Second</th>\n",
              "      <th>Team2_Innings_First</th>\n",
              "      <th>Team2_Innings_Second</th>\n",
              "      <th>MonthOfMatch_Apr</th>\n",
              "      <th>MonthOfMatch_Aug</th>\n",
              "      <th>MonthOfMatch_Dec</th>\n",
              "      <th>MonthOfMatch_Feb</th>\n",
              "      <th>MonthOfMatch_Jan</th>\n",
              "      <th>MonthOfMatch_Jul</th>\n",
              "      <th>MonthOfMatch_Jun</th>\n",
              "      <th>MonthOfMatch_Mar</th>\n",
              "      <th>MonthOfMatch_May</th>\n",
              "      <th>MonthOfMatch_Nov</th>\n",
              "      <th>MonthOfMatch_Oct</th>\n",
              "      <th>MonthOfMatch_Sep</th>\n",
              "      <th>Team1_0</th>\n",
              "      <th>Team1_1</th>\n",
              "      <th>Team1_2</th>\n",
              "      <th>Team1_3</th>\n",
              "      <th>Team1_4</th>\n",
              "      <th>Team1_5</th>\n",
              "      <th>Team1_6</th>\n",
              "      <th>Team1_7</th>\n",
              "      <th>Team1_8</th>\n",
              "      <th>Team1_9</th>\n",
              "      <th>Team1_10</th>\n",
              "      <th>Team1_11</th>\n",
              "      <th>Team1_12</th>\n",
              "      <th>Team1_13</th>\n",
              "      <th>Team1_14</th>\n",
              "      <th>Team1_15</th>\n",
              "      <th>Team2_0</th>\n",
              "      <th>...</th>\n",
              "      <th>Stadium_112</th>\n",
              "      <th>Stadium_113</th>\n",
              "      <th>Stadium_114</th>\n",
              "      <th>Stadium_115</th>\n",
              "      <th>Stadium_116</th>\n",
              "      <th>Stadium_117</th>\n",
              "      <th>Stadium_118</th>\n",
              "      <th>Stadium_119</th>\n",
              "      <th>Stadium_120</th>\n",
              "      <th>Stadium_121</th>\n",
              "      <th>Stadium_122</th>\n",
              "      <th>Stadium_123</th>\n",
              "      <th>Stadium_124</th>\n",
              "      <th>Stadium_125</th>\n",
              "      <th>Stadium_126</th>\n",
              "      <th>Stadium_127</th>\n",
              "      <th>Stadium_128</th>\n",
              "      <th>Stadium_129</th>\n",
              "      <th>Stadium_130</th>\n",
              "      <th>Stadium_131</th>\n",
              "      <th>Stadium_132</th>\n",
              "      <th>Stadium_133</th>\n",
              "      <th>Stadium_134</th>\n",
              "      <th>Stadium_135</th>\n",
              "      <th>Stadium_136</th>\n",
              "      <th>Stadium_137</th>\n",
              "      <th>Stadium_138</th>\n",
              "      <th>Stadium_139</th>\n",
              "      <th>Stadium_140</th>\n",
              "      <th>Stadium_141</th>\n",
              "      <th>Stadium_142</th>\n",
              "      <th>Stadium_143</th>\n",
              "      <th>Stadium_144</th>\n",
              "      <th>Stadium_145</th>\n",
              "      <th>Stadium_146</th>\n",
              "      <th>Stadium_147</th>\n",
              "      <th>Stadium_148</th>\n",
              "      <th>Stadium_149</th>\n",
              "      <th>Stadium_150</th>\n",
              "      <th>Stadium_151</th>\n",
              "    </tr>\n",
              "  </thead>\n",
              "  <tbody>\n",
              "    <tr>\n",
              "      <th>0</th>\n",
              "      <td>4.0</td>\n",
              "      <td>0</td>\n",
              "      <td>1</td>\n",
              "      <td>0</td>\n",
              "      <td>1</td>\n",
              "      <td>0</td>\n",
              "      <td>0</td>\n",
              "      <td>0</td>\n",
              "      <td>1</td>\n",
              "      <td>1</td>\n",
              "      <td>0</td>\n",
              "      <td>0</td>\n",
              "      <td>0</td>\n",
              "      <td>1</td>\n",
              "      <td>0</td>\n",
              "      <td>0</td>\n",
              "      <td>0</td>\n",
              "      <td>0</td>\n",
              "      <td>0</td>\n",
              "      <td>0</td>\n",
              "      <td>0</td>\n",
              "      <td>0</td>\n",
              "      <td>0</td>\n",
              "      <td>0</td>\n",
              "      <td>0</td>\n",
              "      <td>0</td>\n",
              "      <td>0</td>\n",
              "      <td>0</td>\n",
              "      <td>1</td>\n",
              "      <td>0</td>\n",
              "      <td>0</td>\n",
              "      <td>0</td>\n",
              "      <td>0</td>\n",
              "      <td>0</td>\n",
              "      <td>0</td>\n",
              "      <td>0</td>\n",
              "      <td>0</td>\n",
              "      <td>0</td>\n",
              "      <td>0</td>\n",
              "      <td>0</td>\n",
              "      <td>...</td>\n",
              "      <td>0</td>\n",
              "      <td>0</td>\n",
              "      <td>0</td>\n",
              "      <td>0</td>\n",
              "      <td>0</td>\n",
              "      <td>0</td>\n",
              "      <td>0</td>\n",
              "      <td>0</td>\n",
              "      <td>0</td>\n",
              "      <td>0</td>\n",
              "      <td>0</td>\n",
              "      <td>0</td>\n",
              "      <td>0</td>\n",
              "      <td>0</td>\n",
              "      <td>0</td>\n",
              "      <td>0</td>\n",
              "      <td>0</td>\n",
              "      <td>0</td>\n",
              "      <td>0</td>\n",
              "      <td>0</td>\n",
              "      <td>0</td>\n",
              "      <td>0</td>\n",
              "      <td>0</td>\n",
              "      <td>0</td>\n",
              "      <td>0</td>\n",
              "      <td>0</td>\n",
              "      <td>0</td>\n",
              "      <td>0</td>\n",
              "      <td>0</td>\n",
              "      <td>0</td>\n",
              "      <td>0</td>\n",
              "      <td>0</td>\n",
              "      <td>0</td>\n",
              "      <td>0</td>\n",
              "      <td>0</td>\n",
              "      <td>0</td>\n",
              "      <td>0</td>\n",
              "      <td>0</td>\n",
              "      <td>0</td>\n",
              "      <td>0</td>\n",
              "    </tr>\n",
              "    <tr>\n",
              "      <th>1</th>\n",
              "      <td>1.0</td>\n",
              "      <td>0</td>\n",
              "      <td>0</td>\n",
              "      <td>1</td>\n",
              "      <td>0</td>\n",
              "      <td>0</td>\n",
              "      <td>1</td>\n",
              "      <td>1</td>\n",
              "      <td>0</td>\n",
              "      <td>0</td>\n",
              "      <td>1</td>\n",
              "      <td>0</td>\n",
              "      <td>0</td>\n",
              "      <td>0</td>\n",
              "      <td>0</td>\n",
              "      <td>0</td>\n",
              "      <td>0</td>\n",
              "      <td>0</td>\n",
              "      <td>0</td>\n",
              "      <td>0</td>\n",
              "      <td>0</td>\n",
              "      <td>0</td>\n",
              "      <td>1</td>\n",
              "      <td>0</td>\n",
              "      <td>1</td>\n",
              "      <td>0</td>\n",
              "      <td>0</td>\n",
              "      <td>0</td>\n",
              "      <td>0</td>\n",
              "      <td>0</td>\n",
              "      <td>0</td>\n",
              "      <td>0</td>\n",
              "      <td>0</td>\n",
              "      <td>0</td>\n",
              "      <td>0</td>\n",
              "      <td>0</td>\n",
              "      <td>0</td>\n",
              "      <td>0</td>\n",
              "      <td>0</td>\n",
              "      <td>0</td>\n",
              "      <td>...</td>\n",
              "      <td>0</td>\n",
              "      <td>0</td>\n",
              "      <td>0</td>\n",
              "      <td>0</td>\n",
              "      <td>0</td>\n",
              "      <td>0</td>\n",
              "      <td>0</td>\n",
              "      <td>0</td>\n",
              "      <td>0</td>\n",
              "      <td>0</td>\n",
              "      <td>0</td>\n",
              "      <td>0</td>\n",
              "      <td>0</td>\n",
              "      <td>0</td>\n",
              "      <td>0</td>\n",
              "      <td>0</td>\n",
              "      <td>0</td>\n",
              "      <td>0</td>\n",
              "      <td>0</td>\n",
              "      <td>0</td>\n",
              "      <td>0</td>\n",
              "      <td>0</td>\n",
              "      <td>0</td>\n",
              "      <td>0</td>\n",
              "      <td>0</td>\n",
              "      <td>0</td>\n",
              "      <td>0</td>\n",
              "      <td>0</td>\n",
              "      <td>0</td>\n",
              "      <td>0</td>\n",
              "      <td>0</td>\n",
              "      <td>0</td>\n",
              "      <td>0</td>\n",
              "      <td>0</td>\n",
              "      <td>0</td>\n",
              "      <td>0</td>\n",
              "      <td>0</td>\n",
              "      <td>0</td>\n",
              "      <td>0</td>\n",
              "      <td>0</td>\n",
              "    </tr>\n",
              "  </tbody>\n",
              "</table>\n",
              "<p>2 rows × 224 columns</p>\n",
              "</div>"
            ],
            "text/plain": [
              "   MatchWinner  Team1_Venue_Away  ...  Stadium_150  Stadium_151\n",
              "0          4.0                 0  ...            0            0\n",
              "1          1.0                 0  ...            0            0\n",
              "\n",
              "[2 rows x 224 columns]"
            ]
          },
          "metadata": {
            "tags": []
          },
          "execution_count": 195
        }
      ]
    },
    {
      "cell_type": "code",
      "metadata": {
        "id": "S8ESY7GhOEDE",
        "colab_type": "code",
        "colab": {
          "base_uri": "https://localhost:8080/",
          "height": 156
        },
        "outputId": "17430bd2-e8d3-42ef-9bab-f099297fe80e"
      },
      "source": [
        "test.head(2)"
      ],
      "execution_count": null,
      "outputs": [
        {
          "output_type": "execute_result",
          "data": {
            "text/html": [
              "<div>\n",
              "<style scoped>\n",
              "    .dataframe tbody tr th:only-of-type {\n",
              "        vertical-align: middle;\n",
              "    }\n",
              "\n",
              "    .dataframe tbody tr th {\n",
              "        vertical-align: top;\n",
              "    }\n",
              "\n",
              "    .dataframe thead th {\n",
              "        text-align: right;\n",
              "    }\n",
              "</style>\n",
              "<table border=\"1\" class=\"dataframe\">\n",
              "  <thead>\n",
              "    <tr style=\"text-align: right;\">\n",
              "      <th></th>\n",
              "      <th>Team1_Venue_Away</th>\n",
              "      <th>Team1_Venue_Home</th>\n",
              "      <th>Team1_Venue_Neutral</th>\n",
              "      <th>Team2_Venue_Away</th>\n",
              "      <th>Team2_Venue_Home</th>\n",
              "      <th>Team2_Venue_Neutral</th>\n",
              "      <th>Team1_Innings_First</th>\n",
              "      <th>Team1_Innings_Second</th>\n",
              "      <th>Team2_Innings_First</th>\n",
              "      <th>Team2_Innings_Second</th>\n",
              "      <th>MonthOfMatch_Apr</th>\n",
              "      <th>MonthOfMatch_Aug</th>\n",
              "      <th>MonthOfMatch_Dec</th>\n",
              "      <th>MonthOfMatch_Feb</th>\n",
              "      <th>MonthOfMatch_Jan</th>\n",
              "      <th>MonthOfMatch_Jul</th>\n",
              "      <th>MonthOfMatch_Jun</th>\n",
              "      <th>MonthOfMatch_Mar</th>\n",
              "      <th>MonthOfMatch_May</th>\n",
              "      <th>MonthOfMatch_Nov</th>\n",
              "      <th>MonthOfMatch_Oct</th>\n",
              "      <th>MonthOfMatch_Sep</th>\n",
              "      <th>Team1_0</th>\n",
              "      <th>Team1_1</th>\n",
              "      <th>Team1_2</th>\n",
              "      <th>Team1_3</th>\n",
              "      <th>Team1_4</th>\n",
              "      <th>Team1_5</th>\n",
              "      <th>Team1_6</th>\n",
              "      <th>Team1_7</th>\n",
              "      <th>Team1_8</th>\n",
              "      <th>Team1_9</th>\n",
              "      <th>Team1_10</th>\n",
              "      <th>Team1_11</th>\n",
              "      <th>Team1_12</th>\n",
              "      <th>Team1_13</th>\n",
              "      <th>Team1_14</th>\n",
              "      <th>Team1_15</th>\n",
              "      <th>Team2_0</th>\n",
              "      <th>Team2_1</th>\n",
              "      <th>...</th>\n",
              "      <th>Stadium_112</th>\n",
              "      <th>Stadium_113</th>\n",
              "      <th>Stadium_114</th>\n",
              "      <th>Stadium_115</th>\n",
              "      <th>Stadium_116</th>\n",
              "      <th>Stadium_117</th>\n",
              "      <th>Stadium_118</th>\n",
              "      <th>Stadium_119</th>\n",
              "      <th>Stadium_120</th>\n",
              "      <th>Stadium_121</th>\n",
              "      <th>Stadium_122</th>\n",
              "      <th>Stadium_123</th>\n",
              "      <th>Stadium_124</th>\n",
              "      <th>Stadium_125</th>\n",
              "      <th>Stadium_126</th>\n",
              "      <th>Stadium_127</th>\n",
              "      <th>Stadium_128</th>\n",
              "      <th>Stadium_129</th>\n",
              "      <th>Stadium_130</th>\n",
              "      <th>Stadium_131</th>\n",
              "      <th>Stadium_132</th>\n",
              "      <th>Stadium_133</th>\n",
              "      <th>Stadium_134</th>\n",
              "      <th>Stadium_135</th>\n",
              "      <th>Stadium_136</th>\n",
              "      <th>Stadium_137</th>\n",
              "      <th>Stadium_138</th>\n",
              "      <th>Stadium_139</th>\n",
              "      <th>Stadium_140</th>\n",
              "      <th>Stadium_141</th>\n",
              "      <th>Stadium_142</th>\n",
              "      <th>Stadium_143</th>\n",
              "      <th>Stadium_144</th>\n",
              "      <th>Stadium_145</th>\n",
              "      <th>Stadium_146</th>\n",
              "      <th>Stadium_147</th>\n",
              "      <th>Stadium_148</th>\n",
              "      <th>Stadium_149</th>\n",
              "      <th>Stadium_150</th>\n",
              "      <th>Stadium_151</th>\n",
              "    </tr>\n",
              "  </thead>\n",
              "  <tbody>\n",
              "    <tr>\n",
              "      <th>2508</th>\n",
              "      <td>0</td>\n",
              "      <td>1</td>\n",
              "      <td>0</td>\n",
              "      <td>1</td>\n",
              "      <td>0</td>\n",
              "      <td>0</td>\n",
              "      <td>1</td>\n",
              "      <td>0</td>\n",
              "      <td>0</td>\n",
              "      <td>1</td>\n",
              "      <td>0</td>\n",
              "      <td>0</td>\n",
              "      <td>0</td>\n",
              "      <td>0</td>\n",
              "      <td>0</td>\n",
              "      <td>0</td>\n",
              "      <td>0</td>\n",
              "      <td>0</td>\n",
              "      <td>0</td>\n",
              "      <td>0</td>\n",
              "      <td>1</td>\n",
              "      <td>0</td>\n",
              "      <td>0</td>\n",
              "      <td>0</td>\n",
              "      <td>1</td>\n",
              "      <td>0</td>\n",
              "      <td>0</td>\n",
              "      <td>0</td>\n",
              "      <td>0</td>\n",
              "      <td>0</td>\n",
              "      <td>0</td>\n",
              "      <td>0</td>\n",
              "      <td>0</td>\n",
              "      <td>0</td>\n",
              "      <td>0</td>\n",
              "      <td>0</td>\n",
              "      <td>0</td>\n",
              "      <td>0</td>\n",
              "      <td>0</td>\n",
              "      <td>0</td>\n",
              "      <td>...</td>\n",
              "      <td>0</td>\n",
              "      <td>0</td>\n",
              "      <td>0</td>\n",
              "      <td>0</td>\n",
              "      <td>0</td>\n",
              "      <td>0</td>\n",
              "      <td>0</td>\n",
              "      <td>0</td>\n",
              "      <td>0</td>\n",
              "      <td>0</td>\n",
              "      <td>0</td>\n",
              "      <td>0</td>\n",
              "      <td>0</td>\n",
              "      <td>0</td>\n",
              "      <td>0</td>\n",
              "      <td>0</td>\n",
              "      <td>0</td>\n",
              "      <td>0</td>\n",
              "      <td>0</td>\n",
              "      <td>0</td>\n",
              "      <td>0</td>\n",
              "      <td>0</td>\n",
              "      <td>0</td>\n",
              "      <td>0</td>\n",
              "      <td>0</td>\n",
              "      <td>0</td>\n",
              "      <td>0</td>\n",
              "      <td>0</td>\n",
              "      <td>0</td>\n",
              "      <td>0</td>\n",
              "      <td>0</td>\n",
              "      <td>0</td>\n",
              "      <td>0</td>\n",
              "      <td>0</td>\n",
              "      <td>0</td>\n",
              "      <td>0</td>\n",
              "      <td>0</td>\n",
              "      <td>0</td>\n",
              "      <td>0</td>\n",
              "      <td>0</td>\n",
              "    </tr>\n",
              "    <tr>\n",
              "      <th>2509</th>\n",
              "      <td>0</td>\n",
              "      <td>1</td>\n",
              "      <td>0</td>\n",
              "      <td>1</td>\n",
              "      <td>0</td>\n",
              "      <td>0</td>\n",
              "      <td>1</td>\n",
              "      <td>0</td>\n",
              "      <td>0</td>\n",
              "      <td>1</td>\n",
              "      <td>0</td>\n",
              "      <td>0</td>\n",
              "      <td>0</td>\n",
              "      <td>0</td>\n",
              "      <td>0</td>\n",
              "      <td>0</td>\n",
              "      <td>0</td>\n",
              "      <td>1</td>\n",
              "      <td>0</td>\n",
              "      <td>0</td>\n",
              "      <td>0</td>\n",
              "      <td>0</td>\n",
              "      <td>0</td>\n",
              "      <td>0</td>\n",
              "      <td>0</td>\n",
              "      <td>0</td>\n",
              "      <td>0</td>\n",
              "      <td>0</td>\n",
              "      <td>0</td>\n",
              "      <td>0</td>\n",
              "      <td>0</td>\n",
              "      <td>0</td>\n",
              "      <td>0</td>\n",
              "      <td>0</td>\n",
              "      <td>0</td>\n",
              "      <td>0</td>\n",
              "      <td>1</td>\n",
              "      <td>0</td>\n",
              "      <td>0</td>\n",
              "      <td>1</td>\n",
              "      <td>...</td>\n",
              "      <td>0</td>\n",
              "      <td>0</td>\n",
              "      <td>0</td>\n",
              "      <td>0</td>\n",
              "      <td>0</td>\n",
              "      <td>0</td>\n",
              "      <td>0</td>\n",
              "      <td>0</td>\n",
              "      <td>0</td>\n",
              "      <td>0</td>\n",
              "      <td>0</td>\n",
              "      <td>0</td>\n",
              "      <td>0</td>\n",
              "      <td>0</td>\n",
              "      <td>0</td>\n",
              "      <td>0</td>\n",
              "      <td>0</td>\n",
              "      <td>0</td>\n",
              "      <td>0</td>\n",
              "      <td>0</td>\n",
              "      <td>0</td>\n",
              "      <td>0</td>\n",
              "      <td>0</td>\n",
              "      <td>0</td>\n",
              "      <td>0</td>\n",
              "      <td>0</td>\n",
              "      <td>0</td>\n",
              "      <td>0</td>\n",
              "      <td>0</td>\n",
              "      <td>0</td>\n",
              "      <td>0</td>\n",
              "      <td>0</td>\n",
              "      <td>0</td>\n",
              "      <td>0</td>\n",
              "      <td>0</td>\n",
              "      <td>0</td>\n",
              "      <td>0</td>\n",
              "      <td>0</td>\n",
              "      <td>0</td>\n",
              "      <td>0</td>\n",
              "    </tr>\n",
              "  </tbody>\n",
              "</table>\n",
              "<p>2 rows × 223 columns</p>\n",
              "</div>"
            ],
            "text/plain": [
              "      Team1_Venue_Away  Team1_Venue_Home  ...  Stadium_150  Stadium_151\n",
              "2508                 0                 1  ...            0            0\n",
              "2509                 0                 1  ...            0            0\n",
              "\n",
              "[2 rows x 223 columns]"
            ]
          },
          "metadata": {
            "tags": []
          },
          "execution_count": 196
        }
      ]
    },
    {
      "cell_type": "code",
      "metadata": {
        "id": "oRvaW-1vQ5yc",
        "colab_type": "code",
        "colab": {}
      },
      "source": [
        "#Team1_Venue_Away\n",
        "# Team2_Venue_Home"
      ],
      "execution_count": null,
      "outputs": []
    },
    {
      "cell_type": "code",
      "metadata": {
        "id": "jw23O6u1YKIv",
        "colab_type": "code",
        "colab": {}
      },
      "source": [
        "train_df=train\n",
        "test_df=test"
      ],
      "execution_count": null,
      "outputs": []
    },
    {
      "cell_type": "code",
      "metadata": {
        "id": "tEBtdP68YNzr",
        "colab_type": "code",
        "colab": {}
      },
      "source": [
        "X = train_df.drop(labels=['MatchWinner'], axis=1)\n",
        "y = train_df['MatchWinner'].values"
      ],
      "execution_count": null,
      "outputs": []
    },
    {
      "cell_type": "code",
      "metadata": {
        "id": "6v1MB11yZPel",
        "colab_type": "code",
        "colab": {}
      },
      "source": [
        "from sklearn.model_selection import train_test_split\n",
        "X_train, X_cv, y_train, y_cv = train_test_split(X, y, test_size=0.25, random_state=42, stratify=y)"
      ],
      "execution_count": null,
      "outputs": []
    },
    {
      "cell_type": "code",
      "metadata": {
        "id": "rzaKa3bnZSmm",
        "colab_type": "code",
        "colab": {
          "base_uri": "https://localhost:8080/",
          "height": 34
        },
        "outputId": "abbe3fdc-d84d-4543-bf7f-c7d0c69bfbf6"
      },
      "source": [
        "X_train.shape, y_train.shape, X_cv.shape, y_cv.shape"
      ],
      "execution_count": null,
      "outputs": [
        {
          "output_type": "execute_result",
          "data": {
            "text/plain": [
              "((1881, 223), (1881,), (627, 223), (627,))"
            ]
          },
          "metadata": {
            "tags": []
          },
          "execution_count": 159
        }
      ]
    },
    {
      "cell_type": "code",
      "metadata": {
        "id": "KWM1s5V2ZWQJ",
        "colab_type": "code",
        "colab": {}
      },
      "source": [
        "from sklearn.metrics import log_loss"
      ],
      "execution_count": null,
      "outputs": []
    },
    {
      "cell_type": "code",
      "metadata": {
        "id": "crMDQv3UZfin",
        "colab_type": "code",
        "colab": {
          "base_uri": "https://localhost:8080/",
          "height": 204
        },
        "outputId": "65d5eed1-b815-4afc-f980-e7ff3aa63d7a"
      },
      "source": [
        "\n",
        "import lightgbm as lgb\n",
        "train_data = lgb.Dataset(X_train, label=y_train)\n",
        "test_data = lgb.Dataset(X_cv, label=y_cv)\n",
        "\n",
        "param = {'objective': 'multiclass',\n",
        "         'num_class': 16,\n",
        "         'boosting': 'gbdt',  \n",
        "         'metric': 'multi_logloss',\n",
        "         'learning_rate': 0.01, \n",
        "         'num_iterations': 1000,\n",
        "         'num_leaves': 101,\n",
        "         'max_depth': -1,\n",
        "         'min_data_in_leaf': 15,\n",
        "         'bagging_fraction':0.9,\n",
        "         'bagging_freq': 1,\n",
        "         'feature_fraction': 0.9,\n",
        "         'lambda_l2': 0.9,\n",
        "         'min_data_per_group': 75,\n",
        "         'max_bin': 255,\n",
        "         'is_unbalance':True\n",
        "         }\n",
        "\n",
        "clf = lgb.train(params=param, \n",
        "                early_stopping_rounds=200,\n",
        "                verbose_eval=100,\n",
        "                train_set=train_data,\n",
        "                valid_sets=[test_data])\n",
        "\n",
        "y_pred = clf.predict(X_cv)"
      ],
      "execution_count": null,
      "outputs": [
        {
          "output_type": "stream",
          "text": [
            "Training until validation scores don't improve for 200 rounds.\n",
            "[100]\tvalid_0's multi_logloss: 1.2902\n",
            "[200]\tvalid_0's multi_logloss: 0.956042\n",
            "[300]\tvalid_0's multi_logloss: 0.810506\n",
            "[400]\tvalid_0's multi_logloss: 0.738237\n",
            "[500]\tvalid_0's multi_logloss: 0.703362\n",
            "[600]\tvalid_0's multi_logloss: 0.689351\n",
            "[700]\tvalid_0's multi_logloss: 0.689189\n",
            "[800]\tvalid_0's multi_logloss: 0.696647\n",
            "Early stopping, best iteration is:\n",
            "[644]\tvalid_0's multi_logloss: 0.687359\n"
          ],
          "name": "stdout"
        }
      ]
    },
    {
      "cell_type": "code",
      "metadata": {
        "id": "Co0ydv6fZjcQ",
        "colab_type": "code",
        "colab": {
          "base_uri": "https://localhost:8080/",
          "height": 34
        },
        "outputId": "e5b49785-494f-466e-f917-4f0d56bdcfdd"
      },
      "source": [
        "log_loss(y_cv, y_pred)"
      ],
      "execution_count": null,
      "outputs": [
        {
          "output_type": "execute_result",
          "data": {
            "text/plain": [
              "0.6873585183221682"
            ]
          },
          "metadata": {
            "tags": []
          },
          "execution_count": 162
        }
      ]
    },
    {
      "cell_type": "code",
      "metadata": {
        "id": "sAkQJcfkZujo",
        "colab_type": "code",
        "colab": {
          "base_uri": "https://localhost:8080/",
          "height": 1000
        },
        "outputId": "1e0f0d28-c239-49d4-c20d-c1a7443c8d9f"
      },
      "source": [
        "import seaborn as sns\n",
        "feature_imp = pd.DataFrame(sorted(zip(clf.feature_importance(), X.columns), reverse=True)[:], columns=['Value','Feature'])\n",
        "plt.figure(figsize=(20,20))\n",
        "sns.barplot(x=\"Value\", y=\"Feature\", data=feature_imp.sort_values(by=\"Value\", ascending=False))\n",
        "plt.title('LightGBM Features')\n",
        "plt.tight_layout()\n",
        "plt.show()"
      ],
      "execution_count": null,
      "outputs": [
        {
          "output_type": "display_data",
          "data": {
            "image/png": "[encoded data removed]",
            "text/plain": [
              "<Figure size 1440x1440 with 1 Axes>"
            ]
          },
          "metadata": {
            "tags": [],
            "needs_background": "light"
          }
        }
      ]
    },
    {
      "cell_type": "code",
      "metadata": {
        "id": "koEl06YgZxA0",
        "colab_type": "code",
        "colab": {
          "base_uri": "https://localhost:8080/",
          "height": 405
        },
        "outputId": "fce52500-ff21-4c3d-d5c3-7b96108e504d"
      },
      "source": [
        "feature_imp.loc[feature_imp.Value >= 0].sort_values(by=['Value'], ascending = False)"
      ],
      "execution_count": null,
      "outputs": [
        {
          "output_type": "execute_result",
          "data": {
            "text/html": [
              "<div>\n",
              "<style scoped>\n",
              "    .dataframe tbody tr th:only-of-type {\n",
              "        vertical-align: middle;\n",
              "    }\n",
              "\n",
              "    .dataframe tbody tr th {\n",
              "        vertical-align: top;\n",
              "    }\n",
              "\n",
              "    .dataframe thead th {\n",
              "        text-align: right;\n",
              "    }\n",
              "</style>\n",
              "<table border=\"1\" class=\"dataframe\">\n",
              "  <thead>\n",
              "    <tr style=\"text-align: right;\">\n",
              "      <th></th>\n",
              "      <th>Value</th>\n",
              "      <th>Feature</th>\n",
              "    </tr>\n",
              "  </thead>\n",
              "  <tbody>\n",
              "    <tr>\n",
              "      <th>0</th>\n",
              "      <td>5738</td>\n",
              "      <td>Team1_Innings_First</td>\n",
              "    </tr>\n",
              "    <tr>\n",
              "      <th>1</th>\n",
              "      <td>3954</td>\n",
              "      <td>MonthOfMatch_Jan</td>\n",
              "    </tr>\n",
              "    <tr>\n",
              "      <th>2</th>\n",
              "      <td>3637</td>\n",
              "      <td>Team1_Venue_Home</td>\n",
              "    </tr>\n",
              "    <tr>\n",
              "      <th>3</th>\n",
              "      <td>2529</td>\n",
              "      <td>Team2_14</td>\n",
              "    </tr>\n",
              "    <tr>\n",
              "      <th>4</th>\n",
              "      <td>2470</td>\n",
              "      <td>Team1_5</td>\n",
              "    </tr>\n",
              "    <tr>\n",
              "      <th>...</th>\n",
              "      <td>...</td>\n",
              "      <td>...</td>\n",
              "    </tr>\n",
              "    <tr>\n",
              "      <th>141</th>\n",
              "      <td>0</td>\n",
              "      <td>Stadium_6</td>\n",
              "    </tr>\n",
              "    <tr>\n",
              "      <th>140</th>\n",
              "      <td>0</td>\n",
              "      <td>Stadium_60</td>\n",
              "    </tr>\n",
              "    <tr>\n",
              "      <th>139</th>\n",
              "      <td>0</td>\n",
              "      <td>Stadium_61</td>\n",
              "    </tr>\n",
              "    <tr>\n",
              "      <th>138</th>\n",
              "      <td>0</td>\n",
              "      <td>Stadium_62</td>\n",
              "    </tr>\n",
              "    <tr>\n",
              "      <th>222</th>\n",
              "      <td>0</td>\n",
              "      <td>HostCountry_7</td>\n",
              "    </tr>\n",
              "  </tbody>\n",
              "</table>\n",
              "<p>223 rows × 2 columns</p>\n",
              "</div>"
            ],
            "text/plain": [
              "     Value              Feature\n",
              "0     5738  Team1_Innings_First\n",
              "1     3954     MonthOfMatch_Jan\n",
              "2     3637     Team1_Venue_Home\n",
              "3     2529             Team2_14\n",
              "4     2470              Team1_5\n",
              "..     ...                  ...\n",
              "141      0            Stadium_6\n",
              "140      0           Stadium_60\n",
              "139      0           Stadium_61\n",
              "138      0           Stadium_62\n",
              "222      0        HostCountry_7\n",
              "\n",
              "[223 rows x 2 columns]"
            ]
          },
          "metadata": {
            "tags": []
          },
          "execution_count": 164
        }
      ]
    },
    {
      "cell_type": "code",
      "metadata": {
        "id": "SdDK3wn0Z8Ig",
        "colab_type": "code",
        "colab": {}
      },
      "source": [
        "Xtest = test_df"
      ],
      "execution_count": null,
      "outputs": []
    },
    {
      "cell_type": "code",
      "metadata": {
        "id": "VEF6nOsjZ_-L",
        "colab_type": "code",
        "colab": {
          "base_uri": "https://localhost:8080/",
          "height": 1000
        },
        "outputId": "1c716e6a-e520-4a1c-dd4b-d0e1fcf40b4d"
      },
      "source": [
        "\n",
        "from sklearn.model_selection import KFold, StratifiedKFold\n",
        "\n",
        "errlgb = []\n",
        "y_pred_totlgb = []\n",
        "\n",
        "fold = StratifiedKFold(n_splits=6, shuffle=True, random_state=123456789)\n",
        "\n",
        "for train_index, test_index in fold.split(X, y):\n",
        "    \n",
        "    X_train, X_test = X.loc[train_index], X.loc[test_index]\n",
        "    y_train, y_test = y[train_index], y[test_index]\n",
        "    \n",
        "    train_data = lgb.Dataset(X_train, label=y_train)\n",
        "    test_data = lgb.Dataset(X_test, label=y_test)\n",
        "    \n",
        "    clf = lgb.train(params=param, \n",
        "                     early_stopping_rounds=200,\n",
        "                     verbose_eval=100,\n",
        "                     train_set=train_data,\n",
        "                     valid_sets=[test_data])\n",
        "\n",
        "    y_pred = clf.predict(X_test)\n",
        "    print(\"Log Loss: \", (log_loss(y_test, y_pred)))\n",
        "    \n",
        "    errlgb.append(log_loss(y_test, y_pred))\n",
        "    p = clf.predict(Xtest)\n",
        "    y_pred_totlgb.append(p)"
      ],
      "execution_count": null,
      "outputs": [
        {
          "output_type": "stream",
          "text": [
            "Training until validation scores don't improve for 200 rounds.\n",
            "[100]\tvalid_0's multi_logloss: 1.26256\n",
            "[200]\tvalid_0's multi_logloss: 0.924229\n",
            "[300]\tvalid_0's multi_logloss: 0.778882\n",
            "[400]\tvalid_0's multi_logloss: 0.710139\n",
            "[500]\tvalid_0's multi_logloss: 0.675303\n",
            "[600]\tvalid_0's multi_logloss: 0.660132\n",
            "[700]\tvalid_0's multi_logloss: 0.657034\n",
            "[800]\tvalid_0's multi_logloss: 0.661963\n",
            "Early stopping, best iteration is:\n",
            "[658]\tvalid_0's multi_logloss: 0.656893\n",
            "Log Loss:  0.6568925298753685\n",
            "Training until validation scores don't improve for 200 rounds.\n",
            "[100]\tvalid_0's multi_logloss: 1.30059\n",
            "[200]\tvalid_0's multi_logloss: 0.976589\n",
            "[300]\tvalid_0's multi_logloss: 0.835429\n",
            "[400]\tvalid_0's multi_logloss: 0.768535\n",
            "[500]\tvalid_0's multi_logloss: 0.736874\n",
            "[600]\tvalid_0's multi_logloss: 0.725199\n",
            "[700]\tvalid_0's multi_logloss: 0.728694\n",
            "[800]\tvalid_0's multi_logloss: 0.739107\n",
            "Early stopping, best iteration is:\n",
            "[617]\tvalid_0's multi_logloss: 0.724531\n",
            "Log Loss:  0.7245307604586604\n",
            "Training until validation scores don't improve for 200 rounds.\n",
            "[100]\tvalid_0's multi_logloss: 1.28388\n",
            "[200]\tvalid_0's multi_logloss: 0.949018\n",
            "[300]\tvalid_0's multi_logloss: 0.807136\n",
            "[400]\tvalid_0's multi_logloss: 0.740325\n",
            "[500]\tvalid_0's multi_logloss: 0.709189\n",
            "[600]\tvalid_0's multi_logloss: 0.697373\n",
            "[700]\tvalid_0's multi_logloss: 0.69971\n",
            "[800]\tvalid_0's multi_logloss: 0.709379\n",
            "Early stopping, best iteration is:\n",
            "[640]\tvalid_0's multi_logloss: 0.696053\n",
            "Log Loss:  0.6960534834144502\n",
            "Training until validation scores don't improve for 200 rounds.\n",
            "[100]\tvalid_0's multi_logloss: 1.26853\n",
            "[200]\tvalid_0's multi_logloss: 0.93266\n",
            "[300]\tvalid_0's multi_logloss: 0.785504\n",
            "[400]\tvalid_0's multi_logloss: 0.714605\n",
            "[500]\tvalid_0's multi_logloss: 0.680363\n",
            "[600]\tvalid_0's multi_logloss: 0.664432\n",
            "[700]\tvalid_0's multi_logloss: 0.659929\n",
            "[800]\tvalid_0's multi_logloss: 0.663519\n",
            "[900]\tvalid_0's multi_logloss: 0.671505\n",
            "Early stopping, best iteration is:\n",
            "[701]\tvalid_0's multi_logloss: 0.65986\n",
            "Log Loss:  0.659859753124748\n",
            "Training until validation scores don't improve for 200 rounds.\n",
            "[100]\tvalid_0's multi_logloss: 1.30576\n",
            "[200]\tvalid_0's multi_logloss: 0.983647\n",
            "[300]\tvalid_0's multi_logloss: 0.846116\n",
            "[400]\tvalid_0's multi_logloss: 0.779028\n",
            "[500]\tvalid_0's multi_logloss: 0.743931\n",
            "[600]\tvalid_0's multi_logloss: 0.725707\n",
            "[700]\tvalid_0's multi_logloss: 0.718847\n",
            "[800]\tvalid_0's multi_logloss: 0.71909\n",
            "[900]\tvalid_0's multi_logloss: 0.723313\n",
            "Early stopping, best iteration is:\n",
            "[774]\tvalid_0's multi_logloss: 0.718507\n",
            "Log Loss:  0.7185072314926957\n",
            "Training until validation scores don't improve for 200 rounds.\n",
            "[100]\tvalid_0's multi_logloss: 1.28878\n",
            "[200]\tvalid_0's multi_logloss: 0.958965\n",
            "[300]\tvalid_0's multi_logloss: 0.818108\n",
            "[400]\tvalid_0's multi_logloss: 0.750864\n",
            "[500]\tvalid_0's multi_logloss: 0.716842\n",
            "[600]\tvalid_0's multi_logloss: 0.702859\n",
            "[700]\tvalid_0's multi_logloss: 0.703215\n",
            "[800]\tvalid_0's multi_logloss: 0.711446\n",
            "Early stopping, best iteration is:\n",
            "[635]\tvalid_0's multi_logloss: 0.701238\n",
            "Log Loss:  0.7012381047606915\n"
          ],
          "name": "stdout"
        }
      ]
    },
    {
      "cell_type": "code",
      "metadata": {
        "id": "k92XdbGRaCsw",
        "colab_type": "code",
        "colab": {
          "base_uri": "https://localhost:8080/",
          "height": 34
        },
        "outputId": "84e89d4d-5483-442d-fd9c-5f58c3c1e774"
      },
      "source": [
        "np.mean(errlgb,0)"
      ],
      "execution_count": null,
      "outputs": [
        {
          "output_type": "execute_result",
          "data": {
            "text/plain": [
              "0.6928469771877691"
            ]
          },
          "metadata": {
            "tags": []
          },
          "execution_count": 167
        }
      ]
    },
    {
      "cell_type": "code",
      "metadata": {
        "id": "7CJMbgevbQtl",
        "colab_type": "code",
        "colab": {}
      },
      "source": [
        "y_pred = np.mean(y_pred_totlgb,0)"
      ],
      "execution_count": null,
      "outputs": []
    },
    {
      "cell_type": "code",
      "metadata": {
        "id": "LWFDdtpybUqj",
        "colab_type": "code",
        "colab": {
          "base_uri": "https://localhost:8080/",
          "height": 197
        },
        "outputId": "f0f0c52d-f43a-47d4-8881-314a349c920c"
      },
      "source": [
        "submission = pd.DataFrame(data=y_pred, columns=sub.columns)\n",
        "submission.head()"
      ],
      "execution_count": null,
      "outputs": [
        {
          "output_type": "execute_result",
          "data": {
            "text/html": [
              "<div>\n",
              "<style scoped>\n",
              "    .dataframe tbody tr th:only-of-type {\n",
              "        vertical-align: middle;\n",
              "    }\n",
              "\n",
              "    .dataframe tbody tr th {\n",
              "        vertical-align: top;\n",
              "    }\n",
              "\n",
              "    .dataframe thead th {\n",
              "        text-align: right;\n",
              "    }\n",
              "</style>\n",
              "<table border=\"1\" class=\"dataframe\">\n",
              "  <thead>\n",
              "    <tr style=\"text-align: right;\">\n",
              "      <th></th>\n",
              "      <th>0</th>\n",
              "      <th>1</th>\n",
              "      <th>2</th>\n",
              "      <th>3</th>\n",
              "      <th>4</th>\n",
              "      <th>5</th>\n",
              "      <th>6</th>\n",
              "      <th>7</th>\n",
              "      <th>8</th>\n",
              "      <th>9</th>\n",
              "      <th>10</th>\n",
              "      <th>11</th>\n",
              "      <th>12</th>\n",
              "      <th>13</th>\n",
              "      <th>14</th>\n",
              "      <th>15</th>\n",
              "    </tr>\n",
              "  </thead>\n",
              "  <tbody>\n",
              "    <tr>\n",
              "      <th>0</th>\n",
              "      <td>0.000591</td>\n",
              "      <td>0.004164</td>\n",
              "      <td>0.502802</td>\n",
              "      <td>0.000217</td>\n",
              "      <td>0.469585</td>\n",
              "      <td>0.003860</td>\n",
              "      <td>0.000414</td>\n",
              "      <td>0.000894</td>\n",
              "      <td>0.000247</td>\n",
              "      <td>0.002820</td>\n",
              "      <td>0.003636</td>\n",
              "      <td>0.000284</td>\n",
              "      <td>0.003074</td>\n",
              "      <td>0.002962</td>\n",
              "      <td>0.002978</td>\n",
              "      <td>0.001471</td>\n",
              "    </tr>\n",
              "    <tr>\n",
              "      <th>1</th>\n",
              "      <td>0.000494</td>\n",
              "      <td>0.679488</td>\n",
              "      <td>0.001360</td>\n",
              "      <td>0.000191</td>\n",
              "      <td>0.003685</td>\n",
              "      <td>0.003253</td>\n",
              "      <td>0.000579</td>\n",
              "      <td>0.000354</td>\n",
              "      <td>0.000289</td>\n",
              "      <td>0.002608</td>\n",
              "      <td>0.003180</td>\n",
              "      <td>0.000258</td>\n",
              "      <td>0.002708</td>\n",
              "      <td>0.002492</td>\n",
              "      <td>0.297898</td>\n",
              "      <td>0.001163</td>\n",
              "    </tr>\n",
              "    <tr>\n",
              "      <th>2</th>\n",
              "      <td>0.001390</td>\n",
              "      <td>0.003125</td>\n",
              "      <td>0.000665</td>\n",
              "      <td>0.000274</td>\n",
              "      <td>0.002681</td>\n",
              "      <td>0.003024</td>\n",
              "      <td>0.000600</td>\n",
              "      <td>0.000323</td>\n",
              "      <td>0.000219</td>\n",
              "      <td>0.231169</td>\n",
              "      <td>0.748559</td>\n",
              "      <td>0.000247</td>\n",
              "      <td>0.002250</td>\n",
              "      <td>0.002178</td>\n",
              "      <td>0.002143</td>\n",
              "      <td>0.001152</td>\n",
              "    </tr>\n",
              "    <tr>\n",
              "      <th>3</th>\n",
              "      <td>0.000580</td>\n",
              "      <td>0.003955</td>\n",
              "      <td>0.000924</td>\n",
              "      <td>0.000212</td>\n",
              "      <td>0.003118</td>\n",
              "      <td>0.003846</td>\n",
              "      <td>0.000495</td>\n",
              "      <td>0.000356</td>\n",
              "      <td>0.000258</td>\n",
              "      <td>0.427108</td>\n",
              "      <td>0.548213</td>\n",
              "      <td>0.000303</td>\n",
              "      <td>0.002803</td>\n",
              "      <td>0.003069</td>\n",
              "      <td>0.003144</td>\n",
              "      <td>0.001616</td>\n",
              "    </tr>\n",
              "    <tr>\n",
              "      <th>4</th>\n",
              "      <td>0.001606</td>\n",
              "      <td>0.006035</td>\n",
              "      <td>0.001439</td>\n",
              "      <td>0.001590</td>\n",
              "      <td>0.004266</td>\n",
              "      <td>0.814036</td>\n",
              "      <td>0.000727</td>\n",
              "      <td>0.000739</td>\n",
              "      <td>0.000445</td>\n",
              "      <td>0.004930</td>\n",
              "      <td>0.008084</td>\n",
              "      <td>0.000632</td>\n",
              "      <td>0.005789</td>\n",
              "      <td>0.006982</td>\n",
              "      <td>0.004956</td>\n",
              "      <td>0.137744</td>\n",
              "    </tr>\n",
              "  </tbody>\n",
              "</table>\n",
              "</div>"
            ],
            "text/plain": [
              "         0         1         2   ...        13        14        15\n",
              "0  0.000591  0.004164  0.502802  ...  0.002962  0.002978  0.001471\n",
              "1  0.000494  0.679488  0.001360  ...  0.002492  0.297898  0.001163\n",
              "2  0.001390  0.003125  0.000665  ...  0.002178  0.002143  0.001152\n",
              "3  0.000580  0.003955  0.000924  ...  0.003069  0.003144  0.001616\n",
              "4  0.001606  0.006035  0.001439  ...  0.006982  0.004956  0.137744\n",
              "\n",
              "[5 rows x 16 columns]"
            ]
          },
          "metadata": {
            "tags": []
          },
          "execution_count": 169
        }
      ]
    },
    {
      "cell_type": "code",
      "metadata": {
        "id": "6zl4pcdRbX4J",
        "colab_type": "code",
        "colab": {}
      },
      "source": [
        "submission.to_excel('blue.xlsx', index=False)"
      ],
      "execution_count": null,
      "outputs": []
    },
    {
      "cell_type": "code",
      "metadata": {
        "id": "Kem41I72bnS1",
        "colab_type": "code",
        "colab": {}
      },
      "source": [
        "from google.colab import files\n",
        "files.download('blue.xlsx')"
      ],
      "execution_count": null,
      "outputs": []
    },
    {
      "cell_type": "code",
      "metadata": {
        "id": "PTaTW8GBbzmo",
        "colab_type": "code",
        "colab": {}
      },
      "source": [
        ""
      ],
      "execution_count": null,
      "outputs": []
    },
    {
      "cell_type": "markdown",
      "metadata": {
        "id": "z-T5SIVAehwn",
        "colab_type": "text"
      },
      "source": [
        "# r1"
      ]
    },
    {
      "cell_type": "code",
      "metadata": {
        "id": "MB1TSFYHfTtK",
        "colab_type": "code",
        "colab": {}
      },
      "source": [
        "import pandas as pd\n",
        "from sklearn.model_selection import train_test_split\n",
        "import lightgbm as lgb\n",
        "from lightgbm import LGBMClassifier\n",
        "from sklearn.metrics import log_loss\n",
        "from tqdm import tqdm_notebook\n",
        "from sklearn.utils import shuffle"
      ],
      "execution_count": null,
      "outputs": []
    },
    {
      "cell_type": "code",
      "metadata": {
        "id": "NYbZwb7KekRZ",
        "colab_type": "code",
        "colab": {}
      },
      "source": [
        "TARGET_COL ='MatchWinner'\n",
        "train, test = df.iloc[:train.shape[0]], df.iloc[train.shape[0]:]\n",
        "test.reset_index(drop=True, inplace=True)\n",
        "target = train[TARGET_COL]\n",
        "features = [c for c in train.columns if c not in [TARGET_COL]]"
      ],
      "execution_count": null,
      "outputs": []
    },
    {
      "cell_type": "code",
      "metadata": {
        "id": "cJKlLYYRekXf",
        "colab_type": "code",
        "colab": {}
      },
      "source": [
        "X_trn, X_val, y_trn, y_val = train_test_split(train[features], target, test_size=0.20, stratify=target, random_state=42)\n",
        "X_test = test[features]"
      ],
      "execution_count": null,
      "outputs": []
    },
    {
      "cell_type": "code",
      "metadata": {
        "id": "6HJlN2y2ekP1",
        "colab_type": "code",
        "colab": {
          "base_uri": "https://localhost:8080/",
          "height": 187
        },
        "outputId": "5295d43c-c1de-4663-c6e5-2290e7fb7dd8"
      },
      "source": [
        "clf = LGBMClassifier(learning_rate=0.01, n_estimators=1000,num_leaves=69)\n",
        "_ = clf.fit(X_trn, y_trn, eval_set=[(X_trn, y_trn), (X_val, y_val)], verbose=100, early_stopping_rounds=100)\n",
        "predictions_val_lgb = clf.predict_proba(X_val)\n",
        "print(f\"Log loss for Model 1 is: {log_loss(y_val, predictions_val_lgb)}\")"
      ],
      "execution_count": null,
      "outputs": [
        {
          "output_type": "stream",
          "text": [
            "Training until validation scores don't improve for 100 rounds.\n",
            "[100]\ttraining's multi_logloss: 1.19643\tvalid_1's multi_logloss: 1.26034\n",
            "[200]\ttraining's multi_logloss: 0.850449\tvalid_1's multi_logloss: 0.940778\n",
            "[300]\ttraining's multi_logloss: 0.690496\tvalid_1's multi_logloss: 0.804371\n",
            "[400]\ttraining's multi_logloss: 0.59963\tvalid_1's multi_logloss: 0.737546\n",
            "[500]\ttraining's multi_logloss: 0.536079\tvalid_1's multi_logloss: 0.710706\n",
            "[600]\ttraining's multi_logloss: 0.485023\tvalid_1's multi_logloss: 0.710627\n",
            "Early stopping, best iteration is:\n",
            "[542]\ttraining's multi_logloss: 0.514983\tvalid_1's multi_logloss: 0.707194\n",
            "Log loss for Model 1 is: 0.7071939725010623\n"
          ],
          "name": "stdout"
        }
      ]
    },
    {
      "cell_type": "code",
      "metadata": {
        "id": "wFLZwgpZfANJ",
        "colab_type": "code",
        "colab": {
          "base_uri": "https://localhost:8080/",
          "height": 281
        },
        "outputId": "7ee97c14-70de-44cd-8136-43b55430bd68"
      },
      "source": [
        "fi = pd.Series(index=features, data = clf.feature_importances_)\n",
        "fi.sort_values(ascending=False)[:20][::-1].plot.barh()"
      ],
      "execution_count": null,
      "outputs": [
        {
          "output_type": "execute_result",
          "data": {
            "text/plain": [
              "<matplotlib.axes._subplots.AxesSubplot at 0x7f5a82e8cd30>"
            ]
          },
          "metadata": {
            "tags": []
          },
          "execution_count": 176
        },
        {
          "output_type": "display_data",
          "data": {
            "image/png": "[encoded data removed]",
            "text/plain": [
              "<Figure size 432x288 with 1 Axes>"
            ]
          },
          "metadata": {
            "tags": [],
            "needs_background": "light"
          }
        }
      ]
    },
    {
      "cell_type": "code",
      "metadata": {
        "id": "_fpfJjGufcIk",
        "colab_type": "code",
        "colab": {}
      },
      "source": [
        "predictions_test_lgb = clf.predict_proba(X_test)"
      ],
      "execution_count": null,
      "outputs": []
    },
    {
      "cell_type": "code",
      "metadata": {
        "id": "FkBb1WGpftCh",
        "colab_type": "code",
        "colab": {
          "base_uri": "https://localhost:8080/",
          "height": 197
        },
        "outputId": "9c0a8193-12bb-4ec8-f980-e148d4984400"
      },
      "source": [
        "submission = pd.DataFrame(data=predictions_test_lgb, columns=sub.columns)\n",
        "submission.head()"
      ],
      "execution_count": null,
      "outputs": [
        {
          "output_type": "execute_result",
          "data": {
            "text/html": [
              "<div>\n",
              "<style scoped>\n",
              "    .dataframe tbody tr th:only-of-type {\n",
              "        vertical-align: middle;\n",
              "    }\n",
              "\n",
              "    .dataframe tbody tr th {\n",
              "        vertical-align: top;\n",
              "    }\n",
              "\n",
              "    .dataframe thead th {\n",
              "        text-align: right;\n",
              "    }\n",
              "</style>\n",
              "<table border=\"1\" class=\"dataframe\">\n",
              "  <thead>\n",
              "    <tr style=\"text-align: right;\">\n",
              "      <th></th>\n",
              "      <th>0</th>\n",
              "      <th>1</th>\n",
              "      <th>2</th>\n",
              "      <th>3</th>\n",
              "      <th>4</th>\n",
              "      <th>5</th>\n",
              "      <th>6</th>\n",
              "      <th>7</th>\n",
              "      <th>8</th>\n",
              "      <th>9</th>\n",
              "      <th>10</th>\n",
              "      <th>11</th>\n",
              "      <th>12</th>\n",
              "      <th>13</th>\n",
              "      <th>14</th>\n",
              "      <th>15</th>\n",
              "    </tr>\n",
              "  </thead>\n",
              "  <tbody>\n",
              "    <tr>\n",
              "      <th>0</th>\n",
              "      <td>0.000559</td>\n",
              "      <td>0.007173</td>\n",
              "      <td>0.423323</td>\n",
              "      <td>0.000164</td>\n",
              "      <td>0.533500</td>\n",
              "      <td>0.006199</td>\n",
              "      <td>0.000666</td>\n",
              "      <td>0.000626</td>\n",
              "      <td>0.000329</td>\n",
              "      <td>0.004511</td>\n",
              "      <td>0.006154</td>\n",
              "      <td>0.000375</td>\n",
              "      <td>0.004418</td>\n",
              "      <td>0.004910</td>\n",
              "      <td>0.005213</td>\n",
              "      <td>0.001880</td>\n",
              "    </tr>\n",
              "    <tr>\n",
              "      <th>1</th>\n",
              "      <td>0.000303</td>\n",
              "      <td>0.707658</td>\n",
              "      <td>0.000800</td>\n",
              "      <td>0.000082</td>\n",
              "      <td>0.002464</td>\n",
              "      <td>0.003197</td>\n",
              "      <td>0.000645</td>\n",
              "      <td>0.000263</td>\n",
              "      <td>0.000166</td>\n",
              "      <td>0.002302</td>\n",
              "      <td>0.003240</td>\n",
              "      <td>0.000193</td>\n",
              "      <td>0.003918</td>\n",
              "      <td>0.002537</td>\n",
              "      <td>0.271067</td>\n",
              "      <td>0.001165</td>\n",
              "    </tr>\n",
              "    <tr>\n",
              "      <th>2</th>\n",
              "      <td>0.003521</td>\n",
              "      <td>0.004140</td>\n",
              "      <td>0.000839</td>\n",
              "      <td>0.000249</td>\n",
              "      <td>0.002718</td>\n",
              "      <td>0.003533</td>\n",
              "      <td>0.001091</td>\n",
              "      <td>0.000288</td>\n",
              "      <td>0.000194</td>\n",
              "      <td>0.270607</td>\n",
              "      <td>0.702815</td>\n",
              "      <td>0.000332</td>\n",
              "      <td>0.002798</td>\n",
              "      <td>0.002850</td>\n",
              "      <td>0.002972</td>\n",
              "      <td>0.001053</td>\n",
              "    </tr>\n",
              "    <tr>\n",
              "      <th>3</th>\n",
              "      <td>0.000446</td>\n",
              "      <td>0.005119</td>\n",
              "      <td>0.001040</td>\n",
              "      <td>0.000125</td>\n",
              "      <td>0.002604</td>\n",
              "      <td>0.004386</td>\n",
              "      <td>0.000489</td>\n",
              "      <td>0.000305</td>\n",
              "      <td>0.000575</td>\n",
              "      <td>0.420326</td>\n",
              "      <td>0.551443</td>\n",
              "      <td>0.000265</td>\n",
              "      <td>0.003477</td>\n",
              "      <td>0.003570</td>\n",
              "      <td>0.003685</td>\n",
              "      <td>0.002144</td>\n",
              "    </tr>\n",
              "    <tr>\n",
              "      <th>4</th>\n",
              "      <td>0.000711</td>\n",
              "      <td>0.005565</td>\n",
              "      <td>0.001139</td>\n",
              "      <td>0.000840</td>\n",
              "      <td>0.003670</td>\n",
              "      <td>0.913591</td>\n",
              "      <td>0.000527</td>\n",
              "      <td>0.000371</td>\n",
              "      <td>0.000249</td>\n",
              "      <td>0.003465</td>\n",
              "      <td>0.004768</td>\n",
              "      <td>0.000294</td>\n",
              "      <td>0.003788</td>\n",
              "      <td>0.003820</td>\n",
              "      <td>0.004154</td>\n",
              "      <td>0.053047</td>\n",
              "    </tr>\n",
              "  </tbody>\n",
              "</table>\n",
              "</div>"
            ],
            "text/plain": [
              "         0         1         2   ...        13        14        15\n",
              "0  0.000559  0.007173  0.423323  ...  0.004910  0.005213  0.001880\n",
              "1  0.000303  0.707658  0.000800  ...  0.002537  0.271067  0.001165\n",
              "2  0.003521  0.004140  0.000839  ...  0.002850  0.002972  0.001053\n",
              "3  0.000446  0.005119  0.001040  ...  0.003570  0.003685  0.002144\n",
              "4  0.000711  0.005565  0.001139  ...  0.003820  0.004154  0.053047\n",
              "\n",
              "[5 rows x 16 columns]"
            ]
          },
          "metadata": {
            "tags": []
          },
          "execution_count": 178
        }
      ]
    },
    {
      "cell_type": "code",
      "metadata": {
        "id": "wnxlULVWfyv1",
        "colab_type": "code",
        "colab": {}
      },
      "source": [
        ""
      ],
      "execution_count": null,
      "outputs": []
    },
    {
      "cell_type": "markdown",
      "metadata": {
        "id": "MU5LXSOIk_zB",
        "colab_type": "text"
      },
      "source": [
        "#edf"
      ]
    },
    {
      "cell_type": "code",
      "metadata": {
        "id": "IY4CUHZUlA13",
        "colab_type": "code",
        "colab": {}
      },
      "source": [
        "\n",
        "import pandas as pd\n",
        "import numpy as np\n",
        "import warnings\n",
        "warnings.filterwarnings('ignore')\n",
        "from xgboost import XGBClassifier\n",
        "from sklearn.metrics import log_loss\n",
        "from sklearn.model_selection import StratifiedKFold\n",
        "from sklearn.model_selection import train_test_split"
      ],
      "execution_count": null,
      "outputs": []
    },
    {
      "cell_type": "code",
      "metadata": {
        "id": "p7sm6j6OkQgp",
        "colab_type": "code",
        "colab": {}
      },
      "source": [
        "X = train_df.drop(labels=['MatchWinner'], axis=1)\n",
        "y = train_df['MatchWinner'].values\n",
        "\n",
        "X_train, X_cv, y_train, y_cv = train_test_split(X, y, test_size=0.25, random_state=2**15, stratify=y)"
      ],
      "execution_count": null,
      "outputs": []
    },
    {
      "cell_type": "code",
      "metadata": {
        "id": "UsVVMv2qz9SW",
        "colab_type": "code",
        "colab": {
          "base_uri": "https://localhost:8080/",
          "height": 34
        },
        "outputId": "2c187949-2b50-47bf-b3c8-9d75c7010ea8"
      },
      "source": [
        "xgb = XGBClassifier(random_state=42)\n",
        "xgb.fit(X_train, y_train)\n",
        "y_pred = xgb.predict_proba(X_cv)\n",
        "\n",
        "log_loss(y_cv, y_pred)"
      ],
      "execution_count": null,
      "outputs": [
        {
          "output_type": "execute_result",
          "data": {
            "text/plain": [
              "0.6443465474689977"
            ]
          },
          "metadata": {
            "tags": []
          },
          "execution_count": 201
        }
      ]
    },
    {
      "cell_type": "code",
      "metadata": {
        "id": "6JtrqzbXkTF7",
        "colab_type": "code",
        "colab": {
          "base_uri": "https://localhost:8080/",
          "height": 487
        },
        "outputId": "03d03c97-7e9e-4dff-a8df-886200b66b16"
      },
      "source": [
        "err = []\n",
        "y_pred_tot = []\n",
        "\n",
        "fold = StratifiedKFold(n_splits=16, shuffle=True, random_state=101)\n",
        "\n",
        "for train_index, test_index in fold.split(X, y):\n",
        "    \n",
        "    X_train, X_test = X.loc[train_index], X.loc[test_index]\n",
        "    y_train, y_test = y[train_index], y[test_index]\n",
        "\n",
        "    xgb = XGBClassifier(n_estimators=90,random_state=42)\n",
        "    xgb.fit(X_train, y_train)\n",
        "    y_pred = xgb.predict_proba(X_test)\n",
        "    \n",
        "    print(\"Log Loss:\", log_loss(y_test, y_pred))\n",
        "\n",
        "    err.append(log_loss(y_test, y_pred))\n",
        "    p = xgb.predict_proba(Xtest)\n",
        "    y_pred_tot.append(p)"
      ],
      "execution_count": null,
      "outputs": [
        {
          "output_type": "stream",
          "text": [
            "Log Loss: 0.6560304456740428\n",
            "Log Loss: 0.6491959188014839\n",
            "Log Loss: 0.6557500628861272\n",
            "Log Loss: 0.7346485184303894\n",
            "Log Loss: 0.6817730611225792\n",
            "Log Loss: 0.7064105832273033\n",
            "Log Loss: 0.6335567490784986\n",
            "Log Loss: 0.6859896200809888\n"
          ],
          "name": "stdout"
        },
        {
          "output_type": "error",
          "ename": "ValueError",
          "evalue": "ignored",
          "traceback": [
            "\u001b[0;31m---------------------------------------------------------------------------\u001b[0m",
            "\u001b[0;31mValueError\u001b[0m                                Traceback (most recent call last)",
            "\u001b[0;32m<ipython-input-202-19d7067504eb>\u001b[0m in \u001b[0;36m<module>\u001b[0;34m()\u001b[0m\n\u001b[1;32m     13\u001b[0m     \u001b[0my_pred\u001b[0m \u001b[0;34m=\u001b[0m \u001b[0mxgb\u001b[0m\u001b[0;34m.\u001b[0m\u001b[0mpredict_proba\u001b[0m\u001b[0;34m(\u001b[0m\u001b[0mX_test\u001b[0m\u001b[0;34m)\u001b[0m\u001b[0;34m\u001b[0m\u001b[0;34m\u001b[0m\u001b[0m\n\u001b[1;32m     14\u001b[0m \u001b[0;34m\u001b[0m\u001b[0m\n\u001b[0;32m---> 15\u001b[0;31m     \u001b[0mprint\u001b[0m\u001b[0;34m(\u001b[0m\u001b[0;34m\"Log Loss:\"\u001b[0m\u001b[0;34m,\u001b[0m \u001b[0mlog_loss\u001b[0m\u001b[0;34m(\u001b[0m\u001b[0my_test\u001b[0m\u001b[0;34m,\u001b[0m \u001b[0my_pred\u001b[0m\u001b[0;34m)\u001b[0m\u001b[0;34m)\u001b[0m\u001b[0;34m\u001b[0m\u001b[0;34m\u001b[0m\u001b[0m\n\u001b[0m\u001b[1;32m     16\u001b[0m \u001b[0;34m\u001b[0m\u001b[0m\n\u001b[1;32m     17\u001b[0m     \u001b[0merr\u001b[0m\u001b[0;34m.\u001b[0m\u001b[0mappend\u001b[0m\u001b[0;34m(\u001b[0m\u001b[0mlog_loss\u001b[0m\u001b[0;34m(\u001b[0m\u001b[0my_test\u001b[0m\u001b[0;34m,\u001b[0m \u001b[0my_pred\u001b[0m\u001b[0;34m)\u001b[0m\u001b[0;34m)\u001b[0m\u001b[0;34m\u001b[0m\u001b[0;34m\u001b[0m\u001b[0m\n",
            "\u001b[0;32m/usr/local/lib/python3.6/dist-packages/sklearn/metrics/_classification.py\u001b[0m in \u001b[0;36mlog_loss\u001b[0;34m(y_true, y_pred, eps, normalize, sample_weight, labels)\u001b[0m\n\u001b[1;32m   2285\u001b[0m                              \"y_true: {2}\".format(transformed_labels.shape[1],\n\u001b[1;32m   2286\u001b[0m                                                   \u001b[0my_pred\u001b[0m\u001b[0;34m.\u001b[0m\u001b[0mshape\u001b[0m\u001b[0;34m[\u001b[0m\u001b[0;36m1\u001b[0m\u001b[0;34m]\u001b[0m\u001b[0;34m,\u001b[0m\u001b[0;34m\u001b[0m\u001b[0;34m\u001b[0m\u001b[0m\n\u001b[0;32m-> 2287\u001b[0;31m                                                   lb.classes_))\n\u001b[0m\u001b[1;32m   2288\u001b[0m         \u001b[0;32melse\u001b[0m\u001b[0;34m:\u001b[0m\u001b[0;34m\u001b[0m\u001b[0;34m\u001b[0m\u001b[0m\n\u001b[1;32m   2289\u001b[0m             raise ValueError('The number of classes in labels is different '\n",
            "\u001b[0;31mValueError\u001b[0m: y_true and y_pred contain different number of classes 15, 16. Please provide the true labels explicitly through the labels argument. Classes found in y_true: [ 0.  1.  2.  4.  5.  6.  7.  8.  9. 10. 11. 12. 13. 14. 15.]"
          ]
        }
      ]
    },
    {
      "cell_type": "code",
      "metadata": {
        "id": "pNwIgx-ZlIb2",
        "colab_type": "code",
        "colab": {
          "base_uri": "https://localhost:8080/",
          "height": 34
        },
        "outputId": "d3da1264-a035-47c7-9f79-19ed224abd7f"
      },
      "source": [
        "np.mean(err, 0)"
      ],
      "execution_count": null,
      "outputs": [
        {
          "output_type": "execute_result",
          "data": {
            "text/plain": [
              "0.6754193699126767"
            ]
          },
          "metadata": {
            "tags": []
          },
          "execution_count": 203
        }
      ]
    },
    {
      "cell_type": "code",
      "metadata": {
        "id": "0Zw3w-CllTI0",
        "colab_type": "code",
        "colab": {}
      },
      "source": [
        "y_pred = np.mean(y_pred_tot, 0)"
      ],
      "execution_count": null,
      "outputs": []
    },
    {
      "cell_type": "code",
      "metadata": {
        "id": "SNXyUhSZlWBM",
        "colab_type": "code",
        "colab": {
          "base_uri": "https://localhost:8080/",
          "height": 167
        },
        "outputId": "5c1c2975-c259-4030-b8ce-b43469a06c08"
      },
      "source": [
        "\n",
        "sub = pd.DataFrame(y_pred)\n",
        "sub.head(4)"
      ],
      "execution_count": null,
      "outputs": [
        {
          "output_type": "execute_result",
          "data": {
            "text/html": [
              "<div>\n",
              "<style scoped>\n",
              "    .dataframe tbody tr th:only-of-type {\n",
              "        vertical-align: middle;\n",
              "    }\n",
              "\n",
              "    .dataframe tbody tr th {\n",
              "        vertical-align: top;\n",
              "    }\n",
              "\n",
              "    .dataframe thead th {\n",
              "        text-align: right;\n",
              "    }\n",
              "</style>\n",
              "<table border=\"1\" class=\"dataframe\">\n",
              "  <thead>\n",
              "    <tr style=\"text-align: right;\">\n",
              "      <th></th>\n",
              "      <th>0</th>\n",
              "      <th>1</th>\n",
              "      <th>2</th>\n",
              "      <th>3</th>\n",
              "      <th>4</th>\n",
              "      <th>5</th>\n",
              "      <th>6</th>\n",
              "      <th>7</th>\n",
              "      <th>8</th>\n",
              "      <th>9</th>\n",
              "      <th>10</th>\n",
              "      <th>11</th>\n",
              "      <th>12</th>\n",
              "      <th>13</th>\n",
              "      <th>14</th>\n",
              "      <th>15</th>\n",
              "    </tr>\n",
              "  </thead>\n",
              "  <tbody>\n",
              "    <tr>\n",
              "      <th>0</th>\n",
              "      <td>0.000595</td>\n",
              "      <td>0.002909</td>\n",
              "      <td>0.540846</td>\n",
              "      <td>0.000437</td>\n",
              "      <td>0.429525</td>\n",
              "      <td>0.003942</td>\n",
              "      <td>0.000599</td>\n",
              "      <td>0.000938</td>\n",
              "      <td>0.000444</td>\n",
              "      <td>0.005051</td>\n",
              "      <td>0.003794</td>\n",
              "      <td>0.000520</td>\n",
              "      <td>0.003201</td>\n",
              "      <td>0.002285</td>\n",
              "      <td>0.003052</td>\n",
              "      <td>0.001864</td>\n",
              "    </tr>\n",
              "    <tr>\n",
              "      <th>1</th>\n",
              "      <td>0.000377</td>\n",
              "      <td>0.688066</td>\n",
              "      <td>0.000806</td>\n",
              "      <td>0.000271</td>\n",
              "      <td>0.001944</td>\n",
              "      <td>0.001825</td>\n",
              "      <td>0.000390</td>\n",
              "      <td>0.000465</td>\n",
              "      <td>0.000379</td>\n",
              "      <td>0.001960</td>\n",
              "      <td>0.002072</td>\n",
              "      <td>0.000323</td>\n",
              "      <td>0.001200</td>\n",
              "      <td>0.001458</td>\n",
              "      <td>0.297634</td>\n",
              "      <td>0.000828</td>\n",
              "    </tr>\n",
              "    <tr>\n",
              "      <th>2</th>\n",
              "      <td>0.001342</td>\n",
              "      <td>0.002244</td>\n",
              "      <td>0.000968</td>\n",
              "      <td>0.000661</td>\n",
              "      <td>0.002315</td>\n",
              "      <td>0.002888</td>\n",
              "      <td>0.000636</td>\n",
              "      <td>0.000582</td>\n",
              "      <td>0.000361</td>\n",
              "      <td>0.305818</td>\n",
              "      <td>0.673822</td>\n",
              "      <td>0.000424</td>\n",
              "      <td>0.002318</td>\n",
              "      <td>0.001607</td>\n",
              "      <td>0.002324</td>\n",
              "      <td>0.001690</td>\n",
              "    </tr>\n",
              "    <tr>\n",
              "      <th>3</th>\n",
              "      <td>0.000941</td>\n",
              "      <td>0.002096</td>\n",
              "      <td>0.000885</td>\n",
              "      <td>0.000323</td>\n",
              "      <td>0.002086</td>\n",
              "      <td>0.002610</td>\n",
              "      <td>0.000473</td>\n",
              "      <td>0.000532</td>\n",
              "      <td>0.000328</td>\n",
              "      <td>0.469602</td>\n",
              "      <td>0.512214</td>\n",
              "      <td>0.000383</td>\n",
              "      <td>0.001981</td>\n",
              "      <td>0.001829</td>\n",
              "      <td>0.002257</td>\n",
              "      <td>0.001459</td>\n",
              "    </tr>\n",
              "  </tbody>\n",
              "</table>\n",
              "</div>"
            ],
            "text/plain": [
              "         0         1         2   ...        13        14        15\n",
              "0  0.000595  0.002909  0.540846  ...  0.002285  0.003052  0.001864\n",
              "1  0.000377  0.688066  0.000806  ...  0.001458  0.297634  0.000828\n",
              "2  0.001342  0.002244  0.000968  ...  0.001607  0.002324  0.001690\n",
              "3  0.000941  0.002096  0.000885  ...  0.001829  0.002257  0.001459\n",
              "\n",
              "[4 rows x 16 columns]"
            ]
          },
          "metadata": {
            "tags": []
          },
          "execution_count": 205
        }
      ]
    },
    {
      "cell_type": "code",
      "metadata": {
        "id": "v_rIov4NlZ9o",
        "colab_type": "code",
        "colab": {}
      },
      "source": [
        "sub.to_excel('che.xlsx', index=False)"
      ],
      "execution_count": null,
      "outputs": []
    },
    {
      "cell_type": "code",
      "metadata": {
        "id": "6EwePeUHlc0F",
        "colab_type": "code",
        "colab": {}
      },
      "source": [
        "from google.colab import files\n",
        "files.download('che.xlsx')"
      ],
      "execution_count": null,
      "outputs": []
    },
    {
      "cell_type": "code",
      "metadata": {
        "id": "l0d6rSJlFad_",
        "colab_type": "code",
        "colab": {}
      },
      "source": [
        ""
      ],
      "execution_count": null,
      "outputs": []
    },
    {
      "cell_type": "code",
      "metadata": {
        "id": "V9Py0Ol6vTP-",
        "colab_type": "code",
        "colab": {}
      },
      "source": [
        "from sklearn.linear_model import LogisticRegression"
      ],
      "execution_count": null,
      "outputs": []
    },
    {
      "cell_type": "code",
      "metadata": {
        "id": "jgQGs2t13wM0",
        "colab_type": "code",
        "colab": {}
      },
      "source": [
        "from sklearn.ensemble import RandomForestClassifier"
      ],
      "execution_count": null,
      "outputs": []
    },
    {
      "cell_type": "code",
      "metadata": {
        "colab_type": "code",
        "id": "Vj5GsbJkv6Fu",
        "colab": {}
      },
      "source": [
        "X = train_df.drop(labels=['MatchWinner'], axis=1)\n",
        "y = train_df['MatchWinner'].values\n",
        "\n",
        "X_train, X_cv, y_train, y_cv = train_test_split(X, y, test_size=0.25, random_state=2**15, stratify=y)"
      ],
      "execution_count": null,
      "outputs": []
    },
    {
      "cell_type": "code",
      "metadata": {
        "id": "FdKXZMa5zPD8",
        "colab_type": "code",
        "colab": {
          "base_uri": "https://localhost:8080/",
          "height": 34
        },
        "outputId": "58aa7602-1cd0-4d94-c87b-4854f0815353"
      },
      "source": [
        "lgbb = LogisticRegression(C=1.0,random_state=2**15)\n",
        "lgbb.fit(X_train, y_train)\n",
        "y_pred = lgbb.predict_proba(X_cv)\n",
        "\n",
        "log_loss(y_cv, y_pred)"
      ],
      "execution_count": null,
      "outputs": [
        {
          "output_type": "execute_result",
          "data": {
            "text/plain": [
              "0.6912592018957419"
            ]
          },
          "metadata": {
            "tags": []
          },
          "execution_count": 107
        }
      ]
    },
    {
      "cell_type": "code",
      "metadata": {
        "id": "edsqPmlLxcIg",
        "colab_type": "code",
        "colab": {
          "base_uri": "https://localhost:8080/",
          "height": 153
        },
        "outputId": "bbf0759f-2e89-4084-ac99-a69ce5dbb34e"
      },
      "source": [
        "err = []\n",
        "y_pred_total = []\n",
        "\n",
        "fold = StratifiedKFold(n_splits=8, shuffle=True, random_state=101)\n",
        "\n",
        "for train_index, test_index in fold.split(X, y):\n",
        "    \n",
        "    X_train, X_test = X.loc[train_index], X.loc[test_index]\n",
        "    y_train, y_test = y[train_index], y[test_index]\n",
        "\n",
        "    lgbb = LogisticRegression(penalty='l2', dual=False, tol=0.1, C=1.0, fit_intercept=True, intercept_scaling=1, random_state=2**15, solver='newton-cg', max_iter=1000, multi_class='ovr')\n",
        "    lgbb.fit(X_train, y_train)\n",
        "    y_pred = lgbb.predict_proba(X_test)\n",
        "    \n",
        "    print(\"Log Loss:\", log_loss(y_test, y_pred))\n",
        "\n",
        "    err.append(log_loss(y_test, y_pred))\n",
        "    p = lgbb.predict_proba(Xtest)\n",
        "    y_pred_total.append(p)"
      ],
      "execution_count": null,
      "outputs": [
        {
          "output_type": "stream",
          "text": [
            "Log Loss: 0.9511038942314467\n",
            "Log Loss: 1.394300294988533\n",
            "Log Loss: 1.1157009933082416\n",
            "Log Loss: 1.0245783934284338\n",
            "Log Loss: 0.9947676940934813\n",
            "Log Loss: 1.1198368607284346\n",
            "Log Loss: 1.439605425575139\n",
            "Log Loss: 1.3036053968264374\n"
          ],
          "name": "stdout"
        }
      ]
    },
    {
      "cell_type": "code",
      "metadata": {
        "id": "dvadU14e9MhP",
        "colab_type": "code",
        "colab": {}
      },
      "source": [
        "target='MatchWinner'"
      ],
      "execution_count": null,
      "outputs": []
    },
    {
      "cell_type": "code",
      "metadata": {
        "id": "9qDGNcvU8h_z",
        "colab_type": "code",
        "colab": {
          "base_uri": "https://localhost:8080/",
          "height": 391
        },
        "outputId": "fc3e690c-0f8c-4e33-c784-aec8c94090ca"
      },
      "source": [
        "# import lightgbm as lgb\n",
        "from sklearn.model_selection import StratifiedKFold\n",
        "from sklearn.ensemble import RandomForestClassifier\n",
        "from sklearn.linear_model import LogisticRegressionCV\n",
        "from sklearn.ensemble import GradientBoostingClassifier\n",
        "preds = []\n",
        "\n",
        "valid_score_list = []\n",
        "cv = StratifiedKFold(n_splits=8, shuffle=True, random_state=12121212) \n",
        "for i, (train_ind, test_ind) in enumerate(cv.split(train, train[target])):\n",
        "    data_train = train.iloc[train_ind].reset_index(drop=True)\n",
        "    data_valid = train.iloc[test_ind].reset_index(drop=True)\n",
        "    \n",
        "    clf = GradientBoostingClassifier(#n_jobs=-1,\n",
        "                                     learning_rate=0.2,\n",
        "                                     n_estimators=10)\n",
        "                                     #class_weight='balanced')\n",
        "    X_train = data_train.drop([target], axis=1)\n",
        "    X_valid = data_valid.drop([target], axis=1)\n",
        "    X_test = test.copy()\n",
        "\n",
        "    clf.fit(X_train, data_train[target])\n",
        "    \n",
        "    valid_prediction = clf.predict_proba(X_valid)\n",
        "    valid_score = log_loss(data_valid[target], valid_prediction)\n",
        "    valid_score_list.append(valid_score)\n",
        "    print(\"FOLD:{} Score:{:0.2f}\".format(i+1, valid_score))\n",
        "    \n",
        "    preds.append(clf.predict_proba(X_test))\n",
        "    \n",
        "print(\"CV score is {}\".format(np.mean(valid_score_list)))"
      ],
      "execution_count": null,
      "outputs": [
        {
          "output_type": "stream",
          "text": [
            "FOLD:1 Score:0.81\n"
          ],
          "name": "stdout"
        },
        {
          "output_type": "error",
          "ename": "KeyboardInterrupt",
          "evalue": "ignored",
          "traceback": [
            "\u001b[0;31m---------------------------------------------------------------------------\u001b[0m",
            "\u001b[0;31mKeyboardInterrupt\u001b[0m                         Traceback (most recent call last)",
            "\u001b[0;32m<ipython-input-173-d9fa68213663>\u001b[0m in \u001b[0;36m<module>\u001b[0;34m()\u001b[0m\n\u001b[1;32m     20\u001b[0m     \u001b[0mX_test\u001b[0m \u001b[0;34m=\u001b[0m \u001b[0mtest\u001b[0m\u001b[0;34m.\u001b[0m\u001b[0mcopy\u001b[0m\u001b[0;34m(\u001b[0m\u001b[0;34m)\u001b[0m\u001b[0;34m\u001b[0m\u001b[0;34m\u001b[0m\u001b[0m\n\u001b[1;32m     21\u001b[0m \u001b[0;34m\u001b[0m\u001b[0m\n\u001b[0;32m---> 22\u001b[0;31m     \u001b[0mclf\u001b[0m\u001b[0;34m.\u001b[0m\u001b[0mfit\u001b[0m\u001b[0;34m(\u001b[0m\u001b[0mX_train\u001b[0m\u001b[0;34m,\u001b[0m \u001b[0mdata_train\u001b[0m\u001b[0;34m[\u001b[0m\u001b[0mtarget\u001b[0m\u001b[0;34m]\u001b[0m\u001b[0;34m)\u001b[0m\u001b[0;34m\u001b[0m\u001b[0;34m\u001b[0m\u001b[0m\n\u001b[0m\u001b[1;32m     23\u001b[0m \u001b[0;34m\u001b[0m\u001b[0m\n\u001b[1;32m     24\u001b[0m     \u001b[0mvalid_prediction\u001b[0m \u001b[0;34m=\u001b[0m \u001b[0mclf\u001b[0m\u001b[0;34m.\u001b[0m\u001b[0mpredict_proba\u001b[0m\u001b[0;34m(\u001b[0m\u001b[0mX_valid\u001b[0m\u001b[0;34m)\u001b[0m\u001b[0;34m\u001b[0m\u001b[0;34m\u001b[0m\u001b[0m\n",
            "\u001b[0;32m/usr/local/lib/python3.6/dist-packages/sklearn/ensemble/_gb.py\u001b[0m in \u001b[0;36mfit\u001b[0;34m(self, X, y, sample_weight, monitor)\u001b[0m\n\u001b[1;32m   1535\u001b[0m         n_stages = self._fit_stages(\n\u001b[1;32m   1536\u001b[0m             \u001b[0mX\u001b[0m\u001b[0;34m,\u001b[0m \u001b[0my\u001b[0m\u001b[0;34m,\u001b[0m \u001b[0mraw_predictions\u001b[0m\u001b[0;34m,\u001b[0m \u001b[0msample_weight\u001b[0m\u001b[0;34m,\u001b[0m \u001b[0mself\u001b[0m\u001b[0;34m.\u001b[0m\u001b[0m_rng\u001b[0m\u001b[0;34m,\u001b[0m \u001b[0mX_val\u001b[0m\u001b[0;34m,\u001b[0m \u001b[0my_val\u001b[0m\u001b[0;34m,\u001b[0m\u001b[0;34m\u001b[0m\u001b[0;34m\u001b[0m\u001b[0m\n\u001b[0;32m-> 1537\u001b[0;31m             sample_weight_val, begin_at_stage, monitor, X_idx_sorted)\n\u001b[0m\u001b[1;32m   1538\u001b[0m \u001b[0;34m\u001b[0m\u001b[0m\n\u001b[1;32m   1539\u001b[0m         \u001b[0;31m# change shape of arrays after fit (early-stopping or additional ests)\u001b[0m\u001b[0;34m\u001b[0m\u001b[0;34m\u001b[0m\u001b[0;34m\u001b[0m\u001b[0m\n",
            "\u001b[0;32m/usr/local/lib/python3.6/dist-packages/sklearn/ensemble/_gb.py\u001b[0m in \u001b[0;36m_fit_stages\u001b[0;34m(self, X, y, raw_predictions, sample_weight, random_state, X_val, y_val, sample_weight_val, begin_at_stage, monitor, X_idx_sorted)\u001b[0m\n\u001b[1;32m   1592\u001b[0m             raw_predictions = self._fit_stage(\n\u001b[1;32m   1593\u001b[0m                 \u001b[0mi\u001b[0m\u001b[0;34m,\u001b[0m \u001b[0mX\u001b[0m\u001b[0;34m,\u001b[0m \u001b[0my\u001b[0m\u001b[0;34m,\u001b[0m \u001b[0mraw_predictions\u001b[0m\u001b[0;34m,\u001b[0m \u001b[0msample_weight\u001b[0m\u001b[0;34m,\u001b[0m \u001b[0msample_mask\u001b[0m\u001b[0;34m,\u001b[0m\u001b[0;34m\u001b[0m\u001b[0;34m\u001b[0m\u001b[0m\n\u001b[0;32m-> 1594\u001b[0;31m                 random_state, X_idx_sorted, X_csc, X_csr)\n\u001b[0m\u001b[1;32m   1595\u001b[0m \u001b[0;34m\u001b[0m\u001b[0m\n\u001b[1;32m   1596\u001b[0m             \u001b[0;31m# track deviance (= loss)\u001b[0m\u001b[0;34m\u001b[0m\u001b[0;34m\u001b[0m\u001b[0;34m\u001b[0m\u001b[0m\n",
            "\u001b[0;32m/usr/local/lib/python3.6/dist-packages/sklearn/ensemble/_gb.py\u001b[0m in \u001b[0;36m_fit_stage\u001b[0;34m(self, i, X, y, raw_predictions, sample_weight, sample_mask, random_state, X_idx_sorted, X_csc, X_csr)\u001b[0m\n\u001b[1;32m   1220\u001b[0m \u001b[0;34m\u001b[0m\u001b[0m\n\u001b[1;32m   1221\u001b[0m             residual = loss.negative_gradient(y, raw_predictions_copy, k=k,\n\u001b[0;32m-> 1222\u001b[0;31m                                               sample_weight=sample_weight)\n\u001b[0m\u001b[1;32m   1223\u001b[0m \u001b[0;34m\u001b[0m\u001b[0m\n\u001b[1;32m   1224\u001b[0m             \u001b[0;31m# induce regression tree on residuals\u001b[0m\u001b[0;34m\u001b[0m\u001b[0;34m\u001b[0m\u001b[0;34m\u001b[0m\u001b[0m\n",
            "\u001b[0;32m/usr/local/lib/python3.6/dist-packages/sklearn/ensemble/_gb_losses.py\u001b[0m in \u001b[0;36mnegative_gradient\u001b[0;34m(self, y, raw_predictions, k, **kwargs)\u001b[0m\n\u001b[1;32m    736\u001b[0m         \"\"\"\n\u001b[1;32m    737\u001b[0m         return y - np.nan_to_num(np.exp(raw_predictions[:, k] -\n\u001b[0;32m--> 738\u001b[0;31m                                         logsumexp(raw_predictions, axis=1)))\n\u001b[0m\u001b[1;32m    739\u001b[0m \u001b[0;34m\u001b[0m\u001b[0m\n\u001b[1;32m    740\u001b[0m     def _update_terminal_region(self, tree, terminal_regions, leaf, X, y,\n",
            "\u001b[0;32m/usr/local/lib/python3.6/dist-packages/scipy/special/_logsumexp.py\u001b[0m in \u001b[0;36mlogsumexp\u001b[0;34m(a, axis, b, keepdims, return_sign)\u001b[0m\n\u001b[1;32m    110\u001b[0m         \u001b[0mtmp\u001b[0m \u001b[0;34m=\u001b[0m \u001b[0mb\u001b[0m \u001b[0;34m*\u001b[0m \u001b[0mnp\u001b[0m\u001b[0;34m.\u001b[0m\u001b[0mexp\u001b[0m\u001b[0;34m(\u001b[0m\u001b[0ma\u001b[0m \u001b[0;34m-\u001b[0m \u001b[0ma_max\u001b[0m\u001b[0;34m)\u001b[0m\u001b[0;34m\u001b[0m\u001b[0;34m\u001b[0m\u001b[0m\n\u001b[1;32m    111\u001b[0m     \u001b[0;32melse\u001b[0m\u001b[0;34m:\u001b[0m\u001b[0;34m\u001b[0m\u001b[0;34m\u001b[0m\u001b[0m\n\u001b[0;32m--> 112\u001b[0;31m         \u001b[0mtmp\u001b[0m \u001b[0;34m=\u001b[0m \u001b[0mnp\u001b[0m\u001b[0;34m.\u001b[0m\u001b[0mexp\u001b[0m\u001b[0;34m(\u001b[0m\u001b[0ma\u001b[0m \u001b[0;34m-\u001b[0m \u001b[0ma_max\u001b[0m\u001b[0;34m)\u001b[0m\u001b[0;34m\u001b[0m\u001b[0;34m\u001b[0m\u001b[0m\n\u001b[0m\u001b[1;32m    113\u001b[0m \u001b[0;34m\u001b[0m\u001b[0m\n\u001b[1;32m    114\u001b[0m     \u001b[0;31m# suppress warnings about log of zero\u001b[0m\u001b[0;34m\u001b[0m\u001b[0;34m\u001b[0m\u001b[0;34m\u001b[0m\u001b[0m\n",
            "\u001b[0;31mKeyboardInterrupt\u001b[0m: "
          ]
        }
      ]
    },
    {
      "cell_type": "code",
      "metadata": {
        "id": "aTNoZIyI9uOg",
        "colab_type": "code",
        "colab": {
          "base_uri": "https://localhost:8080/",
          "height": 882
        },
        "outputId": "2ca84f45-5bde-4835-9926-7e509f048972"
      },
      "source": [
        "\n",
        "pd.Series(clf.feature_importances_, index=X_train.columns).sort_values().plot(kind='barh', figsize=(15,15))"
      ],
      "execution_count": null,
      "outputs": [
        {
          "output_type": "execute_result",
          "data": {
            "text/plain": [
              "<matplotlib.axes._subplots.AxesSubplot at 0x7f283ecbc048>"
            ]
          },
          "metadata": {
            "tags": []
          },
          "execution_count": 145
        },
        {
          "output_type": "display_data",
          "data": {
            "image/png": "[encoded data removed]",
            "text/plain": [
              "<Figure size 1080x1080 with 1 Axes>"
            ]
          },
          "metadata": {
            "tags": [],
            "needs_background": "light"
          }
        }
      ]
    },
    {
      "cell_type": "code",
      "metadata": {
        "id": "_HgwLZLT9uM3",
        "colab_type": "code",
        "colab": {}
      },
      "source": [
        "prediction = np.mean(preds, axis=0)"
      ],
      "execution_count": null,
      "outputs": []
    },
    {
      "cell_type": "code",
      "metadata": {
        "colab_type": "code",
        "id": "nhBUxSRh98rQ",
        "colab": {
          "base_uri": "https://localhost:8080/",
          "height": 167
        },
        "outputId": "af172b7f-b53e-4eb7-eaac-350c7e0011dc"
      },
      "source": [
        "sub = pd.DataFrame(prediction)\n",
        "sub.head(4)"
      ],
      "execution_count": null,
      "outputs": [
        {
          "output_type": "execute_result",
          "data": {
            "text/html": [
              "<div>\n",
              "<style scoped>\n",
              "    .dataframe tbody tr th:only-of-type {\n",
              "        vertical-align: middle;\n",
              "    }\n",
              "\n",
              "    .dataframe tbody tr th {\n",
              "        vertical-align: top;\n",
              "    }\n",
              "\n",
              "    .dataframe thead th {\n",
              "        text-align: right;\n",
              "    }\n",
              "</style>\n",
              "<table border=\"1\" class=\"dataframe\">\n",
              "  <thead>\n",
              "    <tr style=\"text-align: right;\">\n",
              "      <th></th>\n",
              "      <th>0</th>\n",
              "      <th>1</th>\n",
              "      <th>2</th>\n",
              "      <th>3</th>\n",
              "      <th>4</th>\n",
              "      <th>5</th>\n",
              "      <th>6</th>\n",
              "      <th>7</th>\n",
              "      <th>8</th>\n",
              "      <th>9</th>\n",
              "      <th>10</th>\n",
              "      <th>11</th>\n",
              "      <th>12</th>\n",
              "      <th>13</th>\n",
              "      <th>14</th>\n",
              "      <th>15</th>\n",
              "    </tr>\n",
              "  </thead>\n",
              "  <tbody>\n",
              "    <tr>\n",
              "      <th>0</th>\n",
              "      <td>0.000935</td>\n",
              "      <td>0.025035</td>\n",
              "      <td>0.585309</td>\n",
              "      <td>0.0</td>\n",
              "      <td>0.128664</td>\n",
              "      <td>0.037379</td>\n",
              "      <td>0.000000</td>\n",
              "      <td>0.000502</td>\n",
              "      <td>0.000067</td>\n",
              "      <td>0.057603</td>\n",
              "      <td>0.021359</td>\n",
              "      <td>0.0</td>\n",
              "      <td>0.075341</td>\n",
              "      <td>0.029403</td>\n",
              "      <td>0.033551</td>\n",
              "      <td>0.004853</td>\n",
              "    </tr>\n",
              "    <tr>\n",
              "      <th>1</th>\n",
              "      <td>0.000000</td>\n",
              "      <td>0.484666</td>\n",
              "      <td>0.000400</td>\n",
              "      <td>0.0</td>\n",
              "      <td>0.061742</td>\n",
              "      <td>0.005867</td>\n",
              "      <td>0.000000</td>\n",
              "      <td>0.000000</td>\n",
              "      <td>0.000000</td>\n",
              "      <td>0.010888</td>\n",
              "      <td>0.006433</td>\n",
              "      <td>0.0</td>\n",
              "      <td>0.007200</td>\n",
              "      <td>0.000067</td>\n",
              "      <td>0.422671</td>\n",
              "      <td>0.000067</td>\n",
              "    </tr>\n",
              "    <tr>\n",
              "      <th>2</th>\n",
              "      <td>0.019083</td>\n",
              "      <td>0.018312</td>\n",
              "      <td>0.000000</td>\n",
              "      <td>0.0</td>\n",
              "      <td>0.029263</td>\n",
              "      <td>0.007538</td>\n",
              "      <td>0.000333</td>\n",
              "      <td>0.000067</td>\n",
              "      <td>0.000000</td>\n",
              "      <td>0.153733</td>\n",
              "      <td>0.706830</td>\n",
              "      <td>0.0</td>\n",
              "      <td>0.018812</td>\n",
              "      <td>0.030504</td>\n",
              "      <td>0.012407</td>\n",
              "      <td>0.003117</td>\n",
              "    </tr>\n",
              "    <tr>\n",
              "      <th>3</th>\n",
              "      <td>0.000000</td>\n",
              "      <td>0.009911</td>\n",
              "      <td>0.000000</td>\n",
              "      <td>0.0</td>\n",
              "      <td>0.013128</td>\n",
              "      <td>0.018600</td>\n",
              "      <td>0.000000</td>\n",
              "      <td>0.000000</td>\n",
              "      <td>0.000067</td>\n",
              "      <td>0.374710</td>\n",
              "      <td>0.431509</td>\n",
              "      <td>0.0</td>\n",
              "      <td>0.011953</td>\n",
              "      <td>0.039104</td>\n",
              "      <td>0.092921</td>\n",
              "      <td>0.008097</td>\n",
              "    </tr>\n",
              "  </tbody>\n",
              "</table>\n",
              "</div>"
            ],
            "text/plain": [
              "         0         1         2    3   ...        12        13        14        15\n",
              "0  0.000935  0.025035  0.585309  0.0  ...  0.075341  0.029403  0.033551  0.004853\n",
              "1  0.000000  0.484666  0.000400  0.0  ...  0.007200  0.000067  0.422671  0.000067\n",
              "2  0.019083  0.018312  0.000000  0.0  ...  0.018812  0.030504  0.012407  0.003117\n",
              "3  0.000000  0.009911  0.000000  0.0  ...  0.011953  0.039104  0.092921  0.008097\n",
              "\n",
              "[4 rows x 16 columns]"
            ]
          },
          "metadata": {
            "tags": []
          },
          "execution_count": 147
        }
      ]
    },
    {
      "cell_type": "code",
      "metadata": {
        "colab_type": "code",
        "id": "DRNCL-RG98rj",
        "colab": {}
      },
      "source": [
        "sub.to_excel('prd.xlsx', index=False)"
      ],
      "execution_count": null,
      "outputs": []
    },
    {
      "cell_type": "code",
      "metadata": {
        "colab_type": "code",
        "id": "AJO5ZO8A98rt",
        "colab": {}
      },
      "source": [
        "from google.colab import files\n",
        "files.download('prd.xlsx')"
      ],
      "execution_count": null,
      "outputs": []
    },
    {
      "cell_type": "code",
      "metadata": {
        "id": "53getdo795SK",
        "colab_type": "code",
        "colab": {}
      },
      "source": [
        ""
      ],
      "execution_count": null,
      "outputs": []
    },
    {
      "cell_type": "code",
      "metadata": {
        "id": "8RnpIZ8w95P9",
        "colab_type": "code",
        "colab": {}
      },
      "source": [
        ""
      ],
      "execution_count": null,
      "outputs": []
    },
    {
      "cell_type": "code",
      "metadata": {
        "id": "EJXpg9wb4FtJ",
        "colab_type": "code",
        "colab": {
          "base_uri": "https://localhost:8080/",
          "height": 34
        },
        "outputId": "51be4221-092b-4161-c374-9439897b53d1"
      },
      "source": [
        "rff = RandomForestClassifier(random_state=2**15)\n",
        "rff.fit(X_train, y_train)\n",
        "y_pred = rff.predict_proba(X_cv)\n",
        "\n",
        "log_loss(y_cv, y_pred)"
      ],
      "execution_count": null,
      "outputs": [
        {
          "output_type": "execute_result",
          "data": {
            "text/plain": [
              "1.1072188985858264"
            ]
          },
          "metadata": {
            "tags": []
          },
          "execution_count": 132
        }
      ]
    },
    {
      "cell_type": "code",
      "metadata": {
        "id": "tesHN4Ko3-8U",
        "colab_type": "code",
        "colab": {
          "base_uri": "https://localhost:8080/",
          "height": 428
        },
        "outputId": "b1ae84cc-47f2-4755-d426-f446d448a421"
      },
      "source": [
        "err = []\n",
        "y_pred_total = []\n",
        "\n",
        "fold = StratifiedKFold(n_splits=8, shuffle=True, random_state=101)\n",
        "\n",
        "for train_index, test_index in fold.split(X, y):\n",
        "    \n",
        "    X_train, X_test = X.loc[train_index], X.loc[test_index]\n",
        "    y_train, y_test = y[train_index], y[test_index]\n",
        "\n",
        "    rff = RandomForestClassifier(n_estimators=1000, criterion='gini', max_depth=161, min_samples_split=2, min_samples_leaf=1, min_weight_fraction_leaf=0.0, max_features='auto', max_leaf_nodes=None, min_impurity_decrease=0.0, min_impurity_split=None, bootstrap=True, oob_score=False, n_jobs=None, random_state=None, verbose=0, warm_start=False, class_weight=None, ccp_alpha=0.0, max_samples=None)\n",
        "    rff.fit(X_train, y_train)\n",
        "    y_pred = rff.predict_proba(X_test)\n",
        "    \n",
        "    print(\"Log Loss:\", log_loss(y_test, y_pred))\n",
        "\n",
        "    err.append(log_loss(y_test, y_pred))\n",
        "    p = rff.predict_proba(Xtest)\n",
        "    y_pred_total.append(p)"
      ],
      "execution_count": null,
      "outputs": [
        {
          "output_type": "stream",
          "text": [
            "Log Loss: 0.8511887281238544\n",
            "Log Loss: 1.1083936070548124\n"
          ],
          "name": "stdout"
        },
        {
          "output_type": "error",
          "ename": "KeyboardInterrupt",
          "evalue": "ignored",
          "traceback": [
            "\u001b[0;31m---------------------------------------------------------------------------\u001b[0m",
            "\u001b[0;31mKeyboardInterrupt\u001b[0m                         Traceback (most recent call last)",
            "\u001b[0;32m<ipython-input-135-972c861af591>\u001b[0m in \u001b[0;36m<module>\u001b[0;34m()\u001b[0m\n\u001b[1;32m     10\u001b[0m \u001b[0;34m\u001b[0m\u001b[0m\n\u001b[1;32m     11\u001b[0m     \u001b[0mrff\u001b[0m \u001b[0;34m=\u001b[0m \u001b[0mRandomForestClassifier\u001b[0m\u001b[0;34m(\u001b[0m\u001b[0mn_estimators\u001b[0m\u001b[0;34m=\u001b[0m\u001b[0;36m1000\u001b[0m\u001b[0;34m,\u001b[0m \u001b[0mcriterion\u001b[0m\u001b[0;34m=\u001b[0m\u001b[0;34m'gini'\u001b[0m\u001b[0;34m,\u001b[0m \u001b[0mmax_depth\u001b[0m\u001b[0;34m=\u001b[0m\u001b[0;36m161\u001b[0m\u001b[0;34m,\u001b[0m \u001b[0mmin_samples_split\u001b[0m\u001b[0;34m=\u001b[0m\u001b[0;36m2\u001b[0m\u001b[0;34m,\u001b[0m \u001b[0mmin_samples_leaf\u001b[0m\u001b[0;34m=\u001b[0m\u001b[0;36m1\u001b[0m\u001b[0;34m,\u001b[0m \u001b[0mmin_weight_fraction_leaf\u001b[0m\u001b[0;34m=\u001b[0m\u001b[0;36m0.0\u001b[0m\u001b[0;34m,\u001b[0m \u001b[0mmax_features\u001b[0m\u001b[0;34m=\u001b[0m\u001b[0;34m'auto'\u001b[0m\u001b[0;34m,\u001b[0m \u001b[0mmax_leaf_nodes\u001b[0m\u001b[0;34m=\u001b[0m\u001b[0;32mNone\u001b[0m\u001b[0;34m,\u001b[0m \u001b[0mmin_impurity_decrease\u001b[0m\u001b[0;34m=\u001b[0m\u001b[0;36m0.0\u001b[0m\u001b[0;34m,\u001b[0m \u001b[0mmin_impurity_split\u001b[0m\u001b[0;34m=\u001b[0m\u001b[0;32mNone\u001b[0m\u001b[0;34m,\u001b[0m \u001b[0mbootstrap\u001b[0m\u001b[0;34m=\u001b[0m\u001b[0;32mTrue\u001b[0m\u001b[0;34m,\u001b[0m \u001b[0moob_score\u001b[0m\u001b[0;34m=\u001b[0m\u001b[0;32mFalse\u001b[0m\u001b[0;34m,\u001b[0m \u001b[0mn_jobs\u001b[0m\u001b[0;34m=\u001b[0m\u001b[0;32mNone\u001b[0m\u001b[0;34m,\u001b[0m \u001b[0mrandom_state\u001b[0m\u001b[0;34m=\u001b[0m\u001b[0;32mNone\u001b[0m\u001b[0;34m,\u001b[0m \u001b[0mverbose\u001b[0m\u001b[0;34m=\u001b[0m\u001b[0;36m0\u001b[0m\u001b[0;34m,\u001b[0m \u001b[0mwarm_start\u001b[0m\u001b[0;34m=\u001b[0m\u001b[0;32mFalse\u001b[0m\u001b[0;34m,\u001b[0m \u001b[0mclass_weight\u001b[0m\u001b[0;34m=\u001b[0m\u001b[0;32mNone\u001b[0m\u001b[0;34m,\u001b[0m \u001b[0mccp_alpha\u001b[0m\u001b[0;34m=\u001b[0m\u001b[0;36m0.0\u001b[0m\u001b[0;34m,\u001b[0m \u001b[0mmax_samples\u001b[0m\u001b[0;34m=\u001b[0m\u001b[0;32mNone\u001b[0m\u001b[0;34m)\u001b[0m\u001b[0;34m\u001b[0m\u001b[0;34m\u001b[0m\u001b[0m\n\u001b[0;32m---> 12\u001b[0;31m     \u001b[0mrff\u001b[0m\u001b[0;34m.\u001b[0m\u001b[0mfit\u001b[0m\u001b[0;34m(\u001b[0m\u001b[0mX_train\u001b[0m\u001b[0;34m,\u001b[0m \u001b[0my_train\u001b[0m\u001b[0;34m)\u001b[0m\u001b[0;34m\u001b[0m\u001b[0;34m\u001b[0m\u001b[0m\n\u001b[0m\u001b[1;32m     13\u001b[0m     \u001b[0my_pred\u001b[0m \u001b[0;34m=\u001b[0m \u001b[0mrff\u001b[0m\u001b[0;34m.\u001b[0m\u001b[0mpredict_proba\u001b[0m\u001b[0;34m(\u001b[0m\u001b[0mX_test\u001b[0m\u001b[0;34m)\u001b[0m\u001b[0;34m\u001b[0m\u001b[0;34m\u001b[0m\u001b[0m\n\u001b[1;32m     14\u001b[0m \u001b[0;34m\u001b[0m\u001b[0m\n",
            "\u001b[0;32m/usr/local/lib/python3.6/dist-packages/sklearn/ensemble/_forest.py\u001b[0m in \u001b[0;36mfit\u001b[0;34m(self, X, y, sample_weight)\u001b[0m\n\u001b[1;32m    381\u001b[0m                     \u001b[0mverbose\u001b[0m\u001b[0;34m=\u001b[0m\u001b[0mself\u001b[0m\u001b[0;34m.\u001b[0m\u001b[0mverbose\u001b[0m\u001b[0;34m,\u001b[0m \u001b[0mclass_weight\u001b[0m\u001b[0;34m=\u001b[0m\u001b[0mself\u001b[0m\u001b[0;34m.\u001b[0m\u001b[0mclass_weight\u001b[0m\u001b[0;34m,\u001b[0m\u001b[0;34m\u001b[0m\u001b[0;34m\u001b[0m\u001b[0m\n\u001b[1;32m    382\u001b[0m                     n_samples_bootstrap=n_samples_bootstrap)\n\u001b[0;32m--> 383\u001b[0;31m                 for i, t in enumerate(trees))\n\u001b[0m\u001b[1;32m    384\u001b[0m \u001b[0;34m\u001b[0m\u001b[0m\n\u001b[1;32m    385\u001b[0m             \u001b[0;31m# Collect newly grown trees\u001b[0m\u001b[0;34m\u001b[0m\u001b[0;34m\u001b[0m\u001b[0;34m\u001b[0m\u001b[0m\n",
            "\u001b[0;32m/usr/local/lib/python3.6/dist-packages/joblib/parallel.py\u001b[0m in \u001b[0;36m__call__\u001b[0;34m(self, iterable)\u001b[0m\n\u001b[1;32m   1030\u001b[0m                 \u001b[0mself\u001b[0m\u001b[0;34m.\u001b[0m\u001b[0m_iterating\u001b[0m \u001b[0;34m=\u001b[0m \u001b[0mself\u001b[0m\u001b[0;34m.\u001b[0m\u001b[0m_original_iterator\u001b[0m \u001b[0;32mis\u001b[0m \u001b[0;32mnot\u001b[0m \u001b[0;32mNone\u001b[0m\u001b[0;34m\u001b[0m\u001b[0;34m\u001b[0m\u001b[0m\n\u001b[1;32m   1031\u001b[0m \u001b[0;34m\u001b[0m\u001b[0m\n\u001b[0;32m-> 1032\u001b[0;31m             \u001b[0;32mwhile\u001b[0m \u001b[0mself\u001b[0m\u001b[0;34m.\u001b[0m\u001b[0mdispatch_one_batch\u001b[0m\u001b[0;34m(\u001b[0m\u001b[0miterator\u001b[0m\u001b[0;34m)\u001b[0m\u001b[0;34m:\u001b[0m\u001b[0;34m\u001b[0m\u001b[0;34m\u001b[0m\u001b[0m\n\u001b[0m\u001b[1;32m   1033\u001b[0m                 \u001b[0;32mpass\u001b[0m\u001b[0;34m\u001b[0m\u001b[0;34m\u001b[0m\u001b[0m\n\u001b[1;32m   1034\u001b[0m \u001b[0;34m\u001b[0m\u001b[0m\n",
            "\u001b[0;32m/usr/local/lib/python3.6/dist-packages/joblib/parallel.py\u001b[0m in \u001b[0;36mdispatch_one_batch\u001b[0;34m(self, iterator)\u001b[0m\n\u001b[1;32m    845\u001b[0m                 \u001b[0;32mreturn\u001b[0m \u001b[0;32mFalse\u001b[0m\u001b[0;34m\u001b[0m\u001b[0;34m\u001b[0m\u001b[0m\n\u001b[1;32m    846\u001b[0m             \u001b[0;32melse\u001b[0m\u001b[0;34m:\u001b[0m\u001b[0;34m\u001b[0m\u001b[0;34m\u001b[0m\u001b[0m\n\u001b[0;32m--> 847\u001b[0;31m                 \u001b[0mself\u001b[0m\u001b[0;34m.\u001b[0m\u001b[0m_dispatch\u001b[0m\u001b[0;34m(\u001b[0m\u001b[0mtasks\u001b[0m\u001b[0;34m)\u001b[0m\u001b[0;34m\u001b[0m\u001b[0;34m\u001b[0m\u001b[0m\n\u001b[0m\u001b[1;32m    848\u001b[0m                 \u001b[0;32mreturn\u001b[0m \u001b[0;32mTrue\u001b[0m\u001b[0;34m\u001b[0m\u001b[0;34m\u001b[0m\u001b[0m\n\u001b[1;32m    849\u001b[0m \u001b[0;34m\u001b[0m\u001b[0m\n",
            "\u001b[0;32m/usr/local/lib/python3.6/dist-packages/joblib/parallel.py\u001b[0m in \u001b[0;36m_dispatch\u001b[0;34m(self, batch)\u001b[0m\n\u001b[1;32m    763\u001b[0m         \u001b[0;32mwith\u001b[0m \u001b[0mself\u001b[0m\u001b[0;34m.\u001b[0m\u001b[0m_lock\u001b[0m\u001b[0;34m:\u001b[0m\u001b[0;34m\u001b[0m\u001b[0;34m\u001b[0m\u001b[0m\n\u001b[1;32m    764\u001b[0m             \u001b[0mjob_idx\u001b[0m \u001b[0;34m=\u001b[0m \u001b[0mlen\u001b[0m\u001b[0;34m(\u001b[0m\u001b[0mself\u001b[0m\u001b[0;34m.\u001b[0m\u001b[0m_jobs\u001b[0m\u001b[0;34m)\u001b[0m\u001b[0;34m\u001b[0m\u001b[0;34m\u001b[0m\u001b[0m\n\u001b[0;32m--> 765\u001b[0;31m             \u001b[0mjob\u001b[0m \u001b[0;34m=\u001b[0m \u001b[0mself\u001b[0m\u001b[0;34m.\u001b[0m\u001b[0m_backend\u001b[0m\u001b[0;34m.\u001b[0m\u001b[0mapply_async\u001b[0m\u001b[0;34m(\u001b[0m\u001b[0mbatch\u001b[0m\u001b[0;34m,\u001b[0m \u001b[0mcallback\u001b[0m\u001b[0;34m=\u001b[0m\u001b[0mcb\u001b[0m\u001b[0;34m)\u001b[0m\u001b[0;34m\u001b[0m\u001b[0;34m\u001b[0m\u001b[0m\n\u001b[0m\u001b[1;32m    766\u001b[0m             \u001b[0;31m# A job can complete so quickly than its callback is\u001b[0m\u001b[0;34m\u001b[0m\u001b[0;34m\u001b[0m\u001b[0;34m\u001b[0m\u001b[0m\n\u001b[1;32m    767\u001b[0m             \u001b[0;31m# called before we get here, causing self._jobs to\u001b[0m\u001b[0;34m\u001b[0m\u001b[0;34m\u001b[0m\u001b[0;34m\u001b[0m\u001b[0m\n",
            "\u001b[0;32m/usr/local/lib/python3.6/dist-packages/joblib/_parallel_backends.py\u001b[0m in \u001b[0;36mapply_async\u001b[0;34m(self, func, callback)\u001b[0m\n\u001b[1;32m    204\u001b[0m     \u001b[0;32mdef\u001b[0m \u001b[0mapply_async\u001b[0m\u001b[0;34m(\u001b[0m\u001b[0mself\u001b[0m\u001b[0;34m,\u001b[0m \u001b[0mfunc\u001b[0m\u001b[0;34m,\u001b[0m \u001b[0mcallback\u001b[0m\u001b[0;34m=\u001b[0m\u001b[0;32mNone\u001b[0m\u001b[0;34m)\u001b[0m\u001b[0;34m:\u001b[0m\u001b[0;34m\u001b[0m\u001b[0;34m\u001b[0m\u001b[0m\n\u001b[1;32m    205\u001b[0m         \u001b[0;34m\"\"\"Schedule a func to be run\"\"\"\u001b[0m\u001b[0;34m\u001b[0m\u001b[0;34m\u001b[0m\u001b[0m\n\u001b[0;32m--> 206\u001b[0;31m         \u001b[0mresult\u001b[0m \u001b[0;34m=\u001b[0m \u001b[0mImmediateResult\u001b[0m\u001b[0;34m(\u001b[0m\u001b[0mfunc\u001b[0m\u001b[0;34m)\u001b[0m\u001b[0;34m\u001b[0m\u001b[0;34m\u001b[0m\u001b[0m\n\u001b[0m\u001b[1;32m    207\u001b[0m         \u001b[0;32mif\u001b[0m \u001b[0mcallback\u001b[0m\u001b[0;34m:\u001b[0m\u001b[0;34m\u001b[0m\u001b[0;34m\u001b[0m\u001b[0m\n\u001b[1;32m    208\u001b[0m             \u001b[0mcallback\u001b[0m\u001b[0;34m(\u001b[0m\u001b[0mresult\u001b[0m\u001b[0;34m)\u001b[0m\u001b[0;34m\u001b[0m\u001b[0;34m\u001b[0m\u001b[0m\n",
            "\u001b[0;32m/usr/local/lib/python3.6/dist-packages/joblib/_parallel_backends.py\u001b[0m in \u001b[0;36m__init__\u001b[0;34m(self, batch)\u001b[0m\n\u001b[1;32m    568\u001b[0m         \u001b[0;31m# Don't delay the application, to avoid keeping the input\u001b[0m\u001b[0;34m\u001b[0m\u001b[0;34m\u001b[0m\u001b[0;34m\u001b[0m\u001b[0m\n\u001b[1;32m    569\u001b[0m         \u001b[0;31m# arguments in memory\u001b[0m\u001b[0;34m\u001b[0m\u001b[0;34m\u001b[0m\u001b[0;34m\u001b[0m\u001b[0m\n\u001b[0;32m--> 570\u001b[0;31m         \u001b[0mself\u001b[0m\u001b[0;34m.\u001b[0m\u001b[0mresults\u001b[0m \u001b[0;34m=\u001b[0m \u001b[0mbatch\u001b[0m\u001b[0;34m(\u001b[0m\u001b[0;34m)\u001b[0m\u001b[0;34m\u001b[0m\u001b[0;34m\u001b[0m\u001b[0m\n\u001b[0m\u001b[1;32m    571\u001b[0m \u001b[0;34m\u001b[0m\u001b[0m\n\u001b[1;32m    572\u001b[0m     \u001b[0;32mdef\u001b[0m \u001b[0mget\u001b[0m\u001b[0;34m(\u001b[0m\u001b[0mself\u001b[0m\u001b[0;34m)\u001b[0m\u001b[0;34m:\u001b[0m\u001b[0;34m\u001b[0m\u001b[0;34m\u001b[0m\u001b[0m\n",
            "\u001b[0;32m/usr/local/lib/python3.6/dist-packages/joblib/parallel.py\u001b[0m in \u001b[0;36m__call__\u001b[0;34m(self)\u001b[0m\n\u001b[1;32m    251\u001b[0m         \u001b[0;32mwith\u001b[0m \u001b[0mparallel_backend\u001b[0m\u001b[0;34m(\u001b[0m\u001b[0mself\u001b[0m\u001b[0;34m.\u001b[0m\u001b[0m_backend\u001b[0m\u001b[0;34m,\u001b[0m \u001b[0mn_jobs\u001b[0m\u001b[0;34m=\u001b[0m\u001b[0mself\u001b[0m\u001b[0;34m.\u001b[0m\u001b[0m_n_jobs\u001b[0m\u001b[0;34m)\u001b[0m\u001b[0;34m:\u001b[0m\u001b[0;34m\u001b[0m\u001b[0;34m\u001b[0m\u001b[0m\n\u001b[1;32m    252\u001b[0m             return [func(*args, **kwargs)\n\u001b[0;32m--> 253\u001b[0;31m                     for func, args, kwargs in self.items]\n\u001b[0m\u001b[1;32m    254\u001b[0m \u001b[0;34m\u001b[0m\u001b[0m\n\u001b[1;32m    255\u001b[0m     \u001b[0;32mdef\u001b[0m \u001b[0m__reduce__\u001b[0m\u001b[0;34m(\u001b[0m\u001b[0mself\u001b[0m\u001b[0;34m)\u001b[0m\u001b[0;34m:\u001b[0m\u001b[0;34m\u001b[0m\u001b[0;34m\u001b[0m\u001b[0m\n",
            "\u001b[0;32m/usr/local/lib/python3.6/dist-packages/joblib/parallel.py\u001b[0m in \u001b[0;36m<listcomp>\u001b[0;34m(.0)\u001b[0m\n\u001b[1;32m    251\u001b[0m         \u001b[0;32mwith\u001b[0m \u001b[0mparallel_backend\u001b[0m\u001b[0;34m(\u001b[0m\u001b[0mself\u001b[0m\u001b[0;34m.\u001b[0m\u001b[0m_backend\u001b[0m\u001b[0;34m,\u001b[0m \u001b[0mn_jobs\u001b[0m\u001b[0;34m=\u001b[0m\u001b[0mself\u001b[0m\u001b[0;34m.\u001b[0m\u001b[0m_n_jobs\u001b[0m\u001b[0;34m)\u001b[0m\u001b[0;34m:\u001b[0m\u001b[0;34m\u001b[0m\u001b[0;34m\u001b[0m\u001b[0m\n\u001b[1;32m    252\u001b[0m             return [func(*args, **kwargs)\n\u001b[0;32m--> 253\u001b[0;31m                     for func, args, kwargs in self.items]\n\u001b[0m\u001b[1;32m    254\u001b[0m \u001b[0;34m\u001b[0m\u001b[0m\n\u001b[1;32m    255\u001b[0m     \u001b[0;32mdef\u001b[0m \u001b[0m__reduce__\u001b[0m\u001b[0;34m(\u001b[0m\u001b[0mself\u001b[0m\u001b[0;34m)\u001b[0m\u001b[0;34m:\u001b[0m\u001b[0;34m\u001b[0m\u001b[0;34m\u001b[0m\u001b[0m\n",
            "\u001b[0;32m/usr/local/lib/python3.6/dist-packages/sklearn/ensemble/_forest.py\u001b[0m in \u001b[0;36m_parallel_build_trees\u001b[0;34m(tree, forest, X, y, sample_weight, tree_idx, n_trees, verbose, class_weight, n_samples_bootstrap)\u001b[0m\n\u001b[1;32m    163\u001b[0m             \u001b[0mcurr_sample_weight\u001b[0m \u001b[0;34m*=\u001b[0m \u001b[0mcompute_sample_weight\u001b[0m\u001b[0;34m(\u001b[0m\u001b[0;34m'balanced'\u001b[0m\u001b[0;34m,\u001b[0m \u001b[0my\u001b[0m\u001b[0;34m,\u001b[0m \u001b[0mindices\u001b[0m\u001b[0;34m)\u001b[0m\u001b[0;34m\u001b[0m\u001b[0;34m\u001b[0m\u001b[0m\n\u001b[1;32m    164\u001b[0m \u001b[0;34m\u001b[0m\u001b[0m\n\u001b[0;32m--> 165\u001b[0;31m         \u001b[0mtree\u001b[0m\u001b[0;34m.\u001b[0m\u001b[0mfit\u001b[0m\u001b[0;34m(\u001b[0m\u001b[0mX\u001b[0m\u001b[0;34m,\u001b[0m \u001b[0my\u001b[0m\u001b[0;34m,\u001b[0m \u001b[0msample_weight\u001b[0m\u001b[0;34m=\u001b[0m\u001b[0mcurr_sample_weight\u001b[0m\u001b[0;34m,\u001b[0m \u001b[0mcheck_input\u001b[0m\u001b[0;34m=\u001b[0m\u001b[0;32mFalse\u001b[0m\u001b[0;34m)\u001b[0m\u001b[0;34m\u001b[0m\u001b[0;34m\u001b[0m\u001b[0m\n\u001b[0m\u001b[1;32m    166\u001b[0m     \u001b[0;32melse\u001b[0m\u001b[0;34m:\u001b[0m\u001b[0;34m\u001b[0m\u001b[0;34m\u001b[0m\u001b[0m\n\u001b[1;32m    167\u001b[0m         \u001b[0mtree\u001b[0m\u001b[0;34m.\u001b[0m\u001b[0mfit\u001b[0m\u001b[0;34m(\u001b[0m\u001b[0mX\u001b[0m\u001b[0;34m,\u001b[0m \u001b[0my\u001b[0m\u001b[0;34m,\u001b[0m \u001b[0msample_weight\u001b[0m\u001b[0;34m=\u001b[0m\u001b[0msample_weight\u001b[0m\u001b[0;34m,\u001b[0m \u001b[0mcheck_input\u001b[0m\u001b[0;34m=\u001b[0m\u001b[0;32mFalse\u001b[0m\u001b[0;34m)\u001b[0m\u001b[0;34m\u001b[0m\u001b[0;34m\u001b[0m\u001b[0m\n",
            "\u001b[0;32m/usr/local/lib/python3.6/dist-packages/sklearn/tree/_classes.py\u001b[0m in \u001b[0;36mfit\u001b[0;34m(self, X, y, sample_weight, check_input, X_idx_sorted)\u001b[0m\n\u001b[1;32m    875\u001b[0m             \u001b[0msample_weight\u001b[0m\u001b[0;34m=\u001b[0m\u001b[0msample_weight\u001b[0m\u001b[0;34m,\u001b[0m\u001b[0;34m\u001b[0m\u001b[0;34m\u001b[0m\u001b[0m\n\u001b[1;32m    876\u001b[0m             \u001b[0mcheck_input\u001b[0m\u001b[0;34m=\u001b[0m\u001b[0mcheck_input\u001b[0m\u001b[0;34m,\u001b[0m\u001b[0;34m\u001b[0m\u001b[0;34m\u001b[0m\u001b[0m\n\u001b[0;32m--> 877\u001b[0;31m             X_idx_sorted=X_idx_sorted)\n\u001b[0m\u001b[1;32m    878\u001b[0m         \u001b[0;32mreturn\u001b[0m \u001b[0mself\u001b[0m\u001b[0;34m\u001b[0m\u001b[0;34m\u001b[0m\u001b[0m\n\u001b[1;32m    879\u001b[0m \u001b[0;34m\u001b[0m\u001b[0m\n",
            "\u001b[0;32m/usr/local/lib/python3.6/dist-packages/sklearn/tree/_classes.py\u001b[0m in \u001b[0;36mfit\u001b[0;34m(self, X, y, sample_weight, check_input, X_idx_sorted)\u001b[0m\n\u001b[1;32m    365\u001b[0m                                            min_impurity_split)\n\u001b[1;32m    366\u001b[0m \u001b[0;34m\u001b[0m\u001b[0m\n\u001b[0;32m--> 367\u001b[0;31m         \u001b[0mbuilder\u001b[0m\u001b[0;34m.\u001b[0m\u001b[0mbuild\u001b[0m\u001b[0;34m(\u001b[0m\u001b[0mself\u001b[0m\u001b[0;34m.\u001b[0m\u001b[0mtree_\u001b[0m\u001b[0;34m,\u001b[0m \u001b[0mX\u001b[0m\u001b[0;34m,\u001b[0m \u001b[0my\u001b[0m\u001b[0;34m,\u001b[0m \u001b[0msample_weight\u001b[0m\u001b[0;34m,\u001b[0m \u001b[0mX_idx_sorted\u001b[0m\u001b[0;34m)\u001b[0m\u001b[0;34m\u001b[0m\u001b[0;34m\u001b[0m\u001b[0m\n\u001b[0m\u001b[1;32m    368\u001b[0m \u001b[0;34m\u001b[0m\u001b[0m\n\u001b[1;32m    369\u001b[0m         \u001b[0;32mif\u001b[0m \u001b[0mself\u001b[0m\u001b[0;34m.\u001b[0m\u001b[0mn_outputs_\u001b[0m \u001b[0;34m==\u001b[0m \u001b[0;36m1\u001b[0m \u001b[0;32mand\u001b[0m \u001b[0mis_classifier\u001b[0m\u001b[0;34m(\u001b[0m\u001b[0mself\u001b[0m\u001b[0;34m)\u001b[0m\u001b[0;34m:\u001b[0m\u001b[0;34m\u001b[0m\u001b[0;34m\u001b[0m\u001b[0m\n",
            "\u001b[0;31mKeyboardInterrupt\u001b[0m: "
          ]
        }
      ]
    },
    {
      "cell_type": "code",
      "metadata": {
        "colab_type": "code",
        "id": "byL4QpB7z8JS",
        "colab": {
          "base_uri": "https://localhost:8080/",
          "height": 34
        },
        "outputId": "a16149fb-ad6e-48e7-d305-3f4bc0a29121"
      },
      "source": [
        "np.mean(err, 0)"
      ],
      "execution_count": null,
      "outputs": [
        {
          "output_type": "execute_result",
          "data": {
            "text/plain": [
              "0.7179890921860389"
            ]
          },
          "metadata": {
            "tags": []
          },
          "execution_count": 124
        }
      ]
    },
    {
      "cell_type": "code",
      "metadata": {
        "colab_type": "code",
        "id": "PRRQts7lz8Jj",
        "colab": {}
      },
      "source": [
        "y_pred = np.mean(y_pred_total, 0)"
      ],
      "execution_count": null,
      "outputs": []
    },
    {
      "cell_type": "code",
      "metadata": {
        "colab_type": "code",
        "id": "50S55T0bz8Ju",
        "colab": {
          "base_uri": "https://localhost:8080/",
          "height": 167
        },
        "outputId": "d5e47a81-cc0d-46b2-f90a-263d5e4470bf"
      },
      "source": [
        "sub = pd.DataFrame(y_pred)\n",
        "sub.head(4)"
      ],
      "execution_count": null,
      "outputs": [
        {
          "output_type": "execute_result",
          "data": {
            "text/html": [
              "<div>\n",
              "<style scoped>\n",
              "    .dataframe tbody tr th:only-of-type {\n",
              "        vertical-align: middle;\n",
              "    }\n",
              "\n",
              "    .dataframe tbody tr th {\n",
              "        vertical-align: top;\n",
              "    }\n",
              "\n",
              "    .dataframe thead th {\n",
              "        text-align: right;\n",
              "    }\n",
              "</style>\n",
              "<table border=\"1\" class=\"dataframe\">\n",
              "  <thead>\n",
              "    <tr style=\"text-align: right;\">\n",
              "      <th></th>\n",
              "      <th>0</th>\n",
              "      <th>1</th>\n",
              "      <th>2</th>\n",
              "      <th>3</th>\n",
              "      <th>4</th>\n",
              "      <th>5</th>\n",
              "      <th>6</th>\n",
              "      <th>7</th>\n",
              "      <th>8</th>\n",
              "      <th>9</th>\n",
              "      <th>10</th>\n",
              "      <th>11</th>\n",
              "      <th>12</th>\n",
              "      <th>13</th>\n",
              "      <th>14</th>\n",
              "      <th>15</th>\n",
              "    </tr>\n",
              "  </thead>\n",
              "  <tbody>\n",
              "    <tr>\n",
              "      <th>0</th>\n",
              "      <td>0.003139</td>\n",
              "      <td>0.007180</td>\n",
              "      <td>0.489781</td>\n",
              "      <td>0.000892</td>\n",
              "      <td>0.451266</td>\n",
              "      <td>0.004698</td>\n",
              "      <td>0.000767</td>\n",
              "      <td>0.003747</td>\n",
              "      <td>0.001114</td>\n",
              "      <td>0.007533</td>\n",
              "      <td>0.009874</td>\n",
              "      <td>0.000717</td>\n",
              "      <td>0.005998</td>\n",
              "      <td>0.008297</td>\n",
              "      <td>0.002978</td>\n",
              "      <td>0.002019</td>\n",
              "    </tr>\n",
              "    <tr>\n",
              "      <th>1</th>\n",
              "      <td>0.001406</td>\n",
              "      <td>0.718357</td>\n",
              "      <td>0.000935</td>\n",
              "      <td>0.000431</td>\n",
              "      <td>0.004689</td>\n",
              "      <td>0.001271</td>\n",
              "      <td>0.000952</td>\n",
              "      <td>0.000858</td>\n",
              "      <td>0.000874</td>\n",
              "      <td>0.001349</td>\n",
              "      <td>0.002568</td>\n",
              "      <td>0.000277</td>\n",
              "      <td>0.001885</td>\n",
              "      <td>0.000987</td>\n",
              "      <td>0.262587</td>\n",
              "      <td>0.000574</td>\n",
              "    </tr>\n",
              "    <tr>\n",
              "      <th>2</th>\n",
              "      <td>0.007999</td>\n",
              "      <td>0.002527</td>\n",
              "      <td>0.000617</td>\n",
              "      <td>0.001475</td>\n",
              "      <td>0.006770</td>\n",
              "      <td>0.002807</td>\n",
              "      <td>0.001820</td>\n",
              "      <td>0.000627</td>\n",
              "      <td>0.000971</td>\n",
              "      <td>0.221696</td>\n",
              "      <td>0.736586</td>\n",
              "      <td>0.000965</td>\n",
              "      <td>0.008208</td>\n",
              "      <td>0.001089</td>\n",
              "      <td>0.002639</td>\n",
              "      <td>0.003204</td>\n",
              "    </tr>\n",
              "    <tr>\n",
              "      <th>3</th>\n",
              "      <td>0.000931</td>\n",
              "      <td>0.003002</td>\n",
              "      <td>0.000651</td>\n",
              "      <td>0.000359</td>\n",
              "      <td>0.004359</td>\n",
              "      <td>0.002010</td>\n",
              "      <td>0.000596</td>\n",
              "      <td>0.000434</td>\n",
              "      <td>0.000851</td>\n",
              "      <td>0.370163</td>\n",
              "      <td>0.607856</td>\n",
              "      <td>0.000482</td>\n",
              "      <td>0.001408</td>\n",
              "      <td>0.002306</td>\n",
              "      <td>0.002282</td>\n",
              "      <td>0.002308</td>\n",
              "    </tr>\n",
              "  </tbody>\n",
              "</table>\n",
              "</div>"
            ],
            "text/plain": [
              "         0         1         2   ...        13        14        15\n",
              "0  0.003139  0.007180  0.489781  ...  0.008297  0.002978  0.002019\n",
              "1  0.001406  0.718357  0.000935  ...  0.000987  0.262587  0.000574\n",
              "2  0.007999  0.002527  0.000617  ...  0.001089  0.002639  0.003204\n",
              "3  0.000931  0.003002  0.000651  ...  0.002306  0.002282  0.002308\n",
              "\n",
              "[4 rows x 16 columns]"
            ]
          },
          "metadata": {
            "tags": []
          },
          "execution_count": 79
        }
      ]
    },
    {
      "cell_type": "code",
      "metadata": {
        "colab_type": "code",
        "id": "8Qr-xxvvz8J0",
        "colab": {}
      },
      "source": [
        "sub.to_excel('lr.xlsx', index=False)"
      ],
      "execution_count": null,
      "outputs": []
    },
    {
      "cell_type": "code",
      "metadata": {
        "colab_type": "code",
        "id": "5gVrzOFHyLwn",
        "colab": {}
      },
      "source": [
        "from google.colab import files\n",
        "files.download('lr.xlsx')"
      ],
      "execution_count": null,
      "outputs": []
    },
    {
      "cell_type": "code",
      "metadata": {
        "id": "nsf3tWaxyhBL",
        "colab_type": "code",
        "colab": {}
      },
      "source": [
        ""
      ],
      "execution_count": null,
      "outputs": []
    }
  ]
}