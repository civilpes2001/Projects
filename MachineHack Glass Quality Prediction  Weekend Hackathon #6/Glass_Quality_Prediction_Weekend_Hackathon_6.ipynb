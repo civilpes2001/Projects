{
  "nbformat": 4,
  "nbformat_minor": 0,
  "metadata": {
    "colab": {
      "name": "Glass Quality Prediction : Weekend Hackathon #6.ipynb",
      "provenance": [],
      "collapsed_sections": []
    },
    "kernelspec": {
      "name": "python3",
      "display_name": "Python 3"
    }
  },
  "cells": [
    {
      "cell_type": "code",
      "metadata": {
        "id": "xnZXvlSrI_jc",
        "colab_type": "code",
        "outputId": "4691938e-8ec6-4b6d-988c-29f27bb6b0ef",
        "colab": {
          "base_uri": "https://localhost:8080/",
          "height": 204
        }
      },
      "source": [
        "!wget https://www.machinehack.com/wp-content/uploads/2020/05/Glass_Quality_Participants_Data.zip"
      ],
      "execution_count": 0,
      "outputs": [
        {
          "output_type": "stream",
          "text": [
            "--2020-05-24 18:29:05--  https://www.machinehack.com/wp-content/uploads/2020/05/Glass_Quality_Participants_Data.zip\n",
            "Resolving www.machinehack.com (www.machinehack.com)... 107.180.71.20\n",
            "Connecting to www.machinehack.com (www.machinehack.com)|107.180.71.20|:443... connected.\n",
            "HTTP request sent, awaiting response... 200 OK\n",
            "Length: 76971 (75K) [application/zip]\n",
            "Saving to: ‘Glass_Quality_Participants_Data.zip’\n",
            "\n",
            "\r          Glass_Qua   0%[                    ]       0  --.-KB/s               \r         Glass_Qual  74%[=============>      ]  56.00K   244KB/s               \rGlass_Quality_Parti 100%[===================>]  75.17K   328KB/s    in 0.2s    \n",
            "\n",
            "2020-05-24 18:29:05 (328 KB/s) - ‘Glass_Quality_Participants_Data.zip’ saved [76971/76971]\n",
            "\n"
          ],
          "name": "stdout"
        }
      ]
    },
    {
      "cell_type": "code",
      "metadata": {
        "id": "lnFljrt1JK4k",
        "colab_type": "code",
        "outputId": "fe81fad9-dcb9-43f3-f805-035f0f8a8d62",
        "colab": {
          "base_uri": "https://localhost:8080/",
          "height": 153
        }
      },
      "source": [
        "!unzip Glass_Quality_Participants_Data.zip"
      ],
      "execution_count": 0,
      "outputs": [
        {
          "output_type": "stream",
          "text": [
            "Archive:  Glass_Quality_Participants_Data.zip\n",
            "   creating: Glass_Quality_Participants_Data/\n",
            "  inflating: Glass_Quality_Participants_Data/Test.csv  \n",
            "  inflating: __MACOSX/Glass_Quality_Participants_Data/._Test.csv  \n",
            "  inflating: Glass_Quality_Participants_Data/Sample_Submission.xlsx  \n",
            "  inflating: __MACOSX/Glass_Quality_Participants_Data/._Sample_Submission.xlsx  \n",
            "  inflating: Glass_Quality_Participants_Data/Train.csv  \n",
            "  inflating: __MACOSX/Glass_Quality_Participants_Data/._Train.csv  \n"
          ],
          "name": "stdout"
        }
      ]
    },
    {
      "cell_type": "code",
      "metadata": {
        "id": "tq_yoOEweRX7",
        "colab_type": "code",
        "colab": {}
      },
      "source": [
        "import pandas as pd\n",
        "import numpy as np\n",
        "import matplotlib.pyplot as plt\n",
        "%matplotlib inline"
      ],
      "execution_count": 0,
      "outputs": []
    },
    {
      "cell_type": "code",
      "metadata": {
        "id": "R0PXoJS6eVq3",
        "colab_type": "code",
        "colab": {}
      },
      "source": [
        "train = pd.read_csv('Glass_Quality_Participants_Data/Train.csv')\n",
        "test = pd.read_csv('Glass_Quality_Participants_Data/Test.csv')\n",
        "sub = pd.read_excel('Glass_Quality_Participants_Data/Sample_Submission.xlsx')"
      ],
      "execution_count": 0,
      "outputs": []
    },
    {
      "cell_type": "code",
      "metadata": {
        "id": "elBfeI7Recyg",
        "colab_type": "code",
        "outputId": "ba41a0dc-0199-46e5-cb2d-ea2fde5ddff9",
        "colab": {
          "base_uri": "https://localhost:8080/",
          "height": 197
        }
      },
      "source": [
        "train.head(5)"
      ],
      "execution_count": 97,
      "outputs": [
        {
          "output_type": "execute_result",
          "data": {
            "text/html": [
              "<div>\n",
              "<style scoped>\n",
              "    .dataframe tbody tr th:only-of-type {\n",
              "        vertical-align: middle;\n",
              "    }\n",
              "\n",
              "    .dataframe tbody tr th {\n",
              "        vertical-align: top;\n",
              "    }\n",
              "\n",
              "    .dataframe thead th {\n",
              "        text-align: right;\n",
              "    }\n",
              "</style>\n",
              "<table border=\"1\" class=\"dataframe\">\n",
              "  <thead>\n",
              "    <tr style=\"text-align: right;\">\n",
              "      <th></th>\n",
              "      <th>grade_A_Component_1</th>\n",
              "      <th>grade_A_Component_2</th>\n",
              "      <th>max_luminosity</th>\n",
              "      <th>thickness</th>\n",
              "      <th>xmin</th>\n",
              "      <th>xmax</th>\n",
              "      <th>ymin</th>\n",
              "      <th>ymax</th>\n",
              "      <th>pixel_area</th>\n",
              "      <th>log_area</th>\n",
              "      <th>x_component_1</th>\n",
              "      <th>x_component_2</th>\n",
              "      <th>x_component_3</th>\n",
              "      <th>x_component_4</th>\n",
              "      <th>x_component_5</th>\n",
              "      <th>class</th>\n",
              "    </tr>\n",
              "  </thead>\n",
              "  <tbody>\n",
              "    <tr>\n",
              "      <th>0</th>\n",
              "      <td>0</td>\n",
              "      <td>1</td>\n",
              "      <td>150</td>\n",
              "      <td>36</td>\n",
              "      <td>144</td>\n",
              "      <td>172</td>\n",
              "      <td>947225</td>\n",
              "      <td>947332</td>\n",
              "      <td>439</td>\n",
              "      <td>439.099273</td>\n",
              "      <td>0</td>\n",
              "      <td>0</td>\n",
              "      <td>1</td>\n",
              "      <td>0</td>\n",
              "      <td>0</td>\n",
              "      <td>1</td>\n",
              "    </tr>\n",
              "    <tr>\n",
              "      <th>1</th>\n",
              "      <td>1</td>\n",
              "      <td>0</td>\n",
              "      <td>134</td>\n",
              "      <td>55</td>\n",
              "      <td>1144</td>\n",
              "      <td>1152</td>\n",
              "      <td>2379058</td>\n",
              "      <td>2379624</td>\n",
              "      <td>329</td>\n",
              "      <td>329.205616</td>\n",
              "      <td>1</td>\n",
              "      <td>0</td>\n",
              "      <td>0</td>\n",
              "      <td>0</td>\n",
              "      <td>0</td>\n",
              "      <td>1</td>\n",
              "    </tr>\n",
              "    <tr>\n",
              "      <th>2</th>\n",
              "      <td>1</td>\n",
              "      <td>0</td>\n",
              "      <td>135</td>\n",
              "      <td>65</td>\n",
              "      <td>950</td>\n",
              "      <td>974</td>\n",
              "      <td>1038442</td>\n",
              "      <td>1036754</td>\n",
              "      <td>300</td>\n",
              "      <td>300.120598</td>\n",
              "      <td>0</td>\n",
              "      <td>0</td>\n",
              "      <td>0</td>\n",
              "      <td>0</td>\n",
              "      <td>0</td>\n",
              "      <td>2</td>\n",
              "    </tr>\n",
              "    <tr>\n",
              "      <th>3</th>\n",
              "      <td>0</td>\n",
              "      <td>1</td>\n",
              "      <td>123</td>\n",
              "      <td>35</td>\n",
              "      <td>41</td>\n",
              "      <td>220</td>\n",
              "      <td>1705580</td>\n",
              "      <td>1705604</td>\n",
              "      <td>6803</td>\n",
              "      <td>6803.778622</td>\n",
              "      <td>0</td>\n",
              "      <td>0</td>\n",
              "      <td>1</td>\n",
              "      <td>0</td>\n",
              "      <td>0</td>\n",
              "      <td>1</td>\n",
              "    </tr>\n",
              "    <tr>\n",
              "      <th>4</th>\n",
              "      <td>1</td>\n",
              "      <td>0</td>\n",
              "      <td>138</td>\n",
              "      <td>69</td>\n",
              "      <td>462</td>\n",
              "      <td>466</td>\n",
              "      <td>1088124</td>\n",
              "      <td>1086579</td>\n",
              "      <td>251</td>\n",
              "      <td>251.401943</td>\n",
              "      <td>0</td>\n",
              "      <td>0</td>\n",
              "      <td>0</td>\n",
              "      <td>0</td>\n",
              "      <td>0</td>\n",
              "      <td>2</td>\n",
              "    </tr>\n",
              "  </tbody>\n",
              "</table>\n",
              "</div>"
            ],
            "text/plain": [
              "   grade_A_Component_1  grade_A_Component_2  ...  x_component_5  class\n",
              "0                    0                    1  ...              0      1\n",
              "1                    1                    0  ...              0      1\n",
              "2                    1                    0  ...              0      2\n",
              "3                    0                    1  ...              0      1\n",
              "4                    1                    0  ...              0      2\n",
              "\n",
              "[5 rows x 16 columns]"
            ]
          },
          "metadata": {
            "tags": []
          },
          "execution_count": 97
        }
      ]
    },
    {
      "cell_type": "code",
      "metadata": {
        "id": "MCqJvYaKegWx",
        "colab_type": "code",
        "outputId": "db8b052a-4840-4c34-ebff-b10112c08815",
        "colab": {
          "base_uri": "https://localhost:8080/",
          "height": 197
        }
      },
      "source": [
        "test.head(5)"
      ],
      "execution_count": 98,
      "outputs": [
        {
          "output_type": "execute_result",
          "data": {
            "text/html": [
              "<div>\n",
              "<style scoped>\n",
              "    .dataframe tbody tr th:only-of-type {\n",
              "        vertical-align: middle;\n",
              "    }\n",
              "\n",
              "    .dataframe tbody tr th {\n",
              "        vertical-align: top;\n",
              "    }\n",
              "\n",
              "    .dataframe thead th {\n",
              "        text-align: right;\n",
              "    }\n",
              "</style>\n",
              "<table border=\"1\" class=\"dataframe\">\n",
              "  <thead>\n",
              "    <tr style=\"text-align: right;\">\n",
              "      <th></th>\n",
              "      <th>grade_A_Component_1</th>\n",
              "      <th>grade_A_Component_2</th>\n",
              "      <th>max_luminosity</th>\n",
              "      <th>thickness</th>\n",
              "      <th>xmin</th>\n",
              "      <th>xmax</th>\n",
              "      <th>ymin</th>\n",
              "      <th>ymax</th>\n",
              "      <th>pixel_area</th>\n",
              "      <th>log_area</th>\n",
              "      <th>x_component_1</th>\n",
              "      <th>x_component_2</th>\n",
              "      <th>x_component_3</th>\n",
              "      <th>x_component_4</th>\n",
              "      <th>x_component_5</th>\n",
              "    </tr>\n",
              "  </thead>\n",
              "  <tbody>\n",
              "    <tr>\n",
              "      <th>0</th>\n",
              "      <td>1</td>\n",
              "      <td>0</td>\n",
              "      <td>123</td>\n",
              "      <td>65</td>\n",
              "      <td>33</td>\n",
              "      <td>54</td>\n",
              "      <td>1646439</td>\n",
              "      <td>1646893</td>\n",
              "      <td>632</td>\n",
              "      <td>632.391749</td>\n",
              "      <td>0</td>\n",
              "      <td>1</td>\n",
              "      <td>0</td>\n",
              "      <td>0</td>\n",
              "      <td>0</td>\n",
              "    </tr>\n",
              "    <tr>\n",
              "      <th>1</th>\n",
              "      <td>0</td>\n",
              "      <td>1</td>\n",
              "      <td>158</td>\n",
              "      <td>99</td>\n",
              "      <td>125</td>\n",
              "      <td>132</td>\n",
              "      <td>189874</td>\n",
              "      <td>189529</td>\n",
              "      <td>421</td>\n",
              "      <td>421.928609</td>\n",
              "      <td>0</td>\n",
              "      <td>0</td>\n",
              "      <td>0</td>\n",
              "      <td>0</td>\n",
              "      <td>0</td>\n",
              "    </tr>\n",
              "    <tr>\n",
              "      <th>2</th>\n",
              "      <td>0</td>\n",
              "      <td>1</td>\n",
              "      <td>120</td>\n",
              "      <td>35</td>\n",
              "      <td>64</td>\n",
              "      <td>75</td>\n",
              "      <td>12986873</td>\n",
              "      <td>12986862</td>\n",
              "      <td>272</td>\n",
              "      <td>272.212214</td>\n",
              "      <td>1</td>\n",
              "      <td>0</td>\n",
              "      <td>0</td>\n",
              "      <td>0</td>\n",
              "      <td>0</td>\n",
              "    </tr>\n",
              "    <tr>\n",
              "      <th>3</th>\n",
              "      <td>0</td>\n",
              "      <td>1</td>\n",
              "      <td>130</td>\n",
              "      <td>39</td>\n",
              "      <td>57</td>\n",
              "      <td>177</td>\n",
              "      <td>309634</td>\n",
              "      <td>310824</td>\n",
              "      <td>3312</td>\n",
              "      <td>3312.310581</td>\n",
              "      <td>0</td>\n",
              "      <td>0</td>\n",
              "      <td>1</td>\n",
              "      <td>0</td>\n",
              "      <td>0</td>\n",
              "    </tr>\n",
              "    <tr>\n",
              "      <th>4</th>\n",
              "      <td>1</td>\n",
              "      <td>0</td>\n",
              "      <td>142</td>\n",
              "      <td>75</td>\n",
              "      <td>23</td>\n",
              "      <td>79</td>\n",
              "      <td>5368307</td>\n",
              "      <td>5367467</td>\n",
              "      <td>862</td>\n",
              "      <td>862.499179</td>\n",
              "      <td>0</td>\n",
              "      <td>0</td>\n",
              "      <td>0</td>\n",
              "      <td>0</td>\n",
              "      <td>0</td>\n",
              "    </tr>\n",
              "  </tbody>\n",
              "</table>\n",
              "</div>"
            ],
            "text/plain": [
              "   grade_A_Component_1  grade_A_Component_2  ...  x_component_4  x_component_5\n",
              "0                    1                    0  ...              0              0\n",
              "1                    0                    1  ...              0              0\n",
              "2                    0                    1  ...              0              0\n",
              "3                    0                    1  ...              0              0\n",
              "4                    1                    0  ...              0              0\n",
              "\n",
              "[5 rows x 15 columns]"
            ]
          },
          "metadata": {
            "tags": []
          },
          "execution_count": 98
        }
      ]
    },
    {
      "cell_type": "code",
      "metadata": {
        "id": "HdT7iLSSR5yk",
        "colab_type": "code",
        "outputId": "6869e799-9ad0-4af6-e613-a593db1feb66",
        "colab": {
          "base_uri": "https://localhost:8080/",
          "height": 563
        }
      },
      "source": [
        "train.isnull().sum(),test.isnull().sum(),train.shape,test.shape"
      ],
      "execution_count": 99,
      "outputs": [
        {
          "output_type": "execute_result",
          "data": {
            "text/plain": [
              "(grade_A_Component_1    0\n",
              " grade_A_Component_2    0\n",
              " max_luminosity         0\n",
              " thickness              0\n",
              " xmin                   0\n",
              " xmax                   0\n",
              " ymin                   0\n",
              " ymax                   0\n",
              " pixel_area             0\n",
              " log_area               0\n",
              " x_component_1          0\n",
              " x_component_2          0\n",
              " x_component_3          0\n",
              " x_component_4          0\n",
              " x_component_5          0\n",
              " class                  0\n",
              " dtype: int64, grade_A_Component_1    0\n",
              " grade_A_Component_2    0\n",
              " max_luminosity         0\n",
              " thickness              0\n",
              " xmin                   0\n",
              " xmax                   0\n",
              " ymin                   0\n",
              " ymax                   0\n",
              " pixel_area             0\n",
              " log_area               0\n",
              " x_component_1          0\n",
              " x_component_2          0\n",
              " x_component_3          0\n",
              " x_component_4          0\n",
              " x_component_5          0\n",
              " dtype: int64, (1358, 16), (583, 15))"
            ]
          },
          "metadata": {
            "tags": []
          },
          "execution_count": 99
        }
      ]
    },
    {
      "cell_type": "code",
      "metadata": {
        "id": "7_dKDfDiKb6C",
        "colab_type": "code",
        "colab": {}
      },
      "source": [
        "train['class']=train['class']-1"
      ],
      "execution_count": 0,
      "outputs": []
    },
    {
      "cell_type": "code",
      "metadata": {
        "id": "73c8HyNKeiIC",
        "colab_type": "code",
        "colab": {}
      },
      "source": [
        "train_df=train\n",
        "test_df=test"
      ],
      "execution_count": 0,
      "outputs": []
    },
    {
      "cell_type": "code",
      "metadata": {
        "id": "OeKehT4PepNH",
        "colab_type": "code",
        "colab": {}
      },
      "source": [
        "X = train_df.drop(labels=['class'], axis=1)\n",
        "y = train_df['class'].values"
      ],
      "execution_count": 0,
      "outputs": []
    },
    {
      "cell_type": "code",
      "metadata": {
        "id": "u194VSTMesml",
        "colab_type": "code",
        "colab": {}
      },
      "source": [
        "from sklearn.model_selection import train_test_split\n",
        "X_train, X_cv, y_train, y_cv = train_test_split(X, y, test_size=0.25, random_state=42, stratify=y)"
      ],
      "execution_count": 0,
      "outputs": []
    },
    {
      "cell_type": "code",
      "metadata": {
        "id": "cuHlF0P7evLW",
        "colab_type": "code",
        "outputId": "e66014d4-2e40-4a8b-a971-bce58afd1cbe",
        "colab": {
          "base_uri": "https://localhost:8080/",
          "height": 34
        }
      },
      "source": [
        "X_train.shape, y_train.shape, X_cv.shape, y_cv.shape"
      ],
      "execution_count": 104,
      "outputs": [
        {
          "output_type": "execute_result",
          "data": {
            "text/plain": [
              "((1018, 15), (1018,), (340, 15), (340,))"
            ]
          },
          "metadata": {
            "tags": []
          },
          "execution_count": 104
        }
      ]
    },
    {
      "cell_type": "code",
      "metadata": {
        "id": "B84xq5-bexUe",
        "colab_type": "code",
        "colab": {}
      },
      "source": [
        "from sklearn.metrics import log_loss"
      ],
      "execution_count": 0,
      "outputs": []
    },
    {
      "cell_type": "code",
      "metadata": {
        "id": "ZF5xcq8Bezhp",
        "colab_type": "code",
        "outputId": "d64604a0-fbbb-4821-e70d-9447d7995c4a",
        "colab": {
          "base_uri": "https://localhost:8080/",
          "height": 204
        }
      },
      "source": [
        "import lightgbm as lgb\n",
        "train_data = lgb.Dataset(X_train, label=y_train)\n",
        "test_data = lgb.Dataset(X_cv, label=y_cv)\n",
        "\n",
        "param = {'objective': 'multiclass',\n",
        "         'num_class': 2,\n",
        "         'boosting': 'gbdt',  \n",
        "         'metric': 'multi_logloss',\n",
        "         'learning_rate': 0.01, \n",
        "         'num_iterations': 1000,\n",
        "         'num_leaves': 100,\n",
        "         'max_depth': -1,\n",
        "         'min_data_in_leaf': 15,\n",
        "         'bagging_fraction':0.9,\n",
        "         'bagging_freq': 1,\n",
        "         'feature_fraction': 0.7,\n",
        "         'lambda_l2': 0.8,\n",
        "         'min_data_per_group': 75,\n",
        "         'max_bin': 255,\n",
        "         'is_unbalance':False\n",
        "         }\n",
        "\n",
        "clf = lgb.train(params=param, \n",
        "                early_stopping_rounds=200,\n",
        "                verbose_eval=100,\n",
        "                train_set=train_data,\n",
        "                valid_sets=[test_data])\n",
        "\n",
        "y_pred = clf.predict(X_cv)"
      ],
      "execution_count": 110,
      "outputs": [
        {
          "output_type": "stream",
          "text": [
            "/usr/local/lib/python3.6/dist-packages/lightgbm/engine.py:118: UserWarning: Found `num_iterations` in params. Will use it instead of argument\n",
            "  warnings.warn(\"Found `{}` in params. Will use it instead of argument\".format(alias))\n"
          ],
          "name": "stderr"
        },
        {
          "output_type": "stream",
          "text": [
            "Training until validation scores don't improve for 200 rounds.\n",
            "[100]\tvalid_0's multi_logloss: 0.432508\n",
            "[200]\tvalid_0's multi_logloss: 0.353201\n",
            "[300]\tvalid_0's multi_logloss: 0.324383\n",
            "[400]\tvalid_0's multi_logloss: 0.313522\n",
            "[500]\tvalid_0's multi_logloss: 0.313319\n",
            "[600]\tvalid_0's multi_logloss: 0.317623\n",
            "Early stopping, best iteration is:\n",
            "[449]\tvalid_0's multi_logloss: 0.312293\n"
          ],
          "name": "stdout"
        }
      ]
    },
    {
      "cell_type": "code",
      "metadata": {
        "id": "hQ5oLMzze26c",
        "colab_type": "code",
        "outputId": "51c418ab-69db-40d3-b935-6258ecba250c",
        "colab": {
          "base_uri": "https://localhost:8080/",
          "height": 34
        }
      },
      "source": [
        "log_loss(y_cv, y_pred)"
      ],
      "execution_count": 111,
      "outputs": [
        {
          "output_type": "execute_result",
          "data": {
            "text/plain": [
              "0.312293259131336"
            ]
          },
          "metadata": {
            "tags": []
          },
          "execution_count": 111
        }
      ]
    },
    {
      "cell_type": "code",
      "metadata": {
        "id": "9lY0lirie7MR",
        "colab_type": "code",
        "outputId": "f47618bd-a031-449c-b023-6f9445ec13a7",
        "colab": {
          "base_uri": "https://localhost:8080/",
          "height": 728
        }
      },
      "source": [
        "import seaborn as sns\n",
        "feature_imp = pd.DataFrame(sorted(zip(clf.feature_importance(), X.columns), reverse=True)[:], columns=['Value','Feature'])\n",
        "plt.figure(figsize=(10,10))\n",
        "sns.barplot(x=\"Value\", y=\"Feature\", data=feature_imp.sort_values(by=\"Value\", ascending=False))\n",
        "plt.title('LightGBM Features')\n",
        "plt.tight_layout()\n",
        "plt.show()"
      ],
      "execution_count": 112,
      "outputs": [
        {
          "output_type": "display_data",
          "data": {
            "image/png": "[encoded data removed]",
            "text/plain": [
              "<Figure size 720x720 with 1 Axes>"
            ]
          },
          "metadata": {
            "tags": [],
            "needs_background": "light"
          }
        }
      ]
    },
    {
      "cell_type": "code",
      "metadata": {
        "id": "-QEIM9_hfMGk",
        "colab_type": "code",
        "colab": {}
      },
      "source": [
        "#feature_imp.loc[feature_imp.Value >= 0].sort_values(by=['Value'], ascending = False)"
      ],
      "execution_count": 0,
      "outputs": []
    },
    {
      "cell_type": "code",
      "metadata": {
        "id": "fZGeMEoUfXDH",
        "colab_type": "code",
        "colab": {}
      },
      "source": [
        "Xtest = test_df"
      ],
      "execution_count": 0,
      "outputs": []
    },
    {
      "cell_type": "code",
      "metadata": {
        "id": "uGFcLuoZfZuE",
        "colab_type": "code",
        "outputId": "abf97713-1e26-4973-ce7c-35725b147247",
        "colab": {
          "base_uri": "https://localhost:8080/",
          "height": 1000
        }
      },
      "source": [
        "\n",
        "from sklearn.model_selection import KFold, StratifiedKFold\n",
        "\n",
        "errlgb = []\n",
        "y_pred_totlgb = []\n",
        "\n",
        "fold = StratifiedKFold(n_splits=30, shuffle=False, random_state=123456789)\n",
        "\n",
        "for train_index, test_index in fold.split(X, y):\n",
        "    \n",
        "    X_train, X_test = X.loc[train_index], X.loc[test_index]\n",
        "    y_train, y_test = y[train_index], y[test_index]\n",
        "    \n",
        "    train_data = lgb.Dataset(X_train, label=y_train)\n",
        "    test_data = lgb.Dataset(X_test, label=y_test)\n",
        "    param = {'objective': 'multiclass',\n",
        "         'num_class': 2,\n",
        "         'boosting': 'gbdt',  \n",
        "         'metric': 'multi_logloss',\n",
        "         'learning_rate': 0.01, \n",
        "         'num_iterations': 2000,\n",
        "         'num_leaves': 100,\n",
        "         'max_depth': -1,\n",
        "         'min_data_in_leaf': 15,\n",
        "         'bagging_fraction':0.9,\n",
        "         'bagging_freq': 1,\n",
        "         'feature_fraction': 0.7,\n",
        "         'lambda_l2': 0.8,\n",
        "         'min_data_per_group': 75,\n",
        "         'max_bin': 255,\n",
        "         'is_unbalance':False\n",
        "         }\n",
        "    clf = lgb.train(params=param,\n",
        "                     early_stopping_rounds=200,\n",
        "                     verbose_eval=100,\n",
        "                     train_set=train_data,\n",
        "                     valid_sets=[test_data])\n",
        "\n",
        "    y_pred = clf.predict(X_test)\n",
        "    print(\"Log Loss: \", (log_loss(y_test, y_pred)))\n",
        "    \n",
        "    errlgb.append(log_loss(y_test, y_pred))\n",
        "    p = clf.predict(Xtest)\n",
        "    y_pred_totlgb.append(p)"
      ],
      "execution_count": 123,
      "outputs": [
        {
          "output_type": "stream",
          "text": [
            "/usr/local/lib/python3.6/dist-packages/sklearn/model_selection/_split.py:296: FutureWarning: Setting a random_state has no effect since shuffle is False. This will raise an error in 0.24. You should leave random_state to its default (None), or set shuffle=True.\n",
            "  FutureWarning\n",
            "/usr/local/lib/python3.6/dist-packages/lightgbm/engine.py:118: UserWarning: Found `num_iterations` in params. Will use it instead of argument\n",
            "  warnings.warn(\"Found `{}` in params. Will use it instead of argument\".format(alias))\n"
          ],
          "name": "stderr"
        },
        {
          "output_type": "stream",
          "text": [
            "Training until validation scores don't improve for 200 rounds.\n",
            "[100]\tvalid_0's multi_logloss: 0.425837\n",
            "[200]\tvalid_0's multi_logloss: 0.340404\n",
            "[300]\tvalid_0's multi_logloss: 0.306499\n",
            "[400]\tvalid_0's multi_logloss: 0.287578\n",
            "[500]\tvalid_0's multi_logloss: 0.275924\n",
            "[600]\tvalid_0's multi_logloss: 0.273279\n",
            "[700]\tvalid_0's multi_logloss: 0.27503\n",
            "[800]\tvalid_0's multi_logloss: 0.276989\n",
            "Early stopping, best iteration is:\n",
            "[634]\tvalid_0's multi_logloss: 0.271518\n",
            "Log Loss:  0.2715181010225037\n",
            "Training until validation scores don't improve for 200 rounds.\n"
          ],
          "name": "stdout"
        },
        {
          "output_type": "stream",
          "text": [
            "/usr/local/lib/python3.6/dist-packages/lightgbm/engine.py:118: UserWarning: Found `num_iterations` in params. Will use it instead of argument\n",
            "  warnings.warn(\"Found `{}` in params. Will use it instead of argument\".format(alias))\n"
          ],
          "name": "stderr"
        },
        {
          "output_type": "stream",
          "text": [
            "[100]\tvalid_0's multi_logloss: 0.422116\n",
            "[200]\tvalid_0's multi_logloss: 0.329144\n",
            "[300]\tvalid_0's multi_logloss: 0.289395\n",
            "[400]\tvalid_0's multi_logloss: 0.278753\n",
            "[500]\tvalid_0's multi_logloss: 0.26864\n",
            "[600]\tvalid_0's multi_logloss: 0.263382\n",
            "[700]\tvalid_0's multi_logloss: 0.263449\n",
            "[800]\tvalid_0's multi_logloss: 0.264563\n",
            "Early stopping, best iteration is:\n",
            "[642]\tvalid_0's multi_logloss: 0.261574\n",
            "Log Loss:  0.2615738836132851\n",
            "Training until validation scores don't improve for 200 rounds.\n"
          ],
          "name": "stdout"
        },
        {
          "output_type": "stream",
          "text": [
            "/usr/local/lib/python3.6/dist-packages/lightgbm/engine.py:118: UserWarning: Found `num_iterations` in params. Will use it instead of argument\n",
            "  warnings.warn(\"Found `{}` in params. Will use it instead of argument\".format(alias))\n"
          ],
          "name": "stderr"
        },
        {
          "output_type": "stream",
          "text": [
            "[100]\tvalid_0's multi_logloss: 0.360413\n",
            "[200]\tvalid_0's multi_logloss: 0.245576\n",
            "[300]\tvalid_0's multi_logloss: 0.19711\n",
            "[400]\tvalid_0's multi_logloss: 0.169732\n",
            "[500]\tvalid_0's multi_logloss: 0.154038\n",
            "[600]\tvalid_0's multi_logloss: 0.142899\n",
            "[700]\tvalid_0's multi_logloss: 0.136148\n",
            "[800]\tvalid_0's multi_logloss: 0.13285\n",
            "[900]\tvalid_0's multi_logloss: 0.130497\n",
            "[1000]\tvalid_0's multi_logloss: 0.12938\n",
            "[1100]\tvalid_0's multi_logloss: 0.127305\n",
            "[1200]\tvalid_0's multi_logloss: 0.124561\n",
            "[1300]\tvalid_0's multi_logloss: 0.12232\n",
            "[1400]\tvalid_0's multi_logloss: 0.119573\n",
            "[1500]\tvalid_0's multi_logloss: 0.119227\n",
            "[1600]\tvalid_0's multi_logloss: 0.119096\n",
            "[1700]\tvalid_0's multi_logloss: 0.118385\n",
            "[1800]\tvalid_0's multi_logloss: 0.118809\n",
            "[1900]\tvalid_0's multi_logloss: 0.118893\n",
            "Early stopping, best iteration is:\n",
            "[1709]\tvalid_0's multi_logloss: 0.118281\n",
            "Log Loss:  0.11828141174776363\n"
          ],
          "name": "stdout"
        },
        {
          "output_type": "stream",
          "text": [
            "/usr/local/lib/python3.6/dist-packages/lightgbm/engine.py:118: UserWarning: Found `num_iterations` in params. Will use it instead of argument\n",
            "  warnings.warn(\"Found `{}` in params. Will use it instead of argument\".format(alias))\n"
          ],
          "name": "stderr"
        },
        {
          "output_type": "stream",
          "text": [
            "Training until validation scores don't improve for 200 rounds.\n",
            "[100]\tvalid_0's multi_logloss: 0.444501\n",
            "[200]\tvalid_0's multi_logloss: 0.398004\n",
            "[300]\tvalid_0's multi_logloss: 0.394782\n",
            "[400]\tvalid_0's multi_logloss: 0.405886\n",
            "Early stopping, best iteration is:\n",
            "[261]\tvalid_0's multi_logloss: 0.39318\n",
            "Log Loss:  0.39317982956651265\n",
            "Training until validation scores don't improve for 200 rounds.\n"
          ],
          "name": "stdout"
        },
        {
          "output_type": "stream",
          "text": [
            "/usr/local/lib/python3.6/dist-packages/lightgbm/engine.py:118: UserWarning: Found `num_iterations` in params. Will use it instead of argument\n",
            "  warnings.warn(\"Found `{}` in params. Will use it instead of argument\".format(alias))\n"
          ],
          "name": "stderr"
        },
        {
          "output_type": "stream",
          "text": [
            "[100]\tvalid_0's multi_logloss: 0.439397\n",
            "[200]\tvalid_0's multi_logloss: 0.376622\n",
            "[300]\tvalid_0's multi_logloss: 0.358664\n",
            "[400]\tvalid_0's multi_logloss: 0.358003\n",
            "[500]\tvalid_0's multi_logloss: 0.357365\n",
            "[600]\tvalid_0's multi_logloss: 0.368191\n",
            "Early stopping, best iteration is:\n",
            "[447]\tvalid_0's multi_logloss: 0.355555\n",
            "Log Loss:  0.3555545542599252\n",
            "Training until validation scores don't improve for 200 rounds.\n"
          ],
          "name": "stdout"
        },
        {
          "output_type": "stream",
          "text": [
            "/usr/local/lib/python3.6/dist-packages/lightgbm/engine.py:118: UserWarning: Found `num_iterations` in params. Will use it instead of argument\n",
            "  warnings.warn(\"Found `{}` in params. Will use it instead of argument\".format(alias))\n"
          ],
          "name": "stderr"
        },
        {
          "output_type": "stream",
          "text": [
            "[100]\tvalid_0's multi_logloss: 0.412049\n",
            "[200]\tvalid_0's multi_logloss: 0.329638\n",
            "[300]\tvalid_0's multi_logloss: 0.288634\n",
            "[400]\tvalid_0's multi_logloss: 0.268352\n",
            "[500]\tvalid_0's multi_logloss: 0.256901\n",
            "[600]\tvalid_0's multi_logloss: 0.247947\n",
            "[700]\tvalid_0's multi_logloss: 0.240632\n",
            "[800]\tvalid_0's multi_logloss: 0.23689\n",
            "[900]\tvalid_0's multi_logloss: 0.231473\n",
            "[1000]\tvalid_0's multi_logloss: 0.23038\n",
            "[1100]\tvalid_0's multi_logloss: 0.229219\n",
            "[1200]\tvalid_0's multi_logloss: 0.228161\n",
            "[1300]\tvalid_0's multi_logloss: 0.227439\n",
            "[1400]\tvalid_0's multi_logloss: 0.227712\n",
            "[1500]\tvalid_0's multi_logloss: 0.229026\n",
            "Early stopping, best iteration is:\n",
            "[1320]\tvalid_0's multi_logloss: 0.226692\n",
            "Log Loss:  0.2266917925472515\n",
            "Training until validation scores don't improve for 200 rounds.\n"
          ],
          "name": "stdout"
        },
        {
          "output_type": "stream",
          "text": [
            "/usr/local/lib/python3.6/dist-packages/lightgbm/engine.py:118: UserWarning: Found `num_iterations` in params. Will use it instead of argument\n",
            "  warnings.warn(\"Found `{}` in params. Will use it instead of argument\".format(alias))\n"
          ],
          "name": "stderr"
        },
        {
          "output_type": "stream",
          "text": [
            "[100]\tvalid_0's multi_logloss: 0.401316\n",
            "[200]\tvalid_0's multi_logloss: 0.314788\n",
            "[300]\tvalid_0's multi_logloss: 0.280284\n",
            "[400]\tvalid_0's multi_logloss: 0.268504\n",
            "[500]\tvalid_0's multi_logloss: 0.267488\n",
            "[600]\tvalid_0's multi_logloss: 0.271504\n",
            "Early stopping, best iteration is:\n",
            "[459]\tvalid_0's multi_logloss: 0.266011\n",
            "Log Loss:  0.2660111492321064\n",
            "Training until validation scores don't improve for 200 rounds.\n"
          ],
          "name": "stdout"
        },
        {
          "output_type": "stream",
          "text": [
            "/usr/local/lib/python3.6/dist-packages/lightgbm/engine.py:118: UserWarning: Found `num_iterations` in params. Will use it instead of argument\n",
            "  warnings.warn(\"Found `{}` in params. Will use it instead of argument\".format(alias))\n"
          ],
          "name": "stderr"
        },
        {
          "output_type": "stream",
          "text": [
            "[100]\tvalid_0's multi_logloss: 0.460629\n",
            "[200]\tvalid_0's multi_logloss: 0.380705\n",
            "[300]\tvalid_0's multi_logloss: 0.351481\n",
            "[400]\tvalid_0's multi_logloss: 0.337418\n",
            "[500]\tvalid_0's multi_logloss: 0.330344\n",
            "[600]\tvalid_0's multi_logloss: 0.333114\n",
            "Early stopping, best iteration is:\n",
            "[478]\tvalid_0's multi_logloss: 0.32918\n",
            "Log Loss:  0.32917984248784954\n",
            "Training until validation scores don't improve for 200 rounds.\n"
          ],
          "name": "stdout"
        },
        {
          "output_type": "stream",
          "text": [
            "/usr/local/lib/python3.6/dist-packages/lightgbm/engine.py:118: UserWarning: Found `num_iterations` in params. Will use it instead of argument\n",
            "  warnings.warn(\"Found `{}` in params. Will use it instead of argument\".format(alias))\n"
          ],
          "name": "stderr"
        },
        {
          "output_type": "stream",
          "text": [
            "[100]\tvalid_0's multi_logloss: 0.374784\n",
            "[200]\tvalid_0's multi_logloss: 0.27567\n",
            "[300]\tvalid_0's multi_logloss: 0.230325\n",
            "[400]\tvalid_0's multi_logloss: 0.20799\n",
            "[500]\tvalid_0's multi_logloss: 0.195157\n",
            "[600]\tvalid_0's multi_logloss: 0.188811\n",
            "[700]\tvalid_0's multi_logloss: 0.184309\n",
            "[800]\tvalid_0's multi_logloss: 0.180699\n",
            "[900]\tvalid_0's multi_logloss: 0.179849\n",
            "[1000]\tvalid_0's multi_logloss: 0.179779\n",
            "[1100]\tvalid_0's multi_logloss: 0.178342\n",
            "[1200]\tvalid_0's multi_logloss: 0.180072\n",
            "[1300]\tvalid_0's multi_logloss: 0.179304\n",
            "Early stopping, best iteration is:\n",
            "[1109]\tvalid_0's multi_logloss: 0.178128\n",
            "Log Loss:  0.17812807271130665\n",
            "Training until validation scores don't improve for 200 rounds.\n"
          ],
          "name": "stdout"
        },
        {
          "output_type": "stream",
          "text": [
            "/usr/local/lib/python3.6/dist-packages/lightgbm/engine.py:118: UserWarning: Found `num_iterations` in params. Will use it instead of argument\n",
            "  warnings.warn(\"Found `{}` in params. Will use it instead of argument\".format(alias))\n"
          ],
          "name": "stderr"
        },
        {
          "output_type": "stream",
          "text": [
            "[100]\tvalid_0's multi_logloss: 0.398532\n",
            "[200]\tvalid_0's multi_logloss: 0.313211\n",
            "[300]\tvalid_0's multi_logloss: 0.287424\n",
            "[400]\tvalid_0's multi_logloss: 0.283873\n",
            "[500]\tvalid_0's multi_logloss: 0.284787\n",
            "[600]\tvalid_0's multi_logloss: 0.290229\n",
            "Early stopping, best iteration is:\n",
            "[452]\tvalid_0's multi_logloss: 0.282894\n",
            "Log Loss:  0.2828936565486363\n",
            "Training until validation scores don't improve for 200 rounds.\n"
          ],
          "name": "stdout"
        },
        {
          "output_type": "stream",
          "text": [
            "/usr/local/lib/python3.6/dist-packages/lightgbm/engine.py:118: UserWarning: Found `num_iterations` in params. Will use it instead of argument\n",
            "  warnings.warn(\"Found `{}` in params. Will use it instead of argument\".format(alias))\n"
          ],
          "name": "stderr"
        },
        {
          "output_type": "stream",
          "text": [
            "[100]\tvalid_0's multi_logloss: 0.398864\n",
            "[200]\tvalid_0's multi_logloss: 0.314525\n",
            "[300]\tvalid_0's multi_logloss: 0.276658\n",
            "[400]\tvalid_0's multi_logloss: 0.257761\n",
            "[500]\tvalid_0's multi_logloss: 0.248663\n",
            "[600]\tvalid_0's multi_logloss: 0.244317\n",
            "[700]\tvalid_0's multi_logloss: 0.244974\n",
            "[800]\tvalid_0's multi_logloss: 0.243059\n",
            "[900]\tvalid_0's multi_logloss: 0.244284\n",
            "[1000]\tvalid_0's multi_logloss: 0.245595\n",
            "Early stopping, best iteration is:\n",
            "[807]\tvalid_0's multi_logloss: 0.242875\n",
            "Log Loss:  0.24287526050323666\n",
            "Training until validation scores don't improve for 200 rounds.\n"
          ],
          "name": "stdout"
        },
        {
          "output_type": "stream",
          "text": [
            "/usr/local/lib/python3.6/dist-packages/lightgbm/engine.py:118: UserWarning: Found `num_iterations` in params. Will use it instead of argument\n",
            "  warnings.warn(\"Found `{}` in params. Will use it instead of argument\".format(alias))\n"
          ],
          "name": "stderr"
        },
        {
          "output_type": "stream",
          "text": [
            "[100]\tvalid_0's multi_logloss: 0.42466\n",
            "[200]\tvalid_0's multi_logloss: 0.354133\n",
            "[300]\tvalid_0's multi_logloss: 0.328855\n",
            "[400]\tvalid_0's multi_logloss: 0.319095\n",
            "[500]\tvalid_0's multi_logloss: 0.315087\n",
            "[600]\tvalid_0's multi_logloss: 0.319461\n",
            "[700]\tvalid_0's multi_logloss: 0.32236\n",
            "Early stopping, best iteration is:\n",
            "[516]\tvalid_0's multi_logloss: 0.313881\n",
            "Log Loss:  0.3138809902576594\n",
            "Training until validation scores don't improve for 200 rounds.\n"
          ],
          "name": "stdout"
        },
        {
          "output_type": "stream",
          "text": [
            "/usr/local/lib/python3.6/dist-packages/lightgbm/engine.py:118: UserWarning: Found `num_iterations` in params. Will use it instead of argument\n",
            "  warnings.warn(\"Found `{}` in params. Will use it instead of argument\".format(alias))\n"
          ],
          "name": "stderr"
        },
        {
          "output_type": "stream",
          "text": [
            "[100]\tvalid_0's multi_logloss: 0.417912\n",
            "[200]\tvalid_0's multi_logloss: 0.326348\n",
            "[300]\tvalid_0's multi_logloss: 0.286696\n",
            "[400]\tvalid_0's multi_logloss: 0.267226\n",
            "[500]\tvalid_0's multi_logloss: 0.255468\n",
            "[600]\tvalid_0's multi_logloss: 0.250277\n",
            "[700]\tvalid_0's multi_logloss: 0.244636\n",
            "[800]\tvalid_0's multi_logloss: 0.242458\n",
            "[900]\tvalid_0's multi_logloss: 0.24294\n",
            "Early stopping, best iteration is:\n",
            "[781]\tvalid_0's multi_logloss: 0.242244\n",
            "Log Loss:  0.24224446305920364\n",
            "Training until validation scores don't improve for 200 rounds.\n"
          ],
          "name": "stdout"
        },
        {
          "output_type": "stream",
          "text": [
            "/usr/local/lib/python3.6/dist-packages/lightgbm/engine.py:118: UserWarning: Found `num_iterations` in params. Will use it instead of argument\n",
            "  warnings.warn(\"Found `{}` in params. Will use it instead of argument\".format(alias))\n"
          ],
          "name": "stderr"
        },
        {
          "output_type": "stream",
          "text": [
            "[100]\tvalid_0's multi_logloss: 0.370009\n",
            "[200]\tvalid_0's multi_logloss: 0.259803\n",
            "[300]\tvalid_0's multi_logloss: 0.20435\n",
            "[400]\tvalid_0's multi_logloss: 0.175756\n",
            "[500]\tvalid_0's multi_logloss: 0.160927\n",
            "[600]\tvalid_0's multi_logloss: 0.153184\n",
            "[700]\tvalid_0's multi_logloss: 0.1507\n",
            "[800]\tvalid_0's multi_logloss: 0.148692\n",
            "[900]\tvalid_0's multi_logloss: 0.147646\n",
            "[1000]\tvalid_0's multi_logloss: 0.148021\n",
            "Early stopping, best iteration is:\n",
            "[838]\tvalid_0's multi_logloss: 0.147142\n",
            "Log Loss:  0.14714221237846015\n",
            "Training until validation scores don't improve for 200 rounds.\n"
          ],
          "name": "stdout"
        },
        {
          "output_type": "stream",
          "text": [
            "/usr/local/lib/python3.6/dist-packages/lightgbm/engine.py:118: UserWarning: Found `num_iterations` in params. Will use it instead of argument\n",
            "  warnings.warn(\"Found `{}` in params. Will use it instead of argument\".format(alias))\n"
          ],
          "name": "stderr"
        },
        {
          "output_type": "stream",
          "text": [
            "[100]\tvalid_0's multi_logloss: 0.433693\n",
            "[200]\tvalid_0's multi_logloss: 0.353682\n",
            "[300]\tvalid_0's multi_logloss: 0.317042\n",
            "[400]\tvalid_0's multi_logloss: 0.298466\n",
            "[500]\tvalid_0's multi_logloss: 0.286528\n",
            "[600]\tvalid_0's multi_logloss: 0.279975\n",
            "[700]\tvalid_0's multi_logloss: 0.275232\n",
            "[800]\tvalid_0's multi_logloss: 0.268655\n",
            "[900]\tvalid_0's multi_logloss: 0.268674\n",
            "[1000]\tvalid_0's multi_logloss: 0.266795\n",
            "[1100]\tvalid_0's multi_logloss: 0.267553\n",
            "Early stopping, best iteration is:\n",
            "[967]\tvalid_0's multi_logloss: 0.266194\n",
            "Log Loss:  0.2661944148062416\n",
            "Training until validation scores don't improve for 200 rounds.\n"
          ],
          "name": "stdout"
        },
        {
          "output_type": "stream",
          "text": [
            "/usr/local/lib/python3.6/dist-packages/lightgbm/engine.py:118: UserWarning: Found `num_iterations` in params. Will use it instead of argument\n",
            "  warnings.warn(\"Found `{}` in params. Will use it instead of argument\".format(alias))\n"
          ],
          "name": "stderr"
        },
        {
          "output_type": "stream",
          "text": [
            "[100]\tvalid_0's multi_logloss: 0.427955\n",
            "[200]\tvalid_0's multi_logloss: 0.344849\n",
            "[300]\tvalid_0's multi_logloss: 0.308701\n",
            "[400]\tvalid_0's multi_logloss: 0.289209\n",
            "[500]\tvalid_0's multi_logloss: 0.277412\n",
            "[600]\tvalid_0's multi_logloss: 0.274155\n",
            "[700]\tvalid_0's multi_logloss: 0.274946\n",
            "[800]\tvalid_0's multi_logloss: 0.27598\n",
            "Early stopping, best iteration is:\n",
            "[638]\tvalid_0's multi_logloss: 0.273244\n",
            "Log Loss:  0.2732435912533146\n",
            "Training until validation scores don't improve for 200 rounds.\n"
          ],
          "name": "stdout"
        },
        {
          "output_type": "stream",
          "text": [
            "/usr/local/lib/python3.6/dist-packages/lightgbm/engine.py:118: UserWarning: Found `num_iterations` in params. Will use it instead of argument\n",
            "  warnings.warn(\"Found `{}` in params. Will use it instead of argument\".format(alias))\n"
          ],
          "name": "stderr"
        },
        {
          "output_type": "stream",
          "text": [
            "[100]\tvalid_0's multi_logloss: 0.438941\n",
            "[200]\tvalid_0's multi_logloss: 0.374056\n",
            "[300]\tvalid_0's multi_logloss: 0.356631\n",
            "[400]\tvalid_0's multi_logloss: 0.353956\n",
            "[500]\tvalid_0's multi_logloss: 0.354124\n",
            "Early stopping, best iteration is:\n",
            "[360]\tvalid_0's multi_logloss: 0.35249\n",
            "Log Loss:  0.3524898864283331\n",
            "Training until validation scores don't improve for 200 rounds.\n"
          ],
          "name": "stdout"
        },
        {
          "output_type": "stream",
          "text": [
            "/usr/local/lib/python3.6/dist-packages/lightgbm/engine.py:118: UserWarning: Found `num_iterations` in params. Will use it instead of argument\n",
            "  warnings.warn(\"Found `{}` in params. Will use it instead of argument\".format(alias))\n"
          ],
          "name": "stderr"
        },
        {
          "output_type": "stream",
          "text": [
            "[100]\tvalid_0's multi_logloss: 0.417741\n",
            "[200]\tvalid_0's multi_logloss: 0.329681\n",
            "[300]\tvalid_0's multi_logloss: 0.294342\n",
            "[400]\tvalid_0's multi_logloss: 0.271557\n",
            "[500]\tvalid_0's multi_logloss: 0.261016\n",
            "[600]\tvalid_0's multi_logloss: 0.257111\n",
            "[700]\tvalid_0's multi_logloss: 0.253212\n",
            "[800]\tvalid_0's multi_logloss: 0.250927\n",
            "[900]\tvalid_0's multi_logloss: 0.24838\n",
            "[1000]\tvalid_0's multi_logloss: 0.248378\n",
            "[1100]\tvalid_0's multi_logloss: 0.24624\n",
            "[1200]\tvalid_0's multi_logloss: 0.247573\n",
            "[1300]\tvalid_0's multi_logloss: 0.248869\n",
            "Early stopping, best iteration is:\n",
            "[1115]\tvalid_0's multi_logloss: 0.245752\n",
            "Log Loss:  0.2457518088290766\n",
            "Training until validation scores don't improve for 200 rounds.\n"
          ],
          "name": "stdout"
        },
        {
          "output_type": "stream",
          "text": [
            "/usr/local/lib/python3.6/dist-packages/lightgbm/engine.py:118: UserWarning: Found `num_iterations` in params. Will use it instead of argument\n",
            "  warnings.warn(\"Found `{}` in params. Will use it instead of argument\".format(alias))\n"
          ],
          "name": "stderr"
        },
        {
          "output_type": "stream",
          "text": [
            "[100]\tvalid_0's multi_logloss: 0.415298\n",
            "[200]\tvalid_0's multi_logloss: 0.331428\n",
            "[300]\tvalid_0's multi_logloss: 0.296213\n",
            "[400]\tvalid_0's multi_logloss: 0.281314\n",
            "[500]\tvalid_0's multi_logloss: 0.273842\n",
            "[600]\tvalid_0's multi_logloss: 0.268895\n",
            "[700]\tvalid_0's multi_logloss: 0.262969\n",
            "[800]\tvalid_0's multi_logloss: 0.261515\n",
            "[900]\tvalid_0's multi_logloss: 0.260819\n",
            "[1000]\tvalid_0's multi_logloss: 0.257874\n",
            "[1100]\tvalid_0's multi_logloss: 0.257272\n",
            "[1200]\tvalid_0's multi_logloss: 0.258209\n",
            "Early stopping, best iteration is:\n",
            "[1035]\tvalid_0's multi_logloss: 0.256538\n",
            "Log Loss:  0.25653790519243913\n",
            "Training until validation scores don't improve for 200 rounds.\n"
          ],
          "name": "stdout"
        },
        {
          "output_type": "stream",
          "text": [
            "/usr/local/lib/python3.6/dist-packages/lightgbm/engine.py:118: UserWarning: Found `num_iterations` in params. Will use it instead of argument\n",
            "  warnings.warn(\"Found `{}` in params. Will use it instead of argument\".format(alias))\n"
          ],
          "name": "stderr"
        },
        {
          "output_type": "stream",
          "text": [
            "[100]\tvalid_0's multi_logloss: 0.406124\n",
            "[200]\tvalid_0's multi_logloss: 0.31754\n",
            "[300]\tvalid_0's multi_logloss: 0.289378\n",
            "[400]\tvalid_0's multi_logloss: 0.283002\n",
            "[500]\tvalid_0's multi_logloss: 0.28455\n",
            "[600]\tvalid_0's multi_logloss: 0.292994\n",
            "Early stopping, best iteration is:\n",
            "[431]\tvalid_0's multi_logloss: 0.281791\n",
            "Log Loss:  0.2817911607477937\n",
            "Training until validation scores don't improve for 200 rounds.\n"
          ],
          "name": "stdout"
        },
        {
          "output_type": "stream",
          "text": [
            "/usr/local/lib/python3.6/dist-packages/lightgbm/engine.py:118: UserWarning: Found `num_iterations` in params. Will use it instead of argument\n",
            "  warnings.warn(\"Found `{}` in params. Will use it instead of argument\".format(alias))\n"
          ],
          "name": "stderr"
        },
        {
          "output_type": "stream",
          "text": [
            "[100]\tvalid_0's multi_logloss: 0.431237\n",
            "[200]\tvalid_0's multi_logloss: 0.354391\n",
            "[300]\tvalid_0's multi_logloss: 0.330135\n",
            "[400]\tvalid_0's multi_logloss: 0.326548\n",
            "[500]\tvalid_0's multi_logloss: 0.331225\n",
            "[600]\tvalid_0's multi_logloss: 0.337613\n",
            "Early stopping, best iteration is:\n",
            "[400]\tvalid_0's multi_logloss: 0.326548\n",
            "Log Loss:  0.32654774820952426\n",
            "Training until validation scores don't improve for 200 rounds.\n"
          ],
          "name": "stdout"
        },
        {
          "output_type": "stream",
          "text": [
            "/usr/local/lib/python3.6/dist-packages/lightgbm/engine.py:118: UserWarning: Found `num_iterations` in params. Will use it instead of argument\n",
            "  warnings.warn(\"Found `{}` in params. Will use it instead of argument\".format(alias))\n"
          ],
          "name": "stderr"
        },
        {
          "output_type": "stream",
          "text": [
            "[100]\tvalid_0's multi_logloss: 0.421054\n",
            "[200]\tvalid_0's multi_logloss: 0.335285\n",
            "[300]\tvalid_0's multi_logloss: 0.303721\n",
            "[400]\tvalid_0's multi_logloss: 0.288689\n",
            "[500]\tvalid_0's multi_logloss: 0.281983\n",
            "[600]\tvalid_0's multi_logloss: 0.281431\n",
            "[700]\tvalid_0's multi_logloss: 0.286072\n",
            "Early stopping, best iteration is:\n",
            "[553]\tvalid_0's multi_logloss: 0.280697\n",
            "Log Loss:  0.2806973477335112\n",
            "Training until validation scores don't improve for 200 rounds.\n"
          ],
          "name": "stdout"
        },
        {
          "output_type": "stream",
          "text": [
            "/usr/local/lib/python3.6/dist-packages/lightgbm/engine.py:118: UserWarning: Found `num_iterations` in params. Will use it instead of argument\n",
            "  warnings.warn(\"Found `{}` in params. Will use it instead of argument\".format(alias))\n"
          ],
          "name": "stderr"
        },
        {
          "output_type": "stream",
          "text": [
            "[100]\tvalid_0's multi_logloss: 0.433203\n",
            "[200]\tvalid_0's multi_logloss: 0.375786\n",
            "[300]\tvalid_0's multi_logloss: 0.370346\n",
            "[400]\tvalid_0's multi_logloss: 0.38396\n",
            "Early stopping, best iteration is:\n",
            "[298]\tvalid_0's multi_logloss: 0.370239\n",
            "Log Loss:  0.3702391468936217\n"
          ],
          "name": "stdout"
        },
        {
          "output_type": "stream",
          "text": [
            "/usr/local/lib/python3.6/dist-packages/lightgbm/engine.py:118: UserWarning: Found `num_iterations` in params. Will use it instead of argument\n",
            "  warnings.warn(\"Found `{}` in params. Will use it instead of argument\".format(alias))\n"
          ],
          "name": "stderr"
        },
        {
          "output_type": "stream",
          "text": [
            "Training until validation scores don't improve for 200 rounds.\n",
            "[100]\tvalid_0's multi_logloss: 0.402371\n",
            "[200]\tvalid_0's multi_logloss: 0.312948\n",
            "[300]\tvalid_0's multi_logloss: 0.280019\n",
            "[400]\tvalid_0's multi_logloss: 0.267676\n",
            "[500]\tvalid_0's multi_logloss: 0.265289\n",
            "[600]\tvalid_0's multi_logloss: 0.266599\n",
            "Early stopping, best iteration is:\n",
            "[450]\tvalid_0's multi_logloss: 0.263841\n",
            "Log Loss:  0.26384076339227475\n",
            "Training until validation scores don't improve for 200 rounds.\n"
          ],
          "name": "stdout"
        },
        {
          "output_type": "stream",
          "text": [
            "/usr/local/lib/python3.6/dist-packages/lightgbm/engine.py:118: UserWarning: Found `num_iterations` in params. Will use it instead of argument\n",
            "  warnings.warn(\"Found `{}` in params. Will use it instead of argument\".format(alias))\n"
          ],
          "name": "stderr"
        },
        {
          "output_type": "stream",
          "text": [
            "[100]\tvalid_0's multi_logloss: 0.408589\n",
            "[200]\tvalid_0's multi_logloss: 0.328744\n",
            "[300]\tvalid_0's multi_logloss: 0.300296\n",
            "[400]\tvalid_0's multi_logloss: 0.292432\n",
            "[500]\tvalid_0's multi_logloss: 0.291046\n",
            "[600]\tvalid_0's multi_logloss: 0.292768\n",
            "[700]\tvalid_0's multi_logloss: 0.294089\n",
            "Early stopping, best iteration is:\n",
            "[521]\tvalid_0's multi_logloss: 0.290617\n",
            "Log Loss:  0.29061716625831324\n",
            "Training until validation scores don't improve for 200 rounds.\n"
          ],
          "name": "stdout"
        },
        {
          "output_type": "stream",
          "text": [
            "/usr/local/lib/python3.6/dist-packages/lightgbm/engine.py:118: UserWarning: Found `num_iterations` in params. Will use it instead of argument\n",
            "  warnings.warn(\"Found `{}` in params. Will use it instead of argument\".format(alias))\n"
          ],
          "name": "stderr"
        },
        {
          "output_type": "stream",
          "text": [
            "[100]\tvalid_0's multi_logloss: 0.41394\n",
            "[200]\tvalid_0's multi_logloss: 0.334468\n",
            "[300]\tvalid_0's multi_logloss: 0.306788\n",
            "[400]\tvalid_0's multi_logloss: 0.300941\n",
            "[500]\tvalid_0's multi_logloss: 0.300826\n",
            "[600]\tvalid_0's multi_logloss: 0.305877\n",
            "Early stopping, best iteration is:\n",
            "[420]\tvalid_0's multi_logloss: 0.299834\n",
            "Log Loss:  0.2998336783314928\n",
            "Training until validation scores don't improve for 200 rounds.\n"
          ],
          "name": "stdout"
        },
        {
          "output_type": "stream",
          "text": [
            "/usr/local/lib/python3.6/dist-packages/lightgbm/engine.py:118: UserWarning: Found `num_iterations` in params. Will use it instead of argument\n",
            "  warnings.warn(\"Found `{}` in params. Will use it instead of argument\".format(alias))\n"
          ],
          "name": "stderr"
        },
        {
          "output_type": "stream",
          "text": [
            "[100]\tvalid_0's multi_logloss: 0.450032\n",
            "[200]\tvalid_0's multi_logloss: 0.372673\n",
            "[300]\tvalid_0's multi_logloss: 0.343381\n",
            "[400]\tvalid_0's multi_logloss: 0.329261\n",
            "[500]\tvalid_0's multi_logloss: 0.329027\n",
            "[600]\tvalid_0's multi_logloss: 0.330402\n",
            "Early stopping, best iteration is:\n",
            "[457]\tvalid_0's multi_logloss: 0.325925\n",
            "Log Loss:  0.32592480339265695\n",
            "Training until validation scores don't improve for 200 rounds.\n"
          ],
          "name": "stdout"
        },
        {
          "output_type": "stream",
          "text": [
            "/usr/local/lib/python3.6/dist-packages/lightgbm/engine.py:118: UserWarning: Found `num_iterations` in params. Will use it instead of argument\n",
            "  warnings.warn(\"Found `{}` in params. Will use it instead of argument\".format(alias))\n"
          ],
          "name": "stderr"
        },
        {
          "output_type": "stream",
          "text": [
            "[100]\tvalid_0's multi_logloss: 0.384823\n",
            "[200]\tvalid_0's multi_logloss: 0.284601\n",
            "[300]\tvalid_0's multi_logloss: 0.243794\n",
            "[400]\tvalid_0's multi_logloss: 0.220873\n",
            "[500]\tvalid_0's multi_logloss: 0.205244\n",
            "[600]\tvalid_0's multi_logloss: 0.196554\n",
            "[700]\tvalid_0's multi_logloss: 0.18898\n",
            "[800]\tvalid_0's multi_logloss: 0.184111\n",
            "[900]\tvalid_0's multi_logloss: 0.180888\n",
            "[1000]\tvalid_0's multi_logloss: 0.176347\n",
            "[1100]\tvalid_0's multi_logloss: 0.175395\n",
            "[1200]\tvalid_0's multi_logloss: 0.174949\n",
            "[1300]\tvalid_0's multi_logloss: 0.172997\n",
            "[1400]\tvalid_0's multi_logloss: 0.171666\n",
            "[1500]\tvalid_0's multi_logloss: 0.170478\n",
            "[1600]\tvalid_0's multi_logloss: 0.168826\n",
            "[1700]\tvalid_0's multi_logloss: 0.169614\n",
            "[1800]\tvalid_0's multi_logloss: 0.169465\n",
            "Early stopping, best iteration is:\n",
            "[1600]\tvalid_0's multi_logloss: 0.168826\n",
            "Log Loss:  0.1688264812402459\n"
          ],
          "name": "stdout"
        },
        {
          "output_type": "stream",
          "text": [
            "/usr/local/lib/python3.6/dist-packages/lightgbm/engine.py:118: UserWarning: Found `num_iterations` in params. Will use it instead of argument\n",
            "  warnings.warn(\"Found `{}` in params. Will use it instead of argument\".format(alias))\n"
          ],
          "name": "stderr"
        },
        {
          "output_type": "stream",
          "text": [
            "Training until validation scores don't improve for 200 rounds.\n",
            "[100]\tvalid_0's multi_logloss: 0.462884\n",
            "[200]\tvalid_0's multi_logloss: 0.398229\n",
            "[300]\tvalid_0's multi_logloss: 0.375022\n",
            "[400]\tvalid_0's multi_logloss: 0.362852\n",
            "[500]\tvalid_0's multi_logloss: 0.364574\n",
            "[600]\tvalid_0's multi_logloss: 0.364779\n",
            "Early stopping, best iteration is:\n",
            "[458]\tvalid_0's multi_logloss: 0.361531\n",
            "Log Loss:  0.3615308620165954\n",
            "Training until validation scores don't improve for 200 rounds.\n"
          ],
          "name": "stdout"
        },
        {
          "output_type": "stream",
          "text": [
            "/usr/local/lib/python3.6/dist-packages/lightgbm/engine.py:118: UserWarning: Found `num_iterations` in params. Will use it instead of argument\n",
            "  warnings.warn(\"Found `{}` in params. Will use it instead of argument\".format(alias))\n"
          ],
          "name": "stderr"
        },
        {
          "output_type": "stream",
          "text": [
            "[100]\tvalid_0's multi_logloss: 0.425211\n",
            "[200]\tvalid_0's multi_logloss: 0.34884\n",
            "[300]\tvalid_0's multi_logloss: 0.323959\n",
            "[400]\tvalid_0's multi_logloss: 0.317698\n",
            "[500]\tvalid_0's multi_logloss: 0.314169\n",
            "[600]\tvalid_0's multi_logloss: 0.321197\n",
            "Early stopping, best iteration is:\n",
            "[491]\tvalid_0's multi_logloss: 0.312721\n",
            "Log Loss:  0.3127210640929851\n"
          ],
          "name": "stdout"
        }
      ]
    },
    {
      "cell_type": "code",
      "metadata": {
        "id": "ab8845R-fb_u",
        "colab_type": "code",
        "outputId": "7e5a50bd-8259-4de7-b6ec-fa155935d83c",
        "colab": {
          "base_uri": "https://localhost:8080/",
          "height": 34
        }
      },
      "source": [
        "np.mean(errlgb,0)"
      ],
      "execution_count": 124,
      "outputs": [
        {
          "output_type": "execute_result",
          "data": {
            "text/plain": [
              "0.27686476829180406"
            ]
          },
          "metadata": {
            "tags": []
          },
          "execution_count": 124
        }
      ]
    },
    {
      "cell_type": "code",
      "metadata": {
        "id": "SV0z3rrKf5gT",
        "colab_type": "code",
        "outputId": "0ee73327-111f-4308-d9af-0e73965e959d",
        "colab": {
          "base_uri": "https://localhost:8080/",
          "height": 34
        }
      },
      "source": [
        "sub.columns\n"
      ],
      "execution_count": 125,
      "outputs": [
        {
          "output_type": "execute_result",
          "data": {
            "text/plain": [
              "Int64Index([1, 2], dtype='int64')"
            ]
          },
          "metadata": {
            "tags": []
          },
          "execution_count": 125
        }
      ]
    },
    {
      "cell_type": "code",
      "metadata": {
        "id": "A692fJ5pfhgR",
        "colab_type": "code",
        "colab": {}
      },
      "source": [
        "y_pred = np.mean(y_pred_totlgb,0)"
      ],
      "execution_count": 0,
      "outputs": []
    },
    {
      "cell_type": "code",
      "metadata": {
        "id": "c9Nu4CwKfj-L",
        "colab_type": "code",
        "outputId": "14af2ed8-7301-4b85-8048-be6d1b200b50",
        "colab": {
          "base_uri": "https://localhost:8080/",
          "height": 197
        }
      },
      "source": [
        "submission = pd.DataFrame(data=y_pred, columns=sub.columns)\n",
        "submission.head()"
      ],
      "execution_count": 127,
      "outputs": [
        {
          "output_type": "execute_result",
          "data": {
            "text/html": [
              "<div>\n",
              "<style scoped>\n",
              "    .dataframe tbody tr th:only-of-type {\n",
              "        vertical-align: middle;\n",
              "    }\n",
              "\n",
              "    .dataframe tbody tr th {\n",
              "        vertical-align: top;\n",
              "    }\n",
              "\n",
              "    .dataframe thead th {\n",
              "        text-align: right;\n",
              "    }\n",
              "</style>\n",
              "<table border=\"1\" class=\"dataframe\">\n",
              "  <thead>\n",
              "    <tr style=\"text-align: right;\">\n",
              "      <th></th>\n",
              "      <th>1</th>\n",
              "      <th>2</th>\n",
              "    </tr>\n",
              "  </thead>\n",
              "  <tbody>\n",
              "    <tr>\n",
              "      <th>0</th>\n",
              "      <td>0.991048</td>\n",
              "      <td>0.008952</td>\n",
              "    </tr>\n",
              "    <tr>\n",
              "      <th>1</th>\n",
              "      <td>0.235340</td>\n",
              "      <td>0.764660</td>\n",
              "    </tr>\n",
              "    <tr>\n",
              "      <th>2</th>\n",
              "      <td>0.984223</td>\n",
              "      <td>0.015777</td>\n",
              "    </tr>\n",
              "    <tr>\n",
              "      <th>3</th>\n",
              "      <td>0.985828</td>\n",
              "      <td>0.014172</td>\n",
              "    </tr>\n",
              "    <tr>\n",
              "      <th>4</th>\n",
              "      <td>0.727410</td>\n",
              "      <td>0.272590</td>\n",
              "    </tr>\n",
              "  </tbody>\n",
              "</table>\n",
              "</div>"
            ],
            "text/plain": [
              "          1         2\n",
              "0  0.991048  0.008952\n",
              "1  0.235340  0.764660\n",
              "2  0.984223  0.015777\n",
              "3  0.985828  0.014172\n",
              "4  0.727410  0.272590"
            ]
          },
          "metadata": {
            "tags": []
          },
          "execution_count": 127
        }
      ]
    },
    {
      "cell_type": "code",
      "metadata": {
        "id": "gQxxkChNfqSo",
        "colab_type": "code",
        "colab": {}
      },
      "source": [
        "submission.to_excel('final.xlsx', index=False)"
      ],
      "execution_count": 0,
      "outputs": []
    },
    {
      "cell_type": "code",
      "metadata": {
        "id": "V8dZ4FUnf_6I",
        "colab_type": "code",
        "colab": {}
      },
      "source": [
        "from google.colab import files\n",
        "files.download('final.xlsx')"
      ],
      "execution_count": 0,
      "outputs": []
    },
    {
      "cell_type": "code",
      "metadata": {
        "id": "Cs12J9_bLccE",
        "colab_type": "code",
        "colab": {}
      },
      "source": [
        ""
      ],
      "execution_count": 0,
      "outputs": []
    },
    {
      "cell_type": "code",
      "metadata": {
        "id": "BQIE6Qa6s68B",
        "colab_type": "code",
        "colab": {}
      },
      "source": [
        "TARGET_COL = 'class'"
      ],
      "execution_count": 0,
      "outputs": []
    },
    {
      "cell_type": "code",
      "metadata": {
        "id": "lzVmjC1fgGUM",
        "colab_type": "code",
        "colab": {}
      },
      "source": [
        "test.reset_index(drop=True, inplace=True)\n",
        "target = train[TARGET_COL]\n",
        "features = [c for c in train.columns if c not in [TARGET_COL]]"
      ],
      "execution_count": 0,
      "outputs": []
    },
    {
      "cell_type": "code",
      "metadata": {
        "id": "8X089zpZss_Q",
        "colab_type": "code",
        "colab": {}
      },
      "source": [
        "\n",
        "X_trn, X_val, y_trn, y_val = train_test_split(train[features], target, test_size=0.25, stratify=target, random_state=10)\n",
        "X_test = test[features]"
      ],
      "execution_count": 0,
      "outputs": []
    },
    {
      "cell_type": "code",
      "metadata": {
        "id": "gyMKbnNJswFm",
        "colab_type": "code",
        "outputId": "4ab5d679-4353-4ba0-8067-fcfdfcc24f4c",
        "colab": {
          "base_uri": "https://localhost:8080/",
          "height": 425
        }
      },
      "source": [
        "import numpy as np\n",
        "import pandas as pd\n",
        "from sklearn.model_selection import train_test_split\n",
        "import lightgbm as lgb\n",
        "from lightgbm import LGBMClassifier\n",
        "from sklearn.metrics import log_loss\n",
        "from tqdm import tqdm_notebook\n",
        "from sklearn.utils import shuffle\n",
        "clf = LGBMClassifier(learning_rate=0.01, colsample_bytree=0.3, reg_alpha=3, reg_lambda=3, max_depth=-1, n_estimators=2000, min_child_samples=15, num_leaves=141)\n",
        "_ = clf.fit(X_trn, y_trn, eval_set=[(X_trn, y_trn), (X_val, y_val)], verbose=100, early_stopping_rounds=100)\n",
        "predictions_val_lgb = clf.predict_proba(X_val)\n",
        "print(f\"Log loss for Model 1 is: {log_loss(y_val, predictions_val_lgb)}\")"
      ],
      "execution_count": 0,
      "outputs": [
        {
          "output_type": "stream",
          "text": [
            "Training until validation scores don't improve for 100 rounds.\n",
            "[100]\ttraining's binary_logloss: 0.517235\tvalid_1's binary_logloss: 0.538087\n",
            "[200]\ttraining's binary_logloss: 0.441418\tvalid_1's binary_logloss: 0.475501\n",
            "[300]\ttraining's binary_logloss: 0.394723\tvalid_1's binary_logloss: 0.43767\n",
            "[400]\ttraining's binary_logloss: 0.358405\tvalid_1's binary_logloss: 0.407917\n",
            "[500]\ttraining's binary_logloss: 0.331682\tvalid_1's binary_logloss: 0.387847\n",
            "[600]\ttraining's binary_logloss: 0.311621\tvalid_1's binary_logloss: 0.374356\n",
            "[700]\ttraining's binary_logloss: 0.294523\tvalid_1's binary_logloss: 0.362667\n",
            "[800]\ttraining's binary_logloss: 0.281236\tvalid_1's binary_logloss: 0.353767\n",
            "[900]\ttraining's binary_logloss: 0.269286\tvalid_1's binary_logloss: 0.346235\n",
            "[1000]\ttraining's binary_logloss: 0.25981\tvalid_1's binary_logloss: 0.340033\n",
            "[1100]\ttraining's binary_logloss: 0.252025\tvalid_1's binary_logloss: 0.335436\n",
            "[1200]\ttraining's binary_logloss: 0.245151\tvalid_1's binary_logloss: 0.331296\n",
            "[1300]\ttraining's binary_logloss: 0.238374\tvalid_1's binary_logloss: 0.327656\n",
            "[1400]\ttraining's binary_logloss: 0.233327\tvalid_1's binary_logloss: 0.324695\n",
            "[1500]\ttraining's binary_logloss: 0.228604\tvalid_1's binary_logloss: 0.322292\n",
            "[1600]\ttraining's binary_logloss: 0.224345\tvalid_1's binary_logloss: 0.320047\n",
            "[1700]\ttraining's binary_logloss: 0.221187\tvalid_1's binary_logloss: 0.318663\n",
            "[1800]\ttraining's binary_logloss: 0.218465\tvalid_1's binary_logloss: 0.317483\n",
            "[1900]\ttraining's binary_logloss: 0.215836\tvalid_1's binary_logloss: 0.316037\n",
            "[2000]\ttraining's binary_logloss: 0.213718\tvalid_1's binary_logloss: 0.315011\n",
            "Did not meet early stopping. Best iteration is:\n",
            "[2000]\ttraining's binary_logloss: 0.213718\tvalid_1's binary_logloss: 0.315011\n",
            "Log loss for Model 1 is: 0.315011093103104\n"
          ],
          "name": "stdout"
        }
      ]
    },
    {
      "cell_type": "code",
      "metadata": {
        "id": "v5w-KZActgE1",
        "colab_type": "code",
        "outputId": "a2daf522-d1d7-43d7-8154-4d452ec9e1a1",
        "colab": {
          "base_uri": "https://localhost:8080/",
          "height": 282
        }
      },
      "source": [
        "fi = pd.Series(index=features, data = clf.feature_importances_)\n",
        "fi.sort_values(ascending=False)[:20][::-1].plot.barh()"
      ],
      "execution_count": 0,
      "outputs": [
        {
          "output_type": "execute_result",
          "data": {
            "text/plain": [
              "<matplotlib.axes._subplots.AxesSubplot at 0x7fa0c42ad898>"
            ]
          },
          "metadata": {
            "tags": []
          },
          "execution_count": 54
        },
        {
          "output_type": "display_data",
          "data": {
            "image/png": "[encoded data removed]",
            "text/plain": [
              "<Figure size 432x288 with 1 Axes>"
            ]
          },
          "metadata": {
            "tags": [],
            "needs_background": "light"
          }
        }
      ]
    },
    {
      "cell_type": "code",
      "metadata": {
        "id": "MDRuuXnztp1n",
        "colab_type": "code",
        "colab": {}
      },
      "source": [
        "predictions_test_lgb = clf.predict_proba(X_test)"
      ],
      "execution_count": 0,
      "outputs": []
    },
    {
      "cell_type": "code",
      "metadata": {
        "id": "IiDtOnjrtsi_",
        "colab_type": "code",
        "outputId": "156db059-6f2c-4ebc-a85a-8490e8a0a220",
        "colab": {
          "base_uri": "https://localhost:8080/",
          "height": 204
        }
      },
      "source": [
        "submission = pd.DataFrame(data=predictions_test_lgb, columns=sub.columns)\n",
        "submission.head()"
      ],
      "execution_count": 0,
      "outputs": [
        {
          "output_type": "execute_result",
          "data": {
            "text/html": [
              "<div>\n",
              "<style scoped>\n",
              "    .dataframe tbody tr th:only-of-type {\n",
              "        vertical-align: middle;\n",
              "    }\n",
              "\n",
              "    .dataframe tbody tr th {\n",
              "        vertical-align: top;\n",
              "    }\n",
              "\n",
              "    .dataframe thead th {\n",
              "        text-align: right;\n",
              "    }\n",
              "</style>\n",
              "<table border=\"1\" class=\"dataframe\">\n",
              "  <thead>\n",
              "    <tr style=\"text-align: right;\">\n",
              "      <th></th>\n",
              "      <th>1</th>\n",
              "      <th>2</th>\n",
              "    </tr>\n",
              "  </thead>\n",
              "  <tbody>\n",
              "    <tr>\n",
              "      <th>0</th>\n",
              "      <td>0.990275</td>\n",
              "      <td>0.009725</td>\n",
              "    </tr>\n",
              "    <tr>\n",
              "      <th>1</th>\n",
              "      <td>0.174104</td>\n",
              "      <td>0.825896</td>\n",
              "    </tr>\n",
              "    <tr>\n",
              "      <th>2</th>\n",
              "      <td>0.938625</td>\n",
              "      <td>0.061375</td>\n",
              "    </tr>\n",
              "    <tr>\n",
              "      <th>3</th>\n",
              "      <td>0.977104</td>\n",
              "      <td>0.022896</td>\n",
              "    </tr>\n",
              "    <tr>\n",
              "      <th>4</th>\n",
              "      <td>0.639293</td>\n",
              "      <td>0.360707</td>\n",
              "    </tr>\n",
              "  </tbody>\n",
              "</table>\n",
              "</div>"
            ],
            "text/plain": [
              "          1         2\n",
              "0  0.990275  0.009725\n",
              "1  0.174104  0.825896\n",
              "2  0.938625  0.061375\n",
              "3  0.977104  0.022896\n",
              "4  0.639293  0.360707"
            ]
          },
          "metadata": {
            "tags": []
          },
          "execution_count": 56
        }
      ]
    },
    {
      "cell_type": "code",
      "metadata": {
        "colab_type": "code",
        "id": "59wg8Z6nt40A",
        "colab": {}
      },
      "source": [
        "submission.to_excel('Output7.xlsx', index=False)"
      ],
      "execution_count": 0,
      "outputs": []
    },
    {
      "cell_type": "code",
      "metadata": {
        "colab_type": "code",
        "id": "5_DQZGFDt40E",
        "colab": {}
      },
      "source": [
        "from google.colab import files\n",
        "files.download('Output7.xlsx')"
      ],
      "execution_count": 0,
      "outputs": []
    },
    {
      "cell_type": "code",
      "metadata": {
        "id": "ODpLPOh9Me43",
        "colab_type": "code",
        "colab": {}
      },
      "source": [
        ""
      ],
      "execution_count": 0,
      "outputs": []
    }
  ]
}