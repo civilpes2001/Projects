{
 "cells": [
  {
   "cell_type": "markdown",
   "metadata": {},
   "source": [
    "# EDA on Chase Bank Branch Deposits"
   ]
  },
  {
   "cell_type": "markdown",
   "metadata": {},
   "source": [
    "# Content\n",
    "\n",
    "This dataset includes a record for every branch of Chase Bank in the United States, including the branch's name and number, date established as a bank office and (if applicable) acquired by JP Morgan Chase, physical location as street address, city, state, zip, and latitude and longitude coordinates, and the amount deposited at the branch (or the institution, for the bank's main office) between July 1 and June 30, 2016, in US dollars.\n",
    "\n",
    "\n",
    "# Data Source\n",
    "\n",
    "The location data was scraped from the Chase Bank website. The deposit data was compiled from the Federal Deposit Insurance Corporation's annual Summary of Deposits reports. This perticular data was taken from the Kaggle Link :- https://www.kaggle.com/chasebank/bank-deposits\n",
    "\n",
    "\n",
    "# EDA Ideas\n",
    "\n",
    "* Where did Chase Bank customers deposit the most money last year?\n",
    "* Which bank branch has seen the most growth in deposits?\n",
    "* How did the bank network of branch locations grow over the past century?\n",
    "* What city has the most bank branches per capita?"
   ]
  },
  {
   "cell_type": "code",
   "execution_count": 1,
   "metadata": {},
   "outputs": [
    {
     "data": {
      "text/html": [
       "<div>\n",
       "<style scoped>\n",
       "    .dataframe tbody tr th:only-of-type {\n",
       "        vertical-align: middle;\n",
       "    }\n",
       "\n",
       "    .dataframe tbody tr th {\n",
       "        vertical-align: top;\n",
       "    }\n",
       "\n",
       "    .dataframe thead th {\n",
       "        text-align: right;\n",
       "    }\n",
       "</style>\n",
       "<table border=\"1\" class=\"dataframe\">\n",
       "  <thead>\n",
       "    <tr style=\"text-align: right;\">\n",
       "      <th></th>\n",
       "      <th>Institution Name</th>\n",
       "      <th>Main Office</th>\n",
       "      <th>Branch Name</th>\n",
       "      <th>Branch Number</th>\n",
       "      <th>Established Date</th>\n",
       "      <th>Acquired Date</th>\n",
       "      <th>Street Address</th>\n",
       "      <th>City</th>\n",
       "      <th>County</th>\n",
       "      <th>State</th>\n",
       "      <th>Zipcode</th>\n",
       "      <th>Latitude</th>\n",
       "      <th>Longitude</th>\n",
       "      <th>2010 Deposits</th>\n",
       "      <th>2011 Deposits</th>\n",
       "      <th>2012 Deposits</th>\n",
       "      <th>2013 Deposits</th>\n",
       "      <th>2014 Deposits</th>\n",
       "      <th>2015 Deposits</th>\n",
       "      <th>2016 Deposits</th>\n",
       "    </tr>\n",
       "  </thead>\n",
       "  <tbody>\n",
       "    <tr>\n",
       "      <th>0</th>\n",
       "      <td>JPMorgan Chase Bank</td>\n",
       "      <td>1</td>\n",
       "      <td>JPMorgan Chase Bank Main Office</td>\n",
       "      <td>0</td>\n",
       "      <td>01/01/1824</td>\n",
       "      <td>NaN</td>\n",
       "      <td>1111 Polaris Parkway</td>\n",
       "      <td>Columbus</td>\n",
       "      <td>Delaware</td>\n",
       "      <td>OH</td>\n",
       "      <td>43240</td>\n",
       "      <td>40.14453</td>\n",
       "      <td>-82.99115</td>\n",
       "      <td>633131000.0</td>\n",
       "      <td>743268000.0</td>\n",
       "      <td>832455000.0</td>\n",
       "      <td>916543000.0</td>\n",
       "      <td>1.032549e+09</td>\n",
       "      <td>1.069425e+09</td>\n",
       "      <td>1155185000</td>\n",
       "    </tr>\n",
       "    <tr>\n",
       "      <th>1</th>\n",
       "      <td>JPMorgan Chase Bank</td>\n",
       "      <td>0</td>\n",
       "      <td>Vernon Hills Scarsdale Branch</td>\n",
       "      <td>2</td>\n",
       "      <td>03/20/1961</td>\n",
       "      <td>NaN</td>\n",
       "      <td>676 White Plains Road</td>\n",
       "      <td>Scarsdale</td>\n",
       "      <td>Westchester</td>\n",
       "      <td>NY</td>\n",
       "      <td>10583</td>\n",
       "      <td>40.97008</td>\n",
       "      <td>-73.80670</td>\n",
       "      <td>293229.0</td>\n",
       "      <td>310791.0</td>\n",
       "      <td>325742.0</td>\n",
       "      <td>327930.0</td>\n",
       "      <td>3.277920e+05</td>\n",
       "      <td>3.414750e+05</td>\n",
       "      <td>381558</td>\n",
       "    </tr>\n",
       "    <tr>\n",
       "      <th>2</th>\n",
       "      <td>JPMorgan Chase Bank</td>\n",
       "      <td>0</td>\n",
       "      <td>Great Neck Northern Boulevard Branch</td>\n",
       "      <td>3</td>\n",
       "      <td>09/09/1963</td>\n",
       "      <td>NaN</td>\n",
       "      <td>410 Northern Boulevard</td>\n",
       "      <td>Great Neck</td>\n",
       "      <td>Nassau</td>\n",
       "      <td>NY</td>\n",
       "      <td>11021</td>\n",
       "      <td>40.77944</td>\n",
       "      <td>-73.72240</td>\n",
       "      <td>191011.0</td>\n",
       "      <td>206933.0</td>\n",
       "      <td>216439.0</td>\n",
       "      <td>237983.0</td>\n",
       "      <td>2.341830e+05</td>\n",
       "      <td>2.624550e+05</td>\n",
       "      <td>278940</td>\n",
       "    </tr>\n",
       "    <tr>\n",
       "      <th>3</th>\n",
       "      <td>JPMorgan Chase Bank</td>\n",
       "      <td>0</td>\n",
       "      <td>North Hartsdale Branch</td>\n",
       "      <td>4</td>\n",
       "      <td>02/19/1966</td>\n",
       "      <td>NaN</td>\n",
       "      <td>353 North Central Avenue</td>\n",
       "      <td>Hartsdale</td>\n",
       "      <td>Westchester</td>\n",
       "      <td>NY</td>\n",
       "      <td>10530</td>\n",
       "      <td>41.02654</td>\n",
       "      <td>-73.79168</td>\n",
       "      <td>87110.0</td>\n",
       "      <td>88367.0</td>\n",
       "      <td>93163.0</td>\n",
       "      <td>109659.0</td>\n",
       "      <td>1.119850e+05</td>\n",
       "      <td>1.167720e+05</td>\n",
       "      <td>140233</td>\n",
       "    </tr>\n",
       "    <tr>\n",
       "      <th>4</th>\n",
       "      <td>JPMorgan Chase Bank</td>\n",
       "      <td>0</td>\n",
       "      <td>Lawrence Rockaway Branch</td>\n",
       "      <td>5</td>\n",
       "      <td>01/16/1965</td>\n",
       "      <td>NaN</td>\n",
       "      <td>335 Rockaway Turnpike</td>\n",
       "      <td>Lawrence</td>\n",
       "      <td>Nassau</td>\n",
       "      <td>NY</td>\n",
       "      <td>11559</td>\n",
       "      <td>40.62715</td>\n",
       "      <td>-73.73675</td>\n",
       "      <td>172608.0</td>\n",
       "      <td>172749.0</td>\n",
       "      <td>189413.0</td>\n",
       "      <td>198445.0</td>\n",
       "      <td>2.051980e+05</td>\n",
       "      <td>2.232000e+05</td>\n",
       "      <td>235594</td>\n",
       "    </tr>\n",
       "  </tbody>\n",
       "</table>\n",
       "</div>"
      ],
      "text/plain": [
       "      Institution Name  Main Office                           Branch Name  \\\n",
       "0  JPMorgan Chase Bank            1       JPMorgan Chase Bank Main Office   \n",
       "1  JPMorgan Chase Bank            0         Vernon Hills Scarsdale Branch   \n",
       "2  JPMorgan Chase Bank            0  Great Neck Northern Boulevard Branch   \n",
       "3  JPMorgan Chase Bank            0                North Hartsdale Branch   \n",
       "4  JPMorgan Chase Bank            0              Lawrence Rockaway Branch   \n",
       "\n",
       "   Branch Number Established Date Acquired Date            Street Address  \\\n",
       "0              0       01/01/1824           NaN      1111 Polaris Parkway   \n",
       "1              2       03/20/1961           NaN     676 White Plains Road   \n",
       "2              3       09/09/1963           NaN    410 Northern Boulevard   \n",
       "3              4       02/19/1966           NaN  353 North Central Avenue   \n",
       "4              5       01/16/1965           NaN     335 Rockaway Turnpike   \n",
       "\n",
       "         City       County State  Zipcode  Latitude  Longitude  2010 Deposits  \\\n",
       "0    Columbus     Delaware    OH    43240  40.14453  -82.99115    633131000.0   \n",
       "1   Scarsdale  Westchester    NY    10583  40.97008  -73.80670       293229.0   \n",
       "2  Great Neck       Nassau    NY    11021  40.77944  -73.72240       191011.0   \n",
       "3   Hartsdale  Westchester    NY    10530  41.02654  -73.79168        87110.0   \n",
       "4    Lawrence       Nassau    NY    11559  40.62715  -73.73675       172608.0   \n",
       "\n",
       "   2011 Deposits  2012 Deposits  2013 Deposits  2014 Deposits  2015 Deposits  \\\n",
       "0    743268000.0    832455000.0    916543000.0   1.032549e+09   1.069425e+09   \n",
       "1       310791.0       325742.0       327930.0   3.277920e+05   3.414750e+05   \n",
       "2       206933.0       216439.0       237983.0   2.341830e+05   2.624550e+05   \n",
       "3        88367.0        93163.0       109659.0   1.119850e+05   1.167720e+05   \n",
       "4       172749.0       189413.0       198445.0   2.051980e+05   2.232000e+05   \n",
       "\n",
       "   2016 Deposits  \n",
       "0     1155185000  \n",
       "1         381558  \n",
       "2         278940  \n",
       "3         140233  \n",
       "4         235594  "
      ]
     },
     "execution_count": 1,
     "metadata": {},
     "output_type": "execute_result"
    }
   ],
   "source": [
    "import numpy as np # linear algebra\n",
    "import pandas_profiling\n",
    "import pandas as pd # data processing, CSV file I/O (e.g. pd.read_csv)\n",
    "import matplotlib.pyplot as plt #for Plotting\n",
    "%matplotlib inline\n",
    "import seaborn as sns #for graphing\n",
    "local_path = \"C:/Users/Aravind/Desktop/UpX Academy/Data Science Track - 01/PROJECTS TO BE DOING/Project Datasets/Project_Bank/Chase bank-deposits/database.csv\"\n",
    "input_data = pd.read_csv(local_path)                           #load CSV file from local directory\n",
    "input_data.head()                                         # Preview the first 5 lines of the loaded data"
   ]
  },
  {
   "cell_type": "code",
   "execution_count": null,
   "metadata": {
    "scrolled": false
   },
   "outputs": [],
   "source": [
    "eda = pandas_profiling.ProfileReport(input_data)\n",
    "eda"
   ]
  },
  {
   "cell_type": "code",
   "execution_count": null,
   "metadata": {},
   "outputs": [],
   "source": [
    "df.groupby('Branch Name').size().count()\n",
    "# Here we can see there are total 5317 branches present."
   ]
  },
  {
   "cell_type": "code",
   "execution_count": 3,
   "metadata": {},
   "outputs": [
    {
     "data": {
      "text/plain": [
       "(5413, 20)"
      ]
     },
     "execution_count": 3,
     "metadata": {},
     "output_type": "execute_result"
    }
   ],
   "source": [
    "df = pd.DataFrame(input_data)          \n",
    "input_data.shape"
   ]
  },
  {
   "cell_type": "markdown",
   "metadata": {},
   "source": [
    "### 1) Where did Chase Bank customers deposit the most money last year?"
   ]
  },
  {
   "cell_type": "code",
   "execution_count": 29,
   "metadata": {
    "scrolled": false
   },
   "outputs": [
    {
     "data": {
      "text/plain": [
       "Branch Name\n",
       "1 30 and Broadway Branch                          32264.0\n",
       "112th & Broadway Branch                          139455.0\n",
       "12 Mile-Country Club Drive Branch                168302.0\n",
       "12335 Venice Blvd Branch                         175831.0\n",
       "135th Street & Fifth Avenue Branch                67947.0\n",
       "1400 NW 17th Avenue Branch                        75874.0\n",
       "1600 N. Plano Rd Branch                           49539.0\n",
       "187-15 Union Turnpike Branch                     167383.0\n",
       "1870 Aloma Branch                                 56265.0\n",
       "2209 Via Anacapa Branch                           91958.0\n",
       "225th & Broadway Branch                           22200.0\n",
       "23402 W Lyons Ave Branch                         104906.0\n",
       "23rd & Jackson Financial Ctr Branch               35659.0\n",
       "24 Mile-Shelby Road Branch                       132564.0\n",
       "241 W Main Branch                                145323.0\n",
       "27th and Loomis Branch                            72966.0\n",
       "290 and Spring Cypress Banking Center Branch      92722.0\n",
       "2920 and Spring Cypress Banking Center Branch     62003.0\n",
       "2nd and Capitol Branch                            56969.0\n",
       "31st and Park Avenue Branch                       70793.0\n",
       "37th & Seventh Branch                            233154.0\n",
       "402 South Brand Blvd Branch                      116322.0\n",
       "40th and Lexington Branch                        116804.0\n",
       "4470 Northlake Boulevard Branch                  102719.0\n",
       "45th & Lexington Branch                          102399.0\n",
       "5291 Mission Oaks Branch                         129952.0\n",
       "551 Newport Center Drive Branch                  477750.0\n",
       "5601 Red Bug Lake Rd Branch                      119347.0\n",
       "57th & First Avenue Branch                        98041.0\n",
       "57th & Regal Financial Center Branch              47519.0\n",
       "                                                   ...   \n",
       "Yonkers Getty Square Branch                       37943.0\n",
       "Yonkers Kimball Ave Branch                        48370.0\n",
       "Yonkers Northeast Banking Ctr Branch              48996.0\n",
       "Yorba Linda Blvd and Valley View Branch           54506.0\n",
       "Yorba Linda Branch                               295330.0\n",
       "York Avenue Hospital Bkg Cntr Branch              94816.0\n",
       "Yorktown Branch                                   25117.0\n",
       "Yorktown Center Banking Center                    27653.0\n",
       "Yorktown Commerce St Branch                      126928.0\n",
       "Yorktown Heights Branch                          152928.0\n",
       "Yorkville Banking Center Branch                   57093.0\n",
       "Yorkville Branch                                 535283.0\n",
       "Youngstown Main Branch                           102571.0\n",
       "Youree South Banking Center Branch                79028.0\n",
       "Youree South Drive-Up Branch                          0.0\n",
       "Yreka Branch                                      38374.0\n",
       "Yuba City Branch                                 162849.0\n",
       "Yucaipa Branch                                   128307.0\n",
       "Yucca Valley Branch                               82651.0\n",
       "Yukon Banking Center Branch                       45996.0\n",
       "Yuma Branch                                      217905.0\n",
       "Yuma West Branch                                  78763.0\n",
       "Yuma and Cotton Branch                            22328.0\n",
       "Zachary Branch                                    62474.0\n",
       "Zandale Branch                                    80565.0\n",
       "Zanesville Brandywine Branch                      44764.0\n",
       "Zanesville Downtown Branch                        43457.0\n",
       "Zeeb Road Banking Branch                          93265.0\n",
       "Zephyr Commons Banking Center Branch              24018.0\n",
       "Zionsville Branch                                140723.0\n",
       "Length: 5317, dtype: float64"
      ]
     },
     "execution_count": 29,
     "metadata": {},
     "output_type": "execute_result"
    }
   ],
   "source": [
    "df_city = df.pivot(columns = 'City', values = '2016 Deposits').sum()\n",
    "df_city\n",
    "df_county = df.pivot(columns = 'County', values = '2016 Deposits').sum()\n",
    "df_county\n",
    "df_state = df.pivot(columns = 'State', values = '2016 Deposits').sum()\n",
    "df_state\n",
    "df_branch_name = df.pivot(columns = 'Branch Name', values = '2016 Deposits').sum()\n",
    "df_branch_name"
   ]
  },
  {
   "cell_type": "code",
   "execution_count": null,
   "metadata": {},
   "outputs": [],
   "source": [
    "# Initialize the matplotlib figure\n",
    "import matplotlib.pyplot as plt\n",
    "import seaborn as sns\n",
    "f, ax = plt.subplots(figsize=(6, 15))\n",
    "city = sns.load_dataset('df_city')\n",
    "sns.set(style ='whitegrid')\n",
    "sns.axes_style = ('whitegrid')\n",
    "city_bar = sns.barplot(x = '2016 Deposits', y = 'City', data = df_city)"
   ]
  },
  {
   "cell_type": "code",
   "execution_count": null,
   "metadata": {},
   "outputs": [],
   "source": []
  },
  {
   "cell_type": "code",
   "execution_count": 11,
   "metadata": {},
   "outputs": [
    {
     "data": {
      "text/plain": [
       "Institution Name       0\n",
       "Main Office            0\n",
       "Branch Name            0\n",
       "Branch Number          0\n",
       "Established Date       0\n",
       "Acquired Date       1615\n",
       "Street Address         0\n",
       "City                   0\n",
       "County                 0\n",
       "State                  0\n",
       "Zipcode                0\n",
       "Latitude              66\n",
       "Longitude             66\n",
       "2010 Deposits        740\n",
       "2011 Deposits        578\n",
       "2012 Deposits        329\n",
       "2013 Deposits        175\n",
       "2014 Deposits         56\n",
       "2015 Deposits         19\n",
       "2016 Deposits          0\n",
       "dtype: int64"
      ]
     },
     "execution_count": 11,
     "metadata": {},
     "output_type": "execute_result"
    }
   ],
   "source": [
    "df.isnull().sum(axis=0)         #Identifying number of Nan Values"
   ]
  },
  {
   "cell_type": "code",
   "execution_count": null,
   "metadata": {},
   "outputs": [],
   "source": [
    "# Since Latitude, Longitude are not required for the purpose of this EDA, we shall remove those columns\n",
    "df.drop(['Latitude','Longitude'], axis = 1, inplace = True)\n",
    "df"
   ]
  },
  {
   "cell_type": "markdown",
   "metadata": {},
   "source": [
    "### 2) Which bank branch has seen the most growth in deposits?"
   ]
  },
  {
   "cell_type": "code",
   "execution_count": 96,
   "metadata": {},
   "outputs": [
    {
     "data": {
      "text/plain": [
       "0      -110137000.0\n",
       "1          -17562.0\n",
       "2          -15922.0\n",
       "3           -1257.0\n",
       "4            -141.0\n",
       "5           10148.0\n",
       "6           -5041.0\n",
       "7           -2658.0\n",
       "8            3653.0\n",
       "9           -3038.0\n",
       "10          -7208.0\n",
       "11          -5885.0\n",
       "12           1500.0\n",
       "13          -2107.0\n",
       "14          -8171.0\n",
       "15          -1258.0\n",
       "16          -5055.0\n",
       "17           6691.0\n",
       "18          -6924.0\n",
       "19          -5839.0\n",
       "20          19602.0\n",
       "21         -34170.0\n",
       "22         -25701.0\n",
       "23         -10003.0\n",
       "24         -42860.0\n",
       "25         -26791.0\n",
       "26         -39166.0\n",
       "27         -10672.0\n",
       "28         -20671.0\n",
       "29           4215.0\n",
       "           ...     \n",
       "5383            NaN\n",
       "5384            NaN\n",
       "5385            NaN\n",
       "5386            NaN\n",
       "5387            NaN\n",
       "5388            NaN\n",
       "5389            NaN\n",
       "5390            NaN\n",
       "5391            NaN\n",
       "5392            NaN\n",
       "5393            NaN\n",
       "5394            NaN\n",
       "5395            NaN\n",
       "5396            NaN\n",
       "5397            NaN\n",
       "5398            NaN\n",
       "5399            NaN\n",
       "5400            NaN\n",
       "5401            NaN\n",
       "5402            NaN\n",
       "5403            NaN\n",
       "5404            NaN\n",
       "5405            NaN\n",
       "5406            NaN\n",
       "5407            NaN\n",
       "5408            NaN\n",
       "5409            NaN\n",
       "5410            NaN\n",
       "5411            NaN\n",
       "5412            NaN\n",
       "Name: diff_2010_11, Length: 5413, dtype: float64"
      ]
     },
     "execution_count": 96,
     "metadata": {},
     "output_type": "execute_result"
    }
   ],
   "source": [
    "df_2010_11 = pd.DataFrame(df, columns = ['Branch Name', '2010 Deposits', '2011 Deposits'])\n",
    "df_2010_11['diff_2010_11'] = df['2010 Deposits'] - df['2011 Deposits']\n",
    "df_2010_11['diff_2010_11']"
   ]
  },
  {
   "cell_type": "code",
   "execution_count": null,
   "metadata": {},
   "outputs": [],
   "source": [
    "df_city\n",
    "df_2010_11 = pd.DataFrame(df, columns= ['2010 Deposits','2011 Deposits'])\n",
    "df_2010_11_pct = ((df_2010_11['2011 Deposits'] - df_2010_11['2010 Deposits'])/(df_2010_11['2010 Deposits']))*100\n",
    "input_data[['Branch Name']] + df_2010_11_pct "
   ]
  },
  {
   "cell_type": "markdown",
   "metadata": {},
   "source": [
    "### 3) How did the bank network of branch locations grow over the past century?\n"
   ]
  },
  {
   "cell_type": "code",
   "execution_count": null,
   "metadata": {},
   "outputs": [],
   "source": [
    "df_city = df.pivot(columns = 'Branch Name', values = ('2010 Deposits', '2011 Deposits')).sum()\n",
    "df_city"
   ]
  },
  {
   "cell_type": "markdown",
   "metadata": {},
   "source": [
    "### 4) What city has the most bank branches per capita?"
   ]
  }
 ],
 "metadata": {
  "kernelspec": {
   "display_name": "Python 3",
   "language": "python",
   "name": "python3"
  },
  "language_info": {
   "codemirror_mode": {
    "name": "ipython",
    "version": 3
   },
   "file_extension": ".py",
   "mimetype": "text/x-python",
   "name": "python",
   "nbconvert_exporter": "python",
   "pygments_lexer": "ipython3",
   "version": "3.7.0"
  }
 },
 "nbformat": 4,
 "nbformat_minor": 2
}
