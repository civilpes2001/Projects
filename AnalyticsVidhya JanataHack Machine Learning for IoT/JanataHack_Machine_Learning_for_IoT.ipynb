{
  "nbformat": 4,
  "nbformat_minor": 0,
  "metadata": {
    "colab": {
      "name": "JanataHack Machine Learning for IoT.ipynb",
      "provenance": [],
      "collapsed_sections": []
    },
    "kernelspec": {
      "name": "python3",
      "display_name": "Python 3"
    }
  },
  "cells": [
    {
      "cell_type": "code",
      "metadata": {
        "id": "kQljWrXAKT82",
        "colab_type": "code",
        "outputId": "82f5e1ab-3965-4340-c529-881881e9e138",
        "colab": {
          "base_uri": "https://localhost:8080/",
          "height": 578
        }
      },
      "source": [
        "!wget https://datahack-prod.s3.amazonaws.com/test_file/test_BdBKkAj_L87Nc3S.csv\n",
        "!wget https://datahack-prod.s3.amazonaws.com/train_file/train_aWnotuB.csv\n",
        "!wget https://datahack-prod.s3.amazonaws.com/sample_submission/sample_submission_KVKNmI7.csv"
      ],
      "execution_count": 1,
      "outputs": [
        {
          "output_type": "stream",
          "text": [
            "--2020-05-24 17:26:16--  https://datahack-prod.s3.amazonaws.com/test_file/test_BdBKkAj_L87Nc3S.csv\n",
            "Resolving datahack-prod.s3.amazonaws.com (datahack-prod.s3.amazonaws.com)... 52.219.64.44\n",
            "Connecting to datahack-prod.s3.amazonaws.com (datahack-prod.s3.amazonaws.com)|52.219.64.44|:443... connected.\n",
            "HTTP request sent, awaiting response... 200 OK\n",
            "Length: 413302 (404K) [text/csv]\n",
            "Saving to: ‘test_BdBKkAj_L87Nc3S.csv’\n",
            "\n",
            "test_BdBKkAj_L87Nc3 100%[===================>] 403.62K   424KB/s    in 1.0s    \n",
            "\n",
            "2020-05-24 17:26:18 (424 KB/s) - ‘test_BdBKkAj_L87Nc3S.csv’ saved [413302/413302]\n",
            "\n",
            "--2020-05-24 17:26:22--  https://datahack-prod.s3.amazonaws.com/train_file/train_aWnotuB.csv\n",
            "Resolving datahack-prod.s3.amazonaws.com (datahack-prod.s3.amazonaws.com)... 52.219.64.28\n",
            "Connecting to datahack-prod.s3.amazonaws.com (datahack-prod.s3.amazonaws.com)|52.219.64.28|:443... connected.\n",
            "HTTP request sent, awaiting response... 200 OK\n",
            "Length: 1815392 (1.7M) [text/csv]\n",
            "Saving to: ‘train_aWnotuB.csv’\n",
            "\n",
            "train_aWnotuB.csv   100%[===================>]   1.73M  1.05MB/s    in 1.6s    \n",
            "\n",
            "2020-05-24 17:26:25 (1.05 MB/s) - ‘train_aWnotuB.csv’ saved [1815392/1815392]\n",
            "\n",
            "--2020-05-24 17:26:28--  https://datahack-prod.s3.amazonaws.com/sample_submission/sample_submission_KVKNmI7.csv\n",
            "Resolving datahack-prod.s3.amazonaws.com (datahack-prod.s3.amazonaws.com)... 52.219.62.64\n",
            "Connecting to datahack-prod.s3.amazonaws.com (datahack-prod.s3.amazonaws.com)|52.219.62.64|:443... connected.\n",
            "HTTP request sent, awaiting response... 200 OK\n",
            "Length: 188939 (185K) [text/csv]\n",
            "Saving to: ‘sample_submission_KVKNmI7.csv’\n",
            "\n",
            "sample_submission_K 100%[===================>] 184.51K   126KB/s    in 1.5s    \n",
            "\n",
            "2020-05-24 17:26:31 (126 KB/s) - ‘sample_submission_KVKNmI7.csv’ saved [188939/188939]\n",
            "\n"
          ],
          "name": "stdout"
        }
      ]
    },
    {
      "cell_type": "code",
      "metadata": {
        "id": "Axxni8FLKbrZ",
        "colab_type": "code",
        "colab": {}
      },
      "source": [
        "import pandas as pd\n",
        "import numpy as np\n",
        "import matplotlib.pyplot as plt\n",
        "%matplotlib inline"
      ],
      "execution_count": 0,
      "outputs": []
    },
    {
      "cell_type": "code",
      "metadata": {
        "id": "ro3TAlBeAoaR",
        "colab_type": "code",
        "colab": {}
      },
      "source": [
        "test = pd.read_csv('test_BdBKkAj_L87Nc3S.csv')\n",
        "train = pd.read_csv('train_aWnotuB.csv')"
      ],
      "execution_count": 0,
      "outputs": []
    },
    {
      "cell_type": "code",
      "metadata": {
        "id": "qFU19J3xRm4J",
        "colab_type": "code",
        "outputId": "4ec78fcd-f494-4afb-88ff-d015ce0c5b97",
        "colab": {
          "base_uri": "https://localhost:8080/",
          "height": 111
        }
      },
      "source": [
        "train.head(2)"
      ],
      "execution_count": 4,
      "outputs": [
        {
          "output_type": "execute_result",
          "data": {
            "text/html": [
              "<div>\n",
              "<style scoped>\n",
              "    .dataframe tbody tr th:only-of-type {\n",
              "        vertical-align: middle;\n",
              "    }\n",
              "\n",
              "    .dataframe tbody tr th {\n",
              "        vertical-align: top;\n",
              "    }\n",
              "\n",
              "    .dataframe thead th {\n",
              "        text-align: right;\n",
              "    }\n",
              "</style>\n",
              "<table border=\"1\" class=\"dataframe\">\n",
              "  <thead>\n",
              "    <tr style=\"text-align: right;\">\n",
              "      <th></th>\n",
              "      <th>DateTime</th>\n",
              "      <th>Junction</th>\n",
              "      <th>Vehicles</th>\n",
              "      <th>ID</th>\n",
              "    </tr>\n",
              "  </thead>\n",
              "  <tbody>\n",
              "    <tr>\n",
              "      <th>0</th>\n",
              "      <td>2015-11-01 00:00:00</td>\n",
              "      <td>1</td>\n",
              "      <td>15</td>\n",
              "      <td>20151101001</td>\n",
              "    </tr>\n",
              "    <tr>\n",
              "      <th>1</th>\n",
              "      <td>2015-11-01 01:00:00</td>\n",
              "      <td>1</td>\n",
              "      <td>13</td>\n",
              "      <td>20151101011</td>\n",
              "    </tr>\n",
              "  </tbody>\n",
              "</table>\n",
              "</div>"
            ],
            "text/plain": [
              "              DateTime  Junction  Vehicles           ID\n",
              "0  2015-11-01 00:00:00         1        15  20151101001\n",
              "1  2015-11-01 01:00:00         1        13  20151101011"
            ]
          },
          "metadata": {
            "tags": []
          },
          "execution_count": 4
        }
      ]
    },
    {
      "cell_type": "code",
      "metadata": {
        "id": "Ui1e-CFAR4Tl",
        "colab_type": "code",
        "outputId": "b98bde08-2da5-426e-98f2-502891b0fc76",
        "colab": {
          "base_uri": "https://localhost:8080/",
          "height": 111
        }
      },
      "source": [
        "test.head(2)"
      ],
      "execution_count": 5,
      "outputs": [
        {
          "output_type": "execute_result",
          "data": {
            "text/html": [
              "<div>\n",
              "<style scoped>\n",
              "    .dataframe tbody tr th:only-of-type {\n",
              "        vertical-align: middle;\n",
              "    }\n",
              "\n",
              "    .dataframe tbody tr th {\n",
              "        vertical-align: top;\n",
              "    }\n",
              "\n",
              "    .dataframe thead th {\n",
              "        text-align: right;\n",
              "    }\n",
              "</style>\n",
              "<table border=\"1\" class=\"dataframe\">\n",
              "  <thead>\n",
              "    <tr style=\"text-align: right;\">\n",
              "      <th></th>\n",
              "      <th>DateTime</th>\n",
              "      <th>Junction</th>\n",
              "      <th>ID</th>\n",
              "    </tr>\n",
              "  </thead>\n",
              "  <tbody>\n",
              "    <tr>\n",
              "      <th>0</th>\n",
              "      <td>2017-07-01 00:00:00</td>\n",
              "      <td>1</td>\n",
              "      <td>20170701001</td>\n",
              "    </tr>\n",
              "    <tr>\n",
              "      <th>1</th>\n",
              "      <td>2017-07-01 01:00:00</td>\n",
              "      <td>1</td>\n",
              "      <td>20170701011</td>\n",
              "    </tr>\n",
              "  </tbody>\n",
              "</table>\n",
              "</div>"
            ],
            "text/plain": [
              "              DateTime  Junction           ID\n",
              "0  2017-07-01 00:00:00         1  20170701001\n",
              "1  2017-07-01 01:00:00         1  20170701011"
            ]
          },
          "metadata": {
            "tags": []
          },
          "execution_count": 5
        }
      ]
    },
    {
      "cell_type": "code",
      "metadata": {
        "id": "HdT7iLSSR5yk",
        "colab_type": "code",
        "outputId": "5a06e66c-7551-4730-939c-9a97b3e8d853",
        "colab": {
          "base_uri": "https://localhost:8080/",
          "height": 153
        }
      },
      "source": [
        "train.isnull().sum(),test.isnull().sum(),train.shape,test.shape"
      ],
      "execution_count": 6,
      "outputs": [
        {
          "output_type": "execute_result",
          "data": {
            "text/plain": [
              "(DateTime    0\n",
              " Junction    0\n",
              " Vehicles    0\n",
              " ID          0\n",
              " dtype: int64, DateTime    0\n",
              " Junction    0\n",
              " ID          0\n",
              " dtype: int64, (48120, 4), (11808, 3))"
            ]
          },
          "metadata": {
            "tags": []
          },
          "execution_count": 6
        }
      ]
    },
    {
      "cell_type": "code",
      "metadata": {
        "id": "wweHH5oDBJO8",
        "colab_type": "code",
        "colab": {}
      },
      "source": [
        "k=['DateTime']\n",
        "for i in k:\n",
        "  train[i] = pd.to_datetime(train[i])\n",
        "  test[i] = pd.to_datetime(test[i])"
      ],
      "execution_count": 0,
      "outputs": []
    },
    {
      "cell_type": "code",
      "metadata": {
        "id": "kNoEOgLQAukg",
        "colab_type": "code",
        "colab": {}
      },
      "source": [
        "k=['DateTime']\n",
        "for i in k:\n",
        "  test[i+'_'+'year'] = test[i].dt.year\n",
        "  test[i+'_'+'day'] = test[i].dt.day\n",
        "  test[i+'_'+'weekofyear'] = test[i].dt.weekofyear\n",
        "  test[i+'_'+'month'] = test[i].dt.month\n",
        "  test[i+'_'+'dayofweek'] =test[i].dt.dayofweek\n",
        "  test[i+'_'+'weekend'] = (test[i].dt.weekday >=5).astype(int)\n",
        "  test[i+'_'+'hour'] = test[i].dt.hour\n",
        "  test[i+'_'+'minute'] = test[i].dt.minute\n",
        "  train[i+'_'+'year'] = train[i].dt.year\n",
        "  train[i+'_'+'day'] = train[i].dt.day\n",
        "  train[i+'_'+'weekofyear'] = train[i].dt.weekofyear\n",
        "  train[i+'_'+'month'] = train[i].dt.month\n",
        "  train[i+'_'+'dayofweek'] = train[i].dt.dayofweek\n",
        "  train[i+'_'+'weekend'] = (train[i].dt.weekday >=5).astype(int)\n",
        "  train[i+'_'+'hour'] = train[i].dt.hour\n",
        "  train[i+'_'+'minute'] = train[i].dt.minute"
      ],
      "execution_count": 0,
      "outputs": []
    },
    {
      "cell_type": "code",
      "metadata": {
        "id": "yaIIh1f_BGWp",
        "colab_type": "code",
        "colab": {}
      },
      "source": [
        "del train['DateTime']\n",
        "del test['DateTime']"
      ],
      "execution_count": 0,
      "outputs": []
    },
    {
      "cell_type": "code",
      "metadata": {
        "id": "K_61wXMfu4Gg",
        "colab_type": "code",
        "colab": {}
      },
      "source": [
        ""
      ],
      "execution_count": 0,
      "outputs": []
    },
    {
      "cell_type": "code",
      "metadata": {
        "id": "IV_23O1Gku0P",
        "colab_type": "code",
        "colab": {}
      },
      "source": [
        "train_df=train"
      ],
      "execution_count": 0,
      "outputs": []
    },
    {
      "cell_type": "code",
      "metadata": {
        "id": "cuOOMwkHjgSp",
        "colab_type": "code",
        "colab": {}
      },
      "source": [
        "X = train_df.drop(labels=['Vehicles'], axis=1)\n",
        "y = train_df['Vehicles'].values\n",
        "\n",
        "from sklearn.model_selection import train_test_split\n",
        "X_train, X_cv, y_train, y_cv = train_test_split(X, y, test_size=0.25, random_state=42)"
      ],
      "execution_count": 0,
      "outputs": []
    },
    {
      "cell_type": "code",
      "metadata": {
        "id": "MJdc7A5sktgZ",
        "colab_type": "code",
        "outputId": "90cad186-e4b9-48ac-9446-7426734424bd",
        "colab": {
          "base_uri": "https://localhost:8080/",
          "height": 34
        }
      },
      "source": [
        "X_train.shape, y_train.shape, X_cv.shape, y_cv.shape"
      ],
      "execution_count": 12,
      "outputs": [
        {
          "output_type": "execute_result",
          "data": {
            "text/plain": [
              "((36090, 10), (36090,), (12030, 10), (12030,))"
            ]
          },
          "metadata": {
            "tags": []
          },
          "execution_count": 12
        }
      ]
    },
    {
      "cell_type": "code",
      "metadata": {
        "id": "1VeqIDMFkyhJ",
        "colab_type": "code",
        "colab": {}
      },
      "source": [
        "from math import sqrt \n",
        "from sklearn.metrics import mean_squared_error"
      ],
      "execution_count": 0,
      "outputs": []
    },
    {
      "cell_type": "code",
      "metadata": {
        "id": "m6kc2TZEBWVv",
        "colab_type": "code",
        "outputId": "8bfc5d85-e953-49d6-cb50-7a9cade0897a",
        "colab": {
          "base_uri": "https://localhost:8080/",
          "height": 307
        }
      },
      "source": [
        "import lightgbm as lgb\n",
        "train_data = lgb.Dataset(X_train, label=y_train)\n",
        "test_data = lgb.Dataset(X_cv, label=y_cv)\n",
        "\n",
        "param = {'objective': 'regression',\n",
        "         'num_leaves':20,\n",
        "         'boosting': 'dart',  \n",
        "         'metric': 'rmse',\n",
        "         'learning_rate': 0.01, \n",
        "         'num_iterations': 1000,\n",
        "         'num_leaves': 80,\n",
        "         'max_depth': 6,\n",
        "         'min_data_in_leaf': 11,\n",
        "         'bagging_fraction': 0.80,\n",
        "         'bagging_freq': 1,\n",
        "         'bagging_seed': 142,\n",
        "         'feature_fraction': 0.80,\n",
        "         'feature_fraction_seed': 2,\n",
        "         'early_stopping_round': 200,\n",
        "         'max_bin': 250\n",
        "         }\n",
        "\n",
        "lgbm = lgb.train(params=param, verbose_eval=100, train_set=train_data, valid_sets=[test_data])\n",
        "\n",
        "y_pred_lgbm = lgbm.predict(X_cv)\n",
        "print('rmse:', sqrt(mean_squared_error(y_cv,y_pred_lgbm)))"
      ],
      "execution_count": 37,
      "outputs": [
        {
          "output_type": "stream",
          "text": [
            "/usr/local/lib/python3.6/dist-packages/lightgbm/engine.py:118: UserWarning: Found `num_iterations` in params. Will use it instead of argument\n",
            "  warnings.warn(\"Found `{}` in params. Will use it instead of argument\".format(alias))\n",
            "/usr/local/lib/python3.6/dist-packages/lightgbm/engine.py:123: UserWarning: Found `early_stopping_round` in params. Will use it instead of argument\n",
            "  warnings.warn(\"Found `{}` in params. Will use it instead of argument\".format(alias))\n",
            "/usr/local/lib/python3.6/dist-packages/lightgbm/callback.py:189: UserWarning: Early stopping is not available in dart mode\n",
            "  warnings.warn('Early stopping is not available in dart mode')\n"
          ],
          "name": "stderr"
        },
        {
          "output_type": "stream",
          "text": [
            "[100]\tvalid_0's l1: 10.5732\n",
            "[200]\tvalid_0's l1: 10.1309\n",
            "[300]\tvalid_0's l1: 8.47918\n",
            "[400]\tvalid_0's l1: 7.10394\n",
            "[500]\tvalid_0's l1: 6.03898\n",
            "[600]\tvalid_0's l1: 5.87297\n",
            "[700]\tvalid_0's l1: 5.34871\n",
            "[800]\tvalid_0's l1: 5.11577\n",
            "[900]\tvalid_0's l1: 4.63508\n",
            "[1000]\tvalid_0's l1: 4.44052\n",
            "rmse: 7.2982068364894825\n"
          ],
          "name": "stdout"
        }
      ]
    },
    {
      "cell_type": "code",
      "metadata": {
        "id": "rKXdmxzRB4LS",
        "colab_type": "code",
        "outputId": "513da7a8-13bd-4c0b-a9b8-fa375dec8dee",
        "colab": {
          "base_uri": "https://localhost:8080/",
          "height": 728
        }
      },
      "source": [
        "import seaborn as sns\n",
        "feature_imp = pd.DataFrame(sorted(zip(lgbm.feature_importance(), X.columns), reverse=True)[:50], \n",
        "                           columns=['Value','Feature'])\n",
        "plt.figure(figsize=(12, 10))\n",
        "sns.barplot(x=\"Value\", y=\"Feature\", data=feature_imp.sort_values(by=\"Value\", ascending=False))\n",
        "plt.title('LightGBM Features')\n",
        "plt.tight_layout()\n",
        "plt.show()"
      ],
      "execution_count": 38,
      "outputs": [
        {
          "output_type": "display_data",
          "data": {
            "image/png": "[encoded data removed]",
            "text/plain": [
              "<Figure size 864x720 with 1 Axes>"
            ]
          },
          "metadata": {
            "tags": [],
            "needs_background": "light"
          }
        }
      ]
    },
    {
      "cell_type": "code",
      "metadata": {
        "id": "l3XnriLVlitq",
        "colab_type": "code",
        "colab": {}
      },
      "source": [
        "Xtest = test"
      ],
      "execution_count": 0,
      "outputs": []
    },
    {
      "cell_type": "code",
      "metadata": {
        "id": "ZiHEPpUFlnlT",
        "colab_type": "code",
        "outputId": "0fdaaeb2-69c0-40b2-9ff1-af4022b4795a",
        "colab": {
          "base_uri": "https://localhost:8080/",
          "height": 221
        }
      },
      "source": [
        "from sklearn.model_selection import KFold\n",
        "from lightgbm import LGBMRegressor\n",
        "\n",
        "errlgb = []\n",
        "y_pred_totlgb = []\n",
        "\n",
        "fold = KFold(n_splits=\n",
        "             4, shuffle=True, random_state=101)\n",
        "\n",
        "for train_index, test_index in fold.split(X):\n",
        "    X_train, X_test = X.loc[train_index], X.loc[test_index]\n",
        "    y_train, y_test = y[train_index], y[test_index]\n",
        "\n",
        "    lgbm = LGBMRegressor(boosting_type='gbdt', num_leaves=100, max_depth=31, learning_rate=0.01, n_estimators=1000, min_child_samples=20, subsample=0.80)\n",
        "    lgbm.fit(X_train, y_train, eval_set=[(X_test, y_test)], verbose=0, early_stopping_rounds=100)\n",
        "\n",
        "    y_pred_lgbm = lgbm.predict(X_test)\n",
        "    print(\"rmse: \", sqrt(mean_squared_error(y_test, y_pred_lgbm)))\n",
        "\n",
        "    errlgb.append(sqrt(mean_squared_error(y_test, y_pred_lgbm)))\n",
        "    p = lgbm.predict(Xtest)\n",
        "    y_pred_totlgb.append(p)"
      ],
      "execution_count": 64,
      "outputs": [
        {
          "output_type": "stream",
          "text": [
            "/usr/local/lib/python3.6/dist-packages/lightgbm/callback.py:189: UserWarning: Early stopping is not available in dart mode\n",
            "  warnings.warn('Early stopping is not available in dart mode')\n"
          ],
          "name": "stderr"
        },
        {
          "output_type": "stream",
          "text": [
            "rmse:  3.678212893104091\n"
          ],
          "name": "stdout"
        },
        {
          "output_type": "stream",
          "text": [
            "/usr/local/lib/python3.6/dist-packages/lightgbm/callback.py:189: UserWarning: Early stopping is not available in dart mode\n",
            "  warnings.warn('Early stopping is not available in dart mode')\n"
          ],
          "name": "stderr"
        },
        {
          "output_type": "stream",
          "text": [
            "rmse:  3.739667864288468\n"
          ],
          "name": "stdout"
        },
        {
          "output_type": "stream",
          "text": [
            "/usr/local/lib/python3.6/dist-packages/lightgbm/callback.py:189: UserWarning: Early stopping is not available in dart mode\n",
            "  warnings.warn('Early stopping is not available in dart mode')\n"
          ],
          "name": "stderr"
        },
        {
          "output_type": "stream",
          "text": [
            "rmse:  3.6772320784467416\n"
          ],
          "name": "stdout"
        },
        {
          "output_type": "stream",
          "text": [
            "/usr/local/lib/python3.6/dist-packages/lightgbm/callback.py:189: UserWarning: Early stopping is not available in dart mode\n",
            "  warnings.warn('Early stopping is not available in dart mode')\n"
          ],
          "name": "stderr"
        },
        {
          "output_type": "stream",
          "text": [
            "rmse:  3.7033114150919717\n"
          ],
          "name": "stdout"
        }
      ]
    },
    {
      "cell_type": "code",
      "metadata": {
        "id": "Oyh8a_dTl6Ob",
        "colab_type": "code",
        "outputId": "b76c6513-215c-4c0b-944e-7c405a0d0ff0",
        "colab": {
          "base_uri": "https://localhost:8080/",
          "height": 34
        }
      },
      "source": [
        "np.mean(errlgb,0)"
      ],
      "execution_count": 65,
      "outputs": [
        {
          "output_type": "execute_result",
          "data": {
            "text/plain": [
              "3.6996060627328182"
            ]
          },
          "metadata": {
            "tags": []
          },
          "execution_count": 65
        }
      ]
    },
    {
      "cell_type": "code",
      "metadata": {
        "id": "RAb0ZlemmR4b",
        "colab_type": "code",
        "outputId": "62814302-3d73-44c8-a78c-24644452c90b",
        "colab": {
          "base_uri": "https://localhost:8080/",
          "height": 51
        }
      },
      "source": [
        "lgbm_final = np.mean(y_pred_totlgb,0)\n",
        "lgbm_final"
      ],
      "execution_count": 66,
      "outputs": [
        {
          "output_type": "execute_result",
          "data": {
            "text/plain": [
              "array([70.65743516, 61.97618573, 49.17222961, ...,  9.71855395,\n",
              "       10.49369011,  9.33535942])"
            ]
          },
          "metadata": {
            "tags": []
          },
          "execution_count": 66
        }
      ]
    },
    {
      "cell_type": "code",
      "metadata": {
        "id": "SeF5ww2EmVX4",
        "colab_type": "code",
        "outputId": "5228c64c-a549-4646-fdfe-6416455acac9",
        "colab": {
          "base_uri": "https://localhost:8080/",
          "height": 256
        }
      },
      "source": [
        "submission = pd.DataFrame({\n",
        "        \"ID\": test['ID'],\n",
        "        \"Vehicles\": lgbm_final\n",
        "    })\n",
        "submission.to_csv('./submission.csv', index=False)\n",
        "print(submission)"
      ],
      "execution_count": 67,
      "outputs": [
        {
          "output_type": "stream",
          "text": [
            "                ID   Vehicles\n",
            "0      20170701001  70.657435\n",
            "1      20170701011  61.976186\n",
            "2      20170701021  49.172230\n",
            "3      20170701031  42.658104\n",
            "4      20170701041  35.016215\n",
            "...            ...        ...\n",
            "11803  20171031194  11.441192\n",
            "11804  20171031204  11.065244\n",
            "11805  20171031214   9.718554\n",
            "11806  20171031224  10.493690\n",
            "11807  20171031234   9.335359\n",
            "\n",
            "[11808 rows x 2 columns]\n"
          ],
          "name": "stdout"
        }
      ]
    },
    {
      "cell_type": "code",
      "metadata": {
        "id": "SS2-AYyQCTkv",
        "colab_type": "code",
        "colab": {}
      },
      "source": [
        "from google.colab import files\n",
        "files.download('submission.csv')"
      ],
      "execution_count": 0,
      "outputs": []
    },
    {
      "cell_type": "code",
      "metadata": {
        "id": "rtg6kkNzvYAs",
        "colab_type": "code",
        "colab": {}
      },
      "source": [
        ""
      ],
      "execution_count": 0,
      "outputs": []
    },
    {
      "cell_type": "markdown",
      "metadata": {
        "id": "AD6oJUBF1Xuc",
        "colab_type": "text"
      },
      "source": [
        "# ensemble"
      ]
    },
    {
      "cell_type": "code",
      "metadata": {
        "id": "CtNRi2Lv1WyM",
        "colab_type": "code",
        "colab": {
          "base_uri": "https://localhost:8080/",
          "height": 580
        },
        "outputId": "1eb6574e-d973-475b-f402-c13267f283ff"
      },
      "source": [
        "!wget https://datahack-prod.s3.amazonaws.com/submissions/janatahack-machine-learning-for-iot/847_613210_us_submission_2.csv\n",
        "!wget https://datahack-prod.s3.amazonaws.com/submissions/janatahack-machine-learning-for-iot/847_613210_us_submission.csv\n",
        "!wget https://datahack-prod.s3.amazonaws.com/submissions/janatahack-machine-learning-for-iot/847_613210_us_submission_1.csv"
      ],
      "execution_count": 69,
      "outputs": [
        {
          "output_type": "stream",
          "text": [
            "--2020-05-24 18:00:29--  https://datahack-prod.s3.amazonaws.com/submissions/janatahack-machine-learning-for-iot/847_613210_us_submission_2.csv\n",
            "Resolving datahack-prod.s3.amazonaws.com (datahack-prod.s3.amazonaws.com)... 52.219.66.60\n",
            "Connecting to datahack-prod.s3.amazonaws.com (datahack-prod.s3.amazonaws.com)|52.219.66.60|:443... connected.\n",
            "HTTP request sent, awaiting response... 200 OK\n",
            "Length: 359160 (351K) [application/vnd.ms-excel]\n",
            "Saving to: ‘847_613210_us_submission_2.csv’\n",
            "\n",
            "847_613210_us_submi 100%[===================>] 350.74K   150KB/s    in 2.3s    \n",
            "\n",
            "2020-05-24 18:00:33 (150 KB/s) - ‘847_613210_us_submission_2.csv’ saved [359160/359160]\n",
            "\n",
            "--2020-05-24 18:00:43--  https://datahack-prod.s3.amazonaws.com/submissions/janatahack-machine-learning-for-iot/847_613210_us_submission.csv\n",
            "Resolving datahack-prod.s3.amazonaws.com (datahack-prod.s3.amazonaws.com)... 52.219.64.52\n",
            "Connecting to datahack-prod.s3.amazonaws.com (datahack-prod.s3.amazonaws.com)|52.219.64.52|:443... connected.\n",
            "HTTP request sent, awaiting response... 200 OK\n",
            "Length: 359085 (351K) [application/vnd.ms-excel]\n",
            "Saving to: ‘847_613210_us_submission.csv’\n",
            "\n",
            "847_613210_us_submi 100%[===================>] 350.67K   371KB/s    in 0.9s    \n",
            "\n",
            "2020-05-24 18:00:45 (371 KB/s) - ‘847_613210_us_submission.csv’ saved [359085/359085]\n",
            "\n",
            "--2020-05-24 18:00:48--  https://datahack-prod.s3.amazonaws.com/submissions/janatahack-machine-learning-for-iot/847_613210_us_submission_1.csv\n",
            "Resolving datahack-prod.s3.amazonaws.com (datahack-prod.s3.amazonaws.com)... 52.219.66.72\n",
            "Connecting to datahack-prod.s3.amazonaws.com (datahack-prod.s3.amazonaws.com)|52.219.66.72|:443... connected.\n",
            "HTTP request sent, awaiting response... 200 OK\n",
            "Length: 359199 (351K) [application/vnd.ms-excel]\n",
            "Saving to: ‘847_613210_us_submission_1.csv’\n",
            "\n",
            "847_613210_us_submi 100%[===================>] 350.78K   286KB/s    in 1.2s    \n",
            "\n",
            "2020-05-24 18:00:51 (286 KB/s) - ‘847_613210_us_submission_1.csv’ saved [359199/359199]\n",
            "\n"
          ],
          "name": "stdout"
        }
      ]
    },
    {
      "cell_type": "code",
      "metadata": {
        "id": "0qpBTC4019PH",
        "colab_type": "code",
        "colab": {}
      },
      "source": [
        "a=pd.read_csv('847_613210_us_submission_2.csv')\n",
        "b=pd.read_csv('847_613210_us_submission.csv')\n",
        "c=pd.read_csv('847_613210_us_submission_1.csv')"
      ],
      "execution_count": 0,
      "outputs": []
    },
    {
      "cell_type": "code",
      "metadata": {
        "id": "ymBZjAIe2KDP",
        "colab_type": "code",
        "colab": {
          "base_uri": "https://localhost:8080/",
          "height": 107
        },
        "outputId": "faf6c839-e610-4b4e-80bb-368ad9ab7bb0"
      },
      "source": [
        "a.head(2)"
      ],
      "execution_count": 71,
      "outputs": [
        {
          "output_type": "execute_result",
          "data": {
            "text/html": [
              "<div>\n",
              "<style scoped>\n",
              "    .dataframe tbody tr th:only-of-type {\n",
              "        vertical-align: middle;\n",
              "    }\n",
              "\n",
              "    .dataframe tbody tr th {\n",
              "        vertical-align: top;\n",
              "    }\n",
              "\n",
              "    .dataframe thead th {\n",
              "        text-align: right;\n",
              "    }\n",
              "</style>\n",
              "<table border=\"1\" class=\"dataframe\">\n",
              "  <thead>\n",
              "    <tr style=\"text-align: right;\">\n",
              "      <th></th>\n",
              "      <th>ID</th>\n",
              "      <th>Vehicles</th>\n",
              "    </tr>\n",
              "  </thead>\n",
              "  <tbody>\n",
              "    <tr>\n",
              "      <th>0</th>\n",
              "      <td>20170701001</td>\n",
              "      <td>70.688395</td>\n",
              "    </tr>\n",
              "    <tr>\n",
              "      <th>1</th>\n",
              "      <td>20170701011</td>\n",
              "      <td>61.623290</td>\n",
              "    </tr>\n",
              "  </tbody>\n",
              "</table>\n",
              "</div>"
            ],
            "text/plain": [
              "            ID   Vehicles\n",
              "0  20170701001  70.688395\n",
              "1  20170701011  61.623290"
            ]
          },
          "metadata": {
            "tags": []
          },
          "execution_count": 71
        }
      ]
    },
    {
      "cell_type": "code",
      "metadata": {
        "id": "0PT49qe62Mql",
        "colab_type": "code",
        "colab": {}
      },
      "source": [
        "a['Vehicles']=a['Vehicles']*0.6+b['Vehicles']*0.3+c['Vehicles']*0.1"
      ],
      "execution_count": 0,
      "outputs": []
    },
    {
      "cell_type": "code",
      "metadata": {
        "id": "Mqdxct4L2Y8m",
        "colab_type": "code",
        "colab": {}
      },
      "source": [
        "a.to_csv('ensem.csv', index=False)"
      ],
      "execution_count": 0,
      "outputs": []
    },
    {
      "cell_type": "code",
      "metadata": {
        "id": "psLGb3nc2d_p",
        "colab_type": "code",
        "colab": {}
      },
      "source": [
        "from google.colab import files\n",
        "files.download('ensem.csv')"
      ],
      "execution_count": 0,
      "outputs": []
    },
    {
      "cell_type": "code",
      "metadata": {
        "id": "sDqekLNx2hk8",
        "colab_type": "code",
        "colab": {}
      },
      "source": [
        ""
      ],
      "execution_count": 0,
      "outputs": []
    }
  ]
}