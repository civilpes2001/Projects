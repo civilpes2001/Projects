{
 "cells": [
  {
   "cell_type": "code",
   "execution_count": 1,
   "metadata": {
    "collapsed": false
   },
   "outputs": [
    {
     "name": "stdout",
     "output_type": "stream",
     "text": [
      "Populating the interactive namespace from numpy and matplotlib\n"
     ]
    },
    {
     "name": "stderr",
     "output_type": "stream",
     "text": [
      "Using TensorFlow backend.\n"
     ]
    }
   ],
   "source": [
    "%pylab inline\n",
    "\n",
    "import os\n",
    "import numpy as np\n",
    "import pandas as pd\n",
    "from scipy.misc import imread\n",
    "from sklearn.metrics import accuracy_score\n",
    "\n",
    "import tensorflow as tf\n",
    "import keras\n",
    "\n",
    "from keras.models import Sequential\n",
    "from keras.layers import Dense, Activation, Dropout, Convolution2D, Flatten, MaxPooling2D, Reshape, InputLayer"
   ]
  },
  {
   "cell_type": "code",
   "execution_count": 2,
   "metadata": {
    "collapsed": true
   },
   "outputs": [],
   "source": [
    "# To stop potential randomness\n",
    "seed = 128\n",
    "rng = np.random.RandomState(seed)"
   ]
  },
  {
   "cell_type": "code",
   "execution_count": 3,
   "metadata": {
    "collapsed": false
   },
   "outputs": [
    {
     "data": {
      "text/plain": [
       "False"
      ]
     },
     "execution_count": 3,
     "metadata": {},
     "output_type": "execute_result"
    }
   ],
   "source": [
    "root_dir = os.path.abspath('../..')\n",
    "data_dir = os.path.join(root_dir, 'Deep Learning')\n",
    "sub_dir = os.path.join(root_dir, 'sub')\n",
    "\n",
    "# check for existence\n",
    "os.path.exists(root_dir)\n",
    "os.path.exists(data_dir)\n",
    "os.path.exists(sub_dir)"
   ]
  },
  {
   "cell_type": "code",
   "execution_count": 4,
   "metadata": {
    "collapsed": true
   },
   "outputs": [],
   "source": [
    "train = pd.read_csv(os.path.join(data_dir,'Identify_The_Digits' ,'train.csv'))\n",
    "test = pd.read_csv(os.path.join(data_dir, 'Identify_The_Digits','test.csv'))\n",
    "\n",
    "sample_submission = pd.read_csv(os.path.join(data_dir,'Identify_The_Digits', 'Sample_Submission.csv'))"
   ]
  },
  {
   "cell_type": "code",
   "execution_count": 5,
   "metadata": {
    "collapsed": true
   },
   "outputs": [],
   "source": [
    "temp = []\n",
    "for img_name in train.filename:\n",
    "    image_path = os.path.join(data_dir, 'Identify_The_Digits', 'images', 'train', img_name)\n",
    "    img = imread(image_path, flatten=True)\n",
    "    img = img.astype('float32')\n",
    "    temp.append(img)\n",
    "    \n",
    "train_x = np.stack(temp)\n",
    "\n",
    "train_x /= 255.0 \n",
    "train_x = train_x.reshape(-1, 784).astype('float32')\n",
    "\n",
    "temp = []\n",
    "for img_name in test.filename:\n",
    "    image_path = os.path.join(data_dir, 'Identify_The_Digits', 'images' ,'test', img_name)\n",
    "    img = imread(image_path, flatten=True)\n",
    "    img = img.astype('float32')\n",
    "    temp.append(img)\n",
    "    \n",
    "test_x = np.stack(temp)\n",
    "\n",
    "test_x /= 255.0\n",
    "test_x = test_x.reshape(-1, 784).astype('float32')\n",
    "\n",
    "train_y = keras.utils.np_utils.to_categorical(train.label.values)"
   ]
  },
  {
   "cell_type": "code",
   "execution_count": 6,
   "metadata": {
    "collapsed": true
   },
   "outputs": [],
   "source": [
    "split_size = int(train_x.shape[0]*0.7)\n",
    "\n",
    "train_x, val_x = train_x[:split_size], train_x[split_size:]\n",
    "train_y, val_y = train_y[:split_size], train_y[split_size:]"
   ]
  },
  {
   "cell_type": "code",
   "execution_count": 7,
   "metadata": {
    "collapsed": true
   },
   "outputs": [],
   "source": [
    "# define vars\n",
    "input_num_units = 784\n",
    "hidden_num_units = 500\n",
    "output_num_units = 10\n",
    "\n",
    "epochs = 5\n",
    "batch_size = 128"
   ]
  },
  {
   "cell_type": "code",
   "execution_count": 8,
   "metadata": {
    "collapsed": false
   },
   "outputs": [
    {
     "name": "stderr",
     "output_type": "stream",
     "text": [
      "C:\\Users\\user\\Anaconda3\\envs\\keras_tf\\lib\\site-packages\\ipykernel\\__main__.py:2: UserWarning: Update your `Dense` call to the Keras 2 API: `Dense(input_dim=784, activation=\"relu\", units=500)`\n",
      "  from ipykernel import kernelapp as app\n",
      "C:\\Users\\user\\Anaconda3\\envs\\keras_tf\\lib\\site-packages\\ipykernel\\__main__.py:4: UserWarning: Update your `Dense` call to the Keras 2 API: `Dense(input_dim=500, activation=\"softmax\", units=10)`\n"
     ]
    }
   ],
   "source": [
    "model = Sequential([\n",
    "    Dense(output_dim=hidden_num_units, input_dim=input_num_units, activation='relu'),\n",
    "        \n",
    "    Dense(output_dim=output_num_units, input_dim=hidden_num_units, activation='softmax'),\n",
    "])"
   ]
  },
  {
   "cell_type": "code",
   "execution_count": 9,
   "metadata": {
    "collapsed": true
   },
   "outputs": [],
   "source": [
    "model.compile(loss='categorical_crossentropy', optimizer='adam', metrics=['accuracy'])"
   ]
  },
  {
   "cell_type": "code",
   "execution_count": 10,
   "metadata": {
    "collapsed": false
   },
   "outputs": [
    {
     "name": "stderr",
     "output_type": "stream",
     "text": [
      "C:\\Users\\user\\Anaconda3\\envs\\keras_tf\\lib\\site-packages\\keras\\models.py:851: UserWarning: The `nb_epoch` argument in `fit` has been renamed `epochs`.\n",
      "  warnings.warn('The `nb_epoch` argument in `fit` '\n"
     ]
    },
    {
     "name": "stdout",
     "output_type": "stream",
     "text": [
      "Train on 34300 samples, validate on 14700 samples\n",
      "Epoch 1/5\n",
      "34300/34300 [==============================] - 7s - loss: 0.3457 - acc: 0.9029 - val_loss: 0.1987 - val_acc: 0.9434\n",
      "Epoch 2/5\n",
      "34300/34300 [==============================] - 6s - loss: 0.1476 - acc: 0.9571 - val_loss: 0.1475 - val_acc: 0.9577\n",
      "Epoch 3/5\n",
      "34300/34300 [==============================] - 6s - loss: 0.0984 - acc: 0.9712 - val_loss: 0.1170 - val_acc: 0.9650\n",
      "Epoch 4/5\n",
      "34300/34300 [==============================] - 7s - loss: 0.0698 - acc: 0.9802 - val_loss: 0.1051 - val_acc: 0.9688\n",
      "Epoch 5/5\n",
      "34300/34300 [==============================] - 7s - loss: 0.0506 - acc: 0.9859 - val_loss: 0.0939 - val_acc: 0.9708\n"
     ]
    }
   ],
   "source": [
    "trained_model_500 = model.fit(train_x, train_y, nb_epoch=epochs, batch_size=batch_size, validation_data=(val_x, val_y))"
   ]
  },
  {
   "cell_type": "code",
   "execution_count": 11,
   "metadata": {
    "collapsed": true
   },
   "outputs": [],
   "source": [
    "### Deep NN"
   ]
  },
  {
   "cell_type": "code",
   "execution_count": 12,
   "metadata": {
    "collapsed": true
   },
   "outputs": [],
   "source": [
    "# define vars\n",
    "input_num_units = 784\n",
    "hidden1_num_units = 50\n",
    "hidden2_num_units = 50\n",
    "hidden3_num_units = 50\n",
    "hidden4_num_units = 50\n",
    "hidden5_num_units = 50\n",
    "output_num_units = 10\n",
    "\n",
    "epochs = 5\n",
    "batch_size = 128"
   ]
  },
  {
   "cell_type": "code",
   "execution_count": 13,
   "metadata": {
    "collapsed": false
   },
   "outputs": [
    {
     "name": "stderr",
     "output_type": "stream",
     "text": [
      "C:\\Users\\user\\Anaconda3\\envs\\keras_tf\\lib\\site-packages\\ipykernel\\__main__.py:2: UserWarning: Update your `Dense` call to the Keras 2 API: `Dense(input_dim=784, activation=\"relu\", units=50)`\n",
      "  from ipykernel import kernelapp as app\n",
      "C:\\Users\\user\\Anaconda3\\envs\\keras_tf\\lib\\site-packages\\ipykernel\\__main__.py:3: UserWarning: Update your `Dense` call to the Keras 2 API: `Dense(input_dim=50, activation=\"relu\", units=50)`\n",
      "  app.launch_new_instance()\n",
      "C:\\Users\\user\\Anaconda3\\envs\\keras_tf\\lib\\site-packages\\ipykernel\\__main__.py:4: UserWarning: Update your `Dense` call to the Keras 2 API: `Dense(input_dim=50, activation=\"relu\", units=50)`\n",
      "C:\\Users\\user\\Anaconda3\\envs\\keras_tf\\lib\\site-packages\\ipykernel\\__main__.py:5: UserWarning: Update your `Dense` call to the Keras 2 API: `Dense(input_dim=50, activation=\"relu\", units=50)`\n",
      "C:\\Users\\user\\Anaconda3\\envs\\keras_tf\\lib\\site-packages\\ipykernel\\__main__.py:6: UserWarning: Update your `Dense` call to the Keras 2 API: `Dense(input_dim=50, activation=\"relu\", units=50)`\n",
      "C:\\Users\\user\\Anaconda3\\envs\\keras_tf\\lib\\site-packages\\ipykernel\\__main__.py:9: UserWarning: Update your `Dense` call to the Keras 2 API: `Dense(input_dim=50, activation=\"softmax\", units=10)`\n"
     ]
    }
   ],
   "source": [
    "model = Sequential([\n",
    "    Dense(output_dim=hidden1_num_units, input_dim=input_num_units, activation='relu'),\n",
    "    Dense(output_dim=hidden2_num_units, input_dim=hidden1_num_units, activation='relu'),\n",
    "    Dense(output_dim=hidden3_num_units, input_dim=hidden2_num_units, activation='relu'),\n",
    "    Dense(output_dim=hidden4_num_units, input_dim=hidden3_num_units, activation='relu'),\n",
    "    Dense(output_dim=hidden5_num_units, input_dim=hidden4_num_units, activation='relu'),\n",
    "    \n",
    "        \n",
    "    Dense(output_dim=output_num_units, input_dim=hidden5_num_units, activation='softmax'),\n",
    "])"
   ]
  },
  {
   "cell_type": "code",
   "execution_count": 14,
   "metadata": {
    "collapsed": true
   },
   "outputs": [],
   "source": [
    "model.compile(loss='categorical_crossentropy', optimizer='adam', metrics=['accuracy'])"
   ]
  },
  {
   "cell_type": "code",
   "execution_count": 15,
   "metadata": {
    "collapsed": false
   },
   "outputs": [
    {
     "name": "stderr",
     "output_type": "stream",
     "text": [
      "C:\\Users\\user\\Anaconda3\\envs\\keras_tf\\lib\\site-packages\\keras\\models.py:851: UserWarning: The `nb_epoch` argument in `fit` has been renamed `epochs`.\n",
      "  warnings.warn('The `nb_epoch` argument in `fit` '\n"
     ]
    },
    {
     "name": "stdout",
     "output_type": "stream",
     "text": [
      "Train on 34300 samples, validate on 14700 samples\n",
      "Epoch 1/5\n",
      "34300/34300 [==============================] - 2s - loss: 0.6049 - acc: 0.8099 - val_loss: 0.2680 - val_acc: 0.9225\n",
      "Epoch 2/5\n",
      "34300/34300 [==============================] - 2s - loss: 0.2134 - acc: 0.9362 - val_loss: 0.2211 - val_acc: 0.9344\n",
      "Epoch 3/5\n",
      "34300/34300 [==============================] - 1s - loss: 0.1551 - acc: 0.9528 - val_loss: 0.1536 - val_acc: 0.9553\n",
      "Epoch 4/5\n",
      "34300/34300 [==============================] - 1s - loss: 0.1249 - acc: 0.9625 - val_loss: 0.1559 - val_acc: 0.9537\n",
      "Epoch 5/5\n",
      "34300/34300 [==============================] - 1s - loss: 0.1037 - acc: 0.9679 - val_loss: 0.1451 - val_acc: 0.9562\n"
     ]
    }
   ],
   "source": [
    "trained_model_5d = model.fit(train_x, train_y, nb_epoch=epochs, batch_size=batch_size, validation_data=(val_x, val_y))"
   ]
  },
  {
   "cell_type": "code",
   "execution_count": 16,
   "metadata": {
    "collapsed": false
   },
   "outputs": [
    {
     "name": "stdout",
     "output_type": "stream",
     "text": [
      "_________________________________________________________________\n",
      "Layer (type)                 Output Shape              Param #   \n",
      "=================================================================\n",
      "dense_3 (Dense)              (None, 50)                39250     \n",
      "_________________________________________________________________\n",
      "dense_4 (Dense)              (None, 50)                2550      \n",
      "_________________________________________________________________\n",
      "dense_5 (Dense)              (None, 50)                2550      \n",
      "_________________________________________________________________\n",
      "dense_6 (Dense)              (None, 50)                2550      \n",
      "_________________________________________________________________\n",
      "dense_7 (Dense)              (None, 50)                2550      \n",
      "_________________________________________________________________\n",
      "dense_8 (Dense)              (None, 10)                510       \n",
      "=================================================================\n",
      "Total params: 49,960\n",
      "Trainable params: 49,960\n",
      "Non-trainable params: 0\n",
      "_________________________________________________________________\n"
     ]
    }
   ],
   "source": [
    "model.summary()"
   ]
  },
  {
   "cell_type": "code",
   "execution_count": 17,
   "metadata": {
    "collapsed": true
   },
   "outputs": [],
   "source": [
    "# define vars\n",
    "input_num_units = 784\n",
    "hidden1_num_units = 50\n",
    "hidden2_num_units = 50\n",
    "hidden3_num_units = 50\n",
    "hidden4_num_units = 50\n",
    "hidden5_num_units = 50\n",
    "output_num_units = 10\n",
    "\n",
    "epochs = 5\n",
    "batch_size = 128"
   ]
  },
  {
   "cell_type": "code",
   "execution_count": 18,
   "metadata": {
    "collapsed": false
   },
   "outputs": [
    {
     "name": "stderr",
     "output_type": "stream",
     "text": [
      "C:\\Users\\user\\Anaconda3\\envs\\keras_tf\\lib\\site-packages\\ipykernel\\__main__.py:2: UserWarning: Update your `Dense` call to the Keras 2 API: `Dense(input_dim=784, activation=\"relu\", units=50)`\n",
      "  from ipykernel import kernelapp as app\n",
      "C:\\Users\\user\\Anaconda3\\envs\\keras_tf\\lib\\site-packages\\ipykernel\\__main__.py:4: UserWarning: Update your `Dense` call to the Keras 2 API: `Dense(input_dim=50, activation=\"relu\", units=50)`\n",
      "C:\\Users\\user\\Anaconda3\\envs\\keras_tf\\lib\\site-packages\\ipykernel\\__main__.py:6: UserWarning: Update your `Dense` call to the Keras 2 API: `Dense(input_dim=50, activation=\"relu\", units=50)`\n",
      "C:\\Users\\user\\Anaconda3\\envs\\keras_tf\\lib\\site-packages\\ipykernel\\__main__.py:8: UserWarning: Update your `Dense` call to the Keras 2 API: `Dense(input_dim=50, activation=\"relu\", units=50)`\n",
      "C:\\Users\\user\\Anaconda3\\envs\\keras_tf\\lib\\site-packages\\ipykernel\\__main__.py:10: UserWarning: Update your `Dense` call to the Keras 2 API: `Dense(input_dim=50, activation=\"relu\", units=50)`\n",
      "C:\\Users\\user\\Anaconda3\\envs\\keras_tf\\lib\\site-packages\\ipykernel\\__main__.py:14: UserWarning: Update your `Dense` call to the Keras 2 API: `Dense(input_dim=50, activation=\"softmax\", units=10)`\n"
     ]
    }
   ],
   "source": [
    "model = Sequential([\n",
    "    Dense(output_dim=hidden1_num_units, input_dim=input_num_units, activation='relu'),\n",
    "    Dropout(0.2),\n",
    "    Dense(output_dim=hidden2_num_units, input_dim=hidden1_num_units, activation='relu'),\n",
    "    Dropout(0.2),\n",
    "    Dense(output_dim=hidden3_num_units, input_dim=hidden2_num_units, activation='relu'),\n",
    "    Dropout(0.2),\n",
    "    Dense(output_dim=hidden4_num_units, input_dim=hidden3_num_units, activation='relu'),\n",
    "    Dropout(0.2),\n",
    "    Dense(output_dim=hidden5_num_units, input_dim=hidden4_num_units, activation='relu'),\n",
    "    Dropout(0.2),\n",
    "    \n",
    "        \n",
    "    Dense(output_dim=output_num_units, input_dim=hidden5_num_units, activation='softmax'),\n",
    "])"
   ]
  },
  {
   "cell_type": "code",
   "execution_count": 19,
   "metadata": {
    "collapsed": true
   },
   "outputs": [],
   "source": [
    "model.compile(loss='categorical_crossentropy', optimizer='adam', metrics=['accuracy'])"
   ]
  },
  {
   "cell_type": "code",
   "execution_count": 20,
   "metadata": {
    "collapsed": false
   },
   "outputs": [
    {
     "name": "stderr",
     "output_type": "stream",
     "text": [
      "C:\\Users\\user\\Anaconda3\\envs\\keras_tf\\lib\\site-packages\\keras\\models.py:851: UserWarning: The `nb_epoch` argument in `fit` has been renamed `epochs`.\n",
      "  warnings.warn('The `nb_epoch` argument in `fit` '\n"
     ]
    },
    {
     "name": "stdout",
     "output_type": "stream",
     "text": [
      "Train on 34300 samples, validate on 14700 samples\n",
      "Epoch 1/5\n",
      "34300/34300 [==============================] - 3s - loss: 1.1928 - acc: 0.5769 - val_loss: 0.4342 - val_acc: 0.8784\n",
      "Epoch 2/5\n",
      "34300/34300 [==============================] - 3s - loss: 0.4999 - acc: 0.8531 - val_loss: 0.2851 - val_acc: 0.9208\n",
      "Epoch 3/5\n",
      "34300/34300 [==============================] - 2s - loss: 0.3681 - acc: 0.8981 - val_loss: 0.2409 - val_acc: 0.9358\n",
      "Epoch 4/5\n",
      "34300/34300 [==============================] - 3s - loss: 0.3149 - acc: 0.9164 - val_loss: 0.2152 - val_acc: 0.9420\n",
      "Epoch 5/5\n",
      "34300/34300 [==============================] - 3s - loss: 0.2883 - acc: 0.9241 - val_loss: 0.2026 - val_acc: 0.9452\n"
     ]
    }
   ],
   "source": [
    "trained_model_5d_with_drop = model.fit(train_x, train_y, nb_epoch=epochs, batch_size=batch_size, validation_data=(val_x, val_y))"
   ]
  },
  {
   "cell_type": "code",
   "execution_count": 21,
   "metadata": {
    "collapsed": false
   },
   "outputs": [
    {
     "name": "stdout",
     "output_type": "stream",
     "text": [
      "_________________________________________________________________\n",
      "Layer (type)                 Output Shape              Param #   \n",
      "=================================================================\n",
      "dense_9 (Dense)              (None, 50)                39250     \n",
      "_________________________________________________________________\n",
      "dropout_1 (Dropout)          (None, 50)                0         \n",
      "_________________________________________________________________\n",
      "dense_10 (Dense)             (None, 50)                2550      \n",
      "_________________________________________________________________\n",
      "dropout_2 (Dropout)          (None, 50)                0         \n",
      "_________________________________________________________________\n",
      "dense_11 (Dense)             (None, 50)                2550      \n",
      "_________________________________________________________________\n",
      "dropout_3 (Dropout)          (None, 50)                0         \n",
      "_________________________________________________________________\n",
      "dense_12 (Dense)             (None, 50)                2550      \n",
      "_________________________________________________________________\n",
      "dropout_4 (Dropout)          (None, 50)                0         \n",
      "_________________________________________________________________\n",
      "dense_13 (Dense)             (None, 50)                2550      \n",
      "_________________________________________________________________\n",
      "dropout_5 (Dropout)          (None, 50)                0         \n",
      "_________________________________________________________________\n",
      "dense_14 (Dense)             (None, 10)                510       \n",
      "=================================================================\n",
      "Total params: 49,960\n",
      "Trainable params: 49,960\n",
      "Non-trainable params: 0\n",
      "_________________________________________________________________\n"
     ]
    }
   ],
   "source": [
    "model.summary()"
   ]
  },
  {
   "cell_type": "code",
   "execution_count": 22,
   "metadata": {
    "collapsed": true
   },
   "outputs": [],
   "source": [
    "# Deep Dropout with more epochs\n"
   ]
  },
  {
   "cell_type": "code",
   "execution_count": 23,
   "metadata": {
    "collapsed": true
   },
   "outputs": [],
   "source": [
    "# define vars\n",
    "input_num_units = 784\n",
    "hidden1_num_units = 50\n",
    "hidden2_num_units = 50\n",
    "hidden3_num_units = 50\n",
    "hidden4_num_units = 50\n",
    "hidden5_num_units = 50\n",
    "output_num_units = 10\n",
    "\n",
    "epochs = 50\n",
    "batch_size = 128"
   ]
  },
  {
   "cell_type": "code",
   "execution_count": 24,
   "metadata": {
    "collapsed": false
   },
   "outputs": [
    {
     "name": "stderr",
     "output_type": "stream",
     "text": [
      "C:\\Users\\user\\Anaconda3\\envs\\keras_tf\\lib\\site-packages\\ipykernel\\__main__.py:2: UserWarning: Update your `Dense` call to the Keras 2 API: `Dense(input_dim=784, activation=\"relu\", units=50)`\n",
      "  from ipykernel import kernelapp as app\n",
      "C:\\Users\\user\\Anaconda3\\envs\\keras_tf\\lib\\site-packages\\ipykernel\\__main__.py:4: UserWarning: Update your `Dense` call to the Keras 2 API: `Dense(input_dim=50, activation=\"relu\", units=50)`\n",
      "C:\\Users\\user\\Anaconda3\\envs\\keras_tf\\lib\\site-packages\\ipykernel\\__main__.py:6: UserWarning: Update your `Dense` call to the Keras 2 API: `Dense(input_dim=50, activation=\"relu\", units=50)`\n",
      "C:\\Users\\user\\Anaconda3\\envs\\keras_tf\\lib\\site-packages\\ipykernel\\__main__.py:8: UserWarning: Update your `Dense` call to the Keras 2 API: `Dense(input_dim=50, activation=\"relu\", units=50)`\n",
      "C:\\Users\\user\\Anaconda3\\envs\\keras_tf\\lib\\site-packages\\ipykernel\\__main__.py:10: UserWarning: Update your `Dense` call to the Keras 2 API: `Dense(input_dim=50, activation=\"relu\", units=50)`\n",
      "C:\\Users\\user\\Anaconda3\\envs\\keras_tf\\lib\\site-packages\\ipykernel\\__main__.py:14: UserWarning: Update your `Dense` call to the Keras 2 API: `Dense(input_dim=50, activation=\"softmax\", units=10)`\n"
     ]
    }
   ],
   "source": [
    "model = Sequential([\n",
    "    Dense(output_dim=hidden1_num_units, input_dim=input_num_units, activation='relu'),\n",
    "    Dropout(0.2),\n",
    "    Dense(output_dim=hidden2_num_units, input_dim=hidden1_num_units, activation='relu'),\n",
    "    Dropout(0.2),\n",
    "    Dense(output_dim=hidden3_num_units, input_dim=hidden2_num_units, activation='relu'),\n",
    "    Dropout(0.2),\n",
    "    Dense(output_dim=hidden4_num_units, input_dim=hidden3_num_units, activation='relu'),\n",
    "    Dropout(0.2),\n",
    "    Dense(output_dim=hidden5_num_units, input_dim=hidden4_num_units, activation='relu'),\n",
    "    Dropout(0.2),\n",
    "    \n",
    "        \n",
    "    Dense(output_dim=output_num_units, input_dim=hidden5_num_units, activation='softmax'),\n",
    "])"
   ]
  },
  {
   "cell_type": "code",
   "execution_count": 25,
   "metadata": {
    "collapsed": true
   },
   "outputs": [],
   "source": [
    "model.compile(loss='categorical_crossentropy', optimizer='adam', metrics=['accuracy'])"
   ]
  },
  {
   "cell_type": "code",
   "execution_count": 26,
   "metadata": {
    "collapsed": false
   },
   "outputs": [
    {
     "name": "stderr",
     "output_type": "stream",
     "text": [
      "C:\\Users\\user\\Anaconda3\\envs\\keras_tf\\lib\\site-packages\\keras\\models.py:851: UserWarning: The `nb_epoch` argument in `fit` has been renamed `epochs`.\n",
      "  warnings.warn('The `nb_epoch` argument in `fit` '\n"
     ]
    },
    {
     "name": "stdout",
     "output_type": "stream",
     "text": [
      "Train on 34300 samples, validate on 14700 samples\n",
      "Epoch 1/50\n",
      "34300/34300 [==============================] - 3s - loss: 1.1146 - acc: 0.6124 - val_loss: 0.4005 - val_acc: 0.8815\n",
      "Epoch 2/50\n",
      "34300/34300 [==============================] - 2s - loss: 0.4698 - acc: 0.8637 - val_loss: 0.2829 - val_acc: 0.9256\n",
      "Epoch 3/50\n",
      "34300/34300 [==============================] - 2s - loss: 0.3696 - acc: 0.9013 - val_loss: 0.2380 - val_acc: 0.9351\n",
      "Epoch 4/50\n",
      "34300/34300 [==============================] - 2s - loss: 0.3174 - acc: 0.9149 - val_loss: 0.2220 - val_acc: 0.9418\n",
      "Epoch 5/50\n",
      "34300/34300 [==============================] - 2s - loss: 0.2828 - acc: 0.9245 - val_loss: 0.2012 - val_acc: 0.9469\n",
      "Epoch 6/50\n",
      "34300/34300 [==============================] - 2s - loss: 0.2561 - acc: 0.9327 - val_loss: 0.2020 - val_acc: 0.9467\n",
      "Epoch 7/50\n",
      "34300/34300 [==============================] - 2s - loss: 0.2382 - acc: 0.9376 - val_loss: 0.1875 - val_acc: 0.9505\n",
      "Epoch 8/50\n",
      "34300/34300 [==============================] - 2s - loss: 0.2300 - acc: 0.9389 - val_loss: 0.1831 - val_acc: 0.9512\n",
      "Epoch 9/50\n",
      "34300/34300 [==============================] - 2s - loss: 0.2102 - acc: 0.9440 - val_loss: 0.1739 - val_acc: 0.9536\n",
      "Epoch 10/50\n",
      "34300/34300 [==============================] - 2s - loss: 0.2048 - acc: 0.9450 - val_loss: 0.1712 - val_acc: 0.9547\n",
      "Epoch 11/50\n",
      "34300/34300 [==============================] - 2s - loss: 0.1932 - acc: 0.9483 - val_loss: 0.1691 - val_acc: 0.9550\n",
      "Epoch 12/50\n",
      "34300/34300 [==============================] - 2s - loss: 0.1897 - acc: 0.9500 - val_loss: 0.1643 - val_acc: 0.9571\n",
      "Epoch 13/50\n",
      "34300/34300 [==============================] - 2s - loss: 0.1839 - acc: 0.9519 - val_loss: 0.1647 - val_acc: 0.9565\n",
      "Epoch 14/50\n",
      "34300/34300 [==============================] - 2s - loss: 0.1744 - acc: 0.9531 - val_loss: 0.1632 - val_acc: 0.9582\n",
      "Epoch 15/50\n",
      "34300/34300 [==============================] - 2s - loss: 0.1735 - acc: 0.9540 - val_loss: 0.1662 - val_acc: 0.9577\n",
      "Epoch 16/50\n",
      "34300/34300 [==============================] - 2s - loss: 0.1674 - acc: 0.9544 - val_loss: 0.1575 - val_acc: 0.9584\n",
      "Epoch 17/50\n",
      "34300/34300 [==============================] - 2s - loss: 0.1579 - acc: 0.9580 - val_loss: 0.1738 - val_acc: 0.9576\n",
      "Epoch 18/50\n",
      "34300/34300 [==============================] - 2s - loss: 0.1584 - acc: 0.9576 - val_loss: 0.1607 - val_acc: 0.9611\n",
      "Epoch 19/50\n",
      "34300/34300 [==============================] - 2s - loss: 0.1597 - acc: 0.9568 - val_loss: 0.1541 - val_acc: 0.9609\n",
      "Epoch 20/50\n",
      "34300/34300 [==============================] - 2s - loss: 0.1484 - acc: 0.9587 - val_loss: 0.1550 - val_acc: 0.9599\n",
      "Epoch 21/50\n",
      "34300/34300 [==============================] - 2s - loss: 0.1452 - acc: 0.9605 - val_loss: 0.1537 - val_acc: 0.9609\n",
      "Epoch 22/50\n",
      "34300/34300 [==============================] - 2s - loss: 0.1439 - acc: 0.9620 - val_loss: 0.1607 - val_acc: 0.9601\n",
      "Epoch 23/50\n",
      "34300/34300 [==============================] - 2s - loss: 0.1470 - acc: 0.9601 - val_loss: 0.1634 - val_acc: 0.9600\n",
      "Epoch 24/50\n",
      "34300/34300 [==============================] - 2s - loss: 0.1365 - acc: 0.9634 - val_loss: 0.1606 - val_acc: 0.9603\n",
      "Epoch 25/50\n",
      "34300/34300 [==============================] - 2s - loss: 0.1384 - acc: 0.9635 - val_loss: 0.1784 - val_acc: 0.9582\n",
      "Epoch 26/50\n",
      "34300/34300 [==============================] - 2s - loss: 0.1346 - acc: 0.9644 - val_loss: 0.1587 - val_acc: 0.9605\n",
      "Epoch 27/50\n",
      "34300/34300 [==============================] - 2s - loss: 0.1310 - acc: 0.9643 - val_loss: 0.1654 - val_acc: 0.9584\n",
      "Epoch 28/50\n",
      "34300/34300 [==============================] - 2s - loss: 0.1296 - acc: 0.9654 - val_loss: 0.1607 - val_acc: 0.9614\n",
      "Epoch 29/50\n",
      "34300/34300 [==============================] - 2s - loss: 0.1260 - acc: 0.9662 - val_loss: 0.1557 - val_acc: 0.9637\n",
      "Epoch 30/50\n",
      "34300/34300 [==============================] - 2s - loss: 0.1298 - acc: 0.9655 - val_loss: 0.1583 - val_acc: 0.9620\n",
      "Epoch 31/50\n",
      "34300/34300 [==============================] - 2s - loss: 0.1252 - acc: 0.9656 - val_loss: 0.1591 - val_acc: 0.9621\n",
      "Epoch 32/50\n",
      "34300/34300 [==============================] - 2s - loss: 0.1281 - acc: 0.9657 - val_loss: 0.1530 - val_acc: 0.9611\n",
      "Epoch 33/50\n",
      "34300/34300 [==============================] - 2s - loss: 0.1216 - acc: 0.9669 - val_loss: 0.1572 - val_acc: 0.9619\n",
      "Epoch 34/50\n",
      "34300/34300 [==============================] - 2s - loss: 0.1214 - acc: 0.9665 - val_loss: 0.1529 - val_acc: 0.9644\n",
      "Epoch 35/50\n",
      "34300/34300 [==============================] - 2s - loss: 0.1177 - acc: 0.9674 - val_loss: 0.1574 - val_acc: 0.9622\n",
      "Epoch 36/50\n",
      "34300/34300 [==============================] - 2s - loss: 0.1157 - acc: 0.9671 - val_loss: 0.1642 - val_acc: 0.9623\n",
      "Epoch 37/50\n",
      "34300/34300 [==============================] - 2s - loss: 0.1160 - acc: 0.9685 - val_loss: 0.1582 - val_acc: 0.9607\n",
      "Epoch 38/50\n",
      "34300/34300 [==============================] - 2s - loss: 0.1123 - acc: 0.9696 - val_loss: 0.1506 - val_acc: 0.9650\n",
      "Epoch 39/50\n",
      "34300/34300 [==============================] - 2s - loss: 0.1121 - acc: 0.9693 - val_loss: 0.1538 - val_acc: 0.9622\n",
      "Epoch 40/50\n",
      "34300/34300 [==============================] - 2s - loss: 0.1134 - acc: 0.9688 - val_loss: 0.1572 - val_acc: 0.9640\n",
      "Epoch 41/50\n",
      "34300/34300 [==============================] - 2s - loss: 0.1133 - acc: 0.9692 - val_loss: 0.1514 - val_acc: 0.9640\n",
      "Epoch 42/50\n",
      "34300/34300 [==============================] - 2s - loss: 0.1104 - acc: 0.9707 - val_loss: 0.1669 - val_acc: 0.9625\n",
      "Epoch 43/50\n",
      "34300/34300 [==============================] - 2s - loss: 0.1075 - acc: 0.9695 - val_loss: 0.1656 - val_acc: 0.9618\n",
      "Epoch 44/50\n",
      "34300/34300 [==============================] - 2s - loss: 0.1092 - acc: 0.9700 - val_loss: 0.1533 - val_acc: 0.9630\n",
      "Epoch 45/50\n",
      "34300/34300 [==============================] - 2s - loss: 0.1080 - acc: 0.9694 - val_loss: 0.1532 - val_acc: 0.9641\n",
      "Epoch 46/50\n",
      "34300/34300 [==============================] - 2s - loss: 0.1022 - acc: 0.9722 - val_loss: 0.1539 - val_acc: 0.9654\n",
      "Epoch 47/50\n",
      "34300/34300 [==============================] - 2s - loss: 0.1044 - acc: 0.9706 - val_loss: 0.1527 - val_acc: 0.9646\n",
      "Epoch 48/50\n",
      "34300/34300 [==============================] - 2s - loss: 0.1067 - acc: 0.9712 - val_loss: 0.1504 - val_acc: 0.9639\n",
      "Epoch 49/50\n",
      "34300/34300 [==============================] - 2s - loss: 0.1021 - acc: 0.9717 - val_loss: 0.1595 - val_acc: 0.9629\n",
      "Epoch 50/50\n",
      "34300/34300 [==============================] - 2s - loss: 0.0989 - acc: 0.9733 - val_loss: 0.1577 - val_acc: 0.9651\n"
     ]
    }
   ],
   "source": [
    "trained_model_5d_with_drop_more_epochs = model.fit(train_x, train_y, nb_epoch=epochs, batch_size=batch_size, validation_data=(val_x, val_y))"
   ]
  },
  {
   "cell_type": "code",
   "execution_count": 27,
   "metadata": {
    "collapsed": false
   },
   "outputs": [
    {
     "name": "stdout",
     "output_type": "stream",
     "text": [
      "_________________________________________________________________\n",
      "Layer (type)                 Output Shape              Param #   \n",
      "=================================================================\n",
      "dense_15 (Dense)             (None, 50)                39250     \n",
      "_________________________________________________________________\n",
      "dropout_6 (Dropout)          (None, 50)                0         \n",
      "_________________________________________________________________\n",
      "dense_16 (Dense)             (None, 50)                2550      \n",
      "_________________________________________________________________\n",
      "dropout_7 (Dropout)          (None, 50)                0         \n",
      "_________________________________________________________________\n",
      "dense_17 (Dense)             (None, 50)                2550      \n",
      "_________________________________________________________________\n",
      "dropout_8 (Dropout)          (None, 50)                0         \n",
      "_________________________________________________________________\n",
      "dense_18 (Dense)             (None, 50)                2550      \n",
      "_________________________________________________________________\n",
      "dropout_9 (Dropout)          (None, 50)                0         \n",
      "_________________________________________________________________\n",
      "dense_19 (Dense)             (None, 50)                2550      \n",
      "_________________________________________________________________\n",
      "dropout_10 (Dropout)         (None, 50)                0         \n",
      "_________________________________________________________________\n",
      "dense_20 (Dense)             (None, 10)                510       \n",
      "=================================================================\n",
      "Total params: 49,960\n",
      "Trainable params: 49,960\n",
      "Non-trainable params: 0\n",
      "_________________________________________________________________\n"
     ]
    }
   ],
   "source": [
    "model.summary()"
   ]
  },
  {
   "cell_type": "code",
   "execution_count": 28,
   "metadata": {
    "collapsed": true
   },
   "outputs": [],
   "source": [
    "### Deep and Wide"
   ]
  },
  {
   "cell_type": "code",
   "execution_count": 29,
   "metadata": {
    "collapsed": true
   },
   "outputs": [],
   "source": [
    "# define vars\n",
    "input_num_units = 784\n",
    "hidden1_num_units = 500\n",
    "hidden2_num_units = 500\n",
    "hidden3_num_units = 500\n",
    "hidden4_num_units = 500\n",
    "hidden5_num_units = 500\n",
    "output_num_units = 10\n",
    "\n",
    "epochs = 25\n",
    "batch_size = 128"
   ]
  },
  {
   "cell_type": "code",
   "execution_count": 30,
   "metadata": {
    "collapsed": false
   },
   "outputs": [
    {
     "name": "stderr",
     "output_type": "stream",
     "text": [
      "C:\\Users\\user\\Anaconda3\\envs\\keras_tf\\lib\\site-packages\\ipykernel\\__main__.py:2: UserWarning: Update your `Dense` call to the Keras 2 API: `Dense(input_dim=784, activation=\"relu\", units=500)`\n",
      "  from ipykernel import kernelapp as app\n",
      "C:\\Users\\user\\Anaconda3\\envs\\keras_tf\\lib\\site-packages\\ipykernel\\__main__.py:4: UserWarning: Update your `Dense` call to the Keras 2 API: `Dense(input_dim=500, activation=\"relu\", units=500)`\n",
      "C:\\Users\\user\\Anaconda3\\envs\\keras_tf\\lib\\site-packages\\ipykernel\\__main__.py:6: UserWarning: Update your `Dense` call to the Keras 2 API: `Dense(input_dim=500, activation=\"relu\", units=500)`\n",
      "C:\\Users\\user\\Anaconda3\\envs\\keras_tf\\lib\\site-packages\\ipykernel\\__main__.py:8: UserWarning: Update your `Dense` call to the Keras 2 API: `Dense(input_dim=500, activation=\"relu\", units=500)`\n",
      "C:\\Users\\user\\Anaconda3\\envs\\keras_tf\\lib\\site-packages\\ipykernel\\__main__.py:10: UserWarning: Update your `Dense` call to the Keras 2 API: `Dense(input_dim=500, activation=\"relu\", units=500)`\n",
      "C:\\Users\\user\\Anaconda3\\envs\\keras_tf\\lib\\site-packages\\ipykernel\\__main__.py:14: UserWarning: Update your `Dense` call to the Keras 2 API: `Dense(input_dim=500, activation=\"softmax\", units=10)`\n"
     ]
    }
   ],
   "source": [
    "model = Sequential([\n",
    "    Dense(output_dim=hidden1_num_units, input_dim=input_num_units, activation='relu'),\n",
    "    Dropout(0.2),\n",
    "    Dense(output_dim=hidden2_num_units, input_dim=hidden1_num_units, activation='relu'),\n",
    "    Dropout(0.2),\n",
    "    Dense(output_dim=hidden3_num_units, input_dim=hidden2_num_units, activation='relu'),\n",
    "    Dropout(0.2),\n",
    "    Dense(output_dim=hidden4_num_units, input_dim=hidden3_num_units, activation='relu'),\n",
    "    Dropout(0.2),\n",
    "    Dense(output_dim=hidden5_num_units, input_dim=hidden4_num_units, activation='relu'),\n",
    "    Dropout(0.2),\n",
    "    \n",
    "        \n",
    "    Dense(output_dim=output_num_units, input_dim=hidden5_num_units, activation='softmax'),\n",
    "])"
   ]
  },
  {
   "cell_type": "code",
   "execution_count": 31,
   "metadata": {
    "collapsed": true
   },
   "outputs": [],
   "source": [
    "model.compile(loss='categorical_crossentropy', optimizer='adam', metrics=['accuracy'])"
   ]
  },
  {
   "cell_type": "code",
   "execution_count": 32,
   "metadata": {
    "collapsed": false
   },
   "outputs": [
    {
     "name": "stderr",
     "output_type": "stream",
     "text": [
      "C:\\Users\\user\\Anaconda3\\envs\\keras_tf\\lib\\site-packages\\keras\\models.py:851: UserWarning: The `nb_epoch` argument in `fit` has been renamed `epochs`.\n",
      "  warnings.warn('The `nb_epoch` argument in `fit` '\n"
     ]
    },
    {
     "name": "stdout",
     "output_type": "stream",
     "text": [
      "Train on 34300 samples, validate on 14700 samples\n",
      "Epoch 1/25\n",
      "34300/34300 [==============================] - 32s - loss: 0.3909 - acc: 0.8740 - val_loss: 0.2177 - val_acc: 0.9337\n",
      "Epoch 2/25\n",
      "34300/34300 [==============================] - 25s - loss: 0.1575 - acc: 0.9542 - val_loss: 0.1336 - val_acc: 0.9620\n",
      "Epoch 3/25\n",
      "34300/34300 [==============================] - 26s - loss: 0.1199 - acc: 0.9651 - val_loss: 0.1152 - val_acc: 0.9671\n",
      "Epoch 4/25\n",
      "34300/34300 [==============================] - 29s - loss: 0.0971 - acc: 0.9709 - val_loss: 0.1245 - val_acc: 0.9652\n",
      "Epoch 5/25\n",
      "34300/34300 [==============================] - 27s - loss: 0.0810 - acc: 0.9764 - val_loss: 0.1008 - val_acc: 0.9722\n",
      "Epoch 6/25\n",
      "34300/34300 [==============================] - 31s - loss: 0.0666 - acc: 0.9806 - val_loss: 0.0950 - val_acc: 0.9735\n",
      "Epoch 7/25\n",
      "34300/34300 [==============================] - 34s - loss: 0.0603 - acc: 0.9827 - val_loss: 0.1174 - val_acc: 0.9710\n",
      "Epoch 8/25\n",
      "34300/34300 [==============================] - 28s - loss: 0.0573 - acc: 0.9832 - val_loss: 0.1009 - val_acc: 0.9731\n",
      "Epoch 9/25\n",
      "34300/34300 [==============================] - 28s - loss: 0.0505 - acc: 0.9860 - val_loss: 0.1196 - val_acc: 0.9712\n",
      "Epoch 10/25\n",
      "34300/34300 [==============================] - 28s - loss: 0.0481 - acc: 0.9855 - val_loss: 0.0966 - val_acc: 0.9769\n",
      "Epoch 11/25\n",
      "34300/34300 [==============================] - 28s - loss: 0.0404 - acc: 0.9882 - val_loss: 0.1242 - val_acc: 0.9708\n",
      "Epoch 12/25\n",
      "34300/34300 [==============================] - 28s - loss: 0.0411 - acc: 0.9882 - val_loss: 0.1226 - val_acc: 0.9711\n",
      "Epoch 13/25\n",
      "34300/34300 [==============================] - 28s - loss: 0.0422 - acc: 0.9877 - val_loss: 0.1087 - val_acc: 0.9762\n",
      "Epoch 14/25\n",
      "34300/34300 [==============================] - 28s - loss: 0.0330 - acc: 0.9903 - val_loss: 0.1153 - val_acc: 0.9744\n",
      "Epoch 15/25\n",
      "34300/34300 [==============================] - 28s - loss: 0.0339 - acc: 0.9901 - val_loss: 0.1063 - val_acc: 0.9761\n",
      "Epoch 16/25\n",
      "34300/34300 [==============================] - 28s - loss: 0.0296 - acc: 0.9915 - val_loss: 0.1153 - val_acc: 0.9763\n",
      "Epoch 17/25\n",
      "34300/34300 [==============================] - 28s - loss: 0.0326 - acc: 0.9913 - val_loss: 0.1054 - val_acc: 0.9767\n",
      "Epoch 18/25\n",
      "34300/34300 [==============================] - 27s - loss: 0.0320 - acc: 0.9909 - val_loss: 0.1064 - val_acc: 0.9764\n",
      "Epoch 19/25\n",
      "34300/34300 [==============================] - 28s - loss: 0.0266 - acc: 0.9922 - val_loss: 0.1487 - val_acc: 0.9713\n",
      "Epoch 20/25\n",
      "34300/34300 [==============================] - 30s - loss: 0.0351 - acc: 0.9906 - val_loss: 0.1136 - val_acc: 0.9776\n",
      "Epoch 21/25\n",
      "34300/34300 [==============================] - 29s - loss: 0.0261 - acc: 0.9929 - val_loss: 0.1605 - val_acc: 0.9717\n",
      "Epoch 22/25\n",
      "34300/34300 [==============================] - 28s - loss: 0.0313 - acc: 0.9918 - val_loss: 0.1119 - val_acc: 0.9759\n",
      "Epoch 23/25\n",
      "34300/34300 [==============================] - 25s - loss: 0.0285 - acc: 0.9924 - val_loss: 0.1209 - val_acc: 0.9750\n",
      "Epoch 24/25\n",
      "34300/34300 [==============================] - 27s - loss: 0.0253 - acc: 0.9929 - val_loss: 0.1246 - val_acc: 0.9782\n",
      "Epoch 25/25\n",
      "34300/34300 [==============================] - 26s - loss: 0.0228 - acc: 0.9939 - val_loss: 0.1224 - val_acc: 0.9784\n"
     ]
    }
   ],
   "source": [
    "trained_model_deep_n_wide = model.fit(train_x, train_y, nb_epoch=epochs, batch_size=batch_size, validation_data=(val_x, val_y))"
   ]
  },
  {
   "cell_type": "code",
   "execution_count": 33,
   "metadata": {
    "collapsed": false
   },
   "outputs": [
    {
     "name": "stdout",
     "output_type": "stream",
     "text": [
      "21000/21000 [==============================] - 11s    \n"
     ]
    }
   ],
   "source": [
    "pred = model.predict_classes(test_x)\n",
    "sample_submission.filename = test.filename; sample_submission.label = pred\n",
    "sample_submission.to_csv(os.path.join(data_dir, 'sub03.csv'), index=False)"
   ]
  },
  {
   "cell_type": "code",
   "execution_count": 34,
   "metadata": {
    "collapsed": true
   },
   "outputs": [],
   "source": [
    "# Intro to conv"
   ]
  },
  {
   "cell_type": "code",
   "execution_count": 35,
   "metadata": {
    "collapsed": true
   },
   "outputs": [],
   "source": [
    "# define vars\n",
    "input_shape = (784,)\n",
    "input_reshape = (28, 28, 1)\n",
    "\n",
    "conv_num_filters = 5\n",
    "conv_filter_size = 5\n",
    "\n",
    "pool_size = (2, 2)\n",
    "\n",
    "hidden_num_units = 50\n",
    "output_num_units = 10\n",
    "\n",
    "epochs = 5\n",
    "batch_size = 128"
   ]
  },
  {
   "cell_type": "code",
   "execution_count": 36,
   "metadata": {
    "collapsed": true
   },
   "outputs": [],
   "source": [
    "train_x_temp = train_x.reshape(-1, 28, 28, 1)\n",
    "val_x_temp = val_x.reshape(-1, 28, 28, 1)"
   ]
  },
  {
   "cell_type": "code",
   "execution_count": 42,
   "metadata": {
    "collapsed": true
   },
   "outputs": [],
   "source": [
    "test_x_temp = test_x.reshape(-1,28,28,1)"
   ]
  },
  {
   "cell_type": "code",
   "execution_count": 37,
   "metadata": {
    "collapsed": false
   },
   "outputs": [
    {
     "name": "stderr",
     "output_type": "stream",
     "text": [
      "C:\\Users\\user\\Anaconda3\\envs\\keras_tf\\lib\\site-packages\\ipykernel\\__main__.py:4: UserWarning: Update your `Conv2D` call to the Keras 2 API: `Conv2D(25, (5, 5), activation=\"relu\")`\n",
      "C:\\Users\\user\\Anaconda3\\envs\\keras_tf\\lib\\site-packages\\ipykernel\\__main__.py:7: UserWarning: Update your `Conv2D` call to the Keras 2 API: `Conv2D(25, (5, 5), activation=\"relu\")`\n",
      "C:\\Users\\user\\Anaconda3\\envs\\keras_tf\\lib\\site-packages\\ipykernel\\__main__.py:10: UserWarning: Update your `Conv2D` call to the Keras 2 API: `Conv2D(25, (4, 4), activation=\"relu\")`\n",
      "C:\\Users\\user\\Anaconda3\\envs\\keras_tf\\lib\\site-packages\\ipykernel\\__main__.py:14: UserWarning: Update your `Dense` call to the Keras 2 API: `Dense(activation=\"relu\", units=50)`\n",
      "C:\\Users\\user\\Anaconda3\\envs\\keras_tf\\lib\\site-packages\\ipykernel\\__main__.py:16: UserWarning: Update your `Dense` call to the Keras 2 API: `Dense(input_dim=50, activation=\"softmax\", units=10)`\n"
     ]
    }
   ],
   "source": [
    "model = Sequential([\n",
    "    InputLayer(input_shape=input_reshape),\n",
    "        \n",
    "    Convolution2D(25, 5, 5, activation='relu'),\n",
    "    MaxPooling2D(pool_size=pool_size),\n",
    "        \n",
    "    Convolution2D(25, 5, 5, activation='relu'),\n",
    "    MaxPooling2D(pool_size=pool_size),\n",
    "        \n",
    "    Convolution2D(25, 4, 4, activation='relu'),\n",
    "        \n",
    "    Flatten(),\n",
    "        \n",
    "    Dense(output_dim=hidden_num_units, activation='relu'),\n",
    "        \n",
    "    Dense(output_dim=output_num_units, input_dim=hidden_num_units, activation='softmax'),\n",
    "])"
   ]
  },
  {
   "cell_type": "code",
   "execution_count": 38,
   "metadata": {
    "collapsed": true
   },
   "outputs": [],
   "source": [
    "model.compile(loss='categorical_crossentropy', optimizer='adam', metrics=['accuracy'])"
   ]
  },
  {
   "cell_type": "code",
   "execution_count": 39,
   "metadata": {
    "collapsed": false
   },
   "outputs": [
    {
     "name": "stderr",
     "output_type": "stream",
     "text": [
      "C:\\Users\\user\\Anaconda3\\envs\\keras_tf\\lib\\site-packages\\keras\\models.py:851: UserWarning: The `nb_epoch` argument in `fit` has been renamed `epochs`.\n",
      "  warnings.warn('The `nb_epoch` argument in `fit` '\n"
     ]
    },
    {
     "name": "stdout",
     "output_type": "stream",
     "text": [
      "Train on 34300 samples, validate on 14700 samples\n",
      "Epoch 1/5\n",
      "34300/34300 [==============================] - 63s - loss: 0.4988 - acc: 0.8448 - val_loss: 0.1662 - val_acc: 0.9494\n",
      "Epoch 2/5\n",
      "34300/34300 [==============================] - 60s - loss: 0.1198 - acc: 0.9635 - val_loss: 0.1057 - val_acc: 0.9685\n",
      "Epoch 3/5\n",
      "34300/34300 [==============================] - 59s - loss: 0.0810 - acc: 0.9744 - val_loss: 0.0790 - val_acc: 0.9770\n",
      "Epoch 4/5\n",
      "34300/34300 [==============================] - 59s - loss: 0.0627 - acc: 0.9797 - val_loss: 0.0736 - val_acc: 0.9781\n",
      "Epoch 5/5\n",
      "34300/34300 [==============================] - 61s - loss: 0.0526 - acc: 0.9835 - val_loss: 0.0597 - val_acc: 0.9819\n"
     ]
    }
   ],
   "source": [
    "trained_model_conv = model.fit(train_x_temp, train_y, nb_epoch=epochs, batch_size=batch_size, validation_data=(val_x_temp, val_y))"
   ]
  },
  {
   "cell_type": "code",
   "execution_count": 41,
   "metadata": {
    "collapsed": false
   },
   "outputs": [
    {
     "name": "stdout",
     "output_type": "stream",
     "text": [
      "_________________________________________________________________\n",
      "Layer (type)                 Output Shape              Param #   \n",
      "=================================================================\n",
      "input_1 (InputLayer)         (None, 28, 28, 1)         0         \n",
      "_________________________________________________________________\n",
      "conv2d_1 (Conv2D)            (None, 24, 24, 25)        650       \n",
      "_________________________________________________________________\n",
      "max_pooling2d_1 (MaxPooling2 (None, 12, 12, 25)        0         \n",
      "_________________________________________________________________\n",
      "conv2d_2 (Conv2D)            (None, 8, 8, 25)          15650     \n",
      "_________________________________________________________________\n",
      "max_pooling2d_2 (MaxPooling2 (None, 4, 4, 25)          0         \n",
      "_________________________________________________________________\n",
      "conv2d_3 (Conv2D)            (None, 1, 1, 25)          10025     \n",
      "_________________________________________________________________\n",
      "flatten_1 (Flatten)          (None, 25)                0         \n",
      "_________________________________________________________________\n",
      "dense_27 (Dense)             (None, 50)                1300      \n",
      "_________________________________________________________________\n",
      "dense_28 (Dense)             (None, 10)                510       \n",
      "=================================================================\n",
      "Total params: 28,135\n",
      "Trainable params: 28,135\n",
      "Non-trainable params: 0\n",
      "_________________________________________________________________\n"
     ]
    }
   ],
   "source": [
    "model.summary()"
   ]
  },
  {
   "cell_type": "code",
   "execution_count": 43,
   "metadata": {
    "collapsed": false
   },
   "outputs": [
    {
     "name": "stdout",
     "output_type": "stream",
     "text": [
      "20960/21000 [============================>.] - ETA: 0s"
     ]
    }
   ],
   "source": [
    "pred = model.predict_classes(test_x_temp)\n",
    "sample_submission.filename = test.filename; sample_submission.label = pred\n",
    "sample_submission.to_csv(os.path.join(data_dir, 'sub04.csv'), index=False)"
   ]
  }
 ],
 "metadata": {
  "kernelspec": {
   "display_name": "Python [conda env:keras_tf]",
   "language": "python",
   "name": "conda-env-keras_tf-py"
  },
  "language_info": {
   "codemirror_mode": {
    "name": "ipython",
    "version": 3
   },
   "file_extension": ".py",
   "mimetype": "text/x-python",
   "name": "python",
   "nbconvert_exporter": "python",
   "pygments_lexer": "ipython3",
   "version": "3.5.3"
  }
 },
 "nbformat": 4,
 "nbformat_minor": 1
}
