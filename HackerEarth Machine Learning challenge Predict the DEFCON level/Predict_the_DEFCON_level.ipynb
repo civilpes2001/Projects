{
  "nbformat": 4,
  "nbformat_minor": 0,
  "metadata": {
    "colab": {
      "name": "Predict the DEFCON level.ipynb",
      "provenance": [],
      "collapsed_sections": []
    },
    "kernelspec": {
      "name": "python3",
      "display_name": "Python 3"
    }
  },
  "cells": [
    {
      "cell_type": "code",
      "metadata": {
        "id": "f4APgkR4knKe",
        "colab_type": "code",
        "outputId": "1483c044-3cdc-45d8-bbe7-969f92d80168",
        "colab": {
          "base_uri": "https://localhost:8080/",
          "height": 221
        }
      },
      "source": [
        "!wget https://he-s3.s3.amazonaws.com/media/hackathon/hackerearth-machine-learning-challenge-predict-defcon-level/predict-the-defcon-level-21dcfc30/e631635e5a2611ea.zip"
      ],
      "execution_count": 1,
      "outputs": [
        {
          "output_type": "stream",
          "text": [
            "--2020-03-29 20:48:48--  https://he-s3.s3.amazonaws.com/media/hackathon/hackerearth-machine-learning-challenge-predict-defcon-level/predict-the-defcon-level-21dcfc30/e631635e5a2611ea.zip\n",
            "Resolving he-s3.s3.amazonaws.com (he-s3.s3.amazonaws.com)... 52.219.132.156\n",
            "Connecting to he-s3.s3.amazonaws.com (he-s3.s3.amazonaws.com)|52.219.132.156|:443... connected.\n",
            "HTTP request sent, awaiting response... 200 OK\n",
            "Length: 193606 (189K) [application/zip]\n",
            "Saving to: ‘e631635e5a2611ea.zip’\n",
            "\n",
            "e631635e5a2611ea.zi 100%[===================>] 189.07K   285KB/s    in 0.7s    \n",
            "\n",
            "2020-03-29 20:48:50 (285 KB/s) - ‘e631635e5a2611ea.zip’ saved [193606/193606]\n",
            "\n"
          ],
          "name": "stdout"
        }
      ]
    },
    {
      "cell_type": "code",
      "metadata": {
        "id": "PFzvM_XikvBO",
        "colab_type": "code",
        "outputId": "e7a680bf-aee7-4de2-ef74-a6642da70e1c",
        "colab": {
          "base_uri": "https://localhost:8080/",
          "height": 100
        }
      },
      "source": [
        "!unzip e631635e5a2611ea.zip"
      ],
      "execution_count": 2,
      "outputs": [
        {
          "output_type": "stream",
          "text": [
            "Archive:  e631635e5a2611ea.zip\n",
            "   creating: Dataset/\n",
            "  inflating: Dataset/test.csv        \n",
            "  inflating: Dataset/train.csv       \n",
            "  inflating: Dataset/sample_submission.csv  \n"
          ],
          "name": "stdout"
        }
      ]
    },
    {
      "cell_type": "code",
      "metadata": {
        "id": "edcJgqXok1F8",
        "colab_type": "code",
        "colab": {}
      },
      "source": [
        "import pandas as pd\n",
        "import numpy as np\n",
        "import matplotlib.pyplot as plt\n",
        "%matplotlib inline"
      ],
      "execution_count": 0,
      "outputs": []
    },
    {
      "cell_type": "code",
      "metadata": {
        "id": "tHrCn6DWk32i",
        "colab_type": "code",
        "colab": {}
      },
      "source": [
        "train = pd.read_csv('Dataset/train.csv')\n",
        "test = pd.read_csv('Dataset/test.csv')"
      ],
      "execution_count": 0,
      "outputs": []
    },
    {
      "cell_type": "code",
      "metadata": {
        "id": "Kz_Zo1C3k5vA",
        "colab_type": "code",
        "outputId": "cc7c0a9f-9f77-4298-d276-bf40bca18192",
        "colab": {
          "base_uri": "https://localhost:8080/",
          "height": 216
        }
      },
      "source": [
        "train.head(5)"
      ],
      "execution_count": 5,
      "outputs": [
        {
          "output_type": "execute_result",
          "data": {
            "text/html": [
              "<div>\n",
              "<style scoped>\n",
              "    .dataframe tbody tr th:only-of-type {\n",
              "        vertical-align: middle;\n",
              "    }\n",
              "\n",
              "    .dataframe tbody tr th {\n",
              "        vertical-align: top;\n",
              "    }\n",
              "\n",
              "    .dataframe thead th {\n",
              "        text-align: right;\n",
              "    }\n",
              "</style>\n",
              "<table border=\"1\" class=\"dataframe\">\n",
              "  <thead>\n",
              "    <tr style=\"text-align: right;\">\n",
              "      <th></th>\n",
              "      <th>Allied_Nations</th>\n",
              "      <th>Diplomatic_Meetings_Set</th>\n",
              "      <th>Percent_Of_Forces_Mobilized</th>\n",
              "      <th>Hostile_Nations</th>\n",
              "      <th>Active_Threats</th>\n",
              "      <th>Inactive_Threats</th>\n",
              "      <th>Citizen_Fear_Index</th>\n",
              "      <th>Closest_Threat_Distance(km)</th>\n",
              "      <th>Aircraft_Carriers_Responding</th>\n",
              "      <th>Troops_Mobilized(thousands)</th>\n",
              "      <th>DEFCON_Level</th>\n",
              "      <th>ID</th>\n",
              "    </tr>\n",
              "  </thead>\n",
              "  <tbody>\n",
              "    <tr>\n",
              "      <th>0</th>\n",
              "      <td>16</td>\n",
              "      <td>1</td>\n",
              "      <td>0.67</td>\n",
              "      <td>3</td>\n",
              "      <td>6.0</td>\n",
              "      <td>25.0</td>\n",
              "      <td>0.787812</td>\n",
              "      <td>324.36</td>\n",
              "      <td>1</td>\n",
              "      <td>862400.0</td>\n",
              "      <td>3</td>\n",
              "      <td>7570</td>\n",
              "    </tr>\n",
              "    <tr>\n",
              "      <th>1</th>\n",
              "      <td>8</td>\n",
              "      <td>1</td>\n",
              "      <td>0.11</td>\n",
              "      <td>2</td>\n",
              "      <td>38.0</td>\n",
              "      <td>48.0</td>\n",
              "      <td>0.419236</td>\n",
              "      <td>359.34</td>\n",
              "      <td>0</td>\n",
              "      <td>959200.0</td>\n",
              "      <td>4</td>\n",
              "      <td>12128</td>\n",
              "    </tr>\n",
              "    <tr>\n",
              "      <th>2</th>\n",
              "      <td>9</td>\n",
              "      <td>1</td>\n",
              "      <td>0.49</td>\n",
              "      <td>3</td>\n",
              "      <td>32.0</td>\n",
              "      <td>69.0</td>\n",
              "      <td>0.582232</td>\n",
              "      <td>332.84</td>\n",
              "      <td>1</td>\n",
              "      <td>836000.0</td>\n",
              "      <td>3</td>\n",
              "      <td>2181</td>\n",
              "    </tr>\n",
              "    <tr>\n",
              "      <th>3</th>\n",
              "      <td>7</td>\n",
              "      <td>0</td>\n",
              "      <td>0.30</td>\n",
              "      <td>2</td>\n",
              "      <td>31.0</td>\n",
              "      <td>52.0</td>\n",
              "      <td>0.589574</td>\n",
              "      <td>358.28</td>\n",
              "      <td>1</td>\n",
              "      <td>924000.0</td>\n",
              "      <td>3</td>\n",
              "      <td>5946</td>\n",
              "    </tr>\n",
              "    <tr>\n",
              "      <th>4</th>\n",
              "      <td>8</td>\n",
              "      <td>1</td>\n",
              "      <td>0.12</td>\n",
              "      <td>5</td>\n",
              "      <td>13.0</td>\n",
              "      <td>42.0</td>\n",
              "      <td>0.552863</td>\n",
              "      <td>364.64</td>\n",
              "      <td>0</td>\n",
              "      <td>968000.0</td>\n",
              "      <td>2</td>\n",
              "      <td>9054</td>\n",
              "    </tr>\n",
              "  </tbody>\n",
              "</table>\n",
              "</div>"
            ],
            "text/plain": [
              "   Allied_Nations  Diplomatic_Meetings_Set  ...  DEFCON_Level     ID\n",
              "0              16                        1  ...             3   7570\n",
              "1               8                        1  ...             4  12128\n",
              "2               9                        1  ...             3   2181\n",
              "3               7                        0  ...             3   5946\n",
              "4               8                        1  ...             2   9054\n",
              "\n",
              "[5 rows x 12 columns]"
            ]
          },
          "metadata": {
            "tags": []
          },
          "execution_count": 5
        }
      ]
    },
    {
      "cell_type": "code",
      "metadata": {
        "id": "og3E28j-k7ZD",
        "colab_type": "code",
        "outputId": "0a8da116-039d-4ff5-d5e7-fa76e694c7d5",
        "colab": {
          "base_uri": "https://localhost:8080/",
          "height": 216
        }
      },
      "source": [
        "test.head(5)"
      ],
      "execution_count": 6,
      "outputs": [
        {
          "output_type": "execute_result",
          "data": {
            "text/html": [
              "<div>\n",
              "<style scoped>\n",
              "    .dataframe tbody tr th:only-of-type {\n",
              "        vertical-align: middle;\n",
              "    }\n",
              "\n",
              "    .dataframe tbody tr th {\n",
              "        vertical-align: top;\n",
              "    }\n",
              "\n",
              "    .dataframe thead th {\n",
              "        text-align: right;\n",
              "    }\n",
              "</style>\n",
              "<table border=\"1\" class=\"dataframe\">\n",
              "  <thead>\n",
              "    <tr style=\"text-align: right;\">\n",
              "      <th></th>\n",
              "      <th>Allied_Nations</th>\n",
              "      <th>Diplomatic_Meetings_Set</th>\n",
              "      <th>Percent_Of_Forces_Mobilized</th>\n",
              "      <th>Hostile_Nations</th>\n",
              "      <th>Active_Threats</th>\n",
              "      <th>Inactive_Threats</th>\n",
              "      <th>Citizen_Fear_Index</th>\n",
              "      <th>Closest_Threat_Distance(km)</th>\n",
              "      <th>Aircraft_Carriers_Responding</th>\n",
              "      <th>Troops_Mobilized(thousands)</th>\n",
              "      <th>ID</th>\n",
              "    </tr>\n",
              "  </thead>\n",
              "  <tbody>\n",
              "    <tr>\n",
              "      <th>0</th>\n",
              "      <td>8</td>\n",
              "      <td>0</td>\n",
              "      <td>0.52</td>\n",
              "      <td>2</td>\n",
              "      <td>19.0</td>\n",
              "      <td>52.0</td>\n",
              "      <td>0.376652</td>\n",
              "      <td>319.06</td>\n",
              "      <td>1</td>\n",
              "      <td>976800.0</td>\n",
              "      <td>1</td>\n",
              "    </tr>\n",
              "    <tr>\n",
              "      <th>1</th>\n",
              "      <td>9</td>\n",
              "      <td>0</td>\n",
              "      <td>0.44</td>\n",
              "      <td>2</td>\n",
              "      <td>6.0</td>\n",
              "      <td>12.0</td>\n",
              "      <td>0.254772</td>\n",
              "      <td>351.92</td>\n",
              "      <td>1</td>\n",
              "      <td>1082400.0</td>\n",
              "      <td>10</td>\n",
              "    </tr>\n",
              "    <tr>\n",
              "      <th>2</th>\n",
              "      <td>8</td>\n",
              "      <td>0</td>\n",
              "      <td>0.44</td>\n",
              "      <td>3</td>\n",
              "      <td>7.0</td>\n",
              "      <td>18.0</td>\n",
              "      <td>0.472100</td>\n",
              "      <td>349.80</td>\n",
              "      <td>1</td>\n",
              "      <td>924000.0</td>\n",
              "      <td>14</td>\n",
              "    </tr>\n",
              "    <tr>\n",
              "      <th>3</th>\n",
              "      <td>10</td>\n",
              "      <td>0</td>\n",
              "      <td>0.39</td>\n",
              "      <td>2</td>\n",
              "      <td>3.0</td>\n",
              "      <td>13.0</td>\n",
              "      <td>0.478708</td>\n",
              "      <td>343.44</td>\n",
              "      <td>1</td>\n",
              "      <td>1003200.0</td>\n",
              "      <td>17</td>\n",
              "    </tr>\n",
              "    <tr>\n",
              "      <th>4</th>\n",
              "      <td>9</td>\n",
              "      <td>0</td>\n",
              "      <td>0.44</td>\n",
              "      <td>2</td>\n",
              "      <td>6.0</td>\n",
              "      <td>14.0</td>\n",
              "      <td>0.561674</td>\n",
              "      <td>346.62</td>\n",
              "      <td>1</td>\n",
              "      <td>924000.0</td>\n",
              "      <td>21</td>\n",
              "    </tr>\n",
              "  </tbody>\n",
              "</table>\n",
              "</div>"
            ],
            "text/plain": [
              "   Allied_Nations  Diplomatic_Meetings_Set  ...  Troops_Mobilized(thousands)  ID\n",
              "0               8                        0  ...                     976800.0   1\n",
              "1               9                        0  ...                    1082400.0  10\n",
              "2               8                        0  ...                     924000.0  14\n",
              "3              10                        0  ...                    1003200.0  17\n",
              "4               9                        0  ...                     924000.0  21\n",
              "\n",
              "[5 rows x 11 columns]"
            ]
          },
          "metadata": {
            "tags": []
          },
          "execution_count": 6
        }
      ]
    },
    {
      "cell_type": "code",
      "metadata": {
        "id": "xup8y6rPk_F4",
        "colab_type": "code",
        "outputId": "a15b0a96-0b63-42c7-be3c-654233899b26",
        "colab": {
          "base_uri": "https://localhost:8080/",
          "height": 418
        }
      },
      "source": [
        "train.isnull().sum(),test.isnull().sum()"
      ],
      "execution_count": 7,
      "outputs": [
        {
          "output_type": "execute_result",
          "data": {
            "text/plain": [
              "(Allied_Nations                  0\n",
              " Diplomatic_Meetings_Set         0\n",
              " Percent_Of_Forces_Mobilized     0\n",
              " Hostile_Nations                 0\n",
              " Active_Threats                  0\n",
              " Inactive_Threats                0\n",
              " Citizen_Fear_Index              0\n",
              " Closest_Threat_Distance(km)     0\n",
              " Aircraft_Carriers_Responding    0\n",
              " Troops_Mobilized(thousands)     0\n",
              " DEFCON_Level                    0\n",
              " ID                              0\n",
              " dtype: int64, Allied_Nations                  0\n",
              " Diplomatic_Meetings_Set         0\n",
              " Percent_Of_Forces_Mobilized     0\n",
              " Hostile_Nations                 0\n",
              " Active_Threats                  0\n",
              " Inactive_Threats                0\n",
              " Citizen_Fear_Index              0\n",
              " Closest_Threat_Distance(km)     0\n",
              " Aircraft_Carriers_Responding    0\n",
              " Troops_Mobilized(thousands)     0\n",
              " ID                              0\n",
              " dtype: int64)"
            ]
          },
          "metadata": {
            "tags": []
          },
          "execution_count": 7
        }
      ]
    },
    {
      "cell_type": "code",
      "metadata": {
        "id": "krABDE1AlEZx",
        "colab_type": "code",
        "outputId": "00cf5052-4d39-4b17-84c4-a59afbcda392",
        "colab": {
          "base_uri": "https://localhost:8080/",
          "height": 418
        }
      },
      "source": [
        "train.dtypes,test.dtypes"
      ],
      "execution_count": 8,
      "outputs": [
        {
          "output_type": "execute_result",
          "data": {
            "text/plain": [
              "(Allied_Nations                    int64\n",
              " Diplomatic_Meetings_Set           int64\n",
              " Percent_Of_Forces_Mobilized     float64\n",
              " Hostile_Nations                   int64\n",
              " Active_Threats                  float64\n",
              " Inactive_Threats                float64\n",
              " Citizen_Fear_Index              float64\n",
              " Closest_Threat_Distance(km)     float64\n",
              " Aircraft_Carriers_Responding      int64\n",
              " Troops_Mobilized(thousands)     float64\n",
              " DEFCON_Level                      int64\n",
              " ID                                int64\n",
              " dtype: object, Allied_Nations                    int64\n",
              " Diplomatic_Meetings_Set           int64\n",
              " Percent_Of_Forces_Mobilized     float64\n",
              " Hostile_Nations                   int64\n",
              " Active_Threats                  float64\n",
              " Inactive_Threats                float64\n",
              " Citizen_Fear_Index              float64\n",
              " Closest_Threat_Distance(km)     float64\n",
              " Aircraft_Carriers_Responding      int64\n",
              " Troops_Mobilized(thousands)     float64\n",
              " ID                                int64\n",
              " dtype: object)"
            ]
          },
          "metadata": {
            "tags": []
          },
          "execution_count": 8
        }
      ]
    },
    {
      "cell_type": "code",
      "metadata": {
        "id": "msFHpAljlGcq",
        "colab_type": "code",
        "outputId": "f3193e0e-1de4-44ea-8551-3f8616fc49c6",
        "colab": {
          "base_uri": "https://localhost:8080/",
          "height": 33
        }
      },
      "source": [
        "train.duplicated().sum(), test.duplicated().sum()"
      ],
      "execution_count": 9,
      "outputs": [
        {
          "output_type": "execute_result",
          "data": {
            "text/plain": [
              "(0, 0)"
            ]
          },
          "metadata": {
            "tags": []
          },
          "execution_count": 9
        }
      ]
    },
    {
      "cell_type": "code",
      "metadata": {
        "id": "3sN3I-wqlKxu",
        "colab_type": "code",
        "outputId": "7d099b1e-8b5c-4ffc-fcc6-2ab17045762a",
        "colab": {
          "base_uri": "https://localhost:8080/",
          "height": 306
        }
      },
      "source": [
        "test.describe()"
      ],
      "execution_count": 10,
      "outputs": [
        {
          "output_type": "execute_result",
          "data": {
            "text/html": [
              "<div>\n",
              "<style scoped>\n",
              "    .dataframe tbody tr th:only-of-type {\n",
              "        vertical-align: middle;\n",
              "    }\n",
              "\n",
              "    .dataframe tbody tr th {\n",
              "        vertical-align: top;\n",
              "    }\n",
              "\n",
              "    .dataframe thead th {\n",
              "        text-align: right;\n",
              "    }\n",
              "</style>\n",
              "<table border=\"1\" class=\"dataframe\">\n",
              "  <thead>\n",
              "    <tr style=\"text-align: right;\">\n",
              "      <th></th>\n",
              "      <th>Allied_Nations</th>\n",
              "      <th>Diplomatic_Meetings_Set</th>\n",
              "      <th>Percent_Of_Forces_Mobilized</th>\n",
              "      <th>Hostile_Nations</th>\n",
              "      <th>Active_Threats</th>\n",
              "      <th>Inactive_Threats</th>\n",
              "      <th>Citizen_Fear_Index</th>\n",
              "      <th>Closest_Threat_Distance(km)</th>\n",
              "      <th>Aircraft_Carriers_Responding</th>\n",
              "      <th>Troops_Mobilized(thousands)</th>\n",
              "      <th>ID</th>\n",
              "    </tr>\n",
              "  </thead>\n",
              "  <tbody>\n",
              "    <tr>\n",
              "      <th>count</th>\n",
              "      <td>2500.000000</td>\n",
              "      <td>2500.000000</td>\n",
              "      <td>2500.000000</td>\n",
              "      <td>2500.00000</td>\n",
              "      <td>2500.000000</td>\n",
              "      <td>2500.000000</td>\n",
              "      <td>2500.000000</td>\n",
              "      <td>2500.000000</td>\n",
              "      <td>2500.00000</td>\n",
              "      <td>2.500000e+03</td>\n",
              "      <td>2500.000000</td>\n",
              "    </tr>\n",
              "    <tr>\n",
              "      <th>mean</th>\n",
              "      <td>8.344800</td>\n",
              "      <td>0.513200</td>\n",
              "      <td>0.272992</td>\n",
              "      <td>2.52160</td>\n",
              "      <td>15.467000</td>\n",
              "      <td>46.218000</td>\n",
              "      <td>0.489242</td>\n",
              "      <td>351.162312</td>\n",
              "      <td>0.89440</td>\n",
              "      <td>9.172874e+05</td>\n",
              "      <td>6186.283200</td>\n",
              "    </tr>\n",
              "    <tr>\n",
              "      <th>std</th>\n",
              "      <td>1.789076</td>\n",
              "      <td>0.501524</td>\n",
              "      <td>0.194991</td>\n",
              "      <td>1.32689</td>\n",
              "      <td>10.379591</td>\n",
              "      <td>34.344031</td>\n",
              "      <td>0.137389</td>\n",
              "      <td>16.615193</td>\n",
              "      <td>0.32014</td>\n",
              "      <td>9.364708e+04</td>\n",
              "      <td>3602.235035</td>\n",
              "    </tr>\n",
              "    <tr>\n",
              "      <th>min</th>\n",
              "      <td>5.000000</td>\n",
              "      <td>0.000000</td>\n",
              "      <td>0.000000</td>\n",
              "      <td>1.00000</td>\n",
              "      <td>1.000000</td>\n",
              "      <td>6.000000</td>\n",
              "      <td>0.000000</td>\n",
              "      <td>290.440000</td>\n",
              "      <td>0.00000</td>\n",
              "      <td>7.392000e+05</td>\n",
              "      <td>1.000000</td>\n",
              "    </tr>\n",
              "    <tr>\n",
              "      <th>25%</th>\n",
              "      <td>7.000000</td>\n",
              "      <td>0.000000</td>\n",
              "      <td>0.090000</td>\n",
              "      <td>2.00000</td>\n",
              "      <td>7.000000</td>\n",
              "      <td>21.000000</td>\n",
              "      <td>0.409692</td>\n",
              "      <td>340.260000</td>\n",
              "      <td>1.00000</td>\n",
              "      <td>8.360000e+05</td>\n",
              "      <td>3071.750000</td>\n",
              "    </tr>\n",
              "    <tr>\n",
              "      <th>50%</th>\n",
              "      <td>8.000000</td>\n",
              "      <td>1.000000</td>\n",
              "      <td>0.260000</td>\n",
              "      <td>2.00000</td>\n",
              "      <td>13.000000</td>\n",
              "      <td>37.000000</td>\n",
              "      <td>0.486784</td>\n",
              "      <td>350.860000</td>\n",
              "      <td>1.00000</td>\n",
              "      <td>8.976000e+05</td>\n",
              "      <td>6159.500000</td>\n",
              "    </tr>\n",
              "    <tr>\n",
              "      <th>75%</th>\n",
              "      <td>9.000000</td>\n",
              "      <td>1.000000</td>\n",
              "      <td>0.430000</td>\n",
              "      <td>3.00000</td>\n",
              "      <td>21.000000</td>\n",
              "      <td>62.000000</td>\n",
              "      <td>0.567548</td>\n",
              "      <td>360.400000</td>\n",
              "      <td>1.00000</td>\n",
              "      <td>9.768000e+05</td>\n",
              "      <td>9309.250000</td>\n",
              "    </tr>\n",
              "    <tr>\n",
              "      <th>max</th>\n",
              "      <td>16.000000</td>\n",
              "      <td>2.000000</td>\n",
              "      <td>1.000000</td>\n",
              "      <td>16.00000</td>\n",
              "      <td>72.000000</td>\n",
              "      <td>289.000000</td>\n",
              "      <td>1.000000</td>\n",
              "      <td>425.060000</td>\n",
              "      <td>2.00000</td>\n",
              "      <td>1.232000e+06</td>\n",
              "      <td>12493.000000</td>\n",
              "    </tr>\n",
              "  </tbody>\n",
              "</table>\n",
              "</div>"
            ],
            "text/plain": [
              "       Allied_Nations  ...            ID\n",
              "count     2500.000000  ...   2500.000000\n",
              "mean         8.344800  ...   6186.283200\n",
              "std          1.789076  ...   3602.235035\n",
              "min          5.000000  ...      1.000000\n",
              "25%          7.000000  ...   3071.750000\n",
              "50%          8.000000  ...   6159.500000\n",
              "75%          9.000000  ...   9309.250000\n",
              "max         16.000000  ...  12493.000000\n",
              "\n",
              "[8 rows x 11 columns]"
            ]
          },
          "metadata": {
            "tags": []
          },
          "execution_count": 10
        }
      ]
    },
    {
      "cell_type": "code",
      "metadata": {
        "id": "7WkDDb5dmvit",
        "colab_type": "code",
        "outputId": "d3366024-d6b7-459f-fc3c-da144120c6ab",
        "colab": {
          "base_uri": "https://localhost:8080/",
          "height": 217
        }
      },
      "source": [
        "train['Closest_Threat_Distance(km)'].unique()"
      ],
      "execution_count": 11,
      "outputs": [
        {
          "output_type": "execute_result",
          "data": {
            "text/plain": [
              "array([324.36, 359.34, 332.84, 358.28, 364.64, 387.96, 349.8 , 348.74,\n",
              "       333.9 , 342.38, 334.96, 365.7 , 347.68, 354.04, 378.42, 355.1 ,\n",
              "       325.42, 344.5 , 345.56, 341.32, 393.26, 346.62, 350.86, 357.22,\n",
              "       374.18, 326.48, 352.98, 373.12, 330.72, 343.44, 371.  , 338.14,\n",
              "       337.08, 328.6 , 397.5 , 376.3 , 356.16, 379.48, 381.6 , 351.92,\n",
              "       329.66, 377.36, 367.82, 362.52, 361.46, 360.4 , 369.94, 375.24,\n",
              "       425.06, 372.06, 340.26, 336.02, 366.76, 320.12, 380.54, 382.66,\n",
              "       323.3 , 331.78, 327.54, 384.78, 321.18, 363.58, 339.2 , 319.06,\n",
              "       322.24, 306.34, 368.88, 304.22, 390.08, 311.64, 315.88, 316.94,\n",
              "       408.1 , 310.58, 400.68, 305.28, 389.02, 392.2 , 394.32, 383.72,\n",
              "       312.7 , 318.  , 391.14, 309.52, 413.4 , 396.44, 290.44, 303.16,\n",
              "       307.4 ])"
            ]
          },
          "metadata": {
            "tags": []
          },
          "execution_count": 11
        }
      ]
    },
    {
      "cell_type": "code",
      "metadata": {
        "id": "ln2_6fVYpQPX",
        "colab_type": "code",
        "colab": {}
      },
      "source": [
        "import warnings\n",
        "warnings.simplefilter(action='ignore', category=FutureWarning)"
      ],
      "execution_count": 0,
      "outputs": []
    },
    {
      "cell_type": "code",
      "metadata": {
        "id": "ZftRYtJwnEaS",
        "colab_type": "code",
        "colab": {}
      },
      "source": [
        "import pandas as pd\n",
        "import numpy as np\n",
        "import matplotlib.pyplot as plt\n",
        "import seaborn as sns\n",
        "import math\n",
        "import matplotlib as mpl\n",
        "\n",
        "from sklearn.ensemble import RandomForestClassifier\n",
        "from sklearn.model_selection import cross_val_score\n",
        "from xgboost import XGBClassifier\n",
        "from sklearn.ensemble import ExtraTreesClassifier, AdaBoostClassifier\n",
        "from sklearn.linear_model import LogisticRegression \n",
        "from sklearn.neighbors import KNeighborsClassifier\n",
        "from sklearn.svm import LinearSVC\n",
        "from lightgbm import LGBMClassifier\n",
        "from sklearn.tree import DecisionTreeClassifier\n",
        "from sklearn.model_selection import StratifiedKFold, learning_curve, ShuffleSplit\n",
        "from sklearn.preprocessing import StandardScaler\n",
        "from sklearn.pipeline import Pipeline\n",
        "from sklearn.ensemble import VotingClassifier, IsolationForest\n",
        "from sklearn.model_selection import train_test_split\n",
        "from sklearn.metrics import f1_score\n",
        "from sklearn.neural_network import MLPClassifier\n",
        "from sklearn.naive_bayes import BernoulliNB\n",
        "from sklearn.metrics import confusion_matrix"
      ],
      "execution_count": 0,
      "outputs": []
    },
    {
      "cell_type": "code",
      "metadata": {
        "id": "5PJx60FMnM4Q",
        "colab_type": "code",
        "colab": {}
      },
      "source": [
        "X = train.drop(columns=['ID', 'DEFCON_Level'])\n",
        "y = train.DEFCON_Level"
      ],
      "execution_count": 0,
      "outputs": []
    },
    {
      "cell_type": "code",
      "metadata": {
        "id": "TFzIxUZHnSab",
        "colab_type": "code",
        "outputId": "763ea37e-e75c-41b7-b0c3-9297b16a821b",
        "colab": {
          "base_uri": "https://localhost:8080/",
          "height": 150
        }
      },
      "source": [
        "print('Percentage of each class in Target Variable \\n')\n",
        "print((train.DEFCON_Level.value_counts()/len(train))*100)"
      ],
      "execution_count": 15,
      "outputs": [
        {
          "output_type": "stream",
          "text": [
            "Percentage of each class in Target Variable \n",
            "\n",
            "2    42.70\n",
            "3    39.10\n",
            "4    12.12\n",
            "1     4.98\n",
            "5     1.10\n",
            "Name: DEFCON_Level, dtype: float64\n"
          ],
          "name": "stdout"
        }
      ]
    },
    {
      "cell_type": "code",
      "metadata": {
        "id": "An8ZCXagnWYA",
        "colab_type": "code",
        "outputId": "2149984d-cbe2-4685-85bc-a8a1ea59fd5f",
        "colab": {
          "base_uri": "https://localhost:8080/",
          "height": 67
        }
      },
      "source": [
        "rfc = RandomForestClassifier(n_estimators=200, n_jobs=-1, random_state=42, max_features=0.7 , bootstrap=False)\n",
        "cross_val_score(rfc, X, y, cv=5, n_jobs=-1, verbose=1, scoring='f1_weighted').mean()"
      ],
      "execution_count": 16,
      "outputs": [
        {
          "output_type": "stream",
          "text": [
            "[Parallel(n_jobs=-1)]: Using backend LokyBackend with 2 concurrent workers.\n",
            "[Parallel(n_jobs=-1)]: Done   5 out of   5 | elapsed:   27.1s finished\n"
          ],
          "name": "stderr"
        },
        {
          "output_type": "execute_result",
          "data": {
            "text/plain": [
              "0.6026552200752107"
            ]
          },
          "metadata": {
            "tags": []
          },
          "execution_count": 16
        }
      ]
    },
    {
      "cell_type": "code",
      "metadata": {
        "id": "fsMM97ecndEp",
        "colab_type": "code",
        "outputId": "2db8c382-0632-4c48-8fdb-2b851a10243a",
        "colab": {
          "base_uri": "https://localhost:8080/",
          "height": 274
        }
      },
      "source": [
        "y = train.DEFCON_Level\n",
        "corr = pd.concat(objs=[X, y], axis=1).corr()\n",
        "corr.style.background_gradient(cmap='coolwarm').set_precision(5)"
      ],
      "execution_count": 0,
      "outputs": [
        {
          "output_type": "execute_result",
          "data": {
            "text/html": [
              "<style  type=\"text/css\" >\n",
              "    #T_d5a7e876_71e8_11ea_9fa9_0242ac1c0002row0_col0 {\n",
              "            background-color:  #b40426;\n",
              "            color:  #f1f1f1;\n",
              "        }    #T_d5a7e876_71e8_11ea_9fa9_0242ac1c0002row0_col1 {\n",
              "            background-color:  #779af7;\n",
              "            color:  #000000;\n",
              "        }    #T_d5a7e876_71e8_11ea_9fa9_0242ac1c0002row0_col2 {\n",
              "            background-color:  #f18d6f;\n",
              "            color:  #000000;\n",
              "        }    #T_d5a7e876_71e8_11ea_9fa9_0242ac1c0002row0_col3 {\n",
              "            background-color:  #7396f5;\n",
              "            color:  #000000;\n",
              "        }    #T_d5a7e876_71e8_11ea_9fa9_0242ac1c0002row0_col4 {\n",
              "            background-color:  #3b4cc0;\n",
              "            color:  #f1f1f1;\n",
              "        }    #T_d5a7e876_71e8_11ea_9fa9_0242ac1c0002row0_col5 {\n",
              "            background-color:  #6384eb;\n",
              "            color:  #000000;\n",
              "        }    #T_d5a7e876_71e8_11ea_9fa9_0242ac1c0002row0_col6 {\n",
              "            background-color:  #f39475;\n",
              "            color:  #000000;\n",
              "        }    #T_d5a7e876_71e8_11ea_9fa9_0242ac1c0002row0_col7 {\n",
              "            background-color:  #3b4cc0;\n",
              "            color:  #f1f1f1;\n",
              "        }    #T_d5a7e876_71e8_11ea_9fa9_0242ac1c0002row0_col8 {\n",
              "            background-color:  #7597f6;\n",
              "            color:  #000000;\n",
              "        }    #T_d5a7e876_71e8_11ea_9fa9_0242ac1c0002row0_col9 {\n",
              "            background-color:  #8fb1fe;\n",
              "            color:  #000000;\n",
              "        }    #T_d5a7e876_71e8_11ea_9fa9_0242ac1c0002row0_col10 {\n",
              "            background-color:  #92b4fe;\n",
              "            color:  #000000;\n",
              "        }    #T_d5a7e876_71e8_11ea_9fa9_0242ac1c0002row1_col0 {\n",
              "            background-color:  #86a9fc;\n",
              "            color:  #000000;\n",
              "        }    #T_d5a7e876_71e8_11ea_9fa9_0242ac1c0002row1_col1 {\n",
              "            background-color:  #b40426;\n",
              "            color:  #f1f1f1;\n",
              "        }    #T_d5a7e876_71e8_11ea_9fa9_0242ac1c0002row1_col2 {\n",
              "            background-color:  #3b4cc0;\n",
              "            color:  #f1f1f1;\n",
              "        }    #T_d5a7e876_71e8_11ea_9fa9_0242ac1c0002row1_col3 {\n",
              "            background-color:  #465ecf;\n",
              "            color:  #f1f1f1;\n",
              "        }    #T_d5a7e876_71e8_11ea_9fa9_0242ac1c0002row1_col4 {\n",
              "            background-color:  #5f7fe8;\n",
              "            color:  #000000;\n",
              "        }    #T_d5a7e876_71e8_11ea_9fa9_0242ac1c0002row1_col5 {\n",
              "            background-color:  #90b2fe;\n",
              "            color:  #000000;\n",
              "        }    #T_d5a7e876_71e8_11ea_9fa9_0242ac1c0002row1_col6 {\n",
              "            background-color:  #a2c1ff;\n",
              "            color:  #000000;\n",
              "        }    #T_d5a7e876_71e8_11ea_9fa9_0242ac1c0002row1_col7 {\n",
              "            background-color:  #e8d6cc;\n",
              "            color:  #000000;\n",
              "        }    #T_d5a7e876_71e8_11ea_9fa9_0242ac1c0002row1_col8 {\n",
              "            background-color:  #3b4cc0;\n",
              "            color:  #f1f1f1;\n",
              "        }    #T_d5a7e876_71e8_11ea_9fa9_0242ac1c0002row1_col9 {\n",
              "            background-color:  #7a9df8;\n",
              "            color:  #000000;\n",
              "        }    #T_d5a7e876_71e8_11ea_9fa9_0242ac1c0002row1_col10 {\n",
              "            background-color:  #3b4cc0;\n",
              "            color:  #f1f1f1;\n",
              "        }    #T_d5a7e876_71e8_11ea_9fa9_0242ac1c0002row2_col0 {\n",
              "            background-color:  #ef886b;\n",
              "            color:  #000000;\n",
              "        }    #T_d5a7e876_71e8_11ea_9fa9_0242ac1c0002row2_col1 {\n",
              "            background-color:  #3b4cc0;\n",
              "            color:  #f1f1f1;\n",
              "        }    #T_d5a7e876_71e8_11ea_9fa9_0242ac1c0002row2_col2 {\n",
              "            background-color:  #b40426;\n",
              "            color:  #f1f1f1;\n",
              "        }    #T_d5a7e876_71e8_11ea_9fa9_0242ac1c0002row2_col3 {\n",
              "            background-color:  #80a3fa;\n",
              "            color:  #000000;\n",
              "        }    #T_d5a7e876_71e8_11ea_9fa9_0242ac1c0002row2_col4 {\n",
              "            background-color:  #4f69d9;\n",
              "            color:  #000000;\n",
              "        }    #T_d5a7e876_71e8_11ea_9fa9_0242ac1c0002row2_col5 {\n",
              "            background-color:  #85a8fc;\n",
              "            color:  #000000;\n",
              "        }    #T_d5a7e876_71e8_11ea_9fa9_0242ac1c0002row2_col6 {\n",
              "            background-color:  #edd2c3;\n",
              "            color:  #000000;\n",
              "        }    #T_d5a7e876_71e8_11ea_9fa9_0242ac1c0002row2_col7 {\n",
              "            background-color:  #5470de;\n",
              "            color:  #000000;\n",
              "        }    #T_d5a7e876_71e8_11ea_9fa9_0242ac1c0002row2_col8 {\n",
              "            background-color:  #8caffe;\n",
              "            color:  #000000;\n",
              "        }    #T_d5a7e876_71e8_11ea_9fa9_0242ac1c0002row2_col9 {\n",
              "            background-color:  #bcd2f7;\n",
              "            color:  #000000;\n",
              "        }    #T_d5a7e876_71e8_11ea_9fa9_0242ac1c0002row2_col10 {\n",
              "            background-color:  #b3cdfb;\n",
              "            color:  #000000;\n",
              "        }    #T_d5a7e876_71e8_11ea_9fa9_0242ac1c0002row3_col0 {\n",
              "            background-color:  #d4dbe6;\n",
              "            color:  #000000;\n",
              "        }    #T_d5a7e876_71e8_11ea_9fa9_0242ac1c0002row3_col1 {\n",
              "            background-color:  #adc9fd;\n",
              "            color:  #000000;\n",
              "        }    #T_d5a7e876_71e8_11ea_9fa9_0242ac1c0002row3_col2 {\n",
              "            background-color:  #d2dbe8;\n",
              "            color:  #000000;\n",
              "        }    #T_d5a7e876_71e8_11ea_9fa9_0242ac1c0002row3_col3 {\n",
              "            background-color:  #b40426;\n",
              "            color:  #f1f1f1;\n",
              "        }    #T_d5a7e876_71e8_11ea_9fa9_0242ac1c0002row3_col4 {\n",
              "            background-color:  #86a9fc;\n",
              "            color:  #000000;\n",
              "        }    #T_d5a7e876_71e8_11ea_9fa9_0242ac1c0002row3_col5 {\n",
              "            background-color:  #b5cdfa;\n",
              "            color:  #000000;\n",
              "        }    #T_d5a7e876_71e8_11ea_9fa9_0242ac1c0002row3_col6 {\n",
              "            background-color:  #e5d8d1;\n",
              "            color:  #000000;\n",
              "        }    #T_d5a7e876_71e8_11ea_9fa9_0242ac1c0002row3_col7 {\n",
              "            background-color:  #b1cbfc;\n",
              "            color:  #000000;\n",
              "        }    #T_d5a7e876_71e8_11ea_9fa9_0242ac1c0002row3_col8 {\n",
              "            background-color:  #5673e0;\n",
              "            color:  #000000;\n",
              "        }    #T_d5a7e876_71e8_11ea_9fa9_0242ac1c0002row3_col9 {\n",
              "            background-color:  #afcafc;\n",
              "            color:  #000000;\n",
              "        }    #T_d5a7e876_71e8_11ea_9fa9_0242ac1c0002row3_col10 {\n",
              "            background-color:  #7ea1fa;\n",
              "            color:  #000000;\n",
              "        }    #T_d5a7e876_71e8_11ea_9fa9_0242ac1c0002row4_col0 {\n",
              "            background-color:  #aac7fd;\n",
              "            color:  #000000;\n",
              "        }    #T_d5a7e876_71e8_11ea_9fa9_0242ac1c0002row4_col1 {\n",
              "            background-color:  #b9d0f9;\n",
              "            color:  #000000;\n",
              "        }    #T_d5a7e876_71e8_11ea_9fa9_0242ac1c0002row4_col2 {\n",
              "            background-color:  #adc9fd;\n",
              "            color:  #000000;\n",
              "        }    #T_d5a7e876_71e8_11ea_9fa9_0242ac1c0002row4_col3 {\n",
              "            background-color:  #80a3fa;\n",
              "            color:  #000000;\n",
              "        }    #T_d5a7e876_71e8_11ea_9fa9_0242ac1c0002row4_col4 {\n",
              "            background-color:  #b40426;\n",
              "            color:  #f1f1f1;\n",
              "        }    #T_d5a7e876_71e8_11ea_9fa9_0242ac1c0002row4_col5 {\n",
              "            background-color:  #f59f80;\n",
              "            color:  #000000;\n",
              "        }    #T_d5a7e876_71e8_11ea_9fa9_0242ac1c0002row4_col6 {\n",
              "            background-color:  #a7c5fe;\n",
              "            color:  #000000;\n",
              "        }    #T_d5a7e876_71e8_11ea_9fa9_0242ac1c0002row4_col7 {\n",
              "            background-color:  #c6d6f1;\n",
              "            color:  #000000;\n",
              "        }    #T_d5a7e876_71e8_11ea_9fa9_0242ac1c0002row4_col8 {\n",
              "            background-color:  #516ddb;\n",
              "            color:  #000000;\n",
              "        }    #T_d5a7e876_71e8_11ea_9fa9_0242ac1c0002row4_col9 {\n",
              "            background-color:  #96b7ff;\n",
              "            color:  #000000;\n",
              "        }    #T_d5a7e876_71e8_11ea_9fa9_0242ac1c0002row4_col10 {\n",
              "            background-color:  #7597f6;\n",
              "            color:  #000000;\n",
              "        }    #T_d5a7e876_71e8_11ea_9fa9_0242ac1c0002row5_col0 {\n",
              "            background-color:  #b3cdfb;\n",
              "            color:  #000000;\n",
              "        }    #T_d5a7e876_71e8_11ea_9fa9_0242ac1c0002row5_col1 {\n",
              "            background-color:  #c7d7f0;\n",
              "            color:  #000000;\n",
              "        }    #T_d5a7e876_71e8_11ea_9fa9_0242ac1c0002row5_col2 {\n",
              "            background-color:  #c0d4f5;\n",
              "            color:  #000000;\n",
              "        }    #T_d5a7e876_71e8_11ea_9fa9_0242ac1c0002row5_col3 {\n",
              "            background-color:  #97b8ff;\n",
              "            color:  #000000;\n",
              "        }    #T_d5a7e876_71e8_11ea_9fa9_0242ac1c0002row5_col4 {\n",
              "            background-color:  #f7a98b;\n",
              "            color:  #000000;\n",
              "        }    #T_d5a7e876_71e8_11ea_9fa9_0242ac1c0002row5_col5 {\n",
              "            background-color:  #b40426;\n",
              "            color:  #f1f1f1;\n",
              "        }    #T_d5a7e876_71e8_11ea_9fa9_0242ac1c0002row5_col6 {\n",
              "            background-color:  #c0d4f5;\n",
              "            color:  #000000;\n",
              "        }    #T_d5a7e876_71e8_11ea_9fa9_0242ac1c0002row5_col7 {\n",
              "            background-color:  #afcafc;\n",
              "            color:  #000000;\n",
              "        }    #T_d5a7e876_71e8_11ea_9fa9_0242ac1c0002row5_col8 {\n",
              "            background-color:  #5673e0;\n",
              "            color:  #000000;\n",
              "        }    #T_d5a7e876_71e8_11ea_9fa9_0242ac1c0002row5_col9 {\n",
              "            background-color:  #7396f5;\n",
              "            color:  #000000;\n",
              "        }    #T_d5a7e876_71e8_11ea_9fa9_0242ac1c0002row5_col10 {\n",
              "            background-color:  #5572df;\n",
              "            color:  #000000;\n",
              "        }    #T_d5a7e876_71e8_11ea_9fa9_0242ac1c0002row6_col0 {\n",
              "            background-color:  #f08a6c;\n",
              "            color:  #000000;\n",
              "        }    #T_d5a7e876_71e8_11ea_9fa9_0242ac1c0002row6_col1 {\n",
              "            background-color:  #aec9fc;\n",
              "            color:  #000000;\n",
              "        }    #T_d5a7e876_71e8_11ea_9fa9_0242ac1c0002row6_col2 {\n",
              "            background-color:  #f1cdba;\n",
              "            color:  #000000;\n",
              "        }    #T_d5a7e876_71e8_11ea_9fa9_0242ac1c0002row6_col3 {\n",
              "            background-color:  #b1cbfc;\n",
              "            color:  #000000;\n",
              "        }    #T_d5a7e876_71e8_11ea_9fa9_0242ac1c0002row6_col4 {\n",
              "            background-color:  #5673e0;\n",
              "            color:  #000000;\n",
              "        }    #T_d5a7e876_71e8_11ea_9fa9_0242ac1c0002row6_col5 {\n",
              "            background-color:  #94b6ff;\n",
              "            color:  #000000;\n",
              "        }    #T_d5a7e876_71e8_11ea_9fa9_0242ac1c0002row6_col6 {\n",
              "            background-color:  #b40426;\n",
              "            color:  #f1f1f1;\n",
              "        }    #T_d5a7e876_71e8_11ea_9fa9_0242ac1c0002row6_col7 {\n",
              "            background-color:  #7a9df8;\n",
              "            color:  #000000;\n",
              "        }    #T_d5a7e876_71e8_11ea_9fa9_0242ac1c0002row6_col8 {\n",
              "            background-color:  #7295f4;\n",
              "            color:  #000000;\n",
              "        }    #T_d5a7e876_71e8_11ea_9fa9_0242ac1c0002row6_col9 {\n",
              "            background-color:  #3b4cc0;\n",
              "            color:  #f1f1f1;\n",
              "        }    #T_d5a7e876_71e8_11ea_9fa9_0242ac1c0002row6_col10 {\n",
              "            background-color:  #4e68d8;\n",
              "            color:  #000000;\n",
              "        }    #T_d5a7e876_71e8_11ea_9fa9_0242ac1c0002row7_col0 {\n",
              "            background-color:  #3b4cc0;\n",
              "            color:  #f1f1f1;\n",
              "        }    #T_d5a7e876_71e8_11ea_9fa9_0242ac1c0002row7_col1 {\n",
              "            background-color:  #e1dad6;\n",
              "            color:  #000000;\n",
              "        }    #T_d5a7e876_71e8_11ea_9fa9_0242ac1c0002row7_col2 {\n",
              "            background-color:  #4358cb;\n",
              "            color:  #f1f1f1;\n",
              "        }    #T_d5a7e876_71e8_11ea_9fa9_0242ac1c0002row7_col3 {\n",
              "            background-color:  #3b4cc0;\n",
              "            color:  #f1f1f1;\n",
              "        }    #T_d5a7e876_71e8_11ea_9fa9_0242ac1c0002row7_col4 {\n",
              "            background-color:  #6485ec;\n",
              "            color:  #000000;\n",
              "        }    #T_d5a7e876_71e8_11ea_9fa9_0242ac1c0002row7_col5 {\n",
              "            background-color:  #5e7de7;\n",
              "            color:  #000000;\n",
              "        }    #T_d5a7e876_71e8_11ea_9fa9_0242ac1c0002row7_col6 {\n",
              "            background-color:  #5b7ae5;\n",
              "            color:  #000000;\n",
              "        }    #T_d5a7e876_71e8_11ea_9fa9_0242ac1c0002row7_col7 {\n",
              "            background-color:  #b40426;\n",
              "            color:  #f1f1f1;\n",
              "        }    #T_d5a7e876_71e8_11ea_9fa9_0242ac1c0002row7_col8 {\n",
              "            background-color:  #5572df;\n",
              "            color:  #000000;\n",
              "        }    #T_d5a7e876_71e8_11ea_9fa9_0242ac1c0002row7_col9 {\n",
              "            background-color:  #cfdaea;\n",
              "            color:  #000000;\n",
              "        }    #T_d5a7e876_71e8_11ea_9fa9_0242ac1c0002row7_col10 {\n",
              "            background-color:  #799cf8;\n",
              "            color:  #000000;\n",
              "        }    #T_d5a7e876_71e8_11ea_9fa9_0242ac1c0002row8_col0 {\n",
              "            background-color:  #d2dbe8;\n",
              "            color:  #000000;\n",
              "        }    #T_d5a7e876_71e8_11ea_9fa9_0242ac1c0002row8_col1 {\n",
              "            background-color:  #9ebeff;\n",
              "            color:  #000000;\n",
              "        }    #T_d5a7e876_71e8_11ea_9fa9_0242ac1c0002row8_col2 {\n",
              "            background-color:  #d5dbe5;\n",
              "            color:  #000000;\n",
              "        }    #T_d5a7e876_71e8_11ea_9fa9_0242ac1c0002row8_col3 {\n",
              "            background-color:  #506bda;\n",
              "            color:  #000000;\n",
              "        }    #T_d5a7e876_71e8_11ea_9fa9_0242ac1c0002row8_col4 {\n",
              "            background-color:  #536edd;\n",
              "            color:  #000000;\n",
              "        }    #T_d5a7e876_71e8_11ea_9fa9_0242ac1c0002row8_col5 {\n",
              "            background-color:  #7597f6;\n",
              "            color:  #000000;\n",
              "        }    #T_d5a7e876_71e8_11ea_9fa9_0242ac1c0002row8_col6 {\n",
              "            background-color:  #bcd2f7;\n",
              "            color:  #000000;\n",
              "        }    #T_d5a7e876_71e8_11ea_9fa9_0242ac1c0002row8_col7 {\n",
              "            background-color:  #bfd3f6;\n",
              "            color:  #000000;\n",
              "        }    #T_d5a7e876_71e8_11ea_9fa9_0242ac1c0002row8_col8 {\n",
              "            background-color:  #b40426;\n",
              "            color:  #f1f1f1;\n",
              "        }    #T_d5a7e876_71e8_11ea_9fa9_0242ac1c0002row8_col9 {\n",
              "            background-color:  #bad0f8;\n",
              "            color:  #000000;\n",
              "        }    #T_d5a7e876_71e8_11ea_9fa9_0242ac1c0002row8_col10 {\n",
              "            background-color:  #a3c2fe;\n",
              "            color:  #000000;\n",
              "        }    #T_d5a7e876_71e8_11ea_9fa9_0242ac1c0002row9_col0 {\n",
              "            background-color:  #aac7fd;\n",
              "            color:  #000000;\n",
              "        }    #T_d5a7e876_71e8_11ea_9fa9_0242ac1c0002row9_col1 {\n",
              "            background-color:  #88abfd;\n",
              "            color:  #000000;\n",
              "        }    #T_d5a7e876_71e8_11ea_9fa9_0242ac1c0002row9_col2 {\n",
              "            background-color:  #c6d6f1;\n",
              "            color:  #000000;\n",
              "        }    #T_d5a7e876_71e8_11ea_9fa9_0242ac1c0002row9_col3 {\n",
              "            background-color:  #5977e3;\n",
              "            color:  #000000;\n",
              "        }    #T_d5a7e876_71e8_11ea_9fa9_0242ac1c0002row9_col4 {\n",
              "            background-color:  #4257c9;\n",
              "            color:  #f1f1f1;\n",
              "        }    #T_d5a7e876_71e8_11ea_9fa9_0242ac1c0002row9_col5 {\n",
              "            background-color:  #3b4cc0;\n",
              "            color:  #f1f1f1;\n",
              "        }    #T_d5a7e876_71e8_11ea_9fa9_0242ac1c0002row9_col6 {\n",
              "            background-color:  #3b4cc0;\n",
              "            color:  #f1f1f1;\n",
              "        }    #T_d5a7e876_71e8_11ea_9fa9_0242ac1c0002row9_col7 {\n",
              "            background-color:  #dedcdb;\n",
              "            color:  #000000;\n",
              "        }    #T_d5a7e876_71e8_11ea_9fa9_0242ac1c0002row9_col8 {\n",
              "            background-color:  #6e90f2;\n",
              "            color:  #000000;\n",
              "        }    #T_d5a7e876_71e8_11ea_9fa9_0242ac1c0002row9_col9 {\n",
              "            background-color:  #b40426;\n",
              "            color:  #f1f1f1;\n",
              "        }    #T_d5a7e876_71e8_11ea_9fa9_0242ac1c0002row9_col10 {\n",
              "            background-color:  #edd2c3;\n",
              "            color:  #000000;\n",
              "        }    #T_d5a7e876_71e8_11ea_9fa9_0242ac1c0002row10_col0 {\n",
              "            background-color:  #cbd8ee;\n",
              "            color:  #000000;\n",
              "        }    #T_d5a7e876_71e8_11ea_9fa9_0242ac1c0002row10_col1 {\n",
              "            background-color:  #779af7;\n",
              "            color:  #000000;\n",
              "        }    #T_d5a7e876_71e8_11ea_9fa9_0242ac1c0002row10_col2 {\n",
              "            background-color:  #d8dce2;\n",
              "            color:  #000000;\n",
              "        }    #T_d5a7e876_71e8_11ea_9fa9_0242ac1c0002row10_col3 {\n",
              "            background-color:  #4f69d9;\n",
              "            color:  #000000;\n",
              "        }    #T_d5a7e876_71e8_11ea_9fa9_0242ac1c0002row10_col4 {\n",
              "            background-color:  #4c66d6;\n",
              "            color:  #000000;\n",
              "        }    #T_d5a7e876_71e8_11ea_9fa9_0242ac1c0002row10_col5 {\n",
              "            background-color:  #4a63d3;\n",
              "            color:  #f1f1f1;\n",
              "        }    #T_d5a7e876_71e8_11ea_9fa9_0242ac1c0002row10_col6 {\n",
              "            background-color:  #7da0f9;\n",
              "            color:  #000000;\n",
              "        }    #T_d5a7e876_71e8_11ea_9fa9_0242ac1c0002row10_col7 {\n",
              "            background-color:  #bad0f8;\n",
              "            color:  #000000;\n",
              "        }    #T_d5a7e876_71e8_11ea_9fa9_0242ac1c0002row10_col8 {\n",
              "            background-color:  #7ea1fa;\n",
              "            color:  #000000;\n",
              "        }    #T_d5a7e876_71e8_11ea_9fa9_0242ac1c0002row10_col9 {\n",
              "            background-color:  #f5c2aa;\n",
              "            color:  #000000;\n",
              "        }    #T_d5a7e876_71e8_11ea_9fa9_0242ac1c0002row10_col10 {\n",
              "            background-color:  #b40426;\n",
              "            color:  #f1f1f1;\n",
              "        }</style><table id=\"T_d5a7e876_71e8_11ea_9fa9_0242ac1c0002\" ><thead>    <tr>        <th class=\"blank level0\" ></th>        <th class=\"col_heading level0 col0\" >Allied_Nations</th>        <th class=\"col_heading level0 col1\" >Diplomatic_Meetings_Set</th>        <th class=\"col_heading level0 col2\" >Percent_Of_Forces_Mobilized</th>        <th class=\"col_heading level0 col3\" >Hostile_Nations</th>        <th class=\"col_heading level0 col4\" >Active_Threats</th>        <th class=\"col_heading level0 col5\" >Inactive_Threats</th>        <th class=\"col_heading level0 col6\" >Citizen_Fear_Index</th>        <th class=\"col_heading level0 col7\" >Closest_Threat_Distance(km)</th>        <th class=\"col_heading level0 col8\" >Aircraft_Carriers_Responding</th>        <th class=\"col_heading level0 col9\" >Troops_Mobilized(thousands)</th>        <th class=\"col_heading level0 col10\" >DEFCON_Level</th>    </tr></thead><tbody>\n",
              "                <tr>\n",
              "                        <th id=\"T_d5a7e876_71e8_11ea_9fa9_0242ac1c0002level0_row0\" class=\"row_heading level0 row0\" >Allied_Nations</th>\n",
              "                        <td id=\"T_d5a7e876_71e8_11ea_9fa9_0242ac1c0002row0_col0\" class=\"data row0 col0\" >1</td>\n",
              "                        <td id=\"T_d5a7e876_71e8_11ea_9fa9_0242ac1c0002row0_col1\" class=\"data row0 col1\" >-0.27878</td>\n",
              "                        <td id=\"T_d5a7e876_71e8_11ea_9fa9_0242ac1c0002row0_col2\" class=\"data row0 col2\" >0.65031</td>\n",
              "                        <td id=\"T_d5a7e876_71e8_11ea_9fa9_0242ac1c0002row0_col3\" class=\"data row0 col3\" >0.1119</td>\n",
              "                        <td id=\"T_d5a7e876_71e8_11ea_9fa9_0242ac1c0002row0_col4\" class=\"data row0 col4\" >-0.11361</td>\n",
              "                        <td id=\"T_d5a7e876_71e8_11ea_9fa9_0242ac1c0002row0_col5\" class=\"data row0 col5\" >-0.067496</td>\n",
              "                        <td id=\"T_d5a7e876_71e8_11ea_9fa9_0242ac1c0002row0_col6\" class=\"data row0 col6\" >0.6476</td>\n",
              "                        <td id=\"T_d5a7e876_71e8_11ea_9fa9_0242ac1c0002row0_col7\" class=\"data row0 col7\" >-0.66852</td>\n",
              "                        <td id=\"T_d5a7e876_71e8_11ea_9fa9_0242ac1c0002row0_col8\" class=\"data row0 col8\" >0.096352</td>\n",
              "                        <td id=\"T_d5a7e876_71e8_11ea_9fa9_0242ac1c0002row0_col9\" class=\"data row0 col9\" >-0.11007</td>\n",
              "                        <td id=\"T_d5a7e876_71e8_11ea_9fa9_0242ac1c0002row0_col10\" class=\"data row0 col10\" >0.06044</td>\n",
              "            </tr>\n",
              "            <tr>\n",
              "                        <th id=\"T_d5a7e876_71e8_11ea_9fa9_0242ac1c0002level0_row1\" class=\"row_heading level0 row1\" >Diplomatic_Meetings_Set</th>\n",
              "                        <td id=\"T_d5a7e876_71e8_11ea_9fa9_0242ac1c0002row1_col0\" class=\"data row1 col0\" >-0.27878</td>\n",
              "                        <td id=\"T_d5a7e876_71e8_11ea_9fa9_0242ac1c0002row1_col1\" class=\"data row1 col1\" >1</td>\n",
              "                        <td id=\"T_d5a7e876_71e8_11ea_9fa9_0242ac1c0002row1_col2\" class=\"data row1 col2\" >-0.57612</td>\n",
              "                        <td id=\"T_d5a7e876_71e8_11ea_9fa9_0242ac1c0002row1_col3\" class=\"data row1 col3\" >-0.036662</td>\n",
              "                        <td id=\"T_d5a7e876_71e8_11ea_9fa9_0242ac1c0002row1_col4\" class=\"data row1 col4\" >0.019046</td>\n",
              "                        <td id=\"T_d5a7e876_71e8_11ea_9fa9_0242ac1c0002row1_col5\" class=\"data row1 col5\" >0.089007</td>\n",
              "                        <td id=\"T_d5a7e876_71e8_11ea_9fa9_0242ac1c0002row1_col6\" class=\"data row1 col6\" >-0.030756</td>\n",
              "                        <td id=\"T_d5a7e876_71e8_11ea_9fa9_0242ac1c0002row1_col7\" class=\"data row1 col7\" >0.24116</td>\n",
              "                        <td id=\"T_d5a7e876_71e8_11ea_9fa9_0242ac1c0002row1_col8\" class=\"data row1 col8\" >-0.1065</td>\n",
              "                        <td id=\"T_d5a7e876_71e8_11ea_9fa9_0242ac1c0002row1_col9\" class=\"data row1 col9\" >-0.20156</td>\n",
              "                        <td id=\"T_d5a7e876_71e8_11ea_9fa9_0242ac1c0002row1_col10\" class=\"data row1 col10\" >-0.27484</td>\n",
              "            </tr>\n",
              "            <tr>\n",
              "                        <th id=\"T_d5a7e876_71e8_11ea_9fa9_0242ac1c0002level0_row2\" class=\"row_heading level0 row2\" >Percent_Of_Forces_Mobilized</th>\n",
              "                        <td id=\"T_d5a7e876_71e8_11ea_9fa9_0242ac1c0002row2_col0\" class=\"data row2 col0\" >0.65031</td>\n",
              "                        <td id=\"T_d5a7e876_71e8_11ea_9fa9_0242ac1c0002row2_col1\" class=\"data row2 col1\" >-0.57612</td>\n",
              "                        <td id=\"T_d5a7e876_71e8_11ea_9fa9_0242ac1c0002row2_col2\" class=\"data row2 col2\" >1</td>\n",
              "                        <td id=\"T_d5a7e876_71e8_11ea_9fa9_0242ac1c0002row2_col3\" class=\"data row2 col3\" >0.14932</td>\n",
              "                        <td id=\"T_d5a7e876_71e8_11ea_9fa9_0242ac1c0002row2_col4\" class=\"data row2 col4\" >-0.036675</td>\n",
              "                        <td id=\"T_d5a7e876_71e8_11ea_9fa9_0242ac1c0002row2_col5\" class=\"data row2 col5\" >0.054474</td>\n",
              "                        <td id=\"T_d5a7e876_71e8_11ea_9fa9_0242ac1c0002row2_col6\" class=\"data row2 col6\" >0.35732</td>\n",
              "                        <td id=\"T_d5a7e876_71e8_11ea_9fa9_0242ac1c0002row2_col7\" class=\"data row2 col7\" >-0.52931</td>\n",
              "                        <td id=\"T_d5a7e876_71e8_11ea_9fa9_0242ac1c0002row2_col8\" class=\"data row2 col8\" >0.16699</td>\n",
              "                        <td id=\"T_d5a7e876_71e8_11ea_9fa9_0242ac1c0002row2_col9\" class=\"data row2 col9\" >0.08587</td>\n",
              "                        <td id=\"T_d5a7e876_71e8_11ea_9fa9_0242ac1c0002row2_col10\" class=\"data row2 col10\" >0.18488</td>\n",
              "            </tr>\n",
              "            <tr>\n",
              "                        <th id=\"T_d5a7e876_71e8_11ea_9fa9_0242ac1c0002level0_row3\" class=\"row_heading level0 row3\" >Hostile_Nations</th>\n",
              "                        <td id=\"T_d5a7e876_71e8_11ea_9fa9_0242ac1c0002row3_col0\" class=\"data row3 col0\" >0.1119</td>\n",
              "                        <td id=\"T_d5a7e876_71e8_11ea_9fa9_0242ac1c0002row3_col1\" class=\"data row3 col1\" >-0.036662</td>\n",
              "                        <td id=\"T_d5a7e876_71e8_11ea_9fa9_0242ac1c0002row3_col2\" class=\"data row3 col2\" >0.14932</td>\n",
              "                        <td id=\"T_d5a7e876_71e8_11ea_9fa9_0242ac1c0002row3_col3\" class=\"data row3 col3\" >1</td>\n",
              "                        <td id=\"T_d5a7e876_71e8_11ea_9fa9_0242ac1c0002row3_col4\" class=\"data row3 col4\" >0.14677</td>\n",
              "                        <td id=\"T_d5a7e876_71e8_11ea_9fa9_0242ac1c0002row3_col5\" class=\"data row3 col5\" >0.22025</td>\n",
              "                        <td id=\"T_d5a7e876_71e8_11ea_9fa9_0242ac1c0002row3_col6\" class=\"data row3 col6\" >0.29924</td>\n",
              "                        <td id=\"T_d5a7e876_71e8_11ea_9fa9_0242ac1c0002row3_col7\" class=\"data row3 col7\" >-0.081724</td>\n",
              "                        <td id=\"T_d5a7e876_71e8_11ea_9fa9_0242ac1c0002row3_col8\" class=\"data row3 col8\" >-0.0048651</td>\n",
              "                        <td id=\"T_d5a7e876_71e8_11ea_9fa9_0242ac1c0002row3_col9\" class=\"data row3 col9\" >0.025103</td>\n",
              "                        <td id=\"T_d5a7e876_71e8_11ea_9fa9_0242ac1c0002row3_col10\" class=\"data row3 col10\" >-0.0084695</td>\n",
              "            </tr>\n",
              "            <tr>\n",
              "                        <th id=\"T_d5a7e876_71e8_11ea_9fa9_0242ac1c0002level0_row4\" class=\"row_heading level0 row4\" >Active_Threats</th>\n",
              "                        <td id=\"T_d5a7e876_71e8_11ea_9fa9_0242ac1c0002row4_col0\" class=\"data row4 col0\" >-0.11361</td>\n",
              "                        <td id=\"T_d5a7e876_71e8_11ea_9fa9_0242ac1c0002row4_col1\" class=\"data row4 col1\" >0.019046</td>\n",
              "                        <td id=\"T_d5a7e876_71e8_11ea_9fa9_0242ac1c0002row4_col2\" class=\"data row4 col2\" >-0.036675</td>\n",
              "                        <td id=\"T_d5a7e876_71e8_11ea_9fa9_0242ac1c0002row4_col3\" class=\"data row4 col3\" >0.14677</td>\n",
              "                        <td id=\"T_d5a7e876_71e8_11ea_9fa9_0242ac1c0002row4_col4\" class=\"data row4 col4\" >1</td>\n",
              "                        <td id=\"T_d5a7e876_71e8_11ea_9fa9_0242ac1c0002row4_col5\" class=\"data row4 col5\" >0.67497</td>\n",
              "                        <td id=\"T_d5a7e876_71e8_11ea_9fa9_0242ac1c0002row4_col6\" class=\"data row4 col6\" >-0.0095097</td>\n",
              "                        <td id=\"T_d5a7e876_71e8_11ea_9fa9_0242ac1c0002row4_col7\" class=\"data row4 col7\" >0.0347</td>\n",
              "                        <td id=\"T_d5a7e876_71e8_11ea_9fa9_0242ac1c0002row4_col8\" class=\"data row4 col8\" >-0.023317</td>\n",
              "                        <td id=\"T_d5a7e876_71e8_11ea_9fa9_0242ac1c0002row4_col9\" class=\"data row4 col9\" >-0.084188</td>\n",
              "                        <td id=\"T_d5a7e876_71e8_11ea_9fa9_0242ac1c0002row4_col10\" class=\"data row4 col10\" >-0.044782</td>\n",
              "            </tr>\n",
              "            <tr>\n",
              "                        <th id=\"T_d5a7e876_71e8_11ea_9fa9_0242ac1c0002level0_row5\" class=\"row_heading level0 row5\" >Inactive_Threats</th>\n",
              "                        <td id=\"T_d5a7e876_71e8_11ea_9fa9_0242ac1c0002row5_col0\" class=\"data row5 col0\" >-0.067496</td>\n",
              "                        <td id=\"T_d5a7e876_71e8_11ea_9fa9_0242ac1c0002row5_col1\" class=\"data row5 col1\" >0.089007</td>\n",
              "                        <td id=\"T_d5a7e876_71e8_11ea_9fa9_0242ac1c0002row5_col2\" class=\"data row5 col2\" >0.054474</td>\n",
              "                        <td id=\"T_d5a7e876_71e8_11ea_9fa9_0242ac1c0002row5_col3\" class=\"data row5 col3\" >0.22025</td>\n",
              "                        <td id=\"T_d5a7e876_71e8_11ea_9fa9_0242ac1c0002row5_col4\" class=\"data row5 col4\" >0.67497</td>\n",
              "                        <td id=\"T_d5a7e876_71e8_11ea_9fa9_0242ac1c0002row5_col5\" class=\"data row5 col5\" >1</td>\n",
              "                        <td id=\"T_d5a7e876_71e8_11ea_9fa9_0242ac1c0002row5_col6\" class=\"data row5 col6\" >0.1033</td>\n",
              "                        <td id=\"T_d5a7e876_71e8_11ea_9fa9_0242ac1c0002row5_col7\" class=\"data row5 col7\" >-0.08467</td>\n",
              "                        <td id=\"T_d5a7e876_71e8_11ea_9fa9_0242ac1c0002row5_col8\" class=\"data row5 col8\" >-0.0041985</td>\n",
              "                        <td id=\"T_d5a7e876_71e8_11ea_9fa9_0242ac1c0002row5_col9\" class=\"data row5 col9\" >-0.22794</td>\n",
              "                        <td id=\"T_d5a7e876_71e8_11ea_9fa9_0242ac1c0002row5_col10\" class=\"data row5 col10\" >-0.16167</td>\n",
              "            </tr>\n",
              "            <tr>\n",
              "                        <th id=\"T_d5a7e876_71e8_11ea_9fa9_0242ac1c0002level0_row6\" class=\"row_heading level0 row6\" >Citizen_Fear_Index</th>\n",
              "                        <td id=\"T_d5a7e876_71e8_11ea_9fa9_0242ac1c0002row6_col0\" class=\"data row6 col0\" >0.6476</td>\n",
              "                        <td id=\"T_d5a7e876_71e8_11ea_9fa9_0242ac1c0002row6_col1\" class=\"data row6 col1\" >-0.030756</td>\n",
              "                        <td id=\"T_d5a7e876_71e8_11ea_9fa9_0242ac1c0002row6_col2\" class=\"data row6 col2\" >0.35732</td>\n",
              "                        <td id=\"T_d5a7e876_71e8_11ea_9fa9_0242ac1c0002row6_col3\" class=\"data row6 col3\" >0.29924</td>\n",
              "                        <td id=\"T_d5a7e876_71e8_11ea_9fa9_0242ac1c0002row6_col4\" class=\"data row6 col4\" >-0.0095097</td>\n",
              "                        <td id=\"T_d5a7e876_71e8_11ea_9fa9_0242ac1c0002row6_col5\" class=\"data row6 col5\" >0.1033</td>\n",
              "                        <td id=\"T_d5a7e876_71e8_11ea_9fa9_0242ac1c0002row6_col6\" class=\"data row6 col6\" >1</td>\n",
              "                        <td id=\"T_d5a7e876_71e8_11ea_9fa9_0242ac1c0002row6_col7\" class=\"data row6 col7\" >-0.33693</td>\n",
              "                        <td id=\"T_d5a7e876_71e8_11ea_9fa9_0242ac1c0002row6_col8\" class=\"data row6 col8\" >0.08554</td>\n",
              "                        <td id=\"T_d5a7e876_71e8_11ea_9fa9_0242ac1c0002row6_col9\" class=\"data row6 col9\" >-0.49531</td>\n",
              "                        <td id=\"T_d5a7e876_71e8_11ea_9fa9_0242ac1c0002row6_col10\" class=\"data row6 col10\" >-0.19094</td>\n",
              "            </tr>\n",
              "            <tr>\n",
              "                        <th id=\"T_d5a7e876_71e8_11ea_9fa9_0242ac1c0002level0_row7\" class=\"row_heading level0 row7\" >Closest_Threat_Distance(km)</th>\n",
              "                        <td id=\"T_d5a7e876_71e8_11ea_9fa9_0242ac1c0002row7_col0\" class=\"data row7 col0\" >-0.66852</td>\n",
              "                        <td id=\"T_d5a7e876_71e8_11ea_9fa9_0242ac1c0002row7_col1\" class=\"data row7 col1\" >0.24116</td>\n",
              "                        <td id=\"T_d5a7e876_71e8_11ea_9fa9_0242ac1c0002row7_col2\" class=\"data row7 col2\" >-0.52931</td>\n",
              "                        <td id=\"T_d5a7e876_71e8_11ea_9fa9_0242ac1c0002row7_col3\" class=\"data row7 col3\" >-0.081724</td>\n",
              "                        <td id=\"T_d5a7e876_71e8_11ea_9fa9_0242ac1c0002row7_col4\" class=\"data row7 col4\" >0.0347</td>\n",
              "                        <td id=\"T_d5a7e876_71e8_11ea_9fa9_0242ac1c0002row7_col5\" class=\"data row7 col5\" >-0.08467</td>\n",
              "                        <td id=\"T_d5a7e876_71e8_11ea_9fa9_0242ac1c0002row7_col6\" class=\"data row7 col6\" >-0.33693</td>\n",
              "                        <td id=\"T_d5a7e876_71e8_11ea_9fa9_0242ac1c0002row7_col7\" class=\"data row7 col7\" >1</td>\n",
              "                        <td id=\"T_d5a7e876_71e8_11ea_9fa9_0242ac1c0002row7_col8\" class=\"data row7 col8\" >-0.0086359</td>\n",
              "                        <td id=\"T_d5a7e876_71e8_11ea_9fa9_0242ac1c0002row7_col9\" class=\"data row7 col9\" >0.17701</td>\n",
              "                        <td id=\"T_d5a7e876_71e8_11ea_9fa9_0242ac1c0002row7_col10\" class=\"data row7 col10\" >-0.030033</td>\n",
              "            </tr>\n",
              "            <tr>\n",
              "                        <th id=\"T_d5a7e876_71e8_11ea_9fa9_0242ac1c0002level0_row8\" class=\"row_heading level0 row8\" >Aircraft_Carriers_Responding</th>\n",
              "                        <td id=\"T_d5a7e876_71e8_11ea_9fa9_0242ac1c0002row8_col0\" class=\"data row8 col0\" >0.096352</td>\n",
              "                        <td id=\"T_d5a7e876_71e8_11ea_9fa9_0242ac1c0002row8_col1\" class=\"data row8 col1\" >-0.1065</td>\n",
              "                        <td id=\"T_d5a7e876_71e8_11ea_9fa9_0242ac1c0002row8_col2\" class=\"data row8 col2\" >0.16699</td>\n",
              "                        <td id=\"T_d5a7e876_71e8_11ea_9fa9_0242ac1c0002row8_col3\" class=\"data row8 col3\" >-0.0048651</td>\n",
              "                        <td id=\"T_d5a7e876_71e8_11ea_9fa9_0242ac1c0002row8_col4\" class=\"data row8 col4\" >-0.023317</td>\n",
              "                        <td id=\"T_d5a7e876_71e8_11ea_9fa9_0242ac1c0002row8_col5\" class=\"data row8 col5\" >-0.0041985</td>\n",
              "                        <td id=\"T_d5a7e876_71e8_11ea_9fa9_0242ac1c0002row8_col6\" class=\"data row8 col6\" >0.08554</td>\n",
              "                        <td id=\"T_d5a7e876_71e8_11ea_9fa9_0242ac1c0002row8_col7\" class=\"data row8 col7\" >-0.0086359</td>\n",
              "                        <td id=\"T_d5a7e876_71e8_11ea_9fa9_0242ac1c0002row8_col8\" class=\"data row8 col8\" >1</td>\n",
              "                        <td id=\"T_d5a7e876_71e8_11ea_9fa9_0242ac1c0002row8_col9\" class=\"data row8 col9\" >0.073819</td>\n",
              "                        <td id=\"T_d5a7e876_71e8_11ea_9fa9_0242ac1c0002row8_col10\" class=\"data row8 col10\" >0.12578</td>\n",
              "            </tr>\n",
              "            <tr>\n",
              "                        <th id=\"T_d5a7e876_71e8_11ea_9fa9_0242ac1c0002level0_row9\" class=\"row_heading level0 row9\" >Troops_Mobilized(thousands)</th>\n",
              "                        <td id=\"T_d5a7e876_71e8_11ea_9fa9_0242ac1c0002row9_col0\" class=\"data row9 col0\" >-0.11007</td>\n",
              "                        <td id=\"T_d5a7e876_71e8_11ea_9fa9_0242ac1c0002row9_col1\" class=\"data row9 col1\" >-0.20156</td>\n",
              "                        <td id=\"T_d5a7e876_71e8_11ea_9fa9_0242ac1c0002row9_col2\" class=\"data row9 col2\" >0.08587</td>\n",
              "                        <td id=\"T_d5a7e876_71e8_11ea_9fa9_0242ac1c0002row9_col3\" class=\"data row9 col3\" >0.025103</td>\n",
              "                        <td id=\"T_d5a7e876_71e8_11ea_9fa9_0242ac1c0002row9_col4\" class=\"data row9 col4\" >-0.084188</td>\n",
              "                        <td id=\"T_d5a7e876_71e8_11ea_9fa9_0242ac1c0002row9_col5\" class=\"data row9 col5\" >-0.22794</td>\n",
              "                        <td id=\"T_d5a7e876_71e8_11ea_9fa9_0242ac1c0002row9_col6\" class=\"data row9 col6\" >-0.49531</td>\n",
              "                        <td id=\"T_d5a7e876_71e8_11ea_9fa9_0242ac1c0002row9_col7\" class=\"data row9 col7\" >0.17701</td>\n",
              "                        <td id=\"T_d5a7e876_71e8_11ea_9fa9_0242ac1c0002row9_col8\" class=\"data row9 col8\" >0.073819</td>\n",
              "                        <td id=\"T_d5a7e876_71e8_11ea_9fa9_0242ac1c0002row9_col9\" class=\"data row9 col9\" >1</td>\n",
              "                        <td id=\"T_d5a7e876_71e8_11ea_9fa9_0242ac1c0002row9_col10\" class=\"data row9 col10\" >0.4505</td>\n",
              "            </tr>\n",
              "            <tr>\n",
              "                        <th id=\"T_d5a7e876_71e8_11ea_9fa9_0242ac1c0002level0_row10\" class=\"row_heading level0 row10\" >DEFCON_Level</th>\n",
              "                        <td id=\"T_d5a7e876_71e8_11ea_9fa9_0242ac1c0002row10_col0\" class=\"data row10 col0\" >0.06044</td>\n",
              "                        <td id=\"T_d5a7e876_71e8_11ea_9fa9_0242ac1c0002row10_col1\" class=\"data row10 col1\" >-0.27484</td>\n",
              "                        <td id=\"T_d5a7e876_71e8_11ea_9fa9_0242ac1c0002row10_col2\" class=\"data row10 col2\" >0.18488</td>\n",
              "                        <td id=\"T_d5a7e876_71e8_11ea_9fa9_0242ac1c0002row10_col3\" class=\"data row10 col3\" >-0.0084695</td>\n",
              "                        <td id=\"T_d5a7e876_71e8_11ea_9fa9_0242ac1c0002row10_col4\" class=\"data row10 col4\" >-0.044782</td>\n",
              "                        <td id=\"T_d5a7e876_71e8_11ea_9fa9_0242ac1c0002row10_col5\" class=\"data row10 col5\" >-0.16167</td>\n",
              "                        <td id=\"T_d5a7e876_71e8_11ea_9fa9_0242ac1c0002row10_col6\" class=\"data row10 col6\" >-0.19094</td>\n",
              "                        <td id=\"T_d5a7e876_71e8_11ea_9fa9_0242ac1c0002row10_col7\" class=\"data row10 col7\" >-0.030033</td>\n",
              "                        <td id=\"T_d5a7e876_71e8_11ea_9fa9_0242ac1c0002row10_col8\" class=\"data row10 col8\" >0.12578</td>\n",
              "                        <td id=\"T_d5a7e876_71e8_11ea_9fa9_0242ac1c0002row10_col9\" class=\"data row10 col9\" >0.4505</td>\n",
              "                        <td id=\"T_d5a7e876_71e8_11ea_9fa9_0242ac1c0002row10_col10\" class=\"data row10 col10\" >1</td>\n",
              "            </tr>\n",
              "    </tbody></table>"
            ],
            "text/plain": [
              "<pandas.io.formats.style.Styler at 0x7fdfa1b92518>"
            ]
          },
          "metadata": {
            "tags": []
          },
          "execution_count": 61
        }
      ]
    },
    {
      "cell_type": "code",
      "metadata": {
        "id": "e8MiwOtOni21",
        "colab_type": "code",
        "colab": {}
      },
      "source": [
        "X_test = test.drop(columns=['ID'])\n",
        "concat = pd.concat(objs=[X, X_test], axis=0)"
      ],
      "execution_count": 0,
      "outputs": []
    },
    {
      "cell_type": "code",
      "metadata": {
        "id": "yK2kfdEYno-j",
        "colab_type": "code",
        "colab": {}
      },
      "source": [
        "#concat.drop(columns=['Aircraft_Carriers_Responding'\n",
        "                     #], inplace=True)\n",
        "\n",
        "ss = StandardScaler()\n",
        "concat = ss.fit_transform(concat)\n",
        "\n",
        "X, X_test = concat[:len(train), :], concat[len(train):, :]"
      ],
      "execution_count": 0,
      "outputs": []
    },
    {
      "cell_type": "code",
      "metadata": {
        "id": "lozTkvw1n5yP",
        "colab_type": "code",
        "outputId": "2de72cfb-3fb6-442e-8142-e397221ecceb",
        "colab": {
          "base_uri": "https://localhost:8080/",
          "height": 120
        }
      },
      "source": [
        "rfc = RandomForestClassifier(n_estimators=250, n_jobs=-1, random_state=42, max_features=0.9 , bootstrap=True)\n",
        "cross_val_score(rfc, X, y, cv=15, n_jobs=-1, verbose=1, scoring='f1_weighted').mean()"
      ],
      "execution_count": 0,
      "outputs": [
        {
          "output_type": "stream",
          "text": [
            "[Parallel(n_jobs=-1)]: Using backend LokyBackend with 2 concurrent workers.\n",
            "/usr/local/lib/python3.6/dist-packages/joblib/externals/loky/process_executor.py:706: UserWarning: A worker stopped while some jobs were given to the executor. This can be caused by a too short worker timeout or by a memory leak.\n",
            "  \"timeout or by a memory leak.\", UserWarning\n",
            "[Parallel(n_jobs=-1)]: Done  15 out of  15 | elapsed:  3.1min finished\n"
          ],
          "name": "stderr"
        },
        {
          "output_type": "execute_result",
          "data": {
            "text/plain": [
              "0.6229043957067121"
            ]
          },
          "metadata": {
            "tags": []
          },
          "execution_count": 146
        }
      ]
    },
    {
      "cell_type": "code",
      "metadata": {
        "id": "c9KMo209n7_L",
        "colab_type": "code",
        "outputId": "6a846925-f03f-49bb-bd52-eb1a8bc97bfb",
        "colab": {
          "base_uri": "https://localhost:8080/",
          "height": 67
        }
      },
      "source": [
        "nnc = MLPClassifier(hidden_layer_sizes=(10,5), max_iter=100,activation = 'logistic',solver='adam', \n",
        "                           random_state=42, batch_size=50)\n",
        "cross_val_score(nnc, X, y, cv=5, n_jobs=-1, verbose=1, scoring='f1_weighted').mean()"
      ],
      "execution_count": 0,
      "outputs": [
        {
          "output_type": "stream",
          "text": [
            "[Parallel(n_jobs=-1)]: Using backend LokyBackend with 2 concurrent workers.\n",
            "[Parallel(n_jobs=-1)]: Done   5 out of   5 | elapsed:  1.0min finished\n"
          ],
          "name": "stderr"
        },
        {
          "output_type": "execute_result",
          "data": {
            "text/plain": [
              "0.5370397456134759"
            ]
          },
          "metadata": {
            "tags": []
          },
          "execution_count": 65
        }
      ]
    },
    {
      "cell_type": "code",
      "metadata": {
        "id": "1x8k2BiboEA5",
        "colab_type": "code",
        "outputId": "215e7cb3-4f8f-4ee6-8782-afc0d6d5eebc",
        "colab": {
          "base_uri": "https://localhost:8080/",
          "height": 67
        }
      },
      "source": [
        "knc = KNeighborsClassifier(n_neighbors=10, n_jobs=-1)\n",
        "cross_val_score(knc, X, y, cv=5, n_jobs=-1, verbose=1, scoring='f1_weighted').mean()"
      ],
      "execution_count": 0,
      "outputs": [
        {
          "output_type": "stream",
          "text": [
            "[Parallel(n_jobs=-1)]: Using backend LokyBackend with 2 concurrent workers.\n",
            "[Parallel(n_jobs=-1)]: Done   5 out of   5 | elapsed:    1.2s finished\n"
          ],
          "name": "stderr"
        },
        {
          "output_type": "execute_result",
          "data": {
            "text/plain": [
              "0.5460666985017449"
            ]
          },
          "metadata": {
            "tags": []
          },
          "execution_count": 73
        }
      ]
    },
    {
      "cell_type": "code",
      "metadata": {
        "id": "21WB3eiZoW6O",
        "colab_type": "code",
        "outputId": "7260c180-84ae-4b72-8b2f-08d16c55d6ac",
        "colab": {
          "base_uri": "https://localhost:8080/",
          "height": 67
        }
      },
      "source": [
        "lgbmc = LGBMClassifier(random_state=142, n_estimators=100, colsample_bytree=1, \n",
        "                       max_depth=15, learning_rate=0.1, boosting_type='gbdt')\n",
        "cross_val_score(lgbmc, X, y, cv=15, n_jobs=-1, verbose=1, scoring='f1_weighted').mean()"
      ],
      "execution_count": 0,
      "outputs": [
        {
          "output_type": "stream",
          "text": [
            "[Parallel(n_jobs=-1)]: Using backend LokyBackend with 2 concurrent workers.\n",
            "[Parallel(n_jobs=-1)]: Done  15 out of  15 | elapsed:   11.1s finished\n"
          ],
          "name": "stderr"
        },
        {
          "output_type": "execute_result",
          "data": {
            "text/plain": [
              "0.6151348060743432"
            ]
          },
          "metadata": {
            "tags": []
          },
          "execution_count": 112
        }
      ]
    },
    {
      "cell_type": "code",
      "metadata": {
        "id": "VcZX_humodgX",
        "colab_type": "code",
        "outputId": "984ea359-511f-4fc5-d713-6088b83d15e1",
        "colab": {
          "base_uri": "https://localhost:8080/",
          "height": 67
        }
      },
      "source": [
        "xgbc = XGBClassifier(seed=7, n_jobs=-1, n_estimators=100, random_state=142, max_depth=15, learning_rate=0.1)\n",
        "cross_val_score(xgbc, X, y, cv=15, n_jobs=-1, verbose=1, scoring='f1_weighted').mean()"
      ],
      "execution_count": 0,
      "outputs": [
        {
          "output_type": "stream",
          "text": [
            "[Parallel(n_jobs=-1)]: Using backend LokyBackend with 2 concurrent workers.\n",
            "[Parallel(n_jobs=-1)]: Done  15 out of  15 | elapsed:  2.3min finished\n"
          ],
          "name": "stderr"
        },
        {
          "output_type": "execute_result",
          "data": {
            "text/plain": [
              "0.6069054274164533"
            ]
          },
          "metadata": {
            "tags": []
          },
          "execution_count": 121
        }
      ]
    },
    {
      "cell_type": "code",
      "metadata": {
        "id": "xKCfcYSsof0E",
        "colab_type": "code",
        "outputId": "d0616fe5-c96f-4628-b9e9-a9bd0bd3bfaf",
        "colab": {
          "base_uri": "https://localhost:8080/",
          "height": 120
        }
      },
      "source": [
        "from sklearn.ensemble import VotingClassifier\n",
        "ensemble = VotingClassifier(estimators=[('rfc', rfc), ('xgbc', xgbc),\n",
        "                                        ('lgbmc', lgbmc)],\n",
        "                                         voting='soft', n_jobs=-1)\n",
        "cross_val_score(ensemble, X, y, cv=15, n_jobs=-1, verbose=1, scoring='f1_weighted').mean()"
      ],
      "execution_count": 0,
      "outputs": [
        {
          "output_type": "stream",
          "text": [
            "[Parallel(n_jobs=-1)]: Using backend LokyBackend with 2 concurrent workers.\n",
            "/usr/local/lib/python3.6/dist-packages/joblib/externals/loky/process_executor.py:706: UserWarning: A worker stopped while some jobs were given to the executor. This can be caused by a too short worker timeout or by a memory leak.\n",
            "  \"timeout or by a memory leak.\", UserWarning\n",
            "[Parallel(n_jobs=-1)]: Done  15 out of  15 | elapsed:  5.5min finished\n"
          ],
          "name": "stderr"
        },
        {
          "output_type": "execute_result",
          "data": {
            "text/plain": [
              "0.6170214468074826"
            ]
          },
          "metadata": {
            "tags": []
          },
          "execution_count": 150
        }
      ]
    },
    {
      "cell_type": "code",
      "metadata": {
        "id": "n9JiRK-Joknc",
        "colab_type": "code",
        "colab": {}
      },
      "source": [
        "rfc.fit(X, y)\n",
        "j = rfc.predict(X_test)\n",
        "sub = pd.DataFrame(data={'ID' : test.ID, 'DEFCON_Level' : j})\n",
        "sub.to_csv('ag.csv', index=False)"
      ],
      "execution_count": 0,
      "outputs": []
    },
    {
      "cell_type": "code",
      "metadata": {
        "id": "3lHtjsnZolQ6",
        "colab_type": "code",
        "colab": {}
      },
      "source": [
        "from google.colab import files\n",
        "files.download('ag.csv')"
      ],
      "execution_count": 0,
      "outputs": []
    }
  ]
}