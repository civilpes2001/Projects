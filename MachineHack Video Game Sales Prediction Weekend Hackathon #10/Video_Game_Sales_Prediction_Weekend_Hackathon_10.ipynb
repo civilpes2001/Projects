{
  "nbformat": 4,
  "nbformat_minor": 0,
  "metadata": {
    "colab": {
      "name": "Video Game Sales Prediction: Weekend Hackathon #10.ipynb",
      "provenance": [],
      "collapsed_sections": []
    },
    "kernelspec": {
      "name": "python3",
      "display_name": "Python 3"
    }
  },
  "cells": [
    {
      "cell_type": "code",
      "metadata": {
        "id": "RFAWGWn-GvR3",
        "colab_type": "code",
        "colab": {
          "base_uri": "https://localhost:8080/",
          "height": 204
        },
        "outputId": "ac5ee2f4-499b-4dcd-8e9c-51ebfc61228c"
      },
      "source": [
        "!wget https://machinehack-be.s3.amazonaws.com/video_game_sales_prediction_weekend_hackathon_10/Data.zip"
      ],
      "execution_count": null,
      "outputs": [
        {
          "output_type": "stream",
          "text": [
            "--2020-06-28 13:37:59--  https://machinehack-be.s3.amazonaws.com/video_game_sales_prediction_weekend_hackathon_10/Data.zip\n",
            "Resolving machinehack-be.s3.amazonaws.com (machinehack-be.s3.amazonaws.com)... 52.219.66.120\n",
            "Connecting to machinehack-be.s3.amazonaws.com (machinehack-be.s3.amazonaws.com)|52.219.66.120|:443... connected.\n",
            "HTTP request sent, awaiting response... 200 OK\n",
            "Length: 142509 (139K) [application/octet-stream]\n",
            "Saving to: ‘Data.zip’\n",
            "\n",
            "Data.zip            100%[===================>] 139.17K   188KB/s    in 0.7s    \n",
            "\n",
            "2020-06-28 13:38:01 (188 KB/s) - ‘Data.zip’ saved [142509/142509]\n",
            "\n"
          ],
          "name": "stdout"
        }
      ]
    },
    {
      "cell_type": "code",
      "metadata": {
        "id": "qEsiFFOOG6SQ",
        "colab_type": "code",
        "colab": {
          "base_uri": "https://localhost:8080/",
          "height": 153
        },
        "outputId": "af6c1ef1-5dc0-481b-908d-1fd5750caf18"
      },
      "source": [
        "!unzip Data.zip"
      ],
      "execution_count": null,
      "outputs": [
        {
          "output_type": "stream",
          "text": [
            "Archive:  Data.zip\n",
            "   creating: Data/\n",
            "  inflating: Data/Test.csv           \n",
            "  inflating: __MACOSX/Data/._Test.csv  \n",
            "  inflating: Data/Train.csv          \n",
            "  inflating: __MACOSX/Data/._Train.csv  \n",
            "  inflating: Data/Sample_Submission.csv  \n",
            "  inflating: __MACOSX/Data/._Sample_Submission.csv  \n"
          ],
          "name": "stdout"
        }
      ]
    },
    {
      "cell_type": "code",
      "metadata": {
        "id": "WzO-COMrN0Lg",
        "colab_type": "code",
        "colab": {}
      },
      "source": [
        "import pandas as pd\n",
        "import numpy as np\n",
        "import matplotlib.pyplot as plt\n",
        "%matplotlib inline"
      ],
      "execution_count": null,
      "outputs": []
    },
    {
      "cell_type": "code",
      "metadata": {
        "id": "KDc0XWvgN-Wz",
        "colab_type": "code",
        "colab": {}
      },
      "source": [
        "train = pd.read_csv('Data/Train.csv')\n",
        "test = pd.read_csv('Data/Test.csv')\n",
        "sub = pd.read_csv('Data/Sample_Submission.csv')"
      ],
      "execution_count": null,
      "outputs": []
    },
    {
      "cell_type": "code",
      "metadata": {
        "id": "-XzdyhBt19DN",
        "colab_type": "code",
        "colab": {
          "base_uri": "https://localhost:8080/",
          "height": 197
        },
        "outputId": "20970fd4-b507-46fd-c0cd-09c2632a6a44"
      },
      "source": [
        "train.head(5)"
      ],
      "execution_count": null,
      "outputs": [
        {
          "output_type": "execute_result",
          "data": {
            "text/html": [
              "<div>\n",
              "<style scoped>\n",
              "    .dataframe tbody tr th:only-of-type {\n",
              "        vertical-align: middle;\n",
              "    }\n",
              "\n",
              "    .dataframe tbody tr th {\n",
              "        vertical-align: top;\n",
              "    }\n",
              "\n",
              "    .dataframe thead th {\n",
              "        text-align: right;\n",
              "    }\n",
              "</style>\n",
              "<table border=\"1\" class=\"dataframe\">\n",
              "  <thead>\n",
              "    <tr style=\"text-align: right;\">\n",
              "      <th></th>\n",
              "      <th>ID</th>\n",
              "      <th>CONSOLE</th>\n",
              "      <th>YEAR</th>\n",
              "      <th>CATEGORY</th>\n",
              "      <th>PUBLISHER</th>\n",
              "      <th>RATING</th>\n",
              "      <th>CRITICS_POINTS</th>\n",
              "      <th>USER_POINTS</th>\n",
              "      <th>SalesInMillions</th>\n",
              "    </tr>\n",
              "  </thead>\n",
              "  <tbody>\n",
              "    <tr>\n",
              "      <th>0</th>\n",
              "      <td>2860</td>\n",
              "      <td>ds</td>\n",
              "      <td>2008</td>\n",
              "      <td>role-playing</td>\n",
              "      <td>Nintendo</td>\n",
              "      <td>E</td>\n",
              "      <td>2.833333</td>\n",
              "      <td>0.303704</td>\n",
              "      <td>1.779257</td>\n",
              "    </tr>\n",
              "    <tr>\n",
              "      <th>1</th>\n",
              "      <td>731</td>\n",
              "      <td>wii</td>\n",
              "      <td>2012</td>\n",
              "      <td>simulation</td>\n",
              "      <td>Konami Digital Entertainment</td>\n",
              "      <td>E10+</td>\n",
              "      <td>13.200000</td>\n",
              "      <td>1.640000</td>\n",
              "      <td>0.215050</td>\n",
              "    </tr>\n",
              "    <tr>\n",
              "      <th>2</th>\n",
              "      <td>495</td>\n",
              "      <td>pc</td>\n",
              "      <td>2019</td>\n",
              "      <td>shooter</td>\n",
              "      <td>Activision</td>\n",
              "      <td>M</td>\n",
              "      <td>4.562500</td>\n",
              "      <td>0.006410</td>\n",
              "      <td>0.534402</td>\n",
              "    </tr>\n",
              "    <tr>\n",
              "      <th>3</th>\n",
              "      <td>2641</td>\n",
              "      <td>ps2</td>\n",
              "      <td>2002</td>\n",
              "      <td>sports</td>\n",
              "      <td>Electronic Arts</td>\n",
              "      <td>E</td>\n",
              "      <td>4.181818</td>\n",
              "      <td>0.326923</td>\n",
              "      <td>1.383964</td>\n",
              "    </tr>\n",
              "    <tr>\n",
              "      <th>4</th>\n",
              "      <td>811</td>\n",
              "      <td>ps3</td>\n",
              "      <td>2013</td>\n",
              "      <td>action</td>\n",
              "      <td>Activision</td>\n",
              "      <td>M</td>\n",
              "      <td>2.259259</td>\n",
              "      <td>0.032579</td>\n",
              "      <td>0.082671</td>\n",
              "    </tr>\n",
              "  </tbody>\n",
              "</table>\n",
              "</div>"
            ],
            "text/plain": [
              "     ID CONSOLE  YEAR  ... CRITICS_POINTS USER_POINTS SalesInMillions\n",
              "0  2860      ds  2008  ...       2.833333    0.303704        1.779257\n",
              "1   731     wii  2012  ...      13.200000    1.640000        0.215050\n",
              "2   495      pc  2019  ...       4.562500    0.006410        0.534402\n",
              "3  2641     ps2  2002  ...       4.181818    0.326923        1.383964\n",
              "4   811     ps3  2013  ...       2.259259    0.032579        0.082671\n",
              "\n",
              "[5 rows x 9 columns]"
            ]
          },
          "metadata": {
            "tags": []
          },
          "execution_count": 144
        }
      ]
    },
    {
      "cell_type": "code",
      "metadata": {
        "id": "ISMwqie81_dQ",
        "colab_type": "code",
        "colab": {
          "base_uri": "https://localhost:8080/",
          "height": 197
        },
        "outputId": "f932d1ad-90d3-4f3d-a834-c0d04c80151b"
      },
      "source": [
        "test.tail(5)"
      ],
      "execution_count": null,
      "outputs": [
        {
          "output_type": "execute_result",
          "data": {
            "text/html": [
              "<div>\n",
              "<style scoped>\n",
              "    .dataframe tbody tr th:only-of-type {\n",
              "        vertical-align: middle;\n",
              "    }\n",
              "\n",
              "    .dataframe tbody tr th {\n",
              "        vertical-align: top;\n",
              "    }\n",
              "\n",
              "    .dataframe thead th {\n",
              "        text-align: right;\n",
              "    }\n",
              "</style>\n",
              "<table border=\"1\" class=\"dataframe\">\n",
              "  <thead>\n",
              "    <tr style=\"text-align: right;\">\n",
              "      <th></th>\n",
              "      <th>ID</th>\n",
              "      <th>CONSOLE</th>\n",
              "      <th>YEAR</th>\n",
              "      <th>CATEGORY</th>\n",
              "      <th>PUBLISHER</th>\n",
              "      <th>RATING</th>\n",
              "      <th>CRITICS_POINTS</th>\n",
              "      <th>USER_POINTS</th>\n",
              "    </tr>\n",
              "  </thead>\n",
              "  <tbody>\n",
              "    <tr>\n",
              "      <th>1498</th>\n",
              "      <td>3939</td>\n",
              "      <td>ps2</td>\n",
              "      <td>2004</td>\n",
              "      <td>sports</td>\n",
              "      <td>Electronic Arts</td>\n",
              "      <td>T</td>\n",
              "      <td>1.809524</td>\n",
              "      <td>0.192308</td>\n",
              "    </tr>\n",
              "    <tr>\n",
              "      <th>1499</th>\n",
              "      <td>961</td>\n",
              "      <td>ds</td>\n",
              "      <td>2007</td>\n",
              "      <td>platform</td>\n",
              "      <td>Take-Two Interactive</td>\n",
              "      <td>E</td>\n",
              "      <td>8.800000</td>\n",
              "      <td>0.625000</td>\n",
              "    </tr>\n",
              "    <tr>\n",
              "      <th>1500</th>\n",
              "      <td>3417</td>\n",
              "      <td>xone</td>\n",
              "      <td>2016</td>\n",
              "      <td>action</td>\n",
              "      <td>Insomniac Games</td>\n",
              "      <td>E</td>\n",
              "      <td>5.500000</td>\n",
              "      <td>0.333333</td>\n",
              "    </tr>\n",
              "    <tr>\n",
              "      <th>1501</th>\n",
              "      <td>2489</td>\n",
              "      <td>ps</td>\n",
              "      <td>2002</td>\n",
              "      <td>racing</td>\n",
              "      <td>Electronic Arts</td>\n",
              "      <td>E</td>\n",
              "      <td>8.625000</td>\n",
              "      <td>0.690000</td>\n",
              "    </tr>\n",
              "    <tr>\n",
              "      <th>1502</th>\n",
              "      <td>3174</td>\n",
              "      <td>pc</td>\n",
              "      <td>2010</td>\n",
              "      <td>shooter</td>\n",
              "      <td>Thq</td>\n",
              "      <td>M</td>\n",
              "      <td>1.863636</td>\n",
              "      <td>0.007629</td>\n",
              "    </tr>\n",
              "  </tbody>\n",
              "</table>\n",
              "</div>"
            ],
            "text/plain": [
              "        ID CONSOLE  YEAR  ... RATING CRITICS_POINTS USER_POINTS\n",
              "1498  3939     ps2  2004  ...      T       1.809524    0.192308\n",
              "1499   961      ds  2007  ...      E       8.800000    0.625000\n",
              "1500  3417    xone  2016  ...      E       5.500000    0.333333\n",
              "1501  2489      ps  2002  ...      E       8.625000    0.690000\n",
              "1502  3174      pc  2010  ...      M       1.863636    0.007629\n",
              "\n",
              "[5 rows x 8 columns]"
            ]
          },
          "metadata": {
            "tags": []
          },
          "execution_count": 145
        }
      ]
    },
    {
      "cell_type": "code",
      "metadata": {
        "id": "1lnpu4c6HG5l",
        "colab_type": "code",
        "colab": {
          "base_uri": "https://localhost:8080/",
          "height": 477
        },
        "outputId": "da73e6aa-49a3-4a25-e764-f661a114a1b6"
      },
      "source": [
        "train.isnull().sum(),test.isnull().sum(),train.shape,test.shape,train.dtypes"
      ],
      "execution_count": null,
      "outputs": [
        {
          "output_type": "execute_result",
          "data": {
            "text/plain": [
              "(ID                 0\n",
              " CONSOLE            0\n",
              " YEAR               0\n",
              " CATEGORY           0\n",
              " PUBLISHER          0\n",
              " RATING             0\n",
              " CRITICS_POINTS     0\n",
              " USER_POINTS        0\n",
              " SalesInMillions    0\n",
              " dtype: int64, ID                0\n",
              " CONSOLE           0\n",
              " YEAR              0\n",
              " CATEGORY          0\n",
              " PUBLISHER         0\n",
              " RATING            0\n",
              " CRITICS_POINTS    0\n",
              " USER_POINTS       0\n",
              " dtype: int64, (3506, 9), (1503, 8), ID                   int64\n",
              " CONSOLE             object\n",
              " YEAR                 int64\n",
              " CATEGORY            object\n",
              " PUBLISHER           object\n",
              " RATING              object\n",
              " CRITICS_POINTS     float64\n",
              " USER_POINTS        float64\n",
              " SalesInMillions    float64\n",
              " dtype: object)"
            ]
          },
          "metadata": {
            "tags": []
          },
          "execution_count": 146
        }
      ]
    },
    {
      "cell_type": "code",
      "metadata": {
        "id": "NObEE5qc6-kp",
        "colab_type": "code",
        "colab": {
          "base_uri": "https://localhost:8080/",
          "height": 283
        },
        "outputId": "f1303eef-7a5b-4e4a-9249-824c5ef36000"
      },
      "source": [
        "train['SalesInMillions'].plot()"
      ],
      "execution_count": null,
      "outputs": [
        {
          "output_type": "execute_result",
          "data": {
            "text/plain": [
              "<matplotlib.axes._subplots.AxesSubplot at 0x7f23f094a908>"
            ]
          },
          "metadata": {
            "tags": []
          },
          "execution_count": 150
        },
        {
          "output_type": "display_data",
          "data": {
            "image/png": "[encoded data removed]",
            "text/plain": [
              "<Figure size 432x288 with 1 Axes>"
            ]
          },
          "metadata": {
            "tags": [],
            "needs_background": "light"
          }
        }
      ]
    },
    {
      "cell_type": "code",
      "metadata": {
        "id": "YGHianUL7Aoz",
        "colab_type": "code",
        "colab": {}
      },
      "source": [
        "c=0\n",
        "d=0\n",
        "for i in train['SalesInMillions']:\n",
        "  d=d+1\n",
        "  if i<20:\n",
        "    pass\n",
        "  else:\n",
        "    print(d,i)\n",
        "    c=c+1"
      ],
      "execution_count": null,
      "outputs": []
    },
    {
      "cell_type": "code",
      "metadata": {
        "id": "bZ_ZoaqU65WN",
        "colab_type": "code",
        "colab": {}
      },
      "source": [
        "a=[966,1035,1078,1441,1679,2477,2601,2904]\n",
        "for i in a:\n",
        "  train=train.drop(train.index[[i]])"
      ],
      "execution_count": null,
      "outputs": []
    },
    {
      "cell_type": "code",
      "metadata": {
        "id": "WrctU3cnO6vn",
        "colab_type": "code",
        "colab": {}
      },
      "source": [
        "df=train.append(test,ignore_index=True)"
      ],
      "execution_count": null,
      "outputs": []
    },
    {
      "cell_type": "code",
      "metadata": {
        "id": "8-NV50RdINw1",
        "colab_type": "code",
        "colab": {}
      },
      "source": [
        "df = pd.get_dummies(df, columns=['CONSOLE','YEAR','CATEGORY','PUBLISHER','RATING'])"
      ],
      "execution_count": null,
      "outputs": []
    },
    {
      "cell_type": "code",
      "metadata": {
        "id": "-avHlmU2IR9L",
        "colab_type": "code",
        "colab": {
          "base_uri": "https://localhost:8080/",
          "height": 207
        },
        "outputId": "6bc5b49d-a121-43b2-ced3-52c97584eda4"
      },
      "source": [
        "df.tail(2)"
      ],
      "execution_count": null,
      "outputs": [
        {
          "output_type": "execute_result",
          "data": {
            "text/html": [
              "<div>\n",
              "<style scoped>\n",
              "    .dataframe tbody tr th:only-of-type {\n",
              "        vertical-align: middle;\n",
              "    }\n",
              "\n",
              "    .dataframe tbody tr th {\n",
              "        vertical-align: top;\n",
              "    }\n",
              "\n",
              "    .dataframe thead th {\n",
              "        text-align: right;\n",
              "    }\n",
              "</style>\n",
              "<table border=\"1\" class=\"dataframe\">\n",
              "  <thead>\n",
              "    <tr style=\"text-align: right;\">\n",
              "      <th></th>\n",
              "      <th>ID</th>\n",
              "      <th>CRITICS_POINTS</th>\n",
              "      <th>USER_POINTS</th>\n",
              "      <th>SalesInMillions</th>\n",
              "      <th>CONSOLE_3ds</th>\n",
              "      <th>CONSOLE_dc</th>\n",
              "      <th>CONSOLE_ds</th>\n",
              "      <th>CONSOLE_gba</th>\n",
              "      <th>CONSOLE_gc</th>\n",
              "      <th>CONSOLE_pc</th>\n",
              "      <th>CONSOLE_ps</th>\n",
              "      <th>CONSOLE_ps2</th>\n",
              "      <th>CONSOLE_ps3</th>\n",
              "      <th>CONSOLE_ps4</th>\n",
              "      <th>CONSOLE_psp</th>\n",
              "      <th>CONSOLE_psv</th>\n",
              "      <th>CONSOLE_wii</th>\n",
              "      <th>CONSOLE_wiiu</th>\n",
              "      <th>CONSOLE_x</th>\n",
              "      <th>CONSOLE_x360</th>\n",
              "      <th>CONSOLE_xone</th>\n",
              "      <th>YEAR_1988</th>\n",
              "      <th>YEAR_1994</th>\n",
              "      <th>YEAR_1997</th>\n",
              "      <th>YEAR_1998</th>\n",
              "      <th>YEAR_1999</th>\n",
              "      <th>YEAR_2000</th>\n",
              "      <th>YEAR_2001</th>\n",
              "      <th>YEAR_2002</th>\n",
              "      <th>YEAR_2003</th>\n",
              "      <th>YEAR_2004</th>\n",
              "      <th>YEAR_2005</th>\n",
              "      <th>YEAR_2006</th>\n",
              "      <th>YEAR_2007</th>\n",
              "      <th>YEAR_2008</th>\n",
              "      <th>YEAR_2009</th>\n",
              "      <th>YEAR_2010</th>\n",
              "      <th>YEAR_2011</th>\n",
              "      <th>YEAR_2012</th>\n",
              "      <th>YEAR_2013</th>\n",
              "      <th>...</th>\n",
              "      <th>PUBLISHER_Tdk Mediactive</th>\n",
              "      <th>PUBLISHER_Team17 Software</th>\n",
              "      <th>PUBLISHER_Tecmo Koei</th>\n",
              "      <th>PUBLISHER_Telltale Games</th>\n",
              "      <th>PUBLISHER_Thq</th>\n",
              "      <th>PUBLISHER_Thq Nordic</th>\n",
              "      <th>PUBLISHER_Tomy Corporation</th>\n",
              "      <th>PUBLISHER_Topware Interactive</th>\n",
              "      <th>PUBLISHER_Touchstone</th>\n",
              "      <th>PUBLISHER_Trion Worlds</th>\n",
              "      <th>PUBLISHER_Tripwire Interactive</th>\n",
              "      <th>PUBLISHER_Tru Blu Entertainment</th>\n",
              "      <th>PUBLISHER_Ubisoft</th>\n",
              "      <th>PUBLISHER_Ubisoft Annecy</th>\n",
              "      <th>PUBLISHER_Universal Interactive</th>\n",
              "      <th>PUBLISHER_Unknown</th>\n",
              "      <th>PUBLISHER_Valcon Games</th>\n",
              "      <th>PUBLISHER_Valve</th>\n",
              "      <th>PUBLISHER_Valve Software</th>\n",
              "      <th>PUBLISHER_Virgin Interactive</th>\n",
              "      <th>PUBLISHER_Visco</th>\n",
              "      <th>PUBLISHER_Vivendi Games</th>\n",
              "      <th>PUBLISHER_Wanadoo</th>\n",
              "      <th>PUBLISHER_Warner Bros. Interactive Entertainment</th>\n",
              "      <th>PUBLISHER_White Park Bay Software</th>\n",
              "      <th>PUBLISHER_Xicat Interactive</th>\n",
              "      <th>PUBLISHER_Xplosiv</th>\n",
              "      <th>PUBLISHER_Xs Games</th>\n",
              "      <th>PUBLISHER_Xseed Games</th>\n",
              "      <th>PUBLISHER_Yacht Club Games</th>\n",
              "      <th>PUBLISHER_Zoo Digital Publishing</th>\n",
              "      <th>PUBLISHER_Zoo Games</th>\n",
              "      <th>PUBLISHER_Zushi Games</th>\n",
              "      <th>RATING_AO</th>\n",
              "      <th>RATING_E</th>\n",
              "      <th>RATING_E10+</th>\n",
              "      <th>RATING_K-A</th>\n",
              "      <th>RATING_M</th>\n",
              "      <th>RATING_RP</th>\n",
              "      <th>RATING_T</th>\n",
              "    </tr>\n",
              "  </thead>\n",
              "  <tbody>\n",
              "    <tr>\n",
              "      <th>4999</th>\n",
              "      <td>2489</td>\n",
              "      <td>8.625000</td>\n",
              "      <td>0.690000</td>\n",
              "      <td>NaN</td>\n",
              "      <td>0</td>\n",
              "      <td>0</td>\n",
              "      <td>0</td>\n",
              "      <td>0</td>\n",
              "      <td>0</td>\n",
              "      <td>0</td>\n",
              "      <td>1</td>\n",
              "      <td>0</td>\n",
              "      <td>0</td>\n",
              "      <td>0</td>\n",
              "      <td>0</td>\n",
              "      <td>0</td>\n",
              "      <td>0</td>\n",
              "      <td>0</td>\n",
              "      <td>0</td>\n",
              "      <td>0</td>\n",
              "      <td>0</td>\n",
              "      <td>0</td>\n",
              "      <td>0</td>\n",
              "      <td>0</td>\n",
              "      <td>0</td>\n",
              "      <td>0</td>\n",
              "      <td>0</td>\n",
              "      <td>0</td>\n",
              "      <td>1</td>\n",
              "      <td>0</td>\n",
              "      <td>0</td>\n",
              "      <td>0</td>\n",
              "      <td>0</td>\n",
              "      <td>0</td>\n",
              "      <td>0</td>\n",
              "      <td>0</td>\n",
              "      <td>0</td>\n",
              "      <td>0</td>\n",
              "      <td>0</td>\n",
              "      <td>0</td>\n",
              "      <td>...</td>\n",
              "      <td>0</td>\n",
              "      <td>0</td>\n",
              "      <td>0</td>\n",
              "      <td>0</td>\n",
              "      <td>0</td>\n",
              "      <td>0</td>\n",
              "      <td>0</td>\n",
              "      <td>0</td>\n",
              "      <td>0</td>\n",
              "      <td>0</td>\n",
              "      <td>0</td>\n",
              "      <td>0</td>\n",
              "      <td>0</td>\n",
              "      <td>0</td>\n",
              "      <td>0</td>\n",
              "      <td>0</td>\n",
              "      <td>0</td>\n",
              "      <td>0</td>\n",
              "      <td>0</td>\n",
              "      <td>0</td>\n",
              "      <td>0</td>\n",
              "      <td>0</td>\n",
              "      <td>0</td>\n",
              "      <td>0</td>\n",
              "      <td>0</td>\n",
              "      <td>0</td>\n",
              "      <td>0</td>\n",
              "      <td>0</td>\n",
              "      <td>0</td>\n",
              "      <td>0</td>\n",
              "      <td>0</td>\n",
              "      <td>0</td>\n",
              "      <td>0</td>\n",
              "      <td>0</td>\n",
              "      <td>1</td>\n",
              "      <td>0</td>\n",
              "      <td>0</td>\n",
              "      <td>0</td>\n",
              "      <td>0</td>\n",
              "      <td>0</td>\n",
              "    </tr>\n",
              "    <tr>\n",
              "      <th>5000</th>\n",
              "      <td>3174</td>\n",
              "      <td>1.863636</td>\n",
              "      <td>0.007629</td>\n",
              "      <td>NaN</td>\n",
              "      <td>0</td>\n",
              "      <td>0</td>\n",
              "      <td>0</td>\n",
              "      <td>0</td>\n",
              "      <td>0</td>\n",
              "      <td>1</td>\n",
              "      <td>0</td>\n",
              "      <td>0</td>\n",
              "      <td>0</td>\n",
              "      <td>0</td>\n",
              "      <td>0</td>\n",
              "      <td>0</td>\n",
              "      <td>0</td>\n",
              "      <td>0</td>\n",
              "      <td>0</td>\n",
              "      <td>0</td>\n",
              "      <td>0</td>\n",
              "      <td>0</td>\n",
              "      <td>0</td>\n",
              "      <td>0</td>\n",
              "      <td>0</td>\n",
              "      <td>0</td>\n",
              "      <td>0</td>\n",
              "      <td>0</td>\n",
              "      <td>0</td>\n",
              "      <td>0</td>\n",
              "      <td>0</td>\n",
              "      <td>0</td>\n",
              "      <td>0</td>\n",
              "      <td>0</td>\n",
              "      <td>0</td>\n",
              "      <td>0</td>\n",
              "      <td>1</td>\n",
              "      <td>0</td>\n",
              "      <td>0</td>\n",
              "      <td>0</td>\n",
              "      <td>...</td>\n",
              "      <td>0</td>\n",
              "      <td>0</td>\n",
              "      <td>0</td>\n",
              "      <td>0</td>\n",
              "      <td>1</td>\n",
              "      <td>0</td>\n",
              "      <td>0</td>\n",
              "      <td>0</td>\n",
              "      <td>0</td>\n",
              "      <td>0</td>\n",
              "      <td>0</td>\n",
              "      <td>0</td>\n",
              "      <td>0</td>\n",
              "      <td>0</td>\n",
              "      <td>0</td>\n",
              "      <td>0</td>\n",
              "      <td>0</td>\n",
              "      <td>0</td>\n",
              "      <td>0</td>\n",
              "      <td>0</td>\n",
              "      <td>0</td>\n",
              "      <td>0</td>\n",
              "      <td>0</td>\n",
              "      <td>0</td>\n",
              "      <td>0</td>\n",
              "      <td>0</td>\n",
              "      <td>0</td>\n",
              "      <td>0</td>\n",
              "      <td>0</td>\n",
              "      <td>0</td>\n",
              "      <td>0</td>\n",
              "      <td>0</td>\n",
              "      <td>0</td>\n",
              "      <td>0</td>\n",
              "      <td>0</td>\n",
              "      <td>0</td>\n",
              "      <td>0</td>\n",
              "      <td>1</td>\n",
              "      <td>0</td>\n",
              "      <td>0</td>\n",
              "    </tr>\n",
              "  </tbody>\n",
              "</table>\n",
              "<p>2 rows × 298 columns</p>\n",
              "</div>"
            ],
            "text/plain": [
              "        ID  CRITICS_POINTS  USER_POINTS  ...  RATING_M  RATING_RP  RATING_T\n",
              "4999  2489        8.625000     0.690000  ...         0          0         0\n",
              "5000  3174        1.863636     0.007629  ...         1          0         0\n",
              "\n",
              "[2 rows x 298 columns]"
            ]
          },
          "metadata": {
            "tags": []
          },
          "execution_count": 154
        }
      ]
    },
    {
      "cell_type": "code",
      "metadata": {
        "id": "7OE8vXpfyr6_",
        "colab_type": "code",
        "colab": {}
      },
      "source": [
        "train = df[df['SalesInMillions'].isnull()==False]\n",
        "test = df[df['SalesInMillions'].isnull()==True]"
      ],
      "execution_count": null,
      "outputs": []
    },
    {
      "cell_type": "code",
      "metadata": {
        "id": "SX_tMNDqaizW",
        "colab_type": "code",
        "colab": {
          "base_uri": "https://localhost:8080/",
          "height": 146
        },
        "outputId": "628c138a-6a03-4c48-cd5f-aa6a49bfa139"
      },
      "source": [
        "s=['CONSOLE','CATEGORY','PUBLISHER','RATING']\n",
        "for i in s:\n",
        "  loc = np.append(train[i].values, test[i].values, axis=0)\n",
        "  from sklearn.preprocessing import LabelEncoder\n",
        "  l=LabelEncoder()\n",
        "  l.fit(list(set(loc)))\n",
        "  train[i]=l.transform(train[i])\n",
        "  test[i]=l.transform(test[i])"
      ],
      "execution_count": null,
      "outputs": [
        {
          "output_type": "error",
          "ename": "SyntaxError",
          "evalue": "ignored",
          "traceback": [
            "\u001b[0;36m  File \u001b[0;32m\"<ipython-input-239-ac9773c0337f>\"\u001b[0;36m, line \u001b[0;32m9\u001b[0m\n\u001b[0;31m    test[i]=l.transform(test[i])\u001b[0m\n\u001b[0m                                \n^\u001b[0m\n\u001b[0;31mSyntaxError\u001b[0m\u001b[0;31m:\u001b[0m EOF while scanning triple-quoted string literal\n"
          ]
        }
      ]
    },
    {
      "cell_type": "code",
      "metadata": {
        "id": "RW-YeG8H8Y62",
        "colab_type": "code",
        "colab": {}
      },
      "source": [
        "del test['SalesInMillions']"
      ],
      "execution_count": null,
      "outputs": []
    },
    {
      "cell_type": "code",
      "metadata": {
        "id": "ze5EN8LF4NoI",
        "colab_type": "code",
        "colab": {}
      },
      "source": [
        "train_df=train\n",
        "Xtest = test"
      ],
      "execution_count": null,
      "outputs": []
    },
    {
      "cell_type": "code",
      "metadata": {
        "id": "tEBtdP68YNzr",
        "colab_type": "code",
        "colab": {}
      },
      "source": [
        "X = train_df.drop(labels=['SalesInMillions'], axis=1)\n",
        "y = train_df['SalesInMillions'].values"
      ],
      "execution_count": null,
      "outputs": []
    },
    {
      "cell_type": "code",
      "metadata": {
        "id": "6v1MB11yZPel",
        "colab_type": "code",
        "colab": {}
      },
      "source": [
        "from sklearn.model_selection import train_test_split\n",
        "X_train, X_cv, y_train, y_cv = train_test_split(X, y, test_size=0.25, random_state=42)"
      ],
      "execution_count": null,
      "outputs": []
    },
    {
      "cell_type": "code",
      "metadata": {
        "id": "rzaKa3bnZSmm",
        "colab_type": "code",
        "colab": {
          "base_uri": "https://localhost:8080/",
          "height": 34
        },
        "outputId": "8195afb1-53d7-4550-873a-40c5da25486a"
      },
      "source": [
        "X_train.shape, y_train.shape, X_cv.shape, y_cv.shape"
      ],
      "execution_count": null,
      "outputs": [
        {
          "output_type": "execute_result",
          "data": {
            "text/plain": [
              "((2623, 297), (2623,), (875, 297), (875,))"
            ]
          },
          "metadata": {
            "tags": []
          },
          "execution_count": 160
        }
      ]
    },
    {
      "cell_type": "code",
      "metadata": {
        "id": "KWM1s5V2ZWQJ",
        "colab_type": "code",
        "colab": {}
      },
      "source": [
        "from math import sqrt \n",
        "import lightgbm as lgb\n",
        "from sklearn.metrics import mean_squared_error, mean_squared_log_error"
      ],
      "execution_count": null,
      "outputs": []
    },
    {
      "cell_type": "code",
      "metadata": {
        "id": "7zcm75fu1jpi",
        "colab_type": "code",
        "colab": {
          "base_uri": "https://localhost:8080/",
          "height": 170
        },
        "outputId": "9c78e0c7-9e6c-4ba7-d1f1-b565c3bd3807"
      },
      "source": [
        "import lightgbm as lgb\n",
        "train_data = lgb.Dataset(X_train, label=y_train)\n",
        "test_data = lgb.Dataset(X_cv, label=y_cv)\n",
        "\n",
        "param = {'objective': 'regression',\n",
        "         'boosting': 'gbdt',  \n",
        "         'metric': 'l2_root',\n",
        "         'learning_rate': 0.01, \n",
        "         'num_iterations': 1000,\n",
        "         'num_leaves': 200,\n",
        "         'max_depth': -1,\n",
        "         'min_data_in_leaf': 11,\n",
        "         'bagging_fraction': 0.80,\n",
        "         'bagging_freq': 1,\n",
        "         'bagging_seed': 3,\n",
        "         'feature_fraction': 0.80,\n",
        "         'feature_fraction_seed': 2,\n",
        "         'early_stopping_round': 200,\n",
        "         'max_bin': 250\n",
        "         }\n",
        "\n",
        "lgbm = lgb.train(params=param, verbose_eval=100, train_set=train_data, valid_sets=[test_data])\n",
        "\n",
        "y_pred_lgbm = lgbm.predict(X_cv)\n",
        "print('RMSE:', sqrt(mean_squared_error(y_cv,y_pred_lgbm)))"
      ],
      "execution_count": null,
      "outputs": [
        {
          "output_type": "stream",
          "text": [
            "Training until validation scores don't improve for 200 rounds.\n",
            "[100]\tvalid_0's rmse: 1.54918\n",
            "[200]\tvalid_0's rmse: 1.49146\n",
            "[300]\tvalid_0's rmse: 1.47422\n",
            "[400]\tvalid_0's rmse: 1.47162\n",
            "[500]\tvalid_0's rmse: 1.4736\n",
            "Early stopping, best iteration is:\n",
            "[359]\tvalid_0's rmse: 1.47017\n",
            "RMSE: 1.4701726524700216\n"
          ],
          "name": "stdout"
        }
      ]
    },
    {
      "cell_type": "code",
      "metadata": {
        "id": "pNHRkv-022Gq",
        "colab_type": "code",
        "colab": {
          "base_uri": "https://localhost:8080/",
          "height": 728
        },
        "outputId": "0b37aca6-8de3-4c2d-ef67-00d96f22518d"
      },
      "source": [
        "import seaborn as sns\n",
        "feature_imp = pd.DataFrame(sorted(zip(lgbm.feature_importance(), X.columns), reverse=True)[:50], \n",
        "                           columns=['Value','Feature'])\n",
        "plt.figure(figsize=(12, 10))\n",
        "sns.barplot(x=\"Value\", y=\"Feature\", data=feature_imp.sort_values(by=\"Value\", ascending=False))\n",
        "plt.title('LightGBM Features')\n",
        "plt.tight_layout()\n",
        "plt.show()"
      ],
      "execution_count": null,
      "outputs": [
        {
          "output_type": "display_data",
          "data": {
            "image/png": "[encoded data removed]",
            "text/plain": [
              "<Figure size 864x720 with 1 Axes>"
            ]
          },
          "metadata": {
            "tags": [],
            "needs_background": "light"
          }
        }
      ]
    },
    {
      "cell_type": "code",
      "metadata": {
        "id": "A4JY3yVX3GBI",
        "colab_type": "code",
        "colab": {
          "base_uri": "https://localhost:8080/",
          "height": 187
        },
        "outputId": "5421529e-2724-4775-d84e-6206eb8d473c"
      },
      "source": [
        "from sklearn.model_selection import KFold\n",
        "from lightgbm import LGBMRegressor\n",
        "\n",
        "errlgb = []\n",
        "y_pred_totlgb = []\n",
        "\n",
        "fold = KFold(n_splits=10, shuffle=True, random_state=2**16)\n",
        "\n",
        "for train_index, test_index in fold.split(X):\n",
        "    X_train, X_test = X.loc[train_index], X.loc[test_index]\n",
        "    y_train, y_test = y[train_index], y[test_index]\n",
        "\n",
        "    #lgbm = LGBMRegressor(**param)\n",
        "    lgbm = LGBMRegressor(boosting_type='gbdt', num_leaves=300, max_depth=31, learning_rate=0.01, n_estimators=5000, min_child_samples=20, subsample=0.90,bagging_fraction=0.9)\n",
        "    lgbm.fit(X_train, y_train, eval_set=[(X_test, y_test)], verbose=0, early_stopping_rounds=200)\n",
        "\n",
        "    y_pred_lgbm = lgbm.predict(X_test)\n",
        "    print(\"RMSLE LGBM: \", sqrt(mean_squared_error(y_test, y_pred_lgbm)))\n",
        "\n",
        "    errlgb.append(sqrt(mean_squared_error(y_test,y_pred_lgbm)))\n",
        "    p = lgbm.predict(Xtest)\n",
        "    y_pred_totlgb.append(p)"
      ],
      "execution_count": null,
      "outputs": [
        {
          "output_type": "stream",
          "text": [
            "RMSLE LGBM:  1.4725269974519963\n",
            "RMSLE LGBM:  1.5392642478832057\n",
            "RMSLE LGBM:  1.6943108539045295\n",
            "RMSLE LGBM:  1.2989077656175263\n",
            "RMSLE LGBM:  1.3324865785316984\n",
            "RMSLE LGBM:  1.5842601593683905\n",
            "RMSLE LGBM:  1.2058034550180694\n",
            "RMSLE LGBM:  1.491162171935709\n",
            "RMSLE LGBM:  1.361154829180662\n",
            "RMSLE LGBM:  1.4125756115121693\n"
          ],
          "name": "stdout"
        }
      ]
    },
    {
      "cell_type": "code",
      "metadata": {
        "id": "TmyK3ogC3OFc",
        "colab_type": "code",
        "colab": {
          "base_uri": "https://localhost:8080/",
          "height": 34
        },
        "outputId": "37d29cfe-8cb1-4b8d-a0b6-2b76d3bf3cfd"
      },
      "source": [
        "np.mean(errlgb,0)"
      ],
      "execution_count": null,
      "outputs": [
        {
          "output_type": "execute_result",
          "data": {
            "text/plain": [
              "1.4392452670403957"
            ]
          },
          "metadata": {
            "tags": []
          },
          "execution_count": 165
        }
      ]
    },
    {
      "cell_type": "code",
      "metadata": {
        "id": "ur0Rh25k4nEa",
        "colab_type": "code",
        "colab": {
          "base_uri": "https://localhost:8080/",
          "height": 51
        },
        "outputId": "6651ffdd-aaa0-4643-8494-879a279f460c"
      },
      "source": [
        "lgbm_final = np.mean(y_pred_totlgb,0)\n",
        "lgbm_final"
      ],
      "execution_count": null,
      "outputs": [
        {
          "output_type": "execute_result",
          "data": {
            "text/plain": [
              "array([1.4785972 , 1.9121914 , 3.59658575, ..., 1.60745902, 1.91328284,\n",
              "       1.55065522])"
            ]
          },
          "metadata": {
            "tags": []
          },
          "execution_count": 166
        }
      ]
    },
    {
      "cell_type": "code",
      "metadata": {
        "colab_type": "code",
        "id": "91_yKTQJEY6o",
        "colab": {
          "base_uri": "https://localhost:8080/",
          "height": 256
        },
        "outputId": "4559802f-f388-4588-a201-feeb608da6cf"
      },
      "source": [
        "submission = pd.DataFrame({\n",
        "        \"SalesInMillions\": lgbm_final\n",
        "    })\n",
        "submission.to_csv('./fibo.csv', index=False)\n",
        "print(submission)"
      ],
      "execution_count": null,
      "outputs": [
        {
          "output_type": "stream",
          "text": [
            "      SalesInMillions\n",
            "0            1.478597\n",
            "1            1.912191\n",
            "2            3.596586\n",
            "3            2.585918\n",
            "4            1.605188\n",
            "...               ...\n",
            "1498         2.375322\n",
            "1499         1.262910\n",
            "1500         1.607459\n",
            "1501         1.913283\n",
            "1502         1.550655\n",
            "\n",
            "[1503 rows x 1 columns]\n"
          ],
          "name": "stdout"
        }
      ]
    },
    {
      "cell_type": "code",
      "metadata": {
        "colab_type": "code",
        "id": "QnTbVC-tEY68",
        "colab": {
          "base_uri": "https://localhost:8080/",
          "height": 17
        },
        "outputId": "84cca1d5-f718-40af-a156-c64255d217ca"
      },
      "source": [
        "from google.colab import files\n",
        "files.download('fibo.csv')"
      ],
      "execution_count": null,
      "outputs": [
        {
          "output_type": "display_data",
          "data": {
            "application/javascript": [
              "\n",
              "    async function download(id, filename, size) {\n",
              "      if (!google.colab.kernel.accessAllowed) {\n",
              "        return;\n",
              "      }\n",
              "      const div = document.createElement('div');\n",
              "      const label = document.createElement('label');\n",
              "      label.textContent = `Downloading \"${filename}\": `;\n",
              "      div.appendChild(label);\n",
              "      const progress = document.createElement('progress');\n",
              "      progress.max = size;\n",
              "      div.appendChild(progress);\n",
              "      document.body.appendChild(div);\n",
              "\n",
              "      const buffers = [];\n",
              "      let downloaded = 0;\n",
              "\n",
              "      const channel = await google.colab.kernel.comms.open(id);\n",
              "      // Send a message to notify the kernel that we're ready.\n",
              "      channel.send({})\n",
              "\n",
              "      for await (const message of channel.messages) {\n",
              "        // Send a message to notify the kernel that we're ready.\n",
              "        channel.send({})\n",
              "        if (message.buffers) {\n",
              "          for (const buffer of message.buffers) {\n",
              "            buffers.push(buffer);\n",
              "            downloaded += buffer.byteLength;\n",
              "            progress.value = downloaded;\n",
              "          }\n",
              "        }\n",
              "      }\n",
              "      const blob = new Blob(buffers, {type: 'application/binary'});\n",
              "      const a = document.createElement('a');\n",
              "      a.href = window.URL.createObjectURL(blob);\n",
              "      a.download = filename;\n",
              "      div.appendChild(a);\n",
              "      a.click();\n",
              "      div.remove();\n",
              "    }\n",
              "  "
            ],
            "text/plain": [
              "<IPython.core.display.Javascript object>"
            ]
          },
          "metadata": {
            "tags": []
          }
        },
        {
          "output_type": "display_data",
          "data": {
            "application/javascript": [
              "download(\"download_f644ceea-c2dd-4277-b14b-09da187f03c1\", \"fibo.csv\", 28040)"
            ],
            "text/plain": [
              "<IPython.core.display.Javascript object>"
            ]
          },
          "metadata": {
            "tags": []
          }
        }
      ]
    },
    {
      "cell_type": "markdown",
      "metadata": {
        "id": "k8EE3APH_i5o",
        "colab_type": "text"
      },
      "source": [
        "#gbm"
      ]
    },
    {
      "cell_type": "code",
      "metadata": {
        "id": "Sgt2Si1B_kiI",
        "colab_type": "code",
        "colab": {
          "base_uri": "https://localhost:8080/",
          "height": 529
        },
        "outputId": "cd74c269-91df-4320-acfe-62d44b6fb400"
      },
      "source": [
        "from sklearn.ensemble import GradientBoostingRegressor\n",
        "gb = GradientBoostingRegressor(verbose=1, learning_rate=0.01, n_estimators=1500, random_state=42, subsample=0.8)\n",
        "gb.fit(X_train, y_train)\n",
        "y_pred = gb.predict(X_cv)\n",
        "print('RMSE', sqrt(mean_squared_error(y_cv, y_pred)))"
      ],
      "execution_count": null,
      "outputs": [
        {
          "output_type": "stream",
          "text": [
            "      Iter       Train Loss      OOB Improve   Remaining Time \n",
            "         1           2.9275           0.0152           17.21s\n",
            "         2           2.9458           0.0163           17.19s\n",
            "         3           3.0154           0.0143           17.04s\n",
            "         4           2.8766           0.0194           17.20s\n",
            "         5           2.9779           0.0092           17.16s\n",
            "         6           2.8765           0.0140           17.10s\n",
            "         7           2.9416           0.0124           17.05s\n",
            "         8           2.8184           0.0128           17.08s\n",
            "         9           2.8545           0.0115           17.06s\n",
            "        10           3.0156           0.0056           17.06s\n",
            "        20           2.7837           0.0132           16.72s\n",
            "        30           2.6396           0.0087           16.48s\n",
            "        40           2.5831           0.0020           16.33s\n",
            "        50           2.5869           0.0042           16.17s\n",
            "        60           2.4547           0.0042           16.06s\n",
            "        70           2.4940           0.0020           16.00s\n",
            "        80           2.2522           0.0023           15.84s\n",
            "        90           2.1871           0.0032           15.67s\n",
            "       100           2.2452          -0.0000           15.59s\n",
            "       200           1.9336           0.0002           14.32s\n",
            "       300           1.7907          -0.0008           13.22s\n",
            "       400           1.7251          -0.0003           12.07s\n",
            "       500           1.6647          -0.0000           10.94s\n",
            "       600           1.6602          -0.0000            9.86s\n",
            "       700           1.5236          -0.0001            8.78s\n",
            "       800           1.4661          -0.0001            7.67s\n",
            "       900           1.5829          -0.0005            6.56s\n",
            "      1000           1.4513          -0.0000            5.46s\n",
            "RMSE 1.224779761690995\n"
          ],
          "name": "stdout"
        }
      ]
    },
    {
      "cell_type": "code",
      "metadata": {
        "id": "tAokRTg7_kna",
        "colab_type": "code",
        "colab": {
          "base_uri": "https://localhost:8080/",
          "height": 728
        },
        "outputId": "c77b8510-eaba-4115-988e-b6e45b906561"
      },
      "source": [
        "feature_imp = pd.DataFrame(sorted(zip(gb.feature_importances_, X.columns), reverse=True)[:60], columns=['Value','Feature'])\n",
        "plt.figure(figsize=(12,10))\n",
        "sns.barplot(x=\"Value\", y=\"Feature\", data=feature_imp.sort_values(by=\"Value\", ascending=False))\n",
        "plt.title('Gradient Boosting Features')\n",
        "plt.tight_layout()\n",
        "plt.show()"
      ],
      "execution_count": null,
      "outputs": [
        {
          "output_type": "display_data",
          "data": {
            "image/png": "[encoded data removed]",
            "text/plain": [
              "<Figure size 864x720 with 1 Axes>"
            ]
          },
          "metadata": {
            "tags": [],
            "needs_background": "light"
          }
        }
      ]
    },
    {
      "cell_type": "code",
      "metadata": {
        "id": "KOnve8QM_kq4",
        "colab_type": "code",
        "colab": {
          "base_uri": "https://localhost:8080/",
          "height": 187
        },
        "outputId": "755da9d9-32c5-48d3-d6dc-20853a9cab78"
      },
      "source": [
        "from sklearn.model_selection import KFold\n",
        "\n",
        "errgb = []\n",
        "y_pred_totgb = []\n",
        "\n",
        "fold = KFold(n_splits=10, shuffle=True, random_state=101)\n",
        "\n",
        "for train_index, test_index in fold.split(X):\n",
        "    X_train, X_test = X.loc[train_index], X.loc[test_index]\n",
        "    y_train, y_test = y[train_index], y[test_index]\n",
        "             \n",
        "    gb = GradientBoostingRegressor(learning_rate=0.01, n_estimators=100, random_state=101, subsample=0.8)\n",
        "    gb.fit(X_train, y_train)\n",
        "    y_pred = gb.predict(X_test)\n",
        "\n",
        "    print('RMSE', sqrt(mean_squared_error(y_test, y_pred)))\n",
        "\n",
        "    errgb.append(sqrt(mean_squared_error(y_test, y_pred)))\n",
        "    p = gb.predict(Xtest)\n",
        "    y_pred_totgb.append(p)"
      ],
      "execution_count": null,
      "outputs": [
        {
          "output_type": "stream",
          "text": [
            "RMSE 1.7885479376481555\n",
            "RMSE 1.3399578310711977\n",
            "RMSE 1.5565249143613944\n",
            "RMSE 1.5512651878947845\n",
            "RMSE 1.4593031709830864\n",
            "RMSE 1.6746622293771787\n",
            "RMSE 1.5022912975059826\n",
            "RMSE 1.4501531909462355\n",
            "RMSE 1.434848676473714\n",
            "RMSE 1.4436400167369772\n"
          ],
          "name": "stdout"
        }
      ]
    },
    {
      "cell_type": "code",
      "metadata": {
        "id": "6v4TL1YaA3mT",
        "colab_type": "code",
        "colab": {
          "base_uri": "https://localhost:8080/",
          "height": 34
        },
        "outputId": "87e49cc4-4a72-443b-a1e1-e357456d61ee"
      },
      "source": [
        "np.mean(errgb)"
      ],
      "execution_count": null,
      "outputs": [
        {
          "output_type": "execute_result",
          "data": {
            "text/plain": [
              "1.5201194452998705"
            ]
          },
          "metadata": {
            "tags": []
          },
          "execution_count": 174
        }
      ]
    },
    {
      "cell_type": "code",
      "metadata": {
        "id": "WOEex-PWA3qP",
        "colab_type": "code",
        "colab": {
          "base_uri": "https://localhost:8080/",
          "height": 51
        },
        "outputId": "cc746820-8ef0-4042-f806-c020ef3adf5b"
      },
      "source": [
        "final = np.mean(y_pred_totgb,0)\n",
        "final"
      ],
      "execution_count": null,
      "outputs": [
        {
          "output_type": "execute_result",
          "data": {
            "text/plain": [
              "array([1.91516922, 2.03414431, 2.3217131 , ..., 1.88070381, 1.96188674,\n",
              "       2.07952741])"
            ]
          },
          "metadata": {
            "tags": []
          },
          "execution_count": 175
        }
      ]
    },
    {
      "cell_type": "code",
      "metadata": {
        "id": "J1mHh5w5_kmQ",
        "colab_type": "code",
        "colab": {
          "base_uri": "https://localhost:8080/",
          "height": 256
        },
        "outputId": "1fdd0dd3-8198-45ca-d24d-1a3084bab3dc"
      },
      "source": [
        "submission = pd.DataFrame({\n",
        "        \"SalesInMillions\": final\n",
        "    })\n",
        "submission.to_csv('./gbmm.csv', index=False)\n",
        "print(submission)"
      ],
      "execution_count": null,
      "outputs": [
        {
          "output_type": "stream",
          "text": [
            "      SalesInMillions\n",
            "0            1.915169\n",
            "1            2.034144\n",
            "2            2.321713\n",
            "3            1.964013\n",
            "4            1.903854\n",
            "...               ...\n",
            "1498         2.040030\n",
            "1499         1.882838\n",
            "1500         1.880704\n",
            "1501         1.961887\n",
            "1502         2.079527\n",
            "\n",
            "[1503 rows x 1 columns]\n"
          ],
          "name": "stdout"
        }
      ]
    },
    {
      "cell_type": "code",
      "metadata": {
        "id": "pieFTX8x_kgA",
        "colab_type": "code",
        "colab": {
          "base_uri": "https://localhost:8080/",
          "height": 17
        },
        "outputId": "54a09100-0dad-41f4-e653-2659913e13c5"
      },
      "source": [
        "from google.colab import files\n",
        "files.download('gbmm.csv')"
      ],
      "execution_count": null,
      "outputs": [
        {
          "output_type": "display_data",
          "data": {
            "application/javascript": [
              "\n",
              "    async function download(id, filename, size) {\n",
              "      if (!google.colab.kernel.accessAllowed) {\n",
              "        return;\n",
              "      }\n",
              "      const div = document.createElement('div');\n",
              "      const label = document.createElement('label');\n",
              "      label.textContent = `Downloading \"${filename}\": `;\n",
              "      div.appendChild(label);\n",
              "      const progress = document.createElement('progress');\n",
              "      progress.max = size;\n",
              "      div.appendChild(progress);\n",
              "      document.body.appendChild(div);\n",
              "\n",
              "      const buffers = [];\n",
              "      let downloaded = 0;\n",
              "\n",
              "      const channel = await google.colab.kernel.comms.open(id);\n",
              "      // Send a message to notify the kernel that we're ready.\n",
              "      channel.send({})\n",
              "\n",
              "      for await (const message of channel.messages) {\n",
              "        // Send a message to notify the kernel that we're ready.\n",
              "        channel.send({})\n",
              "        if (message.buffers) {\n",
              "          for (const buffer of message.buffers) {\n",
              "            buffers.push(buffer);\n",
              "            downloaded += buffer.byteLength;\n",
              "            progress.value = downloaded;\n",
              "          }\n",
              "        }\n",
              "      }\n",
              "      const blob = new Blob(buffers, {type: 'application/binary'});\n",
              "      const a = document.createElement('a');\n",
              "      a.href = window.URL.createObjectURL(blob);\n",
              "      a.download = filename;\n",
              "      div.appendChild(a);\n",
              "      a.click();\n",
              "      div.remove();\n",
              "    }\n",
              "  "
            ],
            "text/plain": [
              "<IPython.core.display.Javascript object>"
            ]
          },
          "metadata": {
            "tags": []
          }
        },
        {
          "output_type": "display_data",
          "data": {
            "application/javascript": [
              "download(\"download_cab92083-45b5-490c-a34d-fd2a000b8ddd\", \"gbmm.csv\", 27982)"
            ],
            "text/plain": [
              "<IPython.core.display.Javascript object>"
            ]
          },
          "metadata": {
            "tags": []
          }
        }
      ]
    },
    {
      "cell_type": "code",
      "metadata": {
        "id": "EE-3ZSCkKRDt",
        "colab_type": "code",
        "colab": {
          "base_uri": "https://localhost:8080/",
          "height": 256
        },
        "outputId": "6db38b3f-bd20-4a30-fc55-cc8a81310bd7"
      },
      "source": [
        "!pip install catboost"
      ],
      "execution_count": null,
      "outputs": [
        {
          "output_type": "stream",
          "text": [
            "Requirement already satisfied: catboost in /usr/local/lib/python3.6/dist-packages (0.23.2)\n",
            "Requirement already satisfied: pandas>=0.24.0 in /usr/local/lib/python3.6/dist-packages (from catboost) (1.0.5)\n",
            "Requirement already satisfied: numpy>=1.16.0 in /usr/local/lib/python3.6/dist-packages (from catboost) (1.18.5)\n",
            "Requirement already satisfied: plotly in /usr/local/lib/python3.6/dist-packages (from catboost) (4.4.1)\n",
            "Requirement already satisfied: matplotlib in /usr/local/lib/python3.6/dist-packages (from catboost) (3.2.2)\n",
            "Requirement already satisfied: graphviz in /usr/local/lib/python3.6/dist-packages (from catboost) (0.10.1)\n",
            "Requirement already satisfied: six in /usr/local/lib/python3.6/dist-packages (from catboost) (1.12.0)\n",
            "Requirement already satisfied: scipy in /usr/local/lib/python3.6/dist-packages (from catboost) (1.4.1)\n",
            "Requirement already satisfied: pytz>=2017.2 in /usr/local/lib/python3.6/dist-packages (from pandas>=0.24.0->catboost) (2018.9)\n",
            "Requirement already satisfied: python-dateutil>=2.6.1 in /usr/local/lib/python3.6/dist-packages (from pandas>=0.24.0->catboost) (2.8.1)\n",
            "Requirement already satisfied: retrying>=1.3.3 in /usr/local/lib/python3.6/dist-packages (from plotly->catboost) (1.3.3)\n",
            "Requirement already satisfied: kiwisolver>=1.0.1 in /usr/local/lib/python3.6/dist-packages (from matplotlib->catboost) (1.2.0)\n",
            "Requirement already satisfied: pyparsing!=2.0.4,!=2.1.2,!=2.1.6,>=2.0.1 in /usr/local/lib/python3.6/dist-packages (from matplotlib->catboost) (2.4.7)\n",
            "Requirement already satisfied: cycler>=0.10 in /usr/local/lib/python3.6/dist-packages (from matplotlib->catboost) (0.10.0)\n"
          ],
          "name": "stdout"
        }
      ]
    },
    {
      "cell_type": "code",
      "metadata": {
        "id": "P45Al5ewKO4_",
        "colab_type": "code",
        "colab": {}
      },
      "source": [
        "from xgboost import XGBRegressor\n",
        "from lightgbm import LGBMRegressor\n",
        "from catboost import CatBoostRegressor"
      ],
      "execution_count": null,
      "outputs": []
    },
    {
      "cell_type": "code",
      "metadata": {
        "id": "qOTPTDWACGbe",
        "colab_type": "code",
        "colab": {
          "base_uri": "https://localhost:8080/",
          "height": 529
        },
        "outputId": "83cc19dd-3a60-4cf0-c4fc-433be4b54d79"
      },
      "source": [
        "from sklearn.model_selection import KFold\n",
        "\n",
        "errgb = []\n",
        "y_pred_totgb = []\n",
        "\n",
        "fold = KFold(n_splits=10, shuffle=True, random_state=101)\n",
        "\n",
        "for train_index, test_index in fold.split(X):\n",
        "    X_train, X_test = X.loc[train_index], X.loc[test_index]\n",
        "    y_train, y_test = y[train_index], y[test_index]\n",
        "             \n",
        "    gb = CatBoostRegressor(n_estimators=200, learning_rate=0.01, max_depth=9, rsm=0.5, verbose=500)\n",
        "    gb.fit(X_train, y_train)\n",
        "    y_pred = gb.predict(X_test)\n",
        "\n",
        "    print('RMSE', sqrt(mean_squared_error(y_test, y_pred)))\n",
        "\n",
        "    errgb.append(sqrt(mean_squared_error(y_test, y_pred)))\n",
        "    p = gb.predict(Xtest)\n",
        "    y_pred_totgb.append(p)"
      ],
      "execution_count": null,
      "outputs": [
        {
          "output_type": "stream",
          "text": [
            "0:\tlearn: 1.6683260\ttotal: 8.69ms\tremaining: 1.73s\n",
            "199:\tlearn: 1.3614515\ttotal: 1.58s\tremaining: 0us\n",
            "RMSE 1.7094533556126421\n",
            "0:\tlearn: 1.7291265\ttotal: 8.83ms\tremaining: 1.76s\n",
            "199:\tlearn: 1.3936995\ttotal: 1.54s\tremaining: 0us\n",
            "RMSE 1.321476997912388\n",
            "0:\tlearn: 1.7179390\ttotal: 7.61ms\tremaining: 1.51s\n",
            "199:\tlearn: 1.3744962\ttotal: 1.5s\tremaining: 0us\n",
            "RMSE 1.506783686950558\n",
            "0:\tlearn: 1.6928354\ttotal: 3.49ms\tremaining: 695ms\n",
            "199:\tlearn: 1.3825780\ttotal: 1.49s\tremaining: 0us\n",
            "RMSE 1.499842502713842\n",
            "0:\tlearn: 1.7160794\ttotal: 8.06ms\tremaining: 1.6s\n",
            "199:\tlearn: 1.3911861\ttotal: 1.54s\tremaining: 0us\n",
            "RMSE 1.4056239867129714\n",
            "0:\tlearn: 1.6857235\ttotal: 8.7ms\tremaining: 1.73s\n",
            "199:\tlearn: 1.3572795\ttotal: 1.49s\tremaining: 0us\n",
            "RMSE 1.6265677810927734\n",
            "0:\tlearn: 1.7132256\ttotal: 8.72ms\tremaining: 1.74s\n",
            "199:\tlearn: 1.3870138\ttotal: 1.53s\tremaining: 0us\n",
            "RMSE 1.4129895675532476\n",
            "0:\tlearn: 1.7289803\ttotal: 7.52ms\tremaining: 1.5s\n",
            "199:\tlearn: 1.3849865\ttotal: 1.53s\tremaining: 0us\n",
            "RMSE 1.4176615907560643\n",
            "0:\tlearn: 1.7201789\ttotal: 8.72ms\tremaining: 1.73s\n",
            "199:\tlearn: 1.3898132\ttotal: 1.5s\tremaining: 0us\n",
            "RMSE 1.3897094559874759\n",
            "0:\tlearn: 1.7257783\ttotal: 8.74ms\tremaining: 1.74s\n",
            "199:\tlearn: 1.3776794\ttotal: 1.53s\tremaining: 0us\n",
            "RMSE 1.4254254285443428\n"
          ],
          "name": "stdout"
        }
      ]
    },
    {
      "cell_type": "code",
      "metadata": {
        "colab_type": "code",
        "id": "GP9qxLuZNhZW",
        "colab": {
          "base_uri": "https://localhost:8080/",
          "height": 34
        },
        "outputId": "a63613d0-75ba-4884-9dc5-209dda2b1fd8"
      },
      "source": [
        "np.mean(errgb)"
      ],
      "execution_count": null,
      "outputs": [
        {
          "output_type": "execute_result",
          "data": {
            "text/plain": [
              "1.4715534353836304"
            ]
          },
          "metadata": {
            "tags": []
          },
          "execution_count": 181
        }
      ]
    },
    {
      "cell_type": "code",
      "metadata": {
        "colab_type": "code",
        "id": "kj6ODtO9NhZs",
        "colab": {
          "base_uri": "https://localhost:8080/",
          "height": 51
        },
        "outputId": "fff0836d-720c-4308-9d9d-bf35af248963"
      },
      "source": [
        "final = np.mean(y_pred_totgb,0)\n",
        "final"
      ],
      "execution_count": null,
      "outputs": [
        {
          "output_type": "execute_result",
          "data": {
            "text/plain": [
              "array([1.82666319, 1.94696054, 2.33693674, ..., 1.87022504, 1.94222032,\n",
              "       1.98072951])"
            ]
          },
          "metadata": {
            "tags": []
          },
          "execution_count": 182
        }
      ]
    },
    {
      "cell_type": "code",
      "metadata": {
        "colab_type": "code",
        "id": "wrYcRF3sNhZ2",
        "colab": {
          "base_uri": "https://localhost:8080/",
          "height": 256
        },
        "outputId": "2eb6367b-8b6a-4130-9cc8-133da9e4c3a5"
      },
      "source": [
        "submission = pd.DataFrame({\n",
        "        \"SalesInMillions\": final\n",
        "    })\n",
        "submission.to_csv('./cat_time.csv', index=False)\n",
        "print(submission)"
      ],
      "execution_count": null,
      "outputs": [
        {
          "output_type": "stream",
          "text": [
            "      SalesInMillions\n",
            "0            1.826663\n",
            "1            1.946961\n",
            "2            2.336937\n",
            "3            1.976426\n",
            "4            1.908658\n",
            "...               ...\n",
            "1498         2.007605\n",
            "1499         1.838801\n",
            "1500         1.870225\n",
            "1501         1.942220\n",
            "1502         1.980730\n",
            "\n",
            "[1503 rows x 1 columns]\n"
          ],
          "name": "stdout"
        }
      ]
    },
    {
      "cell_type": "code",
      "metadata": {
        "colab_type": "code",
        "id": "T1pX8gv4NhaF",
        "colab": {
          "base_uri": "https://localhost:8080/",
          "height": 17
        },
        "outputId": "25bd419e-b6c6-4ca1-b60f-b99c0aa65bf0"
      },
      "source": [
        "from google.colab import files\n",
        "files.download('cat_time.csv')"
      ],
      "execution_count": null,
      "outputs": [
        {
          "output_type": "display_data",
          "data": {
            "application/javascript": [
              "\n",
              "    async function download(id, filename, size) {\n",
              "      if (!google.colab.kernel.accessAllowed) {\n",
              "        return;\n",
              "      }\n",
              "      const div = document.createElement('div');\n",
              "      const label = document.createElement('label');\n",
              "      label.textContent = `Downloading \"${filename}\": `;\n",
              "      div.appendChild(label);\n",
              "      const progress = document.createElement('progress');\n",
              "      progress.max = size;\n",
              "      div.appendChild(progress);\n",
              "      document.body.appendChild(div);\n",
              "\n",
              "      const buffers = [];\n",
              "      let downloaded = 0;\n",
              "\n",
              "      const channel = await google.colab.kernel.comms.open(id);\n",
              "      // Send a message to notify the kernel that we're ready.\n",
              "      channel.send({})\n",
              "\n",
              "      for await (const message of channel.messages) {\n",
              "        // Send a message to notify the kernel that we're ready.\n",
              "        channel.send({})\n",
              "        if (message.buffers) {\n",
              "          for (const buffer of message.buffers) {\n",
              "            buffers.push(buffer);\n",
              "            downloaded += buffer.byteLength;\n",
              "            progress.value = downloaded;\n",
              "          }\n",
              "        }\n",
              "      }\n",
              "      const blob = new Blob(buffers, {type: 'application/binary'});\n",
              "      const a = document.createElement('a');\n",
              "      a.href = window.URL.createObjectURL(blob);\n",
              "      a.download = filename;\n",
              "      div.appendChild(a);\n",
              "      a.click();\n",
              "      div.remove();\n",
              "    }\n",
              "  "
            ],
            "text/plain": [
              "<IPython.core.display.Javascript object>"
            ]
          },
          "metadata": {
            "tags": []
          }
        },
        {
          "output_type": "display_data",
          "data": {
            "application/javascript": [
              "download(\"download_cf322922-aa16-4779-a7d4-e1e82baca858\", \"cat_time.csv\", 28046)"
            ],
            "text/plain": [
              "<IPython.core.display.Javascript object>"
            ]
          },
          "metadata": {
            "tags": []
          }
        }
      ]
    },
    {
      "cell_type": "code",
      "metadata": {
        "id": "h3piktb-clBS",
        "colab_type": "code",
        "colab": {
          "base_uri": "https://localhost:8080/",
          "height": 358
        },
        "outputId": "0b1e4f26-6e89-4276-ac31-0987452b6044"
      },
      "source": [
        "from sklearn.model_selection import KFold\n",
        "\n",
        "errgb = []\n",
        "y_pred_totgb = []\n",
        "\n",
        "fold = KFold(n_splits=4, shuffle=True, random_state=101)\n",
        "\n",
        "for train_index, test_index in fold.split(X):\n",
        "    X_train, X_test = X.loc[train_index], X.loc[test_index]\n",
        "    y_train, y_test = y[train_index], y[test_index]\n",
        "             \n",
        "    gb = XGBRegressor(n_estimators=20, learning_rate=0.1, max_depth=9, verbose=100,reg='squarederror')\n",
        "    gb.fit(X_train, y_train,eval_set=[(X_test, y_test)],eval_metric='rmse', early_stopping_rounds=200,verbose=400)\n",
        "    y_pred = gb.predict(X_test)\n",
        "\n",
        "    print('RMSE', sqrt(mean_squared_error(y_test, y_pred)))\n",
        "\n",
        "    errgb.append(sqrt(mean_squared_error(y_test, y_pred)))\n",
        "    p = gb.predict(Xtest)\n",
        "    y_pred_totgb.append(p)"
      ],
      "execution_count": null,
      "outputs": [
        {
          "output_type": "stream",
          "text": [
            "[14:17:36] WARNING: /workspace/src/objective/regression_obj.cu:152: reg:linear is now deprecated in favor of reg:squarederror.\n",
            "[0]\tvalidation_0-rmse:2.56999\n",
            "Will train until validation_0-rmse hasn't improved in 200 rounds.\n",
            "[19]\tvalidation_0-rmse:1.80636\n",
            "RMSE 1.8063595741892748\n",
            "[14:17:47] WARNING: /workspace/src/objective/regression_obj.cu:152: reg:linear is now deprecated in favor of reg:squarederror.\n",
            "[0]\tvalidation_0-rmse:2.69348\n",
            "Will train until validation_0-rmse hasn't improved in 200 rounds.\n",
            "[19]\tvalidation_0-rmse:2.02931\n",
            "RMSE 2.0293091070396456\n",
            "[14:17:58] WARNING: /workspace/src/objective/regression_obj.cu:152: reg:linear is now deprecated in favor of reg:squarederror.\n",
            "[0]\tvalidation_0-rmse:2.35126\n",
            "Will train until validation_0-rmse hasn't improved in 200 rounds.\n",
            "[19]\tvalidation_0-rmse:1.67589\n",
            "RMSE 1.675893865416518\n",
            "[14:18:10] WARNING: /workspace/src/objective/regression_obj.cu:152: reg:linear is now deprecated in favor of reg:squarederror.\n",
            "[0]\tvalidation_0-rmse:2.44845\n",
            "Will train until validation_0-rmse hasn't improved in 200 rounds.\n",
            "[19]\tvalidation_0-rmse:1.79845\n",
            "RMSE 1.7984536059400935\n"
          ],
          "name": "stdout"
        }
      ]
    },
    {
      "cell_type": "code",
      "metadata": {
        "id": "GaGdf6kDTWOO",
        "colab_type": "code",
        "colab": {
          "base_uri": "https://localhost:8080/",
          "height": 34
        },
        "outputId": "8eede84b-792e-4a5f-d2ba-5c48b7f2e77f"
      },
      "source": [
        "\n",
        "bins=np.linspace(0, 1, 50) \n",
        "y_bin = np.digitize(y,bins)\n",
        "y_bin"
      ],
      "execution_count": null,
      "outputs": [
        {
          "output_type": "execute_result",
          "data": {
            "text/plain": [
              "array([50, 11, 27, ..., 50, 50, 50])"
            ]
          },
          "metadata": {
            "tags": []
          },
          "execution_count": 185
        }
      ]
    },
    {
      "cell_type": "code",
      "metadata": {
        "id": "CZYdHpaWiBpw",
        "colab_type": "code",
        "colab": {
          "base_uri": "https://localhost:8080/",
          "height": 1000
        },
        "outputId": "7b923209-455e-441b-a937-74d56d26d4a7"
      },
      "source": [
        "from sklearn.model_selection import KFold,StratifiedKFold\n",
        "\n",
        "errgb = []\n",
        "y_pred_totgb = []\n",
        "\n",
        "fold=StratifiedKFold(n_splits=15,shuffle=True,random_state=1994)\n",
        "\n",
        "for train_index, test_index in fold.split(X,y_bin):\n",
        "    X_train, X_test = X.loc[train_index], X.loc[test_index]\n",
        "    y_train, y_test = y[train_index], y[test_index]\n",
        "    gb=LGBMRegressor(n_estimators=10000,random_state=1994,learning_rate=0.01,num_leaves=50,boosting_type='gbdt',feature_fraction=0.6,\n",
        "                objective='regression',min_child_samples=12)\n",
        "    gb.fit(X_train, y_train,eval_set=[(X_test, y_test)],eval_metric='rmse', early_stopping_rounds=200,verbose=400)\n",
        "    y_pred = gb.predict(X_test)\n",
        "\n",
        "    print('RMSE', sqrt(mean_squared_error(y_test, y_pred)))\n",
        "\n",
        "    errgb.append(sqrt(mean_squared_error(y_test, y_pred)))\n",
        "    p = gb.predict(Xtest)\n",
        "    y_pred_totgb.append(p)"
      ],
      "execution_count": null,
      "outputs": [
        {
          "output_type": "stream",
          "text": [
            "Training until validation scores don't improve for 200 rounds.\n",
            "Early stopping, best iteration is:\n",
            "[159]\tvalid_0's l2: 1.75674\tvalid_0's rmse: 1.32542\n",
            "RMSE 1.3254193900158975\n",
            "Training until validation scores don't improve for 200 rounds.\n",
            "[400]\tvalid_0's l2: 2.08013\tvalid_0's rmse: 1.44227\n",
            "[800]\tvalid_0's l2: 2.02028\tvalid_0's rmse: 1.42137\n",
            "Early stopping, best iteration is:\n",
            "[679]\tvalid_0's l2: 2.01033\tvalid_0's rmse: 1.41786\n",
            "RMSE 1.4178605298294515\n",
            "Training until validation scores don't improve for 200 rounds.\n",
            "[400]\tvalid_0's l2: 1.80766\tvalid_0's rmse: 1.34449\n",
            "Early stopping, best iteration is:\n",
            "[509]\tvalid_0's l2: 1.77722\tvalid_0's rmse: 1.33312\n",
            "RMSE 1.3331248815638281\n",
            "Training until validation scores don't improve for 200 rounds.\n",
            "[400]\tvalid_0's l2: 1.89214\tvalid_0's rmse: 1.37555\n",
            "Early stopping, best iteration is:\n",
            "[590]\tvalid_0's l2: 1.86221\tvalid_0's rmse: 1.36463\n",
            "RMSE 1.3646297809348464\n",
            "Training until validation scores don't improve for 200 rounds.\n",
            "[400]\tvalid_0's l2: 1.56518\tvalid_0's rmse: 1.25107\n",
            "Early stopping, best iteration is:\n",
            "[514]\tvalid_0's l2: 1.54504\tvalid_0's rmse: 1.24299\n",
            "RMSE 1.2429948214914208\n",
            "Training until validation scores don't improve for 200 rounds.\n",
            "[400]\tvalid_0's l2: 1.86071\tvalid_0's rmse: 1.36408\n",
            "Early stopping, best iteration is:\n",
            "[586]\tvalid_0's l2: 1.83195\tvalid_0's rmse: 1.35349\n",
            "RMSE 1.3534946636824607\n",
            "Training until validation scores don't improve for 200 rounds.\n",
            "[400]\tvalid_0's l2: 1.73263\tvalid_0's rmse: 1.31629\n",
            "Early stopping, best iteration is:\n",
            "[217]\tvalid_0's l2: 1.67264\tvalid_0's rmse: 1.29331\n",
            "RMSE 1.2933051536508302\n",
            "Training until validation scores don't improve for 200 rounds.\n",
            "[400]\tvalid_0's l2: 2.18999\tvalid_0's rmse: 1.47986\n",
            "[800]\tvalid_0's l2: 2.11581\tvalid_0's rmse: 1.45458\n",
            "[1200]\tvalid_0's l2: 2.10253\tvalid_0's rmse: 1.45001\n",
            "Early stopping, best iteration is:\n",
            "[1304]\tvalid_0's l2: 2.09674\tvalid_0's rmse: 1.44801\n",
            "RMSE 1.4480115394072093\n",
            "Training until validation scores don't improve for 200 rounds.\n",
            "[400]\tvalid_0's l2: 2.75749\tvalid_0's rmse: 1.66057\n",
            "[800]\tvalid_0's l2: 2.66956\tvalid_0's rmse: 1.63388\n",
            "[1200]\tvalid_0's l2: 2.6578\tvalid_0's rmse: 1.63028\n",
            "Early stopping, best iteration is:\n",
            "[1022]\tvalid_0's l2: 2.65122\tvalid_0's rmse: 1.62826\n",
            "RMSE 1.6282570615999916\n",
            "Training until validation scores don't improve for 200 rounds.\n",
            "[400]\tvalid_0's l2: 1.65051\tvalid_0's rmse: 1.28472\n",
            "Early stopping, best iteration is:\n",
            "[341]\tvalid_0's l2: 1.64174\tvalid_0's rmse: 1.2813\n",
            "RMSE 1.2813025626809378\n",
            "Training until validation scores don't improve for 200 rounds.\n",
            "[400]\tvalid_0's l2: 2.35491\tvalid_0's rmse: 1.53457\n",
            "[800]\tvalid_0's l2: 2.34678\tvalid_0's rmse: 1.53192\n",
            "Early stopping, best iteration is:\n",
            "[627]\tvalid_0's l2: 2.33446\tvalid_0's rmse: 1.52789\n",
            "RMSE 1.5278949892594518\n",
            "Training until validation scores don't improve for 200 rounds.\n",
            "[400]\tvalid_0's l2: 1.69352\tvalid_0's rmse: 1.30135\n",
            "Early stopping, best iteration is:\n",
            "[294]\tvalid_0's l2: 1.67304\tvalid_0's rmse: 1.29346\n",
            "RMSE 1.2934611784859322\n",
            "Training until validation scores don't improve for 200 rounds.\n",
            "[400]\tvalid_0's l2: 2.17914\tvalid_0's rmse: 1.47619\n",
            "[800]\tvalid_0's l2: 2.15958\tvalid_0's rmse: 1.46955\n",
            "Early stopping, best iteration is:\n",
            "[709]\tvalid_0's l2: 2.15088\tvalid_0's rmse: 1.46659\n",
            "RMSE 1.466588165504394\n",
            "Training until validation scores don't improve for 200 rounds.\n",
            "[400]\tvalid_0's l2: 1.78232\tvalid_0's rmse: 1.33504\n",
            "[800]\tvalid_0's l2: 1.66813\tvalid_0's rmse: 1.29156\n",
            "[1200]\tvalid_0's l2: 1.65658\tvalid_0's rmse: 1.28708\n",
            "Early stopping, best iteration is:\n",
            "[1161]\tvalid_0's l2: 1.65351\tvalid_0's rmse: 1.28589\n",
            "RMSE 1.285888120148956\n",
            "Training until validation scores don't improve for 200 rounds.\n",
            "[400]\tvalid_0's l2: 2.0956\tvalid_0's rmse: 1.44762\n",
            "Early stopping, best iteration is:\n",
            "[336]\tvalid_0's l2: 2.09228\tvalid_0's rmse: 1.44647\n",
            "RMSE 1.4464701187530693\n"
          ],
          "name": "stdout"
        }
      ]
    },
    {
      "cell_type": "code",
      "metadata": {
        "colab_type": "code",
        "id": "1vSV4yH2kfMj",
        "colab": {
          "base_uri": "https://localhost:8080/",
          "height": 34
        },
        "outputId": "b9652782-8eb3-4bd2-b0ba-b495afba3a98"
      },
      "source": [
        "np.mean(errgb)"
      ],
      "execution_count": null,
      "outputs": [
        {
          "output_type": "execute_result",
          "data": {
            "text/plain": [
              "1.380580197133912"
            ]
          },
          "metadata": {
            "tags": []
          },
          "execution_count": 188
        }
      ]
    },
    {
      "cell_type": "code",
      "metadata": {
        "colab_type": "code",
        "id": "f0CBRGf7kfNE",
        "colab": {
          "base_uri": "https://localhost:8080/",
          "height": 51
        },
        "outputId": "f6694df4-ae2d-4401-93c1-d804642ae6c6"
      },
      "source": [
        "final = np.mean(y_pred_totgb,0)\n",
        "final"
      ],
      "execution_count": null,
      "outputs": [
        {
          "output_type": "execute_result",
          "data": {
            "text/plain": [
              "array([1.68763922, 2.18527548, 3.3222205 , ..., 1.64110008, 1.85474095,\n",
              "       1.58691066])"
            ]
          },
          "metadata": {
            "tags": []
          },
          "execution_count": 189
        }
      ]
    },
    {
      "cell_type": "code",
      "metadata": {
        "colab_type": "code",
        "id": "JHBllZPTkfNQ",
        "colab": {
          "base_uri": "https://localhost:8080/",
          "height": 256
        },
        "outputId": "91b02220-7469-4b48-9cdc-7920ce4d5d50"
      },
      "source": [
        "submission = pd.DataFrame({\n",
        "        \"SalesInMillions\": final\n",
        "    })\n",
        "submission.to_csv('./lg_bin.csv', index=False)\n",
        "print(submission)"
      ],
      "execution_count": null,
      "outputs": [
        {
          "output_type": "stream",
          "text": [
            "      SalesInMillions\n",
            "0            1.687639\n",
            "1            2.185275\n",
            "2            3.322221\n",
            "3            2.156173\n",
            "4            1.649133\n",
            "...               ...\n",
            "1498         2.283770\n",
            "1499         1.352600\n",
            "1500         1.641100\n",
            "1501         1.854741\n",
            "1502         1.586911\n",
            "\n",
            "[1503 rows x 1 columns]\n"
          ],
          "name": "stdout"
        }
      ]
    },
    {
      "cell_type": "code",
      "metadata": {
        "colab_type": "code",
        "id": "eLa4xly5kfNe",
        "colab": {
          "base_uri": "https://localhost:8080/",
          "height": 17
        },
        "outputId": "9e33b020-1c17-4262-aab0-6459d1aea37b"
      },
      "source": [
        "from google.colab import files\n",
        "files.download('lg_bin.csv')"
      ],
      "execution_count": null,
      "outputs": [
        {
          "output_type": "display_data",
          "data": {
            "application/javascript": [
              "\n",
              "    async function download(id, filename, size) {\n",
              "      if (!google.colab.kernel.accessAllowed) {\n",
              "        return;\n",
              "      }\n",
              "      const div = document.createElement('div');\n",
              "      const label = document.createElement('label');\n",
              "      label.textContent = `Downloading \"${filename}\": `;\n",
              "      div.appendChild(label);\n",
              "      const progress = document.createElement('progress');\n",
              "      progress.max = size;\n",
              "      div.appendChild(progress);\n",
              "      document.body.appendChild(div);\n",
              "\n",
              "      const buffers = [];\n",
              "      let downloaded = 0;\n",
              "\n",
              "      const channel = await google.colab.kernel.comms.open(id);\n",
              "      // Send a message to notify the kernel that we're ready.\n",
              "      channel.send({})\n",
              "\n",
              "      for await (const message of channel.messages) {\n",
              "        // Send a message to notify the kernel that we're ready.\n",
              "        channel.send({})\n",
              "        if (message.buffers) {\n",
              "          for (const buffer of message.buffers) {\n",
              "            buffers.push(buffer);\n",
              "            downloaded += buffer.byteLength;\n",
              "            progress.value = downloaded;\n",
              "          }\n",
              "        }\n",
              "      }\n",
              "      const blob = new Blob(buffers, {type: 'application/binary'});\n",
              "      const a = document.createElement('a');\n",
              "      a.href = window.URL.createObjectURL(blob);\n",
              "      a.download = filename;\n",
              "      div.appendChild(a);\n",
              "      a.click();\n",
              "      div.remove();\n",
              "    }\n",
              "  "
            ],
            "text/plain": [
              "<IPython.core.display.Javascript object>"
            ]
          },
          "metadata": {
            "tags": []
          }
        },
        {
          "output_type": "display_data",
          "data": {
            "application/javascript": [
              "download(\"download_f9debf0a-e1be-4387-8492-7c730a1c971e\", \"lg_bin.csv\", 28006)"
            ],
            "text/plain": [
              "<IPython.core.display.Javascript object>"
            ]
          },
          "metadata": {
            "tags": []
          }
        }
      ]
    },
    {
      "cell_type": "code",
      "metadata": {
        "id": "Atya8wtRVDBn",
        "colab_type": "code",
        "colab": {
          "base_uri": "https://localhost:8080/",
          "height": 529
        },
        "outputId": "5f846ccd-0bb4-428a-e2f1-968cdeb60fda"
      },
      "source": [
        "from xgboost import XGBRegressor\n",
        "from sklearn.model_selection import KFold\n",
        "\n",
        "errxgb = []\n",
        "y_pred_totxgb = []\n",
        "\n",
        "fold = KFold(n_splits=15, shuffle=True, random_state=42)\n",
        "\n",
        "for train_index, test_index in fold.split(X):\n",
        "    X_train, X_test = X.loc[train_index], X.loc[test_index]\n",
        "    y_train, y_test = y[train_index], y[test_index]\n",
        "    \n",
        "    xgb = XGBRegressor(random_state=42)\n",
        "    xgb.fit(X_train, y_train)\n",
        "\n",
        "    y_pred_xgb = xgb.predict(X_test)\n",
        "    print(\"RMSLE: \", sqrt(mean_squared_error(y_test, y_pred_xgb)))\n",
        "\n",
        "    errxgb.append(sqrt(mean_squared_error(y_test,y_pred_xgb)))\n",
        "    p = xgb.predict(Xtest)\n",
        "    y_pred_totxgb.append(p)"
      ],
      "execution_count": null,
      "outputs": [
        {
          "output_type": "stream",
          "text": [
            "[15:36:18] WARNING: /workspace/src/objective/regression_obj.cu:152: reg:linear is now deprecated in favor of reg:squarederror.\n",
            "RMSLE:  1.5315661724306588\n",
            "[15:36:20] WARNING: /workspace/src/objective/regression_obj.cu:152: reg:linear is now deprecated in favor of reg:squarederror.\n",
            "RMSLE:  1.4597489875514376\n",
            "[15:36:22] WARNING: /workspace/src/objective/regression_obj.cu:152: reg:linear is now deprecated in favor of reg:squarederror.\n",
            "RMSLE:  1.2048469689309842\n",
            "[15:36:24] WARNING: /workspace/src/objective/regression_obj.cu:152: reg:linear is now deprecated in favor of reg:squarederror.\n",
            "RMSLE:  1.5762121206175914\n",
            "[15:36:26] WARNING: /workspace/src/objective/regression_obj.cu:152: reg:linear is now deprecated in favor of reg:squarederror.\n",
            "RMSLE:  1.1892451118558005\n",
            "[15:36:28] WARNING: /workspace/src/objective/regression_obj.cu:152: reg:linear is now deprecated in favor of reg:squarederror.\n",
            "RMSLE:  1.1828229693740198\n",
            "[15:36:30] WARNING: /workspace/src/objective/regression_obj.cu:152: reg:linear is now deprecated in favor of reg:squarederror.\n",
            "RMSLE:  1.4710051651887772\n",
            "[15:36:32] WARNING: /workspace/src/objective/regression_obj.cu:152: reg:linear is now deprecated in favor of reg:squarederror.\n",
            "RMSLE:  1.242557243056972\n",
            "[15:36:34] WARNING: /workspace/src/objective/regression_obj.cu:152: reg:linear is now deprecated in favor of reg:squarederror.\n",
            "RMSLE:  1.3313642370444008\n",
            "[15:36:37] WARNING: /workspace/src/objective/regression_obj.cu:152: reg:linear is now deprecated in favor of reg:squarederror.\n",
            "RMSLE:  1.3500095653077893\n",
            "[15:36:39] WARNING: /workspace/src/objective/regression_obj.cu:152: reg:linear is now deprecated in favor of reg:squarederror.\n",
            "RMSLE:  1.546997626735858\n",
            "[15:36:41] WARNING: /workspace/src/objective/regression_obj.cu:152: reg:linear is now deprecated in favor of reg:squarederror.\n",
            "RMSLE:  1.5531104179279256\n",
            "[15:36:43] WARNING: /workspace/src/objective/regression_obj.cu:152: reg:linear is now deprecated in favor of reg:squarederror.\n",
            "RMSLE:  1.4540723456420126\n",
            "[15:36:45] WARNING: /workspace/src/objective/regression_obj.cu:152: reg:linear is now deprecated in favor of reg:squarederror.\n",
            "RMSLE:  1.7563914289502214\n",
            "[15:36:47] WARNING: /workspace/src/objective/regression_obj.cu:152: reg:linear is now deprecated in favor of reg:squarederror.\n",
            "RMSLE:  1.4676936865825798\n"
          ],
          "name": "stdout"
        }
      ]
    },
    {
      "cell_type": "code",
      "metadata": {
        "colab_type": "code",
        "id": "EnPum244ktpj",
        "colab": {
          "base_uri": "https://localhost:8080/",
          "height": 34
        },
        "outputId": "87903b7e-2986-4573-eb08-1d3177474a5a"
      },
      "source": [
        "np.mean(errxgb)"
      ],
      "execution_count": null,
      "outputs": [
        {
          "output_type": "execute_result",
          "data": {
            "text/plain": [
              "1.4211762698131352"
            ]
          },
          "metadata": {
            "tags": []
          },
          "execution_count": 194
        }
      ]
    },
    {
      "cell_type": "code",
      "metadata": {
        "colab_type": "code",
        "id": "qsX0LgQKktpv",
        "colab": {
          "base_uri": "https://localhost:8080/",
          "height": 51
        },
        "outputId": "32fcd765-e99e-4bc5-f4a6-06ed00efe1e9"
      },
      "source": [
        "final = np.mean(y_pred_totxgb,0)\n",
        "final"
      ],
      "execution_count": null,
      "outputs": [
        {
          "output_type": "execute_result",
          "data": {
            "text/plain": [
              "array([1.7679182, 1.9216555, 2.7987022, ..., 1.5643302, 2.0260231,\n",
              "       1.7948735], dtype=float32)"
            ]
          },
          "metadata": {
            "tags": []
          },
          "execution_count": 195
        }
      ]
    },
    {
      "cell_type": "code",
      "metadata": {
        "colab_type": "code",
        "id": "JofZL-k_ktp6",
        "colab": {
          "base_uri": "https://localhost:8080/",
          "height": 256
        },
        "outputId": "4fba0d28-182e-4888-accd-875141cb6300"
      },
      "source": [
        "submission = pd.DataFrame({\n",
        "        \"SalesInMillions\": final\n",
        "    })\n",
        "submission.to_csv('./xg_ghar.csv', index=False)\n",
        "print(submission)"
      ],
      "execution_count": null,
      "outputs": [
        {
          "output_type": "stream",
          "text": [
            "      SalesInMillions\n",
            "0            1.767918\n",
            "1            1.921656\n",
            "2            2.798702\n",
            "3            1.994435\n",
            "4            1.758916\n",
            "...               ...\n",
            "1498         2.281577\n",
            "1499         1.700323\n",
            "1500         1.564330\n",
            "1501         2.026023\n",
            "1502         1.794873\n",
            "\n",
            "[1503 rows x 1 columns]\n"
          ],
          "name": "stdout"
        }
      ]
    },
    {
      "cell_type": "code",
      "metadata": {
        "colab_type": "code",
        "id": "apZu6XVNktqD",
        "colab": {
          "base_uri": "https://localhost:8080/",
          "height": 17
        },
        "outputId": "3479bc73-a6e7-4d17-b146-7b30679f0aad"
      },
      "source": [
        "from google.colab import files\n",
        "files.download('xg_ghar.csv')"
      ],
      "execution_count": null,
      "outputs": [
        {
          "output_type": "display_data",
          "data": {
            "application/javascript": [
              "\n",
              "    async function download(id, filename, size) {\n",
              "      if (!google.colab.kernel.accessAllowed) {\n",
              "        return;\n",
              "      }\n",
              "      const div = document.createElement('div');\n",
              "      const label = document.createElement('label');\n",
              "      label.textContent = `Downloading \"${filename}\": `;\n",
              "      div.appendChild(label);\n",
              "      const progress = document.createElement('progress');\n",
              "      progress.max = size;\n",
              "      div.appendChild(progress);\n",
              "      document.body.appendChild(div);\n",
              "\n",
              "      const buffers = [];\n",
              "      let downloaded = 0;\n",
              "\n",
              "      const channel = await google.colab.kernel.comms.open(id);\n",
              "      // Send a message to notify the kernel that we're ready.\n",
              "      channel.send({})\n",
              "\n",
              "      for await (const message of channel.messages) {\n",
              "        // Send a message to notify the kernel that we're ready.\n",
              "        channel.send({})\n",
              "        if (message.buffers) {\n",
              "          for (const buffer of message.buffers) {\n",
              "            buffers.push(buffer);\n",
              "            downloaded += buffer.byteLength;\n",
              "            progress.value = downloaded;\n",
              "          }\n",
              "        }\n",
              "      }\n",
              "      const blob = new Blob(buffers, {type: 'application/binary'});\n",
              "      const a = document.createElement('a');\n",
              "      a.href = window.URL.createObjectURL(blob);\n",
              "      a.download = filename;\n",
              "      div.appendChild(a);\n",
              "      a.click();\n",
              "      div.remove();\n",
              "    }\n",
              "  "
            ],
            "text/plain": [
              "<IPython.core.display.Javascript object>"
            ]
          },
          "metadata": {
            "tags": []
          }
        },
        {
          "output_type": "display_data",
          "data": {
            "application/javascript": [
              "download(\"download_be78f71f-2761-46ca-9708-6d25b99a8371\", \"xg_ghar.csv\", 14755)"
            ],
            "text/plain": [
              "<IPython.core.display.Javascript object>"
            ]
          },
          "metadata": {
            "tags": []
          }
        }
      ]
    },
    {
      "cell_type": "markdown",
      "metadata": {
        "id": "yKLj7yIElZRL",
        "colab_type": "text"
      },
      "source": [
        "# ensem"
      ]
    },
    {
      "cell_type": "code",
      "metadata": {
        "id": "MwNIAT3KlXhA",
        "colab_type": "code",
        "colab": {
          "resources": {
            "http://localhost:8080/nbextensions/google.colab/files.js": {
              "data": "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",
              "ok": true,
              "headers": [
                [
                  "content-type",
                  "application/javascript"
                ]
              ],
              "status": 200,
              "status_text": ""
            }
          },
          "base_uri": "https://localhost:8080/",
          "height": 109
        },
        "outputId": "02456fa5-c5fc-4d32-f8de-68dc999df400"
      },
      "source": [
        "from google.colab import files\n",
        "files.upload()"
      ],
      "execution_count": null,
      "outputs": [
        {
          "output_type": "display_data",
          "data": {
            "text/html": [
              "\n",
              "     <input type=\"file\" id=\"files-2f838281-28ad-4850-855b-a5519c91e760\" name=\"files[]\" multiple disabled\n",
              "        style=\"border:none\" />\n",
              "     <output id=\"result-2f838281-28ad-4850-855b-a5519c91e760\">\n",
              "      Upload widget is only available when the cell has been executed in the\n",
              "      current browser session. Please rerun this cell to enable.\n",
              "      </output>\n",
              "      <script src=\"/nbextensions/google.colab/files.js\"></script> "
            ],
            "text/plain": [
              "<IPython.core.display.HTML object>"
            ]
          },
          "metadata": {
            "tags": []
          }
        },
        {
          "output_type": "stream",
          "text": [
            "Saving xg_ghar.csv to xg_ghar.csv\n"
          ],
          "name": "stdout"
        },
        {
          "output_type": "execute_result",
          "data": {
            "text/plain": [
              "{'xg_ghar.csv': b'SalesInMillions\\n1.7679182\\n1.9216555\\n2.7987022\\n1.9944347\\n1.7589158\\n1.9659593\\n1.7008376\\n1.6247847\\n2.0317447\\n1.5957836\\n2.1761518\\n1.5488805\\n1.5481265\\n1.4929225\\n1.8077309\\n2.619302\\n1.6562171\\n1.7147049\\n1.5494128\\n4.354058\\n1.6432071\\n1.7348027\\n1.8449447\\n3.7850797\\n1.839905\\n1.7250944\\n1.6295981\\n1.6025473\\n1.6538091\\n2.4902868\\n1.5482482\\n1.7469037\\n6.2501364\\n4.008121\\n1.7921004\\n1.7582957\\n1.7524621\\n1.9331717\\n1.7608638\\n1.571657\\n2.0512574\\n1.87518\\n1.6685221\\n1.5950024\\n1.851515\\n1.5860404\\n1.8168085\\n1.9248269\\n2.635124\\n1.7135103\\n3.8408113\\n1.703808\\n1.7772399\\n1.6530757\\n2.020365\\n1.6277332\\n2.1037803\\n5.636966\\n2.1262615\\n1.8513461\\n2.4397166\\n2.0630865\\n1.725933\\n2.1282501\\n1.7546343\\n1.8364733\\n1.7242557\\n1.9232724\\n1.6669178\\n2.0343904\\n1.902342\\n1.7024406\\n2.6179132\\n1.7477628\\n5.227323\\n1.7000998\\n1.4582902\\n1.8349522\\n1.8347116\\n1.9194505\\n1.8372949\\n1.3093592\\n1.9760989\\n1.6864235\\n2.2023249\\n1.8423858\\n2.2960358\\n1.3884715\\n1.7532943\\n1.9270587\\n1.6956443\\n1.5403405\\n2.346453\\n1.6652888\\n1.7152008\\n1.7638174\\n2.4885893\\n1.8613153\\n2.0107114\\n1.964189\\n1.9931629\\n2.432426\\n1.9276329\\n2.7055476\\n1.5392088\\n3.1598773\\n1.7212203\\n1.6982236\\n1.98382\\n1.9215457\\n2.134036\\n1.6602775\\n8.074209\\n2.6386087\\n1.6974089\\n1.7468756\\n1.6775925\\n2.189304\\n1.9340796\\n5.4181976\\n1.7072978\\n1.3171033\\n1.6007336\\n1.7770821\\n1.7793976\\n2.0297422\\n1.8149315\\n2.21317\\n1.6099769\\n1.3677758\\n1.4611579\\n1.7319305\\n2.0825067\\n2.6986542\\n1.7670835\\n1.9543704\\n2.0547369\\n1.665772\\n1.687514\\n1.9125177\\n2.1733449\\n2.61674\\n1.7043432\\n1.650078\\n1.8406391\\n1.9897876\\n2.67368\\n1.575272\\n2.1936953\\n2.3255126\\n2.0415385\\n1.6560948\\n1.9168235\\n1.7750105\\n4.691178\\n1.8647364\\n2.3134656\\n1.9361861\\n1.73822\\n1.5831939\\n1.5201975\\n1.6055804\\n2.1279576\\n2.3923097\\n1.6929916\\n1.6581253\\n3.858748\\n1.7082793\\n1.9256902\\n1.6097958\\n1.9021137\\n2.1252482\\n2.835632\\n2.048246\\n1.9222685\\n1.8969529\\n2.0042994\\n1.7320619\\n2.0365045\\n2.029601\\n2.752759\\n1.6285142\\n1.7105544\\n1.7411158\\n1.6680013\\n1.6723418\\n1.9435867\\n2.0494642\\n1.4805759\\n2.9648159\\n2.202587\\n1.8457822\\n1.7410215\\n1.836659\\n3.5879514\\n2.0011148\\n1.4667945\\n1.6084617\\n1.9382212\\n1.9853612\\n1.459069\\n1.7184899\\n1.7895206\\n1.7232971\\n1.5789062\\n4.1716294\\n1.9424236\\n1.6939706\\n1.7856458\\n1.3778628\\n3.5599573\\n1.734703\\n2.9294086\\n1.8379186\\n2.2835512\\n4.863284\\n2.3917565\\n1.7904717\\n1.6034559\\n2.3212614\\n1.6886864\\n1.9016876\\n1.7615\\n1.7807441\\n2.0682402\\n1.7123352\\n1.9817191\\n2.675052\\n2.6389062\\n1.7610815\\n1.6720952\\n1.700197\\n1.7990764\\n1.4752537\\n1.7970115\\n2.6977556\\n1.5764009\\n2.1323195\\n3.052543\\n2.0746436\\n3.4413104\\n2.14045\\n1.8402157\\n1.7078818\\n1.9129832\\n2.3935487\\n2.076684\\n1.7097411\\n2.5291634\\n1.9897023\\n2.4081442\\n2.1436324\\n1.7219619\\n2.6315827\\n2.3791876\\n1.5954258\\n1.585362\\n3.985897\\n1.5465314\\n1.6988982\\n1.9883347\\n1.8686792\\n1.606887\\n2.6545346\\n3.384106\\n3.505795\\n2.1421065\\n1.8569427\\n4.9476695\\n1.8288008\\n1.6710174\\n1.97726\\n2.097741\\n1.4043833\\n1.8567443\\n1.5314828\\n2.256816\\n1.6700323\\n4.418648\\n1.793058\\n2.4890409\\n2.822985\\n2.0445848\\n3.7488644\\n2.5964203\\n1.7955661\\n1.5797791\\n1.7826178\\n2.8023071\\n2.0556216\\n2.0347033\\n1.8881558\\n1.6721727\\n1.8645301\\n1.5792133\\n1.7779012\\n1.8931565\\n1.7219653\\n1.7926089\\n1.6332465\\n1.8228536\\n1.7409723\\n1.584804\\n1.8607711\\n2.370152\\n1.6121122\\n2.301976\\n1.8540634\\n1.5872939\\n2.284677\\n1.753219\\n1.7785949\\n2.0044916\\n2.4480555\\n1.5349159\\n1.9743342\\n2.0736003\\n3.692433\\n1.8926524\\n1.695841\\n1.5492389\\n2.0484262\\n1.7214621\\n2.037321\\n2.8416452\\n1.6731164\\n1.8045037\\n3.280516\\n1.9303906\\n1.6893498\\n1.5886999\\n1.839148\\n3.2101796\\n2.0801692\\n1.6222242\\n1.9907628\\n1.8280203\\n2.4762688\\n1.7679048\\n2.0298765\\n1.619035\\n2.4375682\\n1.8051614\\n1.7682158\\n1.6229919\\n3.1747022\\n1.8606191\\n1.6261089\\n1.6147872\\n1.7821565\\n1.7784866\\n1.8479474\\n2.2679067\\n1.9081982\\n2.2892601\\n1.658914\\n2.040262\\n1.6858009\\n1.7266848\\n1.4068449\\n4.630753\\n1.7291511\\n1.8192061\\n2.1984732\\n3.239644\\n1.7853618\\n2.0292542\\n1.9797943\\n1.7189136\\n1.9878557\\n2.2543063\\n2.106869\\n1.8327848\\n2.9047074\\n1.774524\\n3.157542\\n1.6591383\\n1.8997616\\n1.7465779\\n1.7003713\\n2.3690217\\n1.6877974\\n2.1261823\\n1.3880904\\n1.6707282\\n1.717837\\n2.336033\\n1.6454779\\n1.781735\\n1.6898328\\n1.75689\\n2.14152\\n1.3476274\\n1.6281936\\n2.275193\\n1.6833951\\n2.3181584\\n1.7420677\\n1.938937\\n1.2396438\\n2.55919\\n1.8134478\\n1.6464418\\n1.9700935\\n2.7432387\\n2.1505742\\n3.1008599\\n1.5686688\\n2.1582885\\n1.8234504\\n2.2944908\\n1.8508459\\n1.6289005\\n1.9237628\\n1.6657759\\n1.7662019\\n2.8540924\\n1.6591383\\n1.8578342\\n1.5963794\\n1.6715412\\n3.5507555\\n2.65569\\n4.07657\\n1.988248\\n1.5117099\\n1.618212\\n1.8481181\\n1.5335152\\n1.7965946\\n1.905491\\n2.0600994\\n1.6943505\\n1.9911063\\n2.0134342\\n1.7889909\\n1.584295\\n1.9777911\\n1.8447849\\n1.667741\\n4.845212\\n2.7888515\\n1.8510985\\n1.9446682\\n1.7751498\\n1.6413579\\n1.4871849\\n2.1593673\\n1.6447136\\n1.6183026\\n1.7643231\\n1.5951642\\n1.4548678\\n1.743967\\n2.459658\\n1.968189\\n1.6657876\\n2.2066894\\n1.5860754\\n2.02476\\n1.4068307\\n1.7401702\\n1.9945354\\n2.5487466\\n1.6684685\\n4.444938\\n2.0622888\\n1.7888741\\n1.5832708\\n1.8030561\\n1.5811738\\n1.7411095\\n6.1025944\\n2.234253\\n1.7765859\\n1.7584453\\n2.0780602\\n1.8369629\\n1.5804781\\n1.7617474\\n2.021828\\n1.8645364\\n1.5237939\\n1.7156863\\n1.9253794\\n1.7452637\\n2.020706\\n1.895502\\n2.3653746\\n2.584057\\n1.8446813\\n2.0800989\\n1.7568829\\n2.033072\\n1.7408607\\n1.8370327\\n1.9105152\\n1.9829681\\n2.1176069\\n1.5887051\\n1.8616672\\n1.6952986\\n1.8444915\\n3.4993594\\n1.4212788\\n1.5186899\\n1.9341147\\n3.4452105\\n1.6402603\\n3.7252188\\n1.9676178\\n1.7517527\\n2.433757\\n1.780763\\n1.739662\\n1.9044602\\n2.0143802\\n3.4596589\\n1.769959\\n1.9225676\\n2.5722868\\n1.6601231\\n1.7423788\\n2.0053105\\n2.0598266\\n1.9849173\\n1.9080797\\n1.9179225\\n1.5659769\\n3.3380568\\n1.7981466\\n1.8141633\\n2.6282961\\n1.8600084\\n3.777459\\n1.7765472\\n2.1035018\\n1.6245648\\n1.5927049\\n1.673042\\n1.6063505\\n1.8408355\\n1.7712084\\n1.771674\\n1.5721148\\n1.6645133\\n2.9609668\\n1.6277001\\n1.6189634\\n1.7567512\\n1.5305318\\n1.7106168\\n6.1518297\\n1.6027665\\n1.6586833\\n1.6968745\\n1.7506444\\n2.446369\\n1.7413788\\n2.1238084\\n1.9612429\\n1.8727157\\n1.7672077\\n1.7766858\\n2.185525\\n1.5807287\\n1.9996574\\n1.5966802\\n2.1187384\\n1.8857143\\n2.1847954\\n1.8084042\\n1.8586419\\n2.5012221\\n2.6329145\\n1.6513928\\n1.9689945\\n1.7169871\\n1.8232833\\n2.3448472\\n1.2005144\\n1.6337535\\n1.7499888\\n1.8906182\\n1.682398\\n1.7606866\\n1.9462031\\n1.7496145\\n1.7632185\\n2.0855863\\n1.7206688\\n3.6224594\\n1.6603637\\n2.4802861\\n1.9067644\\n2.2714224\\n1.9434319\\n1.4698102\\n1.829034\\n1.5310014\\n1.7681868\\n1.7712649\\n1.8748733\\n2.1536686\\n1.8101127\\n1.7185917\\n1.661074\\n1.8975865\\n1.6022434\\n2.4289045\\n1.775216\\n1.8041958\\n1.4811498\\n1.9575592\\n1.5620849\\n1.9327893\\n1.6951299\\n1.5166105\\n2.0607836\\n6.196502\\n5.9817367\\n2.0248694\\n1.6111755\\n2.3295488\\n1.6627411\\n4.8880854\\n2.0161626\\n1.7739683\\n1.1500747\\n2.4085214\\n1.8469852\\n1.8417288\\n1.8337839\\n1.9097623\\n2.1875181\\n2.0015187\\n1.8429462\\n1.9505223\\n1.6342765\\n1.7593865\\n1.87512\\n1.9401612\\n1.6031055\\n1.84902\\n1.6982715\\n1.6283427\\n1.813711\\n1.8423012\\n2.022792\\n2.4981408\\n1.589239\\n1.7283471\\n1.7831538\\n1.762863\\n1.8214817\\n2.1741943\\n1.8595827\\n3.3141224\\n1.8384589\\n1.8891879\\n3.131732\\n1.6496276\\n1.6389159\\n1.8529752\\n1.8241717\\n1.7436148\\n1.8379157\\n1.8169538\\n2.1381977\\n1.2803904\\n1.9804188\\n1.8427802\\n1.697682\\n1.9187528\\n1.8506827\\n1.7940434\\n1.8153325\\n2.8241687\\n1.8129404\\n1.6968642\\n1.9863241\\n1.8520802\\n1.724603\\n1.6081938\\n1.742956\\n2.094162\\n1.7300506\\n1.873407\\n1.5329775\\n2.40512\\n1.7337763\\n3.9348016\\n1.7444571\\n3.6054175\\n2.3999445\\n1.7656566\\n1.576801\\n1.6238887\\n2.1685317\\n4.5129223\\n1.6792663\\n1.75541\\n1.8258309\\n1.7675748\\n3.5662506\\n1.8204447\\n2.2475944\\n2.119927\\n5.3896317\\n1.6361407\\n1.8780085\\n1.7741668\\n2.2158897\\n1.7172122\\n1.9218755\\n2.4919846\\n1.8232284\\n1.8211925\\n1.6714891\\n1.849804\\n1.4917481\\n2.0112016\\n1.6533475\\n2.5896194\\n2.1560924\\n1.680286\\n3.503059\\n1.691351\\n1.7039683\\n1.609714\\n1.9377172\\n2.1166596\\n2.9454966\\n1.6933843\\n1.7183665\\n1.596581\\n1.3800815\\n1.9206821\\n1.8420144\\n1.9224523\\n4.573502\\n1.625627\\n1.62897\\n1.8816396\\n2.0301874\\n1.5194389\\n1.7399176\\n1.8349749\\n1.591208\\n2.7393222\\n3.1447704\\n2.526074\\n2.480961\\n1.4915566\\n1.7055888\\n1.6440091\\n1.7776225\\n2.3278959\\n2.1493633\\n1.8394691\\n1.7899586\\n1.8246187\\n2.2738636\\n2.039386\\n1.7000067\\n1.9922942\\n2.636035\\n2.0338502\\n1.8733737\\n1.7638966\\n2.0626776\\n1.8202986\\n2.048905\\n1.7395285\\n2.5812905\\n1.7626292\\n3.0856814\\n1.9998956\\n2.483945\\n1.6643862\\n1.9484482\\n1.8283502\\n1.8129345\\n1.8703728\\n1.8225895\\n2.0025783\\n1.7507386\\n1.7492912\\n1.8611834\\n1.5551982\\n1.9403574\\n4.718187\\n1.6714152\\n1.7990267\\n2.694795\\n1.8124802\\n2.0820973\\n1.5984923\\n1.8156393\\n1.5557935\\n1.9148409\\n1.9103012\\n1.9867717\\n1.6922698\\n1.5783244\\n1.7475448\\n5.514955\\n1.7363702\\n1.7024802\\n2.105716\\n1.7031102\\n1.8066715\\n1.8856107\\n4.1644945\\n2.1244075\\n1.7477657\\n2.4771874\\n2.1552734\\n1.5626146\\n1.3797126\\n1.8198687\\n2.0604656\\n1.7919135\\n1.9364711\\n2.0660892\\n2.3408012\\n3.6521666\\n1.6524426\\n1.8827074\\n1.7819655\\n2.218099\\n1.7067578\\n1.6681306\\n2.4125495\\n1.5025136\\n2.0860395\\n1.5851468\\n1.6177531\\n1.5512573\\n1.7727196\\n1.9533374\\n1.7401234\\n1.8335675\\n1.8003768\\n1.5486592\\n1.2823386\\n1.7045238\\n1.4343904\\n1.6103314\\n2.2053552\\n1.9893776\\n1.778937\\n1.7191921\\n2.1170557\\n1.736912\\n3.6231205\\n1.7589154\\n1.6024896\\n1.6577777\\n1.8508899\\n1.5753524\\n1.9357785\\n1.7573255\\n1.8515352\\n1.6877093\\n1.7989392\\n1.8947817\\n1.8134456\\n1.6107494\\n2.361436\\n1.6162916\\n2.0265143\\n2.144496\\n2.0286462\\n1.652819\\n1.7042223\\n1.7799773\\n1.7279493\\n1.9145209\\n1.7460397\\n1.4839864\\n1.9775063\\n1.9156003\\n1.8191553\\n2.1792824\\n1.6667371\\n1.7512925\\n3.3875773\\n1.62529\\n6.6003785\\n2.7542136\\n1.9757029\\n2.1078808\\n2.2686625\\n1.7628262\\n1.8365198\\n1.6806611\\n1.9576858\\n1.8507482\\n3.5570617\\n1.8340228\\n1.6744603\\n2.030313\\n1.6400864\\n3.7637286\\n1.822415\\n1.7710614\\n2.1335518\\n2.188039\\n1.5581746\\n1.7821739\\n1.6536728\\n1.7552114\\n3.3856926\\n1.5631504\\n10.6243105\\n1.9478247\\n6.7177033\\n1.8983473\\n1.8375199\\n1.8399683\\n1.9127141\\n1.5520307\\n1.9872253\\n1.6374624\\n1.7997507\\n2.5273385\\n1.588752\\n4.4911914\\n2.0383615\\n1.8839087\\n1.6518708\\n1.7205399\\n1.9409366\\n3.975564\\n1.8778431\\n2.222094\\n2.3747149\\n2.6615899\\n2.1791875\\n2.8931937\\n2.058349\\n1.9238946\\n2.3679893\\n1.7095664\\n1.9012135\\n1.7524369\\n1.9920381\\n2.040366\\n4.5745864\\n1.858192\\n1.5401009\\n1.860161\\n1.6914314\\n1.7467864\\n1.9334167\\n1.3962146\\n1.6009898\\n1.8342404\\n1.9445515\\n1.7390857\\n1.9782766\\n1.8326856\\n1.7024325\\n2.0534492\\n1.6159157\\n2.393628\\n1.8210874\\n1.7379067\\n1.7842202\\n1.6747817\\n2.4700477\\n1.7712445\\n1.7205985\\n1.6697307\\n1.6941141\\n3.5156608\\n2.5231216\\n1.7751601\\n1.4703602\\n2.811755\\n1.8080047\\n2.0701609\\n1.8343488\\n2.3440583\\n1.9148909\\n1.7613374\\n1.7313061\\n1.6899142\\n1.7053645\\n1.7659274\\n2.355451\\n2.740352\\n1.9822661\\n1.7668662\\n1.7975984\\n1.8691285\\n2.18454\\n1.7035489\\n1.5967492\\n2.3832064\\n1.6679775\\n1.7113441\\n1.7152724\\n1.7400445\\n2.040324\\n1.8769529\\n1.6586859\\n2.012669\\n1.6920475\\n1.9144471\\n2.5966673\\n3.2556748\\n1.8471812\\n1.9235471\\n2.0580804\\n2.0658383\\n1.6956265\\n1.7401558\\n1.8537556\\n1.2609471\\n1.7654316\\n1.7920908\\n2.0139842\\n1.5001358\\n2.061748\\n2.821682\\n1.6747309\\n2.1087985\\n2.1739264\\n1.7888134\\n2.4941432\\n3.5691907\\n1.6039041\\n2.0437648\\n1.498306\\n2.543259\\n1.7307775\\n1.6430978\\n1.8716285\\n2.2138402\\n1.8404922\\n1.7951427\\n1.7567542\\n1.540823\\n1.763465\\n1.8296796\\n1.631726\\n1.626257\\n2.3355048\\n1.985543\\n2.0402746\\n3.372279\\n2.2663941\\n2.0108976\\n2.0206\\n1.6264409\\n3.139824\\n1.5768096\\n1.6887534\\n2.550307\\n1.6166005\\n1.8310332\\n1.7812278\\n1.6689197\\n2.1670496\\n3.156943\\n1.7552147\\n1.7514209\\n3.287707\\n1.9662709\\n4.714151\\n6.0380754\\n2.0076308\\n3.2426238\\n2.5262744\\n2.1885116\\n1.899928\\n1.8199973\\n1.8183345\\n2.3723922\\n2.256932\\n2.1760037\\n1.2433507\\n1.8587918\\n1.5988327\\n1.7288402\\n1.9136921\\n1.9468656\\n2.397101\\n1.7462484\\n1.7411808\\n1.4017013\\n2.3877673\\n1.9978154\\n10.416452\\n1.7998537\\n1.7374249\\n1.6702148\\n1.6164534\\n2.0573895\\n1.7713075\\n1.8367493\\n1.714372\\n1.9821855\\n1.8582572\\n1.7645334\\n2.8064256\\n1.9932549\\n1.7963576\\n1.873078\\n2.0370939\\n1.6328622\\n2.0502\\n2.0219781\\n1.806975\\n1.6898702\\n1.6895671\\n1.9908615\\n2.0184727\\n1.8363019\\n1.86573\\n1.5194837\\n1.7393595\\n1.7284935\\n2.0243835\\n1.6606599\\n2.0604198\\n1.6963918\\n1.829383\\n1.4963297\\n1.7889954\\n2.5889745\\n1.7035563\\n1.8984253\\n1.7687856\\n1.6103653\\n1.8405261\\n1.8493909\\n1.8036346\\n1.723615\\n1.7128828\\n2.150565\\n2.0801613\\n1.6820606\\n1.7092302\\n1.8529973\\n2.7204998\\n1.9242438\\n4.4029145\\n2.165735\\n1.7686083\\n1.6206397\\n2.0629175\\n2.0656857\\n1.8774599\\n2.1534715\\n1.8718232\\n3.3062165\\n1.5865808\\n1.6781195\\n1.722955\\n3.3622706\\n2.0885518\\n1.864939\\n1.5002896\\n1.7595595\\n1.6912273\\n1.7527207\\n2.3166704\\n2.4007745\\n1.69133\\n1.998939\\n2.170272\\n1.9954629\\n1.696791\\n1.7881258\\n1.6774116\\n2.699285\\n1.7075294\\n1.6387169\\n1.9379534\\n2.4574754\\n1.9302279\\n4.175084\\n1.4912815\\n1.5778084\\n1.8277514\\n1.9053744\\n2.0940716\\n1.8617085\\n1.8967761\\n2.5262396\\n2.5470922\\n1.7807192\\n1.7146211\\n1.6725895\\n1.4965191\\n2.0589862\\n1.6657838\\n1.9762845\\n1.5724552\\n1.7434374\\n1.8231319\\n2.2609098\\n2.7594793\\n6.4189615\\n1.8954673\\n1.7036074\\n2.7309573\\n1.9224302\\n2.6038554\\n1.6301932\\n1.6760478\\n2.8144655\\n1.8782717\\n2.3630564\\n1.8658539\\n1.8895142\\n4.666056\\n1.980948\\n1.6794496\\n1.8090197\\n1.7938533\\n2.7453854\\n1.7837375\\n2.1633627\\n3.439859\\n1.4923263\\n4.9657297\\n5.4072604\\n1.7764956\\n2.0388677\\n1.7931142\\n1.8602791\\n1.7809595\\n1.5539298\\n2.9652717\\n2.2043574\\n1.649815\\n1.8869911\\n1.6979191\\n1.8563607\\n2.0293133\\n2.1566625\\n1.7337174\\n2.6188874\\n1.4768567\\n2.399751\\n2.3335648\\n1.6653817\\n1.6748224\\n3.2844696\\n1.7468935\\n1.7154113\\n1.7604271\\n1.898382\\n1.7525809\\n1.982612\\n1.5895405\\n1.7334734\\n1.8226215\\n1.8033627\\n1.9120542\\n1.6595441\\n1.6246098\\n1.5611659\\n1.8758336\\n2.1831305\\n1.4195582\\n1.4753778\\n4.589965\\n1.9472144\\n2.4587467\\n1.8324941\\n1.700058\\n1.887579\\n2.179054\\n1.6885856\\n1.710142\\n2.0739164\\n1.7458719\\n1.5741446\\n3.2506244\\n1.7919116\\n2.2810378\\n1.761562\\n2.3459716\\n2.3508222\\n1.7445058\\n2.2930014\\n1.4735564\\n1.8388059\\n1.575182\\n1.9900688\\n1.9235147\\n1.6321722\\n1.964439\\n2.3034835\\n1.6558529\\n1.8760567\\n1.6277276\\n1.6030489\\n1.7218671\\n1.7941089\\n4.228826\\n2.4913125\\n1.6378591\\n1.682336\\n2.4104125\\n1.727885\\n2.2358336\\n1.744181\\n1.6386821\\n1.4217336\\n1.7943178\\n1.6528653\\n1.8188419\\n2.1003542\\n2.6402538\\n1.5765494\\n1.8102943\\n2.6104753\\n1.5502341\\n1.6784779\\n1.7983176\\n1.5340804\\n1.7928368\\n2.0689564\\n1.7144018\\n1.7115294\\n1.5016829\\n1.5416194\\n2.1227195\\n1.7119815\\n1.7802968\\n1.9788638\\n1.4332635\\n2.1021643\\n1.4584862\\n2.304089\\n1.6733168\\n2.4584146\\n1.5179977\\n1.8454678\\n2.328354\\n1.6603636\\n1.6673294\\n1.3631533\\n1.5143287\\n1.689032\\n1.4591433\\n3.0874426\\n3.090485\\n1.8509686\\n1.5036861\\n2.6054888\\n3.715585\\n1.8671738\\n3.1018012\\n2.3425524\\n1.5873915\\n1.9688332\\n1.7120984\\n1.5470798\\n1.9651335\\n1.9231697\\n1.5905113\\n1.6703926\\n6.70252\\n2.716665\\n1.7317821\\n1.8825753\\n1.8041799\\n1.734089\\n2.914462\\n2.2377725\\n1.505695\\n2.9779732\\n2.1309538\\n1.714393\\n1.481535\\n1.7228012\\n1.6028138\\n1.8564045\\n1.9023949\\n1.6705693\\n1.6731938\\n1.8015739\\n2.0223074\\n1.7190148\\n2.703464\\n1.5249617\\n2.0099\\n1.8190668\\n1.5422096\\n2.1552234\\n4.0385823\\n1.676998\\n2.0859787\\n2.7034566\\n1.8533554\\n3.5882583\\n3.2588217\\n1.6918604\\n1.5905883\\n1.8516536\\n1.7810609\\n1.3178619\\n1.8334686\\n2.3332567\\n1.7390655\\n1.5724686\\n1.567136\\n1.7802658\\n1.8482413\\n1.4918748\\n1.6812634\\n1.6525079\\n1.4996742\\n1.8344995\\n1.6777333\\n2.2959955\\n2.8867688\\n1.4976289\\n1.7383558\\n2.831047\\n1.6034268\\n2.1357648\\n1.6835785\\n1.8357562\\n1.8397461\\n1.6407863\\n1.9508612\\n1.6661683\\n1.5712643\\n1.8423289\\n1.7857916\\n1.508761\\n1.8143744\\n3.6707957\\n1.9584806\\n1.8851597\\n5.1760645\\n1.4763954\\n1.658596\\n2.0892003\\n2.3335836\\n2.1445851\\n1.9067487\\n1.9311185\\n1.8730906\\n1.6058148\\n2.0037448\\n2.5123732\\n2.828549\\n1.6894851\\n1.7177347\\n1.5931039\\n3.2002487\\n2.068464\\n1.8926758\\n1.8924731\\n1.709951\\n1.8333026\\n1.8074071\\n1.481191\\n2.3363242\\n1.6115186\\n1.553371\\n3.3740582\\n1.6563152\\n1.6150551\\n1.7183567\\n2.7107284\\n2.144496\\n1.6422954\\n1.5309888\\n2.2552266\\n1.7987626\\n1.7328573\\n2.7213771\\n1.471192\\n2.141896\\n2.016729\\n1.4531118\\n1.7976202\\n1.8218225\\n2.7089949\\n2.3794167\\n1.6481558\\n1.9951289\\n1.9239913\\n2.3765626\\n1.6685568\\n2.627064\\n1.8284467\\n1.5089825\\n2.2815766\\n1.7003225\\n1.5643302\\n2.0260231\\n1.7948735\\n'}"
            ]
          },
          "metadata": {
            "tags": []
          },
          "execution_count": 40
        }
      ]
    },
    {
      "cell_type": "code",
      "metadata": {
        "id": "ryiUJzIFli27",
        "colab_type": "code",
        "colab": {}
      },
      "source": [
        "a=pd.read_csv('66.csv')\n",
        "b=pd.read_csv('gam.csv')\n",
        "c=pd.read_csv('game.csv')\n",
        "d=pd.read_csv('try.csv')\n",
        "e=pd.read_csv('ensem.csv')\n",
        "f=pd.read_csv('lg_bin.csv')\n",
        "g=pd.read_csv('xg_ghar.csv')"
      ],
      "execution_count": null,
      "outputs": []
    },
    {
      "cell_type": "code",
      "metadata": {
        "id": "NETm3MM6li7b",
        "colab_type": "code",
        "colab": {
          "base_uri": "https://localhost:8080/",
          "height": 107
        },
        "outputId": "c6eec2b4-c5f4-431d-dffb-43074c157e3d"
      },
      "source": [
        "f.head(2)"
      ],
      "execution_count": null,
      "outputs": [
        {
          "output_type": "execute_result",
          "data": {
            "text/html": [
              "<div>\n",
              "<style scoped>\n",
              "    .dataframe tbody tr th:only-of-type {\n",
              "        vertical-align: middle;\n",
              "    }\n",
              "\n",
              "    .dataframe tbody tr th {\n",
              "        vertical-align: top;\n",
              "    }\n",
              "\n",
              "    .dataframe thead th {\n",
              "        text-align: right;\n",
              "    }\n",
              "</style>\n",
              "<table border=\"1\" class=\"dataframe\">\n",
              "  <thead>\n",
              "    <tr style=\"text-align: right;\">\n",
              "      <th></th>\n",
              "      <th>SalesInMillions</th>\n",
              "    </tr>\n",
              "  </thead>\n",
              "  <tbody>\n",
              "    <tr>\n",
              "      <th>0</th>\n",
              "      <td>1.687639</td>\n",
              "    </tr>\n",
              "    <tr>\n",
              "      <th>1</th>\n",
              "      <td>2.185275</td>\n",
              "    </tr>\n",
              "  </tbody>\n",
              "</table>\n",
              "</div>"
            ],
            "text/plain": [
              "   SalesInMillions\n",
              "0         1.687639\n",
              "1         2.185275"
            ]
          },
          "metadata": {
            "tags": []
          },
          "execution_count": 42
        }
      ]
    },
    {
      "cell_type": "code",
      "metadata": {
        "id": "NBBUfNLTli1e",
        "colab_type": "code",
        "colab": {}
      },
      "source": [
        "x=(a['SalesInMillions']+b['SalesInMillions']+c['SalesInMillions']+d['SalesInMillions']+f['SalesInMillions']+e['SalesInMillions'])/6"
      ],
      "execution_count": null,
      "outputs": []
    },
    {
      "cell_type": "code",
      "metadata": {
        "colab_type": "code",
        "id": "RAUyY_s4fh6C",
        "colab": {
          "base_uri": "https://localhost:8080/",
          "height": 256
        },
        "outputId": "6cfad36d-4782-4997-d449-5905d37a1d35"
      },
      "source": [
        "submission = pd.DataFrame({\n",
        "        \"SalesInMillions\": x\n",
        "    })\n",
        "submission.to_csv('./xcv.csv', index=False)\n",
        "print(submission)"
      ],
      "execution_count": null,
      "outputs": [
        {
          "output_type": "stream",
          "text": [
            "      SalesInMillions\n",
            "0            1.566769\n",
            "1            2.041652\n",
            "2            3.427553\n",
            "3            2.381323\n",
            "4            1.612869\n",
            "...               ...\n",
            "1498         2.310647\n",
            "1499         1.233671\n",
            "1500         1.660568\n",
            "1501         1.826617\n",
            "1502         1.597922\n",
            "\n",
            "[1503 rows x 1 columns]\n"
          ],
          "name": "stdout"
        }
      ]
    },
    {
      "cell_type": "code",
      "metadata": {
        "colab_type": "code",
        "id": "WGH5iSBnfh6K",
        "colab": {
          "base_uri": "https://localhost:8080/",
          "height": 17
        },
        "outputId": "e61d2811-6d4a-458d-b546-aa1e4c6c356e"
      },
      "source": [
        "from google.colab import files\n",
        "files.download('xcv.csv')"
      ],
      "execution_count": null,
      "outputs": [
        {
          "output_type": "display_data",
          "data": {
            "application/javascript": [
              "\n",
              "    async function download(id, filename, size) {\n",
              "      if (!google.colab.kernel.accessAllowed) {\n",
              "        return;\n",
              "      }\n",
              "      const div = document.createElement('div');\n",
              "      const label = document.createElement('label');\n",
              "      label.textContent = `Downloading \"${filename}\": `;\n",
              "      div.appendChild(label);\n",
              "      const progress = document.createElement('progress');\n",
              "      progress.max = size;\n",
              "      div.appendChild(progress);\n",
              "      document.body.appendChild(div);\n",
              "\n",
              "      const buffers = [];\n",
              "      let downloaded = 0;\n",
              "\n",
              "      const channel = await google.colab.kernel.comms.open(id);\n",
              "      // Send a message to notify the kernel that we're ready.\n",
              "      channel.send({})\n",
              "\n",
              "      for await (const message of channel.messages) {\n",
              "        // Send a message to notify the kernel that we're ready.\n",
              "        channel.send({})\n",
              "        if (message.buffers) {\n",
              "          for (const buffer of message.buffers) {\n",
              "            buffers.push(buffer);\n",
              "            downloaded += buffer.byteLength;\n",
              "            progress.value = downloaded;\n",
              "          }\n",
              "        }\n",
              "      }\n",
              "      const blob = new Blob(buffers, {type: 'application/binary'});\n",
              "      const a = document.createElement('a');\n",
              "      a.href = window.URL.createObjectURL(blob);\n",
              "      a.download = filename;\n",
              "      div.appendChild(a);\n",
              "      a.click();\n",
              "      div.remove();\n",
              "    }\n",
              "  "
            ],
            "text/plain": [
              "<IPython.core.display.Javascript object>"
            ]
          },
          "metadata": {
            "tags": []
          }
        },
        {
          "output_type": "display_data",
          "data": {
            "application/javascript": [
              "download(\"download_59c35951-6c1a-4bbe-a1ac-83b6078107f0\", \"xcv.csv\", 28061)"
            ],
            "text/plain": [
              "<IPython.core.display.Javascript object>"
            ]
          },
          "metadata": {
            "tags": []
          }
        }
      ]
    }
  ]
}