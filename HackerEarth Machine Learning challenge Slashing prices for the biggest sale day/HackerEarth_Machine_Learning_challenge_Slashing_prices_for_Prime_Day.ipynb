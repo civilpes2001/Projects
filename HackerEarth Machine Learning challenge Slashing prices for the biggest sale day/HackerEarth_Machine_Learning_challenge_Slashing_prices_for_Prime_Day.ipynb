{
  "nbformat": 4,
  "nbformat_minor": 0,
  "metadata": {
    "colab": {
      "name": "HackerEarth Machine Learning challenge: Slashing prices for Prime Day.ipynb",
      "provenance": [],
      "collapsed_sections": []
    },
    "kernelspec": {
      "name": "python3",
      "display_name": "Python 3"
    }
  },
  "cells": [
    {
      "cell_type": "code",
      "metadata": {
        "id": "VqLfSPj6JeNa",
        "colab_type": "code",
        "colab": {
          "base_uri": "https://localhost:8080/",
          "height": 201
        },
        "outputId": "75080d70-17b4-4b93-b4ed-c95ca2c0aeaa"
      },
      "source": [
        "!wget https://he-s3.s3.amazonaws.com/media/hackathon/hackerearth-machine-learning-challenge-predict-the-lowest-price/predict-the-lowest-price-8-9ffabe00/9d754f08bf6711ea.zip"
      ],
      "execution_count": null,
      "outputs": [
        {
          "output_type": "stream",
          "text": [
            "--2020-07-26 10:40:06--  https://he-s3.s3.amazonaws.com/media/hackathon/hackerearth-machine-learning-challenge-predict-the-lowest-price/predict-the-lowest-price-8-9ffabe00/9d754f08bf6711ea.zip\n",
            "Resolving he-s3.s3.amazonaws.com (he-s3.s3.amazonaws.com)... 52.219.129.64\n",
            "Connecting to he-s3.s3.amazonaws.com (he-s3.s3.amazonaws.com)|52.219.129.64|:443... connected.\n",
            "HTTP request sent, awaiting response... 200 OK\n",
            "Length: 221585 (216K) [application/zip]\n",
            "Saving to: ‘9d754f08bf6711ea.zip’\n",
            "\n",
            "9d754f08bf6711ea.zi 100%[===================>] 216.39K   464KB/s    in 0.5s    \n",
            "\n",
            "2020-07-26 10:40:07 (464 KB/s) - ‘9d754f08bf6711ea.zip’ saved [221585/221585]\n",
            "\n"
          ],
          "name": "stdout"
        }
      ]
    },
    {
      "cell_type": "code",
      "metadata": {
        "id": "pigkqR3mJmiy",
        "colab_type": "code",
        "colab": {
          "base_uri": "https://localhost:8080/",
          "height": 100
        },
        "outputId": "7eb82f54-ab00-4fb6-9b73-0f28a368dfba"
      },
      "source": [
        "!unzip 9d754f08bf6711ea.zip"
      ],
      "execution_count": null,
      "outputs": [
        {
          "output_type": "stream",
          "text": [
            "Archive:  9d754f08bf6711ea.zip\n",
            "   creating: Dataset/\n",
            "  inflating: Dataset/sample_submission.csv  \n",
            "  inflating: Dataset/Test.csv        \n",
            "  inflating: Dataset/Train.csv       \n"
          ],
          "name": "stdout"
        }
      ]
    },
    {
      "cell_type": "code",
      "metadata": {
        "id": "DGnTnrkPM5vx",
        "colab_type": "code",
        "colab": {}
      },
      "source": [
        "import pandas as pd\n",
        "import numpy as np\n",
        "import matplotlib.pyplot as plt\n",
        "%matplotlib inline\n",
        "import warnings\n",
        "warnings.simplefilter(action='ignore', category=FutureWarning)"
      ],
      "execution_count": null,
      "outputs": []
    },
    {
      "cell_type": "code",
      "metadata": {
        "id": "qZC3EyAOM6f3",
        "colab_type": "code",
        "colab": {}
      },
      "source": [
        "train = pd.read_csv('Dataset/Train.csv')\n",
        "test = pd.read_csv('Dataset/Test.csv')"
      ],
      "execution_count": null,
      "outputs": []
    },
    {
      "cell_type": "code",
      "metadata": {
        "id": "-XzdyhBt19DN",
        "colab_type": "code",
        "colab": {
          "base_uri": "https://localhost:8080/",
          "height": 190
        },
        "outputId": "a8ab56c2-0e69-4960-b54d-067793eec0be"
      },
      "source": [
        "train.head(5)"
      ],
      "execution_count": null,
      "outputs": [
        {
          "output_type": "execute_result",
          "data": {
            "text/html": [
              "<div>\n",
              "<style scoped>\n",
              "    .dataframe tbody tr th:only-of-type {\n",
              "        vertical-align: middle;\n",
              "    }\n",
              "\n",
              "    .dataframe tbody tr th {\n",
              "        vertical-align: top;\n",
              "    }\n",
              "\n",
              "    .dataframe thead th {\n",
              "        text-align: right;\n",
              "    }\n",
              "</style>\n",
              "<table border=\"1\" class=\"dataframe\">\n",
              "  <thead>\n",
              "    <tr style=\"text-align: right;\">\n",
              "      <th></th>\n",
              "      <th>Item_Id</th>\n",
              "      <th>Date</th>\n",
              "      <th>State_of_Country</th>\n",
              "      <th>Market_Category</th>\n",
              "      <th>Product_Category</th>\n",
              "      <th>Grade</th>\n",
              "      <th>Demand</th>\n",
              "      <th>Low_Cap_Price</th>\n",
              "      <th>High_Cap_Price</th>\n",
              "    </tr>\n",
              "  </thead>\n",
              "  <tbody>\n",
              "    <tr>\n",
              "      <th>0</th>\n",
              "      <td>IT_1</td>\n",
              "      <td>2007-07-05</td>\n",
              "      <td>0</td>\n",
              "      <td>0</td>\n",
              "      <td>0</td>\n",
              "      <td>0</td>\n",
              "      <td>0.5</td>\n",
              "      <td>2785</td>\n",
              "      <td>4240</td>\n",
              "    </tr>\n",
              "    <tr>\n",
              "      <th>1</th>\n",
              "      <td>IT_2</td>\n",
              "      <td>2007-07-05</td>\n",
              "      <td>0</td>\n",
              "      <td>1</td>\n",
              "      <td>0</td>\n",
              "      <td>0</td>\n",
              "      <td>0.7</td>\n",
              "      <td>3574</td>\n",
              "      <td>4756</td>\n",
              "    </tr>\n",
              "    <tr>\n",
              "      <th>2</th>\n",
              "      <td>IT_3</td>\n",
              "      <td>2007-07-05</td>\n",
              "      <td>0</td>\n",
              "      <td>103</td>\n",
              "      <td>0</td>\n",
              "      <td>1</td>\n",
              "      <td>1.6</td>\n",
              "      <td>5978</td>\n",
              "      <td>9669</td>\n",
              "    </tr>\n",
              "    <tr>\n",
              "      <th>3</th>\n",
              "      <td>IT_4</td>\n",
              "      <td>2007-07-05</td>\n",
              "      <td>0</td>\n",
              "      <td>103</td>\n",
              "      <td>0</td>\n",
              "      <td>0</td>\n",
              "      <td>0.0</td>\n",
              "      <td>5681</td>\n",
              "      <td>8313</td>\n",
              "    </tr>\n",
              "    <tr>\n",
              "      <th>4</th>\n",
              "      <td>IT_5</td>\n",
              "      <td>2007-07-05</td>\n",
              "      <td>0</td>\n",
              "      <td>103</td>\n",
              "      <td>0</td>\n",
              "      <td>2</td>\n",
              "      <td>0.0</td>\n",
              "      <td>4924</td>\n",
              "      <td>7257</td>\n",
              "    </tr>\n",
              "  </tbody>\n",
              "</table>\n",
              "</div>"
            ],
            "text/plain": [
              "  Item_Id        Date  State_of_Country  ...  Demand  Low_Cap_Price  High_Cap_Price\n",
              "0    IT_1  2007-07-05                 0  ...     0.5           2785            4240\n",
              "1    IT_2  2007-07-05                 0  ...     0.7           3574            4756\n",
              "2    IT_3  2007-07-05                 0  ...     1.6           5978            9669\n",
              "3    IT_4  2007-07-05                 0  ...     0.0           5681            8313\n",
              "4    IT_5  2007-07-05                 0  ...     0.0           4924            7257\n",
              "\n",
              "[5 rows x 9 columns]"
            ]
          },
          "metadata": {
            "tags": []
          },
          "execution_count": 130
        }
      ]
    },
    {
      "cell_type": "code",
      "metadata": {
        "id": "ISMwqie81_dQ",
        "colab_type": "code",
        "colab": {
          "base_uri": "https://localhost:8080/",
          "height": 190
        },
        "outputId": "179cf38c-52f1-443f-81f4-da5265174b1b"
      },
      "source": [
        "test.head(5)"
      ],
      "execution_count": null,
      "outputs": [
        {
          "output_type": "execute_result",
          "data": {
            "text/html": [
              "<div>\n",
              "<style scoped>\n",
              "    .dataframe tbody tr th:only-of-type {\n",
              "        vertical-align: middle;\n",
              "    }\n",
              "\n",
              "    .dataframe tbody tr th {\n",
              "        vertical-align: top;\n",
              "    }\n",
              "\n",
              "    .dataframe thead th {\n",
              "        text-align: right;\n",
              "    }\n",
              "</style>\n",
              "<table border=\"1\" class=\"dataframe\">\n",
              "  <thead>\n",
              "    <tr style=\"text-align: right;\">\n",
              "      <th></th>\n",
              "      <th>Item_Id</th>\n",
              "      <th>Date</th>\n",
              "      <th>State_of_Country</th>\n",
              "      <th>Market_Category</th>\n",
              "      <th>Product_Category</th>\n",
              "      <th>Grade</th>\n",
              "      <th>Demand</th>\n",
              "      <th>High_Cap_Price</th>\n",
              "    </tr>\n",
              "  </thead>\n",
              "  <tbody>\n",
              "    <tr>\n",
              "      <th>0</th>\n",
              "      <td>IT_265079</td>\n",
              "      <td>2014-01-19</td>\n",
              "      <td>0</td>\n",
              "      <td>3</td>\n",
              "      <td>0</td>\n",
              "      <td>0</td>\n",
              "      <td>0.1</td>\n",
              "      <td>5303</td>\n",
              "    </tr>\n",
              "    <tr>\n",
              "      <th>1</th>\n",
              "      <td>IT_265087</td>\n",
              "      <td>2014-01-19</td>\n",
              "      <td>0</td>\n",
              "      <td>268</td>\n",
              "      <td>0</td>\n",
              "      <td>2</td>\n",
              "      <td>1.4</td>\n",
              "      <td>10492</td>\n",
              "    </tr>\n",
              "    <tr>\n",
              "      <th>2</th>\n",
              "      <td>IT_265107</td>\n",
              "      <td>2014-01-19</td>\n",
              "      <td>0</td>\n",
              "      <td>320</td>\n",
              "      <td>0</td>\n",
              "      <td>0</td>\n",
              "      <td>13.4</td>\n",
              "      <td>24706</td>\n",
              "    </tr>\n",
              "    <tr>\n",
              "      <th>3</th>\n",
              "      <td>IT_265139</td>\n",
              "      <td>2014-01-19</td>\n",
              "      <td>17</td>\n",
              "      <td>358</td>\n",
              "      <td>0</td>\n",
              "      <td>3</td>\n",
              "      <td>5.5</td>\n",
              "      <td>23464</td>\n",
              "    </tr>\n",
              "    <tr>\n",
              "      <th>4</th>\n",
              "      <td>IT_265142</td>\n",
              "      <td>2014-01-19</td>\n",
              "      <td>18</td>\n",
              "      <td>23</td>\n",
              "      <td>5</td>\n",
              "      <td>2</td>\n",
              "      <td>0.0</td>\n",
              "      <td>6222</td>\n",
              "    </tr>\n",
              "  </tbody>\n",
              "</table>\n",
              "</div>"
            ],
            "text/plain": [
              "     Item_Id        Date  State_of_Country  ...  Grade  Demand  High_Cap_Price\n",
              "0  IT_265079  2014-01-19                 0  ...      0     0.1            5303\n",
              "1  IT_265087  2014-01-19                 0  ...      2     1.4           10492\n",
              "2  IT_265107  2014-01-19                 0  ...      0    13.4           24706\n",
              "3  IT_265139  2014-01-19                17  ...      3     5.5           23464\n",
              "4  IT_265142  2014-01-19                18  ...      2     0.0            6222\n",
              "\n",
              "[5 rows x 8 columns]"
            ]
          },
          "metadata": {
            "tags": []
          },
          "execution_count": 131
        }
      ]
    },
    {
      "cell_type": "code",
      "metadata": {
        "id": "pxWm9mHM2DKK",
        "colab_type": "code",
        "colab": {
          "base_uri": "https://localhost:8080/",
          "height": 470
        },
        "outputId": "5812aa16-418a-46d9-9d53-3a0acf788718"
      },
      "source": [
        "train.isnull().sum(),test.isnull().sum(),train.shape,test.shape,train.dtypes"
      ],
      "execution_count": null,
      "outputs": [
        {
          "output_type": "execute_result",
          "data": {
            "text/plain": [
              "(Item_Id             0\n",
              " Date                0\n",
              " State_of_Country    0\n",
              " Market_Category     0\n",
              " Product_Category    0\n",
              " Grade               0\n",
              " Demand              0\n",
              " Low_Cap_Price       0\n",
              " High_Cap_Price      0\n",
              " dtype: int64, Item_Id             0\n",
              " Date                0\n",
              " State_of_Country    0\n",
              " Market_Category     0\n",
              " Product_Category    0\n",
              " Grade               0\n",
              " Demand              0\n",
              " High_Cap_Price      0\n",
              " dtype: int64, (9798, 9), (5763, 8), Item_Id              object\n",
              " Date                 object\n",
              " State_of_Country      int64\n",
              " Market_Category       int64\n",
              " Product_Category      int64\n",
              " Grade                 int64\n",
              " Demand              float64\n",
              " Low_Cap_Price         int64\n",
              " High_Cap_Price        int64\n",
              " dtype: object)"
            ]
          },
          "metadata": {
            "tags": []
          },
          "execution_count": 132
        }
      ]
    },
    {
      "cell_type": "code",
      "metadata": {
        "id": "Kk4jScpzJz4o",
        "colab_type": "code",
        "colab": {}
      },
      "source": [
        "k=['Date']\n",
        "for i in k:\n",
        "  train[i] = pd.to_datetime(train[i])\n",
        "  test[i] = pd.to_datetime(test[i])\n",
        "for i in k:\n",
        "  test[i+'_'+'year'] = test[i].dt.year\n",
        "  test[i+'_'+'day'] = test[i].dt.day\n",
        "  test[i+'_'+'weekofyear'] = test[i].dt.weekofyear\n",
        "  test[i+'_'+'month'] = test[i].dt.month\n",
        "  test[i+'_'+'dayofweek'] =test[i].dt.dayofweek\n",
        "  test[i+'_'+'weekend'] = (test[i].dt.weekday >=5).astype(int)\n",
        "  train[i+'_'+'year'] = train[i].dt.year\n",
        "  train[i+'_'+'day'] = train[i].dt.day\n",
        "  train[i+'_'+'weekofyear'] = train[i].dt.weekofyear\n",
        "  train[i+'_'+'month'] = train[i].dt.month\n",
        "  train[i+'_'+'dayofweek'] = train[i].dt.dayofweek\n",
        "  train[i+'_'+'weekend'] = (train[i].dt.weekday >=5).astype(int)\n",
        "del train['Date']\n",
        "del test['Date']"
      ],
      "execution_count": null,
      "outputs": []
    },
    {
      "cell_type": "code",
      "metadata": {
        "id": "WrctU3cnO6vn",
        "colab_type": "code",
        "colab": {}
      },
      "source": [
        "df=train.append(test,ignore_index=True)"
      ],
      "execution_count": null,
      "outputs": []
    },
    {
      "cell_type": "code",
      "metadata": {
        "id": "J9UGAEBwI5H-",
        "colab_type": "code",
        "colab": {}
      },
      "source": [
        "#extraa\n",
        "df['High_Demond']=df['High_Cap_Price']*df['Demand']\n",
        "df['High_State']=df['High_Cap_Price']*df['State_of_Country']\n",
        "df['High_weekofyear']=df['High_Cap_Price']/df['Date_weekofyear']\n",
        "df['High_Market_Category']=df['High_Cap_Price']*df['Market_Category']\n",
        "df['Ag_x']=(df['Grade']+df['Demand'])*df['High_Cap_Price']"
      ],
      "execution_count": null,
      "outputs": []
    },
    {
      "cell_type": "code",
      "metadata": {
        "id": "8-NV50RdINw1",
        "colab_type": "code",
        "colab": {}
      },
      "source": [
        "df = pd.get_dummies(df, columns=['Grade','State_of_Country','Product_Category','Market_Category','Demand'])"
      ],
      "execution_count": null,
      "outputs": []
    },
    {
      "cell_type": "code",
      "metadata": {
        "id": "-avHlmU2IR9L",
        "colab_type": "code",
        "colab": {
          "base_uri": "https://localhost:8080/",
          "height": 153
        },
        "outputId": "aec2d720-d309-4c6c-f62d-e5f6aa49320b"
      },
      "source": [
        "df.tail(2)"
      ],
      "execution_count": null,
      "outputs": [
        {
          "output_type": "execute_result",
          "data": {
            "text/html": [
              "<div>\n",
              "<style scoped>\n",
              "    .dataframe tbody tr th:only-of-type {\n",
              "        vertical-align: middle;\n",
              "    }\n",
              "\n",
              "    .dataframe tbody tr th {\n",
              "        vertical-align: top;\n",
              "    }\n",
              "\n",
              "    .dataframe thead th {\n",
              "        text-align: right;\n",
              "    }\n",
              "</style>\n",
              "<table border=\"1\" class=\"dataframe\">\n",
              "  <thead>\n",
              "    <tr style=\"text-align: right;\">\n",
              "      <th></th>\n",
              "      <th>Item_Id</th>\n",
              "      <th>Low_Cap_Price</th>\n",
              "      <th>High_Cap_Price</th>\n",
              "      <th>Date_year</th>\n",
              "      <th>Date_day</th>\n",
              "      <th>Date_weekofyear</th>\n",
              "      <th>Date_month</th>\n",
              "      <th>Date_dayofweek</th>\n",
              "      <th>Date_weekend</th>\n",
              "      <th>High_Demond</th>\n",
              "      <th>High_State</th>\n",
              "      <th>High_weekofyear</th>\n",
              "      <th>High_Market_Category</th>\n",
              "      <th>Ag_x</th>\n",
              "      <th>Grade_0</th>\n",
              "      <th>Grade_1</th>\n",
              "      <th>Grade_2</th>\n",
              "      <th>Grade_3</th>\n",
              "      <th>State_of_Country_0</th>\n",
              "      <th>State_of_Country_1</th>\n",
              "      <th>State_of_Country_2</th>\n",
              "      <th>State_of_Country_3</th>\n",
              "      <th>State_of_Country_4</th>\n",
              "      <th>State_of_Country_5</th>\n",
              "      <th>State_of_Country_6</th>\n",
              "      <th>State_of_Country_7</th>\n",
              "      <th>State_of_Country_8</th>\n",
              "      <th>State_of_Country_9</th>\n",
              "      <th>State_of_Country_10</th>\n",
              "      <th>State_of_Country_11</th>\n",
              "      <th>State_of_Country_12</th>\n",
              "      <th>State_of_Country_13</th>\n",
              "      <th>State_of_Country_14</th>\n",
              "      <th>State_of_Country_15</th>\n",
              "      <th>State_of_Country_17</th>\n",
              "      <th>State_of_Country_18</th>\n",
              "      <th>State_of_Country_19</th>\n",
              "      <th>State_of_Country_20</th>\n",
              "      <th>State_of_Country_21</th>\n",
              "      <th>State_of_Country_22</th>\n",
              "      <th>...</th>\n",
              "      <th>Demand_5214.2</th>\n",
              "      <th>Demand_5257.8</th>\n",
              "      <th>Demand_5301.8</th>\n",
              "      <th>Demand_5321.7</th>\n",
              "      <th>Demand_5396.1</th>\n",
              "      <th>Demand_5416.6</th>\n",
              "      <th>Demand_5421.1</th>\n",
              "      <th>Demand_5436.9</th>\n",
              "      <th>Demand_5446.2</th>\n",
              "      <th>Demand_5514.3</th>\n",
              "      <th>Demand_5518.2</th>\n",
              "      <th>Demand_5575.4</th>\n",
              "      <th>Demand_5642.8</th>\n",
              "      <th>Demand_5698.0</th>\n",
              "      <th>Demand_5723.3</th>\n",
              "      <th>Demand_5765.9</th>\n",
              "      <th>Demand_5966.4</th>\n",
              "      <th>Demand_6016.1</th>\n",
              "      <th>Demand_6087.6</th>\n",
              "      <th>Demand_6100.2</th>\n",
              "      <th>Demand_6319.9</th>\n",
              "      <th>Demand_6339.5</th>\n",
              "      <th>Demand_6733.5</th>\n",
              "      <th>Demand_6965.3</th>\n",
              "      <th>Demand_7148.9</th>\n",
              "      <th>Demand_7196.4</th>\n",
              "      <th>Demand_7360.0</th>\n",
              "      <th>Demand_7540.5</th>\n",
              "      <th>Demand_8100.1</th>\n",
              "      <th>Demand_8443.4</th>\n",
              "      <th>Demand_8622.4</th>\n",
              "      <th>Demand_9252.0</th>\n",
              "      <th>Demand_13242.6</th>\n",
              "      <th>Demand_15958.7</th>\n",
              "      <th>Demand_18307.1</th>\n",
              "      <th>Demand_21862.9</th>\n",
              "      <th>Demand_24656.0</th>\n",
              "      <th>Demand_26276.4</th>\n",
              "      <th>Demand_26882.3</th>\n",
              "      <th>Demand_64160.5</th>\n",
              "    </tr>\n",
              "  </thead>\n",
              "  <tbody>\n",
              "    <tr>\n",
              "      <th>15559</th>\n",
              "      <td>IT_361719</td>\n",
              "      <td>NaN</td>\n",
              "      <td>8070</td>\n",
              "      <td>2015</td>\n",
              "      <td>29</td>\n",
              "      <td>40</td>\n",
              "      <td>9</td>\n",
              "      <td>1</td>\n",
              "      <td>0</td>\n",
              "      <td>27438.0</td>\n",
              "      <td>169470</td>\n",
              "      <td>201.750</td>\n",
              "      <td>3647640</td>\n",
              "      <td>27438.0</td>\n",
              "      <td>1</td>\n",
              "      <td>0</td>\n",
              "      <td>0</td>\n",
              "      <td>0</td>\n",
              "      <td>0</td>\n",
              "      <td>0</td>\n",
              "      <td>0</td>\n",
              "      <td>0</td>\n",
              "      <td>0</td>\n",
              "      <td>0</td>\n",
              "      <td>0</td>\n",
              "      <td>0</td>\n",
              "      <td>0</td>\n",
              "      <td>0</td>\n",
              "      <td>0</td>\n",
              "      <td>0</td>\n",
              "      <td>0</td>\n",
              "      <td>0</td>\n",
              "      <td>0</td>\n",
              "      <td>0</td>\n",
              "      <td>0</td>\n",
              "      <td>0</td>\n",
              "      <td>0</td>\n",
              "      <td>0</td>\n",
              "      <td>1</td>\n",
              "      <td>0</td>\n",
              "      <td>...</td>\n",
              "      <td>0</td>\n",
              "      <td>0</td>\n",
              "      <td>0</td>\n",
              "      <td>0</td>\n",
              "      <td>0</td>\n",
              "      <td>0</td>\n",
              "      <td>0</td>\n",
              "      <td>0</td>\n",
              "      <td>0</td>\n",
              "      <td>0</td>\n",
              "      <td>0</td>\n",
              "      <td>0</td>\n",
              "      <td>0</td>\n",
              "      <td>0</td>\n",
              "      <td>0</td>\n",
              "      <td>0</td>\n",
              "      <td>0</td>\n",
              "      <td>0</td>\n",
              "      <td>0</td>\n",
              "      <td>0</td>\n",
              "      <td>0</td>\n",
              "      <td>0</td>\n",
              "      <td>0</td>\n",
              "      <td>0</td>\n",
              "      <td>0</td>\n",
              "      <td>0</td>\n",
              "      <td>0</td>\n",
              "      <td>0</td>\n",
              "      <td>0</td>\n",
              "      <td>0</td>\n",
              "      <td>0</td>\n",
              "      <td>0</td>\n",
              "      <td>0</td>\n",
              "      <td>0</td>\n",
              "      <td>0</td>\n",
              "      <td>0</td>\n",
              "      <td>0</td>\n",
              "      <td>0</td>\n",
              "      <td>0</td>\n",
              "      <td>0</td>\n",
              "    </tr>\n",
              "    <tr>\n",
              "      <th>15560</th>\n",
              "      <td>IT_361723</td>\n",
              "      <td>NaN</td>\n",
              "      <td>11309</td>\n",
              "      <td>2015</td>\n",
              "      <td>29</td>\n",
              "      <td>40</td>\n",
              "      <td>9</td>\n",
              "      <td>1</td>\n",
              "      <td>0</td>\n",
              "      <td>15832.6</td>\n",
              "      <td>237489</td>\n",
              "      <td>282.725</td>\n",
              "      <td>4071240</td>\n",
              "      <td>15832.6</td>\n",
              "      <td>1</td>\n",
              "      <td>0</td>\n",
              "      <td>0</td>\n",
              "      <td>0</td>\n",
              "      <td>0</td>\n",
              "      <td>0</td>\n",
              "      <td>0</td>\n",
              "      <td>0</td>\n",
              "      <td>0</td>\n",
              "      <td>0</td>\n",
              "      <td>0</td>\n",
              "      <td>0</td>\n",
              "      <td>0</td>\n",
              "      <td>0</td>\n",
              "      <td>0</td>\n",
              "      <td>0</td>\n",
              "      <td>0</td>\n",
              "      <td>0</td>\n",
              "      <td>0</td>\n",
              "      <td>0</td>\n",
              "      <td>0</td>\n",
              "      <td>0</td>\n",
              "      <td>0</td>\n",
              "      <td>0</td>\n",
              "      <td>1</td>\n",
              "      <td>0</td>\n",
              "      <td>...</td>\n",
              "      <td>0</td>\n",
              "      <td>0</td>\n",
              "      <td>0</td>\n",
              "      <td>0</td>\n",
              "      <td>0</td>\n",
              "      <td>0</td>\n",
              "      <td>0</td>\n",
              "      <td>0</td>\n",
              "      <td>0</td>\n",
              "      <td>0</td>\n",
              "      <td>0</td>\n",
              "      <td>0</td>\n",
              "      <td>0</td>\n",
              "      <td>0</td>\n",
              "      <td>0</td>\n",
              "      <td>0</td>\n",
              "      <td>0</td>\n",
              "      <td>0</td>\n",
              "      <td>0</td>\n",
              "      <td>0</td>\n",
              "      <td>0</td>\n",
              "      <td>0</td>\n",
              "      <td>0</td>\n",
              "      <td>0</td>\n",
              "      <td>0</td>\n",
              "      <td>0</td>\n",
              "      <td>0</td>\n",
              "      <td>0</td>\n",
              "      <td>0</td>\n",
              "      <td>0</td>\n",
              "      <td>0</td>\n",
              "      <td>0</td>\n",
              "      <td>0</td>\n",
              "      <td>0</td>\n",
              "      <td>0</td>\n",
              "      <td>0</td>\n",
              "      <td>0</td>\n",
              "      <td>0</td>\n",
              "      <td>0</td>\n",
              "      <td>0</td>\n",
              "    </tr>\n",
              "  </tbody>\n",
              "</table>\n",
              "<p>2 rows × 2044 columns</p>\n",
              "</div>"
            ],
            "text/plain": [
              "         Item_Id  Low_Cap_Price  ...  Demand_26882.3  Demand_64160.5\n",
              "15559  IT_361719            NaN  ...               0               0\n",
              "15560  IT_361723            NaN  ...               0               0\n",
              "\n",
              "[2 rows x 2044 columns]"
            ]
          },
          "metadata": {
            "tags": []
          },
          "execution_count": 137
        }
      ]
    },
    {
      "cell_type": "code",
      "metadata": {
        "id": "7OE8vXpfyr6_",
        "colab_type": "code",
        "colab": {}
      },
      "source": [
        "train = df[df['Low_Cap_Price'].isnull()==False]\n",
        "test = df[df['Low_Cap_Price'].isnull()==True]\n",
        "del test['Low_Cap_Price']"
      ],
      "execution_count": null,
      "outputs": []
    },
    {
      "cell_type": "code",
      "metadata": {
        "id": "EmXLwvm0IH53",
        "colab_type": "code",
        "colab": {}
      },
      "source": [
        "train_df=train\n",
        "test_df=test"
      ],
      "execution_count": null,
      "outputs": []
    },
    {
      "cell_type": "code",
      "metadata": {
        "id": "ki50UvyoikRY",
        "colab_type": "code",
        "colab": {}
      },
      "source": [
        "indexx= test_df['Item_Id']\n",
        "del train_df['Item_Id']\n",
        "del test_df['Item_Id']"
      ],
      "execution_count": null,
      "outputs": []
    },
    {
      "cell_type": "code",
      "metadata": {
        "id": "r96_0jnSIE_C",
        "colab_type": "code",
        "colab": {}
      },
      "source": [
        "X = train_df.drop(labels=['Low_Cap_Price'], axis=1)\n",
        "y = train_df['Low_Cap_Price'].values\n",
        "\n",
        "from sklearn.model_selection import train_test_split\n",
        "X_train, X_cv, y_train, y_cv = train_test_split(X, y, test_size=0.10, random_state=101)"
      ],
      "execution_count": null,
      "outputs": []
    },
    {
      "cell_type": "code",
      "metadata": {
        "id": "qXkdL_UNIL48",
        "colab_type": "code",
        "colab": {
          "base_uri": "https://localhost:8080/",
          "height": 33
        },
        "outputId": "e33946fe-91dc-47c0-cfba-462edb6328cf"
      },
      "source": [
        "X_train.shape, y_train.shape, X_cv.shape, y_cv.shape"
      ],
      "execution_count": null,
      "outputs": [
        {
          "output_type": "execute_result",
          "data": {
            "text/plain": [
              "((8818, 2042), (8818,), (980, 2042), (980,))"
            ]
          },
          "metadata": {
            "tags": []
          },
          "execution_count": 142
        }
      ]
    },
    {
      "cell_type": "code",
      "metadata": {
        "id": "SSEmz4TRIOA0",
        "colab_type": "code",
        "colab": {}
      },
      "source": [
        "from math import sqrt \n",
        "from sklearn.metrics import mean_squared_log_error, mean_squared_error"
      ],
      "execution_count": null,
      "outputs": []
    },
    {
      "cell_type": "code",
      "metadata": {
        "id": "JTF5zLytQzvT",
        "colab_type": "code",
        "colab": {
          "base_uri": "https://localhost:8080/",
          "height": 319
        },
        "outputId": "87c85d4b-f8c5-4ab3-e02e-58ca958266bd"
      },
      "source": [
        "import lightgbm as lgb\n",
        "train_data = lgb.Dataset(X_train, label=y_train)\n",
        "test_data = lgb.Dataset(X_cv, label=y_cv)\n",
        "\n",
        "param = {'objective': 'regression',\n",
        "         'boosting': 'gbdt',  \n",
        "         'metric': 'l2_root',\n",
        "         'learning_rate': 0.01, \n",
        "         'num_iterations': 3500,\n",
        "         'num_leaves': 31,\n",
        "         'max_depth': -1,\n",
        "         'min_data_in_leaf': 11,\n",
        "         'bagging_fraction': 0.90,\n",
        "         'bagging_freq': 2,\n",
        "         'bagging_seed': 3,\n",
        "         'feature_fraction': 0.90,\n",
        "         'feature_fraction_seed': 2,\n",
        "         'early_stopping_round': 200,\n",
        "         'max_bin': 1000\n",
        "         }\n",
        "\n",
        "lgbm = lgb.train(params=param, verbose_eval=100, train_set=train_data, valid_sets=[test_data])\n",
        "\n",
        "y_pred_lgbm = lgbm.predict(X_cv)\n",
        "print('RMSLE:', mean_squared_error(y_cv,y_pred_lgbm))"
      ],
      "execution_count": null,
      "outputs": [
        {
          "output_type": "stream",
          "text": [
            "/usr/local/lib/python3.6/dist-packages/lightgbm/engine.py:118: UserWarning: Found `num_iterations` in params. Will use it instead of argument\n",
            "  warnings.warn(\"Found `{}` in params. Will use it instead of argument\".format(alias))\n",
            "/usr/local/lib/python3.6/dist-packages/lightgbm/engine.py:123: UserWarning: Found `early_stopping_round` in params. Will use it instead of argument\n",
            "  warnings.warn(\"Found `{}` in params. Will use it instead of argument\".format(alias))\n"
          ],
          "name": "stderr"
        },
        {
          "output_type": "stream",
          "text": [
            "Training until validation scores don't improve for 200 rounds.\n",
            "[100]\tvalid_0's rmse: 1103.46\n",
            "[200]\tvalid_0's rmse: 812.898\n",
            "[300]\tvalid_0's rmse: 735.923\n",
            "[400]\tvalid_0's rmse: 708.791\n",
            "[500]\tvalid_0's rmse: 695.821\n",
            "[600]\tvalid_0's rmse: 689.806\n",
            "[700]\tvalid_0's rmse: 688.688\n",
            "[800]\tvalid_0's rmse: 687.566\n",
            "[900]\tvalid_0's rmse: 688.213\n",
            "[1000]\tvalid_0's rmse: 689.162\n",
            "Early stopping, best iteration is:\n",
            "[812]\tvalid_0's rmse: 687.368\n",
            "RMSLE: 472475.44408961147\n"
          ],
          "name": "stdout"
        }
      ]
    },
    {
      "cell_type": "code",
      "metadata": {
        "id": "Vx0njlmfMtB7",
        "colab_type": "code",
        "colab": {
          "base_uri": "https://localhost:8080/",
          "height": 728
        },
        "outputId": "c6b06ae2-3a7e-40f1-c762-412b0c96d478"
      },
      "source": [
        "import seaborn as sns\n",
        "feature_imp = pd.DataFrame(sorted(zip(lgbm.feature_importance(), X.columns), reverse=True)[:50], \n",
        "                           columns=['Value','Feature'])\n",
        "plt.figure(figsize=(12, 10))\n",
        "sns.barplot(x=\"Value\", y=\"Feature\", data=feature_imp.sort_values(by=\"Value\", ascending=False))\n",
        "plt.title('LightGBM Features')\n",
        "plt.tight_layout()\n",
        "plt.show()"
      ],
      "execution_count": null,
      "outputs": [
        {
          "output_type": "display_data",
          "data": {
            "image/png": "[encoded data removed]",
            "text/plain": [
              "<Figure size 864x720 with 1 Axes>"
            ]
          },
          "metadata": {
            "tags": [],
            "needs_background": "light"
          }
        }
      ]
    },
    {
      "cell_type": "code",
      "metadata": {
        "id": "z_uLoQN5M3Ej",
        "colab_type": "code",
        "colab": {}
      },
      "source": [
        "Xtest = test_df"
      ],
      "execution_count": null,
      "outputs": []
    },
    {
      "cell_type": "code",
      "metadata": {
        "id": "Q3EyF-4zNtaR",
        "colab_type": "code",
        "colab": {
          "base_uri": "https://localhost:8080/",
          "height": 856
        },
        "outputId": "29315223-524a-49f5-fb03-31c10712ad72"
      },
      "source": [
        "from sklearn.model_selection import KFold\n",
        "from lightgbm import LGBMRegressor\n",
        "\n",
        "errlgb = []\n",
        "y_pred_totlgb = []\n",
        "\n",
        "fold = KFold(n_splits=10, shuffle=True, random_state=42)\n",
        "\n",
        "for train_index, test_index in fold.split(X):\n",
        "    X_train, X_test = X.loc[train_index], X.loc[test_index]\n",
        "    y_train, y_test = y[train_index], y[test_index]\n",
        "\n",
        "    lgbm = LGBMRegressor(**param)\n",
        "    #lgbm = LGBMRegressor(boosting='gbdt',learning_rate=0.01, n_estimators=10000, random_state=101, subsample=0.9)\n",
        "    lgbm.fit(X_train, y_train, eval_set=[(X_test, y_test)], verbose=0, early_stopping_rounds=200)\n",
        "\n",
        "    y_pred_lgbm = lgbm.predict(X_test)\n",
        "    print(\"RMSLE LGBM: \", mean_squared_error(y_test, y_pred_lgbm))\n",
        "\n",
        "    errlgb.append(mean_squared_error(y_test,y_pred_lgbm))\n",
        "    p = lgbm.predict(Xtest)\n",
        "    y_pred_totlgb.append(p)"
      ],
      "execution_count": null,
      "outputs": [
        {
          "output_type": "stream",
          "text": [
            "/usr/local/lib/python3.6/dist-packages/lightgbm/engine.py:118: UserWarning: Found `num_iterations` in params. Will use it instead of argument\n",
            "  warnings.warn(\"Found `{}` in params. Will use it instead of argument\".format(alias))\n",
            "/usr/local/lib/python3.6/dist-packages/lightgbm/engine.py:123: UserWarning: Found `early_stopping_round` in params. Will use it instead of argument\n",
            "  warnings.warn(\"Found `{}` in params. Will use it instead of argument\".format(alias))\n"
          ],
          "name": "stderr"
        },
        {
          "output_type": "stream",
          "text": [
            "RMSLE LGBM:  579833.7637682747\n"
          ],
          "name": "stdout"
        },
        {
          "output_type": "stream",
          "text": [
            "/usr/local/lib/python3.6/dist-packages/lightgbm/engine.py:118: UserWarning: Found `num_iterations` in params. Will use it instead of argument\n",
            "  warnings.warn(\"Found `{}` in params. Will use it instead of argument\".format(alias))\n",
            "/usr/local/lib/python3.6/dist-packages/lightgbm/engine.py:123: UserWarning: Found `early_stopping_round` in params. Will use it instead of argument\n",
            "  warnings.warn(\"Found `{}` in params. Will use it instead of argument\".format(alias))\n"
          ],
          "name": "stderr"
        },
        {
          "output_type": "stream",
          "text": [
            "RMSLE LGBM:  613177.826461999\n"
          ],
          "name": "stdout"
        },
        {
          "output_type": "stream",
          "text": [
            "/usr/local/lib/python3.6/dist-packages/lightgbm/engine.py:118: UserWarning: Found `num_iterations` in params. Will use it instead of argument\n",
            "  warnings.warn(\"Found `{}` in params. Will use it instead of argument\".format(alias))\n",
            "/usr/local/lib/python3.6/dist-packages/lightgbm/engine.py:123: UserWarning: Found `early_stopping_round` in params. Will use it instead of argument\n",
            "  warnings.warn(\"Found `{}` in params. Will use it instead of argument\".format(alias))\n"
          ],
          "name": "stderr"
        },
        {
          "output_type": "stream",
          "text": [
            "RMSLE LGBM:  612740.2712847843\n"
          ],
          "name": "stdout"
        },
        {
          "output_type": "stream",
          "text": [
            "/usr/local/lib/python3.6/dist-packages/lightgbm/engine.py:118: UserWarning: Found `num_iterations` in params. Will use it instead of argument\n",
            "  warnings.warn(\"Found `{}` in params. Will use it instead of argument\".format(alias))\n",
            "/usr/local/lib/python3.6/dist-packages/lightgbm/engine.py:123: UserWarning: Found `early_stopping_round` in params. Will use it instead of argument\n",
            "  warnings.warn(\"Found `{}` in params. Will use it instead of argument\".format(alias))\n"
          ],
          "name": "stderr"
        },
        {
          "output_type": "stream",
          "text": [
            "RMSLE LGBM:  425080.8272162492\n"
          ],
          "name": "stdout"
        },
        {
          "output_type": "stream",
          "text": [
            "/usr/local/lib/python3.6/dist-packages/lightgbm/engine.py:118: UserWarning: Found `num_iterations` in params. Will use it instead of argument\n",
            "  warnings.warn(\"Found `{}` in params. Will use it instead of argument\".format(alias))\n",
            "/usr/local/lib/python3.6/dist-packages/lightgbm/engine.py:123: UserWarning: Found `early_stopping_round` in params. Will use it instead of argument\n",
            "  warnings.warn(\"Found `{}` in params. Will use it instead of argument\".format(alias))\n"
          ],
          "name": "stderr"
        },
        {
          "output_type": "stream",
          "text": [
            "RMSLE LGBM:  645018.3424018014\n"
          ],
          "name": "stdout"
        },
        {
          "output_type": "stream",
          "text": [
            "/usr/local/lib/python3.6/dist-packages/lightgbm/engine.py:118: UserWarning: Found `num_iterations` in params. Will use it instead of argument\n",
            "  warnings.warn(\"Found `{}` in params. Will use it instead of argument\".format(alias))\n",
            "/usr/local/lib/python3.6/dist-packages/lightgbm/engine.py:123: UserWarning: Found `early_stopping_round` in params. Will use it instead of argument\n",
            "  warnings.warn(\"Found `{}` in params. Will use it instead of argument\".format(alias))\n"
          ],
          "name": "stderr"
        },
        {
          "output_type": "stream",
          "text": [
            "RMSLE LGBM:  535879.2676471274\n"
          ],
          "name": "stdout"
        },
        {
          "output_type": "stream",
          "text": [
            "/usr/local/lib/python3.6/dist-packages/lightgbm/engine.py:118: UserWarning: Found `num_iterations` in params. Will use it instead of argument\n",
            "  warnings.warn(\"Found `{}` in params. Will use it instead of argument\".format(alias))\n",
            "/usr/local/lib/python3.6/dist-packages/lightgbm/engine.py:123: UserWarning: Found `early_stopping_round` in params. Will use it instead of argument\n",
            "  warnings.warn(\"Found `{}` in params. Will use it instead of argument\".format(alias))\n"
          ],
          "name": "stderr"
        },
        {
          "output_type": "stream",
          "text": [
            "RMSLE LGBM:  587684.3367254166\n"
          ],
          "name": "stdout"
        },
        {
          "output_type": "stream",
          "text": [
            "/usr/local/lib/python3.6/dist-packages/lightgbm/engine.py:118: UserWarning: Found `num_iterations` in params. Will use it instead of argument\n",
            "  warnings.warn(\"Found `{}` in params. Will use it instead of argument\".format(alias))\n",
            "/usr/local/lib/python3.6/dist-packages/lightgbm/engine.py:123: UserWarning: Found `early_stopping_round` in params. Will use it instead of argument\n",
            "  warnings.warn(\"Found `{}` in params. Will use it instead of argument\".format(alias))\n"
          ],
          "name": "stderr"
        },
        {
          "output_type": "stream",
          "text": [
            "RMSLE LGBM:  611232.2807609076\n"
          ],
          "name": "stdout"
        },
        {
          "output_type": "stream",
          "text": [
            "/usr/local/lib/python3.6/dist-packages/lightgbm/engine.py:118: UserWarning: Found `num_iterations` in params. Will use it instead of argument\n",
            "  warnings.warn(\"Found `{}` in params. Will use it instead of argument\".format(alias))\n",
            "/usr/local/lib/python3.6/dist-packages/lightgbm/engine.py:123: UserWarning: Found `early_stopping_round` in params. Will use it instead of argument\n",
            "  warnings.warn(\"Found `{}` in params. Will use it instead of argument\".format(alias))\n"
          ],
          "name": "stderr"
        },
        {
          "output_type": "stream",
          "text": [
            "RMSLE LGBM:  447710.38305012684\n"
          ],
          "name": "stdout"
        },
        {
          "output_type": "stream",
          "text": [
            "/usr/local/lib/python3.6/dist-packages/lightgbm/engine.py:118: UserWarning: Found `num_iterations` in params. Will use it instead of argument\n",
            "  warnings.warn(\"Found `{}` in params. Will use it instead of argument\".format(alias))\n",
            "/usr/local/lib/python3.6/dist-packages/lightgbm/engine.py:123: UserWarning: Found `early_stopping_round` in params. Will use it instead of argument\n",
            "  warnings.warn(\"Found `{}` in params. Will use it instead of argument\".format(alias))\n"
          ],
          "name": "stderr"
        },
        {
          "output_type": "stream",
          "text": [
            "RMSLE LGBM:  487415.13697721425\n"
          ],
          "name": "stdout"
        }
      ]
    },
    {
      "cell_type": "code",
      "metadata": {
        "id": "T31cmIlmON0U",
        "colab_type": "code",
        "colab": {
          "base_uri": "https://localhost:8080/",
          "height": 33
        },
        "outputId": "7a5dc942-c91d-4f39-c23a-2908fda7c621"
      },
      "source": [
        "np.mean(errlgb,0)"
      ],
      "execution_count": null,
      "outputs": [
        {
          "output_type": "execute_result",
          "data": {
            "text/plain": [
              "554577.2436293901"
            ]
          },
          "metadata": {
            "tags": []
          },
          "execution_count": 148
        }
      ]
    },
    {
      "cell_type": "code",
      "metadata": {
        "id": "wwX_N9sGONyN",
        "colab_type": "code",
        "colab": {
          "base_uri": "https://localhost:8080/",
          "height": 50
        },
        "outputId": "68ec1674-a9ef-4424-949d-fc9f1fc1ede2"
      },
      "source": [
        "lgbm_final = np.mean(y_pred_totlgb,0)\n",
        "lgbm_final"
      ],
      "execution_count": null,
      "outputs": [
        {
          "output_type": "execute_result",
          "data": {
            "text/plain": [
              "array([2993.4124818 , 2626.38341704, 4448.95958531, ..., 6481.43259652,\n",
              "       5911.04436024, 7875.46876316])"
            ]
          },
          "metadata": {
            "tags": []
          },
          "execution_count": 149
        }
      ]
    },
    {
      "cell_type": "code",
      "metadata": {
        "colab_type": "code",
        "id": "IBE_udlfOcrr",
        "colab": {
          "base_uri": "https://localhost:8080/",
          "height": 252
        },
        "outputId": "d03207c0-b4d5-4a78-c68c-f40ca82da3e8"
      },
      "source": [
        "submission = pd.DataFrame({\n",
        "        \"Item_Id\": indexx,\n",
        "        \"Low_Cap_Price\":lgbm_final\n",
        "    })\n",
        "submission.to_csv('./final_lgb.csv', index=False)\n",
        "print(submission)"
      ],
      "execution_count": null,
      "outputs": [
        {
          "output_type": "stream",
          "text": [
            "         Item_Id  Low_Cap_Price\n",
            "9798   IT_265079    2993.412482\n",
            "9799   IT_265087    2626.383417\n",
            "9800   IT_265107    4448.959585\n",
            "9801   IT_265139    9630.550173\n",
            "9802   IT_265142    1740.087500\n",
            "...          ...            ...\n",
            "15556  IT_361691    7474.039836\n",
            "15557  IT_361694    6491.855976\n",
            "15558  IT_361699    6481.432597\n",
            "15559  IT_361719    5911.044360\n",
            "15560  IT_361723    7875.468763\n",
            "\n",
            "[5763 rows x 2 columns]\n"
          ],
          "name": "stdout"
        }
      ]
    },
    {
      "cell_type": "code",
      "metadata": {
        "colab_type": "code",
        "id": "PeDT4XCtOcrw",
        "colab": {
          "base_uri": "https://localhost:8080/",
          "height": 16
        },
        "outputId": "532de781-2250-4f4a-f83b-43b08117e401"
      },
      "source": [
        "from google.colab import files\n",
        "files.download('final_lgb.csv')"
      ],
      "execution_count": null,
      "outputs": [
        {
          "output_type": "display_data",
          "data": {
            "application/javascript": [
              "\n",
              "    async function download(id, filename, size) {\n",
              "      if (!google.colab.kernel.accessAllowed) {\n",
              "        return;\n",
              "      }\n",
              "      const div = document.createElement('div');\n",
              "      const label = document.createElement('label');\n",
              "      label.textContent = `Downloading \"${filename}\": `;\n",
              "      div.appendChild(label);\n",
              "      const progress = document.createElement('progress');\n",
              "      progress.max = size;\n",
              "      div.appendChild(progress);\n",
              "      document.body.appendChild(div);\n",
              "\n",
              "      const buffers = [];\n",
              "      let downloaded = 0;\n",
              "\n",
              "      const channel = await google.colab.kernel.comms.open(id);\n",
              "      // Send a message to notify the kernel that we're ready.\n",
              "      channel.send({})\n",
              "\n",
              "      for await (const message of channel.messages) {\n",
              "        // Send a message to notify the kernel that we're ready.\n",
              "        channel.send({})\n",
              "        if (message.buffers) {\n",
              "          for (const buffer of message.buffers) {\n",
              "            buffers.push(buffer);\n",
              "            downloaded += buffer.byteLength;\n",
              "            progress.value = downloaded;\n",
              "          }\n",
              "        }\n",
              "      }\n",
              "      const blob = new Blob(buffers, {type: 'application/binary'});\n",
              "      const a = document.createElement('a');\n",
              "      a.href = window.URL.createObjectURL(blob);\n",
              "      a.download = filename;\n",
              "      div.appendChild(a);\n",
              "      a.click();\n",
              "      div.remove();\n",
              "    }\n",
              "  "
            ],
            "text/plain": [
              "<IPython.core.display.Javascript object>"
            ]
          },
          "metadata": {
            "tags": []
          }
        },
        {
          "output_type": "display_data",
          "data": {
            "application/javascript": [
              "download(\"download_b60785e0-a577-4189-a369-9ebdb6ac0ae6\", \"final_lgb.csv\", 162309)"
            ],
            "text/plain": [
              "<IPython.core.display.Javascript object>"
            ]
          },
          "metadata": {
            "tags": []
          }
        }
      ]
    },
    {
      "cell_type": "markdown",
      "metadata": {
        "id": "FmtmSd66MfEg",
        "colab_type": "text"
      },
      "source": [
        "# gb"
      ]
    },
    {
      "cell_type": "code",
      "metadata": {
        "id": "hvs5flHeONuC",
        "colab_type": "code",
        "colab": {}
      },
      "source": [
        "X = train_df.drop(labels=['Low_Cap_Price'], axis=1)\n",
        "y = train_df['Low_Cap_Price'].values\n",
        "\n",
        "from sklearn.model_selection import train_test_split\n",
        "X_train, X_cv, y_train, y_cv = train_test_split(X, y, test_size=0.10, random_state=101)"
      ],
      "execution_count": null,
      "outputs": []
    },
    {
      "cell_type": "code",
      "metadata": {
        "id": "ysQHeNQfRXF9",
        "colab_type": "code",
        "colab": {
          "base_uri": "https://localhost:8080/",
          "height": 537
        },
        "outputId": "22c0bbbe-6099-416f-8208-6d1c1c0bf569"
      },
      "source": [
        "from sklearn.ensemble import GradientBoostingRegressor\n",
        "gb = GradientBoostingRegressor(verbose=1, learning_rate=0.1, n_estimators=2000, random_state=42, subsample=0.8,min_samples_split=100,min_samples_leaf=50,max_depth=8,max_features='sqrt')\n",
        "gb.fit(X_train, y_train)\n",
        "y_pred = gb.predict(X_cv)\n",
        "print('RMSE', mean_squared_error(y_cv,y_pred))"
      ],
      "execution_count": null,
      "outputs": [
        {
          "output_type": "stream",
          "text": [
            "      Iter       Train Loss      OOB Improve   Remaining Time \n",
            "         1     4387454.0118      408955.1424           30.27s\n",
            "         2     4399501.8864          -0.6388           19.28s\n",
            "         3     4227714.5226      152536.8875           21.90s\n",
            "         4     4156915.5670       78298.3443           23.46s\n",
            "         5     3996382.5368      104686.6782           23.59s\n",
            "         6     4006511.4309         -36.2552           20.84s\n",
            "         7     4023169.9653       34806.7018           21.34s\n",
            "         8     3984000.2415         -44.2692           19.57s\n",
            "         9     3982065.3336       46423.5923           20.15s\n",
            "        10     3935978.0373         -12.4827           18.93s\n",
            "        20     2838049.5095       50526.9188           20.44s\n",
            "        30     2488141.3209        5990.3928           19.48s\n",
            "        40     2150114.2852       86054.7297           18.99s\n",
            "        50     1939633.5911       14280.7002           19.51s\n",
            "        60     1762299.5915         -36.2484           18.99s\n",
            "        70     1669317.8920        -297.4114           18.43s\n",
            "        80     1560189.5285        3970.7984           18.33s\n",
            "        90     1458818.8781         499.5888           18.48s\n",
            "       100     1376658.4111         315.9481           18.54s\n",
            "       200     1023499.8320         -26.9795           18.12s\n",
            "       300      848841.9364         988.5056           17.19s\n",
            "       400      825152.8961         299.2573           16.02s\n",
            "       500      749869.4498        -634.2712           15.06s\n",
            "       600      738877.8696        1638.1678           13.85s\n",
            "       700      707825.5562          -0.0018           12.85s\n",
            "       800      643140.1986         -75.6939           11.85s\n",
            "       900      617714.1785         -31.3502           10.94s\n",
            "      1000      619008.3821          49.3640            9.95s\n",
            "      2000      470325.3141        -265.4593            0.00s\n",
            "RMSE 556628.2216114802\n"
          ],
          "name": "stdout"
        }
      ]
    },
    {
      "cell_type": "code",
      "metadata": {
        "id": "dYSiA_xIUaCZ",
        "colab_type": "code",
        "colab": {}
      },
      "source": [
        "Xtest = test_df"
      ],
      "execution_count": null,
      "outputs": []
    },
    {
      "cell_type": "code",
      "metadata": {
        "id": "YDGR2HEbUe4T",
        "colab_type": "code",
        "colab": {
          "base_uri": "https://localhost:8080/",
          "height": 84
        },
        "outputId": "6ff4808a-b8d5-431d-e65f-9dff7d0abeec"
      },
      "source": [
        "\n",
        "from sklearn.model_selection import KFold\n",
        "\n",
        "errgb = []\n",
        "y_pred_totgb = []\n",
        "\n",
        "fold = KFold(n_splits=4, shuffle=True, random_state=42)\n",
        "\n",
        "for train_index, test_index in fold.split(X):\n",
        "    X_train, X_test = X.loc[train_index], X.loc[test_index]\n",
        "    y_train, y_test = y[train_index], y[test_index]\n",
        "             \n",
        "    gb = GradientBoostingRegressor(learning_rate=0.10, n_estimators=1000, random_state=42, subsample=0.8)\n",
        "    #gb = GradientBoostingRegressor(learning_rate=0.1, n_estimators=650, random_state=42, subsample=0.8)\n",
        "    gb.fit(X_train, y_train)\n",
        "    y_pred = gb.predict(X_test)\n",
        "\n",
        "    print('MSE', mean_squared_error(y_test, y_pred))\n",
        "\n",
        "    errgb.append(mean_squared_error(y_test,y_pred))\n",
        "    p = gb.predict(Xtest)\n",
        "    y_pred_totgb.append(p)"
      ],
      "execution_count": null,
      "outputs": [
        {
          "output_type": "stream",
          "text": [
            "MSE 667347.5309574982\n",
            "MSE 607774.1895324124\n",
            "MSE 593418.8887602927\n",
            "MSE 531777.6127118494\n"
          ],
          "name": "stdout"
        }
      ]
    },
    {
      "cell_type": "code",
      "metadata": {
        "id": "1Bspy02tIJxD",
        "colab_type": "code",
        "colab": {
          "base_uri": "https://localhost:8080/",
          "height": 33
        },
        "outputId": "42cdeaca-6178-40d4-9ed0-2a74031601aa"
      },
      "source": [
        "np.mean(errgb,0)"
      ],
      "execution_count": null,
      "outputs": [
        {
          "output_type": "execute_result",
          "data": {
            "text/plain": [
              "600079.5554905132"
            ]
          },
          "metadata": {
            "tags": []
          },
          "execution_count": 156
        }
      ]
    },
    {
      "cell_type": "code",
      "metadata": {
        "id": "O5LISs4OVGbN",
        "colab_type": "code",
        "colab": {
          "base_uri": "https://localhost:8080/",
          "height": 50
        },
        "outputId": "5d83d655-b50c-4357-cf51-6982f5302a4b"
      },
      "source": [
        "gb_fib = np.mean(y_pred_totgb,0)\n",
        "gb_fib"
      ],
      "execution_count": null,
      "outputs": [
        {
          "output_type": "execute_result",
          "data": {
            "text/plain": [
              "array([2814.21684238, 2829.27460559, 3843.44472037, ..., 6633.25310167,\n",
              "       5878.94961853, 7402.83100312])"
            ]
          },
          "metadata": {
            "tags": []
          },
          "execution_count": 158
        }
      ]
    },
    {
      "cell_type": "code",
      "metadata": {
        "id": "KZ6FYRpkdN10",
        "colab_type": "code",
        "colab": {}
      },
      "source": [
        "submission = pd.DataFrame({\n",
        "        \"Item_Id\": indexx,\n",
        "        \"Low_Cap_Price\": abs(gb_fib)\n",
        "    })\n",
        "submission.to_csv('./final_gb.csv', index=False)"
      ],
      "execution_count": null,
      "outputs": []
    },
    {
      "cell_type": "code",
      "metadata": {
        "id": "wT0hHQApdWLb",
        "colab_type": "code",
        "colab": {}
      },
      "source": [
        "from google.colab import files\n",
        "files.download('final_gb.csv')"
      ],
      "execution_count": null,
      "outputs": []
    }
  ]
}