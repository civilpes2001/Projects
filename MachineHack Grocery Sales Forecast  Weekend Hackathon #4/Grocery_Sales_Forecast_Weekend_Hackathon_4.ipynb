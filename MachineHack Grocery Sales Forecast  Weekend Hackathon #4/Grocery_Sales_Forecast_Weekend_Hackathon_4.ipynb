{
  "nbformat": 4,
  "nbformat_minor": 0,
  "metadata": {
    "colab": {
      "name": "Grocery Sales Forecast : Weekend Hackathon #4.ipynb",
      "provenance": [],
      "collapsed_sections": []
    },
    "kernelspec": {
      "name": "python3",
      "display_name": "Python 3"
    }
  },
  "cells": [
    {
      "cell_type": "code",
      "metadata": {
        "id": "d5vsfVivNxqj",
        "colab_type": "code",
        "outputId": "e11e61ed-a758-436b-b1d9-6d754e999f0a",
        "colab": {
          "base_uri": "https://localhost:8080/",
          "height": 204
        }
      },
      "source": [
        "!wget https://www.machinehack.com/wp-content/uploads/2020/05/Grocery_Sales_ParticipantsData.zip"
      ],
      "execution_count": 0,
      "outputs": [
        {
          "output_type": "stream",
          "text": [
            "--2020-05-10 17:26:21--  https://www.machinehack.com/wp-content/uploads/2020/05/Grocery_Sales_ParticipantsData.zip\n",
            "Resolving www.machinehack.com (www.machinehack.com)... 107.180.71.20\n",
            "Connecting to www.machinehack.com (www.machinehack.com)|107.180.71.20|:443... connected.\n",
            "HTTP request sent, awaiting response... 200 OK\n",
            "Length: 11478 (11K) [application/zip]\n",
            "Saving to: ‘Grocery_Sales_ParticipantsData.zip’\n",
            "\n",
            "\r          Grocery_S   0%[                    ]       0  --.-KB/s               \rGrocery_Sales_Parti 100%[===================>]  11.21K  --.-KB/s    in 0s      \n",
            "\n",
            "2020-05-10 17:26:21 (77.2 MB/s) - ‘Grocery_Sales_ParticipantsData.zip’ saved [11478/11478]\n",
            "\n"
          ],
          "name": "stdout"
        }
      ]
    },
    {
      "cell_type": "code",
      "metadata": {
        "id": "huD09epKUhfN",
        "colab_type": "code",
        "outputId": "34da6e7f-b569-4633-bb96-778c2c0d6ccf",
        "colab": {
          "base_uri": "https://localhost:8080/",
          "height": 153
        }
      },
      "source": [
        "!unzip Grocery_Sales_ParticipantsData.zip"
      ],
      "execution_count": 0,
      "outputs": [
        {
          "output_type": "stream",
          "text": [
            "Archive:  Grocery_Sales_ParticipantsData.zip\n",
            "   creating: Grocery_Sales_ParticipantsData/\n",
            "  inflating: Grocery_Sales_ParticipantsData/Test.csv  \n",
            "  inflating: __MACOSX/Grocery_Sales_ParticipantsData/._Test.csv  \n",
            "  inflating: Grocery_Sales_ParticipantsData/Sample_Submission.xlsx  \n",
            "  inflating: __MACOSX/Grocery_Sales_ParticipantsData/._Sample_Submission.xlsx  \n",
            "  inflating: Grocery_Sales_ParticipantsData/Train.csv  \n",
            "  inflating: __MACOSX/Grocery_Sales_ParticipantsData/._Train.csv  \n"
          ],
          "name": "stdout"
        }
      ]
    },
    {
      "cell_type": "code",
      "metadata": {
        "id": "Om5RD7VglPbH",
        "colab_type": "code",
        "outputId": "046a7a5f-d866-42ae-b77e-a639ffcd8488",
        "colab": {
          "base_uri": "https://localhost:8080/",
          "height": 51
        }
      },
      "source": [
        "\n",
        "import numpy as np\n",
        "import pandas as pd\n",
        "import matplotlib.pyplot as plt\n",
        "import seaborn as sns\n",
        "import warnings \n",
        "warnings.filterwarnings(\"ignore\")"
      ],
      "execution_count": 0,
      "outputs": [
        {
          "output_type": "stream",
          "text": [
            "/usr/local/lib/python3.6/dist-packages/statsmodels/tools/_testing.py:19: FutureWarning: pandas.util.testing is deprecated. Use the functions in the public API at pandas.testing instead.\n",
            "  import pandas.util.testing as tm\n"
          ],
          "name": "stderr"
        }
      ]
    },
    {
      "cell_type": "code",
      "metadata": {
        "id": "nOzl0VIiWA1g",
        "colab_type": "code",
        "colab": {}
      },
      "source": [
        "test = pd.read_csv('Grocery_Sales_ParticipantsData/Test.csv')\n",
        "train = pd.read_csv('Grocery_Sales_ParticipantsData/Train.csv')"
      ],
      "execution_count": 0,
      "outputs": []
    },
    {
      "cell_type": "code",
      "metadata": {
        "id": "iwIRWs0bk20_",
        "colab_type": "code",
        "outputId": "ae3212b2-f081-4ec1-845c-b56fd90f0261",
        "colab": {
          "base_uri": "https://localhost:8080/",
          "height": 197
        }
      },
      "source": [
        "test.head(5)"
      ],
      "execution_count": 0,
      "outputs": [
        {
          "output_type": "execute_result",
          "data": {
            "text/html": [
              "<div>\n",
              "<style scoped>\n",
              "    .dataframe tbody tr th:only-of-type {\n",
              "        vertical-align: middle;\n",
              "    }\n",
              "\n",
              "    .dataframe tbody tr th {\n",
              "        vertical-align: top;\n",
              "    }\n",
              "\n",
              "    .dataframe thead th {\n",
              "        text-align: right;\n",
              "    }\n",
              "</style>\n",
              "<table border=\"1\" class=\"dataframe\">\n",
              "  <thead>\n",
              "    <tr style=\"text-align: right;\">\n",
              "      <th></th>\n",
              "      <th>Day</th>\n",
              "    </tr>\n",
              "  </thead>\n",
              "  <tbody>\n",
              "    <tr>\n",
              "      <th>0</th>\n",
              "      <td>693</td>\n",
              "    </tr>\n",
              "    <tr>\n",
              "      <th>1</th>\n",
              "      <td>694</td>\n",
              "    </tr>\n",
              "    <tr>\n",
              "      <th>2</th>\n",
              "      <td>695</td>\n",
              "    </tr>\n",
              "    <tr>\n",
              "      <th>3</th>\n",
              "      <td>696</td>\n",
              "    </tr>\n",
              "    <tr>\n",
              "      <th>4</th>\n",
              "      <td>697</td>\n",
              "    </tr>\n",
              "  </tbody>\n",
              "</table>\n",
              "</div>"
            ],
            "text/plain": [
              "   Day\n",
              "0  693\n",
              "1  694\n",
              "2  695\n",
              "3  696\n",
              "4  697"
            ]
          },
          "metadata": {
            "tags": []
          },
          "execution_count": 5
        }
      ]
    },
    {
      "cell_type": "code",
      "metadata": {
        "id": "G0c4x0ULnYda",
        "colab_type": "code",
        "outputId": "a801694e-dc63-4957-96fa-b11f4980f93c",
        "colab": {
          "base_uri": "https://localhost:8080/",
          "height": 107
        }
      },
      "source": [
        "train.head(2)"
      ],
      "execution_count": 0,
      "outputs": [
        {
          "output_type": "execute_result",
          "data": {
            "text/html": [
              "<div>\n",
              "<style scoped>\n",
              "    .dataframe tbody tr th:only-of-type {\n",
              "        vertical-align: middle;\n",
              "    }\n",
              "\n",
              "    .dataframe tbody tr th {\n",
              "        vertical-align: top;\n",
              "    }\n",
              "\n",
              "    .dataframe thead th {\n",
              "        text-align: right;\n",
              "    }\n",
              "</style>\n",
              "<table border=\"1\" class=\"dataframe\">\n",
              "  <thead>\n",
              "    <tr style=\"text-align: right;\">\n",
              "      <th></th>\n",
              "      <th>Day</th>\n",
              "      <th>GrocerySales</th>\n",
              "    </tr>\n",
              "  </thead>\n",
              "  <tbody>\n",
              "    <tr>\n",
              "      <th>0</th>\n",
              "      <td>1</td>\n",
              "      <td>8418.59</td>\n",
              "    </tr>\n",
              "    <tr>\n",
              "      <th>1</th>\n",
              "      <td>2</td>\n",
              "      <td>8447.47</td>\n",
              "    </tr>\n",
              "  </tbody>\n",
              "</table>\n",
              "</div>"
            ],
            "text/plain": [
              "   Day  GrocerySales\n",
              "0    1       8418.59\n",
              "1    2       8447.47"
            ]
          },
          "metadata": {
            "tags": []
          },
          "execution_count": 6
        }
      ]
    },
    {
      "cell_type": "code",
      "metadata": {
        "id": "SxlXtKqH6q9x",
        "colab_type": "code",
        "outputId": "02146a9b-e5e7-469e-e2c2-695603028c9e",
        "colab": {
          "base_uri": "https://localhost:8080/",
          "height": 281
        }
      },
      "source": [
        "train['Day'].plot()"
      ],
      "execution_count": 0,
      "outputs": [
        {
          "output_type": "execute_result",
          "data": {
            "text/plain": [
              "<matplotlib.axes._subplots.AxesSubplot at 0x7f9a5e5f0630>"
            ]
          },
          "metadata": {
            "tags": []
          },
          "execution_count": 7
        },
        {
          "output_type": "display_data",
          "data": {
            "image/png": "[encoded data removed]",
            "text/plain": [
              "<Figure size 432x288 with 1 Axes>"
            ]
          },
          "metadata": {
            "tags": [],
            "needs_background": "light"
          }
        }
      ]
    },
    {
      "cell_type": "code",
      "metadata": {
        "id": "VsHjj8oon088",
        "colab_type": "code",
        "colab": {}
      },
      "source": [
        "train_df=train"
      ],
      "execution_count": 0,
      "outputs": []
    },
    {
      "cell_type": "code",
      "metadata": {
        "id": "sLUr3ajVnbFf",
        "colab_type": "code",
        "colab": {}
      },
      "source": [
        "X = train_df.drop(labels=['GrocerySales'], axis=1)\n",
        "y = train_df['GrocerySales'].values\n",
        "\n",
        "from sklearn.model_selection import train_test_split\n",
        "X_train, X_cv, y_train, y_cv = train_test_split(X, y, test_size=0.25, random_state=42)"
      ],
      "execution_count": 0,
      "outputs": []
    },
    {
      "cell_type": "code",
      "metadata": {
        "id": "pvD88fMwn31e",
        "colab_type": "code",
        "outputId": "fa31df31-23f3-4d60-cc9a-f7b19e61aa5f",
        "colab": {
          "base_uri": "https://localhost:8080/",
          "height": 34
        }
      },
      "source": [
        "X_train.shape, y_train.shape, X_cv.shape, y_cv.shape"
      ],
      "execution_count": 0,
      "outputs": [
        {
          "output_type": "execute_result",
          "data": {
            "text/plain": [
              "((519, 1), (519,), (173, 1), (173,))"
            ]
          },
          "metadata": {
            "tags": []
          },
          "execution_count": 10
        }
      ]
    },
    {
      "cell_type": "code",
      "metadata": {
        "id": "5agXmX7CqT2F",
        "colab_type": "code",
        "colab": {}
      },
      "source": [
        "from math import sqrt \n",
        "from sklearn.metrics import mean_squared_log_error"
      ],
      "execution_count": 0,
      "outputs": []
    },
    {
      "cell_type": "code",
      "metadata": {
        "id": "6HcfYclkoBvU",
        "colab_type": "code",
        "outputId": "6a293082-3cd2-494a-8909-68ba42cd06f3",
        "colab": {
          "base_uri": "https://localhost:8080/",
          "height": 170
        }
      },
      "source": [
        "import lightgbm as lgb\n",
        "train_data = lgb.Dataset(X_train, label=y_train)\n",
        "test_data = lgb.Dataset(X_cv, label=y_cv)\n",
        "\n",
        "param = {'objective': 'regression',\n",
        "         'num_leaves':20,\n",
        "         'boosting': 'gbdt',  \n",
        "         'metric': 'mae',\n",
        "         'learning_rate': 0.2, \n",
        "         'num_iterations': 1000,\n",
        "         'num_leaves': 80,\n",
        "         'max_depth': 6,\n",
        "         'min_data_in_leaf': 11,\n",
        "         'bagging_fraction': 0.80,\n",
        "         'bagging_freq': 1,\n",
        "         'bagging_seed': 142,\n",
        "         'feature_fraction': 0.80,\n",
        "         'feature_fraction_seed': 2,\n",
        "         'early_stopping_round': 200,\n",
        "         'max_bin': 250\n",
        "         }\n",
        "\n",
        "lgbm = lgb.train(params=param, verbose_eval=100, train_set=train_data, valid_sets=[test_data])\n",
        "\n",
        "y_pred_lgbm = lgbm.predict(X_cv)\n",
        "print('RMSLE:', sqrt(mean_squared_log_error(y_cv, y_pred_lgbm)))"
      ],
      "execution_count": 0,
      "outputs": [
        {
          "output_type": "stream",
          "text": [
            "Training until validation scores don't improve for 200 rounds.\n",
            "[100]\tvalid_0's l1: 160.927\n",
            "[200]\tvalid_0's l1: 157.512\n",
            "[300]\tvalid_0's l1: 158.463\n",
            "[400]\tvalid_0's l1: 160.073\n",
            "[500]\tvalid_0's l1: 159.619\n",
            "Early stopping, best iteration is:\n",
            "[324]\tvalid_0's l1: 156.297\n",
            "RMSLE: 0.025289428629484818\n"
          ],
          "name": "stdout"
        }
      ]
    },
    {
      "cell_type": "code",
      "metadata": {
        "id": "hR3cthsiqN5L",
        "colab_type": "code",
        "colab": {}
      },
      "source": [
        "Xtest = test"
      ],
      "execution_count": 0,
      "outputs": []
    },
    {
      "cell_type": "code",
      "metadata": {
        "id": "3V28S3Faqst1",
        "colab_type": "code",
        "outputId": "19c7a9ba-e96e-4d4f-b797-3a7a7b1c7a3f",
        "colab": {
          "base_uri": "https://localhost:8080/",
          "height": 358
        }
      },
      "source": [
        "from sklearn.model_selection import KFold\n",
        "from lightgbm import LGBMRegressor\n",
        "\n",
        "errlgb = []\n",
        "y_pred_totlgb = []\n",
        "\n",
        "fold = KFold(n_splits=\n",
        "             20, shuffle=True, random_state=101)\n",
        "\n",
        "for train_index, test_index in fold.split(X):\n",
        "    X_train, X_test = X.loc[train_index], X.loc[test_index]\n",
        "    y_train, y_test = y[train_index], y[test_index]\n",
        "\n",
        "    lgbm = LGBMRegressor(boosting_type='dart', num_leaves=500, max_depth=31, learning_rate=0.1, n_estimators=3000, min_child_samples=20, subsample=0.80)\n",
        "    lgbm.fit(X_train, y_train, eval_set=[(X_test, y_test)], verbose=0, early_stopping_rounds=100)\n",
        "\n",
        "    y_pred_lgbm = lgbm.predict(X_test)\n",
        "    print(\"RMSLE LGBM: \", sqrt(mean_squared_log_error(y_test, y_pred_lgbm)))\n",
        "\n",
        "    errlgb.append(sqrt(mean_squared_log_error(y_test, y_pred_lgbm)))\n",
        "    p = lgbm.predict(Xtest)\n",
        "    y_pred_totlgb.append(p)"
      ],
      "execution_count": 0,
      "outputs": [
        {
          "output_type": "stream",
          "text": [
            "RMSLE LGBM:  0.02174715163564077\n",
            "RMSLE LGBM:  0.019176934845660486\n",
            "RMSLE LGBM:  0.019363250757547943\n",
            "RMSLE LGBM:  0.017632826919538432\n",
            "RMSLE LGBM:  0.028961655210585243\n",
            "RMSLE LGBM:  0.024914299189911338\n",
            "RMSLE LGBM:  0.024582432969805366\n",
            "RMSLE LGBM:  0.018110146229669298\n",
            "RMSLE LGBM:  0.01894457853427398\n",
            "RMSLE LGBM:  0.031478853636840956\n",
            "RMSLE LGBM:  0.02405929131138623\n",
            "RMSLE LGBM:  0.02102542295177568\n",
            "RMSLE LGBM:  0.019715431909073967\n",
            "RMSLE LGBM:  0.0254838676096119\n",
            "RMSLE LGBM:  0.02163688945646552\n",
            "RMSLE LGBM:  0.0263541599020327\n",
            "RMSLE LGBM:  0.02826603321735427\n",
            "RMSLE LGBM:  0.01773899564665584\n",
            "RMSLE LGBM:  0.03102663445922284\n",
            "RMSLE LGBM:  0.014791151952884744\n"
          ],
          "name": "stdout"
        }
      ]
    },
    {
      "cell_type": "code",
      "metadata": {
        "id": "KQKvn8OWqu0U",
        "colab_type": "code",
        "outputId": "16d06e5b-bda4-479c-9244-301d37d3e625",
        "colab": {
          "base_uri": "https://localhost:8080/",
          "height": 34
        }
      },
      "source": [
        "np.mean(errlgb,0)"
      ],
      "execution_count": 0,
      "outputs": [
        {
          "output_type": "execute_result",
          "data": {
            "text/plain": [
              "0.022750500417296874"
            ]
          },
          "metadata": {
            "tags": []
          },
          "execution_count": 66
        }
      ]
    },
    {
      "cell_type": "code",
      "metadata": {
        "id": "NWjONYdjq2qC",
        "colab_type": "code",
        "outputId": "b05e4768-3f09-4702-d105-21889f4d2e1b",
        "colab": {
          "base_uri": "https://localhost:8080/",
          "height": 409
        }
      },
      "source": [
        "lgbm_final = np.mean(y_pred_totlgb,0)\n",
        "lgbm_final"
      ],
      "execution_count": 0,
      "outputs": [
        {
          "output_type": "execute_result",
          "data": {
            "text/plain": [
              "array([8886.31348043, 8886.31348043, 8886.31348043, 8886.31348043,\n",
              "       8886.31348043, 8886.31348043, 8886.31348043, 8886.31348043,\n",
              "       8886.31348043, 8886.31348043, 8886.31348043, 8886.31348043,\n",
              "       8886.31348043, 8886.31348043, 8886.31348043, 8886.31348043,\n",
              "       8886.31348043, 8886.31348043, 8886.31348043, 8886.31348043,\n",
              "       8886.31348043, 8886.31348043, 8886.31348043, 8886.31348043,\n",
              "       8886.31348043, 8886.31348043, 8886.31348043, 8886.31348043,\n",
              "       8886.31348043, 8886.31348043, 8886.31348043, 8886.31348043,\n",
              "       8886.31348043, 8886.31348043, 8886.31348043, 8886.31348043,\n",
              "       8886.31348043, 8886.31348043, 8886.31348043, 8886.31348043,\n",
              "       8886.31348043, 8886.31348043, 8886.31348043, 8886.31348043,\n",
              "       8886.31348043, 8886.31348043, 8886.31348043, 8886.31348043,\n",
              "       8886.31348043, 8886.31348043, 8886.31348043, 8886.31348043,\n",
              "       8886.31348043, 8886.31348043, 8886.31348043, 8886.31348043,\n",
              "       8886.31348043, 8886.31348043, 8886.31348043, 8886.31348043,\n",
              "       8886.31348043, 8886.31348043, 8886.31348043, 8886.31348043,\n",
              "       8886.31348043, 8886.31348043, 8886.31348043, 8886.31348043,\n",
              "       8886.31348043, 8886.31348043, 8886.31348043, 8886.31348043,\n",
              "       8886.31348043, 8886.31348043, 8886.31348043, 8886.31348043,\n",
              "       8886.31348043, 8886.31348043, 8886.31348043, 8886.31348043,\n",
              "       8886.31348043, 8886.31348043, 8886.31348043, 8886.31348043,\n",
              "       8886.31348043, 8886.31348043, 8886.31348043, 8886.31348043,\n",
              "       8886.31348043, 8886.31348043])"
            ]
          },
          "metadata": {
            "tags": []
          },
          "execution_count": 67
        }
      ]
    },
    {
      "cell_type": "code",
      "metadata": {
        "id": "opoNKcuAF4TS",
        "colab_type": "code",
        "outputId": "213aa0ff-099e-49f4-c9ff-69e406a2bed1",
        "colab": {
          "base_uri": "https://localhost:8080/",
          "height": 256
        }
      },
      "source": [
        "submission = pd.DataFrame({\n",
        "        \"Day\": test['Day'],\n",
        "        \"GrocerySales\": lgbm_final\n",
        "    })\n",
        "submission.to_csv('./Av1.csv', index=False)\n",
        "print(submission)"
      ],
      "execution_count": 0,
      "outputs": [
        {
          "output_type": "stream",
          "text": [
            "    Day  GrocerySales\n",
            "0   693    8886.31348\n",
            "1   694    8886.31348\n",
            "2   695    8886.31348\n",
            "3   696    8886.31348\n",
            "4   697    8886.31348\n",
            "..  ...           ...\n",
            "85  778    8886.31348\n",
            "86  779    8886.31348\n",
            "87  780    8886.31348\n",
            "88  781    8886.31348\n",
            "89  782    8886.31348\n",
            "\n",
            "[90 rows x 2 columns]\n"
          ],
          "name": "stdout"
        }
      ]
    },
    {
      "cell_type": "code",
      "metadata": {
        "id": "qgLIEwxaF76v",
        "colab_type": "code",
        "colab": {}
      },
      "source": [
        "from google.colab import files\n",
        "files.download('Av1.csv')"
      ],
      "execution_count": 0,
      "outputs": []
    },
    {
      "cell_type": "code",
      "metadata": {
        "id": "bDa2ka1Rq5Uf",
        "colab_type": "code",
        "outputId": "5025e9a3-ad1d-484e-f7ca-8029ef12f006",
        "colab": {
          "base_uri": "https://localhost:8080/",
          "height": 375
        }
      },
      "source": [
        "from sklearn.ensemble import GradientBoostingRegressor\n",
        "gb = GradientBoostingRegressor(verbose=1, learning_rate=0.1, n_estimators=100, random_state=101, subsample=0.8, loss='ls')\n",
        "gb.fit(X_train, y_train)\n",
        "y_pred = gb.predict(X_cv)\n",
        "print('score', (sqrt(mean_squared_log_error(y_cv, y_pred))))"
      ],
      "execution_count": 0,
      "outputs": [
        {
          "output_type": "stream",
          "text": [
            "      Iter       Train Loss      OOB Improve   Remaining Time \n",
            "         1      164163.0027       17573.1605            0.14s\n",
            "         2      146835.5231       14222.6048            0.14s\n",
            "         3      139038.2054       11648.9032            0.14s\n",
            "         4      130719.5448        9930.8493            0.13s\n",
            "         5      124649.9671        7127.7634            0.12s\n",
            "         6      116305.9061        6917.7535            0.11s\n",
            "         7      109250.0473        3578.4409            0.11s\n",
            "         8      115069.2614        2569.5992            0.11s\n",
            "         9       96107.0432        4202.1105            0.11s\n",
            "        10       92954.2594        6251.5206            0.10s\n",
            "        20       61603.0461         905.0582            0.06s\n",
            "        30       41133.9178         150.1872            0.05s\n",
            "        40       31914.0256         167.9254            0.04s\n",
            "        50       26415.7283         570.2208            0.03s\n",
            "        60       21715.2856         288.2691            0.02s\n",
            "        70       20011.1902          39.4535            0.02s\n",
            "        80       17055.2339          74.1238            0.01s\n",
            "        90       15926.0601         -81.6744            0.01s\n",
            "       100       16965.6518         -25.5584            0.00s\n",
            "score 0.017699768342136275\n"
          ],
          "name": "stdout"
        }
      ]
    },
    {
      "cell_type": "code",
      "metadata": {
        "id": "eOyzq9QvzNnG",
        "colab_type": "code",
        "outputId": "eb8a79ad-7580-4bf7-b8b9-125a8c8a20f6",
        "colab": {
          "base_uri": "https://localhost:8080/",
          "height": 728
        }
      },
      "source": [
        "import seaborn as sns\n",
        "feature_imp = pd.DataFrame(sorted(zip(gb.feature_importances_, X.columns), reverse=True)[:60], columns=['Value','Feature'])\n",
        "plt.figure(figsize=(12,10))\n",
        "sns.barplot(x=\"Value\", y=\"Feature\", data=feature_imp.sort_values(by=\"Value\", ascending=False))\n",
        "plt.title('Gradient Boosting Features')\n",
        "plt.tight_layout()\n",
        "plt.show()"
      ],
      "execution_count": 0,
      "outputs": [
        {
          "output_type": "display_data",
          "data": {
            "image/png": "[encoded data removed]",
            "text/plain": [
              "<Figure size 864x720 with 1 Axes>"
            ]
          },
          "metadata": {
            "tags": [],
            "needs_background": "light"
          }
        }
      ]
    },
    {
      "cell_type": "code",
      "metadata": {
        "id": "Kzf57wMvzlxV",
        "colab_type": "code",
        "colab": {}
      },
      "source": [
        "Xtest = test"
      ],
      "execution_count": 0,
      "outputs": []
    },
    {
      "cell_type": "code",
      "metadata": {
        "id": "VQ2opL0Gzp4t",
        "colab_type": "code",
        "outputId": "8e83d7c7-4c06-4527-cc59-88fc7ca2953a",
        "colab": {
          "base_uri": "https://localhost:8080/",
          "height": 358
        }
      },
      "source": [
        "from sklearn.model_selection import KFold\n",
        "\n",
        "errgb = []\n",
        "y_pred_totgb = []\n",
        "\n",
        "fold = KFold(n_splits=20, shuffle=True, random_state=101)\n",
        "\n",
        "for train_index, test_index in fold.split(X):\n",
        "    X_train, X_test = X.loc[train_index], X.loc[test_index]\n",
        "    y_train, y_test = y[train_index], y[test_index]\n",
        "             \n",
        "    gb = GradientBoostingRegressor(learning_rate=0.1, n_estimators=100, random_state=101, subsample=0.8, loss='ls')\n",
        "    #gb = GradientBoostingRegressor(learning_rate=0.01, n_estimators=100, random_state=101, subsample=0.8,loss='ls')\n",
        "    gb.fit(X_train, y_train)\n",
        "    y_pred = gb.predict(X_test)\n",
        "    print('Score', sqrt(mean_squared_log_error(y_test, y_pred)))\n",
        "\n",
        "    errgb.append(sqrt(mean_squared_log_error(y_test, y_pred)))\n",
        "    p = gb.predict(Xtest)\n",
        "    y_pred_totgb.append(p)"
      ],
      "execution_count": 0,
      "outputs": [
        {
          "output_type": "stream",
          "text": [
            "Score 0.023123714307205702\n",
            "Score 0.02038752265652427\n",
            "Score 0.021134723304345748\n",
            "Score 0.01709906733156022\n",
            "Score 0.02960183279947127\n",
            "Score 0.01675828584012277\n",
            "Score 0.02291166333973819\n",
            "Score 0.01742779879500539\n",
            "Score 0.015426523327092604\n",
            "Score 0.028269989207458802\n",
            "Score 0.020636013556564144\n",
            "Score 0.022052489918392964\n",
            "Score 0.024055043955125303\n",
            "Score 0.01975552915972898\n",
            "Score 0.023167075730254123\n",
            "Score 0.020192676392916185\n",
            "Score 0.025344844701909768\n",
            "Score 0.01831704493871138\n",
            "Score 0.028851724421055002\n",
            "Score 0.015282578562838992\n"
          ],
          "name": "stdout"
        }
      ]
    },
    {
      "cell_type": "code",
      "metadata": {
        "id": "pnAnwL30z0xe",
        "colab_type": "code",
        "outputId": "7a9c7a2e-a949-4bf3-bd8c-7dca95fbfaab",
        "colab": {
          "base_uri": "https://localhost:8080/",
          "height": 34
        }
      },
      "source": [
        "np.mean(errgb,0)"
      ],
      "execution_count": 0,
      "outputs": [
        {
          "output_type": "execute_result",
          "data": {
            "text/plain": [
              "0.02148980711230109"
            ]
          },
          "metadata": {
            "tags": []
          },
          "execution_count": 48
        }
      ]
    },
    {
      "cell_type": "code",
      "metadata": {
        "id": "2_rR2sxrz4aB",
        "colab_type": "code",
        "outputId": "b2975d13-362f-4bfe-8b57-943396397bc8",
        "colab": {
          "base_uri": "https://localhost:8080/",
          "height": 409
        }
      },
      "source": [
        "cat_final = np.mean(y_pred_totgb,0)\n",
        "cat_final"
      ],
      "execution_count": 0,
      "outputs": [
        {
          "output_type": "execute_result",
          "data": {
            "text/plain": [
              "array([9008.61258212, 9008.61258212, 9008.61258212, 9008.61258212,\n",
              "       9008.61258212, 9008.61258212, 9008.61258212, 9008.61258212,\n",
              "       9008.61258212, 9008.61258212, 9008.61258212, 9008.61258212,\n",
              "       9008.61258212, 9008.61258212, 9008.61258212, 9008.61258212,\n",
              "       9008.61258212, 9008.61258212, 9008.61258212, 9008.61258212,\n",
              "       9008.61258212, 9008.61258212, 9008.61258212, 9008.61258212,\n",
              "       9008.61258212, 9008.61258212, 9008.61258212, 9008.61258212,\n",
              "       9008.61258212, 9008.61258212, 9008.61258212, 9008.61258212,\n",
              "       9008.61258212, 9008.61258212, 9008.61258212, 9008.61258212,\n",
              "       9008.61258212, 9008.61258212, 9008.61258212, 9008.61258212,\n",
              "       9008.61258212, 9008.61258212, 9008.61258212, 9008.61258212,\n",
              "       9008.61258212, 9008.61258212, 9008.61258212, 9008.61258212,\n",
              "       9008.61258212, 9008.61258212, 9008.61258212, 9008.61258212,\n",
              "       9008.61258212, 9008.61258212, 9008.61258212, 9008.61258212,\n",
              "       9008.61258212, 9008.61258212, 9008.61258212, 9008.61258212,\n",
              "       9008.61258212, 9008.61258212, 9008.61258212, 9008.61258212,\n",
              "       9008.61258212, 9008.61258212, 9008.61258212, 9008.61258212,\n",
              "       9008.61258212, 9008.61258212, 9008.61258212, 9008.61258212,\n",
              "       9008.61258212, 9008.61258212, 9008.61258212, 9008.61258212,\n",
              "       9008.61258212, 9008.61258212, 9008.61258212, 9008.61258212,\n",
              "       9008.61258212, 9008.61258212, 9008.61258212, 9008.61258212,\n",
              "       9008.61258212, 9008.61258212, 9008.61258212, 9008.61258212,\n",
              "       9008.61258212, 9008.61258212])"
            ]
          },
          "metadata": {
            "tags": []
          },
          "execution_count": 49
        }
      ]
    },
    {
      "cell_type": "code",
      "metadata": {
        "id": "G0PqIrhzz6rh",
        "colab_type": "code",
        "outputId": "444dd20a-e4d9-4e32-fbc8-59b1e69c6faf",
        "colab": {
          "base_uri": "https://localhost:8080/",
          "height": 256
        }
      },
      "source": [
        "submission = pd.DataFrame({\n",
        "        \"Day\": test['Day'],\n",
        "        \"GrocerySales\": cat_final\n",
        "    })\n",
        "submission.to_csv('./Av1.csv', index=False)\n",
        "print(submission)"
      ],
      "execution_count": 0,
      "outputs": [
        {
          "output_type": "stream",
          "text": [
            "    Day  GrocerySales\n",
            "0   693   9008.612582\n",
            "1   694   9008.612582\n",
            "2   695   9008.612582\n",
            "3   696   9008.612582\n",
            "4   697   9008.612582\n",
            "..  ...           ...\n",
            "85  778   9008.612582\n",
            "86  779   9008.612582\n",
            "87  780   9008.612582\n",
            "88  781   9008.612582\n",
            "89  782   9008.612582\n",
            "\n",
            "[90 rows x 2 columns]\n"
          ],
          "name": "stdout"
        }
      ]
    },
    {
      "cell_type": "code",
      "metadata": {
        "id": "fr7DJKAu1KBe",
        "colab_type": "code",
        "colab": {}
      },
      "source": [
        "from google.colab import files\n",
        "files.download('Av1.csv')"
      ],
      "execution_count": 0,
      "outputs": []
    },
    {
      "cell_type": "code",
      "metadata": {
        "id": "Vbyi5bwS1YX_",
        "colab_type": "code",
        "colab": {}
      },
      "source": [
        ""
      ],
      "execution_count": 0,
      "outputs": []
    }
  ]
}