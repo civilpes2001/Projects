{
  "nbformat": 4,
  "nbformat_minor": 0,
  "metadata": {
    "colab": {
      "name": "MH_ ChartbustersParticipantipynb",
      "provenance": [],
      "collapsed_sections": []
    },
    "kernelspec": {
      "name": "python3",
      "display_name": "Python 3"
    }
  },
  "cells": [
    {
      "cell_type": "code",
      "metadata": {
        "id": "SNendCO2NrT2",
        "colab_type": "code",
        "outputId": "b36e0db8-973b-4ca5-82e3-2bd9a291d1a8",
        "colab": {
          "base_uri": "https://localhost:8080/",
          "height": 212
        }
      },
      "source": [
        "!wget https://www.machinehack.com/wp-content/uploads/2019/12/ChartbustersParticipantsData.zip"
      ],
      "execution_count": 0,
      "outputs": [
        {
          "output_type": "stream",
          "text": [
            "--2020-01-14 14:06:21--  https://www.machinehack.com/wp-content/uploads/2019/12/ChartbustersParticipantsData.zip\n",
            "Resolving www.machinehack.com (www.machinehack.com)... 107.180.71.20\n",
            "Connecting to www.machinehack.com (www.machinehack.com)|107.180.71.20|:443... connected.\n",
            "HTTP request sent, awaiting response... 200 OK\n",
            "Length: 5537700 (5.3M) [application/zip]\n",
            "Saving to: ‘ChartbustersParticipantsData.zip’\n",
            "\n",
            "\r          Chartbust   0%[                    ]       0  --.-KB/s               \r         Chartbuste   1%[                    ]  56.00K   277KB/s               \r        Chartbuster   2%[                    ] 136.00K   335KB/s               \r       Chartbusters   4%[                    ] 264.00K   434KB/s               \r      ChartbustersP   8%[>                   ] 456.00K   561KB/s               \r     ChartbustersPa  13%[=>                  ] 728.00K   716KB/s               \r    ChartbustersPar  21%[===>                ]   1.12M   938KB/s               \r   ChartbustersPart  31%[=====>              ]   1.66M  1.17MB/s               \r  ChartbustersParti  46%[========>           ]   2.43M  1.49MB/s               \r ChartbustersPartic  66%[============>       ]   3.51M  1.92MB/s               \rChartbustersPartici  94%[=================>  ]   5.01M  2.46MB/s               \rChartbustersPartici 100%[===================>]   5.28M  2.59MB/s    in 2.0s    \n",
            "\n",
            "2020-01-14 14:06:23 (2.59 MB/s) - ‘ChartbustersParticipantsData.zip’ saved [5537700/5537700]\n",
            "\n"
          ],
          "name": "stdout"
        }
      ]
    },
    {
      "cell_type": "code",
      "metadata": {
        "id": "aPSzkZam2Z8o",
        "colab_type": "code",
        "outputId": "82d49fdc-a583-4586-c14b-05bbfce2ba49",
        "colab": {
          "base_uri": "https://localhost:8080/",
          "height": 212
        }
      },
      "source": [
        "!unzip ChartbustersParticipantsData.zip"
      ],
      "execution_count": 0,
      "outputs": [
        {
          "output_type": "stream",
          "text": [
            "Archive:  ChartbustersParticipantsData.zip\n",
            "   creating: ChartbustersParticipantsData/\n",
            "  inflating: ChartbustersParticipantsData/.DS_Store  \n",
            "   creating: __MACOSX/\n",
            "   creating: __MACOSX/ChartbustersParticipantsData/\n",
            "  inflating: __MACOSX/ChartbustersParticipantsData/._.DS_Store  \n",
            "  inflating: ChartbustersParticipantsData/Data_Train.csv  \n",
            "  inflating: __MACOSX/ChartbustersParticipantsData/._Data_Train.csv  \n",
            "  inflating: ChartbustersParticipantsData/Data_Test.csv  \n",
            "  inflating: __MACOSX/ChartbustersParticipantsData/._Data_Test.csv  \n",
            "  inflating: ChartbustersParticipantsData/Sample_Submission.xlsx  \n"
          ],
          "name": "stdout"
        }
      ]
    },
    {
      "cell_type": "code",
      "metadata": {
        "id": "YJnKJDgbQHS8",
        "colab_type": "code",
        "colab": {}
      },
      "source": [
        "import pandas as pd\n",
        "import numpy as np\n",
        "import matplotlib.pyplot as plt\n",
        "%matplotlib inline"
      ],
      "execution_count": 0,
      "outputs": []
    },
    {
      "cell_type": "code",
      "metadata": {
        "id": "JWYuxZz4QHbU",
        "colab_type": "code",
        "colab": {}
      },
      "source": [
        "train = pd.read_csv('ChartbustersParticipantsData/Data_Train.csv')\n",
        "test = pd.read_csv('ChartbustersParticipantsData/Data_Test.csv')"
      ],
      "execution_count": 0,
      "outputs": []
    },
    {
      "cell_type": "code",
      "metadata": {
        "id": "KA73YVKjQHhf",
        "colab_type": "code",
        "outputId": "d2f31bb0-5066-4e91-d066-69a818337c39",
        "colab": {
          "base_uri": "https://localhost:8080/",
          "height": 487
        }
      },
      "source": [
        "train.head(15)"
      ],
      "execution_count": 0,
      "outputs": [
        {
          "output_type": "execute_result",
          "data": {
            "text/html": [
              "<div>\n",
              "<style scoped>\n",
              "    .dataframe tbody tr th:only-of-type {\n",
              "        vertical-align: middle;\n",
              "    }\n",
              "\n",
              "    .dataframe tbody tr th {\n",
              "        vertical-align: top;\n",
              "    }\n",
              "\n",
              "    .dataframe thead th {\n",
              "        text-align: right;\n",
              "    }\n",
              "</style>\n",
              "<table border=\"1\" class=\"dataframe\">\n",
              "  <thead>\n",
              "    <tr style=\"text-align: right;\">\n",
              "      <th></th>\n",
              "      <th>Unique_ID</th>\n",
              "      <th>Name</th>\n",
              "      <th>Genre</th>\n",
              "      <th>Country</th>\n",
              "      <th>Song_Name</th>\n",
              "      <th>Timestamp</th>\n",
              "      <th>Views</th>\n",
              "      <th>Comments</th>\n",
              "      <th>Likes</th>\n",
              "      <th>Popularity</th>\n",
              "      <th>Followers</th>\n",
              "      <th>Polar</th>\n",
              "    </tr>\n",
              "  </thead>\n",
              "  <tbody>\n",
              "    <tr>\n",
              "      <th>0</th>\n",
              "      <td>413890</td>\n",
              "      <td>Hardstyle</td>\n",
              "      <td>danceedm</td>\n",
              "      <td>AU</td>\n",
              "      <td>N-Vitral presents BOMBSQUAD - Poison Spitter (...</td>\n",
              "      <td>2018-03-30 15:24:45.000000</td>\n",
              "      <td>14017</td>\n",
              "      <td>4</td>\n",
              "      <td>499</td>\n",
              "      <td>97</td>\n",
              "      <td>119563</td>\n",
              "      <td>0.000000</td>\n",
              "    </tr>\n",
              "    <tr>\n",
              "      <th>1</th>\n",
              "      <td>249453</td>\n",
              "      <td>Dj Aladdin</td>\n",
              "      <td>danceedm</td>\n",
              "      <td>AU</td>\n",
              "      <td>Dj Aladdin - Old School Hip Hop Quick Mix</td>\n",
              "      <td>2016-06-20 05:58:52.000000</td>\n",
              "      <td>1918</td>\n",
              "      <td>17</td>\n",
              "      <td>49</td>\n",
              "      <td>17</td>\n",
              "      <td>2141</td>\n",
              "      <td>0.216667</td>\n",
              "    </tr>\n",
              "    <tr>\n",
              "      <th>2</th>\n",
              "      <td>681116</td>\n",
              "      <td>Maxximize On Air</td>\n",
              "      <td>danceedm</td>\n",
              "      <td>AU</td>\n",
              "      <td>Maxximize On Air - Mixed by Blasterjaxx - Epis...</td>\n",
              "      <td>2015-05-08 17:45:59.000000</td>\n",
              "      <td>9668</td>\n",
              "      <td>11</td>\n",
              "      <td>312</td>\n",
              "      <td>91</td>\n",
              "      <td>22248</td>\n",
              "      <td>0.000000</td>\n",
              "    </tr>\n",
              "    <tr>\n",
              "      <th>3</th>\n",
              "      <td>387253</td>\n",
              "      <td>GR6 EXPLODE</td>\n",
              "      <td>rbsoul</td>\n",
              "      <td>AU</td>\n",
              "      <td>MC Yago - Tenho Compromisso (DJ R7)</td>\n",
              "      <td>2017-06-08 23:50:03.000000</td>\n",
              "      <td>113036</td>\n",
              "      <td>2</td>\n",
              "      <td>2,400</td>\n",
              "      <td>76</td>\n",
              "      <td>393655</td>\n",
              "      <td>0.000000</td>\n",
              "    </tr>\n",
              "    <tr>\n",
              "      <th>4</th>\n",
              "      <td>1428029</td>\n",
              "      <td>Tritonal</td>\n",
              "      <td>danceedm</td>\n",
              "      <td>AU</td>\n",
              "      <td>Escape (feat. Steph Jones)</td>\n",
              "      <td>2016-09-17 20:50:19.000000</td>\n",
              "      <td>110024</td>\n",
              "      <td>81</td>\n",
              "      <td>3,031</td>\n",
              "      <td>699</td>\n",
              "      <td>201030</td>\n",
              "      <td>0.000000</td>\n",
              "    </tr>\n",
              "    <tr>\n",
              "      <th>5</th>\n",
              "      <td>2839</td>\n",
              "      <td>k$upreme</td>\n",
              "      <td>all-music</td>\n",
              "      <td>AU</td>\n",
              "      <td>Started Off Finessen' (Prod.Oscar100)</td>\n",
              "      <td>2017-11-27 14:55:11.000000</td>\n",
              "      <td>223716</td>\n",
              "      <td>6</td>\n",
              "      <td>4,500</td>\n",
              "      <td>325</td>\n",
              "      <td>71038</td>\n",
              "      <td>0.000000</td>\n",
              "    </tr>\n",
              "    <tr>\n",
              "      <th>6</th>\n",
              "      <td>414871</td>\n",
              "      <td>Hardstyle</td>\n",
              "      <td>danceedm</td>\n",
              "      <td>AU</td>\n",
              "      <td>Coone - Universal Language (Cyber Remix)</td>\n",
              "      <td>2016-01-22 17:23:26.000000</td>\n",
              "      <td>37480</td>\n",
              "      <td>15</td>\n",
              "      <td>1,017</td>\n",
              "      <td>226</td>\n",
              "      <td>119563</td>\n",
              "      <td>0.000000</td>\n",
              "    </tr>\n",
              "    <tr>\n",
              "      <th>7</th>\n",
              "      <td>209496</td>\n",
              "      <td>Diplo</td>\n",
              "      <td>danceedm</td>\n",
              "      <td>AU</td>\n",
              "      <td>Pick Your Poison (feat. Kay) (Figure Remix)</td>\n",
              "      <td>2012-01-17 00:00:00.000000</td>\n",
              "      <td>4022</td>\n",
              "      <td>5</td>\n",
              "      <td>88</td>\n",
              "      <td>12</td>\n",
              "      <td>7120051</td>\n",
              "      <td>0.000000</td>\n",
              "    </tr>\n",
              "    <tr>\n",
              "      <th>8</th>\n",
              "      <td>967409</td>\n",
              "      <td>Nick Vanelli</td>\n",
              "      <td>trap</td>\n",
              "      <td>AU</td>\n",
              "      <td>B l o o d s h e d</td>\n",
              "      <td>2018-11-29 22:37:07.000000</td>\n",
              "      <td>1263</td>\n",
              "      <td>0</td>\n",
              "      <td>28</td>\n",
              "      <td>7</td>\n",
              "      <td>1892</td>\n",
              "      <td>0.000000</td>\n",
              "    </tr>\n",
              "    <tr>\n",
              "      <th>9</th>\n",
              "      <td>171948</td>\n",
              "      <td>DeejayEcko(PNCS)</td>\n",
              "      <td>latin</td>\n",
              "      <td>AU</td>\n",
              "      <td>CHIHUAHUA MIXDOWN [ Instagram : @deejayeckoo ]</td>\n",
              "      <td>2017-09-28 04:07:47.000000</td>\n",
              "      <td>27874</td>\n",
              "      <td>0</td>\n",
              "      <td>622</td>\n",
              "      <td>47</td>\n",
              "      <td>2835</td>\n",
              "      <td>0.000000</td>\n",
              "    </tr>\n",
              "    <tr>\n",
              "      <th>10</th>\n",
              "      <td>1457484</td>\n",
              "      <td>TWOLOUD</td>\n",
              "      <td>danceedm</td>\n",
              "      <td>AU</td>\n",
              "      <td>BIG BANG Radio Episode 011 :: PODCAST</td>\n",
              "      <td>2014-09-29 10:29:11.000000</td>\n",
              "      <td>14411</td>\n",
              "      <td>23</td>\n",
              "      <td>397</td>\n",
              "      <td>124</td>\n",
              "      <td>60805</td>\n",
              "      <td>0.000000</td>\n",
              "    </tr>\n",
              "    <tr>\n",
              "      <th>11</th>\n",
              "      <td>1176704</td>\n",
              "      <td>Revealed Recordings</td>\n",
              "      <td>danceedm</td>\n",
              "      <td>AU</td>\n",
              "      <td>Olly James &amp; LoaX feat. Christina Pasion - Lov...</td>\n",
              "      <td>2016-03-04 22:42:57.000000</td>\n",
              "      <td>115136</td>\n",
              "      <td>117</td>\n",
              "      <td>3,360</td>\n",
              "      <td>753</td>\n",
              "      <td>449978</td>\n",
              "      <td>0.625000</td>\n",
              "    </tr>\n",
              "    <tr>\n",
              "      <th>12</th>\n",
              "      <td>1508244</td>\n",
              "      <td>WB x MB</td>\n",
              "      <td>electronic</td>\n",
              "      <td>AU</td>\n",
              "      <td>WE BANG - HANDS UP - OUT NOW ON SMASHED BEATZ</td>\n",
              "      <td>2011-07-12 21:55:03.000000</td>\n",
              "      <td>3636</td>\n",
              "      <td>42</td>\n",
              "      <td>44</td>\n",
              "      <td>0</td>\n",
              "      <td>15839</td>\n",
              "      <td>0.000000</td>\n",
              "    </tr>\n",
              "    <tr>\n",
              "      <th>13</th>\n",
              "      <td>459831</td>\n",
              "      <td>No Mana</td>\n",
              "      <td>electronic</td>\n",
              "      <td>AU</td>\n",
              "      <td>No Mana - Anti-Social Media</td>\n",
              "      <td>2018-06-15 20:23:04.000000</td>\n",
              "      <td>13617</td>\n",
              "      <td>14</td>\n",
              "      <td>512</td>\n",
              "      <td>64</td>\n",
              "      <td>29360</td>\n",
              "      <td>0.000000</td>\n",
              "    </tr>\n",
              "    <tr>\n",
              "      <th>14</th>\n",
              "      <td>414890</td>\n",
              "      <td>Hardstyle</td>\n",
              "      <td>danceedm</td>\n",
              "      <td>AU</td>\n",
              "      <td>Timekeeperz &amp; Distance - World Of Illusion</td>\n",
              "      <td>2016-01-03 17:02:42.000000</td>\n",
              "      <td>25859</td>\n",
              "      <td>7</td>\n",
              "      <td>795</td>\n",
              "      <td>179</td>\n",
              "      <td>119563</td>\n",
              "      <td>0.000000</td>\n",
              "    </tr>\n",
              "  </tbody>\n",
              "</table>\n",
              "</div>"
            ],
            "text/plain": [
              "    Unique_ID                 Name       Genre  ... Popularity Followers     Polar\n",
              "0      413890            Hardstyle    danceedm  ...         97    119563  0.000000\n",
              "1      249453           Dj Aladdin    danceedm  ...         17      2141  0.216667\n",
              "2      681116     Maxximize On Air    danceedm  ...         91     22248  0.000000\n",
              "3      387253          GR6 EXPLODE      rbsoul  ...         76    393655  0.000000\n",
              "4     1428029             Tritonal    danceedm  ...        699    201030  0.000000\n",
              "5        2839             k$upreme   all-music  ...        325     71038  0.000000\n",
              "6      414871            Hardstyle    danceedm  ...        226    119563  0.000000\n",
              "7      209496                Diplo    danceedm  ...         12   7120051  0.000000\n",
              "8      967409         Nick Vanelli        trap  ...          7      1892  0.000000\n",
              "9      171948     DeejayEcko(PNCS)       latin  ...         47      2835  0.000000\n",
              "10    1457484              TWOLOUD    danceedm  ...        124     60805  0.000000\n",
              "11    1176704  Revealed Recordings    danceedm  ...        753    449978  0.625000\n",
              "12    1508244              WB x MB  electronic  ...          0     15839  0.000000\n",
              "13     459831              No Mana  electronic  ...         64     29360  0.000000\n",
              "14     414890            Hardstyle    danceedm  ...        179    119563  0.000000\n",
              "\n",
              "[15 rows x 12 columns]"
            ]
          },
          "metadata": {
            "tags": []
          },
          "execution_count": 66
        }
      ]
    },
    {
      "cell_type": "code",
      "metadata": {
        "id": "g-4VZSshZLPA",
        "colab_type": "code",
        "outputId": "ba07df50-d9b4-475d-ddac-41095a4b66e2",
        "colab": {
          "base_uri": "https://localhost:8080/",
          "height": 106
        }
      },
      "source": [
        "!pip install vaderSentiment\n",
        "from vaderSentiment.vaderSentiment import SentimentIntensityAnalyzer\n",
        "analyser = SentimentIntensityAnalyzer()"
      ],
      "execution_count": 0,
      "outputs": [
        {
          "output_type": "stream",
          "text": [
            "Collecting vaderSentiment\n",
            "\u001b[?25l  Downloading https://files.pythonhosted.org/packages/86/9e/c53e1fc61aac5ee490a6ac5e21b1ac04e55a7c2aba647bb8411c9aadf24e/vaderSentiment-3.2.1-py2.py3-none-any.whl (125kB)\n",
            "\r\u001b[K     |██▋                             | 10kB 16.8MB/s eta 0:00:01\r\u001b[K     |█████▏                          | 20kB 3.2MB/s eta 0:00:01\r\u001b[K     |███████▉                        | 30kB 4.1MB/s eta 0:00:01\r\u001b[K     |██████████▍                     | 40kB 2.9MB/s eta 0:00:01\r\u001b[K     |█████████████                   | 51kB 3.2MB/s eta 0:00:01\r\u001b[K     |███████████████▋                | 61kB 3.8MB/s eta 0:00:01\r\u001b[K     |██████████████████▎             | 71kB 4.1MB/s eta 0:00:01\r\u001b[K     |████████████████████▉           | 81kB 4.2MB/s eta 0:00:01\r\u001b[K     |███████████████████████▍        | 92kB 4.7MB/s eta 0:00:01\r\u001b[K     |██████████████████████████      | 102kB 4.7MB/s eta 0:00:01\r\u001b[K     |████████████████████████████▋   | 112kB 4.7MB/s eta 0:00:01\r\u001b[K     |███████████████████████████████▎| 122kB 4.7MB/s eta 0:00:01\r\u001b[K     |████████████████████████████████| 133kB 4.7MB/s \n",
            "\u001b[?25hInstalling collected packages: vaderSentiment\n",
            "Successfully installed vaderSentiment-3.2.1\n"
          ],
          "name": "stdout"
        }
      ]
    },
    {
      "cell_type": "code",
      "metadata": {
        "id": "Aj0kpAtMZMyO",
        "colab_type": "code",
        "colab": {}
      },
      "source": [
        "def sentiment_analyzer_scores(sentence):\n",
        "    score = analyser.polarity_scores(sentence)\n",
        "    print(format(str(score)))"
      ],
      "execution_count": 0,
      "outputs": []
    },
    {
      "cell_type": "code",
      "metadata": {
        "id": "KQXO4_JLZM9j",
        "colab_type": "code",
        "colab": {}
      },
      "source": [
        "from textblob import TextBlob, Word, Blobber\n",
        "from textblob.classifiers import NaiveBayesClassifier\n",
        "from textblob.taggers import NLTKTagger"
      ],
      "execution_count": 0,
      "outputs": []
    },
    {
      "cell_type": "code",
      "metadata": {
        "id": "6KJuJfLrZND3",
        "colab_type": "code",
        "colab": {}
      },
      "source": [
        "def detect_polarity(Song_Name):\n",
        "    return TextBlob(Song_Name).sentiment.polarity\n",
        "train['Polar'] = train.Song_Name.apply(detect_polarity)"
      ],
      "execution_count": 0,
      "outputs": []
    },
    {
      "cell_type": "code",
      "metadata": {
        "id": "5Y4SUH-IZNCS",
        "colab_type": "code",
        "colab": {}
      },
      "source": [
        "test['Polar'] = test.Song_Name.apply(detect_polarity)"
      ],
      "execution_count": 0,
      "outputs": []
    },
    {
      "cell_type": "code",
      "metadata": {
        "id": "ddolDJwIZM75",
        "colab_type": "code",
        "colab": {}
      },
      "source": [
        ""
      ],
      "execution_count": 0,
      "outputs": []
    },
    {
      "cell_type": "code",
      "metadata": {
        "id": "vY4qVyi6ZM4w",
        "colab_type": "code",
        "colab": {}
      },
      "source": [
        ""
      ],
      "execution_count": 0,
      "outputs": []
    },
    {
      "cell_type": "code",
      "metadata": {
        "id": "AOkvKb5JZM3F",
        "colab_type": "code",
        "colab": {}
      },
      "source": [
        ""
      ],
      "execution_count": 0,
      "outputs": []
    },
    {
      "cell_type": "code",
      "metadata": {
        "id": "YOcYSsMeZMwK",
        "colab_type": "code",
        "colab": {}
      },
      "source": [
        ""
      ],
      "execution_count": 0,
      "outputs": []
    },
    {
      "cell_type": "code",
      "metadata": {
        "id": "KbxkG6d1ZLME",
        "colab_type": "code",
        "colab": {}
      },
      "source": [
        ""
      ],
      "execution_count": 0,
      "outputs": []
    },
    {
      "cell_type": "code",
      "metadata": {
        "id": "TL4ybUIlS-dA",
        "colab_type": "code",
        "outputId": "203afd65-3b76-4b41-ca68-052736958a90",
        "colab": {
          "base_uri": "https://localhost:8080/",
          "height": 35
        }
      },
      "source": [
        "train['Views'].mean()"
      ],
      "execution_count": 0,
      "outputs": [
        {
          "output_type": "execute_result",
          "data": {
            "text/plain": [
              "546968.6389915624"
            ]
          },
          "metadata": {
            "tags": []
          },
          "execution_count": 6
        }
      ]
    },
    {
      "cell_type": "code",
      "metadata": {
        "id": "sB_pu_tYTuHY",
        "colab_type": "code",
        "outputId": "cec8882b-040f-418f-d226-252b544cefbc",
        "colab": {
          "base_uri": "https://localhost:8080/",
          "height": 35
        }
      },
      "source": [
        "train['Followers'].mean()"
      ],
      "execution_count": 0,
      "outputs": [
        {
          "output_type": "execute_result",
          "data": {
            "text/plain": [
              "478766.33040607715"
            ]
          },
          "metadata": {
            "tags": []
          },
          "execution_count": 7
        }
      ]
    },
    {
      "cell_type": "code",
      "metadata": {
        "id": "TNWIKkUtTiEu",
        "colab_type": "code",
        "colab": {}
      },
      "source": [
        "train['Views']=train['Views']/train['Views'].mean()"
      ],
      "execution_count": 0,
      "outputs": []
    },
    {
      "cell_type": "code",
      "metadata": {
        "id": "ZonDYcwKT6OU",
        "colab_type": "code",
        "colab": {}
      },
      "source": [
        "train['Followers']=train['Followers']/train['Followers'].mean()"
      ],
      "execution_count": 0,
      "outputs": []
    },
    {
      "cell_type": "code",
      "metadata": {
        "id": "vSNBnp3XV_Xu",
        "colab_type": "code",
        "colab": {}
      },
      "source": [
        "train['Followers']=train['Followers']*1000"
      ],
      "execution_count": 0,
      "outputs": []
    },
    {
      "cell_type": "code",
      "metadata": {
        "id": "oEuVgiRUVFUU",
        "colab_type": "code",
        "colab": {}
      },
      "source": [
        "test['Followers']=test['Followers']/test['Followers'].mean()"
      ],
      "execution_count": 0,
      "outputs": []
    },
    {
      "cell_type": "code",
      "metadata": {
        "id": "wP1iqNrpWIcs",
        "colab_type": "code",
        "colab": {}
      },
      "source": [
        "test['Followers']=test['Followers']*1000"
      ],
      "execution_count": 0,
      "outputs": []
    },
    {
      "cell_type": "code",
      "metadata": {
        "id": "PVFsZaryaPB3",
        "colab_type": "code",
        "outputId": "b875ea55-3f05-4238-9080-e4342c823e7e",
        "colab": {
          "base_uri": "https://localhost:8080/",
          "height": 194
        }
      },
      "source": [
        "test.head()"
      ],
      "execution_count": 0,
      "outputs": [
        {
          "output_type": "execute_result",
          "data": {
            "text/html": [
              "<div>\n",
              "<style scoped>\n",
              "    .dataframe tbody tr th:only-of-type {\n",
              "        vertical-align: middle;\n",
              "    }\n",
              "\n",
              "    .dataframe tbody tr th {\n",
              "        vertical-align: top;\n",
              "    }\n",
              "\n",
              "    .dataframe thead th {\n",
              "        text-align: right;\n",
              "    }\n",
              "</style>\n",
              "<table border=\"1\" class=\"dataframe\">\n",
              "  <thead>\n",
              "    <tr style=\"text-align: right;\">\n",
              "      <th></th>\n",
              "      <th>Unique_ID</th>\n",
              "      <th>Name</th>\n",
              "      <th>Genre</th>\n",
              "      <th>Country</th>\n",
              "      <th>Song_Name</th>\n",
              "      <th>Timestamp</th>\n",
              "      <th>Comments</th>\n",
              "      <th>Likes</th>\n",
              "      <th>Popularity</th>\n",
              "      <th>Followers</th>\n",
              "    </tr>\n",
              "  </thead>\n",
              "  <tbody>\n",
              "    <tr>\n",
              "      <th>0</th>\n",
              "      <td>562546</td>\n",
              "      <td>L2Share♫79</td>\n",
              "      <td>all-music</td>\n",
              "      <td>AU</td>\n",
              "      <td>엔플라잉 N.Flying - Rooftop (옥탑방)</td>\n",
              "      <td>2019-01-02 09:49:19.000000</td>\n",
              "      <td>26</td>\n",
              "      <td>5,428</td>\n",
              "      <td>118</td>\n",
              "      <td>5.313421</td>\n",
              "    </tr>\n",
              "    <tr>\n",
              "      <th>1</th>\n",
              "      <td>907584</td>\n",
              "      <td>Morgan Page</td>\n",
              "      <td>danceedm</td>\n",
              "      <td>AU</td>\n",
              "      <td>Morgan Page - In The Air - Episode 246</td>\n",
              "      <td>2015-03-09 17:30:10.000000</td>\n",
              "      <td>18</td>\n",
              "      <td>738</td>\n",
              "      <td>195</td>\n",
              "      <td>322.043380</td>\n",
              "    </tr>\n",
              "    <tr>\n",
              "      <th>2</th>\n",
              "      <td>213013</td>\n",
              "      <td>Dirty Workz</td>\n",
              "      <td>danceedm</td>\n",
              "      <td>AU</td>\n",
              "      <td>Outlander - Devotion (Official HQ Preview)</td>\n",
              "      <td>2013-09-18 16:09:03.000000</td>\n",
              "      <td>18</td>\n",
              "      <td>386</td>\n",
              "      <td>96</td>\n",
              "      <td>60.926399</td>\n",
              "    </tr>\n",
              "    <tr>\n",
              "      <th>3</th>\n",
              "      <td>340312</td>\n",
              "      <td>Gucci Mane</td>\n",
              "      <td>all-music</td>\n",
              "      <td>AU</td>\n",
              "      <td>Freaky Gurl</td>\n",
              "      <td>2007-08-14 00:00:00.000000</td>\n",
              "      <td>1</td>\n",
              "      <td>388</td>\n",
              "      <td>19</td>\n",
              "      <td>1654.050555</td>\n",
              "    </tr>\n",
              "    <tr>\n",
              "      <th>4</th>\n",
              "      <td>41854</td>\n",
              "      <td>Angga Kecap</td>\n",
              "      <td>rock</td>\n",
              "      <td>AU</td>\n",
              "      <td>Radical Nusantara - Teman</td>\n",
              "      <td>2018-08-10 16:28:54.000000</td>\n",
              "      <td>0</td>\n",
              "      <td>79</td>\n",
              "      <td>1</td>\n",
              "      <td>0.004138</td>\n",
              "    </tr>\n",
              "  </tbody>\n",
              "</table>\n",
              "</div>"
            ],
            "text/plain": [
              "   Unique_ID         Name      Genre  ...  Likes Popularity    Followers\n",
              "0     562546   L2Share♫79  all-music  ...  5,428        118     5.313421\n",
              "1     907584  Morgan Page   danceedm  ...    738        195   322.043380\n",
              "2     213013  Dirty Workz   danceedm  ...    386         96    60.926399\n",
              "3     340312   Gucci Mane  all-music  ...    388         19  1654.050555\n",
              "4      41854  Angga Kecap       rock  ...     79          1     0.004138\n",
              "\n",
              "[5 rows x 10 columns]"
            ]
          },
          "metadata": {
            "tags": []
          },
          "execution_count": 13
        }
      ]
    },
    {
      "cell_type": "code",
      "metadata": {
        "id": "d-Yf-w9VQHfq",
        "colab_type": "code",
        "outputId": "d8f01dea-d752-4a4e-9b14-c85fde0977aa",
        "colab": {
          "base_uri": "https://localhost:8080/",
          "height": 35
        }
      },
      "source": [
        "train.duplicated().sum(), test.duplicated().sum()"
      ],
      "execution_count": 0,
      "outputs": [
        {
          "output_type": "execute_result",
          "data": {
            "text/plain": [
              "(0, 0)"
            ]
          },
          "metadata": {
            "tags": []
          },
          "execution_count": 14
        }
      ]
    },
    {
      "cell_type": "code",
      "metadata": {
        "id": "HfKY1ARvQHaP",
        "colab_type": "code",
        "outputId": "80bde5e5-13e5-489e-84d9-27c334a3dfbc",
        "colab": {
          "base_uri": "https://localhost:8080/",
          "height": 408
        }
      },
      "source": [
        "train.isnull().sum(), test.isnull().sum()"
      ],
      "execution_count": 0,
      "outputs": [
        {
          "output_type": "execute_result",
          "data": {
            "text/plain": [
              "(Unique_ID     0\n",
              " Name          0\n",
              " Genre         0\n",
              " Country       0\n",
              " Song_Name     1\n",
              " Timestamp     0\n",
              " Views         0\n",
              " Comments      0\n",
              " Likes         0\n",
              " Popularity    0\n",
              " Followers     0\n",
              " dtype: int64, Unique_ID     0\n",
              " Name          0\n",
              " Genre         0\n",
              " Country       0\n",
              " Song_Name     0\n",
              " Timestamp     0\n",
              " Comments      0\n",
              " Likes         0\n",
              " Popularity    0\n",
              " Followers     0\n",
              " dtype: int64)"
            ]
          },
          "metadata": {
            "tags": []
          },
          "execution_count": 15
        }
      ]
    },
    {
      "cell_type": "code",
      "metadata": {
        "id": "WZIEeTyRQHZI",
        "colab_type": "code",
        "outputId": "04fac53c-8135-40ba-9a69-d32c5973ae60",
        "colab": {
          "base_uri": "https://localhost:8080/",
          "height": 408
        }
      },
      "source": [
        "train.dtypes,test.dtypes"
      ],
      "execution_count": 0,
      "outputs": [
        {
          "output_type": "execute_result",
          "data": {
            "text/plain": [
              "(Unique_ID       int64\n",
              " Name           object\n",
              " Genre          object\n",
              " Country        object\n",
              " Song_Name      object\n",
              " Timestamp      object\n",
              " Views         float64\n",
              " Comments        int64\n",
              " Likes          object\n",
              " Popularity     object\n",
              " Followers     float64\n",
              " dtype: object, Unique_ID       int64\n",
              " Name           object\n",
              " Genre          object\n",
              " Country        object\n",
              " Song_Name      object\n",
              " Timestamp      object\n",
              " Comments        int64\n",
              " Likes          object\n",
              " Popularity     object\n",
              " Followers     float64\n",
              " dtype: object)"
            ]
          },
          "metadata": {
            "tags": []
          },
          "execution_count": 16
        }
      ]
    },
    {
      "cell_type": "code",
      "metadata": {
        "id": "xJ-Z6xevQHWm",
        "colab_type": "code",
        "colab": {}
      },
      "source": [
        "loc = np.append(train['Genre'].values, test['Genre'].values, axis=0)\n",
        "from sklearn.preprocessing import LabelEncoder\n",
        "l=LabelEncoder()\n",
        "l.fit(list(set(loc)))\n",
        "train['Genre']=l.transform(train['Genre'])\n",
        "test['Genre']=l.transform(test['Genre'])"
      ],
      "execution_count": 0,
      "outputs": []
    },
    {
      "cell_type": "code",
      "metadata": {
        "id": "uNu3eonKQHQK",
        "colab_type": "code",
        "colab": {}
      },
      "source": [
        "loc = np.append(train['Country'].values, test['Country'].values, axis=0)\n",
        "from sklearn.preprocessing import LabelEncoder\n",
        "l=LabelEncoder()\n",
        "l.fit(list(set(loc)))\n",
        "train['Country']=l.transform(train['Country'])\n",
        "test['Country']=l.transform(test['Country'])"
      ],
      "execution_count": 0,
      "outputs": []
    },
    {
      "cell_type": "code",
      "metadata": {
        "colab_type": "code",
        "id": "W6NjyiaFaMuB",
        "colab": {}
      },
      "source": [
        "g=lambda train: train[train.isnull().any(axis=1)]"
      ],
      "execution_count": 0,
      "outputs": []
    },
    {
      "cell_type": "code",
      "metadata": {
        "colab_type": "code",
        "outputId": "9f04dfb4-641c-4e97-d17c-d4b563d29d47",
        "id": "HMfeX2NfaMtg",
        "colab": {
          "base_uri": "https://localhost:8080/",
          "height": 76
        }
      },
      "source": [
        "g(train)"
      ],
      "execution_count": 0,
      "outputs": [
        {
          "output_type": "execute_result",
          "data": {
            "text/html": [
              "<div>\n",
              "<style scoped>\n",
              "    .dataframe tbody tr th:only-of-type {\n",
              "        vertical-align: middle;\n",
              "    }\n",
              "\n",
              "    .dataframe tbody tr th {\n",
              "        vertical-align: top;\n",
              "    }\n",
              "\n",
              "    .dataframe thead th {\n",
              "        text-align: right;\n",
              "    }\n",
              "</style>\n",
              "<table border=\"1\" class=\"dataframe\">\n",
              "  <thead>\n",
              "    <tr style=\"text-align: right;\">\n",
              "      <th></th>\n",
              "      <th>Unique_ID</th>\n",
              "      <th>Name</th>\n",
              "      <th>Genre</th>\n",
              "      <th>Country</th>\n",
              "      <th>Song_Name</th>\n",
              "      <th>Timestamp</th>\n",
              "      <th>Views</th>\n",
              "      <th>Comments</th>\n",
              "      <th>Likes</th>\n",
              "      <th>Popularity</th>\n",
              "      <th>Followers</th>\n",
              "    </tr>\n",
              "  </thead>\n",
              "  <tbody>\n",
              "    <tr>\n",
              "      <th>31398</th>\n",
              "      <td>1240617</td>\n",
              "      <td>San Holo</td>\n",
              "      <td>10</td>\n",
              "      <td>0</td>\n",
              "      <td>NaN</td>\n",
              "      <td>2015-01-17 23:57:50.000000</td>\n",
              "      <td>0.235673</td>\n",
              "      <td>540</td>\n",
              "      <td>705</td>\n",
              "      <td>178</td>\n",
              "      <td>919.212509</td>\n",
              "    </tr>\n",
              "  </tbody>\n",
              "</table>\n",
              "</div>"
            ],
            "text/plain": [
              "       Unique_ID      Name  Genre  ...  Likes Popularity   Followers\n",
              "31398    1240617  San Holo     10  ...    705        178  919.212509\n",
              "\n",
              "[1 rows x 11 columns]"
            ]
          },
          "metadata": {
            "tags": []
          },
          "execution_count": 20
        }
      ]
    },
    {
      "cell_type": "code",
      "metadata": {
        "id": "SaLrhXLrZPD2",
        "colab_type": "code",
        "colab": {}
      },
      "source": [
        "train.at[31398,'Song_Name'] = 'A'"
      ],
      "execution_count": 0,
      "outputs": []
    },
    {
      "cell_type": "code",
      "metadata": {
        "id": "pGCCg5piRzly",
        "colab_type": "code",
        "colab": {}
      },
      "source": [
        "loc = np.append(train['Song_Name'].values, test['Song_Name'].values, axis=0)\n",
        "from sklearn.preprocessing import LabelEncoder\n",
        "l=LabelEncoder()\n",
        "l.fit(list(set(loc)))\n",
        "train['Song_Name']=l.transform(train['Song_Name'])\n",
        "test['Song_Name']=l.transform(test['Song_Name'])"
      ],
      "execution_count": 0,
      "outputs": []
    },
    {
      "cell_type": "code",
      "metadata": {
        "id": "H0PnXDFYRzjz",
        "colab_type": "code",
        "colab": {}
      },
      "source": [
        "loc = np.append(train['Name'].values, test['Name'].values, axis=0)\n",
        "from sklearn.preprocessing import LabelEncoder\n",
        "l=LabelEncoder()\n",
        "l.fit(list(set(loc)))\n",
        "train['Name']=l.transform(train['Name'])\n",
        "test['Name']=l.transform(test['Name'])"
      ],
      "execution_count": 0,
      "outputs": []
    },
    {
      "cell_type": "code",
      "metadata": {
        "id": "M4jQo3Hg38By",
        "colab_type": "code",
        "colab": {}
      },
      "source": [
        "train['Likes']=train['Likes'].str.replace(',', '')\n",
        "kk=[]\n",
        "for i in train['Likes']:\n",
        "  j=i\n",
        "  i=list(i)\n",
        "  if 'K' in i:\n",
        "    j=j.replace('K', '')\n",
        "    kk.append(float(j)*1000)\n",
        "  elif 'M' in i:\n",
        "    j=j.replace('M', '')\n",
        "    kk.append(float(j)*1000000)\n",
        "  else:\n",
        "      kk.append(float(j))\n",
        "train['Likes']=kk\n",
        "train['Likes']=train['Likes'].astype(int)\n",
        "###\n",
        "test['Likes']=test['Likes'].str.replace(',', '')\n",
        "kk=[]\n",
        "for i in test['Likes']:\n",
        "  j=i\n",
        "  i=list(i)\n",
        "  if 'K' in i:\n",
        "    j=j.replace('K', '')\n",
        "    kk.append(float(j)*1000)\n",
        "  elif 'M' in i:\n",
        "    j=j.replace('M', '')\n",
        "    kk.append(float(j)*1000000)\n",
        "  else:\n",
        "      kk.append(float(j))\n",
        "test['Likes']=kk\n",
        "test['Likes']=test['Likes'].astype(int)"
      ],
      "execution_count": 0,
      "outputs": []
    },
    {
      "cell_type": "code",
      "metadata": {
        "id": "GNKwWCJ38Ut6",
        "colab_type": "code",
        "colab": {}
      },
      "source": [
        "train['Popularity']=train['Popularity'].str.replace(',', '')\n",
        "kk=[]\n",
        "for i in train['Popularity']:\n",
        "  j=i\n",
        "  i=list(i)\n",
        "  if 'K' in i:\n",
        "    j=j.replace('K', '')\n",
        "    kk.append(float(j)*1000)\n",
        "  elif 'M' in i:\n",
        "    j=j.replace('M', '')\n",
        "    kk.append(float(j)*1000000)\n",
        "  else:\n",
        "      kk.append(float(j))\n",
        "train['Popularity']=kk\n",
        "train['Popularity']=train['Popularity'].astype(int)\n",
        "###\n",
        "test['Popularity']=test['Popularity'].str.replace(',', '')\n",
        "kk=[]\n",
        "for i in test['Popularity']:\n",
        "  j=i\n",
        "  i=list(i)\n",
        "  if 'K' in i:\n",
        "    j=j.replace('K', '')\n",
        "    kk.append(float(j)*1000)\n",
        "  elif 'M' in i:\n",
        "    j=j.replace('M', '')\n",
        "    kk.append(float(j)*1000000)\n",
        "  else:\n",
        "      kk.append(float(j))\n",
        "test['Popularity']=kk\n",
        "test['Popularity']=test['Popularity'].astype(int)"
      ],
      "execution_count": 0,
      "outputs": []
    },
    {
      "cell_type": "code",
      "metadata": {
        "id": "48qH10Ls_Eum",
        "colab_type": "code",
        "colab": {}
      },
      "source": [
        "train['Timestamp'] = pd.to_datetime(train['Timestamp'])\n",
        "test['Timestamp'] = pd.to_datetime(test['Timestamp'])"
      ],
      "execution_count": 0,
      "outputs": []
    },
    {
      "cell_type": "code",
      "metadata": {
        "id": "Ftij7CzrRzeh",
        "colab_type": "code",
        "colab": {}
      },
      "source": [
        "loc = np.append(train['Timestamp'].values, test['Timestamp'].values, axis=0)\n",
        "from sklearn.preprocessing import LabelEncoder\n",
        "l=LabelEncoder()\n",
        "l.fit(list(set(loc)))\n",
        "train['Timestamp']=l.transform(train['Timestamp'])\n",
        "test['Timestamp']=l.transform(test['Timestamp'])"
      ],
      "execution_count": 0,
      "outputs": []
    },
    {
      "cell_type": "code",
      "metadata": {
        "id": "8gto4NppaK1K",
        "colab_type": "code",
        "colab": {}
      },
      "source": [
        "from sklearn import preprocessing\n",
        "from sklearn.preprocessing import normalize\n",
        "\n",
        "X_train = train.drop(\"Views\", axis=1)\n",
        "X_train = X_train.drop(\"Unique_ID\", axis=1)\n",
        "Y_train = train[\"Views\"].values\n",
        "X_test = test.drop(\"Unique_ID\", axis=1)\n",
        "\n",
        "min_max_scaler = preprocessing.MinMaxScaler()\n",
        "np_scaled = min_max_scaler.fit_transform(X_train)\n",
        "X_train = pd.DataFrame(np_scaled)\n",
        "\n",
        "min_max_scaler = preprocessing.MinMaxScaler()\n",
        "np_scaled = min_max_scaler.fit_transform(X_test)\n",
        "X_test = pd.DataFrame(np_scaled)"
      ],
      "execution_count": 0,
      "outputs": []
    },
    {
      "cell_type": "code",
      "metadata": {
        "id": "7x2mVorqaZQf",
        "colab_type": "code",
        "colab": {}
      },
      "source": [
        "from sklearn.linear_model import LinearRegression\n",
        "from sklearn.svm import SVC, LinearSVC\n",
        "from sklearn.ensemble import RandomForestClassifier\n",
        "from sklearn.neighbors import KNeighborsClassifier\n",
        "from sklearn.naive_bayes import GaussianNB\n",
        "from sklearn.linear_model import Perceptron\n",
        "from sklearn.linear_model import SGDClassifier\n",
        "from sklearn.tree import DecisionTreeClassifier\n",
        "from sklearn.linear_model import LogisticRegression"
      ],
      "execution_count": 0,
      "outputs": []
    },
    {
      "cell_type": "code",
      "metadata": {
        "id": "BUjZlolaaZXv",
        "colab_type": "code",
        "outputId": "2024b60e-ef05-4385-c886-f0bb6ce73889",
        "colab": {
          "base_uri": "https://localhost:8080/",
          "height": 35
        }
      },
      "source": [
        "X_train.shape, Y_train.shape, X_test.shape"
      ],
      "execution_count": 0,
      "outputs": [
        {
          "output_type": "execute_result",
          "data": {
            "text/plain": [
              "((78458, 9), (78458,), (19615, 9))"
            ]
          },
          "metadata": {
            "tags": []
          },
          "execution_count": 77
        }
      ]
    },
    {
      "cell_type": "code",
      "metadata": {
        "id": "XyJotNi-aZPD",
        "colab_type": "code",
        "colab": {}
      },
      "source": [
        "import warnings\n",
        "warnings.simplefilter(action='ignore', category=FutureWarning)"
      ],
      "execution_count": 0,
      "outputs": []
    },
    {
      "cell_type": "code",
      "metadata": {
        "id": "ORNHurwPaZM7",
        "colab_type": "code",
        "outputId": "751576c7-70c5-4f68-d8d5-31cfed6e270e",
        "colab": {
          "base_uri": "https://localhost:8080/",
          "height": 35
        }
      },
      "source": [
        "#Linear Regression\n",
        "\n",
        "linreg = LinearRegression()\n",
        "linreg.fit(X_train, Y_train)\n",
        "Y_pred = linreg.predict(X_test)\n",
        "acc_log = round(linreg.score(X_train, Y_train) * 100, 2)\n",
        "acc_log"
      ],
      "execution_count": 0,
      "outputs": [
        {
          "output_type": "execute_result",
          "data": {
            "text/plain": [
              "96.5"
            ]
          },
          "metadata": {
            "tags": []
          },
          "execution_count": 79
        }
      ]
    },
    {
      "cell_type": "code",
      "metadata": {
        "id": "BBXb1xFDAHgr",
        "colab_type": "code",
        "colab": {}
      },
      "source": [
        "# Linear SVC\n",
        "\n",
        "linear_svc = LinearSVC()\n",
        "linear_svc.fit(X_train, Y_train)\n",
        "Y_pred = linear_svc.predict(X_test)\n",
        "acc_linear_svc = round(linear_svc.score(X_train, Y_train) * 100, 2)\n",
        "acc_linear_svc"
      ],
      "execution_count": 0,
      "outputs": []
    },
    {
      "cell_type": "code",
      "metadata": {
        "id": "1AmcL5QpCepg",
        "colab_type": "code",
        "colab": {}
      },
      "source": [
        "# Random Forest\n",
        "\n",
        "random_forest = RandomForestClassifier(n_estimators=100)\n",
        "random_forest.fit(X_train, Y_train)\n",
        "Y_pred = random_forest.predict(X_test)\n",
        "random_forest.score(X_train, Y_train)\n",
        "acc_random_forest = round(random_forest.score(X_train, Y_train) * 100, 2)\n",
        "acc_random_forest"
      ],
      "execution_count": 0,
      "outputs": []
    },
    {
      "cell_type": "code",
      "metadata": {
        "id": "x6i1usSzlGio",
        "colab_type": "code",
        "outputId": "7cea8578-1d65-463f-a621-af6eec90c9a6",
        "colab": {
          "base_uri": "https://localhost:8080/",
          "height": 248
        }
      },
      "source": [
        "submission = pd.DataFrame({\n",
        "        \"Unique_ID\": train[\"Unique_ID\"],\n",
        "        \"Name\": train[\"Name\"],\n",
        "        \"Genre\": train[\"Genre\"],\n",
        "        \"Country\": train[\"Country\"],\n",
        "        \"Song_Name\": train[\"Song_Name\"],\n",
        "        \"Timestamp\": train[\"Timestamp\"],\n",
        "        \"Comments\": train[\"Comments\"],\n",
        "        \"Likes\": train[\"Likes\"],\n",
        "        \"Popularity\": train[\"Popularity\"],\n",
        "        \"Followers\": train[\"Followers\"],\n",
        "        \"Views\": train[\"Views\"]\n",
        "    })\n",
        "submission.to_csv('./train.csv', index=False)\n",
        "print(submission.head(10))"
      ],
      "execution_count": 0,
      "outputs": [
        {
          "output_type": "stream",
          "text": [
            "   Unique_ID  Name  Genre  Country  ... Likes Popularity  Followers   Views\n",
            "0     413890   403      5        0  ...   499         97     119563   14017\n",
            "1     249453   268      5        0  ...    49         17       2141    1918\n",
            "2     681116   637      5        0  ...   312         91      22248    9668\n",
            "3     387253   366     17        0  ...  2400         76     393655  113036\n",
            "4    1428029   979      5        0  ...  3031        699     201030  110024\n",
            "5       2839  1137      0        0  ...  4500        325      71038  223716\n",
            "6     414871   403      5        0  ...  1017        226     119563   37480\n",
            "7     209496   263      5        0  ...    88         12    7120051    4022\n",
            "8     967409   700     20        0  ...    28          7       1892    1263\n",
            "9     171948   249     14        0  ...   622         47       2835   27874\n",
            "\n",
            "[10 rows x 11 columns]\n"
          ],
          "name": "stdout"
        }
      ]
    },
    {
      "cell_type": "code",
      "metadata": {
        "id": "_YtiAgIDQUeY",
        "colab_type": "code",
        "outputId": "5ab3c6f9-0e5e-4af7-906f-fa6184f6ed6e",
        "colab": {
          "base_uri": "https://localhost:8080/",
          "height": 248
        }
      },
      "source": [
        "submission = pd.DataFrame({\n",
        "        \"Unique_ID\": test[\"Unique_ID\"],\n",
        "        \"Name\": test[\"Name\"],\n",
        "        \"Genre\": test[\"Genre\"],\n",
        "        \"Country\": test[\"Country\"],\n",
        "        \"Song_Name\": test[\"Song_Name\"],\n",
        "        \"Timestamp\": test[\"Timestamp\"],\n",
        "        \"Comments\": test[\"Comments\"],\n",
        "        \"Likes\": test[\"Likes\"],\n",
        "        \"Popularity\": test[\"Popularity\"],\n",
        "        \"Followers\": test[\"Followers\"]\n",
        "    })\n",
        "submission.to_csv('./test.csv', index=False)\n",
        "print(submission.head(10))"
      ],
      "execution_count": 0,
      "outputs": [
        {
          "output_type": "stream",
          "text": [
            "   Unique_ID  Name  Genre  Country  ... Comments Likes  Popularity  Followers\n",
            "0     562546   538      0        0  ...       26  5428         118       2568\n",
            "1     907584   667      5        0  ...       18   738         195     155645\n",
            "2     213013   264      5        0  ...       18   386          96      29446\n",
            "3     340312   387      0        0  ...        1   388          19     799410\n",
            "4      41854    62     19        0  ...        0    79           1          2\n",
            "5    1031846  1165      5        0  ...        3   271          68      64073\n",
            "6     627446   599     10        0  ...        1    17           2     571579\n",
            "7    1509777   107     10        0  ...        3   302          39     738016\n",
            "8    1270147  1176      8        0  ...        1    17           6      25108\n",
            "9    1486926  1011     10        0  ...       23   891          79      36505\n",
            "\n",
            "[10 rows x 10 columns]\n"
          ],
          "name": "stdout"
        }
      ]
    },
    {
      "cell_type": "code",
      "metadata": {
        "id": "AFv4iBN_z34S",
        "colab_type": "code",
        "outputId": "da112e23-50b5-461e-c64a-3611b2ae4c16",
        "colab": {
          "base_uri": "https://localhost:8080/",
          "height": 212
        }
      },
      "source": [
        "submission = pd.DataFrame({\n",
        "        \"Unique_ID\": test[\"Polar\"]\n",
        "    })\n",
        "submission.to_csv('./submission.csv', index=False)\n",
        "print(submission.head(10))"
      ],
      "execution_count": 0,
      "outputs": [
        {
          "output_type": "stream",
          "text": [
            "   Unique_ID\n",
            "0      0.000\n",
            "1      0.000\n",
            "2      0.000\n",
            "3      0.000\n",
            "4      0.000\n",
            "5     -0.275\n",
            "6     -0.400\n",
            "7      0.000\n",
            "8      0.375\n",
            "9      0.000\n"
          ],
          "name": "stdout"
        }
      ]
    },
    {
      "cell_type": "code",
      "metadata": {
        "id": "LQuskBhRz5Db",
        "colab_type": "code",
        "colab": {}
      },
      "source": [
        "from google.colab import files\n",
        "files.download('submission.csv')"
      ],
      "execution_count": 0,
      "outputs": []
    },
    {
      "cell_type": "markdown",
      "metadata": {
        "id": "f7Wrt44Yd2ku",
        "colab_type": "text"
      },
      "source": [
        "#2nd method"
      ]
    },
    {
      "cell_type": "code",
      "metadata": {
        "id": "1ayhm2RikGSp",
        "colab_type": "code",
        "colab": {}
      },
      "source": [
        "\n",
        "train_df=train"
      ],
      "execution_count": 0,
      "outputs": []
    },
    {
      "cell_type": "code",
      "metadata": {
        "id": "CFNyvSrLRmWw",
        "colab_type": "code",
        "colab": {}
      },
      "source": [
        "X = train_df.drop(labels=['Views'], axis=1)\n",
        "y = train_df['Views'].values\n",
        "\n",
        "from sklearn.model_selection import train_test_split\n",
        "X_train, X_cv, y_train, y_cv = train_test_split(X, y, test_size=0.25, random_state=1)"
      ],
      "execution_count": 0,
      "outputs": []
    },
    {
      "cell_type": "code",
      "metadata": {
        "id": "0NMWxCO0RuYx",
        "colab_type": "code",
        "outputId": "6dc1849e-1daf-4f96-8ff9-e0fbc8870dda",
        "colab": {
          "base_uri": "https://localhost:8080/",
          "height": 35
        }
      },
      "source": [
        "X_train.shape, y_train.shape, X_cv.shape, y_cv.shape"
      ],
      "execution_count": 0,
      "outputs": [
        {
          "output_type": "execute_result",
          "data": {
            "text/plain": [
              "((58843, 10), (58843,), (19615, 10), (19615,))"
            ]
          },
          "metadata": {
            "tags": []
          },
          "execution_count": 83
        }
      ]
    },
    {
      "cell_type": "code",
      "metadata": {
        "id": "EN-Uh3XfR1J1",
        "colab_type": "code",
        "colab": {}
      },
      "source": [
        "from math import sqrt \n",
        "from sklearn.metrics import mean_squared_log_error"
      ],
      "execution_count": 0,
      "outputs": []
    },
    {
      "cell_type": "code",
      "metadata": {
        "id": "YlZhmDxAR13c",
        "colab_type": "code",
        "outputId": "90442d12-1b63-4bb6-cd3b-5d39220ab6b4",
        "colab": {
          "base_uri": "https://localhost:8080/",
          "height": 319
        }
      },
      "source": [
        "import lightgbm as lgb\n",
        "train_data = lgb.Dataset(X_train, label=y_train)\n",
        "test_data = lgb.Dataset(X_cv, label=y_cv)\n",
        "\n",
        "param = {'objective': 'regression',\n",
        "         'boosting': 'gbdt',  \n",
        "         'metric': 'l2_root',\n",
        "         'learning_rate': 0.01, \n",
        "         'num_iterations': 3500,\n",
        "         'num_leaves': 80,\n",
        "         'max_depth': -1,\n",
        "         'min_data_in_leaf': 11,\n",
        "         'bagging_fraction': 0.80,\n",
        "         'bagging_freq': 1,\n",
        "         'bagging_seed': 3,\n",
        "         'feature_fraction': 0.80,\n",
        "         'feature_fraction_seed': 2,\n",
        "         'early_stopping_round': 200,\n",
        "         'max_bin': 250\n",
        "         }\n",
        "\n",
        "lgbm = lgb.train(params=param, verbose_eval=100, train_set=train_data, valid_sets=[test_data])\n",
        "\n",
        "y_pred_lgbm = abs(lgbm.predict(X_cv))\n",
        "print('RMSLE:', sqrt(mean_squared_log_error(np.expm1(y_cv), np.expm1(y_pred_lgbm))))"
      ],
      "execution_count": 0,
      "outputs": [
        {
          "output_type": "stream",
          "text": [
            "/usr/local/lib/python3.6/dist-packages/lightgbm/engine.py:118: UserWarning: Found `num_iterations` in params. Will use it instead of argument\n",
            "  warnings.warn(\"Found `{}` in params. Will use it instead of argument\".format(alias))\n",
            "/usr/local/lib/python3.6/dist-packages/lightgbm/engine.py:123: UserWarning: Found `early_stopping_round` in params. Will use it instead of argument\n",
            "  warnings.warn(\"Found `{}` in params. Will use it instead of argument\".format(alias))\n"
          ],
          "name": "stderr"
        },
        {
          "output_type": "stream",
          "text": [
            "Training until validation scores don't improve for 200 rounds.\n",
            "[100]\tvalid_0's rmse: 3.39546\n",
            "[200]\tvalid_0's rmse: 2.59086\n",
            "[300]\tvalid_0's rmse: 2.47971\n",
            "[400]\tvalid_0's rmse: 2.47404\n",
            "[500]\tvalid_0's rmse: 2.46037\n",
            "[600]\tvalid_0's rmse: 2.45442\n",
            "[700]\tvalid_0's rmse: 2.45173\n",
            "[800]\tvalid_0's rmse: 2.4508\n",
            "[900]\tvalid_0's rmse: 2.45678\n",
            "Early stopping, best iteration is:\n",
            "[755]\tvalid_0's rmse: 2.44435\n",
            "RMSLE: 2.4443440246504227\n"
          ],
          "name": "stdout"
        }
      ]
    },
    {
      "cell_type": "code",
      "metadata": {
        "id": "IBIhs3pFR6oe",
        "colab_type": "code",
        "colab": {}
      },
      "source": [
        "Xtest = test"
      ],
      "execution_count": 0,
      "outputs": []
    },
    {
      "cell_type": "code",
      "metadata": {
        "id": "pCdJ3netWhsM",
        "colab_type": "code",
        "outputId": "faff8334-7625-473e-8ed1-9ea3411928a0",
        "colab": {
          "base_uri": "https://localhost:8080/",
          "height": 1000
        }
      },
      "source": [
        "from sklearn.model_selection import KFold\n",
        "from lightgbm import LGBMRegressor\n",
        "\n",
        "errlgb = []\n",
        "y_pred_totlgb = []\n",
        "\n",
        "fold = KFold(n_splits=15, shuffle=True, random_state=42)\n",
        "\n",
        "for train_index, test_index in fold.split(X):\n",
        "    X_train, X_test = X.loc[train_index], X.loc[test_index]\n",
        "    y_train, y_test = y[train_index], y[test_index]\n",
        "\n",
        "    lgbm = LGBMRegressor(**param)\n",
        "    lgbm.fit(X_train, y_train, eval_set=[(X_test, y_test)], verbose=0, early_stopping_rounds=200)\n",
        "\n",
        "    y_pred_lgbm = lgbm.predict(X_test)\n",
        "    print(\"RMSLE LGBM: \", sqrt(mean_squared_log_error(np.exp(y_test), np.exp(y_pred_lgbm))))\n",
        "\n",
        "    errlgb.append(sqrt(mean_squared_log_error(np.exp(y_test), np.exp(y_pred_lgbm))))\n",
        "    p = lgbm.predict(Xtest)\n",
        "    y_pred_totlgb.append(p)"
      ],
      "execution_count": 0,
      "outputs": [
        {
          "output_type": "stream",
          "text": [
            "/usr/local/lib/python3.6/dist-packages/lightgbm/engine.py:118: UserWarning: Found `num_iterations` in params. Will use it instead of argument\n",
            "  warnings.warn(\"Found `{}` in params. Will use it instead of argument\".format(alias))\n",
            "/usr/local/lib/python3.6/dist-packages/lightgbm/engine.py:123: UserWarning: Found `early_stopping_round` in params. Will use it instead of argument\n",
            "  warnings.warn(\"Found `{}` in params. Will use it instead of argument\".format(alias))\n"
          ],
          "name": "stderr"
        },
        {
          "output_type": "stream",
          "text": [
            "RMSLE LGBM:  2.1624800016753256\n"
          ],
          "name": "stdout"
        },
        {
          "output_type": "stream",
          "text": [
            "/usr/local/lib/python3.6/dist-packages/lightgbm/engine.py:118: UserWarning: Found `num_iterations` in params. Will use it instead of argument\n",
            "  warnings.warn(\"Found `{}` in params. Will use it instead of argument\".format(alias))\n",
            "/usr/local/lib/python3.6/dist-packages/lightgbm/engine.py:123: UserWarning: Found `early_stopping_round` in params. Will use it instead of argument\n",
            "  warnings.warn(\"Found `{}` in params. Will use it instead of argument\".format(alias))\n"
          ],
          "name": "stderr"
        },
        {
          "output_type": "stream",
          "text": [
            "RMSLE LGBM:  1.718165432627566\n"
          ],
          "name": "stdout"
        },
        {
          "output_type": "stream",
          "text": [
            "/usr/local/lib/python3.6/dist-packages/lightgbm/engine.py:118: UserWarning: Found `num_iterations` in params. Will use it instead of argument\n",
            "  warnings.warn(\"Found `{}` in params. Will use it instead of argument\".format(alias))\n",
            "/usr/local/lib/python3.6/dist-packages/lightgbm/engine.py:123: UserWarning: Found `early_stopping_round` in params. Will use it instead of argument\n",
            "  warnings.warn(\"Found `{}` in params. Will use it instead of argument\".format(alias))\n"
          ],
          "name": "stderr"
        },
        {
          "output_type": "stream",
          "text": [
            "RMSLE LGBM:  2.384442920788975\n"
          ],
          "name": "stdout"
        },
        {
          "output_type": "stream",
          "text": [
            "/usr/local/lib/python3.6/dist-packages/lightgbm/engine.py:118: UserWarning: Found `num_iterations` in params. Will use it instead of argument\n",
            "  warnings.warn(\"Found `{}` in params. Will use it instead of argument\".format(alias))\n",
            "/usr/local/lib/python3.6/dist-packages/lightgbm/engine.py:123: UserWarning: Found `early_stopping_round` in params. Will use it instead of argument\n",
            "  warnings.warn(\"Found `{}` in params. Will use it instead of argument\".format(alias))\n"
          ],
          "name": "stderr"
        },
        {
          "output_type": "stream",
          "text": [
            "RMSLE LGBM:  3.1494173655520354\n"
          ],
          "name": "stdout"
        },
        {
          "output_type": "stream",
          "text": [
            "/usr/local/lib/python3.6/dist-packages/lightgbm/engine.py:118: UserWarning: Found `num_iterations` in params. Will use it instead of argument\n",
            "  warnings.warn(\"Found `{}` in params. Will use it instead of argument\".format(alias))\n",
            "/usr/local/lib/python3.6/dist-packages/lightgbm/engine.py:123: UserWarning: Found `early_stopping_round` in params. Will use it instead of argument\n",
            "  warnings.warn(\"Found `{}` in params. Will use it instead of argument\".format(alias))\n"
          ],
          "name": "stderr"
        },
        {
          "output_type": "stream",
          "text": [
            "RMSLE LGBM:  1.5906953049060855\n"
          ],
          "name": "stdout"
        },
        {
          "output_type": "stream",
          "text": [
            "/usr/local/lib/python3.6/dist-packages/lightgbm/engine.py:118: UserWarning: Found `num_iterations` in params. Will use it instead of argument\n",
            "  warnings.warn(\"Found `{}` in params. Will use it instead of argument\".format(alias))\n",
            "/usr/local/lib/python3.6/dist-packages/lightgbm/engine.py:123: UserWarning: Found `early_stopping_round` in params. Will use it instead of argument\n",
            "  warnings.warn(\"Found `{}` in params. Will use it instead of argument\".format(alias))\n"
          ],
          "name": "stderr"
        },
        {
          "output_type": "stream",
          "text": [
            "RMSLE LGBM:  4.3250631400016015\n"
          ],
          "name": "stdout"
        },
        {
          "output_type": "stream",
          "text": [
            "/usr/local/lib/python3.6/dist-packages/lightgbm/engine.py:118: UserWarning: Found `num_iterations` in params. Will use it instead of argument\n",
            "  warnings.warn(\"Found `{}` in params. Will use it instead of argument\".format(alias))\n",
            "/usr/local/lib/python3.6/dist-packages/lightgbm/engine.py:123: UserWarning: Found `early_stopping_round` in params. Will use it instead of argument\n",
            "  warnings.warn(\"Found `{}` in params. Will use it instead of argument\".format(alias))\n"
          ],
          "name": "stderr"
        },
        {
          "output_type": "stream",
          "text": [
            "RMSLE LGBM:  2.173953019180159\n"
          ],
          "name": "stdout"
        },
        {
          "output_type": "stream",
          "text": [
            "/usr/local/lib/python3.6/dist-packages/lightgbm/engine.py:118: UserWarning: Found `num_iterations` in params. Will use it instead of argument\n",
            "  warnings.warn(\"Found `{}` in params. Will use it instead of argument\".format(alias))\n",
            "/usr/local/lib/python3.6/dist-packages/lightgbm/engine.py:123: UserWarning: Found `early_stopping_round` in params. Will use it instead of argument\n",
            "  warnings.warn(\"Found `{}` in params. Will use it instead of argument\".format(alias))\n"
          ],
          "name": "stderr"
        },
        {
          "output_type": "stream",
          "text": [
            "RMSLE LGBM:  2.4403039494164376\n"
          ],
          "name": "stdout"
        },
        {
          "output_type": "stream",
          "text": [
            "/usr/local/lib/python3.6/dist-packages/lightgbm/engine.py:118: UserWarning: Found `num_iterations` in params. Will use it instead of argument\n",
            "  warnings.warn(\"Found `{}` in params. Will use it instead of argument\".format(alias))\n",
            "/usr/local/lib/python3.6/dist-packages/lightgbm/engine.py:123: UserWarning: Found `early_stopping_round` in params. Will use it instead of argument\n",
            "  warnings.warn(\"Found `{}` in params. Will use it instead of argument\".format(alias))\n"
          ],
          "name": "stderr"
        },
        {
          "output_type": "stream",
          "text": [
            "RMSLE LGBM:  1.503952202048237\n"
          ],
          "name": "stdout"
        },
        {
          "output_type": "stream",
          "text": [
            "/usr/local/lib/python3.6/dist-packages/lightgbm/engine.py:118: UserWarning: Found `num_iterations` in params. Will use it instead of argument\n",
            "  warnings.warn(\"Found `{}` in params. Will use it instead of argument\".format(alias))\n",
            "/usr/local/lib/python3.6/dist-packages/lightgbm/engine.py:123: UserWarning: Found `early_stopping_round` in params. Will use it instead of argument\n",
            "  warnings.warn(\"Found `{}` in params. Will use it instead of argument\".format(alias))\n"
          ],
          "name": "stderr"
        },
        {
          "output_type": "stream",
          "text": [
            "RMSLE LGBM:  2.0899610133741198\n"
          ],
          "name": "stdout"
        },
        {
          "output_type": "stream",
          "text": [
            "/usr/local/lib/python3.6/dist-packages/lightgbm/engine.py:118: UserWarning: Found `num_iterations` in params. Will use it instead of argument\n",
            "  warnings.warn(\"Found `{}` in params. Will use it instead of argument\".format(alias))\n",
            "/usr/local/lib/python3.6/dist-packages/lightgbm/engine.py:123: UserWarning: Found `early_stopping_round` in params. Will use it instead of argument\n",
            "  warnings.warn(\"Found `{}` in params. Will use it instead of argument\".format(alias))\n"
          ],
          "name": "stderr"
        },
        {
          "output_type": "stream",
          "text": [
            "RMSLE LGBM:  2.6238876318298034\n"
          ],
          "name": "stdout"
        },
        {
          "output_type": "stream",
          "text": [
            "/usr/local/lib/python3.6/dist-packages/lightgbm/engine.py:118: UserWarning: Found `num_iterations` in params. Will use it instead of argument\n",
            "  warnings.warn(\"Found `{}` in params. Will use it instead of argument\".format(alias))\n",
            "/usr/local/lib/python3.6/dist-packages/lightgbm/engine.py:123: UserWarning: Found `early_stopping_round` in params. Will use it instead of argument\n",
            "  warnings.warn(\"Found `{}` in params. Will use it instead of argument\".format(alias))\n"
          ],
          "name": "stderr"
        },
        {
          "output_type": "stream",
          "text": [
            "RMSLE LGBM:  2.629579877957135\n"
          ],
          "name": "stdout"
        },
        {
          "output_type": "stream",
          "text": [
            "/usr/local/lib/python3.6/dist-packages/lightgbm/engine.py:118: UserWarning: Found `num_iterations` in params. Will use it instead of argument\n",
            "  warnings.warn(\"Found `{}` in params. Will use it instead of argument\".format(alias))\n",
            "/usr/local/lib/python3.6/dist-packages/lightgbm/engine.py:123: UserWarning: Found `early_stopping_round` in params. Will use it instead of argument\n",
            "  warnings.warn(\"Found `{}` in params. Will use it instead of argument\".format(alias))\n"
          ],
          "name": "stderr"
        },
        {
          "output_type": "stream",
          "text": [
            "RMSLE LGBM:  1.6346064549170822\n"
          ],
          "name": "stdout"
        },
        {
          "output_type": "stream",
          "text": [
            "/usr/local/lib/python3.6/dist-packages/lightgbm/engine.py:118: UserWarning: Found `num_iterations` in params. Will use it instead of argument\n",
            "  warnings.warn(\"Found `{}` in params. Will use it instead of argument\".format(alias))\n",
            "/usr/local/lib/python3.6/dist-packages/lightgbm/engine.py:123: UserWarning: Found `early_stopping_round` in params. Will use it instead of argument\n",
            "  warnings.warn(\"Found `{}` in params. Will use it instead of argument\".format(alias))\n"
          ],
          "name": "stderr"
        },
        {
          "output_type": "stream",
          "text": [
            "RMSLE LGBM:  1.5047507761997507\n"
          ],
          "name": "stdout"
        },
        {
          "output_type": "stream",
          "text": [
            "/usr/local/lib/python3.6/dist-packages/lightgbm/engine.py:118: UserWarning: Found `num_iterations` in params. Will use it instead of argument\n",
            "  warnings.warn(\"Found `{}` in params. Will use it instead of argument\".format(alias))\n",
            "/usr/local/lib/python3.6/dist-packages/lightgbm/engine.py:123: UserWarning: Found `early_stopping_round` in params. Will use it instead of argument\n",
            "  warnings.warn(\"Found `{}` in params. Will use it instead of argument\".format(alias))\n"
          ],
          "name": "stderr"
        },
        {
          "output_type": "stream",
          "text": [
            "RMSLE LGBM:  1.8816751895671529\n"
          ],
          "name": "stdout"
        }
      ]
    },
    {
      "cell_type": "code",
      "metadata": {
        "id": "WNbly8YbWlEV",
        "colab_type": "code",
        "outputId": "582a632c-6560-4013-ee9e-c082dead708e",
        "colab": {
          "base_uri": "https://localhost:8080/",
          "height": 35
        }
      },
      "source": [
        "np.mean(errlgb,0)"
      ],
      "execution_count": 0,
      "outputs": [
        {
          "output_type": "execute_result",
          "data": {
            "text/plain": [
              "2.2541956186694305"
            ]
          },
          "metadata": {
            "tags": []
          },
          "execution_count": 89
        }
      ]
    },
    {
      "cell_type": "code",
      "metadata": {
        "id": "YVWrMygEWvDJ",
        "colab_type": "code",
        "outputId": "5effc77d-eb6a-45e1-edcc-885b686dbb90",
        "colab": {
          "base_uri": "https://localhost:8080/",
          "height": 52
        }
      },
      "source": [
        "lgbm_final = np.expm1(np.mean(y_pred_totlgb,0))\n",
        "lgbm_final"
      ],
      "execution_count": 0,
      "outputs": [
        {
          "output_type": "execute_result",
          "data": {
            "text/plain": [
              "array([0.6266191 , 0.11088761, 0.07570295, ..., 0.06009539, 0.31351875,\n",
              "       0.08948235])"
            ]
          },
          "metadata": {
            "tags": []
          },
          "execution_count": 90
        }
      ]
    },
    {
      "cell_type": "code",
      "metadata": {
        "id": "q7xv80QNXHTZ",
        "colab_type": "code",
        "outputId": "27c809df-c14d-4334-beb7-2bb952fa7a24",
        "colab": {
          "base_uri": "https://localhost:8080/",
          "height": 52
        }
      },
      "source": [
        "lgbm_final*100000"
      ],
      "execution_count": 0,
      "outputs": [
        {
          "output_type": "execute_result",
          "data": {
            "text/plain": [
              "array([62661.91022232, 11088.76124489,  7570.29521003, ...,\n",
              "        6009.53883055, 31351.87461633,  8948.23528486])"
            ]
          },
          "metadata": {
            "tags": []
          },
          "execution_count": 93
        }
      ]
    },
    {
      "cell_type": "code",
      "metadata": {
        "id": "hamKP-hOXfbL",
        "colab_type": "code",
        "outputId": "5147379c-ccf2-4546-cda9-9c9094f14858",
        "colab": {
          "base_uri": "https://localhost:8080/",
          "height": 106
        }
      },
      "source": [
        "!pip install xlsxwriter"
      ],
      "execution_count": 0,
      "outputs": [
        {
          "output_type": "stream",
          "text": [
            "Collecting xlsxwriter\n",
            "\u001b[?25l  Downloading https://files.pythonhosted.org/packages/0d/0c/4376ce9d0773c9969271419d4c843bf9b845d831a555f5abb6229e74ac1e/XlsxWriter-1.2.7-py2.py3-none-any.whl (141kB)\n",
            "\r\u001b[K     |██▎                             | 10kB 17.8MB/s eta 0:00:01\r\u001b[K     |████▋                           | 20kB 3.1MB/s eta 0:00:01\r\u001b[K     |███████                         | 30kB 4.5MB/s eta 0:00:01\r\u001b[K     |█████████▎                      | 40kB 3.0MB/s eta 0:00:01\r\u001b[K     |███████████▋                    | 51kB 3.6MB/s eta 0:00:01\r\u001b[K     |██████████████                  | 61kB 4.3MB/s eta 0:00:01\r\u001b[K     |████████████████▏               | 71kB 5.0MB/s eta 0:00:01\r\u001b[K     |██████████████████▌             | 81kB 5.6MB/s eta 0:00:01\r\u001b[K     |████████████████████▉           | 92kB 6.3MB/s eta 0:00:01\r\u001b[K     |███████████████████████▏        | 102kB 4.9MB/s eta 0:00:01\r\u001b[K     |█████████████████████████▌      | 112kB 4.9MB/s eta 0:00:01\r\u001b[K     |███████████████████████████▉    | 122kB 4.9MB/s eta 0:00:01\r\u001b[K     |██████████████████████████████  | 133kB 4.9MB/s eta 0:00:01\r\u001b[K     |████████████████████████████████| 143kB 4.9MB/s \n",
            "\u001b[?25hInstalling collected packages: xlsxwriter\n",
            "Successfully installed xlsxwriter-1.2.7\n"
          ],
          "name": "stdout"
        }
      ]
    },
    {
      "cell_type": "code",
      "metadata": {
        "id": "J3C4MAv6XSF7",
        "colab_type": "code",
        "colab": {}
      },
      "source": [
        "df_sub = pd.DataFrame(data=lgbm_final, columns=['Views'])\n",
        "writer = pd.ExcelWriter('Output.xlsx', engine='xlsxwriter')\n",
        "df_sub.to_excel(writer,sheet_name='Sheet1', index=False)\n",
        "writer.save()"
      ],
      "execution_count": 0,
      "outputs": []
    },
    {
      "cell_type": "code",
      "metadata": {
        "id": "wocTIvVlXcv8",
        "colab_type": "code",
        "colab": {}
      },
      "source": [
        "from google.colab import files\n",
        "files.download('Output.xlsx')"
      ],
      "execution_count": 0,
      "outputs": []
    },
    {
      "cell_type": "code",
      "metadata": {
        "id": "hqcMKXCvXqkc",
        "colab_type": "code",
        "colab": {}
      },
      "source": [
        ""
      ],
      "execution_count": 0,
      "outputs": []
    }
  ]
}