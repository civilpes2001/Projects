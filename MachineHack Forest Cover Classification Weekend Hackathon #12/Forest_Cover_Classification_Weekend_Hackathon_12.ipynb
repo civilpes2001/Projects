{
  "nbformat": 4,
  "nbformat_minor": 0,
  "metadata": {
    "colab": {
      "name": "Forest Cover Classification: Weekend Hackathon #12.ipynb",
      "provenance": [],
      "collapsed_sections": []
    },
    "kernelspec": {
      "name": "python3",
      "display_name": "Python 3"
    }
  },
  "cells": [
    {
      "cell_type": "code",
      "metadata": {
        "id": "K1Xvmgpz7chf",
        "colab_type": "code",
        "colab": {
          "base_uri": "https://localhost:8080/",
          "height": 201
        },
        "outputId": "1099457d-bd06-4eba-9a33-d666c211da33"
      },
      "source": [
        "!wget https://machinehack-be.s3.amazonaws.com/forest_cover_classification_weekend_hackathon_12/Forest_Cover_participants_Data.zip"
      ],
      "execution_count": null,
      "outputs": [
        {
          "output_type": "stream",
          "text": [
            "--2020-07-19 20:38:20--  https://machinehack-be.s3.amazonaws.com/forest_cover_classification_weekend_hackathon_12/Forest_Cover_participants_Data.zip\n",
            "Resolving machinehack-be.s3.amazonaws.com (machinehack-be.s3.amazonaws.com)... 52.219.66.32\n",
            "Connecting to machinehack-be.s3.amazonaws.com (machinehack-be.s3.amazonaws.com)|52.219.66.32|:443... connected.\n",
            "HTTP request sent, awaiting response... 200 OK\n",
            "Length: 13633428 (13M) [application/zip]\n",
            "Saving to: ‘Forest_Cover_participants_Data.zip’\n",
            "\n",
            "Forest_Cover_partic 100%[===================>]  13.00M  5.06MB/s    in 2.6s    \n",
            "\n",
            "2020-07-19 20:38:24 (5.06 MB/s) - ‘Forest_Cover_participants_Data.zip’ saved [13633428/13633428]\n",
            "\n"
          ],
          "name": "stdout"
        }
      ]
    },
    {
      "cell_type": "code",
      "metadata": {
        "id": "DIFH010z74kc",
        "colab_type": "code",
        "colab": {
          "base_uri": "https://localhost:8080/",
          "height": 201
        },
        "outputId": "ba200553-eef1-4014-fa94-0fff4769716e"
      },
      "source": [
        "!unzip Forest_Cover_participants_Data.zip"
      ],
      "execution_count": null,
      "outputs": [
        {
          "output_type": "stream",
          "text": [
            "Archive:  Forest_Cover_participants_Data.zip\n",
            "   creating: Forest_Cover_participants_Data/\n",
            "  inflating: __MACOSX/._Forest_Cover_participants_Data  \n",
            "  inflating: Forest_Cover_participants_Data/.DS_Store  \n",
            "  inflating: __MACOSX/Forest_Cover_participants_Data/._.DS_Store  \n",
            "  inflating: Forest_Cover_participants_Data/test.csv  \n",
            "  inflating: __MACOSX/Forest_Cover_participants_Data/._test.csv  \n",
            "  inflating: Forest_Cover_participants_Data/train.csv  \n",
            "  inflating: __MACOSX/Forest_Cover_participants_Data/._train.csv  \n",
            "  inflating: Forest_Cover_participants_Data/sample_submission.csv  \n",
            "  inflating: __MACOSX/Forest_Cover_participants_Data/._sample_submission.csv  \n"
          ],
          "name": "stdout"
        }
      ]
    },
    {
      "cell_type": "code",
      "metadata": {
        "id": "DGnTnrkPM5vx",
        "colab_type": "code",
        "colab": {}
      },
      "source": [
        "import pandas as pd\n",
        "import numpy as np\n",
        "import matplotlib.pyplot as plt\n",
        "%matplotlib inline"
      ],
      "execution_count": null,
      "outputs": []
    },
    {
      "cell_type": "code",
      "metadata": {
        "id": "qZC3EyAOM6f3",
        "colab_type": "code",
        "colab": {}
      },
      "source": [
        "train = pd.read_csv('Forest_Cover_participants_Data/train.csv')\n",
        "test = pd.read_csv('Forest_Cover_participants_Data/test.csv')\n",
        "sub = pd.read_csv('Forest_Cover_participants_Data/sample_submission.csv')"
      ],
      "execution_count": null,
      "outputs": []
    },
    {
      "cell_type": "code",
      "metadata": {
        "id": "-XzdyhBt19DN",
        "colab_type": "code",
        "colab": {
          "base_uri": "https://localhost:8080/",
          "height": 210
        },
        "outputId": "7c108fd1-6a9c-41bb-c5ab-e56c41fde6f8"
      },
      "source": [
        "train.tail(5)"
      ],
      "execution_count": null,
      "outputs": [
        {
          "output_type": "execute_result",
          "data": {
            "text/html": [
              "<div>\n",
              "<style scoped>\n",
              "    .dataframe tbody tr th:only-of-type {\n",
              "        vertical-align: middle;\n",
              "    }\n",
              "\n",
              "    .dataframe tbody tr th {\n",
              "        vertical-align: top;\n",
              "    }\n",
              "\n",
              "    .dataframe thead th {\n",
              "        text-align: right;\n",
              "    }\n",
              "</style>\n",
              "<table border=\"1\" class=\"dataframe\">\n",
              "  <thead>\n",
              "    <tr style=\"text-align: right;\">\n",
              "      <th></th>\n",
              "      <th>Elevation(meters)</th>\n",
              "      <th>Aspect(degrees)</th>\n",
              "      <th>Slope(degrees)</th>\n",
              "      <th>Horizontal_Distance_To_Hydrology(meters)</th>\n",
              "      <th>Vertical_Distance_To_Hydrology(meters)</th>\n",
              "      <th>Horizontal_Distance_To_Roadways(meters)</th>\n",
              "      <th>Hillshade_9am</th>\n",
              "      <th>Hillshade_Noon</th>\n",
              "      <th>Hillshade_3pm</th>\n",
              "      <th>Horizontal_Distance_To_Fire_Points(meters)</th>\n",
              "      <th>Wilderness_Area_1</th>\n",
              "      <th>Wilderness_Area_2</th>\n",
              "      <th>Wilderness_Area_3</th>\n",
              "      <th>Wilderness_Area_4</th>\n",
              "      <th>Soil_Type_1</th>\n",
              "      <th>Soil_Type_2</th>\n",
              "      <th>Soil_Type_3</th>\n",
              "      <th>Soil_Type_4</th>\n",
              "      <th>Soil_Type_5</th>\n",
              "      <th>Soil_Type_6</th>\n",
              "      <th>Soil_Type_7</th>\n",
              "      <th>Soil_Type_8</th>\n",
              "      <th>Soil_Type_9</th>\n",
              "      <th>Soil_Type_10</th>\n",
              "      <th>Soil_Type_11</th>\n",
              "      <th>Soil_Type_12</th>\n",
              "      <th>Soil_Type_13</th>\n",
              "      <th>Soil_Type_14</th>\n",
              "      <th>Soil_Type_15</th>\n",
              "      <th>Soil_Type_16</th>\n",
              "      <th>Soil_Type_17</th>\n",
              "      <th>Soil_Type_18</th>\n",
              "      <th>Soil_Type_19</th>\n",
              "      <th>Soil_Type_20</th>\n",
              "      <th>Soil_Type_21</th>\n",
              "      <th>Soil_Type_22</th>\n",
              "      <th>Soil_Type_23</th>\n",
              "      <th>Soil_Type_24</th>\n",
              "      <th>Soil_Type_25</th>\n",
              "      <th>Soil_Type_26</th>\n",
              "      <th>Soil_Type_27</th>\n",
              "      <th>Soil_Type_28</th>\n",
              "      <th>Soil_Type_29</th>\n",
              "      <th>Soil_Type_30</th>\n",
              "      <th>Soil_Type_31</th>\n",
              "      <th>Soil_Type_32</th>\n",
              "      <th>Soil_Type_33</th>\n",
              "      <th>Soil_Type_34</th>\n",
              "      <th>Soil_Type_35</th>\n",
              "      <th>Soil_Type_36</th>\n",
              "      <th>Soil_Type_37</th>\n",
              "      <th>Soil_Type_38</th>\n",
              "      <th>Soil_Type_39</th>\n",
              "      <th>Soil_Type_40</th>\n",
              "      <th>Cover_Type</th>\n",
              "    </tr>\n",
              "  </thead>\n",
              "  <tbody>\n",
              "    <tr>\n",
              "      <th>29045</th>\n",
              "      <td>2701</td>\n",
              "      <td>149</td>\n",
              "      <td>1</td>\n",
              "      <td>0</td>\n",
              "      <td>0</td>\n",
              "      <td>2207</td>\n",
              "      <td>221</td>\n",
              "      <td>238</td>\n",
              "      <td>154</td>\n",
              "      <td>607</td>\n",
              "      <td>0</td>\n",
              "      <td>0</td>\n",
              "      <td>1</td>\n",
              "      <td>0</td>\n",
              "      <td>0</td>\n",
              "      <td>0</td>\n",
              "      <td>0</td>\n",
              "      <td>0</td>\n",
              "      <td>0</td>\n",
              "      <td>0</td>\n",
              "      <td>0</td>\n",
              "      <td>0</td>\n",
              "      <td>0</td>\n",
              "      <td>0</td>\n",
              "      <td>0</td>\n",
              "      <td>0</td>\n",
              "      <td>1</td>\n",
              "      <td>0</td>\n",
              "      <td>0</td>\n",
              "      <td>0</td>\n",
              "      <td>0</td>\n",
              "      <td>0</td>\n",
              "      <td>0</td>\n",
              "      <td>0</td>\n",
              "      <td>0</td>\n",
              "      <td>0</td>\n",
              "      <td>0</td>\n",
              "      <td>0</td>\n",
              "      <td>0</td>\n",
              "      <td>0</td>\n",
              "      <td>0</td>\n",
              "      <td>0</td>\n",
              "      <td>0</td>\n",
              "      <td>0</td>\n",
              "      <td>0</td>\n",
              "      <td>0</td>\n",
              "      <td>0</td>\n",
              "      <td>0</td>\n",
              "      <td>0</td>\n",
              "      <td>0</td>\n",
              "      <td>0</td>\n",
              "      <td>0</td>\n",
              "      <td>0</td>\n",
              "      <td>0</td>\n",
              "      <td>5</td>\n",
              "    </tr>\n",
              "    <tr>\n",
              "      <th>29046</th>\n",
              "      <td>2929</td>\n",
              "      <td>129</td>\n",
              "      <td>10</td>\n",
              "      <td>150</td>\n",
              "      <td>36</td>\n",
              "      <td>351</td>\n",
              "      <td>237</td>\n",
              "      <td>234</td>\n",
              "      <td>127</td>\n",
              "      <td>297</td>\n",
              "      <td>0</td>\n",
              "      <td>0</td>\n",
              "      <td>1</td>\n",
              "      <td>0</td>\n",
              "      <td>0</td>\n",
              "      <td>0</td>\n",
              "      <td>0</td>\n",
              "      <td>0</td>\n",
              "      <td>0</td>\n",
              "      <td>0</td>\n",
              "      <td>0</td>\n",
              "      <td>0</td>\n",
              "      <td>0</td>\n",
              "      <td>0</td>\n",
              "      <td>0</td>\n",
              "      <td>0</td>\n",
              "      <td>0</td>\n",
              "      <td>0</td>\n",
              "      <td>0</td>\n",
              "      <td>0</td>\n",
              "      <td>0</td>\n",
              "      <td>0</td>\n",
              "      <td>0</td>\n",
              "      <td>0</td>\n",
              "      <td>0</td>\n",
              "      <td>0</td>\n",
              "      <td>0</td>\n",
              "      <td>0</td>\n",
              "      <td>0</td>\n",
              "      <td>0</td>\n",
              "      <td>0</td>\n",
              "      <td>0</td>\n",
              "      <td>0</td>\n",
              "      <td>0</td>\n",
              "      <td>0</td>\n",
              "      <td>1</td>\n",
              "      <td>0</td>\n",
              "      <td>0</td>\n",
              "      <td>0</td>\n",
              "      <td>0</td>\n",
              "      <td>0</td>\n",
              "      <td>0</td>\n",
              "      <td>0</td>\n",
              "      <td>0</td>\n",
              "      <td>5</td>\n",
              "    </tr>\n",
              "    <tr>\n",
              "      <th>29047</th>\n",
              "      <td>3034</td>\n",
              "      <td>294</td>\n",
              "      <td>17</td>\n",
              "      <td>212</td>\n",
              "      <td>46</td>\n",
              "      <td>2671</td>\n",
              "      <td>172</td>\n",
              "      <td>234</td>\n",
              "      <td>202</td>\n",
              "      <td>1717</td>\n",
              "      <td>0</td>\n",
              "      <td>0</td>\n",
              "      <td>1</td>\n",
              "      <td>0</td>\n",
              "      <td>0</td>\n",
              "      <td>0</td>\n",
              "      <td>0</td>\n",
              "      <td>0</td>\n",
              "      <td>0</td>\n",
              "      <td>0</td>\n",
              "      <td>0</td>\n",
              "      <td>0</td>\n",
              "      <td>0</td>\n",
              "      <td>0</td>\n",
              "      <td>0</td>\n",
              "      <td>0</td>\n",
              "      <td>0</td>\n",
              "      <td>0</td>\n",
              "      <td>0</td>\n",
              "      <td>0</td>\n",
              "      <td>0</td>\n",
              "      <td>0</td>\n",
              "      <td>0</td>\n",
              "      <td>0</td>\n",
              "      <td>0</td>\n",
              "      <td>0</td>\n",
              "      <td>0</td>\n",
              "      <td>0</td>\n",
              "      <td>0</td>\n",
              "      <td>0</td>\n",
              "      <td>0</td>\n",
              "      <td>0</td>\n",
              "      <td>0</td>\n",
              "      <td>0</td>\n",
              "      <td>0</td>\n",
              "      <td>1</td>\n",
              "      <td>0</td>\n",
              "      <td>0</td>\n",
              "      <td>0</td>\n",
              "      <td>0</td>\n",
              "      <td>0</td>\n",
              "      <td>0</td>\n",
              "      <td>0</td>\n",
              "      <td>0</td>\n",
              "      <td>7</td>\n",
              "    </tr>\n",
              "    <tr>\n",
              "      <th>29048</th>\n",
              "      <td>2730</td>\n",
              "      <td>122</td>\n",
              "      <td>9</td>\n",
              "      <td>360</td>\n",
              "      <td>106</td>\n",
              "      <td>1560</td>\n",
              "      <td>236</td>\n",
              "      <td>233</td>\n",
              "      <td>128</td>\n",
              "      <td>514</td>\n",
              "      <td>1</td>\n",
              "      <td>0</td>\n",
              "      <td>0</td>\n",
              "      <td>0</td>\n",
              "      <td>0</td>\n",
              "      <td>0</td>\n",
              "      <td>0</td>\n",
              "      <td>0</td>\n",
              "      <td>0</td>\n",
              "      <td>0</td>\n",
              "      <td>0</td>\n",
              "      <td>0</td>\n",
              "      <td>0</td>\n",
              "      <td>0</td>\n",
              "      <td>0</td>\n",
              "      <td>0</td>\n",
              "      <td>0</td>\n",
              "      <td>0</td>\n",
              "      <td>0</td>\n",
              "      <td>0</td>\n",
              "      <td>0</td>\n",
              "      <td>0</td>\n",
              "      <td>0</td>\n",
              "      <td>0</td>\n",
              "      <td>0</td>\n",
              "      <td>0</td>\n",
              "      <td>1</td>\n",
              "      <td>0</td>\n",
              "      <td>0</td>\n",
              "      <td>0</td>\n",
              "      <td>0</td>\n",
              "      <td>0</td>\n",
              "      <td>0</td>\n",
              "      <td>0</td>\n",
              "      <td>0</td>\n",
              "      <td>0</td>\n",
              "      <td>0</td>\n",
              "      <td>0</td>\n",
              "      <td>0</td>\n",
              "      <td>0</td>\n",
              "      <td>0</td>\n",
              "      <td>0</td>\n",
              "      <td>0</td>\n",
              "      <td>0</td>\n",
              "      <td>5</td>\n",
              "    </tr>\n",
              "    <tr>\n",
              "      <th>29049</th>\n",
              "      <td>3146</td>\n",
              "      <td>247</td>\n",
              "      <td>11</td>\n",
              "      <td>339</td>\n",
              "      <td>38</td>\n",
              "      <td>994</td>\n",
              "      <td>198</td>\n",
              "      <td>248</td>\n",
              "      <td>189</td>\n",
              "      <td>1237</td>\n",
              "      <td>0</td>\n",
              "      <td>0</td>\n",
              "      <td>1</td>\n",
              "      <td>0</td>\n",
              "      <td>0</td>\n",
              "      <td>0</td>\n",
              "      <td>0</td>\n",
              "      <td>0</td>\n",
              "      <td>0</td>\n",
              "      <td>0</td>\n",
              "      <td>0</td>\n",
              "      <td>0</td>\n",
              "      <td>0</td>\n",
              "      <td>0</td>\n",
              "      <td>0</td>\n",
              "      <td>0</td>\n",
              "      <td>0</td>\n",
              "      <td>0</td>\n",
              "      <td>0</td>\n",
              "      <td>0</td>\n",
              "      <td>0</td>\n",
              "      <td>0</td>\n",
              "      <td>0</td>\n",
              "      <td>0</td>\n",
              "      <td>0</td>\n",
              "      <td>0</td>\n",
              "      <td>1</td>\n",
              "      <td>0</td>\n",
              "      <td>0</td>\n",
              "      <td>0</td>\n",
              "      <td>0</td>\n",
              "      <td>0</td>\n",
              "      <td>0</td>\n",
              "      <td>0</td>\n",
              "      <td>0</td>\n",
              "      <td>0</td>\n",
              "      <td>0</td>\n",
              "      <td>0</td>\n",
              "      <td>0</td>\n",
              "      <td>0</td>\n",
              "      <td>0</td>\n",
              "      <td>0</td>\n",
              "      <td>0</td>\n",
              "      <td>0</td>\n",
              "      <td>5</td>\n",
              "    </tr>\n",
              "  </tbody>\n",
              "</table>\n",
              "</div>"
            ],
            "text/plain": [
              "       Elevation(meters)  Aspect(degrees)  ...  Soil_Type_40  Cover_Type\n",
              "29045               2701              149  ...             0           5\n",
              "29046               2929              129  ...             0           5\n",
              "29047               3034              294  ...             0           7\n",
              "29048               2730              122  ...             0           5\n",
              "29049               3146              247  ...             0           5\n",
              "\n",
              "[5 rows x 55 columns]"
            ]
          },
          "metadata": {
            "tags": []
          },
          "execution_count": 3
        }
      ]
    },
    {
      "cell_type": "code",
      "metadata": {
        "id": "ISMwqie81_dQ",
        "colab_type": "code",
        "colab": {
          "base_uri": "https://localhost:8080/",
          "height": 210
        },
        "outputId": "b923dd8d-6740-42c1-a5f5-143251f6f504"
      },
      "source": [
        "test.head(5)"
      ],
      "execution_count": null,
      "outputs": [
        {
          "output_type": "execute_result",
          "data": {
            "text/html": [
              "<div>\n",
              "<style scoped>\n",
              "    .dataframe tbody tr th:only-of-type {\n",
              "        vertical-align: middle;\n",
              "    }\n",
              "\n",
              "    .dataframe tbody tr th {\n",
              "        vertical-align: top;\n",
              "    }\n",
              "\n",
              "    .dataframe thead th {\n",
              "        text-align: right;\n",
              "    }\n",
              "</style>\n",
              "<table border=\"1\" class=\"dataframe\">\n",
              "  <thead>\n",
              "    <tr style=\"text-align: right;\">\n",
              "      <th></th>\n",
              "      <th>Elevation(meters)</th>\n",
              "      <th>Aspect(degrees)</th>\n",
              "      <th>Slope(degrees)</th>\n",
              "      <th>Horizontal_Distance_To_Hydrology(meters)</th>\n",
              "      <th>Vertical_Distance_To_Hydrology(meters)</th>\n",
              "      <th>Horizontal_Distance_To_Roadways(meters)</th>\n",
              "      <th>Hillshade_9am</th>\n",
              "      <th>Hillshade_Noon</th>\n",
              "      <th>Hillshade_3pm</th>\n",
              "      <th>Horizontal_Distance_To_Fire_Points(meters)</th>\n",
              "      <th>Wilderness_Area_1</th>\n",
              "      <th>Wilderness_Area_2</th>\n",
              "      <th>Wilderness_Area_3</th>\n",
              "      <th>Wilderness_Area_4</th>\n",
              "      <th>Soil_Type_1</th>\n",
              "      <th>Soil_Type_2</th>\n",
              "      <th>Soil_Type_3</th>\n",
              "      <th>Soil_Type_4</th>\n",
              "      <th>Soil_Type_5</th>\n",
              "      <th>Soil_Type_6</th>\n",
              "      <th>Soil_Type_7</th>\n",
              "      <th>Soil_Type_8</th>\n",
              "      <th>Soil_Type_9</th>\n",
              "      <th>Soil_Type_10</th>\n",
              "      <th>Soil_Type_11</th>\n",
              "      <th>Soil_Type_12</th>\n",
              "      <th>Soil_Type_13</th>\n",
              "      <th>Soil_Type_14</th>\n",
              "      <th>Soil_Type_15</th>\n",
              "      <th>Soil_Type_16</th>\n",
              "      <th>Soil_Type_17</th>\n",
              "      <th>Soil_Type_18</th>\n",
              "      <th>Soil_Type_19</th>\n",
              "      <th>Soil_Type_20</th>\n",
              "      <th>Soil_Type_21</th>\n",
              "      <th>Soil_Type_22</th>\n",
              "      <th>Soil_Type_23</th>\n",
              "      <th>Soil_Type_24</th>\n",
              "      <th>Soil_Type_25</th>\n",
              "      <th>Soil_Type_26</th>\n",
              "      <th>Soil_Type_27</th>\n",
              "      <th>Soil_Type_28</th>\n",
              "      <th>Soil_Type_29</th>\n",
              "      <th>Soil_Type_30</th>\n",
              "      <th>Soil_Type_31</th>\n",
              "      <th>Soil_Type_32</th>\n",
              "      <th>Soil_Type_33</th>\n",
              "      <th>Soil_Type_34</th>\n",
              "      <th>Soil_Type_35</th>\n",
              "      <th>Soil_Type_36</th>\n",
              "      <th>Soil_Type_37</th>\n",
              "      <th>Soil_Type_38</th>\n",
              "      <th>Soil_Type_39</th>\n",
              "      <th>Soil_Type_40</th>\n",
              "    </tr>\n",
              "  </thead>\n",
              "  <tbody>\n",
              "    <tr>\n",
              "      <th>0</th>\n",
              "      <td>2798</td>\n",
              "      <td>151</td>\n",
              "      <td>12</td>\n",
              "      <td>60</td>\n",
              "      <td>-5</td>\n",
              "      <td>3373</td>\n",
              "      <td>236</td>\n",
              "      <td>240</td>\n",
              "      <td>132</td>\n",
              "      <td>6083</td>\n",
              "      <td>1</td>\n",
              "      <td>0</td>\n",
              "      <td>0</td>\n",
              "      <td>0</td>\n",
              "      <td>0</td>\n",
              "      <td>0</td>\n",
              "      <td>0</td>\n",
              "      <td>0</td>\n",
              "      <td>0</td>\n",
              "      <td>0</td>\n",
              "      <td>0</td>\n",
              "      <td>0</td>\n",
              "      <td>0</td>\n",
              "      <td>0</td>\n",
              "      <td>0</td>\n",
              "      <td>1</td>\n",
              "      <td>0</td>\n",
              "      <td>0</td>\n",
              "      <td>0</td>\n",
              "      <td>0</td>\n",
              "      <td>0</td>\n",
              "      <td>0</td>\n",
              "      <td>0</td>\n",
              "      <td>0</td>\n",
              "      <td>0</td>\n",
              "      <td>0</td>\n",
              "      <td>0</td>\n",
              "      <td>0</td>\n",
              "      <td>0</td>\n",
              "      <td>0</td>\n",
              "      <td>0</td>\n",
              "      <td>0</td>\n",
              "      <td>0</td>\n",
              "      <td>0</td>\n",
              "      <td>0</td>\n",
              "      <td>0</td>\n",
              "      <td>0</td>\n",
              "      <td>0</td>\n",
              "      <td>0</td>\n",
              "      <td>0</td>\n",
              "      <td>0</td>\n",
              "      <td>0</td>\n",
              "      <td>0</td>\n",
              "      <td>0</td>\n",
              "    </tr>\n",
              "    <tr>\n",
              "      <th>1</th>\n",
              "      <td>3582</td>\n",
              "      <td>96</td>\n",
              "      <td>34</td>\n",
              "      <td>420</td>\n",
              "      <td>80</td>\n",
              "      <td>2579</td>\n",
              "      <td>250</td>\n",
              "      <td>170</td>\n",
              "      <td>19</td>\n",
              "      <td>3771</td>\n",
              "      <td>1</td>\n",
              "      <td>0</td>\n",
              "      <td>0</td>\n",
              "      <td>0</td>\n",
              "      <td>0</td>\n",
              "      <td>0</td>\n",
              "      <td>0</td>\n",
              "      <td>0</td>\n",
              "      <td>0</td>\n",
              "      <td>0</td>\n",
              "      <td>0</td>\n",
              "      <td>0</td>\n",
              "      <td>0</td>\n",
              "      <td>0</td>\n",
              "      <td>0</td>\n",
              "      <td>0</td>\n",
              "      <td>0</td>\n",
              "      <td>0</td>\n",
              "      <td>0</td>\n",
              "      <td>0</td>\n",
              "      <td>0</td>\n",
              "      <td>0</td>\n",
              "      <td>0</td>\n",
              "      <td>0</td>\n",
              "      <td>0</td>\n",
              "      <td>0</td>\n",
              "      <td>0</td>\n",
              "      <td>0</td>\n",
              "      <td>0</td>\n",
              "      <td>0</td>\n",
              "      <td>0</td>\n",
              "      <td>0</td>\n",
              "      <td>0</td>\n",
              "      <td>0</td>\n",
              "      <td>0</td>\n",
              "      <td>0</td>\n",
              "      <td>0</td>\n",
              "      <td>0</td>\n",
              "      <td>0</td>\n",
              "      <td>0</td>\n",
              "      <td>0</td>\n",
              "      <td>0</td>\n",
              "      <td>0</td>\n",
              "      <td>1</td>\n",
              "    </tr>\n",
              "    <tr>\n",
              "      <th>2</th>\n",
              "      <td>2619</td>\n",
              "      <td>171</td>\n",
              "      <td>12</td>\n",
              "      <td>270</td>\n",
              "      <td>-52</td>\n",
              "      <td>2764</td>\n",
              "      <td>228</td>\n",
              "      <td>245</td>\n",
              "      <td>147</td>\n",
              "      <td>2008</td>\n",
              "      <td>0</td>\n",
              "      <td>0</td>\n",
              "      <td>1</td>\n",
              "      <td>0</td>\n",
              "      <td>0</td>\n",
              "      <td>0</td>\n",
              "      <td>0</td>\n",
              "      <td>0</td>\n",
              "      <td>0</td>\n",
              "      <td>0</td>\n",
              "      <td>0</td>\n",
              "      <td>0</td>\n",
              "      <td>0</td>\n",
              "      <td>0</td>\n",
              "      <td>1</td>\n",
              "      <td>0</td>\n",
              "      <td>0</td>\n",
              "      <td>0</td>\n",
              "      <td>0</td>\n",
              "      <td>0</td>\n",
              "      <td>0</td>\n",
              "      <td>0</td>\n",
              "      <td>0</td>\n",
              "      <td>0</td>\n",
              "      <td>0</td>\n",
              "      <td>0</td>\n",
              "      <td>0</td>\n",
              "      <td>0</td>\n",
              "      <td>0</td>\n",
              "      <td>0</td>\n",
              "      <td>0</td>\n",
              "      <td>0</td>\n",
              "      <td>0</td>\n",
              "      <td>0</td>\n",
              "      <td>0</td>\n",
              "      <td>0</td>\n",
              "      <td>0</td>\n",
              "      <td>0</td>\n",
              "      <td>0</td>\n",
              "      <td>0</td>\n",
              "      <td>0</td>\n",
              "      <td>0</td>\n",
              "      <td>0</td>\n",
              "      <td>0</td>\n",
              "    </tr>\n",
              "    <tr>\n",
              "      <th>3</th>\n",
              "      <td>2897</td>\n",
              "      <td>155</td>\n",
              "      <td>5</td>\n",
              "      <td>210</td>\n",
              "      <td>14</td>\n",
              "      <td>2437</td>\n",
              "      <td>226</td>\n",
              "      <td>240</td>\n",
              "      <td>149</td>\n",
              "      <td>2455</td>\n",
              "      <td>0</td>\n",
              "      <td>0</td>\n",
              "      <td>1</td>\n",
              "      <td>0</td>\n",
              "      <td>0</td>\n",
              "      <td>0</td>\n",
              "      <td>0</td>\n",
              "      <td>0</td>\n",
              "      <td>0</td>\n",
              "      <td>0</td>\n",
              "      <td>0</td>\n",
              "      <td>0</td>\n",
              "      <td>0</td>\n",
              "      <td>0</td>\n",
              "      <td>0</td>\n",
              "      <td>0</td>\n",
              "      <td>0</td>\n",
              "      <td>0</td>\n",
              "      <td>0</td>\n",
              "      <td>0</td>\n",
              "      <td>0</td>\n",
              "      <td>0</td>\n",
              "      <td>0</td>\n",
              "      <td>0</td>\n",
              "      <td>0</td>\n",
              "      <td>0</td>\n",
              "      <td>0</td>\n",
              "      <td>0</td>\n",
              "      <td>0</td>\n",
              "      <td>1</td>\n",
              "      <td>0</td>\n",
              "      <td>0</td>\n",
              "      <td>0</td>\n",
              "      <td>0</td>\n",
              "      <td>0</td>\n",
              "      <td>0</td>\n",
              "      <td>0</td>\n",
              "      <td>0</td>\n",
              "      <td>0</td>\n",
              "      <td>0</td>\n",
              "      <td>0</td>\n",
              "      <td>0</td>\n",
              "      <td>0</td>\n",
              "      <td>0</td>\n",
              "    </tr>\n",
              "    <tr>\n",
              "      <th>4</th>\n",
              "      <td>2845</td>\n",
              "      <td>32</td>\n",
              "      <td>12</td>\n",
              "      <td>309</td>\n",
              "      <td>47</td>\n",
              "      <td>2778</td>\n",
              "      <td>217</td>\n",
              "      <td>213</td>\n",
              "      <td>129</td>\n",
              "      <td>42</td>\n",
              "      <td>0</td>\n",
              "      <td>0</td>\n",
              "      <td>1</td>\n",
              "      <td>0</td>\n",
              "      <td>0</td>\n",
              "      <td>0</td>\n",
              "      <td>0</td>\n",
              "      <td>0</td>\n",
              "      <td>0</td>\n",
              "      <td>0</td>\n",
              "      <td>0</td>\n",
              "      <td>0</td>\n",
              "      <td>0</td>\n",
              "      <td>1</td>\n",
              "      <td>0</td>\n",
              "      <td>0</td>\n",
              "      <td>0</td>\n",
              "      <td>0</td>\n",
              "      <td>0</td>\n",
              "      <td>0</td>\n",
              "      <td>0</td>\n",
              "      <td>0</td>\n",
              "      <td>0</td>\n",
              "      <td>0</td>\n",
              "      <td>0</td>\n",
              "      <td>0</td>\n",
              "      <td>0</td>\n",
              "      <td>0</td>\n",
              "      <td>0</td>\n",
              "      <td>0</td>\n",
              "      <td>0</td>\n",
              "      <td>0</td>\n",
              "      <td>0</td>\n",
              "      <td>0</td>\n",
              "      <td>0</td>\n",
              "      <td>0</td>\n",
              "      <td>0</td>\n",
              "      <td>0</td>\n",
              "      <td>0</td>\n",
              "      <td>0</td>\n",
              "      <td>0</td>\n",
              "      <td>0</td>\n",
              "      <td>0</td>\n",
              "      <td>0</td>\n",
              "    </tr>\n",
              "  </tbody>\n",
              "</table>\n",
              "</div>"
            ],
            "text/plain": [
              "   Elevation(meters)  Aspect(degrees)  ...  Soil_Type_39  Soil_Type_40\n",
              "0               2798              151  ...             0             0\n",
              "1               3582               96  ...             0             1\n",
              "2               2619              171  ...             0             0\n",
              "3               2897              155  ...             0             0\n",
              "4               2845               32  ...             0             0\n",
              "\n",
              "[5 rows x 54 columns]"
            ]
          },
          "metadata": {
            "tags": []
          },
          "execution_count": 4
        }
      ]
    },
    {
      "cell_type": "code",
      "metadata": {
        "id": "K-DIS20_8WRc",
        "colab_type": "code",
        "colab": {
          "base_uri": "https://localhost:8080/",
          "height": 1000
        },
        "outputId": "a82d1430-0f66-49a5-a084-0f20efcb403d"
      },
      "source": [
        "train.isnull().sum(),test.isnull().sum(),train.shape,test.shape,train.dtypes"
      ],
      "execution_count": null,
      "outputs": [
        {
          "output_type": "execute_result",
          "data": {
            "text/plain": [
              "(Elevation(meters)                             0\n",
              " Aspect(degrees)                               0\n",
              " Slope(degrees)                                0\n",
              " Horizontal_Distance_To_Hydrology(meters)      0\n",
              " Vertical_Distance_To_Hydrology(meters)        0\n",
              " Horizontal_Distance_To_Roadways(meters)       0\n",
              " Hillshade_9am                                 0\n",
              " Hillshade_Noon                                0\n",
              " Hillshade_3pm                                 0\n",
              " Horizontal_Distance_To_Fire_Points(meters)    0\n",
              " Wilderness_Area_1                             0\n",
              " Wilderness_Area_2                             0\n",
              " Wilderness_Area_3                             0\n",
              " Wilderness_Area_4                             0\n",
              " Soil_Type_1                                   0\n",
              " Soil_Type_2                                   0\n",
              " Soil_Type_3                                   0\n",
              " Soil_Type_4                                   0\n",
              " Soil_Type_5                                   0\n",
              " Soil_Type_6                                   0\n",
              " Soil_Type_7                                   0\n",
              " Soil_Type_8                                   0\n",
              " Soil_Type_9                                   0\n",
              " Soil_Type_10                                  0\n",
              " Soil_Type_11                                  0\n",
              " Soil_Type_12                                  0\n",
              " Soil_Type_13                                  0\n",
              " Soil_Type_14                                  0\n",
              " Soil_Type_15                                  0\n",
              " Soil_Type_16                                  0\n",
              " Soil_Type_17                                  0\n",
              " Soil_Type_18                                  0\n",
              " Soil_Type_19                                  0\n",
              " Soil_Type_20                                  0\n",
              " Soil_Type_21                                  0\n",
              " Soil_Type_22                                  0\n",
              " Soil_Type_23                                  0\n",
              " Soil_Type_24                                  0\n",
              " Soil_Type_25                                  0\n",
              " Soil_Type_26                                  0\n",
              " Soil_Type_27                                  0\n",
              " Soil_Type_28                                  0\n",
              " Soil_Type_29                                  0\n",
              " Soil_Type_30                                  0\n",
              " Soil_Type_31                                  0\n",
              " Soil_Type_32                                  0\n",
              " Soil_Type_33                                  0\n",
              " Soil_Type_34                                  0\n",
              " Soil_Type_35                                  0\n",
              " Soil_Type_36                                  0\n",
              " Soil_Type_37                                  0\n",
              " Soil_Type_38                                  0\n",
              " Soil_Type_39                                  0\n",
              " Soil_Type_40                                  0\n",
              " Cover_Type                                    0\n",
              " dtype: int64, Elevation(meters)                             0\n",
              " Aspect(degrees)                               0\n",
              " Slope(degrees)                                0\n",
              " Horizontal_Distance_To_Hydrology(meters)      0\n",
              " Vertical_Distance_To_Hydrology(meters)        0\n",
              " Horizontal_Distance_To_Roadways(meters)       0\n",
              " Hillshade_9am                                 0\n",
              " Hillshade_Noon                                0\n",
              " Hillshade_3pm                                 0\n",
              " Horizontal_Distance_To_Fire_Points(meters)    0\n",
              " Wilderness_Area_1                             0\n",
              " Wilderness_Area_2                             0\n",
              " Wilderness_Area_3                             0\n",
              " Wilderness_Area_4                             0\n",
              " Soil_Type_1                                   0\n",
              " Soil_Type_2                                   0\n",
              " Soil_Type_3                                   0\n",
              " Soil_Type_4                                   0\n",
              " Soil_Type_5                                   0\n",
              " Soil_Type_6                                   0\n",
              " Soil_Type_7                                   0\n",
              " Soil_Type_8                                   0\n",
              " Soil_Type_9                                   0\n",
              " Soil_Type_10                                  0\n",
              " Soil_Type_11                                  0\n",
              " Soil_Type_12                                  0\n",
              " Soil_Type_13                                  0\n",
              " Soil_Type_14                                  0\n",
              " Soil_Type_15                                  0\n",
              " Soil_Type_16                                  0\n",
              " Soil_Type_17                                  0\n",
              " Soil_Type_18                                  0\n",
              " Soil_Type_19                                  0\n",
              " Soil_Type_20                                  0\n",
              " Soil_Type_21                                  0\n",
              " Soil_Type_22                                  0\n",
              " Soil_Type_23                                  0\n",
              " Soil_Type_24                                  0\n",
              " Soil_Type_25                                  0\n",
              " Soil_Type_26                                  0\n",
              " Soil_Type_27                                  0\n",
              " Soil_Type_28                                  0\n",
              " Soil_Type_29                                  0\n",
              " Soil_Type_30                                  0\n",
              " Soil_Type_31                                  0\n",
              " Soil_Type_32                                  0\n",
              " Soil_Type_33                                  0\n",
              " Soil_Type_34                                  0\n",
              " Soil_Type_35                                  0\n",
              " Soil_Type_36                                  0\n",
              " Soil_Type_37                                  0\n",
              " Soil_Type_38                                  0\n",
              " Soil_Type_39                                  0\n",
              " Soil_Type_40                                  0\n",
              " dtype: int64, (29050, 55), (551962,\n",
              "  54), Elevation(meters)                             int64\n",
              " Aspect(degrees)                               int64\n",
              " Slope(degrees)                                int64\n",
              " Horizontal_Distance_To_Hydrology(meters)      int64\n",
              " Vertical_Distance_To_Hydrology(meters)        int64\n",
              " Horizontal_Distance_To_Roadways(meters)       int64\n",
              " Hillshade_9am                                 int64\n",
              " Hillshade_Noon                                int64\n",
              " Hillshade_3pm                                 int64\n",
              " Horizontal_Distance_To_Fire_Points(meters)    int64\n",
              " Wilderness_Area_1                             int64\n",
              " Wilderness_Area_2                             int64\n",
              " Wilderness_Area_3                             int64\n",
              " Wilderness_Area_4                             int64\n",
              " Soil_Type_1                                   int64\n",
              " Soil_Type_2                                   int64\n",
              " Soil_Type_3                                   int64\n",
              " Soil_Type_4                                   int64\n",
              " Soil_Type_5                                   int64\n",
              " Soil_Type_6                                   int64\n",
              " Soil_Type_7                                   int64\n",
              " Soil_Type_8                                   int64\n",
              " Soil_Type_9                                   int64\n",
              " Soil_Type_10                                  int64\n",
              " Soil_Type_11                                  int64\n",
              " Soil_Type_12                                  int64\n",
              " Soil_Type_13                                  int64\n",
              " Soil_Type_14                                  int64\n",
              " Soil_Type_15                                  int64\n",
              " Soil_Type_16                                  int64\n",
              " Soil_Type_17                                  int64\n",
              " Soil_Type_18                                  int64\n",
              " Soil_Type_19                                  int64\n",
              " Soil_Type_20                                  int64\n",
              " Soil_Type_21                                  int64\n",
              " Soil_Type_22                                  int64\n",
              " Soil_Type_23                                  int64\n",
              " Soil_Type_24                                  int64\n",
              " Soil_Type_25                                  int64\n",
              " Soil_Type_26                                  int64\n",
              " Soil_Type_27                                  int64\n",
              " Soil_Type_28                                  int64\n",
              " Soil_Type_29                                  int64\n",
              " Soil_Type_30                                  int64\n",
              " Soil_Type_31                                  int64\n",
              " Soil_Type_32                                  int64\n",
              " Soil_Type_33                                  int64\n",
              " Soil_Type_34                                  int64\n",
              " Soil_Type_35                                  int64\n",
              " Soil_Type_36                                  int64\n",
              " Soil_Type_37                                  int64\n",
              " Soil_Type_38                                  int64\n",
              " Soil_Type_39                                  int64\n",
              " Soil_Type_40                                  int64\n",
              " Cover_Type                                    int64\n",
              " dtype: object)"
            ]
          },
          "metadata": {
            "tags": []
          },
          "execution_count": 5
        }
      ]
    },
    {
      "cell_type": "code",
      "metadata": {
        "id": "e0ynB_UV9lqU",
        "colab_type": "code",
        "colab": {}
      },
      "source": [
        "import warnings\n",
        "\n",
        "warnings.simplefilter(action='ignore', category=FutureWarning)"
      ],
      "execution_count": null,
      "outputs": []
    },
    {
      "cell_type": "code",
      "metadata": {
        "id": "TALITFXI-xld",
        "colab_type": "code",
        "colab": {
          "base_uri": "https://localhost:8080/",
          "height": 296
        },
        "outputId": "ca4fb20a-5b7c-43ba-9644-7ff4709eeb61"
      },
      "source": [
        "train['Cover_Type']=train['Cover_Type']-1\n",
        "import seaborn as sns\n",
        "sns.countplot(train['Cover_Type'])\n"
      ],
      "execution_count": null,
      "outputs": [
        {
          "output_type": "execute_result",
          "data": {
            "text/plain": [
              "<matplotlib.axes._subplots.AxesSubplot at 0x7f5421830160>"
            ]
          },
          "metadata": {
            "tags": []
          },
          "execution_count": 7
        },
        {
          "output_type": "display_data",
          "data": {
            "image/png": "[encoded data removed]",
            "text/plain": [
              "<Figure size 432x288 with 1 Axes>"
            ]
          },
          "metadata": {
            "tags": [],
            "needs_background": "light"
          }
        }
      ]
    },
    {
      "cell_type": "code",
      "metadata": {
        "id": "Iw1zxTgT9tNu",
        "colab_type": "code",
        "colab": {}
      },
      "source": [
        "train_df=train\n",
        "test_df=test"
      ],
      "execution_count": null,
      "outputs": []
    },
    {
      "cell_type": "code",
      "metadata": {
        "id": "Iw4PU3ya9vfq",
        "colab_type": "code",
        "colab": {}
      },
      "source": [
        "\n",
        "X = train_df.drop(labels=['Cover_Type'], axis=1)\n",
        "y = train_df['Cover_Type'].values"
      ],
      "execution_count": null,
      "outputs": []
    },
    {
      "cell_type": "code",
      "metadata": {
        "id": "Eobsol9q-OiG",
        "colab_type": "code",
        "colab": {}
      },
      "source": [
        "from sklearn.model_selection import train_test_split\n",
        "X_train, X_cv, y_train, y_cv = train_test_split(X, y, test_size=0.15, random_state=42, stratify=y)"
      ],
      "execution_count": null,
      "outputs": []
    },
    {
      "cell_type": "code",
      "metadata": {
        "id": "OgQNrL-R-RTn",
        "colab_type": "code",
        "colab": {
          "base_uri": "https://localhost:8080/",
          "height": 33
        },
        "outputId": "6914640f-7b9b-4f9b-eb50-f906f6bd4671"
      },
      "source": [
        "X_train.shape, y_train.shape, X_cv.shape, y_cv.shape"
      ],
      "execution_count": null,
      "outputs": [
        {
          "output_type": "execute_result",
          "data": {
            "text/plain": [
              "((24692, 54), (24692,), (4358, 54), (4358,))"
            ]
          },
          "metadata": {
            "tags": []
          },
          "execution_count": 11
        }
      ]
    },
    {
      "cell_type": "code",
      "metadata": {
        "id": "aYPY-pxp-Tf8",
        "colab_type": "code",
        "colab": {}
      },
      "source": [
        "from sklearn.metrics import log_loss"
      ],
      "execution_count": null,
      "outputs": []
    },
    {
      "cell_type": "code",
      "metadata": {
        "id": "cqWlXGY9-V2M",
        "colab_type": "code",
        "colab": {
          "base_uri": "https://localhost:8080/",
          "height": 438
        },
        "outputId": "b8c5e017-727d-4387-9013-ad7d6a76be97"
      },
      "source": [
        "import lightgbm as lgb\n",
        "train_data = lgb.Dataset(X_train, label=y_train)\n",
        "test_data = lgb.Dataset(X_cv, label=y_cv)\n",
        "\n",
        "param = {'objective': 'multiclass',\n",
        "         'num_class': 7,\n",
        "         'boosting': 'gbdt',  \n",
        "         'metric': 'multi_logloss',\n",
        "         'learning_rate': 0.1, \n",
        "         'num_iterations': 2000,\n",
        "         'num_leaves': 100,\n",
        "         'max_depth': -1,\n",
        "         'min_data_in_leaf': 15,\n",
        "         'bagging_fraction':0.9,\n",
        "         'bagging_freq': 1,\n",
        "         'feature_fraction': 0.7,\n",
        "         'lambda_l2': 0.8,\n",
        "         'min_data_per_group': 75,\n",
        "         'max_bin': 255,\n",
        "         'is_unbalance':True\n",
        "         }\n",
        "\n",
        "clf = lgb.train(params=param, \n",
        "                early_stopping_rounds=200,\n",
        "                verbose_eval=100,\n",
        "                train_set=train_data,\n",
        "                valid_sets=[test_data])\n",
        "\n",
        "y_pred = clf.predict(X_cv)"
      ],
      "execution_count": null,
      "outputs": [
        {
          "output_type": "stream",
          "text": [
            "/usr/local/lib/python3.6/dist-packages/lightgbm/engine.py:118: UserWarning: Found `num_iterations` in params. Will use it instead of argument\n",
            "  warnings.warn(\"Found `{}` in params. Will use it instead of argument\".format(alias))\n"
          ],
          "name": "stderr"
        },
        {
          "output_type": "stream",
          "text": [
            "Training until validation scores don't improve for 200 rounds.\n",
            "[100]\tvalid_0's multi_logloss: 0.374659\n"
          ],
          "name": "stdout"
        },
        {
          "output_type": "error",
          "ename": "KeyboardInterrupt",
          "evalue": "ignored",
          "traceback": [
            "\u001b[0;31m---------------------------------------------------------------------------\u001b[0m",
            "\u001b[0;31mKeyboardInterrupt\u001b[0m                         Traceback (most recent call last)",
            "\u001b[0;32m<ipython-input-13-afe4a4c4ab99>\u001b[0m in \u001b[0;36m<module>\u001b[0;34m()\u001b[0m\n\u001b[1;32m     25\u001b[0m                 \u001b[0mverbose_eval\u001b[0m\u001b[0;34m=\u001b[0m\u001b[0;36m100\u001b[0m\u001b[0;34m,\u001b[0m\u001b[0;34m\u001b[0m\u001b[0;34m\u001b[0m\u001b[0m\n\u001b[1;32m     26\u001b[0m                 \u001b[0mtrain_set\u001b[0m\u001b[0;34m=\u001b[0m\u001b[0mtrain_data\u001b[0m\u001b[0;34m,\u001b[0m\u001b[0;34m\u001b[0m\u001b[0;34m\u001b[0m\u001b[0m\n\u001b[0;32m---> 27\u001b[0;31m                 valid_sets=[test_data])\n\u001b[0m\u001b[1;32m     28\u001b[0m \u001b[0;34m\u001b[0m\u001b[0m\n\u001b[1;32m     29\u001b[0m \u001b[0my_pred\u001b[0m \u001b[0;34m=\u001b[0m \u001b[0mclf\u001b[0m\u001b[0;34m.\u001b[0m\u001b[0mpredict\u001b[0m\u001b[0;34m(\u001b[0m\u001b[0mX_cv\u001b[0m\u001b[0;34m)\u001b[0m\u001b[0;34m\u001b[0m\u001b[0;34m\u001b[0m\u001b[0m\n",
            "\u001b[0;32m/usr/local/lib/python3.6/dist-packages/lightgbm/engine.py\u001b[0m in \u001b[0;36mtrain\u001b[0;34m(params, train_set, num_boost_round, valid_sets, valid_names, fobj, feval, init_model, feature_name, categorical_feature, early_stopping_rounds, evals_result, verbose_eval, learning_rates, keep_training_booster, callbacks)\u001b[0m\n\u001b[1;32m    216\u001b[0m                                     evaluation_result_list=None))\n\u001b[1;32m    217\u001b[0m \u001b[0;34m\u001b[0m\u001b[0m\n\u001b[0;32m--> 218\u001b[0;31m         \u001b[0mbooster\u001b[0m\u001b[0;34m.\u001b[0m\u001b[0mupdate\u001b[0m\u001b[0;34m(\u001b[0m\u001b[0mfobj\u001b[0m\u001b[0;34m=\u001b[0m\u001b[0mfobj\u001b[0m\u001b[0;34m)\u001b[0m\u001b[0;34m\u001b[0m\u001b[0;34m\u001b[0m\u001b[0m\n\u001b[0m\u001b[1;32m    219\u001b[0m \u001b[0;34m\u001b[0m\u001b[0m\n\u001b[1;32m    220\u001b[0m         \u001b[0mevaluation_result_list\u001b[0m \u001b[0;34m=\u001b[0m \u001b[0;34m[\u001b[0m\u001b[0;34m]\u001b[0m\u001b[0;34m\u001b[0m\u001b[0;34m\u001b[0m\u001b[0m\n",
            "\u001b[0;32m/usr/local/lib/python3.6/dist-packages/lightgbm/basic.py\u001b[0m in \u001b[0;36mupdate\u001b[0;34m(self, train_set, fobj)\u001b[0m\n\u001b[1;32m   1800\u001b[0m             _safe_call(_LIB.LGBM_BoosterUpdateOneIter(\n\u001b[1;32m   1801\u001b[0m                 \u001b[0mself\u001b[0m\u001b[0;34m.\u001b[0m\u001b[0mhandle\u001b[0m\u001b[0;34m,\u001b[0m\u001b[0;34m\u001b[0m\u001b[0;34m\u001b[0m\u001b[0m\n\u001b[0;32m-> 1802\u001b[0;31m                 ctypes.byref(is_finished)))\n\u001b[0m\u001b[1;32m   1803\u001b[0m             \u001b[0mself\u001b[0m\u001b[0;34m.\u001b[0m\u001b[0m__is_predicted_cur_iter\u001b[0m \u001b[0;34m=\u001b[0m \u001b[0;34m[\u001b[0m\u001b[0;32mFalse\u001b[0m \u001b[0;32mfor\u001b[0m \u001b[0m_\u001b[0m \u001b[0;32min\u001b[0m \u001b[0mrange_\u001b[0m\u001b[0;34m(\u001b[0m\u001b[0mself\u001b[0m\u001b[0;34m.\u001b[0m\u001b[0m__num_dataset\u001b[0m\u001b[0;34m)\u001b[0m\u001b[0;34m]\u001b[0m\u001b[0;34m\u001b[0m\u001b[0;34m\u001b[0m\u001b[0m\n\u001b[1;32m   1804\u001b[0m             \u001b[0;32mreturn\u001b[0m \u001b[0mis_finished\u001b[0m\u001b[0;34m.\u001b[0m\u001b[0mvalue\u001b[0m \u001b[0;34m==\u001b[0m \u001b[0;36m1\u001b[0m\u001b[0;34m\u001b[0m\u001b[0;34m\u001b[0m\u001b[0m\n",
            "\u001b[0;31mKeyboardInterrupt\u001b[0m: "
          ]
        }
      ]
    },
    {
      "cell_type": "code",
      "metadata": {
        "id": "ZVcuB-tU-cUm",
        "colab_type": "code",
        "colab": {
          "base_uri": "https://localhost:8080/",
          "height": 33
        },
        "outputId": "8418f363-508c-454a-a008-2d4a307252bc"
      },
      "source": [
        "log_loss(y_cv, y_pred)"
      ],
      "execution_count": null,
      "outputs": [
        {
          "output_type": "execute_result",
          "data": {
            "text/plain": [
              "0.3350717475208996"
            ]
          },
          "metadata": {
            "tags": []
          },
          "execution_count": 55
        }
      ]
    },
    {
      "cell_type": "code",
      "metadata": {
        "id": "eTRUr1L4_C1S",
        "colab_type": "code",
        "colab": {
          "base_uri": "https://localhost:8080/",
          "height": 1000
        },
        "outputId": "ed09d42d-6a11-4241-d1d0-85a9cf3f74e3"
      },
      "source": [
        "feature_imp = pd.DataFrame(sorted(zip(clf.feature_importance(), X.columns), reverse=True)[:], columns=['Value','Feature'])\n",
        "plt.figure(figsize=(20,20))\n",
        "sns.barplot(x=\"Value\", y=\"Feature\", data=feature_imp.sort_values(by=\"Value\", ascending=False))\n",
        "plt.title('LightGBM Features')\n",
        "plt.tight_layout()\n",
        "plt.show()"
      ],
      "execution_count": null,
      "outputs": [
        {
          "output_type": "display_data",
          "data": {
            "image/png": "[encoded data removed]",
            "text/plain": [
              "<Figure size 1440x1440 with 1 Axes>"
            ]
          },
          "metadata": {
            "tags": [],
            "needs_background": "light"
          }
        }
      ]
    },
    {
      "cell_type": "code",
      "metadata": {
        "id": "YAjNG7HG_y1N",
        "colab_type": "code",
        "colab": {
          "base_uri": "https://localhost:8080/",
          "height": 1000
        },
        "outputId": "b49a127a-6509-4548-8a48-1d6541b7bf02"
      },
      "source": [
        "feature_imp.loc[feature_imp.Value >= 0].sort_values(by=['Value'], ascending = False)"
      ],
      "execution_count": null,
      "outputs": [
        {
          "output_type": "execute_result",
          "data": {
            "text/html": [
              "<div>\n",
              "<style scoped>\n",
              "    .dataframe tbody tr th:only-of-type {\n",
              "        vertical-align: middle;\n",
              "    }\n",
              "\n",
              "    .dataframe tbody tr th {\n",
              "        vertical-align: top;\n",
              "    }\n",
              "\n",
              "    .dataframe thead th {\n",
              "        text-align: right;\n",
              "    }\n",
              "</style>\n",
              "<table border=\"1\" class=\"dataframe\">\n",
              "  <thead>\n",
              "    <tr style=\"text-align: right;\">\n",
              "      <th></th>\n",
              "      <th>Value</th>\n",
              "      <th>Feature</th>\n",
              "    </tr>\n",
              "  </thead>\n",
              "  <tbody>\n",
              "    <tr>\n",
              "      <th>0</th>\n",
              "      <td>37228</td>\n",
              "      <td>Horizontal_Distance_To_Fire_Points(meters)</td>\n",
              "    </tr>\n",
              "    <tr>\n",
              "      <th>1</th>\n",
              "      <td>35998</td>\n",
              "      <td>Horizontal_Distance_To_Roadways(meters)</td>\n",
              "    </tr>\n",
              "    <tr>\n",
              "      <th>2</th>\n",
              "      <td>29782</td>\n",
              "      <td>Elevation(meters)</td>\n",
              "    </tr>\n",
              "    <tr>\n",
              "      <th>3</th>\n",
              "      <td>25779</td>\n",
              "      <td>Vertical_Distance_To_Hydrology(meters)</td>\n",
              "    </tr>\n",
              "    <tr>\n",
              "      <th>4</th>\n",
              "      <td>22986</td>\n",
              "      <td>Aspect(degrees)</td>\n",
              "    </tr>\n",
              "    <tr>\n",
              "      <th>5</th>\n",
              "      <td>22734</td>\n",
              "      <td>Horizontal_Distance_To_Hydrology(meters)</td>\n",
              "    </tr>\n",
              "    <tr>\n",
              "      <th>6</th>\n",
              "      <td>20398</td>\n",
              "      <td>Hillshade_3pm</td>\n",
              "    </tr>\n",
              "    <tr>\n",
              "      <th>7</th>\n",
              "      <td>19875</td>\n",
              "      <td>Hillshade_Noon</td>\n",
              "    </tr>\n",
              "    <tr>\n",
              "      <th>8</th>\n",
              "      <td>19227</td>\n",
              "      <td>Hillshade_9am</td>\n",
              "    </tr>\n",
              "    <tr>\n",
              "      <th>9</th>\n",
              "      <td>15549</td>\n",
              "      <td>Slope(degrees)</td>\n",
              "    </tr>\n",
              "    <tr>\n",
              "      <th>10</th>\n",
              "      <td>1541</td>\n",
              "      <td>Wilderness_Area_3</td>\n",
              "    </tr>\n",
              "    <tr>\n",
              "      <th>11</th>\n",
              "      <td>1423</td>\n",
              "      <td>Wilderness_Area_1</td>\n",
              "    </tr>\n",
              "    <tr>\n",
              "      <th>12</th>\n",
              "      <td>988</td>\n",
              "      <td>Soil_Type_33</td>\n",
              "    </tr>\n",
              "    <tr>\n",
              "      <th>13</th>\n",
              "      <td>977</td>\n",
              "      <td>Soil_Type_29</td>\n",
              "    </tr>\n",
              "    <tr>\n",
              "      <th>14</th>\n",
              "      <td>924</td>\n",
              "      <td>Soil_Type_32</td>\n",
              "    </tr>\n",
              "    <tr>\n",
              "      <th>15</th>\n",
              "      <td>850</td>\n",
              "      <td>Soil_Type_23</td>\n",
              "    </tr>\n",
              "    <tr>\n",
              "      <th>16</th>\n",
              "      <td>746</td>\n",
              "      <td>Soil_Type_10</td>\n",
              "    </tr>\n",
              "    <tr>\n",
              "      <th>17</th>\n",
              "      <td>721</td>\n",
              "      <td>Soil_Type_31</td>\n",
              "    </tr>\n",
              "    <tr>\n",
              "      <th>18</th>\n",
              "      <td>650</td>\n",
              "      <td>Wilderness_Area_2</td>\n",
              "    </tr>\n",
              "    <tr>\n",
              "      <th>19</th>\n",
              "      <td>556</td>\n",
              "      <td>Soil_Type_2</td>\n",
              "    </tr>\n",
              "    <tr>\n",
              "      <th>20</th>\n",
              "      <td>555</td>\n",
              "      <td>Soil_Type_4</td>\n",
              "    </tr>\n",
              "    <tr>\n",
              "      <th>21</th>\n",
              "      <td>542</td>\n",
              "      <td>Soil_Type_13</td>\n",
              "    </tr>\n",
              "    <tr>\n",
              "      <th>22</th>\n",
              "      <td>509</td>\n",
              "      <td>Soil_Type_24</td>\n",
              "    </tr>\n",
              "    <tr>\n",
              "      <th>23</th>\n",
              "      <td>495</td>\n",
              "      <td>Soil_Type_11</td>\n",
              "    </tr>\n",
              "    <tr>\n",
              "      <th>24</th>\n",
              "      <td>481</td>\n",
              "      <td>Soil_Type_22</td>\n",
              "    </tr>\n",
              "    <tr>\n",
              "      <th>25</th>\n",
              "      <td>475</td>\n",
              "      <td>Soil_Type_30</td>\n",
              "    </tr>\n",
              "    <tr>\n",
              "      <th>26</th>\n",
              "      <td>467</td>\n",
              "      <td>Wilderness_Area_4</td>\n",
              "    </tr>\n",
              "    <tr>\n",
              "      <th>27</th>\n",
              "      <td>399</td>\n",
              "      <td>Soil_Type_20</td>\n",
              "    </tr>\n",
              "    <tr>\n",
              "      <th>28</th>\n",
              "      <td>367</td>\n",
              "      <td>Soil_Type_17</td>\n",
              "    </tr>\n",
              "    <tr>\n",
              "      <th>29</th>\n",
              "      <td>358</td>\n",
              "      <td>Soil_Type_39</td>\n",
              "    </tr>\n",
              "    <tr>\n",
              "      <th>30</th>\n",
              "      <td>334</td>\n",
              "      <td>Soil_Type_12</td>\n",
              "    </tr>\n",
              "    <tr>\n",
              "      <th>31</th>\n",
              "      <td>318</td>\n",
              "      <td>Soil_Type_6</td>\n",
              "    </tr>\n",
              "    <tr>\n",
              "      <th>32</th>\n",
              "      <td>283</td>\n",
              "      <td>Soil_Type_3</td>\n",
              "    </tr>\n",
              "    <tr>\n",
              "      <th>33</th>\n",
              "      <td>272</td>\n",
              "      <td>Soil_Type_38</td>\n",
              "    </tr>\n",
              "    <tr>\n",
              "      <th>34</th>\n",
              "      <td>176</td>\n",
              "      <td>Soil_Type_1</td>\n",
              "    </tr>\n",
              "    <tr>\n",
              "      <th>35</th>\n",
              "      <td>152</td>\n",
              "      <td>Soil_Type_40</td>\n",
              "    </tr>\n",
              "    <tr>\n",
              "      <th>36</th>\n",
              "      <td>145</td>\n",
              "      <td>Soil_Type_16</td>\n",
              "    </tr>\n",
              "    <tr>\n",
              "      <th>37</th>\n",
              "      <td>143</td>\n",
              "      <td>Soil_Type_19</td>\n",
              "    </tr>\n",
              "    <tr>\n",
              "      <th>38</th>\n",
              "      <td>129</td>\n",
              "      <td>Soil_Type_26</td>\n",
              "    </tr>\n",
              "    <tr>\n",
              "      <th>39</th>\n",
              "      <td>102</td>\n",
              "      <td>Soil_Type_5</td>\n",
              "    </tr>\n",
              "    <tr>\n",
              "      <th>40</th>\n",
              "      <td>97</td>\n",
              "      <td>Soil_Type_27</td>\n",
              "    </tr>\n",
              "    <tr>\n",
              "      <th>41</th>\n",
              "      <td>84</td>\n",
              "      <td>Soil_Type_35</td>\n",
              "    </tr>\n",
              "    <tr>\n",
              "      <th>42</th>\n",
              "      <td>77</td>\n",
              "      <td>Soil_Type_21</td>\n",
              "    </tr>\n",
              "    <tr>\n",
              "      <th>43</th>\n",
              "      <td>71</td>\n",
              "      <td>Soil_Type_34</td>\n",
              "    </tr>\n",
              "    <tr>\n",
              "      <th>44</th>\n",
              "      <td>65</td>\n",
              "      <td>Soil_Type_14</td>\n",
              "    </tr>\n",
              "    <tr>\n",
              "      <th>45</th>\n",
              "      <td>61</td>\n",
              "      <td>Soil_Type_9</td>\n",
              "    </tr>\n",
              "    <tr>\n",
              "      <th>46</th>\n",
              "      <td>26</td>\n",
              "      <td>Soil_Type_28</td>\n",
              "    </tr>\n",
              "    <tr>\n",
              "      <th>47</th>\n",
              "      <td>26</td>\n",
              "      <td>Soil_Type_18</td>\n",
              "    </tr>\n",
              "    <tr>\n",
              "      <th>48</th>\n",
              "      <td>0</td>\n",
              "      <td>Soil_Type_8</td>\n",
              "    </tr>\n",
              "    <tr>\n",
              "      <th>49</th>\n",
              "      <td>0</td>\n",
              "      <td>Soil_Type_7</td>\n",
              "    </tr>\n",
              "    <tr>\n",
              "      <th>50</th>\n",
              "      <td>0</td>\n",
              "      <td>Soil_Type_37</td>\n",
              "    </tr>\n",
              "    <tr>\n",
              "      <th>51</th>\n",
              "      <td>0</td>\n",
              "      <td>Soil_Type_36</td>\n",
              "    </tr>\n",
              "    <tr>\n",
              "      <th>52</th>\n",
              "      <td>0</td>\n",
              "      <td>Soil_Type_25</td>\n",
              "    </tr>\n",
              "    <tr>\n",
              "      <th>53</th>\n",
              "      <td>0</td>\n",
              "      <td>Soil_Type_15</td>\n",
              "    </tr>\n",
              "  </tbody>\n",
              "</table>\n",
              "</div>"
            ],
            "text/plain": [
              "    Value                                     Feature\n",
              "0   37228  Horizontal_Distance_To_Fire_Points(meters)\n",
              "1   35998     Horizontal_Distance_To_Roadways(meters)\n",
              "2   29782                           Elevation(meters)\n",
              "3   25779      Vertical_Distance_To_Hydrology(meters)\n",
              "4   22986                             Aspect(degrees)\n",
              "5   22734    Horizontal_Distance_To_Hydrology(meters)\n",
              "6   20398                               Hillshade_3pm\n",
              "7   19875                              Hillshade_Noon\n",
              "8   19227                               Hillshade_9am\n",
              "9   15549                              Slope(degrees)\n",
              "10   1541                           Wilderness_Area_3\n",
              "11   1423                           Wilderness_Area_1\n",
              "12    988                                Soil_Type_33\n",
              "13    977                                Soil_Type_29\n",
              "14    924                                Soil_Type_32\n",
              "15    850                                Soil_Type_23\n",
              "16    746                                Soil_Type_10\n",
              "17    721                                Soil_Type_31\n",
              "18    650                           Wilderness_Area_2\n",
              "19    556                                 Soil_Type_2\n",
              "20    555                                 Soil_Type_4\n",
              "21    542                                Soil_Type_13\n",
              "22    509                                Soil_Type_24\n",
              "23    495                                Soil_Type_11\n",
              "24    481                                Soil_Type_22\n",
              "25    475                                Soil_Type_30\n",
              "26    467                           Wilderness_Area_4\n",
              "27    399                                Soil_Type_20\n",
              "28    367                                Soil_Type_17\n",
              "29    358                                Soil_Type_39\n",
              "30    334                                Soil_Type_12\n",
              "31    318                                 Soil_Type_6\n",
              "32    283                                 Soil_Type_3\n",
              "33    272                                Soil_Type_38\n",
              "34    176                                 Soil_Type_1\n",
              "35    152                                Soil_Type_40\n",
              "36    145                                Soil_Type_16\n",
              "37    143                                Soil_Type_19\n",
              "38    129                                Soil_Type_26\n",
              "39    102                                 Soil_Type_5\n",
              "40     97                                Soil_Type_27\n",
              "41     84                                Soil_Type_35\n",
              "42     77                                Soil_Type_21\n",
              "43     71                                Soil_Type_34\n",
              "44     65                                Soil_Type_14\n",
              "45     61                                 Soil_Type_9\n",
              "46     26                                Soil_Type_28\n",
              "47     26                                Soil_Type_18\n",
              "48      0                                 Soil_Type_8\n",
              "49      0                                 Soil_Type_7\n",
              "50      0                                Soil_Type_37\n",
              "51      0                                Soil_Type_36\n",
              "52      0                                Soil_Type_25\n",
              "53      0                                Soil_Type_15"
            ]
          },
          "metadata": {
            "tags": []
          },
          "execution_count": 57
        }
      ]
    },
    {
      "cell_type": "code",
      "metadata": {
        "id": "SMYdOgfv_4of",
        "colab_type": "code",
        "colab": {}
      },
      "source": [
        "Xtest = test_df"
      ],
      "execution_count": null,
      "outputs": []
    },
    {
      "cell_type": "code",
      "metadata": {
        "id": "3a_H1ogv_9RP",
        "colab_type": "code",
        "colab": {
          "base_uri": "https://localhost:8080/",
          "height": 1000
        },
        "outputId": "5ba7eadb-0c1f-403c-d078-a463f6193aef"
      },
      "source": [
        "from sklearn.model_selection import KFold, StratifiedKFold\n",
        "\n",
        "errlgb = []\n",
        "y_pred_totlgb = []\n",
        "\n",
        "fold = StratifiedKFold(n_splits=10, shuffle=True, random_state=123456789)\n",
        "\n",
        "for train_index, test_index in fold.split(X, y):\n",
        "    \n",
        "    X_train, X_test = X.loc[train_index], X.loc[test_index]\n",
        "    y_train, y_test = y[train_index], y[test_index]\n",
        "    \n",
        "    train_data = lgb.Dataset(X_train, label=y_train)\n",
        "    test_data = lgb.Dataset(X_test, label=y_test)\n",
        "    \n",
        "    clf = lgb.train(params=param, \n",
        "                     early_stopping_rounds=200,\n",
        "                     verbose_eval=100,\n",
        "                     train_set=train_data,\n",
        "                     valid_sets=[test_data])\n",
        "\n",
        "    y_pred = clf.predict(X_test)\n",
        "    print(\"Log Loss: \", (log_loss(y_test, y_pred)))\n",
        "    \n",
        "    errlgb.append(log_loss(y_test, y_pred))\n",
        "    p = clf.predict(Xtest)\n",
        "    y_pred_totlgb.append(p)"
      ],
      "execution_count": null,
      "outputs": [
        {
          "output_type": "stream",
          "text": [
            "/usr/local/lib/python3.6/dist-packages/lightgbm/engine.py:118: UserWarning: Found `num_iterations` in params. Will use it instead of argument\n",
            "  warnings.warn(\"Found `{}` in params. Will use it instead of argument\".format(alias))\n"
          ],
          "name": "stderr"
        },
        {
          "output_type": "stream",
          "text": [
            "Training until validation scores don't improve for 200 rounds.\n",
            "[100]\tvalid_0's multi_logloss: 0.394976\n",
            "[200]\tvalid_0's multi_logloss: 0.366666\n",
            "[300]\tvalid_0's multi_logloss: 0.363227\n",
            "[400]\tvalid_0's multi_logloss: 0.364326\n",
            "[500]\tvalid_0's multi_logloss: 0.366239\n",
            "Early stopping, best iteration is:\n",
            "[336]\tvalid_0's multi_logloss: 0.36204\n",
            "Log Loss:  0.36204018558783585\n"
          ],
          "name": "stdout"
        },
        {
          "output_type": "stream",
          "text": [
            "/usr/local/lib/python3.6/dist-packages/lightgbm/engine.py:118: UserWarning: Found `num_iterations` in params. Will use it instead of argument\n",
            "  warnings.warn(\"Found `{}` in params. Will use it instead of argument\".format(alias))\n"
          ],
          "name": "stderr"
        },
        {
          "output_type": "stream",
          "text": [
            "Training until validation scores don't improve for 200 rounds.\n",
            "[100]\tvalid_0's multi_logloss: 0.389444\n",
            "[200]\tvalid_0's multi_logloss: 0.363913\n",
            "[300]\tvalid_0's multi_logloss: 0.356597\n",
            "[400]\tvalid_0's multi_logloss: 0.353823\n",
            "[500]\tvalid_0's multi_logloss: 0.355669\n",
            "Early stopping, best iteration is:\n",
            "[358]\tvalid_0's multi_logloss: 0.352861\n",
            "Log Loss:  0.352861194531558\n"
          ],
          "name": "stdout"
        },
        {
          "output_type": "stream",
          "text": [
            "/usr/local/lib/python3.6/dist-packages/lightgbm/engine.py:118: UserWarning: Found `num_iterations` in params. Will use it instead of argument\n",
            "  warnings.warn(\"Found `{}` in params. Will use it instead of argument\".format(alias))\n"
          ],
          "name": "stderr"
        },
        {
          "output_type": "stream",
          "text": [
            "Training until validation scores don't improve for 200 rounds.\n",
            "[100]\tvalid_0's multi_logloss: 0.374696\n",
            "[200]\tvalid_0's multi_logloss: 0.342367\n",
            "[300]\tvalid_0's multi_logloss: 0.333211\n",
            "[400]\tvalid_0's multi_logloss: 0.331823\n",
            "[500]\tvalid_0's multi_logloss: 0.334544\n",
            "[600]\tvalid_0's multi_logloss: 0.337197\n",
            "Early stopping, best iteration is:\n",
            "[427]\tvalid_0's multi_logloss: 0.331384\n",
            "Log Loss:  0.331383895268393\n"
          ],
          "name": "stdout"
        },
        {
          "output_type": "stream",
          "text": [
            "/usr/local/lib/python3.6/dist-packages/lightgbm/engine.py:118: UserWarning: Found `num_iterations` in params. Will use it instead of argument\n",
            "  warnings.warn(\"Found `{}` in params. Will use it instead of argument\".format(alias))\n"
          ],
          "name": "stderr"
        },
        {
          "output_type": "stream",
          "text": [
            "Training until validation scores don't improve for 200 rounds.\n",
            "[100]\tvalid_0's multi_logloss: 0.386016\n",
            "[200]\tvalid_0's multi_logloss: 0.353437\n",
            "[300]\tvalid_0's multi_logloss: 0.344984\n",
            "[400]\tvalid_0's multi_logloss: 0.341601\n",
            "[500]\tvalid_0's multi_logloss: 0.342009\n",
            "[600]\tvalid_0's multi_logloss: 0.344196\n",
            "Early stopping, best iteration is:\n",
            "[431]\tvalid_0's multi_logloss: 0.340972\n",
            "Log Loss:  0.34097231943927403\n"
          ],
          "name": "stdout"
        },
        {
          "output_type": "stream",
          "text": [
            "/usr/local/lib/python3.6/dist-packages/lightgbm/engine.py:118: UserWarning: Found `num_iterations` in params. Will use it instead of argument\n",
            "  warnings.warn(\"Found `{}` in params. Will use it instead of argument\".format(alias))\n"
          ],
          "name": "stderr"
        },
        {
          "output_type": "stream",
          "text": [
            "Training until validation scores don't improve for 200 rounds.\n",
            "[100]\tvalid_0's multi_logloss: 0.37235\n",
            "[200]\tvalid_0's multi_logloss: 0.336866\n",
            "[300]\tvalid_0's multi_logloss: 0.326794\n",
            "[400]\tvalid_0's multi_logloss: 0.323674\n",
            "[500]\tvalid_0's multi_logloss: 0.324924\n",
            "Early stopping, best iteration is:\n",
            "[392]\tvalid_0's multi_logloss: 0.32353\n",
            "Log Loss:  0.32353000375147334\n"
          ],
          "name": "stdout"
        },
        {
          "output_type": "stream",
          "text": [
            "/usr/local/lib/python3.6/dist-packages/lightgbm/engine.py:118: UserWarning: Found `num_iterations` in params. Will use it instead of argument\n",
            "  warnings.warn(\"Found `{}` in params. Will use it instead of argument\".format(alias))\n"
          ],
          "name": "stderr"
        },
        {
          "output_type": "stream",
          "text": [
            "Training until validation scores don't improve for 200 rounds.\n",
            "[100]\tvalid_0's multi_logloss: 0.386956\n",
            "[200]\tvalid_0's multi_logloss: 0.363341\n",
            "[300]\tvalid_0's multi_logloss: 0.359882\n",
            "[400]\tvalid_0's multi_logloss: 0.359988\n",
            "[500]\tvalid_0's multi_logloss: 0.364436\n",
            "Early stopping, best iteration is:\n",
            "[347]\tvalid_0's multi_logloss: 0.358258\n",
            "Log Loss:  0.35825760274468577\n"
          ],
          "name": "stdout"
        },
        {
          "output_type": "stream",
          "text": [
            "/usr/local/lib/python3.6/dist-packages/lightgbm/engine.py:118: UserWarning: Found `num_iterations` in params. Will use it instead of argument\n",
            "  warnings.warn(\"Found `{}` in params. Will use it instead of argument\".format(alias))\n"
          ],
          "name": "stderr"
        },
        {
          "output_type": "stream",
          "text": [
            "Training until validation scores don't improve for 200 rounds.\n",
            "[100]\tvalid_0's multi_logloss: 0.401637\n",
            "[200]\tvalid_0's multi_logloss: 0.378289\n",
            "[300]\tvalid_0's multi_logloss: 0.373453\n",
            "[400]\tvalid_0's multi_logloss: 0.374443\n",
            "Early stopping, best iteration is:\n",
            "[292]\tvalid_0's multi_logloss: 0.373098\n",
            "Log Loss:  0.37309751910878153\n"
          ],
          "name": "stdout"
        },
        {
          "output_type": "stream",
          "text": [
            "/usr/local/lib/python3.6/dist-packages/lightgbm/engine.py:118: UserWarning: Found `num_iterations` in params. Will use it instead of argument\n",
            "  warnings.warn(\"Found `{}` in params. Will use it instead of argument\".format(alias))\n"
          ],
          "name": "stderr"
        },
        {
          "output_type": "stream",
          "text": [
            "Training until validation scores don't improve for 200 rounds.\n",
            "[100]\tvalid_0's multi_logloss: 0.377007\n",
            "[200]\tvalid_0's multi_logloss: 0.352284\n",
            "[300]\tvalid_0's multi_logloss: 0.344606\n",
            "[400]\tvalid_0's multi_logloss: 0.344569\n",
            "[500]\tvalid_0's multi_logloss: 0.34868\n",
            "Early stopping, best iteration is:\n",
            "[367]\tvalid_0's multi_logloss: 0.34373\n",
            "Log Loss:  0.3437301924780601\n"
          ],
          "name": "stdout"
        },
        {
          "output_type": "stream",
          "text": [
            "/usr/local/lib/python3.6/dist-packages/lightgbm/engine.py:118: UserWarning: Found `num_iterations` in params. Will use it instead of argument\n",
            "  warnings.warn(\"Found `{}` in params. Will use it instead of argument\".format(alias))\n"
          ],
          "name": "stderr"
        },
        {
          "output_type": "stream",
          "text": [
            "Training until validation scores don't improve for 200 rounds.\n",
            "[100]\tvalid_0's multi_logloss: 0.373525\n",
            "[200]\tvalid_0's multi_logloss: 0.345522\n",
            "[300]\tvalid_0's multi_logloss: 0.339031\n",
            "[400]\tvalid_0's multi_logloss: 0.339224\n",
            "[500]\tvalid_0's multi_logloss: 0.340632\n",
            "Early stopping, best iteration is:\n",
            "[361]\tvalid_0's multi_logloss: 0.338091\n",
            "Log Loss:  0.33809062913430765\n"
          ],
          "name": "stdout"
        },
        {
          "output_type": "stream",
          "text": [
            "/usr/local/lib/python3.6/dist-packages/lightgbm/engine.py:118: UserWarning: Found `num_iterations` in params. Will use it instead of argument\n",
            "  warnings.warn(\"Found `{}` in params. Will use it instead of argument\".format(alias))\n"
          ],
          "name": "stderr"
        },
        {
          "output_type": "stream",
          "text": [
            "Training until validation scores don't improve for 200 rounds.\n",
            "[100]\tvalid_0's multi_logloss: 0.41477\n",
            "[200]\tvalid_0's multi_logloss: 0.390831\n",
            "[300]\tvalid_0's multi_logloss: 0.387278\n",
            "[400]\tvalid_0's multi_logloss: 0.389871\n",
            "Early stopping, best iteration is:\n",
            "[282]\tvalid_0's multi_logloss: 0.387097\n",
            "Log Loss:  0.3870968090546032\n"
          ],
          "name": "stdout"
        }
      ]
    },
    {
      "cell_type": "code",
      "metadata": {
        "id": "7g2YywPbAC6H",
        "colab_type": "code",
        "colab": {
          "base_uri": "https://localhost:8080/",
          "height": 33
        },
        "outputId": "fa212f49-9d27-412c-9e5b-7c537e9a3b77"
      },
      "source": [
        "np.mean(errlgb,0)"
      ],
      "execution_count": null,
      "outputs": [
        {
          "output_type": "execute_result",
          "data": {
            "text/plain": [
              "0.35110603510989724"
            ]
          },
          "metadata": {
            "tags": []
          },
          "execution_count": 60
        }
      ]
    },
    {
      "cell_type": "code",
      "metadata": {
        "id": "wDGLkQwpBboH",
        "colab_type": "code",
        "colab": {
          "base_uri": "https://localhost:8080/",
          "height": 33
        },
        "outputId": "81066515-ddac-4af8-8e85-6d2dbd767a7e"
      },
      "source": [
        "sub.columns"
      ],
      "execution_count": null,
      "outputs": [
        {
          "output_type": "execute_result",
          "data": {
            "text/plain": [
              "Index(['1.0', '2.0', '3.0', '4.0', '5.0', '6.0', '7.0'], dtype='object')"
            ]
          },
          "metadata": {
            "tags": []
          },
          "execution_count": 61
        }
      ]
    },
    {
      "cell_type": "code",
      "metadata": {
        "id": "ZXSbEEwOBe9Y",
        "colab_type": "code",
        "colab": {}
      },
      "source": [
        "y_pred = np.mean(y_pred_totlgb,0)"
      ],
      "execution_count": null,
      "outputs": []
    },
    {
      "cell_type": "code",
      "metadata": {
        "id": "W6Yltou2RVZL",
        "colab_type": "code",
        "colab": {
          "base_uri": "https://localhost:8080/",
          "height": 190
        },
        "outputId": "765ae7f8-c6d2-4d87-8d5e-064d3f3212b9"
      },
      "source": [
        "submission = pd.DataFrame(data=y_pred, columns=sub.columns)\n",
        "submission.head()"
      ],
      "execution_count": null,
      "outputs": [
        {
          "output_type": "execute_result",
          "data": {
            "text/html": [
              "<div>\n",
              "<style scoped>\n",
              "    .dataframe tbody tr th:only-of-type {\n",
              "        vertical-align: middle;\n",
              "    }\n",
              "\n",
              "    .dataframe tbody tr th {\n",
              "        vertical-align: top;\n",
              "    }\n",
              "\n",
              "    .dataframe thead th {\n",
              "        text-align: right;\n",
              "    }\n",
              "</style>\n",
              "<table border=\"1\" class=\"dataframe\">\n",
              "  <thead>\n",
              "    <tr style=\"text-align: right;\">\n",
              "      <th></th>\n",
              "      <th>1.0</th>\n",
              "      <th>2.0</th>\n",
              "      <th>3.0</th>\n",
              "      <th>4.0</th>\n",
              "      <th>5.0</th>\n",
              "      <th>6.0</th>\n",
              "      <th>7.0</th>\n",
              "    </tr>\n",
              "  </thead>\n",
              "  <tbody>\n",
              "    <tr>\n",
              "      <th>0</th>\n",
              "      <td>0.000002</td>\n",
              "      <td>3.048424e-05</td>\n",
              "      <td>1.560944e-06</td>\n",
              "      <td>4.963907e-07</td>\n",
              "      <td>0.994957</td>\n",
              "      <td>6.562729e-06</td>\n",
              "      <td>0.005003</td>\n",
              "    </tr>\n",
              "    <tr>\n",
              "      <th>1</th>\n",
              "      <td>0.991898</td>\n",
              "      <td>2.443645e-07</td>\n",
              "      <td>7.036293e-08</td>\n",
              "      <td>7.124335e-08</td>\n",
              "      <td>0.000019</td>\n",
              "      <td>1.588614e-07</td>\n",
              "      <td>0.008082</td>\n",
              "    </tr>\n",
              "    <tr>\n",
              "      <th>2</th>\n",
              "      <td>0.000010</td>\n",
              "      <td>2.443877e-04</td>\n",
              "      <td>1.201763e-04</td>\n",
              "      <td>1.623466e-06</td>\n",
              "      <td>0.995490</td>\n",
              "      <td>1.530696e-03</td>\n",
              "      <td>0.002603</td>\n",
              "    </tr>\n",
              "    <tr>\n",
              "      <th>3</th>\n",
              "      <td>0.000014</td>\n",
              "      <td>7.895911e-04</td>\n",
              "      <td>2.459591e-06</td>\n",
              "      <td>1.388829e-06</td>\n",
              "      <td>0.984388</td>\n",
              "      <td>2.804334e-05</td>\n",
              "      <td>0.014776</td>\n",
              "    </tr>\n",
              "    <tr>\n",
              "      <th>4</th>\n",
              "      <td>0.000014</td>\n",
              "      <td>6.665264e-05</td>\n",
              "      <td>6.063298e-05</td>\n",
              "      <td>3.253076e-06</td>\n",
              "      <td>0.259462</td>\n",
              "      <td>5.530908e-05</td>\n",
              "      <td>0.740338</td>\n",
              "    </tr>\n",
              "  </tbody>\n",
              "</table>\n",
              "</div>"
            ],
            "text/plain": [
              "        1.0           2.0           3.0  ...       5.0           6.0       7.0\n",
              "0  0.000002  3.048424e-05  1.560944e-06  ...  0.994957  6.562729e-06  0.005003\n",
              "1  0.991898  2.443645e-07  7.036293e-08  ...  0.000019  1.588614e-07  0.008082\n",
              "2  0.000010  2.443877e-04  1.201763e-04  ...  0.995490  1.530696e-03  0.002603\n",
              "3  0.000014  7.895911e-04  2.459591e-06  ...  0.984388  2.804334e-05  0.014776\n",
              "4  0.000014  6.665264e-05  6.063298e-05  ...  0.259462  5.530908e-05  0.740338\n",
              "\n",
              "[5 rows x 7 columns]"
            ]
          },
          "metadata": {
            "tags": []
          },
          "execution_count": 63
        }
      ]
    },
    {
      "cell_type": "code",
      "metadata": {
        "id": "DSDoPymfRVUK",
        "colab_type": "code",
        "colab": {}
      },
      "source": [
        "submission.to_csv('alpha3.csv',index=False)"
      ],
      "execution_count": null,
      "outputs": []
    },
    {
      "cell_type": "code",
      "metadata": {
        "id": "Gei3OoCxlYrh",
        "colab_type": "code",
        "colab": {
          "base_uri": "https://localhost:8080/",
          "height": 33
        },
        "outputId": "83577ec0-84f6-40ef-c1c1-2af6538b7ca9"
      },
      "source": [
        "from google.colab import files\n",
        "files.download('alpha1.csv')"
      ],
      "execution_count": null,
      "outputs": [
        {
          "output_type": "display_data",
          "data": {
            "application/javascript": [
              "\n",
              "    async function download(id, filename, size) {\n",
              "      if (!google.colab.kernel.accessAllowed) {\n",
              "        return;\n",
              "      }\n",
              "      const div = document.createElement('div');\n",
              "      const label = document.createElement('label');\n",
              "      label.textContent = `Downloading \"${filename}\": `;\n",
              "      div.appendChild(label);\n",
              "      const progress = document.createElement('progress');\n",
              "      progress.max = size;\n",
              "      div.appendChild(progress);\n",
              "      document.body.appendChild(div);\n",
              "\n",
              "      const buffers = [];\n",
              "      let downloaded = 0;\n",
              "\n",
              "      const channel = await google.colab.kernel.comms.open(id);\n",
              "      // Send a message to notify the kernel that we're ready.\n",
              "      channel.send({})\n",
              "\n",
              "      for await (const message of channel.messages) {\n",
              "        // Send a message to notify the kernel that we're ready.\n",
              "        channel.send({})\n",
              "        if (message.buffers) {\n",
              "          for (const buffer of message.buffers) {\n",
              "            buffers.push(buffer);\n",
              "            downloaded += buffer.byteLength;\n",
              "            progress.value = downloaded;\n",
              "          }\n",
              "        }\n",
              "      }\n",
              "      const blob = new Blob(buffers, {type: 'application/binary'});\n",
              "      const a = document.createElement('a');\n",
              "      a.href = window.URL.createObjectURL(blob);\n",
              "      a.download = filename;\n",
              "      div.appendChild(a);\n",
              "      a.click();\n",
              "      div.remove();\n",
              "    }\n",
              "  "
            ],
            "text/plain": [
              "<IPython.core.display.Javascript object>"
            ]
          },
          "metadata": {
            "tags": []
          }
        },
        {
          "output_type": "display_data",
          "data": {
            "application/javascript": [
              "download(\"download_921de8c5-ce34-45e5-a936-b75b8bc0550e\", \"alpha1.csv\", 83159085)"
            ],
            "text/plain": [
              "<IPython.core.display.Javascript object>"
            ]
          },
          "metadata": {
            "tags": []
          }
        }
      ]
    },
    {
      "cell_type": "code",
      "metadata": {
        "id": "Tl6ks6BrB217",
        "colab_type": "code",
        "colab": {
          "base_uri": "https://localhost:8080/",
          "height": 33
        },
        "outputId": "3800c0b7-7e76-4300-84a7-d82a5415da6d"
      },
      "source": [
        "from xgboost import XGBClassifier\n",
        "from sklearn.metrics import log_loss\n",
        "from sklearn.model_selection import StratifiedKFold\n",
        "from sklearn.model_selection import train_test_split\n",
        "xgb = XGBClassifier(random_state=42)\n",
        "xgb.fit(X_train, y_train)\n",
        "y_pred = xgb.predict_proba(X_cv)\n",
        "\n",
        "log_loss(y_cv, y_pred)"
      ],
      "execution_count": null,
      "outputs": [
        {
          "output_type": "execute_result",
          "data": {
            "text/plain": [
              "0.5958925520053099"
            ]
          },
          "metadata": {
            "tags": []
          },
          "execution_count": 14
        }
      ]
    },
    {
      "cell_type": "code",
      "metadata": {
        "id": "kjnZulxIB21G",
        "colab_type": "code",
        "colab": {}
      },
      "source": [
        "Xtest = test_df"
      ],
      "execution_count": null,
      "outputs": []
    },
    {
      "cell_type": "code",
      "metadata": {
        "id": "mlyetWgRCNKw",
        "colab_type": "code",
        "colab": {
          "base_uri": "https://localhost:8080/",
          "height": 117
        },
        "outputId": "7b353bf3-8796-4a5c-e048-20bd076a2fce"
      },
      "source": [
        "err = []\n",
        "y_pred_tot = []\n",
        "\n",
        "fold = StratifiedKFold(n_splits=6, shuffle=True, random_state=42)\n",
        "\n",
        "for train_index, test_index in fold.split(X, y):\n",
        "    \n",
        "    X_train, X_test = X.loc[train_index], X.loc[test_index]\n",
        "    y_train, y_test = y[train_index], y[test_index]\n",
        "\n",
        "    xgb = XGBClassifier(random_state=42)\n",
        "    xgb.fit(X_train, y_train)\n",
        "    y_pred = xgb.predict_proba(X_test)\n",
        "    \n",
        "    print(\"Log Loss:\", log_loss(y_test, y_pred))\n",
        "\n",
        "    err.append(log_loss(y_test, y_pred))\n",
        "    p = xgb.predict_proba(Xtest)\n",
        "    y_pred_tot.append(p)"
      ],
      "execution_count": null,
      "outputs": [
        {
          "output_type": "stream",
          "text": [
            "Log Loss: 0.5895552602544648\n",
            "Log Loss: 0.610655400194597\n",
            "Log Loss: 0.5936660712395588\n",
            "Log Loss: 0.6073081570518585\n",
            "Log Loss: 0.6028971432826904\n",
            "Log Loss: 0.6035230365847105\n"
          ],
          "name": "stdout"
        }
      ]
    },
    {
      "cell_type": "code",
      "metadata": {
        "id": "Y2Vv0QbDCQS5",
        "colab_type": "code",
        "colab": {
          "base_uri": "https://localhost:8080/",
          "height": 33
        },
        "outputId": "4b2e3ea8-157c-4ccf-ceaa-26c3cd6deddf"
      },
      "source": [
        "np.mean(err, 0)"
      ],
      "execution_count": null,
      "outputs": [
        {
          "output_type": "execute_result",
          "data": {
            "text/plain": [
              "0.6012675114346466"
            ]
          },
          "metadata": {
            "tags": []
          },
          "execution_count": 17
        }
      ]
    },
    {
      "cell_type": "code",
      "metadata": {
        "id": "4-6JrbUyCUAL",
        "colab_type": "code",
        "colab": {
          "base_uri": "https://localhost:8080/",
          "height": 235
        },
        "outputId": "d3819a00-2d31-45b9-fd56-77f6d376c142"
      },
      "source": [
        "np.mean(y_pred_tot, 0)"
      ],
      "execution_count": null,
      "outputs": [
        {
          "output_type": "execute_result",
          "data": {
            "text/plain": [
              "array([[5.9621740e-04, 5.2068071e-03, 1.1139885e-03, ..., 8.7281102e-01,\n",
              "        1.7026818e-03, 1.1812190e-01],\n",
              "       [4.2670381e-01, 5.4600026e-04, 6.3463283e-04, ..., 1.9831076e-02,\n",
              "        4.9506564e-04, 5.5131912e-01],\n",
              "       [6.2699255e-04, 2.6836595e-02, 3.9252583e-02, ..., 6.2206703e-01,\n",
              "        2.5145423e-01, 5.9292983e-02],\n",
              "       ...,\n",
              "       [9.4200188e-04, 6.5769330e-02, 1.0193513e-03, ..., 6.9403595e-01,\n",
              "        1.2682243e-03, 2.3625897e-01],\n",
              "       [7.6182728e-04, 8.3385175e-04, 6.8411697e-04, ..., 5.5181664e-01,\n",
              "        1.0011859e-03, 4.4433120e-01],\n",
              "       [9.7465917e-04, 3.6605831e-02, 2.3265099e-03, ..., 7.9715890e-01,\n",
              "        4.6017002e-03, 1.5758435e-01]], dtype=float32)"
            ]
          },
          "metadata": {
            "tags": []
          },
          "execution_count": 18
        }
      ]
    },
    {
      "cell_type": "code",
      "metadata": {
        "id": "R4SlbO7fCjgc",
        "colab_type": "code",
        "colab": {}
      },
      "source": [
        "y_pred = np.mean(y_pred_tot, 0)"
      ],
      "execution_count": null,
      "outputs": []
    },
    {
      "cell_type": "code",
      "metadata": {
        "id": "blM5Y_CbClsq",
        "colab_type": "code",
        "colab": {
          "base_uri": "https://localhost:8080/",
          "height": 190
        },
        "outputId": "65f021aa-ca56-45f5-c52c-8b65dce228ae"
      },
      "source": [
        "sub = pd.DataFrame(y_pred)\n",
        "sub.head(5)"
      ],
      "execution_count": null,
      "outputs": [
        {
          "output_type": "execute_result",
          "data": {
            "text/html": [
              "<div>\n",
              "<style scoped>\n",
              "    .dataframe tbody tr th:only-of-type {\n",
              "        vertical-align: middle;\n",
              "    }\n",
              "\n",
              "    .dataframe tbody tr th {\n",
              "        vertical-align: top;\n",
              "    }\n",
              "\n",
              "    .dataframe thead th {\n",
              "        text-align: right;\n",
              "    }\n",
              "</style>\n",
              "<table border=\"1\" class=\"dataframe\">\n",
              "  <thead>\n",
              "    <tr style=\"text-align: right;\">\n",
              "      <th></th>\n",
              "      <th>0</th>\n",
              "      <th>1</th>\n",
              "      <th>2</th>\n",
              "      <th>3</th>\n",
              "      <th>4</th>\n",
              "      <th>5</th>\n",
              "      <th>6</th>\n",
              "    </tr>\n",
              "  </thead>\n",
              "  <tbody>\n",
              "    <tr>\n",
              "      <th>0</th>\n",
              "      <td>0.000596</td>\n",
              "      <td>0.005207</td>\n",
              "      <td>0.001114</td>\n",
              "      <td>0.000447</td>\n",
              "      <td>0.872811</td>\n",
              "      <td>0.001703</td>\n",
              "      <td>0.118122</td>\n",
              "    </tr>\n",
              "    <tr>\n",
              "      <th>1</th>\n",
              "      <td>0.426704</td>\n",
              "      <td>0.000546</td>\n",
              "      <td>0.000635</td>\n",
              "      <td>0.000470</td>\n",
              "      <td>0.019831</td>\n",
              "      <td>0.000495</td>\n",
              "      <td>0.551319</td>\n",
              "    </tr>\n",
              "    <tr>\n",
              "      <th>2</th>\n",
              "      <td>0.000627</td>\n",
              "      <td>0.026837</td>\n",
              "      <td>0.039253</td>\n",
              "      <td>0.000470</td>\n",
              "      <td>0.622067</td>\n",
              "      <td>0.251454</td>\n",
              "      <td>0.059293</td>\n",
              "    </tr>\n",
              "    <tr>\n",
              "      <th>3</th>\n",
              "      <td>0.000962</td>\n",
              "      <td>0.036202</td>\n",
              "      <td>0.001182</td>\n",
              "      <td>0.000721</td>\n",
              "      <td>0.807239</td>\n",
              "      <td>0.001442</td>\n",
              "      <td>0.152252</td>\n",
              "    </tr>\n",
              "    <tr>\n",
              "      <th>4</th>\n",
              "      <td>0.001067</td>\n",
              "      <td>0.029276</td>\n",
              "      <td>0.001736</td>\n",
              "      <td>0.000799</td>\n",
              "      <td>0.764950</td>\n",
              "      <td>0.007822</td>\n",
              "      <td>0.194351</td>\n",
              "    </tr>\n",
              "  </tbody>\n",
              "</table>\n",
              "</div>"
            ],
            "text/plain": [
              "          0         1         2         3         4         5         6\n",
              "0  0.000596  0.005207  0.001114  0.000447  0.872811  0.001703  0.118122\n",
              "1  0.426704  0.000546  0.000635  0.000470  0.019831  0.000495  0.551319\n",
              "2  0.000627  0.026837  0.039253  0.000470  0.622067  0.251454  0.059293\n",
              "3  0.000962  0.036202  0.001182  0.000721  0.807239  0.001442  0.152252\n",
              "4  0.001067  0.029276  0.001736  0.000799  0.764950  0.007822  0.194351"
            ]
          },
          "metadata": {
            "tags": []
          },
          "execution_count": 20
        }
      ]
    },
    {
      "cell_type": "code",
      "metadata": {
        "id": "9rgGoEQGDE-3",
        "colab_type": "code",
        "colab": {}
      },
      "source": [
        "sub.to_csv('s1.csv', index=False)"
      ],
      "execution_count": null,
      "outputs": []
    },
    {
      "cell_type": "code",
      "metadata": {
        "id": "FFZ28QIIDKCw",
        "colab_type": "code",
        "colab": {}
      },
      "source": [
        ""
      ],
      "execution_count": null,
      "outputs": []
    },
    {
      "cell_type": "code",
      "metadata": {
        "id": "Fk-e8zuX0456",
        "colab_type": "code",
        "colab": {}
      },
      "source": [
        "from sklearn.model_selection import train_test_split\n",
        "X_train, X_cv, y_train, y_cv = train_test_split(X, y, test_size=0.15, random_state=101, stratify=y)"
      ],
      "execution_count": null,
      "outputs": []
    },
    {
      "cell_type": "code",
      "metadata": {
        "id": "UxHh7_b_04_C",
        "colab_type": "code",
        "colab": {
          "base_uri": "https://localhost:8080/",
          "height": 184
        },
        "outputId": "461f1035-6322-4b39-a578-5622025ccf31"
      },
      "source": [
        "import lightgbm as lgb\n",
        "train_data = lgb.Dataset(X_train, label=y_train)\n",
        "test_data = lgb.Dataset(X_cv, label=y_cv)\n",
        "\n",
        "param = {'objective': 'multiclass',\n",
        "         'num_class': 7,\n",
        "         'boosting': 'gbdt',  \n",
        "         'metric': 'multi_logloss',\n",
        "         'learning_rate': 0.1, \n",
        "         'num_iterations': 1000,\n",
        "         'num_leaves': 100,\n",
        "         'max_depth': -1,\n",
        "         'min_data_in_leaf': 15,\n",
        "         'bagging_fraction':0.9,\n",
        "         'bagging_freq': 1,\n",
        "         'feature_fraction': 0.7,\n",
        "         'lambda_l2': 0.8,\n",
        "         'min_data_per_group': 75,\n",
        "         'max_bin': 255,\n",
        "         'is_unbalance':False\n",
        "         }\n",
        "\n",
        "clf = lgb.train(params=param, \n",
        "                early_stopping_rounds=200,\n",
        "                verbose_eval=100,\n",
        "                train_set=train_data,\n",
        "                valid_sets=[test_data])\n",
        "\n",
        "y_pred = clf.predict(X_cv)"
      ],
      "execution_count": null,
      "outputs": [
        {
          "output_type": "stream",
          "text": [
            "/usr/local/lib/python3.6/dist-packages/lightgbm/engine.py:118: UserWarning: Found `num_iterations` in params. Will use it instead of argument\n",
            "  warnings.warn(\"Found `{}` in params. Will use it instead of argument\".format(alias))\n"
          ],
          "name": "stderr"
        },
        {
          "output_type": "stream",
          "text": [
            "Training until validation scores don't improve for 200 rounds.\n",
            "[100]\tvalid_0's multi_logloss: 0.382083\n",
            "[200]\tvalid_0's multi_logloss: 0.352242\n",
            "[300]\tvalid_0's multi_logloss: 0.344192\n",
            "[400]\tvalid_0's multi_logloss: 0.342494\n",
            "[500]\tvalid_0's multi_logloss: 0.344052\n",
            "Early stopping, best iteration is:\n",
            "[377]\tvalid_0's multi_logloss: 0.342094\n"
          ],
          "name": "stdout"
        }
      ]
    },
    {
      "cell_type": "code",
      "metadata": {
        "id": "fU4bSz12043x",
        "colab_type": "code",
        "colab": {}
      },
      "source": [
        "Xtest = test_df"
      ],
      "execution_count": null,
      "outputs": []
    },
    {
      "cell_type": "code",
      "metadata": {
        "id": "Xexncw8G3rXO",
        "colab_type": "code",
        "colab": {
          "base_uri": "https://localhost:8080/",
          "height": 1000
        },
        "outputId": "a1b67b7d-39be-4759-9e53-4620612920fe"
      },
      "source": [
        "from sklearn.model_selection import KFold, StratifiedKFold\n",
        "\n",
        "errlgb = []\n",
        "y_pred_totlgb = []\n",
        "\n",
        "fold = StratifiedKFold(n_splits=10, shuffle=False, random_state=123456789)\n",
        "\n",
        "for train_index, test_index in fold.split(X, y):\n",
        "    \n",
        "    X_train, X_test = X.loc[train_index], X.loc[test_index]\n",
        "    y_train, y_test = y[train_index], y[test_index]\n",
        "    \n",
        "    train_data = lgb.Dataset(X_train, label=y_train)\n",
        "    test_data = lgb.Dataset(X_test, label=y_test)\n",
        "    param = {'objective': 'multiclass',\n",
        "         'num_class': 7,\n",
        "         'boosting': 'gbdt',  \n",
        "         'metric': 'multi_logloss',\n",
        "         'learning_rate': 0.2, \n",
        "         'num_iterations': 2000,\n",
        "         'num_leaves': 100,\n",
        "         'max_depth': -1,\n",
        "         'min_data_in_leaf': 15,\n",
        "         'bagging_fraction':0.9,\n",
        "         'bagging_freq': 1,\n",
        "         'feature_fraction': 0.7,\n",
        "         'lambda_l2': 0.8,\n",
        "         'min_data_per_group': 75,\n",
        "         'max_bin': 255,\n",
        "         'is_unbalance':False\n",
        "         }\n",
        "    clf = lgb.train(params=param,\n",
        "                     early_stopping_rounds=200,\n",
        "                     verbose_eval=100,\n",
        "                     train_set=train_data,\n",
        "                     valid_sets=[test_data])\n",
        "\n",
        "    y_pred = clf.predict(X_test)\n",
        "    print(\"Log Loss: \", (log_loss(y_test, y_pred)))\n",
        "    \n",
        "    errlgb.append(log_loss(y_test, y_pred))\n",
        "    p = clf.predict(Xtest)\n",
        "    y_pred_totlgb.append(p)"
      ],
      "execution_count": null,
      "outputs": [
        {
          "output_type": "stream",
          "text": [
            "/usr/local/lib/python3.6/dist-packages/lightgbm/engine.py:118: UserWarning: Found `num_iterations` in params. Will use it instead of argument\n",
            "  warnings.warn(\"Found `{}` in params. Will use it instead of argument\".format(alias))\n"
          ],
          "name": "stderr"
        },
        {
          "output_type": "stream",
          "text": [
            "Training until validation scores don't improve for 200 rounds.\n",
            "[100]\tvalid_0's multi_logloss: 0.360856\n",
            "[200]\tvalid_0's multi_logloss: 0.355143\n",
            "[300]\tvalid_0's multi_logloss: 0.360208\n",
            "Early stopping, best iteration is:\n",
            "[179]\tvalid_0's multi_logloss: 0.354274\n",
            "Log Loss:  0.3542738856131831\n"
          ],
          "name": "stdout"
        },
        {
          "output_type": "stream",
          "text": [
            "/usr/local/lib/python3.6/dist-packages/lightgbm/engine.py:118: UserWarning: Found `num_iterations` in params. Will use it instead of argument\n",
            "  warnings.warn(\"Found `{}` in params. Will use it instead of argument\".format(alias))\n"
          ],
          "name": "stderr"
        },
        {
          "output_type": "stream",
          "text": [
            "Training until validation scores don't improve for 200 rounds.\n",
            "[100]\tvalid_0's multi_logloss: 0.370553\n",
            "[200]\tvalid_0's multi_logloss: 0.364732\n",
            "[300]\tvalid_0's multi_logloss: 0.3739\n",
            "Early stopping, best iteration is:\n",
            "[161]\tvalid_0's multi_logloss: 0.362759\n",
            "Log Loss:  0.3627586432361691\n"
          ],
          "name": "stdout"
        },
        {
          "output_type": "stream",
          "text": [
            "/usr/local/lib/python3.6/dist-packages/lightgbm/engine.py:118: UserWarning: Found `num_iterations` in params. Will use it instead of argument\n",
            "  warnings.warn(\"Found `{}` in params. Will use it instead of argument\".format(alias))\n"
          ],
          "name": "stderr"
        },
        {
          "output_type": "stream",
          "text": [
            "Training until validation scores don't improve for 200 rounds.\n",
            "[100]\tvalid_0's multi_logloss: 0.37959\n",
            "[200]\tvalid_0's multi_logloss: 0.368946\n",
            "[300]\tvalid_0's multi_logloss: 0.375063\n",
            "Early stopping, best iteration is:\n",
            "[175]\tvalid_0's multi_logloss: 0.367922\n",
            "Log Loss:  0.3679223446843055\n"
          ],
          "name": "stdout"
        },
        {
          "output_type": "stream",
          "text": [
            "/usr/local/lib/python3.6/dist-packages/lightgbm/engine.py:118: UserWarning: Found `num_iterations` in params. Will use it instead of argument\n",
            "  warnings.warn(\"Found `{}` in params. Will use it instead of argument\".format(alias))\n"
          ],
          "name": "stderr"
        },
        {
          "output_type": "stream",
          "text": [
            "Training until validation scores don't improve for 200 rounds.\n",
            "[100]\tvalid_0's multi_logloss: 0.369317\n",
            "[200]\tvalid_0's multi_logloss: 0.367394\n",
            "[300]\tvalid_0's multi_logloss: 0.378819\n",
            "Early stopping, best iteration is:\n",
            "[145]\tvalid_0's multi_logloss: 0.363213\n",
            "Log Loss:  0.3632131070721014\n"
          ],
          "name": "stdout"
        },
        {
          "output_type": "stream",
          "text": [
            "/usr/local/lib/python3.6/dist-packages/lightgbm/engine.py:118: UserWarning: Found `num_iterations` in params. Will use it instead of argument\n",
            "  warnings.warn(\"Found `{}` in params. Will use it instead of argument\".format(alias))\n"
          ],
          "name": "stderr"
        },
        {
          "output_type": "stream",
          "text": [
            "Training until validation scores don't improve for 200 rounds.\n",
            "[100]\tvalid_0's multi_logloss: 0.344395\n",
            "[200]\tvalid_0's multi_logloss: 0.333227\n",
            "[300]\tvalid_0's multi_logloss: 0.337657\n",
            "[400]\tvalid_0's multi_logloss: 0.346531\n",
            "Early stopping, best iteration is:\n",
            "[236]\tvalid_0's multi_logloss: 0.332736\n",
            "Log Loss:  0.3327360816095151\n"
          ],
          "name": "stdout"
        },
        {
          "output_type": "stream",
          "text": [
            "/usr/local/lib/python3.6/dist-packages/lightgbm/engine.py:118: UserWarning: Found `num_iterations` in params. Will use it instead of argument\n",
            "  warnings.warn(\"Found `{}` in params. Will use it instead of argument\".format(alias))\n"
          ],
          "name": "stderr"
        },
        {
          "output_type": "stream",
          "text": [
            "Training until validation scores don't improve for 200 rounds.\n",
            "[100]\tvalid_0's multi_logloss: 0.383333\n",
            "[200]\tvalid_0's multi_logloss: 0.384229\n",
            "[300]\tvalid_0's multi_logloss: 0.396339\n",
            "Early stopping, best iteration is:\n",
            "[130]\tvalid_0's multi_logloss: 0.379021\n",
            "Log Loss:  0.3790212593651385\n"
          ],
          "name": "stdout"
        },
        {
          "output_type": "stream",
          "text": [
            "/usr/local/lib/python3.6/dist-packages/lightgbm/engine.py:118: UserWarning: Found `num_iterations` in params. Will use it instead of argument\n",
            "  warnings.warn(\"Found `{}` in params. Will use it instead of argument\".format(alias))\n"
          ],
          "name": "stderr"
        },
        {
          "output_type": "stream",
          "text": [
            "Training until validation scores don't improve for 200 rounds.\n",
            "[100]\tvalid_0's multi_logloss: 0.366574\n",
            "[200]\tvalid_0's multi_logloss: 0.36109\n",
            "[300]\tvalid_0's multi_logloss: 0.370351\n",
            "Early stopping, best iteration is:\n",
            "[189]\tvalid_0's multi_logloss: 0.360387\n",
            "Log Loss:  0.36038676273939696\n"
          ],
          "name": "stdout"
        },
        {
          "output_type": "stream",
          "text": [
            "/usr/local/lib/python3.6/dist-packages/lightgbm/engine.py:118: UserWarning: Found `num_iterations` in params. Will use it instead of argument\n",
            "  warnings.warn(\"Found `{}` in params. Will use it instead of argument\".format(alias))\n"
          ],
          "name": "stderr"
        },
        {
          "output_type": "stream",
          "text": [
            "Training until validation scores don't improve for 200 rounds.\n",
            "[100]\tvalid_0's multi_logloss: 0.36976\n",
            "[200]\tvalid_0's multi_logloss: 0.367393\n",
            "[300]\tvalid_0's multi_logloss: 0.374713\n",
            "Early stopping, best iteration is:\n",
            "[144]\tvalid_0's multi_logloss: 0.365196\n",
            "Log Loss:  0.36519566596761166\n"
          ],
          "name": "stdout"
        },
        {
          "output_type": "stream",
          "text": [
            "/usr/local/lib/python3.6/dist-packages/lightgbm/engine.py:118: UserWarning: Found `num_iterations` in params. Will use it instead of argument\n",
            "  warnings.warn(\"Found `{}` in params. Will use it instead of argument\".format(alias))\n"
          ],
          "name": "stderr"
        },
        {
          "output_type": "stream",
          "text": [
            "Training until validation scores don't improve for 200 rounds.\n",
            "[100]\tvalid_0's multi_logloss: 0.367311\n",
            "[200]\tvalid_0's multi_logloss: 0.358931\n",
            "[300]\tvalid_0's multi_logloss: 0.365167\n",
            "Early stopping, best iteration is:\n",
            "[193]\tvalid_0's multi_logloss: 0.357996\n",
            "Log Loss:  0.3579964653963673\n"
          ],
          "name": "stdout"
        },
        {
          "output_type": "stream",
          "text": [
            "/usr/local/lib/python3.6/dist-packages/lightgbm/engine.py:118: UserWarning: Found `num_iterations` in params. Will use it instead of argument\n",
            "  warnings.warn(\"Found `{}` in params. Will use it instead of argument\".format(alias))\n"
          ],
          "name": "stderr"
        },
        {
          "output_type": "stream",
          "text": [
            "Training until validation scores don't improve for 200 rounds.\n",
            "[100]\tvalid_0's multi_logloss: 0.350391\n",
            "[200]\tvalid_0's multi_logloss: 0.341252\n",
            "[300]\tvalid_0's multi_logloss: 0.345097\n",
            "Early stopping, best iteration is:\n",
            "[177]\tvalid_0's multi_logloss: 0.338941\n",
            "Log Loss:  0.33894116520707956\n"
          ],
          "name": "stdout"
        }
      ]
    },
    {
      "cell_type": "code",
      "metadata": {
        "id": "ZVeNbrCM3vRv",
        "colab_type": "code",
        "colab": {
          "base_uri": "https://localhost:8080/",
          "height": 33
        },
        "outputId": "2d27dd24-1841-4482-fce2-286ccc79ebd9"
      },
      "source": [
        "np.mean(errlgb,0)"
      ],
      "execution_count": null,
      "outputs": [
        {
          "output_type": "execute_result",
          "data": {
            "text/plain": [
              "0.3582445380890868"
            ]
          },
          "metadata": {
            "tags": []
          },
          "execution_count": 21
        }
      ]
    },
    {
      "cell_type": "code",
      "metadata": {
        "id": "g8-oJdnS_M0H",
        "colab_type": "code",
        "colab": {
          "base_uri": "https://localhost:8080/",
          "height": 33
        },
        "outputId": "83fc7d5a-5377-4508-ca9f-b81e478ac146"
      },
      "source": [
        "\n",
        "sub.columns"
      ],
      "execution_count": null,
      "outputs": [
        {
          "output_type": "execute_result",
          "data": {
            "text/plain": [
              "Index(['1.0', '2.0', '3.0', '4.0', '5.0', '6.0', '7.0'], dtype='object')"
            ]
          },
          "metadata": {
            "tags": []
          },
          "execution_count": 22
        }
      ]
    },
    {
      "cell_type": "code",
      "metadata": {
        "id": "Wl-DzupM_Pey",
        "colab_type": "code",
        "colab": {}
      },
      "source": [
        "y_pred = np.mean(y_pred_totlgb,0)"
      ],
      "execution_count": null,
      "outputs": []
    },
    {
      "cell_type": "code",
      "metadata": {
        "id": "b9hcKQrQ_SJS",
        "colab_type": "code",
        "colab": {
          "base_uri": "https://localhost:8080/",
          "height": 190
        },
        "outputId": "db9ceaf4-d491-4e8f-bc26-039fc0451ec9"
      },
      "source": [
        "\n",
        "submission = pd.DataFrame(data=y_pred, columns=sub.columns)\n",
        "submission.head()"
      ],
      "execution_count": null,
      "outputs": [
        {
          "output_type": "execute_result",
          "data": {
            "text/html": [
              "<div>\n",
              "<style scoped>\n",
              "    .dataframe tbody tr th:only-of-type {\n",
              "        vertical-align: middle;\n",
              "    }\n",
              "\n",
              "    .dataframe tbody tr th {\n",
              "        vertical-align: top;\n",
              "    }\n",
              "\n",
              "    .dataframe thead th {\n",
              "        text-align: right;\n",
              "    }\n",
              "</style>\n",
              "<table border=\"1\" class=\"dataframe\">\n",
              "  <thead>\n",
              "    <tr style=\"text-align: right;\">\n",
              "      <th></th>\n",
              "      <th>1.0</th>\n",
              "      <th>2.0</th>\n",
              "      <th>3.0</th>\n",
              "      <th>4.0</th>\n",
              "      <th>5.0</th>\n",
              "      <th>6.0</th>\n",
              "      <th>7.0</th>\n",
              "    </tr>\n",
              "  </thead>\n",
              "  <tbody>\n",
              "    <tr>\n",
              "      <th>0</th>\n",
              "      <td>0.000001</td>\n",
              "      <td>2.155995e-05</td>\n",
              "      <td>1.747098e-06</td>\n",
              "      <td>4.176026e-07</td>\n",
              "      <td>0.995092</td>\n",
              "      <td>7.413459e-06</td>\n",
              "      <td>0.004876</td>\n",
              "    </tr>\n",
              "    <tr>\n",
              "      <th>1</th>\n",
              "      <td>0.992304</td>\n",
              "      <td>3.021152e-07</td>\n",
              "      <td>1.099096e-07</td>\n",
              "      <td>7.889115e-08</td>\n",
              "      <td>0.000017</td>\n",
              "      <td>2.096399e-07</td>\n",
              "      <td>0.007678</td>\n",
              "    </tr>\n",
              "    <tr>\n",
              "      <th>2</th>\n",
              "      <td>0.000009</td>\n",
              "      <td>5.284573e-04</td>\n",
              "      <td>1.265759e-04</td>\n",
              "      <td>1.492328e-06</td>\n",
              "      <td>0.994459</td>\n",
              "      <td>1.885105e-03</td>\n",
              "      <td>0.002991</td>\n",
              "    </tr>\n",
              "    <tr>\n",
              "      <th>3</th>\n",
              "      <td>0.000016</td>\n",
              "      <td>1.076327e-03</td>\n",
              "      <td>2.287815e-06</td>\n",
              "      <td>1.401277e-06</td>\n",
              "      <td>0.981322</td>\n",
              "      <td>3.569652e-05</td>\n",
              "      <td>0.017546</td>\n",
              "    </tr>\n",
              "    <tr>\n",
              "      <th>4</th>\n",
              "      <td>0.000016</td>\n",
              "      <td>6.776055e-05</td>\n",
              "      <td>4.336966e-05</td>\n",
              "      <td>3.035451e-06</td>\n",
              "      <td>0.249376</td>\n",
              "      <td>6.225514e-05</td>\n",
              "      <td>0.750431</td>\n",
              "    </tr>\n",
              "  </tbody>\n",
              "</table>\n",
              "</div>"
            ],
            "text/plain": [
              "        1.0           2.0           3.0  ...       5.0           6.0       7.0\n",
              "0  0.000001  2.155995e-05  1.747098e-06  ...  0.995092  7.413459e-06  0.004876\n",
              "1  0.992304  3.021152e-07  1.099096e-07  ...  0.000017  2.096399e-07  0.007678\n",
              "2  0.000009  5.284573e-04  1.265759e-04  ...  0.994459  1.885105e-03  0.002991\n",
              "3  0.000016  1.076327e-03  2.287815e-06  ...  0.981322  3.569652e-05  0.017546\n",
              "4  0.000016  6.776055e-05  4.336966e-05  ...  0.249376  6.225514e-05  0.750431\n",
              "\n",
              "[5 rows x 7 columns]"
            ]
          },
          "metadata": {
            "tags": []
          },
          "execution_count": 24
        }
      ]
    },
    {
      "cell_type": "code",
      "metadata": {
        "id": "1CIHvNet_UCm",
        "colab_type": "code",
        "colab": {}
      },
      "source": [
        "\n",
        "submission.to_csv('final.csv', index=False)"
      ],
      "execution_count": null,
      "outputs": []
    },
    {
      "cell_type": "code",
      "metadata": {
        "id": "8O0sE0i7_XNA",
        "colab_type": "code",
        "colab": {
          "base_uri": "https://localhost:8080/",
          "height": 16
        },
        "outputId": "1cecae18-caf6-46fb-d1be-e88c210d2a3f"
      },
      "source": [
        "\n",
        "from google.colab import files\n",
        "files.download('final.csv')"
      ],
      "execution_count": null,
      "outputs": [
        {
          "output_type": "display_data",
          "data": {
            "application/javascript": [
              "\n",
              "    async function download(id, filename, size) {\n",
              "      if (!google.colab.kernel.accessAllowed) {\n",
              "        return;\n",
              "      }\n",
              "      const div = document.createElement('div');\n",
              "      const label = document.createElement('label');\n",
              "      label.textContent = `Downloading \"${filename}\": `;\n",
              "      div.appendChild(label);\n",
              "      const progress = document.createElement('progress');\n",
              "      progress.max = size;\n",
              "      div.appendChild(progress);\n",
              "      document.body.appendChild(div);\n",
              "\n",
              "      const buffers = [];\n",
              "      let downloaded = 0;\n",
              "\n",
              "      const channel = await google.colab.kernel.comms.open(id);\n",
              "      // Send a message to notify the kernel that we're ready.\n",
              "      channel.send({})\n",
              "\n",
              "      for await (const message of channel.messages) {\n",
              "        // Send a message to notify the kernel that we're ready.\n",
              "        channel.send({})\n",
              "        if (message.buffers) {\n",
              "          for (const buffer of message.buffers) {\n",
              "            buffers.push(buffer);\n",
              "            downloaded += buffer.byteLength;\n",
              "            progress.value = downloaded;\n",
              "          }\n",
              "        }\n",
              "      }\n",
              "      const blob = new Blob(buffers, {type: 'application/binary'});\n",
              "      const a = document.createElement('a');\n",
              "      a.href = window.URL.createObjectURL(blob);\n",
              "      a.download = filename;\n",
              "      div.appendChild(a);\n",
              "      a.click();\n",
              "      div.remove();\n",
              "    }\n",
              "  "
            ],
            "text/plain": [
              "<IPython.core.display.Javascript object>"
            ]
          },
          "metadata": {
            "tags": []
          }
        },
        {
          "output_type": "display_data",
          "data": {
            "application/javascript": [
              "download(\"download_04940d89-61a4-4be0-a456-c05d37d0618c\", \"final.csv\", 83194731)"
            ],
            "text/plain": [
              "<IPython.core.display.Javascript object>"
            ]
          },
          "metadata": {
            "tags": []
          }
        }
      ]
    }
  ]
}