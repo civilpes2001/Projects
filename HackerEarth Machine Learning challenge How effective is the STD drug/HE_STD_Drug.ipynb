{
  "nbformat": 4,
  "nbformat_minor": 0,
  "metadata": {
    "colab": {
      "name": "HE-STD_Drug.ipynb",
      "provenance": [],
      "collapsed_sections": []
    },
    "kernelspec": {
      "name": "python3",
      "display_name": "Python 3"
    }
  },
  "cells": [
    {
      "cell_type": "code",
      "metadata": {
        "id": "kVROxQ8tmEkl",
        "colab_type": "code",
        "outputId": "4b25dfa1-5cde-4fb1-9183-6803ee2c87de",
        "colab": {
          "base_uri": "https://localhost:8080/",
          "height": 204
        }
      },
      "source": [
        "!wget https://he-s3.s3.amazonaws.com/media/hackathon/hackerearth-machine-learning-challenge-std-drug-effectiveness/effectiveness-of-std-drugs-cc3e4cc9/916e0d48-7-dataset.zip"
      ],
      "execution_count": 0,
      "outputs": [
        {
          "output_type": "stream",
          "text": [
            "--2020-04-29 10:20:02--  https://he-s3.s3.amazonaws.com/media/hackathon/hackerearth-machine-learning-challenge-std-drug-effectiveness/effectiveness-of-std-drugs-cc3e4cc9/916e0d48-7-dataset.zip\n",
            "Resolving he-s3.s3.amazonaws.com (he-s3.s3.amazonaws.com)... 52.219.32.104\n",
            "Connecting to he-s3.s3.amazonaws.com (he-s3.s3.amazonaws.com)|52.219.32.104|:443... connected.\n",
            "HTTP request sent, awaiting response... 200 OK\n",
            "Length: 8715767 (8.3M) [application/zip]\n",
            "Saving to: ‘916e0d48-7-dataset.zip’\n",
            "\n",
            "\r916e0d48-7-dataset.   0%[                    ]       0  --.-KB/s               \r916e0d48-7-dataset.   6%[>                   ] 534.55K  2.21MB/s               \r916e0d48-7-dataset.  82%[===============>    ]   6.87M  15.7MB/s               \r916e0d48-7-dataset. 100%[===================>]   8.31M  18.7MB/s    in 0.4s    \n",
            "\n",
            "2020-04-29 10:20:03 (18.7 MB/s) - ‘916e0d48-7-dataset.zip’ saved [8715767/8715767]\n",
            "\n"
          ],
          "name": "stdout"
        }
      ]
    },
    {
      "cell_type": "code",
      "metadata": {
        "id": "QdRSEr_imMMc",
        "colab_type": "code",
        "outputId": "68bd5e34-506d-4b99-cf7d-7fd6aa9d4683",
        "colab": {
          "base_uri": "https://localhost:8080/",
          "height": 85
        }
      },
      "source": [
        "!unzip 916e0d48-7-dataset.zip"
      ],
      "execution_count": 0,
      "outputs": [
        {
          "output_type": "stream",
          "text": [
            "Archive:  916e0d48-7-dataset.zip\n",
            "   creating: dataset/\n",
            "  inflating: dataset/test.csv        \n",
            "  inflating: dataset/train.csv       \n"
          ],
          "name": "stdout"
        }
      ]
    },
    {
      "cell_type": "code",
      "metadata": {
        "id": "DalaQnmCmgYQ",
        "colab_type": "code",
        "outputId": "0f37c4da-5756-4760-b46d-485242541a6f",
        "colab": {
          "base_uri": "https://localhost:8080/",
          "height": 51
        }
      },
      "source": [
        "import pandas as pd\n",
        "import numpy as np\n",
        "import matplotlib.pyplot as plt\n",
        "%matplotlib inline\n",
        "import regex as re\n",
        "import warnings\n",
        "import nltk\n",
        "warnings.filterwarnings('ignore')\n",
        "nltk.download('stopwords')\n",
        "from nltk.corpus import stopwords\n",
        "stopwords = stopwords.words('english')"
      ],
      "execution_count": 0,
      "outputs": [
        {
          "output_type": "stream",
          "text": [
            "[nltk_data] Downloading package stopwords to /root/nltk_data...\n",
            "[nltk_data]   Unzipping corpora/stopwords.zip.\n"
          ],
          "name": "stdout"
        }
      ]
    },
    {
      "cell_type": "code",
      "metadata": {
        "id": "Jvb4Q0Vwmjm3",
        "colab_type": "code",
        "colab": {}
      },
      "source": [
        "train = pd.read_csv('dataset/train.csv')\n",
        "test = pd.read_csv('dataset/test.csv')"
      ],
      "execution_count": 0,
      "outputs": []
    },
    {
      "cell_type": "code",
      "metadata": {
        "id": "GEqtMA8Gml1z",
        "colab_type": "code",
        "outputId": "fe131eab-f872-45f9-c10f-e7c18d9eae18",
        "colab": {
          "base_uri": "https://localhost:8080/",
          "height": 204
        }
      },
      "source": [
        "train.head(5)"
      ],
      "execution_count": 0,
      "outputs": [
        {
          "output_type": "execute_result",
          "data": {
            "text/html": [
              "<div>\n",
              "<style scoped>\n",
              "    .dataframe tbody tr th:only-of-type {\n",
              "        vertical-align: middle;\n",
              "    }\n",
              "\n",
              "    .dataframe tbody tr th {\n",
              "        vertical-align: top;\n",
              "    }\n",
              "\n",
              "    .dataframe thead th {\n",
              "        text-align: right;\n",
              "    }\n",
              "</style>\n",
              "<table border=\"1\" class=\"dataframe\">\n",
              "  <thead>\n",
              "    <tr style=\"text-align: right;\">\n",
              "      <th></th>\n",
              "      <th>patient_id</th>\n",
              "      <th>name_of_drug</th>\n",
              "      <th>use_case_for_drug</th>\n",
              "      <th>review_by_patient</th>\n",
              "      <th>effectiveness_rating</th>\n",
              "      <th>drug_approved_by_UIC</th>\n",
              "      <th>number_of_times_prescribed</th>\n",
              "      <th>base_score</th>\n",
              "    </tr>\n",
              "  </thead>\n",
              "  <tbody>\n",
              "    <tr>\n",
              "      <th>0</th>\n",
              "      <td>206461</td>\n",
              "      <td>Valsartan</td>\n",
              "      <td>Left Ventricular Dysfunction</td>\n",
              "      <td>\"It has no side effect, I take it in combinati...</td>\n",
              "      <td>9</td>\n",
              "      <td>20-May-12</td>\n",
              "      <td>27</td>\n",
              "      <td>8.022969</td>\n",
              "    </tr>\n",
              "    <tr>\n",
              "      <th>1</th>\n",
              "      <td>95260</td>\n",
              "      <td>Guanfacine</td>\n",
              "      <td>ADHD</td>\n",
              "      <td>\"My son is halfway through his fourth week of ...</td>\n",
              "      <td>8</td>\n",
              "      <td>27-Apr-10</td>\n",
              "      <td>192</td>\n",
              "      <td>7.858458</td>\n",
              "    </tr>\n",
              "    <tr>\n",
              "      <th>2</th>\n",
              "      <td>92703</td>\n",
              "      <td>Lybrel</td>\n",
              "      <td>Birth Control</td>\n",
              "      <td>\"I used to take another oral contraceptive, wh...</td>\n",
              "      <td>5</td>\n",
              "      <td>14-Dec-09</td>\n",
              "      <td>17</td>\n",
              "      <td>6.341969</td>\n",
              "    </tr>\n",
              "    <tr>\n",
              "      <th>3</th>\n",
              "      <td>35696</td>\n",
              "      <td>Buprenorphine / naloxone</td>\n",
              "      <td>Opiate Dependence</td>\n",
              "      <td>\"Suboxone has completely turned my life around...</td>\n",
              "      <td>9</td>\n",
              "      <td>27-Nov-16</td>\n",
              "      <td>37</td>\n",
              "      <td>6.590176</td>\n",
              "    </tr>\n",
              "    <tr>\n",
              "      <th>4</th>\n",
              "      <td>155963</td>\n",
              "      <td>Cialis</td>\n",
              "      <td>Benign Prostatic Hyperplasia</td>\n",
              "      <td>\"2nd day on 5mg started to work with rock hard...</td>\n",
              "      <td>2</td>\n",
              "      <td>28-Nov-15</td>\n",
              "      <td>43</td>\n",
              "      <td>6.144782</td>\n",
              "    </tr>\n",
              "  </tbody>\n",
              "</table>\n",
              "</div>"
            ],
            "text/plain": [
              "   patient_id              name_of_drug             use_case_for_drug  \\\n",
              "0      206461                 Valsartan  Left Ventricular Dysfunction   \n",
              "1       95260                Guanfacine                          ADHD   \n",
              "2       92703                    Lybrel                 Birth Control   \n",
              "3       35696  Buprenorphine / naloxone             Opiate Dependence   \n",
              "4      155963                    Cialis  Benign Prostatic Hyperplasia   \n",
              "\n",
              "                                   review_by_patient  effectiveness_rating  \\\n",
              "0  \"It has no side effect, I take it in combinati...                     9   \n",
              "1  \"My son is halfway through his fourth week of ...                     8   \n",
              "2  \"I used to take another oral contraceptive, wh...                     5   \n",
              "3  \"Suboxone has completely turned my life around...                     9   \n",
              "4  \"2nd day on 5mg started to work with rock hard...                     2   \n",
              "\n",
              "  drug_approved_by_UIC  number_of_times_prescribed  base_score  \n",
              "0            20-May-12                          27    8.022969  \n",
              "1            27-Apr-10                         192    7.858458  \n",
              "2            14-Dec-09                          17    6.341969  \n",
              "3            27-Nov-16                          37    6.590176  \n",
              "4            28-Nov-15                          43    6.144782  "
            ]
          },
          "metadata": {
            "tags": []
          },
          "execution_count": 136
        }
      ]
    },
    {
      "cell_type": "code",
      "metadata": {
        "id": "-jLumVaLnz2Z",
        "colab_type": "code",
        "outputId": "a55974c9-f05d-4a1e-f38c-9069650ab11b",
        "colab": {
          "base_uri": "https://localhost:8080/",
          "height": 204
        }
      },
      "source": [
        "test.head(5)"
      ],
      "execution_count": 0,
      "outputs": [
        {
          "output_type": "execute_result",
          "data": {
            "text/html": [
              "<div>\n",
              "<style scoped>\n",
              "    .dataframe tbody tr th:only-of-type {\n",
              "        vertical-align: middle;\n",
              "    }\n",
              "\n",
              "    .dataframe tbody tr th {\n",
              "        vertical-align: top;\n",
              "    }\n",
              "\n",
              "    .dataframe thead th {\n",
              "        text-align: right;\n",
              "    }\n",
              "</style>\n",
              "<table border=\"1\" class=\"dataframe\">\n",
              "  <thead>\n",
              "    <tr style=\"text-align: right;\">\n",
              "      <th></th>\n",
              "      <th>patient_id</th>\n",
              "      <th>name_of_drug</th>\n",
              "      <th>review_by_patient</th>\n",
              "      <th>drug_approved_by_UIC</th>\n",
              "      <th>number_of_times_prescribed</th>\n",
              "      <th>use_case_for_drug</th>\n",
              "      <th>effectiveness_rating</th>\n",
              "    </tr>\n",
              "  </thead>\n",
              "  <tbody>\n",
              "    <tr>\n",
              "      <th>0</th>\n",
              "      <td>163740</td>\n",
              "      <td>Mirtazapine</td>\n",
              "      <td>\"I&amp;#039;ve tried a few antidepressants over th...</td>\n",
              "      <td>28-Feb-12</td>\n",
              "      <td>22</td>\n",
              "      <td>Depression</td>\n",
              "      <td>10</td>\n",
              "    </tr>\n",
              "    <tr>\n",
              "      <th>1</th>\n",
              "      <td>39293</td>\n",
              "      <td>Contrave</td>\n",
              "      <td>\"Contrave combines drugs that were used for al...</td>\n",
              "      <td>5-Mar-17</td>\n",
              "      <td>35</td>\n",
              "      <td>Weight Loss</td>\n",
              "      <td>9</td>\n",
              "    </tr>\n",
              "    <tr>\n",
              "      <th>2</th>\n",
              "      <td>208087</td>\n",
              "      <td>Zyclara</td>\n",
              "      <td>\"4 days in on first 2 weeks.  Using on arms an...</td>\n",
              "      <td>3-Jul-14</td>\n",
              "      <td>13</td>\n",
              "      <td>Keratosis</td>\n",
              "      <td>4</td>\n",
              "    </tr>\n",
              "    <tr>\n",
              "      <th>3</th>\n",
              "      <td>23295</td>\n",
              "      <td>Methadone</td>\n",
              "      <td>\"Ive been on Methadone for over ten years and ...</td>\n",
              "      <td>18-Oct-16</td>\n",
              "      <td>21</td>\n",
              "      <td>Opiate Withdrawal</td>\n",
              "      <td>7</td>\n",
              "    </tr>\n",
              "    <tr>\n",
              "      <th>4</th>\n",
              "      <td>97013</td>\n",
              "      <td>Ambien</td>\n",
              "      <td>\"Ditto on rebound sleepless when discontinued....</td>\n",
              "      <td>13-Jan-15</td>\n",
              "      <td>44</td>\n",
              "      <td>Insomnia</td>\n",
              "      <td>2</td>\n",
              "    </tr>\n",
              "  </tbody>\n",
              "</table>\n",
              "</div>"
            ],
            "text/plain": [
              "   patient_id name_of_drug                                  review_by_patient  \\\n",
              "0      163740  Mirtazapine  \"I&#039;ve tried a few antidepressants over th...   \n",
              "1       39293     Contrave  \"Contrave combines drugs that were used for al...   \n",
              "2      208087      Zyclara  \"4 days in on first 2 weeks.  Using on arms an...   \n",
              "3       23295    Methadone  \"Ive been on Methadone for over ten years and ...   \n",
              "4       97013       Ambien  \"Ditto on rebound sleepless when discontinued....   \n",
              "\n",
              "  drug_approved_by_UIC  number_of_times_prescribed  use_case_for_drug  \\\n",
              "0            28-Feb-12                          22         Depression   \n",
              "1             5-Mar-17                          35        Weight Loss   \n",
              "2             3-Jul-14                          13          Keratosis   \n",
              "3            18-Oct-16                          21  Opiate Withdrawal   \n",
              "4            13-Jan-15                          44           Insomnia   \n",
              "\n",
              "   effectiveness_rating  \n",
              "0                    10  \n",
              "1                     9  \n",
              "2                     4  \n",
              "3                     7  \n",
              "4                     2  "
            ]
          },
          "metadata": {
            "tags": []
          },
          "execution_count": 138
        }
      ]
    },
    {
      "cell_type": "code",
      "metadata": {
        "id": "7RABgEZswv6L",
        "colab_type": "code",
        "colab": {}
      },
      "source": [
        "# Some used imports\n",
        "%matplotlib inline\n",
        "import pandas as pd\n",
        "import numpy as np\n",
        "import os\n",
        "import glob\n",
        "import matplotlib as mpl\n",
        "\n",
        "# Just making the plots look better\n",
        "mpl.style.use('ggplot')\n",
        "mpl.rcParams['figure.figsize'] = (8,6)\n",
        "mpl.rcParams['font.size'] = 12"
      ],
      "execution_count": 0,
      "outputs": []
    },
    {
      "cell_type": "code",
      "metadata": {
        "id": "iVpmqfXqxWtb",
        "colab_type": "code",
        "colab": {}
      },
      "source": [
        "doc=train"
      ],
      "execution_count": 0,
      "outputs": []
    },
    {
      "cell_type": "code",
      "metadata": {
        "id": "KdWHaK_-fJ9H",
        "colab_type": "code",
        "outputId": "d4a9b4e3-e666-47be-d067-245c207a1716",
        "colab": {
          "base_uri": "https://localhost:8080/",
          "height": 33
        }
      },
      "source": [
        "doc.shape"
      ],
      "execution_count": 0,
      "outputs": [
        {
          "output_type": "execute_result",
          "data": {
            "text/plain": [
              "(32165, 8)"
            ]
          },
          "metadata": {
            "tags": []
          },
          "execution_count": 9
        }
      ]
    },
    {
      "cell_type": "code",
      "metadata": {
        "id": "Z58S8FT1w3vT",
        "colab_type": "code",
        "colab": {}
      },
      "source": [
        "doc['words'] = doc.review_by_patient.str.strip().str.split('[\\W_]+')\n",
        "doc.head()"
      ],
      "execution_count": 0,
      "outputs": []
    },
    {
      "cell_type": "code",
      "metadata": {
        "id": "3l-Pmsdhw30o",
        "colab_type": "code",
        "outputId": "f11a4870-44fb-41e2-a697-112f13941c35",
        "colab": {
          "base_uri": "https://localhost:8080/",
          "height": 374
        }
      },
      "source": [
        "rows = list()\n",
        "for row in doc[['patient_id', 'words']].iterrows():\n",
        "    r = row[1]\n",
        "    for word in r.words:\n",
        "        rows.append((r.patient_id, word))\n",
        "\n",
        "words = pd.DataFrame(rows, columns=['patient_id', 'word'])\n",
        "words.head(20)"
      ],
      "execution_count": 0,
      "outputs": [
        {
          "output_type": "error",
          "ename": "KeyboardInterrupt",
          "evalue": "ignored",
          "traceback": [
            "\u001b[0;31m---------------------------------------------------------------------------\u001b[0m",
            "\u001b[0;31mKeyboardInterrupt\u001b[0m                         Traceback (most recent call last)",
            "\u001b[0;32m<ipython-input-11-ac7576341f74>\u001b[0m in \u001b[0;36m<module>\u001b[0;34m()\u001b[0m\n\u001b[1;32m      3\u001b[0m     \u001b[0mr\u001b[0m \u001b[0;34m=\u001b[0m \u001b[0mrow\u001b[0m\u001b[0;34m[\u001b[0m\u001b[0;36m1\u001b[0m\u001b[0;34m]\u001b[0m\u001b[0;34m\u001b[0m\u001b[0;34m\u001b[0m\u001b[0m\n\u001b[1;32m      4\u001b[0m     \u001b[0;32mfor\u001b[0m \u001b[0mword\u001b[0m \u001b[0;32min\u001b[0m \u001b[0mr\u001b[0m\u001b[0;34m.\u001b[0m\u001b[0mwords\u001b[0m\u001b[0;34m:\u001b[0m\u001b[0;34m\u001b[0m\u001b[0;34m\u001b[0m\u001b[0m\n\u001b[0;32m----> 5\u001b[0;31m         \u001b[0mrows\u001b[0m\u001b[0;34m.\u001b[0m\u001b[0mappend\u001b[0m\u001b[0;34m(\u001b[0m\u001b[0;34m(\u001b[0m\u001b[0mr\u001b[0m\u001b[0;34m.\u001b[0m\u001b[0mpatient_id\u001b[0m\u001b[0;34m,\u001b[0m \u001b[0mword\u001b[0m\u001b[0;34m)\u001b[0m\u001b[0;34m)\u001b[0m\u001b[0;34m\u001b[0m\u001b[0;34m\u001b[0m\u001b[0m\n\u001b[0m\u001b[1;32m      6\u001b[0m \u001b[0;34m\u001b[0m\u001b[0m\n\u001b[1;32m      7\u001b[0m \u001b[0mwords\u001b[0m \u001b[0;34m=\u001b[0m \u001b[0mpd\u001b[0m\u001b[0;34m.\u001b[0m\u001b[0mDataFrame\u001b[0m\u001b[0;34m(\u001b[0m\u001b[0mrows\u001b[0m\u001b[0;34m,\u001b[0m \u001b[0mcolumns\u001b[0m\u001b[0;34m=\u001b[0m\u001b[0;34m[\u001b[0m\u001b[0;34m'patient_id'\u001b[0m\u001b[0;34m,\u001b[0m \u001b[0;34m'word'\u001b[0m\u001b[0;34m]\u001b[0m\u001b[0;34m)\u001b[0m\u001b[0;34m\u001b[0m\u001b[0;34m\u001b[0m\u001b[0m\n",
            "\u001b[0;32m/usr/local/lib/python3.6/dist-packages/pandas/core/generic.py\u001b[0m in \u001b[0;36m__getattr__\u001b[0;34m(self, name)\u001b[0m\n\u001b[1;32m   5271\u001b[0m         \u001b[0;32melse\u001b[0m\u001b[0;34m:\u001b[0m\u001b[0;34m\u001b[0m\u001b[0;34m\u001b[0m\u001b[0m\n\u001b[1;32m   5272\u001b[0m             \u001b[0;32mif\u001b[0m \u001b[0mself\u001b[0m\u001b[0;34m.\u001b[0m\u001b[0m_info_axis\u001b[0m\u001b[0;34m.\u001b[0m\u001b[0m_can_hold_identifiers_and_holds_name\u001b[0m\u001b[0;34m(\u001b[0m\u001b[0mname\u001b[0m\u001b[0;34m)\u001b[0m\u001b[0;34m:\u001b[0m\u001b[0;34m\u001b[0m\u001b[0;34m\u001b[0m\u001b[0m\n\u001b[0;32m-> 5273\u001b[0;31m                 \u001b[0;32mreturn\u001b[0m \u001b[0mself\u001b[0m\u001b[0;34m[\u001b[0m\u001b[0mname\u001b[0m\u001b[0;34m]\u001b[0m\u001b[0;34m\u001b[0m\u001b[0;34m\u001b[0m\u001b[0m\n\u001b[0m\u001b[1;32m   5274\u001b[0m             \u001b[0;32mreturn\u001b[0m \u001b[0mobject\u001b[0m\u001b[0;34m.\u001b[0m\u001b[0m__getattribute__\u001b[0m\u001b[0;34m(\u001b[0m\u001b[0mself\u001b[0m\u001b[0;34m,\u001b[0m \u001b[0mname\u001b[0m\u001b[0;34m)\u001b[0m\u001b[0;34m\u001b[0m\u001b[0;34m\u001b[0m\u001b[0m\n\u001b[1;32m   5275\u001b[0m \u001b[0;34m\u001b[0m\u001b[0m\n",
            "\u001b[0;32m/usr/local/lib/python3.6/dist-packages/pandas/core/series.py\u001b[0m in \u001b[0;36m__getitem__\u001b[0;34m(self, key)\u001b[0m\n\u001b[1;32m    869\u001b[0m         \u001b[0mkey\u001b[0m \u001b[0;34m=\u001b[0m \u001b[0mcom\u001b[0m\u001b[0;34m.\u001b[0m\u001b[0mapply_if_callable\u001b[0m\u001b[0;34m(\u001b[0m\u001b[0mkey\u001b[0m\u001b[0;34m,\u001b[0m \u001b[0mself\u001b[0m\u001b[0;34m)\u001b[0m\u001b[0;34m\u001b[0m\u001b[0;34m\u001b[0m\u001b[0m\n\u001b[1;32m    870\u001b[0m         \u001b[0;32mtry\u001b[0m\u001b[0;34m:\u001b[0m\u001b[0;34m\u001b[0m\u001b[0;34m\u001b[0m\u001b[0m\n\u001b[0;32m--> 871\u001b[0;31m             \u001b[0mresult\u001b[0m \u001b[0;34m=\u001b[0m \u001b[0mself\u001b[0m\u001b[0;34m.\u001b[0m\u001b[0mindex\u001b[0m\u001b[0;34m.\u001b[0m\u001b[0mget_value\u001b[0m\u001b[0;34m(\u001b[0m\u001b[0mself\u001b[0m\u001b[0;34m,\u001b[0m \u001b[0mkey\u001b[0m\u001b[0;34m)\u001b[0m\u001b[0;34m\u001b[0m\u001b[0;34m\u001b[0m\u001b[0m\n\u001b[0m\u001b[1;32m    872\u001b[0m \u001b[0;34m\u001b[0m\u001b[0m\n\u001b[1;32m    873\u001b[0m             \u001b[0;32mif\u001b[0m \u001b[0;32mnot\u001b[0m \u001b[0mis_scalar\u001b[0m\u001b[0;34m(\u001b[0m\u001b[0mresult\u001b[0m\u001b[0;34m)\u001b[0m\u001b[0;34m:\u001b[0m\u001b[0;34m\u001b[0m\u001b[0;34m\u001b[0m\u001b[0m\n",
            "\u001b[0;32m/usr/local/lib/python3.6/dist-packages/pandas/core/indexes/base.py\u001b[0m in \u001b[0;36mget_value\u001b[0;34m(self, series, key)\u001b[0m\n\u001b[1;32m   4398\u001b[0m \u001b[0;34m\u001b[0m\u001b[0m\n\u001b[1;32m   4399\u001b[0m         \u001b[0ms\u001b[0m \u001b[0;34m=\u001b[0m \u001b[0mcom\u001b[0m\u001b[0;34m.\u001b[0m\u001b[0mvalues_from_object\u001b[0m\u001b[0;34m(\u001b[0m\u001b[0mseries\u001b[0m\u001b[0;34m)\u001b[0m\u001b[0;34m\u001b[0m\u001b[0;34m\u001b[0m\u001b[0m\n\u001b[0;32m-> 4400\u001b[0;31m         \u001b[0mk\u001b[0m \u001b[0;34m=\u001b[0m \u001b[0mcom\u001b[0m\u001b[0;34m.\u001b[0m\u001b[0mvalues_from_object\u001b[0m\u001b[0;34m(\u001b[0m\u001b[0mkey\u001b[0m\u001b[0;34m)\u001b[0m\u001b[0;34m\u001b[0m\u001b[0;34m\u001b[0m\u001b[0m\n\u001b[0m\u001b[1;32m   4401\u001b[0m \u001b[0;34m\u001b[0m\u001b[0m\n\u001b[1;32m   4402\u001b[0m         \u001b[0mk\u001b[0m \u001b[0;34m=\u001b[0m \u001b[0mself\u001b[0m\u001b[0;34m.\u001b[0m\u001b[0m_convert_scalar_indexer\u001b[0m\u001b[0;34m(\u001b[0m\u001b[0mk\u001b[0m\u001b[0;34m,\u001b[0m \u001b[0mkind\u001b[0m\u001b[0;34m=\u001b[0m\u001b[0;34m\"getitem\"\u001b[0m\u001b[0;34m)\u001b[0m\u001b[0;34m\u001b[0m\u001b[0;34m\u001b[0m\u001b[0m\n",
            "\u001b[0;31mKeyboardInterrupt\u001b[0m: "
          ]
        }
      ]
    },
    {
      "cell_type": "code",
      "metadata": {
        "id": "2g9JAm2lw368",
        "colab_type": "code",
        "colab": {}
      },
      "source": [
        "words = words[words.word.str.len() > 0]\n",
        "words.head(20)"
      ],
      "execution_count": 0,
      "outputs": []
    },
    {
      "cell_type": "code",
      "metadata": {
        "id": "4qqOXGXTw4Aa",
        "colab_type": "code",
        "colab": {}
      },
      "source": [
        "words['word'] = words.word.str.lower()\n",
        "words.head(20)"
      ],
      "execution_count": 0,
      "outputs": []
    },
    {
      "cell_type": "code",
      "metadata": {
        "id": "xHkExsZSw3-r",
        "colab_type": "code",
        "colab": {}
      },
      "source": [
        "counts = words.groupby('patient_id')\\\n",
        "    .word.value_counts()\\\n",
        "    .to_frame()\\\n",
        "    .rename(columns={'word':'n_w'})\n",
        "counts.head()"
      ],
      "execution_count": 0,
      "outputs": []
    },
    {
      "cell_type": "code",
      "metadata": {
        "id": "O07RRnVEw35Z",
        "colab_type": "code",
        "colab": {}
      },
      "source": [
        "word_sum = counts.groupby(level=0)\\\n",
        "    .sum()\\\n",
        "    .rename(columns={'n_w': 'n_d'})\n",
        "word_sum"
      ],
      "execution_count": 0,
      "outputs": []
    },
    {
      "cell_type": "code",
      "metadata": {
        "id": "MdsK_V85w3zp",
        "colab_type": "code",
        "colab": {}
      },
      "source": [
        "tf = counts.join(word_sum)\n",
        "\n",
        "tf['tf'] = tf.n_w/tf.n_d\n",
        "\n",
        "tf.head()"
      ],
      "execution_count": 0,
      "outputs": []
    },
    {
      "cell_type": "code",
      "metadata": {
        "id": "Ypmq2eoPw3uV",
        "colab_type": "code",
        "outputId": "be354e82-6c73-4ed7-f061-c29a23a635d7",
        "colab": {
          "base_uri": "https://localhost:8080/",
          "height": 34
        }
      },
      "source": [
        "c_d = words.patient_id.nunique()\n",
        "c_d"
      ],
      "execution_count": 0,
      "outputs": [
        {
          "output_type": "execute_result",
          "data": {
            "text/plain": [
              "32164"
            ]
          },
          "metadata": {
            "tags": []
          },
          "execution_count": 105
        }
      ]
    },
    {
      "cell_type": "code",
      "metadata": {
        "id": "1uqz95fU1xKs",
        "colab_type": "code",
        "outputId": "27369498-adb1-4f96-9cde-af2640a69247",
        "colab": {
          "base_uri": "https://localhost:8080/",
          "height": 225
        }
      },
      "source": [
        "idf = words.groupby('word')\\\n",
        "    .patient_id\\\n",
        "    .nunique()\\\n",
        "    .to_frame()\\\n",
        "    .rename(columns={'patient_id':'i_d'})\\\n",
        "    .sort_values('i_d')\n",
        "idf.head()"
      ],
      "execution_count": 0,
      "outputs": [
        {
          "output_type": "execute_result",
          "data": {
            "text/html": [
              "<div>\n",
              "<style scoped>\n",
              "    .dataframe tbody tr th:only-of-type {\n",
              "        vertical-align: middle;\n",
              "    }\n",
              "\n",
              "    .dataframe tbody tr th {\n",
              "        vertical-align: top;\n",
              "    }\n",
              "\n",
              "    .dataframe thead th {\n",
              "        text-align: right;\n",
              "    }\n",
              "</style>\n",
              "<table border=\"1\" class=\"dataframe\">\n",
              "  <thead>\n",
              "    <tr style=\"text-align: right;\">\n",
              "      <th></th>\n",
              "      <th>i_d</th>\n",
              "    </tr>\n",
              "    <tr>\n",
              "      <th>word</th>\n",
              "      <th></th>\n",
              "    </tr>\n",
              "  </thead>\n",
              "  <tbody>\n",
              "    <tr>\n",
              "      <th>іt</th>\n",
              "      <td>1</td>\n",
              "    </tr>\n",
              "    <tr>\n",
              "      <th>paw</th>\n",
              "      <td>1</td>\n",
              "    </tr>\n",
              "    <tr>\n",
              "      <th>pavement</th>\n",
              "      <td>1</td>\n",
              "    </tr>\n",
              "    <tr>\n",
              "      <th>pausing</th>\n",
              "      <td>1</td>\n",
              "    </tr>\n",
              "    <tr>\n",
              "      <th>distorts</th>\n",
              "      <td>1</td>\n",
              "    </tr>\n",
              "  </tbody>\n",
              "</table>\n",
              "</div>"
            ],
            "text/plain": [
              "          i_d\n",
              "word         \n",
              "іt          1\n",
              "paw         1\n",
              "pavement    1\n",
              "pausing     1\n",
              "distorts    1"
            ]
          },
          "metadata": {
            "tags": []
          },
          "execution_count": 106
        }
      ]
    },
    {
      "cell_type": "code",
      "metadata": {
        "id": "W911FjmG1xJR",
        "colab_type": "code",
        "outputId": "a68249e4-3d82-4856-b883-a5d24c199532",
        "colab": {
          "base_uri": "https://localhost:8080/",
          "height": 225
        }
      },
      "source": [
        "idf['idf'] = np.log(c_d/idf.i_d.values)\n",
        "\n",
        "idf.head()"
      ],
      "execution_count": 0,
      "outputs": [
        {
          "output_type": "execute_result",
          "data": {
            "text/html": [
              "<div>\n",
              "<style scoped>\n",
              "    .dataframe tbody tr th:only-of-type {\n",
              "        vertical-align: middle;\n",
              "    }\n",
              "\n",
              "    .dataframe tbody tr th {\n",
              "        vertical-align: top;\n",
              "    }\n",
              "\n",
              "    .dataframe thead th {\n",
              "        text-align: right;\n",
              "    }\n",
              "</style>\n",
              "<table border=\"1\" class=\"dataframe\">\n",
              "  <thead>\n",
              "    <tr style=\"text-align: right;\">\n",
              "      <th></th>\n",
              "      <th>i_d</th>\n",
              "      <th>idf</th>\n",
              "    </tr>\n",
              "    <tr>\n",
              "      <th>word</th>\n",
              "      <th></th>\n",
              "      <th></th>\n",
              "    </tr>\n",
              "  </thead>\n",
              "  <tbody>\n",
              "    <tr>\n",
              "      <th>іt</th>\n",
              "      <td>1</td>\n",
              "      <td>10.378603</td>\n",
              "    </tr>\n",
              "    <tr>\n",
              "      <th>paw</th>\n",
              "      <td>1</td>\n",
              "      <td>10.378603</td>\n",
              "    </tr>\n",
              "    <tr>\n",
              "      <th>pavement</th>\n",
              "      <td>1</td>\n",
              "      <td>10.378603</td>\n",
              "    </tr>\n",
              "    <tr>\n",
              "      <th>pausing</th>\n",
              "      <td>1</td>\n",
              "      <td>10.378603</td>\n",
              "    </tr>\n",
              "    <tr>\n",
              "      <th>distorts</th>\n",
              "      <td>1</td>\n",
              "      <td>10.378603</td>\n",
              "    </tr>\n",
              "  </tbody>\n",
              "</table>\n",
              "</div>"
            ],
            "text/plain": [
              "          i_d        idf\n",
              "word                    \n",
              "іt          1  10.378603\n",
              "paw         1  10.378603\n",
              "pavement    1  10.378603\n",
              "pausing     1  10.378603\n",
              "distorts    1  10.378603"
            ]
          },
          "metadata": {
            "tags": []
          },
          "execution_count": 107
        }
      ]
    },
    {
      "cell_type": "code",
      "metadata": {
        "id": "Af_sCF391xGh",
        "colab_type": "code",
        "outputId": "0e251591-94d7-499d-8fae-ada9c1033264",
        "colab": {
          "base_uri": "https://localhost:8080/",
          "height": 225
        }
      },
      "source": [
        "tf_idf = tf.join(idf)\n",
        "\n",
        "tf_idf.head()"
      ],
      "execution_count": 0,
      "outputs": [
        {
          "output_type": "execute_result",
          "data": {
            "text/html": [
              "<div>\n",
              "<style scoped>\n",
              "    .dataframe tbody tr th:only-of-type {\n",
              "        vertical-align: middle;\n",
              "    }\n",
              "\n",
              "    .dataframe tbody tr th {\n",
              "        vertical-align: top;\n",
              "    }\n",
              "\n",
              "    .dataframe thead th {\n",
              "        text-align: right;\n",
              "    }\n",
              "</style>\n",
              "<table border=\"1\" class=\"dataframe\">\n",
              "  <thead>\n",
              "    <tr style=\"text-align: right;\">\n",
              "      <th></th>\n",
              "      <th></th>\n",
              "      <th>n_w</th>\n",
              "      <th>n_d</th>\n",
              "      <th>tf</th>\n",
              "      <th>i_d</th>\n",
              "      <th>idf</th>\n",
              "    </tr>\n",
              "    <tr>\n",
              "      <th>patient_id</th>\n",
              "      <th>word</th>\n",
              "      <th></th>\n",
              "      <th></th>\n",
              "      <th></th>\n",
              "      <th></th>\n",
              "      <th></th>\n",
              "    </tr>\n",
              "  </thead>\n",
              "  <tbody>\n",
              "    <tr>\n",
              "      <th rowspan=\"5\" valign=\"top\">9</th>\n",
              "      <th>039</th>\n",
              "      <td>5</td>\n",
              "      <td>75</td>\n",
              "      <td>0.066667</td>\n",
              "      <td>20044</td>\n",
              "      <td>0.472918</td>\n",
              "    </tr>\n",
              "    <tr>\n",
              "      <th>i</th>\n",
              "      <td>5</td>\n",
              "      <td>75</td>\n",
              "      <td>0.066667</td>\n",
              "      <td>28873</td>\n",
              "      <td>0.107941</td>\n",
              "    </tr>\n",
              "    <tr>\n",
              "      <th>a</th>\n",
              "      <td>3</td>\n",
              "      <td>75</td>\n",
              "      <td>0.040000</td>\n",
              "      <td>23772</td>\n",
              "      <td>0.302339</td>\n",
              "    </tr>\n",
              "    <tr>\n",
              "      <th>and</th>\n",
              "      <td>3</td>\n",
              "      <td>75</td>\n",
              "      <td>0.040000</td>\n",
              "      <td>27344</td>\n",
              "      <td>0.162351</td>\n",
              "    </tr>\n",
              "    <tr>\n",
              "      <th>have</th>\n",
              "      <td>3</td>\n",
              "      <td>75</td>\n",
              "      <td>0.040000</td>\n",
              "      <td>18344</td>\n",
              "      <td>0.561545</td>\n",
              "    </tr>\n",
              "  </tbody>\n",
              "</table>\n",
              "</div>"
            ],
            "text/plain": [
              "                 n_w  n_d        tf    i_d       idf\n",
              "patient_id word                                     \n",
              "9          039     5   75  0.066667  20044  0.472918\n",
              "           i       5   75  0.066667  28873  0.107941\n",
              "           a       3   75  0.040000  23772  0.302339\n",
              "           and     3   75  0.040000  27344  0.162351\n",
              "           have    3   75  0.040000  18344  0.561545"
            ]
          },
          "metadata": {
            "tags": []
          },
          "execution_count": 108
        }
      ]
    },
    {
      "cell_type": "code",
      "metadata": {
        "id": "aKNni43R1xEu",
        "colab_type": "code",
        "outputId": "114b35ee-e7aa-4c22-d5bc-26ee481b378d",
        "colab": {
          "base_uri": "https://localhost:8080/",
          "height": 431
        }
      },
      "source": [
        "tf_idf['tf_idf'] = tf_idf.tf * tf_idf.idf\n",
        "tf_idf.head(100)"
      ],
      "execution_count": 0,
      "outputs": [
        {
          "output_type": "execute_result",
          "data": {
            "text/html": [
              "<div>\n",
              "<style scoped>\n",
              "    .dataframe tbody tr th:only-of-type {\n",
              "        vertical-align: middle;\n",
              "    }\n",
              "\n",
              "    .dataframe tbody tr th {\n",
              "        vertical-align: top;\n",
              "    }\n",
              "\n",
              "    .dataframe thead th {\n",
              "        text-align: right;\n",
              "    }\n",
              "</style>\n",
              "<table border=\"1\" class=\"dataframe\">\n",
              "  <thead>\n",
              "    <tr style=\"text-align: right;\">\n",
              "      <th></th>\n",
              "      <th></th>\n",
              "      <th>n_w</th>\n",
              "      <th>n_d</th>\n",
              "      <th>tf</th>\n",
              "      <th>i_d</th>\n",
              "      <th>idf</th>\n",
              "      <th>tf_idf</th>\n",
              "    </tr>\n",
              "    <tr>\n",
              "      <th>patient_id</th>\n",
              "      <th>word</th>\n",
              "      <th></th>\n",
              "      <th></th>\n",
              "      <th></th>\n",
              "      <th></th>\n",
              "      <th></th>\n",
              "      <th></th>\n",
              "    </tr>\n",
              "  </thead>\n",
              "  <tbody>\n",
              "    <tr>\n",
              "      <th rowspan=\"5\" valign=\"top\">9</th>\n",
              "      <th>039</th>\n",
              "      <td>5</td>\n",
              "      <td>75</td>\n",
              "      <td>0.066667</td>\n",
              "      <td>20044</td>\n",
              "      <td>0.472918</td>\n",
              "      <td>0.031528</td>\n",
              "    </tr>\n",
              "    <tr>\n",
              "      <th>i</th>\n",
              "      <td>5</td>\n",
              "      <td>75</td>\n",
              "      <td>0.066667</td>\n",
              "      <td>28873</td>\n",
              "      <td>0.107941</td>\n",
              "      <td>0.007196</td>\n",
              "    </tr>\n",
              "    <tr>\n",
              "      <th>a</th>\n",
              "      <td>3</td>\n",
              "      <td>75</td>\n",
              "      <td>0.040000</td>\n",
              "      <td>23772</td>\n",
              "      <td>0.302339</td>\n",
              "      <td>0.012094</td>\n",
              "    </tr>\n",
              "    <tr>\n",
              "      <th>and</th>\n",
              "      <td>3</td>\n",
              "      <td>75</td>\n",
              "      <td>0.040000</td>\n",
              "      <td>27344</td>\n",
              "      <td>0.162351</td>\n",
              "      <td>0.006494</td>\n",
              "    </tr>\n",
              "    <tr>\n",
              "      <th>have</th>\n",
              "      <td>3</td>\n",
              "      <td>75</td>\n",
              "      <td>0.040000</td>\n",
              "      <td>18344</td>\n",
              "      <td>0.561545</td>\n",
              "      <td>0.022462</td>\n",
              "    </tr>\n",
              "    <tr>\n",
              "      <th>...</th>\n",
              "      <th>...</th>\n",
              "      <td>...</td>\n",
              "      <td>...</td>\n",
              "      <td>...</td>\n",
              "      <td>...</td>\n",
              "      <td>...</td>\n",
              "      <td>...</td>\n",
              "    </tr>\n",
              "    <tr>\n",
              "      <th rowspan=\"5\" valign=\"top\">12</th>\n",
              "      <th>had</th>\n",
              "      <td>1</td>\n",
              "      <td>104</td>\n",
              "      <td>0.009615</td>\n",
              "      <td>14223</td>\n",
              "      <td>0.815987</td>\n",
              "      <td>0.007846</td>\n",
              "    </tr>\n",
              "    <tr>\n",
              "      <th>hard</th>\n",
              "      <td>1</td>\n",
              "      <td>104</td>\n",
              "      <td>0.009615</td>\n",
              "      <td>978</td>\n",
              "      <td>3.493093</td>\n",
              "      <td>0.033587</td>\n",
              "    </tr>\n",
              "    <tr>\n",
              "      <th>having</th>\n",
              "      <td>1</td>\n",
              "      <td>104</td>\n",
              "      <td>0.009615</td>\n",
              "      <td>3263</td>\n",
              "      <td>2.288201</td>\n",
              "      <td>0.022002</td>\n",
              "    </tr>\n",
              "    <tr>\n",
              "      <th>insane</th>\n",
              "      <td>1</td>\n",
              "      <td>104</td>\n",
              "      <td>0.009615</td>\n",
              "      <td>145</td>\n",
              "      <td>5.401869</td>\n",
              "      <td>0.051941</td>\n",
              "    </tr>\n",
              "    <tr>\n",
              "      <th>is</th>\n",
              "      <td>1</td>\n",
              "      <td>104</td>\n",
              "      <td>0.009615</td>\n",
              "      <td>14503</td>\n",
              "      <td>0.796492</td>\n",
              "      <td>0.007659</td>\n",
              "    </tr>\n",
              "  </tbody>\n",
              "</table>\n",
              "<p>100 rows × 6 columns</p>\n",
              "</div>"
            ],
            "text/plain": [
              "                   n_w  n_d        tf    i_d       idf    tf_idf\n",
              "patient_id word                                                 \n",
              "9          039       5   75  0.066667  20044  0.472918  0.031528\n",
              "           i         5   75  0.066667  28873  0.107941  0.007196\n",
              "           a         3   75  0.040000  23772  0.302339  0.012094\n",
              "           and       3   75  0.040000  27344  0.162351  0.006494\n",
              "           have      3   75  0.040000  18344  0.561545  0.022462\n",
              "...                ...  ...       ...    ...       ...       ...\n",
              "12         had       1  104  0.009615  14223  0.815987  0.007846\n",
              "           hard      1  104  0.009615    978  3.493093  0.033587\n",
              "           having    1  104  0.009615   3263  2.288201  0.022002\n",
              "           insane    1  104  0.009615    145  5.401869  0.051941\n",
              "           is        1  104  0.009615  14503  0.796492  0.007659\n",
              "\n",
              "[100 rows x 6 columns]"
            ]
          },
          "metadata": {
            "tags": []
          },
          "execution_count": 109
        }
      ]
    },
    {
      "cell_type": "code",
      "metadata": {
        "id": "OMx47e4O2FGz",
        "colab_type": "code",
        "outputId": "5bb236f8-6b29-472d-c1af-2a461ee05318",
        "colab": {
          "base_uri": "https://localhost:8080/",
          "height": 431
        }
      },
      "source": [
        "g = tf_idf.groupby(level=0)\\\n",
        "    .mean()\\\n",
        "    .rename(columns={'n_w': 'word'})\n",
        "g"
      ],
      "execution_count": 0,
      "outputs": [
        {
          "output_type": "execute_result",
          "data": {
            "text/html": [
              "<div>\n",
              "<style scoped>\n",
              "    .dataframe tbody tr th:only-of-type {\n",
              "        vertical-align: middle;\n",
              "    }\n",
              "\n",
              "    .dataframe tbody tr th {\n",
              "        vertical-align: top;\n",
              "    }\n",
              "\n",
              "    .dataframe thead th {\n",
              "        text-align: right;\n",
              "    }\n",
              "</style>\n",
              "<table border=\"1\" class=\"dataframe\">\n",
              "  <thead>\n",
              "    <tr style=\"text-align: right;\">\n",
              "      <th></th>\n",
              "      <th>word</th>\n",
              "      <th>n_d</th>\n",
              "      <th>tf</th>\n",
              "      <th>i_d</th>\n",
              "      <th>idf</th>\n",
              "      <th>tf_idf</th>\n",
              "    </tr>\n",
              "    <tr>\n",
              "      <th>patient_id</th>\n",
              "      <th></th>\n",
              "      <th></th>\n",
              "      <th></th>\n",
              "      <th></th>\n",
              "      <th></th>\n",
              "      <th></th>\n",
              "    </tr>\n",
              "  </thead>\n",
              "  <tbody>\n",
              "    <tr>\n",
              "      <th>9</th>\n",
              "      <td>1.363636</td>\n",
              "      <td>75.0</td>\n",
              "      <td>0.018182</td>\n",
              "      <td>7315.545455</td>\n",
              "      <td>2.618031</td>\n",
              "      <td>0.037531</td>\n",
              "    </tr>\n",
              "    <tr>\n",
              "      <th>12</th>\n",
              "      <td>1.350649</td>\n",
              "      <td>104.0</td>\n",
              "      <td>0.012987</td>\n",
              "      <td>7236.883117</td>\n",
              "      <td>2.628609</td>\n",
              "      <td>0.027870</td>\n",
              "    </tr>\n",
              "    <tr>\n",
              "      <th>42</th>\n",
              "      <td>1.404762</td>\n",
              "      <td>118.0</td>\n",
              "      <td>0.011905</td>\n",
              "      <td>6829.297619</td>\n",
              "      <td>2.521613</td>\n",
              "      <td>0.022878</td>\n",
              "    </tr>\n",
              "    <tr>\n",
              "      <th>44</th>\n",
              "      <td>1.630000</td>\n",
              "      <td>163.0</td>\n",
              "      <td>0.010000</td>\n",
              "      <td>5544.440000</td>\n",
              "      <td>3.145691</td>\n",
              "      <td>0.022812</td>\n",
              "    </tr>\n",
              "    <tr>\n",
              "      <th>45</th>\n",
              "      <td>1.104167</td>\n",
              "      <td>53.0</td>\n",
              "      <td>0.020833</td>\n",
              "      <td>6374.125000</td>\n",
              "      <td>2.905580</td>\n",
              "      <td>0.056037</td>\n",
              "    </tr>\n",
              "    <tr>\n",
              "      <th>...</th>\n",
              "      <td>...</td>\n",
              "      <td>...</td>\n",
              "      <td>...</td>\n",
              "      <td>...</td>\n",
              "      <td>...</td>\n",
              "      <td>...</td>\n",
              "    </tr>\n",
              "    <tr>\n",
              "      <th>232275</th>\n",
              "      <td>1.432990</td>\n",
              "      <td>139.0</td>\n",
              "      <td>0.010309</td>\n",
              "      <td>5853.278351</td>\n",
              "      <td>3.039165</td>\n",
              "      <td>0.025270</td>\n",
              "    </tr>\n",
              "    <tr>\n",
              "      <th>232282</th>\n",
              "      <td>1.489362</td>\n",
              "      <td>70.0</td>\n",
              "      <td>0.021277</td>\n",
              "      <td>7525.553191</td>\n",
              "      <td>2.446885</td>\n",
              "      <td>0.045035</td>\n",
              "    </tr>\n",
              "    <tr>\n",
              "      <th>232283</th>\n",
              "      <td>1.456790</td>\n",
              "      <td>118.0</td>\n",
              "      <td>0.012346</td>\n",
              "      <td>6424.592593</td>\n",
              "      <td>2.743792</td>\n",
              "      <td>0.026795</td>\n",
              "    </tr>\n",
              "    <tr>\n",
              "      <th>232286</th>\n",
              "      <td>1.227273</td>\n",
              "      <td>54.0</td>\n",
              "      <td>0.022727</td>\n",
              "      <td>8072.568182</td>\n",
              "      <td>2.685409</td>\n",
              "      <td>0.051392</td>\n",
              "    </tr>\n",
              "    <tr>\n",
              "      <th>232289</th>\n",
              "      <td>1.645833</td>\n",
              "      <td>79.0</td>\n",
              "      <td>0.020833</td>\n",
              "      <td>5683.916667</td>\n",
              "      <td>3.542903</td>\n",
              "      <td>0.062019</td>\n",
              "    </tr>\n",
              "  </tbody>\n",
              "</table>\n",
              "<p>32164 rows × 6 columns</p>\n",
              "</div>"
            ],
            "text/plain": [
              "                word    n_d        tf          i_d       idf    tf_idf\n",
              "patient_id                                                            \n",
              "9           1.363636   75.0  0.018182  7315.545455  2.618031  0.037531\n",
              "12          1.350649  104.0  0.012987  7236.883117  2.628609  0.027870\n",
              "42          1.404762  118.0  0.011905  6829.297619  2.521613  0.022878\n",
              "44          1.630000  163.0  0.010000  5544.440000  3.145691  0.022812\n",
              "45          1.104167   53.0  0.020833  6374.125000  2.905580  0.056037\n",
              "...              ...    ...       ...          ...       ...       ...\n",
              "232275      1.432990  139.0  0.010309  5853.278351  3.039165  0.025270\n",
              "232282      1.489362   70.0  0.021277  7525.553191  2.446885  0.045035\n",
              "232283      1.456790  118.0  0.012346  6424.592593  2.743792  0.026795\n",
              "232286      1.227273   54.0  0.022727  8072.568182  2.685409  0.051392\n",
              "232289      1.645833   79.0  0.020833  5683.916667  3.542903  0.062019\n",
              "\n",
              "[32164 rows x 6 columns]"
            ]
          },
          "metadata": {
            "tags": []
          },
          "execution_count": 110
        }
      ]
    },
    {
      "cell_type": "code",
      "metadata": {
        "id": "hTPzwEK9gfBj",
        "colab_type": "code",
        "outputId": "d588f497-49ba-45e8-9058-55f20eb73510",
        "colab": {
          "base_uri": "https://localhost:8080/",
          "height": 235
        }
      },
      "source": [
        "g['tf_idf'].head(16190)"
      ],
      "execution_count": 0,
      "outputs": [
        {
          "output_type": "execute_result",
          "data": {
            "text/plain": [
              "patient_id\n",
              "9         2.064223\n",
              "12        2.145985\n",
              "42        1.921732\n",
              "44        2.281161\n",
              "45        2.689760\n",
              "            ...   \n",
              "116450    2.529142\n",
              "116451    2.039370\n",
              "116464    2.325754\n",
              "116466    1.977428\n",
              "116495    3.913121\n",
              "Name: tf_idf, Length: 16190, dtype: float64"
            ]
          },
          "metadata": {
            "tags": []
          },
          "execution_count": 60
        }
      ]
    },
    {
      "cell_type": "code",
      "metadata": {
        "id": "tPQ4HaECsVoU",
        "colab_type": "code",
        "outputId": "77fab8c7-0c3b-4118-c5b0-9f5a8de3566e",
        "colab": {
          "base_uri": "https://localhost:8080/",
          "height": 269
        }
      },
      "source": [
        "submission = pd.DataFrame({\n",
        "        \"idf\":g['idf'],\n",
        "        \"tf_idf\":g['tf_idf'],\n",
        "        \"i_d\":g['i_d'],\n",
        "        \"tf\":g['tf'],\n",
        "        \"n_d\":g['n_d'],\n",
        "        \"word\":g['word']\n",
        "\n",
        "    })\n",
        "submission.to_csv('./train_review_mean.csv', index=False)\n",
        "print(submission)"
      ],
      "execution_count": 0,
      "outputs": [
        {
          "output_type": "stream",
          "text": [
            "                 idf    tf_idf          i_d        tf    n_d      word\n",
            "patient_id                                                            \n",
            "9           2.618031  0.037531  7315.545455  0.018182   75.0  1.363636\n",
            "12          2.628609  0.027870  7236.883117  0.012987  104.0  1.350649\n",
            "42          2.521613  0.022878  6829.297619  0.011905  118.0  1.404762\n",
            "44          3.145691  0.022812  5544.440000  0.010000  163.0  1.630000\n",
            "45          2.905580  0.056037  6374.125000  0.020833   53.0  1.104167\n",
            "...              ...       ...          ...       ...    ...       ...\n",
            "232275      3.039165  0.025270  5853.278351  0.010309  139.0  1.432990\n",
            "232282      2.446885  0.045035  7525.553191  0.021277   70.0  1.489362\n",
            "232283      2.743792  0.026795  6424.592593  0.012346  118.0  1.456790\n",
            "232286      2.685409  0.051392  8072.568182  0.022727   54.0  1.227273\n",
            "232289      3.542903  0.062019  5683.916667  0.020833   79.0  1.645833\n",
            "\n",
            "[32164 rows x 6 columns]\n"
          ],
          "name": "stdout"
        }
      ]
    },
    {
      "cell_type": "code",
      "metadata": {
        "id": "fIwxDOu_uez8",
        "colab_type": "code",
        "colab": {}
      },
      "source": [
        "from google.colab import files\n",
        "files.download('train_review_mean.csv')"
      ],
      "execution_count": 0,
      "outputs": []
    },
    {
      "cell_type": "code",
      "metadata": {
        "id": "GR7oFPTwm0HF",
        "colab_type": "code",
        "outputId": "07cf76e4-16f7-4e57-8f17-ed542b45877c",
        "colab": {
          "base_uri": "https://localhost:8080/",
          "height": 286
        }
      },
      "source": [
        "train.isnull().sum(),test.isnull().sum()"
      ],
      "execution_count": 0,
      "outputs": [
        {
          "output_type": "execute_result",
          "data": {
            "text/plain": [
              "(patient_id                    0\n",
              " name_of_drug                  0\n",
              " use_case_for_drug             0\n",
              " review_by_patient             0\n",
              " effectiveness_rating          0\n",
              " drug_approved_by_UIC          0\n",
              " number_of_times_prescribed    0\n",
              " base_score                    0\n",
              " dtype: int64, patient_id                    0\n",
              " name_of_drug                  0\n",
              " review_by_patient             0\n",
              " drug_approved_by_UIC          0\n",
              " number_of_times_prescribed    0\n",
              " use_case_for_drug             0\n",
              " effectiveness_rating          0\n",
              " dtype: int64)"
            ]
          },
          "metadata": {
            "tags": []
          },
          "execution_count": 8
        }
      ]
    },
    {
      "cell_type": "code",
      "metadata": {
        "id": "3rUPBgrEjy0D",
        "colab_type": "code",
        "outputId": "088a5a73-4ef4-4367-98d1-7c83553aaeb1",
        "colab": {
          "base_uri": "https://localhost:8080/",
          "height": 34
        }
      },
      "source": [
        "train['drug_approved_by_UIC'].nunique()"
      ],
      "execution_count": 0,
      "outputs": [
        {
          "output_type": "execute_result",
          "data": {
            "text/plain": [
              "3537"
            ]
          },
          "metadata": {
            "tags": []
          },
          "execution_count": 13
        }
      ]
    },
    {
      "cell_type": "code",
      "metadata": {
        "id": "1nUOcpl1mqIO",
        "colab_type": "code",
        "outputId": "52e23efe-1864-4576-f0a7-9515b4418887",
        "colab": {
          "base_uri": "https://localhost:8080/",
          "height": 297
        }
      },
      "source": [
        "import seaborn as sns\n",
        "sns.countplot(x='base_score', data=train)"
      ],
      "execution_count": 0,
      "outputs": [
        {
          "output_type": "execute_result",
          "data": {
            "text/plain": [
              "<matplotlib.axes._subplots.AxesSubplot at 0x7f691d5afc88>"
            ]
          },
          "metadata": {
            "tags": []
          },
          "execution_count": 7
        },
        {
          "output_type": "display_data",
          "data": {
            "image/png": "[encoded data removed]",
            "text/plain": [
              "<Figure size 432x288 with 1 Axes>"
            ]
          },
          "metadata": {
            "tags": []
          }
        }
      ]
    },
    {
      "cell_type": "code",
      "metadata": {
        "id": "DYQAnUvwmynQ",
        "colab_type": "code",
        "colab": {}
      },
      "source": [
        "loc = np.append(train['name_of_drug'].values, test['name_of_drug'].values, axis=0)\n",
        "from sklearn.preprocessing import LabelEncoder\n",
        "l=LabelEncoder()\n",
        "l.fit(list(set(loc)))\n",
        "train['name_of_drug']=l.transform(train['name_of_drug'])\n",
        "test['name_of_drug']=l.transform(test['name_of_drug'])"
      ],
      "execution_count": 0,
      "outputs": []
    },
    {
      "cell_type": "code",
      "metadata": {
        "id": "w7tZtOoinN-y",
        "colab_type": "code",
        "colab": {}
      },
      "source": [
        "loc = np.append(train['use_case_for_drug'].values, test['use_case_for_drug'].values, axis=0)\n",
        "from sklearn.preprocessing import LabelEncoder\n",
        "l=LabelEncoder()\n",
        "l.fit(list(set(loc)))\n",
        "train['use_case_for_drug']=l.transform(train['use_case_for_drug'])\n",
        "test['use_case_for_drug']=l.transform(test['use_case_for_drug'])"
      ],
      "execution_count": 0,
      "outputs": []
    },
    {
      "cell_type": "code",
      "metadata": {
        "id": "lWakyqXUoibo",
        "colab_type": "code",
        "colab": {}
      },
      "source": [
        "train['drug_approved_by_UIC'] = pd.to_datetime(train['drug_approved_by_UIC'])\n",
        "test['drug_approved_by_UIC'] = pd.to_datetime(test['drug_approved_by_UIC'])"
      ],
      "execution_count": 0,
      "outputs": []
    },
    {
      "cell_type": "code",
      "metadata": {
        "id": "YX4-_l6Io6W2",
        "colab_type": "code",
        "colab": {}
      },
      "source": [
        "train['year'] = train['drug_approved_by_UIC'].dt.year\n",
        "train['day'] = train['drug_approved_by_UIC'].dt.day\n",
        "train['month'] = train['drug_approved_by_UIC'].dt.month\n",
        "test['year'] = test['drug_approved_by_UIC'].dt.year\n",
        "test['day'] = test['drug_approved_by_UIC'].dt.day\n",
        "test['month'] = test['drug_approved_by_UIC'].dt.month"
      ],
      "execution_count": 0,
      "outputs": []
    },
    {
      "cell_type": "code",
      "metadata": {
        "id": "gZ-tLwrQp9KH",
        "colab_type": "code",
        "colab": {}
      },
      "source": [
        "del train['drug_approved_by_UIC']\n",
        "del test['drug_approved_by_UIC']"
      ],
      "execution_count": 0,
      "outputs": []
    },
    {
      "cell_type": "code",
      "metadata": {
        "id": "fu0fRDltQ_Q_",
        "colab_type": "code",
        "colab": {}
      },
      "source": [
        "del train['review_by_patient']\n",
        "del test['review_by_patient']"
      ],
      "execution_count": 0,
      "outputs": []
    },
    {
      "cell_type": "code",
      "metadata": {
        "id": "ez3nERLSprMp",
        "colab_type": "code",
        "outputId": "c4664cb4-48a6-43d3-dd7e-29f027d27b3e",
        "colab": {
          "base_uri": "https://localhost:8080/",
          "height": 412
        }
      },
      "source": [
        "sns.countplot(x='number_of_times_prescribed', data=train)"
      ],
      "execution_count": 0,
      "outputs": [
        {
          "output_type": "execute_result",
          "data": {
            "text/plain": [
              "<matplotlib.axes._subplots.AxesSubplot at 0x7f691c922470>"
            ]
          },
          "metadata": {
            "tags": []
          },
          "execution_count": 20
        },
        {
          "output_type": "display_data",
          "data": {
            "image/png": "[encoded data removed]",
            "text/plain": [
              "<Figure size 576x432 with 1 Axes>"
            ]
          },
          "metadata": {
            "tags": []
          }
        }
      ]
    },
    {
      "cell_type": "code",
      "metadata": {
        "id": "Xz9R9qdnvG4x",
        "colab_type": "code",
        "colab": {}
      },
      "source": [
        "from google.colab import files\n",
        "files.upload()"
      ],
      "execution_count": 0,
      "outputs": []
    },
    {
      "cell_type": "code",
      "metadata": {
        "id": "HT5w_00GkIvY",
        "colab_type": "code",
        "outputId": "caf1bc1b-98fa-42a3-94f1-752ba3f6fa81",
        "colab": {
          "base_uri": "https://localhost:8080/",
          "height": 323
        }
      },
      "source": [
        "\n",
        "#Best Library for Regression\n",
        "\n",
        "import numpy as np\n",
        "import pandas as pd\n",
        "import matplotlib.pyplot as plt\n",
        "import seaborn as sns\n",
        "import gc\n",
        "import os\n",
        "\n",
        "%matplotlib inline\n",
        "\n",
        "plt.rcParams['figure.figsize'] = [15, 8]\n",
        "plt.style.use(\"fivethirtyeight\")\n",
        "\n",
        "import warnings\n",
        "warnings.simplefilter('ignore')\n",
        "\n",
        "pd.options.display.max_rows = 500\n",
        "pd.options.display.max_columns = 500\n",
        "from sklearn.pipeline import Pipeline\n",
        "from sklearn.model_selection import train_test_split, GridSearchCV, KFold\n",
        "\n",
        "from sklearn.preprocessing import LabelEncoder\n",
        "from sklearn.model_selection import cross_val_score, train_test_split, TimeSeriesSplit\n",
        "from sklearn.metrics import make_scorer, mean_squared_error\n",
        "\n",
        "# Regression\n",
        "from sklearn.linear_model import LinearRegression, Ridge, ElasticNet, Lasso\n",
        "from sklearn.naive_bayes import GaussianNB\n",
        "from sklearn.neighbors import KNeighborsRegressor\n",
        "from sklearn.svm import SVR\n",
        "from sklearn.tree import DecisionTreeRegressor, ExtraTreeRegressor\n",
        "from sklearn.ensemble import AdaBoostRegressor, RandomForestRegressor, BaggingRegressor, ExtraTreesRegressor, GradientBoostingRegressor, RandomForestRegressor, VotingRegressor\n",
        "\n",
        "import xgboost as xgb\n",
        "!pip install catboost\n",
        "import lightgbm as lgb\n",
        "import catboost as cat\n"
      ],
      "execution_count": 0,
      "outputs": [
        {
          "output_type": "stream",
          "text": [
            "Collecting catboost\n",
            "\u001b[?25l  Downloading https://files.pythonhosted.org/packages/b1/61/2b8106c8870601671d99ca94d8b8d180f2b740b7cdb95c930147508abcf9/catboost-0.23-cp36-none-manylinux1_x86_64.whl (64.7MB)\n",
            "\u001b[K     |████████████████████████████████| 64.8MB 95kB/s \n",
            "\u001b[?25hRequirement already satisfied: six in /usr/local/lib/python3.6/dist-packages (from catboost) (1.12.0)\n",
            "Requirement already satisfied: numpy>=1.16.0 in /usr/local/lib/python3.6/dist-packages (from catboost) (1.18.3)\n",
            "Requirement already satisfied: scipy in /usr/local/lib/python3.6/dist-packages (from catboost) (1.4.1)\n",
            "Requirement already satisfied: graphviz in /usr/local/lib/python3.6/dist-packages (from catboost) (0.10.1)\n",
            "Requirement already satisfied: matplotlib in /usr/local/lib/python3.6/dist-packages (from catboost) (3.2.1)\n",
            "Requirement already satisfied: pandas>=0.24.0 in /usr/local/lib/python3.6/dist-packages (from catboost) (1.0.3)\n",
            "Requirement already satisfied: plotly in /usr/local/lib/python3.6/dist-packages (from catboost) (4.4.1)\n",
            "Requirement already satisfied: cycler>=0.10 in /usr/local/lib/python3.6/dist-packages (from matplotlib->catboost) (0.10.0)\n",
            "Requirement already satisfied: kiwisolver>=1.0.1 in /usr/local/lib/python3.6/dist-packages (from matplotlib->catboost) (1.2.0)\n",
            "Requirement already satisfied: python-dateutil>=2.1 in /usr/local/lib/python3.6/dist-packages (from matplotlib->catboost) (2.8.1)\n",
            "Requirement already satisfied: pyparsing!=2.0.4,!=2.1.2,!=2.1.6,>=2.0.1 in /usr/local/lib/python3.6/dist-packages (from matplotlib->catboost) (2.4.7)\n",
            "Requirement already satisfied: pytz>=2017.2 in /usr/local/lib/python3.6/dist-packages (from pandas>=0.24.0->catboost) (2018.9)\n",
            "Requirement already satisfied: retrying>=1.3.3 in /usr/local/lib/python3.6/dist-packages (from plotly->catboost) (1.3.3)\n",
            "Installing collected packages: catboost\n",
            "Successfully installed catboost-0.23\n"
          ],
          "name": "stdout"
        }
      ]
    },
    {
      "cell_type": "code",
      "metadata": {
        "id": "mc4CJOJCj0CV",
        "colab_type": "code",
        "colab": {}
      },
      "source": [
        "delete = ['review_by_patient','patient_id','name_of_drug','drug_approved_by_UIC','use_case_for_drug']\n",
        "dataset = [train,test]\n",
        "for x in dataset:\n",
        "    for i in delete:\n",
        "        del x[i]"
      ],
      "execution_count": 0,
      "outputs": []
    },
    {
      "cell_type": "code",
      "metadata": {
        "id": "dCbLBRXrj0Lw",
        "colab_type": "code",
        "outputId": "e01393d0-0c10-4dfe-c69a-725df242abf0",
        "colab": {
          "base_uri": "https://localhost:8080/",
          "height": 111
        }
      },
      "source": [
        "train.head(2)"
      ],
      "execution_count": 0,
      "outputs": [
        {
          "output_type": "execute_result",
          "data": {
            "text/html": [
              "<div>\n",
              "<style scoped>\n",
              "    .dataframe tbody tr th:only-of-type {\n",
              "        vertical-align: middle;\n",
              "    }\n",
              "\n",
              "    .dataframe tbody tr th {\n",
              "        vertical-align: top;\n",
              "    }\n",
              "\n",
              "    .dataframe thead th {\n",
              "        text-align: right;\n",
              "    }\n",
              "</style>\n",
              "<table border=\"1\" class=\"dataframe\">\n",
              "  <thead>\n",
              "    <tr style=\"text-align: right;\">\n",
              "      <th></th>\n",
              "      <th>effectiveness_rating</th>\n",
              "      <th>number_of_times_prescribed</th>\n",
              "      <th>base_score</th>\n",
              "    </tr>\n",
              "  </thead>\n",
              "  <tbody>\n",
              "    <tr>\n",
              "      <th>0</th>\n",
              "      <td>9</td>\n",
              "      <td>27</td>\n",
              "      <td>8.022969</td>\n",
              "    </tr>\n",
              "    <tr>\n",
              "      <th>1</th>\n",
              "      <td>8</td>\n",
              "      <td>192</td>\n",
              "      <td>7.858458</td>\n",
              "    </tr>\n",
              "  </tbody>\n",
              "</table>\n",
              "</div>"
            ],
            "text/plain": [
              "   effectiveness_rating  number_of_times_prescribed  base_score\n",
              "0                     9                          27    8.022969\n",
              "1                     8                         192    7.858458"
            ]
          },
          "metadata": {
            "tags": []
          },
          "execution_count": 141
        }
      ]
    },
    {
      "cell_type": "code",
      "metadata": {
        "id": "xCqhCCSfj3yY",
        "colab_type": "code",
        "outputId": "e49abf24-fa0f-4757-86bd-7577fef57870",
        "colab": {
          "base_uri": "https://localhost:8080/",
          "height": 111
        }
      },
      "source": [
        "test.head(2)"
      ],
      "execution_count": 0,
      "outputs": [
        {
          "output_type": "execute_result",
          "data": {
            "text/html": [
              "<div>\n",
              "<style scoped>\n",
              "    .dataframe tbody tr th:only-of-type {\n",
              "        vertical-align: middle;\n",
              "    }\n",
              "\n",
              "    .dataframe tbody tr th {\n",
              "        vertical-align: top;\n",
              "    }\n",
              "\n",
              "    .dataframe thead th {\n",
              "        text-align: right;\n",
              "    }\n",
              "</style>\n",
              "<table border=\"1\" class=\"dataframe\">\n",
              "  <thead>\n",
              "    <tr style=\"text-align: right;\">\n",
              "      <th></th>\n",
              "      <th>number_of_times_prescribed</th>\n",
              "      <th>effectiveness_rating</th>\n",
              "    </tr>\n",
              "  </thead>\n",
              "  <tbody>\n",
              "    <tr>\n",
              "      <th>0</th>\n",
              "      <td>22</td>\n",
              "      <td>10</td>\n",
              "    </tr>\n",
              "    <tr>\n",
              "      <th>1</th>\n",
              "      <td>35</td>\n",
              "      <td>9</td>\n",
              "    </tr>\n",
              "  </tbody>\n",
              "</table>\n",
              "</div>"
            ],
            "text/plain": [
              "   number_of_times_prescribed  effectiveness_rating\n",
              "0                          22                    10\n",
              "1                          35                     9"
            ]
          },
          "metadata": {
            "tags": []
          },
          "execution_count": 142
        }
      ]
    },
    {
      "cell_type": "code",
      "metadata": {
        "id": "2Qtycdk9j6B1",
        "colab_type": "code",
        "outputId": "90fa702b-7d7f-4c4a-82b3-fd335e2bf01e",
        "colab": {
          "base_uri": "https://localhost:8080/",
          "height": 51
        }
      },
      "source": [
        "trainX, validX = train_test_split(train, test_size=0.2, shuffle=False, random_state=13)\n",
        "print(\"Train Shape : {}\\nValid Shape : {}\".format(trainX.shape, validX.shape))"
      ],
      "execution_count": 0,
      "outputs": [
        {
          "output_type": "stream",
          "text": [
            "Train Shape : (25732, 3)\n",
            "Valid Shape : (6433, 3)\n"
          ],
          "name": "stdout"
        }
      ]
    },
    {
      "cell_type": "code",
      "metadata": {
        "id": "OH93cmhCkXno",
        "colab_type": "code",
        "colab": {}
      },
      "source": [
        "def metric(y,y0):\n",
        "    assert len(y)==len(y0)\n",
        "    return 100-np.sqrt(np.mean(np.power(np.log1p(y)-np.log1p(y0),2)))\n",
        "\n",
        "def metric_lgb(y_pred,data):\n",
        "    y_true = data.get_label()\n",
        "    result = metric(y_true,y_pred)\n",
        "    \n",
        "    return '100-rmse', result,True"
      ],
      "execution_count": 0,
      "outputs": []
    },
    {
      "cell_type": "code",
      "metadata": {
        "id": "QJAjFJhKkChk",
        "colab_type": "code",
        "colab": {}
      },
      "source": [
        "\n",
        "def baseliner(train, features, target, cv=3, metric=make_scorer(metric, True)):\n",
        "    print(\"Baseliner Models(All)\")\n",
        "    eval_dict = {}\n",
        "    models = [\n",
        "#         KNeighborsRegressor(), GaussianNB(), \n",
        "        lgb.LGBMRegressor(), ExtraTreesRegressor(), xgb.XGBRegressor(objective='reg:squarederror'), \n",
        "        cat.CatBoostRegressor(verbose=0), GradientBoostingRegressor(), RandomForestRegressor(), \n",
        "        LinearRegression(), DecisionTreeRegressor(), ExtraTreeRegressor(), AdaBoostRegressor(), \n",
        "        BaggingRegressor(), ElasticNet(), Lasso(), Ridge(), \n",
        "        ] #SVR(), \n",
        "\n",
        "    print(\"sklearn Model Name  \\t  CV\")\n",
        "    print(\"--\" * 50)\n",
        "\n",
        "    for index, model in enumerate(models, 0):\n",
        "        model_name = str(model).split(\"(\")[0]\n",
        "        eval_dict[model_name] = {}\n",
        "\n",
        "        results = cross_val_score(model, train[features], train[target], cv=cv, scoring=metric)\n",
        "        eval_dict[model_name]['cv'] = results.mean()\n",
        "\n",
        "        print(\"%s \\t %.4f \\t\" % (\n",
        "            model_name[:21], eval_dict[model_name]['cv']))"
      ],
      "execution_count": 0,
      "outputs": []
    },
    {
      "cell_type": "code",
      "metadata": {
        "id": "EUzCyNgzkOre",
        "colab_type": "code",
        "colab": {}
      },
      "source": [
        "\n",
        "tscv = TimeSeriesSplit(n_splits=3)\n",
        "target = 'base_score'"
      ],
      "execution_count": 0,
      "outputs": []
    },
    {
      "cell_type": "code",
      "metadata": {
        "id": "No_q2ELfkZsk",
        "colab_type": "code",
        "colab": {}
      },
      "source": [
        "feat = train.columns.to_list()\n",
        "feat.remove(target)"
      ],
      "execution_count": 0,
      "outputs": []
    },
    {
      "cell_type": "code",
      "metadata": {
        "id": "Ux5viNwgkdNT",
        "colab_type": "code",
        "outputId": "f3d20e9d-7719-46a9-baec-77c91f119fe0",
        "colab": {
          "base_uri": "https://localhost:8080/",
          "height": 306
        }
      },
      "source": [
        "baseliner(train,feat,target,cv=tscv,metric=make_scorer(metric,True))"
      ],
      "execution_count": 0,
      "outputs": [
        {
          "output_type": "stream",
          "text": [
            "Baseliner Models(All)\n",
            "sklearn Model Name  \t  CV\n",
            "----------------------------------------------------------------------------------------------------\n",
            "LGBMRegressor \t 99.9584 \t\n",
            "ExtraTreesRegressor \t 99.9695 \t\n",
            "XGBRegressor \t 99.9029 \t\n",
            "<catboost.core.CatBoo \t 99.9670 \t\n",
            "GradientBoostingRegre \t 99.9024 \t\n",
            "RandomForestRegressor \t 99.9697 \t\n",
            "LinearRegression \t 99.7648 \t\n",
            "DecisionTreeRegressor \t 99.9685 \t\n",
            "ExtraTreeRegressor \t 99.9606 \t\n",
            "AdaBoostRegressor \t 99.8205 \t\n",
            "BaggingRegressor \t 99.9686 \t\n",
            "ElasticNet \t 99.7628 \t\n",
            "Lasso \t 99.7597 \t\n",
            "Ridge \t 99.7648 \t\n"
          ],
          "name": "stdout"
        }
      ]
    },
    {
      "cell_type": "code",
      "metadata": {
        "id": "qEN0V_mOkfqo",
        "colab_type": "code",
        "colab": {}
      },
      "source": [
        "def lgb_model(train, features, target, ts=False, plot=True):\n",
        "    evals_result = {}\n",
        "    trainX, validX, trainY, validY = train_test_split(train[features], train[target], shuffle=False, test_size=0.2, random_state=101)\n",
        "    print(\"LGB Model\")\n",
        "    lgb_train_set = lgb.Dataset(trainX, label=trainY)\n",
        "    lgb_valid_set = lgb.Dataset(validX, label=validY)\n",
        "\n",
        "    MAX_ROUNDS = 1200\n",
        "    \n",
        "    lgb_params = {\n",
        "        \n",
        "        \"boosting\": 'gbdt',\n",
        "        \"learning_rate\": 0.1,\n",
        "        \"nthread\": -1,\n",
        "        \"seed\": 13,\n",
        "        \"num_boost_round\": MAX_ROUNDS,\n",
        "        \"objective\": \"regression\",\n",
        "    }\n",
        "\n",
        "    lgb_model = lgb.train(\n",
        "        lgb_params,\n",
        "        train_set=lgb_train_set,\n",
        "        valid_sets=[lgb_train_set, lgb_valid_set],\n",
        "        early_stopping_rounds=50,\n",
        "        verbose_eval=100,\n",
        "        evals_result=evals_result,\n",
        "        feval=metric_lgb # New metric to be optimised\n",
        "    )\n",
        "    if plot:\n",
        "        lgb.plot_importance(lgb_model, figsize=(12, 12))\n",
        "        lgb.plot_metric(evals_result, metric='100-rmse')\n",
        "\n",
        "    return lgb_model, lgb_model.best_score"
      ],
      "execution_count": 0,
      "outputs": []
    },
    {
      "cell_type": "code",
      "metadata": {
        "id": "xhV9yB_inr8J",
        "colab_type": "code",
        "outputId": "5c9eb2c0-52a7-4230-842e-41b70302fa96",
        "colab": {
          "base_uri": "https://localhost:8080/",
          "height": 1000
        }
      },
      "source": [
        "lgbM, score = lgb_model(train,feat,target,True,True)"
      ],
      "execution_count": 0,
      "outputs": [
        {
          "output_type": "stream",
          "text": [
            "LGB Model\n",
            "Training until validation scores don't improve for 50 rounds.\n",
            "[100]\ttraining's l2: 0.0334862\ttraining's 100-rmse: 99.9662\tvalid_1's l2: 0.0353528\tvalid_1's 100-rmse: 99.9654\n",
            "[200]\ttraining's l2: 0.0130876\ttraining's 100-rmse: 99.977\tvalid_1's l2: 0.0169291\tvalid_1's 100-rmse: 99.975\n",
            "[300]\ttraining's l2: 0.00903045\ttraining's 100-rmse: 99.9805\tvalid_1's l2: 0.0129938\tvalid_1's 100-rmse: 99.9783\n",
            "[400]\ttraining's l2: 0.00695898\ttraining's 100-rmse: 99.9829\tvalid_1's l2: 0.0110818\tvalid_1's 100-rmse: 99.9805\n",
            "[500]\ttraining's l2: 0.00557888\ttraining's 100-rmse: 99.9847\tvalid_1's l2: 0.00991008\tvalid_1's 100-rmse: 99.9818\n",
            "[600]\ttraining's l2: 0.00477468\ttraining's 100-rmse: 99.9859\tvalid_1's l2: 0.00927728\tvalid_1's 100-rmse: 99.9827\n",
            "[700]\ttraining's l2: 0.00428699\ttraining's 100-rmse: 99.9866\tvalid_1's l2: 0.00891812\tvalid_1's 100-rmse: 99.9831\n",
            "[800]\ttraining's l2: 0.00392588\ttraining's 100-rmse: 99.9872\tvalid_1's l2: 0.00867264\tvalid_1's 100-rmse: 99.9835\n",
            "[900]\ttraining's l2: 0.00355497\ttraining's 100-rmse: 99.9881\tvalid_1's l2: 0.00840562\tvalid_1's 100-rmse: 99.984\n",
            "[1000]\ttraining's l2: 0.00325708\ttraining's 100-rmse: 99.989\tvalid_1's l2: 0.00816612\tvalid_1's 100-rmse: 99.9844\n",
            "[1100]\ttraining's l2: 0.00304969\ttraining's 100-rmse: 99.9894\tvalid_1's l2: 0.00795854\tvalid_1's 100-rmse: 99.9847\n",
            "[1200]\ttraining's l2: 0.00285156\ttraining's 100-rmse: 99.99\tvalid_1's l2: 0.00779341\tvalid_1's 100-rmse: 99.9849\n",
            "Did not meet early stopping. Best iteration is:\n",
            "[1200]\ttraining's l2: 0.00285156\ttraining's 100-rmse: 99.99\tvalid_1's l2: 0.00779341\tvalid_1's 100-rmse: 99.9849\n"
          ],
          "name": "stdout"
        },
        {
          "output_type": "display_data",
          "data": {
            "image/png": "[encoded data removed]",
            "text/plain": [
              "<Figure size 1728x1728 with 1 Axes>"
            ]
          },
          "metadata": {
            "tags": []
          }
        },
        {
          "output_type": "display_data",
          "data": {
            "image/png": "[encoded data removed]",
            "text/plain": [
              "<Figure size 576x432 with 1 Axes>"
            ]
          },
          "metadata": {
            "tags": []
          }
        }
      ]
    },
    {
      "cell_type": "code",
      "metadata": {
        "id": "D5juPd5gnv2N",
        "colab_type": "code",
        "colab": {}
      },
      "source": [
        "lgbtrain = lgb.Dataset(train[feat],label = train[target])"
      ],
      "execution_count": 0,
      "outputs": []
    },
    {
      "cell_type": "code",
      "metadata": {
        "id": "hks97cvS-au9",
        "colab_type": "code",
        "colab": {}
      },
      "source": [
        "MAX_ROUNDS = 1200\n",
        "    \n",
        "lgb_params = {\n",
        "        \n",
        "        \"boosting\": 'gbdt',\n",
        "        \"learning_rate\": 0.2,\n",
        "        \"nthread\": -1,\n",
        "        \"seed\": 13,\n",
        "        \"num_boost_round\": MAX_ROUNDS,\n",
        "        \"objective\": \"regression\",\n",
        "    }"
      ],
      "execution_count": 0,
      "outputs": []
    },
    {
      "cell_type": "code",
      "metadata": {
        "id": "GlwqPXPc-d5O",
        "colab_type": "code",
        "colab": {}
      },
      "source": [
        "\n",
        "lgb_model = lgb.train(\n",
        "    lgb_params,\n",
        "    train_set=lgbtrain,\n",
        "    verbose_eval=100,\n",
        "    feval=metric_lgb, # New metric to be optimised\n",
        ")"
      ],
      "execution_count": 0,
      "outputs": []
    },
    {
      "cell_type": "code",
      "metadata": {
        "id": "tMZKQQay-hZ1",
        "colab_type": "code",
        "outputId": "b8378db0-4c85-40c8-8d75-3d83dfcde551",
        "colab": {
          "base_uri": "https://localhost:8080/",
          "height": 755
        }
      },
      "source": [
        "\n",
        "lgb.plot_importance(lgb_model, figsize=(12, 12))"
      ],
      "execution_count": 0,
      "outputs": [
        {
          "output_type": "execute_result",
          "data": {
            "text/plain": [
              "<matplotlib.axes._subplots.AxesSubplot at 0x7fa0408c9748>"
            ]
          },
          "metadata": {
            "tags": []
          },
          "execution_count": 163
        },
        {
          "output_type": "display_data",
          "data": {
            "image/png": "[encoded data removed]",
            "text/plain": [
              "<Figure size 864x864 with 1 Axes>"
            ]
          },
          "metadata": {
            "tags": []
          }
        }
      ]
    },
    {
      "cell_type": "code",
      "metadata": {
        "id": "Cifc_xUb-lUt",
        "colab_type": "code",
        "outputId": "475f9811-1f5c-44bb-a0f0-7a4a5987a730",
        "colab": {
          "base_uri": "https://localhost:8080/",
          "height": 119
        }
      },
      "source": [
        "y_preds = lgb_model.predict(test[feat])\n",
        "test[target] = y_preds\n",
        "test[target].head()\n"
      ],
      "execution_count": 0,
      "outputs": [
        {
          "output_type": "execute_result",
          "data": {
            "text/plain": [
              "0    8.756566\n",
              "1    8.744185\n",
              "2    5.945538\n",
              "3    5.993944\n",
              "4    5.280191\n",
              "Name: base_score, dtype: float64"
            ]
          },
          "metadata": {
            "tags": []
          },
          "execution_count": 164
        }
      ]
    },
    {
      "cell_type": "code",
      "metadata": {
        "id": "zQ81A5Gt_eAK",
        "colab_type": "code",
        "colab": {}
      },
      "source": [
        "ans = []\n",
        "for i in range(len(y_preds)):\n",
        "    ans.append(round(y_preds[i],2))"
      ],
      "execution_count": 0,
      "outputs": []
    },
    {
      "cell_type": "code",
      "metadata": {
        "id": "8GQNRl3x_hBA",
        "colab_type": "code",
        "colab": {}
      },
      "source": [
        "sub = ans\n",
        "sub = pd.DataFrame(sub)\n",
        "sub['base_score'] = ans"
      ],
      "execution_count": 0,
      "outputs": []
    },
    {
      "cell_type": "code",
      "metadata": {
        "id": "5aHV_O0n_jIf",
        "colab_type": "code",
        "colab": {}
      },
      "source": [
        "from google.colab import files\n",
        "files.download('sub.csv')"
      ],
      "execution_count": 0,
      "outputs": []
    },
    {
      "cell_type": "code",
      "metadata": {
        "id": "vdQeBI_P6Ci1",
        "colab_type": "code",
        "colab": {}
      },
      "source": [
        ""
      ],
      "execution_count": 0,
      "outputs": []
    }
  ]
}