{
  "nbformat": 4,
  "nbformat_minor": 0,
  "metadata": {
    "colab": {
      "name": "JanataHack Mobility Analytics.ipynb",
      "provenance": [],
      "collapsed_sections": []
    },
    "kernelspec": {
      "name": "python3",
      "display_name": "Python 3"
    }
  },
  "cells": [
    {
      "cell_type": "code",
      "metadata": {
        "id": "qZoJ5ncxbxoD",
        "colab_type": "code",
        "outputId": "29fb60d3-a235-4ed2-a996-3d32fc6617c1",
        "colab": {
          "base_uri": "https://localhost:8080/",
          "height": 392
        }
      },
      "source": [
        "!wget https://datahack-prod.s3.amazonaws.com/test_file/test_VsU9xXK.csv\n",
        "!wget https://datahack-prod.s3.amazonaws.com/train_file/train_Wc8LBpr.csv"
      ],
      "execution_count": 1,
      "outputs": [
        {
          "output_type": "stream",
          "text": [
            "--2020-05-17 16:40:01--  https://datahack-prod.s3.amazonaws.com/test_file/test_VsU9xXK.csv\n",
            "Resolving datahack-prod.s3.amazonaws.com (datahack-prod.s3.amazonaws.com)... 52.219.64.32\n",
            "Connecting to datahack-prod.s3.amazonaws.com (datahack-prod.s3.amazonaws.com)|52.219.64.32|:443... connected.\n",
            "HTTP request sent, awaiting response... 200 OK\n",
            "Length: 4921161 (4.7M) [text/csv]\n",
            "Saving to: ‘test_VsU9xXK.csv’\n",
            "\n",
            "\rtest_VsU9xXK.csv      0%[                    ]       0  --.-KB/s               \rtest_VsU9xXK.csv      1%[                    ]  58.65K   281KB/s               \rtest_VsU9xXK.csv      5%[>                   ] 262.65K   630KB/s               \rtest_VsU9xXK.csv     22%[===>                ]   1.07M  1.71MB/s               \rtest_VsU9xXK.csv     92%[=================>  ]   4.32M  5.19MB/s               \rtest_VsU9xXK.csv    100%[===================>]   4.69M  5.55MB/s    in 0.8s    \n",
            "\n",
            "2020-05-17 16:40:02 (5.55 MB/s) - ‘test_VsU9xXK.csv’ saved [4921161/4921161]\n",
            "\n",
            "--2020-05-17 16:40:08--  https://datahack-prod.s3.amazonaws.com/train_file/train_Wc8LBpr.csv\n",
            "Resolving datahack-prod.s3.amazonaws.com (datahack-prod.s3.amazonaws.com)... 52.219.64.52\n",
            "Connecting to datahack-prod.s3.amazonaws.com (datahack-prod.s3.amazonaws.com)|52.219.64.52|:443... connected.\n",
            "HTTP request sent, awaiting response... 200 OK\n",
            "Length: 7675045 (7.3M) [text/csv]\n",
            "Saving to: ‘train_Wc8LBpr.csv’\n",
            "\n",
            "train_Wc8LBpr.csv   100%[===================>]   7.32M  7.78MB/s    in 0.9s    \n",
            "\n",
            "2020-05-17 16:40:09 (7.78 MB/s) - ‘train_Wc8LBpr.csv’ saved [7675045/7675045]\n",
            "\n"
          ],
          "name": "stdout"
        }
      ]
    },
    {
      "cell_type": "code",
      "metadata": {
        "id": "9ly5N79UAuG-",
        "colab_type": "code",
        "colab": {}
      },
      "source": [
        "import pandas as pd\n",
        "import numpy as np\n",
        "import matplotlib.pyplot as plt\n",
        "%matplotlib inline"
      ],
      "execution_count": 0,
      "outputs": []
    },
    {
      "cell_type": "code",
      "metadata": {
        "id": "_vxsSNbSAumI",
        "colab_type": "code",
        "colab": {}
      },
      "source": [
        "train = pd.read_csv('train_Wc8LBpr.csv')\n",
        "test = pd.read_csv('test_VsU9xXK.csv')"
      ],
      "execution_count": 0,
      "outputs": []
    },
    {
      "cell_type": "code",
      "metadata": {
        "id": "Kz_Zo1C3k5vA",
        "colab_type": "code",
        "outputId": "6f39bd16-0f6d-44f2-e352-f65232cadae3",
        "colab": {
          "base_uri": "https://localhost:8080/",
          "height": 197
        }
      },
      "source": [
        "train.head(5)"
      ],
      "execution_count": 43,
      "outputs": [
        {
          "output_type": "execute_result",
          "data": {
            "text/html": [
              "<div>\n",
              "<style scoped>\n",
              "    .dataframe tbody tr th:only-of-type {\n",
              "        vertical-align: middle;\n",
              "    }\n",
              "\n",
              "    .dataframe tbody tr th {\n",
              "        vertical-align: top;\n",
              "    }\n",
              "\n",
              "    .dataframe thead th {\n",
              "        text-align: right;\n",
              "    }\n",
              "</style>\n",
              "<table border=\"1\" class=\"dataframe\">\n",
              "  <thead>\n",
              "    <tr style=\"text-align: right;\">\n",
              "      <th></th>\n",
              "      <th>Trip_ID</th>\n",
              "      <th>Trip_Distance</th>\n",
              "      <th>Type_of_Cab</th>\n",
              "      <th>Customer_Since_Months</th>\n",
              "      <th>Life_Style_Index</th>\n",
              "      <th>Confidence_Life_Style_Index</th>\n",
              "      <th>Destination_Type</th>\n",
              "      <th>Customer_Rating</th>\n",
              "      <th>Cancellation_Last_1Month</th>\n",
              "      <th>Var1</th>\n",
              "      <th>Var2</th>\n",
              "      <th>Var3</th>\n",
              "      <th>Gender</th>\n",
              "      <th>Surge_Pricing_Type</th>\n",
              "    </tr>\n",
              "  </thead>\n",
              "  <tbody>\n",
              "    <tr>\n",
              "      <th>0</th>\n",
              "      <td>T0005689460</td>\n",
              "      <td>6.77</td>\n",
              "      <td>B</td>\n",
              "      <td>1.0</td>\n",
              "      <td>2.42769</td>\n",
              "      <td>A</td>\n",
              "      <td>A</td>\n",
              "      <td>3.90500</td>\n",
              "      <td>0</td>\n",
              "      <td>40.0</td>\n",
              "      <td>46</td>\n",
              "      <td>60</td>\n",
              "      <td>Female</td>\n",
              "      <td>2</td>\n",
              "    </tr>\n",
              "    <tr>\n",
              "      <th>1</th>\n",
              "      <td>T0005689461</td>\n",
              "      <td>29.47</td>\n",
              "      <td>B</td>\n",
              "      <td>10.0</td>\n",
              "      <td>2.78245</td>\n",
              "      <td>B</td>\n",
              "      <td>A</td>\n",
              "      <td>3.45000</td>\n",
              "      <td>0</td>\n",
              "      <td>38.0</td>\n",
              "      <td>56</td>\n",
              "      <td>78</td>\n",
              "      <td>Male</td>\n",
              "      <td>2</td>\n",
              "    </tr>\n",
              "    <tr>\n",
              "      <th>2</th>\n",
              "      <td>T0005689464</td>\n",
              "      <td>41.58</td>\n",
              "      <td>NaN</td>\n",
              "      <td>10.0</td>\n",
              "      <td>NaN</td>\n",
              "      <td>NaN</td>\n",
              "      <td>E</td>\n",
              "      <td>3.50125</td>\n",
              "      <td>2</td>\n",
              "      <td>NaN</td>\n",
              "      <td>56</td>\n",
              "      <td>77</td>\n",
              "      <td>Male</td>\n",
              "      <td>2</td>\n",
              "    </tr>\n",
              "    <tr>\n",
              "      <th>3</th>\n",
              "      <td>T0005689465</td>\n",
              "      <td>61.56</td>\n",
              "      <td>C</td>\n",
              "      <td>10.0</td>\n",
              "      <td>NaN</td>\n",
              "      <td>NaN</td>\n",
              "      <td>A</td>\n",
              "      <td>3.45375</td>\n",
              "      <td>0</td>\n",
              "      <td>NaN</td>\n",
              "      <td>52</td>\n",
              "      <td>74</td>\n",
              "      <td>Male</td>\n",
              "      <td>3</td>\n",
              "    </tr>\n",
              "    <tr>\n",
              "      <th>4</th>\n",
              "      <td>T0005689467</td>\n",
              "      <td>54.95</td>\n",
              "      <td>C</td>\n",
              "      <td>10.0</td>\n",
              "      <td>3.03453</td>\n",
              "      <td>B</td>\n",
              "      <td>A</td>\n",
              "      <td>3.40250</td>\n",
              "      <td>4</td>\n",
              "      <td>51.0</td>\n",
              "      <td>49</td>\n",
              "      <td>102</td>\n",
              "      <td>Male</td>\n",
              "      <td>2</td>\n",
              "    </tr>\n",
              "  </tbody>\n",
              "</table>\n",
              "</div>"
            ],
            "text/plain": [
              "       Trip_ID  Trip_Distance Type_of_Cab  ...  Var3  Gender Surge_Pricing_Type\n",
              "0  T0005689460           6.77           B  ...    60  Female                  2\n",
              "1  T0005689461          29.47           B  ...    78    Male                  2\n",
              "2  T0005689464          41.58         NaN  ...    77    Male                  2\n",
              "3  T0005689465          61.56           C  ...    74    Male                  3\n",
              "4  T0005689467          54.95           C  ...   102    Male                  2\n",
              "\n",
              "[5 rows x 14 columns]"
            ]
          },
          "metadata": {
            "tags": []
          },
          "execution_count": 43
        }
      ]
    },
    {
      "cell_type": "code",
      "metadata": {
        "id": "og3E28j-k7ZD",
        "colab_type": "code",
        "outputId": "27dc8a24-05be-4407-cef2-cafae23fbb04",
        "colab": {
          "base_uri": "https://localhost:8080/",
          "height": 197
        }
      },
      "source": [
        "test.head(5)"
      ],
      "execution_count": 44,
      "outputs": [
        {
          "output_type": "execute_result",
          "data": {
            "text/html": [
              "<div>\n",
              "<style scoped>\n",
              "    .dataframe tbody tr th:only-of-type {\n",
              "        vertical-align: middle;\n",
              "    }\n",
              "\n",
              "    .dataframe tbody tr th {\n",
              "        vertical-align: top;\n",
              "    }\n",
              "\n",
              "    .dataframe thead th {\n",
              "        text-align: right;\n",
              "    }\n",
              "</style>\n",
              "<table border=\"1\" class=\"dataframe\">\n",
              "  <thead>\n",
              "    <tr style=\"text-align: right;\">\n",
              "      <th></th>\n",
              "      <th>Trip_ID</th>\n",
              "      <th>Trip_Distance</th>\n",
              "      <th>Type_of_Cab</th>\n",
              "      <th>Customer_Since_Months</th>\n",
              "      <th>Life_Style_Index</th>\n",
              "      <th>Confidence_Life_Style_Index</th>\n",
              "      <th>Destination_Type</th>\n",
              "      <th>Customer_Rating</th>\n",
              "      <th>Cancellation_Last_1Month</th>\n",
              "      <th>Var1</th>\n",
              "      <th>Var2</th>\n",
              "      <th>Var3</th>\n",
              "      <th>Gender</th>\n",
              "    </tr>\n",
              "  </thead>\n",
              "  <tbody>\n",
              "    <tr>\n",
              "      <th>0</th>\n",
              "      <td>T0005689459</td>\n",
              "      <td>9.44</td>\n",
              "      <td>A</td>\n",
              "      <td>10.0</td>\n",
              "      <td>2.57438</td>\n",
              "      <td>A</td>\n",
              "      <td>B</td>\n",
              "      <td>3.68000</td>\n",
              "      <td>2</td>\n",
              "      <td>NaN</td>\n",
              "      <td>46</td>\n",
              "      <td>63</td>\n",
              "      <td>Male</td>\n",
              "    </tr>\n",
              "    <tr>\n",
              "      <th>1</th>\n",
              "      <td>T0005689462</td>\n",
              "      <td>32.15</td>\n",
              "      <td>B</td>\n",
              "      <td>10.0</td>\n",
              "      <td>2.85143</td>\n",
              "      <td>A</td>\n",
              "      <td>A</td>\n",
              "      <td>1.59375</td>\n",
              "      <td>0</td>\n",
              "      <td>65.0</td>\n",
              "      <td>49</td>\n",
              "      <td>80</td>\n",
              "      <td>Female</td>\n",
              "    </tr>\n",
              "    <tr>\n",
              "      <th>2</th>\n",
              "      <td>T0005689463</td>\n",
              "      <td>10.38</td>\n",
              "      <td>C</td>\n",
              "      <td>4.0</td>\n",
              "      <td>2.70530</td>\n",
              "      <td>A</td>\n",
              "      <td>D</td>\n",
              "      <td>4.50500</td>\n",
              "      <td>0</td>\n",
              "      <td>NaN</td>\n",
              "      <td>47</td>\n",
              "      <td>74</td>\n",
              "      <td>Male</td>\n",
              "    </tr>\n",
              "    <tr>\n",
              "      <th>3</th>\n",
              "      <td>T0005689466</td>\n",
              "      <td>14.94</td>\n",
              "      <td>NaN</td>\n",
              "      <td>6.0</td>\n",
              "      <td>2.48159</td>\n",
              "      <td>C</td>\n",
              "      <td>E</td>\n",
              "      <td>4.53000</td>\n",
              "      <td>0</td>\n",
              "      <td>63.0</td>\n",
              "      <td>43</td>\n",
              "      <td>54</td>\n",
              "      <td>Male</td>\n",
              "    </tr>\n",
              "    <tr>\n",
              "      <th>4</th>\n",
              "      <td>T0005689468</td>\n",
              "      <td>32.03</td>\n",
              "      <td>B</td>\n",
              "      <td>7.0</td>\n",
              "      <td>2.81598</td>\n",
              "      <td>A</td>\n",
              "      <td>K</td>\n",
              "      <td>4.60125</td>\n",
              "      <td>3</td>\n",
              "      <td>96.0</td>\n",
              "      <td>44</td>\n",
              "      <td>56</td>\n",
              "      <td>Male</td>\n",
              "    </tr>\n",
              "  </tbody>\n",
              "</table>\n",
              "</div>"
            ],
            "text/plain": [
              "       Trip_ID  Trip_Distance Type_of_Cab  ...  Var2  Var3  Gender\n",
              "0  T0005689459           9.44           A  ...    46    63    Male\n",
              "1  T0005689462          32.15           B  ...    49    80  Female\n",
              "2  T0005689463          10.38           C  ...    47    74    Male\n",
              "3  T0005689466          14.94         NaN  ...    43    54    Male\n",
              "4  T0005689468          32.03           B  ...    44    56    Male\n",
              "\n",
              "[5 rows x 13 columns]"
            ]
          },
          "metadata": {
            "tags": []
          },
          "execution_count": 44
        }
      ]
    },
    {
      "cell_type": "code",
      "metadata": {
        "id": "xup8y6rPk_F4",
        "colab_type": "code",
        "outputId": "92206e3e-55b3-4b2a-b32e-ded90ccde348",
        "colab": {
          "base_uri": "https://localhost:8080/",
          "height": 494
        }
      },
      "source": [
        "train.isnull().sum(),test.isnull().sum(),train.shape,test.shape"
      ],
      "execution_count": 45,
      "outputs": [
        {
          "output_type": "execute_result",
          "data": {
            "text/plain": [
              "(Trip_ID                            0\n",
              " Trip_Distance                      0\n",
              " Type_of_Cab                    20210\n",
              " Customer_Since_Months           5920\n",
              " Life_Style_Index               20193\n",
              " Confidence_Life_Style_Index    20193\n",
              " Destination_Type                   0\n",
              " Customer_Rating                    0\n",
              " Cancellation_Last_1Month           0\n",
              " Var1                           71030\n",
              " Var2                               0\n",
              " Var3                               0\n",
              " Gender                             0\n",
              " Surge_Pricing_Type                 0\n",
              " dtype: int64, Trip_ID                            0\n",
              " Trip_Distance                      0\n",
              " Type_of_Cab                    13158\n",
              " Customer_Since_Months           3966\n",
              " Life_Style_Index               13327\n",
              " Confidence_Life_Style_Index    13327\n",
              " Destination_Type                   0\n",
              " Customer_Rating                    0\n",
              " Cancellation_Last_1Month           0\n",
              " Var1                           46789\n",
              " Var2                               0\n",
              " Var3                               0\n",
              " Gender                             0\n",
              " dtype: int64, (131662, 14), (87395, 13))"
            ]
          },
          "metadata": {
            "tags": []
          },
          "execution_count": 45
        }
      ]
    },
    {
      "cell_type": "code",
      "metadata": {
        "id": "524CxXj0A691",
        "colab_type": "code",
        "colab": {}
      },
      "source": [
        "l=['Type_of_Cab','Customer_Since_Months','Confidence_Life_Style_Index']\n",
        "for i in l:\n",
        "  train[i]=train[i].fillna(method='bfill')\n",
        "  test[i]=test[i].fillna(method='bfill')"
      ],
      "execution_count": 0,
      "outputs": []
    },
    {
      "cell_type": "code",
      "metadata": {
        "id": "pVy3oT5KBJUE",
        "colab_type": "code",
        "colab": {}
      },
      "source": [
        "l=['Life_Style_Index','Var1']\n",
        "for i in l:\n",
        "  train[i]=train[i].fillna(train[i].mean())\n",
        "  test[i]=test[i].fillna(train[i].mean())"
      ],
      "execution_count": 0,
      "outputs": []
    },
    {
      "cell_type": "code",
      "metadata": {
        "id": "gxVR3bIQBQ0R",
        "colab_type": "code",
        "outputId": "f00e751b-0982-4949-ba1d-e59e56d764b0",
        "colab": {
          "base_uri": "https://localhost:8080/",
          "height": 34
        }
      },
      "source": [
        "train['Trip_ID'].nunique()"
      ],
      "execution_count": 48,
      "outputs": [
        {
          "output_type": "execute_result",
          "data": {
            "text/plain": [
              "131662"
            ]
          },
          "metadata": {
            "tags": []
          },
          "execution_count": 48
        }
      ]
    },
    {
      "cell_type": "code",
      "metadata": {
        "id": "dNuBXLOTDICH",
        "colab_type": "code",
        "colab": {}
      },
      "source": [
        "train['Trip_ID']=train.Trip_ID.str.extract('(\\d+)')\n",
        "test['Trip_ID']=test.Trip_ID.str.extract('(\\d+)')"
      ],
      "execution_count": 0,
      "outputs": []
    },
    {
      "cell_type": "code",
      "metadata": {
        "id": "YKmMWgg2DSBk",
        "colab_type": "code",
        "colab": {}
      },
      "source": [
        "train['Trip_ID']=train['Trip_ID'].astype(int)\n",
        "test['Trip_ID']=test['Trip_ID'].astype(int)"
      ],
      "execution_count": 0,
      "outputs": []
    },
    {
      "cell_type": "code",
      "metadata": {
        "id": "dz7QBo9kDt3K",
        "colab_type": "code",
        "colab": {}
      },
      "source": [
        "c=['Type_of_Cab','Confidence_Life_Style_Index','Destination_Type','Gender']\n",
        "for i in c:\n",
        "  loc = np.append(train[i].values, test[i].values, axis=0)\n",
        "  from sklearn.preprocessing import LabelEncoder\n",
        "  l=LabelEncoder()\n",
        "  l.fit(list(set(loc)))\n",
        "  train[i]=l.transform(train[i])\n",
        "  test[i]=l.transform(test[i])"
      ],
      "execution_count": 0,
      "outputs": []
    },
    {
      "cell_type": "code",
      "metadata": {
        "id": "_tBN6RatEMYN",
        "colab_type": "code",
        "colab": {}
      },
      "source": [
        "import warnings\n",
        "warnings.simplefilter(action='ignore', category=FutureWarning)"
      ],
      "execution_count": 0,
      "outputs": []
    },
    {
      "cell_type": "code",
      "metadata": {
        "id": "uYcgQ1bXExiL",
        "colab_type": "code",
        "colab": {}
      },
      "source": [
        "import pandas as pd\n",
        "import numpy as np\n",
        "import matplotlib.pyplot as plt\n",
        "import seaborn as sns\n",
        "import math\n",
        "import matplotlib as mpl\n",
        "\n",
        "from sklearn.ensemble import RandomForestClassifier\n",
        "from sklearn.model_selection import cross_val_score\n",
        "from xgboost import XGBClassifier\n",
        "from sklearn.ensemble import ExtraTreesClassifier, AdaBoostClassifier\n",
        "from sklearn.linear_model import LogisticRegression \n",
        "from sklearn.neighbors import KNeighborsClassifier\n",
        "from sklearn.svm import LinearSVC\n",
        "from lightgbm import LGBMClassifier\n",
        "from sklearn.tree import DecisionTreeClassifier\n",
        "from sklearn.model_selection import StratifiedKFold, learning_curve, ShuffleSplit\n",
        "from sklearn.preprocessing import StandardScaler\n",
        "from sklearn.pipeline import Pipeline\n",
        "from sklearn.ensemble import VotingClassifier, IsolationForest\n",
        "from sklearn.model_selection import train_test_split\n",
        "from sklearn.metrics import f1_score\n",
        "from sklearn.metrics import accuracy_score\n",
        "from sklearn.neural_network import MLPClassifier\n",
        "from sklearn.naive_bayes import BernoulliNB\n",
        "from sklearn.metrics import confusion_matrix"
      ],
      "execution_count": 0,
      "outputs": []
    },
    {
      "cell_type": "code",
      "metadata": {
        "id": "qJtLeDzMEz93",
        "colab_type": "code",
        "colab": {}
      },
      "source": [
        "X = train.drop(columns=['Trip_ID', 'Surge_Pricing_Type'])\n",
        "y = train.Surge_Pricing_Type"
      ],
      "execution_count": 0,
      "outputs": []
    },
    {
      "cell_type": "code",
      "metadata": {
        "id": "WJMLsSrUE8DY",
        "colab_type": "code",
        "outputId": "949715d6-0923-47d0-d49f-a98a5b2335c4",
        "colab": {
          "base_uri": "https://localhost:8080/",
          "height": 119
        }
      },
      "source": [
        "print('Percentage of each class in Target Variable \\n')\n",
        "print((train.Surge_Pricing_Type.value_counts()/len(train))*100)"
      ],
      "execution_count": 16,
      "outputs": [
        {
          "output_type": "stream",
          "text": [
            "Percentage of each class in Target Variable \n",
            "\n",
            "2    43.086084\n",
            "3    36.244323\n",
            "1    20.669593\n",
            "Name: Surge_Pricing_Type, dtype: float64\n"
          ],
          "name": "stdout"
        }
      ]
    },
    {
      "cell_type": "code",
      "metadata": {
        "id": "2QVoXvQ1t_ZC",
        "colab_type": "code",
        "colab": {}
      },
      "source": [
        "from sklearn.metrics import accuracy_score, make_scorer\n",
        "auc= make_scorer(accuracy_score, normalize=True)"
      ],
      "execution_count": 0,
      "outputs": []
    },
    {
      "cell_type": "code",
      "metadata": {
        "id": "yvjobjfIFAPS",
        "colab_type": "code",
        "outputId": "a3e52167-48c2-4c74-a6c6-fea63bb3b2dd",
        "colab": {
          "base_uri": "https://localhost:8080/",
          "height": 68
        }
      },
      "source": [
        "rfc = RandomForestClassifier(n_estimators=10, n_jobs=-1, random_state=42, max_features=0.7 , bootstrap=False)\n",
        "cross_val_score(rfc, X, y, cv=5, n_jobs=-1, verbose=1, scoring=auc).mean()"
      ],
      "execution_count": 30,
      "outputs": [
        {
          "output_type": "stream",
          "text": [
            "[Parallel(n_jobs=-1)]: Using backend LokyBackend with 2 concurrent workers.\n",
            "[Parallel(n_jobs=-1)]: Done   5 out of   5 | elapsed:   22.3s finished\n"
          ],
          "name": "stderr"
        },
        {
          "output_type": "execute_result",
          "data": {
            "text/plain": [
              "0.6165484000563738"
            ]
          },
          "metadata": {
            "tags": []
          },
          "execution_count": 30
        }
      ]
    },
    {
      "cell_type": "code",
      "metadata": {
        "id": "402DmNQwFCvF",
        "colab_type": "code",
        "outputId": "788379ef-9527-4ca8-99ba-cfcad1ab0958",
        "colab": {
          "base_uri": "https://localhost:8080/",
          "height": 272
        }
      },
      "source": [
        "y = train.Surge_Pricing_Type\n",
        "corr = pd.concat(objs=[X, y], axis=1).corr()\n",
        "corr.style.background_gradient(cmap='coolwarm').set_precision(5)"
      ],
      "execution_count": 18,
      "outputs": [
        {
          "output_type": "execute_result",
          "data": {
            "text/html": [
              "<style  type=\"text/css\" >\n",
              "    #T_2dc9aaea_985d_11ea_a80a_0242ac1c0002row0_col0 {\n",
              "            background-color:  #b40426;\n",
              "            color:  #f1f1f1;\n",
              "        }    #T_2dc9aaea_985d_11ea_a80a_0242ac1c0002row0_col1 {\n",
              "            background-color:  #6687ed;\n",
              "            color:  #000000;\n",
              "        }    #T_2dc9aaea_985d_11ea_a80a_0242ac1c0002row0_col2 {\n",
              "            background-color:  #6c8ff1;\n",
              "            color:  #000000;\n",
              "        }    #T_2dc9aaea_985d_11ea_a80a_0242ac1c0002row0_col3 {\n",
              "            background-color:  #dedcdb;\n",
              "            color:  #000000;\n",
              "        }    #T_2dc9aaea_985d_11ea_a80a_0242ac1c0002row0_col4 {\n",
              "            background-color:  #8db0fe;\n",
              "            color:  #000000;\n",
              "        }    #T_2dc9aaea_985d_11ea_a80a_0242ac1c0002row0_col5 {\n",
              "            background-color:  #3b4cc0;\n",
              "            color:  #f1f1f1;\n",
              "        }    #T_2dc9aaea_985d_11ea_a80a_0242ac1c0002row0_col6 {\n",
              "            background-color:  #779af7;\n",
              "            color:  #000000;\n",
              "        }    #T_2dc9aaea_985d_11ea_a80a_0242ac1c0002row0_col7 {\n",
              "            background-color:  #3b4cc0;\n",
              "            color:  #f1f1f1;\n",
              "        }    #T_2dc9aaea_985d_11ea_a80a_0242ac1c0002row0_col8 {\n",
              "            background-color:  #4257c9;\n",
              "            color:  #f1f1f1;\n",
              "        }    #T_2dc9aaea_985d_11ea_a80a_0242ac1c0002row0_col9 {\n",
              "            background-color:  #bbd1f8;\n",
              "            color:  #000000;\n",
              "        }    #T_2dc9aaea_985d_11ea_a80a_0242ac1c0002row0_col10 {\n",
              "            background-color:  #b7cff9;\n",
              "            color:  #000000;\n",
              "        }    #T_2dc9aaea_985d_11ea_a80a_0242ac1c0002row0_col11 {\n",
              "            background-color:  #3c4ec2;\n",
              "            color:  #f1f1f1;\n",
              "        }    #T_2dc9aaea_985d_11ea_a80a_0242ac1c0002row0_col12 {\n",
              "            background-color:  #8db0fe;\n",
              "            color:  #000000;\n",
              "        }    #T_2dc9aaea_985d_11ea_a80a_0242ac1c0002row1_col0 {\n",
              "            background-color:  #7b9ff9;\n",
              "            color:  #000000;\n",
              "        }    #T_2dc9aaea_985d_11ea_a80a_0242ac1c0002row1_col1 {\n",
              "            background-color:  #b40426;\n",
              "            color:  #f1f1f1;\n",
              "        }    #T_2dc9aaea_985d_11ea_a80a_0242ac1c0002row1_col2 {\n",
              "            background-color:  #4c66d6;\n",
              "            color:  #000000;\n",
              "        }    #T_2dc9aaea_985d_11ea_a80a_0242ac1c0002row1_col3 {\n",
              "            background-color:  #4358cb;\n",
              "            color:  #f1f1f1;\n",
              "        }    #T_2dc9aaea_985d_11ea_a80a_0242ac1c0002row1_col4 {\n",
              "            background-color:  #5f7fe8;\n",
              "            color:  #000000;\n",
              "        }    #T_2dc9aaea_985d_11ea_a80a_0242ac1c0002row1_col5 {\n",
              "            background-color:  #6a8bef;\n",
              "            color:  #000000;\n",
              "        }    #T_2dc9aaea_985d_11ea_a80a_0242ac1c0002row1_col6 {\n",
              "            background-color:  #6f92f3;\n",
              "            color:  #000000;\n",
              "        }    #T_2dc9aaea_985d_11ea_a80a_0242ac1c0002row1_col7 {\n",
              "            background-color:  #5875e1;\n",
              "            color:  #000000;\n",
              "        }    #T_2dc9aaea_985d_11ea_a80a_0242ac1c0002row1_col8 {\n",
              "            background-color:  #465ecf;\n",
              "            color:  #f1f1f1;\n",
              "        }    #T_2dc9aaea_985d_11ea_a80a_0242ac1c0002row1_col9 {\n",
              "            background-color:  #86a9fc;\n",
              "            color:  #000000;\n",
              "        }    #T_2dc9aaea_985d_11ea_a80a_0242ac1c0002row1_col10 {\n",
              "            background-color:  #6f92f3;\n",
              "            color:  #000000;\n",
              "        }    #T_2dc9aaea_985d_11ea_a80a_0242ac1c0002row1_col11 {\n",
              "            background-color:  #3b4cc0;\n",
              "            color:  #f1f1f1;\n",
              "        }    #T_2dc9aaea_985d_11ea_a80a_0242ac1c0002row1_col12 {\n",
              "            background-color:  #e8d6cc;\n",
              "            color:  #000000;\n",
              "        }    #T_2dc9aaea_985d_11ea_a80a_0242ac1c0002row2_col0 {\n",
              "            background-color:  #89acfd;\n",
              "            color:  #000000;\n",
              "        }    #T_2dc9aaea_985d_11ea_a80a_0242ac1c0002row2_col1 {\n",
              "            background-color:  #5673e0;\n",
              "            color:  #000000;\n",
              "        }    #T_2dc9aaea_985d_11ea_a80a_0242ac1c0002row2_col2 {\n",
              "            background-color:  #b40426;\n",
              "            color:  #f1f1f1;\n",
              "        }    #T_2dc9aaea_985d_11ea_a80a_0242ac1c0002row2_col3 {\n",
              "            background-color:  #7396f5;\n",
              "            color:  #000000;\n",
              "        }    #T_2dc9aaea_985d_11ea_a80a_0242ac1c0002row2_col4 {\n",
              "            background-color:  #5572df;\n",
              "            color:  #000000;\n",
              "        }    #T_2dc9aaea_985d_11ea_a80a_0242ac1c0002row2_col5 {\n",
              "            background-color:  #5977e3;\n",
              "            color:  #000000;\n",
              "        }    #T_2dc9aaea_985d_11ea_a80a_0242ac1c0002row2_col6 {\n",
              "            background-color:  #799cf8;\n",
              "            color:  #000000;\n",
              "        }    #T_2dc9aaea_985d_11ea_a80a_0242ac1c0002row2_col7 {\n",
              "            background-color:  #3b4cc0;\n",
              "            color:  #f1f1f1;\n",
              "        }    #T_2dc9aaea_985d_11ea_a80a_0242ac1c0002row2_col8 {\n",
              "            background-color:  #485fd1;\n",
              "            color:  #f1f1f1;\n",
              "        }    #T_2dc9aaea_985d_11ea_a80a_0242ac1c0002row2_col9 {\n",
              "            background-color:  #92b4fe;\n",
              "            color:  #000000;\n",
              "        }    #T_2dc9aaea_985d_11ea_a80a_0242ac1c0002row2_col10 {\n",
              "            background-color:  #94b6ff;\n",
              "            color:  #000000;\n",
              "        }    #T_2dc9aaea_985d_11ea_a80a_0242ac1c0002row2_col11 {\n",
              "            background-color:  #3c4ec2;\n",
              "            color:  #f1f1f1;\n",
              "        }    #T_2dc9aaea_985d_11ea_a80a_0242ac1c0002row2_col12 {\n",
              "            background-color:  #6c8ff1;\n",
              "            color:  #000000;\n",
              "        }    #T_2dc9aaea_985d_11ea_a80a_0242ac1c0002row3_col0 {\n",
              "            background-color:  #e8d6cc;\n",
              "            color:  #000000;\n",
              "        }    #T_2dc9aaea_985d_11ea_a80a_0242ac1c0002row3_col1 {\n",
              "            background-color:  #465ecf;\n",
              "            color:  #f1f1f1;\n",
              "        }    #T_2dc9aaea_985d_11ea_a80a_0242ac1c0002row3_col2 {\n",
              "            background-color:  #6e90f2;\n",
              "            color:  #000000;\n",
              "        }    #T_2dc9aaea_985d_11ea_a80a_0242ac1c0002row3_col3 {\n",
              "            background-color:  #b40426;\n",
              "            color:  #f1f1f1;\n",
              "        }    #T_2dc9aaea_985d_11ea_a80a_0242ac1c0002row3_col4 {\n",
              "            background-color:  #6c8ff1;\n",
              "            color:  #000000;\n",
              "        }    #T_2dc9aaea_985d_11ea_a80a_0242ac1c0002row3_col5 {\n",
              "            background-color:  #6282ea;\n",
              "            color:  #000000;\n",
              "        }    #T_2dc9aaea_985d_11ea_a80a_0242ac1c0002row3_col6 {\n",
              "            background-color:  #b9d0f9;\n",
              "            color:  #000000;\n",
              "        }    #T_2dc9aaea_985d_11ea_a80a_0242ac1c0002row3_col7 {\n",
              "            background-color:  #516ddb;\n",
              "            color:  #000000;\n",
              "        }    #T_2dc9aaea_985d_11ea_a80a_0242ac1c0002row3_col8 {\n",
              "            background-color:  #3b4cc0;\n",
              "            color:  #f1f1f1;\n",
              "        }    #T_2dc9aaea_985d_11ea_a80a_0242ac1c0002row3_col9 {\n",
              "            background-color:  #bfd3f6;\n",
              "            color:  #000000;\n",
              "        }    #T_2dc9aaea_985d_11ea_a80a_0242ac1c0002row3_col10 {\n",
              "            background-color:  #cad8ef;\n",
              "            color:  #000000;\n",
              "        }    #T_2dc9aaea_985d_11ea_a80a_0242ac1c0002row3_col11 {\n",
              "            background-color:  #3b4cc0;\n",
              "            color:  #f1f1f1;\n",
              "        }    #T_2dc9aaea_985d_11ea_a80a_0242ac1c0002row3_col12 {\n",
              "            background-color:  #506bda;\n",
              "            color:  #000000;\n",
              "        }    #T_2dc9aaea_985d_11ea_a80a_0242ac1c0002row4_col0 {\n",
              "            background-color:  #a6c4fe;\n",
              "            color:  #000000;\n",
              "        }    #T_2dc9aaea_985d_11ea_a80a_0242ac1c0002row4_col1 {\n",
              "            background-color:  #688aef;\n",
              "            color:  #000000;\n",
              "        }    #T_2dc9aaea_985d_11ea_a80a_0242ac1c0002row4_col2 {\n",
              "            background-color:  #5470de;\n",
              "            color:  #000000;\n",
              "        }    #T_2dc9aaea_985d_11ea_a80a_0242ac1c0002row4_col3 {\n",
              "            background-color:  #7093f3;\n",
              "            color:  #000000;\n",
              "        }    #T_2dc9aaea_985d_11ea_a80a_0242ac1c0002row4_col4 {\n",
              "            background-color:  #b40426;\n",
              "            color:  #f1f1f1;\n",
              "        }    #T_2dc9aaea_985d_11ea_a80a_0242ac1c0002row4_col5 {\n",
              "            background-color:  #5e7de7;\n",
              "            color:  #000000;\n",
              "        }    #T_2dc9aaea_985d_11ea_a80a_0242ac1c0002row4_col6 {\n",
              "            background-color:  #779af7;\n",
              "            color:  #000000;\n",
              "        }    #T_2dc9aaea_985d_11ea_a80a_0242ac1c0002row4_col7 {\n",
              "            background-color:  #445acc;\n",
              "            color:  #f1f1f1;\n",
              "        }    #T_2dc9aaea_985d_11ea_a80a_0242ac1c0002row4_col8 {\n",
              "            background-color:  #4961d2;\n",
              "            color:  #f1f1f1;\n",
              "        }    #T_2dc9aaea_985d_11ea_a80a_0242ac1c0002row4_col9 {\n",
              "            background-color:  #92b4fe;\n",
              "            color:  #000000;\n",
              "        }    #T_2dc9aaea_985d_11ea_a80a_0242ac1c0002row4_col10 {\n",
              "            background-color:  #85a8fc;\n",
              "            color:  #000000;\n",
              "        }    #T_2dc9aaea_985d_11ea_a80a_0242ac1c0002row4_col11 {\n",
              "            background-color:  #3d50c3;\n",
              "            color:  #f1f1f1;\n",
              "        }    #T_2dc9aaea_985d_11ea_a80a_0242ac1c0002row4_col12 {\n",
              "            background-color:  #84a7fc;\n",
              "            color:  #000000;\n",
              "        }    #T_2dc9aaea_985d_11ea_a80a_0242ac1c0002row5_col0 {\n",
              "            background-color:  #3b4cc0;\n",
              "            color:  #f1f1f1;\n",
              "        }    #T_2dc9aaea_985d_11ea_a80a_0242ac1c0002row5_col1 {\n",
              "            background-color:  #5470de;\n",
              "            color:  #000000;\n",
              "        }    #T_2dc9aaea_985d_11ea_a80a_0242ac1c0002row5_col2 {\n",
              "            background-color:  #3b4cc0;\n",
              "            color:  #f1f1f1;\n",
              "        }    #T_2dc9aaea_985d_11ea_a80a_0242ac1c0002row5_col3 {\n",
              "            background-color:  #4961d2;\n",
              "            color:  #f1f1f1;\n",
              "        }    #T_2dc9aaea_985d_11ea_a80a_0242ac1c0002row5_col4 {\n",
              "            background-color:  #3f53c6;\n",
              "            color:  #f1f1f1;\n",
              "        }    #T_2dc9aaea_985d_11ea_a80a_0242ac1c0002row5_col5 {\n",
              "            background-color:  #b40426;\n",
              "            color:  #f1f1f1;\n",
              "        }    #T_2dc9aaea_985d_11ea_a80a_0242ac1c0002row5_col6 {\n",
              "            background-color:  #aac7fd;\n",
              "            color:  #000000;\n",
              "        }    #T_2dc9aaea_985d_11ea_a80a_0242ac1c0002row5_col7 {\n",
              "            background-color:  #4a63d3;\n",
              "            color:  #f1f1f1;\n",
              "        }    #T_2dc9aaea_985d_11ea_a80a_0242ac1c0002row5_col8 {\n",
              "            background-color:  #4a63d3;\n",
              "            color:  #f1f1f1;\n",
              "        }    #T_2dc9aaea_985d_11ea_a80a_0242ac1c0002row5_col9 {\n",
              "            background-color:  #6e90f2;\n",
              "            color:  #000000;\n",
              "        }    #T_2dc9aaea_985d_11ea_a80a_0242ac1c0002row5_col10 {\n",
              "            background-color:  #5f7fe8;\n",
              "            color:  #000000;\n",
              "        }    #T_2dc9aaea_985d_11ea_a80a_0242ac1c0002row5_col11 {\n",
              "            background-color:  #3b4cc0;\n",
              "            color:  #f1f1f1;\n",
              "        }    #T_2dc9aaea_985d_11ea_a80a_0242ac1c0002row5_col12 {\n",
              "            background-color:  #688aef;\n",
              "            color:  #000000;\n",
              "        }    #T_2dc9aaea_985d_11ea_a80a_0242ac1c0002row6_col0 {\n",
              "            background-color:  #5977e3;\n",
              "            color:  #000000;\n",
              "        }    #T_2dc9aaea_985d_11ea_a80a_0242ac1c0002row6_col1 {\n",
              "            background-color:  #3b4cc0;\n",
              "            color:  #f1f1f1;\n",
              "        }    #T_2dc9aaea_985d_11ea_a80a_0242ac1c0002row6_col2 {\n",
              "            background-color:  #3c4ec2;\n",
              "            color:  #f1f1f1;\n",
              "        }    #T_2dc9aaea_985d_11ea_a80a_0242ac1c0002row6_col3 {\n",
              "            background-color:  #8badfd;\n",
              "            color:  #000000;\n",
              "        }    #T_2dc9aaea_985d_11ea_a80a_0242ac1c0002row6_col4 {\n",
              "            background-color:  #3b4cc0;\n",
              "            color:  #f1f1f1;\n",
              "        }    #T_2dc9aaea_985d_11ea_a80a_0242ac1c0002row6_col5 {\n",
              "            background-color:  #90b2fe;\n",
              "            color:  #000000;\n",
              "        }    #T_2dc9aaea_985d_11ea_a80a_0242ac1c0002row6_col6 {\n",
              "            background-color:  #b40426;\n",
              "            color:  #f1f1f1;\n",
              "        }    #T_2dc9aaea_985d_11ea_a80a_0242ac1c0002row6_col7 {\n",
              "            background-color:  #3d50c3;\n",
              "            color:  #f1f1f1;\n",
              "        }    #T_2dc9aaea_985d_11ea_a80a_0242ac1c0002row6_col8 {\n",
              "            background-color:  #485fd1;\n",
              "            color:  #f1f1f1;\n",
              "        }    #T_2dc9aaea_985d_11ea_a80a_0242ac1c0002row6_col9 {\n",
              "            background-color:  #3b4cc0;\n",
              "            color:  #f1f1f1;\n",
              "        }    #T_2dc9aaea_985d_11ea_a80a_0242ac1c0002row6_col10 {\n",
              "            background-color:  #3b4cc0;\n",
              "            color:  #f1f1f1;\n",
              "        }    #T_2dc9aaea_985d_11ea_a80a_0242ac1c0002row6_col11 {\n",
              "            background-color:  #3b4cc0;\n",
              "            color:  #f1f1f1;\n",
              "        }    #T_2dc9aaea_985d_11ea_a80a_0242ac1c0002row6_col12 {\n",
              "            background-color:  #3b4cc0;\n",
              "            color:  #f1f1f1;\n",
              "        }    #T_2dc9aaea_985d_11ea_a80a_0242ac1c0002row7_col0 {\n",
              "            background-color:  #6687ed;\n",
              "            color:  #000000;\n",
              "        }    #T_2dc9aaea_985d_11ea_a80a_0242ac1c0002row7_col1 {\n",
              "            background-color:  #6e90f2;\n",
              "            color:  #000000;\n",
              "        }    #T_2dc9aaea_985d_11ea_a80a_0242ac1c0002row7_col2 {\n",
              "            background-color:  #485fd1;\n",
              "            color:  #f1f1f1;\n",
              "        }    #T_2dc9aaea_985d_11ea_a80a_0242ac1c0002row7_col3 {\n",
              "            background-color:  #6384eb;\n",
              "            color:  #000000;\n",
              "        }    #T_2dc9aaea_985d_11ea_a80a_0242ac1c0002row7_col4 {\n",
              "            background-color:  #536edd;\n",
              "            color:  #000000;\n",
              "        }    #T_2dc9aaea_985d_11ea_a80a_0242ac1c0002row7_col5 {\n",
              "            background-color:  #7699f6;\n",
              "            color:  #000000;\n",
              "        }    #T_2dc9aaea_985d_11ea_a80a_0242ac1c0002row7_col6 {\n",
              "            background-color:  #88abfd;\n",
              "            color:  #000000;\n",
              "        }    #T_2dc9aaea_985d_11ea_a80a_0242ac1c0002row7_col7 {\n",
              "            background-color:  #b40426;\n",
              "            color:  #f1f1f1;\n",
              "        }    #T_2dc9aaea_985d_11ea_a80a_0242ac1c0002row7_col8 {\n",
              "            background-color:  #4c66d6;\n",
              "            color:  #000000;\n",
              "        }    #T_2dc9aaea_985d_11ea_a80a_0242ac1c0002row7_col9 {\n",
              "            background-color:  #a1c0ff;\n",
              "            color:  #000000;\n",
              "        }    #T_2dc9aaea_985d_11ea_a80a_0242ac1c0002row7_col10 {\n",
              "            background-color:  #9bbcff;\n",
              "            color:  #000000;\n",
              "        }    #T_2dc9aaea_985d_11ea_a80a_0242ac1c0002row7_col11 {\n",
              "            background-color:  #3c4ec2;\n",
              "            color:  #f1f1f1;\n",
              "        }    #T_2dc9aaea_985d_11ea_a80a_0242ac1c0002row7_col12 {\n",
              "            background-color:  #9dbdff;\n",
              "            color:  #000000;\n",
              "        }    #T_2dc9aaea_985d_11ea_a80a_0242ac1c0002row8_col0 {\n",
              "            background-color:  #5f7fe8;\n",
              "            color:  #000000;\n",
              "        }    #T_2dc9aaea_985d_11ea_a80a_0242ac1c0002row8_col1 {\n",
              "            background-color:  #4f69d9;\n",
              "            color:  #000000;\n",
              "        }    #T_2dc9aaea_985d_11ea_a80a_0242ac1c0002row8_col2 {\n",
              "            background-color:  #485fd1;\n",
              "            color:  #f1f1f1;\n",
              "        }    #T_2dc9aaea_985d_11ea_a80a_0242ac1c0002row8_col3 {\n",
              "            background-color:  #3f53c6;\n",
              "            color:  #f1f1f1;\n",
              "        }    #T_2dc9aaea_985d_11ea_a80a_0242ac1c0002row8_col4 {\n",
              "            background-color:  #4961d2;\n",
              "            color:  #f1f1f1;\n",
              "        }    #T_2dc9aaea_985d_11ea_a80a_0242ac1c0002row8_col5 {\n",
              "            background-color:  #688aef;\n",
              "            color:  #000000;\n",
              "        }    #T_2dc9aaea_985d_11ea_a80a_0242ac1c0002row8_col6 {\n",
              "            background-color:  #85a8fc;\n",
              "            color:  #000000;\n",
              "        }    #T_2dc9aaea_985d_11ea_a80a_0242ac1c0002row8_col7 {\n",
              "            background-color:  #3e51c5;\n",
              "            color:  #f1f1f1;\n",
              "        }    #T_2dc9aaea_985d_11ea_a80a_0242ac1c0002row8_col8 {\n",
              "            background-color:  #b40426;\n",
              "            color:  #f1f1f1;\n",
              "        }    #T_2dc9aaea_985d_11ea_a80a_0242ac1c0002row8_col9 {\n",
              "            background-color:  #7ea1fa;\n",
              "            color:  #000000;\n",
              "        }    #T_2dc9aaea_985d_11ea_a80a_0242ac1c0002row8_col10 {\n",
              "            background-color:  #6a8bef;\n",
              "            color:  #000000;\n",
              "        }    #T_2dc9aaea_985d_11ea_a80a_0242ac1c0002row8_col11 {\n",
              "            background-color:  #3b4cc0;\n",
              "            color:  #f1f1f1;\n",
              "        }    #T_2dc9aaea_985d_11ea_a80a_0242ac1c0002row8_col12 {\n",
              "            background-color:  #5d7ce6;\n",
              "            color:  #000000;\n",
              "        }    #T_2dc9aaea_985d_11ea_a80a_0242ac1c0002row9_col0 {\n",
              "            background-color:  #a5c3fe;\n",
              "            color:  #000000;\n",
              "        }    #T_2dc9aaea_985d_11ea_a80a_0242ac1c0002row9_col1 {\n",
              "            background-color:  #536edd;\n",
              "            color:  #000000;\n",
              "        }    #T_2dc9aaea_985d_11ea_a80a_0242ac1c0002row9_col2 {\n",
              "            background-color:  #5572df;\n",
              "            color:  #000000;\n",
              "        }    #T_2dc9aaea_985d_11ea_a80a_0242ac1c0002row9_col3 {\n",
              "            background-color:  #94b6ff;\n",
              "            color:  #000000;\n",
              "        }    #T_2dc9aaea_985d_11ea_a80a_0242ac1c0002row9_col4 {\n",
              "            background-color:  #5673e0;\n",
              "            color:  #000000;\n",
              "        }    #T_2dc9aaea_985d_11ea_a80a_0242ac1c0002row9_col5 {\n",
              "            background-color:  #4e68d8;\n",
              "            color:  #000000;\n",
              "        }    #T_2dc9aaea_985d_11ea_a80a_0242ac1c0002row9_col6 {\n",
              "            background-color:  #3b4cc0;\n",
              "            color:  #f1f1f1;\n",
              "        }    #T_2dc9aaea_985d_11ea_a80a_0242ac1c0002row9_col7 {\n",
              "            background-color:  #5a78e4;\n",
              "            color:  #000000;\n",
              "        }    #T_2dc9aaea_985d_11ea_a80a_0242ac1c0002row9_col8 {\n",
              "            background-color:  #4055c8;\n",
              "            color:  #f1f1f1;\n",
              "        }    #T_2dc9aaea_985d_11ea_a80a_0242ac1c0002row9_col9 {\n",
              "            background-color:  #b40426;\n",
              "            color:  #f1f1f1;\n",
              "        }    #T_2dc9aaea_985d_11ea_a80a_0242ac1c0002row9_col10 {\n",
              "            background-color:  #f59d7e;\n",
              "            color:  #000000;\n",
              "        }    #T_2dc9aaea_985d_11ea_a80a_0242ac1c0002row9_col11 {\n",
              "            background-color:  #3c4ec2;\n",
              "            color:  #f1f1f1;\n",
              "        }    #T_2dc9aaea_985d_11ea_a80a_0242ac1c0002row9_col12 {\n",
              "            background-color:  #6687ed;\n",
              "            color:  #000000;\n",
              "        }    #T_2dc9aaea_985d_11ea_a80a_0242ac1c0002row10_col0 {\n",
              "            background-color:  #aec9fc;\n",
              "            color:  #000000;\n",
              "        }    #T_2dc9aaea_985d_11ea_a80a_0242ac1c0002row10_col1 {\n",
              "            background-color:  #4c66d6;\n",
              "            color:  #000000;\n",
              "        }    #T_2dc9aaea_985d_11ea_a80a_0242ac1c0002row10_col2 {\n",
              "            background-color:  #6b8df0;\n",
              "            color:  #000000;\n",
              "        }    #T_2dc9aaea_985d_11ea_a80a_0242ac1c0002row10_col3 {\n",
              "            background-color:  #afcafc;\n",
              "            color:  #000000;\n",
              "        }    #T_2dc9aaea_985d_11ea_a80a_0242ac1c0002row10_col4 {\n",
              "            background-color:  #5a78e4;\n",
              "            color:  #000000;\n",
              "        }    #T_2dc9aaea_985d_11ea_a80a_0242ac1c0002row10_col5 {\n",
              "            background-color:  #536edd;\n",
              "            color:  #000000;\n",
              "        }    #T_2dc9aaea_985d_11ea_a80a_0242ac1c0002row10_col6 {\n",
              "            background-color:  #4b64d5;\n",
              "            color:  #f1f1f1;\n",
              "        }    #T_2dc9aaea_985d_11ea_a80a_0242ac1c0002row10_col7 {\n",
              "            background-color:  #6485ec;\n",
              "            color:  #000000;\n",
              "        }    #T_2dc9aaea_985d_11ea_a80a_0242ac1c0002row10_col8 {\n",
              "            background-color:  #3e51c5;\n",
              "            color:  #f1f1f1;\n",
              "        }    #T_2dc9aaea_985d_11ea_a80a_0242ac1c0002row10_col9 {\n",
              "            background-color:  #f39778;\n",
              "            color:  #000000;\n",
              "        }    #T_2dc9aaea_985d_11ea_a80a_0242ac1c0002row10_col10 {\n",
              "            background-color:  #b40426;\n",
              "            color:  #f1f1f1;\n",
              "        }    #T_2dc9aaea_985d_11ea_a80a_0242ac1c0002row10_col11 {\n",
              "            background-color:  #3c4ec2;\n",
              "            color:  #f1f1f1;\n",
              "        }    #T_2dc9aaea_985d_11ea_a80a_0242ac1c0002row10_col12 {\n",
              "            background-color:  #5977e3;\n",
              "            color:  #000000;\n",
              "        }    #T_2dc9aaea_985d_11ea_a80a_0242ac1c0002row11_col0 {\n",
              "            background-color:  #688aef;\n",
              "            color:  #000000;\n",
              "        }    #T_2dc9aaea_985d_11ea_a80a_0242ac1c0002row11_col1 {\n",
              "            background-color:  #536edd;\n",
              "            color:  #000000;\n",
              "        }    #T_2dc9aaea_985d_11ea_a80a_0242ac1c0002row11_col2 {\n",
              "            background-color:  #4a63d3;\n",
              "            color:  #f1f1f1;\n",
              "        }    #T_2dc9aaea_985d_11ea_a80a_0242ac1c0002row11_col3 {\n",
              "            background-color:  #4f69d9;\n",
              "            color:  #000000;\n",
              "        }    #T_2dc9aaea_985d_11ea_a80a_0242ac1c0002row11_col4 {\n",
              "            background-color:  #4b64d5;\n",
              "            color:  #f1f1f1;\n",
              "        }    #T_2dc9aaea_985d_11ea_a80a_0242ac1c0002row11_col5 {\n",
              "            background-color:  #6788ee;\n",
              "            color:  #000000;\n",
              "        }    #T_2dc9aaea_985d_11ea_a80a_0242ac1c0002row11_col6 {\n",
              "            background-color:  #86a9fc;\n",
              "            color:  #000000;\n",
              "        }    #T_2dc9aaea_985d_11ea_a80a_0242ac1c0002row11_col7 {\n",
              "            background-color:  #3d50c3;\n",
              "            color:  #f1f1f1;\n",
              "        }    #T_2dc9aaea_985d_11ea_a80a_0242ac1c0002row11_col8 {\n",
              "            background-color:  #4a63d3;\n",
              "            color:  #f1f1f1;\n",
              "        }    #T_2dc9aaea_985d_11ea_a80a_0242ac1c0002row11_col9 {\n",
              "            background-color:  #88abfd;\n",
              "            color:  #000000;\n",
              "        }    #T_2dc9aaea_985d_11ea_a80a_0242ac1c0002row11_col10 {\n",
              "            background-color:  #779af7;\n",
              "            color:  #000000;\n",
              "        }    #T_2dc9aaea_985d_11ea_a80a_0242ac1c0002row11_col11 {\n",
              "            background-color:  #b40426;\n",
              "            color:  #f1f1f1;\n",
              "        }    #T_2dc9aaea_985d_11ea_a80a_0242ac1c0002row11_col12 {\n",
              "            background-color:  #6485ec;\n",
              "            color:  #000000;\n",
              "        }    #T_2dc9aaea_985d_11ea_a80a_0242ac1c0002row12_col0 {\n",
              "            background-color:  #92b4fe;\n",
              "            color:  #000000;\n",
              "        }    #T_2dc9aaea_985d_11ea_a80a_0242ac1c0002row12_col1 {\n",
              "            background-color:  #e1dad6;\n",
              "            color:  #000000;\n",
              "        }    #T_2dc9aaea_985d_11ea_a80a_0242ac1c0002row12_col2 {\n",
              "            background-color:  #516ddb;\n",
              "            color:  #000000;\n",
              "        }    #T_2dc9aaea_985d_11ea_a80a_0242ac1c0002row12_col3 {\n",
              "            background-color:  #3b4cc0;\n",
              "            color:  #f1f1f1;\n",
              "        }    #T_2dc9aaea_985d_11ea_a80a_0242ac1c0002row12_col4 {\n",
              "            background-color:  #6b8df0;\n",
              "            color:  #000000;\n",
              "        }    #T_2dc9aaea_985d_11ea_a80a_0242ac1c0002row12_col5 {\n",
              "            background-color:  #6c8ff1;\n",
              "            color:  #000000;\n",
              "        }    #T_2dc9aaea_985d_11ea_a80a_0242ac1c0002row12_col6 {\n",
              "            background-color:  #5e7de7;\n",
              "            color:  #000000;\n",
              "        }    #T_2dc9aaea_985d_11ea_a80a_0242ac1c0002row12_col7 {\n",
              "            background-color:  #799cf8;\n",
              "            color:  #000000;\n",
              "        }    #T_2dc9aaea_985d_11ea_a80a_0242ac1c0002row12_col8 {\n",
              "            background-color:  #4358cb;\n",
              "            color:  #f1f1f1;\n",
              "        }    #T_2dc9aaea_985d_11ea_a80a_0242ac1c0002row12_col9 {\n",
              "            background-color:  #88abfd;\n",
              "            color:  #000000;\n",
              "        }    #T_2dc9aaea_985d_11ea_a80a_0242ac1c0002row12_col10 {\n",
              "            background-color:  #6b8df0;\n",
              "            color:  #000000;\n",
              "        }    #T_2dc9aaea_985d_11ea_a80a_0242ac1c0002row12_col11 {\n",
              "            background-color:  #3c4ec2;\n",
              "            color:  #f1f1f1;\n",
              "        }    #T_2dc9aaea_985d_11ea_a80a_0242ac1c0002row12_col12 {\n",
              "            background-color:  #b40426;\n",
              "            color:  #f1f1f1;\n",
              "        }</style><table id=\"T_2dc9aaea_985d_11ea_a80a_0242ac1c0002\" ><thead>    <tr>        <th class=\"blank level0\" ></th>        <th class=\"col_heading level0 col0\" >Trip_Distance</th>        <th class=\"col_heading level0 col1\" >Type_of_Cab</th>        <th class=\"col_heading level0 col2\" >Customer_Since_Months</th>        <th class=\"col_heading level0 col3\" >Life_Style_Index</th>        <th class=\"col_heading level0 col4\" >Confidence_Life_Style_Index</th>        <th class=\"col_heading level0 col5\" >Destination_Type</th>        <th class=\"col_heading level0 col6\" >Customer_Rating</th>        <th class=\"col_heading level0 col7\" >Cancellation_Last_1Month</th>        <th class=\"col_heading level0 col8\" >Var1</th>        <th class=\"col_heading level0 col9\" >Var2</th>        <th class=\"col_heading level0 col10\" >Var3</th>        <th class=\"col_heading level0 col11\" >Gender</th>        <th class=\"col_heading level0 col12\" >Surge_Pricing_Type</th>    </tr></thead><tbody>\n",
              "                <tr>\n",
              "                        <th id=\"T_2dc9aaea_985d_11ea_a80a_0242ac1c0002level0_row0\" class=\"row_heading level0 row0\" >Trip_Distance</th>\n",
              "                        <td id=\"T_2dc9aaea_985d_11ea_a80a_0242ac1c0002row0_col0\" class=\"data row0 col0\" >1.00000</td>\n",
              "                        <td id=\"T_2dc9aaea_985d_11ea_a80a_0242ac1c0002row0_col1\" class=\"data row0 col1\" >0.06338</td>\n",
              "                        <td id=\"T_2dc9aaea_985d_11ea_a80a_0242ac1c0002row0_col2\" class=\"data row0 col2\" >0.11121</td>\n",
              "                        <td id=\"T_2dc9aaea_985d_11ea_a80a_0242ac1c0002row0_col3\" class=\"data row0 col3\" >0.46837</td>\n",
              "                        <td id=\"T_2dc9aaea_985d_11ea_a80a_0242ac1c0002row0_col4\" class=\"data row0 col4\" >0.20860</td>\n",
              "                        <td id=\"T_2dc9aaea_985d_11ea_a80a_0242ac1c0002row0_col5\" class=\"data row0 col5\" >-0.17106</td>\n",
              "                        <td id=\"T_2dc9aaea_985d_11ea_a80a_0242ac1c0002row0_col6\" class=\"data row0 col6\" >-0.05465</td>\n",
              "                        <td id=\"T_2dc9aaea_985d_11ea_a80a_0242ac1c0002row0_col7\" class=\"data row0 col7\" >-0.00769</td>\n",
              "                        <td id=\"T_2dc9aaea_985d_11ea_a80a_0242ac1c0002row0_col8\" class=\"data row0 col8\" >-0.03066</td>\n",
              "                        <td id=\"T_2dc9aaea_985d_11ea_a80a_0242ac1c0002row0_col9\" class=\"data row0 col9\" >0.20046</td>\n",
              "                        <td id=\"T_2dc9aaea_985d_11ea_a80a_0242ac1c0002row0_col10\" class=\"data row0 col10\" >0.23171</td>\n",
              "                        <td id=\"T_2dc9aaea_985d_11ea_a80a_0242ac1c0002row0_col11\" class=\"data row0 col11\" >0.00217</td>\n",
              "                        <td id=\"T_2dc9aaea_985d_11ea_a80a_0242ac1c0002row0_col12\" class=\"data row0 col12\" >0.13593</td>\n",
              "            </tr>\n",
              "            <tr>\n",
              "                        <th id=\"T_2dc9aaea_985d_11ea_a80a_0242ac1c0002level0_row1\" class=\"row_heading level0 row1\" >Type_of_Cab</th>\n",
              "                        <td id=\"T_2dc9aaea_985d_11ea_a80a_0242ac1c0002row1_col0\" class=\"data row1 col0\" >0.06338</td>\n",
              "                        <td id=\"T_2dc9aaea_985d_11ea_a80a_0242ac1c0002row1_col1\" class=\"data row1 col1\" >1.00000</td>\n",
              "                        <td id=\"T_2dc9aaea_985d_11ea_a80a_0242ac1c0002row1_col2\" class=\"data row1 col2\" >0.01048</td>\n",
              "                        <td id=\"T_2dc9aaea_985d_11ea_a80a_0242ac1c0002row1_col3\" class=\"data row1 col3\" >-0.04401</td>\n",
              "                        <td id=\"T_2dc9aaea_985d_11ea_a80a_0242ac1c0002row1_col4\" class=\"data row1 col4\" >0.06927</td>\n",
              "                        <td id=\"T_2dc9aaea_985d_11ea_a80a_0242ac1c0002row1_col5\" class=\"data row1 col5\" >0.00291</td>\n",
              "                        <td id=\"T_2dc9aaea_985d_11ea_a80a_0242ac1c0002row1_col6\" class=\"data row1 col6\" >-0.08877</td>\n",
              "                        <td id=\"T_2dc9aaea_985d_11ea_a80a_0242ac1c0002row1_col7\" class=\"data row1 col7\" >0.08810</td>\n",
              "                        <td id=\"T_2dc9aaea_985d_11ea_a80a_0242ac1c0002row1_col8\" class=\"data row1 col8\" >-0.01238</td>\n",
              "                        <td id=\"T_2dc9aaea_985d_11ea_a80a_0242ac1c0002row1_col9\" class=\"data row1 col9\" >-0.00136</td>\n",
              "                        <td id=\"T_2dc9aaea_985d_11ea_a80a_0242ac1c0002row1_col10\" class=\"data row1 col10\" >-0.02244</td>\n",
              "                        <td id=\"T_2dc9aaea_985d_11ea_a80a_0242ac1c0002row1_col11\" class=\"data row1 col11\" >0.00021</td>\n",
              "                        <td id=\"T_2dc9aaea_985d_11ea_a80a_0242ac1c0002row1_col12\" class=\"data row1 col12\" >0.47389</td>\n",
              "            </tr>\n",
              "            <tr>\n",
              "                        <th id=\"T_2dc9aaea_985d_11ea_a80a_0242ac1c0002level0_row2\" class=\"row_heading level0 row2\" >Customer_Since_Months</th>\n",
              "                        <td id=\"T_2dc9aaea_985d_11ea_a80a_0242ac1c0002row2_col0\" class=\"data row2 col0\" >0.11121</td>\n",
              "                        <td id=\"T_2dc9aaea_985d_11ea_a80a_0242ac1c0002row2_col1\" class=\"data row2 col1\" >0.01048</td>\n",
              "                        <td id=\"T_2dc9aaea_985d_11ea_a80a_0242ac1c0002row2_col2\" class=\"data row2 col2\" >1.00000</td>\n",
              "                        <td id=\"T_2dc9aaea_985d_11ea_a80a_0242ac1c0002row2_col3\" class=\"data row2 col3\" >0.11523</td>\n",
              "                        <td id=\"T_2dc9aaea_985d_11ea_a80a_0242ac1c0002row2_col4\" class=\"data row2 col4\" >0.03544</td>\n",
              "                        <td id=\"T_2dc9aaea_985d_11ea_a80a_0242ac1c0002row2_col5\" class=\"data row2 col5\" >-0.05373</td>\n",
              "                        <td id=\"T_2dc9aaea_985d_11ea_a80a_0242ac1c0002row2_col6\" class=\"data row2 col6\" >-0.04883</td>\n",
              "                        <td id=\"T_2dc9aaea_985d_11ea_a80a_0242ac1c0002row2_col7\" class=\"data row2 col7\" >-0.00486</td>\n",
              "                        <td id=\"T_2dc9aaea_985d_11ea_a80a_0242ac1c0002row2_col8\" class=\"data row2 col8\" >-0.00668</td>\n",
              "                        <td id=\"T_2dc9aaea_985d_11ea_a80a_0242ac1c0002row2_col9\" class=\"data row2 col9\" >0.04034</td>\n",
              "                        <td id=\"T_2dc9aaea_985d_11ea_a80a_0242ac1c0002row2_col10\" class=\"data row2 col10\" >0.10754</td>\n",
              "                        <td id=\"T_2dc9aaea_985d_11ea_a80a_0242ac1c0002row2_col11\" class=\"data row2 col11\" >0.00160</td>\n",
              "                        <td id=\"T_2dc9aaea_985d_11ea_a80a_0242ac1c0002row2_col12\" class=\"data row2 col12\" >0.02759</td>\n",
              "            </tr>\n",
              "            <tr>\n",
              "                        <th id=\"T_2dc9aaea_985d_11ea_a80a_0242ac1c0002level0_row3\" class=\"row_heading level0 row3\" >Life_Style_Index</th>\n",
              "                        <td id=\"T_2dc9aaea_985d_11ea_a80a_0242ac1c0002row3_col0\" class=\"data row3 col0\" >0.46837</td>\n",
              "                        <td id=\"T_2dc9aaea_985d_11ea_a80a_0242ac1c0002row3_col1\" class=\"data row3 col1\" >-0.04401</td>\n",
              "                        <td id=\"T_2dc9aaea_985d_11ea_a80a_0242ac1c0002row3_col2\" class=\"data row3 col2\" >0.11523</td>\n",
              "                        <td id=\"T_2dc9aaea_985d_11ea_a80a_0242ac1c0002row3_col3\" class=\"data row3 col3\" >1.00000</td>\n",
              "                        <td id=\"T_2dc9aaea_985d_11ea_a80a_0242ac1c0002row3_col4\" class=\"data row3 col4\" >0.10993</td>\n",
              "                        <td id=\"T_2dc9aaea_985d_11ea_a80a_0242ac1c0002row3_col5\" class=\"data row3 col5\" >-0.02270</td>\n",
              "                        <td id=\"T_2dc9aaea_985d_11ea_a80a_0242ac1c0002row3_col6\" class=\"data row3 col6\" >0.18917</td>\n",
              "                        <td id=\"T_2dc9aaea_985d_11ea_a80a_0242ac1c0002row3_col7\" class=\"data row3 col7\" >0.06818</td>\n",
              "                        <td id=\"T_2dc9aaea_985d_11ea_a80a_0242ac1c0002row3_col8\" class=\"data row3 col8\" >-0.05587</td>\n",
              "                        <td id=\"T_2dc9aaea_985d_11ea_a80a_0242ac1c0002row3_col9\" class=\"data row3 col9\" >0.21592</td>\n",
              "                        <td id=\"T_2dc9aaea_985d_11ea_a80a_0242ac1c0002row3_col10\" class=\"data row3 col10\" >0.30330</td>\n",
              "                        <td id=\"T_2dc9aaea_985d_11ea_a80a_0242ac1c0002row3_col11\" class=\"data row3 col11\" >0.00065</td>\n",
              "                        <td id=\"T_2dc9aaea_985d_11ea_a80a_0242ac1c0002row3_col12\" class=\"data row3 col12\" >-0.07368</td>\n",
              "            </tr>\n",
              "            <tr>\n",
              "                        <th id=\"T_2dc9aaea_985d_11ea_a80a_0242ac1c0002level0_row4\" class=\"row_heading level0 row4\" >Confidence_Life_Style_Index</th>\n",
              "                        <td id=\"T_2dc9aaea_985d_11ea_a80a_0242ac1c0002row4_col0\" class=\"data row4 col0\" >0.20860</td>\n",
              "                        <td id=\"T_2dc9aaea_985d_11ea_a80a_0242ac1c0002row4_col1\" class=\"data row4 col1\" >0.06927</td>\n",
              "                        <td id=\"T_2dc9aaea_985d_11ea_a80a_0242ac1c0002row4_col2\" class=\"data row4 col2\" >0.03544</td>\n",
              "                        <td id=\"T_2dc9aaea_985d_11ea_a80a_0242ac1c0002row4_col3\" class=\"data row4 col3\" >0.10993</td>\n",
              "                        <td id=\"T_2dc9aaea_985d_11ea_a80a_0242ac1c0002row4_col4\" class=\"data row4 col4\" >1.00000</td>\n",
              "                        <td id=\"T_2dc9aaea_985d_11ea_a80a_0242ac1c0002row4_col5\" class=\"data row4 col5\" >-0.03634</td>\n",
              "                        <td id=\"T_2dc9aaea_985d_11ea_a80a_0242ac1c0002row4_col6\" class=\"data row4 col6\" >-0.05610</td>\n",
              "                        <td id=\"T_2dc9aaea_985d_11ea_a80a_0242ac1c0002row4_col7\" class=\"data row4 col7\" >0.02657</td>\n",
              "                        <td id=\"T_2dc9aaea_985d_11ea_a80a_0242ac1c0002row4_col8\" class=\"data row4 col8\" >-0.00354</td>\n",
              "                        <td id=\"T_2dc9aaea_985d_11ea_a80a_0242ac1c0002row4_col9\" class=\"data row4 col9\" >0.04274</td>\n",
              "                        <td id=\"T_2dc9aaea_985d_11ea_a80a_0242ac1c0002row4_col10\" class=\"data row4 col10\" >0.05300</td>\n",
              "                        <td id=\"T_2dc9aaea_985d_11ea_a80a_0242ac1c0002row4_col11\" class=\"data row4 col11\" >0.00480</td>\n",
              "                        <td id=\"T_2dc9aaea_985d_11ea_a80a_0242ac1c0002row4_col12\" class=\"data row4 col12\" >0.10593</td>\n",
              "            </tr>\n",
              "            <tr>\n",
              "                        <th id=\"T_2dc9aaea_985d_11ea_a80a_0242ac1c0002level0_row5\" class=\"row_heading level0 row5\" >Destination_Type</th>\n",
              "                        <td id=\"T_2dc9aaea_985d_11ea_a80a_0242ac1c0002row5_col0\" class=\"data row5 col0\" >-0.17106</td>\n",
              "                        <td id=\"T_2dc9aaea_985d_11ea_a80a_0242ac1c0002row5_col1\" class=\"data row5 col1\" >0.00291</td>\n",
              "                        <td id=\"T_2dc9aaea_985d_11ea_a80a_0242ac1c0002row5_col2\" class=\"data row5 col2\" >-0.05373</td>\n",
              "                        <td id=\"T_2dc9aaea_985d_11ea_a80a_0242ac1c0002row5_col3\" class=\"data row5 col3\" >-0.02270</td>\n",
              "                        <td id=\"T_2dc9aaea_985d_11ea_a80a_0242ac1c0002row5_col4\" class=\"data row5 col4\" >-0.03634</td>\n",
              "                        <td id=\"T_2dc9aaea_985d_11ea_a80a_0242ac1c0002row5_col5\" class=\"data row5 col5\" >1.00000</td>\n",
              "                        <td id=\"T_2dc9aaea_985d_11ea_a80a_0242ac1c0002row5_col6\" class=\"data row5 col6\" >0.13334</td>\n",
              "                        <td id=\"T_2dc9aaea_985d_11ea_a80a_0242ac1c0002row5_col7\" class=\"data row5 col7\" >0.04709</td>\n",
              "                        <td id=\"T_2dc9aaea_985d_11ea_a80a_0242ac1c0002row5_col8\" class=\"data row5 col8\" >0.00177</td>\n",
              "                        <td id=\"T_2dc9aaea_985d_11ea_a80a_0242ac1c0002row5_col9\" class=\"data row5 col9\" >-0.09357</td>\n",
              "                        <td id=\"T_2dc9aaea_985d_11ea_a80a_0242ac1c0002row5_col10\" class=\"data row5 col10\" >-0.07906</td>\n",
              "                        <td id=\"T_2dc9aaea_985d_11ea_a80a_0242ac1c0002row5_col11\" class=\"data row5 col11\" >-0.00307</td>\n",
              "                        <td id=\"T_2dc9aaea_985d_11ea_a80a_0242ac1c0002row5_col12\" class=\"data row5 col12\" >0.01215</td>\n",
              "            </tr>\n",
              "            <tr>\n",
              "                        <th id=\"T_2dc9aaea_985d_11ea_a80a_0242ac1c0002level0_row6\" class=\"row_heading level0 row6\" >Customer_Rating</th>\n",
              "                        <td id=\"T_2dc9aaea_985d_11ea_a80a_0242ac1c0002row6_col0\" class=\"data row6 col0\" >-0.05465</td>\n",
              "                        <td id=\"T_2dc9aaea_985d_11ea_a80a_0242ac1c0002row6_col1\" class=\"data row6 col1\" >-0.08877</td>\n",
              "                        <td id=\"T_2dc9aaea_985d_11ea_a80a_0242ac1c0002row6_col2\" class=\"data row6 col2\" >-0.04883</td>\n",
              "                        <td id=\"T_2dc9aaea_985d_11ea_a80a_0242ac1c0002row6_col3\" class=\"data row6 col3\" >0.18917</td>\n",
              "                        <td id=\"T_2dc9aaea_985d_11ea_a80a_0242ac1c0002row6_col4\" class=\"data row6 col4\" >-0.05610</td>\n",
              "                        <td id=\"T_2dc9aaea_985d_11ea_a80a_0242ac1c0002row6_col5\" class=\"data row6 col5\" >0.13334</td>\n",
              "                        <td id=\"T_2dc9aaea_985d_11ea_a80a_0242ac1c0002row6_col6\" class=\"data row6 col6\" >1.00000</td>\n",
              "                        <td id=\"T_2dc9aaea_985d_11ea_a80a_0242ac1c0002row6_col7\" class=\"data row6 col7\" >0.00360</td>\n",
              "                        <td id=\"T_2dc9aaea_985d_11ea_a80a_0242ac1c0002row6_col8\" class=\"data row6 col8\" >-0.00740</td>\n",
              "                        <td id=\"T_2dc9aaea_985d_11ea_a80a_0242ac1c0002row6_col9\" class=\"data row6 col9\" >-0.30297</td>\n",
              "                        <td id=\"T_2dc9aaea_985d_11ea_a80a_0242ac1c0002row6_col10\" class=\"data row6 col10\" >-0.22753</td>\n",
              "                        <td id=\"T_2dc9aaea_985d_11ea_a80a_0242ac1c0002row6_col11\" class=\"data row6 col11\" >0.00047</td>\n",
              "                        <td id=\"T_2dc9aaea_985d_11ea_a80a_0242ac1c0002row6_col12\" class=\"data row6 col12\" >-0.15528</td>\n",
              "            </tr>\n",
              "            <tr>\n",
              "                        <th id=\"T_2dc9aaea_985d_11ea_a80a_0242ac1c0002level0_row7\" class=\"row_heading level0 row7\" >Cancellation_Last_1Month</th>\n",
              "                        <td id=\"T_2dc9aaea_985d_11ea_a80a_0242ac1c0002row7_col0\" class=\"data row7 col0\" >-0.00769</td>\n",
              "                        <td id=\"T_2dc9aaea_985d_11ea_a80a_0242ac1c0002row7_col1\" class=\"data row7 col1\" >0.08810</td>\n",
              "                        <td id=\"T_2dc9aaea_985d_11ea_a80a_0242ac1c0002row7_col2\" class=\"data row7 col2\" >-0.00486</td>\n",
              "                        <td id=\"T_2dc9aaea_985d_11ea_a80a_0242ac1c0002row7_col3\" class=\"data row7 col3\" >0.06818</td>\n",
              "                        <td id=\"T_2dc9aaea_985d_11ea_a80a_0242ac1c0002row7_col4\" class=\"data row7 col4\" >0.02657</td>\n",
              "                        <td id=\"T_2dc9aaea_985d_11ea_a80a_0242ac1c0002row7_col5\" class=\"data row7 col5\" >0.04709</td>\n",
              "                        <td id=\"T_2dc9aaea_985d_11ea_a80a_0242ac1c0002row7_col6\" class=\"data row7 col6\" >0.00360</td>\n",
              "                        <td id=\"T_2dc9aaea_985d_11ea_a80a_0242ac1c0002row7_col7\" class=\"data row7 col7\" >1.00000</td>\n",
              "                        <td id=\"T_2dc9aaea_985d_11ea_a80a_0242ac1c0002row7_col8\" class=\"data row7 col8\" >0.00755</td>\n",
              "                        <td id=\"T_2dc9aaea_985d_11ea_a80a_0242ac1c0002row7_col9\" class=\"data row7 col9\" >0.09583</td>\n",
              "                        <td id=\"T_2dc9aaea_985d_11ea_a80a_0242ac1c0002row7_col10\" class=\"data row7 col10\" >0.12869</td>\n",
              "                        <td id=\"T_2dc9aaea_985d_11ea_a80a_0242ac1c0002row7_col11\" class=\"data row7 col11\" >0.00231</td>\n",
              "                        <td id=\"T_2dc9aaea_985d_11ea_a80a_0242ac1c0002row7_col12\" class=\"data row7 col12\" >0.18565</td>\n",
              "            </tr>\n",
              "            <tr>\n",
              "                        <th id=\"T_2dc9aaea_985d_11ea_a80a_0242ac1c0002level0_row8\" class=\"row_heading level0 row8\" >Var1</th>\n",
              "                        <td id=\"T_2dc9aaea_985d_11ea_a80a_0242ac1c0002row8_col0\" class=\"data row8 col0\" >-0.03066</td>\n",
              "                        <td id=\"T_2dc9aaea_985d_11ea_a80a_0242ac1c0002row8_col1\" class=\"data row8 col1\" >-0.01238</td>\n",
              "                        <td id=\"T_2dc9aaea_985d_11ea_a80a_0242ac1c0002row8_col2\" class=\"data row8 col2\" >-0.00668</td>\n",
              "                        <td id=\"T_2dc9aaea_985d_11ea_a80a_0242ac1c0002row8_col3\" class=\"data row8 col3\" >-0.05587</td>\n",
              "                        <td id=\"T_2dc9aaea_985d_11ea_a80a_0242ac1c0002row8_col4\" class=\"data row8 col4\" >-0.00354</td>\n",
              "                        <td id=\"T_2dc9aaea_985d_11ea_a80a_0242ac1c0002row8_col5\" class=\"data row8 col5\" >0.00177</td>\n",
              "                        <td id=\"T_2dc9aaea_985d_11ea_a80a_0242ac1c0002row8_col6\" class=\"data row8 col6\" >-0.00740</td>\n",
              "                        <td id=\"T_2dc9aaea_985d_11ea_a80a_0242ac1c0002row8_col7\" class=\"data row8 col7\" >0.00755</td>\n",
              "                        <td id=\"T_2dc9aaea_985d_11ea_a80a_0242ac1c0002row8_col8\" class=\"data row8 col8\" >1.00000</td>\n",
              "                        <td id=\"T_2dc9aaea_985d_11ea_a80a_0242ac1c0002row8_col9\" class=\"data row8 col9\" >-0.03171</td>\n",
              "                        <td id=\"T_2dc9aaea_985d_11ea_a80a_0242ac1c0002row8_col10\" class=\"data row8 col10\" >-0.04124</td>\n",
              "                        <td id=\"T_2dc9aaea_985d_11ea_a80a_0242ac1c0002row8_col11\" class=\"data row8 col11\" >0.00035</td>\n",
              "                        <td id=\"T_2dc9aaea_985d_11ea_a80a_0242ac1c0002row8_col12\" class=\"data row8 col12\" >-0.02630</td>\n",
              "            </tr>\n",
              "            <tr>\n",
              "                        <th id=\"T_2dc9aaea_985d_11ea_a80a_0242ac1c0002level0_row9\" class=\"row_heading level0 row9\" >Var2</th>\n",
              "                        <td id=\"T_2dc9aaea_985d_11ea_a80a_0242ac1c0002row9_col0\" class=\"data row9 col0\" >0.20046</td>\n",
              "                        <td id=\"T_2dc9aaea_985d_11ea_a80a_0242ac1c0002row9_col1\" class=\"data row9 col1\" >-0.00136</td>\n",
              "                        <td id=\"T_2dc9aaea_985d_11ea_a80a_0242ac1c0002row9_col2\" class=\"data row9 col2\" >0.04034</td>\n",
              "                        <td id=\"T_2dc9aaea_985d_11ea_a80a_0242ac1c0002row9_col3\" class=\"data row9 col3\" >0.21592</td>\n",
              "                        <td id=\"T_2dc9aaea_985d_11ea_a80a_0242ac1c0002row9_col4\" class=\"data row9 col4\" >0.04274</td>\n",
              "                        <td id=\"T_2dc9aaea_985d_11ea_a80a_0242ac1c0002row9_col5\" class=\"data row9 col5\" >-0.09357</td>\n",
              "                        <td id=\"T_2dc9aaea_985d_11ea_a80a_0242ac1c0002row9_col6\" class=\"data row9 col6\" >-0.30297</td>\n",
              "                        <td id=\"T_2dc9aaea_985d_11ea_a80a_0242ac1c0002row9_col7\" class=\"data row9 col7\" >0.09583</td>\n",
              "                        <td id=\"T_2dc9aaea_985d_11ea_a80a_0242ac1c0002row9_col8\" class=\"data row9 col8\" >-0.03171</td>\n",
              "                        <td id=\"T_2dc9aaea_985d_11ea_a80a_0242ac1c0002row9_col9\" class=\"data row9 col9\" >1.00000</td>\n",
              "                        <td id=\"T_2dc9aaea_985d_11ea_a80a_0242ac1c0002row9_col10\" class=\"data row9 col10\" >0.68344</td>\n",
              "                        <td id=\"T_2dc9aaea_985d_11ea_a80a_0242ac1c0002row9_col11\" class=\"data row9 col11\" >0.00318</td>\n",
              "                        <td id=\"T_2dc9aaea_985d_11ea_a80a_0242ac1c0002row9_col12\" class=\"data row9 col12\" >0.00344</td>\n",
              "            </tr>\n",
              "            <tr>\n",
              "                        <th id=\"T_2dc9aaea_985d_11ea_a80a_0242ac1c0002level0_row10\" class=\"row_heading level0 row10\" >Var3</th>\n",
              "                        <td id=\"T_2dc9aaea_985d_11ea_a80a_0242ac1c0002row10_col0\" class=\"data row10 col0\" >0.23171</td>\n",
              "                        <td id=\"T_2dc9aaea_985d_11ea_a80a_0242ac1c0002row10_col1\" class=\"data row10 col1\" >-0.02244</td>\n",
              "                        <td id=\"T_2dc9aaea_985d_11ea_a80a_0242ac1c0002row10_col2\" class=\"data row10 col2\" >0.10754</td>\n",
              "                        <td id=\"T_2dc9aaea_985d_11ea_a80a_0242ac1c0002row10_col3\" class=\"data row10 col3\" >0.30330</td>\n",
              "                        <td id=\"T_2dc9aaea_985d_11ea_a80a_0242ac1c0002row10_col4\" class=\"data row10 col4\" >0.05300</td>\n",
              "                        <td id=\"T_2dc9aaea_985d_11ea_a80a_0242ac1c0002row10_col5\" class=\"data row10 col5\" >-0.07906</td>\n",
              "                        <td id=\"T_2dc9aaea_985d_11ea_a80a_0242ac1c0002row10_col6\" class=\"data row10 col6\" >-0.22753</td>\n",
              "                        <td id=\"T_2dc9aaea_985d_11ea_a80a_0242ac1c0002row10_col7\" class=\"data row10 col7\" >0.12869</td>\n",
              "                        <td id=\"T_2dc9aaea_985d_11ea_a80a_0242ac1c0002row10_col8\" class=\"data row10 col8\" >-0.04124</td>\n",
              "                        <td id=\"T_2dc9aaea_985d_11ea_a80a_0242ac1c0002row10_col9\" class=\"data row10 col9\" >0.68344</td>\n",
              "                        <td id=\"T_2dc9aaea_985d_11ea_a80a_0242ac1c0002row10_col10\" class=\"data row10 col10\" >1.00000</td>\n",
              "                        <td id=\"T_2dc9aaea_985d_11ea_a80a_0242ac1c0002row10_col11\" class=\"data row10 col11\" >0.00352</td>\n",
              "                        <td id=\"T_2dc9aaea_985d_11ea_a80a_0242ac1c0002row10_col12\" class=\"data row10 col12\" >-0.03931</td>\n",
              "            </tr>\n",
              "            <tr>\n",
              "                        <th id=\"T_2dc9aaea_985d_11ea_a80a_0242ac1c0002level0_row11\" class=\"row_heading level0 row11\" >Gender</th>\n",
              "                        <td id=\"T_2dc9aaea_985d_11ea_a80a_0242ac1c0002row11_col0\" class=\"data row11 col0\" >0.00217</td>\n",
              "                        <td id=\"T_2dc9aaea_985d_11ea_a80a_0242ac1c0002row11_col1\" class=\"data row11 col1\" >0.00021</td>\n",
              "                        <td id=\"T_2dc9aaea_985d_11ea_a80a_0242ac1c0002row11_col2\" class=\"data row11 col2\" >0.00160</td>\n",
              "                        <td id=\"T_2dc9aaea_985d_11ea_a80a_0242ac1c0002row11_col3\" class=\"data row11 col3\" >0.00065</td>\n",
              "                        <td id=\"T_2dc9aaea_985d_11ea_a80a_0242ac1c0002row11_col4\" class=\"data row11 col4\" >0.00480</td>\n",
              "                        <td id=\"T_2dc9aaea_985d_11ea_a80a_0242ac1c0002row11_col5\" class=\"data row11 col5\" >-0.00307</td>\n",
              "                        <td id=\"T_2dc9aaea_985d_11ea_a80a_0242ac1c0002row11_col6\" class=\"data row11 col6\" >0.00047</td>\n",
              "                        <td id=\"T_2dc9aaea_985d_11ea_a80a_0242ac1c0002row11_col7\" class=\"data row11 col7\" >0.00231</td>\n",
              "                        <td id=\"T_2dc9aaea_985d_11ea_a80a_0242ac1c0002row11_col8\" class=\"data row11 col8\" >0.00035</td>\n",
              "                        <td id=\"T_2dc9aaea_985d_11ea_a80a_0242ac1c0002row11_col9\" class=\"data row11 col9\" >0.00318</td>\n",
              "                        <td id=\"T_2dc9aaea_985d_11ea_a80a_0242ac1c0002row11_col10\" class=\"data row11 col10\" >0.00352</td>\n",
              "                        <td id=\"T_2dc9aaea_985d_11ea_a80a_0242ac1c0002row11_col11\" class=\"data row11 col11\" >1.00000</td>\n",
              "                        <td id=\"T_2dc9aaea_985d_11ea_a80a_0242ac1c0002row11_col12\" class=\"data row11 col12\" >0.00087</td>\n",
              "            </tr>\n",
              "            <tr>\n",
              "                        <th id=\"T_2dc9aaea_985d_11ea_a80a_0242ac1c0002level0_row12\" class=\"row_heading level0 row12\" >Surge_Pricing_Type</th>\n",
              "                        <td id=\"T_2dc9aaea_985d_11ea_a80a_0242ac1c0002row12_col0\" class=\"data row12 col0\" >0.13593</td>\n",
              "                        <td id=\"T_2dc9aaea_985d_11ea_a80a_0242ac1c0002row12_col1\" class=\"data row12 col1\" >0.47389</td>\n",
              "                        <td id=\"T_2dc9aaea_985d_11ea_a80a_0242ac1c0002row12_col2\" class=\"data row12 col2\" >0.02759</td>\n",
              "                        <td id=\"T_2dc9aaea_985d_11ea_a80a_0242ac1c0002row12_col3\" class=\"data row12 col3\" >-0.07368</td>\n",
              "                        <td id=\"T_2dc9aaea_985d_11ea_a80a_0242ac1c0002row12_col4\" class=\"data row12 col4\" >0.10593</td>\n",
              "                        <td id=\"T_2dc9aaea_985d_11ea_a80a_0242ac1c0002row12_col5\" class=\"data row12 col5\" >0.01215</td>\n",
              "                        <td id=\"T_2dc9aaea_985d_11ea_a80a_0242ac1c0002row12_col6\" class=\"data row12 col6\" >-0.15528</td>\n",
              "                        <td id=\"T_2dc9aaea_985d_11ea_a80a_0242ac1c0002row12_col7\" class=\"data row12 col7\" >0.18565</td>\n",
              "                        <td id=\"T_2dc9aaea_985d_11ea_a80a_0242ac1c0002row12_col8\" class=\"data row12 col8\" >-0.02630</td>\n",
              "                        <td id=\"T_2dc9aaea_985d_11ea_a80a_0242ac1c0002row12_col9\" class=\"data row12 col9\" >0.00344</td>\n",
              "                        <td id=\"T_2dc9aaea_985d_11ea_a80a_0242ac1c0002row12_col10\" class=\"data row12 col10\" >-0.03931</td>\n",
              "                        <td id=\"T_2dc9aaea_985d_11ea_a80a_0242ac1c0002row12_col11\" class=\"data row12 col11\" >0.00087</td>\n",
              "                        <td id=\"T_2dc9aaea_985d_11ea_a80a_0242ac1c0002row12_col12\" class=\"data row12 col12\" >1.00000</td>\n",
              "            </tr>\n",
              "    </tbody></table>"
            ],
            "text/plain": [
              "<pandas.io.formats.style.Styler at 0x7fec149bd588>"
            ]
          },
          "metadata": {
            "tags": []
          },
          "execution_count": 18
        }
      ]
    },
    {
      "cell_type": "code",
      "metadata": {
        "id": "Oddsu6PEHy1x",
        "colab_type": "code",
        "colab": {}
      },
      "source": [
        "X_test = test.drop(columns=['Trip_ID'])\n",
        "concat = pd.concat(objs=[X, X_test], axis=0)"
      ],
      "execution_count": 0,
      "outputs": []
    },
    {
      "cell_type": "code",
      "metadata": {
        "id": "eLMxhr1YGq04",
        "colab_type": "code",
        "colab": {}
      },
      "source": [
        "concat.drop(columns=['Gender','Var1','Customer_Since_Months','Confidence_Life_Style_Index','Destination_Type'\n",
        "                     ], inplace=True)\n",
        "\n",
        "ss = StandardScaler()\n",
        "concat = ss.fit_transform(concat)\n",
        "\n",
        "X, X_test = concat[:len(train), :], concat[len(train):, :]"
      ],
      "execution_count": 0,
      "outputs": []
    },
    {
      "cell_type": "code",
      "metadata": {
        "id": "kR4RF6BBgpRK",
        "colab_type": "code",
        "colab": {
          "base_uri": "https://localhost:8080/",
          "height": 68
        },
        "outputId": "3d2f4339-4c4e-4863-9822-f32e79eb77d5"
      },
      "source": [
        "rfc = RandomForestClassifier(n_estimators=20, n_jobs=-1, random_state=42, max_features=0.7 , bootstrap=False)\n",
        "cross_val_score(rfc, X, y, cv=5, n_jobs=-1, verbose=1, scoring=auc).mean()"
      ],
      "execution_count": 83,
      "outputs": [
        {
          "output_type": "stream",
          "text": [
            "[Parallel(n_jobs=-1)]: Using backend LokyBackend with 2 concurrent workers.\n",
            "[Parallel(n_jobs=-1)]: Done   5 out of   5 | elapsed:  1.3min finished\n"
          ],
          "name": "stderr"
        },
        {
          "output_type": "execute_result",
          "data": {
            "text/plain": [
              "0.6097052722870906"
            ]
          },
          "metadata": {
            "tags": []
          },
          "execution_count": 83
        }
      ]
    },
    {
      "cell_type": "code",
      "metadata": {
        "id": "5oNg3YDFH3f-",
        "colab_type": "code",
        "outputId": "06989da0-17c3-4f17-d4cb-d4920091e198",
        "colab": {
          "base_uri": "https://localhost:8080/",
          "height": 68
        }
      },
      "source": [
        "lgbmc = LGBMClassifier(random_state=101, n_estimators=100, colsample_bytree=1, \n",
        "                       max_depth=31, learning_rate=0.01, boosting_type='gbdt')\n",
        "cross_val_score(lgbmc, X, y, cv=5, n_jobs=-1, verbose=1, scoring=auc).mean()"
      ],
      "execution_count": 40,
      "outputs": [
        {
          "output_type": "stream",
          "text": [
            "[Parallel(n_jobs=-1)]: Using backend LokyBackend with 2 concurrent workers.\n",
            "[Parallel(n_jobs=-1)]: Done   5 out of   5 | elapsed:   17.5s finished\n"
          ],
          "name": "stderr"
        },
        {
          "output_type": "execute_result",
          "data": {
            "text/plain": [
              "0.6714465683237785"
            ]
          },
          "metadata": {
            "tags": []
          },
          "execution_count": 40
        }
      ]
    },
    {
      "cell_type": "code",
      "metadata": {
        "id": "61YuHQnyIfO0",
        "colab_type": "code",
        "colab": {}
      },
      "source": [
        "lgbmc.fit(X, y)\n",
        "j = lgbmc.predict(X_test)\n",
        "sub = pd.DataFrame(data={'Trip_ID' : test.Trip_ID, 'Surge_Pricing_Type' : j})\n",
        "sub.to_csv('AG.csv', index=False)"
      ],
      "execution_count": 0,
      "outputs": []
    },
    {
      "cell_type": "code",
      "metadata": {
        "id": "OpoW64lVIyfb",
        "colab_type": "code",
        "colab": {}
      },
      "source": [
        "from google.colab import files\n",
        "files.download('AG.csv')"
      ],
      "execution_count": 0,
      "outputs": []
    },
    {
      "cell_type": "code",
      "metadata": {
        "id": "ORIFn6y1Kwi0",
        "colab_type": "code",
        "colab": {}
      },
      "source": [
        ""
      ],
      "execution_count": 0,
      "outputs": []
    },
    {
      "cell_type": "markdown",
      "metadata": {
        "id": "rlZq9YsylXyE",
        "colab_type": "text"
      },
      "source": [
        "# cat"
      ]
    },
    {
      "cell_type": "code",
      "metadata": {
        "id": "UpRe3gshleTt",
        "colab_type": "code",
        "colab": {}
      },
      "source": [
        "train_df=train"
      ],
      "execution_count": 0,
      "outputs": []
    },
    {
      "cell_type": "code",
      "metadata": {
        "id": "iR8v2jCBleSk",
        "colab_type": "code",
        "colab": {}
      },
      "source": [
        ""
      ],
      "execution_count": 0,
      "outputs": []
    },
    {
      "cell_type": "code",
      "metadata": {
        "id": "F5FsYXIzlaA4",
        "colab_type": "code",
        "colab": {
          "base_uri": "https://localhost:8080/",
          "height": 34
        },
        "outputId": "328811d4-c030-4aff-a39d-71b9f0b9a034"
      },
      "source": [
        "from sklearn.preprocessing import LabelEncoder\n",
        "le = LabelEncoder()\n",
        "train_df['Surge_Pricing_Type'] = le.fit_transform(train_df['Surge_Pricing_Type'])\n",
        "le.classes_"
      ],
      "execution_count": 55,
      "outputs": [
        {
          "output_type": "execute_result",
          "data": {
            "text/plain": [
              "array([1, 2, 3])"
            ]
          },
          "metadata": {
            "tags": []
          },
          "execution_count": 55
        }
      ]
    },
    {
      "cell_type": "code",
      "metadata": {
        "id": "rVgU1PKYzTf0",
        "colab_type": "code",
        "colab": {}
      },
      "source": [
        "X = train_df.drop(labels=['Surge_Pricing_Type'], axis=1)\n",
        "y = train_df['Surge_Pricing_Type'].values\n",
        "\n",
        "from sklearn.model_selection import train_test_split\n",
        "X_train, X_cv, y_train, y_cv = train_test_split(X, y, test_size=0.25, random_state=1)"
      ],
      "execution_count": 0,
      "outputs": []
    },
    {
      "cell_type": "code",
      "metadata": {
        "id": "lk81yX0cljjz",
        "colab_type": "code",
        "colab": {
          "base_uri": "https://localhost:8080/",
          "height": 34
        },
        "outputId": "de35a5f0-0daa-431e-997a-1c5c61a8f8e8"
      },
      "source": [
        "X_train.shape, y_train.shape, X_cv.shape, y_cv.shape"
      ],
      "execution_count": 57,
      "outputs": [
        {
          "output_type": "execute_result",
          "data": {
            "text/plain": [
              "((98746, 13), (98746,), (32916, 13), (32916,))"
            ]
          },
          "metadata": {
            "tags": []
          },
          "execution_count": 57
        }
      ]
    },
    {
      "cell_type": "code",
      "metadata": {
        "id": "Eq1-boPIlnjF",
        "colab_type": "code",
        "colab": {
          "base_uri": "https://localhost:8080/",
          "height": 34
        },
        "outputId": "4666548a-5876-46ca-f078-17a2144f7627"
      },
      "source": [
        "categorical_features_indices = np.where(X_train.dtypes == 'category')[0]\n",
        "categorical_features_indices"
      ],
      "execution_count": 58,
      "outputs": [
        {
          "output_type": "execute_result",
          "data": {
            "text/plain": [
              "array([], dtype=int64)"
            ]
          },
          "metadata": {
            "tags": []
          },
          "execution_count": 58
        }
      ]
    },
    {
      "cell_type": "code",
      "metadata": {
        "id": "e3wElKb_lqEm",
        "colab_type": "code",
        "colab": {}
      },
      "source": [
        "from math import sqrt \n",
        "from sklearn.metrics import accuracy_score"
      ],
      "execution_count": 0,
      "outputs": []
    },
    {
      "cell_type": "code",
      "metadata": {
        "id": "7gfOeNiIlxse",
        "colab_type": "code",
        "colab": {
          "base_uri": "https://localhost:8080/",
          "height": 324
        },
        "outputId": "bf4579ef-f48d-43db-ce5e-c54546d7cdd5"
      },
      "source": [
        "!pip install catboost"
      ],
      "execution_count": 61,
      "outputs": [
        {
          "output_type": "stream",
          "text": [
            "Collecting catboost\n",
            "\u001b[?25l  Downloading https://files.pythonhosted.org/packages/51/fb/6eddb2667ee55c39bd12ab6676c412726fcbc86e1c0364fda8e6c3a62bc3/catboost-0.23.1-cp36-none-manylinux1_x86_64.whl (64.7MB)\n",
            "\u001b[K     |████████████████████████████████| 64.7MB 60kB/s \n",
            "\u001b[?25hRequirement already satisfied: scipy in /usr/local/lib/python3.6/dist-packages (from catboost) (1.4.1)\n",
            "Requirement already satisfied: pandas>=0.24.0 in /usr/local/lib/python3.6/dist-packages (from catboost) (1.0.3)\n",
            "Requirement already satisfied: numpy>=1.16.0 in /usr/local/lib/python3.6/dist-packages (from catboost) (1.18.4)\n",
            "Requirement already satisfied: matplotlib in /usr/local/lib/python3.6/dist-packages (from catboost) (3.2.1)\n",
            "Requirement already satisfied: plotly in /usr/local/lib/python3.6/dist-packages (from catboost) (4.4.1)\n",
            "Requirement already satisfied: graphviz in /usr/local/lib/python3.6/dist-packages (from catboost) (0.10.1)\n",
            "Requirement already satisfied: six in /usr/local/lib/python3.6/dist-packages (from catboost) (1.12.0)\n",
            "Requirement already satisfied: pytz>=2017.2 in /usr/local/lib/python3.6/dist-packages (from pandas>=0.24.0->catboost) (2018.9)\n",
            "Requirement already satisfied: python-dateutil>=2.6.1 in /usr/local/lib/python3.6/dist-packages (from pandas>=0.24.0->catboost) (2.8.1)\n",
            "Requirement already satisfied: cycler>=0.10 in /usr/local/lib/python3.6/dist-packages (from matplotlib->catboost) (0.10.0)\n",
            "Requirement already satisfied: pyparsing!=2.0.4,!=2.1.2,!=2.1.6,>=2.0.1 in /usr/local/lib/python3.6/dist-packages (from matplotlib->catboost) (2.4.7)\n",
            "Requirement already satisfied: kiwisolver>=1.0.1 in /usr/local/lib/python3.6/dist-packages (from matplotlib->catboost) (1.2.0)\n",
            "Requirement already satisfied: retrying>=1.3.3 in /usr/local/lib/python3.6/dist-packages (from plotly->catboost) (1.3.3)\n",
            "Installing collected packages: catboost\n",
            "Successfully installed catboost-0.23.1\n"
          ],
          "name": "stdout"
        }
      ]
    },
    {
      "cell_type": "code",
      "metadata": {
        "id": "XCFAwPqKt1OK",
        "colab_type": "code",
        "colab": {}
      },
      "source": [
        "from catboost import CatBoostClassifier\n",
        "cat = CatBoostClassifier(loss_function='MultiClass', \n",
        "                         eval_metric='Accuracy', \n",
        "                         depth=6,\n",
        "                         random_seed=42, \n",
        "                         iterations=1000, \n",
        "                         learning_rate=0.07,\n",
        "                         leaf_estimation_iterations=1,\n",
        "                         l2_leaf_reg=1,\n",
        "                         bootstrap_type='Bayesian', \n",
        "                         bagging_temperature=1, \n",
        "                         random_strength=1,\n",
        "                         od_type='Iter', \n",
        "                         od_wait=200)\n",
        "cat.fit(X_train, y_train, verbose=50,\n",
        "        use_best_model=True,\n",
        "        cat_features=categorical_features_indices,\n",
        "        eval_set=[(X_train, y_train),(X_cv, y_cv)],\n",
        "        plot=False)"
      ],
      "execution_count": 0,
      "outputs": []
    },
    {
      "cell_type": "code",
      "metadata": {
        "id": "xtgTsRUGpUQ_",
        "colab_type": "code",
        "colab": {}
      },
      "source": [
        ""
      ],
      "execution_count": 0,
      "outputs": []
    },
    {
      "cell_type": "code",
      "metadata": {
        "id": "S1Hmw5pglwVz",
        "colab_type": "code",
        "colab": {
          "base_uri": "https://localhost:8080/",
          "height": 34
        },
        "outputId": "80a040e6-6eef-4369-da37-e7d5bab4f6a8"
      },
      "source": [
        "predictions = cat.predict(X_cv)\n",
        "print('accuracy:', accuracy_score(y_cv, predictions))"
      ],
      "execution_count": 63,
      "outputs": [
        {
          "output_type": "stream",
          "text": [
            "accuracy: 0.6886316684894884\n"
          ],
          "name": "stdout"
        }
      ]
    },
    {
      "cell_type": "code",
      "metadata": {
        "id": "aXHFLqWrmI2P",
        "colab_type": "code",
        "colab": {
          "base_uri": "https://localhost:8080/",
          "height": 1000
        },
        "outputId": "54334a68-f417-44a0-e2cf-3048603a05b9"
      },
      "source": [
        "\n",
        "feature_imp = pd.DataFrame(sorted(zip(cat.feature_importances_, X.columns), reverse=True)[:50], \n",
        "                           columns=['Value','Feature'])\n",
        "plt.figure(figsize=(15,15))\n",
        "sns.barplot(x=\"Value\", y=\"Feature\", data=feature_imp.sort_values(by=\"Value\", ascending=False))\n",
        "plt.title('Catboost Features')\n",
        "plt.tight_layout()\n",
        "plt.show()"
      ],
      "execution_count": 64,
      "outputs": [
        {
          "output_type": "display_data",
          "data": {
            "image/png": "[encoded data removed]",
            "text/plain": [
              "<Figure size 1080x1080 with 1 Axes>"
            ]
          },
          "metadata": {
            "tags": [],
            "needs_background": "light"
          }
        }
      ]
    },
    {
      "cell_type": "code",
      "metadata": {
        "id": "z1Dj-cZUmLGl",
        "colab_type": "code",
        "colab": {}
      },
      "source": [
        "Xtest = test"
      ],
      "execution_count": 0,
      "outputs": []
    },
    {
      "cell_type": "code",
      "metadata": {
        "id": "nMqUNl_hmO7f",
        "colab_type": "code",
        "colab": {
          "base_uri": "https://localhost:8080/",
          "height": 85
        },
        "outputId": "9cbe0309-1132-417e-e72f-fa006dfdacf0"
      },
      "source": [
        "\n",
        "from sklearn.model_selection import KFold\n",
        "\n",
        "errcat = []\n",
        "y_pred_totcat = []\n",
        "\n",
        "fold = KFold(n_splits=4, shuffle=False, random_state=42)\n",
        "\n",
        "for train_index, test_index in fold.split(X):\n",
        "    X_train, X_test = X.loc[train_index], X.loc[test_index]\n",
        "    y_train, y_test = y[train_index], y[test_index]\n",
        "    \n",
        "    cat = CatBoostClassifier(loss_function='MultiClass', \n",
        "                         eval_metric='Accuracy', \n",
        "                         depth=3,\n",
        "                         random_seed=42, \n",
        "                         iterations=200, \n",
        "                         learning_rate=0.1,\n",
        "                         leaf_estimation_iterations=1,\n",
        "                         l2_leaf_reg=1, \n",
        "                         bootstrap_type='Bayesian', \n",
        "                         bagging_temperature=1, \n",
        "                         random_strength=1,\n",
        "                         od_type='Iter', \n",
        "                         od_wait=200)\n",
        "    cat.fit(X_train, y_train, eval_set=[(X_test, y_test)], verbose=0, early_stopping_rounds=200, cat_features=categorical_features_indices)\n",
        "\n",
        "    y_pred_cat = cat.predict(X_test)\n",
        "    print(\"Accuracy: \", accuracy_score(y_test,y_pred_cat))\n",
        "\n",
        "    errcat.append(accuracy_score(y_test,y_pred_cat))\n",
        "    p = cat.predict(Xtest)\n",
        "    y_pred_totcat.append(p)"
      ],
      "execution_count": 81,
      "outputs": [
        {
          "output_type": "stream",
          "text": [
            "Accuracy:  0.6847126017742131\n",
            "Accuracy:  0.6841657552558027\n",
            "Accuracy:  0.6832751025368373\n",
            "Accuracy:  0.6790521039039952\n"
          ],
          "name": "stdout"
        }
      ]
    },
    {
      "cell_type": "code",
      "metadata": {
        "id": "h9IZO6y0owSz",
        "colab_type": "code",
        "colab": {}
      },
      "source": [
        ""
      ],
      "execution_count": 0,
      "outputs": []
    },
    {
      "cell_type": "code",
      "metadata": {
        "id": "eOXabOQCmRAq",
        "colab_type": "code",
        "colab": {
          "base_uri": "https://localhost:8080/",
          "height": 34
        },
        "outputId": "022b2864-753f-4e3a-cc80-b7ed9c130bcd"
      },
      "source": [
        "np.mean(errcat,0)"
      ],
      "execution_count": 68,
      "outputs": [
        {
          "output_type": "execute_result",
          "data": {
            "text/plain": [
              "0.6820191147719039"
            ]
          },
          "metadata": {
            "tags": []
          },
          "execution_count": 68
        }
      ]
    },
    {
      "cell_type": "code",
      "metadata": {
        "id": "8JrKAhxTnQIE",
        "colab_type": "code",
        "colab": {
          "base_uri": "https://localhost:8080/",
          "height": 136
        },
        "outputId": "77a411fb-a480-481b-fb3a-2f655e18cb1d"
      },
      "source": [
        "cat_final = np.mean(y_pred_totcat,0).round().astype(int)\n",
        "cat_final"
      ],
      "execution_count": 69,
      "outputs": [
        {
          "output_type": "execute_result",
          "data": {
            "text/plain": [
              "array([[0],\n",
              "       [1],\n",
              "       [1],\n",
              "       ...,\n",
              "       [0],\n",
              "       [1],\n",
              "       [1]])"
            ]
          },
          "metadata": {
            "tags": []
          },
          "execution_count": 69
        }
      ]
    },
    {
      "cell_type": "code",
      "metadata": {
        "id": "eNw2VexRnSgY",
        "colab_type": "code",
        "colab": {
          "base_uri": "https://localhost:8080/",
          "height": 231
        },
        "outputId": "e0a8a5db-2023-436c-9dd8-cb341ad2ae26"
      },
      "source": [
        "y_pred_class = le.inverse_transform(cat_final)\n",
        "df_sub = pd.DataFrame(data=y_pred_class, columns=['Surge_Pricing_Type'])\n",
        "df_sub.head()"
      ],
      "execution_count": 70,
      "outputs": [
        {
          "output_type": "stream",
          "text": [
            "/usr/local/lib/python3.6/dist-packages/sklearn/preprocessing/_label.py:289: DataConversionWarning: A column-vector y was passed when a 1d array was expected. Please change the shape of y to (n_samples, ), for example using ravel().\n",
            "  y = column_or_1d(y, warn=True)\n"
          ],
          "name": "stderr"
        },
        {
          "output_type": "execute_result",
          "data": {
            "text/html": [
              "<div>\n",
              "<style scoped>\n",
              "    .dataframe tbody tr th:only-of-type {\n",
              "        vertical-align: middle;\n",
              "    }\n",
              "\n",
              "    .dataframe tbody tr th {\n",
              "        vertical-align: top;\n",
              "    }\n",
              "\n",
              "    .dataframe thead th {\n",
              "        text-align: right;\n",
              "    }\n",
              "</style>\n",
              "<table border=\"1\" class=\"dataframe\">\n",
              "  <thead>\n",
              "    <tr style=\"text-align: right;\">\n",
              "      <th></th>\n",
              "      <th>Surge_Pricing_Type</th>\n",
              "    </tr>\n",
              "  </thead>\n",
              "  <tbody>\n",
              "    <tr>\n",
              "      <th>0</th>\n",
              "      <td>1</td>\n",
              "    </tr>\n",
              "    <tr>\n",
              "      <th>1</th>\n",
              "      <td>2</td>\n",
              "    </tr>\n",
              "    <tr>\n",
              "      <th>2</th>\n",
              "      <td>2</td>\n",
              "    </tr>\n",
              "    <tr>\n",
              "      <th>3</th>\n",
              "      <td>2</td>\n",
              "    </tr>\n",
              "    <tr>\n",
              "      <th>4</th>\n",
              "      <td>2</td>\n",
              "    </tr>\n",
              "  </tbody>\n",
              "</table>\n",
              "</div>"
            ],
            "text/plain": [
              "   Surge_Pricing_Type\n",
              "0                   1\n",
              "1                   2\n",
              "2                   2\n",
              "3                   2\n",
              "4                   2"
            ]
          },
          "metadata": {
            "tags": []
          },
          "execution_count": 70
        }
      ]
    },
    {
      "cell_type": "code",
      "metadata": {
        "id": "x7qmFh9znZnF",
        "colab_type": "code",
        "colab": {
          "base_uri": "https://localhost:8080/",
          "height": 85
        },
        "outputId": "ef67f847-3e98-49e6-fbf5-7959592fce23"
      },
      "source": [
        "\n",
        "df_sub['Surge_Pricing_Type'].value_counts()"
      ],
      "execution_count": 71,
      "outputs": [
        {
          "output_type": "execute_result",
          "data": {
            "text/plain": [
              "2    43960\n",
              "3    29085\n",
              "1    14350\n",
              "Name: Surge_Pricing_Type, dtype: int64"
            ]
          },
          "metadata": {
            "tags": []
          },
          "execution_count": 71
        }
      ]
    },
    {
      "cell_type": "code",
      "metadata": {
        "id": "mesE1koUnd5K",
        "colab_type": "code",
        "colab": {}
      },
      "source": [
        "df_sub.to_csv('cat.csv')"
      ],
      "execution_count": 0,
      "outputs": []
    },
    {
      "cell_type": "code",
      "metadata": {
        "id": "lK8Y7rTCnic9",
        "colab_type": "code",
        "colab": {}
      },
      "source": [
        "from google.colab import files\n",
        "files.download('cat.csv')"
      ],
      "execution_count": 0,
      "outputs": []
    },
    {
      "cell_type": "code",
      "metadata": {
        "id": "i3E0kkGqnlh4",
        "colab_type": "code",
        "colab": {}
      },
      "source": [
        ""
      ],
      "execution_count": 0,
      "outputs": []
    },
    {
      "cell_type": "code",
      "metadata": {
        "id": "XvessnkfqWPc",
        "colab_type": "code",
        "colab": {}
      },
      "source": [
        ""
      ],
      "execution_count": 0,
      "outputs": []
    },
    {
      "cell_type": "markdown",
      "metadata": {
        "id": "Ybg_aZFRt49m",
        "colab_type": "text"
      },
      "source": [
        "# ensem"
      ]
    },
    {
      "cell_type": "code",
      "metadata": {
        "id": "ofE-TH7aqWOE",
        "colab_type": "code",
        "colab": {
          "base_uri": "https://localhost:8080/",
          "height": 955
        },
        "outputId": "de2aa73e-06dd-4768-da94-70d2918e6b42"
      },
      "source": [
        "!wget https://datahack-prod.s3.amazonaws.com/submissions/janatahack-mobility-analytics/844_613210_us_cf934f22ddf9.csv #1\n",
        "!wget https://datahack-prod.s3.amazonaws.com/submissions/janatahack-mobility-analytics/844_613210_us_0fe8f78e17ff_yBq2QrH.csv #2\n",
        "!wget https://datahack-prod.s3.amazonaws.com/submissions/janatahack-mobility-analytics/844_613210_us_b66d9f1bda46.csv\n",
        "!wget https://datahack-prod.s3.amazonaws.com/submissions/janatahack-mobility-analytics/844_613210_us_cat.csv #4\n",
        "!wget https://datahack-prod.s3.amazonaws.com/submissions/janatahack-mobility-analytics/844_613210_us_AG_1.csv #5"
      ],
      "execution_count": 2,
      "outputs": [
        {
          "output_type": "stream",
          "text": [
            "--2020-05-17 17:58:52--  https://datahack-prod.s3.amazonaws.com/submissions/janatahack-mobility-analytics/844_613210_us_cf934f22ddf9.csv\n",
            "Resolving datahack-prod.s3.amazonaws.com (datahack-prod.s3.amazonaws.com)... 52.219.64.96\n",
            "Connecting to datahack-prod.s3.amazonaws.com (datahack-prod.s3.amazonaws.com)|52.219.64.96|:443... connected.\n",
            "HTTP request sent, awaiting response... 200 OK\n",
            "Length: 1310953 (1.2M) [application/vnd.ms-excel]\n",
            "Saving to: ‘844_613210_us_cf934f22ddf9.csv.1’\n",
            "\n",
            "\r          844_61321   0%[                    ]       0  --.-KB/s               \r         844_613210   4%[                    ]  58.63K   266KB/s               \r        844_613210_  17%[==>                 ] 228.63K   518KB/s               \r       844_613210_u  72%[=============>      ] 925.63K  1.37MB/s               \r844_613210_us_cf934 100%[===================>]   1.25M  1.88MB/s    in 0.7s    \n",
            "\n",
            "2020-05-17 17:58:53 (1.88 MB/s) - ‘844_613210_us_cf934f22ddf9.csv.1’ saved [1310953/1310953]\n",
            "\n",
            "--2020-05-17 17:58:55--  https://datahack-prod.s3.amazonaws.com/submissions/janatahack-mobility-analytics/844_613210_us_0fe8f78e17ff_yBq2QrH.csv\n",
            "Resolving datahack-prod.s3.amazonaws.com (datahack-prod.s3.amazonaws.com)... 52.219.66.84\n",
            "Connecting to datahack-prod.s3.amazonaws.com (datahack-prod.s3.amazonaws.com)|52.219.66.84|:443... connected.\n",
            "HTTP request sent, awaiting response... 200 OK\n",
            "Length: 1310953 (1.2M) [application/vnd.ms-excel]\n",
            "Saving to: ‘844_613210_us_0fe8f78e17ff_yBq2QrH.csv.1’\n",
            "\n",
            "844_613210_us_0fe8f 100%[===================>]   1.25M  1.92MB/s    in 0.7s    \n",
            "\n",
            "2020-05-17 17:58:56 (1.92 MB/s) - ‘844_613210_us_0fe8f78e17ff_yBq2QrH.csv.1’ saved [1310953/1310953]\n",
            "\n",
            "--2020-05-17 17:58:58--  https://datahack-prod.s3.amazonaws.com/submissions/janatahack-mobility-analytics/844_613210_us_b66d9f1bda46.csv\n",
            "Resolving datahack-prod.s3.amazonaws.com (datahack-prod.s3.amazonaws.com)... 52.219.64.84\n",
            "Connecting to datahack-prod.s3.amazonaws.com (datahack-prod.s3.amazonaws.com)|52.219.64.84|:443... connected.\n",
            "HTTP request sent, awaiting response... 200 OK\n",
            "Length: 1310953 (1.2M) [application/vnd.ms-excel]\n",
            "Saving to: ‘844_613210_us_b66d9f1bda46.csv.1’\n",
            "\n",
            "844_613210_us_b66d9 100%[===================>]   1.25M  1.98MB/s    in 0.6s    \n",
            "\n",
            "2020-05-17 17:58:59 (1.98 MB/s) - ‘844_613210_us_b66d9f1bda46.csv.1’ saved [1310953/1310953]\n",
            "\n",
            "--2020-05-17 17:59:02--  https://datahack-prod.s3.amazonaws.com/submissions/janatahack-mobility-analytics/844_613210_us_cat.csv\n",
            "Resolving datahack-prod.s3.amazonaws.com (datahack-prod.s3.amazonaws.com)... 52.219.64.36\n",
            "Connecting to datahack-prod.s3.amazonaws.com (datahack-prod.s3.amazonaws.com)|52.219.64.36|:443... connected.\n",
            "HTTP request sent, awaiting response... 200 OK\n",
            "Length: 1310953 (1.2M) [application/vnd.ms-excel]\n",
            "Saving to: ‘844_613210_us_cat.csv.1’\n",
            "\n",
            "844_613210_us_cat.c 100%[===================>]   1.25M  1.86MB/s    in 0.7s    \n",
            "\n",
            "2020-05-17 17:59:04 (1.86 MB/s) - ‘844_613210_us_cat.csv.1’ saved [1310953/1310953]\n",
            "\n",
            "--2020-05-17 17:59:06--  https://datahack-prod.s3.amazonaws.com/submissions/janatahack-mobility-analytics/844_613210_us_AG_1.csv\n",
            "Resolving datahack-prod.s3.amazonaws.com (datahack-prod.s3.amazonaws.com)... 52.219.64.36\n",
            "Connecting to datahack-prod.s3.amazonaws.com (datahack-prod.s3.amazonaws.com)|52.219.64.36|:443... connected.\n",
            "HTTP request sent, awaiting response... 200 OK\n",
            "Length: 1310953 (1.2M) [application/vnd.ms-excel]\n",
            "Saving to: ‘844_613210_us_AG_1.csv.1’\n",
            "\n",
            "844_613210_us_AG_1. 100%[===================>]   1.25M  2.00MB/s    in 0.6s    \n",
            "\n",
            "2020-05-17 17:59:07 (2.00 MB/s) - ‘844_613210_us_AG_1.csv.1’ saved [1310953/1310953]\n",
            "\n"
          ],
          "name": "stdout"
        }
      ]
    },
    {
      "cell_type": "code",
      "metadata": {
        "id": "lYOnGlsBq67G",
        "colab_type": "code",
        "colab": {}
      },
      "source": [
        "df1=pd.read_csv('844_613210_us_cf934f22ddf9.csv')\n",
        "df2=pd.read_csv('844_613210_us_0fe8f78e17ff_yBq2QrH.csv')\n",
        "df3=pd.read_csv('844_613210_us_b66d9f1bda46.csv')\n",
        "df4=pd.read_csv('844_613210_us_cat.csv')\n",
        "df5=pd.read_csv('844_613210_us_AG_1.csv')"
      ],
      "execution_count": 0,
      "outputs": []
    },
    {
      "cell_type": "code",
      "metadata": {
        "id": "H4_FOCmmrS_D",
        "colab_type": "code",
        "colab": {
          "base_uri": "https://localhost:8080/",
          "height": 107
        },
        "outputId": "597fe67f-292e-4d7d-cc94-70bed2fb89df"
      },
      "source": [
        "\n",
        "df1.head(2)"
      ],
      "execution_count": 7,
      "outputs": [
        {
          "output_type": "execute_result",
          "data": {
            "text/html": [
              "<div>\n",
              "<style scoped>\n",
              "    .dataframe tbody tr th:only-of-type {\n",
              "        vertical-align: middle;\n",
              "    }\n",
              "\n",
              "    .dataframe tbody tr th {\n",
              "        vertical-align: top;\n",
              "    }\n",
              "\n",
              "    .dataframe thead th {\n",
              "        text-align: right;\n",
              "    }\n",
              "</style>\n",
              "<table border=\"1\" class=\"dataframe\">\n",
              "  <thead>\n",
              "    <tr style=\"text-align: right;\">\n",
              "      <th></th>\n",
              "      <th>Trip_ID</th>\n",
              "      <th>Surge_Pricing_Type</th>\n",
              "    </tr>\n",
              "  </thead>\n",
              "  <tbody>\n",
              "    <tr>\n",
              "      <th>0</th>\n",
              "      <td>T0005689459</td>\n",
              "      <td>1</td>\n",
              "    </tr>\n",
              "    <tr>\n",
              "      <th>1</th>\n",
              "      <td>T0005689462</td>\n",
              "      <td>2</td>\n",
              "    </tr>\n",
              "  </tbody>\n",
              "</table>\n",
              "</div>"
            ],
            "text/plain": [
              "       Trip_ID  Surge_Pricing_Type\n",
              "0  T0005689459                   1\n",
              "1  T0005689462                   2"
            ]
          },
          "metadata": {
            "tags": []
          },
          "execution_count": 7
        }
      ]
    },
    {
      "cell_type": "code",
      "metadata": {
        "id": "-bPjeBYfrXIG",
        "colab_type": "code",
        "colab": {}
      },
      "source": [
        "\n",
        "y_pred1 = np.array(df1['Surge_Pricing_Type'])\n",
        "y_pred2 = np.array(df2['Surge_Pricing_Type'])\n",
        "y_pred3 = np.array(df3['Surge_Pricing_Type'])\n",
        "y_pred4 = np.array(df4['Surge_Pricing_Type'])\n",
        "y_pred5 = np.array(df5['Surge_Pricing_Type'])"
      ],
      "execution_count": 0,
      "outputs": []
    },
    {
      "cell_type": "code",
      "metadata": {
        "id": "ftdTI-Wcrea8",
        "colab_type": "code",
        "colab": {}
      },
      "source": [
        "y_pred = y_pred1*0.70 + y_pred2*0.15 + y_pred3*0.10 + y_pred4*0.03 + y_pred5*0.02\n"
      ],
      "execution_count": 0,
      "outputs": []
    },
    {
      "cell_type": "code",
      "metadata": {
        "id": "FB8BvWiAriUc",
        "colab_type": "code",
        "colab": {
          "base_uri": "https://localhost:8080/",
          "height": 34
        },
        "outputId": "d4bbcaf9-6acb-4791-ed13-3eb665ef7c85"
      },
      "source": [
        "y_pred"
      ],
      "execution_count": 16,
      "outputs": [
        {
          "output_type": "execute_result",
          "data": {
            "text/plain": [
              "array([1., 2., 2., ..., 1., 2., 2.])"
            ]
          },
          "metadata": {
            "tags": []
          },
          "execution_count": 16
        }
      ]
    },
    {
      "cell_type": "code",
      "metadata": {
        "id": "AemtHcJqrj9u",
        "colab_type": "code",
        "colab": {
          "base_uri": "https://localhost:8080/",
          "height": 197
        },
        "outputId": "8150f0fb-348d-4590-cf56-1ff57a65726e"
      },
      "source": [
        "sub = pd.DataFrame(data=y_pred, columns=['Surge_Pricing_Type'])\n",
        "sub = sub.round().astype(int)\n",
        "sub.head(5)"
      ],
      "execution_count": 17,
      "outputs": [
        {
          "output_type": "execute_result",
          "data": {
            "text/html": [
              "<div>\n",
              "<style scoped>\n",
              "    .dataframe tbody tr th:only-of-type {\n",
              "        vertical-align: middle;\n",
              "    }\n",
              "\n",
              "    .dataframe tbody tr th {\n",
              "        vertical-align: top;\n",
              "    }\n",
              "\n",
              "    .dataframe thead th {\n",
              "        text-align: right;\n",
              "    }\n",
              "</style>\n",
              "<table border=\"1\" class=\"dataframe\">\n",
              "  <thead>\n",
              "    <tr style=\"text-align: right;\">\n",
              "      <th></th>\n",
              "      <th>Surge_Pricing_Type</th>\n",
              "    </tr>\n",
              "  </thead>\n",
              "  <tbody>\n",
              "    <tr>\n",
              "      <th>0</th>\n",
              "      <td>1</td>\n",
              "    </tr>\n",
              "    <tr>\n",
              "      <th>1</th>\n",
              "      <td>2</td>\n",
              "    </tr>\n",
              "    <tr>\n",
              "      <th>2</th>\n",
              "      <td>2</td>\n",
              "    </tr>\n",
              "    <tr>\n",
              "      <th>3</th>\n",
              "      <td>3</td>\n",
              "    </tr>\n",
              "    <tr>\n",
              "      <th>4</th>\n",
              "      <td>2</td>\n",
              "    </tr>\n",
              "  </tbody>\n",
              "</table>\n",
              "</div>"
            ],
            "text/plain": [
              "   Surge_Pricing_Type\n",
              "0                   1\n",
              "1                   2\n",
              "2                   2\n",
              "3                   3\n",
              "4                   2"
            ]
          },
          "metadata": {
            "tags": []
          },
          "execution_count": 17
        }
      ]
    },
    {
      "cell_type": "code",
      "metadata": {
        "id": "mXPvML9crm35",
        "colab_type": "code",
        "colab": {
          "base_uri": "https://localhost:8080/",
          "height": 85
        },
        "outputId": "5afb5633-e466-4d11-b646-1efa908dceb0"
      },
      "source": [
        "sub['Surge_Pricing_Type'].value_counts()"
      ],
      "execution_count": 12,
      "outputs": [
        {
          "output_type": "execute_result",
          "data": {
            "text/plain": [
              "2    44012\n",
              "3    29877\n",
              "1    13506\n",
              "Name: Surge_Pricing_Type, dtype: int64"
            ]
          },
          "metadata": {
            "tags": []
          },
          "execution_count": 12
        }
      ]
    },
    {
      "cell_type": "code",
      "metadata": {
        "id": "C_ddw9lArss1",
        "colab_type": "code",
        "colab": {}
      },
      "source": [
        "sub.to_csv('finalensem.csv', index=False)"
      ],
      "execution_count": 0,
      "outputs": []
    },
    {
      "cell_type": "code",
      "metadata": {
        "id": "64iGOVxur1mT",
        "colab_type": "code",
        "colab": {}
      },
      "source": [
        "from google.colab import files\n",
        "files.download('finalensem.csv')"
      ],
      "execution_count": 0,
      "outputs": []
    },
    {
      "cell_type": "code",
      "metadata": {
        "id": "joPc1jUAr5Da",
        "colab_type": "code",
        "colab": {}
      },
      "source": [
        ""
      ],
      "execution_count": 0,
      "outputs": []
    }
  ]
}