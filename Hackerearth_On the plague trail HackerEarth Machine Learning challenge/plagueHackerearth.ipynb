{
  "nbformat": 4,
  "nbformat_minor": 0,
  "metadata": {
    "colab": {
      "name": "plagueHackerearth.ipynb",
      "version": "0.3.2",
      "provenance": []
    },
    "kernelspec": {
      "name": "python3",
      "display_name": "Python 3"
    }
  },
  "cells": [
    {
      "cell_type": "code",
      "metadata": {
        "id": "zqI_BKhL3reH",
        "colab_type": "code",
        "colab": {
          "base_uri": "https://localhost:8080/",
          "height": 202
        },
        "outputId": "b8ac0b3e-dd82-471b-913f-0a10a27e8d21"
      },
      "source": [
        "!wget https://he-s3.s3.amazonaws.com/media/hackathon/on-the-plague-trail-hackerearth-machine-learning-challenge/on-the-plague-trail/8f86dc50-7-dataset.zip"
      ],
      "execution_count": 1,
      "outputs": [
        {
          "output_type": "stream",
          "text": [
            "--2019-06-05 18:20:39--  https://he-s3.s3.amazonaws.com/media/hackathon/on-the-plague-trail-hackerearth-machine-learning-challenge/on-the-plague-trail/8f86dc50-7-dataset.zip\n",
            "Resolving he-s3.s3.amazonaws.com (he-s3.s3.amazonaws.com)... 52.219.32.116\n",
            "Connecting to he-s3.s3.amazonaws.com (he-s3.s3.amazonaws.com)|52.219.32.116|:443... connected.\n",
            "HTTP request sent, awaiting response... 200 OK\n",
            "Length: 2176881 (2.1M) [application/zip]\n",
            "Saving to: ‘8f86dc50-7-dataset.zip’\n",
            "\n",
            "8f86dc50-7-dataset. 100%[===================>]   2.08M  1.58MB/s    in 1.3s    \n",
            "\n",
            "2019-06-05 18:20:41 (1.58 MB/s) - ‘8f86dc50-7-dataset.zip’ saved [2176881/2176881]\n",
            "\n"
          ],
          "name": "stdout"
        }
      ]
    },
    {
      "cell_type": "code",
      "metadata": {
        "id": "uTFaFGXm3xN9",
        "colab_type": "code",
        "colab": {
          "base_uri": "https://localhost:8080/",
          "height": 84
        },
        "outputId": "3908ca01-1002-4c62-d12f-19b8dd2c2fdc"
      },
      "source": [
        "!unzip 8f86dc50-7-dataset.zip"
      ],
      "execution_count": 2,
      "outputs": [
        {
          "output_type": "stream",
          "text": [
            "Archive:  8f86dc50-7-dataset.zip\n",
            "  inflating: sample.csv              \n",
            "  inflating: test.csv                \n",
            "  inflating: train.csv               \n"
          ],
          "name": "stdout"
        }
      ]
    },
    {
      "cell_type": "code",
      "metadata": {
        "id": "cuplZJwV33M5",
        "colab_type": "code",
        "colab": {}
      },
      "source": [
        "import pandas as pd\n",
        "import numpy as np\n",
        "import matplotlib.pyplot as plt"
      ],
      "execution_count": 0,
      "outputs": []
    },
    {
      "cell_type": "code",
      "metadata": {
        "id": "75kny-ww4ADe",
        "colab_type": "code",
        "colab": {}
      },
      "source": [
        "train=pd.read_csv('train.csv')\n",
        "test=pd.read_csv('test.csv')"
      ],
      "execution_count": 0,
      "outputs": []
    },
    {
      "cell_type": "code",
      "metadata": {
        "id": "FnNYpLek4Kzj",
        "colab_type": "code",
        "colab": {
          "base_uri": "https://localhost:8080/",
          "height": 383
        },
        "outputId": "747cdc8c-60c2-4a10-80be-6b0a39a92582"
      },
      "source": [
        "train.tail(5)"
      ],
      "execution_count": 30,
      "outputs": [
        {
          "output_type": "execute_result",
          "data": {
            "text/html": [
              "<div>\n",
              "<style scoped>\n",
              "    .dataframe tbody tr th:only-of-type {\n",
              "        vertical-align: middle;\n",
              "    }\n",
              "\n",
              "    .dataframe tbody tr th {\n",
              "        vertical-align: top;\n",
              "    }\n",
              "\n",
              "    .dataframe thead th {\n",
              "        text-align: right;\n",
              "    }\n",
              "</style>\n",
              "<table border=\"1\" class=\"dataframe\">\n",
              "  <thead>\n",
              "    <tr style=\"text-align: right;\">\n",
              "      <th></th>\n",
              "      <th>ID</th>\n",
              "      <th>DateTime</th>\n",
              "      <th>TempOut</th>\n",
              "      <th>HiTemp</th>\n",
              "      <th>LowTemp</th>\n",
              "      <th>OutHum</th>\n",
              "      <th>DewPt</th>\n",
              "      <th>WindSpeed</th>\n",
              "      <th>WindDir</th>\n",
              "      <th>WindRun</th>\n",
              "      <th>HiSpeed</th>\n",
              "      <th>HiDir</th>\n",
              "      <th>WindChill</th>\n",
              "      <th>HeatIndex</th>\n",
              "      <th>THWIndex</th>\n",
              "      <th>Bar</th>\n",
              "      <th>Rain</th>\n",
              "      <th>RainRate</th>\n",
              "      <th>HeatDD</th>\n",
              "      <th>CoolDD</th>\n",
              "      <th>InTemp</th>\n",
              "      <th>InHum</th>\n",
              "      <th>InDew</th>\n",
              "      <th>InHeat</th>\n",
              "      <th>InEMC</th>\n",
              "      <th>InAirDensity</th>\n",
              "      <th>WindSamp</th>\n",
              "      <th>WindTx</th>\n",
              "      <th>ISSRecpt</th>\n",
              "      <th>ArcInt</th>\n",
              "      <th>PA</th>\n",
              "      <th>PB</th>\n",
              "      <th>PC</th>\n",
              "      <th>PD</th>\n",
              "      <th>PE</th>\n",
              "      <th>PF</th>\n",
              "      <th>PG</th>\n",
              "    </tr>\n",
              "  </thead>\n",
              "  <tbody>\n",
              "    <tr>\n",
              "      <th>39995</th>\n",
              "      <td>PR39996</td>\n",
              "      <td>04-01-2042 0:00</td>\n",
              "      <td>55.0</td>\n",
              "      <td>55.1</td>\n",
              "      <td>55.0</td>\n",
              "      <td>88</td>\n",
              "      <td>51.5</td>\n",
              "      <td>1</td>\n",
              "      <td>0</td>\n",
              "      <td>0.25</td>\n",
              "      <td>3</td>\n",
              "      <td>SSE</td>\n",
              "      <td>55.0</td>\n",
              "      <td>55.0</td>\n",
              "      <td>55.0</td>\n",
              "      <td>30.129</td>\n",
              "      <td>0.0</td>\n",
              "      <td>0.0</td>\n",
              "      <td>0.104</td>\n",
              "      <td>0.000</td>\n",
              "      <td>74.6</td>\n",
              "      <td>41</td>\n",
              "      <td>49.3</td>\n",
              "      <td>73.8</td>\n",
              "      <td>7.77</td>\n",
              "      <td>0.0739</td>\n",
              "      <td>351</td>\n",
              "      <td>1</td>\n",
              "      <td>100.0</td>\n",
              "      <td>15</td>\n",
              "      <td>2978</td>\n",
              "      <td>1439</td>\n",
              "      <td>785</td>\n",
              "      <td>470</td>\n",
              "      <td>303</td>\n",
              "      <td>207</td>\n",
              "      <td>148</td>\n",
              "    </tr>\n",
              "    <tr>\n",
              "      <th>39996</th>\n",
              "      <td>PR39997</td>\n",
              "      <td>04-04-2042 12:00</td>\n",
              "      <td>60.1</td>\n",
              "      <td>60.5</td>\n",
              "      <td>59.1</td>\n",
              "      <td>72</td>\n",
              "      <td>51.0</td>\n",
              "      <td>3</td>\n",
              "      <td>0</td>\n",
              "      <td>0.75</td>\n",
              "      <td>8</td>\n",
              "      <td>SE</td>\n",
              "      <td>60.1</td>\n",
              "      <td>59.6</td>\n",
              "      <td>59.6</td>\n",
              "      <td>30.092</td>\n",
              "      <td>0.0</td>\n",
              "      <td>0.0</td>\n",
              "      <td>0.051</td>\n",
              "      <td>0.000</td>\n",
              "      <td>77.2</td>\n",
              "      <td>41</td>\n",
              "      <td>51.7</td>\n",
              "      <td>76.4</td>\n",
              "      <td>7.75</td>\n",
              "      <td>0.0734</td>\n",
              "      <td>351</td>\n",
              "      <td>1</td>\n",
              "      <td>100.0</td>\n",
              "      <td>15</td>\n",
              "      <td>2979</td>\n",
              "      <td>1439</td>\n",
              "      <td>785</td>\n",
              "      <td>470</td>\n",
              "      <td>303</td>\n",
              "      <td>207</td>\n",
              "      <td>148</td>\n",
              "    </tr>\n",
              "    <tr>\n",
              "      <th>39997</th>\n",
              "      <td>PR39998</td>\n",
              "      <td>08-04-2041 10:30</td>\n",
              "      <td>79.6</td>\n",
              "      <td>79.6</td>\n",
              "      <td>75.6</td>\n",
              "      <td>40</td>\n",
              "      <td>53.1</td>\n",
              "      <td>1</td>\n",
              "      <td>1</td>\n",
              "      <td>0.25</td>\n",
              "      <td>4</td>\n",
              "      <td>S</td>\n",
              "      <td>79.6</td>\n",
              "      <td>78.7</td>\n",
              "      <td>78.7</td>\n",
              "      <td>29.969</td>\n",
              "      <td>0.0</td>\n",
              "      <td>0.0</td>\n",
              "      <td>0.000</td>\n",
              "      <td>0.152</td>\n",
              "      <td>68.6</td>\n",
              "      <td>28</td>\n",
              "      <td>34.2</td>\n",
              "      <td>64.8</td>\n",
              "      <td>5.95</td>\n",
              "      <td>0.0747</td>\n",
              "      <td>351</td>\n",
              "      <td>1</td>\n",
              "      <td>100.0</td>\n",
              "      <td>15</td>\n",
              "      <td>2979</td>\n",
              "      <td>1440</td>\n",
              "      <td>785</td>\n",
              "      <td>470</td>\n",
              "      <td>303</td>\n",
              "      <td>207</td>\n",
              "      <td>148</td>\n",
              "    </tr>\n",
              "    <tr>\n",
              "      <th>39998</th>\n",
              "      <td>PR39999</td>\n",
              "      <td>08-04-2041 11:00</td>\n",
              "      <td>81.2</td>\n",
              "      <td>82.0</td>\n",
              "      <td>80.6</td>\n",
              "      <td>38</td>\n",
              "      <td>53.2</td>\n",
              "      <td>3</td>\n",
              "      <td>0</td>\n",
              "      <td>0.75</td>\n",
              "      <td>7</td>\n",
              "      <td>S</td>\n",
              "      <td>81.2</td>\n",
              "      <td>80.1</td>\n",
              "      <td>80.1</td>\n",
              "      <td>29.966</td>\n",
              "      <td>0.0</td>\n",
              "      <td>0.0</td>\n",
              "      <td>0.000</td>\n",
              "      <td>0.169</td>\n",
              "      <td>68.6</td>\n",
              "      <td>29</td>\n",
              "      <td>35.1</td>\n",
              "      <td>64.9</td>\n",
              "      <td>6.08</td>\n",
              "      <td>0.0747</td>\n",
              "      <td>351</td>\n",
              "      <td>1</td>\n",
              "      <td>100.0</td>\n",
              "      <td>15</td>\n",
              "      <td>2980</td>\n",
              "      <td>1440</td>\n",
              "      <td>786</td>\n",
              "      <td>470</td>\n",
              "      <td>303</td>\n",
              "      <td>207</td>\n",
              "      <td>148</td>\n",
              "    </tr>\n",
              "    <tr>\n",
              "      <th>39999</th>\n",
              "      <td>PR40000</td>\n",
              "      <td>08-04-2041 11:15</td>\n",
              "      <td>82.9</td>\n",
              "      <td>83.0</td>\n",
              "      <td>80.9</td>\n",
              "      <td>37</td>\n",
              "      <td>54.0</td>\n",
              "      <td>3</td>\n",
              "      <td>0</td>\n",
              "      <td>0.75</td>\n",
              "      <td>8</td>\n",
              "      <td>SE</td>\n",
              "      <td>82.9</td>\n",
              "      <td>82.0</td>\n",
              "      <td>82.0</td>\n",
              "      <td>29.970</td>\n",
              "      <td>0.0</td>\n",
              "      <td>0.0</td>\n",
              "      <td>0.000</td>\n",
              "      <td>0.186</td>\n",
              "      <td>69.3</td>\n",
              "      <td>57</td>\n",
              "      <td>53.4</td>\n",
              "      <td>68.4</td>\n",
              "      <td>10.56</td>\n",
              "      <td>0.0741</td>\n",
              "      <td>352</td>\n",
              "      <td>1</td>\n",
              "      <td>100.0</td>\n",
              "      <td>15</td>\n",
              "      <td>2980</td>\n",
              "      <td>1440</td>\n",
              "      <td>786</td>\n",
              "      <td>470</td>\n",
              "      <td>303</td>\n",
              "      <td>207</td>\n",
              "      <td>148</td>\n",
              "    </tr>\n",
              "  </tbody>\n",
              "</table>\n",
              "</div>"
            ],
            "text/plain": [
              "            ID          DateTime  TempOut  HiTemp  ...   PD   PE   PF   PG\n",
              "39995  PR39996   04-01-2042 0:00     55.0    55.1  ...  470  303  207  148\n",
              "39996  PR39997  04-04-2042 12:00     60.1    60.5  ...  470  303  207  148\n",
              "39997  PR39998  08-04-2041 10:30     79.6    79.6  ...  470  303  207  148\n",
              "39998  PR39999  08-04-2041 11:00     81.2    82.0  ...  470  303  207  148\n",
              "39999  PR40000  08-04-2041 11:15     82.9    83.0  ...  470  303  207  148\n",
              "\n",
              "[5 rows x 37 columns]"
            ]
          },
          "metadata": {
            "tags": []
          },
          "execution_count": 30
        }
      ]
    },
    {
      "cell_type": "code",
      "metadata": {
        "id": "_54lE4Nt4K4e",
        "colab_type": "code",
        "colab": {
          "base_uri": "https://localhost:8080/",
          "height": 50
        },
        "outputId": "366cf9ea-c8fe-4121-b122-3bf647875238"
      },
      "source": [
        "test['WindDir'].unique()"
      ],
      "execution_count": 31,
      "outputs": [
        {
          "output_type": "execute_result",
          "data": {
            "text/plain": [
              "array(['SSE', 'S', 'SE', 'W', 'WNW', 'WSW', 'SW', 'SSW', 'ESE', '---',\n",
              "       'N', 'NNW', 'NW', 'NNE', 'E', 'ENE', 'NE'], dtype=object)"
            ]
          },
          "metadata": {
            "tags": []
          },
          "execution_count": 31
        }
      ]
    },
    {
      "cell_type": "code",
      "metadata": {
        "id": "uf3g4p1p4K8z",
        "colab_type": "code",
        "colab": {
          "base_uri": "https://localhost:8080/",
          "height": 50
        },
        "outputId": "fe68ad42-3e08-4360-9d58-fb0627dbcb59"
      },
      "source": [
        "train['HiDir'].unique()"
      ],
      "execution_count": 27,
      "outputs": [
        {
          "output_type": "execute_result",
          "data": {
            "text/plain": [
              "array(['SE', 'SSE', 'S', 'SW', 'SSW', '---', 'WSW', 'W', 'N', 'E', 'ESE',\n",
              "       'WNW', 'NW', 'ENE', 'NNW', 'NE', 'NNE'], dtype=object)"
            ]
          },
          "metadata": {
            "tags": []
          },
          "execution_count": 27
        }
      ]
    },
    {
      "cell_type": "code",
      "metadata": {
        "id": "O2Z6k0m_4K3V",
        "colab_type": "code",
        "colab": {
          "base_uri": "https://localhost:8080/",
          "height": 101
        },
        "outputId": "0b4a8f5a-ec59-422b-9afb-d151715c7f63"
      },
      "source": [
        "train['WindDir'].loc[train['WindDir']=='SSE'] = 0\n",
        "train['WindDir'].loc[train['WindDir']=='S'] = 1\n",
        "train['WindDir'].loc[train['WindDir']=='SW'] =2 \n",
        "train['WindDir'].loc[train['WindDir']=='---'] =3\n",
        "train['WindDir'].loc[train['WindDir']=='W'] = 4\n",
        "train['WindDir'].loc[train['WindDir']=='WSW'] =5\n",
        "train['WindDir'].loc[train['WindDir']=='SSW'] =6\n",
        "train['WindDir'].loc[train['WindDir']=='WNW'] =7\n",
        "train['WindDir'].loc[train['WindDir']=='SE'] =8\n",
        "train['WindDir'].loc[train['WindDir']=='ESE'] =9\n",
        "train['WindDir'].loc[train['WindDir']=='E'] = 10\n",
        "train['WindDir'].loc[train['WindDir']=='NNW'] =11\n",
        "train['WindDir'].loc[train['WindDir']=='N'] = 12\n",
        "train['WindDir'].loc[train['WindDir']=='ENE'] =13\n",
        "train['WindDir'].loc[train['WindDir']=='NW'] = 14 \n",
        "train['WindDir'].loc[train['WindDir']=='NNE'] =15\n",
        "train['WindDir'].loc[train['WindDir']=='NE'] = 16   \n"
      ],
      "execution_count": 29,
      "outputs": [
        {
          "output_type": "stream",
          "text": [
            "/usr/local/lib/python3.6/dist-packages/pandas/core/indexing.py:190: SettingWithCopyWarning: \n",
            "A value is trying to be set on a copy of a slice from a DataFrame\n",
            "\n",
            "See the caveats in the documentation: http://pandas.pydata.org/pandas-docs/stable/indexing.html#indexing-view-versus-copy\n",
            "  self._setitem_with_indexer(indexer, value)\n"
          ],
          "name": "stderr"
        }
      ]
    },
    {
      "cell_type": "code",
      "metadata": {
        "id": "dUi-zz6s4Kyk",
        "colab_type": "code",
        "colab": {
          "base_uri": "https://localhost:8080/",
          "height": 101
        },
        "outputId": "eb1ec4f5-c7b2-4c41-a6cf-c8908f43b2d8"
      },
      "source": [
        "test['WindDir'].loc[test['WindDir']=='SSE'] = 0\n",
        "test['WindDir'].loc[test['WindDir']=='S'] = 1\n",
        "test['WindDir'].loc[test['WindDir']=='SW'] =2 \n",
        "test['WindDir'].loc[test['WindDir']=='---'] =3\n",
        "test['WindDir'].loc[test['WindDir']=='W'] = 4\n",
        "test['WindDir'].loc[test['WindDir']=='WSW'] =5\n",
        "test['WindDir'].loc[test['WindDir']=='SSW'] =6\n",
        "test['WindDir'].loc[test['WindDir']=='WNW'] =7\n",
        "test['WindDir'].loc[test['WindDir']=='SE'] =8\n",
        "test['WindDir'].loc[test['WindDir']=='ESE'] =9\n",
        "test['WindDir'].loc[test['WindDir']=='E'] = 10\n",
        "test['WindDir'].loc[test['WindDir']=='NNW'] =11\n",
        "test['WindDir'].loc[test['WindDir']=='N'] = 12\n",
        "test['WindDir'].loc[test['WindDir']=='ENE'] =13\n",
        "test['WindDir'].loc[test['WindDir']=='NW'] = 14 \n",
        "test['WindDir'].loc[test['WindDir']=='NNE'] =15\n",
        "test['WindDir'].loc[test['WindDir']=='NE'] = 16 "
      ],
      "execution_count": 32,
      "outputs": [
        {
          "output_type": "stream",
          "text": [
            "/usr/local/lib/python3.6/dist-packages/pandas/core/indexing.py:190: SettingWithCopyWarning: \n",
            "A value is trying to be set on a copy of a slice from a DataFrame\n",
            "\n",
            "See the caveats in the documentation: http://pandas.pydata.org/pandas-docs/stable/indexing.html#indexing-view-versus-copy\n",
            "  self._setitem_with_indexer(indexer, value)\n"
          ],
          "name": "stderr"
        }
      ]
    },
    {
      "cell_type": "code",
      "metadata": {
        "id": "pqfHGimI5gna",
        "colab_type": "code",
        "colab": {
          "base_uri": "https://localhost:8080/",
          "height": 101
        },
        "outputId": "7d159bee-4a4a-4ae6-8c13-dbde907ea5c6"
      },
      "source": [
        "train['HiDir'].loc[train['HiDir']=='SSE'] = 0\n",
        "train['HiDir'].loc[train['HiDir']=='S'] = 1\n",
        "train['HiDir'].loc[train['HiDir']=='SW'] =2 \n",
        "train['HiDir'].loc[train['HiDir']=='---'] =3\n",
        "train['HiDir'].loc[train['HiDir']=='W'] = 4\n",
        "train['HiDir'].loc[train['HiDir']=='WSW'] =5\n",
        "train['HiDir'].loc[train['HiDir']=='SSW'] =6\n",
        "train['HiDir'].loc[train['HiDir']=='WNW'] =7\n",
        "train['HiDir'].loc[train['HiDir']=='SE'] =8\n",
        "train['HiDir'].loc[train['HiDir']=='ESE'] =9\n",
        "train['HiDir'].loc[train['HiDir']=='E'] = 10\n",
        "train['HiDir'].loc[train['HiDir']=='NNW'] =11\n",
        "train['HiDir'].loc[train['HiDir']=='N'] = 12\n",
        "train['HiDir'].loc[train['HiDir']=='ENE'] =13\n",
        "train['HiDir'].loc[train['HiDir']=='NW'] = 14 \n",
        "train['HiDir'].loc[train['HiDir']=='NNE'] =15\n",
        "train['HiDir'].loc[train['HiDir']=='NE'] = 16   "
      ],
      "execution_count": 33,
      "outputs": [
        {
          "output_type": "stream",
          "text": [
            "/usr/local/lib/python3.6/dist-packages/pandas/core/indexing.py:190: SettingWithCopyWarning: \n",
            "A value is trying to be set on a copy of a slice from a DataFrame\n",
            "\n",
            "See the caveats in the documentation: http://pandas.pydata.org/pandas-docs/stable/indexing.html#indexing-view-versus-copy\n",
            "  self._setitem_with_indexer(indexer, value)\n"
          ],
          "name": "stderr"
        }
      ]
    },
    {
      "cell_type": "code",
      "metadata": {
        "id": "mtVooY7E5iAz",
        "colab_type": "code",
        "colab": {
          "base_uri": "https://localhost:8080/",
          "height": 101
        },
        "outputId": "9b1e7724-2fbb-4651-c72c-3806d1adbc02"
      },
      "source": [
        "test['HiDir'].loc[test['HiDir']=='SSE'] = 0\n",
        "test['HiDir'].loc[test['HiDir']=='S'] = 1\n",
        "test['HiDir'].loc[test['HiDir']=='SW'] =2 \n",
        "test['HiDir'].loc[test['HiDir']=='---'] =3\n",
        "test['HiDir'].loc[test['HiDir']=='W'] = 4\n",
        "test['HiDir'].loc[test['HiDir']=='WSW'] =5\n",
        "test['HiDir'].loc[test['HiDir']=='SSW'] =6\n",
        "test['HiDir'].loc[test['HiDir']=='WNW'] =7\n",
        "test['HiDir'].loc[test['HiDir']=='SE'] =8\n",
        "test['HiDir'].loc[test['HiDir']=='ESE'] =9\n",
        "test['HiDir'].loc[test['HiDir']=='E'] = 10\n",
        "test['HiDir'].loc[test['HiDir']=='NNW'] =11\n",
        "test['HiDir'].loc[test['HiDir']=='N'] = 12\n",
        "test['HiDir'].loc[test['HiDir']=='ENE'] =13\n",
        "test['HiDir'].loc[test['HiDir']=='NW'] = 14 \n",
        "test['HiDir'].loc[test['HiDir']=='NNE'] =15\n",
        "test['HiDir'].loc[test['HiDir']=='NE'] = 16   "
      ],
      "execution_count": 34,
      "outputs": [
        {
          "output_type": "stream",
          "text": [
            "/usr/local/lib/python3.6/dist-packages/pandas/core/indexing.py:190: SettingWithCopyWarning: \n",
            "A value is trying to be set on a copy of a slice from a DataFrame\n",
            "\n",
            "See the caveats in the documentation: http://pandas.pydata.org/pandas-docs/stable/indexing.html#indexing-view-versus-copy\n",
            "  self._setitem_with_indexer(indexer, value)\n"
          ],
          "name": "stderr"
        }
      ]
    },
    {
      "cell_type": "code",
      "metadata": {
        "id": "fgih6EvE56Bn",
        "colab_type": "code",
        "colab": {
          "base_uri": "https://localhost:8080/",
          "height": 383
        },
        "outputId": "ae073110-d24b-489a-8737-979a96951310"
      },
      "source": [
        "test.head()"
      ],
      "execution_count": 36,
      "outputs": [
        {
          "output_type": "execute_result",
          "data": {
            "text/html": [
              "<div>\n",
              "<style scoped>\n",
              "    .dataframe tbody tr th:only-of-type {\n",
              "        vertical-align: middle;\n",
              "    }\n",
              "\n",
              "    .dataframe tbody tr th {\n",
              "        vertical-align: top;\n",
              "    }\n",
              "\n",
              "    .dataframe thead th {\n",
              "        text-align: right;\n",
              "    }\n",
              "</style>\n",
              "<table border=\"1\" class=\"dataframe\">\n",
              "  <thead>\n",
              "    <tr style=\"text-align: right;\">\n",
              "      <th></th>\n",
              "      <th>ID</th>\n",
              "      <th>DateTime</th>\n",
              "      <th>TempOut</th>\n",
              "      <th>HiTemp</th>\n",
              "      <th>LowTemp</th>\n",
              "      <th>OutHum</th>\n",
              "      <th>DewPt</th>\n",
              "      <th>WindSpeed</th>\n",
              "      <th>WindDir</th>\n",
              "      <th>WindRun</th>\n",
              "      <th>HiSpeed</th>\n",
              "      <th>HiDir</th>\n",
              "      <th>WindChill</th>\n",
              "      <th>HeatIndex</th>\n",
              "      <th>THWIndex</th>\n",
              "      <th>Bar</th>\n",
              "      <th>Rain</th>\n",
              "      <th>RainRate</th>\n",
              "      <th>HeatDD</th>\n",
              "      <th>CoolDD</th>\n",
              "      <th>InTemp</th>\n",
              "      <th>InHum</th>\n",
              "      <th>InDew</th>\n",
              "      <th>InHeat</th>\n",
              "      <th>InEMC</th>\n",
              "      <th>InAirDensity</th>\n",
              "      <th>WindSamp</th>\n",
              "      <th>WindTx</th>\n",
              "      <th>ISSRecpt</th>\n",
              "      <th>ArcInt</th>\n",
              "    </tr>\n",
              "  </thead>\n",
              "  <tbody>\n",
              "    <tr>\n",
              "      <th>0</th>\n",
              "      <td>PR40001</td>\n",
              "      <td>08-04-2041 11:30</td>\n",
              "      <td>82.6</td>\n",
              "      <td>83.6</td>\n",
              "      <td>80.8</td>\n",
              "      <td>38</td>\n",
              "      <td>54.4</td>\n",
              "      <td>4</td>\n",
              "      <td>0</td>\n",
              "      <td>1.0</td>\n",
              "      <td>9</td>\n",
              "      <td>6</td>\n",
              "      <td>82.6</td>\n",
              "      <td>81.8</td>\n",
              "      <td>81.8</td>\n",
              "      <td>29.965</td>\n",
              "      <td>0.0</td>\n",
              "      <td>0.0</td>\n",
              "      <td>0.0</td>\n",
              "      <td>0.183</td>\n",
              "      <td>68.3</td>\n",
              "      <td>29</td>\n",
              "      <td>34.8</td>\n",
              "      <td>64.6</td>\n",
              "      <td>6.08</td>\n",
              "      <td>0.0748</td>\n",
              "      <td>351</td>\n",
              "      <td>1</td>\n",
              "      <td>100.0</td>\n",
              "      <td>15</td>\n",
              "    </tr>\n",
              "    <tr>\n",
              "      <th>1</th>\n",
              "      <td>PR40002</td>\n",
              "      <td>08-04-2041 11:45</td>\n",
              "      <td>82.6</td>\n",
              "      <td>83.2</td>\n",
              "      <td>82.1</td>\n",
              "      <td>36</td>\n",
              "      <td>52.9</td>\n",
              "      <td>4</td>\n",
              "      <td>1</td>\n",
              "      <td>1.0</td>\n",
              "      <td>11</td>\n",
              "      <td>0</td>\n",
              "      <td>82.6</td>\n",
              "      <td>81.5</td>\n",
              "      <td>81.5</td>\n",
              "      <td>29.967</td>\n",
              "      <td>0.0</td>\n",
              "      <td>0.0</td>\n",
              "      <td>0.0</td>\n",
              "      <td>0.183</td>\n",
              "      <td>69.3</td>\n",
              "      <td>58</td>\n",
              "      <td>53.9</td>\n",
              "      <td>68.5</td>\n",
              "      <td>10.75</td>\n",
              "      <td>0.0741</td>\n",
              "      <td>351</td>\n",
              "      <td>1</td>\n",
              "      <td>100.0</td>\n",
              "      <td>15</td>\n",
              "    </tr>\n",
              "    <tr>\n",
              "      <th>2</th>\n",
              "      <td>PR40003</td>\n",
              "      <td>08-04-2041 12:00</td>\n",
              "      <td>83.6</td>\n",
              "      <td>84.5</td>\n",
              "      <td>82.4</td>\n",
              "      <td>38</td>\n",
              "      <td>55.3</td>\n",
              "      <td>4</td>\n",
              "      <td>1</td>\n",
              "      <td>1.0</td>\n",
              "      <td>11</td>\n",
              "      <td>8</td>\n",
              "      <td>83.6</td>\n",
              "      <td>83.3</td>\n",
              "      <td>83.3</td>\n",
              "      <td>29.964</td>\n",
              "      <td>0.0</td>\n",
              "      <td>0.0</td>\n",
              "      <td>0.0</td>\n",
              "      <td>0.194</td>\n",
              "      <td>68.4</td>\n",
              "      <td>30</td>\n",
              "      <td>35.7</td>\n",
              "      <td>64.8</td>\n",
              "      <td>6.25</td>\n",
              "      <td>0.0747</td>\n",
              "      <td>351</td>\n",
              "      <td>1</td>\n",
              "      <td>100.0</td>\n",
              "      <td>15</td>\n",
              "    </tr>\n",
              "    <tr>\n",
              "      <th>3</th>\n",
              "      <td>PR40004</td>\n",
              "      <td>08-04-2041 12:15</td>\n",
              "      <td>85.1</td>\n",
              "      <td>85.5</td>\n",
              "      <td>83.4</td>\n",
              "      <td>37</td>\n",
              "      <td>55.9</td>\n",
              "      <td>4</td>\n",
              "      <td>1</td>\n",
              "      <td>1.0</td>\n",
              "      <td>11</td>\n",
              "      <td>1</td>\n",
              "      <td>85.1</td>\n",
              "      <td>84.7</td>\n",
              "      <td>84.7</td>\n",
              "      <td>29.963</td>\n",
              "      <td>0.0</td>\n",
              "      <td>0.0</td>\n",
              "      <td>0.0</td>\n",
              "      <td>0.209</td>\n",
              "      <td>69.9</td>\n",
              "      <td>56</td>\n",
              "      <td>53.5</td>\n",
              "      <td>68.7</td>\n",
              "      <td>10.35</td>\n",
              "      <td>0.0740</td>\n",
              "      <td>352</td>\n",
              "      <td>1</td>\n",
              "      <td>100.0</td>\n",
              "      <td>15</td>\n",
              "    </tr>\n",
              "    <tr>\n",
              "      <th>4</th>\n",
              "      <td>PR40005</td>\n",
              "      <td>08-04-2041 12:30</td>\n",
              "      <td>86.5</td>\n",
              "      <td>87.3</td>\n",
              "      <td>85.1</td>\n",
              "      <td>37</td>\n",
              "      <td>57.1</td>\n",
              "      <td>4</td>\n",
              "      <td>0</td>\n",
              "      <td>1.0</td>\n",
              "      <td>10</td>\n",
              "      <td>0</td>\n",
              "      <td>86.5</td>\n",
              "      <td>86.2</td>\n",
              "      <td>86.2</td>\n",
              "      <td>29.954</td>\n",
              "      <td>0.0</td>\n",
              "      <td>0.0</td>\n",
              "      <td>0.0</td>\n",
              "      <td>0.224</td>\n",
              "      <td>68.5</td>\n",
              "      <td>67</td>\n",
              "      <td>57.1</td>\n",
              "      <td>68.7</td>\n",
              "      <td>12.38</td>\n",
              "      <td>0.0740</td>\n",
              "      <td>351</td>\n",
              "      <td>1</td>\n",
              "      <td>100.0</td>\n",
              "      <td>15</td>\n",
              "    </tr>\n",
              "  </tbody>\n",
              "</table>\n",
              "</div>"
            ],
            "text/plain": [
              "        ID          DateTime  TempOut  ...  WindTx  ISSRecpt  ArcInt\n",
              "0  PR40001  08-04-2041 11:30     82.6  ...       1     100.0      15\n",
              "1  PR40002  08-04-2041 11:45     82.6  ...       1     100.0      15\n",
              "2  PR40003  08-04-2041 12:00     83.6  ...       1     100.0      15\n",
              "3  PR40004  08-04-2041 12:15     85.1  ...       1     100.0      15\n",
              "4  PR40005  08-04-2041 12:30     86.5  ...       1     100.0      15\n",
              "\n",
              "[5 rows x 30 columns]"
            ]
          },
          "metadata": {
            "tags": []
          },
          "execution_count": 36
        }
      ]
    },
    {
      "cell_type": "code",
      "metadata": {
        "id": "TuUV6MF9Bx7J",
        "colab_type": "code",
        "colab": {}
      },
      "source": [
        "\n",
        "submission = pd.DataFrame({\n",
        "        \"WindDir\": test[\"WindDir\"],\n",
        "        \"HiDir\": test[\"HiDir\"],\n",
        "        \"DateTime\": test[\"DateTime\"]\n",
        "    \n",
        "    })\n",
        "submission.to_csv('./submission.csv', index=False)"
      ],
      "execution_count": 0,
      "outputs": []
    },
    {
      "cell_type": "code",
      "metadata": {
        "id": "Sn8OvwHTCYLL",
        "colab_type": "code",
        "colab": {
          "base_uri": "https://localhost:8080/",
          "height": 195
        },
        "outputId": "506d95cc-f6ae-4f35-d516-c87b258ca9f0"
      },
      "source": [
        "submission = pd.read_csv('submission.csv')\n",
        "submission.head()"
      ],
      "execution_count": 43,
      "outputs": [
        {
          "output_type": "execute_result",
          "data": {
            "text/html": [
              "<div>\n",
              "<style scoped>\n",
              "    .dataframe tbody tr th:only-of-type {\n",
              "        vertical-align: middle;\n",
              "    }\n",
              "\n",
              "    .dataframe tbody tr th {\n",
              "        vertical-align: top;\n",
              "    }\n",
              "\n",
              "    .dataframe thead th {\n",
              "        text-align: right;\n",
              "    }\n",
              "</style>\n",
              "<table border=\"1\" class=\"dataframe\">\n",
              "  <thead>\n",
              "    <tr style=\"text-align: right;\">\n",
              "      <th></th>\n",
              "      <th>WindDir</th>\n",
              "      <th>HiDir</th>\n",
              "      <th>DateTime</th>\n",
              "    </tr>\n",
              "  </thead>\n",
              "  <tbody>\n",
              "    <tr>\n",
              "      <th>0</th>\n",
              "      <td>0</td>\n",
              "      <td>6</td>\n",
              "      <td>08-04-2041 11:30</td>\n",
              "    </tr>\n",
              "    <tr>\n",
              "      <th>1</th>\n",
              "      <td>1</td>\n",
              "      <td>0</td>\n",
              "      <td>08-04-2041 11:45</td>\n",
              "    </tr>\n",
              "    <tr>\n",
              "      <th>2</th>\n",
              "      <td>1</td>\n",
              "      <td>8</td>\n",
              "      <td>08-04-2041 12:00</td>\n",
              "    </tr>\n",
              "    <tr>\n",
              "      <th>3</th>\n",
              "      <td>1</td>\n",
              "      <td>1</td>\n",
              "      <td>08-04-2041 12:15</td>\n",
              "    </tr>\n",
              "    <tr>\n",
              "      <th>4</th>\n",
              "      <td>0</td>\n",
              "      <td>0</td>\n",
              "      <td>08-04-2041 12:30</td>\n",
              "    </tr>\n",
              "  </tbody>\n",
              "</table>\n",
              "</div>"
            ],
            "text/plain": [
              "   WindDir  HiDir          DateTime\n",
              "0        0      6  08-04-2041 11:30\n",
              "1        1      0  08-04-2041 11:45\n",
              "2        1      8  08-04-2041 12:00\n",
              "3        1      1  08-04-2041 12:15\n",
              "4        0      0  08-04-2041 12:30"
            ]
          },
          "metadata": {
            "tags": []
          },
          "execution_count": 43
        }
      ]
    },
    {
      "cell_type": "code",
      "metadata": {
        "id": "oob5Yn-UCa6j",
        "colab_type": "code",
        "colab": {}
      },
      "source": [
        "from google.colab import files\n",
        "files.download('submission.csv')"
      ],
      "execution_count": 0,
      "outputs": []
    }
  ]
}