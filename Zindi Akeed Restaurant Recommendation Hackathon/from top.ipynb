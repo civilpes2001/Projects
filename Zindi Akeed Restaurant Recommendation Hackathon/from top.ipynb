{
 "cells": [
  {
   "cell_type": "markdown",
   "metadata": {
    "colab_type": "text",
    "id": "o__5AvlzP9Qq"
   },
   "source": [
    "The error metric for this competition is the F1 score."
   ]
  },
  {
   "cell_type": "markdown",
   "metadata": {
    "colab_type": "text",
    "id": "wH08JeLiP9Qr"
   },
   "source": [
    "There are ~5,000 customers in the test set. These are the customers you will need to recommend a vendor to. Each customer can order from multiple locations (LOC_NUM)."
   ]
  },
  {
   "cell_type": "markdown",
   "metadata": {
    "colab_type": "text",
    "id": "6zJnwWDxP9Qs"
   },
   "source": [
    "There are ~35,000 customers in the train set. Some of these customers have made orders at at least one out of 100 vendors."
   ]
  },
  {
   "cell_type": "markdown",
   "metadata": {
    "colab_type": "text",
    "id": "PPpDtVzJP9Qt"
   },
   "source": [
    "The objective of this competition is to build a recommendation engine to predict what restaurants customers are most likely to order from, given the customer location, the restaurant, and the customer order history."
   ]
  },
  {
   "cell_type": "markdown",
   "metadata": {
    "colab_type": "raw",
    "id": "_3tc3limP9Qu"
   },
   "source": [
    "test_customers.csv -       customer id’s in the test set.\n",
    "test_locations.csv -       latitude and longitude for the different locations of each customer.\n",
    "\n",
    "train_locations.csv -      customer id’s in the train set.\n",
    "train_customers.csv -      latitude and longitude for the different locations of each customer.\n",
    "orders.csv -               orders that the customers train_customers.csv from made.\n",
    "vendors.csv -              vendors that customers can order from.\n",
    "\n",
    "VariableDefinitions.txt -  Variable definitions for the datasets\n",
    "SampleSubmission.csv -     is an example of what your submission file should look like. The order of the rows does not matter,                              but the names of CID X LOC_NUM X VENDOR must be correct. The column \"target\" is your prediction. The                            submission file is large so please allow up to 30 minutes for your score to reflect."
   ]
  },
  {
   "cell_type": "markdown",
   "metadata": {},
   "source": [
    "### One of the few hacks where problem formulation was one of the key things. Also dont run this notebook on colab as ram will over shoot. Run it on local machine. I have 8gb ram still windows allocates 32 gb ram (memory from HDD or SSD) upon overshooting so you are safe to run this on local machine. Also donot just hit run all, run cells manually giving few seconds gap, if you are poor and have 8GB ram and no SSD :D"
   ]
  },
  {
   "cell_type": "code",
   "execution_count": 1,
   "metadata": {
    "colab": {},
    "colab_type": "code",
    "id": "dKHSOemcP9Qv"
   },
   "outputs": [],
   "source": [
    "import pandas as pd\n",
    "import numpy as np\n",
    "import matplotlib.pyplot as plt\n",
    "import seaborn as sns\n",
    "from xgboost import XGBClassifier\n",
    "from catboost import CatBoostClassifier\n",
    "from lightgbm import LGBMClassifier\n",
    "from sklearn.ensemble import GradientBoostingClassifier,RandomForestClassifier,BaggingClassifier,AdaBoostClassifier,ExtraTreesClassifier,StackingClassifier\n",
    "from sklearn.tree import DecisionTreeClassifier\n",
    "from sklearn.linear_model import LogisticRegression\n",
    "from sklearn.metrics import f1_score,classification_report\n",
    "from sklearn.preprocessing import LabelEncoder\n",
    "from sklearn.model_selection import KFold,StratifiedKFold, GroupKFold,train_test_split\n",
    "import gc\n",
    "import datetime\n",
    "import warnings\n",
    "warnings.filterwarnings(\"ignore\")\n",
    "np.random.seed(0)"
   ]
  },
  {
   "cell_type": "markdown",
   "metadata": {
    "colab_type": "text",
    "id": "TakamsKhP9Q3"
   },
   "source": [
    "# Problem Formuation"
   ]
  },
  {
   "cell_type": "code",
   "execution_count": 2,
   "metadata": {
    "colab": {
     "base_uri": "https://localhost:8080/",
     "height": 50
    },
    "colab_type": "code",
    "executionInfo": {
     "elapsed": 11877,
     "status": "ok",
     "timestamp": 1589632660872,
     "user": {
      "displayName": "krishna priya",
      "photoUrl": "https://lh3.googleusercontent.com/a-/AOh14GgWBAV-1HvbztQSHgm8HTqqGtrYwH3abQ0V59zh=s64",
      "userId": "17318029652689759205"
     },
     "user_tz": -330
    },
    "id": "z6wZa8kSP9Q3",
    "outputId": "d493e459-c67e-4b00-a144-21537ff3c3ee"
   },
   "outputs": [
    {
     "name": "stdout",
     "output_type": "stream",
     "text": [
      "Wall time: 13.1 s\n"
     ]
    },
    {
     "data": {
      "text/plain": [
       "((9753, 8), (16720, 5), (1672000, 2), (100, 59), (16720, 12), (1672000, 71))"
      ]
     },
     "execution_count": 2,
     "metadata": {},
     "output_type": "execute_result"
    }
   ],
   "source": [
    "%%time\n",
    "test_customers = pd.read_csv(\"test_customers.csv\")\n",
    "test_customers = test_customers[test_customers.duplicated('akeed_customer_id', keep='first')==False].reset_index(drop=True)\n",
    "test_customers.rename(columns={'akeed_customer_id': 'customer_id'}, inplace=True)\n",
    "test_locations = pd.read_csv(\"test_locations.csv\")\n",
    "vendors = pd.read_csv(\"vendors.csv\")\n",
    "SampleSubmission = pd.read_csv(\"SampleSubmission.csv\")\n",
    "test_customer_detail = pd.merge(test_locations, test_customers, on='customer_id',how='left')\n",
    "test_customer_detail = test_customer_detail.add_prefix('c_')\n",
    "vendors = vendors.add_prefix('v_')\n",
    "test=test_customer_detail.assign(key=1).merge(vendors.assign(key=1), on='key').drop('key',axis=1)\n",
    "test_customers.shape,test_locations.shape,SampleSubmission.shape,vendors.shape,test_customer_detail.shape,test.shape"
   ]
  },
  {
   "cell_type": "code",
   "execution_count": 3,
   "metadata": {
    "colab": {
     "base_uri": "https://localhost:8080/",
     "height": 50
    },
    "colab_type": "code",
    "executionInfo": {
     "elapsed": 32940,
     "status": "ok",
     "timestamp": 1589632707372,
     "user": {
      "displayName": "krishna priya",
      "photoUrl": "https://lh3.googleusercontent.com/a-/AOh14GgWBAV-1HvbztQSHgm8HTqqGtrYwH3abQ0V59zh=s64",
      "userId": "17318029652689759205"
     },
     "user_tz": -330
    },
    "id": "w4t3gqu2P9Q7",
    "outputId": "8a0b30d0-f345-4aa8-fabc-358efda02655"
   },
   "outputs": [
    {
     "name": "stdout",
     "output_type": "stream",
     "text": [
      "Wall time: 1min 1s\n"
     ]
    },
    {
     "data": {
      "text/plain": [
       "((34523, 8), (59503, 5), (59503, 12), (5950300, 71))"
      ]
     },
     "execution_count": 3,
     "metadata": {},
     "output_type": "execute_result"
    }
   ],
   "source": [
    "%%time\n",
    "train_customers = pd.read_csv(\"train_customers.csv\")\n",
    "train_customers = train_customers[train_customers.duplicated('akeed_customer_id', keep='first')==False].reset_index(drop=True)\n",
    "train_customers.rename(columns={'akeed_customer_id': 'customer_id'}, inplace=True)\n",
    "train_locations = pd.read_csv(\"train_locations.csv\")\n",
    "train_customer_detail = pd.merge(train_locations, train_customers, on='customer_id',how='left')\n",
    "train_customer_detail = train_customer_detail.add_prefix('c_')\n",
    "train=train_customer_detail.assign(key=1).merge(vendors.assign(key=1), on='key').drop('key',axis=1)\n",
    "train_customers.shape,train_locations.shape,train_customer_detail.shape,train.shape"
   ]
  },
  {
   "cell_type": "code",
   "execution_count": 4,
   "metadata": {
    "colab": {
     "base_uri": "https://localhost:8080/",
     "height": 50
    },
    "colab_type": "code",
    "executionInfo": {
     "elapsed": 15192,
     "status": "ok",
     "timestamp": 1589632722579,
     "user": {
      "displayName": "krishna priya",
      "photoUrl": "https://lh3.googleusercontent.com/a-/AOh14GgWBAV-1HvbztQSHgm8HTqqGtrYwH3abQ0V59zh=s64",
      "userId": "17318029652689759205"
     },
     "user_tz": -330
    },
    "id": "rNwlrvvWP9RA",
    "outputId": "8eeee2c5-8e8d-4fdd-f239-6f2758dd17b3"
   },
   "outputs": [
    {
     "name": "stdout",
     "output_type": "stream",
     "text": [
      "Wall time: 14.9 s\n"
     ]
    }
   ],
   "source": [
    "%%time\n",
    "test[\"CID X LOC_NUM X VENDOR\"] = test[\"c_customer_id\"].astype(str)+' X '+test[\"c_location_number\"].astype(str)+' X '+test[\"v_id\"].astype(str)\n",
    "train[\"CID X LOC_NUM X VENDOR\"] = train[\"c_customer_id\"].astype(str)+' X '+train[\"c_location_number\"].astype(str)+' X '+train[\"v_id\"].astype(str)"
   ]
  },
  {
   "cell_type": "code",
   "execution_count": 5,
   "metadata": {
    "colab": {
     "base_uri": "https://localhost:8080/",
     "height": 50
    },
    "colab_type": "code",
    "executionInfo": {
     "elapsed": 10097,
     "status": "ok",
     "timestamp": 1589632733203,
     "user": {
      "displayName": "krishna priya",
      "photoUrl": "https://lh3.googleusercontent.com/a-/AOh14GgWBAV-1HvbztQSHgm8HTqqGtrYwH3abQ0V59zh=s64",
      "userId": "17318029652689759205"
     },
     "user_tz": -330
    },
    "id": "MkyWQgK-P9RH",
    "outputId": "e1418578-3c4e-4ebb-c88e-5747498c4420"
   },
   "outputs": [
    {
     "name": "stdout",
     "output_type": "stream",
     "text": [
      "Wall time: 15.4 s\n"
     ]
    }
   ],
   "source": [
    "%%time\n",
    "orders = pd.read_csv(\"orders.csv\")\n",
    "train['target'] = 0\n",
    "mask = (train[\"CID X LOC_NUM X VENDOR\"].isin(list(set(train['CID X LOC_NUM X VENDOR']).intersection(set(orders['CID X LOC_NUM X VENDOR'])))))\n",
    "train['target'][mask] = 1"
   ]
  },
  {
   "cell_type": "markdown",
   "metadata": {
    "colab_type": "text",
    "id": "OhFU1RcjP9RV"
   },
   "source": [
    "# Pre-Processing"
   ]
  },
  {
   "cell_type": "code",
   "execution_count": 6,
   "metadata": {
    "colab": {
     "base_uri": "https://localhost:8080/",
     "height": 34
    },
    "colab_type": "code",
    "executionInfo": {
     "elapsed": 1203,
     "status": "ok",
     "timestamp": 1589632739577,
     "user": {
      "displayName": "krishna priya",
      "photoUrl": "https://lh3.googleusercontent.com/a-/AOh14GgWBAV-1HvbztQSHgm8HTqqGtrYwH3abQ0V59zh=s64",
      "userId": "17318029652689759205"
     },
     "user_tz": -330
    },
    "id": "d0WhOZ3NTCcP",
    "outputId": "90dcbf90-4c25-40dc-c92b-32c35b3876be"
   },
   "outputs": [
    {
     "data": {
      "text/plain": [
       "20"
      ]
     },
     "execution_count": 6,
     "metadata": {},
     "output_type": "execute_result"
    }
   ],
   "source": [
    "del test_customers\n",
    "del test_locations\n",
    "del vendors\n",
    "del test_customer_detail\n",
    "del train_customers\n",
    "del train_locations\n",
    "del train_customer_detail\n",
    "del orders\n",
    "del mask\n",
    "gc.collect()"
   ]
  },
  {
   "cell_type": "code",
   "execution_count": 7,
   "metadata": {
    "colab": {},
    "colab_type": "code",
    "id": "Odn_n1uOaU0T"
   },
   "outputs": [],
   "source": [
    "test_id=test['CID X LOC_NUM X VENDOR']\n",
    "train.drop(['v_is_akeed_delivering', 'v_open_close_flags','v_one_click_vendor', 'v_country_id','v_city_id', 'v_display_orders',\n",
    "            'c_customer_id','CID X LOC_NUM X VENDOR','v_authentication_id','c_language','v_language','v_vendor_tag'], axis = 1,inplace=True)\n",
    "test.drop(['v_is_akeed_delivering', 'v_open_close_flags','v_one_click_vendor', 'v_country_id','v_city_id', 'v_display_orders',\n",
    "           'c_customer_id','CID X LOC_NUM X VENDOR','v_authentication_id','c_language','v_language','v_vendor_tag'], axis = 1,inplace=True)"
   ]
  },
  {
   "cell_type": "code",
   "execution_count": 8,
   "metadata": {
    "colab": {
     "base_uri": "https://localhost:8080/",
     "height": 34
    },
    "colab_type": "code",
    "executionInfo": {
     "elapsed": 802,
     "status": "ok",
     "timestamp": 1589632749920,
     "user": {
      "displayName": "krishna priya",
      "photoUrl": "https://lh3.googleusercontent.com/a-/AOh14GgWBAV-1HvbztQSHgm8HTqqGtrYwH3abQ0V59zh=s64",
      "userId": "17318029652689759205"
     },
     "user_tz": -330
    },
    "id": "4EiIc_pkP9RW",
    "outputId": "20a3cd7e-4949-4293-ad8e-1b7401b7d9bd"
   },
   "outputs": [
    {
     "data": {
      "text/plain": [
       "((5950300, 61), (1672000, 60), (1672000, 2))"
      ]
     },
     "execution_count": 8,
     "metadata": {},
     "output_type": "execute_result"
    }
   ],
   "source": [
    "train.shape,test.shape,SampleSubmission.shape"
   ]
  },
  {
   "cell_type": "code",
   "execution_count": 9,
   "metadata": {
    "colab": {
     "base_uri": "https://localhost:8080/",
     "height": 114
    },
    "colab_type": "code",
    "executionInfo": {
     "elapsed": 784,
     "status": "ok",
     "timestamp": 1589632751518,
     "user": {
      "displayName": "krishna priya",
      "photoUrl": "https://lh3.googleusercontent.com/a-/AOh14GgWBAV-1HvbztQSHgm8HTqqGtrYwH3abQ0V59zh=s64",
      "userId": "17318029652689759205"
     },
     "user_tz": -330
    },
    "id": "fpEMyh7pP9RZ",
    "outputId": "3ab501e2-b9f7-4993-89c7-ab63464aeba4"
   },
   "outputs": [
    {
     "data": {
      "text/html": [
       "<div>\n",
       "<style scoped>\n",
       "    .dataframe tbody tr th:only-of-type {\n",
       "        vertical-align: middle;\n",
       "    }\n",
       "\n",
       "    .dataframe tbody tr th {\n",
       "        vertical-align: top;\n",
       "    }\n",
       "\n",
       "    .dataframe thead th {\n",
       "        text-align: right;\n",
       "    }\n",
       "</style>\n",
       "<table border=\"1\" class=\"dataframe\">\n",
       "  <thead>\n",
       "    <tr style=\"text-align: right;\">\n",
       "      <th></th>\n",
       "      <th>c_location_number</th>\n",
       "      <th>c_location_type</th>\n",
       "      <th>c_latitude</th>\n",
       "      <th>c_longitude</th>\n",
       "      <th>c_gender</th>\n",
       "      <th>c_dob</th>\n",
       "      <th>c_status</th>\n",
       "      <th>c_verified</th>\n",
       "      <th>c_created_at</th>\n",
       "      <th>c_updated_at</th>\n",
       "      <th>...</th>\n",
       "      <th>v_saturday_from_time1</th>\n",
       "      <th>v_saturday_to_time1</th>\n",
       "      <th>v_saturday_from_time2</th>\n",
       "      <th>v_saturday_to_time2</th>\n",
       "      <th>v_primary_tags</th>\n",
       "      <th>v_vendor_tag_name</th>\n",
       "      <th>v_created_at</th>\n",
       "      <th>v_updated_at</th>\n",
       "      <th>v_device_type</th>\n",
       "      <th>target</th>\n",
       "    </tr>\n",
       "  </thead>\n",
       "  <tbody>\n",
       "    <tr>\n",
       "      <th>0</th>\n",
       "      <td>0</td>\n",
       "      <td>NaN</td>\n",
       "      <td>1.682392</td>\n",
       "      <td>-78.789737</td>\n",
       "      <td>NaN</td>\n",
       "      <td>NaN</td>\n",
       "      <td>1.0</td>\n",
       "      <td>1.0</td>\n",
       "      <td>2019-06-17 00:33:23</td>\n",
       "      <td>2019-10-01 18:46:33</td>\n",
       "      <td>...</td>\n",
       "      <td>00:00:00</td>\n",
       "      <td>00:30:00</td>\n",
       "      <td>10:00:00</td>\n",
       "      <td>23:59:00</td>\n",
       "      <td>{\"primary_tags\":\"4\"}</td>\n",
       "      <td>Arabic,Breakfast,Burgers,Desserts,Free Deliver...</td>\n",
       "      <td>2018-01-30 14:42:04</td>\n",
       "      <td>2020-04-07 15:12:43</td>\n",
       "      <td>3</td>\n",
       "      <td>0</td>\n",
       "    </tr>\n",
       "  </tbody>\n",
       "</table>\n",
       "<p>1 rows × 61 columns</p>\n",
       "</div>"
      ],
      "text/plain": [
       "   c_location_number c_location_type  c_latitude  c_longitude c_gender  c_dob  \\\n",
       "0                  0             NaN    1.682392   -78.789737      NaN    NaN   \n",
       "\n",
       "   c_status  c_verified         c_created_at         c_updated_at  ...  \\\n",
       "0       1.0         1.0  2019-06-17 00:33:23  2019-10-01 18:46:33  ...   \n",
       "\n",
       "   v_saturday_from_time1  v_saturday_to_time1  v_saturday_from_time2  \\\n",
       "0               00:00:00             00:30:00               10:00:00   \n",
       "\n",
       "  v_saturday_to_time2        v_primary_tags  \\\n",
       "0            23:59:00  {\"primary_tags\":\"4\"}   \n",
       "\n",
       "                                   v_vendor_tag_name         v_created_at  \\\n",
       "0  Arabic,Breakfast,Burgers,Desserts,Free Deliver...  2018-01-30 14:42:04   \n",
       "\n",
       "          v_updated_at v_device_type target  \n",
       "0  2020-04-07 15:12:43             3      0  \n",
       "\n",
       "[1 rows x 61 columns]"
      ]
     },
     "execution_count": 9,
     "metadata": {},
     "output_type": "execute_result"
    }
   ],
   "source": [
    "train.head(1)"
   ]
  },
  {
   "cell_type": "code",
   "execution_count": 10,
   "metadata": {
    "colab": {
     "base_uri": "https://localhost:8080/",
     "height": 67
    },
    "colab_type": "code",
    "executionInfo": {
     "elapsed": 936,
     "status": "ok",
     "timestamp": 1589632752736,
     "user": {
      "displayName": "krishna priya",
      "photoUrl": "https://lh3.googleusercontent.com/a-/AOh14GgWBAV-1HvbztQSHgm8HTqqGtrYwH3abQ0V59zh=s64",
      "userId": "17318029652689759205"
     },
     "user_tz": -330
    },
    "id": "0FgmqfThP9Rc",
    "outputId": "004ac637-6f39-4ddd-cc25-4393b72aa16a"
   },
   "outputs": [
    {
     "data": {
      "text/plain": [
       "0    5870158\n",
       "1      80142\n",
       "Name: target, dtype: int64"
      ]
     },
     "execution_count": 10,
     "metadata": {},
     "output_type": "execute_result"
    }
   ],
   "source": [
    "train.target.value_counts()"
   ]
  },
  {
   "cell_type": "code",
   "execution_count": 11,
   "metadata": {},
   "outputs": [
    {
     "data": {
      "text/plain": [
       "73.24696164308352"
      ]
     },
     "execution_count": 11,
     "metadata": {},
     "output_type": "execute_result"
    }
   ],
   "source": [
    "5870158/80142"
   ]
  },
  {
   "cell_type": "code",
   "execution_count": 12,
   "metadata": {},
   "outputs": [
    {
     "data": {
      "text/plain": [
       "0.013468564610187722"
      ]
     },
     "execution_count": 12,
     "metadata": {},
     "output_type": "execute_result"
    }
   ],
   "source": [
    "80142/(80142+5870158)"
   ]
  },
  {
   "cell_type": "markdown",
   "metadata": {
    "colab_type": "text",
    "id": "MpAq_RBBwPKO"
   },
   "source": [
    "# Dealing with Object Columns"
   ]
  },
  {
   "cell_type": "code",
   "execution_count": 13,
   "metadata": {
    "colab": {},
    "colab_type": "code",
    "id": "42GLRIJ52j8C"
   },
   "outputs": [],
   "source": [
    "le = LabelEncoder()"
   ]
  },
  {
   "cell_type": "code",
   "execution_count": 14,
   "metadata": {
    "colab": {},
    "colab_type": "code",
    "id": "_KEXJwm-v6lS"
   },
   "outputs": [],
   "source": [
    "train.c_location_type[pd.isnull(train.c_location_type)]  = 'NaN'\n",
    "test.c_location_type[pd.isnull(test.c_location_type)]  = 'NaN'\n",
    "train['c_location_type']= le.fit_transform(train['c_location_type'])\n",
    "test['c_location_type']= le.transform(test['c_location_type'])"
   ]
  },
  {
   "cell_type": "code",
   "execution_count": 15,
   "metadata": {
    "colab": {},
    "colab_type": "code",
    "id": "_Rlym79by0FO"
   },
   "outputs": [],
   "source": [
    "train.c_gender=train.c_gender.str.strip()\n",
    "test.c_gender=test.c_gender.str.strip()\n",
    "train.c_gender[pd.isnull(train.c_gender)]  = 'NaN'\n",
    "test.c_gender[pd.isnull(test.c_gender)]  = 'NaN'\n",
    "train.replace({'c_gender': {'male': 'Male', '': 'NaN','?????':'NaN'}},inplace=True)\n",
    "test.replace({'c_gender': {'male': 'Male', '': 'NaN','?????':'NaN'}},inplace=True)\n",
    "train['c_gender']= le.fit_transform(train['c_gender'])\n",
    "test['c_gender']= le.transform(test['c_gender'])"
   ]
  },
  {
   "cell_type": "code",
   "execution_count": 16,
   "metadata": {
    "colab": {},
    "colab_type": "code",
    "id": "z56Pr9oZ765-"
   },
   "outputs": [],
   "source": [
    "train.v_vendor_category_en[pd.isnull(train.v_vendor_category_en)]  = 'NaN'\n",
    "test.v_vendor_category_en[pd.isnull(test.v_vendor_category_en)]  = 'NaN'\n",
    "train['v_vendor_category_en']= le.fit_transform(train['v_vendor_category_en'])\n",
    "test['v_vendor_category_en']= le.transform(test['v_vendor_category_en'])\n",
    "# v_vendor_category_id same thing but different value counts"
   ]
  },
  {
   "cell_type": "code",
   "execution_count": 17,
   "metadata": {
    "colab": {},
    "colab_type": "code",
    "id": "vXvgNxoU9HWL"
   },
   "outputs": [],
   "source": [
    "train.v_OpeningTime[pd.isnull(train.v_OpeningTime)]  = 'NaN'\n",
    "test.v_OpeningTime[pd.isnull(test.v_OpeningTime)]  = 'NaN'\n",
    "train['v_OpeningTime']= le.fit_transform(train['v_OpeningTime'])\n",
    "test['v_OpeningTime']= le.transform(test['v_OpeningTime'])\n",
    "# more feat can be extracted"
   ]
  },
  {
   "cell_type": "code",
   "execution_count": 18,
   "metadata": {
    "colab": {},
    "colab_type": "code",
    "id": "IdKmnWvE-GK1"
   },
   "outputs": [],
   "source": [
    "train.v_OpeningTime2[pd.isnull(train.v_OpeningTime2)]  = 'NaN'\n",
    "test.v_OpeningTime2[pd.isnull(test.v_OpeningTime2)]  = 'NaN'\n",
    "train.replace({'v_OpeningTime2': {'-': 'NaN'}},inplace=True)\n",
    "test.replace({'v_OpeningTime2': {'-': 'NaN'}},inplace=True)\n",
    "train['v_OpeningTime2']= le.fit_transform(train['v_OpeningTime2'])\n",
    "test['v_OpeningTime2']= le.transform(test['v_OpeningTime2'])\n",
    "# more feat can be extracted"
   ]
  },
  {
   "cell_type": "code",
   "execution_count": 19,
   "metadata": {
    "colab": {
     "base_uri": "https://localhost:8080/",
     "height": 50
    },
    "colab_type": "code",
    "executionInfo": {
     "elapsed": 118046,
     "status": "ok",
     "timestamp": 1589632901141,
     "user": {
      "displayName": "krishna priya",
      "photoUrl": "https://lh3.googleusercontent.com/a-/AOh14GgWBAV-1HvbztQSHgm8HTqqGtrYwH3abQ0V59zh=s64",
      "userId": "17318029652689759205"
     },
     "user_tz": -330
    },
    "id": "2ivGEop1BFk8",
    "outputId": "c4b8ff68-6767-44a8-c7f0-6a600962f04a"
   },
   "outputs": [
    {
     "name": "stdout",
     "output_type": "stream",
     "text": [
      "Wall time: 1min 40s\n"
     ]
    }
   ],
   "source": [
    "%%time\n",
    "for col in ['v_sunday_from_time1', 'v_sunday_to_time1', 'v_sunday_from_time2',\n",
    "       'v_sunday_to_time2', 'v_monday_from_time1', 'v_monday_to_time1',\n",
    "       'v_monday_from_time2', 'v_monday_to_time2', 'v_tuesday_from_time1',\n",
    "       'v_tuesday_to_time1', 'v_tuesday_from_time2', 'v_tuesday_to_time2',\n",
    "       'v_wednesday_from_time1', 'v_wednesday_to_time1',\n",
    "       'v_wednesday_from_time2', 'v_wednesday_to_time2',\n",
    "       'v_thursday_from_time1', 'v_thursday_to_time1', 'v_thursday_from_time2',\n",
    "       'v_thursday_to_time2', 'v_friday_from_time1', 'v_friday_to_time1',\n",
    "       'v_friday_from_time2', 'v_friday_to_time2', 'v_saturday_from_time1',\n",
    "       'v_saturday_to_time1', 'v_saturday_from_time2', 'v_saturday_to_time2']:\n",
    "    train[col][pd.isnull(train[col])]  = 'NaN'\n",
    "    test[col][pd.isnull(test[col])]  = 'NaN'\n",
    "    train[col]= le.fit_transform(train[col])\n",
    "    test[col]= le.transform(test[col])\n",
    "\n",
    "# more feat can be extracted"
   ]
  },
  {
   "cell_type": "code",
   "execution_count": 20,
   "metadata": {
    "colab": {},
    "colab_type": "code",
    "id": "v5N9IA1eBxXj"
   },
   "outputs": [],
   "source": [
    "train.v_primary_tags[pd.isnull(train.v_primary_tags)]  = 'NaN'\n",
    "test.v_primary_tags[pd.isnull(test.v_primary_tags)]  = 'NaN'\n",
    "train['v_primary_tags']= le.fit_transform(train['v_primary_tags'])\n",
    "test['v_primary_tags']= le.transform(test['v_primary_tags'])"
   ]
  },
  {
   "cell_type": "code",
   "execution_count": 21,
   "metadata": {
    "colab": {},
    "colab_type": "code",
    "id": "iy7GOB3gHGzD"
   },
   "outputs": [],
   "source": [
    "train.v_vendor_tag_name[pd.isnull(train.v_vendor_tag_name)]  = 'NaN'\n",
    "test.v_vendor_tag_name[pd.isnull(test.v_vendor_tag_name)]  = 'NaN'\n",
    "train['v_vendor_tag_name']= le.fit_transform(train['v_vendor_tag_name'])\n",
    "test['v_vendor_tag_name']= le.transform(test['v_vendor_tag_name'])\n",
    "\n",
    "# more feat can be extracted"
   ]
  },
  {
   "cell_type": "code",
   "execution_count": 22,
   "metadata": {
    "colab": {},
    "colab_type": "code",
    "id": "oIfnNfWkQwj0"
   },
   "outputs": [],
   "source": [
    "train['c_created_at'] = pd.to_datetime(train['c_created_at'], yearfirst=True)\n",
    "test['c_created_at'] = pd.to_datetime(test['c_created_at'], yearfirst=True)\n",
    "train['c_updated_at'] = pd.to_datetime(train['c_updated_at'], yearfirst=True)\n",
    "test['c_updated_at'] = pd.to_datetime(test['c_updated_at'], yearfirst=True)\n",
    "train['v_created_at'] = pd.to_datetime(train['v_created_at'], yearfirst=True)\n",
    "test['v_created_at'] = pd.to_datetime(test['v_created_at'], yearfirst=True)\n",
    "train['v_updated_at'] = pd.to_datetime(train['v_updated_at'], yearfirst=True)\n",
    "test['v_updated_at'] = pd.to_datetime(test['v_updated_at'], yearfirst=True)"
   ]
  },
  {
   "cell_type": "code",
   "execution_count": 23,
   "metadata": {
    "colab": {
     "base_uri": "https://localhost:8080/",
     "height": 50
    },
    "colab_type": "code",
    "executionInfo": {
     "elapsed": 264232,
     "status": "ok",
     "timestamp": 1589633413399,
     "user": {
      "displayName": "krishna priya",
      "photoUrl": "https://lh3.googleusercontent.com/a-/AOh14GgWBAV-1HvbztQSHgm8HTqqGtrYwH3abQ0V59zh=s64",
      "userId": "17318029652689759205"
     },
     "user_tz": -330
    },
    "id": "OEMa5-KxQwpw",
    "outputId": "f517f08b-4b62-4610-c60b-8a8d5147985f"
   },
   "outputs": [
    {
     "name": "stdout",
     "output_type": "stream",
     "text": [
      "Wall time: 4min 20s\n"
     ]
    }
   ],
   "source": [
    "%%time\n",
    "\n",
    "def timediff(duration):\n",
    "    duration_in_s = duration.total_seconds()\n",
    "    days = divmod(duration_in_s, 86400)[0]\n",
    "    return days\n",
    "\n",
    "train['c_diff_update_create']=train['c_updated_at']-train['c_created_at']\n",
    "train['v_diff_update_create']=train['v_updated_at']-train['v_created_at']\n",
    "train['c_v_diff_create']=train['v_created_at']-train['c_created_at']\n",
    "train['c_v_diff_update']=train['v_updated_at']-train['c_updated_at']\n",
    "\n",
    "train['c_diff_update_create']=train['c_diff_update_create'].apply(timediff)\n",
    "train['v_diff_update_create']=train['v_diff_update_create'].apply(timediff)\n",
    "train['c_v_diff_create']=train['c_v_diff_create'].apply(timediff)\n",
    "train['c_v_diff_update']=train['c_v_diff_update'].apply(timediff)"
   ]
  },
  {
   "cell_type": "code",
   "execution_count": 24,
   "metadata": {},
   "outputs": [
    {
     "name": "stdout",
     "output_type": "stream",
     "text": [
      "Wall time: 1min 12s\n"
     ]
    }
   ],
   "source": [
    "%%time\n",
    "test['c_diff_update_create']=test['c_updated_at']-test['c_created_at']\n",
    "test['v_diff_update_create']=test['v_updated_at']-test['v_created_at']\n",
    "test['c_v_diff_create']=test['v_created_at']-test['c_created_at']\n",
    "test['c_v_diff_update']=test['v_updated_at']-test['c_updated_at']\n",
    "\n",
    "test['c_diff_update_create']=test['c_diff_update_create'].apply(timediff)\n",
    "test['v_diff_update_create']=test['v_diff_update_create'].apply(timediff)\n",
    "test['c_v_diff_create']=test['c_v_diff_create'].apply(timediff)\n",
    "test['c_v_diff_update']=test['c_v_diff_update'].apply(timediff)"
   ]
  },
  {
   "cell_type": "code",
   "execution_count": 25,
   "metadata": {
    "colab": {},
    "colab_type": "code",
    "id": "CNaZvF42QxXY"
   },
   "outputs": [],
   "source": [
    "train['year_c_created_at'] = train['c_created_at'].dt.year\n",
    "train['month_c_created_at'] = train['c_created_at'].dt.month\n",
    "train['doy_c_created_at'] = train['c_created_at'].dt.dayofyear\n",
    "\n",
    "train['year_c_updated_at'] = train['c_updated_at'].dt.year\n",
    "train['month_c_updated_at'] = train['c_updated_at'].dt.month\n",
    "train['doy_c_updated_at'] = train['c_updated_at'].dt.dayofyear\n",
    "\n",
    "train['year_v_created_at'] = train['v_created_at'].dt.year\n",
    "train['month_v_created_at'] = train['v_created_at'].dt.month\n",
    "train['doy_v_created_at'] = train['v_created_at'].dt.dayofyear\n",
    "\n",
    "train['year_v_updated_at'] = train['v_updated_at'].dt.year\n",
    "train['month_v_updated_at'] = train['v_updated_at'].dt.month\n",
    "train['doy_v_updated_at'] = train['v_updated_at'].dt.dayofyear\n",
    "\n",
    "test['year_c_created_at'] = test['c_created_at'].dt.year\n",
    "test['month_c_created_at'] = test['c_created_at'].dt.month\n",
    "test['doy_c_created_at'] = test['c_created_at'].dt.dayofyear\n",
    "\n",
    "test['year_c_updated_at'] = test['c_updated_at'].dt.year\n",
    "test['month_c_updated_at'] = test['c_updated_at'].dt.month\n",
    "test['doy_c_updated_at'] = test['c_updated_at'].dt.dayofyear\n",
    "\n",
    "test['year_v_created_at'] = test['v_created_at'].dt.year\n",
    "test['month_v_created_at'] = test['v_created_at'].dt.month\n",
    "test['doy_v_created_at'] = test['v_created_at'].dt.dayofyear\n",
    "\n",
    "test['year_v_updated_at'] = test['v_updated_at'].dt.year\n",
    "test['month_v_updated_at'] = test['v_updated_at'].dt.month\n",
    "test['doy_v_updated_at'] = test['v_updated_at'].dt.dayofyear"
   ]
  },
  {
   "cell_type": "code",
   "execution_count": 26,
   "metadata": {
    "colab": {},
    "colab_type": "code",
    "id": "fiED4N9iQxVS"
   },
   "outputs": [],
   "source": [
    "# train.drop(['c_created_at','c_updated_at','v_created_at','v_updated_at'], axis = 1,inplace=True)\n",
    "# test.drop(['c_created_at','c_updated_at','v_created_at','v_updated_at'], axis = 1,inplace=True)\n",
    "\n",
    "del train['c_created_at']\n",
    "del train['c_updated_at']\n",
    "del train['v_created_at']\n",
    "del train['v_updated_at']\n",
    "\n",
    "del test['c_created_at']\n",
    "del test['c_updated_at']\n",
    "del test['v_created_at']\n",
    "del test['v_updated_at']"
   ]
  },
  {
   "cell_type": "code",
   "execution_count": 27,
   "metadata": {},
   "outputs": [],
   "source": [
    "def haversine_array(lat1, lng1, lat2, lng2):\n",
    "    lat1, lng1, lat2, lng2 = map(np.radians, (lat1, lng1, lat2, lng2))\n",
    "    AVG_EARTH_RADIUS = 6371  # in km\n",
    "    lat = lat2 - lat1\n",
    "    lng = lng2 - lng1\n",
    "    d = np.sin(lat * 0.5) ** 2 + np.cos(lat1) * np.cos(lat2) * np.sin(lng * 0.5) ** 2\n",
    "    h = 2 * AVG_EARTH_RADIUS * np.arcsin(np.sqrt(d))\n",
    "    return h\n",
    "\n",
    "def dummy_manhattan_distance(lat1, lng1, lat2, lng2):\n",
    "    a = haversine_array(lat1, lng1, lat1, lng2)\n",
    "    b = haversine_array(lat1, lng1, lat2, lng1)\n",
    "    return a + b\n",
    "\n",
    "def bearing_array(lat1, lng1, lat2, lng2):\n",
    "    AVG_EARTH_RADIUS = 6371  # in km\n",
    "    lng_delta_rad = np.radians(lng2 - lng1)\n",
    "    lat1, lng1, lat2, lng2 = map(np.radians, (lat1, lng1, lat2, lng2))\n",
    "    y = np.sin(lng_delta_rad) * np.cos(lat2)\n",
    "    x = np.cos(lat1) * np.sin(lat2) - np.sin(lat1) * np.cos(lat2) * np.cos(lng_delta_rad)\n",
    "    return np.degrees(np.arctan2(y, x))"
   ]
  },
  {
   "cell_type": "code",
   "execution_count": 28,
   "metadata": {},
   "outputs": [],
   "source": [
    "train['center_latitude'] = (train['c_latitude'].values + train['v_latitude'].values) / 2\n",
    "train['center_longitude'] = (train['c_longitude'].values + train['v_longitude'].values) / 2\n",
    "train['harvesine_dist']=haversine_array(train['c_latitude'], train['c_longitude'], train['v_latitude'], train['v_longitude'])\n",
    "train['manhattan_dist']=dummy_manhattan_distance(train['c_latitude'], train['c_longitude'], train['v_latitude'], train['v_longitude'])\n",
    "train['bearing']=bearing_array(train['c_latitude'], train['c_longitude'], train['v_latitude'], train['v_longitude'])"
   ]
  },
  {
   "cell_type": "code",
   "execution_count": 29,
   "metadata": {},
   "outputs": [],
   "source": [
    "test['center_latitude'] = (test['c_latitude'].values + test['v_latitude'].values) / 2\n",
    "test['center_longitude'] = (test['c_longitude'].values + test['v_longitude'].values) / 2\n",
    "test['harvesine_dist']=haversine_array(test['c_latitude'], test['c_longitude'], test['v_latitude'], test['v_longitude'])\n",
    "test['manhattan_dist']=dummy_manhattan_distance(test['c_latitude'], test['c_longitude'], test['v_latitude'], test['v_longitude'])\n",
    "test['bearing']=bearing_array(test['c_latitude'], test['c_longitude'], test['v_latitude'], test['v_longitude'])"
   ]
  },
  {
   "cell_type": "code",
   "execution_count": 30,
   "metadata": {
    "colab": {},
    "colab_type": "code",
    "id": "Ec-Kcg_Bi9pu"
   },
   "outputs": [],
   "source": [
    "y=train['target']\n",
    "del train['target']"
   ]
  },
  {
   "cell_type": "code",
   "execution_count": 31,
   "metadata": {
    "colab": {
     "base_uri": "https://localhost:8080/",
     "height": 34
    },
    "colab_type": "code",
    "executionInfo": {
     "elapsed": 1205,
     "status": "ok",
     "timestamp": 1589633679526,
     "user": {
      "displayName": "krishna priya",
      "photoUrl": "https://lh3.googleusercontent.com/a-/AOh14GgWBAV-1HvbztQSHgm8HTqqGtrYwH3abQ0V59zh=s64",
      "userId": "17318029652689759205"
     },
     "user_tz": -330
    },
    "id": "1MScg23_R9Xh",
    "outputId": "01bb0576-5757-4856-bc9d-915a05203a52"
   },
   "outputs": [
    {
     "data": {
      "text/plain": [
       "((5950300, 77), (1672000, 77), (5950300,))"
      ]
     },
     "execution_count": 31,
     "metadata": {},
     "output_type": "execute_result"
    }
   ],
   "source": [
    "train.shape,test.shape,y.shape"
   ]
  },
  {
   "cell_type": "markdown",
   "metadata": {},
   "source": [
    "# Model Training on Validation Data"
   ]
  },
  {
   "cell_type": "code",
   "execution_count": 32,
   "metadata": {
    "colab": {
     "base_uri": "https://localhost:8080/",
     "height": 162
    },
    "colab_type": "code",
    "executionInfo": {
     "elapsed": 1203,
     "status": "error",
     "timestamp": 1589633765800,
     "user": {
      "displayName": "krishna priya",
      "photoUrl": "https://lh3.googleusercontent.com/a-/AOh14GgWBAV-1HvbztQSHgm8HTqqGtrYwH3abQ0V59zh=s64",
      "userId": "17318029652689759205"
     },
     "user_tz": -330
    },
    "id": "y_WA6TSgR9U0",
    "outputId": "c6cb6b01-9496-4e32-f9b2-9cc91beec20e"
   },
   "outputs": [],
   "source": [
    "X_train, X_test, y_train, y_test = train_test_split(train, y, test_size=0.20, random_state=18121995, stratify=y)"
   ]
  },
  {
   "cell_type": "code",
   "execution_count": 33,
   "metadata": {
    "colab": {},
    "colab_type": "code",
    "id": "8EdNzYTpjZsg"
   },
   "outputs": [
    {
     "name": "stdout",
     "output_type": "stream",
     "text": [
      "Training until validation scores don't improve for 50 rounds\n",
      "[100]\ttraining's auc: 0.907736\tvalid_1's auc: 0.904991\n",
      "[200]\ttraining's auc: 0.915675\tvalid_1's auc: 0.909949\n",
      "[300]\ttraining's auc: 0.921146\tvalid_1's auc: 0.912406\n",
      "[400]\ttraining's auc: 0.9243\tvalid_1's auc: 0.913356\n",
      "[500]\ttraining's auc: 0.927918\tvalid_1's auc: 0.914229\n",
      "[600]\ttraining's auc: 0.931122\tvalid_1's auc: 0.914746\n",
      "[700]\ttraining's auc: 0.933949\tvalid_1's auc: 0.915166\n",
      "[800]\ttraining's auc: 0.936643\tvalid_1's auc: 0.915435\n",
      "[900]\ttraining's auc: 0.938972\tvalid_1's auc: 0.915657\n",
      "[1000]\ttraining's auc: 0.94134\tvalid_1's auc: 0.915885\n",
      "[1100]\ttraining's auc: 0.943521\tvalid_1's auc: 0.91608\n",
      "[1200]\ttraining's auc: 0.94554\tvalid_1's auc: 0.916238\n",
      "[1300]\ttraining's auc: 0.947454\tvalid_1's auc: 0.916384\n",
      "Early stopping, best iteration is:\n",
      "[1338]\ttraining's auc: 0.948109\tvalid_1's auc: 0.916445\n",
      "F1 Score:  0.24012905614471214\n",
      "Wall time: 45min 10s\n"
     ]
    }
   ],
   "source": [
    "%%time\n",
    "# F1 Score:  0.2401\n",
    "m = LGBMClassifier(n_estimators=3000,objective= \"binary\",metric= \"auc\",learning_rate=0.1,random_state=18121995,\n",
    "                    scale_pos_weight=7.3,bagging_fraction=0.8,bagging_freq=1,feature_fraction=0.8, n_jobs=-1)\n",
    "m.fit(X_train,y_train,eval_set=[(X_train,y_train),(X_test, y_test)],early_stopping_rounds=50,verbose=100)\n",
    "pred=m.predict(X_test)\n",
    "print('F1 Score: ',f1_score(y_test, pred))"
   ]
  },
  {
   "cell_type": "code",
   "execution_count": 34,
   "metadata": {},
   "outputs": [
    {
     "name": "stdout",
     "output_type": "stream",
     "text": [
      "              precision    recall  f1-score   support\n",
      "\n",
      "           0       0.99      0.99      0.99   1174032\n",
      "           1       0.21      0.28      0.24     16028\n",
      "\n",
      "    accuracy                           0.98   1190060\n",
      "   macro avg       0.60      0.63      0.61   1190060\n",
      "weighted avg       0.98      0.98      0.98   1190060\n",
      "\n"
     ]
    }
   ],
   "source": [
    "print(classification_report(y_test, pred))"
   ]
  },
  {
   "cell_type": "markdown",
   "metadata": {},
   "source": [
    "# Model 1 Training on Complete Data "
   ]
  },
  {
   "cell_type": "code",
   "execution_count": 35,
   "metadata": {},
   "outputs": [
    {
     "name": "stdout",
     "output_type": "stream",
     "text": [
      "Wall time: 23min 50s\n"
     ]
    }
   ],
   "source": [
    "%%time\n",
    "m = LGBMClassifier(n_estimators=1338,objective= \"binary\",metric= \"auc\",learning_rate=0.1,random_state=18121995,\n",
    "                    scale_pos_weight=7.3,bagging_fraction=0.8,bagging_freq=1,feature_fraction=0.8, n_jobs=-1)\n",
    "m.fit(train, y)\n",
    "full_pred=m.predict(test)"
   ]
  },
  {
   "cell_type": "code",
   "execution_count": 36,
   "metadata": {},
   "outputs": [
    {
     "data": {
      "text/plain": [
       "0    1640977\n",
       "1      31023\n",
       "Name: target, dtype: int64"
      ]
     },
     "execution_count": 36,
     "metadata": {},
     "output_type": "execute_result"
    }
   ],
   "source": [
    "final=pd.DataFrame()\n",
    "final['CID X LOC_NUM X VENDOR']=test_id\n",
    "final['target']=full_pred\n",
    "final.target.value_counts()"
   ]
  },
  {
   "cell_type": "code",
   "execution_count": 44,
   "metadata": {},
   "outputs": [
    {
     "data": {
      "text/plain": [
       "0.018554425837320573"
      ]
     },
     "execution_count": 44,
     "metadata": {},
     "output_type": "execute_result"
    }
   ],
   "source": [
    "31023/1672000"
   ]
  },
  {
   "cell_type": "code",
   "execution_count": 38,
   "metadata": {},
   "outputs": [],
   "source": [
    "final.to_csv('V6_est_1338_feat77.csv',index=False)"
   ]
  },
  {
   "cell_type": "code",
   "execution_count": 40,
   "metadata": {},
   "outputs": [
    {
     "data": {
      "image/png": "[encoded data removed]",
      "text/plain": [
       "<Figure size 720x720 with 1 Axes>"
      ]
     },
     "metadata": {
      "needs_background": "light"
     },
     "output_type": "display_data"
    }
   ],
   "source": [
    "feature_imp = pd.DataFrame(sorted(zip(m.feature_importances_, train.columns), reverse=True)[:], columns=['Value','Feature'])\n",
    "plt.figure(figsize=(10,10))\n",
    "sns.barplot(x=\"Value\", y=\"Feature\", data=feature_imp.sort_values(by=\"Value\", ascending=False))\n",
    "plt.title('LGBM Features')\n",
    "plt.tight_layout()\n",
    "plt.show()"
   ]
  },
  {
   "cell_type": "markdown",
   "metadata": {},
   "source": [
    "# Model 2 Training on Complete Data "
   ]
  },
  {
   "cell_type": "code",
   "execution_count": 42,
   "metadata": {},
   "outputs": [
    {
     "data": {
      "text/plain": [
       "1605"
      ]
     },
     "execution_count": 42,
     "metadata": {},
     "output_type": "execute_result"
    }
   ],
   "source": [
    "int(1338*1.2)"
   ]
  },
  {
   "cell_type": "code",
   "execution_count": 45,
   "metadata": {},
   "outputs": [
    {
     "name": "stdout",
     "output_type": "stream",
     "text": [
      "Wall time: 27min 38s\n"
     ]
    }
   ],
   "source": [
    "%%time\n",
    "m = LGBMClassifier(n_estimators=1605,objective= \"binary\",metric= \"auc\",learning_rate=0.1,random_state=18121995,\n",
    "                    scale_pos_weight=7.3,bagging_fraction=0.8,bagging_freq=1,feature_fraction=0.8, n_jobs=-1)\n",
    "m.fit(train, y)\n",
    "full_pred=m.predict(test)"
   ]
  },
  {
   "cell_type": "code",
   "execution_count": 46,
   "metadata": {},
   "outputs": [
    {
     "data": {
      "text/plain": [
       "0    1640722\n",
       "1      31278\n",
       "Name: target, dtype: int64"
      ]
     },
     "execution_count": 46,
     "metadata": {},
     "output_type": "execute_result"
    }
   ],
   "source": [
    "final=pd.DataFrame()\n",
    "final['CID X LOC_NUM X VENDOR']=test_id\n",
    "final['target']=full_pred\n",
    "final.target.value_counts()"
   ]
  },
  {
   "cell_type": "code",
   "execution_count": 48,
   "metadata": {},
   "outputs": [
    {
     "data": {
      "text/plain": [
       "0.01870693779904306"
      ]
     },
     "execution_count": 48,
     "metadata": {},
     "output_type": "execute_result"
    }
   ],
   "source": [
    "31278/1672000"
   ]
  },
  {
   "cell_type": "code",
   "execution_count": 49,
   "metadata": {},
   "outputs": [],
   "source": [
    "final.to_csv('V6_est_1605_feat77.csv',index=False)"
   ]
  },
  {
   "cell_type": "markdown",
   "metadata": {},
   "source": [
    "### This is a very basic notebook. There are tons of things which can be tried with this data. \n",
    "### 1) Feature Engineering, I have done a very basic feature engineering.\n",
    "### 2) You cannot directly use smote or adasyn here because data is large, but you can manipulate the original train and then use oversampling along with bagging or boosting. I am focussing on oversampling here beacuse undersampling has generally not helped me in competitions.\n",
    "### 3) The main parameter to tune here was sample_pos_weight, so focus more on that if you use lightgbm and similarly for xgboost and class weight for Random Forest.\n",
    "### 4) This notebook can serve as a good starting kit for the main hackathon.\n",
    "### 5) Finally averaging the results using Stratified KFOLD etc..\n",
    "\n",
    "#### These are just a few of the things, I had tons of ideas with this data. keep exploring more"
   ]
  },
  {
   "cell_type": "code",
   "execution_count": null,
   "metadata": {},
   "outputs": [],
   "source": []
  }
 ],
 "metadata": {
  "colab": {
   "collapsed_sections": [],
   "name": "V1_restaurant_recommendation.ipynb",
   "provenance": []
  },
  "kernelspec": {
   "display_name": "Python 3",
   "language": "python",
   "name": "python3"
  },
  "language_info": {
   "codemirror_mode": {
    "name": "ipython",
    "version": 3
   },
   "file_extension": ".py",
   "mimetype": "text/x-python",
   "name": "python",
   "nbconvert_exporter": "python",
   "pygments_lexer": "ipython3",
   "version": "3.7.7"
  }
 },
 "nbformat": 4,
 "nbformat_minor": 1
}
